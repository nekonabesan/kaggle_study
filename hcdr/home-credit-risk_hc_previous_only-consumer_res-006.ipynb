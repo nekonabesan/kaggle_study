{
 "cells": [
  {
   "cell_type": "code",
   "execution_count": 1,
   "id": "6aee47df",
   "metadata": {},
   "outputs": [],
   "source": [
    "# from google.colab import drive\n",
    "# drive.mount('/content/drive')"
   ]
  },
  {
   "cell_type": "code",
   "execution_count": 2,
   "id": "9d26a674",
   "metadata": {},
   "outputs": [],
   "source": [
    "# %cd /content/drive/MyDrive/"
   ]
  },
  {
   "cell_type": "code",
   "execution_count": 3,
   "id": "1ef7e7d6",
   "metadata": {},
   "outputs": [
    {
     "data": {
      "text/plain": [
       "[name: \"/device:CPU:0\"\n",
       " device_type: \"CPU\"\n",
       " memory_limit: 268435456\n",
       " locality {\n",
       " }\n",
       " incarnation: 6984555572745695455\n",
       " xla_global_id: -1,\n",
       " name: \"/device:GPU:0\"\n",
       " device_type: \"GPU\"\n",
       " memory_limit: 1745276110\n",
       " locality {\n",
       "   bus_id: 1\n",
       "   links {\n",
       "   }\n",
       " }\n",
       " incarnation: 13124044553949125552\n",
       " physical_device_desc: \"device: 0, name: NVIDIA RTX A2000 Laptop GPU, pci bus id: 0000:01:00.0, compute capability: 8.6\"\n",
       " xla_global_id: 416903419]"
      ]
     },
     "execution_count": 3,
     "metadata": {},
     "output_type": "execute_result"
    }
   ],
   "source": [
    "from tensorflow.python.client import device_lib\n",
    "device_lib.list_local_devices()"
   ]
  },
  {
   "cell_type": "code",
   "execution_count": 4,
   "id": "5c9c01f1",
   "metadata": {},
   "outputs": [
    {
     "name": "stdout",
     "output_type": "stream",
     "text": [
      "OK\n",
      "\n"
     ]
    }
   ],
   "source": [
    "import pandas as pd\n",
    "#import pandas_profiling\n",
    "import numpy as np\n",
    "import cupy as cp\n",
    "from sklearn.model_selection import train_test_split\n",
    "import lightgbm as lgb\n",
    "import matplotlib.pyplot as plt\n",
    "import seaborn as sns\n",
    "from sklearn.model_selection import KFold\n",
    "from sklearn import metrics\n",
    "from sklearn.metrics import accuracy_score\n",
    "from sklearn.model_selection import train_test_split\n",
    "from sklearn.preprocessing import LabelEncoder\n",
    "from sklearn.preprocessing import StandardScaler\n",
    "from sklearn.tree import DecisionTreeClassifier, export_graphviz\n",
    "from sklearn.metrics import roc_auc_score\n",
    "from sklearn.tree import plot_tree\n",
    "from sklearn.metrics import mean_squared_error\n",
    "\n",
    "from six import StringIO\n",
    "\n",
    "from IPython.display import Image\n",
    "import matplotlib.pyplot as plt\n",
    "import seaborn as sns\n",
    "\n",
    "import statsmodels.api as sm\n",
    "import math\n",
    "from scipy import stats\n",
    "import numpy as np\n",
    "import optuna.integration.lightgbm as lgb\n",
    "import pandas as pd\n",
    "import tensorflow as tf\n",
    "\n",
    "from datetime import datetime\n",
    "from tensorflow import feature_column\n",
    "from tensorflow.keras import layers\n",
    "\n",
    "from xgboost.sklearn import XGBClassifier\n",
    "\n",
    "\n",
    "print(\"OK\\n\")"
   ]
  },
  {
   "cell_type": "code",
   "execution_count": 5,
   "id": "00a7551c",
   "metadata": {},
   "outputs": [
    {
     "data": {
      "text/html": [
       "<div>\n",
       "<style scoped>\n",
       "    .dataframe tbody tr th:only-of-type {\n",
       "        vertical-align: middle;\n",
       "    }\n",
       "\n",
       "    .dataframe tbody tr th {\n",
       "        vertical-align: top;\n",
       "    }\n",
       "\n",
       "    .dataframe thead th {\n",
       "        text-align: right;\n",
       "    }\n",
       "</style>\n",
       "<table border=\"1\" class=\"dataframe\">\n",
       "  <thead>\n",
       "    <tr style=\"text-align: right;\">\n",
       "      <th></th>\n",
       "      <th>SK_ID_CURR</th>\n",
       "      <th>TARGET</th>\n",
       "      <th>NAME_CONTRACT_TYPE</th>\n",
       "      <th>CODE_GENDER</th>\n",
       "      <th>FLAG_OWN_CAR</th>\n",
       "      <th>FLAG_OWN_REALTY</th>\n",
       "      <th>CNT_CHILDREN</th>\n",
       "      <th>AMT_INCOME_TOTAL</th>\n",
       "      <th>AMT_CREDIT</th>\n",
       "      <th>AMT_ANNUITY</th>\n",
       "      <th>...</th>\n",
       "      <th>FLAG_DOCUMENT_3</th>\n",
       "      <th>FLAG_DOCUMENT_6</th>\n",
       "      <th>FLAG_DOCUMENT_13</th>\n",
       "      <th>FLAG_DOCUMENT_16</th>\n",
       "      <th>AMT_REQ_CREDIT_BUREAU_MON</th>\n",
       "      <th>AMT_REQ_CREDIT_BUREAU_YEAR</th>\n",
       "      <th>credit_annuity_ratio</th>\n",
       "      <th>credit_goods_price_ratio</th>\n",
       "      <th>credit_downpayment</th>\n",
       "      <th>AGE_INT</th>\n",
       "    </tr>\n",
       "  </thead>\n",
       "  <tbody>\n",
       "    <tr>\n",
       "      <th>0</th>\n",
       "      <td>100002</td>\n",
       "      <td>1</td>\n",
       "      <td>0</td>\n",
       "      <td>1</td>\n",
       "      <td>0</td>\n",
       "      <td>1</td>\n",
       "      <td>0</td>\n",
       "      <td>202500.0</td>\n",
       "      <td>406597.5</td>\n",
       "      <td>24700.5</td>\n",
       "      <td>...</td>\n",
       "      <td>1</td>\n",
       "      <td>0</td>\n",
       "      <td>0</td>\n",
       "      <td>0</td>\n",
       "      <td>0.0</td>\n",
       "      <td>1.0</td>\n",
       "      <td>16.461104</td>\n",
       "      <td>1.158397</td>\n",
       "      <td>-55597.5</td>\n",
       "      <td>-25.920548</td>\n",
       "    </tr>\n",
       "    <tr>\n",
       "      <th>1</th>\n",
       "      <td>100003</td>\n",
       "      <td>0</td>\n",
       "      <td>0</td>\n",
       "      <td>0</td>\n",
       "      <td>0</td>\n",
       "      <td>0</td>\n",
       "      <td>0</td>\n",
       "      <td>270000.0</td>\n",
       "      <td>1293502.5</td>\n",
       "      <td>35698.5</td>\n",
       "      <td>...</td>\n",
       "      <td>1</td>\n",
       "      <td>0</td>\n",
       "      <td>0</td>\n",
       "      <td>0</td>\n",
       "      <td>0.0</td>\n",
       "      <td>0.0</td>\n",
       "      <td>36.234085</td>\n",
       "      <td>1.145199</td>\n",
       "      <td>-164002.5</td>\n",
       "      <td>-45.931507</td>\n",
       "    </tr>\n",
       "    <tr>\n",
       "      <th>2</th>\n",
       "      <td>100004</td>\n",
       "      <td>0</td>\n",
       "      <td>1</td>\n",
       "      <td>1</td>\n",
       "      <td>1</td>\n",
       "      <td>1</td>\n",
       "      <td>0</td>\n",
       "      <td>67500.0</td>\n",
       "      <td>135000.0</td>\n",
       "      <td>6750.0</td>\n",
       "      <td>...</td>\n",
       "      <td>0</td>\n",
       "      <td>0</td>\n",
       "      <td>0</td>\n",
       "      <td>0</td>\n",
       "      <td>0.0</td>\n",
       "      <td>0.0</td>\n",
       "      <td>20.000000</td>\n",
       "      <td>1.000000</td>\n",
       "      <td>0.0</td>\n",
       "      <td>-52.180822</td>\n",
       "    </tr>\n",
       "    <tr>\n",
       "      <th>3</th>\n",
       "      <td>100006</td>\n",
       "      <td>0</td>\n",
       "      <td>0</td>\n",
       "      <td>0</td>\n",
       "      <td>0</td>\n",
       "      <td>1</td>\n",
       "      <td>0</td>\n",
       "      <td>135000.0</td>\n",
       "      <td>312682.5</td>\n",
       "      <td>29686.5</td>\n",
       "      <td>...</td>\n",
       "      <td>1</td>\n",
       "      <td>0</td>\n",
       "      <td>0</td>\n",
       "      <td>0</td>\n",
       "      <td>NaN</td>\n",
       "      <td>NaN</td>\n",
       "      <td>10.532818</td>\n",
       "      <td>1.052803</td>\n",
       "      <td>-15682.5</td>\n",
       "      <td>-52.068493</td>\n",
       "    </tr>\n",
       "    <tr>\n",
       "      <th>4</th>\n",
       "      <td>100007</td>\n",
       "      <td>0</td>\n",
       "      <td>0</td>\n",
       "      <td>1</td>\n",
       "      <td>0</td>\n",
       "      <td>1</td>\n",
       "      <td>0</td>\n",
       "      <td>121500.0</td>\n",
       "      <td>513000.0</td>\n",
       "      <td>21865.5</td>\n",
       "      <td>...</td>\n",
       "      <td>0</td>\n",
       "      <td>0</td>\n",
       "      <td>0</td>\n",
       "      <td>0</td>\n",
       "      <td>0.0</td>\n",
       "      <td>0.0</td>\n",
       "      <td>23.461618</td>\n",
       "      <td>1.000000</td>\n",
       "      <td>0.0</td>\n",
       "      <td>-54.608219</td>\n",
       "    </tr>\n",
       "  </tbody>\n",
       "</table>\n",
       "<p>5 rows × 91 columns</p>\n",
       "</div>"
      ],
      "text/plain": [
       "   SK_ID_CURR  TARGET  NAME_CONTRACT_TYPE  CODE_GENDER  FLAG_OWN_CAR  \\\n",
       "0      100002       1                   0            1             0   \n",
       "1      100003       0                   0            0             0   \n",
       "2      100004       0                   1            1             1   \n",
       "3      100006       0                   0            0             0   \n",
       "4      100007       0                   0            1             0   \n",
       "\n",
       "   FLAG_OWN_REALTY  CNT_CHILDREN  AMT_INCOME_TOTAL  AMT_CREDIT  AMT_ANNUITY  \\\n",
       "0                1             0          202500.0    406597.5      24700.5   \n",
       "1                0             0          270000.0   1293502.5      35698.5   \n",
       "2                1             0           67500.0    135000.0       6750.0   \n",
       "3                1             0          135000.0    312682.5      29686.5   \n",
       "4                1             0          121500.0    513000.0      21865.5   \n",
       "\n",
       "   ...  FLAG_DOCUMENT_3  FLAG_DOCUMENT_6  FLAG_DOCUMENT_13  FLAG_DOCUMENT_16  \\\n",
       "0  ...                1                0                 0                 0   \n",
       "1  ...                1                0                 0                 0   \n",
       "2  ...                0                0                 0                 0   \n",
       "3  ...                1                0                 0                 0   \n",
       "4  ...                0                0                 0                 0   \n",
       "\n",
       "   AMT_REQ_CREDIT_BUREAU_MON  AMT_REQ_CREDIT_BUREAU_YEAR  \\\n",
       "0                        0.0                         1.0   \n",
       "1                        0.0                         0.0   \n",
       "2                        0.0                         0.0   \n",
       "3                        NaN                         NaN   \n",
       "4                        0.0                         0.0   \n",
       "\n",
       "   credit_annuity_ratio  credit_goods_price_ratio  credit_downpayment  \\\n",
       "0             16.461104                  1.158397            -55597.5   \n",
       "1             36.234085                  1.145199           -164002.5   \n",
       "2             20.000000                  1.000000                 0.0   \n",
       "3             10.532818                  1.052803            -15682.5   \n",
       "4             23.461618                  1.000000                 0.0   \n",
       "\n",
       "     AGE_INT  \n",
       "0 -25.920548  \n",
       "1 -45.931507  \n",
       "2 -52.180822  \n",
       "3 -52.068493  \n",
       "4 -54.608219  \n",
       "\n",
       "[5 rows x 91 columns]"
      ]
     },
     "execution_count": 5,
     "metadata": {},
     "output_type": "execute_result"
    }
   ],
   "source": [
    "app_train_origin = pd.read_csv('./home-credit-default-risk/exports/app_train.csv')\n",
    "app_test_origin =  pd.read_csv('./home-credit-default-risk/exports/app_test.csv')\n",
    "#bureau_origin = pd.read_csv('./home-credit-default-risk/bureau.csv')\n",
    "#bureau_balance_origin = pd.read_csv('./home-credit-default-risk/bureau_balance.csv')\n",
    "pos_cash_balance_origin = pd.read_csv('./home-credit-default-risk/POS_CASH_balance.csv')\n",
    "#credit_card_balance_origin = pd.read_csv('./home-credit-default-risk/credit_card_balance.csv')\n",
    "previous_application_origin = pd.read_csv('./home-credit-default-risk/previous_application.csv')\n",
    "installments_payments_origin = pd.read_csv('./home-credit-default-risk/installments_payments.csv')\n",
    "# custo data\n",
    "app_train_hc_only_consumer_origin = pd.read_csv('./home-credit-default-risk/exports/train_hc_only_consumer.csv')\n",
    "app_test_hc_only_consumer_origin = pd.read_csv('./home-credit-default-risk/exports/test_hc_only_consumer.csv')\n",
    "app_train_1000_mean_origin = pd.read_csv('./home-credit-default-risk/exports/train_hc_only_consumer_installment_payment_ratio_1000_mean_mean.csv')\n",
    "app_test_1000_mean_origin = pd.read_csv('./home-credit-default-risk/exports/test_hc_only_consumer_installment_payment_ratio_1000_mean_mean.csv')\n",
    "app_train_max_installment_ratio_origin = pd.read_csv('./home-credit-default-risk/exports/train_hc_only_consumer_annuity_to_max_installment_ratio.csv')\n",
    "app_test_max_installment_ratio_origin = pd.read_csv('./home-credit-default-risk/exports/test_hc_only_consumer_annuity_to_max_installment_ratio.csv')\n",
    "app_train_origin.head()"
   ]
  },
  {
   "cell_type": "code",
   "execution_count": 6,
   "id": "21f8b2d0",
   "metadata": {},
   "outputs": [],
   "source": [
    "app_train = app_train_origin.copy()\n",
    "app_test = app_test_origin.copy()\n",
    "pos_cash_balance = pos_cash_balance_origin.copy()\n",
    "previous_application = previous_application_origin.copy()\n",
    "installments_payments = installments_payments_origin.copy()\n",
    "app_train_consumer = app_train_hc_only_consumer_origin.copy()\n",
    "app_test_consumer = app_test_hc_only_consumer_origin.copy()\n",
    "app_train_1000_mean = app_train_1000_mean_origin.copy()\n",
    "app_test_1000_mean = app_test_1000_mean_origin.copy()\n",
    "app_train_max_installment_ratio = app_train_max_installment_ratio_origin.copy()\n",
    "app_test_max_installment_ratio = app_test_max_installment_ratio_origin.copy()"
   ]
  },
  {
   "cell_type": "code",
   "execution_count": 7,
   "id": "b7e86a3c",
   "metadata": {},
   "outputs": [
    {
     "data": {
      "text/plain": [
       "48744"
      ]
     },
     "execution_count": 7,
     "metadata": {},
     "output_type": "execute_result"
    }
   ],
   "source": [
    "#app_train = app_train[['SK_ID_CURR','TARGET','EXT_SOURCE_1','EXT_SOURCE_2','EXT_SOURCE_3']].copy()\n",
    "#app_test = app_test[['SK_ID_CURR','EXT_SOURCE_1','EXT_SOURCE_2','EXT_SOURCE_3']].copy()\n",
    "app_train = app_train[['SK_ID_CURR','TARGET']].copy()\n",
    "app_test = app_test[['SK_ID_CURR']].copy()\n",
    "len(app_test)"
   ]
  },
  {
   "cell_type": "markdown",
   "id": "1fc660d8",
   "metadata": {},
   "source": [
    "### 申し込み月におけるConsumer loanの情報をマージ"
   ]
  },
  {
   "cell_type": "code",
   "execution_count": 8,
   "id": "2d410bf5",
   "metadata": {},
   "outputs": [
    {
     "data": {
      "text/html": [
       "<div>\n",
       "<style scoped>\n",
       "    .dataframe tbody tr th:only-of-type {\n",
       "        vertical-align: middle;\n",
       "    }\n",
       "\n",
       "    .dataframe tbody tr th {\n",
       "        vertical-align: top;\n",
       "    }\n",
       "\n",
       "    .dataframe thead th {\n",
       "        text-align: right;\n",
       "    }\n",
       "</style>\n",
       "<table border=\"1\" class=\"dataframe\">\n",
       "  <thead>\n",
       "    <tr style=\"text-align: right;\">\n",
       "      <th></th>\n",
       "      <th>SK_ID_CURR</th>\n",
       "      <th>consumer_amt_annuity</th>\n",
       "      <th>consumer_amt_application</th>\n",
       "      <th>consumer_amt_credit</th>\n",
       "      <th>consumer_amt_down_payment</th>\n",
       "      <th>consumer_amt_goods_price</th>\n",
       "      <th>consumer_weekday_appr_process_start</th>\n",
       "      <th>consumer_hour_appr_process_start</th>\n",
       "      <th>consumer_flag_last_appl_per_contract</th>\n",
       "      <th>consumer_nflag_last_appl_in_day</th>\n",
       "      <th>...</th>\n",
       "      <th>consumer_cnt_payment</th>\n",
       "      <th>consumer_name_yield_group</th>\n",
       "      <th>consumer_product_combination</th>\n",
       "      <th>consumer_days_first_drawing</th>\n",
       "      <th>consumer_days_first_due</th>\n",
       "      <th>consumer_days_last_due_1st_version</th>\n",
       "      <th>consumer_days_last_due</th>\n",
       "      <th>consumer_days_termination</th>\n",
       "      <th>consumer_nflag_insured_on_approval</th>\n",
       "      <th>consumer_max_sk_dpd</th>\n",
       "    </tr>\n",
       "  </thead>\n",
       "  <tbody>\n",
       "    <tr>\n",
       "      <th>0</th>\n",
       "      <td>100002</td>\n",
       "      <td>9251.775</td>\n",
       "      <td>179055.0</td>\n",
       "      <td>179055.0</td>\n",
       "      <td>0.0</td>\n",
       "      <td>179055</td>\n",
       "      <td>SATURDAY</td>\n",
       "      <td>9</td>\n",
       "      <td>Y</td>\n",
       "      <td>1</td>\n",
       "      <td>...</td>\n",
       "      <td>24</td>\n",
       "      <td>low_normal</td>\n",
       "      <td>POS other with interest</td>\n",
       "      <td>365243.0</td>\n",
       "      <td>-565.0</td>\n",
       "      <td>125.0</td>\n",
       "      <td>-25.0</td>\n",
       "      <td>-17.0</td>\n",
       "      <td>0.0</td>\n",
       "      <td>0</td>\n",
       "    </tr>\n",
       "    <tr>\n",
       "      <th>1</th>\n",
       "      <td>100006</td>\n",
       "      <td>29027.520</td>\n",
       "      <td>334917.0</td>\n",
       "      <td>267930.0</td>\n",
       "      <td>66987.0</td>\n",
       "      <td>334917</td>\n",
       "      <td>SUNDAY</td>\n",
       "      <td>15</td>\n",
       "      <td>Y</td>\n",
       "      <td>1</td>\n",
       "      <td>...</td>\n",
       "      <td>12</td>\n",
       "      <td>high</td>\n",
       "      <td>POS household with interest</td>\n",
       "      <td>365243.0</td>\n",
       "      <td>-281.0</td>\n",
       "      <td>49.0</td>\n",
       "      <td>365243.0</td>\n",
       "      <td>365243.0</td>\n",
       "      <td>0.0</td>\n",
       "      <td>0</td>\n",
       "    </tr>\n",
       "    <tr>\n",
       "      <th>2</th>\n",
       "      <td>100009</td>\n",
       "      <td>10418.670</td>\n",
       "      <td>95841.0</td>\n",
       "      <td>88632.0</td>\n",
       "      <td>14377.0</td>\n",
       "      <td>95841</td>\n",
       "      <td>WEDNESDAY</td>\n",
       "      <td>17</td>\n",
       "      <td>Y</td>\n",
       "      <td>1</td>\n",
       "      <td>...</td>\n",
       "      <td>10</td>\n",
       "      <td>middle</td>\n",
       "      <td>POS household with interest</td>\n",
       "      <td>365243.0</td>\n",
       "      <td>-43.0</td>\n",
       "      <td>227.0</td>\n",
       "      <td>365243.0</td>\n",
       "      <td>365243.0</td>\n",
       "      <td>0.0</td>\n",
       "      <td>0</td>\n",
       "    </tr>\n",
       "    <tr>\n",
       "      <th>3</th>\n",
       "      <td>100014</td>\n",
       "      <td>14045.625</td>\n",
       "      <td>73800.0</td>\n",
       "      <td>73800.0</td>\n",
       "      <td>0.0</td>\n",
       "      <td>73800</td>\n",
       "      <td>TUESDAY</td>\n",
       "      <td>14</td>\n",
       "      <td>Y</td>\n",
       "      <td>1</td>\n",
       "      <td>...</td>\n",
       "      <td>6</td>\n",
       "      <td>middle</td>\n",
       "      <td>POS other with interest</td>\n",
       "      <td>365243.0</td>\n",
       "      <td>-64.0</td>\n",
       "      <td>86.0</td>\n",
       "      <td>365243.0</td>\n",
       "      <td>365243.0</td>\n",
       "      <td>0.0</td>\n",
       "      <td>0</td>\n",
       "    </tr>\n",
       "    <tr>\n",
       "      <th>4</th>\n",
       "      <td>100017</td>\n",
       "      <td>11783.520</td>\n",
       "      <td>195291.0</td>\n",
       "      <td>198409.5</td>\n",
       "      <td>22500.0</td>\n",
       "      <td>195291</td>\n",
       "      <td>FRIDAY</td>\n",
       "      <td>18</td>\n",
       "      <td>Y</td>\n",
       "      <td>1</td>\n",
       "      <td>...</td>\n",
       "      <td>24</td>\n",
       "      <td>middle</td>\n",
       "      <td>POS household with interest</td>\n",
       "      <td>365243.0</td>\n",
       "      <td>-581.0</td>\n",
       "      <td>109.0</td>\n",
       "      <td>365243.0</td>\n",
       "      <td>365243.0</td>\n",
       "      <td>0.0</td>\n",
       "      <td>0</td>\n",
       "    </tr>\n",
       "  </tbody>\n",
       "</table>\n",
       "<p>5 rows × 36 columns</p>\n",
       "</div>"
      ],
      "text/plain": [
       "   SK_ID_CURR  consumer_amt_annuity  consumer_amt_application  \\\n",
       "0      100002              9251.775                  179055.0   \n",
       "1      100006             29027.520                  334917.0   \n",
       "2      100009             10418.670                   95841.0   \n",
       "3      100014             14045.625                   73800.0   \n",
       "4      100017             11783.520                  195291.0   \n",
       "\n",
       "   consumer_amt_credit  consumer_amt_down_payment  consumer_amt_goods_price  \\\n",
       "0             179055.0                        0.0                    179055   \n",
       "1             267930.0                    66987.0                    334917   \n",
       "2              88632.0                    14377.0                     95841   \n",
       "3              73800.0                        0.0                     73800   \n",
       "4             198409.5                    22500.0                    195291   \n",
       "\n",
       "  consumer_weekday_appr_process_start  consumer_hour_appr_process_start  \\\n",
       "0                            SATURDAY                                 9   \n",
       "1                              SUNDAY                                15   \n",
       "2                           WEDNESDAY                                17   \n",
       "3                             TUESDAY                                14   \n",
       "4                              FRIDAY                                18   \n",
       "\n",
       "  consumer_flag_last_appl_per_contract  consumer_nflag_last_appl_in_day  ...  \\\n",
       "0                                    Y                                1  ...   \n",
       "1                                    Y                                1  ...   \n",
       "2                                    Y                                1  ...   \n",
       "3                                    Y                                1  ...   \n",
       "4                                    Y                                1  ...   \n",
       "\n",
       "   consumer_cnt_payment  consumer_name_yield_group  \\\n",
       "0                    24                 low_normal   \n",
       "1                    12                       high   \n",
       "2                    10                     middle   \n",
       "3                     6                     middle   \n",
       "4                    24                     middle   \n",
       "\n",
       "   consumer_product_combination consumer_days_first_drawing  \\\n",
       "0       POS other with interest                    365243.0   \n",
       "1   POS household with interest                    365243.0   \n",
       "2   POS household with interest                    365243.0   \n",
       "3       POS other with interest                    365243.0   \n",
       "4   POS household with interest                    365243.0   \n",
       "\n",
       "  consumer_days_first_due  consumer_days_last_due_1st_version  \\\n",
       "0                  -565.0                               125.0   \n",
       "1                  -281.0                                49.0   \n",
       "2                   -43.0                               227.0   \n",
       "3                   -64.0                                86.0   \n",
       "4                  -581.0                               109.0   \n",
       "\n",
       "  consumer_days_last_due consumer_days_termination  \\\n",
       "0                  -25.0                     -17.0   \n",
       "1               365243.0                  365243.0   \n",
       "2               365243.0                  365243.0   \n",
       "3               365243.0                  365243.0   \n",
       "4               365243.0                  365243.0   \n",
       "\n",
       "  consumer_nflag_insured_on_approval consumer_max_sk_dpd  \n",
       "0                                0.0                   0  \n",
       "1                                0.0                   0  \n",
       "2                                0.0                   0  \n",
       "3                                0.0                   0  \n",
       "4                                0.0                   0  \n",
       "\n",
       "[5 rows x 36 columns]"
      ]
     },
     "execution_count": 8,
     "metadata": {},
     "output_type": "execute_result"
    }
   ],
   "source": [
    "app_train_consumer = app_train_consumer.rename(columns={'sk_id_curr': 'SK_ID_CURR'})\n",
    "app_test_consumer = app_test_consumer.rename(columns={'sk_id_curr': 'SK_ID_CURR'})\n",
    "app_train_consumer.head()"
   ]
  },
  {
   "cell_type": "code",
   "execution_count": 9,
   "id": "b149c347",
   "metadata": {},
   "outputs": [
    {
     "data": {
      "text/plain": [
       "307511"
      ]
     },
     "execution_count": 9,
     "metadata": {},
     "output_type": "execute_result"
    }
   ],
   "source": [
    "# trainへマージ\n",
    "app_train = pd.merge(app_train, app_train_consumer, on='SK_ID_CURR', how='left')\n",
    "# testへマージ\n",
    "app_test = pd.merge(app_test, app_test_consumer, on='SK_ID_CURR', how='left')\n",
    "len(app_train)"
   ]
  },
  {
   "cell_type": "markdown",
   "id": "283d1425",
   "metadata": {},
   "source": [
    "### installment_payment_ratio_1000_mean_meanをマージ"
   ]
  },
  {
   "cell_type": "code",
   "execution_count": 10,
   "id": "acbb04ee",
   "metadata": {},
   "outputs": [
    {
     "data": {
      "text/html": [
       "<div>\n",
       "<style scoped>\n",
       "    .dataframe tbody tr th:only-of-type {\n",
       "        vertical-align: middle;\n",
       "    }\n",
       "\n",
       "    .dataframe tbody tr th {\n",
       "        vertical-align: top;\n",
       "    }\n",
       "\n",
       "    .dataframe thead th {\n",
       "        text-align: right;\n",
       "    }\n",
       "</style>\n",
       "<table border=\"1\" class=\"dataframe\">\n",
       "  <thead>\n",
       "    <tr style=\"text-align: right;\">\n",
       "      <th></th>\n",
       "      <th>SK_ID_CURR</th>\n",
       "      <th>consumer_installment_payment_ratio_1000_mean_mean</th>\n",
       "    </tr>\n",
       "  </thead>\n",
       "  <tbody>\n",
       "    <tr>\n",
       "      <th>0</th>\n",
       "      <td>100002</td>\n",
       "      <td>0.0</td>\n",
       "    </tr>\n",
       "    <tr>\n",
       "      <th>1</th>\n",
       "      <td>100003</td>\n",
       "      <td>0.0</td>\n",
       "    </tr>\n",
       "    <tr>\n",
       "      <th>2</th>\n",
       "      <td>100006</td>\n",
       "      <td>0.0</td>\n",
       "    </tr>\n",
       "    <tr>\n",
       "      <th>3</th>\n",
       "      <td>100008</td>\n",
       "      <td>0.0</td>\n",
       "    </tr>\n",
       "    <tr>\n",
       "      <th>4</th>\n",
       "      <td>100009</td>\n",
       "      <td>0.0</td>\n",
       "    </tr>\n",
       "  </tbody>\n",
       "</table>\n",
       "</div>"
      ],
      "text/plain": [
       "   SK_ID_CURR  consumer_installment_payment_ratio_1000_mean_mean\n",
       "0      100002                                                0.0\n",
       "1      100003                                                0.0\n",
       "2      100006                                                0.0\n",
       "3      100008                                                0.0\n",
       "4      100009                                                0.0"
      ]
     },
     "execution_count": 10,
     "metadata": {},
     "output_type": "execute_result"
    }
   ],
   "source": [
    "app_train_1000_mean = app_train_1000_mean.rename(columns={'sk_id_curr': 'SK_ID_CURR'})\n",
    "app_test_1000_mean = app_test_1000_mean.rename(columns={'sk_id_curr': 'SK_ID_CURR'})\n",
    "app_train_1000_mean.head()"
   ]
  },
  {
   "cell_type": "code",
   "execution_count": 11,
   "id": "f4752cc6",
   "metadata": {},
   "outputs": [
    {
     "data": {
      "text/plain": [
       "307511"
      ]
     },
     "execution_count": 11,
     "metadata": {},
     "output_type": "execute_result"
    }
   ],
   "source": [
    "# trainへマージ\n",
    "app_train = pd.merge(app_train, app_train_1000_mean, on='SK_ID_CURR', how='left')\n",
    "# testへマージ\n",
    "app_test = pd.merge(app_test, app_test_1000_mean, on='SK_ID_CURR', how='left')\n",
    "len(app_train)"
   ]
  },
  {
   "cell_type": "markdown",
   "id": "4ffe4c3c",
   "metadata": {},
   "source": [
    "### annuity_to_max_installment_ratioをマージ"
   ]
  },
  {
   "cell_type": "code",
   "execution_count": 12,
   "id": "69fa6a43",
   "metadata": {},
   "outputs": [
    {
     "data": {
      "text/html": [
       "<div>\n",
       "<style scoped>\n",
       "    .dataframe tbody tr th:only-of-type {\n",
       "        vertical-align: middle;\n",
       "    }\n",
       "\n",
       "    .dataframe tbody tr th {\n",
       "        vertical-align: top;\n",
       "    }\n",
       "\n",
       "    .dataframe thead th {\n",
       "        text-align: right;\n",
       "    }\n",
       "</style>\n",
       "<table border=\"1\" class=\"dataframe\">\n",
       "  <thead>\n",
       "    <tr style=\"text-align: right;\">\n",
       "      <th></th>\n",
       "      <th>SK_ID_CURR</th>\n",
       "      <th>consumer_annuity_to_max_installment_ratio</th>\n",
       "    </tr>\n",
       "  </thead>\n",
       "  <tbody>\n",
       "    <tr>\n",
       "      <th>0</th>\n",
       "      <td>100067</td>\n",
       "      <td>-667.1250</td>\n",
       "    </tr>\n",
       "    <tr>\n",
       "      <th>1</th>\n",
       "      <td>100107</td>\n",
       "      <td>-1205.0000</td>\n",
       "    </tr>\n",
       "    <tr>\n",
       "      <th>2</th>\n",
       "      <td>100172</td>\n",
       "      <td>-493.3600</td>\n",
       "    </tr>\n",
       "    <tr>\n",
       "      <th>3</th>\n",
       "      <td>100184</td>\n",
       "      <td>-448.2917</td>\n",
       "    </tr>\n",
       "    <tr>\n",
       "      <th>4</th>\n",
       "      <td>100222</td>\n",
       "      <td>-831.0732</td>\n",
       "    </tr>\n",
       "  </tbody>\n",
       "</table>\n",
       "</div>"
      ],
      "text/plain": [
       "   SK_ID_CURR  consumer_annuity_to_max_installment_ratio\n",
       "0      100067                                  -667.1250\n",
       "1      100107                                 -1205.0000\n",
       "2      100172                                  -493.3600\n",
       "3      100184                                  -448.2917\n",
       "4      100222                                  -831.0732"
      ]
     },
     "execution_count": 12,
     "metadata": {},
     "output_type": "execute_result"
    }
   ],
   "source": [
    "app_train_max_installment_ratio = app_train_max_installment_ratio.rename(columns={'sk_id_curr': 'SK_ID_CURR'})\n",
    "app_test_max_installment_ratio = app_test_max_installment_ratio.rename(columns={'sk_id_curr': 'SK_ID_CURR'})\n",
    "app_test_max_installment_ratio.head()"
   ]
  },
  {
   "cell_type": "code",
   "execution_count": 13,
   "id": "afe9fd77",
   "metadata": {},
   "outputs": [
    {
     "data": {
      "text/plain": [
       "307511"
      ]
     },
     "execution_count": 13,
     "metadata": {},
     "output_type": "execute_result"
    }
   ],
   "source": [
    "# trainへマージ\n",
    "app_train = pd.merge(app_train, app_train_max_installment_ratio, on='SK_ID_CURR', how='left')\n",
    "# testへマージ\n",
    "app_test = pd.merge(app_test, app_test_max_installment_ratio, on='SK_ID_CURR', how='left')\n",
    "len(app_train)"
   ]
  },
  {
   "cell_type": "code",
   "execution_count": 14,
   "id": "bd473e46",
   "metadata": {},
   "outputs": [],
   "source": [
    "### consumer_amt_annuity"
   ]
  },
  {
   "cell_type": "code",
   "execution_count": 15,
   "id": "f3cd865a",
   "metadata": {},
   "outputs": [
    {
     "data": {
      "text/html": [
       "<div>\n",
       "<style scoped>\n",
       "    .dataframe tbody tr th:only-of-type {\n",
       "        vertical-align: middle;\n",
       "    }\n",
       "\n",
       "    .dataframe tbody tr th {\n",
       "        vertical-align: top;\n",
       "    }\n",
       "\n",
       "    .dataframe thead th {\n",
       "        text-align: right;\n",
       "    }\n",
       "</style>\n",
       "<table border=\"1\" class=\"dataframe\">\n",
       "  <thead>\n",
       "    <tr style=\"text-align: right;\">\n",
       "      <th></th>\n",
       "      <th>consumer_amt_annuity</th>\n",
       "      <th>TARGET</th>\n",
       "    </tr>\n",
       "  </thead>\n",
       "  <tbody>\n",
       "    <tr>\n",
       "      <th>consumer_amt_annuity</th>\n",
       "      <td>1.000000</td>\n",
       "      <td>-0.054247</td>\n",
       "    </tr>\n",
       "    <tr>\n",
       "      <th>TARGET</th>\n",
       "      <td>-0.054247</td>\n",
       "      <td>1.000000</td>\n",
       "    </tr>\n",
       "  </tbody>\n",
       "</table>\n",
       "</div>"
      ],
      "text/plain": [
       "                      consumer_amt_annuity    TARGET\n",
       "consumer_amt_annuity              1.000000 -0.054247\n",
       "TARGET                           -0.054247  1.000000"
      ]
     },
     "execution_count": 15,
     "metadata": {},
     "output_type": "execute_result"
    }
   ],
   "source": [
    "app_train[['consumer_amt_annuity', 'TARGET']].corr()"
   ]
  },
  {
   "cell_type": "code",
   "execution_count": 16,
   "id": "e103c425",
   "metadata": {},
   "outputs": [],
   "source": [
    "### consumer_amt_application"
   ]
  },
  {
   "cell_type": "code",
   "execution_count": 17,
   "id": "6b0c1e9a",
   "metadata": {},
   "outputs": [
    {
     "data": {
      "text/html": [
       "<div>\n",
       "<style scoped>\n",
       "    .dataframe tbody tr th:only-of-type {\n",
       "        vertical-align: middle;\n",
       "    }\n",
       "\n",
       "    .dataframe tbody tr th {\n",
       "        vertical-align: top;\n",
       "    }\n",
       "\n",
       "    .dataframe thead th {\n",
       "        text-align: right;\n",
       "    }\n",
       "</style>\n",
       "<table border=\"1\" class=\"dataframe\">\n",
       "  <thead>\n",
       "    <tr style=\"text-align: right;\">\n",
       "      <th></th>\n",
       "      <th>consumer_amt_annuity</th>\n",
       "      <th>TARGET</th>\n",
       "    </tr>\n",
       "  </thead>\n",
       "  <tbody>\n",
       "    <tr>\n",
       "      <th>consumer_amt_annuity</th>\n",
       "      <td>1.000000</td>\n",
       "      <td>-0.054247</td>\n",
       "    </tr>\n",
       "    <tr>\n",
       "      <th>TARGET</th>\n",
       "      <td>-0.054247</td>\n",
       "      <td>1.000000</td>\n",
       "    </tr>\n",
       "  </tbody>\n",
       "</table>\n",
       "</div>"
      ],
      "text/plain": [
       "                      consumer_amt_annuity    TARGET\n",
       "consumer_amt_annuity              1.000000 -0.054247\n",
       "TARGET                           -0.054247  1.000000"
      ]
     },
     "execution_count": 17,
     "metadata": {},
     "output_type": "execute_result"
    }
   ],
   "source": [
    "app_train[['consumer_amt_annuity', 'TARGET']].corr()"
   ]
  },
  {
   "cell_type": "code",
   "execution_count": 18,
   "id": "f7bbec4a",
   "metadata": {},
   "outputs": [],
   "source": [
    "### consumer_amt_credit"
   ]
  },
  {
   "cell_type": "code",
   "execution_count": 19,
   "id": "305037e4",
   "metadata": {},
   "outputs": [
    {
     "data": {
      "text/html": [
       "<div>\n",
       "<style scoped>\n",
       "    .dataframe tbody tr th:only-of-type {\n",
       "        vertical-align: middle;\n",
       "    }\n",
       "\n",
       "    .dataframe tbody tr th {\n",
       "        vertical-align: top;\n",
       "    }\n",
       "\n",
       "    .dataframe thead th {\n",
       "        text-align: right;\n",
       "    }\n",
       "</style>\n",
       "<table border=\"1\" class=\"dataframe\">\n",
       "  <thead>\n",
       "    <tr style=\"text-align: right;\">\n",
       "      <th></th>\n",
       "      <th>consumer_amt_credit</th>\n",
       "      <th>TARGET</th>\n",
       "    </tr>\n",
       "  </thead>\n",
       "  <tbody>\n",
       "    <tr>\n",
       "      <th>consumer_amt_credit</th>\n",
       "      <td>1.000000</td>\n",
       "      <td>-0.032825</td>\n",
       "    </tr>\n",
       "    <tr>\n",
       "      <th>TARGET</th>\n",
       "      <td>-0.032825</td>\n",
       "      <td>1.000000</td>\n",
       "    </tr>\n",
       "  </tbody>\n",
       "</table>\n",
       "</div>"
      ],
      "text/plain": [
       "                     consumer_amt_credit    TARGET\n",
       "consumer_amt_credit             1.000000 -0.032825\n",
       "TARGET                         -0.032825  1.000000"
      ]
     },
     "execution_count": 19,
     "metadata": {},
     "output_type": "execute_result"
    }
   ],
   "source": [
    "app_train[['consumer_amt_credit', 'TARGET']].corr()"
   ]
  },
  {
   "cell_type": "code",
   "execution_count": 20,
   "id": "55720e79",
   "metadata": {},
   "outputs": [],
   "source": [
    "### consumer_amt_down_payment"
   ]
  },
  {
   "cell_type": "code",
   "execution_count": 21,
   "id": "ca0520d2",
   "metadata": {},
   "outputs": [
    {
     "data": {
      "text/html": [
       "<div>\n",
       "<style scoped>\n",
       "    .dataframe tbody tr th:only-of-type {\n",
       "        vertical-align: middle;\n",
       "    }\n",
       "\n",
       "    .dataframe tbody tr th {\n",
       "        vertical-align: top;\n",
       "    }\n",
       "\n",
       "    .dataframe thead th {\n",
       "        text-align: right;\n",
       "    }\n",
       "</style>\n",
       "<table border=\"1\" class=\"dataframe\">\n",
       "  <thead>\n",
       "    <tr style=\"text-align: right;\">\n",
       "      <th></th>\n",
       "      <th>consumer_amt_down_payment</th>\n",
       "      <th>TARGET</th>\n",
       "    </tr>\n",
       "  </thead>\n",
       "  <tbody>\n",
       "    <tr>\n",
       "      <th>consumer_amt_down_payment</th>\n",
       "      <td>1.000000</td>\n",
       "      <td>-0.017728</td>\n",
       "    </tr>\n",
       "    <tr>\n",
       "      <th>TARGET</th>\n",
       "      <td>-0.017728</td>\n",
       "      <td>1.000000</td>\n",
       "    </tr>\n",
       "  </tbody>\n",
       "</table>\n",
       "</div>"
      ],
      "text/plain": [
       "                           consumer_amt_down_payment    TARGET\n",
       "consumer_amt_down_payment                   1.000000 -0.017728\n",
       "TARGET                                     -0.017728  1.000000"
      ]
     },
     "execution_count": 21,
     "metadata": {},
     "output_type": "execute_result"
    }
   ],
   "source": [
    "app_train[['consumer_amt_down_payment', 'TARGET']].corr()"
   ]
  },
  {
   "cell_type": "code",
   "execution_count": 22,
   "id": "2d812418",
   "metadata": {},
   "outputs": [],
   "source": [
    "app_train.drop(['consumer_amt_down_payment'], axis=1, inplace=True)\n",
    "app_test.drop(['consumer_amt_down_payment'], axis=1, inplace=True)"
   ]
  },
  {
   "cell_type": "code",
   "execution_count": 23,
   "id": "636d1c1c",
   "metadata": {},
   "outputs": [],
   "source": [
    "### consumer_amt_goods_price"
   ]
  },
  {
   "cell_type": "code",
   "execution_count": 24,
   "id": "644d7e4d",
   "metadata": {},
   "outputs": [
    {
     "data": {
      "text/html": [
       "<div>\n",
       "<style scoped>\n",
       "    .dataframe tbody tr th:only-of-type {\n",
       "        vertical-align: middle;\n",
       "    }\n",
       "\n",
       "    .dataframe tbody tr th {\n",
       "        vertical-align: top;\n",
       "    }\n",
       "\n",
       "    .dataframe thead th {\n",
       "        text-align: right;\n",
       "    }\n",
       "</style>\n",
       "<table border=\"1\" class=\"dataframe\">\n",
       "  <thead>\n",
       "    <tr style=\"text-align: right;\">\n",
       "      <th></th>\n",
       "      <th>consumer_amt_goods_price</th>\n",
       "      <th>TARGET</th>\n",
       "    </tr>\n",
       "  </thead>\n",
       "  <tbody>\n",
       "    <tr>\n",
       "      <th>consumer_amt_goods_price</th>\n",
       "      <td>1.000000</td>\n",
       "      <td>-0.036496</td>\n",
       "    </tr>\n",
       "    <tr>\n",
       "      <th>TARGET</th>\n",
       "      <td>-0.036496</td>\n",
       "      <td>1.000000</td>\n",
       "    </tr>\n",
       "  </tbody>\n",
       "</table>\n",
       "</div>"
      ],
      "text/plain": [
       "                          consumer_amt_goods_price    TARGET\n",
       "consumer_amt_goods_price                  1.000000 -0.036496\n",
       "TARGET                                   -0.036496  1.000000"
      ]
     },
     "execution_count": 24,
     "metadata": {},
     "output_type": "execute_result"
    }
   ],
   "source": [
    "app_train[['consumer_amt_goods_price', 'TARGET']].corr()"
   ]
  },
  {
   "cell_type": "code",
   "execution_count": 25,
   "id": "07866609",
   "metadata": {},
   "outputs": [],
   "source": [
    "### consumer_weekday_appr_process_start"
   ]
  },
  {
   "cell_type": "code",
   "execution_count": 26,
   "id": "6a946e67",
   "metadata": {},
   "outputs": [
    {
     "data": {
      "text/plain": [
       "0.0    5220\n",
       "1.0    4528\n",
       "3.0    4084\n",
       "4.0    4067\n",
       "6.0    4008\n",
       "5.0    4005\n",
       "2.0    3961\n",
       "Name: consumer_weekday_appr_process_start, dtype: int64"
      ]
     },
     "execution_count": 26,
     "metadata": {},
     "output_type": "execute_result"
    }
   ],
   "source": [
    "replace_columns = app_train['consumer_weekday_appr_process_start'].unique().tolist()\n",
    "replace_columns = ['xxxx' if e == \"NaN\" or type(e) is float and math.isnan(e) else e for e in replace_columns]\n",
    "replace_columns.remove('xxxx')\n",
    "replace_value = [x for x in range(len(replace_columns))]\n",
    "app_train['consumer_weekday_appr_process_start'].replace(replace_columns, replace_value, inplace=True)\n",
    "app_test['consumer_weekday_appr_process_start'].replace(replace_columns, replace_value, inplace=True)\n",
    "app_train['consumer_weekday_appr_process_start'].value_counts()"
   ]
  },
  {
   "cell_type": "code",
   "execution_count": 27,
   "id": "809805dd",
   "metadata": {},
   "outputs": [
    {
     "data": {
      "text/html": [
       "<div>\n",
       "<style scoped>\n",
       "    .dataframe tbody tr th:only-of-type {\n",
       "        vertical-align: middle;\n",
       "    }\n",
       "\n",
       "    .dataframe tbody tr th {\n",
       "        vertical-align: top;\n",
       "    }\n",
       "\n",
       "    .dataframe thead th {\n",
       "        text-align: right;\n",
       "    }\n",
       "</style>\n",
       "<table border=\"1\" class=\"dataframe\">\n",
       "  <thead>\n",
       "    <tr style=\"text-align: right;\">\n",
       "      <th></th>\n",
       "      <th>consumer_weekday_appr_process_start</th>\n",
       "      <th>TARGET</th>\n",
       "    </tr>\n",
       "  </thead>\n",
       "  <tbody>\n",
       "    <tr>\n",
       "      <th>consumer_weekday_appr_process_start</th>\n",
       "      <td>1.00000</td>\n",
       "      <td>0.02323</td>\n",
       "    </tr>\n",
       "    <tr>\n",
       "      <th>TARGET</th>\n",
       "      <td>0.02323</td>\n",
       "      <td>1.00000</td>\n",
       "    </tr>\n",
       "  </tbody>\n",
       "</table>\n",
       "</div>"
      ],
      "text/plain": [
       "                                     consumer_weekday_appr_process_start  \\\n",
       "consumer_weekday_appr_process_start                              1.00000   \n",
       "TARGET                                                           0.02323   \n",
       "\n",
       "                                      TARGET  \n",
       "consumer_weekday_appr_process_start  0.02323  \n",
       "TARGET                               1.00000  "
      ]
     },
     "execution_count": 27,
     "metadata": {},
     "output_type": "execute_result"
    }
   ],
   "source": [
    "app_train[['consumer_weekday_appr_process_start', 'TARGET']].corr()"
   ]
  },
  {
   "cell_type": "code",
   "execution_count": 28,
   "id": "66470f70",
   "metadata": {},
   "outputs": [],
   "source": [
    "### consumer_hour_appr_process_start"
   ]
  },
  {
   "cell_type": "code",
   "execution_count": 29,
   "id": "be595f85",
   "metadata": {},
   "outputs": [
    {
     "data": {
      "text/html": [
       "<div>\n",
       "<style scoped>\n",
       "    .dataframe tbody tr th:only-of-type {\n",
       "        vertical-align: middle;\n",
       "    }\n",
       "\n",
       "    .dataframe tbody tr th {\n",
       "        vertical-align: top;\n",
       "    }\n",
       "\n",
       "    .dataframe thead th {\n",
       "        text-align: right;\n",
       "    }\n",
       "</style>\n",
       "<table border=\"1\" class=\"dataframe\">\n",
       "  <thead>\n",
       "    <tr style=\"text-align: right;\">\n",
       "      <th></th>\n",
       "      <th>consumer_hour_appr_process_start</th>\n",
       "      <th>TARGET</th>\n",
       "    </tr>\n",
       "  </thead>\n",
       "  <tbody>\n",
       "    <tr>\n",
       "      <th>consumer_hour_appr_process_start</th>\n",
       "      <td>1.000000</td>\n",
       "      <td>-0.028247</td>\n",
       "    </tr>\n",
       "    <tr>\n",
       "      <th>TARGET</th>\n",
       "      <td>-0.028247</td>\n",
       "      <td>1.000000</td>\n",
       "    </tr>\n",
       "  </tbody>\n",
       "</table>\n",
       "</div>"
      ],
      "text/plain": [
       "                                  consumer_hour_appr_process_start    TARGET\n",
       "consumer_hour_appr_process_start                          1.000000 -0.028247\n",
       "TARGET                                                   -0.028247  1.000000"
      ]
     },
     "execution_count": 29,
     "metadata": {},
     "output_type": "execute_result"
    }
   ],
   "source": [
    "app_train[['consumer_hour_appr_process_start', 'TARGET']].corr()"
   ]
  },
  {
   "cell_type": "code",
   "execution_count": 30,
   "id": "c4aa67fc",
   "metadata": {},
   "outputs": [],
   "source": [
    "### consumer_flag_last_appl_per_contract"
   ]
  },
  {
   "cell_type": "code",
   "execution_count": 31,
   "id": "29c54d63",
   "metadata": {},
   "outputs": [
    {
     "data": {
      "text/plain": [
       "0.0    29873\n",
       "Name: consumer_flag_last_appl_per_contract, dtype: int64"
      ]
     },
     "execution_count": 31,
     "metadata": {},
     "output_type": "execute_result"
    }
   ],
   "source": [
    "replace_columns = app_train['consumer_flag_last_appl_per_contract'].unique().tolist()\n",
    "replace_columns = ['xxxx' if e == \"NaN\" or type(e) is float and math.isnan(e) else e for e in replace_columns]\n",
    "replace_columns.remove('xxxx')\n",
    "replace_value = [x for x in range(len(replace_columns))]\n",
    "app_train['consumer_flag_last_appl_per_contract'].replace(replace_columns, replace_value, inplace=True)\n",
    "app_test['consumer_flag_last_appl_per_contract'].replace(replace_columns, replace_value, inplace=True)\n",
    "app_train['consumer_flag_last_appl_per_contract'].value_counts()"
   ]
  },
  {
   "cell_type": "code",
   "execution_count": 32,
   "id": "05d6cb11",
   "metadata": {},
   "outputs": [
    {
     "data": {
      "text/html": [
       "<div>\n",
       "<style scoped>\n",
       "    .dataframe tbody tr th:only-of-type {\n",
       "        vertical-align: middle;\n",
       "    }\n",
       "\n",
       "    .dataframe tbody tr th {\n",
       "        vertical-align: top;\n",
       "    }\n",
       "\n",
       "    .dataframe thead th {\n",
       "        text-align: right;\n",
       "    }\n",
       "</style>\n",
       "<table border=\"1\" class=\"dataframe\">\n",
       "  <thead>\n",
       "    <tr style=\"text-align: right;\">\n",
       "      <th></th>\n",
       "      <th>consumer_flag_last_appl_per_contract</th>\n",
       "      <th>TARGET</th>\n",
       "    </tr>\n",
       "  </thead>\n",
       "  <tbody>\n",
       "    <tr>\n",
       "      <th>consumer_flag_last_appl_per_contract</th>\n",
       "      <td>NaN</td>\n",
       "      <td>NaN</td>\n",
       "    </tr>\n",
       "    <tr>\n",
       "      <th>TARGET</th>\n",
       "      <td>NaN</td>\n",
       "      <td>1.0</td>\n",
       "    </tr>\n",
       "  </tbody>\n",
       "</table>\n",
       "</div>"
      ],
      "text/plain": [
       "                                      consumer_flag_last_appl_per_contract  \\\n",
       "consumer_flag_last_appl_per_contract                                   NaN   \n",
       "TARGET                                                                 NaN   \n",
       "\n",
       "                                      TARGET  \n",
       "consumer_flag_last_appl_per_contract     NaN  \n",
       "TARGET                                   1.0  "
      ]
     },
     "execution_count": 32,
     "metadata": {},
     "output_type": "execute_result"
    }
   ],
   "source": [
    "app_train[['consumer_flag_last_appl_per_contract', 'TARGET']].corr()"
   ]
  },
  {
   "cell_type": "code",
   "execution_count": 33,
   "id": "11993f6f",
   "metadata": {},
   "outputs": [],
   "source": [
    "app_train.drop(['consumer_flag_last_appl_per_contract'], axis=1, inplace=True)\n",
    "app_test.drop(['consumer_flag_last_appl_per_contract'], axis=1, inplace=True)"
   ]
  },
  {
   "cell_type": "code",
   "execution_count": 34,
   "id": "c2c78ee9",
   "metadata": {},
   "outputs": [],
   "source": [
    "### consumer_nflag_last_appl_in_day"
   ]
  },
  {
   "cell_type": "code",
   "execution_count": 35,
   "id": "05731aa1",
   "metadata": {},
   "outputs": [
    {
     "data": {
      "text/html": [
       "<div>\n",
       "<style scoped>\n",
       "    .dataframe tbody tr th:only-of-type {\n",
       "        vertical-align: middle;\n",
       "    }\n",
       "\n",
       "    .dataframe tbody tr th {\n",
       "        vertical-align: top;\n",
       "    }\n",
       "\n",
       "    .dataframe thead th {\n",
       "        text-align: right;\n",
       "    }\n",
       "</style>\n",
       "<table border=\"1\" class=\"dataframe\">\n",
       "  <thead>\n",
       "    <tr style=\"text-align: right;\">\n",
       "      <th></th>\n",
       "      <th>consumer_nflag_last_appl_in_day</th>\n",
       "      <th>TARGET</th>\n",
       "    </tr>\n",
       "  </thead>\n",
       "  <tbody>\n",
       "    <tr>\n",
       "      <th>consumer_nflag_last_appl_in_day</th>\n",
       "      <td>1.00000</td>\n",
       "      <td>0.00468</td>\n",
       "    </tr>\n",
       "    <tr>\n",
       "      <th>TARGET</th>\n",
       "      <td>0.00468</td>\n",
       "      <td>1.00000</td>\n",
       "    </tr>\n",
       "  </tbody>\n",
       "</table>\n",
       "</div>"
      ],
      "text/plain": [
       "                                 consumer_nflag_last_appl_in_day   TARGET\n",
       "consumer_nflag_last_appl_in_day                          1.00000  0.00468\n",
       "TARGET                                                   0.00468  1.00000"
      ]
     },
     "execution_count": 35,
     "metadata": {},
     "output_type": "execute_result"
    }
   ],
   "source": [
    "app_train[['consumer_nflag_last_appl_in_day', 'TARGET']].corr()"
   ]
  },
  {
   "cell_type": "code",
   "execution_count": 36,
   "id": "dcb28570",
   "metadata": {},
   "outputs": [],
   "source": [
    "app_train.drop(['consumer_nflag_last_appl_in_day'], axis=1, inplace=True)\n",
    "app_test.drop(['consumer_nflag_last_appl_in_day'], axis=1, inplace=True)"
   ]
  },
  {
   "cell_type": "code",
   "execution_count": 37,
   "id": "59ebd1fc",
   "metadata": {},
   "outputs": [],
   "source": [
    "### consumer_rate_down_payment"
   ]
  },
  {
   "cell_type": "code",
   "execution_count": 38,
   "id": "a9881bfe",
   "metadata": {},
   "outputs": [
    {
     "data": {
      "text/html": [
       "<div>\n",
       "<style scoped>\n",
       "    .dataframe tbody tr th:only-of-type {\n",
       "        vertical-align: middle;\n",
       "    }\n",
       "\n",
       "    .dataframe tbody tr th {\n",
       "        vertical-align: top;\n",
       "    }\n",
       "\n",
       "    .dataframe thead th {\n",
       "        text-align: right;\n",
       "    }\n",
       "</style>\n",
       "<table border=\"1\" class=\"dataframe\">\n",
       "  <thead>\n",
       "    <tr style=\"text-align: right;\">\n",
       "      <th></th>\n",
       "      <th>consumer_rate_down_payment</th>\n",
       "      <th>TARGET</th>\n",
       "    </tr>\n",
       "  </thead>\n",
       "  <tbody>\n",
       "    <tr>\n",
       "      <th>consumer_rate_down_payment</th>\n",
       "      <td>1.000000</td>\n",
       "      <td>-0.017429</td>\n",
       "    </tr>\n",
       "    <tr>\n",
       "      <th>TARGET</th>\n",
       "      <td>-0.017429</td>\n",
       "      <td>1.000000</td>\n",
       "    </tr>\n",
       "  </tbody>\n",
       "</table>\n",
       "</div>"
      ],
      "text/plain": [
       "                            consumer_rate_down_payment    TARGET\n",
       "consumer_rate_down_payment                    1.000000 -0.017429\n",
       "TARGET                                       -0.017429  1.000000"
      ]
     },
     "execution_count": 38,
     "metadata": {},
     "output_type": "execute_result"
    }
   ],
   "source": [
    "app_train[['consumer_rate_down_payment', 'TARGET']].corr()"
   ]
  },
  {
   "cell_type": "code",
   "execution_count": 39,
   "id": "c9fc3da3",
   "metadata": {},
   "outputs": [],
   "source": [
    "app_train.drop(['consumer_rate_down_payment'], axis=1, inplace=True)\n",
    "app_test.drop(['consumer_rate_down_payment'], axis=1, inplace=True)"
   ]
  },
  {
   "cell_type": "code",
   "execution_count": 40,
   "id": "9ce3fbe7",
   "metadata": {},
   "outputs": [],
   "source": [
    "### consumer_rate_interest_primary"
   ]
  },
  {
   "cell_type": "code",
   "execution_count": 41,
   "id": "dea27a93",
   "metadata": {},
   "outputs": [
    {
     "data": {
      "text/html": [
       "<div>\n",
       "<style scoped>\n",
       "    .dataframe tbody tr th:only-of-type {\n",
       "        vertical-align: middle;\n",
       "    }\n",
       "\n",
       "    .dataframe tbody tr th {\n",
       "        vertical-align: top;\n",
       "    }\n",
       "\n",
       "    .dataframe thead th {\n",
       "        text-align: right;\n",
       "    }\n",
       "</style>\n",
       "<table border=\"1\" class=\"dataframe\">\n",
       "  <thead>\n",
       "    <tr style=\"text-align: right;\">\n",
       "      <th></th>\n",
       "      <th>consumer_rate_interest_primary</th>\n",
       "      <th>TARGET</th>\n",
       "    </tr>\n",
       "  </thead>\n",
       "  <tbody>\n",
       "    <tr>\n",
       "      <th>consumer_rate_interest_primary</th>\n",
       "      <td>1.000000</td>\n",
       "      <td>0.011642</td>\n",
       "    </tr>\n",
       "    <tr>\n",
       "      <th>TARGET</th>\n",
       "      <td>0.011642</td>\n",
       "      <td>1.000000</td>\n",
       "    </tr>\n",
       "  </tbody>\n",
       "</table>\n",
       "</div>"
      ],
      "text/plain": [
       "                                consumer_rate_interest_primary    TARGET\n",
       "consumer_rate_interest_primary                        1.000000  0.011642\n",
       "TARGET                                                0.011642  1.000000"
      ]
     },
     "execution_count": 41,
     "metadata": {},
     "output_type": "execute_result"
    }
   ],
   "source": [
    "app_train[['consumer_rate_interest_primary', 'TARGET']].corr()"
   ]
  },
  {
   "cell_type": "code",
   "execution_count": 42,
   "id": "c0351e68",
   "metadata": {},
   "outputs": [],
   "source": [
    "app_train.drop(['consumer_rate_interest_primary'], axis=1, inplace=True)\n",
    "app_test.drop(['consumer_rate_interest_primary'], axis=1, inplace=True)"
   ]
  },
  {
   "cell_type": "code",
   "execution_count": 43,
   "id": "42a05c9c",
   "metadata": {},
   "outputs": [],
   "source": [
    "### consumer_rate_interest_privileged"
   ]
  },
  {
   "cell_type": "code",
   "execution_count": 44,
   "id": "0923b27c",
   "metadata": {},
   "outputs": [
    {
     "data": {
      "text/html": [
       "<div>\n",
       "<style scoped>\n",
       "    .dataframe tbody tr th:only-of-type {\n",
       "        vertical-align: middle;\n",
       "    }\n",
       "\n",
       "    .dataframe tbody tr th {\n",
       "        vertical-align: top;\n",
       "    }\n",
       "\n",
       "    .dataframe thead th {\n",
       "        text-align: right;\n",
       "    }\n",
       "</style>\n",
       "<table border=\"1\" class=\"dataframe\">\n",
       "  <thead>\n",
       "    <tr style=\"text-align: right;\">\n",
       "      <th></th>\n",
       "      <th>consumer_rate_interest_privileged</th>\n",
       "      <th>TARGET</th>\n",
       "    </tr>\n",
       "  </thead>\n",
       "  <tbody>\n",
       "    <tr>\n",
       "      <th>consumer_rate_interest_privileged</th>\n",
       "      <td>1.000000</td>\n",
       "      <td>0.011976</td>\n",
       "    </tr>\n",
       "    <tr>\n",
       "      <th>TARGET</th>\n",
       "      <td>0.011976</td>\n",
       "      <td>1.000000</td>\n",
       "    </tr>\n",
       "  </tbody>\n",
       "</table>\n",
       "</div>"
      ],
      "text/plain": [
       "                                   consumer_rate_interest_privileged    TARGET\n",
       "consumer_rate_interest_privileged                           1.000000  0.011976\n",
       "TARGET                                                      0.011976  1.000000"
      ]
     },
     "execution_count": 44,
     "metadata": {},
     "output_type": "execute_result"
    }
   ],
   "source": [
    "app_train[['consumer_rate_interest_privileged', 'TARGET']].corr()"
   ]
  },
  {
   "cell_type": "code",
   "execution_count": 45,
   "id": "ccd60c24",
   "metadata": {},
   "outputs": [],
   "source": [
    "app_train.drop(['consumer_rate_interest_privileged'], axis=1, inplace=True)\n",
    "app_test.drop(['consumer_rate_interest_privileged'], axis=1, inplace=True)"
   ]
  },
  {
   "cell_type": "code",
   "execution_count": 46,
   "id": "9a5eafa9",
   "metadata": {},
   "outputs": [],
   "source": [
    "### consumer_name_cash_loan_purpose"
   ]
  },
  {
   "cell_type": "code",
   "execution_count": 47,
   "id": "726f5957",
   "metadata": {},
   "outputs": [
    {
     "data": {
      "text/plain": [
       "XAP    29873\n",
       "Name: consumer_name_cash_loan_purpose, dtype: int64"
      ]
     },
     "execution_count": 47,
     "metadata": {},
     "output_type": "execute_result"
    }
   ],
   "source": [
    "app_train['consumer_name_cash_loan_purpose'].value_counts()"
   ]
  },
  {
   "cell_type": "code",
   "execution_count": 48,
   "id": "18dd6720",
   "metadata": {},
   "outputs": [],
   "source": [
    "app_train.drop(['consumer_name_cash_loan_purpose'], axis=1, inplace=True)\n",
    "app_test.drop(['consumer_name_cash_loan_purpose'], axis=1, inplace=True)"
   ]
  },
  {
   "cell_type": "code",
   "execution_count": 49,
   "id": "76fc9f0c",
   "metadata": {},
   "outputs": [],
   "source": [
    "### consumer_name_contract_status"
   ]
  },
  {
   "cell_type": "code",
   "execution_count": 50,
   "id": "9d5ce4bc",
   "metadata": {},
   "outputs": [
    {
     "data": {
      "text/plain": [
       "Approved    29873\n",
       "Name: consumer_name_contract_status, dtype: int64"
      ]
     },
     "execution_count": 50,
     "metadata": {},
     "output_type": "execute_result"
    }
   ],
   "source": [
    "app_train['consumer_name_contract_status'].value_counts()"
   ]
  },
  {
   "cell_type": "code",
   "execution_count": 51,
   "id": "b0a46c85",
   "metadata": {},
   "outputs": [],
   "source": [
    "app_train.drop(['consumer_name_contract_status'], axis=1, inplace=True)\n",
    "app_test.drop(['consumer_name_contract_status'], axis=1, inplace=True)"
   ]
  },
  {
   "cell_type": "code",
   "execution_count": 52,
   "id": "fd77f2c9",
   "metadata": {},
   "outputs": [],
   "source": [
    "### consumer_days_decision"
   ]
  },
  {
   "cell_type": "code",
   "execution_count": 53,
   "id": "6f07f577",
   "metadata": {},
   "outputs": [
    {
     "data": {
      "text/plain": [
       "-133.0     116\n",
       "-126.0     104\n",
       "-316.0     103\n",
       "-161.0     102\n",
       "-308.0     101\n",
       "          ... \n",
       "-1502.0      1\n",
       "-1862.0      1\n",
       "-1425.0      1\n",
       "-802.0       1\n",
       "-2202.0      1\n",
       "Name: consumer_days_decision, Length: 1162, dtype: int64"
      ]
     },
     "execution_count": 53,
     "metadata": {},
     "output_type": "execute_result"
    }
   ],
   "source": [
    "app_train['consumer_days_decision'].value_counts()"
   ]
  },
  {
   "cell_type": "code",
   "execution_count": 54,
   "id": "2fc034e9",
   "metadata": {},
   "outputs": [
    {
     "data": {
      "text/html": [
       "<div>\n",
       "<style scoped>\n",
       "    .dataframe tbody tr th:only-of-type {\n",
       "        vertical-align: middle;\n",
       "    }\n",
       "\n",
       "    .dataframe tbody tr th {\n",
       "        vertical-align: top;\n",
       "    }\n",
       "\n",
       "    .dataframe thead th {\n",
       "        text-align: right;\n",
       "    }\n",
       "</style>\n",
       "<table border=\"1\" class=\"dataframe\">\n",
       "  <thead>\n",
       "    <tr style=\"text-align: right;\">\n",
       "      <th></th>\n",
       "      <th>consumer_days_decision</th>\n",
       "      <th>TARGET</th>\n",
       "    </tr>\n",
       "  </thead>\n",
       "  <tbody>\n",
       "    <tr>\n",
       "      <th>consumer_days_decision</th>\n",
       "      <td>1.000000</td>\n",
       "      <td>0.001393</td>\n",
       "    </tr>\n",
       "    <tr>\n",
       "      <th>TARGET</th>\n",
       "      <td>0.001393</td>\n",
       "      <td>1.000000</td>\n",
       "    </tr>\n",
       "  </tbody>\n",
       "</table>\n",
       "</div>"
      ],
      "text/plain": [
       "                        consumer_days_decision    TARGET\n",
       "consumer_days_decision                1.000000  0.001393\n",
       "TARGET                                0.001393  1.000000"
      ]
     },
     "execution_count": 54,
     "metadata": {},
     "output_type": "execute_result"
    }
   ],
   "source": [
    "app_train[['consumer_days_decision', 'TARGET']].corr()"
   ]
  },
  {
   "cell_type": "code",
   "execution_count": 55,
   "id": "3c4f9206",
   "metadata": {},
   "outputs": [],
   "source": [
    "app_train.drop(['consumer_days_decision'], axis=1, inplace=True)\n",
    "app_test.drop(['consumer_days_decision'], axis=1, inplace=True)"
   ]
  },
  {
   "cell_type": "code",
   "execution_count": 56,
   "id": "16dd42b4",
   "metadata": {},
   "outputs": [],
   "source": [
    "### consumer_name_payment_type"
   ]
  },
  {
   "cell_type": "code",
   "execution_count": 57,
   "id": "9af3ea8d",
   "metadata": {},
   "outputs": [
    {
     "data": {
      "text/plain": [
       "Cash through the bank                        25852\n",
       "XNA                                           3814\n",
       "Non-cash from your account                     191\n",
       "Cashless from the account of the employer       16\n",
       "Name: consumer_name_payment_type, dtype: int64"
      ]
     },
     "execution_count": 57,
     "metadata": {},
     "output_type": "execute_result"
    }
   ],
   "source": [
    "app_train['consumer_name_payment_type'].value_counts()"
   ]
  },
  {
   "cell_type": "code",
   "execution_count": 58,
   "id": "ef3f2766",
   "metadata": {},
   "outputs": [
    {
     "data": {
      "text/plain": [
       "1.0    25852\n",
       "0.0     3814\n",
       "2.0      191\n",
       "3.0       16\n",
       "Name: consumer_name_payment_type, dtype: int64"
      ]
     },
     "execution_count": 58,
     "metadata": {},
     "output_type": "execute_result"
    }
   ],
   "source": [
    "replace_columns = app_train['consumer_name_payment_type'].unique().tolist()\n",
    "replace_columns = ['xxxx' if e == \"NaN\" or type(e) is float and math.isnan(e) else e for e in replace_columns]\n",
    "replace_columns.remove('xxxx')\n",
    "replace_value = [x for x in range(len(replace_columns))]\n",
    "app_train['consumer_name_payment_type'].replace(replace_columns, replace_value, inplace=True)\n",
    "app_test['consumer_name_payment_type'].replace(replace_columns, replace_value, inplace=True)\n",
    "app_train['consumer_name_payment_type'].value_counts()"
   ]
  },
  {
   "cell_type": "code",
   "execution_count": 59,
   "id": "b9a32bdb",
   "metadata": {},
   "outputs": [
    {
     "data": {
      "text/html": [
       "<div>\n",
       "<style scoped>\n",
       "    .dataframe tbody tr th:only-of-type {\n",
       "        vertical-align: middle;\n",
       "    }\n",
       "\n",
       "    .dataframe tbody tr th {\n",
       "        vertical-align: top;\n",
       "    }\n",
       "\n",
       "    .dataframe thead th {\n",
       "        text-align: right;\n",
       "    }\n",
       "</style>\n",
       "<table border=\"1\" class=\"dataframe\">\n",
       "  <thead>\n",
       "    <tr style=\"text-align: right;\">\n",
       "      <th></th>\n",
       "      <th>consumer_name_payment_type</th>\n",
       "      <th>TARGET</th>\n",
       "    </tr>\n",
       "  </thead>\n",
       "  <tbody>\n",
       "    <tr>\n",
       "      <th>consumer_name_payment_type</th>\n",
       "      <td>1.000000</td>\n",
       "      <td>-0.011017</td>\n",
       "    </tr>\n",
       "    <tr>\n",
       "      <th>TARGET</th>\n",
       "      <td>-0.011017</td>\n",
       "      <td>1.000000</td>\n",
       "    </tr>\n",
       "  </tbody>\n",
       "</table>\n",
       "</div>"
      ],
      "text/plain": [
       "                            consumer_name_payment_type    TARGET\n",
       "consumer_name_payment_type                    1.000000 -0.011017\n",
       "TARGET                                       -0.011017  1.000000"
      ]
     },
     "execution_count": 59,
     "metadata": {},
     "output_type": "execute_result"
    }
   ],
   "source": [
    "app_train[['consumer_name_payment_type', 'TARGET']].corr()"
   ]
  },
  {
   "cell_type": "code",
   "execution_count": 60,
   "id": "42ce0fc3",
   "metadata": {},
   "outputs": [],
   "source": [
    "app_train.drop(['consumer_name_payment_type'], axis=1, inplace=True)\n",
    "app_test.drop(['consumer_name_payment_type'], axis=1, inplace=True)"
   ]
  },
  {
   "cell_type": "code",
   "execution_count": 61,
   "id": "d3270dcc",
   "metadata": {},
   "outputs": [],
   "source": [
    "### consumer_code_reject_reason"
   ]
  },
  {
   "cell_type": "code",
   "execution_count": 62,
   "id": "f388ef62",
   "metadata": {},
   "outputs": [
    {
     "data": {
      "text/plain": [
       "XAP    29873\n",
       "Name: consumer_code_reject_reason, dtype: int64"
      ]
     },
     "execution_count": 62,
     "metadata": {},
     "output_type": "execute_result"
    }
   ],
   "source": [
    "app_train['consumer_code_reject_reason'].value_counts()"
   ]
  },
  {
   "cell_type": "code",
   "execution_count": 63,
   "id": "baeb79ff",
   "metadata": {},
   "outputs": [],
   "source": [
    "app_train.drop(['consumer_code_reject_reason'], axis=1, inplace=True)\n",
    "app_test.drop(['consumer_code_reject_reason'], axis=1, inplace=True)"
   ]
  },
  {
   "cell_type": "code",
   "execution_count": 64,
   "id": "6ab8f786",
   "metadata": {},
   "outputs": [],
   "source": [
    "### consumer_name_type_suite"
   ]
  },
  {
   "cell_type": "code",
   "execution_count": 65,
   "id": "363e5ef1",
   "metadata": {},
   "outputs": [
    {
     "data": {
      "text/plain": [
       "Unaccompanied      9141\n",
       "Family             5624\n",
       "Spouse, partner    1408\n",
       "Children            458\n",
       "Other_B             346\n",
       "Other_A             171\n",
       "Group of people      44\n",
       "Name: consumer_name_type_suite, dtype: int64"
      ]
     },
     "execution_count": 65,
     "metadata": {},
     "output_type": "execute_result"
    }
   ],
   "source": [
    "app_train['consumer_name_type_suite'].value_counts()"
   ]
  },
  {
   "cell_type": "code",
   "execution_count": 66,
   "id": "c5aebbb7",
   "metadata": {},
   "outputs": [
    {
     "data": {
      "text/plain": [
       "2.0    9141\n",
       "0.0    5624\n",
       "1.0    1408\n",
       "3.0     458\n",
       "4.0     346\n",
       "5.0     171\n",
       "6.0      44\n",
       "Name: consumer_name_type_suite, dtype: int64"
      ]
     },
     "execution_count": 66,
     "metadata": {},
     "output_type": "execute_result"
    }
   ],
   "source": [
    "replace_columns = app_train['consumer_name_type_suite'].unique().tolist()\n",
    "replace_columns = ['xxxx' if e == \"NaN\" or type(e) is float and math.isnan(e) else e for e in replace_columns]\n",
    "replace_columns.remove('xxxx')\n",
    "replace_value = [x for x in range(len(replace_columns))]\n",
    "app_train['consumer_name_type_suite'].replace(replace_columns, replace_value, inplace=True)\n",
    "app_test['consumer_name_type_suite'].replace(replace_columns, replace_value, inplace=True)\n",
    "app_train['consumer_name_type_suite'].value_counts()"
   ]
  },
  {
   "cell_type": "code",
   "execution_count": 67,
   "id": "9594e609",
   "metadata": {},
   "outputs": [
    {
     "data": {
      "text/html": [
       "<div>\n",
       "<style scoped>\n",
       "    .dataframe tbody tr th:only-of-type {\n",
       "        vertical-align: middle;\n",
       "    }\n",
       "\n",
       "    .dataframe tbody tr th {\n",
       "        vertical-align: top;\n",
       "    }\n",
       "\n",
       "    .dataframe thead th {\n",
       "        text-align: right;\n",
       "    }\n",
       "</style>\n",
       "<table border=\"1\" class=\"dataframe\">\n",
       "  <thead>\n",
       "    <tr style=\"text-align: right;\">\n",
       "      <th></th>\n",
       "      <th>consumer_name_type_suite</th>\n",
       "      <th>TARGET</th>\n",
       "    </tr>\n",
       "  </thead>\n",
       "  <tbody>\n",
       "    <tr>\n",
       "      <th>consumer_name_type_suite</th>\n",
       "      <td>1.000000</td>\n",
       "      <td>0.014575</td>\n",
       "    </tr>\n",
       "    <tr>\n",
       "      <th>TARGET</th>\n",
       "      <td>0.014575</td>\n",
       "      <td>1.000000</td>\n",
       "    </tr>\n",
       "  </tbody>\n",
       "</table>\n",
       "</div>"
      ],
      "text/plain": [
       "                          consumer_name_type_suite    TARGET\n",
       "consumer_name_type_suite                  1.000000  0.014575\n",
       "TARGET                                    0.014575  1.000000"
      ]
     },
     "execution_count": 67,
     "metadata": {},
     "output_type": "execute_result"
    }
   ],
   "source": [
    "app_train[['consumer_name_type_suite', 'TARGET']].corr()"
   ]
  },
  {
   "cell_type": "code",
   "execution_count": 68,
   "id": "8d250542",
   "metadata": {},
   "outputs": [],
   "source": [
    "app_train.drop(['consumer_name_type_suite'], axis=1, inplace=True)\n",
    "app_test.drop(['consumer_name_type_suite'], axis=1, inplace=True)"
   ]
  },
  {
   "cell_type": "code",
   "execution_count": 69,
   "id": "63693844",
   "metadata": {},
   "outputs": [],
   "source": [
    "### consumer_name_client_type"
   ]
  },
  {
   "cell_type": "code",
   "execution_count": 70,
   "id": "63faef28",
   "metadata": {},
   "outputs": [
    {
     "data": {
      "text/plain": [
       "Repeater     18901\n",
       "New           7231\n",
       "Refreshed     3638\n",
       "XNA            103\n",
       "Name: consumer_name_client_type, dtype: int64"
      ]
     },
     "execution_count": 70,
     "metadata": {},
     "output_type": "execute_result"
    }
   ],
   "source": [
    "app_train['consumer_name_client_type'].value_counts()"
   ]
  },
  {
   "cell_type": "code",
   "execution_count": 71,
   "id": "61230ba4",
   "metadata": {},
   "outputs": [
    {
     "data": {
      "text/plain": [
       "1.0    18901\n",
       "0.0     7231\n",
       "2.0     3638\n",
       "3.0      103\n",
       "Name: consumer_name_client_type, dtype: int64"
      ]
     },
     "execution_count": 71,
     "metadata": {},
     "output_type": "execute_result"
    }
   ],
   "source": [
    "replace_columns = app_train['consumer_name_client_type'].unique().tolist()\n",
    "replace_columns = ['xxxx' if e == \"NaN\" or type(e) is float and math.isnan(e) else e for e in replace_columns]\n",
    "replace_columns.remove('xxxx')\n",
    "replace_value = [x for x in range(len(replace_columns))]\n",
    "app_train['consumer_name_client_type'].replace(replace_columns, replace_value, inplace=True)\n",
    "app_test['consumer_name_client_type'].replace(replace_columns, replace_value, inplace=True)\n",
    "app_train['consumer_name_client_type'].value_counts()"
   ]
  },
  {
   "cell_type": "code",
   "execution_count": 72,
   "id": "dad4e2fd",
   "metadata": {},
   "outputs": [
    {
     "data": {
      "text/html": [
       "<div>\n",
       "<style scoped>\n",
       "    .dataframe tbody tr th:only-of-type {\n",
       "        vertical-align: middle;\n",
       "    }\n",
       "\n",
       "    .dataframe tbody tr th {\n",
       "        vertical-align: top;\n",
       "    }\n",
       "\n",
       "    .dataframe thead th {\n",
       "        text-align: right;\n",
       "    }\n",
       "</style>\n",
       "<table border=\"1\" class=\"dataframe\">\n",
       "  <thead>\n",
       "    <tr style=\"text-align: right;\">\n",
       "      <th></th>\n",
       "      <th>consumer_name_client_type</th>\n",
       "      <th>TARGET</th>\n",
       "    </tr>\n",
       "  </thead>\n",
       "  <tbody>\n",
       "    <tr>\n",
       "      <th>consumer_name_client_type</th>\n",
       "      <td>1.00000</td>\n",
       "      <td>-0.05542</td>\n",
       "    </tr>\n",
       "    <tr>\n",
       "      <th>TARGET</th>\n",
       "      <td>-0.05542</td>\n",
       "      <td>1.00000</td>\n",
       "    </tr>\n",
       "  </tbody>\n",
       "</table>\n",
       "</div>"
      ],
      "text/plain": [
       "                           consumer_name_client_type   TARGET\n",
       "consumer_name_client_type                    1.00000 -0.05542\n",
       "TARGET                                      -0.05542  1.00000"
      ]
     },
     "execution_count": 72,
     "metadata": {},
     "output_type": "execute_result"
    }
   ],
   "source": [
    "app_train[['consumer_name_client_type', 'TARGET']].corr()"
   ]
  },
  {
   "cell_type": "code",
   "execution_count": 73,
   "id": "385afe94",
   "metadata": {},
   "outputs": [],
   "source": [
    "### consumer_name_goods_category"
   ]
  },
  {
   "cell_type": "code",
   "execution_count": 74,
   "id": "9b4ea46b",
   "metadata": {},
   "outputs": [
    {
     "data": {
      "text/plain": [
       "Mobile                      5838\n",
       "Consumer Electronics        5399\n",
       "Computers                   4856\n",
       "Audio/Video                 4337\n",
       "Furniture                   2750\n",
       "Clothing and Accessories    1680\n",
       "Construction Materials      1379\n",
       "Jewelry                      633\n",
       "Homewares                    513\n",
       "Auto Accessories             462\n",
       "Photo / Cinema Equipment     441\n",
       "Medical Supplies             440\n",
       "Vehicles                     298\n",
       "Medicine                     168\n",
       "Sport and Leisure            167\n",
       "Gardening                    162\n",
       "Tourism                      128\n",
       "Direct Sales                  89\n",
       "Office Appliances             79\n",
       "Fitness                       20\n",
       "XNA                           16\n",
       "Education                      9\n",
       "Insurance                      3\n",
       "Weapon                         3\n",
       "Other                          2\n",
       "Additional Service             1\n",
       "Name: consumer_name_goods_category, dtype: int64"
      ]
     },
     "execution_count": 74,
     "metadata": {},
     "output_type": "execute_result"
    }
   ],
   "source": [
    "app_train['consumer_name_goods_category'].value_counts()"
   ]
  },
  {
   "cell_type": "code",
   "execution_count": 75,
   "id": "6862773b",
   "metadata": {},
   "outputs": [
    {
     "data": {
      "text/plain": [
       "3.0     5838\n",
       "2.0     5399\n",
       "5.0     4856\n",
       "1.0     4337\n",
       "11.0    2750\n",
       "12.0    1680\n",
       "9.0     1379\n",
       "10.0     633\n",
       "6.0      513\n",
       "13.0     462\n",
       "15.0     441\n",
       "4.0      440\n",
       "0.0      298\n",
       "17.0     168\n",
       "14.0     167\n",
       "16.0     162\n",
       "8.0      128\n",
       "18.0      89\n",
       "7.0       79\n",
       "21.0      20\n",
       "19.0      16\n",
       "20.0       9\n",
       "22.0       3\n",
       "24.0       3\n",
       "23.0       2\n",
       "25.0       1\n",
       "Name: consumer_name_goods_category, dtype: int64"
      ]
     },
     "execution_count": 75,
     "metadata": {},
     "output_type": "execute_result"
    }
   ],
   "source": [
    "replace_columns = app_train['consumer_name_goods_category'].unique().tolist()\n",
    "replace_columns = ['xxxx' if e == \"NaN\" or type(e) is float and math.isnan(e) else e for e in replace_columns]\n",
    "replace_columns.remove('xxxx')\n",
    "replace_value = [x for x in range(len(replace_columns))]\n",
    "app_train['consumer_name_goods_category'].replace(replace_columns, replace_value, inplace=True)\n",
    "app_test['consumer_name_goods_category'].replace(replace_columns, replace_value, inplace=True)\n",
    "app_train['consumer_name_goods_category'].value_counts()"
   ]
  },
  {
   "cell_type": "code",
   "execution_count": 76,
   "id": "cedce1df",
   "metadata": {},
   "outputs": [
    {
     "data": {
      "text/html": [
       "<div>\n",
       "<style scoped>\n",
       "    .dataframe tbody tr th:only-of-type {\n",
       "        vertical-align: middle;\n",
       "    }\n",
       "\n",
       "    .dataframe tbody tr th {\n",
       "        vertical-align: top;\n",
       "    }\n",
       "\n",
       "    .dataframe thead th {\n",
       "        text-align: right;\n",
       "    }\n",
       "</style>\n",
       "<table border=\"1\" class=\"dataframe\">\n",
       "  <thead>\n",
       "    <tr style=\"text-align: right;\">\n",
       "      <th></th>\n",
       "      <th>consumer_name_goods_category</th>\n",
       "      <th>TARGET</th>\n",
       "    </tr>\n",
       "  </thead>\n",
       "  <tbody>\n",
       "    <tr>\n",
       "      <th>consumer_name_goods_category</th>\n",
       "      <td>1.000000</td>\n",
       "      <td>-0.034201</td>\n",
       "    </tr>\n",
       "    <tr>\n",
       "      <th>TARGET</th>\n",
       "      <td>-0.034201</td>\n",
       "      <td>1.000000</td>\n",
       "    </tr>\n",
       "  </tbody>\n",
       "</table>\n",
       "</div>"
      ],
      "text/plain": [
       "                              consumer_name_goods_category    TARGET\n",
       "consumer_name_goods_category                      1.000000 -0.034201\n",
       "TARGET                                           -0.034201  1.000000"
      ]
     },
     "execution_count": 76,
     "metadata": {},
     "output_type": "execute_result"
    }
   ],
   "source": [
    "app_train[['consumer_name_goods_category', 'TARGET']].corr()"
   ]
  },
  {
   "cell_type": "code",
   "execution_count": 77,
   "id": "2beae21b",
   "metadata": {},
   "outputs": [],
   "source": [
    "### consumer_name_portfolio"
   ]
  },
  {
   "cell_type": "code",
   "execution_count": 78,
   "id": "84e13e41",
   "metadata": {},
   "outputs": [
    {
     "data": {
      "text/plain": [
       "POS     29869\n",
       "Cars        4\n",
       "Name: consumer_name_portfolio, dtype: int64"
      ]
     },
     "execution_count": 78,
     "metadata": {},
     "output_type": "execute_result"
    }
   ],
   "source": [
    "app_train['consumer_name_portfolio'].value_counts()"
   ]
  },
  {
   "cell_type": "code",
   "execution_count": 79,
   "id": "a62380b0",
   "metadata": {},
   "outputs": [
    {
     "data": {
      "text/plain": [
       "0.0    29869\n",
       "1.0        4\n",
       "Name: consumer_name_portfolio, dtype: int64"
      ]
     },
     "execution_count": 79,
     "metadata": {},
     "output_type": "execute_result"
    }
   ],
   "source": [
    "replace_columns = app_train['consumer_name_portfolio'].unique().tolist()\n",
    "replace_columns = ['xxxx' if e == \"NaN\" or type(e) is float and math.isnan(e) else e for e in replace_columns]\n",
    "replace_columns.remove('xxxx')\n",
    "replace_value = [x for x in range(len(replace_columns))]\n",
    "app_train['consumer_name_portfolio'].replace(replace_columns, replace_value, inplace=True)\n",
    "app_test['consumer_name_portfolio'].replace(replace_columns, replace_value, inplace=True)\n",
    "app_train['consumer_name_portfolio'].value_counts()"
   ]
  },
  {
   "cell_type": "code",
   "execution_count": 80,
   "id": "7359bd05",
   "metadata": {},
   "outputs": [
    {
     "data": {
      "text/html": [
       "<div>\n",
       "<style scoped>\n",
       "    .dataframe tbody tr th:only-of-type {\n",
       "        vertical-align: middle;\n",
       "    }\n",
       "\n",
       "    .dataframe tbody tr th {\n",
       "        vertical-align: top;\n",
       "    }\n",
       "\n",
       "    .dataframe thead th {\n",
       "        text-align: right;\n",
       "    }\n",
       "</style>\n",
       "<table border=\"1\" class=\"dataframe\">\n",
       "  <thead>\n",
       "    <tr style=\"text-align: right;\">\n",
       "      <th></th>\n",
       "      <th>consumer_name_portfolio</th>\n",
       "      <th>TARGET</th>\n",
       "    </tr>\n",
       "  </thead>\n",
       "  <tbody>\n",
       "    <tr>\n",
       "      <th>consumer_name_portfolio</th>\n",
       "      <td>1.000000</td>\n",
       "      <td>0.006811</td>\n",
       "    </tr>\n",
       "    <tr>\n",
       "      <th>TARGET</th>\n",
       "      <td>0.006811</td>\n",
       "      <td>1.000000</td>\n",
       "    </tr>\n",
       "  </tbody>\n",
       "</table>\n",
       "</div>"
      ],
      "text/plain": [
       "                         consumer_name_portfolio    TARGET\n",
       "consumer_name_portfolio                 1.000000  0.006811\n",
       "TARGET                                  0.006811  1.000000"
      ]
     },
     "execution_count": 80,
     "metadata": {},
     "output_type": "execute_result"
    }
   ],
   "source": [
    "app_train[['consumer_name_portfolio', 'TARGET']].corr()"
   ]
  },
  {
   "cell_type": "code",
   "execution_count": 81,
   "id": "f7364b4a",
   "metadata": {},
   "outputs": [],
   "source": [
    "app_train.drop(['consumer_name_portfolio'], axis=1, inplace=True)\n",
    "app_test.drop(['consumer_name_portfolio'], axis=1, inplace=True)"
   ]
  },
  {
   "cell_type": "code",
   "execution_count": 82,
   "id": "c44d6314",
   "metadata": {},
   "outputs": [],
   "source": [
    "### consumer_name_product_type"
   ]
  },
  {
   "cell_type": "code",
   "execution_count": 83,
   "id": "38af0b09",
   "metadata": {},
   "outputs": [
    {
     "data": {
      "text/plain": [
       "XNA    29873\n",
       "Name: consumer_name_product_type, dtype: int64"
      ]
     },
     "execution_count": 83,
     "metadata": {},
     "output_type": "execute_result"
    }
   ],
   "source": [
    "app_train['consumer_name_product_type'].value_counts()"
   ]
  },
  {
   "cell_type": "code",
   "execution_count": 84,
   "id": "c6421d75",
   "metadata": {},
   "outputs": [],
   "source": [
    "app_train.drop(['consumer_name_product_type'], axis=1, inplace=True)\n",
    "app_test.drop(['consumer_name_product_type'], axis=1, inplace=True)"
   ]
  },
  {
   "cell_type": "code",
   "execution_count": 85,
   "id": "220b4440",
   "metadata": {},
   "outputs": [],
   "source": [
    "### consumer_channel_type"
   ]
  },
  {
   "cell_type": "code",
   "execution_count": 86,
   "id": "56ba7839",
   "metadata": {},
   "outputs": [
    {
     "data": {
      "text/plain": [
       "Country-wide        16189\n",
       "Stone                8149\n",
       "Regional / Local     5531\n",
       "Car dealer              4\n",
       "Name: consumer_channel_type, dtype: int64"
      ]
     },
     "execution_count": 86,
     "metadata": {},
     "output_type": "execute_result"
    }
   ],
   "source": [
    "app_train['consumer_channel_type'].value_counts()"
   ]
  },
  {
   "cell_type": "code",
   "execution_count": 87,
   "id": "362fdb24",
   "metadata": {},
   "outputs": [
    {
     "data": {
      "text/plain": [
       "1.0    16189\n",
       "0.0     8149\n",
       "2.0     5531\n",
       "3.0        4\n",
       "Name: consumer_channel_type, dtype: int64"
      ]
     },
     "execution_count": 87,
     "metadata": {},
     "output_type": "execute_result"
    }
   ],
   "source": [
    "replace_columns = app_train['consumer_channel_type'].unique().tolist()\n",
    "replace_columns = ['xxxx' if e == \"NaN\" or type(e) is float and math.isnan(e) else e for e in replace_columns]\n",
    "replace_columns.remove('xxxx')\n",
    "replace_value = [x for x in range(len(replace_columns))]\n",
    "app_train['consumer_channel_type'].replace(replace_columns, replace_value, inplace=True)\n",
    "app_test['consumer_channel_type'].replace(replace_columns, replace_value, inplace=True)\n",
    "app_train['consumer_channel_type'].value_counts()"
   ]
  },
  {
   "cell_type": "code",
   "execution_count": 88,
   "id": "48131150",
   "metadata": {},
   "outputs": [
    {
     "data": {
      "text/html": [
       "<div>\n",
       "<style scoped>\n",
       "    .dataframe tbody tr th:only-of-type {\n",
       "        vertical-align: middle;\n",
       "    }\n",
       "\n",
       "    .dataframe tbody tr th {\n",
       "        vertical-align: top;\n",
       "    }\n",
       "\n",
       "    .dataframe thead th {\n",
       "        text-align: right;\n",
       "    }\n",
       "</style>\n",
       "<table border=\"1\" class=\"dataframe\">\n",
       "  <thead>\n",
       "    <tr style=\"text-align: right;\">\n",
       "      <th></th>\n",
       "      <th>consumer_channel_type</th>\n",
       "      <th>TARGET</th>\n",
       "    </tr>\n",
       "  </thead>\n",
       "  <tbody>\n",
       "    <tr>\n",
       "      <th>consumer_channel_type</th>\n",
       "      <td>1.000000</td>\n",
       "      <td>0.009283</td>\n",
       "    </tr>\n",
       "    <tr>\n",
       "      <th>TARGET</th>\n",
       "      <td>0.009283</td>\n",
       "      <td>1.000000</td>\n",
       "    </tr>\n",
       "  </tbody>\n",
       "</table>\n",
       "</div>"
      ],
      "text/plain": [
       "                       consumer_channel_type    TARGET\n",
       "consumer_channel_type               1.000000  0.009283\n",
       "TARGET                              0.009283  1.000000"
      ]
     },
     "execution_count": 88,
     "metadata": {},
     "output_type": "execute_result"
    }
   ],
   "source": [
    "app_train[['consumer_channel_type', 'TARGET']].corr()"
   ]
  },
  {
   "cell_type": "code",
   "execution_count": 89,
   "id": "3ddf4f78",
   "metadata": {},
   "outputs": [],
   "source": [
    "app_train.drop(['consumer_channel_type'], axis=1, inplace=True)\n",
    "app_test.drop(['consumer_channel_type'], axis=1, inplace=True)"
   ]
  },
  {
   "cell_type": "code",
   "execution_count": 90,
   "id": "7a627240",
   "metadata": {},
   "outputs": [],
   "source": [
    "### consumer_sellerplace_area"
   ]
  },
  {
   "cell_type": "code",
   "execution_count": 91,
   "id": "bf84d473",
   "metadata": {},
   "outputs": [
    {
     "data": {
      "text/plain": [
       "100.0     2083\n",
       "50.0      1940\n",
       "30.0      1327\n",
       "20.0      1243\n",
       "40.0       998\n",
       "          ... \n",
       "2510.0       1\n",
       "526.0        1\n",
       "632.0        1\n",
       "654.0        1\n",
       "970.0        1\n",
       "Name: consumer_sellerplace_area, Length: 910, dtype: int64"
      ]
     },
     "execution_count": 91,
     "metadata": {},
     "output_type": "execute_result"
    }
   ],
   "source": [
    "app_train['consumer_sellerplace_area'].value_counts()"
   ]
  },
  {
   "cell_type": "code",
   "execution_count": 92,
   "id": "378912a1",
   "metadata": {},
   "outputs": [
    {
     "data": {
      "text/html": [
       "<div>\n",
       "<style scoped>\n",
       "    .dataframe tbody tr th:only-of-type {\n",
       "        vertical-align: middle;\n",
       "    }\n",
       "\n",
       "    .dataframe tbody tr th {\n",
       "        vertical-align: top;\n",
       "    }\n",
       "\n",
       "    .dataframe thead th {\n",
       "        text-align: right;\n",
       "    }\n",
       "</style>\n",
       "<table border=\"1\" class=\"dataframe\">\n",
       "  <thead>\n",
       "    <tr style=\"text-align: right;\">\n",
       "      <th></th>\n",
       "      <th>consumer_sellerplace_area</th>\n",
       "      <th>TARGET</th>\n",
       "    </tr>\n",
       "  </thead>\n",
       "  <tbody>\n",
       "    <tr>\n",
       "      <th>consumer_sellerplace_area</th>\n",
       "      <td>1.000000</td>\n",
       "      <td>-0.000576</td>\n",
       "    </tr>\n",
       "    <tr>\n",
       "      <th>TARGET</th>\n",
       "      <td>-0.000576</td>\n",
       "      <td>1.000000</td>\n",
       "    </tr>\n",
       "  </tbody>\n",
       "</table>\n",
       "</div>"
      ],
      "text/plain": [
       "                           consumer_sellerplace_area    TARGET\n",
       "consumer_sellerplace_area                   1.000000 -0.000576\n",
       "TARGET                                     -0.000576  1.000000"
      ]
     },
     "execution_count": 92,
     "metadata": {},
     "output_type": "execute_result"
    }
   ],
   "source": [
    "app_train[['consumer_sellerplace_area', 'TARGET']].corr()"
   ]
  },
  {
   "cell_type": "code",
   "execution_count": 93,
   "id": "89ae3fe0",
   "metadata": {},
   "outputs": [],
   "source": [
    "app_train.drop(['consumer_sellerplace_area'], axis=1, inplace=True)\n",
    "app_test.drop(['consumer_sellerplace_area'], axis=1, inplace=True)"
   ]
  },
  {
   "cell_type": "code",
   "execution_count": 94,
   "id": "01c41d16",
   "metadata": {},
   "outputs": [],
   "source": [
    "### consumer_name_seller_industry"
   ]
  },
  {
   "cell_type": "code",
   "execution_count": 95,
   "id": "5668f268",
   "metadata": {},
   "outputs": [
    {
     "data": {
      "text/plain": [
       "Consumer electronics    14838\n",
       "Connectivity             6390\n",
       "Furniture                2880\n",
       "Construction             1736\n",
       "Clothing                 1658\n",
       "Industry                  818\n",
       "Auto technology           643\n",
       "Jewelry                   507\n",
       "MLM partners              190\n",
       "XNA                       122\n",
       "Tourism                    91\n",
       "Name: consumer_name_seller_industry, dtype: int64"
      ]
     },
     "execution_count": 95,
     "metadata": {},
     "output_type": "execute_result"
    }
   ],
   "source": [
    "app_train['consumer_name_seller_industry'].value_counts()"
   ]
  },
  {
   "cell_type": "code",
   "execution_count": 96,
   "id": "48a7fd00",
   "metadata": {},
   "outputs": [
    {
     "data": {
      "text/plain": [
       "1.0     14838\n",
       "4.0      6390\n",
       "7.0      2880\n",
       "3.0      1736\n",
       "8.0      1658\n",
       "2.0       818\n",
       "0.0       643\n",
       "6.0       507\n",
       "9.0       190\n",
       "10.0      122\n",
       "5.0        91\n",
       "Name: consumer_name_seller_industry, dtype: int64"
      ]
     },
     "execution_count": 96,
     "metadata": {},
     "output_type": "execute_result"
    }
   ],
   "source": [
    "replace_columns = app_train['consumer_name_seller_industry'].unique().tolist()\n",
    "replace_columns = ['xxxx' if e == \"NaN\" or type(e) is float and math.isnan(e) else e for e in replace_columns]\n",
    "replace_columns.remove('xxxx')\n",
    "replace_value = [x for x in range(len(replace_columns))]\n",
    "app_train['consumer_name_seller_industry'].replace(replace_columns, replace_value, inplace=True)\n",
    "app_test['consumer_name_seller_industry'].replace(replace_columns, replace_value, inplace=True)\n",
    "app_train['consumer_name_seller_industry'].value_counts()"
   ]
  },
  {
   "cell_type": "code",
   "execution_count": 97,
   "id": "983420dc",
   "metadata": {},
   "outputs": [
    {
     "data": {
      "text/html": [
       "<div>\n",
       "<style scoped>\n",
       "    .dataframe tbody tr th:only-of-type {\n",
       "        vertical-align: middle;\n",
       "    }\n",
       "\n",
       "    .dataframe tbody tr th {\n",
       "        vertical-align: top;\n",
       "    }\n",
       "\n",
       "    .dataframe thead th {\n",
       "        text-align: right;\n",
       "    }\n",
       "</style>\n",
       "<table border=\"1\" class=\"dataframe\">\n",
       "  <thead>\n",
       "    <tr style=\"text-align: right;\">\n",
       "      <th></th>\n",
       "      <th>consumer_name_seller_industry</th>\n",
       "      <th>TARGET</th>\n",
       "    </tr>\n",
       "  </thead>\n",
       "  <tbody>\n",
       "    <tr>\n",
       "      <th>consumer_name_seller_industry</th>\n",
       "      <td>1.000000</td>\n",
       "      <td>-0.020888</td>\n",
       "    </tr>\n",
       "    <tr>\n",
       "      <th>TARGET</th>\n",
       "      <td>-0.020888</td>\n",
       "      <td>1.000000</td>\n",
       "    </tr>\n",
       "  </tbody>\n",
       "</table>\n",
       "</div>"
      ],
      "text/plain": [
       "                               consumer_name_seller_industry    TARGET\n",
       "consumer_name_seller_industry                       1.000000 -0.020888\n",
       "TARGET                                             -0.020888  1.000000"
      ]
     },
     "execution_count": 97,
     "metadata": {},
     "output_type": "execute_result"
    }
   ],
   "source": [
    "app_train[['consumer_name_seller_industry', 'TARGET']].corr()"
   ]
  },
  {
   "cell_type": "code",
   "execution_count": 98,
   "id": "299fa398",
   "metadata": {},
   "outputs": [],
   "source": [
    "### consumer_cnt_payment"
   ]
  },
  {
   "cell_type": "code",
   "execution_count": 99,
   "id": "d873ba7c",
   "metadata": {},
   "outputs": [
    {
     "data": {
      "text/plain": [
       "12.0    10472\n",
       "24.0     6007\n",
       "10.0     4762\n",
       "6.0      4000\n",
       "18.0     2010\n",
       "36.0      808\n",
       "8.0       704\n",
       "4.0       405\n",
       "16.0      273\n",
       "14.0      169\n",
       "30.0      161\n",
       "20.0       73\n",
       "9.0         6\n",
       "5.0         5\n",
       "7.0         3\n",
       "48.0        3\n",
       "22.0        2\n",
       "13.0        2\n",
       "23.0        2\n",
       "3.0         1\n",
       "72.0        1\n",
       "35.0        1\n",
       "11.0        1\n",
       "60.0        1\n",
       "29.0        1\n",
       "Name: consumer_cnt_payment, dtype: int64"
      ]
     },
     "execution_count": 99,
     "metadata": {},
     "output_type": "execute_result"
    }
   ],
   "source": [
    "app_train['consumer_cnt_payment'].value_counts()"
   ]
  },
  {
   "cell_type": "code",
   "execution_count": 100,
   "id": "af96dab6",
   "metadata": {},
   "outputs": [
    {
     "data": {
      "text/html": [
       "<div>\n",
       "<style scoped>\n",
       "    .dataframe tbody tr th:only-of-type {\n",
       "        vertical-align: middle;\n",
       "    }\n",
       "\n",
       "    .dataframe tbody tr th {\n",
       "        vertical-align: top;\n",
       "    }\n",
       "\n",
       "    .dataframe thead th {\n",
       "        text-align: right;\n",
       "    }\n",
       "</style>\n",
       "<table border=\"1\" class=\"dataframe\">\n",
       "  <thead>\n",
       "    <tr style=\"text-align: right;\">\n",
       "      <th></th>\n",
       "      <th>consumer_cnt_payment</th>\n",
       "      <th>TARGET</th>\n",
       "    </tr>\n",
       "  </thead>\n",
       "  <tbody>\n",
       "    <tr>\n",
       "      <th>consumer_cnt_payment</th>\n",
       "      <td>1.00000</td>\n",
       "      <td>0.01656</td>\n",
       "    </tr>\n",
       "    <tr>\n",
       "      <th>TARGET</th>\n",
       "      <td>0.01656</td>\n",
       "      <td>1.00000</td>\n",
       "    </tr>\n",
       "  </tbody>\n",
       "</table>\n",
       "</div>"
      ],
      "text/plain": [
       "                      consumer_cnt_payment   TARGET\n",
       "consumer_cnt_payment               1.00000  0.01656\n",
       "TARGET                             0.01656  1.00000"
      ]
     },
     "execution_count": 100,
     "metadata": {},
     "output_type": "execute_result"
    }
   ],
   "source": [
    "app_train[['consumer_cnt_payment', 'TARGET']].corr()"
   ]
  },
  {
   "cell_type": "code",
   "execution_count": 101,
   "id": "d0903391",
   "metadata": {},
   "outputs": [],
   "source": [
    "app_train.drop(['consumer_cnt_payment'], axis=1, inplace=True)\n",
    "app_test.drop(['consumer_cnt_payment'], axis=1, inplace=True)"
   ]
  },
  {
   "cell_type": "code",
   "execution_count": 102,
   "id": "6afe2a82",
   "metadata": {},
   "outputs": [],
   "source": [
    "### consumer_name_yield_group"
   ]
  },
  {
   "cell_type": "code",
   "execution_count": 103,
   "id": "5af13231",
   "metadata": {},
   "outputs": [
    {
     "data": {
      "text/plain": [
       "middle        10286\n",
       "low_normal    10181\n",
       "low_action     6018\n",
       "high           3388\n",
       "Name: consumer_name_yield_group, dtype: int64"
      ]
     },
     "execution_count": 103,
     "metadata": {},
     "output_type": "execute_result"
    }
   ],
   "source": [
    "app_train['consumer_name_yield_group'].value_counts()"
   ]
  },
  {
   "cell_type": "code",
   "execution_count": 104,
   "id": "b6a78a32",
   "metadata": {},
   "outputs": [
    {
     "data": {
      "text/plain": [
       "2.0    10286\n",
       "0.0    10181\n",
       "3.0     6018\n",
       "1.0     3388\n",
       "Name: consumer_name_yield_group, dtype: int64"
      ]
     },
     "execution_count": 104,
     "metadata": {},
     "output_type": "execute_result"
    }
   ],
   "source": [
    "replace_columns = app_train['consumer_name_yield_group'].unique().tolist()\n",
    "replace_columns = ['xxxx' if e == \"NaN\" or type(e) is float and math.isnan(e) else e for e in replace_columns]\n",
    "replace_columns.remove('xxxx')\n",
    "replace_value = [x for x in range(len(replace_columns))]\n",
    "app_train['consumer_name_yield_group'].replace(replace_columns, replace_value, inplace=True)\n",
    "app_test['consumer_name_yield_group'].replace(replace_columns, replace_value, inplace=True)\n",
    "app_train['consumer_name_yield_group'].value_counts()"
   ]
  },
  {
   "cell_type": "code",
   "execution_count": 105,
   "id": "d1607b9a",
   "metadata": {},
   "outputs": [
    {
     "data": {
      "text/html": [
       "<div>\n",
       "<style scoped>\n",
       "    .dataframe tbody tr th:only-of-type {\n",
       "        vertical-align: middle;\n",
       "    }\n",
       "\n",
       "    .dataframe tbody tr th {\n",
       "        vertical-align: top;\n",
       "    }\n",
       "\n",
       "    .dataframe thead th {\n",
       "        text-align: right;\n",
       "    }\n",
       "</style>\n",
       "<table border=\"1\" class=\"dataframe\">\n",
       "  <thead>\n",
       "    <tr style=\"text-align: right;\">\n",
       "      <th></th>\n",
       "      <th>consumer_name_yield_group</th>\n",
       "      <th>TARGET</th>\n",
       "    </tr>\n",
       "  </thead>\n",
       "  <tbody>\n",
       "    <tr>\n",
       "      <th>consumer_name_yield_group</th>\n",
       "      <td>1.000000</td>\n",
       "      <td>-0.002245</td>\n",
       "    </tr>\n",
       "    <tr>\n",
       "      <th>TARGET</th>\n",
       "      <td>-0.002245</td>\n",
       "      <td>1.000000</td>\n",
       "    </tr>\n",
       "  </tbody>\n",
       "</table>\n",
       "</div>"
      ],
      "text/plain": [
       "                           consumer_name_yield_group    TARGET\n",
       "consumer_name_yield_group                   1.000000 -0.002245\n",
       "TARGET                                     -0.002245  1.000000"
      ]
     },
     "execution_count": 105,
     "metadata": {},
     "output_type": "execute_result"
    }
   ],
   "source": [
    "app_train[['consumer_name_yield_group', 'TARGET']].corr()"
   ]
  },
  {
   "cell_type": "code",
   "execution_count": 106,
   "id": "7442bad7",
   "metadata": {},
   "outputs": [],
   "source": [
    "app_train.drop(['consumer_name_yield_group'], axis=1, inplace=True)\n",
    "app_test.drop(['consumer_name_yield_group'], axis=1, inplace=True)"
   ]
  },
  {
   "cell_type": "code",
   "execution_count": 107,
   "id": "28888c05",
   "metadata": {},
   "outputs": [],
   "source": [
    "### consumer_product_combination"
   ]
  },
  {
   "cell_type": "code",
   "execution_count": 108,
   "id": "07bd55d8",
   "metadata": {},
   "outputs": [
    {
     "data": {
      "text/plain": [
       "POS household with interest       9826\n",
       "POS industry with interest        5568\n",
       "POS household without interest    4875\n",
       "POS mobile with interest          4813\n",
       "POS mobile without interest       1780\n",
       "POS other with interest           1756\n",
       "POS industry without interest      919\n",
       "POS others without interest        336\n",
       "Name: consumer_product_combination, dtype: int64"
      ]
     },
     "execution_count": 108,
     "metadata": {},
     "output_type": "execute_result"
    }
   ],
   "source": [
    "app_train['consumer_product_combination'].value_counts()"
   ]
  },
  {
   "cell_type": "code",
   "execution_count": 109,
   "id": "8ea8fc51",
   "metadata": {},
   "outputs": [
    {
     "data": {
      "text/plain": [
       "1.0    9826\n",
       "4.0    5568\n",
       "3.0    4875\n",
       "6.0    4813\n",
       "5.0    1780\n",
       "0.0    1756\n",
       "7.0     919\n",
       "2.0     336\n",
       "Name: consumer_product_combination, dtype: int64"
      ]
     },
     "execution_count": 109,
     "metadata": {},
     "output_type": "execute_result"
    }
   ],
   "source": [
    "replace_columns = app_train['consumer_product_combination'].unique().tolist()\n",
    "replace_columns = ['xxxx' if e == \"NaN\" or type(e) is float and math.isnan(e) else e for e in replace_columns]\n",
    "replace_columns.remove('xxxx')\n",
    "replace_value = [x for x in range(len(replace_columns))]\n",
    "app_train['consumer_product_combination'].replace(replace_columns, replace_value, inplace=True)\n",
    "app_test['consumer_product_combination'].replace(replace_columns, replace_value, inplace=True)\n",
    "app_train['consumer_product_combination'].value_counts()"
   ]
  },
  {
   "cell_type": "code",
   "execution_count": 110,
   "id": "6c70dc28",
   "metadata": {},
   "outputs": [
    {
     "data": {
      "text/html": [
       "<div>\n",
       "<style scoped>\n",
       "    .dataframe tbody tr th:only-of-type {\n",
       "        vertical-align: middle;\n",
       "    }\n",
       "\n",
       "    .dataframe tbody tr th {\n",
       "        vertical-align: top;\n",
       "    }\n",
       "\n",
       "    .dataframe thead th {\n",
       "        text-align: right;\n",
       "    }\n",
       "</style>\n",
       "<table border=\"1\" class=\"dataframe\">\n",
       "  <thead>\n",
       "    <tr style=\"text-align: right;\">\n",
       "      <th></th>\n",
       "      <th>consumer_product_combination</th>\n",
       "      <th>TARGET</th>\n",
       "    </tr>\n",
       "  </thead>\n",
       "  <tbody>\n",
       "    <tr>\n",
       "      <th>consumer_product_combination</th>\n",
       "      <td>1.000000</td>\n",
       "      <td>0.003334</td>\n",
       "    </tr>\n",
       "    <tr>\n",
       "      <th>TARGET</th>\n",
       "      <td>0.003334</td>\n",
       "      <td>1.000000</td>\n",
       "    </tr>\n",
       "  </tbody>\n",
       "</table>\n",
       "</div>"
      ],
      "text/plain": [
       "                              consumer_product_combination    TARGET\n",
       "consumer_product_combination                      1.000000  0.003334\n",
       "TARGET                                            0.003334  1.000000"
      ]
     },
     "execution_count": 110,
     "metadata": {},
     "output_type": "execute_result"
    }
   ],
   "source": [
    "app_train[['consumer_product_combination', 'TARGET']].corr()"
   ]
  },
  {
   "cell_type": "code",
   "execution_count": 111,
   "id": "5dae33c1",
   "metadata": {},
   "outputs": [],
   "source": [
    "app_train.drop(['consumer_product_combination'], axis=1, inplace=True)\n",
    "app_test.drop(['consumer_product_combination'], axis=1, inplace=True)"
   ]
  },
  {
   "cell_type": "code",
   "execution_count": 112,
   "id": "f8a83a57",
   "metadata": {},
   "outputs": [],
   "source": [
    "### consumer_days_first_drawing"
   ]
  },
  {
   "cell_type": "code",
   "execution_count": 113,
   "id": "37da88cf",
   "metadata": {},
   "outputs": [
    {
     "data": {
      "text/plain": [
       "365243.0    29854\n",
       "Name: consumer_days_first_drawing, dtype: int64"
      ]
     },
     "execution_count": 113,
     "metadata": {},
     "output_type": "execute_result"
    }
   ],
   "source": [
    "app_train['consumer_days_first_drawing'].value_counts()"
   ]
  },
  {
   "cell_type": "code",
   "execution_count": 114,
   "id": "d8e194f2",
   "metadata": {},
   "outputs": [],
   "source": [
    "app_train.drop(['consumer_days_first_drawing'], axis=1, inplace=True)\n",
    "app_test.drop(['consumer_days_first_drawing'], axis=1, inplace=True)"
   ]
  },
  {
   "cell_type": "code",
   "execution_count": 115,
   "id": "92f9b445",
   "metadata": {},
   "outputs": [],
   "source": [
    "### consumer_days_first_due"
   ]
  },
  {
   "cell_type": "code",
   "execution_count": 116,
   "id": "4ecca965",
   "metadata": {},
   "outputs": [
    {
     "data": {
      "text/plain": [
       "-103.0     120\n",
       "-124.0     114\n",
       "-94.0      111\n",
       "-277.0     109\n",
       "-250.0     107\n",
       "          ... \n",
       "-787.0       1\n",
       "-2619.0      1\n",
       "-1588.0      1\n",
       "-1295.0      1\n",
       "-2470.0      1\n",
       "Name: consumer_days_first_due, Length: 1131, dtype: int64"
      ]
     },
     "execution_count": 116,
     "metadata": {},
     "output_type": "execute_result"
    }
   ],
   "source": [
    "app_train['consumer_days_first_due'].value_counts()"
   ]
  },
  {
   "cell_type": "code",
   "execution_count": 117,
   "id": "7272f1a2",
   "metadata": {},
   "outputs": [],
   "source": [
    "#app_train['consumer_days_first_due'] = pd.cut(app_train['consumer_days_first_due'], bins=100, labels=False)\n",
    "#app_test['consumer_days_first_due'] =  pd.cut(app_test['consumer_days_first_due'], bins=100, labels=False)"
   ]
  },
  {
   "cell_type": "code",
   "execution_count": 118,
   "id": "0246307d",
   "metadata": {},
   "outputs": [],
   "source": [
    "#%matplotlib inline\n",
    "#sns.countplot(x='consumer_days_first_due', hue='TARGET', data=app_train)\n",
    "#plt.legend(loc='upper right', title='TARGET')\n",
    "#plt.show()"
   ]
  },
  {
   "cell_type": "code",
   "execution_count": 119,
   "id": "a31870ce",
   "metadata": {},
   "outputs": [
    {
     "data": {
      "text/html": [
       "<div>\n",
       "<style scoped>\n",
       "    .dataframe tbody tr th:only-of-type {\n",
       "        vertical-align: middle;\n",
       "    }\n",
       "\n",
       "    .dataframe tbody tr th {\n",
       "        vertical-align: top;\n",
       "    }\n",
       "\n",
       "    .dataframe thead th {\n",
       "        text-align: right;\n",
       "    }\n",
       "</style>\n",
       "<table border=\"1\" class=\"dataframe\">\n",
       "  <thead>\n",
       "    <tr style=\"text-align: right;\">\n",
       "      <th></th>\n",
       "      <th>consumer_days_first_due</th>\n",
       "      <th>TARGET</th>\n",
       "    </tr>\n",
       "  </thead>\n",
       "  <tbody>\n",
       "    <tr>\n",
       "      <th>consumer_days_first_due</th>\n",
       "      <td>1.0000</td>\n",
       "      <td>-0.0052</td>\n",
       "    </tr>\n",
       "    <tr>\n",
       "      <th>TARGET</th>\n",
       "      <td>-0.0052</td>\n",
       "      <td>1.0000</td>\n",
       "    </tr>\n",
       "  </tbody>\n",
       "</table>\n",
       "</div>"
      ],
      "text/plain": [
       "                         consumer_days_first_due  TARGET\n",
       "consumer_days_first_due                   1.0000 -0.0052\n",
       "TARGET                                   -0.0052  1.0000"
      ]
     },
     "execution_count": 119,
     "metadata": {},
     "output_type": "execute_result"
    }
   ],
   "source": [
    "app_train[['consumer_days_first_due', 'TARGET']].corr()"
   ]
  },
  {
   "cell_type": "code",
   "execution_count": 120,
   "id": "64d59130",
   "metadata": {},
   "outputs": [],
   "source": [
    "app_train.drop(['consumer_days_first_due'], axis=1, inplace=True)\n",
    "app_test.drop(['consumer_days_first_due'], axis=1, inplace=True)"
   ]
  },
  {
   "cell_type": "code",
   "execution_count": 121,
   "id": "47fa8677",
   "metadata": {},
   "outputs": [],
   "source": [
    "### consumer_days_last_due_1st_version"
   ]
  },
  {
   "cell_type": "code",
   "execution_count": 122,
   "id": "1e8fdebe",
   "metadata": {},
   "outputs": [
    {
     "data": {
      "text/plain": [
       " 26.0      152\n",
       " 22.0      141\n",
       "-8.0       135\n",
       "-6.0       133\n",
       "-10.0      132\n",
       "          ... \n",
       " 781.0       1\n",
       "-2349.0      1\n",
       "-1318.0      1\n",
       "-785.0       1\n",
       " 905.0       1\n",
       "Name: consumer_days_last_due_1st_version, Length: 1246, dtype: int64"
      ]
     },
     "execution_count": 122,
     "metadata": {},
     "output_type": "execute_result"
    }
   ],
   "source": [
    "app_train['consumer_days_last_due_1st_version'].value_counts()"
   ]
  },
  {
   "cell_type": "code",
   "execution_count": 123,
   "id": "f492ddb8",
   "metadata": {},
   "outputs": [
    {
     "data": {
      "text/html": [
       "<div>\n",
       "<style scoped>\n",
       "    .dataframe tbody tr th:only-of-type {\n",
       "        vertical-align: middle;\n",
       "    }\n",
       "\n",
       "    .dataframe tbody tr th {\n",
       "        vertical-align: top;\n",
       "    }\n",
       "\n",
       "    .dataframe thead th {\n",
       "        text-align: right;\n",
       "    }\n",
       "</style>\n",
       "<table border=\"1\" class=\"dataframe\">\n",
       "  <thead>\n",
       "    <tr style=\"text-align: right;\">\n",
       "      <th></th>\n",
       "      <th>consumer_days_last_due_1st_version</th>\n",
       "      <th>TARGET</th>\n",
       "    </tr>\n",
       "  </thead>\n",
       "  <tbody>\n",
       "    <tr>\n",
       "      <th>consumer_days_last_due_1st_version</th>\n",
       "      <td>1.000000</td>\n",
       "      <td>0.015037</td>\n",
       "    </tr>\n",
       "    <tr>\n",
       "      <th>TARGET</th>\n",
       "      <td>0.015037</td>\n",
       "      <td>1.000000</td>\n",
       "    </tr>\n",
       "  </tbody>\n",
       "</table>\n",
       "</div>"
      ],
      "text/plain": [
       "                                    consumer_days_last_due_1st_version  \\\n",
       "consumer_days_last_due_1st_version                            1.000000   \n",
       "TARGET                                                        0.015037   \n",
       "\n",
       "                                      TARGET  \n",
       "consumer_days_last_due_1st_version  0.015037  \n",
       "TARGET                              1.000000  "
      ]
     },
     "execution_count": 123,
     "metadata": {},
     "output_type": "execute_result"
    }
   ],
   "source": [
    "app_train[['consumer_days_last_due_1st_version', 'TARGET']].corr()"
   ]
  },
  {
   "cell_type": "code",
   "execution_count": 124,
   "id": "6345d155",
   "metadata": {},
   "outputs": [],
   "source": [
    "app_train.drop(['consumer_days_last_due_1st_version'], axis=1, inplace=True)\n",
    "app_test.drop(['consumer_days_last_due_1st_version'], axis=1, inplace=True)"
   ]
  },
  {
   "cell_type": "code",
   "execution_count": 125,
   "id": "5f7e937f",
   "metadata": {},
   "outputs": [],
   "source": [
    "### consumer_days_last_due"
   ]
  },
  {
   "cell_type": "code",
   "execution_count": 126,
   "id": "00158282",
   "metadata": {},
   "outputs": [
    {
     "data": {
      "text/plain": [
       " 365243.0    23147\n",
       "-9.0           225\n",
       "-10.0          222\n",
       "-8.0           222\n",
       "-7.0           217\n",
       "             ...  \n",
       "-2197.0          1\n",
       "-209.0           1\n",
       "-2238.0          1\n",
       "-1600.0          1\n",
       "-2019.0          1\n",
       "Name: consumer_days_last_due, Length: 373, dtype: int64"
      ]
     },
     "execution_count": 126,
     "metadata": {},
     "output_type": "execute_result"
    }
   ],
   "source": [
    "app_train['consumer_days_last_due'].value_counts()"
   ]
  },
  {
   "cell_type": "code",
   "execution_count": 127,
   "id": "ab7e2caf",
   "metadata": {},
   "outputs": [
    {
     "data": {
      "text/html": [
       "<div>\n",
       "<style scoped>\n",
       "    .dataframe tbody tr th:only-of-type {\n",
       "        vertical-align: middle;\n",
       "    }\n",
       "\n",
       "    .dataframe tbody tr th {\n",
       "        vertical-align: top;\n",
       "    }\n",
       "\n",
       "    .dataframe thead th {\n",
       "        text-align: right;\n",
       "    }\n",
       "</style>\n",
       "<table border=\"1\" class=\"dataframe\">\n",
       "  <thead>\n",
       "    <tr style=\"text-align: right;\">\n",
       "      <th></th>\n",
       "      <th>consumer_days_last_due</th>\n",
       "      <th>TARGET</th>\n",
       "    </tr>\n",
       "  </thead>\n",
       "  <tbody>\n",
       "    <tr>\n",
       "      <th>consumer_days_last_due</th>\n",
       "      <td>1.000000</td>\n",
       "      <td>0.020346</td>\n",
       "    </tr>\n",
       "    <tr>\n",
       "      <th>TARGET</th>\n",
       "      <td>0.020346</td>\n",
       "      <td>1.000000</td>\n",
       "    </tr>\n",
       "  </tbody>\n",
       "</table>\n",
       "</div>"
      ],
      "text/plain": [
       "                        consumer_days_last_due    TARGET\n",
       "consumer_days_last_due                1.000000  0.020346\n",
       "TARGET                                0.020346  1.000000"
      ]
     },
     "execution_count": 127,
     "metadata": {},
     "output_type": "execute_result"
    }
   ],
   "source": [
    "app_train[['consumer_days_last_due', 'TARGET']].corr()"
   ]
  },
  {
   "cell_type": "code",
   "execution_count": 128,
   "id": "830ab9bb",
   "metadata": {},
   "outputs": [],
   "source": [
    "### consumer_days_termination"
   ]
  },
  {
   "cell_type": "code",
   "execution_count": 129,
   "id": "34f02406",
   "metadata": {},
   "outputs": [
    {
     "data": {
      "text/plain": [
       " 365243.0    24327\n",
       "-4.0           247\n",
       "-9.0           239\n",
       "-3.0           234\n",
       "-2.0           228\n",
       "             ...  \n",
       "-1696.0          1\n",
       "-1511.0          1\n",
       "-1724.0          1\n",
       "-1507.0          1\n",
       "-167.0           1\n",
       "Name: consumer_days_termination, Length: 192, dtype: int64"
      ]
     },
     "execution_count": 129,
     "metadata": {},
     "output_type": "execute_result"
    }
   ],
   "source": [
    "app_train['consumer_days_termination'].value_counts()"
   ]
  },
  {
   "cell_type": "code",
   "execution_count": 130,
   "id": "9d723595",
   "metadata": {},
   "outputs": [
    {
     "data": {
      "text/html": [
       "<div>\n",
       "<style scoped>\n",
       "    .dataframe tbody tr th:only-of-type {\n",
       "        vertical-align: middle;\n",
       "    }\n",
       "\n",
       "    .dataframe tbody tr th {\n",
       "        vertical-align: top;\n",
       "    }\n",
       "\n",
       "    .dataframe thead th {\n",
       "        text-align: right;\n",
       "    }\n",
       "</style>\n",
       "<table border=\"1\" class=\"dataframe\">\n",
       "  <thead>\n",
       "    <tr style=\"text-align: right;\">\n",
       "      <th></th>\n",
       "      <th>consumer_days_termination</th>\n",
       "      <th>TARGET</th>\n",
       "    </tr>\n",
       "  </thead>\n",
       "  <tbody>\n",
       "    <tr>\n",
       "      <th>consumer_days_termination</th>\n",
       "      <td>1.00000</td>\n",
       "      <td>0.01638</td>\n",
       "    </tr>\n",
       "    <tr>\n",
       "      <th>TARGET</th>\n",
       "      <td>0.01638</td>\n",
       "      <td>1.00000</td>\n",
       "    </tr>\n",
       "  </tbody>\n",
       "</table>\n",
       "</div>"
      ],
      "text/plain": [
       "                           consumer_days_termination   TARGET\n",
       "consumer_days_termination                    1.00000  0.01638\n",
       "TARGET                                       0.01638  1.00000"
      ]
     },
     "execution_count": 130,
     "metadata": {},
     "output_type": "execute_result"
    }
   ],
   "source": [
    "app_train[['consumer_days_termination', 'TARGET']].corr()"
   ]
  },
  {
   "cell_type": "code",
   "execution_count": 131,
   "id": "bf8bc34a",
   "metadata": {},
   "outputs": [],
   "source": [
    "app_train.drop(['consumer_days_termination'], axis=1, inplace=True)\n",
    "app_test.drop(['consumer_days_termination'], axis=1, inplace=True)"
   ]
  },
  {
   "cell_type": "code",
   "execution_count": 132,
   "id": "6cf0d283",
   "metadata": {},
   "outputs": [],
   "source": [
    "### consumer_nflag_insured_on_approval"
   ]
  },
  {
   "cell_type": "code",
   "execution_count": 133,
   "id": "2d2db2f3",
   "metadata": {},
   "outputs": [
    {
     "data": {
      "text/plain": [
       "0.0    22443\n",
       "1.0     7411\n",
       "Name: consumer_nflag_insured_on_approval, dtype: int64"
      ]
     },
     "execution_count": 133,
     "metadata": {},
     "output_type": "execute_result"
    }
   ],
   "source": [
    "app_train['consumer_nflag_insured_on_approval'].value_counts()"
   ]
  },
  {
   "cell_type": "code",
   "execution_count": 134,
   "id": "6b5c92d4",
   "metadata": {},
   "outputs": [
    {
     "data": {
      "text/html": [
       "<div>\n",
       "<style scoped>\n",
       "    .dataframe tbody tr th:only-of-type {\n",
       "        vertical-align: middle;\n",
       "    }\n",
       "\n",
       "    .dataframe tbody tr th {\n",
       "        vertical-align: top;\n",
       "    }\n",
       "\n",
       "    .dataframe thead th {\n",
       "        text-align: right;\n",
       "    }\n",
       "</style>\n",
       "<table border=\"1\" class=\"dataframe\">\n",
       "  <thead>\n",
       "    <tr style=\"text-align: right;\">\n",
       "      <th></th>\n",
       "      <th>consumer_nflag_insured_on_approval</th>\n",
       "      <th>TARGET</th>\n",
       "    </tr>\n",
       "  </thead>\n",
       "  <tbody>\n",
       "    <tr>\n",
       "      <th>consumer_nflag_insured_on_approval</th>\n",
       "      <td>1.000000</td>\n",
       "      <td>0.011647</td>\n",
       "    </tr>\n",
       "    <tr>\n",
       "      <th>TARGET</th>\n",
       "      <td>0.011647</td>\n",
       "      <td>1.000000</td>\n",
       "    </tr>\n",
       "  </tbody>\n",
       "</table>\n",
       "</div>"
      ],
      "text/plain": [
       "                                    consumer_nflag_insured_on_approval  \\\n",
       "consumer_nflag_insured_on_approval                            1.000000   \n",
       "TARGET                                                        0.011647   \n",
       "\n",
       "                                      TARGET  \n",
       "consumer_nflag_insured_on_approval  0.011647  \n",
       "TARGET                              1.000000  "
      ]
     },
     "execution_count": 134,
     "metadata": {},
     "output_type": "execute_result"
    }
   ],
   "source": [
    "app_train[['consumer_nflag_insured_on_approval', 'TARGET']].corr()"
   ]
  },
  {
   "cell_type": "code",
   "execution_count": 135,
   "id": "2fe37c79",
   "metadata": {},
   "outputs": [],
   "source": [
    "app_train.drop(['consumer_nflag_insured_on_approval'], axis=1, inplace=True)\n",
    "app_test.drop(['consumer_nflag_insured_on_approval'], axis=1, inplace=True)"
   ]
  },
  {
   "cell_type": "code",
   "execution_count": 136,
   "id": "ed4ddaca",
   "metadata": {},
   "outputs": [],
   "source": [
    "### consumer_max_sk_dpd"
   ]
  },
  {
   "cell_type": "code",
   "execution_count": 137,
   "id": "39f33203",
   "metadata": {},
   "outputs": [
    {
     "data": {
      "text/plain": [
       "0.0       29480\n",
       "1.0          51\n",
       "2.0          45\n",
       "3.0          31\n",
       "5.0          27\n",
       "          ...  \n",
       "1488.0        1\n",
       "31.0          1\n",
       "2110.0        1\n",
       "2115.0        1\n",
       "27.0          1\n",
       "Name: consumer_max_sk_dpd, Length: 172, dtype: int64"
      ]
     },
     "execution_count": 137,
     "metadata": {},
     "output_type": "execute_result"
    }
   ],
   "source": [
    "app_train['consumer_max_sk_dpd'].value_counts()"
   ]
  },
  {
   "cell_type": "code",
   "execution_count": 138,
   "id": "d21625e4",
   "metadata": {},
   "outputs": [],
   "source": [
    "app_train['consumer_max_sk_dpd'] = pd.cut(app_train['consumer_max_sk_dpd'], bins=5, labels=False)\n",
    "app_test['consumer_max_sk_dpd'] =  pd.cut(app_test['consumer_max_sk_dpd'], bins=5, labels=False)"
   ]
  },
  {
   "cell_type": "code",
   "execution_count": 139,
   "id": "016e99be",
   "metadata": {},
   "outputs": [
    {
     "data": {
      "image/png": "[encoded data removed]",
      "text/plain": [
       "<Figure size 432x288 with 1 Axes>"
      ]
     },
     "metadata": {
      "needs_background": "light"
     },
     "output_type": "display_data"
    }
   ],
   "source": [
    "%matplotlib inline\n",
    "sns.countplot(x='consumer_max_sk_dpd', hue='TARGET', data=app_train)\n",
    "plt.legend(loc='upper right', title='TARGET')\n",
    "plt.show()"
   ]
  },
  {
   "cell_type": "code",
   "execution_count": 140,
   "id": "c64beeb2",
   "metadata": {},
   "outputs": [
    {
     "data": {
      "text/html": [
       "<div>\n",
       "<style scoped>\n",
       "    .dataframe tbody tr th:only-of-type {\n",
       "        vertical-align: middle;\n",
       "    }\n",
       "\n",
       "    .dataframe tbody tr th {\n",
       "        vertical-align: top;\n",
       "    }\n",
       "\n",
       "    .dataframe thead th {\n",
       "        text-align: right;\n",
       "    }\n",
       "</style>\n",
       "<table border=\"1\" class=\"dataframe\">\n",
       "  <thead>\n",
       "    <tr style=\"text-align: right;\">\n",
       "      <th></th>\n",
       "      <th>consumer_max_sk_dpd</th>\n",
       "      <th>TARGET</th>\n",
       "    </tr>\n",
       "  </thead>\n",
       "  <tbody>\n",
       "    <tr>\n",
       "      <th>consumer_max_sk_dpd</th>\n",
       "      <td>1.000000</td>\n",
       "      <td>-0.003964</td>\n",
       "    </tr>\n",
       "    <tr>\n",
       "      <th>TARGET</th>\n",
       "      <td>-0.003964</td>\n",
       "      <td>1.000000</td>\n",
       "    </tr>\n",
       "  </tbody>\n",
       "</table>\n",
       "</div>"
      ],
      "text/plain": [
       "                     consumer_max_sk_dpd    TARGET\n",
       "consumer_max_sk_dpd             1.000000 -0.003964\n",
       "TARGET                         -0.003964  1.000000"
      ]
     },
     "execution_count": 140,
     "metadata": {},
     "output_type": "execute_result"
    }
   ],
   "source": [
    "app_train[['consumer_max_sk_dpd', 'TARGET']].corr()"
   ]
  },
  {
   "cell_type": "code",
   "execution_count": 141,
   "id": "ba0cca3d",
   "metadata": {},
   "outputs": [],
   "source": [
    "app_train.drop(['consumer_max_sk_dpd'], axis=1, inplace=True)\n",
    "app_test.drop(['consumer_max_sk_dpd'], axis=1, inplace=True)"
   ]
  },
  {
   "cell_type": "code",
   "execution_count": 142,
   "id": "ea2bfb3b",
   "metadata": {},
   "outputs": [],
   "source": [
    "### consumer_installment_payment_ratio_1000_mean_mean"
   ]
  },
  {
   "cell_type": "code",
   "execution_count": 143,
   "id": "c1ceb9bd",
   "metadata": {},
   "outputs": [
    {
     "data": {
      "text/html": [
       "<div>\n",
       "<style scoped>\n",
       "    .dataframe tbody tr th:only-of-type {\n",
       "        vertical-align: middle;\n",
       "    }\n",
       "\n",
       "    .dataframe tbody tr th {\n",
       "        vertical-align: top;\n",
       "    }\n",
       "\n",
       "    .dataframe thead th {\n",
       "        text-align: right;\n",
       "    }\n",
       "</style>\n",
       "<table border=\"1\" class=\"dataframe\">\n",
       "  <thead>\n",
       "    <tr style=\"text-align: right;\">\n",
       "      <th></th>\n",
       "      <th>consumer_installment_payment_ratio_1000_mean_mean</th>\n",
       "      <th>TARGET</th>\n",
       "    </tr>\n",
       "  </thead>\n",
       "  <tbody>\n",
       "    <tr>\n",
       "      <th>consumer_installment_payment_ratio_1000_mean_mean</th>\n",
       "      <td>1.000000</td>\n",
       "      <td>-0.035753</td>\n",
       "    </tr>\n",
       "    <tr>\n",
       "      <th>TARGET</th>\n",
       "      <td>-0.035753</td>\n",
       "      <td>1.000000</td>\n",
       "    </tr>\n",
       "  </tbody>\n",
       "</table>\n",
       "</div>"
      ],
      "text/plain": [
       "                                                   consumer_installment_payment_ratio_1000_mean_mean  \\\n",
       "consumer_installment_payment_ratio_1000_mean_mean                                           1.000000   \n",
       "TARGET                                                                                     -0.035753   \n",
       "\n",
       "                                                     TARGET  \n",
       "consumer_installment_payment_ratio_1000_mean_mean -0.035753  \n",
       "TARGET                                             1.000000  "
      ]
     },
     "execution_count": 143,
     "metadata": {},
     "output_type": "execute_result"
    }
   ],
   "source": [
    "app_train[['consumer_installment_payment_ratio_1000_mean_mean', 'TARGET']].corr()"
   ]
  },
  {
   "cell_type": "code",
   "execution_count": 144,
   "id": "453d4964",
   "metadata": {},
   "outputs": [],
   "source": [
    "### consumer_annuity_to_max_installment_ratio"
   ]
  },
  {
   "cell_type": "code",
   "execution_count": 145,
   "id": "432ff185",
   "metadata": {},
   "outputs": [
    {
     "data": {
      "text/html": [
       "<div>\n",
       "<style scoped>\n",
       "    .dataframe tbody tr th:only-of-type {\n",
       "        vertical-align: middle;\n",
       "    }\n",
       "\n",
       "    .dataframe tbody tr th {\n",
       "        vertical-align: top;\n",
       "    }\n",
       "\n",
       "    .dataframe thead th {\n",
       "        text-align: right;\n",
       "    }\n",
       "</style>\n",
       "<table border=\"1\" class=\"dataframe\">\n",
       "  <thead>\n",
       "    <tr style=\"text-align: right;\">\n",
       "      <th></th>\n",
       "      <th>consumer_annuity_to_max_installment_ratio</th>\n",
       "      <th>TARGET</th>\n",
       "    </tr>\n",
       "  </thead>\n",
       "  <tbody>\n",
       "    <tr>\n",
       "      <th>consumer_annuity_to_max_installment_ratio</th>\n",
       "      <td>1.000000</td>\n",
       "      <td>0.009288</td>\n",
       "    </tr>\n",
       "    <tr>\n",
       "      <th>TARGET</th>\n",
       "      <td>0.009288</td>\n",
       "      <td>1.000000</td>\n",
       "    </tr>\n",
       "  </tbody>\n",
       "</table>\n",
       "</div>"
      ],
      "text/plain": [
       "                                           consumer_annuity_to_max_installment_ratio  \\\n",
       "consumer_annuity_to_max_installment_ratio                                   1.000000   \n",
       "TARGET                                                                      0.009288   \n",
       "\n",
       "                                             TARGET  \n",
       "consumer_annuity_to_max_installment_ratio  0.009288  \n",
       "TARGET                                     1.000000  "
      ]
     },
     "execution_count": 145,
     "metadata": {},
     "output_type": "execute_result"
    }
   ],
   "source": [
    "app_train[['consumer_annuity_to_max_installment_ratio', 'TARGET']].corr()"
   ]
  },
  {
   "cell_type": "code",
   "execution_count": 146,
   "id": "a684ede7",
   "metadata": {},
   "outputs": [],
   "source": [
    "app_train.drop(['consumer_annuity_to_max_installment_ratio'], axis=1, inplace=True)\n",
    "app_test.drop(['consumer_annuity_to_max_installment_ratio'], axis=1, inplace=True)"
   ]
  },
  {
   "cell_type": "code",
   "execution_count": 147,
   "id": "156f7296",
   "metadata": {},
   "outputs": [],
   "source": [
    "### train\n",
    "app_train.to_csv(\n",
    "    path_or_buf=\"./home-credit-default-risk/exports/hc_only_consumer_train.csv\", # 出力先\n",
    "    sep=\",\",                                            # 区切り文字\n",
    "    index=False,                                        # indexの出力有無\n",
    "    header=True                                        # headerの出力有無\n",
    ")"
   ]
  },
  {
   "cell_type": "code",
   "execution_count": 148,
   "id": "23b5c301",
   "metadata": {},
   "outputs": [],
   "source": [
    "### test\n",
    "app_test.to_csv(\n",
    "    path_or_buf=\"./home-credit-default-risk/exports/hc_only_consumer_test.csv\", # 出力先\n",
    "    sep=\",\",                                            # 区切り文字\n",
    "    index=False,                                        # indexの出力有無\n",
    "    header=True                                        # headerの出力有無\n",
    ")"
   ]
  },
  {
   "cell_type": "code",
   "execution_count": 149,
   "id": "484e8c4c",
   "metadata": {},
   "outputs": [
    {
     "data": {
      "text/html": [
       "<div>\n",
       "<style scoped>\n",
       "    .dataframe tbody tr th:only-of-type {\n",
       "        vertical-align: middle;\n",
       "    }\n",
       "\n",
       "    .dataframe tbody tr th {\n",
       "        vertical-align: top;\n",
       "    }\n",
       "\n",
       "    .dataframe thead th {\n",
       "        text-align: right;\n",
       "    }\n",
       "</style>\n",
       "<table border=\"1\" class=\"dataframe\">\n",
       "  <thead>\n",
       "    <tr style=\"text-align: right;\">\n",
       "      <th></th>\n",
       "      <th>SK_ID_CURR</th>\n",
       "      <th>consumer_amt_annuity</th>\n",
       "      <th>consumer_amt_application</th>\n",
       "      <th>consumer_amt_credit</th>\n",
       "      <th>consumer_amt_goods_price</th>\n",
       "      <th>consumer_weekday_appr_process_start</th>\n",
       "      <th>consumer_hour_appr_process_start</th>\n",
       "      <th>consumer_name_client_type</th>\n",
       "      <th>consumer_name_goods_category</th>\n",
       "      <th>consumer_name_seller_industry</th>\n",
       "      <th>consumer_days_last_due</th>\n",
       "      <th>consumer_installment_payment_ratio_1000_mean_mean</th>\n",
       "    </tr>\n",
       "  </thead>\n",
       "  <tbody>\n",
       "    <tr>\n",
       "      <th>0</th>\n",
       "      <td>100002</td>\n",
       "      <td>9251.775</td>\n",
       "      <td>179055.0</td>\n",
       "      <td>179055.0</td>\n",
       "      <td>179055.0</td>\n",
       "      <td>0.0</td>\n",
       "      <td>9.0</td>\n",
       "      <td>0.0</td>\n",
       "      <td>0.0</td>\n",
       "      <td>0.0</td>\n",
       "      <td>-25.0</td>\n",
       "      <td>0.0</td>\n",
       "    </tr>\n",
       "    <tr>\n",
       "      <th>1</th>\n",
       "      <td>100003</td>\n",
       "      <td>NaN</td>\n",
       "      <td>NaN</td>\n",
       "      <td>NaN</td>\n",
       "      <td>NaN</td>\n",
       "      <td>NaN</td>\n",
       "      <td>NaN</td>\n",
       "      <td>NaN</td>\n",
       "      <td>NaN</td>\n",
       "      <td>NaN</td>\n",
       "      <td>NaN</td>\n",
       "      <td>0.0</td>\n",
       "    </tr>\n",
       "    <tr>\n",
       "      <th>2</th>\n",
       "      <td>100004</td>\n",
       "      <td>NaN</td>\n",
       "      <td>NaN</td>\n",
       "      <td>NaN</td>\n",
       "      <td>NaN</td>\n",
       "      <td>NaN</td>\n",
       "      <td>NaN</td>\n",
       "      <td>NaN</td>\n",
       "      <td>NaN</td>\n",
       "      <td>NaN</td>\n",
       "      <td>NaN</td>\n",
       "      <td>NaN</td>\n",
       "    </tr>\n",
       "    <tr>\n",
       "      <th>3</th>\n",
       "      <td>100006</td>\n",
       "      <td>29027.520</td>\n",
       "      <td>334917.0</td>\n",
       "      <td>267930.0</td>\n",
       "      <td>334917.0</td>\n",
       "      <td>1.0</td>\n",
       "      <td>15.0</td>\n",
       "      <td>1.0</td>\n",
       "      <td>1.0</td>\n",
       "      <td>1.0</td>\n",
       "      <td>365243.0</td>\n",
       "      <td>0.0</td>\n",
       "    </tr>\n",
       "    <tr>\n",
       "      <th>4</th>\n",
       "      <td>100007</td>\n",
       "      <td>NaN</td>\n",
       "      <td>NaN</td>\n",
       "      <td>NaN</td>\n",
       "      <td>NaN</td>\n",
       "      <td>NaN</td>\n",
       "      <td>NaN</td>\n",
       "      <td>NaN</td>\n",
       "      <td>NaN</td>\n",
       "      <td>NaN</td>\n",
       "      <td>NaN</td>\n",
       "      <td>NaN</td>\n",
       "    </tr>\n",
       "  </tbody>\n",
       "</table>\n",
       "</div>"
      ],
      "text/plain": [
       "   SK_ID_CURR  consumer_amt_annuity  consumer_amt_application  \\\n",
       "0      100002              9251.775                  179055.0   \n",
       "1      100003                   NaN                       NaN   \n",
       "2      100004                   NaN                       NaN   \n",
       "3      100006             29027.520                  334917.0   \n",
       "4      100007                   NaN                       NaN   \n",
       "\n",
       "   consumer_amt_credit  consumer_amt_goods_price  \\\n",
       "0             179055.0                  179055.0   \n",
       "1                  NaN                       NaN   \n",
       "2                  NaN                       NaN   \n",
       "3             267930.0                  334917.0   \n",
       "4                  NaN                       NaN   \n",
       "\n",
       "   consumer_weekday_appr_process_start  consumer_hour_appr_process_start  \\\n",
       "0                                  0.0                               9.0   \n",
       "1                                  NaN                               NaN   \n",
       "2                                  NaN                               NaN   \n",
       "3                                  1.0                              15.0   \n",
       "4                                  NaN                               NaN   \n",
       "\n",
       "   consumer_name_client_type  consumer_name_goods_category  \\\n",
       "0                        0.0                           0.0   \n",
       "1                        NaN                           NaN   \n",
       "2                        NaN                           NaN   \n",
       "3                        1.0                           1.0   \n",
       "4                        NaN                           NaN   \n",
       "\n",
       "   consumer_name_seller_industry  consumer_days_last_due  \\\n",
       "0                            0.0                   -25.0   \n",
       "1                            NaN                     NaN   \n",
       "2                            NaN                     NaN   \n",
       "3                            1.0                365243.0   \n",
       "4                            NaN                     NaN   \n",
       "\n",
       "   consumer_installment_payment_ratio_1000_mean_mean  \n",
       "0                                                0.0  \n",
       "1                                                0.0  \n",
       "2                                                NaN  \n",
       "3                                                0.0  \n",
       "4                                                NaN  "
      ]
     },
     "execution_count": 149,
     "metadata": {},
     "output_type": "execute_result"
    }
   ],
   "source": [
    "#num_cols = ['max_credit_day_overdue', 'max_days_credit_enddate', 'min_days_enddate_fact', 'max_amt_credit_max_overdue', 'cnt_credit_prolong_in_6month', 'sum_amt_credit_sum', 'sum_amt_credit_sum_debt', 'sum_amt_credit_sum_limit', 'sum_amt_credit_sum_overdue', 'avg_amt_annuity']\n",
    "\n",
    "data = pd.concat([app_train, app_test], sort=False)\n",
    "train = data[:len(app_train)]\n",
    "test = data[len(app_test):]\n",
    "\n",
    "\n",
    "y_train = train['TARGET']\n",
    "X_train = app_train.copy().drop('TARGET', axis=1)\n",
    "X_test = app_test.copy()\n",
    "\n",
    "# 学習データに基づいてYao-Johnson変換を定義\n",
    "#pt = PowerTransformer(method = 'yeo-johnson')\n",
    "#pt.fit(X_train[num_cols])\n",
    "\n",
    "# 変換後のデータで各列を置換\n",
    "#X_train[num_cols] = pt.transform(X_train[num_cols])\n",
    "#X_test[num_cols] = pt.transform(X_test[num_cols])\n",
    "\n",
    "X_train.head()"
   ]
  },
  {
   "cell_type": "code",
   "execution_count": 150,
   "id": "ede488e1",
   "metadata": {},
   "outputs": [
    {
     "name": "stdout",
     "output_type": "stream",
     "text": [
      "[19:38:57] WARNING: C:/Users/Administrator/workspace/xgboost-win64_release_1.6.0/src/learner.cc:627: \n",
      "Parameters: { \"colsample_state\", \"silent\", \"subsumple\" } might not be used.\n",
      "\n",
      "  This could be a false alarm, with some parameters getting used by language bindings but\n",
      "  then being mistakenly passed down to XGBoost core, or some parameter actually being used\n",
      "  but getting flagged wrongly here. Please open an issue if you find any such cases.\n",
      "\n",
      "\n",
      "[0]\ttrain-auc:0.53939\teval-auc:0.53624\n",
      "[1]\ttrain-auc:0.54468\teval-auc:0.54216\n",
      "[2]\ttrain-auc:0.54530\teval-auc:0.54173\n",
      "[3]\ttrain-auc:0.54629\teval-auc:0.54257\n",
      "[4]\ttrain-auc:0.54743\teval-auc:0.54315\n",
      "[5]\ttrain-auc:0.54719\teval-auc:0.54347\n",
      "[6]\ttrain-auc:0.55161\teval-auc:0.54314\n",
      "[7]\ttrain-auc:0.55484\teval-auc:0.54178\n",
      "[8]\ttrain-auc:0.55575\teval-auc:0.54153\n",
      "[9]\ttrain-auc:0.55640\teval-auc:0.54198\n",
      "[10]\ttrain-auc:0.55642\teval-auc:0.54313\n",
      "[11]\ttrain-auc:0.55785\teval-auc:0.54264\n",
      "[12]\ttrain-auc:0.55826\teval-auc:0.54209\n",
      "[13]\ttrain-auc:0.55870\teval-auc:0.54322\n",
      "[14]\ttrain-auc:0.55964\teval-auc:0.54338\n",
      "[15]\ttrain-auc:0.55978\teval-auc:0.54355\n",
      "[16]\ttrain-auc:0.56137\teval-auc:0.54260\n",
      "[17]\ttrain-auc:0.56277\teval-auc:0.54206\n",
      "[18]\ttrain-auc:0.56309\teval-auc:0.54313\n",
      "[19]\ttrain-auc:0.56433\teval-auc:0.54450\n",
      "[20]\ttrain-auc:0.56469\teval-auc:0.54449\n",
      "[21]\ttrain-auc:0.56514\teval-auc:0.54396\n",
      "[22]\ttrain-auc:0.56559\teval-auc:0.54274\n",
      "[23]\ttrain-auc:0.56633\teval-auc:0.54264\n",
      "[24]\ttrain-auc:0.56650\teval-auc:0.54331\n",
      "[25]\ttrain-auc:0.56700\teval-auc:0.54359\n",
      "[26]\ttrain-auc:0.56733\teval-auc:0.54385\n",
      "[27]\ttrain-auc:0.56844\teval-auc:0.54572\n",
      "[28]\ttrain-auc:0.56880\teval-auc:0.54578\n",
      "[29]\ttrain-auc:0.56916\teval-auc:0.54558\n",
      "[30]\ttrain-auc:0.56929\teval-auc:0.54479\n",
      "[31]\ttrain-auc:0.56974\teval-auc:0.54495\n",
      "[32]\ttrain-auc:0.57017\teval-auc:0.54586\n",
      "[33]\ttrain-auc:0.57143\teval-auc:0.54634\n",
      "[34]\ttrain-auc:0.57228\teval-auc:0.54717\n",
      "[35]\ttrain-auc:0.57351\teval-auc:0.54632\n",
      "[36]\ttrain-auc:0.57396\teval-auc:0.54646\n",
      "[37]\ttrain-auc:0.57414\teval-auc:0.54646\n",
      "[38]\ttrain-auc:0.57434\teval-auc:0.54536\n",
      "[39]\ttrain-auc:0.57488\teval-auc:0.54545\n",
      "[40]\ttrain-auc:0.57588\teval-auc:0.54527\n",
      "[41]\ttrain-auc:0.57594\teval-auc:0.54475\n",
      "[42]\ttrain-auc:0.57638\teval-auc:0.54448\n",
      "[43]\ttrain-auc:0.57689\teval-auc:0.54445\n",
      "[44]\ttrain-auc:0.57738\teval-auc:0.54429\n",
      "[45]\ttrain-auc:0.57771\teval-auc:0.54430\n",
      "[46]\ttrain-auc:0.57794\teval-auc:0.54452\n",
      "[47]\ttrain-auc:0.57769\teval-auc:0.54452\n",
      "[48]\ttrain-auc:0.57845\teval-auc:0.54484\n",
      "[49]\ttrain-auc:0.57918\teval-auc:0.54433\n",
      "[19:38:58] WARNING: C:/Users/Administrator/workspace/xgboost-win64_release_1.6.0/src/learner.cc:627: \n",
      "Parameters: { \"colsample_state\", \"silent\", \"subsumple\" } might not be used.\n",
      "\n",
      "  This could be a false alarm, with some parameters getting used by language bindings but\n",
      "  then being mistakenly passed down to XGBoost core, or some parameter actually being used\n",
      "  but getting flagged wrongly here. Please open an issue if you find any such cases.\n",
      "\n",
      "\n",
      "[0]\ttrain-auc:0.53840\teval-auc:0.53574\n",
      "[1]\ttrain-auc:0.54207\teval-auc:0.54073\n",
      "[2]\ttrain-auc:0.54513\teval-auc:0.54193\n",
      "[3]\ttrain-auc:0.54565\teval-auc:0.54182\n",
      "[4]\ttrain-auc:0.54695\teval-auc:0.54248\n",
      "[5]\ttrain-auc:0.54781\teval-auc:0.54308\n",
      "[6]\ttrain-auc:0.54808\teval-auc:0.54237\n",
      "[7]\ttrain-auc:0.54999\teval-auc:0.54222\n",
      "[8]\ttrain-auc:0.55046\teval-auc:0.54216\n",
      "[9]\ttrain-auc:0.55166\teval-auc:0.54279\n",
      "[10]\ttrain-auc:0.55184\teval-auc:0.54371\n",
      "[11]\ttrain-auc:0.55364\teval-auc:0.54342\n",
      "[12]\ttrain-auc:0.55432\teval-auc:0.54332\n",
      "[13]\ttrain-auc:0.55505\teval-auc:0.54423\n",
      "[14]\ttrain-auc:0.55731\teval-auc:0.54606\n",
      "[15]\ttrain-auc:0.55765\teval-auc:0.54680\n",
      "[16]\ttrain-auc:0.55923\teval-auc:0.54464\n",
      "[17]\ttrain-auc:0.55999\teval-auc:0.54440\n",
      "[18]\ttrain-auc:0.56082\teval-auc:0.54438\n",
      "[19]\ttrain-auc:0.56179\teval-auc:0.54311\n",
      "[20]\ttrain-auc:0.56220\teval-auc:0.54336\n",
      "[21]\ttrain-auc:0.56251\teval-auc:0.54393\n",
      "[22]\ttrain-auc:0.56353\teval-auc:0.54444\n",
      "[23]\ttrain-auc:0.56476\teval-auc:0.54424\n",
      "[24]\ttrain-auc:0.56584\teval-auc:0.54457\n",
      "[25]\ttrain-auc:0.56679\teval-auc:0.54487\n",
      "[26]\ttrain-auc:0.56710\teval-auc:0.54436\n",
      "[27]\ttrain-auc:0.56796\teval-auc:0.54416\n",
      "[28]\ttrain-auc:0.56827\teval-auc:0.54333\n",
      "[29]\ttrain-auc:0.56886\teval-auc:0.54356\n",
      "[30]\ttrain-auc:0.56926\teval-auc:0.54336\n",
      "[31]\ttrain-auc:0.56991\teval-auc:0.54344\n",
      "[32]\ttrain-auc:0.57059\teval-auc:0.54400\n",
      "[33]\ttrain-auc:0.57027\teval-auc:0.54350\n",
      "[34]\ttrain-auc:0.57083\teval-auc:0.54378\n",
      "[35]\ttrain-auc:0.57309\teval-auc:0.54517\n",
      "[36]\ttrain-auc:0.57385\teval-auc:0.54548\n",
      "[37]\ttrain-auc:0.57398\teval-auc:0.54462\n",
      "[38]\ttrain-auc:0.57431\teval-auc:0.54445\n",
      "[39]\ttrain-auc:0.57429\teval-auc:0.54421\n",
      "[40]\ttrain-auc:0.57471\teval-auc:0.54410\n",
      "[41]\ttrain-auc:0.57499\teval-auc:0.54449\n",
      "[42]\ttrain-auc:0.57616\teval-auc:0.54458\n",
      "[43]\ttrain-auc:0.57674\teval-auc:0.54355\n",
      "[44]\ttrain-auc:0.57741\teval-auc:0.54431\n",
      "[45]\ttrain-auc:0.57752\teval-auc:0.54368\n",
      "[46]\ttrain-auc:0.57782\teval-auc:0.54335\n",
      "[47]\ttrain-auc:0.57734\teval-auc:0.54347\n",
      "[48]\ttrain-auc:0.57765\teval-auc:0.54391\n",
      "[49]\ttrain-auc:0.57797\teval-auc:0.54362\n",
      "[19:38:59] WARNING: C:/Users/Administrator/workspace/xgboost-win64_release_1.6.0/src/learner.cc:627: \n",
      "Parameters: { \"colsample_state\", \"silent\", \"subsumple\" } might not be used.\n",
      "\n",
      "  This could be a false alarm, with some parameters getting used by language bindings but\n",
      "  then being mistakenly passed down to XGBoost core, or some parameter actually being used\n",
      "  but getting flagged wrongly here. Please open an issue if you find any such cases.\n",
      "\n",
      "\n",
      "[0]\ttrain-auc:0.53977\teval-auc:0.53967\n",
      "[1]\ttrain-auc:0.54238\teval-auc:0.53918\n",
      "[2]\ttrain-auc:0.54395\teval-auc:0.54184\n",
      "[3]\ttrain-auc:0.54524\teval-auc:0.54047\n",
      "[4]\ttrain-auc:0.54606\teval-auc:0.54094\n",
      "[5]\ttrain-auc:0.54732\teval-auc:0.54119\n",
      "[6]\ttrain-auc:0.54926\teval-auc:0.54163\n",
      "[7]\ttrain-auc:0.55289\teval-auc:0.54441\n",
      "[8]\ttrain-auc:0.55423\teval-auc:0.54487\n",
      "[9]\ttrain-auc:0.55464\teval-auc:0.54526\n",
      "[10]\ttrain-auc:0.55580\teval-auc:0.54509\n",
      "[11]\ttrain-auc:0.55706\teval-auc:0.54434\n",
      "[12]\ttrain-auc:0.55874\teval-auc:0.54707\n",
      "[13]\ttrain-auc:0.55941\teval-auc:0.54682\n",
      "[14]\ttrain-auc:0.56026\teval-auc:0.54711\n",
      "[15]\ttrain-auc:0.56111\teval-auc:0.54697\n",
      "[16]\ttrain-auc:0.56166\teval-auc:0.54705\n",
      "[17]\ttrain-auc:0.56183\teval-auc:0.54812\n",
      "[18]\ttrain-auc:0.56239\teval-auc:0.54836\n",
      "[19]\ttrain-auc:0.56462\teval-auc:0.54794\n",
      "[20]\ttrain-auc:0.56525\teval-auc:0.54794\n",
      "[21]\ttrain-auc:0.56573\teval-auc:0.54762\n",
      "[22]\ttrain-auc:0.56588\teval-auc:0.54791\n",
      "[23]\ttrain-auc:0.56613\teval-auc:0.54724\n",
      "[24]\ttrain-auc:0.56743\teval-auc:0.54804\n",
      "[25]\ttrain-auc:0.56794\teval-auc:0.54763\n",
      "[26]\ttrain-auc:0.56875\teval-auc:0.54750\n",
      "[27]\ttrain-auc:0.56917\teval-auc:0.54824\n",
      "[28]\ttrain-auc:0.56973\teval-auc:0.54839\n",
      "[29]\ttrain-auc:0.57056\teval-auc:0.54900\n",
      "[30]\ttrain-auc:0.57084\teval-auc:0.54877\n",
      "[31]\ttrain-auc:0.57165\teval-auc:0.54797\n",
      "[32]\ttrain-auc:0.57179\teval-auc:0.54713\n",
      "[33]\ttrain-auc:0.57213\teval-auc:0.54647\n",
      "[34]\ttrain-auc:0.57232\teval-auc:0.54665\n",
      "[35]\ttrain-auc:0.57279\teval-auc:0.54684\n",
      "[36]\ttrain-auc:0.57359\teval-auc:0.54703\n",
      "[37]\ttrain-auc:0.57490\teval-auc:0.54824\n",
      "[38]\ttrain-auc:0.57578\teval-auc:0.54767\n",
      "[39]\ttrain-auc:0.57595\teval-auc:0.54726\n",
      "[40]\ttrain-auc:0.57607\teval-auc:0.54679\n",
      "[41]\ttrain-auc:0.57631\teval-auc:0.54710\n",
      "[42]\ttrain-auc:0.57718\teval-auc:0.54611\n",
      "[43]\ttrain-auc:0.57773\teval-auc:0.54710\n",
      "[44]\ttrain-auc:0.57772\teval-auc:0.54722\n",
      "[45]\ttrain-auc:0.57819\teval-auc:0.54703\n",
      "[46]\ttrain-auc:0.57808\teval-auc:0.54755\n",
      "[47]\ttrain-auc:0.57819\teval-auc:0.54715\n",
      "[48]\ttrain-auc:0.57840\teval-auc:0.54731\n",
      "[49]\ttrain-auc:0.57888\teval-auc:0.54789\n",
      "[19:39:00] WARNING: C:/Users/Administrator/workspace/xgboost-win64_release_1.6.0/src/learner.cc:627: \n",
      "Parameters: { \"colsample_state\", \"silent\", \"subsumple\" } might not be used.\n",
      "\n",
      "  This could be a false alarm, with some parameters getting used by language bindings but\n",
      "  then being mistakenly passed down to XGBoost core, or some parameter actually being used\n",
      "  but getting flagged wrongly here. Please open an issue if you find any such cases.\n",
      "\n",
      "\n",
      "[0]\ttrain-auc:0.54262\teval-auc:0.53902\n",
      "[1]\ttrain-auc:0.54493\teval-auc:0.54030\n",
      "[2]\ttrain-auc:0.54481\teval-auc:0.53996\n",
      "[3]\ttrain-auc:0.54548\teval-auc:0.53951\n",
      "[4]\ttrain-auc:0.54824\teval-auc:0.53903\n",
      "[5]\ttrain-auc:0.55031\teval-auc:0.53889\n",
      "[6]\ttrain-auc:0.55370\teval-auc:0.53756\n",
      "[7]\ttrain-auc:0.55577\teval-auc:0.53948\n",
      "[8]\ttrain-auc:0.55624\teval-auc:0.53839\n",
      "[9]\ttrain-auc:0.55720\teval-auc:0.53966\n",
      "[10]\ttrain-auc:0.55766\teval-auc:0.53996\n"
     ]
    },
    {
     "name": "stdout",
     "output_type": "stream",
     "text": [
      "[11]\ttrain-auc:0.55856\teval-auc:0.53923\n",
      "[12]\ttrain-auc:0.55870\teval-auc:0.53980\n",
      "[13]\ttrain-auc:0.55924\teval-auc:0.54015\n",
      "[14]\ttrain-auc:0.56009\teval-auc:0.53978\n",
      "[15]\ttrain-auc:0.56028\teval-auc:0.54018\n",
      "[16]\ttrain-auc:0.56135\teval-auc:0.53974\n",
      "[17]\ttrain-auc:0.56149\teval-auc:0.53922\n",
      "[18]\ttrain-auc:0.56232\teval-auc:0.53959\n",
      "[19]\ttrain-auc:0.56464\teval-auc:0.53880\n",
      "[20]\ttrain-auc:0.56519\teval-auc:0.53836\n",
      "[21]\ttrain-auc:0.56532\teval-auc:0.53918\n",
      "[22]\ttrain-auc:0.56557\teval-auc:0.53896\n",
      "[23]\ttrain-auc:0.56625\teval-auc:0.53930\n",
      "[24]\ttrain-auc:0.56728\teval-auc:0.54010\n",
      "[25]\ttrain-auc:0.56836\teval-auc:0.54037\n",
      "[26]\ttrain-auc:0.56846\teval-auc:0.53979\n",
      "[27]\ttrain-auc:0.56921\teval-auc:0.53892\n",
      "[28]\ttrain-auc:0.57010\teval-auc:0.53893\n",
      "[29]\ttrain-auc:0.57066\teval-auc:0.53881\n",
      "[30]\ttrain-auc:0.57177\teval-auc:0.53792\n",
      "[31]\ttrain-auc:0.57193\teval-auc:0.53826\n",
      "[32]\ttrain-auc:0.57228\teval-auc:0.53860\n",
      "[33]\ttrain-auc:0.57287\teval-auc:0.53899\n",
      "[34]\ttrain-auc:0.57359\teval-auc:0.53807\n",
      "[35]\ttrain-auc:0.57470\teval-auc:0.53739\n",
      "[36]\ttrain-auc:0.57530\teval-auc:0.53668\n",
      "[37]\ttrain-auc:0.57657\teval-auc:0.53535\n",
      "[38]\ttrain-auc:0.57704\teval-auc:0.53504\n",
      "[39]\ttrain-auc:0.57738\teval-auc:0.53493\n",
      "[40]\ttrain-auc:0.57769\teval-auc:0.53507\n",
      "[41]\ttrain-auc:0.57919\teval-auc:0.53579\n",
      "[42]\ttrain-auc:0.57931\teval-auc:0.53572\n",
      "[43]\ttrain-auc:0.57979\teval-auc:0.53597\n",
      "[44]\ttrain-auc:0.57986\teval-auc:0.53582\n",
      "[45]\ttrain-auc:0.57994\teval-auc:0.53597\n",
      "[46]\ttrain-auc:0.58037\teval-auc:0.53617\n",
      "[47]\ttrain-auc:0.58047\teval-auc:0.53597\n",
      "[48]\ttrain-auc:0.58076\teval-auc:0.53587\n",
      "[49]\ttrain-auc:0.58095\teval-auc:0.53639\n",
      "[19:39:01] WARNING: C:/Users/Administrator/workspace/xgboost-win64_release_1.6.0/src/learner.cc:627: \n",
      "Parameters: { \"colsample_state\", \"silent\", \"subsumple\" } might not be used.\n",
      "\n",
      "  This could be a false alarm, with some parameters getting used by language bindings but\n",
      "  then being mistakenly passed down to XGBoost core, or some parameter actually being used\n",
      "  but getting flagged wrongly here. Please open an issue if you find any such cases.\n",
      "\n",
      "\n",
      "[0]\ttrain-auc:0.54319\teval-auc:0.53709\n",
      "[1]\ttrain-auc:0.54449\teval-auc:0.53814\n",
      "[2]\ttrain-auc:0.54469\teval-auc:0.53795\n",
      "[3]\ttrain-auc:0.54555\teval-auc:0.54015\n",
      "[4]\ttrain-auc:0.54646\teval-auc:0.54011\n",
      "[5]\ttrain-auc:0.54807\teval-auc:0.53962\n",
      "[6]\ttrain-auc:0.55253\teval-auc:0.53978\n",
      "[7]\ttrain-auc:0.55566\teval-auc:0.54177\n",
      "[8]\ttrain-auc:0.55633\teval-auc:0.54164\n",
      "[9]\ttrain-auc:0.55728\teval-auc:0.54162\n",
      "[10]\ttrain-auc:0.55817\teval-auc:0.53987\n",
      "[11]\ttrain-auc:0.55948\teval-auc:0.53991\n",
      "[12]\ttrain-auc:0.56001\teval-auc:0.53864\n",
      "[13]\ttrain-auc:0.56086\teval-auc:0.53785\n",
      "[14]\ttrain-auc:0.56084\teval-auc:0.53782\n",
      "[15]\ttrain-auc:0.56142\teval-auc:0.53829\n",
      "[16]\ttrain-auc:0.56201\teval-auc:0.53797\n",
      "[17]\ttrain-auc:0.56252\teval-auc:0.53854\n",
      "[18]\ttrain-auc:0.56315\teval-auc:0.53858\n",
      "[19]\ttrain-auc:0.56355\teval-auc:0.53855\n",
      "[20]\ttrain-auc:0.56383\teval-auc:0.53882\n",
      "[21]\ttrain-auc:0.56451\teval-auc:0.53871\n",
      "[22]\ttrain-auc:0.56511\teval-auc:0.53828\n",
      "[23]\ttrain-auc:0.56605\teval-auc:0.53944\n",
      "[24]\ttrain-auc:0.56694\teval-auc:0.53912\n",
      "[25]\ttrain-auc:0.56769\teval-auc:0.53864\n",
      "[26]\ttrain-auc:0.56833\teval-auc:0.53899\n",
      "[27]\ttrain-auc:0.56893\teval-auc:0.53866\n",
      "[28]\ttrain-auc:0.56908\teval-auc:0.53870\n",
      "[29]\ttrain-auc:0.56913\teval-auc:0.53937\n",
      "[30]\ttrain-auc:0.56963\teval-auc:0.53923\n",
      "[31]\ttrain-auc:0.56978\teval-auc:0.53967\n",
      "[32]\ttrain-auc:0.56998\teval-auc:0.54009\n",
      "[33]\ttrain-auc:0.57043\teval-auc:0.54024\n",
      "[34]\ttrain-auc:0.57152\teval-auc:0.54086\n",
      "[35]\ttrain-auc:0.57176\teval-auc:0.54066\n",
      "[36]\ttrain-auc:0.57246\teval-auc:0.54025\n",
      "[37]\ttrain-auc:0.57335\teval-auc:0.53972\n",
      "[38]\ttrain-auc:0.57406\teval-auc:0.53983\n",
      "[39]\ttrain-auc:0.57446\teval-auc:0.54034\n",
      "[40]\ttrain-auc:0.57485\teval-auc:0.54038\n",
      "[41]\ttrain-auc:0.57563\teval-auc:0.53928\n",
      "[42]\ttrain-auc:0.57610\teval-auc:0.53974\n",
      "[43]\ttrain-auc:0.57642\teval-auc:0.54025\n",
      "[44]\ttrain-auc:0.57688\teval-auc:0.54017\n",
      "[45]\ttrain-auc:0.57733\teval-auc:0.54053\n",
      "[46]\ttrain-auc:0.57742\teval-auc:0.54040\n",
      "[47]\ttrain-auc:0.57742\teval-auc:0.54085\n",
      "[48]\ttrain-auc:0.57753\teval-auc:0.54072\n",
      "[49]\ttrain-auc:0.57809\teval-auc:0.54155\n"
     ]
    }
   ],
   "source": [
    "import xgboost as xgb\n",
    "from sklearn.metrics import log_loss\n",
    "\n",
    "y_preds = []\n",
    "models = []\n",
    "scores = []\n",
    "oof_train = np.zeros((len(X_train),))\n",
    "cv = KFold(n_splits=5, shuffle=True, random_state=0)\n",
    "\n",
    "\n",
    "params = {\n",
    "    'booster': 'gbtree'\n",
    "    ,'objective': 'binary:logistic'\n",
    "    ,'silent': 1\n",
    "    ,'random_state': 17\n",
    "    ,'gpu_id': 0\n",
    "    ,'tree_method': 'gpu_hist'\n",
    "    ,'eval_metric': 'auc'\n",
    "    ,'eta': 0.1\n",
    "    #,'max_round': 100\n",
    "    ,'max_depth': 8\n",
    "    ,'subsample': 0.8\n",
    "    ,'colsample_state': 71\n",
    "    ,'colsample_bytree': 1.0\n",
    "    ,'colsample_bylevel': 0.3\n",
    "    ,'subsumple': 0.9\n",
    "    ,'gamma': 0\n",
    "    ,'lambda': 1\n",
    "    ,'alpha': 0\n",
    "    ,'min_child_weight': 1\n",
    "}\n",
    "\n",
    "num_round = 50\n",
    "\n",
    "for fold_id, (train_index, valid_index) in enumerate(cv.split(X_train)):\n",
    "    X_tr = X_train.loc[train_index, :]\n",
    "    X_val = X_train.loc[valid_index, :]\n",
    "    y_tr = y_train[train_index]\n",
    "    y_val = y_train[valid_index]\n",
    "    \n",
    "    dtrain = xgb.DMatrix(X_tr, label=y_tr)\n",
    "    dvalid = xgb.DMatrix(X_val, label=y_val)\n",
    "    dtest = xgb.DMatrix(X_test)\n",
    "    \n",
    "    watchlist = [(dtrain, 'train'), (dvalid, 'eval')]\n",
    "    model = xgb.train(params, dtrain, num_round, evals=watchlist)\n",
    "    \n",
    "    va_pred = model.predict(dvalid)\n",
    "    score = log_loss(y_val, va_pred)\n",
    "    oof_train[valid_index] = va_pred\n",
    "    \n",
    "    y_pred = model.predict(dtest) \n",
    "    \n",
    "    \n",
    "    #oof_train[valid_index] = model.predict(X_val, num_iteration=model.best_iteration)\n",
    "    #y_pred = model.predict(X_test, num_iteration=model.best_iteration)##\n",
    "\n",
    "    y_preds.append(y_pred)\n",
    "    models.append(model)\n",
    "    scores.append(score)"
   ]
  },
  {
   "cell_type": "code",
   "execution_count": null,
   "id": "c4fb1e34",
   "metadata": {},
   "outputs": [],
   "source": []
  },
  {
   "cell_type": "code",
   "execution_count": null,
   "id": "3a7534e2",
   "metadata": {},
   "outputs": [],
   "source": []
  },
  {
   "cell_type": "code",
   "execution_count": null,
   "id": "40fa6b37",
   "metadata": {},
   "outputs": [],
   "source": []
  },
  {
   "cell_type": "code",
   "execution_count": null,
   "id": "b5dffdc6",
   "metadata": {},
   "outputs": [],
   "source": []
  },
  {
   "cell_type": "code",
   "execution_count": null,
   "id": "e5cc5f3b",
   "metadata": {},
   "outputs": [],
   "source": []
  }
 ],
 "metadata": {
  "kernelspec": {
   "display_name": "Python 3 (ipykernel)",
   "language": "python",
   "name": "python3"
  },
  "language_info": {
   "codemirror_mode": {
    "name": "ipython",
    "version": 3
   },
   "file_extension": ".py",
   "mimetype": "text/x-python",
   "name": "python",
   "nbconvert_exporter": "python",
   "pygments_lexer": "ipython3",
   "version": "3.9.7"
  }
 },
 "nbformat": 4,
 "nbformat_minor": 5
}
