{
 "cells": [
  {
   "cell_type": "code",
   "execution_count": 1,
   "id": "968bae5c",
   "metadata": {},
   "outputs": [
    {
     "name": "stdout",
     "output_type": "stream",
     "text": [
      "NVIDIA GeForce RTX 2080 Ti\n"
     ]
    }
   ],
   "source": [
    "import torch\n",
    "# GPUの名称、CUDA Compute Capabilityを取得\n",
    "print(torch.cuda.get_device_name())"
   ]
  },
  {
   "cell_type": "code",
   "execution_count": 2,
   "id": "537ce2d5",
   "metadata": {},
   "outputs": [
    {
     "ename": "KeyboardInterrupt",
     "evalue": "",
     "output_type": "error",
     "traceback": [
      "\u001b[1;31m---------------------------------------------------------------------------\u001b[0m",
      "\u001b[1;31mKeyboardInterrupt\u001b[0m                         Traceback (most recent call last)",
      "\u001b[1;32m~\\AppData\\Local\\Temp/ipykernel_18332/4020980362.py\u001b[0m in \u001b[0;36m<module>\u001b[1;34m\u001b[0m\n\u001b[1;32m----> 1\u001b[1;33m \u001b[1;32mimport\u001b[0m \u001b[0mcupy\u001b[0m \u001b[1;32mas\u001b[0m \u001b[0mcp\u001b[0m\u001b[1;33m\u001b[0m\u001b[1;33m\u001b[0m\u001b[0m\n\u001b[0m\u001b[0;32m      2\u001b[0m \u001b[1;32mimport\u001b[0m \u001b[0mnumpy\u001b[0m \u001b[1;32mas\u001b[0m \u001b[0mnp\u001b[0m\u001b[1;33m\u001b[0m\u001b[1;33m\u001b[0m\u001b[0m\n\u001b[0;32m      3\u001b[0m \u001b[1;32mimport\u001b[0m \u001b[0mpandas\u001b[0m \u001b[1;32mas\u001b[0m \u001b[0mpd\u001b[0m\u001b[1;33m\u001b[0m\u001b[1;33m\u001b[0m\u001b[0m\n\u001b[0;32m      4\u001b[0m \u001b[1;32mimport\u001b[0m \u001b[0mlightgbm\u001b[0m \u001b[1;32mas\u001b[0m \u001b[0mlgb\u001b[0m\u001b[1;33m\u001b[0m\u001b[1;33m\u001b[0m\u001b[0m\n\u001b[0;32m      5\u001b[0m \u001b[1;32mimport\u001b[0m \u001b[0mmatplotlib\u001b[0m\u001b[1;33m.\u001b[0m\u001b[0mpyplot\u001b[0m \u001b[1;32mas\u001b[0m \u001b[0mplt\u001b[0m\u001b[1;33m\u001b[0m\u001b[1;33m\u001b[0m\u001b[0m\n",
      "\u001b[1;32m~\\AppData\\Roaming\\Python\\Python39\\site-packages\\cupy\\__init__.py\u001b[0m in \u001b[0;36m<module>\u001b[1;34m\u001b[0m\n\u001b[0;32m     30\u001b[0m \u001b[1;32mfrom\u001b[0m \u001b[0mcupy\u001b[0m \u001b[1;32mimport\u001b[0m \u001b[0mcuda\u001b[0m  \u001b[1;31m# NOQA\u001b[0m\u001b[1;33m\u001b[0m\u001b[1;33m\u001b[0m\u001b[0m\n\u001b[0;32m     31\u001b[0m \u001b[1;31m# Do not make `cupy.cupyx` available because it is confusing.\u001b[0m\u001b[1;33m\u001b[0m\u001b[1;33m\u001b[0m\u001b[0m\n\u001b[1;32m---> 32\u001b[1;33m \u001b[1;32mimport\u001b[0m \u001b[0mcupyx\u001b[0m \u001b[1;32mas\u001b[0m \u001b[0m_cupyx\u001b[0m  \u001b[1;31m# NOQA\u001b[0m\u001b[1;33m\u001b[0m\u001b[1;33m\u001b[0m\u001b[0m\n\u001b[0m\u001b[0;32m     33\u001b[0m \u001b[1;33m\u001b[0m\u001b[0m\n\u001b[0;32m     34\u001b[0m \u001b[1;33m\u001b[0m\u001b[0m\n",
      "\u001b[1;32m~\\AppData\\Roaming\\Python\\Python39\\site-packages\\cupyx\\__init__.py\u001b[0m in \u001b[0;36m<module>\u001b[1;34m\u001b[0m\n\u001b[0;32m      9\u001b[0m \u001b[1;32mfrom\u001b[0m \u001b[0mcupyx\u001b[0m \u001b[1;32mimport\u001b[0m \u001b[0mtime\u001b[0m  \u001b[1;31m# NOQA\u001b[0m\u001b[1;33m\u001b[0m\u001b[1;33m\u001b[0m\u001b[0m\n\u001b[0;32m     10\u001b[0m \u001b[1;32mfrom\u001b[0m \u001b[0mcupyx\u001b[0m \u001b[1;32mimport\u001b[0m \u001b[0mscipy\u001b[0m  \u001b[1;31m# NOQA\u001b[0m\u001b[1;33m\u001b[0m\u001b[1;33m\u001b[0m\u001b[0m\n\u001b[1;32m---> 11\u001b[1;33m \u001b[1;32mfrom\u001b[0m \u001b[0mcupyx\u001b[0m \u001b[1;32mimport\u001b[0m \u001b[0moptimizing\u001b[0m  \u001b[1;31m# NOQA\u001b[0m\u001b[1;33m\u001b[0m\u001b[1;33m\u001b[0m\u001b[0m\n\u001b[0m\u001b[0;32m     12\u001b[0m \u001b[1;32mfrom\u001b[0m \u001b[0mcupyx\u001b[0m \u001b[1;32mimport\u001b[0m \u001b[0mlapack\u001b[0m  \u001b[1;31m# NOQA\u001b[0m\u001b[1;33m\u001b[0m\u001b[1;33m\u001b[0m\u001b[0m\n\u001b[0;32m     13\u001b[0m \u001b[1;33m\u001b[0m\u001b[0m\n",
      "\u001b[1;32m~\\AppData\\Roaming\\Python\\Python39\\site-packages\\cupyx\\optimizing\\__init__.py\u001b[0m in \u001b[0;36m<module>\u001b[1;34m\u001b[0m\n\u001b[1;32m----> 1\u001b[1;33m \u001b[1;32mfrom\u001b[0m \u001b[0mcupyx\u001b[0m\u001b[1;33m.\u001b[0m\u001b[0moptimizing\u001b[0m\u001b[1;33m.\u001b[0m\u001b[0m_optimize\u001b[0m \u001b[1;32mimport\u001b[0m \u001b[0moptimize\u001b[0m  \u001b[1;31m# NOQA\u001b[0m\u001b[1;33m\u001b[0m\u001b[1;33m\u001b[0m\u001b[0m\n\u001b[0m",
      "\u001b[1;32m~\\AppData\\Roaming\\Python\\Python39\\site-packages\\cupyx\\optimizing\\_optimize.py\u001b[0m in \u001b[0;36m<module>\u001b[1;34m\u001b[0m\n\u001b[0;32m      6\u001b[0m \u001b[1;33m\u001b[0m\u001b[0m\n\u001b[0;32m      7\u001b[0m \u001b[1;32mtry\u001b[0m\u001b[1;33m:\u001b[0m\u001b[1;33m\u001b[0m\u001b[1;33m\u001b[0m\u001b[0m\n\u001b[1;32m----> 8\u001b[1;33m     \u001b[1;32mimport\u001b[0m \u001b[0moptuna\u001b[0m\u001b[1;33m\u001b[0m\u001b[1;33m\u001b[0m\u001b[0m\n\u001b[0m\u001b[0;32m      9\u001b[0m     \u001b[0m_optuna_available\u001b[0m \u001b[1;33m=\u001b[0m \u001b[1;32mTrue\u001b[0m\u001b[1;33m\u001b[0m\u001b[1;33m\u001b[0m\u001b[0m\n\u001b[0;32m     10\u001b[0m \u001b[1;32mexcept\u001b[0m \u001b[0mImportError\u001b[0m\u001b[1;33m:\u001b[0m\u001b[1;33m\u001b[0m\u001b[1;33m\u001b[0m\u001b[0m\n",
      "\u001b[1;32mC:\\ProgramData\\Anaconda3\\lib\\site-packages\\optuna\\__init__.py\u001b[0m in \u001b[0;36m<module>\u001b[1;34m\u001b[0m\n\u001b[0;32m      9\u001b[0m \u001b[1;32mfrom\u001b[0m \u001b[0moptuna\u001b[0m \u001b[1;32mimport\u001b[0m \u001b[0mintegration\u001b[0m\u001b[1;33m\u001b[0m\u001b[1;33m\u001b[0m\u001b[0m\n\u001b[0;32m     10\u001b[0m \u001b[1;32mfrom\u001b[0m \u001b[0moptuna\u001b[0m \u001b[1;32mimport\u001b[0m \u001b[0mlogging\u001b[0m\u001b[1;33m\u001b[0m\u001b[1;33m\u001b[0m\u001b[0m\n\u001b[1;32m---> 11\u001b[1;33m \u001b[1;32mfrom\u001b[0m \u001b[0moptuna\u001b[0m \u001b[1;32mimport\u001b[0m \u001b[0mmulti_objective\u001b[0m\u001b[1;33m\u001b[0m\u001b[1;33m\u001b[0m\u001b[0m\n\u001b[0m\u001b[0;32m     12\u001b[0m \u001b[1;32mfrom\u001b[0m \u001b[0moptuna\u001b[0m \u001b[1;32mimport\u001b[0m \u001b[0mpruners\u001b[0m\u001b[1;33m\u001b[0m\u001b[1;33m\u001b[0m\u001b[0m\n\u001b[0;32m     13\u001b[0m \u001b[1;32mfrom\u001b[0m \u001b[0moptuna\u001b[0m \u001b[1;32mimport\u001b[0m \u001b[0msamplers\u001b[0m\u001b[1;33m\u001b[0m\u001b[1;33m\u001b[0m\u001b[0m\n",
      "\u001b[1;32mC:\\ProgramData\\Anaconda3\\lib\\site-packages\\optuna\\multi_objective\\__init__.py\u001b[0m in \u001b[0;36m<module>\u001b[1;34m\u001b[0m\n\u001b[0;32m      2\u001b[0m \u001b[1;32mfrom\u001b[0m \u001b[0moptuna\u001b[0m\u001b[1;33m.\u001b[0m\u001b[0mmulti_objective\u001b[0m \u001b[1;32mimport\u001b[0m \u001b[0mstudy\u001b[0m  \u001b[1;31m# NOQA\u001b[0m\u001b[1;33m\u001b[0m\u001b[1;33m\u001b[0m\u001b[0m\n\u001b[0;32m      3\u001b[0m \u001b[1;32mfrom\u001b[0m \u001b[0moptuna\u001b[0m\u001b[1;33m.\u001b[0m\u001b[0mmulti_objective\u001b[0m \u001b[1;32mimport\u001b[0m \u001b[0mtrial\u001b[0m  \u001b[1;31m# NOQA\u001b[0m\u001b[1;33m\u001b[0m\u001b[1;33m\u001b[0m\u001b[0m\n\u001b[1;32m----> 4\u001b[1;33m \u001b[1;32mfrom\u001b[0m \u001b[0moptuna\u001b[0m\u001b[1;33m.\u001b[0m\u001b[0mmulti_objective\u001b[0m \u001b[1;32mimport\u001b[0m \u001b[0mvisualization\u001b[0m  \u001b[1;31m# NOQA\u001b[0m\u001b[1;33m\u001b[0m\u001b[1;33m\u001b[0m\u001b[0m\n\u001b[0m\u001b[0;32m      5\u001b[0m \u001b[1;32mfrom\u001b[0m \u001b[0moptuna\u001b[0m\u001b[1;33m.\u001b[0m\u001b[0mmulti_objective\u001b[0m\u001b[1;33m.\u001b[0m\u001b[0mstudy\u001b[0m \u001b[1;32mimport\u001b[0m \u001b[0mcreate_study\u001b[0m  \u001b[1;31m# NOQA\u001b[0m\u001b[1;33m\u001b[0m\u001b[1;33m\u001b[0m\u001b[0m\n\u001b[0;32m      6\u001b[0m \u001b[1;32mfrom\u001b[0m \u001b[0moptuna\u001b[0m\u001b[1;33m.\u001b[0m\u001b[0mmulti_objective\u001b[0m\u001b[1;33m.\u001b[0m\u001b[0mstudy\u001b[0m \u001b[1;32mimport\u001b[0m \u001b[0mload_study\u001b[0m  \u001b[1;31m# NOQA\u001b[0m\u001b[1;33m\u001b[0m\u001b[1;33m\u001b[0m\u001b[0m\n",
      "\u001b[1;32mC:\\ProgramData\\Anaconda3\\lib\\site-packages\\optuna\\multi_objective\\visualization\\__init__.py\u001b[0m in \u001b[0;36m<module>\u001b[1;34m\u001b[0m\n\u001b[1;32m----> 1\u001b[1;33m \u001b[1;32mfrom\u001b[0m \u001b[0moptuna\u001b[0m\u001b[1;33m.\u001b[0m\u001b[0mmulti_objective\u001b[0m\u001b[1;33m.\u001b[0m\u001b[0mvisualization\u001b[0m\u001b[1;33m.\u001b[0m\u001b[0m_pareto_front\u001b[0m \u001b[1;32mimport\u001b[0m \u001b[0mplot_pareto_front\u001b[0m  \u001b[1;31m# NOQA\u001b[0m\u001b[1;33m\u001b[0m\u001b[1;33m\u001b[0m\u001b[0m\n\u001b[0m\u001b[0;32m      2\u001b[0m \u001b[1;32mfrom\u001b[0m \u001b[0moptuna\u001b[0m\u001b[1;33m.\u001b[0m\u001b[0mvisualization\u001b[0m \u001b[1;32mimport\u001b[0m \u001b[0mis_available\u001b[0m  \u001b[1;31m# NOQA\u001b[0m\u001b[1;33m\u001b[0m\u001b[1;33m\u001b[0m\u001b[0m\n",
      "\u001b[1;32mC:\\ProgramData\\Anaconda3\\lib\\site-packages\\optuna\\multi_objective\\visualization\\_pareto_front.py\u001b[0m in \u001b[0;36m<module>\u001b[1;34m\u001b[0m\n\u001b[0;32m      9\u001b[0m \u001b[1;32mfrom\u001b[0m \u001b[0moptuna\u001b[0m\u001b[1;33m.\u001b[0m\u001b[0mmulti_objective\u001b[0m\u001b[1;33m.\u001b[0m\u001b[0mtrial\u001b[0m \u001b[1;32mimport\u001b[0m \u001b[0mFrozenMultiObjectiveTrial\u001b[0m\u001b[1;33m\u001b[0m\u001b[1;33m\u001b[0m\u001b[0m\n\u001b[0;32m     10\u001b[0m \u001b[1;32mfrom\u001b[0m \u001b[0moptuna\u001b[0m\u001b[1;33m.\u001b[0m\u001b[0mtrial\u001b[0m \u001b[1;32mimport\u001b[0m \u001b[0mTrialState\u001b[0m\u001b[1;33m\u001b[0m\u001b[1;33m\u001b[0m\u001b[0m\n\u001b[1;32m---> 11\u001b[1;33m \u001b[1;32mfrom\u001b[0m \u001b[0moptuna\u001b[0m\u001b[1;33m.\u001b[0m\u001b[0mvisualization\u001b[0m\u001b[1;33m.\u001b[0m\u001b[0m_plotly_imports\u001b[0m \u001b[1;32mimport\u001b[0m \u001b[0m_imports\u001b[0m\u001b[1;33m\u001b[0m\u001b[1;33m\u001b[0m\u001b[0m\n\u001b[0m\u001b[0;32m     12\u001b[0m \u001b[1;33m\u001b[0m\u001b[0m\n\u001b[0;32m     13\u001b[0m \u001b[1;33m\u001b[0m\u001b[0m\n",
      "\u001b[1;32mC:\\ProgramData\\Anaconda3\\lib\\site-packages\\optuna\\visualization\\__init__.py\u001b[0m in \u001b[0;36m<module>\u001b[1;34m\u001b[0m\n\u001b[1;32m----> 1\u001b[1;33m \u001b[1;32mfrom\u001b[0m \u001b[0moptuna\u001b[0m\u001b[1;33m.\u001b[0m\u001b[0mvisualization\u001b[0m \u001b[1;32mimport\u001b[0m \u001b[0mmatplotlib\u001b[0m\u001b[1;33m\u001b[0m\u001b[1;33m\u001b[0m\u001b[0m\n\u001b[0m\u001b[0;32m      2\u001b[0m \u001b[1;32mfrom\u001b[0m \u001b[0moptuna\u001b[0m\u001b[1;33m.\u001b[0m\u001b[0mvisualization\u001b[0m\u001b[1;33m.\u001b[0m\u001b[0m_contour\u001b[0m \u001b[1;32mimport\u001b[0m \u001b[0mplot_contour\u001b[0m\u001b[1;33m\u001b[0m\u001b[1;33m\u001b[0m\u001b[0m\n\u001b[0;32m      3\u001b[0m \u001b[1;32mfrom\u001b[0m \u001b[0moptuna\u001b[0m\u001b[1;33m.\u001b[0m\u001b[0mvisualization\u001b[0m\u001b[1;33m.\u001b[0m\u001b[0m_edf\u001b[0m \u001b[1;32mimport\u001b[0m \u001b[0mplot_edf\u001b[0m\u001b[1;33m\u001b[0m\u001b[1;33m\u001b[0m\u001b[0m\n\u001b[0;32m      4\u001b[0m \u001b[1;32mfrom\u001b[0m \u001b[0moptuna\u001b[0m\u001b[1;33m.\u001b[0m\u001b[0mvisualization\u001b[0m\u001b[1;33m.\u001b[0m\u001b[0m_intermediate_values\u001b[0m \u001b[1;32mimport\u001b[0m \u001b[0mplot_intermediate_values\u001b[0m\u001b[1;33m\u001b[0m\u001b[1;33m\u001b[0m\u001b[0m\n\u001b[0;32m      5\u001b[0m \u001b[1;32mfrom\u001b[0m \u001b[0moptuna\u001b[0m\u001b[1;33m.\u001b[0m\u001b[0mvisualization\u001b[0m\u001b[1;33m.\u001b[0m\u001b[0m_optimization_history\u001b[0m \u001b[1;32mimport\u001b[0m \u001b[0mplot_optimization_history\u001b[0m\u001b[1;33m\u001b[0m\u001b[1;33m\u001b[0m\u001b[0m\n",
      "\u001b[1;32mC:\\ProgramData\\Anaconda3\\lib\\site-packages\\optuna\\visualization\\matplotlib\\__init__.py\u001b[0m in \u001b[0;36m<module>\u001b[1;34m\u001b[0m\n\u001b[1;32m----> 1\u001b[1;33m \u001b[1;32mfrom\u001b[0m \u001b[0moptuna\u001b[0m\u001b[1;33m.\u001b[0m\u001b[0mvisualization\u001b[0m\u001b[1;33m.\u001b[0m\u001b[0mmatplotlib\u001b[0m\u001b[1;33m.\u001b[0m\u001b[0m_contour\u001b[0m \u001b[1;32mimport\u001b[0m \u001b[0mplot_contour\u001b[0m\u001b[1;33m\u001b[0m\u001b[1;33m\u001b[0m\u001b[0m\n\u001b[0m\u001b[0;32m      2\u001b[0m \u001b[1;32mfrom\u001b[0m \u001b[0moptuna\u001b[0m\u001b[1;33m.\u001b[0m\u001b[0mvisualization\u001b[0m\u001b[1;33m.\u001b[0m\u001b[0mmatplotlib\u001b[0m\u001b[1;33m.\u001b[0m\u001b[0m_edf\u001b[0m \u001b[1;32mimport\u001b[0m \u001b[0mplot_edf\u001b[0m\u001b[1;33m\u001b[0m\u001b[1;33m\u001b[0m\u001b[0m\n\u001b[0;32m      3\u001b[0m \u001b[1;32mfrom\u001b[0m \u001b[0moptuna\u001b[0m\u001b[1;33m.\u001b[0m\u001b[0mvisualization\u001b[0m\u001b[1;33m.\u001b[0m\u001b[0mmatplotlib\u001b[0m\u001b[1;33m.\u001b[0m\u001b[0m_intermediate_values\u001b[0m \u001b[1;32mimport\u001b[0m \u001b[0mplot_intermediate_values\u001b[0m\u001b[1;33m\u001b[0m\u001b[1;33m\u001b[0m\u001b[0m\n\u001b[0;32m      4\u001b[0m \u001b[1;32mfrom\u001b[0m \u001b[0moptuna\u001b[0m\u001b[1;33m.\u001b[0m\u001b[0mvisualization\u001b[0m\u001b[1;33m.\u001b[0m\u001b[0mmatplotlib\u001b[0m\u001b[1;33m.\u001b[0m\u001b[0m_optimization_history\u001b[0m \u001b[1;32mimport\u001b[0m \u001b[0mplot_optimization_history\u001b[0m\u001b[1;33m\u001b[0m\u001b[1;33m\u001b[0m\u001b[0m\n\u001b[0;32m      5\u001b[0m \u001b[1;32mfrom\u001b[0m \u001b[0moptuna\u001b[0m\u001b[1;33m.\u001b[0m\u001b[0mvisualization\u001b[0m\u001b[1;33m.\u001b[0m\u001b[0mmatplotlib\u001b[0m\u001b[1;33m.\u001b[0m\u001b[0m_parallel_coordinate\u001b[0m \u001b[1;32mimport\u001b[0m \u001b[0mplot_parallel_coordinate\u001b[0m\u001b[1;33m\u001b[0m\u001b[1;33m\u001b[0m\u001b[0m\n",
      "\u001b[1;32mC:\\ProgramData\\Anaconda3\\lib\\site-packages\\optuna\\visualization\\matplotlib\\_contour.py\u001b[0m in \u001b[0;36m<module>\u001b[1;34m\u001b[0m\n\u001b[0;32m     17\u001b[0m \u001b[1;32mfrom\u001b[0m \u001b[0moptuna\u001b[0m\u001b[1;33m.\u001b[0m\u001b[0mtrial\u001b[0m \u001b[1;32mimport\u001b[0m \u001b[0mTrialState\u001b[0m\u001b[1;33m\u001b[0m\u001b[1;33m\u001b[0m\u001b[0m\n\u001b[0;32m     18\u001b[0m \u001b[1;32mfrom\u001b[0m \u001b[0moptuna\u001b[0m\u001b[1;33m.\u001b[0m\u001b[0mvisualization\u001b[0m\u001b[1;33m.\u001b[0m\u001b[0m_utils\u001b[0m \u001b[1;32mimport\u001b[0m \u001b[0m_check_plot_args\u001b[0m\u001b[1;33m\u001b[0m\u001b[1;33m\u001b[0m\u001b[0m\n\u001b[1;32m---> 19\u001b[1;33m \u001b[1;32mfrom\u001b[0m \u001b[0moptuna\u001b[0m\u001b[1;33m.\u001b[0m\u001b[0mvisualization\u001b[0m\u001b[1;33m.\u001b[0m\u001b[0mmatplotlib\u001b[0m\u001b[1;33m.\u001b[0m\u001b[0m_matplotlib_imports\u001b[0m \u001b[1;32mimport\u001b[0m \u001b[0m_imports\u001b[0m\u001b[1;33m\u001b[0m\u001b[1;33m\u001b[0m\u001b[0m\n\u001b[0m\u001b[0;32m     20\u001b[0m \u001b[1;32mfrom\u001b[0m \u001b[0moptuna\u001b[0m\u001b[1;33m.\u001b[0m\u001b[0mvisualization\u001b[0m\u001b[1;33m.\u001b[0m\u001b[0mmatplotlib\u001b[0m\u001b[1;33m.\u001b[0m\u001b[0m_utils\u001b[0m \u001b[1;32mimport\u001b[0m \u001b[0m_is_log_scale\u001b[0m\u001b[1;33m\u001b[0m\u001b[1;33m\u001b[0m\u001b[0m\n\u001b[0;32m     21\u001b[0m \u001b[1;32mfrom\u001b[0m \u001b[0moptuna\u001b[0m\u001b[1;33m.\u001b[0m\u001b[0mvisualization\u001b[0m\u001b[1;33m.\u001b[0m\u001b[0mmatplotlib\u001b[0m\u001b[1;33m.\u001b[0m\u001b[0m_utils\u001b[0m \u001b[1;32mimport\u001b[0m \u001b[0m_is_numerical\u001b[0m\u001b[1;33m\u001b[0m\u001b[1;33m\u001b[0m\u001b[0m\n",
      "\u001b[1;32mC:\\ProgramData\\Anaconda3\\lib\\site-packages\\optuna\\visualization\\matplotlib\\_matplotlib_imports.py\u001b[0m in \u001b[0;36m<module>\u001b[1;34m\u001b[0m\n\u001b[0;32m      9\u001b[0m     \u001b[1;32mfrom\u001b[0m \u001b[0mmatplotlib\u001b[0m \u001b[1;32mimport\u001b[0m \u001b[0m__version__\u001b[0m \u001b[1;32mas\u001b[0m \u001b[0mmatplotlib_version\u001b[0m\u001b[1;33m\u001b[0m\u001b[1;33m\u001b[0m\u001b[0m\n\u001b[0;32m     10\u001b[0m     \u001b[1;32mfrom\u001b[0m \u001b[0mmatplotlib\u001b[0m \u001b[1;32mimport\u001b[0m \u001b[0mcm\u001b[0m  \u001b[1;31m# NOQA\u001b[0m\u001b[1;33m\u001b[0m\u001b[1;33m\u001b[0m\u001b[0m\n\u001b[1;32m---> 11\u001b[1;33m     \u001b[1;32mfrom\u001b[0m \u001b[0mmatplotlib\u001b[0m \u001b[1;32mimport\u001b[0m \u001b[0mpyplot\u001b[0m \u001b[1;32mas\u001b[0m \u001b[0mplt\u001b[0m  \u001b[1;31m# NOQA\u001b[0m\u001b[1;33m\u001b[0m\u001b[1;33m\u001b[0m\u001b[0m\n\u001b[0m\u001b[0;32m     12\u001b[0m     \u001b[1;32mfrom\u001b[0m \u001b[0mmatplotlib\u001b[0m\u001b[1;33m.\u001b[0m\u001b[0maxes\u001b[0m\u001b[1;33m.\u001b[0m\u001b[0m_axes\u001b[0m \u001b[1;32mimport\u001b[0m \u001b[0mAxes\u001b[0m  \u001b[1;31m# NOQA\u001b[0m\u001b[1;33m\u001b[0m\u001b[1;33m\u001b[0m\u001b[0m\n\u001b[0;32m     13\u001b[0m     \u001b[1;32mfrom\u001b[0m \u001b[0mmatplotlib\u001b[0m\u001b[1;33m.\u001b[0m\u001b[0mcollections\u001b[0m \u001b[1;32mimport\u001b[0m \u001b[0mLineCollection\u001b[0m  \u001b[1;31m# NOQA\u001b[0m\u001b[1;33m\u001b[0m\u001b[1;33m\u001b[0m\u001b[0m\n",
      "\u001b[1;32mC:\\ProgramData\\Anaconda3\\lib\\site-packages\\matplotlib\\pyplot.py\u001b[0m in \u001b[0;36m<module>\u001b[1;34m\u001b[0m\n\u001b[0;32m     37\u001b[0m \u001b[1;32mimport\u001b[0m \u001b[0mmatplotlib\u001b[0m\u001b[1;33m.\u001b[0m\u001b[0mimage\u001b[0m\u001b[1;33m\u001b[0m\u001b[1;33m\u001b[0m\u001b[0m\n\u001b[0;32m     38\u001b[0m \u001b[1;32mfrom\u001b[0m \u001b[0mmatplotlib\u001b[0m \u001b[1;32mimport\u001b[0m \u001b[0m_api\u001b[0m\u001b[1;33m\u001b[0m\u001b[1;33m\u001b[0m\u001b[0m\n\u001b[1;32m---> 39\u001b[1;33m \u001b[1;32mfrom\u001b[0m \u001b[0mmatplotlib\u001b[0m \u001b[1;32mimport\u001b[0m \u001b[0mrcsetup\u001b[0m\u001b[1;33m,\u001b[0m \u001b[0mstyle\u001b[0m\u001b[1;33m\u001b[0m\u001b[1;33m\u001b[0m\u001b[0m\n\u001b[0m\u001b[0;32m     40\u001b[0m \u001b[1;32mfrom\u001b[0m \u001b[0mmatplotlib\u001b[0m \u001b[1;32mimport\u001b[0m \u001b[0m_pylab_helpers\u001b[0m\u001b[1;33m,\u001b[0m \u001b[0minteractive\u001b[0m\u001b[1;33m\u001b[0m\u001b[1;33m\u001b[0m\u001b[0m\n\u001b[0;32m     41\u001b[0m \u001b[1;32mfrom\u001b[0m \u001b[0mmatplotlib\u001b[0m \u001b[1;32mimport\u001b[0m \u001b[0mcbook\u001b[0m\u001b[1;33m\u001b[0m\u001b[1;33m\u001b[0m\u001b[0m\n",
      "\u001b[1;32mC:\\ProgramData\\Anaconda3\\lib\\site-packages\\matplotlib\\style\\__init__.py\u001b[0m in \u001b[0;36m<module>\u001b[1;34m\u001b[0m\n\u001b[1;32m----> 1\u001b[1;33m \u001b[1;32mfrom\u001b[0m \u001b[1;33m.\u001b[0m\u001b[0mcore\u001b[0m \u001b[1;32mimport\u001b[0m \u001b[0muse\u001b[0m\u001b[1;33m,\u001b[0m \u001b[0mcontext\u001b[0m\u001b[1;33m,\u001b[0m \u001b[0mavailable\u001b[0m\u001b[1;33m,\u001b[0m \u001b[0mlibrary\u001b[0m\u001b[1;33m,\u001b[0m \u001b[0mreload_library\u001b[0m\u001b[1;33m\u001b[0m\u001b[1;33m\u001b[0m\u001b[0m\n\u001b[0m",
      "\u001b[1;32mC:\\ProgramData\\Anaconda3\\lib\\site-packages\\matplotlib\\style\\core.py\u001b[0m in \u001b[0;36m<module>\u001b[1;34m\u001b[0m\n\u001b[0;32m    205\u001b[0m \u001b[1;31m# Load style library\u001b[0m\u001b[1;33m\u001b[0m\u001b[1;33m\u001b[0m\u001b[0m\n\u001b[0;32m    206\u001b[0m \u001b[1;31m# ==================\u001b[0m\u001b[1;33m\u001b[0m\u001b[1;33m\u001b[0m\u001b[0m\n\u001b[1;32m--> 207\u001b[1;33m \u001b[0m_base_library\u001b[0m \u001b[1;33m=\u001b[0m \u001b[0mload_base_library\u001b[0m\u001b[1;33m(\u001b[0m\u001b[1;33m)\u001b[0m\u001b[1;33m\u001b[0m\u001b[1;33m\u001b[0m\u001b[0m\n\u001b[0m\u001b[0;32m    208\u001b[0m \u001b[1;33m\u001b[0m\u001b[0m\n\u001b[0;32m    209\u001b[0m \u001b[0mlibrary\u001b[0m \u001b[1;33m=\u001b[0m \u001b[1;32mNone\u001b[0m\u001b[1;33m\u001b[0m\u001b[1;33m\u001b[0m\u001b[0m\n",
      "\u001b[1;32mC:\\ProgramData\\Anaconda3\\lib\\site-packages\\matplotlib\\style\\core.py\u001b[0m in \u001b[0;36mload_base_library\u001b[1;34m()\u001b[0m\n\u001b[0;32m    158\u001b[0m \u001b[1;32mdef\u001b[0m \u001b[0mload_base_library\u001b[0m\u001b[1;33m(\u001b[0m\u001b[1;33m)\u001b[0m\u001b[1;33m:\u001b[0m\u001b[1;33m\u001b[0m\u001b[1;33m\u001b[0m\u001b[0m\n\u001b[0;32m    159\u001b[0m     \u001b[1;34m\"\"\"Load style library defined in this package.\"\"\"\u001b[0m\u001b[1;33m\u001b[0m\u001b[1;33m\u001b[0m\u001b[0m\n\u001b[1;32m--> 160\u001b[1;33m     \u001b[0mlibrary\u001b[0m \u001b[1;33m=\u001b[0m \u001b[0mread_style_directory\u001b[0m\u001b[1;33m(\u001b[0m\u001b[0mBASE_LIBRARY_PATH\u001b[0m\u001b[1;33m)\u001b[0m\u001b[1;33m\u001b[0m\u001b[1;33m\u001b[0m\u001b[0m\n\u001b[0m\u001b[0;32m    161\u001b[0m     \u001b[1;32mreturn\u001b[0m \u001b[0mlibrary\u001b[0m\u001b[1;33m\u001b[0m\u001b[1;33m\u001b[0m\u001b[0m\n\u001b[0;32m    162\u001b[0m \u001b[1;33m\u001b[0m\u001b[0m\n",
      "\u001b[1;32mC:\\ProgramData\\Anaconda3\\lib\\site-packages\\matplotlib\\style\\core.py\u001b[0m in \u001b[0;36mread_style_directory\u001b[1;34m(style_dir)\u001b[0m\n\u001b[0;32m    182\u001b[0m     \u001b[1;32mfor\u001b[0m \u001b[0mpath\u001b[0m \u001b[1;32min\u001b[0m \u001b[0mPath\u001b[0m\u001b[1;33m(\u001b[0m\u001b[0mstyle_dir\u001b[0m\u001b[1;33m)\u001b[0m\u001b[1;33m.\u001b[0m\u001b[0mglob\u001b[0m\u001b[1;33m(\u001b[0m\u001b[1;34mf\"*.{STYLE_EXTENSION}\"\u001b[0m\u001b[1;33m)\u001b[0m\u001b[1;33m:\u001b[0m\u001b[1;33m\u001b[0m\u001b[1;33m\u001b[0m\u001b[0m\n\u001b[0;32m    183\u001b[0m         \u001b[1;32mwith\u001b[0m \u001b[0mwarnings\u001b[0m\u001b[1;33m.\u001b[0m\u001b[0mcatch_warnings\u001b[0m\u001b[1;33m(\u001b[0m\u001b[0mrecord\u001b[0m\u001b[1;33m=\u001b[0m\u001b[1;32mTrue\u001b[0m\u001b[1;33m)\u001b[0m \u001b[1;32mas\u001b[0m \u001b[0mwarns\u001b[0m\u001b[1;33m:\u001b[0m\u001b[1;33m\u001b[0m\u001b[1;33m\u001b[0m\u001b[0m\n\u001b[1;32m--> 184\u001b[1;33m             styles[path.stem] = rc_params_from_file(\n\u001b[0m\u001b[0;32m    185\u001b[0m                 path, use_default_template=False)\n\u001b[0;32m    186\u001b[0m         \u001b[1;32mfor\u001b[0m \u001b[0mw\u001b[0m \u001b[1;32min\u001b[0m \u001b[0mwarns\u001b[0m\u001b[1;33m:\u001b[0m\u001b[1;33m\u001b[0m\u001b[1;33m\u001b[0m\u001b[0m\n",
      "\u001b[1;32mC:\\ProgramData\\Anaconda3\\lib\\site-packages\\matplotlib\\__init__.py\u001b[0m in \u001b[0;36mrc_params_from_file\u001b[1;34m(fname, fail_on_error, use_default_template)\u001b[0m\n\u001b[0;32m    796\u001b[0m         \u001b[0mparameters\u001b[0m \u001b[0mspecified\u001b[0m \u001b[1;32min\u001b[0m \u001b[0mthe\u001b[0m \u001b[0mfile\u001b[0m\u001b[1;33m.\u001b[0m \u001b[1;33m(\u001b[0m\u001b[0mUseful\u001b[0m \u001b[1;32mfor\u001b[0m \u001b[0mupdating\u001b[0m \u001b[0mdicts\u001b[0m\u001b[1;33m.\u001b[0m\u001b[1;33m)\u001b[0m\u001b[1;33m\u001b[0m\u001b[1;33m\u001b[0m\u001b[0m\n\u001b[0;32m    797\u001b[0m     \"\"\"\n\u001b[1;32m--> 798\u001b[1;33m     \u001b[0mconfig_from_file\u001b[0m \u001b[1;33m=\u001b[0m \u001b[0m_rc_params_in_file\u001b[0m\u001b[1;33m(\u001b[0m\u001b[0mfname\u001b[0m\u001b[1;33m,\u001b[0m \u001b[0mfail_on_error\u001b[0m\u001b[1;33m=\u001b[0m\u001b[0mfail_on_error\u001b[0m\u001b[1;33m)\u001b[0m\u001b[1;33m\u001b[0m\u001b[1;33m\u001b[0m\u001b[0m\n\u001b[0m\u001b[0;32m    799\u001b[0m \u001b[1;33m\u001b[0m\u001b[0m\n\u001b[0;32m    800\u001b[0m     \u001b[1;32mif\u001b[0m \u001b[1;32mnot\u001b[0m \u001b[0muse_default_template\u001b[0m\u001b[1;33m:\u001b[0m\u001b[1;33m\u001b[0m\u001b[1;33m\u001b[0m\u001b[0m\n",
      "\u001b[1;32mC:\\ProgramData\\Anaconda3\\lib\\site-packages\\matplotlib\\__init__.py\u001b[0m in \u001b[0;36m_rc_params_in_file\u001b[1;34m(fname, transform, fail_on_error)\u001b[0m\n\u001b[0;32m    725\u001b[0m     \"\"\"\n\u001b[0;32m    726\u001b[0m     \u001b[0mrc_temp\u001b[0m \u001b[1;33m=\u001b[0m \u001b[1;33m{\u001b[0m\u001b[1;33m}\u001b[0m\u001b[1;33m\u001b[0m\u001b[1;33m\u001b[0m\u001b[0m\n\u001b[1;32m--> 727\u001b[1;33m     \u001b[1;32mwith\u001b[0m \u001b[0m_open_file_or_url\u001b[0m\u001b[1;33m(\u001b[0m\u001b[0mfname\u001b[0m\u001b[1;33m)\u001b[0m \u001b[1;32mas\u001b[0m \u001b[0mfd\u001b[0m\u001b[1;33m:\u001b[0m\u001b[1;33m\u001b[0m\u001b[1;33m\u001b[0m\u001b[0m\n\u001b[0m\u001b[0;32m    728\u001b[0m         \u001b[1;32mtry\u001b[0m\u001b[1;33m:\u001b[0m\u001b[1;33m\u001b[0m\u001b[1;33m\u001b[0m\u001b[0m\n\u001b[0;32m    729\u001b[0m             \u001b[1;32mfor\u001b[0m \u001b[0mline_no\u001b[0m\u001b[1;33m,\u001b[0m \u001b[0mline\u001b[0m \u001b[1;32min\u001b[0m \u001b[0menumerate\u001b[0m\u001b[1;33m(\u001b[0m\u001b[0mfd\u001b[0m\u001b[1;33m,\u001b[0m \u001b[1;36m1\u001b[0m\u001b[1;33m)\u001b[0m\u001b[1;33m:\u001b[0m\u001b[1;33m\u001b[0m\u001b[1;33m\u001b[0m\u001b[0m\n",
      "\u001b[1;32mC:\\ProgramData\\Anaconda3\\lib\\contextlib.py\u001b[0m in \u001b[0;36m__enter__\u001b[1;34m(self)\u001b[0m\n\u001b[0;32m    117\u001b[0m         \u001b[1;32mdel\u001b[0m \u001b[0mself\u001b[0m\u001b[1;33m.\u001b[0m\u001b[0margs\u001b[0m\u001b[1;33m,\u001b[0m \u001b[0mself\u001b[0m\u001b[1;33m.\u001b[0m\u001b[0mkwds\u001b[0m\u001b[1;33m,\u001b[0m \u001b[0mself\u001b[0m\u001b[1;33m.\u001b[0m\u001b[0mfunc\u001b[0m\u001b[1;33m\u001b[0m\u001b[1;33m\u001b[0m\u001b[0m\n\u001b[0;32m    118\u001b[0m         \u001b[1;32mtry\u001b[0m\u001b[1;33m:\u001b[0m\u001b[1;33m\u001b[0m\u001b[1;33m\u001b[0m\u001b[0m\n\u001b[1;32m--> 119\u001b[1;33m             \u001b[1;32mreturn\u001b[0m \u001b[0mnext\u001b[0m\u001b[1;33m(\u001b[0m\u001b[0mself\u001b[0m\u001b[1;33m.\u001b[0m\u001b[0mgen\u001b[0m\u001b[1;33m)\u001b[0m\u001b[1;33m\u001b[0m\u001b[1;33m\u001b[0m\u001b[0m\n\u001b[0m\u001b[0;32m    120\u001b[0m         \u001b[1;32mexcept\u001b[0m \u001b[0mStopIteration\u001b[0m\u001b[1;33m:\u001b[0m\u001b[1;33m\u001b[0m\u001b[1;33m\u001b[0m\u001b[0m\n\u001b[0;32m    121\u001b[0m             \u001b[1;32mraise\u001b[0m \u001b[0mRuntimeError\u001b[0m\u001b[1;33m(\u001b[0m\u001b[1;34m\"generator didn't yield\"\u001b[0m\u001b[1;33m)\u001b[0m \u001b[1;32mfrom\u001b[0m \u001b[1;32mNone\u001b[0m\u001b[1;33m\u001b[0m\u001b[1;33m\u001b[0m\u001b[0m\n",
      "\u001b[1;32mC:\\ProgramData\\Anaconda3\\lib\\site-packages\\matplotlib\\__init__.py\u001b[0m in \u001b[0;36m_open_file_or_url\u001b[1;34m(fname)\u001b[0m\n\u001b[0;32m    703\u001b[0m         \u001b[1;32mif\u001b[0m \u001b[0mencoding\u001b[0m \u001b[1;32mis\u001b[0m \u001b[1;32mNone\u001b[0m\u001b[1;33m:\u001b[0m\u001b[1;33m\u001b[0m\u001b[1;33m\u001b[0m\u001b[0m\n\u001b[0;32m    704\u001b[0m             \u001b[0mencoding\u001b[0m \u001b[1;33m=\u001b[0m \u001b[1;34m\"utf-8\"\u001b[0m\u001b[1;33m\u001b[0m\u001b[1;33m\u001b[0m\u001b[0m\n\u001b[1;32m--> 705\u001b[1;33m         \u001b[1;32mwith\u001b[0m \u001b[0mopen\u001b[0m\u001b[1;33m(\u001b[0m\u001b[0mfname\u001b[0m\u001b[1;33m,\u001b[0m \u001b[0mencoding\u001b[0m\u001b[1;33m=\u001b[0m\u001b[0mencoding\u001b[0m\u001b[1;33m)\u001b[0m \u001b[1;32mas\u001b[0m \u001b[0mf\u001b[0m\u001b[1;33m:\u001b[0m\u001b[1;33m\u001b[0m\u001b[1;33m\u001b[0m\u001b[0m\n\u001b[0m\u001b[0;32m    706\u001b[0m             \u001b[1;32myield\u001b[0m \u001b[0mf\u001b[0m\u001b[1;33m\u001b[0m\u001b[1;33m\u001b[0m\u001b[0m\n\u001b[0;32m    707\u001b[0m \u001b[1;33m\u001b[0m\u001b[0m\n",
      "\u001b[1;31mKeyboardInterrupt\u001b[0m: "
     ]
    }
   ],
   "source": [
    "import cupy as cp\n",
    "import numpy as np\n",
    "import pandas as pd\n",
    "import lightgbm as lgb\n",
    "import matplotlib.pyplot as plt\n",
    "import seaborn as sns\n",
    "import tensorflow as tf\n",
    "import scipy.stats as st\n",
    "import pickle\n",
    "import optuna\n",
    "import re\n",
    "import gc\n",
    "\n",
    "from lightgbm import LGBMClassifier\n",
    "\n",
    "from sklearn import metrics\n",
    "from sklearn.tree import plot_tree\n",
    "from sklearn.tree import DecisionTreeClassifier, export_graphviz\n",
    "from sklearn.impute import SimpleImputer\n",
    "from sklearn_pandas import DataFrameMapper\n",
    "from sklearn.metrics import accuracy_score\n",
    "from sklearn.metrics import roc_auc_score\n",
    "from sklearn.metrics import log_loss\n",
    "from sklearn.metrics import mean_squared_log_error\n",
    "from sklearn.ensemble import RandomForestRegressor\n",
    "from sklearn.model_selection import KFold\n",
    "from sklearn.model_selection import train_test_split\n",
    "from sklearn.preprocessing import LabelEncoder\n",
    "from sklearn.preprocessing import StandardScaler\n",
    "from sklearn.preprocessing import PowerTransformer\n",
    "from sklearn.preprocessing import LabelEncoder\n",
    "from sklearn.preprocessing import MinMaxScaler\n",
    "from sklearn.preprocessing import OneHotEncoder, LabelEncoder\n",
    "from sklearn.experimental import enable_iterative_imputer\n",
    "from sklearn.metrics import roc_auc_score\n",
    "from sklearn.datasets import make_moons\n",
    "from sklearn.model_selection import StratifiedKFold\n",
    "from sklearn.feature_selection import mutual_info_classif\n",
    "from sklearn.experimental import enable_iterative_imputer\n",
    "\n",
    "from keras.layers import Dense, Dropout\n",
    "from keras.models import Sequential\n",
    "\n",
    "from six import StringIO\n",
    "\n",
    "from IPython.display import Image\n",
    "import matplotlib.pyplot as plt\n",
    "import seaborn as sns\n",
    "\n",
    "import statsmodels.api as sm\n",
    "import math\n",
    "from scipy import stats\n",
    "import numpy as np\n",
    "import pandas as pd\n",
    "import tensorflow as tf\n",
    "\n",
    "from datetime import datetime\n",
    "from tensorflow import feature_column\n",
    "from tensorflow.keras import layers\n",
    "\n",
    "from tqdm import tqdm\n",
    "\n",
    "# sklearn preprocessing for dealing with categorical variables\n",
    "from sklearn.preprocessing import LabelEncoder\n",
    "\n",
    "# File system manangement\n",
    "import os\n",
    "\n",
    "# Suppress warnings \n",
    "import warnings\n",
    "warnings.filterwarnings('ignore')\n",
    "\n",
    "import xgboost as xgb\n",
    "from sklearn.metrics import log_loss\n",
    "from xgboost.sklearn import XGBClassifier\n",
    "\n",
    "from Modules import Modules\n",
    "from Baseline import Baseline\n",
    "from FeatureEngineering2 import FeatureEngineering2\n",
    "\n",
    "\n",
    "%matplotlib inline\n",
    "\n",
    "print(\"OK\\n\")"
   ]
  },
  {
   "cell_type": "markdown",
   "id": "5fc63247",
   "metadata": {},
   "source": [
    "## 共通関数定義"
   ]
  },
  {
   "cell_type": "code",
   "execution_count": null,
   "id": "f589e034",
   "metadata": {},
   "outputs": [],
   "source": [
    "\"\"\"\n",
    "params_base = {\n",
    "    'boosting_type': 'gbdt'\n",
    "    ,'objective': 'binary'\n",
    "    ,'metric': 'auc'\n",
    "    ,'nthread': -1\n",
    "    ,'n_estimators': 5000\n",
    "    ,'learning_rate': 0.01\n",
    "    ,'max_depth': 11\n",
    "    ,'colsample_bytree': 0.613\n",
    "    ,'subsample': 0.708\n",
    "    ,'max_bin': 407\n",
    "    ,'reg_alpha': 3.564\n",
    "    ,'reg_lambda': 4.930\n",
    "    ,'min_child_samples': 165\n",
    "    ,'silent': -1\n",
    "    ,'verbose': -1\n",
    "    ,'importance_type': 'gain'\n",
    "}\n",
    "\"\"\"\n",
    "params_base = {\n",
    "    'boosting_type': 'gbdt'\n",
    "    ,'objective': 'binary'\n",
    "    ,'metric': 'auc'\n",
    "    ,'learning_rate': 0.02\n",
    "    ,'max_bin':400\n",
    "    ,'max_depth': -1\n",
    "    ,'num_leaves': 30\n",
    "    ,'min_child_samples': 70\n",
    "    ,'subsample': 1.0\n",
    "    ,'subsample_freq': 1\n",
    "    ,'colsample_bytree': 0.05\n",
    "    ,'min_split_gain': 0.5\n",
    "    ,'reg_alpha': 0.0\n",
    "    ,'reg_lambda': 100\n",
    "    ,'n_estimators': 10000\n",
    "}\n",
    "\n",
    "\n",
    "\n",
    "\n",
    "def objective(trial):\n",
    "    # 探索するパラメータ\n",
    "    param_tuning = {\n",
    "            \"num_leaves\": trial.suggest_int(\"num_leaves\", 8, 256)\n",
    "            ,\"min_child_samples\": trial.suggest_int(\"min_child_samples\", 5, 200)\n",
    "            ,\"min_sum_hessian_in_leaf\": trial.suggest_float(\"min_sum_hessian_in_leaf\", 1e-5, 1e-2, log=True)\n",
    "            ,\"feature_fraction\": trial.suggest_float(\"feature_fraction\", 0.5, 1.0)\n",
    "            ,\"bagging_fraction\": trial.suggest_float(\"bagging_fraction\", 0.5, 1.0)\n",
    "            ,\"lambda_l1\": trial.suggest_float(\"lambda_l1\", 1e-2, 1e+2, log=True)\n",
    "            ,\"lambda_l2\": trial.suggest_float(\"lambda_l2\", 1e-2, 1e+2, log=True)\n",
    "    }\n",
    "    param_tuning.update(params_base)\n",
    "\n",
    "    # モデル学習・評価:\n",
    "    list_metrics = []\n",
    "    cv = list(StratifiedKFold(n_splits=5, shuffle=True, random_state=123).split(x_train, y_train))\n",
    "    list_fold = [0]\n",
    "    for nfold in list_fold:\n",
    "        idx_tr, idx_va = cv[nfold][0], cv[nfold][1]\n",
    "        x_tr, y_tr = x_train.loc[idx_tr, :], y_train[idx_tr]\n",
    "        x_va, y_va = x_train.loc[idx_va, :], y_train[idx_va]\n",
    "        model = lgb.LGBMClassifier(**params)\n",
    "        model.fit(x_tr\n",
    "                    ,y_tr\n",
    "                    ,eval_set=[(x_tr, y_tr), (x_va, y_va)]\n",
    "                    ,early_stopping_rounds=1000\n",
    "                    ,verbose=0\n",
    "        )\n",
    "        y_va_pred = model.predict_proba(x_va)[:,1]\n",
    "        metric_va = roc_auc_score(y_va, y_va_pred)\n",
    "        list_metrics.append(metric_va)\n",
    "\n",
    "    # 評価指数の算出\n",
    "    metrics = np.mean(list_metrics)\n",
    "\n",
    "    return metrics"
   ]
  },
  {
   "cell_type": "markdown",
   "id": "7cf68f35",
   "metadata": {},
   "source": [
    "## インスタンス生成"
   ]
  },
  {
   "cell_type": "code",
   "execution_count": null,
   "id": "3adc0659",
   "metadata": {},
   "outputs": [],
   "source": [
    "baseline = Baseline('SK_ID_CURR')\n",
    "modules = Modules('SK_ID_CURR')\n",
    "FeatureEngineering2 = FeatureEngineering2('SK_ID_CURR')"
   ]
  },
  {
   "cell_type": "markdown",
   "id": "5215443f",
   "metadata": {},
   "source": [
    "## 特徴量生成"
   ]
  },
  {
   "cell_type": "code",
   "execution_count": null,
   "id": "e1b7c4c1",
   "metadata": {},
   "outputs": [],
   "source": [
    "### application\n",
    "df = FeatureEngineering2.application()\n",
    "df.head()"
   ]
  },
  {
   "cell_type": "code",
   "execution_count": null,
   "id": "38b44b06",
   "metadata": {},
   "outputs": [],
   "source": [
    "### bureau_balance\n",
    "df = df.merge(FeatureEngineering2.bureau_bb(), how='left', on='SK_ID_CURR')\n",
    "df.head()"
   ]
  },
  {
   "cell_type": "code",
   "execution_count": null,
   "id": "37f4c275",
   "metadata": {},
   "outputs": [],
   "source": [
    "### previos_application\n",
    "df = df.merge(FeatureEngineering2.previous_application(), how='left', on='SK_ID_CURR')\n",
    "df.head()"
   ]
  },
  {
   "cell_type": "code",
   "execution_count": null,
   "id": "e00b2ae2",
   "metadata": {},
   "outputs": [],
   "source": [
    "### pos_cash\n",
    "df = df.merge(FeatureEngineering2.pos_cash(), how='left', on='SK_ID_CURR')\n",
    "df.head()"
   ]
  },
  {
   "cell_type": "code",
   "execution_count": null,
   "id": "de397ffb",
   "metadata": {},
   "outputs": [],
   "source": [
    "### instllment_payment\n",
    "df = df.merge(FeatureEngineering2.installment(), how='left', on='SK_ID_CURR')\n",
    "df.head()"
   ]
  },
  {
   "cell_type": "code",
   "execution_count": null,
   "id": "6484c159",
   "metadata": {},
   "outputs": [],
   "source": [
    "### credit_card_balance\n",
    "df = df.merge(FeatureEngineering2.credit_card(), how='left', on='SK_ID_CURR')\n",
    "df.head()"
   ]
  },
  {
   "cell_type": "code",
   "execution_count": null,
   "id": "979b63d7",
   "metadata": {},
   "outputs": [],
   "source": [
    "### 変数選択001\n",
    "df = FeatureEngineering2.data_post_processing(df)\n",
    "print('='*50, '\\n')\n",
    "print('---=> df final shape:', df.shape, ' <=---', '\\n')\n",
    "print('=' * 50)\n",
    "df.head()"
   ]
  },
  {
   "cell_type": "code",
   "execution_count": null,
   "id": "7acef9cb",
   "metadata": {},
   "outputs": [],
   "source": [
    "### 変数選択002\n",
    "df = FeatureEngineering2.data_post_processing(df)\n",
    "print('='*50, '\\n')\n",
    "print('---=> df final shape:', df.shape, ' <=---', '\\n')\n",
    "print('=' * 50)\n",
    "df.head()"
   ]
  },
  {
   "cell_type": "code",
   "execution_count": null,
   "id": "eefb2803",
   "metadata": {},
   "outputs": [],
   "source": [
    "df = df.rename(columns = lambda x:re.sub('[^A-Za-z0-9_]+', '', x))\n",
    "df.head()"
   ]
  },
  {
   "cell_type": "markdown",
   "id": "d3112b30",
   "metadata": {},
   "source": [
    "## 学習"
   ]
  },
  {
   "cell_type": "markdown",
   "id": "bde1109a",
   "metadata": {},
   "source": [
    "### 001 baseline"
   ]
  },
  {
   "cell_type": "code",
   "execution_count": null,
   "id": "94faae56",
   "metadata": {},
   "outputs": [],
   "source": [
    "# split train, and test datasets\n",
    "app_train = df[df['TARGET'].notnull()]\n",
    "app_test = df[df['TARGET'].isnull()]\n",
    "\n",
    "print(app_test.shape)\n",
    "app_test.head()"
   ]
  },
  {
   "cell_type": "code",
   "execution_count": null,
   "id": "94dcac1b",
   "metadata": {},
   "outputs": [],
   "source": [
    "pred_train_1b = pd.read_csv('./home-credit-default-risk/exports/pred_train_1b.csv')\n",
    "pred_test_1b =  pd.read_csv('./home-credit-default-risk/exports/pred_test_1b.csv')\n",
    "pred_test_1b.head()"
   ]
  },
  {
   "cell_type": "code",
   "execution_count": null,
   "id": "dca748db",
   "metadata": {},
   "outputs": [],
   "source": [
    "app_train = app_train.merge(pred_train_1b, how='left', on='SK_ID_CURR')\n",
    "app_test = app_test.merge(pred_test_1b, how='left', on='SK_ID_CURR')\n",
    "app_test.head()"
   ]
  },
  {
   "cell_type": "code",
   "execution_count": null,
   "id": "4a6c015c",
   "metadata": {},
   "outputs": [],
   "source": [
    "#pred_train_1a = pd.read_csv('./home-credit-default-risk/exports/pred_train_1a.csv')\n",
    "#pred_test_1a =  pd.read_csv('./home-credit-default-risk/exports/pred_test_1a.csv')\n",
    "#pred_test_1b.head()"
   ]
  },
  {
   "cell_type": "code",
   "execution_count": null,
   "id": "f2dee40e",
   "metadata": {},
   "outputs": [],
   "source": [
    "#app_train = app_train.merge(pred_train_1a, how='left', on='SK_ID_CURR')\n",
    "#app_test = app_test.merge(pred_test_1a, how='left', on='SK_ID_CURR')\n",
    "#app_test.head()"
   ]
  },
  {
   "cell_type": "code",
   "execution_count": null,
   "id": "eeeae571",
   "metadata": {},
   "outputs": [],
   "source": [
    "pred_train_set1a = pd.read_csv('./home-credit-default-risk/exports/pred_train_set1a.csv')\n",
    "pred_test_set1a =  pd.read_csv('./home-credit-default-risk/exports/pred_test_set1a.csv')\n",
    "pred_test_set1a.head()"
   ]
  },
  {
   "cell_type": "code",
   "execution_count": null,
   "id": "ea7af1c5",
   "metadata": {},
   "outputs": [],
   "source": [
    "app_train = app_train.merge(pred_train_set1a, how='left', on='SK_ID_CURR')\n",
    "app_test = app_test.merge(pred_test_set1a, how='left', on='SK_ID_CURR')\n",
    "app_test.head()"
   ]
  },
  {
   "cell_type": "code",
   "execution_count": null,
   "id": "a74553b8",
   "metadata": {},
   "outputs": [],
   "source": [
    "train_set3a = pd.read_csv('./home-credit-default-risk/exports/train_set3a.csv')\n",
    "test_set3a =  pd.read_csv('./home-credit-default-risk/exports/test_set3a.csv')\n",
    "test_set3a.head()"
   ]
  },
  {
   "cell_type": "code",
   "execution_count": null,
   "id": "3dd5a857",
   "metadata": {},
   "outputs": [],
   "source": [
    "app_train = app_train.merge(train_set3a, how='left', on='SK_ID_CURR')\n",
    "app_test = app_test.merge(test_set3a, how='left', on='SK_ID_CURR')\n",
    "app_test.head()"
   ]
  },
  {
   "cell_type": "code",
   "execution_count": null,
   "id": "0fd40156",
   "metadata": {},
   "outputs": [],
   "source": [
    "### indexを削除\n",
    "app_train=app_train.reset_index()\n",
    "app_test=app_test.reset_index()\n",
    "app_test.head()"
   ]
  },
  {
   "cell_type": "code",
   "execution_count": null,
   "id": "05421d78",
   "metadata": {},
   "outputs": [],
   "source": [
    "### indexを削除\n",
    "app_train = app_train.drop(columns=['index'])\n",
    "app_test = app_test.drop(columns=['index'])\n",
    "app_test.head()"
   ]
  },
  {
   "cell_type": "markdown",
   "id": "a20d0480",
   "metadata": {},
   "source": [
    "### 正規化＋対数変換"
   ]
  },
  {
   "cell_type": "code",
   "execution_count": null,
   "id": "b7182df3",
   "metadata": {},
   "outputs": [],
   "source": [
    "app_train_ord = app_train.copy()\n",
    "app_test_ord = app_test.copy()\n",
    "app_test_ord.head()"
   ]
  },
  {
   "cell_type": "code",
   "execution_count": null,
   "id": "87c51eec",
   "metadata": {},
   "outputs": [],
   "source": [
    "# infをnanへ置換\n",
    "app_train_ord = app_train_ord.replace([np.inf, -np.inf], np.nan)\n",
    "app_test_ord = app_test_ord.replace([np.inf, -np.inf], np.nan)\n",
    "app_test_ord.head()"
   ]
  },
  {
   "cell_type": "code",
   "execution_count": null,
   "id": "e883ca55",
   "metadata": {},
   "outputs": [],
   "source": [
    "### 処理対象の列名を配列化\n",
    "#encoding_columns = []\n",
    "encoding_columns = list(app_test_ord.select_dtypes(include='number').columns)\n",
    "encoding_columns.remove('SK_ID_CURR')\n",
    "encoding_columns.remove('TARGET')"
   ]
  },
  {
   "cell_type": "code",
   "execution_count": null,
   "id": "6ff217b8",
   "metadata": {},
   "outputs": [],
   "source": [
    "### 欠損値補完\n",
    "#app_train_ord = app_train_ord.fillna(app_train_ord.max() + (app_train_ord.max() * 0.4))\n",
    "app_train_ord.head()"
   ]
  },
  {
   "cell_type": "code",
   "execution_count": null,
   "id": "925c02b3",
   "metadata": {},
   "outputs": [],
   "source": [
    "### 欠損値補完\n",
    "#app_test_ord = app_test_ord.fillna(app_test_ord.max() + (app_test_ord.max() * 0.4))\n",
    "app_test_ord.head()"
   ]
  },
  {
   "cell_type": "code",
   "execution_count": null,
   "id": "36cbf6d2",
   "metadata": {},
   "outputs": [],
   "source": [
    "### Yao-Jhonson変換\n",
    "#for column in encoding_columns:\n",
    "#    modules.process_yj_convert(app_train_ord, app_test_ord, column, [column])#\n",
    "#\n",
    "#app_test_ord.head()"
   ]
  },
  {
   "cell_type": "code",
   "execution_count": null,
   "id": "fe83d00b",
   "metadata": {},
   "outputs": [],
   "source": [
    "### indexを設定\n",
    "app_train_ord = app_train_ord.set_index('SK_ID_CURR')\n",
    "app_test_ord = app_test_ord.set_index('SK_ID_CURR')\n",
    "app_test_ord.head()"
   ]
  },
  {
   "cell_type": "code",
   "execution_count": null,
   "id": "2a6afce9",
   "metadata": {},
   "outputs": [],
   "source": [
    "### 標準化\n",
    "for column in encoding_columns:\n",
    "    num_cols = []\n",
    "    num_cols.append(column)\n",
    "    result = modules.process_standardization(app_train_ord, app_test_ord, num_cols)\n",
    "        \n",
    "app_test_ord.head()"
   ]
  },
  {
   "cell_type": "code",
   "execution_count": null,
   "id": "cc8b232a",
   "metadata": {},
   "outputs": [],
   "source": [
    "### indexを削除\n",
    "app_train_ord = app_train_ord.reset_index()\n",
    "app_test_ord = app_test_ord.reset_index()\n",
    "app_test_ord.head()"
   ]
  },
  {
   "cell_type": "code",
   "execution_count": null,
   "id": "30efb09f",
   "metadata": {},
   "outputs": [],
   "source": [
    "x_train = app_train_ord.drop(columns=['TARGET', 'SK_ID_CURR'])\n",
    "y_train = app_train_ord['TARGET']\n",
    "id_train = app_train_ord[['SK_ID_CURR']]\n",
    "\n",
    "for col in x_train.columns:\n",
    "    if x_train[col].dtype=='O':\n",
    "        x_train[col] = x_train[col].astype('category')"
   ]
  },
  {
   "cell_type": "code",
   "execution_count": null,
   "id": "44ace342",
   "metadata": {},
   "outputs": [],
   "source": [
    "# データセット作成\n",
    "x_test = app_test_ord.drop(columns=['SK_ID_CURR', 'TARGET'])\n",
    "id_test = app_test_ord[['SK_ID_CURR']]\n",
    "\n",
    "# カテゴリ変数をcategory型へ変換\n",
    "for col in x_test.columns:\n",
    "    if x_test[col].dtype==\"O\":\n",
    "        x_test[col] = x_test[col].astype('category')"
   ]
  },
  {
   "cell_type": "code",
   "execution_count": null,
   "id": "8f596e96",
   "metadata": {},
   "outputs": [],
   "source": [
    "#del app_train_ord\n",
    "#del app_test_ord\n",
    "#gc.collect()"
   ]
  },
  {
   "cell_type": "code",
   "execution_count": null,
   "id": "6381d5a6",
   "metadata": {},
   "outputs": [],
   "source": [
    "#for col in app_train_ord.columns:\n",
    "#    print(col)"
   ]
  },
  {
   "cell_type": "code",
   "execution_count": null,
   "id": "9b3d6fda",
   "metadata": {},
   "outputs": [],
   "source": [
    "### パラメータ\n",
    "\"\"\"\n",
    "params = {\n",
    "    'boosting_type': 'gbdt'\n",
    "    ,'objective': 'binary'\n",
    "    ,'metric': 'auc'\n",
    "    ,'nthread': -1\n",
    "    ,'n_estimators': 5000\n",
    "    ,'learning_rate': 0.01\n",
    "    ,'max_depth': 11\n",
    "    ,'num_leaves': 58\n",
    "    ,'colsample_bytree': 0.613\n",
    "    ,'subsample': 0.708\n",
    "    ,'max_bin': 407\n",
    "    ,'reg_alpha': 3.564\n",
    "    ,'reg_lambda': 4.930\n",
    "    ,'min_child_weight': 6\n",
    "    ,'min_child_samples': 165\n",
    "    ,'silent': -1\n",
    "    ,'verbose': -1\n",
    "    ,'importance_type': 'gain'\n",
    "}\n",
    "\"\"\"\n",
    "params = {\n",
    "    'boosting_type': 'gbdt'\n",
    "    ,'objective': 'binary'\n",
    "    ,'metric': 'auc'\n",
    "    ,'learning_rate': 0.02\n",
    "    ,'max_bin':400\n",
    "    ,'max_depth': -1\n",
    "    ,'num_leaves': 30\n",
    "    ,'min_child_samples': 70\n",
    "    ,'subsample': 1.0\n",
    "    ,'subsample_freq': 1\n",
    "    ,'colsample_bytree': 0.05\n",
    "    ,'min_split_gain': 0.5\n",
    "    ,'reg_alpha': 0.0\n",
    "    ,'reg_lambda': 100\n",
    "    ,'n_estimators': 2000\n",
    "}\n",
    "\n",
    "\n",
    "### 学習モデル構築\n",
    "train_oof, imp, metrics = baseline.train_lgb(x_train\n",
    "                                    ,y_train\n",
    "                                    ,id_train\n",
    "                                    ,params\n",
    "                                    ,list_nfold=[0,1,2,3,4]\n",
    "                                    ,n_splits=5)"
   ]
  },
  {
   "cell_type": "code",
   "execution_count": null,
   "id": "7ff125f3",
   "metadata": {},
   "outputs": [],
   "source": [
    "imp.sort_values(\"imp\", ascending=False)[:20]"
   ]
  },
  {
   "cell_type": "code",
   "execution_count": null,
   "id": "0a33ff43",
   "metadata": {},
   "outputs": [],
   "source": [
    "test_pred = baseline.predict_lgb(x_test\n",
    "                                ,id_test\n",
    "                                ,list_nfold=[0,1,2,3,4])"
   ]
  },
  {
   "cell_type": "code",
   "execution_count": null,
   "id": "ebc89150",
   "metadata": {},
   "outputs": [],
   "source": [
    "df_submit = test_pred.rename(columns={\"pred\":\"TARGET\"})\n",
    "print(df_submit.shape)\n",
    "display(df_submit.head())\n",
    "df_submit.to_csv(\n",
    "    path_or_buf=\"./home-credit-default-risk/submit/submission_featureEngineeringOtherSource2-2.csv\" # 出力先\n",
    "    ,index=None                                        # indexの出力有無\n",
    ")"
   ]
  },
  {
   "cell_type": "markdown",
   "id": "f5346d7b",
   "metadata": {},
   "source": [
    "## パラメータチューニング"
   ]
  },
  {
   "cell_type": "code",
   "execution_count": null,
   "id": "8bba1861",
   "metadata": {},
   "outputs": [],
   "source": [
    "#sampler = optuna.samplers.TPESampler(seed=123)\n",
    "#study = optuna.create_study(sampler=sampler, direction='maximize')\n",
    "#study.optimize(objective, n_trials=50, n_jobs=5)"
   ]
  },
  {
   "cell_type": "code",
   "execution_count": null,
   "id": "8dda66f2",
   "metadata": {},
   "outputs": [],
   "source": [
    "#trial = study.best_trial\n",
    "#print(\"auc(best)={:.4f}\".format(trial.value))\n",
    "#display(trial.params)"
   ]
  },
  {
   "cell_type": "code",
   "execution_count": null,
   "id": "7c3e3426",
   "metadata": {},
   "outputs": [],
   "source": [
    "#params_best = trial.params\n",
    "#params_best.update(params_base)\n",
    "#display(params_best)"
   ]
  },
  {
   "cell_type": "code",
   "execution_count": null,
   "id": "45de8117",
   "metadata": {},
   "outputs": [],
   "source": [
    "#train_oof, imp, metrics = baseline.train_lgb(x_train\n",
    "#                                    ,y_train\n",
    "#                                    ,id_train\n",
    "#                                    ,list_nfold=[0,1,2,3,4]\n",
    "#                                    ,n_splits=5\n",
    "#                                    ,params=params_best)"
   ]
  },
  {
   "cell_type": "code",
   "execution_count": null,
   "id": "20161458",
   "metadata": {},
   "outputs": [],
   "source": [
    "#app_test_ord"
   ]
  },
  {
   "cell_type": "code",
   "execution_count": null,
   "id": "c40ad215",
   "metadata": {},
   "outputs": [],
   "source": [
    "### 推論用データセットの作成\n",
    "#x_test = app_test_ord.drop(columns=['SK_ID_CURR','TARGET'])\n",
    "#id_test = app_test_ord[['SK_ID_CURR']]\n",
    "\n",
    "### カテゴリ変数をcategory型へ変換\n",
    "#for col in x_test.columns:\n",
    "#    if x_test[col].dtype==\"O\":\n",
    "#        x_test[col] = x_test[col].astype('category')\n",
    "\n",
    "### predict\n",
    "#test_pred = baseline.predict_lgb(x_test\n",
    "#                       ,id_test\n",
    "#                       ,list_nfold=[0,1,2,3,4])\n",
    "\n",
    "### make submission-file\n",
    "#df_submit = test_pred.rename(columns={\"pred\":\"TARGET\"})\n",
    "#print(df_submit.shape)\n",
    "#display(df_submit.head())\n",
    "#df_submit.to_csv(\"./home-credit-default-risk/submit/submission_HyperParameterTuningLgb.csv\", index=None)"
   ]
  },
  {
   "cell_type": "code",
   "execution_count": null,
   "id": "49c9eb99",
   "metadata": {},
   "outputs": [],
   "source": [
    "#del app_train_ord\n",
    "#del app_test_ord\n",
    "#gc.collect()"
   ]
  },
  {
   "cell_type": "code",
   "execution_count": null,
   "id": "2a6c7302",
   "metadata": {},
   "outputs": [],
   "source": []
  },
  {
   "cell_type": "code",
   "execution_count": null,
   "id": "6266c6f9",
   "metadata": {},
   "outputs": [],
   "source": []
  },
  {
   "cell_type": "code",
   "execution_count": null,
   "id": "e2aea776",
   "metadata": {},
   "outputs": [],
   "source": []
  },
  {
   "cell_type": "code",
   "execution_count": null,
   "id": "8a7d00df",
   "metadata": {},
   "outputs": [],
   "source": []
  },
  {
   "cell_type": "code",
   "execution_count": null,
   "id": "bf66347a",
   "metadata": {},
   "outputs": [],
   "source": [
    "\n"
   ]
  }
 ],
 "metadata": {
  "kernelspec": {
   "display_name": "Python 3 (ipykernel)",
   "language": "python",
   "name": "python3"
  },
  "language_info": {
   "codemirror_mode": {
    "name": "ipython",
    "version": 3
   },
   "file_extension": ".py",
   "mimetype": "text/x-python",
   "name": "python",
   "nbconvert_exporter": "python",
   "pygments_lexer": "ipython3",
   "version": "3.9.7"
  }
 },
 "nbformat": 4,
 "nbformat_minor": 5
}
