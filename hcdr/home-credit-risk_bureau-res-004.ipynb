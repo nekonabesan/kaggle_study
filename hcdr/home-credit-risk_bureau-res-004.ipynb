{
 "cells": [
  {
   "cell_type": "code",
   "execution_count": 1,
   "metadata": {
    "colab": {
     "base_uri": "https://localhost:8080/"
    },
    "executionInfo": {
     "elapsed": 20931,
     "status": "ok",
     "timestamp": 1651711228445,
     "user": {
      "displayName": "大竹 春生- Haruo Otake",
      "userId": "13319069107488779089"
     },
     "user_tz": -540
    },
    "id": "ejHTu_3AJgnb",
    "outputId": "1e162626-6487-4c47-a227-4c8a51eace4a"
   },
   "outputs": [],
   "source": [
    "# from google.colab import drive\n",
    "# drive.mount('/content/drive')"
   ]
  },
  {
   "cell_type": "code",
   "execution_count": 2,
   "metadata": {
    "colab": {
     "base_uri": "https://localhost:8080/"
    },
    "executionInfo": {
     "elapsed": 8,
     "status": "ok",
     "timestamp": 1651711228445,
     "user": {
      "displayName": "大竹 春生- Haruo Otake",
      "userId": "13319069107488779089"
     },
     "user_tz": -540
    },
    "id": "Qezcgc9kKNsF",
    "outputId": "f1bf7837-3e17-4f28-902c-f8225193a926"
   },
   "outputs": [],
   "source": [
    "# %cd /content/drive/MyDrive/"
   ]
  },
  {
   "cell_type": "code",
   "execution_count": 3,
   "metadata": {},
   "outputs": [
    {
     "data": {
      "text/plain": [
       "[name: \"/device:CPU:0\"\n",
       " device_type: \"CPU\"\n",
       " memory_limit: 268435456\n",
       " locality {\n",
       " }\n",
       " incarnation: 11479180802152409627\n",
       " xla_global_id: -1,\n",
       " name: \"/device:GPU:0\"\n",
       " device_type: \"GPU\"\n",
       " memory_limit: 1745276110\n",
       " locality {\n",
       "   bus_id: 1\n",
       "   links {\n",
       "   }\n",
       " }\n",
       " incarnation: 12783113121029442552\n",
       " physical_device_desc: \"device: 0, name: NVIDIA RTX A2000 Laptop GPU, pci bus id: 0000:01:00.0, compute capability: 8.6\"\n",
       " xla_global_id: 416903419]"
      ]
     },
     "execution_count": 3,
     "metadata": {},
     "output_type": "execute_result"
    }
   ],
   "source": [
    "from tensorflow.python.client import device_lib\n",
    "device_lib.list_local_devices()"
   ]
  },
  {
   "cell_type": "code",
   "execution_count": 4,
   "metadata": {},
   "outputs": [
    {
     "name": "stdout",
     "output_type": "stream",
     "text": [
      "True\n"
     ]
    }
   ],
   "source": [
    "import torch\n",
    "print(torch.cuda.is_available())"
   ]
  },
  {
   "cell_type": "code",
   "execution_count": 5,
   "metadata": {},
   "outputs": [
    {
     "name": "stdout",
     "output_type": "stream",
     "text": [
      "2.8.0\n"
     ]
    }
   ],
   "source": [
    "import tensorflow as tf\n",
    "print(tf.__version__)"
   ]
  },
  {
   "cell_type": "code",
   "execution_count": 6,
   "metadata": {},
   "outputs": [
    {
     "name": "stderr",
     "output_type": "stream",
     "text": [
      "C:\\ProgramData\\Anaconda3\\lib\\site-packages\\pkg_resources\\__init__.py:123: PkgResourcesDeprecationWarning: ghtgbm is an invalid version and will not be supported in a future release\n",
      "  warnings.warn(\n",
      "C:\\ProgramData\\Anaconda3\\lib\\site-packages\\pkg_resources\\__init__.py:123: PkgResourcesDeprecationWarning: 4.0.0-unsupported is an invalid version and will not be supported in a future release\n",
      "  warnings.warn(\n",
      "C:\\ProgramData\\Anaconda3\\lib\\site-packages\\chainer\\_environment_check.py:72: UserWarning: \n",
      "--------------------------------------------------------------------------------\n",
      "CuPy (cupy-cuda116) version 10.3.1 may not be compatible with this version of Chainer.\n",
      "Please consider installing the supported version by running:\n",
      "  $ pip install 'cupy-cuda116>=7.7.0,<8.0.0'\n",
      "\n",
      "See the following page for more details:\n",
      "  https://docs.cupy.dev/en/latest/install.html\n",
      "--------------------------------------------------------------------------------\n",
      "\n",
      "  warnings.warn(msg.format(\n"
     ]
    },
    {
     "name": "stdout",
     "output_type": "stream",
     "text": [
      "Platform: Windows-10-10.0.19043-SP0\n",
      "Chainer: 7.8.1\n",
      "ChainerX: Not Available\n",
      "NumPy: 1.20.3\n",
      "CuPy:\n",
      "  OS                           : Windows-10-10.0.19043-SP0\n",
      "  Python Version               : 3.9.7\n",
      "  CuPy Version                 : 10.3.1\n",
      "  CuPy Platform                : NVIDIA CUDA\n",
      "  NumPy Version                : 1.20.3\n",
      "  SciPy Version                : 1.7.1\n",
      "  Cython Build Version         : 0.29.28\n",
      "  Cython Runtime Version       : 0.29.24\n",
      "  CUDA Root                    : C:\\Program Files\\NVIDIA GPU Computing Toolkit\\CUDA\\v11.6\n",
      "  nvcc PATH                    : C:\\Program Files\\NVIDIA GPU Computing Toolkit\\CUDA\\v11.6\\bin\\nvcc.EXE\n",
      "  CUDA Build Version           : 11060\n",
      "  CUDA Driver Version          : 11060\n",
      "  CUDA Runtime Version         : 11060\n",
      "  cuBLAS Version               : 110902\n",
      "  cuFFT Version                : 10701\n",
      "  cuRAND Version               : 10209\n",
      "  cuSOLVER Version             : (11, 3, 4)\n",
      "  cuSPARSE Version             : 11702\n",
      "  NVRTC Version                : (11, 3)\n",
      "  Thrust Version               : 101500\n",
      "  CUB Build Version            : 101500\n",
      "  Jitify Build Version         : 4a37de0\n",
      "  cuDNN Build Version          : 8302\n",
      "  cuDNN Version                : 8200\n",
      "  NCCL Build Version           : None\n",
      "  NCCL Runtime Version         : None\n",
      "  cuTENSOR Version             : 10400\n",
      "  cuSPARSELt Build Version     : None\n",
      "  Device 0 Name                : NVIDIA RTX A2000 Laptop GPU\n",
      "  Device 0 Compute Capability  : 86\n",
      "  Device 0 PCI Bus ID          : 0000:01:00.0\n",
      "iDeep: Not Available\n"
     ]
    }
   ],
   "source": [
    "import chainer\n",
    "chainer.print_runtime_info()"
   ]
  },
  {
   "cell_type": "code",
   "execution_count": 7,
   "metadata": {},
   "outputs": [
    {
     "name": "stdout",
     "output_type": "stream",
     "text": [
      "1.11.0+cu113\n"
     ]
    }
   ],
   "source": [
    "import torch\n",
    "print(torch.__version__)"
   ]
  },
  {
   "cell_type": "code",
   "execution_count": 8,
   "metadata": {},
   "outputs": [
    {
     "name": "stdout",
     "output_type": "stream",
     "text": [
      "True\n"
     ]
    }
   ],
   "source": [
    "# PyTorchでGPUが使用可能か確認: torch.cuda.is_available()\n",
    "print(torch.cuda.is_available())"
   ]
  },
  {
   "cell_type": "code",
   "execution_count": 9,
   "metadata": {},
   "outputs": [
    {
     "name": "stdout",
     "output_type": "stream",
     "text": [
      "1\n"
     ]
    }
   ],
   "source": [
    "# PyTorchで使用できるGPU（デバイス）数の確認: \n",
    "print(torch.cuda.device_count())"
   ]
  },
  {
   "cell_type": "code",
   "execution_count": 10,
   "metadata": {},
   "outputs": [
    {
     "name": "stdout",
     "output_type": "stream",
     "text": [
      "NVIDIA RTX A2000 Laptop GPU\n"
     ]
    }
   ],
   "source": [
    "# GPUの名称、CUDA Compute Capabilityを取得\n",
    "print(torch.cuda.get_device_name())"
   ]
  },
  {
   "cell_type": "code",
   "execution_count": 11,
   "metadata": {},
   "outputs": [
    {
     "name": "stdout",
     "output_type": "stream",
     "text": [
      "(8, 6)\n"
     ]
    }
   ],
   "source": [
    "print(torch.cuda.get_device_capability())"
   ]
  },
  {
   "cell_type": "markdown",
   "metadata": {
    "id": "HocszF7eMoSa"
   },
   "source": [
    "# home-credit-risk(003)"
   ]
  },
  {
   "cell_type": "code",
   "execution_count": 12,
   "metadata": {
    "colab": {
     "base_uri": "https://localhost:8080/"
    },
    "executionInfo": {
     "elapsed": 4572,
     "status": "ok",
     "timestamp": 1651711233013,
     "user": {
      "displayName": "大竹 春生- Haruo Otake",
      "userId": "13319069107488779089"
     },
     "user_tz": -540
    },
    "id": "t23Xa6hEKNuk",
    "outputId": "b186dd2b-dbf3-4a1b-e4eb-613d31a52c34"
   },
   "outputs": [
    {
     "name": "stdout",
     "output_type": "stream",
     "text": [
      "OK\n",
      "\n"
     ]
    }
   ],
   "source": [
    "import pandas as pd\n",
    "#import pandas_profiling\n",
    "import numpy as np\n",
    "import cupy as cp\n",
    "from sklearn.model_selection import train_test_split\n",
    "import lightgbm as lgb\n",
    "import matplotlib.pyplot as plt\n",
    "import seaborn as sns\n",
    "from sklearn.model_selection import KFold\n",
    "from sklearn import metrics\n",
    "from sklearn.metrics import accuracy_score\n",
    "from sklearn.model_selection import train_test_split\n",
    "from sklearn.preprocessing import LabelEncoder\n",
    "from sklearn.preprocessing import StandardScaler\n",
    "from sklearn.tree import DecisionTreeClassifier, export_graphviz\n",
    "from sklearn.metrics import roc_auc_score\n",
    "from sklearn.tree import plot_tree\n",
    "\n",
    "from six import StringIO\n",
    "\n",
    "from IPython.display import Image\n",
    "import matplotlib.pyplot as plt\n",
    "import seaborn as sns\n",
    "\n",
    "import statsmodels.api as sm\n",
    "import math\n",
    "from scipy import stats\n",
    "import numpy as np\n",
    "import optuna.integration.lightgbm as lgb\n",
    "import pandas as pd\n",
    "import tensorflow as tf\n",
    "\n",
    "from datetime import datetime\n",
    "from tensorflow import feature_column\n",
    "from tensorflow.keras import layers\n",
    "\n",
    "print(\"OK\\n\")"
   ]
  },
  {
   "cell_type": "markdown",
   "metadata": {
    "id": "JsCs-e6fMhlw"
   },
   "source": [
    "## データ読み込み"
   ]
  },
  {
   "cell_type": "code",
   "execution_count": 13,
   "metadata": {
    "executionInfo": {
     "elapsed": 30484,
     "status": "ok",
     "timestamp": 1651711263494,
     "user": {
      "displayName": "大竹 春生- Haruo Otake",
      "userId": "13319069107488779089"
     },
     "user_tz": -540
    },
    "id": "GV1hthUgKW7_"
   },
   "outputs": [
    {
     "data": {
      "text/html": [
       "<div>\n",
       "<style scoped>\n",
       "    .dataframe tbody tr th:only-of-type {\n",
       "        vertical-align: middle;\n",
       "    }\n",
       "\n",
       "    .dataframe tbody tr th {\n",
       "        vertical-align: top;\n",
       "    }\n",
       "\n",
       "    .dataframe thead th {\n",
       "        text-align: right;\n",
       "    }\n",
       "</style>\n",
       "<table border=\"1\" class=\"dataframe\">\n",
       "  <thead>\n",
       "    <tr style=\"text-align: right;\">\n",
       "      <th></th>\n",
       "      <th>SK_ID_CURR</th>\n",
       "      <th>TARGET</th>\n",
       "      <th>NAME_CONTRACT_TYPE</th>\n",
       "      <th>CODE_GENDER</th>\n",
       "      <th>FLAG_OWN_CAR</th>\n",
       "      <th>FLAG_OWN_REALTY</th>\n",
       "      <th>CNT_CHILDREN</th>\n",
       "      <th>AMT_INCOME_TOTAL</th>\n",
       "      <th>AMT_CREDIT</th>\n",
       "      <th>AMT_ANNUITY</th>\n",
       "      <th>...</th>\n",
       "      <th>FLAG_DOCUMENT_18</th>\n",
       "      <th>FLAG_DOCUMENT_19</th>\n",
       "      <th>FLAG_DOCUMENT_20</th>\n",
       "      <th>FLAG_DOCUMENT_21</th>\n",
       "      <th>AMT_REQ_CREDIT_BUREAU_HOUR</th>\n",
       "      <th>AMT_REQ_CREDIT_BUREAU_DAY</th>\n",
       "      <th>AMT_REQ_CREDIT_BUREAU_WEEK</th>\n",
       "      <th>AMT_REQ_CREDIT_BUREAU_MON</th>\n",
       "      <th>AMT_REQ_CREDIT_BUREAU_QRT</th>\n",
       "      <th>AMT_REQ_CREDIT_BUREAU_YEAR</th>\n",
       "    </tr>\n",
       "  </thead>\n",
       "  <tbody>\n",
       "    <tr>\n",
       "      <th>0</th>\n",
       "      <td>100002</td>\n",
       "      <td>1</td>\n",
       "      <td>Cash loans</td>\n",
       "      <td>M</td>\n",
       "      <td>N</td>\n",
       "      <td>Y</td>\n",
       "      <td>0</td>\n",
       "      <td>202500.0</td>\n",
       "      <td>406597.5</td>\n",
       "      <td>24700.5</td>\n",
       "      <td>...</td>\n",
       "      <td>0</td>\n",
       "      <td>0</td>\n",
       "      <td>0</td>\n",
       "      <td>0</td>\n",
       "      <td>0.0</td>\n",
       "      <td>0.0</td>\n",
       "      <td>0.0</td>\n",
       "      <td>0.0</td>\n",
       "      <td>0.0</td>\n",
       "      <td>1.0</td>\n",
       "    </tr>\n",
       "    <tr>\n",
       "      <th>1</th>\n",
       "      <td>100003</td>\n",
       "      <td>0</td>\n",
       "      <td>Cash loans</td>\n",
       "      <td>F</td>\n",
       "      <td>N</td>\n",
       "      <td>N</td>\n",
       "      <td>0</td>\n",
       "      <td>270000.0</td>\n",
       "      <td>1293502.5</td>\n",
       "      <td>35698.5</td>\n",
       "      <td>...</td>\n",
       "      <td>0</td>\n",
       "      <td>0</td>\n",
       "      <td>0</td>\n",
       "      <td>0</td>\n",
       "      <td>0.0</td>\n",
       "      <td>0.0</td>\n",
       "      <td>0.0</td>\n",
       "      <td>0.0</td>\n",
       "      <td>0.0</td>\n",
       "      <td>0.0</td>\n",
       "    </tr>\n",
       "    <tr>\n",
       "      <th>2</th>\n",
       "      <td>100004</td>\n",
       "      <td>0</td>\n",
       "      <td>Revolving loans</td>\n",
       "      <td>M</td>\n",
       "      <td>Y</td>\n",
       "      <td>Y</td>\n",
       "      <td>0</td>\n",
       "      <td>67500.0</td>\n",
       "      <td>135000.0</td>\n",
       "      <td>6750.0</td>\n",
       "      <td>...</td>\n",
       "      <td>0</td>\n",
       "      <td>0</td>\n",
       "      <td>0</td>\n",
       "      <td>0</td>\n",
       "      <td>0.0</td>\n",
       "      <td>0.0</td>\n",
       "      <td>0.0</td>\n",
       "      <td>0.0</td>\n",
       "      <td>0.0</td>\n",
       "      <td>0.0</td>\n",
       "    </tr>\n",
       "    <tr>\n",
       "      <th>3</th>\n",
       "      <td>100006</td>\n",
       "      <td>0</td>\n",
       "      <td>Cash loans</td>\n",
       "      <td>F</td>\n",
       "      <td>N</td>\n",
       "      <td>Y</td>\n",
       "      <td>0</td>\n",
       "      <td>135000.0</td>\n",
       "      <td>312682.5</td>\n",
       "      <td>29686.5</td>\n",
       "      <td>...</td>\n",
       "      <td>0</td>\n",
       "      <td>0</td>\n",
       "      <td>0</td>\n",
       "      <td>0</td>\n",
       "      <td>NaN</td>\n",
       "      <td>NaN</td>\n",
       "      <td>NaN</td>\n",
       "      <td>NaN</td>\n",
       "      <td>NaN</td>\n",
       "      <td>NaN</td>\n",
       "    </tr>\n",
       "    <tr>\n",
       "      <th>4</th>\n",
       "      <td>100007</td>\n",
       "      <td>0</td>\n",
       "      <td>Cash loans</td>\n",
       "      <td>M</td>\n",
       "      <td>N</td>\n",
       "      <td>Y</td>\n",
       "      <td>0</td>\n",
       "      <td>121500.0</td>\n",
       "      <td>513000.0</td>\n",
       "      <td>21865.5</td>\n",
       "      <td>...</td>\n",
       "      <td>0</td>\n",
       "      <td>0</td>\n",
       "      <td>0</td>\n",
       "      <td>0</td>\n",
       "      <td>0.0</td>\n",
       "      <td>0.0</td>\n",
       "      <td>0.0</td>\n",
       "      <td>0.0</td>\n",
       "      <td>0.0</td>\n",
       "      <td>0.0</td>\n",
       "    </tr>\n",
       "  </tbody>\n",
       "</table>\n",
       "<p>5 rows × 122 columns</p>\n",
       "</div>"
      ],
      "text/plain": [
       "   SK_ID_CURR  TARGET NAME_CONTRACT_TYPE CODE_GENDER FLAG_OWN_CAR  \\\n",
       "0      100002       1         Cash loans           M            N   \n",
       "1      100003       0         Cash loans           F            N   \n",
       "2      100004       0    Revolving loans           M            Y   \n",
       "3      100006       0         Cash loans           F            N   \n",
       "4      100007       0         Cash loans           M            N   \n",
       "\n",
       "  FLAG_OWN_REALTY  CNT_CHILDREN  AMT_INCOME_TOTAL  AMT_CREDIT  AMT_ANNUITY  \\\n",
       "0               Y             0          202500.0    406597.5      24700.5   \n",
       "1               N             0          270000.0   1293502.5      35698.5   \n",
       "2               Y             0           67500.0    135000.0       6750.0   \n",
       "3               Y             0          135000.0    312682.5      29686.5   \n",
       "4               Y             0          121500.0    513000.0      21865.5   \n",
       "\n",
       "   ...  FLAG_DOCUMENT_18 FLAG_DOCUMENT_19 FLAG_DOCUMENT_20 FLAG_DOCUMENT_21  \\\n",
       "0  ...                 0                0                0                0   \n",
       "1  ...                 0                0                0                0   \n",
       "2  ...                 0                0                0                0   \n",
       "3  ...                 0                0                0                0   \n",
       "4  ...                 0                0                0                0   \n",
       "\n",
       "  AMT_REQ_CREDIT_BUREAU_HOUR AMT_REQ_CREDIT_BUREAU_DAY  \\\n",
       "0                        0.0                       0.0   \n",
       "1                        0.0                       0.0   \n",
       "2                        0.0                       0.0   \n",
       "3                        NaN                       NaN   \n",
       "4                        0.0                       0.0   \n",
       "\n",
       "   AMT_REQ_CREDIT_BUREAU_WEEK  AMT_REQ_CREDIT_BUREAU_MON  \\\n",
       "0                         0.0                        0.0   \n",
       "1                         0.0                        0.0   \n",
       "2                         0.0                        0.0   \n",
       "3                         NaN                        NaN   \n",
       "4                         0.0                        0.0   \n",
       "\n",
       "   AMT_REQ_CREDIT_BUREAU_QRT  AMT_REQ_CREDIT_BUREAU_YEAR  \n",
       "0                        0.0                         1.0  \n",
       "1                        0.0                         0.0  \n",
       "2                        0.0                         0.0  \n",
       "3                        NaN                         NaN  \n",
       "4                        0.0                         0.0  \n",
       "\n",
       "[5 rows x 122 columns]"
      ]
     },
     "execution_count": 13,
     "metadata": {},
     "output_type": "execute_result"
    }
   ],
   "source": [
    "application_train_origin = pd.read_csv('./home-credit-default-risk/application_train.csv')\n",
    "application_test_origin =  pd.read_csv('./home-credit-default-risk/application_test.csv')\n",
    "bureau_origin = pd.read_csv('./home-credit-default-risk/bureau.csv')\n",
    "bureau_balance_origin = pd.read_csv('./home-credit-default-risk/bureau_balance.csv')\n",
    "#POS_CASH_balance_origin = pd.read_csv('./home-credit-default-risk/POS_CASH_balance.csv')\n",
    "#credit_card_balance_origin = pd.read_csv('./home-credit-default-risk/credit_card_balance.csv')\n",
    "#previous_application_origin = pd.read_csv('./home-credit-default-risk/previous_application.csv')\n",
    "#installments_payments_origin = pd.read_csv('./home-credit-default-risk/installments_payments.csv')\n",
    "# custo data\n",
    "app_br_train_origin = pd.read_csv('./home-credit-default-risk/datasets/app_train_Loan_From_other_banks_cash-consumer-loans.csv')\n",
    "app_br_test_origin = pd.read_csv('./home-credit-default-risk/datasets/app_test_Loan_From_other_banks_cash-consumer-loans.csv')\n",
    "app_train_br_overdue_hist_origin = pd.read_csv('./home-credit-default-risk/datasets/app_train_br_overdue_hist.csv')\n",
    "app_test_br_overdue_hist_origin = pd.read_csv('./home-credit-default-risk/datasets/app_test_br_overdue_hist.csv')\n",
    "app_train_br_debt_credit_ratio_none_origin = pd.read_csv('./home-credit-default-risk/datasets/app_train_br_debt_credit_ratio_none.csv')\n",
    "app_test_br_debt_credit_ratio_none_origin = pd.read_csv('./home-credit-default-risk/datasets/app_test_br_debt_credit_ratio_none.csv')\n",
    "\n",
    "application_train_origin.head()"
   ]
  },
  {
   "cell_type": "code",
   "execution_count": 14,
   "metadata": {
    "executionInfo": {
     "elapsed": 628,
     "status": "ok",
     "timestamp": 1651711264118,
     "user": {
      "displayName": "大竹 春生- Haruo Otake",
      "userId": "13319069107488779089"
     },
     "user_tz": -540
    },
    "id": "Crkva8TSKNw0"
   },
   "outputs": [],
   "source": [
    "app_train = application_train_origin.copy()\n",
    "app_test = application_test_origin.copy()\n",
    "bureau = bureau_origin.copy()\n",
    "bureau_balance = bureau_balance_origin.copy()\n",
    "#POS_CASH_balance = POS_CASH_balance_origin.copy()\n",
    "#credit_card_balance = credit_card_balance_origin.copy()\n",
    "#previous_application = previous_application_origin.copy()\n",
    "#installments_payments = installments_payments_origin.copy()\n",
    "#application_train.head()\n",
    "app_br_train = app_br_train_origin.copy()\n",
    "app_br_test = app_br_test_origin.copy()\n",
    "app_train_br_overdue_hist = app_train_br_overdue_hist_origin.copy()\n",
    "app_test_br_overdue_hist = app_test_br_overdue_hist_origin.copy()\n",
    "app_train_br_debt_credit_ratio_none = app_train_br_debt_credit_ratio_none_origin.copy()\n",
    "app_test_br_debt_credit_ratio_none = app_test_br_debt_credit_ratio_none_origin.copy()"
   ]
  },
  {
   "cell_type": "markdown",
   "metadata": {
    "id": "PV_cx5rEM2-A"
   },
   "source": [
    "## 他金融機関での借り入れ情報(bureau)前処理"
   ]
  },
  {
   "cell_type": "code",
   "execution_count": 15,
   "metadata": {
    "colab": {
     "base_uri": "https://localhost:8080/"
    },
    "executionInfo": {
     "elapsed": 15,
     "status": "ok",
     "timestamp": 1651711264119,
     "user": {
      "displayName": "大竹 春生- Haruo Otake",
      "userId": "13319069107488779089"
     },
     "user_tz": -540
    },
    "id": "gDDucmqM8EG5",
    "outputId": "167172cf-4ffa-49ab-aa02-efe900ef58c9"
   },
   "outputs": [
    {
     "data": {
      "text/plain": [
       "307511"
      ]
     },
     "execution_count": 15,
     "metadata": {},
     "output_type": "execute_result"
    }
   ],
   "source": [
    "len(app_train)"
   ]
  },
  {
   "cell_type": "code",
   "execution_count": 16,
   "metadata": {
    "colab": {
     "base_uri": "https://localhost:8080/"
    },
    "executionInfo": {
     "elapsed": 28,
     "status": "ok",
     "timestamp": 1651711264528,
     "user": {
      "displayName": "大竹 春生- Haruo Otake",
      "userId": "13319069107488779089"
     },
     "user_tz": -540
    },
    "id": "-Yq2m_t58EJv",
    "outputId": "5df0c429-69eb-422f-92f0-48f4ac73c525"
   },
   "outputs": [
    {
     "data": {
      "text/plain": [
       "48744"
      ]
     },
     "execution_count": 16,
     "metadata": {},
     "output_type": "execute_result"
    }
   ],
   "source": [
    "len(app_test)"
   ]
  },
  {
   "cell_type": "markdown",
   "metadata": {
    "id": "iZXCO2-7M6cy"
   },
   "source": []
  },
  {
   "cell_type": "code",
   "execution_count": 17,
   "metadata": {
    "colab": {
     "base_uri": "https://localhost:8080/"
    },
    "executionInfo": {
     "elapsed": 23,
     "status": "ok",
     "timestamp": 1651711264529,
     "user": {
      "displayName": "大竹 春生- Haruo Otake",
      "userId": "13319069107488779089"
     },
     "user_tz": -540
    },
    "id": "KpfNaBKzKNz0",
    "outputId": "dcf41a93-5d65-4ce5-caa9-a3d8c8fd21cf"
   },
   "outputs": [
    {
     "data": {
      "text/plain": [
       "87829"
      ]
     },
     "execution_count": 17,
     "metadata": {},
     "output_type": "execute_result"
    }
   ],
   "source": [
    "len(app_br_train)"
   ]
  },
  {
   "cell_type": "code",
   "execution_count": 18,
   "metadata": {
    "colab": {
     "base_uri": "https://localhost:8080/"
    },
    "executionInfo": {
     "elapsed": 22,
     "status": "ok",
     "timestamp": 1651711264530,
     "user": {
      "displayName": "大竹 春生- Haruo Otake",
      "userId": "13319069107488779089"
     },
     "user_tz": -540
    },
    "id": "OaTHv_nx7ycB",
    "outputId": "5ba6ac05-4d79-4c72-bb14-b2adf36764c3"
   },
   "outputs": [
    {
     "data": {
      "text/plain": [
       "42000"
      ]
     },
     "execution_count": 18,
     "metadata": {},
     "output_type": "execute_result"
    }
   ],
   "source": [
    "len(app_br_test)"
   ]
  },
  {
   "cell_type": "code",
   "execution_count": 19,
   "metadata": {
    "colab": {
     "base_uri": "https://localhost:8080/"
    },
    "executionInfo": {
     "elapsed": 21,
     "status": "ok",
     "timestamp": 1651711264530,
     "user": {
      "displayName": "大竹 春生- Haruo Otake",
      "userId": "13319069107488779089"
     },
     "user_tz": -540
    },
    "id": "3SwJU5a17yfH",
    "outputId": "d2980070-5003-4467-e1a3-01c3887ce237"
   },
   "outputs": [
    {
     "data": {
      "text/plain": [
       "307511"
      ]
     },
     "execution_count": 19,
     "metadata": {},
     "output_type": "execute_result"
    }
   ],
   "source": [
    "len(app_train_br_overdue_hist)"
   ]
  },
  {
   "cell_type": "code",
   "execution_count": 20,
   "metadata": {
    "colab": {
     "base_uri": "https://localhost:8080/"
    },
    "executionInfo": {
     "elapsed": 20,
     "status": "ok",
     "timestamp": 1651711264530,
     "user": {
      "displayName": "大竹 春生- Haruo Otake",
      "userId": "13319069107488779089"
     },
     "user_tz": -540
    },
    "id": "e_h_inmX7ysQ",
    "outputId": "dff7191b-83d2-4061-ec93-dbe2b56350ca"
   },
   "outputs": [
    {
     "data": {
      "text/plain": [
       "48744"
      ]
     },
     "execution_count": 20,
     "metadata": {},
     "output_type": "execute_result"
    }
   ],
   "source": [
    "len(app_test_br_overdue_hist)"
   ]
  },
  {
   "cell_type": "code",
   "execution_count": 21,
   "metadata": {},
   "outputs": [],
   "source": [
    "# \n",
    "app_train['credit_annuity_ratio'] = app_train['AMT_CREDIT']/app_train['AMT_ANNUITY']\n",
    "app_test['credit_annuity_ratio'] = app_train['AMT_CREDIT']/app_test['AMT_ANNUITY']\n",
    "# カテゴリ変数へ変換\n",
    "app_train['REGION_POPULATION_RELATIVE'] = pd.cut(app_train['REGION_POPULATION_RELATIVE'], bins=20, labels=False)\n",
    "app_test['REGION_POPULATION_RELATIVE'] =  pd.cut(app_test['REGION_POPULATION_RELATIVE'], bins=20, labels=False)\n"
   ]
  },
  {
   "cell_type": "code",
   "execution_count": 22,
   "metadata": {},
   "outputs": [],
   "source": [
    "app_train['NAME_CONTRACT_TYPE'].replace(['Cash loans', 'Revolving loans'], [0, 1], inplace=True)\n",
    "app_test['NAME_CONTRACT_TYPE'].replace(['Cash loans', 'Revolving loans'], [0, 1], inplace=True)\n",
    "\n",
    "app_train['CODE_GENDER'].replace(['F', 'M', 'XNA'], [0, 1, 0], inplace=True)\n",
    "app_test['CODE_GENDER'].replace(['F', 'M', 'XNA'], [0, 1, 0], inplace=True)\n",
    "\n",
    "app_train['FLAG_OWN_CAR'].replace(['Y', 'N'], [1, 0], inplace=True)\n",
    "app_test['FLAG_OWN_CAR'].replace(['Y', 'N'], [1, 0], inplace=True)\n",
    "\n",
    "app_train['FLAG_OWN_REALTY'].replace(['Y', 'N'], [1, 0], inplace=True)\n",
    "app_test['FLAG_OWN_REALTY'].replace(['Y', 'N'], [1, 0], inplace=True)\n",
    "\n",
    "app_train['OCCUPATION_TYPE'].replace(['Laborers','Sales staff','Core staff','Managers','Drivers','High skill tech staff','Accountants','Medicine staff','Security staff','Cooking staff','Cleaning staff','Private service staff','Low-skill Laborers','Waiters/barmen staff','Secretaries','Realty agents','HR staff','IT staff'], [0, 1, 2, 3, 4, 5, 6, 7, 8, 9, 10, 11, 12, 13, 14, 15, 16, 17], inplace=True)\n",
    "app_test['OCCUPATION_TYPE'].replace(['Laborers','Sales staff','Core staff','Managers','Drivers','High skill tech staff','Accountants','Medicine staff','Security staff','Cooking staff','Cleaning staff','Private service staff','Low-skill Laborers','Waiters/barmen staff','Secretaries','Realty agents','HR staff','IT staff'], [0, 1, 2, 3, 4, 5, 6, 7, 8, 9, 10, 11, 12, 13, 14, 15, 16, 17], inplace=True)\n",
    "\n",
    "app_train['NAME_FAMILY_STATUS'].replace(['Married','Single / not married','Civil marriage','Separated','Widow','Unknown'], [0, 1, 2, 3, 4, 0], inplace=True)\n",
    "app_test['NAME_FAMILY_STATUS'].replace(['Married','Single / not married','Civil marriage','Separated','Widow','Unknown'], [0, 1, 2, 3, 4, 0], inplace=True)\n",
    "\n",
    "app_train['NAME_HOUSING_TYPE'].replace(['House / apartment','With parents','Municipal apartment','Rented apartment','Office apartment','Co-op apartment'], [0, 1, 2, 3, 4, 5], inplace=True)\n",
    "app_test['NAME_HOUSING_TYPE'].replace(['House / apartment','With parents','Municipal apartment','Rented apartment','Office apartment','Co-op apartment'], [0, 1, 2, 3, 4, 5], inplace=True)\n",
    "\n",
    "app_train['NAME_INCOME_TYPE'].replace(['Working','Commercial associate','Pensioner','State servant','Unemployed','Student','Businessman','Maternity leave'], [0, 1, 2, 3, 4, 5, 6, 7], inplace=True)\n",
    "app_test['NAME_INCOME_TYPE'].replace(['Working','Commercial associate','Pensioner','State servant','Unemployed','Student','Businessman','Maternity leave'], [0, 1, 2, 3, 4, 5, 6, 7], inplace=True)\n",
    "\n",
    "app_train['NAME_EDUCATION_TYPE'].replace(['Secondary / secondary special', 'Higher education', 'Incomplete higher', 'Lower secondary', 'Academic degree'], [0, 1, 2, 3, 4], inplace=True)\n",
    "app_test['NAME_EDUCATION_TYPE'].replace(['Secondary / secondary special', 'Higher education', 'Incomplete higher', 'Lower secondary', 'Academic degree'], [0, 1, 2, 3, 4], inplace=True)\n",
    "\n",
    "app_train['REGION_POPULATION_RELATIVE'] = pd.cut(app_train['REGION_POPULATION_RELATIVE'], bins=20, labels=False)\n",
    "app_test['REGION_POPULATION_RELATIVE'] =  pd.cut(app_test['REGION_POPULATION_RELATIVE'], bins=20, labels=False)\n",
    "\n",
    "app_train['credit_goods_price_ratio'] = app_train['AMT_CREDIT']/app_train['AMT_GOODS_PRICE']\n",
    "app_test['credit_goods_price_ratio'] = app_test['AMT_CREDIT']/app_test['AMT_GOODS_PRICE']\n",
    "\n",
    "app_train['credit_downpayment'] = app_train['AMT_GOODS_PRICE'] - app_train['AMT_CREDIT']\n",
    "app_test['credit_downpayment'] = app_test['AMT_GOODS_PRICE'] - app_test['AMT_CREDIT']\n",
    "\n",
    "app_train['AGE_INT'] = app_train['DAYS_BIRTH']/365\n",
    "app_test['AGE_INT'] = app_test['DAYS_BIRTH']/365\n",
    "\n",
    "app_train['AGE_INT'].astype('int')\n",
    "app_test['AGE_INT'].astype('int')\n",
    "\n",
    "#app_train['OCCUPATION_TYPE'].fillna(18, inplace=True)\n",
    "#app_test['OCCUPATION_TYPE'].fillna(18, inplace=True)\n",
    "\n",
    "app_train['CNT_FAM_MEMBERS'].fillna(app_train['CNT_FAM_MEMBERS'].median(), inplace=True)\n",
    "app_test['CNT_FAM_MEMBERS'].fillna(app_train['CNT_FAM_MEMBERS'].median(), inplace=True)\n",
    "\n",
    "#app_train['credit_goods_price_ratio'].fillna(0, inplace=True)\n",
    "#app_test['credit_goods_price_ratio'].fillna(0, inplace=True)\n",
    "\n",
    "#app_train['credit_downpayment'].fillna(0, inplace=True)\n",
    "#app_test['credit_downpayment'].fillna(0, inplace=True)\n",
    "\n",
    "#app_train['AGE_INT'].fillna(0, inplace=True)\n",
    "#app_test['AGE_INT'].fillna(0, inplace=True)\n",
    "\n",
    "#app_train['EXT_SOURCE_1'].fillna(0, inplace=True)\n",
    "#app_test['EXT_SOURCE_1'].fillna(0, inplace=True)\n",
    "\n",
    "#app_train['EXT_SOURCE_2'].fillna(0, inplace=True)\n",
    "#app_test['EXT_SOURCE_2'].fillna(0, inplace=True)\n",
    "\n",
    "#app_train['EXT_SOURCE_3'].fillna(0, inplace=True)\n",
    "#app_test['EXT_SOURCE_3'].fillna(0, inplace=True)"
   ]
  },
  {
   "cell_type": "markdown",
   "metadata": {
    "id": "ZRVHQXTuN8Rp"
   },
   "source": [
    "### bureau.csv\n",
    "|列名|内容|\n",
    "|:----|:----|\n",
    "|SK_ID_CURR|クライアントのローンID|\n",
    "|SK_ID_BUREAU|ローン申し込み以前の他金融機関ローンのID|\n",
    "|CREDIT_ACTIVE|他金融機関のローンの状態|\n",
    "|CREDIT_CURRENCY|記録されている他金融機関のローンの通貨の種類|\n",
    "|DAYS_CREDIT|申し込み日と他金融機関のローンがこの信用情報機関に登録された日数の差|\n",
    "|CREDIT_DAY_OVERDUE|申し込み時点での他金融機関ローンの延滞日数|\n",
    "|DAYS_CREDIT_ENDDATE|申し込み時点での他金融機関ローンの残りの日数|\n",
    "|DAYS_ENDDATE_FACT|申し込み時点での他金融機関ローンが払い終わっている場合の払い終わってからの日数|\n",
    "|AMT_CREDIT_MAX_OVERDUE|これまでの最大延滞金額|\n",
    "|CNT_CREDIT_PROLONG|クレジットを何回延長したか|\n",
    "|AMT_CREDIT_SUM|信用情報機関登録されている与信額の総和|\n",
    "|AMT_CREDIT_SUM_DEBT|信用情報機関に登録されている債務|\n",
    "|AMT_CREDIT_SUM_LIMIT|信用情報機関に登録されているクレジットカードの限度額|\n",
    "|AMT_CREDIT_SUM_OVERDUE|信用情報機関に登録されているクレジットカードの残高(使用額)|\n",
    "|CREDIT_TYPE|クレジットカードの種類|\n",
    "|DAYS_CREDIT_UPDATE|申し込み日から、信用情報機関に最後に情報が登録された日までの日数|\n",
    "|AMT_ANNUITY|登録されているローン支払い額|"
   ]
  },
  {
   "cell_type": "code",
   "execution_count": 23,
   "metadata": {
    "executionInfo": {
     "elapsed": 16,
     "status": "ok",
     "timestamp": 1651711264531,
     "user": {
      "displayName": "大竹 春生- Haruo Otake",
      "userId": "13319069107488779089"
     },
     "user_tz": -540
    },
    "id": "lSePyx35NF--"
   },
   "outputs": [],
   "source": [
    "#bureau.isnull().sum()"
   ]
  },
  {
   "cell_type": "code",
   "execution_count": 24,
   "metadata": {
    "executionInfo": {
     "elapsed": 16,
     "status": "ok",
     "timestamp": 1651711264531,
     "user": {
      "displayName": "大竹 春生- Haruo Otake",
      "userId": "13319069107488779089"
     },
     "user_tz": -540
    },
    "id": "b_pSl45GNGBX"
   },
   "outputs": [],
   "source": [
    "# 他金融機関での借り入れ情報(bureau)遅延情報等の登録がない場合は0とする\n",
    "#bureau['DAYS_CREDIT_ENDDATE'].fillna(0, inplace=True)\n",
    "#bureau['DAYS_ENDDATE_FACT'].fillna(0, inplace=True)\n",
    "#bureau['AMT_CREDIT_MAX_OVERDUE'].fillna(0, inplace=True)\n",
    "#bureau['AMT_CREDIT_SUM_DEBT'].fillna(0, inplace=True)\n",
    "#bureau['AMT_CREDIT_SUM_LIMIT'].fillna(0, inplace=True)\n",
    "#bureau['AMT_CREDIT_SUM'].fillna(0, inplace=True)\n",
    "#bureau['AMT_ANNUITY'].fillna(0, inplace=True)\n",
    "#bureau.isnull().sum()\n"
   ]
  },
  {
   "cell_type": "markdown",
   "metadata": {},
   "source": [
    "### 与信実行時債務データの結合"
   ]
  },
  {
   "cell_type": "code",
   "execution_count": 25,
   "metadata": {},
   "outputs": [
    {
     "data": {
      "text/plain": [
       "42000"
      ]
     },
     "execution_count": 25,
     "metadata": {},
     "output_type": "execute_result"
    }
   ],
   "source": [
    "app_br_train = app_br_train.rename(columns={'sk_id_curr': 'SK_ID_CURR'})\n",
    "app_br_test = app_br_test.rename(columns={'sk_id_curr': 'SK_ID_CURR'})\n",
    "len(app_br_test)"
   ]
  },
  {
   "cell_type": "code",
   "execution_count": 26,
   "metadata": {},
   "outputs": [
    {
     "data": {
      "text/plain": [
       "42000"
      ]
     },
     "execution_count": 26,
     "metadata": {},
     "output_type": "execute_result"
    }
   ],
   "source": [
    "# trainへマージ\n",
    "app_train = pd.merge(app_train, app_br_train, on='SK_ID_CURR', how='left')\n",
    "# testへマージ\n",
    "app_test = pd.merge(app_test, app_br_test, on='SK_ID_CURR', how='left')\n",
    "len(app_br_test)"
   ]
  },
  {
   "cell_type": "markdown",
   "metadata": {},
   "source": [
    "### 他金融機関ローンの延滞日数の結合"
   ]
  },
  {
   "cell_type": "code",
   "execution_count": 27,
   "metadata": {},
   "outputs": [
    {
     "data": {
      "text/plain": [
       "48744"
      ]
     },
     "execution_count": 27,
     "metadata": {},
     "output_type": "execute_result"
    }
   ],
   "source": [
    "\n",
    "app_train_br_overdue_hist = app_train_br_overdue_hist.rename(columns={'sk_id_curr': 'SK_ID_CURR'})\n",
    "app_test_br_overdue_hist = app_test_br_overdue_hist.rename(columns={'sk_id_curr': 'SK_ID_CURR'})\n",
    "len(app_test_br_overdue_hist)"
   ]
  },
  {
   "cell_type": "code",
   "execution_count": 28,
   "metadata": {},
   "outputs": [
    {
     "data": {
      "text/plain": [
       "48744"
      ]
     },
     "execution_count": 28,
     "metadata": {},
     "output_type": "execute_result"
    }
   ],
   "source": [
    "# trainへマージ\n",
    "app_train = pd.merge(app_train, app_train_br_overdue_hist, on='SK_ID_CURR', how='left')\n",
    "# testへマージ\n",
    "app_test = pd.merge(app_test, app_test_br_overdue_hist, on='SK_ID_CURR', how='left')\n",
    "len(app_test)"
   ]
  },
  {
   "cell_type": "markdown",
   "metadata": {},
   "source": [
    "### 付与されている与信額の債務による充足率の結合"
   ]
  },
  {
   "cell_type": "code",
   "execution_count": 29,
   "metadata": {},
   "outputs": [
    {
     "data": {
      "text/plain": [
       "307511"
      ]
     },
     "execution_count": 29,
     "metadata": {},
     "output_type": "execute_result"
    }
   ],
   "source": [
    "app_train_br_debt_credit_ratio_none = app_train_br_debt_credit_ratio_none.rename(columns={'sk_id_curr': 'SK_ID_CURR'})\n",
    "app_test_br_debt_credit_ratio_none = app_test_br_debt_credit_ratio_none.rename(columns={'sk_id_curr': 'SK_ID_CURR'})\n",
    "len(app_train_br_debt_credit_ratio_none)"
   ]
  },
  {
   "cell_type": "code",
   "execution_count": 30,
   "metadata": {},
   "outputs": [
    {
     "data": {
      "text/plain": [
       "48744"
      ]
     },
     "execution_count": 30,
     "metadata": {},
     "output_type": "execute_result"
    }
   ],
   "source": [
    "# trainへマージ\n",
    "app_train = pd.merge(app_train, app_train_br_debt_credit_ratio_none, on='SK_ID_CURR', how='left')\n",
    "# testへマージ\n",
    "app_test = pd.merge(app_test, app_test_br_debt_credit_ratio_none, on='SK_ID_CURR', how='left')\n",
    "len(app_test)"
   ]
  },
  {
   "cell_type": "markdown",
   "metadata": {
    "id": "wzF2uFshZ8ia"
   },
   "source": [
    "### \n"
   ]
  },
  {
   "cell_type": "code",
   "execution_count": 31,
   "metadata": {
    "colab": {
     "base_uri": "https://localhost:8080/",
     "height": 300
    },
    "executionInfo": {
     "elapsed": 8,
     "status": "ok",
     "timestamp": 1651711266552,
     "user": {
      "displayName": "大竹 春生- Haruo Otake",
      "userId": "13319069107488779089"
     },
     "user_tz": -540
    },
    "id": "m-BFlD9A9772",
    "outputId": "851f1531-3d76-4655-bbb5-0c934fcae85a"
   },
   "outputs": [
    {
     "data": {
      "text/html": [
       "<div>\n",
       "<style scoped>\n",
       "    .dataframe tbody tr th:only-of-type {\n",
       "        vertical-align: middle;\n",
       "    }\n",
       "\n",
       "    .dataframe tbody tr th {\n",
       "        vertical-align: top;\n",
       "    }\n",
       "\n",
       "    .dataframe thead th {\n",
       "        text-align: right;\n",
       "    }\n",
       "</style>\n",
       "<table border=\"1\" class=\"dataframe\">\n",
       "  <thead>\n",
       "    <tr style=\"text-align: right;\">\n",
       "      <th></th>\n",
       "      <th>SK_ID_CURR</th>\n",
       "      <th>TARGET</th>\n",
       "      <th>NAME_CONTRACT_TYPE</th>\n",
       "      <th>CODE_GENDER</th>\n",
       "      <th>FLAG_OWN_CAR</th>\n",
       "      <th>FLAG_OWN_REALTY</th>\n",
       "      <th>CNT_CHILDREN</th>\n",
       "      <th>AMT_INCOME_TOTAL</th>\n",
       "      <th>AMT_CREDIT</th>\n",
       "      <th>AMT_ANNUITY</th>\n",
       "      <th>...</th>\n",
       "      <th>hist_cnt_credit_day_overdue</th>\n",
       "      <th>hist_sum_credit_day_overdue</th>\n",
       "      <th>hist_max_credit_prolong</th>\n",
       "      <th>hist_cnt_credit_prolong</th>\n",
       "      <th>hist_sum_credit_prolong</th>\n",
       "      <th>hist_max_amt_credit_max_overdue</th>\n",
       "      <th>hist_cnt_amt_credit_max_overdue</th>\n",
       "      <th>hist_sum_amt_credit_max_overdue</th>\n",
       "      <th>debt_credit_ratio_none</th>\n",
       "      <th>debt_credit_ratio_none_flg</th>\n",
       "    </tr>\n",
       "  </thead>\n",
       "  <tbody>\n",
       "    <tr>\n",
       "      <th>0</th>\n",
       "      <td>100002</td>\n",
       "      <td>1</td>\n",
       "      <td>0</td>\n",
       "      <td>1</td>\n",
       "      <td>0</td>\n",
       "      <td>1</td>\n",
       "      <td>0</td>\n",
       "      <td>202500.0</td>\n",
       "      <td>406597.5</td>\n",
       "      <td>24700.5</td>\n",
       "      <td>...</td>\n",
       "      <td>110</td>\n",
       "      <td>0</td>\n",
       "      <td>0</td>\n",
       "      <td>110</td>\n",
       "      <td>0</td>\n",
       "      <td>5043.645</td>\n",
       "      <td>56</td>\n",
       "      <td>73472.58</td>\n",
       "      <td>0.320947</td>\n",
       "      <td>1</td>\n",
       "    </tr>\n",
       "    <tr>\n",
       "      <th>1</th>\n",
       "      <td>100003</td>\n",
       "      <td>0</td>\n",
       "      <td>0</td>\n",
       "      <td>0</td>\n",
       "      <td>0</td>\n",
       "      <td>0</td>\n",
       "      <td>0</td>\n",
       "      <td>270000.0</td>\n",
       "      <td>1293502.5</td>\n",
       "      <td>35698.5</td>\n",
       "      <td>...</td>\n",
       "      <td>4</td>\n",
       "      <td>0</td>\n",
       "      <td>0</td>\n",
       "      <td>4</td>\n",
       "      <td>0</td>\n",
       "      <td>0.000</td>\n",
       "      <td>4</td>\n",
       "      <td>0.00</td>\n",
       "      <td>0.000000</td>\n",
       "      <td>0</td>\n",
       "    </tr>\n",
       "    <tr>\n",
       "      <th>2</th>\n",
       "      <td>100004</td>\n",
       "      <td>0</td>\n",
       "      <td>1</td>\n",
       "      <td>1</td>\n",
       "      <td>1</td>\n",
       "      <td>1</td>\n",
       "      <td>0</td>\n",
       "      <td>67500.0</td>\n",
       "      <td>135000.0</td>\n",
       "      <td>6750.0</td>\n",
       "      <td>...</td>\n",
       "      <td>2</td>\n",
       "      <td>0</td>\n",
       "      <td>0</td>\n",
       "      <td>2</td>\n",
       "      <td>0</td>\n",
       "      <td>0.000</td>\n",
       "      <td>1</td>\n",
       "      <td>0.00</td>\n",
       "      <td>0.000000</td>\n",
       "      <td>0</td>\n",
       "    </tr>\n",
       "    <tr>\n",
       "      <th>3</th>\n",
       "      <td>100006</td>\n",
       "      <td>0</td>\n",
       "      <td>0</td>\n",
       "      <td>0</td>\n",
       "      <td>0</td>\n",
       "      <td>1</td>\n",
       "      <td>0</td>\n",
       "      <td>135000.0</td>\n",
       "      <td>312682.5</td>\n",
       "      <td>29686.5</td>\n",
       "      <td>...</td>\n",
       "      <td>0</td>\n",
       "      <td>0</td>\n",
       "      <td>0</td>\n",
       "      <td>0</td>\n",
       "      <td>0</td>\n",
       "      <td>0.000</td>\n",
       "      <td>0</td>\n",
       "      <td>0.00</td>\n",
       "      <td>0.000000</td>\n",
       "      <td>0</td>\n",
       "    </tr>\n",
       "    <tr>\n",
       "      <th>4</th>\n",
       "      <td>100007</td>\n",
       "      <td>0</td>\n",
       "      <td>0</td>\n",
       "      <td>1</td>\n",
       "      <td>0</td>\n",
       "      <td>1</td>\n",
       "      <td>0</td>\n",
       "      <td>121500.0</td>\n",
       "      <td>513000.0</td>\n",
       "      <td>21865.5</td>\n",
       "      <td>...</td>\n",
       "      <td>1</td>\n",
       "      <td>0</td>\n",
       "      <td>0</td>\n",
       "      <td>1</td>\n",
       "      <td>0</td>\n",
       "      <td>0.000</td>\n",
       "      <td>1</td>\n",
       "      <td>0.00</td>\n",
       "      <td>0.000000</td>\n",
       "      <td>0</td>\n",
       "    </tr>\n",
       "  </tbody>\n",
       "</table>\n",
       "<p>5 rows × 151 columns</p>\n",
       "</div>"
      ],
      "text/plain": [
       "   SK_ID_CURR  TARGET  NAME_CONTRACT_TYPE  CODE_GENDER  FLAG_OWN_CAR  \\\n",
       "0      100002       1                   0            1             0   \n",
       "1      100003       0                   0            0             0   \n",
       "2      100004       0                   1            1             1   \n",
       "3      100006       0                   0            0             0   \n",
       "4      100007       0                   0            1             0   \n",
       "\n",
       "   FLAG_OWN_REALTY  CNT_CHILDREN  AMT_INCOME_TOTAL  AMT_CREDIT  AMT_ANNUITY  \\\n",
       "0                1             0          202500.0    406597.5      24700.5   \n",
       "1                0             0          270000.0   1293502.5      35698.5   \n",
       "2                1             0           67500.0    135000.0       6750.0   \n",
       "3                1             0          135000.0    312682.5      29686.5   \n",
       "4                1             0          121500.0    513000.0      21865.5   \n",
       "\n",
       "   ...  hist_cnt_credit_day_overdue hist_sum_credit_day_overdue  \\\n",
       "0  ...                          110                           0   \n",
       "1  ...                            4                           0   \n",
       "2  ...                            2                           0   \n",
       "3  ...                            0                           0   \n",
       "4  ...                            1                           0   \n",
       "\n",
       "   hist_max_credit_prolong  hist_cnt_credit_prolong  hist_sum_credit_prolong  \\\n",
       "0                        0                      110                        0   \n",
       "1                        0                        4                        0   \n",
       "2                        0                        2                        0   \n",
       "3                        0                        0                        0   \n",
       "4                        0                        1                        0   \n",
       "\n",
       "   hist_max_amt_credit_max_overdue  hist_cnt_amt_credit_max_overdue  \\\n",
       "0                         5043.645                               56   \n",
       "1                            0.000                                4   \n",
       "2                            0.000                                1   \n",
       "3                            0.000                                0   \n",
       "4                            0.000                                1   \n",
       "\n",
       "   hist_sum_amt_credit_max_overdue  debt_credit_ratio_none  \\\n",
       "0                         73472.58                0.320947   \n",
       "1                             0.00                0.000000   \n",
       "2                             0.00                0.000000   \n",
       "3                             0.00                0.000000   \n",
       "4                             0.00                0.000000   \n",
       "\n",
       "   debt_credit_ratio_none_flg  \n",
       "0                           1  \n",
       "1                           0  \n",
       "2                           0  \n",
       "3                           0  \n",
       "4                           0  \n",
       "\n",
       "[5 rows x 151 columns]"
      ]
     },
     "execution_count": 31,
     "metadata": {},
     "output_type": "execute_result"
    }
   ],
   "source": [
    "app_train.head()"
   ]
  },
  {
   "cell_type": "code",
   "execution_count": 32,
   "metadata": {
    "executionInfo": {
     "elapsed": 5,
     "status": "ok",
     "timestamp": 1651711266552,
     "user": {
      "displayName": "大竹 春生- Haruo Otake",
      "userId": "13319069107488779089"
     },
     "user_tz": -540
    },
    "id": "EyYCV48-_5LH"
   },
   "outputs": [],
   "source": [
    "# 与信実行時債務データの欠損値を0埋め\n",
    "#app_train['max_credit_day_overdue'].fillna(0, inplace=True)\n",
    "#app_train['max_days_credit_enddate'].fillna(0, inplace=True)\n",
    "#app_train['min_days_enddate_fact'].fillna(0, inplace=True)\n",
    "#app_train['max_amt_credit_max_overdue'].fillna(0, inplace=True)\n",
    "#app_train['cnt_credit_prolong'].fillna(0, inplace=True)\n",
    "#app_train['max_credit_prolong'].fillna(0, inplace=True)\n",
    "#app_train['sum_amt_credit_sum'].fillna(0, inplace=True)\n",
    "#app_train['sum_amt_credit_sum_debt'].fillna(0, inplace=True)\n",
    "#app_train['sum_amt_credit_sum_limit'].fillna(0, inplace=True)\n",
    "#app_train['sum_amt_credit_sum_overdue'].fillna(0, inplace=True)\n",
    "#app_train['credit_type'].fillna(0, inplace=True)\n",
    "#app_train['max_days_credit_update'].fillna(0, inplace=True)\n",
    "#app_train['sum_amt_annuity'].fillna(0, inplace=True)\n",
    "# 与信実行時債務データの欠損値を0埋め\n",
    "#app_test['max_credit_day_overdue'].fillna(0, inplace=True)\n",
    "#app_test['max_days_credit_enddate'].fillna(0, inplace=True)\n",
    "#app_test['min_days_enddate_fact'].fillna(0, inplace=True)\n",
    "#app_test['max_amt_credit_max_overdue'].fillna(0, inplace=True)\n",
    "#app_test['cnt_credit_prolong'].fillna(0, inplace=True)\n",
    "#app_test['max_credit_prolong'].fillna(0, inplace=True)\n",
    "#app_test['sum_amt_credit_sum'].fillna(0, inplace=True)\n",
    "#app_test['sum_amt_credit_sum_debt'].fillna(0, inplace=True)\n",
    "#app_test['sum_amt_credit_sum_limit'].fillna(0, inplace=True)\n",
    "#app_test['sum_amt_credit_sum_overdue'].fillna(0, inplace=True)\n",
    "#app_test['credit_type'].fillna(0, inplace=True)\n",
    "#app_test['max_days_credit_update'].fillna(0, inplace=True)\n",
    "#app_test['sum_amt_annuity'].fillna(0, inplace=True)"
   ]
  },
  {
   "cell_type": "code",
   "execution_count": 33,
   "metadata": {
    "colab": {
     "base_uri": "https://localhost:8080/"
    },
    "executionInfo": {
     "elapsed": 562,
     "status": "ok",
     "timestamp": 1651711267109,
     "user": {
      "displayName": "大竹 春生- Haruo Otake",
      "userId": "13319069107488779089"
     },
     "user_tz": -540
    },
    "id": "519HQnas97-e",
    "outputId": "dd30df52-71e9-4323-b25a-ab0e8bd4d7b5"
   },
   "outputs": [
    {
     "data": {
      "text/plain": [
       "SK_ID_CURR                         0\n",
       "TARGET                             0\n",
       "NAME_CONTRACT_TYPE                 0\n",
       "CODE_GENDER                        0\n",
       "FLAG_OWN_CAR                       0\n",
       "                                  ..\n",
       "hist_max_amt_credit_max_overdue    0\n",
       "hist_cnt_amt_credit_max_overdue    0\n",
       "hist_sum_amt_credit_max_overdue    0\n",
       "debt_credit_ratio_none             0\n",
       "debt_credit_ratio_none_flg         0\n",
       "Length: 151, dtype: int64"
      ]
     },
     "execution_count": 33,
     "metadata": {},
     "output_type": "execute_result"
    }
   ],
   "source": [
    "app_train.isnull().sum()"
   ]
  },
  {
   "cell_type": "code",
   "execution_count": 34,
   "metadata": {
    "colab": {
     "base_uri": "https://localhost:8080/",
     "height": 300
    },
    "executionInfo": {
     "elapsed": 14,
     "status": "ok",
     "timestamp": 1651711267539,
     "user": {
      "displayName": "大竹 春生- Haruo Otake",
      "userId": "13319069107488779089"
     },
     "user_tz": -540
    },
    "id": "-x_6Po10E7fC",
    "outputId": "b23bfeaf-38ea-4e3c-9899-9be981ae2f54"
   },
   "outputs": [
    {
     "data": {
      "text/html": [
       "<div>\n",
       "<style scoped>\n",
       "    .dataframe tbody tr th:only-of-type {\n",
       "        vertical-align: middle;\n",
       "    }\n",
       "\n",
       "    .dataframe tbody tr th {\n",
       "        vertical-align: top;\n",
       "    }\n",
       "\n",
       "    .dataframe thead th {\n",
       "        text-align: right;\n",
       "    }\n",
       "</style>\n",
       "<table border=\"1\" class=\"dataframe\">\n",
       "  <thead>\n",
       "    <tr style=\"text-align: right;\">\n",
       "      <th></th>\n",
       "      <th>SK_ID_CURR</th>\n",
       "      <th>TARGET</th>\n",
       "      <th>NAME_CONTRACT_TYPE</th>\n",
       "      <th>CODE_GENDER</th>\n",
       "      <th>FLAG_OWN_CAR</th>\n",
       "      <th>FLAG_OWN_REALTY</th>\n",
       "      <th>CNT_CHILDREN</th>\n",
       "      <th>AMT_INCOME_TOTAL</th>\n",
       "      <th>AMT_CREDIT</th>\n",
       "      <th>AMT_ANNUITY</th>\n",
       "      <th>...</th>\n",
       "      <th>hist_cnt_credit_day_overdue</th>\n",
       "      <th>hist_sum_credit_day_overdue</th>\n",
       "      <th>hist_max_credit_prolong</th>\n",
       "      <th>hist_cnt_credit_prolong</th>\n",
       "      <th>hist_sum_credit_prolong</th>\n",
       "      <th>hist_max_amt_credit_max_overdue</th>\n",
       "      <th>hist_cnt_amt_credit_max_overdue</th>\n",
       "      <th>hist_sum_amt_credit_max_overdue</th>\n",
       "      <th>debt_credit_ratio_none</th>\n",
       "      <th>debt_credit_ratio_none_flg</th>\n",
       "    </tr>\n",
       "  </thead>\n",
       "  <tbody>\n",
       "    <tr>\n",
       "      <th>0</th>\n",
       "      <td>100002</td>\n",
       "      <td>1</td>\n",
       "      <td>0</td>\n",
       "      <td>1</td>\n",
       "      <td>0</td>\n",
       "      <td>1</td>\n",
       "      <td>0</td>\n",
       "      <td>202500.0</td>\n",
       "      <td>406597.5</td>\n",
       "      <td>24700.5</td>\n",
       "      <td>...</td>\n",
       "      <td>110</td>\n",
       "      <td>0</td>\n",
       "      <td>0</td>\n",
       "      <td>110</td>\n",
       "      <td>0</td>\n",
       "      <td>5043.645</td>\n",
       "      <td>56</td>\n",
       "      <td>73472.58</td>\n",
       "      <td>0.320947</td>\n",
       "      <td>1</td>\n",
       "    </tr>\n",
       "    <tr>\n",
       "      <th>1</th>\n",
       "      <td>100003</td>\n",
       "      <td>0</td>\n",
       "      <td>0</td>\n",
       "      <td>0</td>\n",
       "      <td>0</td>\n",
       "      <td>0</td>\n",
       "      <td>0</td>\n",
       "      <td>270000.0</td>\n",
       "      <td>1293502.5</td>\n",
       "      <td>35698.5</td>\n",
       "      <td>...</td>\n",
       "      <td>4</td>\n",
       "      <td>0</td>\n",
       "      <td>0</td>\n",
       "      <td>4</td>\n",
       "      <td>0</td>\n",
       "      <td>0.000</td>\n",
       "      <td>4</td>\n",
       "      <td>0.00</td>\n",
       "      <td>0.000000</td>\n",
       "      <td>0</td>\n",
       "    </tr>\n",
       "    <tr>\n",
       "      <th>2</th>\n",
       "      <td>100004</td>\n",
       "      <td>0</td>\n",
       "      <td>1</td>\n",
       "      <td>1</td>\n",
       "      <td>1</td>\n",
       "      <td>1</td>\n",
       "      <td>0</td>\n",
       "      <td>67500.0</td>\n",
       "      <td>135000.0</td>\n",
       "      <td>6750.0</td>\n",
       "      <td>...</td>\n",
       "      <td>2</td>\n",
       "      <td>0</td>\n",
       "      <td>0</td>\n",
       "      <td>2</td>\n",
       "      <td>0</td>\n",
       "      <td>0.000</td>\n",
       "      <td>1</td>\n",
       "      <td>0.00</td>\n",
       "      <td>0.000000</td>\n",
       "      <td>0</td>\n",
       "    </tr>\n",
       "    <tr>\n",
       "      <th>3</th>\n",
       "      <td>100006</td>\n",
       "      <td>0</td>\n",
       "      <td>0</td>\n",
       "      <td>0</td>\n",
       "      <td>0</td>\n",
       "      <td>1</td>\n",
       "      <td>0</td>\n",
       "      <td>135000.0</td>\n",
       "      <td>312682.5</td>\n",
       "      <td>29686.5</td>\n",
       "      <td>...</td>\n",
       "      <td>0</td>\n",
       "      <td>0</td>\n",
       "      <td>0</td>\n",
       "      <td>0</td>\n",
       "      <td>0</td>\n",
       "      <td>0.000</td>\n",
       "      <td>0</td>\n",
       "      <td>0.00</td>\n",
       "      <td>0.000000</td>\n",
       "      <td>0</td>\n",
       "    </tr>\n",
       "    <tr>\n",
       "      <th>4</th>\n",
       "      <td>100007</td>\n",
       "      <td>0</td>\n",
       "      <td>0</td>\n",
       "      <td>1</td>\n",
       "      <td>0</td>\n",
       "      <td>1</td>\n",
       "      <td>0</td>\n",
       "      <td>121500.0</td>\n",
       "      <td>513000.0</td>\n",
       "      <td>21865.5</td>\n",
       "      <td>...</td>\n",
       "      <td>1</td>\n",
       "      <td>0</td>\n",
       "      <td>0</td>\n",
       "      <td>1</td>\n",
       "      <td>0</td>\n",
       "      <td>0.000</td>\n",
       "      <td>1</td>\n",
       "      <td>0.00</td>\n",
       "      <td>0.000000</td>\n",
       "      <td>0</td>\n",
       "    </tr>\n",
       "  </tbody>\n",
       "</table>\n",
       "<p>5 rows × 151 columns</p>\n",
       "</div>"
      ],
      "text/plain": [
       "   SK_ID_CURR  TARGET  NAME_CONTRACT_TYPE  CODE_GENDER  FLAG_OWN_CAR  \\\n",
       "0      100002       1                   0            1             0   \n",
       "1      100003       0                   0            0             0   \n",
       "2      100004       0                   1            1             1   \n",
       "3      100006       0                   0            0             0   \n",
       "4      100007       0                   0            1             0   \n",
       "\n",
       "   FLAG_OWN_REALTY  CNT_CHILDREN  AMT_INCOME_TOTAL  AMT_CREDIT  AMT_ANNUITY  \\\n",
       "0                1             0          202500.0    406597.5      24700.5   \n",
       "1                0             0          270000.0   1293502.5      35698.5   \n",
       "2                1             0           67500.0    135000.0       6750.0   \n",
       "3                1             0          135000.0    312682.5      29686.5   \n",
       "4                1             0          121500.0    513000.0      21865.5   \n",
       "\n",
       "   ...  hist_cnt_credit_day_overdue hist_sum_credit_day_overdue  \\\n",
       "0  ...                          110                           0   \n",
       "1  ...                            4                           0   \n",
       "2  ...                            2                           0   \n",
       "3  ...                            0                           0   \n",
       "4  ...                            1                           0   \n",
       "\n",
       "   hist_max_credit_prolong  hist_cnt_credit_prolong  hist_sum_credit_prolong  \\\n",
       "0                        0                      110                        0   \n",
       "1                        0                        4                        0   \n",
       "2                        0                        2                        0   \n",
       "3                        0                        0                        0   \n",
       "4                        0                        1                        0   \n",
       "\n",
       "   hist_max_amt_credit_max_overdue  hist_cnt_amt_credit_max_overdue  \\\n",
       "0                         5043.645                               56   \n",
       "1                            0.000                                4   \n",
       "2                            0.000                                1   \n",
       "3                            0.000                                0   \n",
       "4                            0.000                                1   \n",
       "\n",
       "   hist_sum_amt_credit_max_overdue  debt_credit_ratio_none  \\\n",
       "0                         73472.58                0.320947   \n",
       "1                             0.00                0.000000   \n",
       "2                             0.00                0.000000   \n",
       "3                             0.00                0.000000   \n",
       "4                             0.00                0.000000   \n",
       "\n",
       "   debt_credit_ratio_none_flg  \n",
       "0                           1  \n",
       "1                           0  \n",
       "2                           0  \n",
       "3                           0  \n",
       "4                           0  \n",
       "\n",
       "[5 rows x 151 columns]"
      ]
     },
     "execution_count": 34,
     "metadata": {},
     "output_type": "execute_result"
    }
   ],
   "source": [
    "app_train.head()"
   ]
  },
  {
   "cell_type": "code",
   "execution_count": 35,
   "metadata": {
    "executionInfo": {
     "elapsed": 10,
     "status": "ok",
     "timestamp": 1651711267539,
     "user": {
      "displayName": "大竹 春生- Haruo Otake",
      "userId": "13319069107488779089"
     },
     "user_tz": -540
    },
    "id": "RXMe6xHfFpgO"
   },
   "outputs": [],
   "source": [
    "# 他金融機関ローンの延滞日数\n",
    "#app_train['hist_max_credit_day_overdue'].fillna(0, inplace=True)\n",
    "#app_train['hist_cnt_credit_day_overdue'].fillna(0, inplace=True)\n",
    "#app_train['hist_sum_credit_day_overdue'].fillna(0, inplace=True)\n",
    "#app_train['hist_max_credit_prolong'].fillna(0, inplace=True)\n",
    "#app_train['hist_cnt_credit_prolong'].fillna(0, inplace=True)\n",
    "#app_train['hist_sum_credit_prolong'].fillna(0, inplace=True)\n",
    "#app_train['hist_max_amt_credit_max_overdue'].fillna(0, inplace=True)\n",
    "#app_train['hist_cnt_amt_credit_max_overdue'].fillna(0, inplace=True)\n",
    "#app_train['hist_sum_amt_credit_max_overdue'].fillna(0, inplace=True)\n",
    "\n",
    "# 他金融機関ローンの延滞日数\n",
    "#app_test['hist_max_credit_day_overdue'].fillna(0, inplace=True)\n",
    "#app_test['hist_cnt_credit_day_overdue'].fillna(0, inplace=True)\n",
    "#app_test['hist_sum_credit_day_overdue'].fillna(0, inplace=True)\n",
    "#app_test['hist_max_credit_prolong'].fillna(0, inplace=True)\n",
    "#app_test['hist_cnt_credit_prolong'].fillna(0, inplace=True)\n",
    "#app_test['hist_sum_credit_prolong'].fillna(0, inplace=True)\n",
    "#app_test['hist_max_amt_credit_max_overdue'].fillna(0, inplace=True)\n",
    "#app_test['hist_cnt_amt_credit_max_overdue'].fillna(0, inplace=True)\n",
    "#app_test['hist_sum_amt_credit_max_overdue'].fillna(0, inplace=True)"
   ]
  },
  {
   "cell_type": "markdown",
   "metadata": {
    "id": "fZhX7KJZAyiz"
   },
   "source": [
    "### CREDIT_DAY_OVERDUE(申し込み時点での他金融機関ローンの延滞日数)"
   ]
  },
  {
   "cell_type": "code",
   "execution_count": 36,
   "metadata": {
    "colab": {
     "base_uri": "https://localhost:8080/"
    },
    "executionInfo": {
     "elapsed": 351,
     "status": "ok",
     "timestamp": 1651711267881,
     "user": {
      "displayName": "大竹 春生- Haruo Otake",
      "userId": "13319069107488779089"
     },
     "user_tz": -540
    },
    "id": "LxooLCvl8x-6",
    "outputId": "c46edcb5-08d2-41df-a9bd-83809c5e7f20"
   },
   "outputs": [
    {
     "data": {
      "text/plain": [
       "2792.0"
      ]
     },
     "execution_count": 36,
     "metadata": {},
     "output_type": "execute_result"
    }
   ],
   "source": [
    "max(app_train['max_credit_day_overdue'])"
   ]
  },
  {
   "cell_type": "code",
   "execution_count": 37,
   "metadata": {
    "colab": {
     "base_uri": "https://localhost:8080/"
    },
    "executionInfo": {
     "elapsed": 7,
     "status": "ok",
     "timestamp": 1651711267881,
     "user": {
      "displayName": "大竹 春生- Haruo Otake",
      "userId": "13319069107488779089"
     },
     "user_tz": -540
    },
    "id": "70jaRNhdBXBx",
    "outputId": "bab83984-366e-4604-e117-b6c13f5e2cfa"
   },
   "outputs": [
    {
     "data": {
      "text/plain": [
       "0.0"
      ]
     },
     "execution_count": 37,
     "metadata": {},
     "output_type": "execute_result"
    }
   ],
   "source": [
    "min(app_train['max_credit_day_overdue'])"
   ]
  },
  {
   "cell_type": "code",
   "execution_count": 38,
   "metadata": {
    "executionInfo": {
     "elapsed": 3,
     "status": "ok",
     "timestamp": 1651711267881,
     "user": {
      "displayName": "大竹 春生- Haruo Otake",
      "userId": "13319069107488779089"
     },
     "user_tz": -540
    },
    "id": "Xm5yfKMRNob7"
   },
   "outputs": [],
   "source": [
    "## max_credit_day_overdue_flg_flgを設定する\n",
    "app_train.loc[app_train['max_credit_day_overdue'] == 0, 'max_credit_day_overdue_flg'] = 0\n",
    "app_train.loc[app_train['max_credit_day_overdue'] != 0, 'max_credit_day_overdue_flg'] = 1\n",
    "\n",
    "app_test.loc[app_test['max_credit_day_overdue'] == 0, 'max_credit_day_overdue_flg'] = 0\n",
    "app_test.loc[app_test['max_credit_day_overdue'] != 0, 'max_credit_day_overdue_flg'] = 1\n"
   ]
  },
  {
   "cell_type": "code",
   "execution_count": 39,
   "metadata": {
    "colab": {
     "base_uri": "https://localhost:8080/",
     "height": 144
    },
    "executionInfo": {
     "elapsed": 253,
     "status": "ok",
     "timestamp": 1651711268132,
     "user": {
      "displayName": "大竹 春生- Haruo Otake",
      "userId": "13319069107488779089"
     },
     "user_tz": -540
    },
    "id": "2HWQaivFNofG",
    "outputId": "dde53cf4-c498-4574-90b8-ed9b88879dc4"
   },
   "outputs": [
    {
     "data": {
      "text/html": [
       "<div>\n",
       "<style scoped>\n",
       "    .dataframe tbody tr th:only-of-type {\n",
       "        vertical-align: middle;\n",
       "    }\n",
       "\n",
       "    .dataframe tbody tr th {\n",
       "        vertical-align: top;\n",
       "    }\n",
       "\n",
       "    .dataframe thead th {\n",
       "        text-align: right;\n",
       "    }\n",
       "</style>\n",
       "<table border=\"1\" class=\"dataframe\">\n",
       "  <thead>\n",
       "    <tr style=\"text-align: right;\">\n",
       "      <th></th>\n",
       "      <th>TARGET</th>\n",
       "      <th>max_credit_day_overdue</th>\n",
       "      <th>max_credit_day_overdue_flg</th>\n",
       "    </tr>\n",
       "  </thead>\n",
       "  <tbody>\n",
       "    <tr>\n",
       "      <th>TARGET</th>\n",
       "      <td>1.000000</td>\n",
       "      <td>-0.004333</td>\n",
       "      <td>-0.000113</td>\n",
       "    </tr>\n",
       "    <tr>\n",
       "      <th>max_credit_day_overdue</th>\n",
       "      <td>-0.004333</td>\n",
       "      <td>1.000000</td>\n",
       "      <td>0.342891</td>\n",
       "    </tr>\n",
       "    <tr>\n",
       "      <th>max_credit_day_overdue_flg</th>\n",
       "      <td>-0.000113</td>\n",
       "      <td>0.342891</td>\n",
       "      <td>1.000000</td>\n",
       "    </tr>\n",
       "  </tbody>\n",
       "</table>\n",
       "</div>"
      ],
      "text/plain": [
       "                              TARGET  max_credit_day_overdue  \\\n",
       "TARGET                      1.000000               -0.004333   \n",
       "max_credit_day_overdue     -0.004333                1.000000   \n",
       "max_credit_day_overdue_flg -0.000113                0.342891   \n",
       "\n",
       "                            max_credit_day_overdue_flg  \n",
       "TARGET                                       -0.000113  \n",
       "max_credit_day_overdue                        0.342891  \n",
       "max_credit_day_overdue_flg                    1.000000  "
      ]
     },
     "execution_count": 39,
     "metadata": {},
     "output_type": "execute_result"
    }
   ],
   "source": [
    "obj_tmp = app_train[['TARGET', 'max_credit_day_overdue', 'max_credit_day_overdue_flg']].copy()\n",
    "obj_tmp.corr()"
   ]
  },
  {
   "cell_type": "code",
   "execution_count": 40,
   "metadata": {
    "colab": {
     "base_uri": "https://localhost:8080/",
     "height": 280
    },
    "executionInfo": {
     "elapsed": 276,
     "status": "ok",
     "timestamp": 1651711268403,
     "user": {
      "displayName": "大竹 春生- Haruo Otake",
      "userId": "13319069107488779089"
     },
     "user_tz": -540
    },
    "id": "aYJHIriTBbeQ",
    "outputId": "f0428bb9-bd18-4099-ba7d-aa7042f895cf"
   },
   "outputs": [
    {
     "data": {
      "image/png": "[encoded data removed]",
      "text/plain": [
       "<Figure size 432x288 with 1 Axes>"
      ]
     },
     "metadata": {
      "needs_background": "light"
     },
     "output_type": "display_data"
    }
   ],
   "source": [
    "%matplotlib inline\n",
    "sns.countplot(x='max_credit_day_overdue_flg', hue='TARGET', data=obj_tmp)\n",
    "plt.legend(loc='upper right', title='TARGET')\n",
    "plt.show()"
   ]
  },
  {
   "cell_type": "markdown",
   "metadata": {
    "id": "pz2QfMnsOZ5T"
   },
   "source": [
    "### DAYS_CREDIT_ENDDATE|申し込み時点での他金融機関ローンの残りの日数"
   ]
  },
  {
   "cell_type": "code",
   "execution_count": 41,
   "metadata": {
    "colab": {
     "base_uri": "https://localhost:8080/"
    },
    "executionInfo": {
     "elapsed": 305,
     "status": "ok",
     "timestamp": 1651711268701,
     "user": {
      "displayName": "大竹 春生- Haruo Otake",
      "userId": "13319069107488779089"
     },
     "user_tz": -540
    },
    "id": "TU8PR0IUOYPB",
    "outputId": "435e6e1a-9398-443f-c5f6-9bada4fbc787"
   },
   "outputs": [
    {
     "data": {
      "text/plain": [
       "31130.0"
      ]
     },
     "execution_count": 41,
     "metadata": {},
     "output_type": "execute_result"
    }
   ],
   "source": [
    "max(app_train['max_days_credit_enddate'])"
   ]
  },
  {
   "cell_type": "code",
   "execution_count": 42,
   "metadata": {
    "colab": {
     "base_uri": "https://localhost:8080/"
    },
    "executionInfo": {
     "elapsed": 39,
     "status": "ok",
     "timestamp": 1651711268702,
     "user": {
      "displayName": "大竹 春生- Haruo Otake",
      "userId": "13319069107488779089"
     },
     "user_tz": -540
    },
    "id": "3Af6meJBBvKP",
    "outputId": "e5124b81-2f45-4b1b-e741-52d4a0ed2aa1"
   },
   "outputs": [
    {
     "data": {
      "text/plain": [
       "-41920.0"
      ]
     },
     "execution_count": 42,
     "metadata": {},
     "output_type": "execute_result"
    }
   ],
   "source": [
    "min(app_train['max_days_credit_enddate'])"
   ]
  },
  {
   "cell_type": "code",
   "execution_count": 43,
   "metadata": {
    "colab": {
     "base_uri": "https://localhost:8080/",
     "height": 112
    },
    "executionInfo": {
     "elapsed": 34,
     "status": "ok",
     "timestamp": 1651711268703,
     "user": {
      "displayName": "大竹 春生- Haruo Otake",
      "userId": "13319069107488779089"
     },
     "user_tz": -540
    },
    "id": "ZvpxQYTIPHiv",
    "outputId": "4cad53b3-ba9b-4b43-99a3-779c97a6fd80"
   },
   "outputs": [
    {
     "data": {
      "text/html": [
       "<div>\n",
       "<style scoped>\n",
       "    .dataframe tbody tr th:only-of-type {\n",
       "        vertical-align: middle;\n",
       "    }\n",
       "\n",
       "    .dataframe tbody tr th {\n",
       "        vertical-align: top;\n",
       "    }\n",
       "\n",
       "    .dataframe thead th {\n",
       "        text-align: right;\n",
       "    }\n",
       "</style>\n",
       "<table border=\"1\" class=\"dataframe\">\n",
       "  <thead>\n",
       "    <tr style=\"text-align: right;\">\n",
       "      <th></th>\n",
       "      <th>TARGET</th>\n",
       "      <th>max_days_credit_enddate</th>\n",
       "    </tr>\n",
       "  </thead>\n",
       "  <tbody>\n",
       "    <tr>\n",
       "      <th>TARGET</th>\n",
       "      <td>1.000000</td>\n",
       "      <td>0.033534</td>\n",
       "    </tr>\n",
       "    <tr>\n",
       "      <th>max_days_credit_enddate</th>\n",
       "      <td>0.033534</td>\n",
       "      <td>1.000000</td>\n",
       "    </tr>\n",
       "  </tbody>\n",
       "</table>\n",
       "</div>"
      ],
      "text/plain": [
       "                           TARGET  max_days_credit_enddate\n",
       "TARGET                   1.000000                 0.033534\n",
       "max_days_credit_enddate  0.033534                 1.000000"
      ]
     },
     "execution_count": 43,
     "metadata": {},
     "output_type": "execute_result"
    }
   ],
   "source": [
    "obj_tmp = app_train[['TARGET', 'max_days_credit_enddate']].copy()\n",
    "obj_tmp.corr()"
   ]
  },
  {
   "cell_type": "code",
   "execution_count": 44,
   "metadata": {
    "executionInfo": {
     "elapsed": 33,
     "status": "ok",
     "timestamp": 1651711268704,
     "user": {
      "displayName": "大竹 春生- Haruo Otake",
      "userId": "13319069107488779089"
     },
     "user_tz": -540
    },
    "id": "I2470pMYBvMs"
   },
   "outputs": [],
   "source": [
    "#%matplotlib inline\n",
    "#sns.countplot(x='max_days_credit_enddate', hue='TARGET', data=app_train)\n",
    "#plt.legend(loc='upper right', title='TARGET')\n",
    "#plt.show()"
   ]
  },
  {
   "cell_type": "markdown",
   "metadata": {
    "id": "VUR-2cy-Pi-G"
   },
   "source": [
    "### DAYS_ENDDATE_FACT(申し込み時点での他金融機関ローンが払い終わっている場合の払い終わってからの日数)"
   ]
  },
  {
   "cell_type": "code",
   "execution_count": 45,
   "metadata": {
    "colab": {
     "base_uri": "https://localhost:8080/"
    },
    "executionInfo": {
     "elapsed": 33,
     "status": "ok",
     "timestamp": 1651711268705,
     "user": {
      "displayName": "大竹 春生- Haruo Otake",
      "userId": "13319069107488779089"
     },
     "user_tz": -540
    },
    "id": "OL9xNwIVPrQo",
    "outputId": "7be398c1-eb62-43f9-f54f-644d4f15f07d"
   },
   "outputs": [
    {
     "data": {
      "text/plain": [
       "0.0"
      ]
     },
     "execution_count": 45,
     "metadata": {},
     "output_type": "execute_result"
    }
   ],
   "source": [
    "max(app_train['min_days_enddate_fact'])"
   ]
  },
  {
   "cell_type": "code",
   "execution_count": 46,
   "metadata": {
    "colab": {
     "base_uri": "https://localhost:8080/"
    },
    "executionInfo": {
     "elapsed": 27,
     "status": "ok",
     "timestamp": 1651711268705,
     "user": {
      "displayName": "大竹 春生- Haruo Otake",
      "userId": "13319069107488779089"
     },
     "user_tz": -540
    },
    "id": "RQUzU2vz8yG4",
    "outputId": "595305d4-0408-41e1-9152-7fec6ffaa4ae"
   },
   "outputs": [
    {
     "data": {
      "text/plain": [
       "-42023.0"
      ]
     },
     "execution_count": 46,
     "metadata": {},
     "output_type": "execute_result"
    }
   ],
   "source": [
    "min(app_train['min_days_enddate_fact'])"
   ]
  },
  {
   "cell_type": "code",
   "execution_count": 47,
   "metadata": {
    "colab": {
     "base_uri": "https://localhost:8080/",
     "height": 112
    },
    "executionInfo": {
     "elapsed": 23,
     "status": "ok",
     "timestamp": 1651711268706,
     "user": {
      "displayName": "大竹 春生- Haruo Otake",
      "userId": "13319069107488779089"
     },
     "user_tz": -540
    },
    "id": "Kkb1i6tz8yJ4",
    "outputId": "7a9430f2-6dd5-4064-9a50-63149bf156ea"
   },
   "outputs": [
    {
     "data": {
      "text/html": [
       "<div>\n",
       "<style scoped>\n",
       "    .dataframe tbody tr th:only-of-type {\n",
       "        vertical-align: middle;\n",
       "    }\n",
       "\n",
       "    .dataframe tbody tr th {\n",
       "        vertical-align: top;\n",
       "    }\n",
       "\n",
       "    .dataframe thead th {\n",
       "        text-align: right;\n",
       "    }\n",
       "</style>\n",
       "<table border=\"1\" class=\"dataframe\">\n",
       "  <thead>\n",
       "    <tr style=\"text-align: right;\">\n",
       "      <th></th>\n",
       "      <th>TARGET</th>\n",
       "      <th>min_days_enddate_fact</th>\n",
       "    </tr>\n",
       "  </thead>\n",
       "  <tbody>\n",
       "    <tr>\n",
       "      <th>TARGET</th>\n",
       "      <td>1.00000</td>\n",
       "      <td>0.06062</td>\n",
       "    </tr>\n",
       "    <tr>\n",
       "      <th>min_days_enddate_fact</th>\n",
       "      <td>0.06062</td>\n",
       "      <td>1.00000</td>\n",
       "    </tr>\n",
       "  </tbody>\n",
       "</table>\n",
       "</div>"
      ],
      "text/plain": [
       "                        TARGET  min_days_enddate_fact\n",
       "TARGET                 1.00000                0.06062\n",
       "min_days_enddate_fact  0.06062                1.00000"
      ]
     },
     "execution_count": 47,
     "metadata": {},
     "output_type": "execute_result"
    }
   ],
   "source": [
    "obj_tmp = app_train[['TARGET', 'min_days_enddate_fact']].copy()\n",
    "obj_tmp.corr()"
   ]
  },
  {
   "cell_type": "code",
   "execution_count": 48,
   "metadata": {
    "executionInfo": {
     "elapsed": 299,
     "status": "ok",
     "timestamp": 1651711268985,
     "user": {
      "displayName": "大竹 春生- Haruo Otake",
      "userId": "13319069107488779089"
     },
     "user_tz": -540
    },
    "id": "R3nH2iN28yM4"
   },
   "outputs": [],
   "source": [
    "#%matplotlib inline\n",
    "#sns.countplot(x='min_days_enddate_fact', hue='TARGET', data=app_train)\n",
    "#plt.legend(loc='upper right', title='TARGET')\n",
    "#plt.show()"
   ]
  },
  {
   "cell_type": "markdown",
   "metadata": {
    "id": "XiytmLzIQMzv"
   },
   "source": [
    "### max_amt_credit_max_overdue"
   ]
  },
  {
   "cell_type": "code",
   "execution_count": 49,
   "metadata": {
    "colab": {
     "base_uri": "https://localhost:8080/"
    },
    "executionInfo": {
     "elapsed": 23,
     "status": "ok",
     "timestamp": 1651711268986,
     "user": {
      "displayName": "大竹 春生- Haruo Otake",
      "userId": "13319069107488779089"
     },
     "user_tz": -540
    },
    "id": "nRc0Gbao8yQo",
    "outputId": "9f46495a-6bc2-4620-9d44-b9f2d1555dc3"
   },
   "outputs": [
    {
     "data": {
      "text/plain": [
       "94812246.0"
      ]
     },
     "execution_count": 49,
     "metadata": {},
     "output_type": "execute_result"
    }
   ],
   "source": [
    "max(app_train['max_amt_credit_max_overdue'])"
   ]
  },
  {
   "cell_type": "code",
   "execution_count": 50,
   "metadata": {
    "colab": {
     "base_uri": "https://localhost:8080/"
    },
    "executionInfo": {
     "elapsed": 22,
     "status": "ok",
     "timestamp": 1651711268986,
     "user": {
      "displayName": "大竹 春生- Haruo Otake",
      "userId": "13319069107488779089"
     },
     "user_tz": -540
    },
    "id": "PUx8GeoQ8yUq",
    "outputId": "b1884b17-68fa-4760-cbb0-bc5410145ef0"
   },
   "outputs": [
    {
     "data": {
      "text/plain": [
       "0.0"
      ]
     },
     "execution_count": 50,
     "metadata": {},
     "output_type": "execute_result"
    }
   ],
   "source": [
    "min(app_train['max_amt_credit_max_overdue'])"
   ]
  },
  {
   "cell_type": "code",
   "execution_count": 51,
   "metadata": {
    "colab": {
     "base_uri": "https://localhost:8080/",
     "height": 112
    },
    "executionInfo": {
     "elapsed": 16,
     "status": "ok",
     "timestamp": 1651711268986,
     "user": {
      "displayName": "大竹 春生- Haruo Otake",
      "userId": "13319069107488779089"
     },
     "user_tz": -540
    },
    "id": "54CA4tC3QZre",
    "outputId": "556b77fe-3479-4458-84fb-2dea128ea074"
   },
   "outputs": [
    {
     "data": {
      "text/html": [
       "<div>\n",
       "<style scoped>\n",
       "    .dataframe tbody tr th:only-of-type {\n",
       "        vertical-align: middle;\n",
       "    }\n",
       "\n",
       "    .dataframe tbody tr th {\n",
       "        vertical-align: top;\n",
       "    }\n",
       "\n",
       "    .dataframe thead th {\n",
       "        text-align: right;\n",
       "    }\n",
       "</style>\n",
       "<table border=\"1\" class=\"dataframe\">\n",
       "  <thead>\n",
       "    <tr style=\"text-align: right;\">\n",
       "      <th></th>\n",
       "      <th>TARGET</th>\n",
       "      <th>max_amt_credit_max_overdue</th>\n",
       "    </tr>\n",
       "  </thead>\n",
       "  <tbody>\n",
       "    <tr>\n",
       "      <th>TARGET</th>\n",
       "      <td>1.000000</td>\n",
       "      <td>0.000052</td>\n",
       "    </tr>\n",
       "    <tr>\n",
       "      <th>max_amt_credit_max_overdue</th>\n",
       "      <td>0.000052</td>\n",
       "      <td>1.000000</td>\n",
       "    </tr>\n",
       "  </tbody>\n",
       "</table>\n",
       "</div>"
      ],
      "text/plain": [
       "                              TARGET  max_amt_credit_max_overdue\n",
       "TARGET                      1.000000                    0.000052\n",
       "max_amt_credit_max_overdue  0.000052                    1.000000"
      ]
     },
     "execution_count": 51,
     "metadata": {},
     "output_type": "execute_result"
    }
   ],
   "source": [
    "app_train[['TARGET', 'max_amt_credit_max_overdue']].corr()"
   ]
  },
  {
   "cell_type": "markdown",
   "metadata": {
    "id": "6cQtV9Q5RA2s"
   },
   "source": [
    "### CNT_CREDIT_PROLONG(クレジットを何回延長したか)"
   ]
  },
  {
   "cell_type": "code",
   "execution_count": 52,
   "metadata": {
    "colab": {
     "base_uri": "https://localhost:8080/"
    },
    "executionInfo": {
     "elapsed": 13,
     "status": "ok",
     "timestamp": 1651711268986,
     "user": {
      "displayName": "大竹 春生- Haruo Otake",
      "userId": "13319069107488779089"
     },
     "user_tz": -540
    },
    "id": "WHgHTbhyQZxX",
    "outputId": "487e8a74-f086-43fa-b34b-9341ca97aa7f"
   },
   "outputs": [
    {
     "data": {
      "text/plain": [
       "71.0"
      ]
     },
     "execution_count": 52,
     "metadata": {},
     "output_type": "execute_result"
    }
   ],
   "source": [
    "max(app_train['cnt_credit_prolong'])"
   ]
  },
  {
   "cell_type": "code",
   "execution_count": 53,
   "metadata": {
    "colab": {
     "base_uri": "https://localhost:8080/"
    },
    "executionInfo": {
     "elapsed": 9,
     "status": "ok",
     "timestamp": 1651711268986,
     "user": {
      "displayName": "大竹 春生- Haruo Otake",
      "userId": "13319069107488779089"
     },
     "user_tz": -540
    },
    "id": "f9OOVBplQZ0b",
    "outputId": "b75a6687-bf23-4740-8436-4cbdc4bdcbb2"
   },
   "outputs": [
    {
     "data": {
      "text/plain": [
       "1.0"
      ]
     },
     "execution_count": 53,
     "metadata": {},
     "output_type": "execute_result"
    }
   ],
   "source": [
    "min(app_train['cnt_credit_prolong'])"
   ]
  },
  {
   "cell_type": "code",
   "execution_count": 54,
   "metadata": {
    "colab": {
     "base_uri": "https://localhost:8080/",
     "height": 112
    },
    "executionInfo": {
     "elapsed": 9,
     "status": "ok",
     "timestamp": 1651711268987,
     "user": {
      "displayName": "大竹 春生- Haruo Otake",
      "userId": "13319069107488779089"
     },
     "user_tz": -540
    },
    "id": "QjnDVsbGQZ29",
    "outputId": "34d5fb00-bc1b-4488-eca4-1918805028a9"
   },
   "outputs": [
    {
     "data": {
      "text/html": [
       "<div>\n",
       "<style scoped>\n",
       "    .dataframe tbody tr th:only-of-type {\n",
       "        vertical-align: middle;\n",
       "    }\n",
       "\n",
       "    .dataframe tbody tr th {\n",
       "        vertical-align: top;\n",
       "    }\n",
       "\n",
       "    .dataframe thead th {\n",
       "        text-align: right;\n",
       "    }\n",
       "</style>\n",
       "<table border=\"1\" class=\"dataframe\">\n",
       "  <thead>\n",
       "    <tr style=\"text-align: right;\">\n",
       "      <th></th>\n",
       "      <th>TARGET</th>\n",
       "      <th>cnt_credit_prolong</th>\n",
       "    </tr>\n",
       "  </thead>\n",
       "  <tbody>\n",
       "    <tr>\n",
       "      <th>TARGET</th>\n",
       "      <td>1.000000</td>\n",
       "      <td>0.005423</td>\n",
       "    </tr>\n",
       "    <tr>\n",
       "      <th>cnt_credit_prolong</th>\n",
       "      <td>0.005423</td>\n",
       "      <td>1.000000</td>\n",
       "    </tr>\n",
       "  </tbody>\n",
       "</table>\n",
       "</div>"
      ],
      "text/plain": [
       "                      TARGET  cnt_credit_prolong\n",
       "TARGET              1.000000            0.005423\n",
       "cnt_credit_prolong  0.005423            1.000000"
      ]
     },
     "execution_count": 54,
     "metadata": {},
     "output_type": "execute_result"
    }
   ],
   "source": [
    "app_train[['TARGET', 'cnt_credit_prolong']].corr()"
   ]
  },
  {
   "cell_type": "code",
   "execution_count": 55,
   "metadata": {
    "colab": {
     "base_uri": "https://localhost:8080/",
     "height": 280
    },
    "executionInfo": {
     "elapsed": 986,
     "status": "ok",
     "timestamp": 1651711269965,
     "user": {
      "displayName": "大竹 春生- Haruo Otake",
      "userId": "13319069107488779089"
     },
     "user_tz": -540
    },
    "id": "sLtPMASFQZ7w",
    "outputId": "ede345ad-f544-44ea-a24a-f11886651ec8"
   },
   "outputs": [
    {
     "data": {
      "image/png": "[encoded data removed]",
      "text/plain": [
       "<Figure size 432x288 with 1 Axes>"
      ]
     },
     "metadata": {
      "needs_background": "light"
     },
     "output_type": "display_data"
    }
   ],
   "source": [
    "%matplotlib inline\n",
    "sns.countplot(x='cnt_credit_prolong', hue='TARGET', data=app_train)\n",
    "plt.legend(loc='upper right', title='TARGET')\n",
    "plt.show()"
   ]
  },
  {
   "cell_type": "markdown",
   "metadata": {
    "id": "abuT9WeORnu9"
   },
   "source": [
    "### max_credit_prolong"
   ]
  },
  {
   "cell_type": "code",
   "execution_count": 56,
   "metadata": {
    "colab": {
     "base_uri": "https://localhost:8080/"
    },
    "executionInfo": {
     "elapsed": 20,
     "status": "ok",
     "timestamp": 1651711269966,
     "user": {
      "displayName": "大竹 春生- Haruo Otake",
      "userId": "13319069107488779089"
     },
     "user_tz": -540
    },
    "id": "SWa4foyKQZ_L",
    "outputId": "659c71fa-c317-4171-a73d-05a062523a28"
   },
   "outputs": [
    {
     "data": {
      "text/plain": [
       "6.0"
      ]
     },
     "execution_count": 56,
     "metadata": {},
     "output_type": "execute_result"
    }
   ],
   "source": [
    "max(app_train['max_credit_prolong'])"
   ]
  },
  {
   "cell_type": "code",
   "execution_count": 57,
   "metadata": {
    "colab": {
     "base_uri": "https://localhost:8080/"
    },
    "executionInfo": {
     "elapsed": 17,
     "status": "ok",
     "timestamp": 1651711269967,
     "user": {
      "displayName": "大竹 春生- Haruo Otake",
      "userId": "13319069107488779089"
     },
     "user_tz": -540
    },
    "id": "vgQJp5x9RmLF",
    "outputId": "118d7840-3665-49f1-bb74-7a67abb58345"
   },
   "outputs": [
    {
     "data": {
      "text/plain": [
       "0.0"
      ]
     },
     "execution_count": 57,
     "metadata": {},
     "output_type": "execute_result"
    }
   ],
   "source": [
    "min(app_train['max_credit_prolong'])"
   ]
  },
  {
   "cell_type": "code",
   "execution_count": 58,
   "metadata": {
    "colab": {
     "base_uri": "https://localhost:8080/",
     "height": 112
    },
    "executionInfo": {
     "elapsed": 11,
     "status": "ok",
     "timestamp": 1651711269967,
     "user": {
      "displayName": "大竹 春生- Haruo Otake",
      "userId": "13319069107488779089"
     },
     "user_tz": -540
    },
    "id": "ff67ugdERmOa",
    "outputId": "a6aba077-9157-48f9-c806-f1c08548754c"
   },
   "outputs": [
    {
     "data": {
      "text/html": [
       "<div>\n",
       "<style scoped>\n",
       "    .dataframe tbody tr th:only-of-type {\n",
       "        vertical-align: middle;\n",
       "    }\n",
       "\n",
       "    .dataframe tbody tr th {\n",
       "        vertical-align: top;\n",
       "    }\n",
       "\n",
       "    .dataframe thead th {\n",
       "        text-align: right;\n",
       "    }\n",
       "</style>\n",
       "<table border=\"1\" class=\"dataframe\">\n",
       "  <thead>\n",
       "    <tr style=\"text-align: right;\">\n",
       "      <th></th>\n",
       "      <th>TARGET</th>\n",
       "      <th>max_credit_prolong</th>\n",
       "    </tr>\n",
       "  </thead>\n",
       "  <tbody>\n",
       "    <tr>\n",
       "      <th>TARGET</th>\n",
       "      <td>1.000000</td>\n",
       "      <td>0.005313</td>\n",
       "    </tr>\n",
       "    <tr>\n",
       "      <th>max_credit_prolong</th>\n",
       "      <td>0.005313</td>\n",
       "      <td>1.000000</td>\n",
       "    </tr>\n",
       "  </tbody>\n",
       "</table>\n",
       "</div>"
      ],
      "text/plain": [
       "                      TARGET  max_credit_prolong\n",
       "TARGET              1.000000            0.005313\n",
       "max_credit_prolong  0.005313            1.000000"
      ]
     },
     "execution_count": 58,
     "metadata": {},
     "output_type": "execute_result"
    }
   ],
   "source": [
    "app_train[['TARGET', 'max_credit_prolong']].corr()"
   ]
  },
  {
   "cell_type": "code",
   "execution_count": 59,
   "metadata": {
    "colab": {
     "base_uri": "https://localhost:8080/",
     "height": 280
    },
    "executionInfo": {
     "elapsed": 483,
     "status": "ok",
     "timestamp": 1651711270443,
     "user": {
      "displayName": "大竹 春生- Haruo Otake",
      "userId": "13319069107488779089"
     },
     "user_tz": -540
    },
    "id": "uptAi5Y-R2h1",
    "outputId": "7db7e19f-7d21-43ef-e989-b0a66ac0e397"
   },
   "outputs": [
    {
     "data": {
      "image/png": "[encoded data removed]",
      "text/plain": [
       "<Figure size 432x288 with 1 Axes>"
      ]
     },
     "metadata": {
      "needs_background": "light"
     },
     "output_type": "display_data"
    }
   ],
   "source": [
    "%matplotlib inline\n",
    "sns.countplot(x='max_credit_prolong', hue='TARGET', data=app_train)\n",
    "plt.legend(loc='upper right', title='TARGET')\n",
    "plt.show()"
   ]
  },
  {
   "cell_type": "markdown",
   "metadata": {
    "id": "F8M10UB_SHEd"
   },
   "source": [
    "### AMT_CREDIT_SUM(信用情報機関登録されている与信額の総和)"
   ]
  },
  {
   "cell_type": "code",
   "execution_count": 60,
   "metadata": {
    "colab": {
     "base_uri": "https://localhost:8080/"
    },
    "executionInfo": {
     "elapsed": 20,
     "status": "ok",
     "timestamp": 1651711270443,
     "user": {
      "displayName": "大竹 春生- Haruo Otake",
      "userId": "13319069107488779089"
     },
     "user_tz": -540
    },
    "id": "et_ACdczR2kl",
    "outputId": "1010e700-91f9-478b-af5a-be6def6cf2c9"
   },
   "outputs": [
    {
     "data": {
      "text/plain": [
       "265320558.0"
      ]
     },
     "execution_count": 60,
     "metadata": {},
     "output_type": "execute_result"
    }
   ],
   "source": [
    "max(app_train['sum_amt_credit_sum'])"
   ]
  },
  {
   "cell_type": "code",
   "execution_count": 61,
   "metadata": {
    "colab": {
     "base_uri": "https://localhost:8080/"
    },
    "executionInfo": {
     "elapsed": 16,
     "status": "ok",
     "timestamp": 1651711270443,
     "user": {
      "displayName": "大竹 春生- Haruo Otake",
      "userId": "13319069107488779089"
     },
     "user_tz": -540
    },
    "id": "XfQx9e3aR2nm",
    "outputId": "0ef547d3-72cd-4b5c-9e5c-2b8ab8a1a991"
   },
   "outputs": [
    {
     "data": {
      "text/plain": [
       "0.0"
      ]
     },
     "execution_count": 61,
     "metadata": {},
     "output_type": "execute_result"
    }
   ],
   "source": [
    "min(app_train['sum_amt_credit_sum'])"
   ]
  },
  {
   "cell_type": "code",
   "execution_count": 62,
   "metadata": {
    "colab": {
     "base_uri": "https://localhost:8080/",
     "height": 112
    },
    "executionInfo": {
     "elapsed": 15,
     "status": "ok",
     "timestamp": 1651711270444,
     "user": {
      "displayName": "大竹 春生- Haruo Otake",
      "userId": "13319069107488779089"
     },
     "user_tz": -540
    },
    "id": "aHmFmHuHR2qU",
    "outputId": "0a4e2eb3-7592-496a-aca9-4c56a98162d9"
   },
   "outputs": [
    {
     "data": {
      "text/html": [
       "<div>\n",
       "<style scoped>\n",
       "    .dataframe tbody tr th:only-of-type {\n",
       "        vertical-align: middle;\n",
       "    }\n",
       "\n",
       "    .dataframe tbody tr th {\n",
       "        vertical-align: top;\n",
       "    }\n",
       "\n",
       "    .dataframe thead th {\n",
       "        text-align: right;\n",
       "    }\n",
       "</style>\n",
       "<table border=\"1\" class=\"dataframe\">\n",
       "  <thead>\n",
       "    <tr style=\"text-align: right;\">\n",
       "      <th></th>\n",
       "      <th>TARGET</th>\n",
       "      <th>sum_amt_credit_sum</th>\n",
       "    </tr>\n",
       "  </thead>\n",
       "  <tbody>\n",
       "    <tr>\n",
       "      <th>TARGET</th>\n",
       "      <td>1.000000</td>\n",
       "      <td>-0.016928</td>\n",
       "    </tr>\n",
       "    <tr>\n",
       "      <th>sum_amt_credit_sum</th>\n",
       "      <td>-0.016928</td>\n",
       "      <td>1.000000</td>\n",
       "    </tr>\n",
       "  </tbody>\n",
       "</table>\n",
       "</div>"
      ],
      "text/plain": [
       "                      TARGET  sum_amt_credit_sum\n",
       "TARGET              1.000000           -0.016928\n",
       "sum_amt_credit_sum -0.016928            1.000000"
      ]
     },
     "execution_count": 62,
     "metadata": {},
     "output_type": "execute_result"
    }
   ],
   "source": [
    "app_train[['TARGET', 'sum_amt_credit_sum']].corr()"
   ]
  },
  {
   "cell_type": "markdown",
   "metadata": {
    "id": "Aunaf0ClSkBj"
   },
   "source": [
    "### AMT_CREDIT_SUM_DEBT(信用情報機関に登録されている債務)"
   ]
  },
  {
   "cell_type": "code",
   "execution_count": 63,
   "metadata": {
    "colab": {
     "base_uri": "https://localhost:8080/"
    },
    "executionInfo": {
     "elapsed": 14,
     "status": "ok",
     "timestamp": 1651711270444,
     "user": {
      "displayName": "大竹 春生- Haruo Otake",
      "userId": "13319069107488779089"
     },
     "user_tz": -540
    },
    "id": "TwG7YDmQSjK3",
    "outputId": "d93467f4-ffec-4faa-e9d4-29aae8f07210"
   },
   "outputs": [
    {
     "data": {
      "text/plain": [
       "170466131.205"
      ]
     },
     "execution_count": 63,
     "metadata": {},
     "output_type": "execute_result"
    }
   ],
   "source": [
    "max(app_train['sum_amt_credit_sum_debt'])"
   ]
  },
  {
   "cell_type": "code",
   "execution_count": 64,
   "metadata": {
    "colab": {
     "base_uri": "https://localhost:8080/"
    },
    "executionInfo": {
     "elapsed": 13,
     "status": "ok",
     "timestamp": 1651711270445,
     "user": {
      "displayName": "大竹 春生- Haruo Otake",
      "userId": "13319069107488779089"
     },
     "user_tz": -540
    },
    "id": "A1tEcpiYSrdm",
    "outputId": "07770fcf-6efe-4c3d-d77e-87a763c56de1"
   },
   "outputs": [
    {
     "data": {
      "text/plain": [
       "-1999478.475"
      ]
     },
     "execution_count": 64,
     "metadata": {},
     "output_type": "execute_result"
    }
   ],
   "source": [
    "min(app_train['sum_amt_credit_sum_debt'])"
   ]
  },
  {
   "cell_type": "code",
   "execution_count": 65,
   "metadata": {
    "colab": {
     "base_uri": "https://localhost:8080/",
     "height": 112
    },
    "executionInfo": {
     "elapsed": 11,
     "status": "ok",
     "timestamp": 1651711270445,
     "user": {
      "displayName": "大竹 春生- Haruo Otake",
      "userId": "13319069107488779089"
     },
     "user_tz": -540
    },
    "id": "8_WdFxhpSrgb",
    "outputId": "84ba6e61-bf9f-4dbe-cf6d-839dfff7ac55"
   },
   "outputs": [
    {
     "data": {
      "text/html": [
       "<div>\n",
       "<style scoped>\n",
       "    .dataframe tbody tr th:only-of-type {\n",
       "        vertical-align: middle;\n",
       "    }\n",
       "\n",
       "    .dataframe tbody tr th {\n",
       "        vertical-align: top;\n",
       "    }\n",
       "\n",
       "    .dataframe thead th {\n",
       "        text-align: right;\n",
       "    }\n",
       "</style>\n",
       "<table border=\"1\" class=\"dataframe\">\n",
       "  <thead>\n",
       "    <tr style=\"text-align: right;\">\n",
       "      <th></th>\n",
       "      <th>TARGET</th>\n",
       "      <th>sum_amt_credit_sum_debt</th>\n",
       "    </tr>\n",
       "  </thead>\n",
       "  <tbody>\n",
       "    <tr>\n",
       "      <th>TARGET</th>\n",
       "      <td>1.000000</td>\n",
       "      <td>0.007136</td>\n",
       "    </tr>\n",
       "    <tr>\n",
       "      <th>sum_amt_credit_sum_debt</th>\n",
       "      <td>0.007136</td>\n",
       "      <td>1.000000</td>\n",
       "    </tr>\n",
       "  </tbody>\n",
       "</table>\n",
       "</div>"
      ],
      "text/plain": [
       "                           TARGET  sum_amt_credit_sum_debt\n",
       "TARGET                   1.000000                 0.007136\n",
       "sum_amt_credit_sum_debt  0.007136                 1.000000"
      ]
     },
     "execution_count": 65,
     "metadata": {},
     "output_type": "execute_result"
    }
   ],
   "source": [
    "app_train[['TARGET', 'sum_amt_credit_sum_debt']].corr()"
   ]
  },
  {
   "cell_type": "markdown",
   "metadata": {
    "id": "3Y6_GZVsS40v"
   },
   "source": [
    "### AMT_CREDIT_SUM_LIMIT(信用情報機関に登録されているクレジットカードの限度額)"
   ]
  },
  {
   "cell_type": "code",
   "execution_count": 66,
   "metadata": {
    "colab": {
     "base_uri": "https://localhost:8080/"
    },
    "executionInfo": {
     "elapsed": 408,
     "status": "ok",
     "timestamp": 1651711270843,
     "user": {
      "displayName": "大竹 春生- Haruo Otake",
      "userId": "13319069107488779089"
     },
     "user_tz": -540
    },
    "id": "1Xr3gXcgSrjA",
    "outputId": "ae7e3db0-f6c1-4cfd-f40b-ccd54e48932a"
   },
   "outputs": [
    {
     "data": {
      "text/plain": [
       "4500000.0"
      ]
     },
     "execution_count": 66,
     "metadata": {},
     "output_type": "execute_result"
    }
   ],
   "source": [
    "max(app_train['sum_amt_credit_sum_limit'])"
   ]
  },
  {
   "cell_type": "code",
   "execution_count": 67,
   "metadata": {
    "colab": {
     "base_uri": "https://localhost:8080/"
    },
    "executionInfo": {
     "elapsed": 22,
     "status": "ok",
     "timestamp": 1651711270843,
     "user": {
      "displayName": "大竹 春生- Haruo Otake",
      "userId": "13319069107488779089"
     },
     "user_tz": -540
    },
    "id": "CYZGwrR-TDDm",
    "outputId": "7a900b14-0c31-42ac-e3d0-f48846cbdc02"
   },
   "outputs": [
    {
     "data": {
      "text/plain": [
       "-117660.015"
      ]
     },
     "execution_count": 67,
     "metadata": {},
     "output_type": "execute_result"
    }
   ],
   "source": [
    "min(app_train['sum_amt_credit_sum_limit'])"
   ]
  },
  {
   "cell_type": "code",
   "execution_count": 68,
   "metadata": {
    "colab": {
     "base_uri": "https://localhost:8080/",
     "height": 112
    },
    "executionInfo": {
     "elapsed": 21,
     "status": "ok",
     "timestamp": 1651711270844,
     "user": {
      "displayName": "大竹 春生- Haruo Otake",
      "userId": "13319069107488779089"
     },
     "user_tz": -540
    },
    "id": "KG_0AYlaTDGr",
    "outputId": "8999e8c0-eed7-477a-9ef4-dc1fca639d98"
   },
   "outputs": [
    {
     "data": {
      "text/html": [
       "<div>\n",
       "<style scoped>\n",
       "    .dataframe tbody tr th:only-of-type {\n",
       "        vertical-align: middle;\n",
       "    }\n",
       "\n",
       "    .dataframe tbody tr th {\n",
       "        vertical-align: top;\n",
       "    }\n",
       "\n",
       "    .dataframe thead th {\n",
       "        text-align: right;\n",
       "    }\n",
       "</style>\n",
       "<table border=\"1\" class=\"dataframe\">\n",
       "  <thead>\n",
       "    <tr style=\"text-align: right;\">\n",
       "      <th></th>\n",
       "      <th>TARGET</th>\n",
       "      <th>sum_amt_credit_sum_limit</th>\n",
       "    </tr>\n",
       "  </thead>\n",
       "  <tbody>\n",
       "    <tr>\n",
       "      <th>TARGET</th>\n",
       "      <td>1.000000</td>\n",
       "      <td>-0.012941</td>\n",
       "    </tr>\n",
       "    <tr>\n",
       "      <th>sum_amt_credit_sum_limit</th>\n",
       "      <td>-0.012941</td>\n",
       "      <td>1.000000</td>\n",
       "    </tr>\n",
       "  </tbody>\n",
       "</table>\n",
       "</div>"
      ],
      "text/plain": [
       "                            TARGET  sum_amt_credit_sum_limit\n",
       "TARGET                    1.000000                 -0.012941\n",
       "sum_amt_credit_sum_limit -0.012941                  1.000000"
      ]
     },
     "execution_count": 68,
     "metadata": {},
     "output_type": "execute_result"
    }
   ],
   "source": [
    "app_train[['TARGET', 'sum_amt_credit_sum_limit']].corr()"
   ]
  },
  {
   "cell_type": "markdown",
   "metadata": {
    "id": "lnPtXkUwUFut"
   },
   "source": [
    "### AMT_CREDIT_SUM_OVERDUE(信用情報機関に登録されているクレジットカードの残高(使用額))"
   ]
  },
  {
   "cell_type": "code",
   "execution_count": 69,
   "metadata": {
    "colab": {
     "base_uri": "https://localhost:8080/"
    },
    "executionInfo": {
     "elapsed": 19,
     "status": "ok",
     "timestamp": 1651711270844,
     "user": {
      "displayName": "大竹 春生- Haruo Otake",
      "userId": "13319069107488779089"
     },
     "user_tz": -540
    },
    "id": "adHoOVaKTDK1",
    "outputId": "b7f73d6b-41dc-497a-e1e3-154522857665"
   },
   "outputs": [
    {
     "data": {
      "text/plain": [
       "1982562.12"
      ]
     },
     "execution_count": 69,
     "metadata": {},
     "output_type": "execute_result"
    }
   ],
   "source": [
    "max(app_train['sum_amt_credit_sum_overdue'])"
   ]
  },
  {
   "cell_type": "code",
   "execution_count": 70,
   "metadata": {
    "colab": {
     "base_uri": "https://localhost:8080/"
    },
    "executionInfo": {
     "elapsed": 14,
     "status": "ok",
     "timestamp": 1651711270844,
     "user": {
      "displayName": "大竹 春生- Haruo Otake",
      "userId": "13319069107488779089"
     },
     "user_tz": -540
    },
    "id": "RPntBKwwSrld",
    "outputId": "99b8b93f-8e4b-4a09-8462-def5386ee4d4"
   },
   "outputs": [
    {
     "data": {
      "text/plain": [
       "0.0"
      ]
     },
     "execution_count": 70,
     "metadata": {},
     "output_type": "execute_result"
    }
   ],
   "source": [
    "min(app_train['sum_amt_credit_sum_overdue'])"
   ]
  },
  {
   "cell_type": "code",
   "execution_count": 71,
   "metadata": {
    "colab": {
     "base_uri": "https://localhost:8080/",
     "height": 112
    },
    "executionInfo": {
     "elapsed": 12,
     "status": "ok",
     "timestamp": 1651711270844,
     "user": {
      "displayName": "大竹 春生- Haruo Otake",
      "userId": "13319069107488779089"
     },
     "user_tz": -540
    },
    "id": "wgftEfo0RmRz",
    "outputId": "16412645-9cd0-4082-966c-7c762dfbe93d"
   },
   "outputs": [
    {
     "data": {
      "text/html": [
       "<div>\n",
       "<style scoped>\n",
       "    .dataframe tbody tr th:only-of-type {\n",
       "        vertical-align: middle;\n",
       "    }\n",
       "\n",
       "    .dataframe tbody tr th {\n",
       "        vertical-align: top;\n",
       "    }\n",
       "\n",
       "    .dataframe thead th {\n",
       "        text-align: right;\n",
       "    }\n",
       "</style>\n",
       "<table border=\"1\" class=\"dataframe\">\n",
       "  <thead>\n",
       "    <tr style=\"text-align: right;\">\n",
       "      <th></th>\n",
       "      <th>TARGET</th>\n",
       "      <th>sum_amt_credit_sum_overdue</th>\n",
       "    </tr>\n",
       "  </thead>\n",
       "  <tbody>\n",
       "    <tr>\n",
       "      <th>TARGET</th>\n",
       "      <td>1.000000</td>\n",
       "      <td>0.009505</td>\n",
       "    </tr>\n",
       "    <tr>\n",
       "      <th>sum_amt_credit_sum_overdue</th>\n",
       "      <td>0.009505</td>\n",
       "      <td>1.000000</td>\n",
       "    </tr>\n",
       "  </tbody>\n",
       "</table>\n",
       "</div>"
      ],
      "text/plain": [
       "                              TARGET  sum_amt_credit_sum_overdue\n",
       "TARGET                      1.000000                    0.009505\n",
       "sum_amt_credit_sum_overdue  0.009505                    1.000000"
      ]
     },
     "execution_count": 71,
     "metadata": {},
     "output_type": "execute_result"
    }
   ],
   "source": [
    "app_train[['TARGET', 'sum_amt_credit_sum_overdue']].corr()"
   ]
  },
  {
   "cell_type": "markdown",
   "metadata": {
    "id": "TCMzqPH1Ubd5"
   },
   "source": [
    "### CREDIT_TYPE(クレジットカードの種類)"
   ]
  },
  {
   "cell_type": "code",
   "execution_count": 72,
   "metadata": {},
   "outputs": [
    {
     "data": {
      "text/plain": [
       "1.0     61503\n",
       "2.0     22566\n",
       "3.0      1619\n",
       "4.0      1317\n",
       "5.0       664\n",
       "6.0        67\n",
       "7.0        39\n",
       "8.0        38\n",
       "9.0        12\n",
       "10.0        4\n",
       "Name: credit_type, dtype: int64"
      ]
     },
     "execution_count": 72,
     "metadata": {},
     "output_type": "execute_result"
    }
   ],
   "source": [
    "values = ['Consumer credit', 'Credit card', 'Car loan', 'Mortgage', 'Microloan', 'Loan for business development', 'Another type of loan', 'Loan for working capital replenishment', 'Unknown type of loan', 'Cash loan (non-earmarked)', 'Real estate loan', 'Loan for the purchase of equipment']\n",
    "app_train['credit_type'].replace(values, [1, 2, 3, 4, 5, 6, 7, 8, 9, 10, 11, 12], inplace=True)\n",
    "app_test['credit_type'].replace(values, [1, 2, 3, 4, 5, 6, 7, 8, 9, 10, 11, 12], inplace=True)\n",
    "app_train['credit_type'].value_counts()"
   ]
  },
  {
   "cell_type": "code",
   "execution_count": 73,
   "metadata": {},
   "outputs": [
    {
     "data": {
      "text/plain": [
       "1.0     30227\n",
       "2.0      9937\n",
       "3.0       783\n",
       "4.0       606\n",
       "5.0       334\n",
       "6.0        52\n",
       "7.0        25\n",
       "8.0        19\n",
       "9.0        11\n",
       "10.0        3\n",
       "11.0        2\n",
       "12.0        1\n",
       "Name: credit_type, dtype: int64"
      ]
     },
     "execution_count": 73,
     "metadata": {},
     "output_type": "execute_result"
    }
   ],
   "source": [
    "app_test['credit_type'].value_counts()"
   ]
  },
  {
   "cell_type": "code",
   "execution_count": 74,
   "metadata": {},
   "outputs": [
    {
     "data": {
      "image/png": "[encoded data removed]",
      "text/plain": [
       "<Figure size 432x288 with 1 Axes>"
      ]
     },
     "metadata": {
      "needs_background": "light"
     },
     "output_type": "display_data"
    }
   ],
   "source": [
    "%matplotlib inline\n",
    "sns.countplot(x='credit_type', hue='TARGET', data=app_train)\n",
    "plt.legend(loc='upper right', title='TARGET')\n",
    "plt.show()"
   ]
  },
  {
   "cell_type": "markdown",
   "metadata": {
    "id": "aK0Z-l65UpMx"
   },
   "source": [
    "### DAYS_CREDIT_UPDATE(申し込み日から、信用情報機関に最後に情報が登録された日までの日数)"
   ]
  },
  {
   "cell_type": "code",
   "execution_count": 75,
   "metadata": {},
   "outputs": [
    {
     "data": {
      "text/plain": [
       "-7.0       3833\n",
       "-8.0       3736\n",
       "-6.0       3568\n",
       "-9.0       3249\n",
       "-5.0       3085\n",
       "           ... \n",
       "-2708.0       1\n",
       "-2397.0       1\n",
       "-2426.0       1\n",
       "-2513.0       1\n",
       "-1452.0       1\n",
       "Name: max_days_credit_update, Length: 2088, dtype: int64"
      ]
     },
     "execution_count": 75,
     "metadata": {},
     "output_type": "execute_result"
    }
   ],
   "source": [
    "app_train['max_days_credit_update'].value_counts()"
   ]
  },
  {
   "cell_type": "markdown",
   "metadata": {
    "id": "-6Ziz5GLVQHj"
   },
   "source": [
    "### AMT_ANNUITY(登録されているローン支払い額)"
   ]
  },
  {
   "cell_type": "code",
   "execution_count": 76,
   "metadata": {
    "colab": {
     "base_uri": "https://localhost:8080/"
    },
    "executionInfo": {
     "elapsed": 10,
     "status": "ok",
     "timestamp": 1651711270844,
     "user": {
      "displayName": "大竹 春生- Haruo Otake",
      "userId": "13319069107488779089"
     },
     "user_tz": -540
    },
    "id": "4neWQAvcUcmh",
    "outputId": "5a489dfe-9576-45fb-ffea-f845bad6b72d"
   },
   "outputs": [
    {
     "data": {
      "text/plain": [
       "68493591.0"
      ]
     },
     "execution_count": 76,
     "metadata": {},
     "output_type": "execute_result"
    }
   ],
   "source": [
    "max(app_train['sum_amt_annuity'])"
   ]
  },
  {
   "cell_type": "code",
   "execution_count": 77,
   "metadata": {
    "colab": {
     "base_uri": "https://localhost:8080/"
    },
    "executionInfo": {
     "elapsed": 10,
     "status": "ok",
     "timestamp": 1651711270845,
     "user": {
      "displayName": "大竹 春生- Haruo Otake",
      "userId": "13319069107488779089"
     },
     "user_tz": -540
    },
    "id": "pj4IpgTFUcp7",
    "outputId": "120160e0-79e1-4dcb-eae4-fe8aab965553"
   },
   "outputs": [
    {
     "data": {
      "text/plain": [
       "0.0"
      ]
     },
     "execution_count": 77,
     "metadata": {},
     "output_type": "execute_result"
    }
   ],
   "source": [
    "min(app_train['sum_amt_annuity'])"
   ]
  },
  {
   "cell_type": "code",
   "execution_count": 78,
   "metadata": {
    "colab": {
     "base_uri": "https://localhost:8080/",
     "height": 112
    },
    "executionInfo": {
     "elapsed": 412,
     "status": "ok",
     "timestamp": 1651711271249,
     "user": {
      "displayName": "大竹 春生- Haruo Otake",
      "userId": "13319069107488779089"
     },
     "user_tz": -540
    },
    "id": "hzrE8OZrUcs5",
    "outputId": "04fe297f-9fc2-4f42-8182-0d4ef1377dd6"
   },
   "outputs": [
    {
     "data": {
      "text/html": [
       "<div>\n",
       "<style scoped>\n",
       "    .dataframe tbody tr th:only-of-type {\n",
       "        vertical-align: middle;\n",
       "    }\n",
       "\n",
       "    .dataframe tbody tr th {\n",
       "        vertical-align: top;\n",
       "    }\n",
       "\n",
       "    .dataframe thead th {\n",
       "        text-align: right;\n",
       "    }\n",
       "</style>\n",
       "<table border=\"1\" class=\"dataframe\">\n",
       "  <thead>\n",
       "    <tr style=\"text-align: right;\">\n",
       "      <th></th>\n",
       "      <th>TARGET</th>\n",
       "      <th>sum_amt_annuity</th>\n",
       "    </tr>\n",
       "  </thead>\n",
       "  <tbody>\n",
       "    <tr>\n",
       "      <th>TARGET</th>\n",
       "      <td>1.00000</td>\n",
       "      <td>0.00429</td>\n",
       "    </tr>\n",
       "    <tr>\n",
       "      <th>sum_amt_annuity</th>\n",
       "      <td>0.00429</td>\n",
       "      <td>1.00000</td>\n",
       "    </tr>\n",
       "  </tbody>\n",
       "</table>\n",
       "</div>"
      ],
      "text/plain": [
       "                  TARGET  sum_amt_annuity\n",
       "TARGET           1.00000          0.00429\n",
       "sum_amt_annuity  0.00429          1.00000"
      ]
     },
     "execution_count": 78,
     "metadata": {},
     "output_type": "execute_result"
    }
   ],
   "source": [
    "app_train[['TARGET', 'sum_amt_annuity']].corr()"
   ]
  },
  {
   "cell_type": "markdown",
   "metadata": {
    "id": "ZG7TCFZ2VxfM"
   },
   "source": [
    "### hist_max_credit_day_overdue"
   ]
  },
  {
   "cell_type": "code",
   "execution_count": 79,
   "metadata": {
    "colab": {
     "base_uri": "https://localhost:8080/"
    },
    "executionInfo": {
     "elapsed": 24,
     "status": "ok",
     "timestamp": 1651711271249,
     "user": {
      "displayName": "大竹 春生- Haruo Otake",
      "userId": "13319069107488779089"
     },
     "user_tz": -540
    },
    "id": "MgpTSgtHUc1o",
    "outputId": "1161face-80bc-4280-d09d-fe4de1aeb1f0"
   },
   "outputs": [
    {
     "data": {
      "text/plain": [
       "2792"
      ]
     },
     "execution_count": 79,
     "metadata": {},
     "output_type": "execute_result"
    }
   ],
   "source": [
    "max(app_train['hist_max_credit_day_overdue'])"
   ]
  },
  {
   "cell_type": "code",
   "execution_count": 80,
   "metadata": {
    "colab": {
     "base_uri": "https://localhost:8080/"
    },
    "executionInfo": {
     "elapsed": 19,
     "status": "ok",
     "timestamp": 1651711271249,
     "user": {
      "displayName": "大竹 春生- Haruo Otake",
      "userId": "13319069107488779089"
     },
     "user_tz": -540
    },
    "id": "r9W6LR9PUc4w",
    "outputId": "f8856a77-1b2a-458c-a3f7-8abd045427ff"
   },
   "outputs": [
    {
     "data": {
      "text/plain": [
       "0"
      ]
     },
     "execution_count": 80,
     "metadata": {},
     "output_type": "execute_result"
    }
   ],
   "source": [
    "min(app_train['hist_max_credit_day_overdue'])"
   ]
  },
  {
   "cell_type": "code",
   "execution_count": 81,
   "metadata": {
    "colab": {
     "base_uri": "https://localhost:8080/",
     "height": 112
    },
    "executionInfo": {
     "elapsed": 17,
     "status": "ok",
     "timestamp": 1651711271250,
     "user": {
      "displayName": "大竹 春生- Haruo Otake",
      "userId": "13319069107488779089"
     },
     "user_tz": -540
    },
    "id": "YNlMkDDAUc7p",
    "outputId": "7254cd68-0161-4ad6-e77f-096657739268"
   },
   "outputs": [
    {
     "data": {
      "text/html": [
       "<div>\n",
       "<style scoped>\n",
       "    .dataframe tbody tr th:only-of-type {\n",
       "        vertical-align: middle;\n",
       "    }\n",
       "\n",
       "    .dataframe tbody tr th {\n",
       "        vertical-align: top;\n",
       "    }\n",
       "\n",
       "    .dataframe thead th {\n",
       "        text-align: right;\n",
       "    }\n",
       "</style>\n",
       "<table border=\"1\" class=\"dataframe\">\n",
       "  <thead>\n",
       "    <tr style=\"text-align: right;\">\n",
       "      <th></th>\n",
       "      <th>TARGET</th>\n",
       "      <th>hist_max_credit_day_overdue</th>\n",
       "    </tr>\n",
       "  </thead>\n",
       "  <tbody>\n",
       "    <tr>\n",
       "      <th>TARGET</th>\n",
       "      <td>1.00000</td>\n",
       "      <td>0.00436</td>\n",
       "    </tr>\n",
       "    <tr>\n",
       "      <th>hist_max_credit_day_overdue</th>\n",
       "      <td>0.00436</td>\n",
       "      <td>1.00000</td>\n",
       "    </tr>\n",
       "  </tbody>\n",
       "</table>\n",
       "</div>"
      ],
      "text/plain": [
       "                              TARGET  hist_max_credit_day_overdue\n",
       "TARGET                       1.00000                      0.00436\n",
       "hist_max_credit_day_overdue  0.00436                      1.00000"
      ]
     },
     "execution_count": 81,
     "metadata": {},
     "output_type": "execute_result"
    }
   ],
   "source": [
    "app_train[['TARGET', 'hist_max_credit_day_overdue']].corr()"
   ]
  },
  {
   "cell_type": "markdown",
   "metadata": {
    "id": "vK0S-P-rWT6B"
   },
   "source": [
    "### hist_cnt_credit_day_overdue"
   ]
  },
  {
   "cell_type": "code",
   "execution_count": 82,
   "metadata": {
    "colab": {
     "base_uri": "https://localhost:8080/"
    },
    "executionInfo": {
     "elapsed": 15,
     "status": "ok",
     "timestamp": 1651711271250,
     "user": {
      "displayName": "大竹 春生- Haruo Otake",
      "userId": "13319069107488779089"
     },
     "user_tz": -540
    },
    "id": "Cw9lHB18WDK-",
    "outputId": "b63364b3-92ca-4357-aa32-d418fe85589d"
   },
   "outputs": [
    {
     "data": {
      "text/plain": [
       "2657"
      ]
     },
     "execution_count": 82,
     "metadata": {},
     "output_type": "execute_result"
    }
   ],
   "source": [
    "max(app_train['hist_cnt_credit_day_overdue'])"
   ]
  },
  {
   "cell_type": "code",
   "execution_count": 83,
   "metadata": {
    "colab": {
     "base_uri": "https://localhost:8080/"
    },
    "executionInfo": {
     "elapsed": 13,
     "status": "ok",
     "timestamp": 1651711271250,
     "user": {
      "displayName": "大竹 春生- Haruo Otake",
      "userId": "13319069107488779089"
     },
     "user_tz": -540
    },
    "id": "2F0LkqwJWDOL",
    "outputId": "8b836207-c4d1-445d-cc08-4f3174a2b7ea"
   },
   "outputs": [
    {
     "data": {
      "text/plain": [
       "0"
      ]
     },
     "execution_count": 83,
     "metadata": {},
     "output_type": "execute_result"
    }
   ],
   "source": [
    "min(app_train['hist_cnt_credit_day_overdue'])"
   ]
  },
  {
   "cell_type": "code",
   "execution_count": 84,
   "metadata": {
    "colab": {
     "base_uri": "https://localhost:8080/",
     "height": 112
    },
    "executionInfo": {
     "elapsed": 11,
     "status": "ok",
     "timestamp": 1651711271251,
     "user": {
      "displayName": "大竹 春生- Haruo Otake",
      "userId": "13319069107488779089"
     },
     "user_tz": -540
    },
    "id": "6D7sEikyWDRC",
    "outputId": "382a7375-e013-4f16-d91b-5269e6e2fd7f"
   },
   "outputs": [
    {
     "data": {
      "text/html": [
       "<div>\n",
       "<style scoped>\n",
       "    .dataframe tbody tr th:only-of-type {\n",
       "        vertical-align: middle;\n",
       "    }\n",
       "\n",
       "    .dataframe tbody tr th {\n",
       "        vertical-align: top;\n",
       "    }\n",
       "\n",
       "    .dataframe thead th {\n",
       "        text-align: right;\n",
       "    }\n",
       "</style>\n",
       "<table border=\"1\" class=\"dataframe\">\n",
       "  <thead>\n",
       "    <tr style=\"text-align: right;\">\n",
       "      <th></th>\n",
       "      <th>TARGET</th>\n",
       "      <th>hist_cnt_credit_day_overdue</th>\n",
       "    </tr>\n",
       "  </thead>\n",
       "  <tbody>\n",
       "    <tr>\n",
       "      <th>TARGET</th>\n",
       "      <td>1.000000</td>\n",
       "      <td>-0.018182</td>\n",
       "    </tr>\n",
       "    <tr>\n",
       "      <th>hist_cnt_credit_day_overdue</th>\n",
       "      <td>-0.018182</td>\n",
       "      <td>1.000000</td>\n",
       "    </tr>\n",
       "  </tbody>\n",
       "</table>\n",
       "</div>"
      ],
      "text/plain": [
       "                               TARGET  hist_cnt_credit_day_overdue\n",
       "TARGET                       1.000000                    -0.018182\n",
       "hist_cnt_credit_day_overdue -0.018182                     1.000000"
      ]
     },
     "execution_count": 84,
     "metadata": {},
     "output_type": "execute_result"
    }
   ],
   "source": [
    "app_train[['TARGET', 'hist_cnt_credit_day_overdue']].corr()"
   ]
  },
  {
   "cell_type": "markdown",
   "metadata": {
    "id": "4nCwrdrhWisB"
   },
   "source": [
    "### hist_sum_credit_day_overdue"
   ]
  },
  {
   "cell_type": "code",
   "execution_count": 85,
   "metadata": {
    "colab": {
     "base_uri": "https://localhost:8080/"
    },
    "executionInfo": {
     "elapsed": 11,
     "status": "ok",
     "timestamp": 1651711271251,
     "user": {
      "displayName": "大竹 春生- Haruo Otake",
      "userId": "13319069107488779089"
     },
     "user_tz": -540
    },
    "id": "Xkm4GU3IWiGn",
    "outputId": "69ca1bb8-3324-4925-8dd2-4fa8d8d03b70"
   },
   "outputs": [
    {
     "data": {
      "text/plain": [
       "268032"
      ]
     },
     "execution_count": 85,
     "metadata": {},
     "output_type": "execute_result"
    }
   ],
   "source": [
    "max(app_train['hist_sum_credit_day_overdue'])"
   ]
  },
  {
   "cell_type": "code",
   "execution_count": 86,
   "metadata": {
    "colab": {
     "base_uri": "https://localhost:8080/"
    },
    "executionInfo": {
     "elapsed": 10,
     "status": "ok",
     "timestamp": 1651711271251,
     "user": {
      "displayName": "大竹 春生- Haruo Otake",
      "userId": "13319069107488779089"
     },
     "user_tz": -540
    },
    "id": "VgY07LkUWDUn",
    "outputId": "94a25042-fdd4-4e3a-f90c-93ea9bbf193f"
   },
   "outputs": [
    {
     "data": {
      "text/plain": [
       "0"
      ]
     },
     "execution_count": 86,
     "metadata": {},
     "output_type": "execute_result"
    }
   ],
   "source": [
    "min(app_train['hist_sum_credit_day_overdue'])"
   ]
  },
  {
   "cell_type": "code",
   "execution_count": 87,
   "metadata": {
    "colab": {
     "base_uri": "https://localhost:8080/",
     "height": 112
    },
    "executionInfo": {
     "elapsed": 11,
     "status": "ok",
     "timestamp": 1651711271518,
     "user": {
      "displayName": "大竹 春生- Haruo Otake",
      "userId": "13319069107488779089"
     },
     "user_tz": -540
    },
    "id": "yOtS7X1gWDXD",
    "outputId": "fbb7cd54-771d-42b7-9d47-2584ff906067"
   },
   "outputs": [
    {
     "data": {
      "text/html": [
       "<div>\n",
       "<style scoped>\n",
       "    .dataframe tbody tr th:only-of-type {\n",
       "        vertical-align: middle;\n",
       "    }\n",
       "\n",
       "    .dataframe tbody tr th {\n",
       "        vertical-align: top;\n",
       "    }\n",
       "\n",
       "    .dataframe thead th {\n",
       "        text-align: right;\n",
       "    }\n",
       "</style>\n",
       "<table border=\"1\" class=\"dataframe\">\n",
       "  <thead>\n",
       "    <tr style=\"text-align: right;\">\n",
       "      <th></th>\n",
       "      <th>TARGET</th>\n",
       "      <th>hist_sum_credit_day_overdue</th>\n",
       "    </tr>\n",
       "  </thead>\n",
       "  <tbody>\n",
       "    <tr>\n",
       "      <th>TARGET</th>\n",
       "      <td>1.000000</td>\n",
       "      <td>-0.000762</td>\n",
       "    </tr>\n",
       "    <tr>\n",
       "      <th>hist_sum_credit_day_overdue</th>\n",
       "      <td>-0.000762</td>\n",
       "      <td>1.000000</td>\n",
       "    </tr>\n",
       "  </tbody>\n",
       "</table>\n",
       "</div>"
      ],
      "text/plain": [
       "                               TARGET  hist_sum_credit_day_overdue\n",
       "TARGET                       1.000000                    -0.000762\n",
       "hist_sum_credit_day_overdue -0.000762                     1.000000"
      ]
     },
     "execution_count": 87,
     "metadata": {},
     "output_type": "execute_result"
    }
   ],
   "source": [
    "app_train[['TARGET', 'hist_sum_credit_day_overdue']].corr()"
   ]
  },
  {
   "cell_type": "markdown",
   "metadata": {
    "id": "DsG7g3AqWteD"
   },
   "source": [
    "### hist_max_credit_prolong"
   ]
  },
  {
   "cell_type": "code",
   "execution_count": 88,
   "metadata": {
    "colab": {
     "base_uri": "https://localhost:8080/"
    },
    "executionInfo": {
     "elapsed": 10,
     "status": "ok",
     "timestamp": 1651711271519,
     "user": {
      "displayName": "大竹 春生- Haruo Otake",
      "userId": "13319069107488779089"
     },
     "user_tz": -540
    },
    "id": "uD_IBSjgWDaE",
    "outputId": "d929d24c-40ee-4329-a6f9-50816d9d7ff1"
   },
   "outputs": [
    {
     "data": {
      "text/plain": [
       "9"
      ]
     },
     "execution_count": 88,
     "metadata": {},
     "output_type": "execute_result"
    }
   ],
   "source": [
    "max(app_train['hist_max_credit_prolong'])"
   ]
  },
  {
   "cell_type": "code",
   "execution_count": 89,
   "metadata": {
    "colab": {
     "base_uri": "https://localhost:8080/"
    },
    "executionInfo": {
     "elapsed": 9,
     "status": "ok",
     "timestamp": 1651711271520,
     "user": {
      "displayName": "大竹 春生- Haruo Otake",
      "userId": "13319069107488779089"
     },
     "user_tz": -540
    },
    "id": "DjkdK7qAWshP",
    "outputId": "d5cf49d1-9546-4440-b8a5-942ad6f6a3e5"
   },
   "outputs": [
    {
     "data": {
      "text/plain": [
       "0"
      ]
     },
     "execution_count": 89,
     "metadata": {},
     "output_type": "execute_result"
    }
   ],
   "source": [
    "min(app_train['hist_max_credit_prolong'])"
   ]
  },
  {
   "cell_type": "code",
   "execution_count": 90,
   "metadata": {
    "colab": {
     "base_uri": "https://localhost:8080/",
     "height": 112
    },
    "executionInfo": {
     "elapsed": 8,
     "status": "ok",
     "timestamp": 1651711271520,
     "user": {
      "displayName": "大竹 春生- Haruo Otake",
      "userId": "13319069107488779089"
     },
     "user_tz": -540
    },
    "id": "9qCihj8LWsja",
    "outputId": "b6c67908-7737-421f-ba32-8b6046b475c2"
   },
   "outputs": [
    {
     "data": {
      "text/html": [
       "<div>\n",
       "<style scoped>\n",
       "    .dataframe tbody tr th:only-of-type {\n",
       "        vertical-align: middle;\n",
       "    }\n",
       "\n",
       "    .dataframe tbody tr th {\n",
       "        vertical-align: top;\n",
       "    }\n",
       "\n",
       "    .dataframe thead th {\n",
       "        text-align: right;\n",
       "    }\n",
       "</style>\n",
       "<table border=\"1\" class=\"dataframe\">\n",
       "  <thead>\n",
       "    <tr style=\"text-align: right;\">\n",
       "      <th></th>\n",
       "      <th>TARGET</th>\n",
       "      <th>hist_max_credit_prolong</th>\n",
       "    </tr>\n",
       "  </thead>\n",
       "  <tbody>\n",
       "    <tr>\n",
       "      <th>TARGET</th>\n",
       "      <td>1.00000</td>\n",
       "      <td>0.00165</td>\n",
       "    </tr>\n",
       "    <tr>\n",
       "      <th>hist_max_credit_prolong</th>\n",
       "      <td>0.00165</td>\n",
       "      <td>1.00000</td>\n",
       "    </tr>\n",
       "  </tbody>\n",
       "</table>\n",
       "</div>"
      ],
      "text/plain": [
       "                          TARGET  hist_max_credit_prolong\n",
       "TARGET                   1.00000                  0.00165\n",
       "hist_max_credit_prolong  0.00165                  1.00000"
      ]
     },
     "execution_count": 90,
     "metadata": {},
     "output_type": "execute_result"
    }
   ],
   "source": [
    "app_train[['TARGET', 'hist_max_credit_prolong']].corr()"
   ]
  },
  {
   "cell_type": "code",
   "execution_count": 91,
   "metadata": {
    "colab": {
     "base_uri": "https://localhost:8080/",
     "height": 280
    },
    "executionInfo": {
     "elapsed": 331,
     "status": "ok",
     "timestamp": 1651711271844,
     "user": {
      "displayName": "大竹 春生- Haruo Otake",
      "userId": "13319069107488779089"
     },
     "user_tz": -540
    },
    "id": "Hj9VQvk-WsnM",
    "outputId": "4d071d4d-cc39-471a-82ad-c3dd69c1cf87"
   },
   "outputs": [
    {
     "data": {
      "image/png": "[encoded data removed]",
      "text/plain": [
       "<Figure size 432x288 with 1 Axes>"
      ]
     },
     "metadata": {
      "needs_background": "light"
     },
     "output_type": "display_data"
    }
   ],
   "source": [
    "%matplotlib inline\n",
    "sns.countplot(x='hist_max_credit_prolong', hue='TARGET', data=app_train)\n",
    "plt.legend(loc='upper right', title='TARGET')\n",
    "plt.show()"
   ]
  },
  {
   "cell_type": "markdown",
   "metadata": {
    "id": "nHQH_1b5XBDu"
   },
   "source": [
    "### hist_cnt_credit_prolong"
   ]
  },
  {
   "cell_type": "code",
   "execution_count": 92,
   "metadata": {
    "colab": {
     "base_uri": "https://localhost:8080/"
    },
    "executionInfo": {
     "elapsed": 21,
     "status": "ok",
     "timestamp": 1651711271844,
     "user": {
      "displayName": "大竹 春生- Haruo Otake",
      "userId": "13319069107488779089"
     },
     "user_tz": -540
    },
    "id": "XRE_G_tBWstj",
    "outputId": "03a245c3-b9cd-4f1f-fbc9-a643acfdcb00"
   },
   "outputs": [
    {
     "data": {
      "text/plain": [
       "2657"
      ]
     },
     "execution_count": 92,
     "metadata": {},
     "output_type": "execute_result"
    }
   ],
   "source": [
    "max(app_train['hist_cnt_credit_prolong'])"
   ]
  },
  {
   "cell_type": "code",
   "execution_count": 93,
   "metadata": {
    "colab": {
     "base_uri": "https://localhost:8080/"
    },
    "executionInfo": {
     "elapsed": 18,
     "status": "ok",
     "timestamp": 1651711271845,
     "user": {
      "displayName": "大竹 春生- Haruo Otake",
      "userId": "13319069107488779089"
     },
     "user_tz": -540
    },
    "id": "R0LWgScaWswu",
    "outputId": "19d76146-e8f6-4c13-a691-7498a10c2838"
   },
   "outputs": [
    {
     "data": {
      "text/plain": [
       "0"
      ]
     },
     "execution_count": 93,
     "metadata": {},
     "output_type": "execute_result"
    }
   ],
   "source": [
    "min(app_train['hist_cnt_credit_prolong'])"
   ]
  },
  {
   "cell_type": "code",
   "execution_count": 94,
   "metadata": {
    "colab": {
     "base_uri": "https://localhost:8080/",
     "height": 112
    },
    "executionInfo": {
     "elapsed": 12,
     "status": "ok",
     "timestamp": 1651711271845,
     "user": {
      "displayName": "大竹 春生- Haruo Otake",
      "userId": "13319069107488779089"
     },
     "user_tz": -540
    },
    "id": "uXGWYCUCWszW",
    "outputId": "8e053e84-f040-4d23-b4a2-5fc7250fa763"
   },
   "outputs": [
    {
     "data": {
      "text/html": [
       "<div>\n",
       "<style scoped>\n",
       "    .dataframe tbody tr th:only-of-type {\n",
       "        vertical-align: middle;\n",
       "    }\n",
       "\n",
       "    .dataframe tbody tr th {\n",
       "        vertical-align: top;\n",
       "    }\n",
       "\n",
       "    .dataframe thead th {\n",
       "        text-align: right;\n",
       "    }\n",
       "</style>\n",
       "<table border=\"1\" class=\"dataframe\">\n",
       "  <thead>\n",
       "    <tr style=\"text-align: right;\">\n",
       "      <th></th>\n",
       "      <th>TARGET</th>\n",
       "      <th>hist_cnt_credit_prolong</th>\n",
       "    </tr>\n",
       "  </thead>\n",
       "  <tbody>\n",
       "    <tr>\n",
       "      <th>TARGET</th>\n",
       "      <td>1.000000</td>\n",
       "      <td>-0.018182</td>\n",
       "    </tr>\n",
       "    <tr>\n",
       "      <th>hist_cnt_credit_prolong</th>\n",
       "      <td>-0.018182</td>\n",
       "      <td>1.000000</td>\n",
       "    </tr>\n",
       "  </tbody>\n",
       "</table>\n",
       "</div>"
      ],
      "text/plain": [
       "                           TARGET  hist_cnt_credit_prolong\n",
       "TARGET                   1.000000                -0.018182\n",
       "hist_cnt_credit_prolong -0.018182                 1.000000"
      ]
     },
     "execution_count": 94,
     "metadata": {},
     "output_type": "execute_result"
    }
   ],
   "source": [
    "app_train[['TARGET', 'hist_cnt_credit_prolong']].corr()"
   ]
  },
  {
   "cell_type": "code",
   "execution_count": 95,
   "metadata": {
    "executionInfo": {
     "elapsed": 10,
     "status": "ok",
     "timestamp": 1651711271845,
     "user": {
      "displayName": "大竹 春生- Haruo Otake",
      "userId": "13319069107488779089"
     },
     "user_tz": -540
    },
    "id": "a0Nn0wTUWs2M"
   },
   "outputs": [],
   "source": [
    "#%matplotlib inline\n",
    "#sns.countplot(x='hist_cnt_credit_prolong', hue='TARGET', data=app_train)\n",
    "#plt.legend(loc='upper right', title='TARGET')\n",
    "#plt.show()"
   ]
  },
  {
   "cell_type": "markdown",
   "metadata": {
    "id": "Vh6LmQc7XS1w"
   },
   "source": [
    "### hist_sum_credit_prolong"
   ]
  },
  {
   "cell_type": "code",
   "execution_count": 96,
   "metadata": {
    "colab": {
     "base_uri": "https://localhost:8080/"
    },
    "executionInfo": {
     "elapsed": 10,
     "status": "ok",
     "timestamp": 1651711271845,
     "user": {
      "displayName": "大竹 春生- Haruo Otake",
      "userId": "13319069107488779089"
     },
     "user_tz": -540
    },
    "id": "vnXudz2kWDdN",
    "outputId": "b81d1e03-0286-40c2-f0f3-470f5ef4c6c4"
   },
   "outputs": [
    {
     "data": {
      "text/plain": [
       "558"
      ]
     },
     "execution_count": 96,
     "metadata": {},
     "output_type": "execute_result"
    }
   ],
   "source": [
    "max(app_train['hist_sum_credit_prolong'])"
   ]
  },
  {
   "cell_type": "code",
   "execution_count": 97,
   "metadata": {
    "colab": {
     "base_uri": "https://localhost:8080/"
    },
    "executionInfo": {
     "elapsed": 289,
     "status": "ok",
     "timestamp": 1651711272127,
     "user": {
      "displayName": "大竹 春生- Haruo Otake",
      "userId": "13319069107488779089"
     },
     "user_tz": -540
    },
    "id": "aeHh02HYXWxx",
    "outputId": "a14ebebc-91a3-4ea6-e3fd-2c395c13ed1c"
   },
   "outputs": [
    {
     "data": {
      "text/plain": [
       "0"
      ]
     },
     "execution_count": 97,
     "metadata": {},
     "output_type": "execute_result"
    }
   ],
   "source": [
    "min(app_train['hist_sum_credit_prolong'])"
   ]
  },
  {
   "cell_type": "code",
   "execution_count": 98,
   "metadata": {
    "colab": {
     "base_uri": "https://localhost:8080/",
     "height": 112
    },
    "executionInfo": {
     "elapsed": 14,
     "status": "ok",
     "timestamp": 1651711272127,
     "user": {
      "displayName": "大竹 春生- Haruo Otake",
      "userId": "13319069107488779089"
     },
     "user_tz": -540
    },
    "id": "fueRVkhaXW0v",
    "outputId": "36f6d605-0f5c-4eb3-eac6-8b96685ae08f"
   },
   "outputs": [
    {
     "data": {
      "text/html": [
       "<div>\n",
       "<style scoped>\n",
       "    .dataframe tbody tr th:only-of-type {\n",
       "        vertical-align: middle;\n",
       "    }\n",
       "\n",
       "    .dataframe tbody tr th {\n",
       "        vertical-align: top;\n",
       "    }\n",
       "\n",
       "    .dataframe thead th {\n",
       "        text-align: right;\n",
       "    }\n",
       "</style>\n",
       "<table border=\"1\" class=\"dataframe\">\n",
       "  <thead>\n",
       "    <tr style=\"text-align: right;\">\n",
       "      <th></th>\n",
       "      <th>TARGET</th>\n",
       "      <th>hist_sum_credit_prolong</th>\n",
       "    </tr>\n",
       "  </thead>\n",
       "  <tbody>\n",
       "    <tr>\n",
       "      <th>TARGET</th>\n",
       "      <td>1.000000</td>\n",
       "      <td>-0.002264</td>\n",
       "    </tr>\n",
       "    <tr>\n",
       "      <th>hist_sum_credit_prolong</th>\n",
       "      <td>-0.002264</td>\n",
       "      <td>1.000000</td>\n",
       "    </tr>\n",
       "  </tbody>\n",
       "</table>\n",
       "</div>"
      ],
      "text/plain": [
       "                           TARGET  hist_sum_credit_prolong\n",
       "TARGET                   1.000000                -0.002264\n",
       "hist_sum_credit_prolong -0.002264                 1.000000"
      ]
     },
     "execution_count": 98,
     "metadata": {},
     "output_type": "execute_result"
    }
   ],
   "source": [
    "app_train[['TARGET', 'hist_sum_credit_prolong']].corr()"
   ]
  },
  {
   "cell_type": "code",
   "execution_count": 99,
   "metadata": {
    "executionInfo": {
     "elapsed": 14,
     "status": "ok",
     "timestamp": 1651711272128,
     "user": {
      "displayName": "大竹 春生- Haruo Otake",
      "userId": "13319069107488779089"
     },
     "user_tz": -540
    },
    "id": "ldyfEYZ-XW3w"
   },
   "outputs": [],
   "source": [
    "#%matplotlib inline\n",
    "#sns.countplot(x='hist_sum_credit_prolong', hue='TARGET', data=app_train)\n",
    "#plt.legend(loc='upper right', title='TARGET')\n",
    "#plt.show()"
   ]
  },
  {
   "cell_type": "markdown",
   "metadata": {
    "id": "NjGuksg1XoER"
   },
   "source": [
    "### hist_max_amt_credit_max_overdue"
   ]
  },
  {
   "cell_type": "code",
   "execution_count": 100,
   "metadata": {
    "colab": {
     "base_uri": "https://localhost:8080/"
    },
    "executionInfo": {
     "elapsed": 13,
     "status": "ok",
     "timestamp": 1651711272128,
     "user": {
      "displayName": "大竹 春生- Haruo Otake",
      "userId": "13319069107488779089"
     },
     "user_tz": -540
    },
    "id": "p7QosW0jXW6p",
    "outputId": "cce9e770-1f80-47bc-bdec-d91ac90a7f7a"
   },
   "outputs": [
    {
     "data": {
      "text/plain": [
       "115987185.0"
      ]
     },
     "execution_count": 100,
     "metadata": {},
     "output_type": "execute_result"
    }
   ],
   "source": [
    "max(app_train['hist_max_amt_credit_max_overdue'])"
   ]
  },
  {
   "cell_type": "code",
   "execution_count": 101,
   "metadata": {
    "colab": {
     "base_uri": "https://localhost:8080/"
    },
    "executionInfo": {
     "elapsed": 12,
     "status": "ok",
     "timestamp": 1651711272128,
     "user": {
      "displayName": "大竹 春生- Haruo Otake",
      "userId": "13319069107488779089"
     },
     "user_tz": -540
    },
    "id": "F9W2RpbpXW9f",
    "outputId": "318183af-1164-46dc-db89-179722abbb9b"
   },
   "outputs": [
    {
     "data": {
      "text/plain": [
       "0.0"
      ]
     },
     "execution_count": 101,
     "metadata": {},
     "output_type": "execute_result"
    }
   ],
   "source": [
    "min(app_train['hist_max_amt_credit_max_overdue'])"
   ]
  },
  {
   "cell_type": "code",
   "execution_count": 102,
   "metadata": {
    "colab": {
     "base_uri": "https://localhost:8080/",
     "height": 112
    },
    "executionInfo": {
     "elapsed": 12,
     "status": "ok",
     "timestamp": 1651711272129,
     "user": {
      "displayName": "大竹 春生- Haruo Otake",
      "userId": "13319069107488779089"
     },
     "user_tz": -540
    },
    "id": "Du348CoSXXAP",
    "outputId": "374d37b6-d8ba-4255-e813-607c8bd2d7fa"
   },
   "outputs": [
    {
     "data": {
      "text/html": [
       "<div>\n",
       "<style scoped>\n",
       "    .dataframe tbody tr th:only-of-type {\n",
       "        vertical-align: middle;\n",
       "    }\n",
       "\n",
       "    .dataframe tbody tr th {\n",
       "        vertical-align: top;\n",
       "    }\n",
       "\n",
       "    .dataframe thead th {\n",
       "        text-align: right;\n",
       "    }\n",
       "</style>\n",
       "<table border=\"1\" class=\"dataframe\">\n",
       "  <thead>\n",
       "    <tr style=\"text-align: right;\">\n",
       "      <th></th>\n",
       "      <th>TARGET</th>\n",
       "      <th>hist_max_amt_credit_max_overdue</th>\n",
       "    </tr>\n",
       "  </thead>\n",
       "  <tbody>\n",
       "    <tr>\n",
       "      <th>TARGET</th>\n",
       "      <td>1.000000</td>\n",
       "      <td>0.001772</td>\n",
       "    </tr>\n",
       "    <tr>\n",
       "      <th>hist_max_amt_credit_max_overdue</th>\n",
       "      <td>0.001772</td>\n",
       "      <td>1.000000</td>\n",
       "    </tr>\n",
       "  </tbody>\n",
       "</table>\n",
       "</div>"
      ],
      "text/plain": [
       "                                   TARGET  hist_max_amt_credit_max_overdue\n",
       "TARGET                           1.000000                         0.001772\n",
       "hist_max_amt_credit_max_overdue  0.001772                         1.000000"
      ]
     },
     "execution_count": 102,
     "metadata": {},
     "output_type": "execute_result"
    }
   ],
   "source": [
    "app_train[['TARGET', 'hist_max_amt_credit_max_overdue']].corr()"
   ]
  },
  {
   "cell_type": "markdown",
   "metadata": {
    "id": "rKBjBz-wXyDh"
   },
   "source": [
    "### hist_cnt_amt_credit_max_overdue"
   ]
  },
  {
   "cell_type": "code",
   "execution_count": 103,
   "metadata": {
    "colab": {
     "base_uri": "https://localhost:8080/"
    },
    "executionInfo": {
     "elapsed": 11,
     "status": "ok",
     "timestamp": 1651711272129,
     "user": {
      "displayName": "大竹 春生- Haruo Otake",
      "userId": "13319069107488779089"
     },
     "user_tz": -540
    },
    "id": "F0yVPx_2Xz0w",
    "outputId": "e9d3e9ed-dda0-4af6-8b96-8eee21da209e"
   },
   "outputs": [
    {
     "data": {
      "text/plain": [
       "858"
      ]
     },
     "execution_count": 103,
     "metadata": {},
     "output_type": "execute_result"
    }
   ],
   "source": [
    "max(app_train['hist_cnt_amt_credit_max_overdue'])"
   ]
  },
  {
   "cell_type": "code",
   "execution_count": 104,
   "metadata": {
    "colab": {
     "base_uri": "https://localhost:8080/"
    },
    "executionInfo": {
     "elapsed": 9,
     "status": "ok",
     "timestamp": 1651711272129,
     "user": {
      "displayName": "大竹 春生- Haruo Otake",
      "userId": "13319069107488779089"
     },
     "user_tz": -540
    },
    "id": "jU-g6N6lXz3t",
    "outputId": "fadcab64-30be-4b68-d5ef-04ebaf48175f"
   },
   "outputs": [
    {
     "data": {
      "text/plain": [
       "0"
      ]
     },
     "execution_count": 104,
     "metadata": {},
     "output_type": "execute_result"
    }
   ],
   "source": [
    "min(app_train['hist_cnt_amt_credit_max_overdue'])"
   ]
  },
  {
   "cell_type": "code",
   "execution_count": 105,
   "metadata": {
    "colab": {
     "base_uri": "https://localhost:8080/",
     "height": 112
    },
    "executionInfo": {
     "elapsed": 12,
     "status": "ok",
     "timestamp": 1651711272381,
     "user": {
      "displayName": "大竹 春生- Haruo Otake",
      "userId": "13319069107488779089"
     },
     "user_tz": -540
    },
    "id": "4zUDNkUKXz8f",
    "outputId": "ce4e6504-9692-43f3-ca5a-12273535badd"
   },
   "outputs": [
    {
     "data": {
      "text/html": [
       "<div>\n",
       "<style scoped>\n",
       "    .dataframe tbody tr th:only-of-type {\n",
       "        vertical-align: middle;\n",
       "    }\n",
       "\n",
       "    .dataframe tbody tr th {\n",
       "        vertical-align: top;\n",
       "    }\n",
       "\n",
       "    .dataframe thead th {\n",
       "        text-align: right;\n",
       "    }\n",
       "</style>\n",
       "<table border=\"1\" class=\"dataframe\">\n",
       "  <thead>\n",
       "    <tr style=\"text-align: right;\">\n",
       "      <th></th>\n",
       "      <th>TARGET</th>\n",
       "      <th>hist_cnt_amt_credit_max_overdue</th>\n",
       "    </tr>\n",
       "  </thead>\n",
       "  <tbody>\n",
       "    <tr>\n",
       "      <th>TARGET</th>\n",
       "      <td>1.000000</td>\n",
       "      <td>-0.010286</td>\n",
       "    </tr>\n",
       "    <tr>\n",
       "      <th>hist_cnt_amt_credit_max_overdue</th>\n",
       "      <td>-0.010286</td>\n",
       "      <td>1.000000</td>\n",
       "    </tr>\n",
       "  </tbody>\n",
       "</table>\n",
       "</div>"
      ],
      "text/plain": [
       "                                   TARGET  hist_cnt_amt_credit_max_overdue\n",
       "TARGET                           1.000000                        -0.010286\n",
       "hist_cnt_amt_credit_max_overdue -0.010286                         1.000000"
      ]
     },
     "execution_count": 105,
     "metadata": {},
     "output_type": "execute_result"
    }
   ],
   "source": [
    "app_train[['TARGET', 'hist_cnt_amt_credit_max_overdue']].corr()"
   ]
  },
  {
   "cell_type": "code",
   "execution_count": 106,
   "metadata": {
    "executionInfo": {
     "elapsed": 9,
     "status": "ok",
     "timestamp": 1651711272381,
     "user": {
      "displayName": "大竹 春生- Haruo Otake",
      "userId": "13319069107488779089"
     },
     "user_tz": -540
    },
    "id": "K8S5HGW0X0At"
   },
   "outputs": [],
   "source": [
    "#%matplotlib inline\n",
    "#sns.countplot(x='hist_cnt_amt_credit_max_overdue', hue='TARGET', data=app_train)\n",
    "#plt.legend(loc='upper right', title='TARGET')\n",
    "#plt.show()"
   ]
  },
  {
   "cell_type": "markdown",
   "metadata": {
    "id": "JHpXMYp4YFOq"
   },
   "source": [
    "### hist_sum_amt_credit_max_overdue"
   ]
  },
  {
   "cell_type": "code",
   "execution_count": 107,
   "metadata": {
    "colab": {
     "base_uri": "https://localhost:8080/"
    },
    "executionInfo": {
     "elapsed": 9,
     "status": "ok",
     "timestamp": 1651711272382,
     "user": {
      "displayName": "大竹 春生- Haruo Otake",
      "userId": "13319069107488779089"
     },
     "user_tz": -540
    },
    "id": "xHQAg0w2YIUu",
    "outputId": "56717081-a2e9-4ac3-d9e4-bb1ac733ae6a"
   },
   "outputs": [
    {
     "data": {
      "text/plain": [
       "8153853156.0"
      ]
     },
     "execution_count": 107,
     "metadata": {},
     "output_type": "execute_result"
    }
   ],
   "source": [
    "max(app_train['hist_sum_amt_credit_max_overdue'])"
   ]
  },
  {
   "cell_type": "code",
   "execution_count": 108,
   "metadata": {
    "colab": {
     "base_uri": "https://localhost:8080/"
    },
    "executionInfo": {
     "elapsed": 7,
     "status": "ok",
     "timestamp": 1651711272382,
     "user": {
      "displayName": "大竹 春生- Haruo Otake",
      "userId": "13319069107488779089"
     },
     "user_tz": -540
    },
    "id": "lWw_LQg2YIYL",
    "outputId": "16918be8-9a91-44d2-e486-186a049e0ec7"
   },
   "outputs": [
    {
     "data": {
      "text/plain": [
       "0.0"
      ]
     },
     "execution_count": 108,
     "metadata": {},
     "output_type": "execute_result"
    }
   ],
   "source": [
    "min(app_train['hist_sum_amt_credit_max_overdue'])"
   ]
  },
  {
   "cell_type": "code",
   "execution_count": 109,
   "metadata": {
    "colab": {
     "base_uri": "https://localhost:8080/",
     "height": 112
    },
    "executionInfo": {
     "elapsed": 6,
     "status": "ok",
     "timestamp": 1651711272382,
     "user": {
      "displayName": "大竹 春生- Haruo Otake",
      "userId": "13319069107488779089"
     },
     "user_tz": -540
    },
    "id": "-S8l0g-aYIc8",
    "outputId": "3f788cf6-be55-48bb-98f8-5ce4a6c806c0"
   },
   "outputs": [
    {
     "data": {
      "text/html": [
       "<div>\n",
       "<style scoped>\n",
       "    .dataframe tbody tr th:only-of-type {\n",
       "        vertical-align: middle;\n",
       "    }\n",
       "\n",
       "    .dataframe tbody tr th {\n",
       "        vertical-align: top;\n",
       "    }\n",
       "\n",
       "    .dataframe thead th {\n",
       "        text-align: right;\n",
       "    }\n",
       "</style>\n",
       "<table border=\"1\" class=\"dataframe\">\n",
       "  <thead>\n",
       "    <tr style=\"text-align: right;\">\n",
       "      <th></th>\n",
       "      <th>TARGET</th>\n",
       "      <th>hist_sum_amt_credit_max_overdue</th>\n",
       "    </tr>\n",
       "  </thead>\n",
       "  <tbody>\n",
       "    <tr>\n",
       "      <th>TARGET</th>\n",
       "      <td>1.000000</td>\n",
       "      <td>-0.000233</td>\n",
       "    </tr>\n",
       "    <tr>\n",
       "      <th>hist_sum_amt_credit_max_overdue</th>\n",
       "      <td>-0.000233</td>\n",
       "      <td>1.000000</td>\n",
       "    </tr>\n",
       "  </tbody>\n",
       "</table>\n",
       "</div>"
      ],
      "text/plain": [
       "                                   TARGET  hist_sum_amt_credit_max_overdue\n",
       "TARGET                           1.000000                        -0.000233\n",
       "hist_sum_amt_credit_max_overdue -0.000233                         1.000000"
      ]
     },
     "execution_count": 109,
     "metadata": {},
     "output_type": "execute_result"
    }
   ],
   "source": [
    "app_train[['TARGET', 'hist_sum_amt_credit_max_overdue']].corr()"
   ]
  },
  {
   "cell_type": "markdown",
   "metadata": {
    "id": "Jq2en9iTYY4u"
   },
   "source": [
    "### 債務件数"
   ]
  },
  {
   "cell_type": "code",
   "execution_count": 110,
   "metadata": {
    "executionInfo": {
     "elapsed": 274,
     "status": "ok",
     "timestamp": 1651711272651,
     "user": {
      "displayName": "大竹 春生- Haruo Otake",
      "userId": "13319069107488779089"
     },
     "user_tz": -540
    },
    "id": "_fEmnuSg3Ij7"
   },
   "outputs": [],
   "source": [
    "# 集計処理\n",
    "previous_loan_counts = bureau.groupby('SK_ID_CURR', as_index=False)['SK_ID_BUREAU'].count().rename(columns={'SK_ID_BUREAU': 'previous_loan_counts'})"
   ]
  },
  {
   "cell_type": "code",
   "execution_count": 111,
   "metadata": {
    "executionInfo": {
     "elapsed": 2305,
     "status": "ok",
     "timestamp": 1651711274950,
     "user": {
      "displayName": "大竹 春生- Haruo Otake",
      "userId": "13319069107488779089"
     },
     "user_tz": -540
    },
    "id": "sxaWdAYsNGfP"
   },
   "outputs": [],
   "source": [
    "# trainへマージ\n",
    "app_train = pd.merge(app_train, previous_loan_counts, on='SK_ID_CURR', how='left')\n",
    "app_train['previous_loan_counts'].fillna(0, inplace=True)\n",
    "# testへマージ\n",
    "app_test = pd.merge(app_test, previous_loan_counts, on='SK_ID_CURR', how='left')\n",
    "app_test['previous_loan_counts'].fillna(0, inplace=True)"
   ]
  },
  {
   "cell_type": "code",
   "execution_count": 112,
   "metadata": {
    "colab": {
     "base_uri": "https://localhost:8080/",
     "height": 300
    },
    "executionInfo": {
     "elapsed": 11,
     "status": "ok",
     "timestamp": 1651711274950,
     "user": {
      "displayName": "大竹 春生- Haruo Otake",
      "userId": "13319069107488779089"
     },
     "user_tz": -540
    },
    "id": "8MoXL3Qz30wU",
    "outputId": "94094fa1-dad9-4adc-9cf0-0ec731b90657"
   },
   "outputs": [
    {
     "data": {
      "text/html": [
       "<div>\n",
       "<style scoped>\n",
       "    .dataframe tbody tr th:only-of-type {\n",
       "        vertical-align: middle;\n",
       "    }\n",
       "\n",
       "    .dataframe tbody tr th {\n",
       "        vertical-align: top;\n",
       "    }\n",
       "\n",
       "    .dataframe thead th {\n",
       "        text-align: right;\n",
       "    }\n",
       "</style>\n",
       "<table border=\"1\" class=\"dataframe\">\n",
       "  <thead>\n",
       "    <tr style=\"text-align: right;\">\n",
       "      <th></th>\n",
       "      <th>SK_ID_CURR</th>\n",
       "      <th>TARGET</th>\n",
       "      <th>NAME_CONTRACT_TYPE</th>\n",
       "      <th>CODE_GENDER</th>\n",
       "      <th>FLAG_OWN_CAR</th>\n",
       "      <th>FLAG_OWN_REALTY</th>\n",
       "      <th>CNT_CHILDREN</th>\n",
       "      <th>AMT_INCOME_TOTAL</th>\n",
       "      <th>AMT_CREDIT</th>\n",
       "      <th>AMT_ANNUITY</th>\n",
       "      <th>...</th>\n",
       "      <th>hist_cnt_credit_prolong</th>\n",
       "      <th>hist_sum_credit_prolong</th>\n",
       "      <th>hist_max_amt_credit_max_overdue</th>\n",
       "      <th>hist_cnt_amt_credit_max_overdue</th>\n",
       "      <th>hist_sum_amt_credit_max_overdue</th>\n",
       "      <th>debt_credit_ratio_none</th>\n",
       "      <th>debt_credit_ratio_none_flg</th>\n",
       "      <th>max_credit_day_overdue_flg</th>\n",
       "      <th>previous_loan_counts</th>\n",
       "      <th>previous_loan_flg</th>\n",
       "    </tr>\n",
       "  </thead>\n",
       "  <tbody>\n",
       "    <tr>\n",
       "      <th>0</th>\n",
       "      <td>100002</td>\n",
       "      <td>1</td>\n",
       "      <td>0</td>\n",
       "      <td>1</td>\n",
       "      <td>0</td>\n",
       "      <td>1</td>\n",
       "      <td>0</td>\n",
       "      <td>202500.0</td>\n",
       "      <td>406597.5</td>\n",
       "      <td>24700.5</td>\n",
       "      <td>...</td>\n",
       "      <td>110</td>\n",
       "      <td>0</td>\n",
       "      <td>5043.645</td>\n",
       "      <td>56</td>\n",
       "      <td>73472.58</td>\n",
       "      <td>0.320947</td>\n",
       "      <td>1</td>\n",
       "      <td>0.0</td>\n",
       "      <td>8.0</td>\n",
       "      <td>1.0</td>\n",
       "    </tr>\n",
       "    <tr>\n",
       "      <th>1</th>\n",
       "      <td>100003</td>\n",
       "      <td>0</td>\n",
       "      <td>0</td>\n",
       "      <td>0</td>\n",
       "      <td>0</td>\n",
       "      <td>0</td>\n",
       "      <td>0</td>\n",
       "      <td>270000.0</td>\n",
       "      <td>1293502.5</td>\n",
       "      <td>35698.5</td>\n",
       "      <td>...</td>\n",
       "      <td>4</td>\n",
       "      <td>0</td>\n",
       "      <td>0.000</td>\n",
       "      <td>4</td>\n",
       "      <td>0.00</td>\n",
       "      <td>0.000000</td>\n",
       "      <td>0</td>\n",
       "      <td>1.0</td>\n",
       "      <td>4.0</td>\n",
       "      <td>1.0</td>\n",
       "    </tr>\n",
       "    <tr>\n",
       "      <th>2</th>\n",
       "      <td>100004</td>\n",
       "      <td>0</td>\n",
       "      <td>1</td>\n",
       "      <td>1</td>\n",
       "      <td>1</td>\n",
       "      <td>1</td>\n",
       "      <td>0</td>\n",
       "      <td>67500.0</td>\n",
       "      <td>135000.0</td>\n",
       "      <td>6750.0</td>\n",
       "      <td>...</td>\n",
       "      <td>2</td>\n",
       "      <td>0</td>\n",
       "      <td>0.000</td>\n",
       "      <td>1</td>\n",
       "      <td>0.00</td>\n",
       "      <td>0.000000</td>\n",
       "      <td>0</td>\n",
       "      <td>1.0</td>\n",
       "      <td>2.0</td>\n",
       "      <td>1.0</td>\n",
       "    </tr>\n",
       "    <tr>\n",
       "      <th>3</th>\n",
       "      <td>100006</td>\n",
       "      <td>0</td>\n",
       "      <td>0</td>\n",
       "      <td>0</td>\n",
       "      <td>0</td>\n",
       "      <td>1</td>\n",
       "      <td>0</td>\n",
       "      <td>135000.0</td>\n",
       "      <td>312682.5</td>\n",
       "      <td>29686.5</td>\n",
       "      <td>...</td>\n",
       "      <td>0</td>\n",
       "      <td>0</td>\n",
       "      <td>0.000</td>\n",
       "      <td>0</td>\n",
       "      <td>0.00</td>\n",
       "      <td>0.000000</td>\n",
       "      <td>0</td>\n",
       "      <td>1.0</td>\n",
       "      <td>0.0</td>\n",
       "      <td>0.0</td>\n",
       "    </tr>\n",
       "    <tr>\n",
       "      <th>4</th>\n",
       "      <td>100007</td>\n",
       "      <td>0</td>\n",
       "      <td>0</td>\n",
       "      <td>1</td>\n",
       "      <td>0</td>\n",
       "      <td>1</td>\n",
       "      <td>0</td>\n",
       "      <td>121500.0</td>\n",
       "      <td>513000.0</td>\n",
       "      <td>21865.5</td>\n",
       "      <td>...</td>\n",
       "      <td>1</td>\n",
       "      <td>0</td>\n",
       "      <td>0.000</td>\n",
       "      <td>1</td>\n",
       "      <td>0.00</td>\n",
       "      <td>0.000000</td>\n",
       "      <td>0</td>\n",
       "      <td>1.0</td>\n",
       "      <td>1.0</td>\n",
       "      <td>1.0</td>\n",
       "    </tr>\n",
       "  </tbody>\n",
       "</table>\n",
       "<p>5 rows × 154 columns</p>\n",
       "</div>"
      ],
      "text/plain": [
       "   SK_ID_CURR  TARGET  NAME_CONTRACT_TYPE  CODE_GENDER  FLAG_OWN_CAR  \\\n",
       "0      100002       1                   0            1             0   \n",
       "1      100003       0                   0            0             0   \n",
       "2      100004       0                   1            1             1   \n",
       "3      100006       0                   0            0             0   \n",
       "4      100007       0                   0            1             0   \n",
       "\n",
       "   FLAG_OWN_REALTY  CNT_CHILDREN  AMT_INCOME_TOTAL  AMT_CREDIT  AMT_ANNUITY  \\\n",
       "0                1             0          202500.0    406597.5      24700.5   \n",
       "1                0             0          270000.0   1293502.5      35698.5   \n",
       "2                1             0           67500.0    135000.0       6750.0   \n",
       "3                1             0          135000.0    312682.5      29686.5   \n",
       "4                1             0          121500.0    513000.0      21865.5   \n",
       "\n",
       "   ...  hist_cnt_credit_prolong hist_sum_credit_prolong  \\\n",
       "0  ...                      110                       0   \n",
       "1  ...                        4                       0   \n",
       "2  ...                        2                       0   \n",
       "3  ...                        0                       0   \n",
       "4  ...                        1                       0   \n",
       "\n",
       "   hist_max_amt_credit_max_overdue  hist_cnt_amt_credit_max_overdue  \\\n",
       "0                         5043.645                               56   \n",
       "1                            0.000                                4   \n",
       "2                            0.000                                1   \n",
       "3                            0.000                                0   \n",
       "4                            0.000                                1   \n",
       "\n",
       "   hist_sum_amt_credit_max_overdue  debt_credit_ratio_none  \\\n",
       "0                         73472.58                0.320947   \n",
       "1                             0.00                0.000000   \n",
       "2                             0.00                0.000000   \n",
       "3                             0.00                0.000000   \n",
       "4                             0.00                0.000000   \n",
       "\n",
       "   debt_credit_ratio_none_flg  max_credit_day_overdue_flg  \\\n",
       "0                           1                         0.0   \n",
       "1                           0                         1.0   \n",
       "2                           0                         1.0   \n",
       "3                           0                         1.0   \n",
       "4                           0                         1.0   \n",
       "\n",
       "   previous_loan_counts  previous_loan_flg  \n",
       "0                   8.0                1.0  \n",
       "1                   4.0                1.0  \n",
       "2                   2.0                1.0  \n",
       "3                   0.0                0.0  \n",
       "4                   1.0                1.0  \n",
       "\n",
       "[5 rows x 154 columns]"
      ]
     },
     "execution_count": 112,
     "metadata": {},
     "output_type": "execute_result"
    }
   ],
   "source": [
    "# trainへフラグを設定\n",
    "app_train.loc[app_train['previous_loan_counts'] == 0, 'previous_loan_flg'] = 0\n",
    "app_train.loc[app_train['previous_loan_counts'] != 0, 'previous_loan_flg'] = 1\n",
    "# testへフラグを設定\n",
    "app_test.loc[app_test['previous_loan_counts'] == 0, 'previous_loan_flg'] = 0\n",
    "app_test.loc[app_test['previous_loan_counts'] != 0, 'previous_loan_flg'] = 1\n",
    "\n",
    "# dummy列を削除\n",
    "#delete_columns = ['CODE_GENDER']\n",
    "#app_train_br_pr_loan_counts.drop(delete_columns, axis=1, inplace=True)\n",
    "#app_test_br_pr_loan_counts.drop(delete_columns, axis=1, inplace=True)\n",
    "\n",
    "app_train.head()"
   ]
  },
  {
   "cell_type": "code",
   "execution_count": 113,
   "metadata": {
    "colab": {
     "base_uri": "https://localhost:8080/"
    },
    "executionInfo": {
     "elapsed": 426,
     "status": "ok",
     "timestamp": 1651711275370,
     "user": {
      "displayName": "大竹 春生- Haruo Otake",
      "userId": "13319069107488779089"
     },
     "user_tz": -540
    },
    "id": "kk4WFr6o30ze",
    "outputId": "4fdc364f-b470-4dea-aaad-eed1cba27207"
   },
   "outputs": [
    {
     "data": {
      "text/plain": [
       "SK_ID_CURR                    0\n",
       "TARGET                        0\n",
       "NAME_CONTRACT_TYPE            0\n",
       "CODE_GENDER                   0\n",
       "FLAG_OWN_CAR                  0\n",
       "                             ..\n",
       "debt_credit_ratio_none        0\n",
       "debt_credit_ratio_none_flg    0\n",
       "max_credit_day_overdue_flg    0\n",
       "previous_loan_counts          0\n",
       "previous_loan_flg             0\n",
       "Length: 154, dtype: int64"
      ]
     },
     "execution_count": 113,
     "metadata": {},
     "output_type": "execute_result"
    }
   ],
   "source": [
    "app_train.isnull().sum()"
   ]
  },
  {
   "cell_type": "code",
   "execution_count": 114,
   "metadata": {
    "colab": {
     "base_uri": "https://localhost:8080/"
    },
    "executionInfo": {
     "elapsed": 9,
     "status": "ok",
     "timestamp": 1651711275370,
     "user": {
      "displayName": "大竹 春生- Haruo Otake",
      "userId": "13319069107488779089"
     },
     "user_tz": -540
    },
    "id": "KK4ZK_KmNGhn",
    "outputId": "99716773-cf77-4e5a-89b8-bfdaaf653920"
   },
   "outputs": [
    {
     "data": {
      "text/plain": [
       "307511"
      ]
     },
     "execution_count": 114,
     "metadata": {},
     "output_type": "execute_result"
    }
   ],
   "source": [
    "len(app_train)"
   ]
  },
  {
   "cell_type": "code",
   "execution_count": 115,
   "metadata": {
    "executionInfo": {
     "elapsed": 5,
     "status": "ok",
     "timestamp": 1651711275371,
     "user": {
      "displayName": "大竹 春生- Haruo Otake",
      "userId": "13319069107488779089"
     },
     "user_tz": -540
    },
    "id": "jzjfLoPoBXGw"
   },
   "outputs": [],
   "source": [
    "# previous_loan_countsを分割し値をビンの代表値へ置き換え\n",
    "#app_train_br_pr_loan_counts['previous_loan_counts'] = app_train_br_pr_loan_counts['previous_loan_counts'].apply(lambda x : previous_loan_counts(x))\n",
    "#app_test_br_pr_loan_counts['previous_loan_counts'] = app_test_br_pr_loan_counts['previous_loan_counts'].apply(lambda x : previous_loan_counts(x))\n",
    "#app_train_br_pr_loan_counts['previous_loan_counts']"
   ]
  },
  {
   "cell_type": "code",
   "execution_count": 116,
   "metadata": {
    "colab": {
     "base_uri": "https://localhost:8080/",
     "height": 280
    },
    "executionInfo": {
     "elapsed": 984,
     "status": "ok",
     "timestamp": 1651711276350,
     "user": {
      "displayName": "大竹 春生- Haruo Otake",
      "userId": "13319069107488779089"
     },
     "user_tz": -540
    },
    "id": "bpcLddjy3gPD",
    "outputId": "d3d0ea00-b428-49e8-e61c-ef859cb22793"
   },
   "outputs": [
    {
     "data": {
      "image/png": "[encoded data removed]",
      "text/plain": [
       "<Figure size 432x288 with 1 Axes>"
      ]
     },
     "metadata": {
      "needs_background": "light"
     },
     "output_type": "display_data"
    }
   ],
   "source": [
    "%matplotlib inline\n",
    "sns.countplot(x='previous_loan_counts', hue='TARGET', data=app_train)\n",
    "plt.legend(loc='upper right', title='TARGET')\n",
    "plt.show()"
   ]
  },
  {
   "cell_type": "code",
   "execution_count": 117,
   "metadata": {
    "colab": {
     "base_uri": "https://localhost:8080/",
     "height": 280
    },
    "executionInfo": {
     "elapsed": 303,
     "status": "ok",
     "timestamp": 1651711276650,
     "user": {
      "displayName": "大竹 春生- Haruo Otake",
      "userId": "13319069107488779089"
     },
     "user_tz": -540
    },
    "id": "XhbjixSB3gRm",
    "outputId": "b9e1d378-481a-4283-e03e-85c3f331923b"
   },
   "outputs": [
    {
     "data": {
      "image/png": "[encoded data removed]",
      "text/plain": [
       "<Figure size 432x288 with 1 Axes>"
      ]
     },
     "metadata": {
      "needs_background": "light"
     },
     "output_type": "display_data"
    }
   ],
   "source": [
    "%matplotlib inline\n",
    "sns.countplot(x='previous_loan_flg', hue='TARGET', data=app_train)\n",
    "plt.legend(loc='upper right', title='TARGET')\n",
    "plt.show()"
   ]
  },
  {
   "cell_type": "code",
   "execution_count": 118,
   "metadata": {
    "colab": {
     "base_uri": "https://localhost:8080/",
     "height": 112
    },
    "executionInfo": {
     "elapsed": 247,
     "status": "ok",
     "timestamp": 1651711276892,
     "user": {
      "displayName": "大竹 春生- Haruo Otake",
      "userId": "13319069107488779089"
     },
     "user_tz": -540
    },
    "id": "g7QXHi7g9pVN",
    "outputId": "59d6849a-6b92-45dd-e80a-444778eb4a43"
   },
   "outputs": [
    {
     "data": {
      "text/html": [
       "<div>\n",
       "<style scoped>\n",
       "    .dataframe tbody tr th:only-of-type {\n",
       "        vertical-align: middle;\n",
       "    }\n",
       "\n",
       "    .dataframe tbody tr th {\n",
       "        vertical-align: top;\n",
       "    }\n",
       "\n",
       "    .dataframe thead th {\n",
       "        text-align: right;\n",
       "    }\n",
       "</style>\n",
       "<table border=\"1\" class=\"dataframe\">\n",
       "  <thead>\n",
       "    <tr style=\"text-align: right;\">\n",
       "      <th></th>\n",
       "      <th>TARGET</th>\n",
       "      <th>previous_loan_flg</th>\n",
       "    </tr>\n",
       "  </thead>\n",
       "  <tbody>\n",
       "    <tr>\n",
       "      <th>TARGET</th>\n",
       "      <td>1.000000</td>\n",
       "      <td>-0.030789</td>\n",
       "    </tr>\n",
       "    <tr>\n",
       "      <th>previous_loan_flg</th>\n",
       "      <td>-0.030789</td>\n",
       "      <td>1.000000</td>\n",
       "    </tr>\n",
       "  </tbody>\n",
       "</table>\n",
       "</div>"
      ],
      "text/plain": [
       "                     TARGET  previous_loan_flg\n",
       "TARGET             1.000000          -0.030789\n",
       "previous_loan_flg -0.030789           1.000000"
      ]
     },
     "execution_count": 118,
     "metadata": {},
     "output_type": "execute_result"
    }
   ],
   "source": [
    "app_train[['TARGET', 'previous_loan_flg']].corr()"
   ]
  },
  {
   "cell_type": "code",
   "execution_count": 119,
   "metadata": {
    "colab": {
     "base_uri": "https://localhost:8080/",
     "height": 112
    },
    "executionInfo": {
     "elapsed": 302,
     "status": "ok",
     "timestamp": 1651711277192,
     "user": {
      "displayName": "大竹 春生- Haruo Otake",
      "userId": "13319069107488779089"
     },
     "user_tz": -540
    },
    "id": "UR6iJiS_9paO",
    "outputId": "35ae3dca-1217-444f-c6cb-a5dde0452ff6"
   },
   "outputs": [
    {
     "data": {
      "text/html": [
       "<div>\n",
       "<style scoped>\n",
       "    .dataframe tbody tr th:only-of-type {\n",
       "        vertical-align: middle;\n",
       "    }\n",
       "\n",
       "    .dataframe tbody tr th {\n",
       "        vertical-align: top;\n",
       "    }\n",
       "\n",
       "    .dataframe thead th {\n",
       "        text-align: right;\n",
       "    }\n",
       "</style>\n",
       "<table border=\"1\" class=\"dataframe\">\n",
       "  <thead>\n",
       "    <tr style=\"text-align: right;\">\n",
       "      <th></th>\n",
       "      <th>TARGET</th>\n",
       "      <th>previous_loan_counts</th>\n",
       "    </tr>\n",
       "  </thead>\n",
       "  <tbody>\n",
       "    <tr>\n",
       "      <th>TARGET</th>\n",
       "      <td>1.00000</td>\n",
       "      <td>-0.01002</td>\n",
       "    </tr>\n",
       "    <tr>\n",
       "      <th>previous_loan_counts</th>\n",
       "      <td>-0.01002</td>\n",
       "      <td>1.00000</td>\n",
       "    </tr>\n",
       "  </tbody>\n",
       "</table>\n",
       "</div>"
      ],
      "text/plain": [
       "                       TARGET  previous_loan_counts\n",
       "TARGET                1.00000              -0.01002\n",
       "previous_loan_counts -0.01002               1.00000"
      ]
     },
     "execution_count": 119,
     "metadata": {},
     "output_type": "execute_result"
    }
   ],
   "source": [
    "app_train[['TARGET', 'previous_loan_counts']].corr()"
   ]
  },
  {
   "cell_type": "markdown",
   "metadata": {
    "id": "_hFt58qKEa0A"
   },
   "source": [
    "### 他社遅延日数の集計"
   ]
  },
  {
   "cell_type": "markdown",
   "metadata": {
    "id": "FJp1f5CJxJ3o"
   },
   "source": [
    "## モデルを適用"
   ]
  },
  {
   "cell_type": "code",
   "execution_count": 120,
   "metadata": {
    "colab": {
     "base_uri": "https://localhost:8080/",
     "height": 300
    },
    "executionInfo": {
     "elapsed": 8,
     "status": "ok",
     "timestamp": 1651711277192,
     "user": {
      "displayName": "大竹 春生- Haruo Otake",
      "userId": "13319069107488779089"
     },
     "user_tz": -540
    },
    "id": "qzxah7gadrcu",
    "outputId": "9696f48c-ce94-4e92-c9d6-d1678f875779"
   },
   "outputs": [
    {
     "data": {
      "text/html": [
       "<div>\n",
       "<style scoped>\n",
       "    .dataframe tbody tr th:only-of-type {\n",
       "        vertical-align: middle;\n",
       "    }\n",
       "\n",
       "    .dataframe tbody tr th {\n",
       "        vertical-align: top;\n",
       "    }\n",
       "\n",
       "    .dataframe thead th {\n",
       "        text-align: right;\n",
       "    }\n",
       "</style>\n",
       "<table border=\"1\" class=\"dataframe\">\n",
       "  <thead>\n",
       "    <tr style=\"text-align: right;\">\n",
       "      <th></th>\n",
       "      <th>SK_ID_CURR</th>\n",
       "      <th>TARGET</th>\n",
       "      <th>NAME_CONTRACT_TYPE</th>\n",
       "      <th>CODE_GENDER</th>\n",
       "      <th>FLAG_OWN_CAR</th>\n",
       "      <th>FLAG_OWN_REALTY</th>\n",
       "      <th>CNT_CHILDREN</th>\n",
       "      <th>AMT_INCOME_TOTAL</th>\n",
       "      <th>AMT_CREDIT</th>\n",
       "      <th>AMT_ANNUITY</th>\n",
       "      <th>...</th>\n",
       "      <th>hist_cnt_credit_prolong</th>\n",
       "      <th>hist_sum_credit_prolong</th>\n",
       "      <th>hist_max_amt_credit_max_overdue</th>\n",
       "      <th>hist_cnt_amt_credit_max_overdue</th>\n",
       "      <th>hist_sum_amt_credit_max_overdue</th>\n",
       "      <th>debt_credit_ratio_none</th>\n",
       "      <th>debt_credit_ratio_none_flg</th>\n",
       "      <th>max_credit_day_overdue_flg</th>\n",
       "      <th>previous_loan_counts</th>\n",
       "      <th>previous_loan_flg</th>\n",
       "    </tr>\n",
       "  </thead>\n",
       "  <tbody>\n",
       "    <tr>\n",
       "      <th>0</th>\n",
       "      <td>100002</td>\n",
       "      <td>1</td>\n",
       "      <td>0</td>\n",
       "      <td>1</td>\n",
       "      <td>0</td>\n",
       "      <td>1</td>\n",
       "      <td>0</td>\n",
       "      <td>202500.0</td>\n",
       "      <td>406597.5</td>\n",
       "      <td>24700.5</td>\n",
       "      <td>...</td>\n",
       "      <td>110</td>\n",
       "      <td>0</td>\n",
       "      <td>5043.645</td>\n",
       "      <td>56</td>\n",
       "      <td>73472.58</td>\n",
       "      <td>0.320947</td>\n",
       "      <td>1</td>\n",
       "      <td>0.0</td>\n",
       "      <td>8.0</td>\n",
       "      <td>1.0</td>\n",
       "    </tr>\n",
       "    <tr>\n",
       "      <th>1</th>\n",
       "      <td>100003</td>\n",
       "      <td>0</td>\n",
       "      <td>0</td>\n",
       "      <td>0</td>\n",
       "      <td>0</td>\n",
       "      <td>0</td>\n",
       "      <td>0</td>\n",
       "      <td>270000.0</td>\n",
       "      <td>1293502.5</td>\n",
       "      <td>35698.5</td>\n",
       "      <td>...</td>\n",
       "      <td>4</td>\n",
       "      <td>0</td>\n",
       "      <td>0.000</td>\n",
       "      <td>4</td>\n",
       "      <td>0.00</td>\n",
       "      <td>0.000000</td>\n",
       "      <td>0</td>\n",
       "      <td>1.0</td>\n",
       "      <td>4.0</td>\n",
       "      <td>1.0</td>\n",
       "    </tr>\n",
       "    <tr>\n",
       "      <th>2</th>\n",
       "      <td>100004</td>\n",
       "      <td>0</td>\n",
       "      <td>1</td>\n",
       "      <td>1</td>\n",
       "      <td>1</td>\n",
       "      <td>1</td>\n",
       "      <td>0</td>\n",
       "      <td>67500.0</td>\n",
       "      <td>135000.0</td>\n",
       "      <td>6750.0</td>\n",
       "      <td>...</td>\n",
       "      <td>2</td>\n",
       "      <td>0</td>\n",
       "      <td>0.000</td>\n",
       "      <td>1</td>\n",
       "      <td>0.00</td>\n",
       "      <td>0.000000</td>\n",
       "      <td>0</td>\n",
       "      <td>1.0</td>\n",
       "      <td>2.0</td>\n",
       "      <td>1.0</td>\n",
       "    </tr>\n",
       "    <tr>\n",
       "      <th>3</th>\n",
       "      <td>100006</td>\n",
       "      <td>0</td>\n",
       "      <td>0</td>\n",
       "      <td>0</td>\n",
       "      <td>0</td>\n",
       "      <td>1</td>\n",
       "      <td>0</td>\n",
       "      <td>135000.0</td>\n",
       "      <td>312682.5</td>\n",
       "      <td>29686.5</td>\n",
       "      <td>...</td>\n",
       "      <td>0</td>\n",
       "      <td>0</td>\n",
       "      <td>0.000</td>\n",
       "      <td>0</td>\n",
       "      <td>0.00</td>\n",
       "      <td>0.000000</td>\n",
       "      <td>0</td>\n",
       "      <td>1.0</td>\n",
       "      <td>0.0</td>\n",
       "      <td>0.0</td>\n",
       "    </tr>\n",
       "    <tr>\n",
       "      <th>4</th>\n",
       "      <td>100007</td>\n",
       "      <td>0</td>\n",
       "      <td>0</td>\n",
       "      <td>1</td>\n",
       "      <td>0</td>\n",
       "      <td>1</td>\n",
       "      <td>0</td>\n",
       "      <td>121500.0</td>\n",
       "      <td>513000.0</td>\n",
       "      <td>21865.5</td>\n",
       "      <td>...</td>\n",
       "      <td>1</td>\n",
       "      <td>0</td>\n",
       "      <td>0.000</td>\n",
       "      <td>1</td>\n",
       "      <td>0.00</td>\n",
       "      <td>0.000000</td>\n",
       "      <td>0</td>\n",
       "      <td>1.0</td>\n",
       "      <td>1.0</td>\n",
       "      <td>1.0</td>\n",
       "    </tr>\n",
       "  </tbody>\n",
       "</table>\n",
       "<p>5 rows × 57 columns</p>\n",
       "</div>"
      ],
      "text/plain": [
       "   SK_ID_CURR  TARGET  NAME_CONTRACT_TYPE  CODE_GENDER  FLAG_OWN_CAR  \\\n",
       "0      100002       1                   0            1             0   \n",
       "1      100003       0                   0            0             0   \n",
       "2      100004       0                   1            1             1   \n",
       "3      100006       0                   0            0             0   \n",
       "4      100007       0                   0            1             0   \n",
       "\n",
       "   FLAG_OWN_REALTY  CNT_CHILDREN  AMT_INCOME_TOTAL  AMT_CREDIT  AMT_ANNUITY  \\\n",
       "0                1             0          202500.0    406597.5      24700.5   \n",
       "1                0             0          270000.0   1293502.5      35698.5   \n",
       "2                1             0           67500.0    135000.0       6750.0   \n",
       "3                1             0          135000.0    312682.5      29686.5   \n",
       "4                1             0          121500.0    513000.0      21865.5   \n",
       "\n",
       "   ...  hist_cnt_credit_prolong  hist_sum_credit_prolong  \\\n",
       "0  ...                      110                        0   \n",
       "1  ...                        4                        0   \n",
       "2  ...                        2                        0   \n",
       "3  ...                        0                        0   \n",
       "4  ...                        1                        0   \n",
       "\n",
       "   hist_max_amt_credit_max_overdue  hist_cnt_amt_credit_max_overdue  \\\n",
       "0                         5043.645                               56   \n",
       "1                            0.000                                4   \n",
       "2                            0.000                                1   \n",
       "3                            0.000                                0   \n",
       "4                            0.000                                1   \n",
       "\n",
       "   hist_sum_amt_credit_max_overdue  debt_credit_ratio_none  \\\n",
       "0                         73472.58                0.320947   \n",
       "1                             0.00                0.000000   \n",
       "2                             0.00                0.000000   \n",
       "3                             0.00                0.000000   \n",
       "4                             0.00                0.000000   \n",
       "\n",
       "   debt_credit_ratio_none_flg  max_credit_day_overdue_flg  \\\n",
       "0                           1                         0.0   \n",
       "1                           0                         1.0   \n",
       "2                           0                         1.0   \n",
       "3                           0                         1.0   \n",
       "4                           0                         1.0   \n",
       "\n",
       "   previous_loan_counts  previous_loan_flg  \n",
       "0                   8.0                1.0  \n",
       "1                   4.0                1.0  \n",
       "2                   2.0                1.0  \n",
       "3                   0.0                0.0  \n",
       "4                   1.0                1.0  \n",
       "\n",
       "[5 rows x 57 columns]"
      ]
     },
     "execution_count": 120,
     "metadata": {},
     "output_type": "execute_result"
    }
   ],
   "source": [
    "delete_columns = ['DAYS_REGISTRATION', 'DAYS_ID_PUBLISH', 'FLAG_MOBIL', 'FLAG_EMP_PHONE', 'FLAG_WORK_PHONE', 'FLAG_CONT_MOBILE', 'FLAG_PHONE', 'FLAG_EMAIL', 'WEEKDAY_APPR_PROCESS_START', 'HOUR_APPR_PROCESS_START', 'REG_REGION_NOT_LIVE_REGION', 'REG_REGION_NOT_WORK_REGION', 'LIVE_REGION_NOT_WORK_REGION', 'REG_CITY_NOT_LIVE_CITY', 'REG_CITY_NOT_WORK_CITY', 'LIVE_CITY_NOT_WORK_CITY', 'WEEKDAY_APPR_PROCESS_START', 'HOUR_APPR_PROCESS_START', 'REG_REGION_NOT_LIVE_REGION', 'REG_REGION_NOT_WORK_REGION', 'LIVE_REGION_NOT_WORK_REGION', 'REG_CITY_NOT_LIVE_CITY', 'REG_CITY_NOT_WORK_CITY', 'LIVE_CITY_NOT_WORK_CITY', 'ORGANIZATION_TYPE', 'APARTMENTS_AVG', 'BASEMENTAREA_AVG', 'YEARS_BEGINEXPLUATATION_AVG', 'YEARS_BUILD_AVG', 'COMMONAREA_AVG', 'ELEVATORS_AVG', 'ENTRANCES_AVG', 'FLOORSMAX_AVG', 'FLOORSMIN_AVG', 'LANDAREA_AVG', 'LIVINGAPARTMENTS_AVG', 'LIVINGAREA_AVG', 'NONLIVINGAPARTMENTS_AVG', 'NONLIVINGAREA_AVG', 'APARTMENTS_MODE', 'BASEMENTAREA_MODE', 'YEARS_BEGINEXPLUATATION_MODE', 'YEARS_BUILD_MODE', 'COMMONAREA_MODE', 'ELEVATORS_MODE', 'ENTRANCES_MODE', 'FLOORSMAX_MODE', 'FLOORSMIN_MODE', 'LANDAREA_MODE', 'LIVINGAPARTMENTS_MODE', 'LIVINGAREA_MODE', 'NONLIVINGAPARTMENTS_MODE', 'NONLIVINGAREA_MODE', 'APARTMENTS_MEDI', 'BASEMENTAREA_MEDI', 'YEARS_BEGINEXPLUATATION_MEDI', 'YEARS_BUILD_MEDI', 'COMMONAREA_MEDI', 'ELEVATORS_MEDI', 'ENTRANCES_MEDI', 'FLOORSMAX_MEDI', 'FLOORSMIN_MEDI', 'LANDAREA_MEDI', 'LIVINGAPARTMENTS_MEDI', 'LIVINGAREA_MEDI', 'NONLIVINGAPARTMENTS_MEDI', 'NONLIVINGAREA_MEDI', 'FONDKAPREMONT_MODE', 'HOUSETYPE_MODE', 'TOTALAREA_MODE', 'WALLSMATERIAL_MODE', 'EMERGENCYSTATE_MODE', 'OBS_30_CNT_SOCIAL_CIRCLE', 'DEF_30_CNT_SOCIAL_CIRCLE', 'OBS_60_CNT_SOCIAL_CIRCLE', 'DEF_60_CNT_SOCIAL_CIRCLE', 'DAYS_LAST_PHONE_CHANGE', 'FLAG_DOCUMENT_2', 'FLAG_DOCUMENT_3', 'FLAG_DOCUMENT_4', 'FLAG_DOCUMENT_5', 'FLAG_DOCUMENT_6', 'FLAG_DOCUMENT_7', 'FLAG_DOCUMENT_8', 'FLAG_DOCUMENT_9', 'FLAG_DOCUMENT_10', 'FLAG_DOCUMENT_11', 'FLAG_DOCUMENT_12', 'FLAG_DOCUMENT_13', 'FLAG_DOCUMENT_14', 'FLAG_DOCUMENT_15', 'FLAG_DOCUMENT_16', 'FLAG_DOCUMENT_17', 'FLAG_DOCUMENT_18', 'FLAG_DOCUMENT_19', 'FLAG_DOCUMENT_20', 'FLAG_DOCUMENT_21', 'AMT_REQ_CREDIT_BUREAU_HOUR', 'AMT_REQ_CREDIT_BUREAU_DAY', 'AMT_REQ_CREDIT_BUREAU_WEEK', 'AMT_REQ_CREDIT_BUREAU_MON', 'AMT_REQ_CREDIT_BUREAU_QRT', 'AMT_REQ_CREDIT_BUREAU_YEAR','NAME_TYPE_SUITE','OWN_CAR_AGE']\n",
    "app_train.drop(delete_columns, axis=1, inplace=True)\n",
    "app_test.drop(delete_columns, axis=1, inplace=True)\n",
    "app_train.head()"
   ]
  },
  {
   "cell_type": "code",
   "execution_count": 121,
   "metadata": {
    "executionInfo": {
     "elapsed": 7,
     "status": "ok",
     "timestamp": 1651711277193,
     "user": {
      "displayName": "大竹 春生- Haruo Otake",
      "userId": "13319069107488779089"
     },
     "user_tz": -540
    },
    "id": "IsXXZ_QdbW1h"
   },
   "outputs": [],
   "source": [
    "columns = list(app_train.columns)\n",
    "columns.remove('SK_ID_CURR')\n",
    "columns.remove('TARGET')\n",
    "#columns"
   ]
  },
  {
   "cell_type": "code",
   "execution_count": 122,
   "metadata": {},
   "outputs": [],
   "source": [
    "#test_columns = list(app_test.columns)\n",
    "#test_columns.remove('SK_ID_CURR')\n",
    "#test_columns"
   ]
  },
  {
   "cell_type": "code",
   "execution_count": 123,
   "metadata": {},
   "outputs": [
    {
     "data": {
      "text/plain": [
       "1.0     61503\n",
       "2.0     22566\n",
       "3.0      1619\n",
       "4.0      1317\n",
       "5.0       664\n",
       "6.0        67\n",
       "7.0        39\n",
       "8.0        38\n",
       "9.0        12\n",
       "10.0        4\n",
       "Name: credit_type, dtype: int64"
      ]
     },
     "execution_count": 123,
     "metadata": {},
     "output_type": "execute_result"
    }
   ],
   "source": [
    "app_train['NAME_CONTRACT_TYPE'].value_counts()\n",
    "app_train['CODE_GENDER'].value_counts()\n",
    "app_train['FLAG_OWN_CAR'].value_counts()\n",
    "app_train['FLAG_OWN_REALTY'].value_counts()\n",
    "app_train['CNT_CHILDREN'].value_counts()\n",
    "app_train['AMT_INCOME_TOTAL'].value_counts()\n",
    "app_train['AMT_CREDIT'].value_counts()\n",
    "app_train['AMT_ANNUITY'].value_counts()\n",
    "app_train['AMT_GOODS_PRICE'].value_counts()\n",
    "app_train['NAME_INCOME_TYPE'].value_counts()\n",
    "app_train['NAME_EDUCATION_TYPE'].value_counts()\n",
    "app_train['NAME_FAMILY_STATUS'].value_counts()\n",
    "app_train['NAME_HOUSING_TYPE'].value_counts()\n",
    "app_train['REGION_POPULATION_RELATIVE'].value_counts()\n",
    "app_train['DAYS_BIRTH'].value_counts()\n",
    "app_train['DAYS_EMPLOYED'].value_counts()\n",
    "app_train['OCCUPATION_TYPE'].value_counts()\n",
    "app_train['CNT_FAM_MEMBERS'].value_counts()\n",
    "app_train['REGION_RATING_CLIENT'].value_counts()\n",
    "app_train['REGION_RATING_CLIENT_W_CITY'].value_counts()\n",
    "app_train['EXT_SOURCE_1'].value_counts()\n",
    "app_train['EXT_SOURCE_2'].value_counts()\n",
    "app_train['EXT_SOURCE_3'].value_counts()\n",
    "app_train['credit_annuity_ratio'].value_counts()\n",
    "app_train['sk_id_bureau'].value_counts()\n",
    "app_train['max_credit_day_overdue'].value_counts()\n",
    "app_train['max_days_credit_enddate'].value_counts()\n",
    "app_train['min_days_enddate_fact'].value_counts()\n",
    "app_train['max_amt_credit_max_overdue'].value_counts()\n",
    "app_train['cnt_credit_prolong'].value_counts()\n",
    "app_train['max_credit_prolong'].value_counts()\n",
    "app_train['sum_amt_credit_sum'].value_counts()\n",
    "app_train['sum_amt_credit_sum_debt'].value_counts()\n",
    "app_train['sum_amt_credit_sum_limit'].value_counts()\n",
    "app_train['sum_amt_credit_sum_overdue'].value_counts()\n",
    "app_train['credit_type'].value_counts()\n",
    "#app_train['max_days_credit_update'].value_counts()\n",
    "#app_train['sum_amt_annuity'].value_counts()\n",
    "#app_train['hist_max_credit_day_overdue'].value_counts()\n",
    "#app_train['hist_cnt_credit_day_overdue'].value_counts()\n",
    "#app_train['hist_sum_credit_day_overdue'].value_counts()\n",
    "#app_train['hist_max_credit_prolong'].value_counts()\n",
    "#app_train['hist_cnt_credit_prolong'].value_counts()\n",
    "#app_train['hist_sum_credit_prolong'].value_counts()\n",
    "#app_train['hist_max_amt_credit_max_overdue'].value_counts()\n",
    "#app_train['hist_cnt_amt_credit_max_overdue'].value_counts()\n",
    "#app_train['hist_sum_amt_credit_max_overdue'].value_counts()\n",
    "#app_train['max_credit_day_overdue_flg'].value_counts()\n",
    "#app_train['previous_loan_counts'].value_counts()\n",
    "#app_train['previous_loan_flg'].value_counts()"
   ]
  },
  {
   "cell_type": "code",
   "execution_count": 124,
   "metadata": {
    "executionInfo": {
     "elapsed": 1914,
     "status": "ok",
     "timestamp": 1651711279101,
     "user": {
      "displayName": "大竹 春生- Haruo Otake",
      "userId": "13319069107488779089"
     },
     "user_tz": -540
    },
    "id": "9MuMugvmi47g"
   },
   "outputs": [],
   "source": [
    "# カテゴリ変数の変換\n",
    "#cat_cols = ['NAME_CONTRACT_TYPE', 'CODE_GENDER', 'FLAG_OWN_CAR', 'FLAG_OWN_REALTY', 'OCCUPATION_TYPE', 'NAME_FAMILY_STATUS', 'NAME_HOUSING_TYPE', 'NAME_INCOME_TYPE', 'NAME_EDUCATION_TYPE', 'OCCUPATION_TYPE', 'credit_type']\n",
    "# \n",
    "#alt_x = pd.concat([app_train, app_test])\n",
    "#alt_x = pd.get_dummies(alt_x, columns=cat_cols)\n",
    "\n",
    "#\n",
    "#app_train = alt_x.iloc[:app_train.shape[0], :].reset_index(drop=True)\n",
    "#app_test = alt_x.iloc[app_train.shape[0]:, :].reset_index(drop=True)"
   ]
  },
  {
   "cell_type": "code",
   "execution_count": 125,
   "metadata": {
    "colab": {
     "base_uri": "https://localhost:8080/",
     "height": 300
    },
    "executionInfo": {
     "elapsed": 563,
     "status": "ok",
     "timestamp": 1651711279659,
     "user": {
      "displayName": "大竹 春生- Haruo Otake",
      "userId": "13319069107488779089"
     },
     "user_tz": -540
    },
    "id": "Um1gcNeFw-1Q",
    "outputId": "2a19eb7c-a3b1-4e81-eb1e-c8361194672a"
   },
   "outputs": [
    {
     "data": {
      "text/html": [
       "<div>\n",
       "<style scoped>\n",
       "    .dataframe tbody tr th:only-of-type {\n",
       "        vertical-align: middle;\n",
       "    }\n",
       "\n",
       "    .dataframe tbody tr th {\n",
       "        vertical-align: top;\n",
       "    }\n",
       "\n",
       "    .dataframe thead th {\n",
       "        text-align: right;\n",
       "    }\n",
       "</style>\n",
       "<table border=\"1\" class=\"dataframe\">\n",
       "  <thead>\n",
       "    <tr style=\"text-align: right;\">\n",
       "      <th></th>\n",
       "      <th>SK_ID_CURR</th>\n",
       "      <th>NAME_CONTRACT_TYPE</th>\n",
       "      <th>CODE_GENDER</th>\n",
       "      <th>FLAG_OWN_CAR</th>\n",
       "      <th>FLAG_OWN_REALTY</th>\n",
       "      <th>CNT_CHILDREN</th>\n",
       "      <th>AMT_INCOME_TOTAL</th>\n",
       "      <th>AMT_CREDIT</th>\n",
       "      <th>AMT_ANNUITY</th>\n",
       "      <th>AMT_GOODS_PRICE</th>\n",
       "      <th>...</th>\n",
       "      <th>hist_cnt_credit_prolong</th>\n",
       "      <th>hist_sum_credit_prolong</th>\n",
       "      <th>hist_max_amt_credit_max_overdue</th>\n",
       "      <th>hist_cnt_amt_credit_max_overdue</th>\n",
       "      <th>hist_sum_amt_credit_max_overdue</th>\n",
       "      <th>debt_credit_ratio_none</th>\n",
       "      <th>debt_credit_ratio_none_flg</th>\n",
       "      <th>max_credit_day_overdue_flg</th>\n",
       "      <th>previous_loan_counts</th>\n",
       "      <th>previous_loan_flg</th>\n",
       "    </tr>\n",
       "  </thead>\n",
       "  <tbody>\n",
       "    <tr>\n",
       "      <th>0</th>\n",
       "      <td>100002</td>\n",
       "      <td>0</td>\n",
       "      <td>1</td>\n",
       "      <td>0</td>\n",
       "      <td>1</td>\n",
       "      <td>0</td>\n",
       "      <td>202500.0</td>\n",
       "      <td>406597.5</td>\n",
       "      <td>24700.5</td>\n",
       "      <td>351000.0</td>\n",
       "      <td>...</td>\n",
       "      <td>110</td>\n",
       "      <td>0</td>\n",
       "      <td>5043.645</td>\n",
       "      <td>56</td>\n",
       "      <td>73472.58</td>\n",
       "      <td>0.320947</td>\n",
       "      <td>1</td>\n",
       "      <td>0.0</td>\n",
       "      <td>8.0</td>\n",
       "      <td>1.0</td>\n",
       "    </tr>\n",
       "    <tr>\n",
       "      <th>1</th>\n",
       "      <td>100003</td>\n",
       "      <td>0</td>\n",
       "      <td>0</td>\n",
       "      <td>0</td>\n",
       "      <td>0</td>\n",
       "      <td>0</td>\n",
       "      <td>270000.0</td>\n",
       "      <td>1293502.5</td>\n",
       "      <td>35698.5</td>\n",
       "      <td>1129500.0</td>\n",
       "      <td>...</td>\n",
       "      <td>4</td>\n",
       "      <td>0</td>\n",
       "      <td>0.000</td>\n",
       "      <td>4</td>\n",
       "      <td>0.00</td>\n",
       "      <td>0.000000</td>\n",
       "      <td>0</td>\n",
       "      <td>1.0</td>\n",
       "      <td>4.0</td>\n",
       "      <td>1.0</td>\n",
       "    </tr>\n",
       "    <tr>\n",
       "      <th>2</th>\n",
       "      <td>100004</td>\n",
       "      <td>1</td>\n",
       "      <td>1</td>\n",
       "      <td>1</td>\n",
       "      <td>1</td>\n",
       "      <td>0</td>\n",
       "      <td>67500.0</td>\n",
       "      <td>135000.0</td>\n",
       "      <td>6750.0</td>\n",
       "      <td>135000.0</td>\n",
       "      <td>...</td>\n",
       "      <td>2</td>\n",
       "      <td>0</td>\n",
       "      <td>0.000</td>\n",
       "      <td>1</td>\n",
       "      <td>0.00</td>\n",
       "      <td>0.000000</td>\n",
       "      <td>0</td>\n",
       "      <td>1.0</td>\n",
       "      <td>2.0</td>\n",
       "      <td>1.0</td>\n",
       "    </tr>\n",
       "    <tr>\n",
       "      <th>3</th>\n",
       "      <td>100006</td>\n",
       "      <td>0</td>\n",
       "      <td>0</td>\n",
       "      <td>0</td>\n",
       "      <td>1</td>\n",
       "      <td>0</td>\n",
       "      <td>135000.0</td>\n",
       "      <td>312682.5</td>\n",
       "      <td>29686.5</td>\n",
       "      <td>297000.0</td>\n",
       "      <td>...</td>\n",
       "      <td>0</td>\n",
       "      <td>0</td>\n",
       "      <td>0.000</td>\n",
       "      <td>0</td>\n",
       "      <td>0.00</td>\n",
       "      <td>0.000000</td>\n",
       "      <td>0</td>\n",
       "      <td>1.0</td>\n",
       "      <td>0.0</td>\n",
       "      <td>0.0</td>\n",
       "    </tr>\n",
       "    <tr>\n",
       "      <th>4</th>\n",
       "      <td>100007</td>\n",
       "      <td>0</td>\n",
       "      <td>1</td>\n",
       "      <td>0</td>\n",
       "      <td>1</td>\n",
       "      <td>0</td>\n",
       "      <td>121500.0</td>\n",
       "      <td>513000.0</td>\n",
       "      <td>21865.5</td>\n",
       "      <td>513000.0</td>\n",
       "      <td>...</td>\n",
       "      <td>1</td>\n",
       "      <td>0</td>\n",
       "      <td>0.000</td>\n",
       "      <td>1</td>\n",
       "      <td>0.00</td>\n",
       "      <td>0.000000</td>\n",
       "      <td>0</td>\n",
       "      <td>1.0</td>\n",
       "      <td>1.0</td>\n",
       "      <td>1.0</td>\n",
       "    </tr>\n",
       "  </tbody>\n",
       "</table>\n",
       "<p>5 rows × 56 columns</p>\n",
       "</div>"
      ],
      "text/plain": [
       "   SK_ID_CURR  NAME_CONTRACT_TYPE  CODE_GENDER  FLAG_OWN_CAR  FLAG_OWN_REALTY  \\\n",
       "0      100002                   0            1             0                1   \n",
       "1      100003                   0            0             0                0   \n",
       "2      100004                   1            1             1                1   \n",
       "3      100006                   0            0             0                1   \n",
       "4      100007                   0            1             0                1   \n",
       "\n",
       "   CNT_CHILDREN  AMT_INCOME_TOTAL  AMT_CREDIT  AMT_ANNUITY  AMT_GOODS_PRICE  \\\n",
       "0             0          202500.0    406597.5      24700.5         351000.0   \n",
       "1             0          270000.0   1293502.5      35698.5        1129500.0   \n",
       "2             0           67500.0    135000.0       6750.0         135000.0   \n",
       "3             0          135000.0    312682.5      29686.5         297000.0   \n",
       "4             0          121500.0    513000.0      21865.5         513000.0   \n",
       "\n",
       "   ...  hist_cnt_credit_prolong  hist_sum_credit_prolong  \\\n",
       "0  ...                      110                        0   \n",
       "1  ...                        4                        0   \n",
       "2  ...                        2                        0   \n",
       "3  ...                        0                        0   \n",
       "4  ...                        1                        0   \n",
       "\n",
       "   hist_max_amt_credit_max_overdue  hist_cnt_amt_credit_max_overdue  \\\n",
       "0                         5043.645                               56   \n",
       "1                            0.000                                4   \n",
       "2                            0.000                                1   \n",
       "3                            0.000                                0   \n",
       "4                            0.000                                1   \n",
       "\n",
       "   hist_sum_amt_credit_max_overdue  debt_credit_ratio_none  \\\n",
       "0                         73472.58                0.320947   \n",
       "1                             0.00                0.000000   \n",
       "2                             0.00                0.000000   \n",
       "3                             0.00                0.000000   \n",
       "4                             0.00                0.000000   \n",
       "\n",
       "   debt_credit_ratio_none_flg  max_credit_day_overdue_flg  \\\n",
       "0                           1                         0.0   \n",
       "1                           0                         1.0   \n",
       "2                           0                         1.0   \n",
       "3                           0                         1.0   \n",
       "4                           0                         1.0   \n",
       "\n",
       "   previous_loan_counts  previous_loan_flg  \n",
       "0                   8.0                1.0  \n",
       "1                   4.0                1.0  \n",
       "2                   2.0                1.0  \n",
       "3                   0.0                0.0  \n",
       "4                   1.0                1.0  \n",
       "\n",
       "[5 rows x 56 columns]"
      ]
     },
     "execution_count": 125,
     "metadata": {},
     "output_type": "execute_result"
    }
   ],
   "source": [
    "#num_cols = ['max_credit_day_overdue', 'max_days_credit_enddate', 'min_days_enddate_fact', 'max_amt_credit_max_overdue', 'cnt_credit_prolong_in_6month', 'sum_amt_credit_sum', 'sum_amt_credit_sum_debt', 'sum_amt_credit_sum_limit', 'sum_amt_credit_sum_overdue', 'avg_amt_annuity']\n",
    "\n",
    "data = pd.concat([app_train, app_test], sort=False)\n",
    "train = data[:len(app_train)]\n",
    "test = data[len(app_test):]\n",
    "\n",
    "\n",
    "y_train = train['TARGET']\n",
    "X_train = app_train.copy().drop('TARGET', axis=1)\n",
    "X_test = app_test.copy()\n",
    "\n",
    "# 学習データに基づいてYao-Johnson変換を定義\n",
    "#pt = PowerTransformer(method = 'yeo-johnson')\n",
    "#pt.fit(X_train[num_cols])\n",
    "\n",
    "# 変換後のデータで各列を置換\n",
    "#X_train[num_cols] = pt.transform(X_train[num_cols])\n",
    "#X_test[num_cols] = pt.transform(X_test[num_cols])\n",
    "\n",
    "X_train.head()"
   ]
  },
  {
   "cell_type": "code",
   "execution_count": 126,
   "metadata": {},
   "outputs": [
    {
     "data": {
      "text/html": [
       "<div>\n",
       "<style scoped>\n",
       "    .dataframe tbody tr th:only-of-type {\n",
       "        vertical-align: middle;\n",
       "    }\n",
       "\n",
       "    .dataframe tbody tr th {\n",
       "        vertical-align: top;\n",
       "    }\n",
       "\n",
       "    .dataframe thead th {\n",
       "        text-align: right;\n",
       "    }\n",
       "</style>\n",
       "<table border=\"1\" class=\"dataframe\">\n",
       "  <thead>\n",
       "    <tr style=\"text-align: right;\">\n",
       "      <th></th>\n",
       "      <th>SK_ID_CURR</th>\n",
       "      <th>NAME_CONTRACT_TYPE</th>\n",
       "      <th>CODE_GENDER</th>\n",
       "      <th>FLAG_OWN_CAR</th>\n",
       "      <th>FLAG_OWN_REALTY</th>\n",
       "      <th>CNT_CHILDREN</th>\n",
       "      <th>AMT_INCOME_TOTAL</th>\n",
       "      <th>AMT_CREDIT</th>\n",
       "      <th>AMT_ANNUITY</th>\n",
       "      <th>AMT_GOODS_PRICE</th>\n",
       "      <th>...</th>\n",
       "      <th>hist_cnt_credit_prolong</th>\n",
       "      <th>hist_sum_credit_prolong</th>\n",
       "      <th>hist_max_amt_credit_max_overdue</th>\n",
       "      <th>hist_cnt_amt_credit_max_overdue</th>\n",
       "      <th>hist_sum_amt_credit_max_overdue</th>\n",
       "      <th>debt_credit_ratio_none</th>\n",
       "      <th>debt_credit_ratio_none_flg</th>\n",
       "      <th>max_credit_day_overdue_flg</th>\n",
       "      <th>previous_loan_counts</th>\n",
       "      <th>previous_loan_flg</th>\n",
       "    </tr>\n",
       "  </thead>\n",
       "  <tbody>\n",
       "    <tr>\n",
       "      <th>0</th>\n",
       "      <td>100001</td>\n",
       "      <td>0</td>\n",
       "      <td>0</td>\n",
       "      <td>0</td>\n",
       "      <td>1</td>\n",
       "      <td>0</td>\n",
       "      <td>135000.0</td>\n",
       "      <td>568800.0</td>\n",
       "      <td>20560.5</td>\n",
       "      <td>450000.0</td>\n",
       "      <td>...</td>\n",
       "      <td>172</td>\n",
       "      <td>0</td>\n",
       "      <td>0.0</td>\n",
       "      <td>0</td>\n",
       "      <td>0.0</td>\n",
       "      <td>0.147934</td>\n",
       "      <td>1</td>\n",
       "      <td>0.0</td>\n",
       "      <td>7.0</td>\n",
       "      <td>1.0</td>\n",
       "    </tr>\n",
       "    <tr>\n",
       "      <th>1</th>\n",
       "      <td>100005</td>\n",
       "      <td>0</td>\n",
       "      <td>1</td>\n",
       "      <td>0</td>\n",
       "      <td>1</td>\n",
       "      <td>0</td>\n",
       "      <td>99000.0</td>\n",
       "      <td>222768.0</td>\n",
       "      <td>17370.0</td>\n",
       "      <td>180000.0</td>\n",
       "      <td>...</td>\n",
       "      <td>21</td>\n",
       "      <td>0</td>\n",
       "      <td>0.0</td>\n",
       "      <td>3</td>\n",
       "      <td>0.0</td>\n",
       "      <td>0.755662</td>\n",
       "      <td>1</td>\n",
       "      <td>0.0</td>\n",
       "      <td>3.0</td>\n",
       "      <td>1.0</td>\n",
       "    </tr>\n",
       "    <tr>\n",
       "      <th>2</th>\n",
       "      <td>100013</td>\n",
       "      <td>0</td>\n",
       "      <td>1</td>\n",
       "      <td>1</td>\n",
       "      <td>1</td>\n",
       "      <td>0</td>\n",
       "      <td>202500.0</td>\n",
       "      <td>663264.0</td>\n",
       "      <td>69777.0</td>\n",
       "      <td>630000.0</td>\n",
       "      <td>...</td>\n",
       "      <td>230</td>\n",
       "      <td>0</td>\n",
       "      <td>19305.0</td>\n",
       "      <td>66</td>\n",
       "      <td>1274130.0</td>\n",
       "      <td>0.000000</td>\n",
       "      <td>0</td>\n",
       "      <td>0.0</td>\n",
       "      <td>4.0</td>\n",
       "      <td>1.0</td>\n",
       "    </tr>\n",
       "    <tr>\n",
       "      <th>3</th>\n",
       "      <td>100028</td>\n",
       "      <td>0</td>\n",
       "      <td>0</td>\n",
       "      <td>0</td>\n",
       "      <td>1</td>\n",
       "      <td>2</td>\n",
       "      <td>315000.0</td>\n",
       "      <td>1575000.0</td>\n",
       "      <td>49018.5</td>\n",
       "      <td>1575000.0</td>\n",
       "      <td>...</td>\n",
       "      <td>560</td>\n",
       "      <td>0</td>\n",
       "      <td>0.0</td>\n",
       "      <td>128</td>\n",
       "      <td>0.0</td>\n",
       "      <td>0.038443</td>\n",
       "      <td>1</td>\n",
       "      <td>0.0</td>\n",
       "      <td>12.0</td>\n",
       "      <td>1.0</td>\n",
       "    </tr>\n",
       "    <tr>\n",
       "      <th>4</th>\n",
       "      <td>100038</td>\n",
       "      <td>0</td>\n",
       "      <td>1</td>\n",
       "      <td>1</td>\n",
       "      <td>0</td>\n",
       "      <td>1</td>\n",
       "      <td>180000.0</td>\n",
       "      <td>625500.0</td>\n",
       "      <td>32067.0</td>\n",
       "      <td>625500.0</td>\n",
       "      <td>...</td>\n",
       "      <td>0</td>\n",
       "      <td>0</td>\n",
       "      <td>0.0</td>\n",
       "      <td>0</td>\n",
       "      <td>0.0</td>\n",
       "      <td>0.000000</td>\n",
       "      <td>0</td>\n",
       "      <td>1.0</td>\n",
       "      <td>0.0</td>\n",
       "      <td>0.0</td>\n",
       "    </tr>\n",
       "  </tbody>\n",
       "</table>\n",
       "<p>5 rows × 56 columns</p>\n",
       "</div>"
      ],
      "text/plain": [
       "   SK_ID_CURR  NAME_CONTRACT_TYPE  CODE_GENDER  FLAG_OWN_CAR  FLAG_OWN_REALTY  \\\n",
       "0      100001                   0            0             0                1   \n",
       "1      100005                   0            1             0                1   \n",
       "2      100013                   0            1             1                1   \n",
       "3      100028                   0            0             0                1   \n",
       "4      100038                   0            1             1                0   \n",
       "\n",
       "   CNT_CHILDREN  AMT_INCOME_TOTAL  AMT_CREDIT  AMT_ANNUITY  AMT_GOODS_PRICE  \\\n",
       "0             0          135000.0    568800.0      20560.5         450000.0   \n",
       "1             0           99000.0    222768.0      17370.0         180000.0   \n",
       "2             0          202500.0    663264.0      69777.0         630000.0   \n",
       "3             2          315000.0   1575000.0      49018.5        1575000.0   \n",
       "4             1          180000.0    625500.0      32067.0         625500.0   \n",
       "\n",
       "   ...  hist_cnt_credit_prolong  hist_sum_credit_prolong  \\\n",
       "0  ...                      172                        0   \n",
       "1  ...                       21                        0   \n",
       "2  ...                      230                        0   \n",
       "3  ...                      560                        0   \n",
       "4  ...                        0                        0   \n",
       "\n",
       "   hist_max_amt_credit_max_overdue  hist_cnt_amt_credit_max_overdue  \\\n",
       "0                              0.0                                0   \n",
       "1                              0.0                                3   \n",
       "2                          19305.0                               66   \n",
       "3                              0.0                              128   \n",
       "4                              0.0                                0   \n",
       "\n",
       "   hist_sum_amt_credit_max_overdue  debt_credit_ratio_none  \\\n",
       "0                              0.0                0.147934   \n",
       "1                              0.0                0.755662   \n",
       "2                        1274130.0                0.000000   \n",
       "3                              0.0                0.038443   \n",
       "4                              0.0                0.000000   \n",
       "\n",
       "   debt_credit_ratio_none_flg  max_credit_day_overdue_flg  \\\n",
       "0                           1                         0.0   \n",
       "1                           1                         0.0   \n",
       "2                           0                         0.0   \n",
       "3                           1                         0.0   \n",
       "4                           0                         1.0   \n",
       "\n",
       "   previous_loan_counts  previous_loan_flg  \n",
       "0                   7.0                1.0  \n",
       "1                   3.0                1.0  \n",
       "2                   4.0                1.0  \n",
       "3                  12.0                1.0  \n",
       "4                   0.0                0.0  \n",
       "\n",
       "[5 rows x 56 columns]"
      ]
     },
     "execution_count": 126,
     "metadata": {},
     "output_type": "execute_result"
    }
   ],
   "source": [
    "X_test.head()"
   ]
  },
  {
   "cell_type": "code",
   "execution_count": 127,
   "metadata": {
    "colab": {
     "base_uri": "https://localhost:8080/"
    },
    "id": "EaaOLy4sw-4p",
    "outputId": "f35f4d72-8d4f-402d-ffb0-f6fdeac32b26"
   },
   "outputs": [
    {
     "name": "stdout",
     "output_type": "stream",
     "text": [
      "[20:40:29] WARNING: C:/Users/Administrator/workspace/xgboost-win64_release_1.6.0/src/learner.cc:627: \n",
      "Parameters: { \"silent\" } might not be used.\n",
      "\n",
      "  This could be a false alarm, with some parameters getting used by language bindings but\n",
      "  then being mistakenly passed down to XGBoost core, or some parameter actually being used\n",
      "  but getting flagged wrongly here. Please open an issue if you find any such cases.\n",
      "\n",
      "\n",
      "[0]\ttrain-logloss:0.50904\teval-logloss:0.50840\n",
      "[1]\ttrain-logloss:0.40970\teval-logloss:0.40877\n",
      "[2]\ttrain-logloss:0.35032\teval-logloss:0.34926\n",
      "[3]\ttrain-logloss:0.31339\teval-logloss:0.31220\n",
      "[4]\ttrain-logloss:0.28994\teval-logloss:0.28884\n",
      "[5]\ttrain-logloss:0.27483\teval-logloss:0.27376\n",
      "[6]\ttrain-logloss:0.26500\teval-logloss:0.26405\n",
      "[7]\ttrain-logloss:0.25865\teval-logloss:0.25793\n",
      "[8]\ttrain-logloss:0.25423\teval-logloss:0.25373\n",
      "[9]\ttrain-logloss:0.25122\teval-logloss:0.25115\n",
      "[10]\ttrain-logloss:0.24907\teval-logloss:0.24930\n",
      "[11]\ttrain-logloss:0.24701\teval-logloss:0.24762\n",
      "[12]\ttrain-logloss:0.24568\teval-logloss:0.24671\n",
      "[13]\ttrain-logloss:0.24415\teval-logloss:0.24561\n",
      "[14]\ttrain-logloss:0.24296\teval-logloss:0.24495\n",
      "[15]\ttrain-logloss:0.24200\teval-logloss:0.24451\n",
      "[16]\ttrain-logloss:0.24116\teval-logloss:0.24408\n",
      "[17]\ttrain-logloss:0.24033\teval-logloss:0.24378\n",
      "[18]\ttrain-logloss:0.23957\teval-logloss:0.24354\n",
      "[19]\ttrain-logloss:0.23894\teval-logloss:0.24333\n",
      "[20]\ttrain-logloss:0.23834\teval-logloss:0.24298\n",
      "[21]\ttrain-logloss:0.23765\teval-logloss:0.24293\n",
      "[22]\ttrain-logloss:0.23707\teval-logloss:0.24292\n",
      "[23]\ttrain-logloss:0.23666\teval-logloss:0.24280\n",
      "[24]\ttrain-logloss:0.23594\teval-logloss:0.24254\n",
      "[25]\ttrain-logloss:0.23567\teval-logloss:0.24248\n",
      "[26]\ttrain-logloss:0.23516\teval-logloss:0.24230\n",
      "[27]\ttrain-logloss:0.23471\teval-logloss:0.24218\n",
      "[28]\ttrain-logloss:0.23427\teval-logloss:0.24217\n",
      "[29]\ttrain-logloss:0.23389\teval-logloss:0.24217\n",
      "[30]\ttrain-logloss:0.23342\teval-logloss:0.24218\n",
      "[31]\ttrain-logloss:0.23293\teval-logloss:0.24209\n",
      "[32]\ttrain-logloss:0.23242\teval-logloss:0.24210\n",
      "[33]\ttrain-logloss:0.23204\teval-logloss:0.24212\n",
      "[34]\ttrain-logloss:0.23160\teval-logloss:0.24217\n",
      "[35]\ttrain-logloss:0.23118\teval-logloss:0.24209\n",
      "[36]\ttrain-logloss:0.23109\teval-logloss:0.24208\n",
      "[37]\ttrain-logloss:0.23061\teval-logloss:0.24206\n",
      "[38]\ttrain-logloss:0.23029\teval-logloss:0.24210\n",
      "[39]\ttrain-logloss:0.22973\teval-logloss:0.24200\n",
      "[40]\ttrain-logloss:0.22951\teval-logloss:0.24197\n",
      "[41]\ttrain-logloss:0.22904\teval-logloss:0.24196\n",
      "[42]\ttrain-logloss:0.22853\teval-logloss:0.24190\n",
      "[43]\ttrain-logloss:0.22803\teval-logloss:0.24186\n",
      "[44]\ttrain-logloss:0.22767\teval-logloss:0.24184\n",
      "[45]\ttrain-logloss:0.22742\teval-logloss:0.24185\n",
      "[46]\ttrain-logloss:0.22709\teval-logloss:0.24182\n",
      "[47]\ttrain-logloss:0.22665\teval-logloss:0.24187\n",
      "[48]\ttrain-logloss:0.22637\teval-logloss:0.24185\n",
      "[49]\ttrain-logloss:0.22601\teval-logloss:0.24190\n",
      "[20:40:30] WARNING: C:/Users/Administrator/workspace/xgboost-win64_release_1.6.0/src/learner.cc:627: \n",
      "Parameters: { \"silent\" } might not be used.\n",
      "\n",
      "  This could be a false alarm, with some parameters getting used by language bindings but\n",
      "  then being mistakenly passed down to XGBoost core, or some parameter actually being used\n",
      "  but getting flagged wrongly here. Please open an issue if you find any such cases.\n",
      "\n",
      "\n",
      "[0]\ttrain-logloss:0.50870\teval-logloss:0.50902\n",
      "[1]\ttrain-logloss:0.40918\teval-logloss:0.40996\n",
      "[2]\ttrain-logloss:0.34978\teval-logloss:0.35081\n",
      "[3]\ttrain-logloss:0.31269\teval-logloss:0.31417\n",
      "[4]\ttrain-logloss:0.28920\teval-logloss:0.29104\n",
      "[5]\ttrain-logloss:0.27415\teval-logloss:0.27624\n",
      "[6]\ttrain-logloss:0.26432\teval-logloss:0.26697\n",
      "[7]\ttrain-logloss:0.25790\teval-logloss:0.26099\n",
      "[8]\ttrain-logloss:0.25341\teval-logloss:0.25700\n",
      "[9]\ttrain-logloss:0.25039\teval-logloss:0.25450\n",
      "[10]\ttrain-logloss:0.24809\teval-logloss:0.25256\n",
      "[11]\ttrain-logloss:0.24633\teval-logloss:0.25133\n",
      "[12]\ttrain-logloss:0.24486\teval-logloss:0.25037\n",
      "[13]\ttrain-logloss:0.24373\teval-logloss:0.24987\n",
      "[14]\ttrain-logloss:0.24239\teval-logloss:0.24919\n",
      "[15]\ttrain-logloss:0.24155\teval-logloss:0.24882\n",
      "[16]\ttrain-logloss:0.24060\teval-logloss:0.24819\n",
      "[17]\ttrain-logloss:0.23988\teval-logloss:0.24798\n",
      "[18]\ttrain-logloss:0.23922\teval-logloss:0.24775\n",
      "[19]\ttrain-logloss:0.23838\teval-logloss:0.24709\n",
      "[20]\ttrain-logloss:0.23769\teval-logloss:0.24699\n",
      "[21]\ttrain-logloss:0.23705\teval-logloss:0.24668\n",
      "[22]\ttrain-logloss:0.23642\teval-logloss:0.24658\n",
      "[23]\ttrain-logloss:0.23597\teval-logloss:0.24651\n",
      "[24]\ttrain-logloss:0.23542\teval-logloss:0.24636\n",
      "[25]\ttrain-logloss:0.23479\teval-logloss:0.24631\n",
      "[26]\ttrain-logloss:0.23438\teval-logloss:0.24624\n",
      "[27]\ttrain-logloss:0.23398\teval-logloss:0.24621\n",
      "[28]\ttrain-logloss:0.23342\teval-logloss:0.24608\n",
      "[29]\ttrain-logloss:0.23306\teval-logloss:0.24605\n",
      "[30]\ttrain-logloss:0.23272\teval-logloss:0.24606\n",
      "[31]\ttrain-logloss:0.23248\teval-logloss:0.24611\n",
      "[32]\ttrain-logloss:0.23208\teval-logloss:0.24610\n",
      "[33]\ttrain-logloss:0.23175\teval-logloss:0.24605\n",
      "[34]\ttrain-logloss:0.23124\teval-logloss:0.24602\n",
      "[35]\ttrain-logloss:0.23067\teval-logloss:0.24579\n",
      "[36]\ttrain-logloss:0.23013\teval-logloss:0.24583\n",
      "[37]\ttrain-logloss:0.22990\teval-logloss:0.24584\n",
      "[38]\ttrain-logloss:0.22942\teval-logloss:0.24574\n",
      "[39]\ttrain-logloss:0.22889\teval-logloss:0.24566\n",
      "[40]\ttrain-logloss:0.22851\teval-logloss:0.24563\n",
      "[41]\ttrain-logloss:0.22817\teval-logloss:0.24560\n",
      "[42]\ttrain-logloss:0.22757\teval-logloss:0.24566\n",
      "[43]\ttrain-logloss:0.22744\teval-logloss:0.24568\n",
      "[44]\ttrain-logloss:0.22698\teval-logloss:0.24552\n",
      "[45]\ttrain-logloss:0.22657\teval-logloss:0.24544\n",
      "[46]\ttrain-logloss:0.22628\teval-logloss:0.24550\n",
      "[47]\ttrain-logloss:0.22608\teval-logloss:0.24548\n",
      "[48]\ttrain-logloss:0.22583\teval-logloss:0.24543\n",
      "[49]\ttrain-logloss:0.22539\teval-logloss:0.24535\n",
      "[20:40:32] WARNING: C:/Users/Administrator/workspace/xgboost-win64_release_1.6.0/src/learner.cc:627: \n",
      "Parameters: { \"silent\" } might not be used.\n",
      "\n",
      "  This could be a false alarm, with some parameters getting used by language bindings but\n",
      "  then being mistakenly passed down to XGBoost core, or some parameter actually being used\n",
      "  but getting flagged wrongly here. Please open an issue if you find any such cases.\n",
      "\n",
      "\n",
      "[0]\ttrain-logloss:0.50862\teval-logloss:0.50928\n",
      "[1]\ttrain-logloss:0.40901\teval-logloss:0.41025\n",
      "[2]\ttrain-logloss:0.34954\teval-logloss:0.35124\n",
      "[3]\ttrain-logloss:0.31251\teval-logloss:0.31465\n",
      "[4]\ttrain-logloss:0.28894\teval-logloss:0.29155\n",
      "[5]\ttrain-logloss:0.27383\teval-logloss:0.27691\n",
      "[6]\ttrain-logloss:0.26400\teval-logloss:0.26755\n",
      "[7]\ttrain-logloss:0.25742\teval-logloss:0.26161\n",
      "[8]\ttrain-logloss:0.25306\teval-logloss:0.25783\n",
      "[9]\ttrain-logloss:0.25003\teval-logloss:0.25529\n",
      "[10]\ttrain-logloss:0.24755\teval-logloss:0.25329\n",
      "[11]\ttrain-logloss:0.24570\teval-logloss:0.25189\n",
      "[12]\ttrain-logloss:0.24413\teval-logloss:0.25092\n",
      "[13]\ttrain-logloss:0.24286\teval-logloss:0.25014\n",
      "[14]\ttrain-logloss:0.24182\teval-logloss:0.24962\n",
      "[15]\ttrain-logloss:0.24074\teval-logloss:0.24909\n",
      "[16]\ttrain-logloss:0.23970\teval-logloss:0.24847\n",
      "[17]\ttrain-logloss:0.23883\teval-logloss:0.24832\n",
      "[18]\ttrain-logloss:0.23802\teval-logloss:0.24816\n",
      "[19]\ttrain-logloss:0.23728\teval-logloss:0.24791\n",
      "[20]\ttrain-logloss:0.23678\teval-logloss:0.24786\n",
      "[21]\ttrain-logloss:0.23623\teval-logloss:0.24774\n",
      "[22]\ttrain-logloss:0.23550\teval-logloss:0.24745\n",
      "[23]\ttrain-logloss:0.23500\teval-logloss:0.24746\n",
      "[24]\ttrain-logloss:0.23440\teval-logloss:0.24730\n",
      "[25]\ttrain-logloss:0.23388\teval-logloss:0.24721\n",
      "[26]\ttrain-logloss:0.23330\teval-logloss:0.24686\n",
      "[27]\ttrain-logloss:0.23279\teval-logloss:0.24687\n",
      "[28]\ttrain-logloss:0.23227\teval-logloss:0.24680\n",
      "[29]\ttrain-logloss:0.23200\teval-logloss:0.24674\n",
      "[30]\ttrain-logloss:0.23172\teval-logloss:0.24670\n",
      "[31]\ttrain-logloss:0.23145\teval-logloss:0.24668\n",
      "[32]\ttrain-logloss:0.23125\teval-logloss:0.24666\n",
      "[33]\ttrain-logloss:0.23090\teval-logloss:0.24659\n",
      "[34]\ttrain-logloss:0.23041\teval-logloss:0.24653\n",
      "[35]\ttrain-logloss:0.23002\teval-logloss:0.24647\n",
      "[36]\ttrain-logloss:0.22953\teval-logloss:0.24651\n",
      "[37]\ttrain-logloss:0.22905\teval-logloss:0.24647\n",
      "[38]\ttrain-logloss:0.22887\teval-logloss:0.24645\n",
      "[39]\ttrain-logloss:0.22866\teval-logloss:0.24639\n",
      "[40]\ttrain-logloss:0.22821\teval-logloss:0.24642\n",
      "[41]\ttrain-logloss:0.22779\teval-logloss:0.24644\n",
      "[42]\ttrain-logloss:0.22736\teval-logloss:0.24644\n",
      "[43]\ttrain-logloss:0.22695\teval-logloss:0.24643\n",
      "[44]\ttrain-logloss:0.22643\teval-logloss:0.24642\n",
      "[45]\ttrain-logloss:0.22630\teval-logloss:0.24639\n"
     ]
    },
    {
     "name": "stdout",
     "output_type": "stream",
     "text": [
      "[46]\ttrain-logloss:0.22600\teval-logloss:0.24639\n",
      "[47]\ttrain-logloss:0.22576\teval-logloss:0.24641\n",
      "[48]\ttrain-logloss:0.22568\teval-logloss:0.24643\n",
      "[49]\ttrain-logloss:0.22529\teval-logloss:0.24632\n",
      "[20:40:33] WARNING: C:/Users/Administrator/workspace/xgboost-win64_release_1.6.0/src/learner.cc:627: \n",
      "Parameters: { \"silent\" } might not be used.\n",
      "\n",
      "  This could be a false alarm, with some parameters getting used by language bindings but\n",
      "  then being mistakenly passed down to XGBoost core, or some parameter actually being used\n",
      "  but getting flagged wrongly here. Please open an issue if you find any such cases.\n",
      "\n",
      "\n",
      "[0]\ttrain-logloss:0.50860\teval-logloss:0.50958\n",
      "[1]\ttrain-logloss:0.40902\teval-logloss:0.41060\n",
      "[2]\ttrain-logloss:0.34949\teval-logloss:0.35176\n",
      "[3]\ttrain-logloss:0.31245\teval-logloss:0.31526\n",
      "[4]\ttrain-logloss:0.28884\teval-logloss:0.29213\n",
      "[5]\ttrain-logloss:0.27369\teval-logloss:0.27764\n",
      "[6]\ttrain-logloss:0.26382\teval-logloss:0.26837\n",
      "[7]\ttrain-logloss:0.25731\teval-logloss:0.26234\n",
      "[8]\ttrain-logloss:0.25300\teval-logloss:0.25844\n",
      "[9]\ttrain-logloss:0.24982\teval-logloss:0.25577\n",
      "[10]\ttrain-logloss:0.24742\teval-logloss:0.25393\n",
      "[11]\ttrain-logloss:0.24569\teval-logloss:0.25271\n",
      "[12]\ttrain-logloss:0.24423\teval-logloss:0.25195\n",
      "[13]\ttrain-logloss:0.24313\teval-logloss:0.25131\n",
      "[14]\ttrain-logloss:0.24195\teval-logloss:0.25077\n",
      "[15]\ttrain-logloss:0.24079\teval-logloss:0.25022\n",
      "[16]\ttrain-logloss:0.23988\teval-logloss:0.24965\n",
      "[17]\ttrain-logloss:0.23908\teval-logloss:0.24946\n",
      "[18]\ttrain-logloss:0.23847\teval-logloss:0.24927\n",
      "[19]\ttrain-logloss:0.23784\teval-logloss:0.24914\n",
      "[20]\ttrain-logloss:0.23684\teval-logloss:0.24847\n",
      "[21]\ttrain-logloss:0.23638\teval-logloss:0.24842\n",
      "[22]\ttrain-logloss:0.23576\teval-logloss:0.24825\n",
      "[23]\ttrain-logloss:0.23519\teval-logloss:0.24825\n",
      "[24]\ttrain-logloss:0.23468\teval-logloss:0.24781\n",
      "[25]\ttrain-logloss:0.23406\teval-logloss:0.24766\n",
      "[26]\ttrain-logloss:0.23360\teval-logloss:0.24769\n",
      "[27]\ttrain-logloss:0.23333\teval-logloss:0.24762\n",
      "[28]\ttrain-logloss:0.23287\teval-logloss:0.24763\n",
      "[29]\ttrain-logloss:0.23253\teval-logloss:0.24755\n",
      "[30]\ttrain-logloss:0.23228\teval-logloss:0.24753\n",
      "[31]\ttrain-logloss:0.23164\teval-logloss:0.24715\n",
      "[32]\ttrain-logloss:0.23123\teval-logloss:0.24722\n",
      "[33]\ttrain-logloss:0.23087\teval-logloss:0.24723\n",
      "[34]\ttrain-logloss:0.23041\teval-logloss:0.24725\n",
      "[35]\ttrain-logloss:0.22998\teval-logloss:0.24721\n",
      "[36]\ttrain-logloss:0.22964\teval-logloss:0.24718\n",
      "[37]\ttrain-logloss:0.22949\teval-logloss:0.24719\n",
      "[38]\ttrain-logloss:0.22909\teval-logloss:0.24714\n",
      "[39]\ttrain-logloss:0.22884\teval-logloss:0.24710\n",
      "[40]\ttrain-logloss:0.22858\teval-logloss:0.24709\n",
      "[41]\ttrain-logloss:0.22838\teval-logloss:0.24710\n",
      "[42]\ttrain-logloss:0.22796\teval-logloss:0.24718\n",
      "[43]\ttrain-logloss:0.22779\teval-logloss:0.24716\n",
      "[44]\ttrain-logloss:0.22746\teval-logloss:0.24718\n",
      "[45]\ttrain-logloss:0.22702\teval-logloss:0.24709\n",
      "[46]\ttrain-logloss:0.22673\teval-logloss:0.24708\n",
      "[47]\ttrain-logloss:0.22656\teval-logloss:0.24708\n",
      "[48]\ttrain-logloss:0.22615\teval-logloss:0.24703\n",
      "[49]\ttrain-logloss:0.22590\teval-logloss:0.24703\n",
      "[20:40:34] WARNING: C:/Users/Administrator/workspace/xgboost-win64_release_1.6.0/src/learner.cc:627: \n",
      "Parameters: { \"silent\" } might not be used.\n",
      "\n",
      "  This could be a false alarm, with some parameters getting used by language bindings but\n",
      "  then being mistakenly passed down to XGBoost core, or some parameter actually being used\n",
      "  but getting flagged wrongly here. Please open an issue if you find any such cases.\n",
      "\n",
      "\n",
      "[0]\ttrain-logloss:0.50860\teval-logloss:0.50922\n",
      "[1]\ttrain-logloss:0.40904\teval-logloss:0.41030\n",
      "[2]\ttrain-logloss:0.34957\teval-logloss:0.35147\n",
      "[3]\ttrain-logloss:0.31246\teval-logloss:0.31506\n",
      "[4]\ttrain-logloss:0.28892\teval-logloss:0.29205\n",
      "[5]\ttrain-logloss:0.27383\teval-logloss:0.27754\n",
      "[6]\ttrain-logloss:0.26389\teval-logloss:0.26825\n",
      "[7]\ttrain-logloss:0.25737\teval-logloss:0.26228\n",
      "[8]\ttrain-logloss:0.25299\teval-logloss:0.25850\n",
      "[9]\ttrain-logloss:0.24995\teval-logloss:0.25605\n",
      "[10]\ttrain-logloss:0.24767\teval-logloss:0.25434\n",
      "[11]\ttrain-logloss:0.24587\teval-logloss:0.25304\n",
      "[12]\ttrain-logloss:0.24408\teval-logloss:0.25163\n",
      "[13]\ttrain-logloss:0.24281\teval-logloss:0.25088\n",
      "[14]\ttrain-logloss:0.24173\teval-logloss:0.25018\n",
      "[15]\ttrain-logloss:0.24079\teval-logloss:0.24989\n",
      "[16]\ttrain-logloss:0.23997\teval-logloss:0.24954\n",
      "[17]\ttrain-logloss:0.23912\teval-logloss:0.24910\n",
      "[18]\ttrain-logloss:0.23835\teval-logloss:0.24882\n",
      "[19]\ttrain-logloss:0.23771\teval-logloss:0.24853\n",
      "[20]\ttrain-logloss:0.23665\teval-logloss:0.24796\n",
      "[21]\ttrain-logloss:0.23605\teval-logloss:0.24786\n",
      "[22]\ttrain-logloss:0.23554\teval-logloss:0.24766\n",
      "[23]\ttrain-logloss:0.23497\teval-logloss:0.24760\n",
      "[24]\ttrain-logloss:0.23456\teval-logloss:0.24757\n",
      "[25]\ttrain-logloss:0.23427\teval-logloss:0.24742\n",
      "[26]\ttrain-logloss:0.23378\teval-logloss:0.24727\n",
      "[27]\ttrain-logloss:0.23340\teval-logloss:0.24730\n",
      "[28]\ttrain-logloss:0.23299\teval-logloss:0.24735\n",
      "[29]\ttrain-logloss:0.23241\teval-logloss:0.24728\n",
      "[30]\ttrain-logloss:0.23208\teval-logloss:0.24729\n",
      "[31]\ttrain-logloss:0.23167\teval-logloss:0.24725\n",
      "[32]\ttrain-logloss:0.23132\teval-logloss:0.24715\n",
      "[33]\ttrain-logloss:0.23089\teval-logloss:0.24710\n",
      "[34]\ttrain-logloss:0.23038\teval-logloss:0.24700\n",
      "[35]\ttrain-logloss:0.23020\teval-logloss:0.24694\n",
      "[36]\ttrain-logloss:0.22996\teval-logloss:0.24697\n",
      "[37]\ttrain-logloss:0.22963\teval-logloss:0.24693\n",
      "[38]\ttrain-logloss:0.22930\teval-logloss:0.24698\n",
      "[39]\ttrain-logloss:0.22895\teval-logloss:0.24701\n",
      "[40]\ttrain-logloss:0.22837\teval-logloss:0.24688\n",
      "[41]\ttrain-logloss:0.22804\teval-logloss:0.24690\n",
      "[42]\ttrain-logloss:0.22753\teval-logloss:0.24688\n",
      "[43]\ttrain-logloss:0.22693\teval-logloss:0.24685\n",
      "[44]\ttrain-logloss:0.22672\teval-logloss:0.24682\n",
      "[45]\ttrain-logloss:0.22656\teval-logloss:0.24681\n",
      "[46]\ttrain-logloss:0.22621\teval-logloss:0.24674\n",
      "[47]\ttrain-logloss:0.22582\teval-logloss:0.24681\n",
      "[48]\ttrain-logloss:0.22563\teval-logloss:0.24677\n",
      "[49]\ttrain-logloss:0.22526\teval-logloss:0.24682\n"
     ]
    }
   ],
   "source": [
    "import xgboost as xgb\n",
    "from sklearn.metrics import log_loss\n",
    "\n",
    "y_preds = []\n",
    "models = []\n",
    "scores = []\n",
    "oof_train = np.zeros((len(X_train),))\n",
    "cv = KFold(n_splits=5, shuffle=True, random_state=0)\n",
    "\n",
    "categorical_features = columns\n",
    "\n",
    "params = {\n",
    "    'objective': 'binary:logistic'\n",
    "    ,'silent': 1\n",
    "    ,'random_state': 17\n",
    "    ,'gpu_id': 0\n",
    "    ,'tree_method': 'gpu_hist'\n",
    "}\n",
    "\n",
    "num_round = 50\n",
    "\n",
    "for fold_id, (train_index, valid_index) in enumerate(cv.split(X_train)):\n",
    "    X_tr = X_train.loc[train_index, :]\n",
    "    X_val = X_train.loc[valid_index, :]\n",
    "    y_tr = y_train[train_index]\n",
    "    y_val = y_train[valid_index]\n",
    "    \n",
    "    dtrain = xgb.DMatrix(X_tr, label=y_tr)\n",
    "    dvalid = xgb.DMatrix(X_val, label=y_val)\n",
    "    dtest = xgb.DMatrix(X_test)\n",
    "    \n",
    "    watchlist = [(dtrain, 'train'), (dvalid, 'eval')]\n",
    "    model = xgb.train(params, dtrain, num_round, evals=watchlist)\n",
    "    \n",
    "    va_pred = model.predict(dvalid)\n",
    "    score = log_loss(y_val, va_pred)\n",
    "    oof_train[valid_index] = va_pred\n",
    "    \n",
    "    y_pred = model.predict(dtest) \n",
    "    \n",
    "    \n",
    "    #oof_train[valid_index] = model.predict(X_val, num_iteration=model.best_iteration)\n",
    "    #y_pred = model.predict(X_test, num_iteration=model.best_iteration)##\n",
    "\n",
    "    y_preds.append(y_pred)\n",
    "    models.append(model)\n",
    "    scores.append(score)"
   ]
  },
  {
   "cell_type": "code",
   "execution_count": 128,
   "metadata": {
    "id": "dfSRl2kgiAl0"
   },
   "outputs": [
    {
     "data": {
      "text/plain": [
       "array([0.07882938, 0.03449596, 0.02811692, ..., 0.01828944, 0.01285806,\n",
       "       0.15288727], dtype=float32)"
      ]
     },
     "execution_count": 128,
     "metadata": {},
     "output_type": "execute_result"
    }
   ],
   "source": [
    "y_pred"
   ]
  },
  {
   "cell_type": "code",
   "execution_count": 129,
   "metadata": {},
   "outputs": [
    {
     "data": {
      "text/plain": [
       "[0.24190331355525105,\n",
       " 0.24535231360578316,\n",
       " 0.2463162983886201,\n",
       " 0.24703251599489404,\n",
       " 0.2468168204274567]"
      ]
     },
     "execution_count": 129,
     "metadata": {},
     "output_type": "execute_result"
    }
   ],
   "source": [
    "scores"
   ]
  },
  {
   "cell_type": "code",
   "execution_count": 130,
   "metadata": {},
   "outputs": [],
   "source": [
    "# CSV-00\n",
    "submit_all = app_test[[\"SK_ID_CURR\"]].copy()\n",
    "# 予測確率の変数名はTARGET\n",
    "submit_all[\"TARGET\"] = y_preds[0]\n",
    "submit_all.isnull().sum()\n",
    "\n",
    "# Submit File\n",
    "submit_all.to_csv(\n",
    "    path_or_buf=\"./home-credit-default-risk/submit/submit_all_00.csv\", # 出力先\n",
    "    sep=\",\",                                            # 区切り文字\n",
    "    index=False,                                        # indexの出力有無\n",
    "    header=True                                        # headerの出力有無\n",
    ")"
   ]
  },
  {
   "cell_type": "code",
   "execution_count": 131,
   "metadata": {},
   "outputs": [],
   "source": [
    "# CSV-01\n",
    "submit_all = app_test[[\"SK_ID_CURR\"]].copy()\n",
    "# 予測確率の変数名はTARGET\n",
    "submit_all[\"TARGET\"] = y_preds[1]\n",
    "\n",
    "# Submit File\n",
    "submit_all.to_csv(\n",
    "    path_or_buf=\"./home-credit-default-risk/submit/submit_all_01.csv\", # 出力先\n",
    "    sep=\",\",                                            # 区切り文字\n",
    "    index=False,                                        # indexの出力有無\n",
    "    header=True                                        # headerの出力有無\n",
    ")"
   ]
  },
  {
   "cell_type": "code",
   "execution_count": 132,
   "metadata": {},
   "outputs": [],
   "source": [
    "# CSV-02\n",
    "submit_all = app_test[[\"SK_ID_CURR\"]].copy()\n",
    "# 予測確率の変数名はTARGET\n",
    "submit_all[\"TARGET\"] = y_preds[2]\n",
    "\n",
    "# Submit File\n",
    "submit_all.to_csv(\n",
    "    path_or_buf=\"./home-credit-default-risk/submit/submit_all_02.csv\", # 出力先\n",
    "    sep=\",\",                                            # 区切り文字\n",
    "    index=False,                                        # indexの出力有無\n",
    "    header=True                                        # headerの出力有無\n",
    ")"
   ]
  },
  {
   "cell_type": "code",
   "execution_count": 133,
   "metadata": {},
   "outputs": [],
   "source": [
    "# CSV-03\n",
    "submit_all = app_test[[\"SK_ID_CURR\"]].copy()\n",
    "# 予測確率の変数名はTARGET\n",
    "submit_all[\"TARGET\"] = y_preds[3]\n",
    "\n",
    "# Submit File\n",
    "submit_all.to_csv(\n",
    "    path_or_buf=\"./home-credit-default-risk/submit/submit_all_03.csv\", # 出力先\n",
    "    sep=\",\",                                            # 区切り文字\n",
    "    index=False,                                        # indexの出力有無\n",
    "    header=True                                        # headerの出力有無\n",
    ")"
   ]
  },
  {
   "cell_type": "code",
   "execution_count": 134,
   "metadata": {},
   "outputs": [],
   "source": [
    "# CSV-04\n",
    "submit_all = app_test[[\"SK_ID_CURR\"]].copy()\n",
    "# 予測確率の変数名はTARGET\n",
    "submit_all[\"TARGET\"] = y_preds[4]\n",
    "\n",
    "# Submit File\n",
    "submit_all.to_csv(\n",
    "    path_or_buf=\"./home-credit-default-risk/submit/submit_all_04.csv\", # 出力先\n",
    "    sep=\",\",                                            # 区切り文字\n",
    "    index=False,                                        # indexの出力有無\n",
    "    header=True                                        # headerの出力有無\n",
    ")"
   ]
  },
  {
   "cell_type": "code",
   "execution_count": 135,
   "metadata": {},
   "outputs": [],
   "source": [
    "submit_all_00 = pd.read_csv('./home-credit-default-risk/submit/submit_all_00.csv')\n",
    "submit_all_01 = pd.read_csv('./home-credit-default-risk/submit/submit_all_01.csv')\n",
    "submit_all_02 = pd.read_csv('./home-credit-default-risk/submit/submit_all_02.csv')\n",
    "submit_all_03 = pd.read_csv('./home-credit-default-risk/submit/submit_all_03.csv')\n",
    "submit_all_04 = pd.read_csv('./home-credit-default-risk/submit/submit_all_04.csv')"
   ]
  },
  {
   "cell_type": "code",
   "execution_count": 136,
   "metadata": {},
   "outputs": [
    {
     "data": {
      "text/html": [
       "<div>\n",
       "<style scoped>\n",
       "    .dataframe tbody tr th:only-of-type {\n",
       "        vertical-align: middle;\n",
       "    }\n",
       "\n",
       "    .dataframe tbody tr th {\n",
       "        vertical-align: top;\n",
       "    }\n",
       "\n",
       "    .dataframe thead th {\n",
       "        text-align: right;\n",
       "    }\n",
       "</style>\n",
       "<table border=\"1\" class=\"dataframe\">\n",
       "  <thead>\n",
       "    <tr style=\"text-align: right;\">\n",
       "      <th></th>\n",
       "      <th>submit_all_00</th>\n",
       "      <th>submit_all_01</th>\n",
       "      <th>submit_all_02</th>\n",
       "      <th>submit_all_03</th>\n",
       "      <th>submit_all_04</th>\n",
       "    </tr>\n",
       "  </thead>\n",
       "  <tbody>\n",
       "    <tr>\n",
       "      <th>0</th>\n",
       "      <td>0.021344</td>\n",
       "      <td>0.032873</td>\n",
       "      <td>0.039209</td>\n",
       "      <td>0.055079</td>\n",
       "      <td>0.078829</td>\n",
       "    </tr>\n",
       "    <tr>\n",
       "      <th>1</th>\n",
       "      <td>0.066563</td>\n",
       "      <td>0.071810</td>\n",
       "      <td>0.138997</td>\n",
       "      <td>0.077096</td>\n",
       "      <td>0.034496</td>\n",
       "    </tr>\n",
       "    <tr>\n",
       "      <th>2</th>\n",
       "      <td>0.099015</td>\n",
       "      <td>0.033426</td>\n",
       "      <td>0.015723</td>\n",
       "      <td>0.039690</td>\n",
       "      <td>0.028117</td>\n",
       "    </tr>\n",
       "    <tr>\n",
       "      <th>3</th>\n",
       "      <td>0.016440</td>\n",
       "      <td>0.016010</td>\n",
       "      <td>0.010061</td>\n",
       "      <td>0.014236</td>\n",
       "      <td>0.033641</td>\n",
       "    </tr>\n",
       "    <tr>\n",
       "      <th>4</th>\n",
       "      <td>0.112599</td>\n",
       "      <td>0.113503</td>\n",
       "      <td>0.097573</td>\n",
       "      <td>0.088630</td>\n",
       "      <td>0.096009</td>\n",
       "    </tr>\n",
       "  </tbody>\n",
       "</table>\n",
       "</div>"
      ],
      "text/plain": [
       "   submit_all_00  submit_all_01  submit_all_02  submit_all_03  submit_all_04\n",
       "0       0.021344       0.032873       0.039209       0.055079       0.078829\n",
       "1       0.066563       0.071810       0.138997       0.077096       0.034496\n",
       "2       0.099015       0.033426       0.015723       0.039690       0.028117\n",
       "3       0.016440       0.016010       0.010061       0.014236       0.033641\n",
       "4       0.112599       0.113503       0.097573       0.088630       0.096009"
      ]
     },
     "execution_count": 136,
     "metadata": {},
     "output_type": "execute_result"
    }
   ],
   "source": [
    "submit_all = pd.DataFrame({\n",
    "    'submit_all_00': submit_all_00['TARGET'].values\n",
    "    ,'submit_all_01': submit_all_01['TARGET'].values\n",
    "    ,'submit_all_02': submit_all_02['TARGET'].values\n",
    "    ,'submit_all_03': submit_all_03['TARGET'].values\n",
    "    ,'submit_all_04': submit_all_04['TARGET'].values\n",
    "    })\n",
    "submit_all.head()"
   ]
  },
  {
   "cell_type": "code",
   "execution_count": 137,
   "metadata": {},
   "outputs": [
    {
     "data": {
      "text/html": [
       "<div>\n",
       "<style scoped>\n",
       "    .dataframe tbody tr th:only-of-type {\n",
       "        vertical-align: middle;\n",
       "    }\n",
       "\n",
       "    .dataframe tbody tr th {\n",
       "        vertical-align: top;\n",
       "    }\n",
       "\n",
       "    .dataframe thead th {\n",
       "        text-align: right;\n",
       "    }\n",
       "</style>\n",
       "<table border=\"1\" class=\"dataframe\">\n",
       "  <thead>\n",
       "    <tr style=\"text-align: right;\">\n",
       "      <th></th>\n",
       "      <th>submit_all_00</th>\n",
       "      <th>submit_all_01</th>\n",
       "      <th>submit_all_02</th>\n",
       "      <th>submit_all_03</th>\n",
       "      <th>submit_all_04</th>\n",
       "    </tr>\n",
       "  </thead>\n",
       "  <tbody>\n",
       "    <tr>\n",
       "      <th>submit_all_00</th>\n",
       "      <td>1.000000</td>\n",
       "      <td>0.754094</td>\n",
       "      <td>0.774107</td>\n",
       "      <td>0.770938</td>\n",
       "      <td>0.753143</td>\n",
       "    </tr>\n",
       "    <tr>\n",
       "      <th>submit_all_01</th>\n",
       "      <td>0.754094</td>\n",
       "      <td>1.000000</td>\n",
       "      <td>0.756916</td>\n",
       "      <td>0.766009</td>\n",
       "      <td>0.752565</td>\n",
       "    </tr>\n",
       "    <tr>\n",
       "      <th>submit_all_02</th>\n",
       "      <td>0.774107</td>\n",
       "      <td>0.756916</td>\n",
       "      <td>1.000000</td>\n",
       "      <td>0.775524</td>\n",
       "      <td>0.751533</td>\n",
       "    </tr>\n",
       "    <tr>\n",
       "      <th>submit_all_03</th>\n",
       "      <td>0.770938</td>\n",
       "      <td>0.766009</td>\n",
       "      <td>0.775524</td>\n",
       "      <td>1.000000</td>\n",
       "      <td>0.778299</td>\n",
       "    </tr>\n",
       "    <tr>\n",
       "      <th>submit_all_04</th>\n",
       "      <td>0.753143</td>\n",
       "      <td>0.752565</td>\n",
       "      <td>0.751533</td>\n",
       "      <td>0.778299</td>\n",
       "      <td>1.000000</td>\n",
       "    </tr>\n",
       "  </tbody>\n",
       "</table>\n",
       "</div>"
      ],
      "text/plain": [
       "               submit_all_00  submit_all_01  submit_all_02  submit_all_03  \\\n",
       "submit_all_00       1.000000       0.754094       0.774107       0.770938   \n",
       "submit_all_01       0.754094       1.000000       0.756916       0.766009   \n",
       "submit_all_02       0.774107       0.756916       1.000000       0.775524   \n",
       "submit_all_03       0.770938       0.766009       0.775524       1.000000   \n",
       "submit_all_04       0.753143       0.752565       0.751533       0.778299   \n",
       "\n",
       "               submit_all_04  \n",
       "submit_all_00       0.753143  \n",
       "submit_all_01       0.752565  \n",
       "submit_all_02       0.751533  \n",
       "submit_all_03       0.778299  \n",
       "submit_all_04       1.000000  "
      ]
     },
     "execution_count": 137,
     "metadata": {},
     "output_type": "execute_result"
    }
   ],
   "source": [
    "submit_all.corr()"
   ]
  },
  {
   "cell_type": "code",
   "execution_count": 138,
   "metadata": {},
   "outputs": [
    {
     "data": {
      "text/html": [
       "<div>\n",
       "<style scoped>\n",
       "    .dataframe tbody tr th:only-of-type {\n",
       "        vertical-align: middle;\n",
       "    }\n",
       "\n",
       "    .dataframe tbody tr th {\n",
       "        vertical-align: top;\n",
       "    }\n",
       "\n",
       "    .dataframe thead th {\n",
       "        text-align: right;\n",
       "    }\n",
       "</style>\n",
       "<table border=\"1\" class=\"dataframe\">\n",
       "  <thead>\n",
       "    <tr style=\"text-align: right;\">\n",
       "      <th></th>\n",
       "      <th>SK_ID_CURR</th>\n",
       "      <th>TARGET</th>\n",
       "    </tr>\n",
       "  </thead>\n",
       "  <tbody>\n",
       "    <tr>\n",
       "      <th>0</th>\n",
       "      <td>100001</td>\n",
       "      <td>0.045467</td>\n",
       "    </tr>\n",
       "    <tr>\n",
       "      <th>1</th>\n",
       "      <td>100005</td>\n",
       "      <td>0.077792</td>\n",
       "    </tr>\n",
       "    <tr>\n",
       "      <th>2</th>\n",
       "      <td>100013</td>\n",
       "      <td>0.043194</td>\n",
       "    </tr>\n",
       "    <tr>\n",
       "      <th>3</th>\n",
       "      <td>100028</td>\n",
       "      <td>0.018078</td>\n",
       "    </tr>\n",
       "    <tr>\n",
       "      <th>4</th>\n",
       "      <td>100038</td>\n",
       "      <td>0.101663</td>\n",
       "    </tr>\n",
       "  </tbody>\n",
       "</table>\n",
       "</div>"
      ],
      "text/plain": [
       "   SK_ID_CURR    TARGET\n",
       "0      100001  0.045467\n",
       "1      100005  0.077792\n",
       "2      100013  0.043194\n",
       "3      100028  0.018078\n",
       "4      100038  0.101663"
      ]
     },
     "execution_count": 138,
     "metadata": {},
     "output_type": "execute_result"
    }
   ],
   "source": [
    "submit_all = app_test[[\"SK_ID_CURR\"]].copy()\n",
    "submit_all['TARGET'] = (submit_all_00['TARGET'] + submit_all_01['TARGET'] + submit_all_02['TARGET'] + submit_all_03['TARGET'] + submit_all_04['TARGET'])/5\n",
    "submit_all.head()"
   ]
  },
  {
   "cell_type": "code",
   "execution_count": 139,
   "metadata": {},
   "outputs": [
    {
     "data": {
      "text/html": [
       "<div>\n",
       "<style scoped>\n",
       "    .dataframe tbody tr th:only-of-type {\n",
       "        vertical-align: middle;\n",
       "    }\n",
       "\n",
       "    .dataframe tbody tr th {\n",
       "        vertical-align: top;\n",
       "    }\n",
       "\n",
       "    .dataframe thead th {\n",
       "        text-align: right;\n",
       "    }\n",
       "</style>\n",
       "<table border=\"1\" class=\"dataframe\">\n",
       "  <thead>\n",
       "    <tr style=\"text-align: right;\">\n",
       "      <th></th>\n",
       "      <th>SK_ID_CURR</th>\n",
       "      <th>TARGET</th>\n",
       "    </tr>\n",
       "  </thead>\n",
       "  <tbody>\n",
       "    <tr>\n",
       "      <th>0</th>\n",
       "      <td>100001</td>\n",
       "      <td>0.009093</td>\n",
       "    </tr>\n",
       "    <tr>\n",
       "      <th>1</th>\n",
       "      <td>100005</td>\n",
       "      <td>0.015558</td>\n",
       "    </tr>\n",
       "    <tr>\n",
       "      <th>2</th>\n",
       "      <td>100013</td>\n",
       "      <td>0.008639</td>\n",
       "    </tr>\n",
       "    <tr>\n",
       "      <th>3</th>\n",
       "      <td>100028</td>\n",
       "      <td>0.003616</td>\n",
       "    </tr>\n",
       "    <tr>\n",
       "      <th>4</th>\n",
       "      <td>100038</td>\n",
       "      <td>0.020333</td>\n",
       "    </tr>\n",
       "  </tbody>\n",
       "</table>\n",
       "</div>"
      ],
      "text/plain": [
       "   SK_ID_CURR    TARGET\n",
       "0      100001  0.009093\n",
       "1      100005  0.015558\n",
       "2      100013  0.008639\n",
       "3      100028  0.003616\n",
       "4      100038  0.020333"
      ]
     },
     "execution_count": 139,
     "metadata": {},
     "output_type": "execute_result"
    }
   ],
   "source": [
    "submit_all['TARGET'] = (submit_all['TARGET'] / 5)\n",
    "submit_all.to_csv('./home-credit-default-risk/submit/submit_br_main_test.csv', index=False)\n",
    "submit_all.head()"
   ]
  },
  {
   "cell_type": "code",
   "execution_count": 140,
   "metadata": {},
   "outputs": [
    {
     "data": {
      "text/plain": [
       "SK_ID_CURR    48744\n",
       "TARGET        48744\n",
       "dtype: int64"
      ]
     },
     "execution_count": 140,
     "metadata": {},
     "output_type": "execute_result"
    }
   ],
   "source": [
    "submit_all.count()"
   ]
  },
  {
   "cell_type": "code",
   "execution_count": null,
   "metadata": {},
   "outputs": [],
   "source": []
  },
  {
   "cell_type": "code",
   "execution_count": null,
   "metadata": {},
   "outputs": [],
   "source": []
  },
  {
   "cell_type": "code",
   "execution_count": null,
   "metadata": {},
   "outputs": [],
   "source": []
  },
  {
   "cell_type": "code",
   "execution_count": null,
   "metadata": {},
   "outputs": [],
   "source": []
  }
 ],
 "metadata": {
  "colab": {
   "authorship_tag": "ABX9TyNiFA6jmxKpYkiUhklAKAyP",
   "collapsed_sections": [],
   "name": "home-credit-risk_bureau-res-003.ipynb",
   "provenance": []
  },
  "kernelspec": {
   "display_name": "Python 3 (ipykernel)",
   "language": "python",
   "name": "python3"
  },
  "language_info": {
   "codemirror_mode": {
    "name": "ipython",
    "version": 3
   },
   "file_extension": ".py",
   "mimetype": "text/x-python",
   "name": "python",
   "nbconvert_exporter": "python",
   "pygments_lexer": "ipython3",
   "version": "3.9.7"
  }
 },
 "nbformat": 4,
 "nbformat_minor": 1
}
