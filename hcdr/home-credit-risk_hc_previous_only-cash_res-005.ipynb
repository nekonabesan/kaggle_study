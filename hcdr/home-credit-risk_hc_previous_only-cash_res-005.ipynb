{
 "cells": [
  {
   "cell_type": "code",
   "execution_count": 1,
   "id": "074409fa",
   "metadata": {},
   "outputs": [],
   "source": [
    "# from google.colab import drive\n",
    "# drive.mount('/content/drive')"
   ]
  },
  {
   "cell_type": "code",
   "execution_count": 2,
   "id": "bf88b8fb",
   "metadata": {},
   "outputs": [],
   "source": [
    "# %cd /content/drive/MyDrive/"
   ]
  },
  {
   "cell_type": "code",
   "execution_count": 3,
   "id": "eb856bdd",
   "metadata": {},
   "outputs": [
    {
     "data": {
      "text/plain": [
       "[name: \"/device:CPU:0\"\n",
       " device_type: \"CPU\"\n",
       " memory_limit: 268435456\n",
       " locality {\n",
       " }\n",
       " incarnation: 216304336026729255\n",
       " xla_global_id: -1,\n",
       " name: \"/device:GPU:0\"\n",
       " device_type: \"GPU\"\n",
       " memory_limit: 1745276110\n",
       " locality {\n",
       "   bus_id: 1\n",
       "   links {\n",
       "   }\n",
       " }\n",
       " incarnation: 10090861324575999608\n",
       " physical_device_desc: \"device: 0, name: NVIDIA RTX A2000 Laptop GPU, pci bus id: 0000:01:00.0, compute capability: 8.6\"\n",
       " xla_global_id: 416903419]"
      ]
     },
     "execution_count": 3,
     "metadata": {},
     "output_type": "execute_result"
    }
   ],
   "source": [
    "from tensorflow.python.client import device_lib\n",
    "device_lib.list_local_devices()"
   ]
  },
  {
   "cell_type": "code",
   "execution_count": 4,
   "id": "80924b9b",
   "metadata": {},
   "outputs": [
    {
     "name": "stdout",
     "output_type": "stream",
     "text": [
      "OK\n",
      "\n"
     ]
    }
   ],
   "source": [
    "import pandas as pd\n",
    "#import pandas_profiling\n",
    "import numpy as np\n",
    "import cupy as cp\n",
    "from sklearn.model_selection import train_test_split\n",
    "import lightgbm as lgb\n",
    "import matplotlib.pyplot as plt\n",
    "import seaborn as sns\n",
    "from sklearn.model_selection import KFold\n",
    "from sklearn import metrics\n",
    "from sklearn.metrics import accuracy_score\n",
    "from sklearn.model_selection import train_test_split\n",
    "from sklearn.preprocessing import LabelEncoder\n",
    "from sklearn.preprocessing import StandardScaler\n",
    "from sklearn.tree import DecisionTreeClassifier, export_graphviz\n",
    "from sklearn.metrics import roc_auc_score\n",
    "from sklearn.tree import plot_tree\n",
    "\n",
    "from six import StringIO\n",
    "\n",
    "from IPython.display import Image\n",
    "import matplotlib.pyplot as plt\n",
    "import seaborn as sns\n",
    "\n",
    "import statsmodels.api as sm\n",
    "import math\n",
    "from scipy import stats\n",
    "import numpy as np\n",
    "import optuna.integration.lightgbm as lgb\n",
    "import pandas as pd\n",
    "import tensorflow as tf\n",
    "\n",
    "from datetime import datetime\n",
    "from tensorflow import feature_column\n",
    "from tensorflow.keras import layers\n",
    "\n",
    "print(\"OK\\n\")"
   ]
  },
  {
   "cell_type": "code",
   "execution_count": 5,
   "id": "326da3ba",
   "metadata": {},
   "outputs": [],
   "source": [
    "application_train_origin = pd.read_csv('./home-credit-default-risk/application_train.csv')\n",
    "application_test_origin =  pd.read_csv('./home-credit-default-risk/application_test.csv')\n",
    "#bureau_origin = pd.read_csv('./home-credit-default-risk/bureau.csv')\n",
    "#bureau_balance_origin = pd.read_csv('./home-credit-default-risk/bureau_balance.csv')\n",
    "pos_cash_balance_origin = pd.read_csv('./home-credit-default-risk/POS_CASH_balance.csv')\n",
    "#credit_card_balance_origin = pd.read_csv('./home-credit-default-risk/credit_card_balance.csv')\n",
    "previous_application_origin = pd.read_csv('./home-credit-default-risk/previous_application.csv')\n",
    "installments_payments_origin = pd.read_csv('./home-credit-default-risk/installments_payments.csv')\n",
    "# custo data\n",
    "app_train_loan_from_hc_only_cash_origin = pd.read_csv('./home-credit-default-risk/datasets/app_train_loan_from_hc_only_cash.csv')\n",
    "app_test_loan_from_hc_only_cash_origin = pd.read_csv('./home-credit-default-risk/datasets/app_test_loan_from_hc_only_cash.csv')\n",
    "app_train_1000_mean_origin = pd.read_csv('./home-credit-default-risk/exports/train_hc_only_cash_installment_payment_ratio_1000_mean_mean.csv')\n",
    "app_test_1000_mean_origin = pd.read_csv('./home-credit-default-risk/exports/test_hc_only_cash_installment_payment_ratio_1000_mean_mean.csv')"
   ]
  },
  {
   "cell_type": "code",
   "execution_count": 6,
   "id": "c586b0dc",
   "metadata": {},
   "outputs": [],
   "source": [
    "app_train = application_train_origin.copy()\n",
    "app_test = application_test_origin.copy()\n",
    "pos_cash_balance = pos_cash_balance_origin.copy()\n",
    "previous_application = previous_application_origin.copy()\n",
    "installments_payments = installments_payments_origin.copy()\n",
    "app_train_cash = app_train_loan_from_hc_only_cash_origin.copy()\n",
    "app_test_cash = app_test_loan_from_hc_only_cash_origin.copy()\n",
    "app_train_1000_mean = app_train_1000_mean_origin.copy()\n",
    "app_test_1000_mean = app_test_1000_mean_origin.copy()"
   ]
  },
  {
   "cell_type": "code",
   "execution_count": 7,
   "id": "de8d69ab",
   "metadata": {},
   "outputs": [
    {
     "data": {
      "text/html": [
       "<div>\n",
       "<style scoped>\n",
       "    .dataframe tbody tr th:only-of-type {\n",
       "        vertical-align: middle;\n",
       "    }\n",
       "\n",
       "    .dataframe tbody tr th {\n",
       "        vertical-align: top;\n",
       "    }\n",
       "\n",
       "    .dataframe thead th {\n",
       "        text-align: right;\n",
       "    }\n",
       "</style>\n",
       "<table border=\"1\" class=\"dataframe\">\n",
       "  <thead>\n",
       "    <tr style=\"text-align: right;\">\n",
       "      <th></th>\n",
       "      <th>SK_ID_CURR</th>\n",
       "      <th>TARGET</th>\n",
       "      <th>NAME_CONTRACT_TYPE</th>\n",
       "      <th>CODE_GENDER</th>\n",
       "      <th>FLAG_OWN_CAR</th>\n",
       "      <th>FLAG_OWN_REALTY</th>\n",
       "      <th>CNT_CHILDREN</th>\n",
       "      <th>AMT_INCOME_TOTAL</th>\n",
       "      <th>AMT_CREDIT</th>\n",
       "      <th>AMT_ANNUITY</th>\n",
       "      <th>...</th>\n",
       "      <th>FLAG_DOCUMENT_18</th>\n",
       "      <th>FLAG_DOCUMENT_19</th>\n",
       "      <th>FLAG_DOCUMENT_20</th>\n",
       "      <th>FLAG_DOCUMENT_21</th>\n",
       "      <th>AMT_REQ_CREDIT_BUREAU_HOUR</th>\n",
       "      <th>AMT_REQ_CREDIT_BUREAU_DAY</th>\n",
       "      <th>AMT_REQ_CREDIT_BUREAU_WEEK</th>\n",
       "      <th>AMT_REQ_CREDIT_BUREAU_MON</th>\n",
       "      <th>AMT_REQ_CREDIT_BUREAU_QRT</th>\n",
       "      <th>AMT_REQ_CREDIT_BUREAU_YEAR</th>\n",
       "    </tr>\n",
       "  </thead>\n",
       "  <tbody>\n",
       "    <tr>\n",
       "      <th>0</th>\n",
       "      <td>100002</td>\n",
       "      <td>1</td>\n",
       "      <td>Cash loans</td>\n",
       "      <td>M</td>\n",
       "      <td>N</td>\n",
       "      <td>Y</td>\n",
       "      <td>0</td>\n",
       "      <td>202500.0</td>\n",
       "      <td>406597.5</td>\n",
       "      <td>24700.5</td>\n",
       "      <td>...</td>\n",
       "      <td>0</td>\n",
       "      <td>0</td>\n",
       "      <td>0</td>\n",
       "      <td>0</td>\n",
       "      <td>0.0</td>\n",
       "      <td>0.0</td>\n",
       "      <td>0.0</td>\n",
       "      <td>0.0</td>\n",
       "      <td>0.0</td>\n",
       "      <td>1.0</td>\n",
       "    </tr>\n",
       "    <tr>\n",
       "      <th>1</th>\n",
       "      <td>100003</td>\n",
       "      <td>0</td>\n",
       "      <td>Cash loans</td>\n",
       "      <td>F</td>\n",
       "      <td>N</td>\n",
       "      <td>N</td>\n",
       "      <td>0</td>\n",
       "      <td>270000.0</td>\n",
       "      <td>1293502.5</td>\n",
       "      <td>35698.5</td>\n",
       "      <td>...</td>\n",
       "      <td>0</td>\n",
       "      <td>0</td>\n",
       "      <td>0</td>\n",
       "      <td>0</td>\n",
       "      <td>0.0</td>\n",
       "      <td>0.0</td>\n",
       "      <td>0.0</td>\n",
       "      <td>0.0</td>\n",
       "      <td>0.0</td>\n",
       "      <td>0.0</td>\n",
       "    </tr>\n",
       "    <tr>\n",
       "      <th>2</th>\n",
       "      <td>100004</td>\n",
       "      <td>0</td>\n",
       "      <td>Revolving loans</td>\n",
       "      <td>M</td>\n",
       "      <td>Y</td>\n",
       "      <td>Y</td>\n",
       "      <td>0</td>\n",
       "      <td>67500.0</td>\n",
       "      <td>135000.0</td>\n",
       "      <td>6750.0</td>\n",
       "      <td>...</td>\n",
       "      <td>0</td>\n",
       "      <td>0</td>\n",
       "      <td>0</td>\n",
       "      <td>0</td>\n",
       "      <td>0.0</td>\n",
       "      <td>0.0</td>\n",
       "      <td>0.0</td>\n",
       "      <td>0.0</td>\n",
       "      <td>0.0</td>\n",
       "      <td>0.0</td>\n",
       "    </tr>\n",
       "    <tr>\n",
       "      <th>3</th>\n",
       "      <td>100006</td>\n",
       "      <td>0</td>\n",
       "      <td>Cash loans</td>\n",
       "      <td>F</td>\n",
       "      <td>N</td>\n",
       "      <td>Y</td>\n",
       "      <td>0</td>\n",
       "      <td>135000.0</td>\n",
       "      <td>312682.5</td>\n",
       "      <td>29686.5</td>\n",
       "      <td>...</td>\n",
       "      <td>0</td>\n",
       "      <td>0</td>\n",
       "      <td>0</td>\n",
       "      <td>0</td>\n",
       "      <td>NaN</td>\n",
       "      <td>NaN</td>\n",
       "      <td>NaN</td>\n",
       "      <td>NaN</td>\n",
       "      <td>NaN</td>\n",
       "      <td>NaN</td>\n",
       "    </tr>\n",
       "    <tr>\n",
       "      <th>4</th>\n",
       "      <td>100007</td>\n",
       "      <td>0</td>\n",
       "      <td>Cash loans</td>\n",
       "      <td>M</td>\n",
       "      <td>N</td>\n",
       "      <td>Y</td>\n",
       "      <td>0</td>\n",
       "      <td>121500.0</td>\n",
       "      <td>513000.0</td>\n",
       "      <td>21865.5</td>\n",
       "      <td>...</td>\n",
       "      <td>0</td>\n",
       "      <td>0</td>\n",
       "      <td>0</td>\n",
       "      <td>0</td>\n",
       "      <td>0.0</td>\n",
       "      <td>0.0</td>\n",
       "      <td>0.0</td>\n",
       "      <td>0.0</td>\n",
       "      <td>0.0</td>\n",
       "      <td>0.0</td>\n",
       "    </tr>\n",
       "  </tbody>\n",
       "</table>\n",
       "<p>5 rows × 122 columns</p>\n",
       "</div>"
      ],
      "text/plain": [
       "   SK_ID_CURR  TARGET NAME_CONTRACT_TYPE CODE_GENDER FLAG_OWN_CAR  \\\n",
       "0      100002       1         Cash loans           M            N   \n",
       "1      100003       0         Cash loans           F            N   \n",
       "2      100004       0    Revolving loans           M            Y   \n",
       "3      100006       0         Cash loans           F            N   \n",
       "4      100007       0         Cash loans           M            N   \n",
       "\n",
       "  FLAG_OWN_REALTY  CNT_CHILDREN  AMT_INCOME_TOTAL  AMT_CREDIT  AMT_ANNUITY  \\\n",
       "0               Y             0          202500.0    406597.5      24700.5   \n",
       "1               N             0          270000.0   1293502.5      35698.5   \n",
       "2               Y             0           67500.0    135000.0       6750.0   \n",
       "3               Y             0          135000.0    312682.5      29686.5   \n",
       "4               Y             0          121500.0    513000.0      21865.5   \n",
       "\n",
       "   ...  FLAG_DOCUMENT_18 FLAG_DOCUMENT_19 FLAG_DOCUMENT_20 FLAG_DOCUMENT_21  \\\n",
       "0  ...                 0                0                0                0   \n",
       "1  ...                 0                0                0                0   \n",
       "2  ...                 0                0                0                0   \n",
       "3  ...                 0                0                0                0   \n",
       "4  ...                 0                0                0                0   \n",
       "\n",
       "  AMT_REQ_CREDIT_BUREAU_HOUR AMT_REQ_CREDIT_BUREAU_DAY  \\\n",
       "0                        0.0                       0.0   \n",
       "1                        0.0                       0.0   \n",
       "2                        0.0                       0.0   \n",
       "3                        NaN                       NaN   \n",
       "4                        0.0                       0.0   \n",
       "\n",
       "   AMT_REQ_CREDIT_BUREAU_WEEK  AMT_REQ_CREDIT_BUREAU_MON  \\\n",
       "0                         0.0                        0.0   \n",
       "1                         0.0                        0.0   \n",
       "2                         0.0                        0.0   \n",
       "3                         NaN                        NaN   \n",
       "4                         0.0                        0.0   \n",
       "\n",
       "   AMT_REQ_CREDIT_BUREAU_QRT  AMT_REQ_CREDIT_BUREAU_YEAR  \n",
       "0                        0.0                         1.0  \n",
       "1                        0.0                         0.0  \n",
       "2                        0.0                         0.0  \n",
       "3                        NaN                         NaN  \n",
       "4                        0.0                         0.0  \n",
       "\n",
       "[5 rows x 122 columns]"
      ]
     },
     "execution_count": 7,
     "metadata": {},
     "output_type": "execute_result"
    }
   ],
   "source": [
    "app_train.head()"
   ]
  },
  {
   "cell_type": "markdown",
   "id": "98b4fdef",
   "metadata": {},
   "source": [
    "### applicationの複製"
   ]
  },
  {
   "cell_type": "code",
   "execution_count": 8,
   "id": "de76e770",
   "metadata": {},
   "outputs": [
    {
     "data": {
      "text/plain": [
       "48744"
      ]
     },
     "execution_count": 8,
     "metadata": {},
     "output_type": "execute_result"
    }
   ],
   "source": [
    "app_train = app_train[['SK_ID_CURR','TARGET','EXT_SOURCE_1','EXT_SOURCE_2','EXT_SOURCE_3']].copy()\n",
    "app_test = app_test[['SK_ID_CURR','EXT_SOURCE_1','EXT_SOURCE_2','EXT_SOURCE_3']].copy()\n",
    "len(app_test)"
   ]
  },
  {
   "cell_type": "code",
   "execution_count": 9,
   "id": "93802c05",
   "metadata": {},
   "outputs": [
    {
     "data": {
      "text/html": [
       "<div>\n",
       "<style scoped>\n",
       "    .dataframe tbody tr th:only-of-type {\n",
       "        vertical-align: middle;\n",
       "    }\n",
       "\n",
       "    .dataframe tbody tr th {\n",
       "        vertical-align: top;\n",
       "    }\n",
       "\n",
       "    .dataframe thead th {\n",
       "        text-align: right;\n",
       "    }\n",
       "</style>\n",
       "<table border=\"1\" class=\"dataframe\">\n",
       "  <thead>\n",
       "    <tr style=\"text-align: right;\">\n",
       "      <th></th>\n",
       "      <th>SK_ID_CURR</th>\n",
       "      <th>TARGET</th>\n",
       "      <th>EXT_SOURCE_1</th>\n",
       "      <th>EXT_SOURCE_2</th>\n",
       "      <th>EXT_SOURCE_3</th>\n",
       "    </tr>\n",
       "  </thead>\n",
       "  <tbody>\n",
       "    <tr>\n",
       "      <th>0</th>\n",
       "      <td>100002</td>\n",
       "      <td>1</td>\n",
       "      <td>0.083037</td>\n",
       "      <td>0.262949</td>\n",
       "      <td>0.139376</td>\n",
       "    </tr>\n",
       "    <tr>\n",
       "      <th>1</th>\n",
       "      <td>100003</td>\n",
       "      <td>0</td>\n",
       "      <td>0.311267</td>\n",
       "      <td>0.622246</td>\n",
       "      <td>NaN</td>\n",
       "    </tr>\n",
       "    <tr>\n",
       "      <th>2</th>\n",
       "      <td>100004</td>\n",
       "      <td>0</td>\n",
       "      <td>NaN</td>\n",
       "      <td>0.555912</td>\n",
       "      <td>0.729567</td>\n",
       "    </tr>\n",
       "    <tr>\n",
       "      <th>3</th>\n",
       "      <td>100006</td>\n",
       "      <td>0</td>\n",
       "      <td>NaN</td>\n",
       "      <td>0.650442</td>\n",
       "      <td>NaN</td>\n",
       "    </tr>\n",
       "    <tr>\n",
       "      <th>4</th>\n",
       "      <td>100007</td>\n",
       "      <td>0</td>\n",
       "      <td>NaN</td>\n",
       "      <td>0.322738</td>\n",
       "      <td>NaN</td>\n",
       "    </tr>\n",
       "  </tbody>\n",
       "</table>\n",
       "</div>"
      ],
      "text/plain": [
       "   SK_ID_CURR  TARGET  EXT_SOURCE_1  EXT_SOURCE_2  EXT_SOURCE_3\n",
       "0      100002       1      0.083037      0.262949      0.139376\n",
       "1      100003       0      0.311267      0.622246           NaN\n",
       "2      100004       0           NaN      0.555912      0.729567\n",
       "3      100006       0           NaN      0.650442           NaN\n",
       "4      100007       0           NaN      0.322738           NaN"
      ]
     },
     "execution_count": 9,
     "metadata": {},
     "output_type": "execute_result"
    }
   ],
   "source": [
    "app_train.head()"
   ]
  },
  {
   "cell_type": "code",
   "execution_count": 10,
   "id": "b3d483c5",
   "metadata": {},
   "outputs": [
    {
     "data": {
      "text/plain": [
       "34012"
      ]
     },
     "execution_count": 10,
     "metadata": {},
     "output_type": "execute_result"
    }
   ],
   "source": [
    "app_train_cash = app_train_cash.rename(columns={'sk_id_curr': 'SK_ID_CURR'})\n",
    "app_test_cash = app_test_cash.rename(columns={'sk_id_curr': 'SK_ID_CURR'})\n",
    "len(app_train_cash)"
   ]
  },
  {
   "cell_type": "code",
   "execution_count": 11,
   "id": "e3d3e06a",
   "metadata": {},
   "outputs": [
    {
     "data": {
      "text/plain": [
       "307511"
      ]
     },
     "execution_count": 11,
     "metadata": {},
     "output_type": "execute_result"
    }
   ],
   "source": [
    "# trainへマージ\n",
    "app_train = pd.merge(app_train, app_train_cash, on='SK_ID_CURR', how='left')\n",
    "# testへマージ\n",
    "app_test = pd.merge(app_test, app_test_cash, on='SK_ID_CURR', how='left')\n",
    "len(app_train)"
   ]
  },
  {
   "cell_type": "code",
   "execution_count": 12,
   "id": "e0818a4a",
   "metadata": {},
   "outputs": [
    {
     "data": {
      "text/html": [
       "<div>\n",
       "<style scoped>\n",
       "    .dataframe tbody tr th:only-of-type {\n",
       "        vertical-align: middle;\n",
       "    }\n",
       "\n",
       "    .dataframe tbody tr th {\n",
       "        vertical-align: top;\n",
       "    }\n",
       "\n",
       "    .dataframe thead th {\n",
       "        text-align: right;\n",
       "    }\n",
       "</style>\n",
       "<table border=\"1\" class=\"dataframe\">\n",
       "  <thead>\n",
       "    <tr style=\"text-align: right;\">\n",
       "      <th></th>\n",
       "      <th>SK_ID_CURR</th>\n",
       "      <th>installment_payment_ratio_1000_mean_mean</th>\n",
       "    </tr>\n",
       "  </thead>\n",
       "  <tbody>\n",
       "    <tr>\n",
       "      <th>0</th>\n",
       "      <td>100003</td>\n",
       "      <td>0.000000</td>\n",
       "    </tr>\n",
       "    <tr>\n",
       "      <th>1</th>\n",
       "      <td>100006</td>\n",
       "      <td>0.000000</td>\n",
       "    </tr>\n",
       "    <tr>\n",
       "      <th>2</th>\n",
       "      <td>100007</td>\n",
       "      <td>0.000000</td>\n",
       "    </tr>\n",
       "    <tr>\n",
       "      <th>3</th>\n",
       "      <td>100008</td>\n",
       "      <td>0.000000</td>\n",
       "    </tr>\n",
       "    <tr>\n",
       "      <th>4</th>\n",
       "      <td>100011</td>\n",
       "      <td>-7066.669355</td>\n",
       "    </tr>\n",
       "  </tbody>\n",
       "</table>\n",
       "</div>"
      ],
      "text/plain": [
       "   SK_ID_CURR  installment_payment_ratio_1000_mean_mean\n",
       "0      100003                                  0.000000\n",
       "1      100006                                  0.000000\n",
       "2      100007                                  0.000000\n",
       "3      100008                                  0.000000\n",
       "4      100011                              -7066.669355"
      ]
     },
     "execution_count": 12,
     "metadata": {},
     "output_type": "execute_result"
    }
   ],
   "source": [
    "app_train_1000_mean = app_train_1000_mean.rename(columns={'sk_id_curr': 'SK_ID_CURR'})\n",
    "app_test_1000_mean = app_test_1000_mean.rename(columns={'sk_id_curr': 'SK_ID_CURR'})\n",
    "app_train_1000_mean.head()"
   ]
  },
  {
   "cell_type": "code",
   "execution_count": 13,
   "id": "80d7425d",
   "metadata": {},
   "outputs": [],
   "source": [
    "#app_train_1000_mean.drop(['sk_id_prev'], axis=1, inplace=True)\n",
    "#app_test_1000_mean.drop(['sk_id_prev'], axis=1, inplace=True)\n",
    "#app_train_1000_mean.head()"
   ]
  },
  {
   "cell_type": "code",
   "execution_count": 14,
   "id": "28ef3529",
   "metadata": {},
   "outputs": [
    {
     "data": {
      "text/plain": [
       "307511"
      ]
     },
     "execution_count": 14,
     "metadata": {},
     "output_type": "execute_result"
    }
   ],
   "source": [
    "# trainへマージ\n",
    "app_train = pd.merge(app_train, app_train_1000_mean, on='SK_ID_CURR', how='left')\n",
    "# testへマージ\n",
    "app_test = pd.merge(app_test, app_test_1000_mean, on='SK_ID_CURR', how='left')\n",
    "len(app_train)"
   ]
  },
  {
   "cell_type": "code",
   "execution_count": 15,
   "id": "4af7abb0",
   "metadata": {},
   "outputs": [
    {
     "data": {
      "text/plain": [
       "0                 NaN\n",
       "1            0.000000\n",
       "2                 NaN\n",
       "3            0.000000\n",
       "4            0.000000\n",
       "             ...     \n",
       "307506            NaN\n",
       "307507            NaN\n",
       "307508            NaN\n",
       "307509            NaN\n",
       "307510    9014.333365\n",
       "Name: installment_payment_ratio_1000_mean_mean, Length: 307511, dtype: float64"
      ]
     },
     "execution_count": 15,
     "metadata": {},
     "output_type": "execute_result"
    }
   ],
   "source": [
    "app_train['installment_payment_ratio_1000_mean_mean']"
   ]
  },
  {
   "cell_type": "code",
   "execution_count": 16,
   "id": "c0f00c4b",
   "metadata": {},
   "outputs": [
    {
     "data": {
      "text/plain": [
       "193123"
      ]
     },
     "execution_count": 16,
     "metadata": {},
     "output_type": "execute_result"
    }
   ],
   "source": [
    "app_train['installment_payment_ratio_1000_mean_mean'].isnull().sum()"
   ]
  },
  {
   "cell_type": "code",
   "execution_count": 17,
   "id": "4a87c74e",
   "metadata": {},
   "outputs": [],
   "source": [
    "#app_train['amt_annuity'].fillna(0, inplace=True)\n",
    "#app_test['amt_annuity'].fillna(0, inplace=True)"
   ]
  },
  {
   "cell_type": "code",
   "execution_count": 18,
   "id": "22d3b757",
   "metadata": {},
   "outputs": [
    {
     "data": {
      "text/plain": [
       "273499"
      ]
     },
     "execution_count": 18,
     "metadata": {},
     "output_type": "execute_result"
    }
   ],
   "source": [
    "app_train['amt_annuity'].isnull().sum()"
   ]
  },
  {
   "cell_type": "markdown",
   "id": "2d612127",
   "metadata": {},
   "source": [
    "### AMT_ANNUITY(ローン支払い額)"
   ]
  },
  {
   "cell_type": "code",
   "execution_count": 19,
   "id": "8b3f9319",
   "metadata": {},
   "outputs": [
    {
     "data": {
      "text/plain": [
       "nan"
      ]
     },
     "execution_count": 19,
     "metadata": {},
     "output_type": "execute_result"
    }
   ],
   "source": [
    "max(app_train['amt_annuity'])"
   ]
  },
  {
   "cell_type": "code",
   "execution_count": 20,
   "id": "7af685ff",
   "metadata": {},
   "outputs": [
    {
     "data": {
      "text/plain": [
       "nan"
      ]
     },
     "execution_count": 20,
     "metadata": {},
     "output_type": "execute_result"
    }
   ],
   "source": [
    "min(app_train['amt_annuity'])"
   ]
  },
  {
   "cell_type": "code",
   "execution_count": 21,
   "id": "8ab5de5a",
   "metadata": {},
   "outputs": [
    {
     "data": {
      "text/html": [
       "<div>\n",
       "<style scoped>\n",
       "    .dataframe tbody tr th:only-of-type {\n",
       "        vertical-align: middle;\n",
       "    }\n",
       "\n",
       "    .dataframe tbody tr th {\n",
       "        vertical-align: top;\n",
       "    }\n",
       "\n",
       "    .dataframe thead th {\n",
       "        text-align: right;\n",
       "    }\n",
       "</style>\n",
       "<table border=\"1\" class=\"dataframe\">\n",
       "  <thead>\n",
       "    <tr style=\"text-align: right;\">\n",
       "      <th></th>\n",
       "      <th>amt_annuity</th>\n",
       "      <th>TARGET</th>\n",
       "    </tr>\n",
       "  </thead>\n",
       "  <tbody>\n",
       "    <tr>\n",
       "      <th>amt_annuity</th>\n",
       "      <td>1.000000</td>\n",
       "      <td>-0.036369</td>\n",
       "    </tr>\n",
       "    <tr>\n",
       "      <th>TARGET</th>\n",
       "      <td>-0.036369</td>\n",
       "      <td>1.000000</td>\n",
       "    </tr>\n",
       "  </tbody>\n",
       "</table>\n",
       "</div>"
      ],
      "text/plain": [
       "             amt_annuity    TARGET\n",
       "amt_annuity     1.000000 -0.036369\n",
       "TARGET         -0.036369  1.000000"
      ]
     },
     "execution_count": 21,
     "metadata": {},
     "output_type": "execute_result"
    }
   ],
   "source": [
    "app_train[['amt_annuity', 'TARGET']].corr()"
   ]
  },
  {
   "cell_type": "markdown",
   "id": "77493d7c",
   "metadata": {},
   "source": [
    "### AMT_APPLICATION|借り入れ申し込み金額|"
   ]
  },
  {
   "cell_type": "code",
   "execution_count": 22,
   "id": "11dc9824",
   "metadata": {},
   "outputs": [],
   "source": [
    "#app_train['amt_application'].fillna(0, inplace=True)\n",
    "#app_test['amt_application'].fillna(0, inplace=True)"
   ]
  },
  {
   "cell_type": "code",
   "execution_count": 23,
   "id": "6b3b6d3e",
   "metadata": {},
   "outputs": [
    {
     "data": {
      "text/html": [
       "<div>\n",
       "<style scoped>\n",
       "    .dataframe tbody tr th:only-of-type {\n",
       "        vertical-align: middle;\n",
       "    }\n",
       "\n",
       "    .dataframe tbody tr th {\n",
       "        vertical-align: top;\n",
       "    }\n",
       "\n",
       "    .dataframe thead th {\n",
       "        text-align: right;\n",
       "    }\n",
       "</style>\n",
       "<table border=\"1\" class=\"dataframe\">\n",
       "  <thead>\n",
       "    <tr style=\"text-align: right;\">\n",
       "      <th></th>\n",
       "      <th>amt_application</th>\n",
       "      <th>TARGET</th>\n",
       "    </tr>\n",
       "  </thead>\n",
       "  <tbody>\n",
       "    <tr>\n",
       "      <th>amt_application</th>\n",
       "      <td>1.00000</td>\n",
       "      <td>-0.01506</td>\n",
       "    </tr>\n",
       "    <tr>\n",
       "      <th>TARGET</th>\n",
       "      <td>-0.01506</td>\n",
       "      <td>1.00000</td>\n",
       "    </tr>\n",
       "  </tbody>\n",
       "</table>\n",
       "</div>"
      ],
      "text/plain": [
       "                 amt_application   TARGET\n",
       "amt_application          1.00000 -0.01506\n",
       "TARGET                  -0.01506  1.00000"
      ]
     },
     "execution_count": 23,
     "metadata": {},
     "output_type": "execute_result"
    }
   ],
   "source": [
    "app_train[['amt_application', 'TARGET']].corr()"
   ]
  },
  {
   "cell_type": "markdown",
   "id": "63593d37",
   "metadata": {},
   "source": [
    "### AMT_CREDIT(借り入れ承認金額(最終的な貸付金額))"
   ]
  },
  {
   "cell_type": "code",
   "execution_count": 24,
   "id": "2ee52722",
   "metadata": {},
   "outputs": [
    {
     "data": {
      "text/plain": [
       "nan"
      ]
     },
     "execution_count": 24,
     "metadata": {},
     "output_type": "execute_result"
    }
   ],
   "source": [
    "max(app_train['amt_credit'])"
   ]
  },
  {
   "cell_type": "code",
   "execution_count": 25,
   "id": "2a30f4d8",
   "metadata": {},
   "outputs": [
    {
     "data": {
      "text/plain": [
       "nan"
      ]
     },
     "execution_count": 25,
     "metadata": {},
     "output_type": "execute_result"
    }
   ],
   "source": [
    "min(app_train['amt_credit'])"
   ]
  },
  {
   "cell_type": "code",
   "execution_count": 26,
   "id": "80d48903",
   "metadata": {},
   "outputs": [
    {
     "data": {
      "text/html": [
       "<div>\n",
       "<style scoped>\n",
       "    .dataframe tbody tr th:only-of-type {\n",
       "        vertical-align: middle;\n",
       "    }\n",
       "\n",
       "    .dataframe tbody tr th {\n",
       "        vertical-align: top;\n",
       "    }\n",
       "\n",
       "    .dataframe thead th {\n",
       "        text-align: right;\n",
       "    }\n",
       "</style>\n",
       "<table border=\"1\" class=\"dataframe\">\n",
       "  <thead>\n",
       "    <tr style=\"text-align: right;\">\n",
       "      <th></th>\n",
       "      <th>amt_credit</th>\n",
       "      <th>TARGET</th>\n",
       "    </tr>\n",
       "  </thead>\n",
       "  <tbody>\n",
       "    <tr>\n",
       "      <th>amt_credit</th>\n",
       "      <td>1.000000</td>\n",
       "      <td>-0.008921</td>\n",
       "    </tr>\n",
       "    <tr>\n",
       "      <th>TARGET</th>\n",
       "      <td>-0.008921</td>\n",
       "      <td>1.000000</td>\n",
       "    </tr>\n",
       "  </tbody>\n",
       "</table>\n",
       "</div>"
      ],
      "text/plain": [
       "            amt_credit    TARGET\n",
       "amt_credit    1.000000 -0.008921\n",
       "TARGET       -0.008921  1.000000"
      ]
     },
     "execution_count": 26,
     "metadata": {},
     "output_type": "execute_result"
    }
   ],
   "source": [
    "app_train[['amt_credit', 'TARGET']].corr()"
   ]
  },
  {
   "cell_type": "markdown",
   "id": "cff1629a",
   "metadata": {},
   "source": [
    "### AMT_DOWN_PAYMENT(頭金) Cash loans の場合は不要?"
   ]
  },
  {
   "cell_type": "code",
   "execution_count": 27,
   "id": "4c8ea3ed",
   "metadata": {},
   "outputs": [
    {
     "data": {
      "text/html": [
       "<div>\n",
       "<style scoped>\n",
       "    .dataframe tbody tr th:only-of-type {\n",
       "        vertical-align: middle;\n",
       "    }\n",
       "\n",
       "    .dataframe tbody tr th {\n",
       "        vertical-align: top;\n",
       "    }\n",
       "\n",
       "    .dataframe thead th {\n",
       "        text-align: right;\n",
       "    }\n",
       "</style>\n",
       "<table border=\"1\" class=\"dataframe\">\n",
       "  <thead>\n",
       "    <tr style=\"text-align: right;\">\n",
       "      <th></th>\n",
       "      <th>amt_down_payment</th>\n",
       "      <th>TARGET</th>\n",
       "    </tr>\n",
       "  </thead>\n",
       "  <tbody>\n",
       "    <tr>\n",
       "      <th>amt_down_payment</th>\n",
       "      <td>NaN</td>\n",
       "      <td>NaN</td>\n",
       "    </tr>\n",
       "    <tr>\n",
       "      <th>TARGET</th>\n",
       "      <td>NaN</td>\n",
       "      <td>1.0</td>\n",
       "    </tr>\n",
       "  </tbody>\n",
       "</table>\n",
       "</div>"
      ],
      "text/plain": [
       "                  amt_down_payment  TARGET\n",
       "amt_down_payment               NaN     NaN\n",
       "TARGET                         NaN     1.0"
      ]
     },
     "execution_count": 27,
     "metadata": {},
     "output_type": "execute_result"
    }
   ],
   "source": [
    "app_train[['amt_down_payment', 'TARGET']].corr()"
   ]
  },
  {
   "cell_type": "markdown",
   "id": "3491ddf3",
   "metadata": {},
   "source": [
    "### AMT_GOODS_PRICE(クライアントが要求した商品価格)"
   ]
  },
  {
   "cell_type": "code",
   "execution_count": 28,
   "id": "290e500c",
   "metadata": {},
   "outputs": [
    {
     "data": {
      "text/html": [
       "<div>\n",
       "<style scoped>\n",
       "    .dataframe tbody tr th:only-of-type {\n",
       "        vertical-align: middle;\n",
       "    }\n",
       "\n",
       "    .dataframe tbody tr th {\n",
       "        vertical-align: top;\n",
       "    }\n",
       "\n",
       "    .dataframe thead th {\n",
       "        text-align: right;\n",
       "    }\n",
       "</style>\n",
       "<table border=\"1\" class=\"dataframe\">\n",
       "  <thead>\n",
       "    <tr style=\"text-align: right;\">\n",
       "      <th></th>\n",
       "      <th>amt_goods_price</th>\n",
       "      <th>TARGET</th>\n",
       "    </tr>\n",
       "  </thead>\n",
       "  <tbody>\n",
       "    <tr>\n",
       "      <th>amt_goods_price</th>\n",
       "      <td>1.00000</td>\n",
       "      <td>-0.01506</td>\n",
       "    </tr>\n",
       "    <tr>\n",
       "      <th>TARGET</th>\n",
       "      <td>-0.01506</td>\n",
       "      <td>1.00000</td>\n",
       "    </tr>\n",
       "  </tbody>\n",
       "</table>\n",
       "</div>"
      ],
      "text/plain": [
       "                 amt_goods_price   TARGET\n",
       "amt_goods_price          1.00000 -0.01506\n",
       "TARGET                  -0.01506  1.00000"
      ]
     },
     "execution_count": 28,
     "metadata": {},
     "output_type": "execute_result"
    }
   ],
   "source": [
    "app_train[['amt_goods_price', 'TARGET']].corr()"
   ]
  },
  {
   "cell_type": "markdown",
   "id": "951d832a",
   "metadata": {},
   "source": [
    "### WEEKDAY_APPR_PROCESS_START(申請した曜日)"
   ]
  },
  {
   "cell_type": "code",
   "execution_count": 29,
   "id": "a701df8e",
   "metadata": {},
   "outputs": [],
   "source": [
    "app_train['weekday_appr_process_start'].replace(['TUESDAY', 'MONDAY', 'WEDNESDAY', 'THURSDAY', 'FRIDAY', 'SATURDAY', 'SUNDAY'], [1, 2, 3, 4, 5, 6, 7], inplace=True)\n",
    "app_test['weekday_appr_process_start'].replace(['TUESDAY', 'MONDAY', 'WEDNESDAY', 'THURSDAY', 'FRIDAY', 'SATURDAY', 'SUNDAY'], [1, 2, 3, 4, 5, 6, 7], inplace=True)"
   ]
  },
  {
   "cell_type": "code",
   "execution_count": 30,
   "id": "284d60e3",
   "metadata": {},
   "outputs": [
    {
     "data": {
      "text/plain": [
       "1.0    5847\n",
       "2.0    5827\n",
       "3.0    5694\n",
       "4.0    5428\n",
       "5.0    5281\n",
       "6.0    4033\n",
       "7.0    1902\n",
       "Name: weekday_appr_process_start, dtype: int64"
      ]
     },
     "execution_count": 30,
     "metadata": {},
     "output_type": "execute_result"
    }
   ],
   "source": [
    "app_train['weekday_appr_process_start'].value_counts()"
   ]
  },
  {
   "cell_type": "code",
   "execution_count": 31,
   "id": "3fe34aed",
   "metadata": {},
   "outputs": [
    {
     "data": {
      "text/html": [
       "<div>\n",
       "<style scoped>\n",
       "    .dataframe tbody tr th:only-of-type {\n",
       "        vertical-align: middle;\n",
       "    }\n",
       "\n",
       "    .dataframe tbody tr th {\n",
       "        vertical-align: top;\n",
       "    }\n",
       "\n",
       "    .dataframe thead th {\n",
       "        text-align: right;\n",
       "    }\n",
       "</style>\n",
       "<table border=\"1\" class=\"dataframe\">\n",
       "  <thead>\n",
       "    <tr style=\"text-align: right;\">\n",
       "      <th></th>\n",
       "      <th>weekday_appr_process_start</th>\n",
       "      <th>TARGET</th>\n",
       "    </tr>\n",
       "  </thead>\n",
       "  <tbody>\n",
       "    <tr>\n",
       "      <th>weekday_appr_process_start</th>\n",
       "      <td>1.000000</td>\n",
       "      <td>0.004927</td>\n",
       "    </tr>\n",
       "    <tr>\n",
       "      <th>TARGET</th>\n",
       "      <td>0.004927</td>\n",
       "      <td>1.000000</td>\n",
       "    </tr>\n",
       "  </tbody>\n",
       "</table>\n",
       "</div>"
      ],
      "text/plain": [
       "                            weekday_appr_process_start    TARGET\n",
       "weekday_appr_process_start                    1.000000  0.004927\n",
       "TARGET                                        0.004927  1.000000"
      ]
     },
     "execution_count": 31,
     "metadata": {},
     "output_type": "execute_result"
    }
   ],
   "source": [
    "app_train[['weekday_appr_process_start', 'TARGET']].corr()"
   ]
  },
  {
   "cell_type": "markdown",
   "id": "2561c7a0",
   "metadata": {},
   "source": [
    "### HOUR_APPR_PROCESS_START(クライアントが応募した時間)"
   ]
  },
  {
   "cell_type": "code",
   "execution_count": 32,
   "id": "b896f309",
   "metadata": {},
   "outputs": [
    {
     "data": {
      "text/plain": [
       "10.0    4744\n",
       "11.0    4218\n",
       "12.0    3921\n",
       "13.0    3333\n",
       "9.0     3130\n",
       "14.0    2892\n",
       "15.0    2577\n",
       "16.0    1992\n",
       "8.0     1822\n",
       "17.0    1404\n",
       "7.0     1163\n",
       "18.0     848\n",
       "6.0      665\n",
       "5.0      386\n",
       "19.0     384\n",
       "4.0      217\n",
       "3.0      140\n",
       "20.0      94\n",
       "2.0       29\n",
       "21.0      28\n",
       "22.0      18\n",
       "1.0        4\n",
       "0.0        2\n",
       "23.0       1\n",
       "Name: hour_appr_process_start, dtype: int64"
      ]
     },
     "execution_count": 32,
     "metadata": {},
     "output_type": "execute_result"
    }
   ],
   "source": [
    "app_train['hour_appr_process_start'].value_counts()"
   ]
  },
  {
   "cell_type": "code",
   "execution_count": 33,
   "id": "edba6ab3",
   "metadata": {},
   "outputs": [
    {
     "data": {
      "text/html": [
       "<div>\n",
       "<style scoped>\n",
       "    .dataframe tbody tr th:only-of-type {\n",
       "        vertical-align: middle;\n",
       "    }\n",
       "\n",
       "    .dataframe tbody tr th {\n",
       "        vertical-align: top;\n",
       "    }\n",
       "\n",
       "    .dataframe thead th {\n",
       "        text-align: right;\n",
       "    }\n",
       "</style>\n",
       "<table border=\"1\" class=\"dataframe\">\n",
       "  <thead>\n",
       "    <tr style=\"text-align: right;\">\n",
       "      <th></th>\n",
       "      <th>hour_appr_process_start</th>\n",
       "      <th>TARGET</th>\n",
       "    </tr>\n",
       "  </thead>\n",
       "  <tbody>\n",
       "    <tr>\n",
       "      <th>hour_appr_process_start</th>\n",
       "      <td>1.000000</td>\n",
       "      <td>-0.018993</td>\n",
       "    </tr>\n",
       "    <tr>\n",
       "      <th>TARGET</th>\n",
       "      <td>-0.018993</td>\n",
       "      <td>1.000000</td>\n",
       "    </tr>\n",
       "  </tbody>\n",
       "</table>\n",
       "</div>"
      ],
      "text/plain": [
       "                         hour_appr_process_start    TARGET\n",
       "hour_appr_process_start                 1.000000 -0.018993\n",
       "TARGET                                 -0.018993  1.000000"
      ]
     },
     "execution_count": 33,
     "metadata": {},
     "output_type": "execute_result"
    }
   ],
   "source": [
    "app_train[['hour_appr_process_start', 'TARGET']].corr()"
   ]
  },
  {
   "cell_type": "markdown",
   "id": "ccea59d8",
   "metadata": {},
   "source": [
    "### FLAG_LAST_APPL_PER_CONTRACT|最も最新の過去のローン申請だった場合のフラグ(店員による間違いがあるかもしれんけど)|"
   ]
  },
  {
   "cell_type": "code",
   "execution_count": 34,
   "id": "3fd0064f",
   "metadata": {},
   "outputs": [
    {
     "data": {
      "text/plain": [
       "Y    34012\n",
       "Name: flag_last_appl_per_contract, dtype: int64"
      ]
     },
     "execution_count": 34,
     "metadata": {},
     "output_type": "execute_result"
    }
   ],
   "source": [
    "app_train['flag_last_appl_per_contract'].value_counts()"
   ]
  },
  {
   "cell_type": "code",
   "execution_count": 35,
   "id": "49d4039b",
   "metadata": {},
   "outputs": [],
   "source": [
    "app_train.drop(['flag_last_appl_per_contract'], axis=1, inplace=True)\n",
    "app_test.drop(['flag_last_appl_per_contract'], axis=1, inplace=True)"
   ]
  },
  {
   "cell_type": "markdown",
   "id": "1cb984d0",
   "metadata": {},
   "source": [
    "### NFLAG_LAST_APPL_IN_DAY(1日の中での最後の申し込みだった場合のフラグ)"
   ]
  },
  {
   "cell_type": "code",
   "execution_count": 36,
   "id": "f25d2ebf",
   "metadata": {},
   "outputs": [
    {
     "data": {
      "text/plain": [
       "1.0    33970\n",
       "0.0       42\n",
       "Name: nflag_last_appl_in_day, dtype: int64"
      ]
     },
     "execution_count": 36,
     "metadata": {},
     "output_type": "execute_result"
    }
   ],
   "source": [
    "app_train['nflag_last_appl_in_day'].value_counts()"
   ]
  },
  {
   "cell_type": "code",
   "execution_count": 37,
   "id": "7280f71f",
   "metadata": {},
   "outputs": [
    {
     "data": {
      "text/html": [
       "<div>\n",
       "<style scoped>\n",
       "    .dataframe tbody tr th:only-of-type {\n",
       "        vertical-align: middle;\n",
       "    }\n",
       "\n",
       "    .dataframe tbody tr th {\n",
       "        vertical-align: top;\n",
       "    }\n",
       "\n",
       "    .dataframe thead th {\n",
       "        text-align: right;\n",
       "    }\n",
       "</style>\n",
       "<table border=\"1\" class=\"dataframe\">\n",
       "  <thead>\n",
       "    <tr style=\"text-align: right;\">\n",
       "      <th></th>\n",
       "      <th>nflag_last_appl_in_day</th>\n",
       "      <th>TARGET</th>\n",
       "    </tr>\n",
       "  </thead>\n",
       "  <tbody>\n",
       "    <tr>\n",
       "      <th>nflag_last_appl_in_day</th>\n",
       "      <td>1.000000</td>\n",
       "      <td>0.003847</td>\n",
       "    </tr>\n",
       "    <tr>\n",
       "      <th>TARGET</th>\n",
       "      <td>0.003847</td>\n",
       "      <td>1.000000</td>\n",
       "    </tr>\n",
       "  </tbody>\n",
       "</table>\n",
       "</div>"
      ],
      "text/plain": [
       "                        nflag_last_appl_in_day    TARGET\n",
       "nflag_last_appl_in_day                1.000000  0.003847\n",
       "TARGET                                0.003847  1.000000"
      ]
     },
     "execution_count": 37,
     "metadata": {},
     "output_type": "execute_result"
    }
   ],
   "source": [
    "app_train[['nflag_last_appl_in_day', 'TARGET']].corr()"
   ]
  },
  {
   "cell_type": "markdown",
   "id": "f064d36c",
   "metadata": {},
   "source": [
    "### RATE_DOWN_PAYMENT(前払い率)"
   ]
  },
  {
   "cell_type": "code",
   "execution_count": 38,
   "id": "134e1cfa",
   "metadata": {},
   "outputs": [
    {
     "data": {
      "text/plain": [
       "0.0    34012\n",
       "Name: rate_down_payment, dtype: int64"
      ]
     },
     "execution_count": 38,
     "metadata": {},
     "output_type": "execute_result"
    }
   ],
   "source": [
    "app_train['rate_down_payment'].value_counts()"
   ]
  },
  {
   "cell_type": "code",
   "execution_count": 39,
   "id": "7a20abfc",
   "metadata": {},
   "outputs": [],
   "source": [
    "app_train.drop(['rate_down_payment'], axis=1, inplace=True)\n",
    "app_test.drop(['rate_down_payment'], axis=1, inplace=True)"
   ]
  },
  {
   "cell_type": "markdown",
   "id": "edf64089",
   "metadata": {},
   "source": [
    "### RATE_INTEREST_PRIMARY(金利)"
   ]
  },
  {
   "cell_type": "code",
   "execution_count": 40,
   "id": "116d29fc",
   "metadata": {},
   "outputs": [
    {
     "data": {
      "text/plain": [
       "0.0    34012\n",
       "Name: rate_interest_primary, dtype: int64"
      ]
     },
     "execution_count": 40,
     "metadata": {},
     "output_type": "execute_result"
    }
   ],
   "source": [
    "app_train['rate_interest_primary'].value_counts()"
   ]
  },
  {
   "cell_type": "markdown",
   "id": "e601cbc2",
   "metadata": {},
   "source": [
    "### RATE_INTEREST_PRIVILEGED(金利)"
   ]
  },
  {
   "cell_type": "code",
   "execution_count": 41,
   "id": "df1b2134",
   "metadata": {},
   "outputs": [
    {
     "data": {
      "text/plain": [
       "0.0    34012\n",
       "Name: rate_interest_privileged, dtype: int64"
      ]
     },
     "execution_count": 41,
     "metadata": {},
     "output_type": "execute_result"
    }
   ],
   "source": [
    "app_train['rate_interest_privileged'].value_counts()"
   ]
  },
  {
   "cell_type": "markdown",
   "id": "d2b7a2a1",
   "metadata": {},
   "source": [
    "### NAME_CASH_LOAN_PURPOSE(現金融資の目的)"
   ]
  },
  {
   "cell_type": "code",
   "execution_count": 42,
   "id": "3733f0b3",
   "metadata": {},
   "outputs": [],
   "source": [
    "columns = ['XNA', 'Repairs', 'Other', 'Urgent needs', 'Building a house or an annex', 'Buying a used car', 'Medicine', 'Wedding / gift / holiday', 'Furniture', 'Journey', 'Everyday expenses', 'Education', 'Car repairs', 'Payments on other loans', 'Purchase of electronic equipment', 'Buying a new car', 'Buying a home', 'Gasification / water supply', 'Buying a holiday home / land', 'Business development', 'Buying a garage', 'Hobby', 'Refusal to name the goal', 'Money for a third person']\n",
    "app_train['name_cash_loan_purpose'].replace(columns, [1, 2, 3, 4, 5, 6, 7, 8, 9, 10, 11, 12, 13, 14, 15, 16, 17, 18, 19, 20, 21, 22, 23, 24], inplace=True)\n",
    "app_test['name_cash_loan_purpose'].replace(columns, [1, 2, 3, 4, 5, 6, 7, 8, 9, 10, 11, 12, 13, 14, 15, 16, 17, 18, 19, 20, 21, 22, 23, 24], inplace=True)"
   ]
  },
  {
   "cell_type": "code",
   "execution_count": 43,
   "id": "580a43db",
   "metadata": {},
   "outputs": [
    {
     "data": {
      "text/plain": [
       "1.0     31474\n",
       "2.0       917\n",
       "3.0       505\n",
       "4.0       423\n",
       "5.0       100\n",
       "6.0        89\n",
       "7.0        70\n",
       "8.0        64\n",
       "9.0        50\n",
       "10.0       48\n",
       "11.0       44\n",
       "12.0       38\n",
       "13.0       36\n",
       "14.0       30\n",
       "15.0       29\n",
       "16.0       21\n",
       "17.0       18\n",
       "18.0       16\n",
       "19.0       14\n",
       "20.0       13\n",
       "21.0        6\n",
       "22.0        4\n",
       "23.0        2\n",
       "24.0        1\n",
       "Name: name_cash_loan_purpose, dtype: int64"
      ]
     },
     "execution_count": 43,
     "metadata": {},
     "output_type": "execute_result"
    }
   ],
   "source": [
    "app_train['name_cash_loan_purpose'].value_counts()"
   ]
  },
  {
   "cell_type": "code",
   "execution_count": 44,
   "id": "5e9c2fa8",
   "metadata": {},
   "outputs": [
    {
     "data": {
      "text/html": [
       "<div>\n",
       "<style scoped>\n",
       "    .dataframe tbody tr th:only-of-type {\n",
       "        vertical-align: middle;\n",
       "    }\n",
       "\n",
       "    .dataframe tbody tr th {\n",
       "        vertical-align: top;\n",
       "    }\n",
       "\n",
       "    .dataframe thead th {\n",
       "        text-align: right;\n",
       "    }\n",
       "</style>\n",
       "<table border=\"1\" class=\"dataframe\">\n",
       "  <thead>\n",
       "    <tr style=\"text-align: right;\">\n",
       "      <th></th>\n",
       "      <th>name_cash_loan_purpose</th>\n",
       "      <th>TARGET</th>\n",
       "    </tr>\n",
       "  </thead>\n",
       "  <tbody>\n",
       "    <tr>\n",
       "      <th>name_cash_loan_purpose</th>\n",
       "      <td>1.000000</td>\n",
       "      <td>0.030993</td>\n",
       "    </tr>\n",
       "    <tr>\n",
       "      <th>TARGET</th>\n",
       "      <td>0.030993</td>\n",
       "      <td>1.000000</td>\n",
       "    </tr>\n",
       "  </tbody>\n",
       "</table>\n",
       "</div>"
      ],
      "text/plain": [
       "                        name_cash_loan_purpose    TARGET\n",
       "name_cash_loan_purpose                1.000000  0.030993\n",
       "TARGET                                0.030993  1.000000"
      ]
     },
     "execution_count": 44,
     "metadata": {},
     "output_type": "execute_result"
    }
   ],
   "source": [
    "app_train[['name_cash_loan_purpose', 'TARGET']].corr()"
   ]
  },
  {
   "cell_type": "markdown",
   "id": "62b25c03",
   "metadata": {},
   "source": [
    "### NAME_CONTRACT_STATUS(契約状況)"
   ]
  },
  {
   "cell_type": "code",
   "execution_count": 45,
   "id": "f3de0700",
   "metadata": {},
   "outputs": [
    {
     "data": {
      "text/plain": [
       "Approved    34012\n",
       "Name: name_contract_status, dtype: int64"
      ]
     },
     "execution_count": 45,
     "metadata": {},
     "output_type": "execute_result"
    }
   ],
   "source": [
    "app_train['name_contract_status'].value_counts()"
   ]
  },
  {
   "cell_type": "code",
   "execution_count": 46,
   "id": "35fbc18d",
   "metadata": {},
   "outputs": [],
   "source": [
    "app_train.drop(['name_contract_status'], axis=1, inplace=True)\n",
    "app_test.drop(['name_contract_status'], axis=1, inplace=True)"
   ]
  },
  {
   "cell_type": "markdown",
   "id": "30dcdf72",
   "metadata": {},
   "source": [
    "### DAYS_DECISION(今回申込日との日数差)"
   ]
  },
  {
   "cell_type": "code",
   "execution_count": 47,
   "id": "5bdd2496",
   "metadata": {},
   "outputs": [
    {
     "data": {
      "text/plain": [
       "-244.0     124\n",
       "-364.0     108\n",
       "-245.0     107\n",
       "-273.0     105\n",
       "-183.0     104\n",
       "          ... \n",
       "-2327.0      1\n",
       "-1287.0      1\n",
       "-2567.0      1\n",
       "-1220.0      1\n",
       "-19.0        1\n",
       "Name: days_decision, Length: 1367, dtype: int64"
      ]
     },
     "execution_count": 47,
     "metadata": {},
     "output_type": "execute_result"
    }
   ],
   "source": [
    "app_train['days_decision'].value_counts()"
   ]
  },
  {
   "cell_type": "code",
   "execution_count": 48,
   "id": "55df8bba",
   "metadata": {},
   "outputs": [
    {
     "data": {
      "text/html": [
       "<div>\n",
       "<style scoped>\n",
       "    .dataframe tbody tr th:only-of-type {\n",
       "        vertical-align: middle;\n",
       "    }\n",
       "\n",
       "    .dataframe tbody tr th {\n",
       "        vertical-align: top;\n",
       "    }\n",
       "\n",
       "    .dataframe thead th {\n",
       "        text-align: right;\n",
       "    }\n",
       "</style>\n",
       "<table border=\"1\" class=\"dataframe\">\n",
       "  <thead>\n",
       "    <tr style=\"text-align: right;\">\n",
       "      <th></th>\n",
       "      <th>days_decision</th>\n",
       "      <th>TARGET</th>\n",
       "    </tr>\n",
       "  </thead>\n",
       "  <tbody>\n",
       "    <tr>\n",
       "      <th>days_decision</th>\n",
       "      <td>1.000000</td>\n",
       "      <td>0.005374</td>\n",
       "    </tr>\n",
       "    <tr>\n",
       "      <th>TARGET</th>\n",
       "      <td>0.005374</td>\n",
       "      <td>1.000000</td>\n",
       "    </tr>\n",
       "  </tbody>\n",
       "</table>\n",
       "</div>"
      ],
      "text/plain": [
       "               days_decision    TARGET\n",
       "days_decision       1.000000  0.005374\n",
       "TARGET              0.005374  1.000000"
      ]
     },
     "execution_count": 48,
     "metadata": {},
     "output_type": "execute_result"
    }
   ],
   "source": [
    "app_train[['days_decision', 'TARGET']].corr()"
   ]
  },
  {
   "cell_type": "markdown",
   "id": "8a95c961",
   "metadata": {},
   "source": [
    "### NAME_PAYMENT_TYPE(支払い方法)"
   ]
  },
  {
   "cell_type": "code",
   "execution_count": 49,
   "id": "07075a20",
   "metadata": {},
   "outputs": [],
   "source": [
    "columns = ['Cash through the bank', 'XNA', 'Non-cash from your account', 'Cashless from the account of the employer']\n",
    "app_train['name_payment_type'].replace(columns, [1, 2, 3, 4], inplace=True)\n",
    "app_test['name_payment_type'].replace(columns, [1, 2, 3, 4], inplace=True)"
   ]
  },
  {
   "cell_type": "code",
   "execution_count": 50,
   "id": "a45b1c20",
   "metadata": {},
   "outputs": [
    {
     "data": {
      "text/plain": [
       "1.0    30767\n",
       "2.0     3079\n",
       "3.0      138\n",
       "4.0       28\n",
       "Name: name_payment_type, dtype: int64"
      ]
     },
     "execution_count": 50,
     "metadata": {},
     "output_type": "execute_result"
    }
   ],
   "source": [
    "app_train['name_payment_type'].value_counts()"
   ]
  },
  {
   "cell_type": "code",
   "execution_count": 51,
   "id": "b5487c97",
   "metadata": {},
   "outputs": [
    {
     "data": {
      "text/html": [
       "<div>\n",
       "<style scoped>\n",
       "    .dataframe tbody tr th:only-of-type {\n",
       "        vertical-align: middle;\n",
       "    }\n",
       "\n",
       "    .dataframe tbody tr th {\n",
       "        vertical-align: top;\n",
       "    }\n",
       "\n",
       "    .dataframe thead th {\n",
       "        text-align: right;\n",
       "    }\n",
       "</style>\n",
       "<table border=\"1\" class=\"dataframe\">\n",
       "  <thead>\n",
       "    <tr style=\"text-align: right;\">\n",
       "      <th></th>\n",
       "      <th>name_payment_type</th>\n",
       "      <th>TARGET</th>\n",
       "    </tr>\n",
       "  </thead>\n",
       "  <tbody>\n",
       "    <tr>\n",
       "      <th>name_payment_type</th>\n",
       "      <td>1.000000</td>\n",
       "      <td>0.015109</td>\n",
       "    </tr>\n",
       "    <tr>\n",
       "      <th>TARGET</th>\n",
       "      <td>0.015109</td>\n",
       "      <td>1.000000</td>\n",
       "    </tr>\n",
       "  </tbody>\n",
       "</table>\n",
       "</div>"
      ],
      "text/plain": [
       "                   name_payment_type    TARGET\n",
       "name_payment_type           1.000000  0.015109\n",
       "TARGET                      0.015109  1.000000"
      ]
     },
     "execution_count": 51,
     "metadata": {},
     "output_type": "execute_result"
    }
   ],
   "source": [
    "app_train[['name_payment_type', 'TARGET']].corr()"
   ]
  },
  {
   "cell_type": "markdown",
   "id": "dd3aa159",
   "metadata": {},
   "source": [
    "### CODE_REJECT_REASON(審査落ち理由)"
   ]
  },
  {
   "cell_type": "code",
   "execution_count": 52,
   "id": "5292842c",
   "metadata": {},
   "outputs": [
    {
     "data": {
      "text/plain": [
       "XAP    34012\n",
       "Name: code_reject_reason, dtype: int64"
      ]
     },
     "execution_count": 52,
     "metadata": {},
     "output_type": "execute_result"
    }
   ],
   "source": [
    "app_train['code_reject_reason'].value_counts()"
   ]
  },
  {
   "cell_type": "code",
   "execution_count": 53,
   "id": "481e1d5b",
   "metadata": {},
   "outputs": [],
   "source": [
    "app_train.drop(['code_reject_reason'], axis=1, inplace=True)\n",
    "app_test.drop(['code_reject_reason'], axis=1, inplace=True)"
   ]
  },
  {
   "cell_type": "markdown",
   "id": "b48ac18a",
   "metadata": {},
   "source": [
    "### NAME_TYPE_SUITE(申請時同行者)"
   ]
  },
  {
   "cell_type": "code",
   "execution_count": 54,
   "id": "f63af848",
   "metadata": {},
   "outputs": [],
   "source": [
    "columns = ['Unaccompanied', 'Family', 'Spouse, partner', 'Children', 'Other_B', 'Other_A', 'Group of people']\n",
    "app_train['name_type_suite'].replace(columns, [1, 2, 3, 4, 5, 6, 7], inplace=True)\n",
    "app_test['name_type_suite'].replace(columns, [1, 2, 3, 4, 5, 6, 7], inplace=True)"
   ]
  },
  {
   "cell_type": "code",
   "execution_count": 55,
   "id": "407c7865",
   "metadata": {},
   "outputs": [
    {
     "data": {
      "text/plain": [
       "1.0    18101\n",
       "2.0     3267\n",
       "3.0      946\n",
       "4.0      312\n",
       "5.0      159\n",
       "6.0       57\n",
       "7.0       23\n",
       "Name: name_type_suite, dtype: int64"
      ]
     },
     "execution_count": 55,
     "metadata": {},
     "output_type": "execute_result"
    }
   ],
   "source": [
    "app_train['name_type_suite'].value_counts()"
   ]
  },
  {
   "cell_type": "code",
   "execution_count": 56,
   "id": "75de4024",
   "metadata": {},
   "outputs": [
    {
     "data": {
      "text/html": [
       "<div>\n",
       "<style scoped>\n",
       "    .dataframe tbody tr th:only-of-type {\n",
       "        vertical-align: middle;\n",
       "    }\n",
       "\n",
       "    .dataframe tbody tr th {\n",
       "        vertical-align: top;\n",
       "    }\n",
       "\n",
       "    .dataframe thead th {\n",
       "        text-align: right;\n",
       "    }\n",
       "</style>\n",
       "<table border=\"1\" class=\"dataframe\">\n",
       "  <thead>\n",
       "    <tr style=\"text-align: right;\">\n",
       "      <th></th>\n",
       "      <th>name_type_suite</th>\n",
       "      <th>TARGET</th>\n",
       "    </tr>\n",
       "  </thead>\n",
       "  <tbody>\n",
       "    <tr>\n",
       "      <th>name_type_suite</th>\n",
       "      <td>1.00000</td>\n",
       "      <td>0.00975</td>\n",
       "    </tr>\n",
       "    <tr>\n",
       "      <th>TARGET</th>\n",
       "      <td>0.00975</td>\n",
       "      <td>1.00000</td>\n",
       "    </tr>\n",
       "  </tbody>\n",
       "</table>\n",
       "</div>"
      ],
      "text/plain": [
       "                 name_type_suite   TARGET\n",
       "name_type_suite          1.00000  0.00975\n",
       "TARGET                   0.00975  1.00000"
      ]
     },
     "execution_count": 56,
     "metadata": {},
     "output_type": "execute_result"
    }
   ],
   "source": [
    "app_train[['name_type_suite', 'TARGET']].corr()"
   ]
  },
  {
   "cell_type": "markdown",
   "id": "2a7cc60a",
   "metadata": {},
   "source": [
    "### NAME_CLIENT_TYPE(新規顧客などの顧客タイプ)"
   ]
  },
  {
   "cell_type": "code",
   "execution_count": 57,
   "id": "987826f3",
   "metadata": {},
   "outputs": [],
   "source": [
    "columns = ['Repeater', 'Refreshed', 'New', 'XNA']\n",
    "app_train['name_client_type'].replace(columns, [1, 2, 3, 4], inplace=True)\n",
    "app_test['name_client_type'].replace(columns, [1, 2, 3, 4], inplace=True)"
   ]
  },
  {
   "cell_type": "code",
   "execution_count": 58,
   "id": "d90815d3",
   "metadata": {},
   "outputs": [
    {
     "data": {
      "text/plain": [
       "1.0    29422\n",
       "2.0     3320\n",
       "3.0     1243\n",
       "4.0       27\n",
       "Name: name_client_type, dtype: int64"
      ]
     },
     "execution_count": 58,
     "metadata": {},
     "output_type": "execute_result"
    }
   ],
   "source": [
    "app_train['name_client_type'].value_counts()"
   ]
  },
  {
   "cell_type": "code",
   "execution_count": 59,
   "id": "f6e3c583",
   "metadata": {},
   "outputs": [
    {
     "data": {
      "text/html": [
       "<div>\n",
       "<style scoped>\n",
       "    .dataframe tbody tr th:only-of-type {\n",
       "        vertical-align: middle;\n",
       "    }\n",
       "\n",
       "    .dataframe tbody tr th {\n",
       "        vertical-align: top;\n",
       "    }\n",
       "\n",
       "    .dataframe thead th {\n",
       "        text-align: right;\n",
       "    }\n",
       "</style>\n",
       "<table border=\"1\" class=\"dataframe\">\n",
       "  <thead>\n",
       "    <tr style=\"text-align: right;\">\n",
       "      <th></th>\n",
       "      <th>name_client_type</th>\n",
       "      <th>TARGET</th>\n",
       "    </tr>\n",
       "  </thead>\n",
       "  <tbody>\n",
       "    <tr>\n",
       "      <th>name_client_type</th>\n",
       "      <td>1.00000</td>\n",
       "      <td>0.02332</td>\n",
       "    </tr>\n",
       "    <tr>\n",
       "      <th>TARGET</th>\n",
       "      <td>0.02332</td>\n",
       "      <td>1.00000</td>\n",
       "    </tr>\n",
       "  </tbody>\n",
       "</table>\n",
       "</div>"
      ],
      "text/plain": [
       "                  name_client_type   TARGET\n",
       "name_client_type           1.00000  0.02332\n",
       "TARGET                     0.02332  1.00000"
      ]
     },
     "execution_count": 59,
     "metadata": {},
     "output_type": "execute_result"
    }
   ],
   "source": [
    "app_train[['name_client_type', 'TARGET']].corr()"
   ]
  },
  {
   "cell_type": "markdown",
   "id": "d9a6207c",
   "metadata": {},
   "source": [
    "### NAME_GOODS_CATEGORY(申請した商品の種類)"
   ]
  },
  {
   "cell_type": "code",
   "execution_count": 60,
   "id": "c058abd8",
   "metadata": {},
   "outputs": [
    {
     "data": {
      "text/plain": [
       "XNA    34012\n",
       "Name: name_goods_category, dtype: int64"
      ]
     },
     "execution_count": 60,
     "metadata": {},
     "output_type": "execute_result"
    }
   ],
   "source": [
    "app_train['name_goods_category'].value_counts()"
   ]
  },
  {
   "cell_type": "code",
   "execution_count": 61,
   "id": "77cca5e2",
   "metadata": {},
   "outputs": [],
   "source": [
    "app_train.drop(['name_goods_category'], axis=1, inplace=True)\n",
    "app_test.drop(['name_goods_category'], axis=1, inplace=True)"
   ]
  },
  {
   "cell_type": "markdown",
   "id": "70f4e92f",
   "metadata": {},
   "source": [
    "### name_portfolio"
   ]
  },
  {
   "cell_type": "code",
   "execution_count": 62,
   "id": "93c08cf5",
   "metadata": {},
   "outputs": [
    {
     "data": {
      "text/plain": [
       "Cash    34012\n",
       "Name: name_portfolio, dtype: int64"
      ]
     },
     "execution_count": 62,
     "metadata": {},
     "output_type": "execute_result"
    }
   ],
   "source": [
    "app_train['name_portfolio'].value_counts()"
   ]
  },
  {
   "cell_type": "code",
   "execution_count": 63,
   "id": "e3c7dda5",
   "metadata": {},
   "outputs": [],
   "source": [
    "app_train.drop(['name_portfolio'], axis=1, inplace=True)\n",
    "app_test.drop(['name_portfolio'], axis=1, inplace=True)"
   ]
  },
  {
   "cell_type": "markdown",
   "id": "4b670647",
   "metadata": {},
   "source": [
    "### name_product_type"
   ]
  },
  {
   "cell_type": "code",
   "execution_count": 64,
   "id": "8d857e63",
   "metadata": {},
   "outputs": [],
   "source": [
    "columns = ['x-sell', 'walk-in']\n",
    "app_train['name_product_type'].replace(columns, [1, 2], inplace=True)\n",
    "app_test['name_product_type'].replace(columns, [1, 2], inplace=True)"
   ]
  },
  {
   "cell_type": "code",
   "execution_count": 65,
   "id": "75a84638",
   "metadata": {},
   "outputs": [
    {
     "data": {
      "text/html": [
       "<div>\n",
       "<style scoped>\n",
       "    .dataframe tbody tr th:only-of-type {\n",
       "        vertical-align: middle;\n",
       "    }\n",
       "\n",
       "    .dataframe tbody tr th {\n",
       "        vertical-align: top;\n",
       "    }\n",
       "\n",
       "    .dataframe thead th {\n",
       "        text-align: right;\n",
       "    }\n",
       "</style>\n",
       "<table border=\"1\" class=\"dataframe\">\n",
       "  <thead>\n",
       "    <tr style=\"text-align: right;\">\n",
       "      <th></th>\n",
       "      <th>name_product_type</th>\n",
       "      <th>TARGET</th>\n",
       "    </tr>\n",
       "  </thead>\n",
       "  <tbody>\n",
       "    <tr>\n",
       "      <th>name_product_type</th>\n",
       "      <td>1.000000</td>\n",
       "      <td>0.046163</td>\n",
       "    </tr>\n",
       "    <tr>\n",
       "      <th>TARGET</th>\n",
       "      <td>0.046163</td>\n",
       "      <td>1.000000</td>\n",
       "    </tr>\n",
       "  </tbody>\n",
       "</table>\n",
       "</div>"
      ],
      "text/plain": [
       "                   name_product_type    TARGET\n",
       "name_product_type           1.000000  0.046163\n",
       "TARGET                      0.046163  1.000000"
      ]
     },
     "execution_count": 65,
     "metadata": {},
     "output_type": "execute_result"
    }
   ],
   "source": [
    "app_train[['name_product_type', 'TARGET']].corr()"
   ]
  },
  {
   "cell_type": "code",
   "execution_count": 66,
   "id": "e203d27e",
   "metadata": {},
   "outputs": [
    {
     "data": {
      "text/plain": [
       "1.0    30722\n",
       "2.0     3290\n",
       "Name: name_product_type, dtype: int64"
      ]
     },
     "execution_count": 66,
     "metadata": {},
     "output_type": "execute_result"
    }
   ],
   "source": [
    "app_train['name_product_type'].value_counts()"
   ]
  },
  {
   "cell_type": "markdown",
   "id": "06da1ede",
   "metadata": {},
   "source": [
    "### channel_type"
   ]
  },
  {
   "cell_type": "code",
   "execution_count": 67,
   "id": "9bd23edd",
   "metadata": {},
   "outputs": [],
   "source": [
    "columns = ['Credit and cash offices', 'AP+ (Cash loan)', 'Contact center', 'Country-wide', 'Stone', 'Regional / Local', 'Channel of corporate sales', 'Car dealer']\n",
    "app_train['channel_type'].replace(columns, [1, 2, 3, 4, 5, 6, 7, 8], inplace=True)\n",
    "app_test['channel_type'].replace(columns, [1, 2, 3, 4, 5, 6, 7, 8], inplace=True)"
   ]
  },
  {
   "cell_type": "code",
   "execution_count": 68,
   "id": "2e94ffdf",
   "metadata": {},
   "outputs": [
    {
     "data": {
      "text/plain": [
       "1.0    25962\n",
       "2.0     3081\n",
       "3.0     2516\n",
       "4.0     1451\n",
       "5.0      363\n",
       "6.0      338\n",
       "7.0      300\n",
       "8.0        1\n",
       "Name: channel_type, dtype: int64"
      ]
     },
     "execution_count": 68,
     "metadata": {},
     "output_type": "execute_result"
    }
   ],
   "source": [
    "app_train['channel_type'].value_counts()"
   ]
  },
  {
   "cell_type": "code",
   "execution_count": 69,
   "id": "ca7777c7",
   "metadata": {},
   "outputs": [
    {
     "data": {
      "text/html": [
       "<div>\n",
       "<style scoped>\n",
       "    .dataframe tbody tr th:only-of-type {\n",
       "        vertical-align: middle;\n",
       "    }\n",
       "\n",
       "    .dataframe tbody tr th {\n",
       "        vertical-align: top;\n",
       "    }\n",
       "\n",
       "    .dataframe thead th {\n",
       "        text-align: right;\n",
       "    }\n",
       "</style>\n",
       "<table border=\"1\" class=\"dataframe\">\n",
       "  <thead>\n",
       "    <tr style=\"text-align: right;\">\n",
       "      <th></th>\n",
       "      <th>channel_type</th>\n",
       "      <th>TARGET</th>\n",
       "    </tr>\n",
       "  </thead>\n",
       "  <tbody>\n",
       "    <tr>\n",
       "      <th>channel_type</th>\n",
       "      <td>1.000000</td>\n",
       "      <td>0.019057</td>\n",
       "    </tr>\n",
       "    <tr>\n",
       "      <th>TARGET</th>\n",
       "      <td>0.019057</td>\n",
       "      <td>1.000000</td>\n",
       "    </tr>\n",
       "  </tbody>\n",
       "</table>\n",
       "</div>"
      ],
      "text/plain": [
       "              channel_type    TARGET\n",
       "channel_type      1.000000  0.019057\n",
       "TARGET            0.019057  1.000000"
      ]
     },
     "execution_count": 69,
     "metadata": {},
     "output_type": "execute_result"
    }
   ],
   "source": [
    "app_train[['channel_type', 'TARGET']].corr()"
   ]
  },
  {
   "cell_type": "markdown",
   "id": "3becba1c",
   "metadata": {},
   "source": [
    "### sellerplace_area"
   ]
  },
  {
   "cell_type": "code",
   "execution_count": 70,
   "id": "fb206052",
   "metadata": {},
   "outputs": [
    {
     "data": {
      "text/plain": [
       "-1.0        27416\n",
       " 0.0         1550\n",
       " 4.0          694\n",
       " 5.0          453\n",
       " 3.0          289\n",
       "            ...  \n",
       " 288.0          1\n",
       " 2105.0         1\n",
       " 134.0          1\n",
       " 13000.0        1\n",
       " 3102.0         1\n",
       "Name: sellerplace_area, Length: 345, dtype: int64"
      ]
     },
     "execution_count": 70,
     "metadata": {},
     "output_type": "execute_result"
    }
   ],
   "source": [
    "app_train['sellerplace_area'].value_counts()"
   ]
  },
  {
   "cell_type": "code",
   "execution_count": 71,
   "id": "1b83f582",
   "metadata": {},
   "outputs": [
    {
     "data": {
      "text/html": [
       "<div>\n",
       "<style scoped>\n",
       "    .dataframe tbody tr th:only-of-type {\n",
       "        vertical-align: middle;\n",
       "    }\n",
       "\n",
       "    .dataframe tbody tr th {\n",
       "        vertical-align: top;\n",
       "    }\n",
       "\n",
       "    .dataframe thead th {\n",
       "        text-align: right;\n",
       "    }\n",
       "</style>\n",
       "<table border=\"1\" class=\"dataframe\">\n",
       "  <thead>\n",
       "    <tr style=\"text-align: right;\">\n",
       "      <th></th>\n",
       "      <th>sellerplace_area</th>\n",
       "      <th>TARGET</th>\n",
       "    </tr>\n",
       "  </thead>\n",
       "  <tbody>\n",
       "    <tr>\n",
       "      <th>sellerplace_area</th>\n",
       "      <td>1.000000</td>\n",
       "      <td>0.011037</td>\n",
       "    </tr>\n",
       "    <tr>\n",
       "      <th>TARGET</th>\n",
       "      <td>0.011037</td>\n",
       "      <td>1.000000</td>\n",
       "    </tr>\n",
       "  </tbody>\n",
       "</table>\n",
       "</div>"
      ],
      "text/plain": [
       "                  sellerplace_area    TARGET\n",
       "sellerplace_area          1.000000  0.011037\n",
       "TARGET                    0.011037  1.000000"
      ]
     },
     "execution_count": 71,
     "metadata": {},
     "output_type": "execute_result"
    }
   ],
   "source": [
    "app_train[['sellerplace_area', 'TARGET']].corr()"
   ]
  },
  {
   "cell_type": "markdown",
   "id": "9ef9ae0d",
   "metadata": {},
   "source": [
    "### name_seller_industry"
   ]
  },
  {
   "cell_type": "code",
   "execution_count": 72,
   "id": "5212fd36",
   "metadata": {},
   "outputs": [],
   "source": [
    "columns = ['XNA', 'Consumer electronics', 'Connectivity', 'Furniture', 'Industry', 'Construction', 'Auto technology', 'MLM partners', 'Clothing', 'Jewelry']\n",
    "app_train['name_seller_industry'].replace(columns, [1, 2, 3, 4, 5, 6, 7, 8, 9, 10], inplace=True)\n",
    "app_test['name_seller_industry'].replace(columns, [1, 2, 3, 4, 5, 6, 7, 8, 9, 10], inplace=True)"
   ]
  },
  {
   "cell_type": "code",
   "execution_count": 73,
   "id": "222c89fa",
   "metadata": {},
   "outputs": [
    {
     "data": {
      "text/plain": [
       "1.0     31877\n",
       "2.0       997\n",
       "3.0       955\n",
       "4.0       112\n",
       "5.0        23\n",
       "6.0        22\n",
       "7.0         8\n",
       "8.0         8\n",
       "9.0         8\n",
       "10.0        2\n",
       "Name: name_seller_industry, dtype: int64"
      ]
     },
     "execution_count": 73,
     "metadata": {},
     "output_type": "execute_result"
    }
   ],
   "source": [
    "app_train['name_seller_industry'].value_counts()"
   ]
  },
  {
   "cell_type": "code",
   "execution_count": 74,
   "id": "a323f44f",
   "metadata": {},
   "outputs": [
    {
     "data": {
      "text/html": [
       "<div>\n",
       "<style scoped>\n",
       "    .dataframe tbody tr th:only-of-type {\n",
       "        vertical-align: middle;\n",
       "    }\n",
       "\n",
       "    .dataframe tbody tr th {\n",
       "        vertical-align: top;\n",
       "    }\n",
       "\n",
       "    .dataframe thead th {\n",
       "        text-align: right;\n",
       "    }\n",
       "</style>\n",
       "<table border=\"1\" class=\"dataframe\">\n",
       "  <thead>\n",
       "    <tr style=\"text-align: right;\">\n",
       "      <th></th>\n",
       "      <th>name_seller_industry</th>\n",
       "      <th>TARGET</th>\n",
       "    </tr>\n",
       "  </thead>\n",
       "  <tbody>\n",
       "    <tr>\n",
       "      <th>name_seller_industry</th>\n",
       "      <td>1.000000</td>\n",
       "      <td>0.026302</td>\n",
       "    </tr>\n",
       "    <tr>\n",
       "      <th>TARGET</th>\n",
       "      <td>0.026302</td>\n",
       "      <td>1.000000</td>\n",
       "    </tr>\n",
       "  </tbody>\n",
       "</table>\n",
       "</div>"
      ],
      "text/plain": [
       "                      name_seller_industry    TARGET\n",
       "name_seller_industry              1.000000  0.026302\n",
       "TARGET                            0.026302  1.000000"
      ]
     },
     "execution_count": 74,
     "metadata": {},
     "output_type": "execute_result"
    }
   ],
   "source": [
    "app_train[['name_seller_industry', 'TARGET']].corr()"
   ]
  },
  {
   "cell_type": "markdown",
   "id": "ce56a781",
   "metadata": {},
   "source": [
    "### cnt_payment"
   ]
  },
  {
   "cell_type": "code",
   "execution_count": 75,
   "id": "4a3460a6",
   "metadata": {},
   "outputs": [
    {
     "data": {
      "text/plain": [
       "24.0    7211\n",
       "36.0    7080\n",
       "12.0    4991\n",
       "48.0    4300\n",
       "60.0    3796\n",
       "18.0    3264\n",
       "30.0    1593\n",
       "42.0     866\n",
       "6.0      615\n",
       "54.0     281\n",
       "72.0       6\n",
       "23.0       3\n",
       "29.0       1\n",
       "15.0       1\n",
       "44.0       1\n",
       "35.0       1\n",
       "26.0       1\n",
       "59.0       1\n",
       "Name: cnt_payment, dtype: int64"
      ]
     },
     "execution_count": 75,
     "metadata": {},
     "output_type": "execute_result"
    }
   ],
   "source": [
    "app_train['cnt_payment'].value_counts()"
   ]
  },
  {
   "cell_type": "code",
   "execution_count": 76,
   "id": "508b26be",
   "metadata": {},
   "outputs": [
    {
     "data": {
      "text/html": [
       "<div>\n",
       "<style scoped>\n",
       "    .dataframe tbody tr th:only-of-type {\n",
       "        vertical-align: middle;\n",
       "    }\n",
       "\n",
       "    .dataframe tbody tr th {\n",
       "        vertical-align: top;\n",
       "    }\n",
       "\n",
       "    .dataframe thead th {\n",
       "        text-align: right;\n",
       "    }\n",
       "</style>\n",
       "<table border=\"1\" class=\"dataframe\">\n",
       "  <thead>\n",
       "    <tr style=\"text-align: right;\">\n",
       "      <th></th>\n",
       "      <th>cnt_payment</th>\n",
       "      <th>TARGET</th>\n",
       "    </tr>\n",
       "  </thead>\n",
       "  <tbody>\n",
       "    <tr>\n",
       "      <th>cnt_payment</th>\n",
       "      <td>1.000000</td>\n",
       "      <td>0.072413</td>\n",
       "    </tr>\n",
       "    <tr>\n",
       "      <th>TARGET</th>\n",
       "      <td>0.072413</td>\n",
       "      <td>1.000000</td>\n",
       "    </tr>\n",
       "  </tbody>\n",
       "</table>\n",
       "</div>"
      ],
      "text/plain": [
       "             cnt_payment    TARGET\n",
       "cnt_payment     1.000000  0.072413\n",
       "TARGET          0.072413  1.000000"
      ]
     },
     "execution_count": 76,
     "metadata": {},
     "output_type": "execute_result"
    }
   ],
   "source": [
    "app_train[['cnt_payment', 'TARGET']].corr()"
   ]
  },
  {
   "cell_type": "markdown",
   "id": "4d9573d3",
   "metadata": {},
   "source": [
    "### name_yield_group"
   ]
  },
  {
   "cell_type": "code",
   "execution_count": 77,
   "id": "7bd9e37a",
   "metadata": {},
   "outputs": [],
   "source": [
    "columns = ['low_normal', 'middle', 'high', 'low_action']\n",
    "app_train['name_yield_group'].replace(columns, [1, 2, 3, 4], inplace=True)\n",
    "app_test['name_yield_group'].replace(columns, [1, 2, 3, 4], inplace=True)"
   ]
  },
  {
   "cell_type": "code",
   "execution_count": 78,
   "id": "f5dae41e",
   "metadata": {},
   "outputs": [
    {
     "data": {
      "text/plain": [
       "1.0    15907\n",
       "2.0    11925\n",
       "3.0     3575\n",
       "4.0     2605\n",
       "Name: name_yield_group, dtype: int64"
      ]
     },
     "execution_count": 78,
     "metadata": {},
     "output_type": "execute_result"
    }
   ],
   "source": [
    "app_train['name_yield_group'].value_counts()"
   ]
  },
  {
   "cell_type": "code",
   "execution_count": 79,
   "id": "68c9b1df",
   "metadata": {},
   "outputs": [
    {
     "data": {
      "text/html": [
       "<div>\n",
       "<style scoped>\n",
       "    .dataframe tbody tr th:only-of-type {\n",
       "        vertical-align: middle;\n",
       "    }\n",
       "\n",
       "    .dataframe tbody tr th {\n",
       "        vertical-align: top;\n",
       "    }\n",
       "\n",
       "    .dataframe thead th {\n",
       "        text-align: right;\n",
       "    }\n",
       "</style>\n",
       "<table border=\"1\" class=\"dataframe\">\n",
       "  <thead>\n",
       "    <tr style=\"text-align: right;\">\n",
       "      <th></th>\n",
       "      <th>name_yield_group</th>\n",
       "      <th>TARGET</th>\n",
       "    </tr>\n",
       "  </thead>\n",
       "  <tbody>\n",
       "    <tr>\n",
       "      <th>name_yield_group</th>\n",
       "      <td>1.000000</td>\n",
       "      <td>0.018434</td>\n",
       "    </tr>\n",
       "    <tr>\n",
       "      <th>TARGET</th>\n",
       "      <td>0.018434</td>\n",
       "      <td>1.000000</td>\n",
       "    </tr>\n",
       "  </tbody>\n",
       "</table>\n",
       "</div>"
      ],
      "text/plain": [
       "                  name_yield_group    TARGET\n",
       "name_yield_group          1.000000  0.018434\n",
       "TARGET                    0.018434  1.000000"
      ]
     },
     "execution_count": 79,
     "metadata": {},
     "output_type": "execute_result"
    }
   ],
   "source": [
    "app_train[['name_yield_group', 'TARGET']].corr()"
   ]
  },
  {
   "cell_type": "markdown",
   "id": "6d3345a0",
   "metadata": {},
   "source": [
    "### product_combination"
   ]
  },
  {
   "cell_type": "code",
   "execution_count": 80,
   "id": "471b3cf8",
   "metadata": {},
   "outputs": [],
   "source": [
    "columns = ['Cash X-Sell: low', 'Cash X-Sell: middle', 'Cash X-Sell: high', 'Cash Street: low', 'Cash Street: middle', 'Cash Street: high']\n",
    "app_train['product_combination'].replace(columns, [1, 2, 3, 4, 5, 6], inplace=True)\n",
    "app_test['product_combination'].replace(columns, [1, 2, 3, 4, 5, 6], inplace=True)"
   ]
  },
  {
   "cell_type": "code",
   "execution_count": 81,
   "id": "977c0bec",
   "metadata": {},
   "outputs": [
    {
     "data": {
      "text/plain": [
       "1.0    17152\n",
       "2.0    10786\n",
       "3.0     2473\n",
       "4.0     1360\n",
       "5.0     1139\n",
       "6.0     1102\n",
       "Name: product_combination, dtype: int64"
      ]
     },
     "execution_count": 81,
     "metadata": {},
     "output_type": "execute_result"
    }
   ],
   "source": [
    "app_train['product_combination'].value_counts()"
   ]
  },
  {
   "cell_type": "code",
   "execution_count": 82,
   "id": "0e547b68",
   "metadata": {},
   "outputs": [
    {
     "data": {
      "text/html": [
       "<div>\n",
       "<style scoped>\n",
       "    .dataframe tbody tr th:only-of-type {\n",
       "        vertical-align: middle;\n",
       "    }\n",
       "\n",
       "    .dataframe tbody tr th {\n",
       "        vertical-align: top;\n",
       "    }\n",
       "\n",
       "    .dataframe thead th {\n",
       "        text-align: right;\n",
       "    }\n",
       "</style>\n",
       "<table border=\"1\" class=\"dataframe\">\n",
       "  <thead>\n",
       "    <tr style=\"text-align: right;\">\n",
       "      <th></th>\n",
       "      <th>product_combination</th>\n",
       "      <th>TARGET</th>\n",
       "    </tr>\n",
       "  </thead>\n",
       "  <tbody>\n",
       "    <tr>\n",
       "      <th>product_combination</th>\n",
       "      <td>1.000000</td>\n",
       "      <td>0.071361</td>\n",
       "    </tr>\n",
       "    <tr>\n",
       "      <th>TARGET</th>\n",
       "      <td>0.071361</td>\n",
       "      <td>1.000000</td>\n",
       "    </tr>\n",
       "  </tbody>\n",
       "</table>\n",
       "</div>"
      ],
      "text/plain": [
       "                     product_combination    TARGET\n",
       "product_combination             1.000000  0.071361\n",
       "TARGET                          0.071361  1.000000"
      ]
     },
     "execution_count": 82,
     "metadata": {},
     "output_type": "execute_result"
    }
   ],
   "source": [
    "app_train[['product_combination', 'TARGET']].corr()"
   ]
  },
  {
   "cell_type": "markdown",
   "id": "3114fb9e",
   "metadata": {},
   "source": [
    "### days_first_drawing"
   ]
  },
  {
   "cell_type": "code",
   "execution_count": 83,
   "id": "742efe50",
   "metadata": {},
   "outputs": [
    {
     "data": {
      "text/plain": [
       "365243.0    34000\n",
       "Name: days_first_drawing, dtype: int64"
      ]
     },
     "execution_count": 83,
     "metadata": {},
     "output_type": "execute_result"
    }
   ],
   "source": [
    "app_train['days_first_drawing'].value_counts()"
   ]
  },
  {
   "cell_type": "code",
   "execution_count": 84,
   "id": "c944995a",
   "metadata": {},
   "outputs": [],
   "source": [
    "app_train.drop(['days_first_drawing'], axis=1, inplace=True)\n",
    "app_test.drop(['days_first_drawing'], axis=1, inplace=True)"
   ]
  },
  {
   "cell_type": "code",
   "execution_count": 85,
   "id": "43f9484b",
   "metadata": {},
   "outputs": [],
   "source": [
    "### days_first_due"
   ]
  },
  {
   "cell_type": "code",
   "execution_count": 86,
   "id": "a2713f00",
   "metadata": {},
   "outputs": [
    {
     "data": {
      "text/plain": [
       "-214.0     130\n",
       "-153.0     109\n",
       "-334.0     106\n",
       "-184.0     106\n",
       "-243.0     104\n",
       "          ... \n",
       "-1352.0      1\n",
       "-2236.0      1\n",
       "-1279.0      1\n",
       "-2297.0      1\n",
       "-1277.0      1\n",
       "Name: days_first_due, Length: 1353, dtype: int64"
      ]
     },
     "execution_count": 86,
     "metadata": {},
     "output_type": "execute_result"
    }
   ],
   "source": [
    "app_train['days_first_due'].value_counts()"
   ]
  },
  {
   "cell_type": "code",
   "execution_count": 87,
   "id": "8a651c0b",
   "metadata": {},
   "outputs": [
    {
     "data": {
      "text/html": [
       "<div>\n",
       "<style scoped>\n",
       "    .dataframe tbody tr th:only-of-type {\n",
       "        vertical-align: middle;\n",
       "    }\n",
       "\n",
       "    .dataframe tbody tr th {\n",
       "        vertical-align: top;\n",
       "    }\n",
       "\n",
       "    .dataframe thead th {\n",
       "        text-align: right;\n",
       "    }\n",
       "</style>\n",
       "<table border=\"1\" class=\"dataframe\">\n",
       "  <thead>\n",
       "    <tr style=\"text-align: right;\">\n",
       "      <th></th>\n",
       "      <th>days_first_due</th>\n",
       "      <th>TARGET</th>\n",
       "    </tr>\n",
       "  </thead>\n",
       "  <tbody>\n",
       "    <tr>\n",
       "      <th>days_first_due</th>\n",
       "      <td>1.000000</td>\n",
       "      <td>0.005313</td>\n",
       "    </tr>\n",
       "    <tr>\n",
       "      <th>TARGET</th>\n",
       "      <td>0.005313</td>\n",
       "      <td>1.000000</td>\n",
       "    </tr>\n",
       "  </tbody>\n",
       "</table>\n",
       "</div>"
      ],
      "text/plain": [
       "                days_first_due    TARGET\n",
       "days_first_due        1.000000  0.005313\n",
       "TARGET                0.005313  1.000000"
      ]
     },
     "execution_count": 87,
     "metadata": {},
     "output_type": "execute_result"
    }
   ],
   "source": [
    "app_train[['days_first_due', 'TARGET']].corr()"
   ]
  },
  {
   "cell_type": "markdown",
   "id": "88323fe9",
   "metadata": {},
   "source": [
    "### days_last_due_1st_version"
   ]
  },
  {
   "cell_type": "code",
   "execution_count": 88,
   "id": "ce5d6a9f",
   "metadata": {},
   "outputs": [
    {
     "data": {
      "text/plain": [
       "-8.0       86\n",
       "-4.0       79\n",
       "-12.0      78\n",
       "-10.0      74\n",
       "-7.0       73\n",
       "           ..\n",
       "-100.0      1\n",
       "-1572.0     1\n",
       " 1772.0     1\n",
       " 1741.0     1\n",
       " 1781.0     1\n",
       "Name: days_last_due_1st_version, Length: 1840, dtype: int64"
      ]
     },
     "execution_count": 88,
     "metadata": {},
     "output_type": "execute_result"
    }
   ],
   "source": [
    "app_train['days_last_due_1st_version'].value_counts()"
   ]
  },
  {
   "cell_type": "code",
   "execution_count": 89,
   "id": "618d5f2b",
   "metadata": {},
   "outputs": [
    {
     "data": {
      "text/html": [
       "<div>\n",
       "<style scoped>\n",
       "    .dataframe tbody tr th:only-of-type {\n",
       "        vertical-align: middle;\n",
       "    }\n",
       "\n",
       "    .dataframe tbody tr th {\n",
       "        vertical-align: top;\n",
       "    }\n",
       "\n",
       "    .dataframe thead th {\n",
       "        text-align: right;\n",
       "    }\n",
       "</style>\n",
       "<table border=\"1\" class=\"dataframe\">\n",
       "  <thead>\n",
       "    <tr style=\"text-align: right;\">\n",
       "      <th></th>\n",
       "      <th>days_last_due_1st_version</th>\n",
       "      <th>TARGET</th>\n",
       "    </tr>\n",
       "  </thead>\n",
       "  <tbody>\n",
       "    <tr>\n",
       "      <th>days_last_due_1st_version</th>\n",
       "      <td>1.000000</td>\n",
       "      <td>0.074578</td>\n",
       "    </tr>\n",
       "    <tr>\n",
       "      <th>TARGET</th>\n",
       "      <td>0.074578</td>\n",
       "      <td>1.000000</td>\n",
       "    </tr>\n",
       "  </tbody>\n",
       "</table>\n",
       "</div>"
      ],
      "text/plain": [
       "                           days_last_due_1st_version    TARGET\n",
       "days_last_due_1st_version                   1.000000  0.074578\n",
       "TARGET                                      0.074578  1.000000"
      ]
     },
     "execution_count": 89,
     "metadata": {},
     "output_type": "execute_result"
    }
   ],
   "source": [
    "app_train[['days_last_due_1st_version', 'TARGET']].corr()"
   ]
  },
  {
   "cell_type": "code",
   "execution_count": 90,
   "id": "b15b8454",
   "metadata": {},
   "outputs": [],
   "source": [
    "### days_last_due"
   ]
  },
  {
   "cell_type": "code",
   "execution_count": 91,
   "id": "3ed9e46d",
   "metadata": {},
   "outputs": [
    {
     "data": {
      "text/plain": [
       " 365243.0    29864\n",
       "-10.0          152\n",
       "-12.0          145\n",
       "-8.0           144\n",
       "-6.0           136\n",
       "             ...  \n",
       "-460.0           1\n",
       "-2116.0          1\n",
       "-107.0           1\n",
       "-67.0            1\n",
       "-255.0           1\n",
       "Name: days_last_due, Length: 93, dtype: int64"
      ]
     },
     "execution_count": 91,
     "metadata": {},
     "output_type": "execute_result"
    }
   ],
   "source": [
    "app_train['days_last_due'].value_counts()"
   ]
  },
  {
   "cell_type": "code",
   "execution_count": 92,
   "id": "146415d6",
   "metadata": {},
   "outputs": [
    {
     "data": {
      "text/html": [
       "<div>\n",
       "<style scoped>\n",
       "    .dataframe tbody tr th:only-of-type {\n",
       "        vertical-align: middle;\n",
       "    }\n",
       "\n",
       "    .dataframe tbody tr th {\n",
       "        vertical-align: top;\n",
       "    }\n",
       "\n",
       "    .dataframe thead th {\n",
       "        text-align: right;\n",
       "    }\n",
       "</style>\n",
       "<table border=\"1\" class=\"dataframe\">\n",
       "  <thead>\n",
       "    <tr style=\"text-align: right;\">\n",
       "      <th></th>\n",
       "      <th>days_last_due</th>\n",
       "      <th>TARGET</th>\n",
       "    </tr>\n",
       "  </thead>\n",
       "  <tbody>\n",
       "    <tr>\n",
       "      <th>days_last_due</th>\n",
       "      <td>1.000000</td>\n",
       "      <td>0.029502</td>\n",
       "    </tr>\n",
       "    <tr>\n",
       "      <th>TARGET</th>\n",
       "      <td>0.029502</td>\n",
       "      <td>1.000000</td>\n",
       "    </tr>\n",
       "  </tbody>\n",
       "</table>\n",
       "</div>"
      ],
      "text/plain": [
       "               days_last_due    TARGET\n",
       "days_last_due       1.000000  0.029502\n",
       "TARGET              0.029502  1.000000"
      ]
     },
     "execution_count": 92,
     "metadata": {},
     "output_type": "execute_result"
    }
   ],
   "source": [
    "app_train[['days_last_due', 'TARGET']].corr()"
   ]
  },
  {
   "cell_type": "markdown",
   "id": "18c1eaba",
   "metadata": {},
   "source": [
    "### days_termination"
   ]
  },
  {
   "cell_type": "code",
   "execution_count": 93,
   "id": "18290c4d",
   "metadata": {},
   "outputs": [
    {
     "data": {
      "text/plain": [
       " 365243.0    30457\n",
       "-2.0           157\n",
       "-3.0           149\n",
       "-5.0           146\n",
       "-9.0           144\n",
       "             ...  \n",
       "-1628.0          1\n",
       "-1504.0          1\n",
       "-1632.0          1\n",
       "-1554.0          1\n",
       "-1534.0          1\n",
       "Name: days_termination, Length: 65, dtype: int64"
      ]
     },
     "execution_count": 93,
     "metadata": {},
     "output_type": "execute_result"
    }
   ],
   "source": [
    "app_train['days_termination'].value_counts()"
   ]
  },
  {
   "cell_type": "code",
   "execution_count": 94,
   "id": "ee1e22e8",
   "metadata": {},
   "outputs": [
    {
     "data": {
      "text/html": [
       "<div>\n",
       "<style scoped>\n",
       "    .dataframe tbody tr th:only-of-type {\n",
       "        vertical-align: middle;\n",
       "    }\n",
       "\n",
       "    .dataframe tbody tr th {\n",
       "        vertical-align: top;\n",
       "    }\n",
       "\n",
       "    .dataframe thead th {\n",
       "        text-align: right;\n",
       "    }\n",
       "</style>\n",
       "<table border=\"1\" class=\"dataframe\">\n",
       "  <thead>\n",
       "    <tr style=\"text-align: right;\">\n",
       "      <th></th>\n",
       "      <th>days_termination</th>\n",
       "      <th>TARGET</th>\n",
       "    </tr>\n",
       "  </thead>\n",
       "  <tbody>\n",
       "    <tr>\n",
       "      <th>days_termination</th>\n",
       "      <td>1.000000</td>\n",
       "      <td>0.026684</td>\n",
       "    </tr>\n",
       "    <tr>\n",
       "      <th>TARGET</th>\n",
       "      <td>0.026684</td>\n",
       "      <td>1.000000</td>\n",
       "    </tr>\n",
       "  </tbody>\n",
       "</table>\n",
       "</div>"
      ],
      "text/plain": [
       "                  days_termination    TARGET\n",
       "days_termination          1.000000  0.026684\n",
       "TARGET                    0.026684  1.000000"
      ]
     },
     "execution_count": 94,
     "metadata": {},
     "output_type": "execute_result"
    }
   ],
   "source": [
    "app_train[['days_termination', 'TARGET']].corr()"
   ]
  },
  {
   "cell_type": "markdown",
   "id": "2e066e55",
   "metadata": {},
   "source": [
    "### nflag_insured_on_approval"
   ]
  },
  {
   "cell_type": "code",
   "execution_count": 95,
   "id": "52ce4faa",
   "metadata": {},
   "outputs": [
    {
     "data": {
      "text/plain": [
       "1.0    26672\n",
       "0.0     7328\n",
       "Name: nflag_insured_on_approval, dtype: int64"
      ]
     },
     "execution_count": 95,
     "metadata": {},
     "output_type": "execute_result"
    }
   ],
   "source": [
    "app_train['nflag_insured_on_approval'].value_counts()"
   ]
  },
  {
   "cell_type": "code",
   "execution_count": 96,
   "id": "5ae5bb43",
   "metadata": {},
   "outputs": [
    {
     "data": {
      "text/html": [
       "<div>\n",
       "<style scoped>\n",
       "    .dataframe tbody tr th:only-of-type {\n",
       "        vertical-align: middle;\n",
       "    }\n",
       "\n",
       "    .dataframe tbody tr th {\n",
       "        vertical-align: top;\n",
       "    }\n",
       "\n",
       "    .dataframe thead th {\n",
       "        text-align: right;\n",
       "    }\n",
       "</style>\n",
       "<table border=\"1\" class=\"dataframe\">\n",
       "  <thead>\n",
       "    <tr style=\"text-align: right;\">\n",
       "      <th></th>\n",
       "      <th>nflag_insured_on_approval</th>\n",
       "      <th>TARGET</th>\n",
       "    </tr>\n",
       "  </thead>\n",
       "  <tbody>\n",
       "    <tr>\n",
       "      <th>nflag_insured_on_approval</th>\n",
       "      <td>1.000000</td>\n",
       "      <td>0.012391</td>\n",
       "    </tr>\n",
       "    <tr>\n",
       "      <th>TARGET</th>\n",
       "      <td>0.012391</td>\n",
       "      <td>1.000000</td>\n",
       "    </tr>\n",
       "  </tbody>\n",
       "</table>\n",
       "</div>"
      ],
      "text/plain": [
       "                           nflag_insured_on_approval    TARGET\n",
       "nflag_insured_on_approval                   1.000000  0.012391\n",
       "TARGET                                      0.012391  1.000000"
      ]
     },
     "execution_count": 96,
     "metadata": {},
     "output_type": "execute_result"
    }
   ],
   "source": [
    "app_train[['nflag_insured_on_approval', 'TARGET']].corr()"
   ]
  },
  {
   "cell_type": "markdown",
   "id": "b571d479",
   "metadata": {},
   "source": [
    "### max_sk_dpd"
   ]
  },
  {
   "cell_type": "code",
   "execution_count": 97,
   "id": "25b97572",
   "metadata": {},
   "outputs": [
    {
     "data": {
      "text/plain": [
       "0.0       33514\n",
       "1.0         110\n",
       "2.0          76\n",
       "3.0          53\n",
       "4.0          30\n",
       "          ...  \n",
       "2024.0        1\n",
       "1956.0        1\n",
       "2186.0        1\n",
       "74.0          1\n",
       "117.0         1\n",
       "Name: max_sk_dpd, Length: 92, dtype: int64"
      ]
     },
     "execution_count": 97,
     "metadata": {},
     "output_type": "execute_result"
    }
   ],
   "source": [
    "app_train['max_sk_dpd'].value_counts()"
   ]
  },
  {
   "cell_type": "code",
   "execution_count": 98,
   "id": "e7515dc6",
   "metadata": {},
   "outputs": [
    {
     "data": {
      "text/html": [
       "<div>\n",
       "<style scoped>\n",
       "    .dataframe tbody tr th:only-of-type {\n",
       "        vertical-align: middle;\n",
       "    }\n",
       "\n",
       "    .dataframe tbody tr th {\n",
       "        vertical-align: top;\n",
       "    }\n",
       "\n",
       "    .dataframe thead th {\n",
       "        text-align: right;\n",
       "    }\n",
       "</style>\n",
       "<table border=\"1\" class=\"dataframe\">\n",
       "  <thead>\n",
       "    <tr style=\"text-align: right;\">\n",
       "      <th></th>\n",
       "      <th>max_sk_dpd</th>\n",
       "      <th>TARGET</th>\n",
       "    </tr>\n",
       "  </thead>\n",
       "  <tbody>\n",
       "    <tr>\n",
       "      <th>max_sk_dpd</th>\n",
       "      <td>1.000000</td>\n",
       "      <td>0.010112</td>\n",
       "    </tr>\n",
       "    <tr>\n",
       "      <th>TARGET</th>\n",
       "      <td>0.010112</td>\n",
       "      <td>1.000000</td>\n",
       "    </tr>\n",
       "  </tbody>\n",
       "</table>\n",
       "</div>"
      ],
      "text/plain": [
       "            max_sk_dpd    TARGET\n",
       "max_sk_dpd    1.000000  0.010112\n",
       "TARGET        0.010112  1.000000"
      ]
     },
     "execution_count": 98,
     "metadata": {},
     "output_type": "execute_result"
    }
   ],
   "source": [
    "app_train[['max_sk_dpd', 'TARGET']].corr()"
   ]
  },
  {
   "cell_type": "markdown",
   "id": "3f1cf596",
   "metadata": {},
   "source": [
    "### installment_payment_ratio_1000_mean_mean"
   ]
  },
  {
   "cell_type": "code",
   "execution_count": 99,
   "id": "52c6d89e",
   "metadata": {},
   "outputs": [
    {
     "data": {
      "text/plain": [
       " 0.000000        57898\n",
       " 22500.000000      120\n",
       " 45000.000000       94\n",
       " 11250.000000       79\n",
       " 15000.000000       79\n",
       "                 ...  \n",
       "-4592.368636         1\n",
       "-845.156250          1\n",
       " 20485.198333        1\n",
       " 6394.845789         1\n",
       " 9014.333365         1\n",
       "Name: installment_payment_ratio_1000_mean_mean, Length: 51777, dtype: int64"
      ]
     },
     "execution_count": 99,
     "metadata": {},
     "output_type": "execute_result"
    }
   ],
   "source": [
    "app_train['installment_payment_ratio_1000_mean_mean'].value_counts()"
   ]
  },
  {
   "cell_type": "code",
   "execution_count": 100,
   "id": "2e659c39",
   "metadata": {},
   "outputs": [
    {
     "data": {
      "text/plain": [
       "0                 NaN\n",
       "1            0.000000\n",
       "2                 NaN\n",
       "3            0.000000\n",
       "4            0.000000\n",
       "             ...     \n",
       "307506            NaN\n",
       "307507            NaN\n",
       "307508            NaN\n",
       "307509            NaN\n",
       "307510    9014.333365\n",
       "Name: installment_payment_ratio_1000_mean_mean, Length: 307511, dtype: float64"
      ]
     },
     "execution_count": 100,
     "metadata": {},
     "output_type": "execute_result"
    }
   ],
   "source": [
    "app_train['installment_payment_ratio_1000_mean_mean']"
   ]
  },
  {
   "cell_type": "code",
   "execution_count": 101,
   "id": "56e46445",
   "metadata": {},
   "outputs": [
    {
     "data": {
      "text/html": [
       "<div>\n",
       "<style scoped>\n",
       "    .dataframe tbody tr th:only-of-type {\n",
       "        vertical-align: middle;\n",
       "    }\n",
       "\n",
       "    .dataframe tbody tr th {\n",
       "        vertical-align: top;\n",
       "    }\n",
       "\n",
       "    .dataframe thead th {\n",
       "        text-align: right;\n",
       "    }\n",
       "</style>\n",
       "<table border=\"1\" class=\"dataframe\">\n",
       "  <thead>\n",
       "    <tr style=\"text-align: right;\">\n",
       "      <th></th>\n",
       "      <th>installment_payment_ratio_1000_mean_mean</th>\n",
       "      <th>TARGET</th>\n",
       "    </tr>\n",
       "  </thead>\n",
       "  <tbody>\n",
       "    <tr>\n",
       "      <th>installment_payment_ratio_1000_mean_mean</th>\n",
       "      <td>1.000000</td>\n",
       "      <td>-0.030569</td>\n",
       "    </tr>\n",
       "    <tr>\n",
       "      <th>TARGET</th>\n",
       "      <td>-0.030569</td>\n",
       "      <td>1.000000</td>\n",
       "    </tr>\n",
       "  </tbody>\n",
       "</table>\n",
       "</div>"
      ],
      "text/plain": [
       "                                          installment_payment_ratio_1000_mean_mean  \\\n",
       "installment_payment_ratio_1000_mean_mean                                  1.000000   \n",
       "TARGET                                                                   -0.030569   \n",
       "\n",
       "                                            TARGET  \n",
       "installment_payment_ratio_1000_mean_mean -0.030569  \n",
       "TARGET                                    1.000000  "
      ]
     },
     "execution_count": 101,
     "metadata": {},
     "output_type": "execute_result"
    }
   ],
   "source": [
    "app_train[['installment_payment_ratio_1000_mean_mean', 'TARGET']].corr()"
   ]
  },
  {
   "cell_type": "code",
   "execution_count": 102,
   "id": "4f7a7678",
   "metadata": {},
   "outputs": [
    {
     "data": {
      "text/plain": [
       "307511"
      ]
     },
     "execution_count": 102,
     "metadata": {},
     "output_type": "execute_result"
    }
   ],
   "source": [
    "len(app_train)"
   ]
  },
  {
   "cell_type": "code",
   "execution_count": 103,
   "id": "55681d1d",
   "metadata": {},
   "outputs": [
    {
     "data": {
      "text/plain": [
       "48744"
      ]
     },
     "execution_count": 103,
     "metadata": {},
     "output_type": "execute_result"
    }
   ],
   "source": [
    "len(app_test)"
   ]
  },
  {
   "cell_type": "code",
   "execution_count": 104,
   "id": "d4a07d68",
   "metadata": {},
   "outputs": [],
   "source": [
    "### "
   ]
  },
  {
   "cell_type": "code",
   "execution_count": 105,
   "id": "e53e9578",
   "metadata": {},
   "outputs": [
    {
     "data": {
      "text/html": [
       "<div>\n",
       "<style scoped>\n",
       "    .dataframe tbody tr th:only-of-type {\n",
       "        vertical-align: middle;\n",
       "    }\n",
       "\n",
       "    .dataframe tbody tr th {\n",
       "        vertical-align: top;\n",
       "    }\n",
       "\n",
       "    .dataframe thead th {\n",
       "        text-align: right;\n",
       "    }\n",
       "</style>\n",
       "<table border=\"1\" class=\"dataframe\">\n",
       "  <thead>\n",
       "    <tr style=\"text-align: right;\">\n",
       "      <th></th>\n",
       "      <th>SK_ID_CURR</th>\n",
       "      <th>EXT_SOURCE_1</th>\n",
       "      <th>EXT_SOURCE_2</th>\n",
       "      <th>EXT_SOURCE_3</th>\n",
       "      <th>amt_annuity</th>\n",
       "      <th>amt_application</th>\n",
       "      <th>amt_credit</th>\n",
       "      <th>amt_down_payment</th>\n",
       "      <th>amt_goods_price</th>\n",
       "      <th>weekday_appr_process_start</th>\n",
       "      <th>...</th>\n",
       "      <th>cnt_payment</th>\n",
       "      <th>name_yield_group</th>\n",
       "      <th>product_combination</th>\n",
       "      <th>days_first_due</th>\n",
       "      <th>days_last_due_1st_version</th>\n",
       "      <th>days_last_due</th>\n",
       "      <th>days_termination</th>\n",
       "      <th>nflag_insured_on_approval</th>\n",
       "      <th>max_sk_dpd</th>\n",
       "      <th>installment_payment_ratio_1000_mean_mean</th>\n",
       "    </tr>\n",
       "  </thead>\n",
       "  <tbody>\n",
       "    <tr>\n",
       "      <th>0</th>\n",
       "      <td>100002</td>\n",
       "      <td>0.083037</td>\n",
       "      <td>0.262949</td>\n",
       "      <td>0.139376</td>\n",
       "      <td>NaN</td>\n",
       "      <td>NaN</td>\n",
       "      <td>NaN</td>\n",
       "      <td>NaN</td>\n",
       "      <td>NaN</td>\n",
       "      <td>NaN</td>\n",
       "      <td>...</td>\n",
       "      <td>NaN</td>\n",
       "      <td>NaN</td>\n",
       "      <td>NaN</td>\n",
       "      <td>NaN</td>\n",
       "      <td>NaN</td>\n",
       "      <td>NaN</td>\n",
       "      <td>NaN</td>\n",
       "      <td>NaN</td>\n",
       "      <td>NaN</td>\n",
       "      <td>NaN</td>\n",
       "    </tr>\n",
       "    <tr>\n",
       "      <th>1</th>\n",
       "      <td>100003</td>\n",
       "      <td>0.311267</td>\n",
       "      <td>0.622246</td>\n",
       "      <td>NaN</td>\n",
       "      <td>NaN</td>\n",
       "      <td>NaN</td>\n",
       "      <td>NaN</td>\n",
       "      <td>NaN</td>\n",
       "      <td>NaN</td>\n",
       "      <td>NaN</td>\n",
       "      <td>...</td>\n",
       "      <td>NaN</td>\n",
       "      <td>NaN</td>\n",
       "      <td>NaN</td>\n",
       "      <td>NaN</td>\n",
       "      <td>NaN</td>\n",
       "      <td>NaN</td>\n",
       "      <td>NaN</td>\n",
       "      <td>NaN</td>\n",
       "      <td>NaN</td>\n",
       "      <td>0.0</td>\n",
       "    </tr>\n",
       "    <tr>\n",
       "      <th>2</th>\n",
       "      <td>100004</td>\n",
       "      <td>NaN</td>\n",
       "      <td>0.555912</td>\n",
       "      <td>0.729567</td>\n",
       "      <td>NaN</td>\n",
       "      <td>NaN</td>\n",
       "      <td>NaN</td>\n",
       "      <td>NaN</td>\n",
       "      <td>NaN</td>\n",
       "      <td>NaN</td>\n",
       "      <td>...</td>\n",
       "      <td>NaN</td>\n",
       "      <td>NaN</td>\n",
       "      <td>NaN</td>\n",
       "      <td>NaN</td>\n",
       "      <td>NaN</td>\n",
       "      <td>NaN</td>\n",
       "      <td>NaN</td>\n",
       "      <td>NaN</td>\n",
       "      <td>NaN</td>\n",
       "      <td>NaN</td>\n",
       "    </tr>\n",
       "    <tr>\n",
       "      <th>3</th>\n",
       "      <td>100006</td>\n",
       "      <td>NaN</td>\n",
       "      <td>0.650442</td>\n",
       "      <td>NaN</td>\n",
       "      <td>NaN</td>\n",
       "      <td>NaN</td>\n",
       "      <td>NaN</td>\n",
       "      <td>NaN</td>\n",
       "      <td>NaN</td>\n",
       "      <td>NaN</td>\n",
       "      <td>...</td>\n",
       "      <td>NaN</td>\n",
       "      <td>NaN</td>\n",
       "      <td>NaN</td>\n",
       "      <td>NaN</td>\n",
       "      <td>NaN</td>\n",
       "      <td>NaN</td>\n",
       "      <td>NaN</td>\n",
       "      <td>NaN</td>\n",
       "      <td>NaN</td>\n",
       "      <td>0.0</td>\n",
       "    </tr>\n",
       "    <tr>\n",
       "      <th>4</th>\n",
       "      <td>100007</td>\n",
       "      <td>NaN</td>\n",
       "      <td>0.322738</td>\n",
       "      <td>NaN</td>\n",
       "      <td>16037.64</td>\n",
       "      <td>247500.0</td>\n",
       "      <td>274288.5</td>\n",
       "      <td>0.0</td>\n",
       "      <td>247500.0</td>\n",
       "      <td>2.0</td>\n",
       "      <td>...</td>\n",
       "      <td>24.0</td>\n",
       "      <td>2.0</td>\n",
       "      <td>2.0</td>\n",
       "      <td>-344.0</td>\n",
       "      <td>346.0</td>\n",
       "      <td>365243.0</td>\n",
       "      <td>365243.0</td>\n",
       "      <td>1.0</td>\n",
       "      <td>0.0</td>\n",
       "      <td>0.0</td>\n",
       "    </tr>\n",
       "  </tbody>\n",
       "</table>\n",
       "<p>5 rows × 33 columns</p>\n",
       "</div>"
      ],
      "text/plain": [
       "   SK_ID_CURR  EXT_SOURCE_1  EXT_SOURCE_2  EXT_SOURCE_3  amt_annuity  \\\n",
       "0      100002      0.083037      0.262949      0.139376          NaN   \n",
       "1      100003      0.311267      0.622246           NaN          NaN   \n",
       "2      100004           NaN      0.555912      0.729567          NaN   \n",
       "3      100006           NaN      0.650442           NaN          NaN   \n",
       "4      100007           NaN      0.322738           NaN     16037.64   \n",
       "\n",
       "   amt_application  amt_credit  amt_down_payment  amt_goods_price  \\\n",
       "0              NaN         NaN               NaN              NaN   \n",
       "1              NaN         NaN               NaN              NaN   \n",
       "2              NaN         NaN               NaN              NaN   \n",
       "3              NaN         NaN               NaN              NaN   \n",
       "4         247500.0    274288.5               0.0         247500.0   \n",
       "\n",
       "   weekday_appr_process_start  ...  cnt_payment  name_yield_group  \\\n",
       "0                         NaN  ...          NaN               NaN   \n",
       "1                         NaN  ...          NaN               NaN   \n",
       "2                         NaN  ...          NaN               NaN   \n",
       "3                         NaN  ...          NaN               NaN   \n",
       "4                         2.0  ...         24.0               2.0   \n",
       "\n",
       "   product_combination  days_first_due  days_last_due_1st_version  \\\n",
       "0                  NaN             NaN                        NaN   \n",
       "1                  NaN             NaN                        NaN   \n",
       "2                  NaN             NaN                        NaN   \n",
       "3                  NaN             NaN                        NaN   \n",
       "4                  2.0          -344.0                      346.0   \n",
       "\n",
       "   days_last_due  days_termination  nflag_insured_on_approval  max_sk_dpd  \\\n",
       "0            NaN               NaN                        NaN         NaN   \n",
       "1            NaN               NaN                        NaN         NaN   \n",
       "2            NaN               NaN                        NaN         NaN   \n",
       "3            NaN               NaN                        NaN         NaN   \n",
       "4       365243.0          365243.0                        1.0         0.0   \n",
       "\n",
       "   installment_payment_ratio_1000_mean_mean  \n",
       "0                                       NaN  \n",
       "1                                       0.0  \n",
       "2                                       NaN  \n",
       "3                                       0.0  \n",
       "4                                       0.0  \n",
       "\n",
       "[5 rows x 33 columns]"
      ]
     },
     "execution_count": 105,
     "metadata": {},
     "output_type": "execute_result"
    }
   ],
   "source": [
    "#num_cols = ['max_credit_day_overdue', 'max_days_credit_enddate', 'min_days_enddate_fact', 'max_amt_credit_max_overdue', 'cnt_credit_prolong_in_6month', 'sum_amt_credit_sum', 'sum_amt_credit_sum_debt', 'sum_amt_credit_sum_limit', 'sum_amt_credit_sum_overdue', 'avg_amt_annuity']\n",
    "\n",
    "data = pd.concat([app_train, app_test], sort=False)\n",
    "train = data[:len(app_train)]\n",
    "test = data[len(app_test):]\n",
    "\n",
    "\n",
    "y_train = train['TARGET']\n",
    "X_train = app_train.copy().drop('TARGET', axis=1)\n",
    "X_test = app_test.copy()\n",
    "\n",
    "# 学習データに基づいてYao-Johnson変換を定義\n",
    "#pt = PowerTransformer(method = 'yeo-johnson')\n",
    "#pt.fit(X_train[num_cols])\n",
    "\n",
    "# 変換後のデータで各列を置換\n",
    "#X_train[num_cols] = pt.transform(X_train[num_cols])\n",
    "#X_test[num_cols] = pt.transform(X_test[num_cols])\n",
    "\n",
    "X_train.head()"
   ]
  },
  {
   "cell_type": "code",
   "execution_count": 106,
   "id": "66221193",
   "metadata": {},
   "outputs": [
    {
     "name": "stdout",
     "output_type": "stream",
     "text": [
      "[00:45:41] WARNING: C:/Users/Administrator/workspace/xgboost-win64_release_1.6.0/src/learner.cc:627: \n",
      "Parameters: { \"silent\" } might not be used.\n",
      "\n",
      "  This could be a false alarm, with some parameters getting used by language bindings but\n",
      "  then being mistakenly passed down to XGBoost core, or some parameter actually being used\n",
      "  but getting flagged wrongly here. Please open an issue if you find any such cases.\n",
      "\n",
      "\n",
      "[0]\ttrain-logloss:0.50921\teval-logloss:0.50869\n",
      "[1]\ttrain-logloss:0.41014\teval-logloss:0.40929\n",
      "[2]\ttrain-logloss:0.35111\teval-logloss:0.35011\n",
      "[3]\ttrain-logloss:0.31454\teval-logloss:0.31340\n",
      "[4]\ttrain-logloss:0.29152\teval-logloss:0.29026\n",
      "[5]\ttrain-logloss:0.27692\teval-logloss:0.27559\n",
      "[6]\ttrain-logloss:0.26764\teval-logloss:0.26639\n",
      "[7]\ttrain-logloss:0.26174\teval-logloss:0.26065\n",
      "[8]\ttrain-logloss:0.25800\teval-logloss:0.25719\n",
      "[9]\ttrain-logloss:0.25558\teval-logloss:0.25497\n",
      "[10]\ttrain-logloss:0.25397\teval-logloss:0.25364\n",
      "[11]\ttrain-logloss:0.25285\teval-logloss:0.25276\n",
      "[12]\ttrain-logloss:0.25208\teval-logloss:0.25227\n",
      "[13]\ttrain-logloss:0.25152\teval-logloss:0.25198\n",
      "[14]\ttrain-logloss:0.25109\teval-logloss:0.25180\n",
      "[15]\ttrain-logloss:0.25071\teval-logloss:0.25176\n",
      "[16]\ttrain-logloss:0.25040\teval-logloss:0.25164\n",
      "[17]\ttrain-logloss:0.25006\teval-logloss:0.25162\n",
      "[18]\ttrain-logloss:0.24971\teval-logloss:0.25163\n",
      "[19]\ttrain-logloss:0.24947\teval-logloss:0.25163\n",
      "[20]\ttrain-logloss:0.24920\teval-logloss:0.25164\n",
      "[21]\ttrain-logloss:0.24898\teval-logloss:0.25157\n",
      "[22]\ttrain-logloss:0.24869\teval-logloss:0.25159\n",
      "[23]\ttrain-logloss:0.24853\teval-logloss:0.25156\n",
      "[24]\ttrain-logloss:0.24833\teval-logloss:0.25156\n",
      "[25]\ttrain-logloss:0.24807\teval-logloss:0.25158\n",
      "[26]\ttrain-logloss:0.24790\teval-logloss:0.25162\n",
      "[27]\ttrain-logloss:0.24762\teval-logloss:0.25170\n",
      "[28]\ttrain-logloss:0.24741\teval-logloss:0.25172\n",
      "[29]\ttrain-logloss:0.24725\teval-logloss:0.25178\n",
      "[30]\ttrain-logloss:0.24711\teval-logloss:0.25182\n",
      "[31]\ttrain-logloss:0.24686\teval-logloss:0.25179\n",
      "[32]\ttrain-logloss:0.24667\teval-logloss:0.25183\n",
      "[33]\ttrain-logloss:0.24644\teval-logloss:0.25185\n",
      "[34]\ttrain-logloss:0.24629\teval-logloss:0.25184\n",
      "[35]\ttrain-logloss:0.24621\teval-logloss:0.25188\n",
      "[36]\ttrain-logloss:0.24603\teval-logloss:0.25192\n",
      "[37]\ttrain-logloss:0.24577\teval-logloss:0.25191\n",
      "[38]\ttrain-logloss:0.24558\teval-logloss:0.25188\n",
      "[39]\ttrain-logloss:0.24546\teval-logloss:0.25192\n",
      "[40]\ttrain-logloss:0.24525\teval-logloss:0.25198\n",
      "[41]\ttrain-logloss:0.24520\teval-logloss:0.25199\n",
      "[42]\ttrain-logloss:0.24505\teval-logloss:0.25204\n",
      "[43]\ttrain-logloss:0.24484\teval-logloss:0.25208\n",
      "[44]\ttrain-logloss:0.24463\teval-logloss:0.25213\n",
      "[45]\ttrain-logloss:0.24451\teval-logloss:0.25215\n",
      "[46]\ttrain-logloss:0.24450\teval-logloss:0.25214\n",
      "[47]\ttrain-logloss:0.24433\teval-logloss:0.25219\n",
      "[48]\ttrain-logloss:0.24431\teval-logloss:0.25219\n",
      "[49]\ttrain-logloss:0.24420\teval-logloss:0.25223\n",
      "[00:45:42] WARNING: C:/Users/Administrator/workspace/xgboost-win64_release_1.6.0/src/learner.cc:627: \n",
      "Parameters: { \"silent\" } might not be used.\n",
      "\n",
      "  This could be a false alarm, with some parameters getting used by language bindings but\n",
      "  then being mistakenly passed down to XGBoost core, or some parameter actually being used\n",
      "  but getting flagged wrongly here. Please open an issue if you find any such cases.\n",
      "\n",
      "\n",
      "[0]\ttrain-logloss:0.50890\teval-logloss:0.50915\n",
      "[1]\ttrain-logloss:0.40967\teval-logloss:0.41029\n",
      "[2]\ttrain-logloss:0.35053\teval-logloss:0.35143\n",
      "[3]\ttrain-logloss:0.31384\teval-logloss:0.31499\n",
      "[4]\ttrain-logloss:0.29071\teval-logloss:0.29226\n",
      "[5]\ttrain-logloss:0.27608\teval-logloss:0.27784\n",
      "[6]\ttrain-logloss:0.26677\teval-logloss:0.26891\n",
      "[7]\ttrain-logloss:0.26089\teval-logloss:0.26333\n",
      "[8]\ttrain-logloss:0.25713\teval-logloss:0.25992\n",
      "[9]\ttrain-logloss:0.25469\teval-logloss:0.25780\n",
      "[10]\ttrain-logloss:0.25312\teval-logloss:0.25655\n",
      "[11]\ttrain-logloss:0.25203\teval-logloss:0.25579\n",
      "[12]\ttrain-logloss:0.25120\teval-logloss:0.25525\n",
      "[13]\ttrain-logloss:0.25064\teval-logloss:0.25500\n",
      "[14]\ttrain-logloss:0.25015\teval-logloss:0.25485\n",
      "[15]\ttrain-logloss:0.24982\teval-logloss:0.25475\n",
      "[16]\ttrain-logloss:0.24944\teval-logloss:0.25465\n",
      "[17]\ttrain-logloss:0.24913\teval-logloss:0.25468\n",
      "[18]\ttrain-logloss:0.24888\teval-logloss:0.25465\n",
      "[19]\ttrain-logloss:0.24859\teval-logloss:0.25469\n",
      "[20]\ttrain-logloss:0.24837\teval-logloss:0.25470\n",
      "[21]\ttrain-logloss:0.24809\teval-logloss:0.25475\n",
      "[22]\ttrain-logloss:0.24780\teval-logloss:0.25480\n",
      "[23]\ttrain-logloss:0.24756\teval-logloss:0.25483\n",
      "[24]\ttrain-logloss:0.24740\teval-logloss:0.25490\n",
      "[25]\ttrain-logloss:0.24725\teval-logloss:0.25486\n",
      "[26]\ttrain-logloss:0.24709\teval-logloss:0.25494\n",
      "[27]\ttrain-logloss:0.24694\teval-logloss:0.25497\n",
      "[28]\ttrain-logloss:0.24675\teval-logloss:0.25503\n",
      "[29]\ttrain-logloss:0.24664\teval-logloss:0.25503\n",
      "[30]\ttrain-logloss:0.24654\teval-logloss:0.25508\n",
      "[31]\ttrain-logloss:0.24634\teval-logloss:0.25518\n",
      "[32]\ttrain-logloss:0.24609\teval-logloss:0.25526\n",
      "[33]\ttrain-logloss:0.24592\teval-logloss:0.25526\n",
      "[34]\ttrain-logloss:0.24570\teval-logloss:0.25531\n",
      "[35]\ttrain-logloss:0.24556\teval-logloss:0.25535\n",
      "[36]\ttrain-logloss:0.24545\teval-logloss:0.25541\n",
      "[37]\ttrain-logloss:0.24529\teval-logloss:0.25543\n",
      "[38]\ttrain-logloss:0.24516\teval-logloss:0.25547\n",
      "[39]\ttrain-logloss:0.24512\teval-logloss:0.25547\n",
      "[40]\ttrain-logloss:0.24499\teval-logloss:0.25554\n",
      "[41]\ttrain-logloss:0.24482\teval-logloss:0.25551\n",
      "[42]\ttrain-logloss:0.24469\teval-logloss:0.25553\n",
      "[43]\ttrain-logloss:0.24460\teval-logloss:0.25554\n",
      "[44]\ttrain-logloss:0.24440\teval-logloss:0.25554\n",
      "[45]\ttrain-logloss:0.24419\teval-logloss:0.25564\n",
      "[46]\ttrain-logloss:0.24406\teval-logloss:0.25564\n",
      "[47]\ttrain-logloss:0.24396\teval-logloss:0.25568\n",
      "[48]\ttrain-logloss:0.24377\teval-logloss:0.25569\n",
      "[49]\ttrain-logloss:0.24369\teval-logloss:0.25571\n",
      "[00:45:43] WARNING: C:/Users/Administrator/workspace/xgboost-win64_release_1.6.0/src/learner.cc:627: \n",
      "Parameters: { \"silent\" } might not be used.\n",
      "\n",
      "  This could be a false alarm, with some parameters getting used by language bindings but\n",
      "  then being mistakenly passed down to XGBoost core, or some parameter actually being used\n",
      "  but getting flagged wrongly here. Please open an issue if you find any such cases.\n",
      "\n",
      "\n",
      "[0]\ttrain-logloss:0.50886\teval-logloss:0.50930\n",
      "[1]\ttrain-logloss:0.40957\teval-logloss:0.41051\n",
      "[2]\ttrain-logloss:0.35042\teval-logloss:0.35171\n",
      "[3]\ttrain-logloss:0.31377\teval-logloss:0.31539\n",
      "[4]\ttrain-logloss:0.29062\teval-logloss:0.29262\n",
      "[5]\ttrain-logloss:0.27594\teval-logloss:0.27833\n",
      "[6]\ttrain-logloss:0.26665\teval-logloss:0.26938\n",
      "[7]\ttrain-logloss:0.26081\teval-logloss:0.26384\n",
      "[8]\ttrain-logloss:0.25709\teval-logloss:0.26041\n",
      "[9]\ttrain-logloss:0.25465\teval-logloss:0.25824\n",
      "[10]\ttrain-logloss:0.25307\teval-logloss:0.25697\n",
      "[11]\ttrain-logloss:0.25197\teval-logloss:0.25625\n",
      "[12]\ttrain-logloss:0.25117\teval-logloss:0.25577\n",
      "[13]\ttrain-logloss:0.25061\teval-logloss:0.25550\n",
      "[14]\ttrain-logloss:0.25009\teval-logloss:0.25532\n",
      "[15]\ttrain-logloss:0.24966\teval-logloss:0.25523\n",
      "[16]\ttrain-logloss:0.24930\teval-logloss:0.25516\n",
      "[17]\ttrain-logloss:0.24906\teval-logloss:0.25509\n",
      "[18]\ttrain-logloss:0.24871\teval-logloss:0.25509\n",
      "[19]\ttrain-logloss:0.24855\teval-logloss:0.25511\n",
      "[20]\ttrain-logloss:0.24822\teval-logloss:0.25504\n",
      "[21]\ttrain-logloss:0.24806\teval-logloss:0.25502\n",
      "[22]\ttrain-logloss:0.24775\teval-logloss:0.25495\n",
      "[23]\ttrain-logloss:0.24757\teval-logloss:0.25496\n",
      "[24]\ttrain-logloss:0.24744\teval-logloss:0.25501\n",
      "[25]\ttrain-logloss:0.24708\teval-logloss:0.25502\n",
      "[26]\ttrain-logloss:0.24693\teval-logloss:0.25506\n",
      "[27]\ttrain-logloss:0.24681\teval-logloss:0.25507\n",
      "[28]\ttrain-logloss:0.24662\teval-logloss:0.25514\n",
      "[29]\ttrain-logloss:0.24640\teval-logloss:0.25515\n",
      "[30]\ttrain-logloss:0.24619\teval-logloss:0.25517\n",
      "[31]\ttrain-logloss:0.24605\teval-logloss:0.25516\n",
      "[32]\ttrain-logloss:0.24584\teval-logloss:0.25517\n",
      "[33]\ttrain-logloss:0.24558\teval-logloss:0.25523\n",
      "[34]\ttrain-logloss:0.24533\teval-logloss:0.25526\n",
      "[35]\ttrain-logloss:0.24518\teval-logloss:0.25527\n",
      "[36]\ttrain-logloss:0.24494\teval-logloss:0.25529\n",
      "[37]\ttrain-logloss:0.24477\teval-logloss:0.25536\n",
      "[38]\ttrain-logloss:0.24468\teval-logloss:0.25539\n",
      "[39]\ttrain-logloss:0.24453\teval-logloss:0.25542\n",
      "[40]\ttrain-logloss:0.24441\teval-logloss:0.25543\n",
      "[41]\ttrain-logloss:0.24428\teval-logloss:0.25546\n",
      "[42]\ttrain-logloss:0.24414\teval-logloss:0.25547\n",
      "[43]\ttrain-logloss:0.24400\teval-logloss:0.25550\n",
      "[44]\ttrain-logloss:0.24385\teval-logloss:0.25556\n",
      "[45]\ttrain-logloss:0.24378\teval-logloss:0.25558\n"
     ]
    },
    {
     "name": "stdout",
     "output_type": "stream",
     "text": [
      "[46]\ttrain-logloss:0.24359\teval-logloss:0.25560\n",
      "[47]\ttrain-logloss:0.24352\teval-logloss:0.25555\n",
      "[48]\ttrain-logloss:0.24344\teval-logloss:0.25554\n",
      "[49]\ttrain-logloss:0.24337\teval-logloss:0.25554\n",
      "[00:45:44] WARNING: C:/Users/Administrator/workspace/xgboost-win64_release_1.6.0/src/learner.cc:627: \n",
      "Parameters: { \"silent\" } might not be used.\n",
      "\n",
      "  This could be a false alarm, with some parameters getting used by language bindings but\n",
      "  then being mistakenly passed down to XGBoost core, or some parameter actually being used\n",
      "  but getting flagged wrongly here. Please open an issue if you find any such cases.\n",
      "\n",
      "\n",
      "[0]\ttrain-logloss:0.50882\teval-logloss:0.50961\n",
      "[1]\ttrain-logloss:0.40953\teval-logloss:0.41088\n",
      "[2]\ttrain-logloss:0.35039\teval-logloss:0.35223\n",
      "[3]\ttrain-logloss:0.31368\teval-logloss:0.31594\n",
      "[4]\ttrain-logloss:0.29056\teval-logloss:0.29327\n",
      "[5]\ttrain-logloss:0.27587\teval-logloss:0.27906\n",
      "[6]\ttrain-logloss:0.26657\teval-logloss:0.27007\n",
      "[7]\ttrain-logloss:0.26064\teval-logloss:0.26456\n",
      "[8]\ttrain-logloss:0.25687\teval-logloss:0.26118\n",
      "[9]\ttrain-logloss:0.25444\teval-logloss:0.25911\n",
      "[10]\ttrain-logloss:0.25288\teval-logloss:0.25785\n",
      "[11]\ttrain-logloss:0.25178\teval-logloss:0.25706\n",
      "[12]\ttrain-logloss:0.25101\teval-logloss:0.25660\n",
      "[13]\ttrain-logloss:0.25038\teval-logloss:0.25641\n",
      "[14]\ttrain-logloss:0.24996\teval-logloss:0.25624\n",
      "[15]\ttrain-logloss:0.24962\teval-logloss:0.25609\n",
      "[16]\ttrain-logloss:0.24926\teval-logloss:0.25609\n",
      "[17]\ttrain-logloss:0.24896\teval-logloss:0.25602\n",
      "[18]\ttrain-logloss:0.24865\teval-logloss:0.25597\n",
      "[19]\ttrain-logloss:0.24841\teval-logloss:0.25592\n",
      "[20]\ttrain-logloss:0.24823\teval-logloss:0.25592\n",
      "[21]\ttrain-logloss:0.24803\teval-logloss:0.25590\n",
      "[22]\ttrain-logloss:0.24789\teval-logloss:0.25592\n",
      "[23]\ttrain-logloss:0.24760\teval-logloss:0.25590\n",
      "[24]\ttrain-logloss:0.24741\teval-logloss:0.25592\n",
      "[25]\ttrain-logloss:0.24722\teval-logloss:0.25594\n",
      "[26]\ttrain-logloss:0.24706\teval-logloss:0.25594\n",
      "[27]\ttrain-logloss:0.24689\teval-logloss:0.25598\n",
      "[28]\ttrain-logloss:0.24665\teval-logloss:0.25597\n",
      "[29]\ttrain-logloss:0.24643\teval-logloss:0.25598\n",
      "[30]\ttrain-logloss:0.24633\teval-logloss:0.25599\n",
      "[31]\ttrain-logloss:0.24610\teval-logloss:0.25602\n",
      "[32]\ttrain-logloss:0.24592\teval-logloss:0.25601\n",
      "[33]\ttrain-logloss:0.24574\teval-logloss:0.25604\n",
      "[34]\ttrain-logloss:0.24553\teval-logloss:0.25606\n",
      "[35]\ttrain-logloss:0.24528\teval-logloss:0.25611\n",
      "[36]\ttrain-logloss:0.24517\teval-logloss:0.25615\n",
      "[37]\ttrain-logloss:0.24502\teval-logloss:0.25617\n",
      "[38]\ttrain-logloss:0.24480\teval-logloss:0.25622\n",
      "[39]\ttrain-logloss:0.24470\teval-logloss:0.25625\n",
      "[40]\ttrain-logloss:0.24460\teval-logloss:0.25623\n",
      "[41]\ttrain-logloss:0.24428\teval-logloss:0.25630\n",
      "[42]\ttrain-logloss:0.24407\teval-logloss:0.25632\n",
      "[43]\ttrain-logloss:0.24389\teval-logloss:0.25637\n",
      "[44]\ttrain-logloss:0.24381\teval-logloss:0.25640\n",
      "[45]\ttrain-logloss:0.24370\teval-logloss:0.25640\n",
      "[46]\ttrain-logloss:0.24364\teval-logloss:0.25640\n",
      "[47]\ttrain-logloss:0.24352\teval-logloss:0.25646\n",
      "[48]\ttrain-logloss:0.24331\teval-logloss:0.25648\n",
      "[49]\ttrain-logloss:0.24325\teval-logloss:0.25648\n",
      "[00:45:45] WARNING: C:/Users/Administrator/workspace/xgboost-win64_release_1.6.0/src/learner.cc:627: \n",
      "Parameters: { \"silent\" } might not be used.\n",
      "\n",
      "  This could be a false alarm, with some parameters getting used by language bindings but\n",
      "  then being mistakenly passed down to XGBoost core, or some parameter actually being used\n",
      "  but getting flagged wrongly here. Please open an issue if you find any such cases.\n",
      "\n",
      "\n",
      "[0]\ttrain-logloss:0.50879\teval-logloss:0.50938\n",
      "[1]\ttrain-logloss:0.40947\teval-logloss:0.41073\n",
      "[2]\ttrain-logloss:0.35033\teval-logloss:0.35209\n",
      "[3]\ttrain-logloss:0.31364\teval-logloss:0.31588\n",
      "[4]\ttrain-logloss:0.29054\teval-logloss:0.29319\n",
      "[5]\ttrain-logloss:0.27585\teval-logloss:0.27891\n",
      "[6]\ttrain-logloss:0.26653\teval-logloss:0.26998\n",
      "[7]\ttrain-logloss:0.26067\teval-logloss:0.26446\n",
      "[8]\ttrain-logloss:0.25697\teval-logloss:0.26112\n",
      "[9]\ttrain-logloss:0.25452\teval-logloss:0.25893\n",
      "[10]\ttrain-logloss:0.25289\teval-logloss:0.25765\n",
      "[11]\ttrain-logloss:0.25180\teval-logloss:0.25678\n",
      "[12]\ttrain-logloss:0.25101\teval-logloss:0.25632\n",
      "[13]\ttrain-logloss:0.25043\teval-logloss:0.25604\n",
      "[14]\ttrain-logloss:0.24996\teval-logloss:0.25590\n",
      "[15]\ttrain-logloss:0.24955\teval-logloss:0.25581\n",
      "[16]\ttrain-logloss:0.24911\teval-logloss:0.25580\n",
      "[17]\ttrain-logloss:0.24880\teval-logloss:0.25576\n",
      "[18]\ttrain-logloss:0.24850\teval-logloss:0.25569\n",
      "[19]\ttrain-logloss:0.24827\teval-logloss:0.25568\n",
      "[20]\ttrain-logloss:0.24808\teval-logloss:0.25561\n",
      "[21]\ttrain-logloss:0.24777\teval-logloss:0.25565\n",
      "[22]\ttrain-logloss:0.24754\teval-logloss:0.25570\n",
      "[23]\ttrain-logloss:0.24732\teval-logloss:0.25575\n",
      "[24]\ttrain-logloss:0.24707\teval-logloss:0.25580\n",
      "[25]\ttrain-logloss:0.24690\teval-logloss:0.25583\n",
      "[26]\ttrain-logloss:0.24659\teval-logloss:0.25585\n",
      "[27]\ttrain-logloss:0.24638\teval-logloss:0.25587\n",
      "[28]\ttrain-logloss:0.24617\teval-logloss:0.25594\n",
      "[29]\ttrain-logloss:0.24604\teval-logloss:0.25595\n",
      "[30]\ttrain-logloss:0.24594\teval-logloss:0.25595\n",
      "[31]\ttrain-logloss:0.24576\teval-logloss:0.25600\n",
      "[32]\ttrain-logloss:0.24564\teval-logloss:0.25599\n",
      "[33]\ttrain-logloss:0.24548\teval-logloss:0.25598\n",
      "[34]\ttrain-logloss:0.24536\teval-logloss:0.25597\n",
      "[35]\ttrain-logloss:0.24514\teval-logloss:0.25604\n",
      "[36]\ttrain-logloss:0.24506\teval-logloss:0.25603\n",
      "[37]\ttrain-logloss:0.24497\teval-logloss:0.25604\n",
      "[38]\ttrain-logloss:0.24478\teval-logloss:0.25604\n",
      "[39]\ttrain-logloss:0.24471\teval-logloss:0.25603\n",
      "[40]\ttrain-logloss:0.24464\teval-logloss:0.25603\n",
      "[41]\ttrain-logloss:0.24457\teval-logloss:0.25602\n",
      "[42]\ttrain-logloss:0.24444\teval-logloss:0.25606\n",
      "[43]\ttrain-logloss:0.24437\teval-logloss:0.25604\n",
      "[44]\ttrain-logloss:0.24420\teval-logloss:0.25610\n",
      "[45]\ttrain-logloss:0.24408\teval-logloss:0.25615\n",
      "[46]\ttrain-logloss:0.24397\teval-logloss:0.25618\n",
      "[47]\ttrain-logloss:0.24387\teval-logloss:0.25624\n",
      "[48]\ttrain-logloss:0.24365\teval-logloss:0.25627\n",
      "[49]\ttrain-logloss:0.24354\teval-logloss:0.25629\n"
     ]
    }
   ],
   "source": [
    "import xgboost as xgb\n",
    "from sklearn.metrics import log_loss\n",
    "\n",
    "y_preds = []\n",
    "models = []\n",
    "scores = []\n",
    "oof_train = np.zeros((len(X_train),))\n",
    "cv = KFold(n_splits=5, shuffle=True, random_state=0)\n",
    "\n",
    "categorical_features = columns\n",
    "\n",
    "params = {\n",
    "    'objective': 'binary:logistic'\n",
    "    ,'silent': 1\n",
    "    ,'random_state': 17\n",
    "    ,'gpu_id': 0\n",
    "    ,'tree_method': 'gpu_hist'\n",
    "}\n",
    "\n",
    "num_round = 50\n",
    "\n",
    "for fold_id, (train_index, valid_index) in enumerate(cv.split(X_train)):\n",
    "    X_tr = X_train.loc[train_index, :]\n",
    "    X_val = X_train.loc[valid_index, :]\n",
    "    y_tr = y_train[train_index]\n",
    "    y_val = y_train[valid_index]\n",
    "    \n",
    "    dtrain = xgb.DMatrix(X_tr, label=y_tr)\n",
    "    dvalid = xgb.DMatrix(X_val, label=y_val)\n",
    "    dtest = xgb.DMatrix(X_test)\n",
    "    \n",
    "    watchlist = [(dtrain, 'train'), (dvalid, 'eval')]\n",
    "    model = xgb.train(params, dtrain, num_round, evals=watchlist)\n",
    "    \n",
    "    va_pred = model.predict(dvalid)\n",
    "    score = log_loss(y_val, va_pred)\n",
    "    oof_train[valid_index] = va_pred\n",
    "    \n",
    "    y_pred = model.predict(dtest) \n",
    "    \n",
    "    \n",
    "    #oof_train[valid_index] = model.predict(X_val, num_iteration=model.best_iteration)\n",
    "    #y_pred = model.predict(X_test, num_iteration=model.best_iteration)##\n",
    "\n",
    "    y_preds.append(y_pred)\n",
    "    models.append(model)\n",
    "    scores.append(score)"
   ]
  },
  {
   "cell_type": "code",
   "execution_count": 107,
   "id": "b643ea2e",
   "metadata": {},
   "outputs": [
    {
     "data": {
      "text/plain": [
       "array([0.03985028, 0.05427998, 0.064542  , ..., 0.0259678 , 0.05836508,\n",
       "       0.11024248], dtype=float32)"
      ]
     },
     "execution_count": 107,
     "metadata": {},
     "output_type": "execute_result"
    }
   ],
   "source": [
    "y_pred"
   ]
  },
  {
   "cell_type": "code",
   "execution_count": 108,
   "id": "08edb8ce",
   "metadata": {},
   "outputs": [
    {
     "data": {
      "text/plain": [
       "[0.25222915555337855,\n",
       " 0.25570590359786627,\n",
       " 0.2555403782937138,\n",
       " 0.25647530180966854,\n",
       " 0.25629408902046175]"
      ]
     },
     "execution_count": 108,
     "metadata": {},
     "output_type": "execute_result"
    }
   ],
   "source": [
    "scores"
   ]
  },
  {
   "cell_type": "code",
   "execution_count": 109,
   "id": "79740c4a",
   "metadata": {},
   "outputs": [],
   "source": [
    "# CSV-00\n",
    "submit_all = app_test[[\"SK_ID_CURR\"]].copy()\n",
    "# 予測確率の変数名はTARGET\n",
    "submit_all[\"TARGET\"] = y_preds[0]\n",
    "submit_all.isnull().sum()\n",
    "\n",
    "# Submit File\n",
    "submit_all.to_csv(\n",
    "    path_or_buf=\"./home-credit-default-risk/submit/submit_all_00.csv\", # 出力先\n",
    "    sep=\",\",                                            # 区切り文字\n",
    "    index=False,                                        # indexの出力有無\n",
    "    header=True                                        # headerの出力有無\n",
    ")"
   ]
  },
  {
   "cell_type": "code",
   "execution_count": 110,
   "id": "19caf64d",
   "metadata": {},
   "outputs": [],
   "source": [
    "# CSV-01\n",
    "submit_all = app_test[[\"SK_ID_CURR\"]].copy()\n",
    "# 予測確率の変数名はTARGET\n",
    "submit_all[\"TARGET\"] = y_preds[1]\n",
    "\n",
    "# Submit File\n",
    "submit_all.to_csv(\n",
    "    path_or_buf=\"./home-credit-default-risk/submit/submit_all_01.csv\", # 出力先\n",
    "    sep=\",\",                                            # 区切り文字\n",
    "    index=False,                                        # indexの出力有無\n",
    "    header=True                                        # headerの出力有無\n",
    ")"
   ]
  },
  {
   "cell_type": "code",
   "execution_count": 111,
   "id": "20f6cd80",
   "metadata": {},
   "outputs": [],
   "source": [
    "# CSV-02\n",
    "submit_all = app_test[[\"SK_ID_CURR\"]].copy()\n",
    "# 予測確率の変数名はTARGET\n",
    "submit_all[\"TARGET\"] = y_preds[2]\n",
    "\n",
    "# Submit File\n",
    "submit_all.to_csv(\n",
    "    path_or_buf=\"./home-credit-default-risk/submit/submit_all_02.csv\", # 出力先\n",
    "    sep=\",\",                                            # 区切り文字\n",
    "    index=False,                                        # indexの出力有無\n",
    "    header=True                                        # headerの出力有無\n",
    ")"
   ]
  },
  {
   "cell_type": "code",
   "execution_count": 112,
   "id": "935101ec",
   "metadata": {},
   "outputs": [],
   "source": [
    "# CSV-03\n",
    "submit_all = app_test[[\"SK_ID_CURR\"]].copy()\n",
    "# 予測確率の変数名はTARGET\n",
    "submit_all[\"TARGET\"] = y_preds[3]\n",
    "\n",
    "# Submit File\n",
    "submit_all.to_csv(\n",
    "    path_or_buf=\"./home-credit-default-risk/submit/submit_all_03.csv\", # 出力先\n",
    "    sep=\",\",                                            # 区切り文字\n",
    "    index=False,                                        # indexの出力有無\n",
    "    header=True                                        # headerの出力有無\n",
    ")"
   ]
  },
  {
   "cell_type": "code",
   "execution_count": 113,
   "id": "84a44c4f",
   "metadata": {},
   "outputs": [],
   "source": [
    "# CSV-04\n",
    "submit_all = app_test[[\"SK_ID_CURR\"]].copy()\n",
    "# 予測確率の変数名はTARGET\n",
    "submit_all[\"TARGET\"] = y_preds[4]\n",
    "\n",
    "# Submit File\n",
    "submit_all.to_csv(\n",
    "    path_or_buf=\"./home-credit-default-risk/submit/submit_all_04.csv\", # 出力先\n",
    "    sep=\",\",                                            # 区切り文字\n",
    "    index=False,                                        # indexの出力有無\n",
    "    header=True                                        # headerの出力有無\n",
    ")"
   ]
  },
  {
   "cell_type": "code",
   "execution_count": 114,
   "id": "f3de8b93",
   "metadata": {},
   "outputs": [],
   "source": [
    "submit_all_00 = pd.read_csv('./home-credit-default-risk/submit/submit_all_00.csv')\n",
    "submit_all_01 = pd.read_csv('./home-credit-default-risk/submit/submit_all_01.csv')\n",
    "submit_all_02 = pd.read_csv('./home-credit-default-risk/submit/submit_all_02.csv')\n",
    "submit_all_03 = pd.read_csv('./home-credit-default-risk/submit/submit_all_03.csv')\n",
    "submit_all_04 = pd.read_csv('./home-credit-default-risk/submit/submit_all_04.csv')"
   ]
  },
  {
   "cell_type": "code",
   "execution_count": 115,
   "id": "9dac1432",
   "metadata": {},
   "outputs": [
    {
     "data": {
      "text/html": [
       "<div>\n",
       "<style scoped>\n",
       "    .dataframe tbody tr th:only-of-type {\n",
       "        vertical-align: middle;\n",
       "    }\n",
       "\n",
       "    .dataframe tbody tr th {\n",
       "        vertical-align: top;\n",
       "    }\n",
       "\n",
       "    .dataframe thead th {\n",
       "        text-align: right;\n",
       "    }\n",
       "</style>\n",
       "<table border=\"1\" class=\"dataframe\">\n",
       "  <thead>\n",
       "    <tr style=\"text-align: right;\">\n",
       "      <th></th>\n",
       "      <th>submit_all_00</th>\n",
       "      <th>submit_all_01</th>\n",
       "      <th>submit_all_02</th>\n",
       "      <th>submit_all_03</th>\n",
       "      <th>submit_all_04</th>\n",
       "    </tr>\n",
       "  </thead>\n",
       "  <tbody>\n",
       "    <tr>\n",
       "      <th>0</th>\n",
       "      <td>0.029389</td>\n",
       "      <td>0.080207</td>\n",
       "      <td>0.091483</td>\n",
       "      <td>0.023611</td>\n",
       "      <td>0.039850</td>\n",
       "    </tr>\n",
       "    <tr>\n",
       "      <th>1</th>\n",
       "      <td>0.047246</td>\n",
       "      <td>0.055052</td>\n",
       "      <td>0.058196</td>\n",
       "      <td>0.071441</td>\n",
       "      <td>0.054280</td>\n",
       "    </tr>\n",
       "    <tr>\n",
       "      <th>2</th>\n",
       "      <td>0.042275</td>\n",
       "      <td>0.049059</td>\n",
       "      <td>0.030375</td>\n",
       "      <td>0.029610</td>\n",
       "      <td>0.064542</td>\n",
       "    </tr>\n",
       "    <tr>\n",
       "      <th>3</th>\n",
       "      <td>0.025901</td>\n",
       "      <td>0.024793</td>\n",
       "      <td>0.039290</td>\n",
       "      <td>0.051846</td>\n",
       "      <td>0.049365</td>\n",
       "    </tr>\n",
       "    <tr>\n",
       "      <th>4</th>\n",
       "      <td>0.111435</td>\n",
       "      <td>0.141521</td>\n",
       "      <td>0.123322</td>\n",
       "      <td>0.048333</td>\n",
       "      <td>0.102600</td>\n",
       "    </tr>\n",
       "  </tbody>\n",
       "</table>\n",
       "</div>"
      ],
      "text/plain": [
       "   submit_all_00  submit_all_01  submit_all_02  submit_all_03  submit_all_04\n",
       "0       0.029389       0.080207       0.091483       0.023611       0.039850\n",
       "1       0.047246       0.055052       0.058196       0.071441       0.054280\n",
       "2       0.042275       0.049059       0.030375       0.029610       0.064542\n",
       "3       0.025901       0.024793       0.039290       0.051846       0.049365\n",
       "4       0.111435       0.141521       0.123322       0.048333       0.102600"
      ]
     },
     "execution_count": 115,
     "metadata": {},
     "output_type": "execute_result"
    }
   ],
   "source": [
    "submit_all = pd.DataFrame({\n",
    "    'submit_all_00': submit_all_00['TARGET'].values\n",
    "    ,'submit_all_01': submit_all_01['TARGET'].values\n",
    "    ,'submit_all_02': submit_all_02['TARGET'].values\n",
    "    ,'submit_all_03': submit_all_03['TARGET'].values\n",
    "    ,'submit_all_04': submit_all_04['TARGET'].values\n",
    "    })\n",
    "submit_all.head()"
   ]
  },
  {
   "cell_type": "code",
   "execution_count": 116,
   "id": "56fd23aa",
   "metadata": {},
   "outputs": [
    {
     "data": {
      "text/html": [
       "<div>\n",
       "<style scoped>\n",
       "    .dataframe tbody tr th:only-of-type {\n",
       "        vertical-align: middle;\n",
       "    }\n",
       "\n",
       "    .dataframe tbody tr th {\n",
       "        vertical-align: top;\n",
       "    }\n",
       "\n",
       "    .dataframe thead th {\n",
       "        text-align: right;\n",
       "    }\n",
       "</style>\n",
       "<table border=\"1\" class=\"dataframe\">\n",
       "  <thead>\n",
       "    <tr style=\"text-align: right;\">\n",
       "      <th></th>\n",
       "      <th>submit_all_00</th>\n",
       "      <th>submit_all_01</th>\n",
       "      <th>submit_all_02</th>\n",
       "      <th>submit_all_03</th>\n",
       "      <th>submit_all_04</th>\n",
       "    </tr>\n",
       "  </thead>\n",
       "  <tbody>\n",
       "    <tr>\n",
       "      <th>submit_all_00</th>\n",
       "      <td>1.000000</td>\n",
       "      <td>0.966271</td>\n",
       "      <td>0.963932</td>\n",
       "      <td>0.966188</td>\n",
       "      <td>0.965652</td>\n",
       "    </tr>\n",
       "    <tr>\n",
       "      <th>submit_all_01</th>\n",
       "      <td>0.966271</td>\n",
       "      <td>1.000000</td>\n",
       "      <td>0.965904</td>\n",
       "      <td>0.966499</td>\n",
       "      <td>0.966023</td>\n",
       "    </tr>\n",
       "    <tr>\n",
       "      <th>submit_all_02</th>\n",
       "      <td>0.963932</td>\n",
       "      <td>0.965904</td>\n",
       "      <td>1.000000</td>\n",
       "      <td>0.964478</td>\n",
       "      <td>0.964821</td>\n",
       "    </tr>\n",
       "    <tr>\n",
       "      <th>submit_all_03</th>\n",
       "      <td>0.966188</td>\n",
       "      <td>0.966499</td>\n",
       "      <td>0.964478</td>\n",
       "      <td>1.000000</td>\n",
       "      <td>0.966733</td>\n",
       "    </tr>\n",
       "    <tr>\n",
       "      <th>submit_all_04</th>\n",
       "      <td>0.965652</td>\n",
       "      <td>0.966023</td>\n",
       "      <td>0.964821</td>\n",
       "      <td>0.966733</td>\n",
       "      <td>1.000000</td>\n",
       "    </tr>\n",
       "  </tbody>\n",
       "</table>\n",
       "</div>"
      ],
      "text/plain": [
       "               submit_all_00  submit_all_01  submit_all_02  submit_all_03  \\\n",
       "submit_all_00       1.000000       0.966271       0.963932       0.966188   \n",
       "submit_all_01       0.966271       1.000000       0.965904       0.966499   \n",
       "submit_all_02       0.963932       0.965904       1.000000       0.964478   \n",
       "submit_all_03       0.966188       0.966499       0.964478       1.000000   \n",
       "submit_all_04       0.965652       0.966023       0.964821       0.966733   \n",
       "\n",
       "               submit_all_04  \n",
       "submit_all_00       0.965652  \n",
       "submit_all_01       0.966023  \n",
       "submit_all_02       0.964821  \n",
       "submit_all_03       0.966733  \n",
       "submit_all_04       1.000000  "
      ]
     },
     "execution_count": 116,
     "metadata": {},
     "output_type": "execute_result"
    }
   ],
   "source": [
    "submit_all.corr()"
   ]
  },
  {
   "cell_type": "code",
   "execution_count": 117,
   "id": "889b1e4d",
   "metadata": {},
   "outputs": [
    {
     "data": {
      "text/html": [
       "<div>\n",
       "<style scoped>\n",
       "    .dataframe tbody tr th:only-of-type {\n",
       "        vertical-align: middle;\n",
       "    }\n",
       "\n",
       "    .dataframe tbody tr th {\n",
       "        vertical-align: top;\n",
       "    }\n",
       "\n",
       "    .dataframe thead th {\n",
       "        text-align: right;\n",
       "    }\n",
       "</style>\n",
       "<table border=\"1\" class=\"dataframe\">\n",
       "  <thead>\n",
       "    <tr style=\"text-align: right;\">\n",
       "      <th></th>\n",
       "      <th>SK_ID_CURR</th>\n",
       "      <th>TARGET</th>\n",
       "    </tr>\n",
       "  </thead>\n",
       "  <tbody>\n",
       "    <tr>\n",
       "      <th>0</th>\n",
       "      <td>100001</td>\n",
       "      <td>0.052908</td>\n",
       "    </tr>\n",
       "    <tr>\n",
       "      <th>1</th>\n",
       "      <td>100005</td>\n",
       "      <td>0.057243</td>\n",
       "    </tr>\n",
       "    <tr>\n",
       "      <th>2</th>\n",
       "      <td>100013</td>\n",
       "      <td>0.043172</td>\n",
       "    </tr>\n",
       "    <tr>\n",
       "      <th>3</th>\n",
       "      <td>100028</td>\n",
       "      <td>0.038239</td>\n",
       "    </tr>\n",
       "    <tr>\n",
       "      <th>4</th>\n",
       "      <td>100038</td>\n",
       "      <td>0.105442</td>\n",
       "    </tr>\n",
       "  </tbody>\n",
       "</table>\n",
       "</div>"
      ],
      "text/plain": [
       "   SK_ID_CURR    TARGET\n",
       "0      100001  0.052908\n",
       "1      100005  0.057243\n",
       "2      100013  0.043172\n",
       "3      100028  0.038239\n",
       "4      100038  0.105442"
      ]
     },
     "execution_count": 117,
     "metadata": {},
     "output_type": "execute_result"
    }
   ],
   "source": [
    "submit_all = app_test[[\"SK_ID_CURR\"]].copy()\n",
    "submit_all['TARGET'] = (submit_all_00['TARGET'] + submit_all_01['TARGET'] + submit_all_02['TARGET'] + submit_all_03['TARGET'] + submit_all_04['TARGET'])/5\n",
    "submit_all.head()"
   ]
  },
  {
   "cell_type": "code",
   "execution_count": 118,
   "id": "a68a3285",
   "metadata": {},
   "outputs": [
    {
     "data": {
      "text/html": [
       "<div>\n",
       "<style scoped>\n",
       "    .dataframe tbody tr th:only-of-type {\n",
       "        vertical-align: middle;\n",
       "    }\n",
       "\n",
       "    .dataframe tbody tr th {\n",
       "        vertical-align: top;\n",
       "    }\n",
       "\n",
       "    .dataframe thead th {\n",
       "        text-align: right;\n",
       "    }\n",
       "</style>\n",
       "<table border=\"1\" class=\"dataframe\">\n",
       "  <thead>\n",
       "    <tr style=\"text-align: right;\">\n",
       "      <th></th>\n",
       "      <th>SK_ID_CURR</th>\n",
       "      <th>TARGET</th>\n",
       "    </tr>\n",
       "  </thead>\n",
       "  <tbody>\n",
       "    <tr>\n",
       "      <th>0</th>\n",
       "      <td>100001</td>\n",
       "      <td>0.010582</td>\n",
       "    </tr>\n",
       "    <tr>\n",
       "      <th>1</th>\n",
       "      <td>100005</td>\n",
       "      <td>0.011449</td>\n",
       "    </tr>\n",
       "    <tr>\n",
       "      <th>2</th>\n",
       "      <td>100013</td>\n",
       "      <td>0.008634</td>\n",
       "    </tr>\n",
       "    <tr>\n",
       "      <th>3</th>\n",
       "      <td>100028</td>\n",
       "      <td>0.007648</td>\n",
       "    </tr>\n",
       "    <tr>\n",
       "      <th>4</th>\n",
       "      <td>100038</td>\n",
       "      <td>0.021088</td>\n",
       "    </tr>\n",
       "  </tbody>\n",
       "</table>\n",
       "</div>"
      ],
      "text/plain": [
       "   SK_ID_CURR    TARGET\n",
       "0      100001  0.010582\n",
       "1      100005  0.011449\n",
       "2      100013  0.008634\n",
       "3      100028  0.007648\n",
       "4      100038  0.021088"
      ]
     },
     "execution_count": 118,
     "metadata": {},
     "output_type": "execute_result"
    }
   ],
   "source": [
    "submit_all['TARGET'] = (submit_all['TARGET'] / 5)\n",
    "submit_all.to_csv('./home-credit-default-risk/submit/submit_hc_only_cash_test.csv', index=False)\n",
    "submit_all.head()"
   ]
  },
  {
   "cell_type": "code",
   "execution_count": 119,
   "id": "650c4b41",
   "metadata": {},
   "outputs": [
    {
     "data": {
      "text/plain": [
       "SK_ID_CURR    48744\n",
       "TARGET        48744\n",
       "dtype: int64"
      ]
     },
     "execution_count": 119,
     "metadata": {},
     "output_type": "execute_result"
    }
   ],
   "source": [
    "submit_all.count()"
   ]
  },
  {
   "cell_type": "code",
   "execution_count": null,
   "id": "d1d1cb91",
   "metadata": {},
   "outputs": [],
   "source": []
  }
 ],
 "metadata": {
  "kernelspec": {
   "display_name": "Python 3 (ipykernel)",
   "language": "python",
   "name": "python3"
  },
  "language_info": {
   "codemirror_mode": {
    "name": "ipython",
    "version": 3
   },
   "file_extension": ".py",
   "mimetype": "text/x-python",
   "name": "python",
   "nbconvert_exporter": "python",
   "pygments_lexer": "ipython3",
   "version": "3.9.7"
  }
 },
 "nbformat": 4,
 "nbformat_minor": 5
}
