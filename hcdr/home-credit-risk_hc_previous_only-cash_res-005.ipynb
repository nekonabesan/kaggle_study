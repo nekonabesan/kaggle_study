{
 "cells": [
  {
   "cell_type": "code",
   "execution_count": 1,
   "id": "074409fa",
   "metadata": {},
   "outputs": [],
   "source": [
    "# from google.colab import drive\n",
    "# drive.mount('/content/drive')"
   ]
  },
  {
   "cell_type": "code",
   "execution_count": 2,
   "id": "bf88b8fb",
   "metadata": {},
   "outputs": [],
   "source": [
    "# %cd /content/drive/MyDrive/"
   ]
  },
  {
   "cell_type": "code",
   "execution_count": 3,
   "id": "eb856bdd",
   "metadata": {},
   "outputs": [
    {
     "data": {
      "text/plain": [
       "[name: \"/device:CPU:0\"\n",
       " device_type: \"CPU\"\n",
       " memory_limit: 268435456\n",
       " locality {\n",
       " }\n",
       " incarnation: 8553040939531623869\n",
       " xla_global_id: -1,\n",
       " name: \"/device:GPU:0\"\n",
       " device_type: \"GPU\"\n",
       " memory_limit: 1745276110\n",
       " locality {\n",
       "   bus_id: 1\n",
       "   links {\n",
       "   }\n",
       " }\n",
       " incarnation: 14226764175146375590\n",
       " physical_device_desc: \"device: 0, name: NVIDIA RTX A2000 Laptop GPU, pci bus id: 0000:01:00.0, compute capability: 8.6\"\n",
       " xla_global_id: 416903419]"
      ]
     },
     "execution_count": 3,
     "metadata": {},
     "output_type": "execute_result"
    }
   ],
   "source": [
    "from tensorflow.python.client import device_lib\n",
    "device_lib.list_local_devices()"
   ]
  },
  {
   "cell_type": "code",
   "execution_count": 4,
   "id": "80924b9b",
   "metadata": {},
   "outputs": [
    {
     "name": "stdout",
     "output_type": "stream",
     "text": [
      "OK\n",
      "\n"
     ]
    }
   ],
   "source": [
    "import pandas as pd\n",
    "#import pandas_profiling\n",
    "import numpy as np\n",
    "import cupy as cp\n",
    "from sklearn.model_selection import train_test_split\n",
    "import lightgbm as lgb\n",
    "import matplotlib.pyplot as plt\n",
    "import seaborn as sns\n",
    "from sklearn.model_selection import KFold\n",
    "from sklearn import metrics\n",
    "from sklearn.metrics import accuracy_score\n",
    "from sklearn.model_selection import train_test_split\n",
    "from sklearn.preprocessing import LabelEncoder\n",
    "from sklearn.preprocessing import StandardScaler\n",
    "from sklearn.tree import DecisionTreeClassifier, export_graphviz\n",
    "from sklearn.metrics import roc_auc_score\n",
    "from sklearn.tree import plot_tree\n",
    "from sklearn.metrics import mean_squared_error\n",
    "\n",
    "from six import StringIO\n",
    "\n",
    "from IPython.display import Image\n",
    "import matplotlib.pyplot as plt\n",
    "import seaborn as sns\n",
    "\n",
    "import statsmodels.api as sm\n",
    "import math\n",
    "from scipy import stats\n",
    "import numpy as np\n",
    "import optuna.integration.lightgbm as lgb\n",
    "import pandas as pd\n",
    "import tensorflow as tf\n",
    "\n",
    "from datetime import datetime\n",
    "from tensorflow import feature_column\n",
    "from tensorflow.keras import layers\n",
    "\n",
    "from xgboost.sklearn import XGBClassifier\n",
    "\n",
    "\n",
    "print(\"OK\\n\")"
   ]
  },
  {
   "cell_type": "code",
   "execution_count": 5,
   "id": "326da3ba",
   "metadata": {},
   "outputs": [],
   "source": [
    "app_train_origin = pd.read_csv('./home-credit-default-risk/exports/app_train.csv')\n",
    "app_test_origin =  pd.read_csv('./home-credit-default-risk/exports/app_test.csv')\n",
    "#bureau_origin = pd.read_csv('./home-credit-default-risk/bureau.csv')\n",
    "#bureau_balance_origin = pd.read_csv('./home-credit-default-risk/bureau_balance.csv')\n",
    "pos_cash_balance_origin = pd.read_csv('./home-credit-default-risk/POS_CASH_balance.csv')\n",
    "#credit_card_balance_origin = pd.read_csv('./home-credit-default-risk/credit_card_balance.csv')\n",
    "previous_application_origin = pd.read_csv('./home-credit-default-risk/previous_application.csv')\n",
    "installments_payments_origin = pd.read_csv('./home-credit-default-risk/installments_payments.csv')\n",
    "# custo data\n",
    "app_train_loan_from_hc_only_cash_origin = pd.read_csv('./home-credit-default-risk/datasets/app_train_loan_from_hc_only_cash.csv')\n",
    "app_test_loan_from_hc_only_cash_origin = pd.read_csv('./home-credit-default-risk/datasets/app_test_loan_from_hc_only_cash.csv')\n",
    "app_train_1000_mean_origin = pd.read_csv('./home-credit-default-risk/exports/train_hc_only_cash_installment_payment_ratio_1000_mean_mean.csv')\n",
    "app_test_1000_mean_origin = pd.read_csv('./home-credit-default-risk/exports/test_hc_only_cash_installment_payment_ratio_1000_mean_mean.csv')\n",
    "app_train_max_installment_ratio_origin = pd.read_csv('./home-credit-default-risk/exports/train_hc_annuity_to_max_installment_ratio.csv')\n",
    "app_test_max_installment_ratio_origin = pd.read_csv('./home-credit-default-risk/exports/test_hc_annuity_to_max_installment_ratio.csv')"
   ]
  },
  {
   "cell_type": "code",
   "execution_count": 6,
   "id": "93c25375",
   "metadata": {},
   "outputs": [],
   "source": [
    "app_train = app_train_origin.copy()\n",
    "app_test = app_test_origin.copy()\n",
    "pos_cash_balance = pos_cash_balance_origin.copy()\n",
    "previous_application = previous_application_origin.copy()\n",
    "installments_payments = installments_payments_origin.copy()\n",
    "app_train_cash = app_train_loan_from_hc_only_cash_origin.copy()\n",
    "app_test_cash = app_test_loan_from_hc_only_cash_origin.copy()\n",
    "app_train_1000_mean = app_train_1000_mean_origin.copy()\n",
    "app_test_1000_mean = app_test_1000_mean_origin.copy()\n",
    "app_train_max_installment_ratio = app_train_max_installment_ratio_origin.copy()\n",
    "app_test_max_installment_ratio = app_test_max_installment_ratio_origin.copy()"
   ]
  },
  {
   "cell_type": "markdown",
   "id": "98b4fdef",
   "metadata": {},
   "source": [
    "### applicationの複製"
   ]
  },
  {
   "cell_type": "code",
   "execution_count": 7,
   "id": "de76e770",
   "metadata": {},
   "outputs": [
    {
     "data": {
      "text/plain": [
       "48744"
      ]
     },
     "execution_count": 7,
     "metadata": {},
     "output_type": "execute_result"
    }
   ],
   "source": [
    "#app_train = app_train[['SK_ID_CURR','TARGET','EXT_SOURCE_1','EXT_SOURCE_2','EXT_SOURCE_3']].copy()\n",
    "#app_test = app_test[['SK_ID_CURR','EXT_SOURCE_1','EXT_SOURCE_2','EXT_SOURCE_3']].copy()\n",
    "app_train = app_train[['SK_ID_CURR','TARGET']].copy()\n",
    "app_test = app_test[['SK_ID_CURR']].copy()\n",
    "len(app_test)"
   ]
  },
  {
   "cell_type": "code",
   "execution_count": 8,
   "id": "93802c05",
   "metadata": {},
   "outputs": [
    {
     "data": {
      "text/html": [
       "<div>\n",
       "<style scoped>\n",
       "    .dataframe tbody tr th:only-of-type {\n",
       "        vertical-align: middle;\n",
       "    }\n",
       "\n",
       "    .dataframe tbody tr th {\n",
       "        vertical-align: top;\n",
       "    }\n",
       "\n",
       "    .dataframe thead th {\n",
       "        text-align: right;\n",
       "    }\n",
       "</style>\n",
       "<table border=\"1\" class=\"dataframe\">\n",
       "  <thead>\n",
       "    <tr style=\"text-align: right;\">\n",
       "      <th></th>\n",
       "      <th>SK_ID_CURR</th>\n",
       "      <th>TARGET</th>\n",
       "    </tr>\n",
       "  </thead>\n",
       "  <tbody>\n",
       "    <tr>\n",
       "      <th>0</th>\n",
       "      <td>100002</td>\n",
       "      <td>1</td>\n",
       "    </tr>\n",
       "    <tr>\n",
       "      <th>1</th>\n",
       "      <td>100003</td>\n",
       "      <td>0</td>\n",
       "    </tr>\n",
       "    <tr>\n",
       "      <th>2</th>\n",
       "      <td>100004</td>\n",
       "      <td>0</td>\n",
       "    </tr>\n",
       "    <tr>\n",
       "      <th>3</th>\n",
       "      <td>100006</td>\n",
       "      <td>0</td>\n",
       "    </tr>\n",
       "    <tr>\n",
       "      <th>4</th>\n",
       "      <td>100007</td>\n",
       "      <td>0</td>\n",
       "    </tr>\n",
       "  </tbody>\n",
       "</table>\n",
       "</div>"
      ],
      "text/plain": [
       "   SK_ID_CURR  TARGET\n",
       "0      100002       1\n",
       "1      100003       0\n",
       "2      100004       0\n",
       "3      100006       0\n",
       "4      100007       0"
      ]
     },
     "execution_count": 8,
     "metadata": {},
     "output_type": "execute_result"
    }
   ],
   "source": [
    "app_train.head()"
   ]
  },
  {
   "cell_type": "markdown",
   "id": "ad6e7858",
   "metadata": {},
   "source": [
    "### 申し込み月におけるCssh loanの情報をマージ"
   ]
  },
  {
   "cell_type": "code",
   "execution_count": 9,
   "id": "b3d483c5",
   "metadata": {},
   "outputs": [
    {
     "data": {
      "text/plain": [
       "34012"
      ]
     },
     "execution_count": 9,
     "metadata": {},
     "output_type": "execute_result"
    }
   ],
   "source": [
    "app_train_cash = app_train_cash.rename(columns={'sk_id_curr': 'SK_ID_CURR'})\n",
    "app_test_cash = app_test_cash.rename(columns={'sk_id_curr': 'SK_ID_CURR'})\n",
    "len(app_train_cash)"
   ]
  },
  {
   "cell_type": "code",
   "execution_count": 10,
   "id": "e3d3e06a",
   "metadata": {},
   "outputs": [
    {
     "data": {
      "text/plain": [
       "307511"
      ]
     },
     "execution_count": 10,
     "metadata": {},
     "output_type": "execute_result"
    }
   ],
   "source": [
    "# trainへマージ\n",
    "app_train = pd.merge(app_train, app_train_cash, on='SK_ID_CURR', how='left')\n",
    "# testへマージ\n",
    "app_test = pd.merge(app_test, app_test_cash, on='SK_ID_CURR', how='left')\n",
    "len(app_train)"
   ]
  },
  {
   "cell_type": "markdown",
   "id": "db164f14",
   "metadata": {},
   "source": [
    "### installment_payment_ratio_1000_mean_meanをマージ"
   ]
  },
  {
   "cell_type": "code",
   "execution_count": 11,
   "id": "e0818a4a",
   "metadata": {},
   "outputs": [
    {
     "data": {
      "text/html": [
       "<div>\n",
       "<style scoped>\n",
       "    .dataframe tbody tr th:only-of-type {\n",
       "        vertical-align: middle;\n",
       "    }\n",
       "\n",
       "    .dataframe tbody tr th {\n",
       "        vertical-align: top;\n",
       "    }\n",
       "\n",
       "    .dataframe thead th {\n",
       "        text-align: right;\n",
       "    }\n",
       "</style>\n",
       "<table border=\"1\" class=\"dataframe\">\n",
       "  <thead>\n",
       "    <tr style=\"text-align: right;\">\n",
       "      <th></th>\n",
       "      <th>SK_ID_CURR</th>\n",
       "      <th>installment_payment_ratio_1000_mean_mean</th>\n",
       "    </tr>\n",
       "  </thead>\n",
       "  <tbody>\n",
       "    <tr>\n",
       "      <th>0</th>\n",
       "      <td>100003</td>\n",
       "      <td>0.000000</td>\n",
       "    </tr>\n",
       "    <tr>\n",
       "      <th>1</th>\n",
       "      <td>100006</td>\n",
       "      <td>0.000000</td>\n",
       "    </tr>\n",
       "    <tr>\n",
       "      <th>2</th>\n",
       "      <td>100007</td>\n",
       "      <td>0.000000</td>\n",
       "    </tr>\n",
       "    <tr>\n",
       "      <th>3</th>\n",
       "      <td>100008</td>\n",
       "      <td>0.000000</td>\n",
       "    </tr>\n",
       "    <tr>\n",
       "      <th>4</th>\n",
       "      <td>100011</td>\n",
       "      <td>-7066.669355</td>\n",
       "    </tr>\n",
       "  </tbody>\n",
       "</table>\n",
       "</div>"
      ],
      "text/plain": [
       "   SK_ID_CURR  installment_payment_ratio_1000_mean_mean\n",
       "0      100003                                  0.000000\n",
       "1      100006                                  0.000000\n",
       "2      100007                                  0.000000\n",
       "3      100008                                  0.000000\n",
       "4      100011                              -7066.669355"
      ]
     },
     "execution_count": 11,
     "metadata": {},
     "output_type": "execute_result"
    }
   ],
   "source": [
    "app_train_1000_mean = app_train_1000_mean.rename(columns={'sk_id_curr': 'SK_ID_CURR'})\n",
    "app_test_1000_mean = app_test_1000_mean.rename(columns={'sk_id_curr': 'SK_ID_CURR'})\n",
    "app_train_1000_mean.head()"
   ]
  },
  {
   "cell_type": "code",
   "execution_count": 12,
   "id": "80d7425d",
   "metadata": {},
   "outputs": [],
   "source": [
    "#app_train_1000_mean.drop(['sk_id_prev'], axis=1, inplace=True)\n",
    "#app_test_1000_mean.drop(['sk_id_prev'], axis=1, inplace=True)\n",
    "#app_train_1000_mean.head()"
   ]
  },
  {
   "cell_type": "code",
   "execution_count": 13,
   "id": "28ef3529",
   "metadata": {},
   "outputs": [
    {
     "data": {
      "text/plain": [
       "307511"
      ]
     },
     "execution_count": 13,
     "metadata": {},
     "output_type": "execute_result"
    }
   ],
   "source": [
    "# trainへマージ\n",
    "app_train = pd.merge(app_train, app_train_1000_mean, on='SK_ID_CURR', how='left')\n",
    "# testへマージ\n",
    "app_test = pd.merge(app_test, app_test_1000_mean, on='SK_ID_CURR', how='left')\n",
    "len(app_train)"
   ]
  },
  {
   "cell_type": "code",
   "execution_count": 14,
   "id": "4af7abb0",
   "metadata": {},
   "outputs": [
    {
     "data": {
      "text/plain": [
       "0                 NaN\n",
       "1            0.000000\n",
       "2                 NaN\n",
       "3            0.000000\n",
       "4            0.000000\n",
       "             ...     \n",
       "307506            NaN\n",
       "307507            NaN\n",
       "307508            NaN\n",
       "307509            NaN\n",
       "307510    9014.333365\n",
       "Name: installment_payment_ratio_1000_mean_mean, Length: 307511, dtype: float64"
      ]
     },
     "execution_count": 14,
     "metadata": {},
     "output_type": "execute_result"
    }
   ],
   "source": [
    "app_train['installment_payment_ratio_1000_mean_mean']"
   ]
  },
  {
   "cell_type": "code",
   "execution_count": 15,
   "id": "c0f00c4b",
   "metadata": {},
   "outputs": [
    {
     "data": {
      "text/plain": [
       "193123"
      ]
     },
     "execution_count": 15,
     "metadata": {},
     "output_type": "execute_result"
    }
   ],
   "source": [
    "app_train['installment_payment_ratio_1000_mean_mean'].isnull().sum()"
   ]
  },
  {
   "cell_type": "code",
   "execution_count": 16,
   "id": "4a87c74e",
   "metadata": {},
   "outputs": [],
   "source": [
    "#app_train['amt_annuity'].fillna(0, inplace=True)\n",
    "#app_test['amt_annuity'].fillna(0, inplace=True)"
   ]
  },
  {
   "cell_type": "code",
   "execution_count": 17,
   "id": "22d3b757",
   "metadata": {},
   "outputs": [
    {
     "data": {
      "text/plain": [
       "273499"
      ]
     },
     "execution_count": 17,
     "metadata": {},
     "output_type": "execute_result"
    }
   ],
   "source": [
    "app_train['amt_annuity'].isnull().sum()"
   ]
  },
  {
   "cell_type": "markdown",
   "id": "39094783",
   "metadata": {},
   "source": [
    "### annuity_to_max_installment_ratioをマージ"
   ]
  },
  {
   "cell_type": "code",
   "execution_count": 18,
   "id": "30bf1691",
   "metadata": {},
   "outputs": [
    {
     "data": {
      "text/html": [
       "<div>\n",
       "<style scoped>\n",
       "    .dataframe tbody tr th:only-of-type {\n",
       "        vertical-align: middle;\n",
       "    }\n",
       "\n",
       "    .dataframe tbody tr th {\n",
       "        vertical-align: top;\n",
       "    }\n",
       "\n",
       "    .dataframe thead th {\n",
       "        text-align: right;\n",
       "    }\n",
       "</style>\n",
       "<table border=\"1\" class=\"dataframe\">\n",
       "  <thead>\n",
       "    <tr style=\"text-align: right;\">\n",
       "      <th></th>\n",
       "      <th>SK_ID_CURR</th>\n",
       "      <th>annuity_to_max_installment_ratio</th>\n",
       "    </tr>\n",
       "  </thead>\n",
       "  <tbody>\n",
       "    <tr>\n",
       "      <th>0</th>\n",
       "      <td>100066</td>\n",
       "      <td>-3217.4444</td>\n",
       "    </tr>\n",
       "    <tr>\n",
       "      <th>1</th>\n",
       "      <td>100090</td>\n",
       "      <td>-765.8182</td>\n",
       "    </tr>\n",
       "    <tr>\n",
       "      <th>2</th>\n",
       "      <td>100168</td>\n",
       "      <td>-1174.5000</td>\n",
       "    </tr>\n",
       "    <tr>\n",
       "      <th>3</th>\n",
       "      <td>100223</td>\n",
       "      <td>-1884.7895</td>\n",
       "    </tr>\n",
       "    <tr>\n",
       "      <th>4</th>\n",
       "      <td>100232</td>\n",
       "      <td>-1269.2353</td>\n",
       "    </tr>\n",
       "  </tbody>\n",
       "</table>\n",
       "</div>"
      ],
      "text/plain": [
       "   SK_ID_CURR  annuity_to_max_installment_ratio\n",
       "0      100066                        -3217.4444\n",
       "1      100090                         -765.8182\n",
       "2      100168                        -1174.5000\n",
       "3      100223                        -1884.7895\n",
       "4      100232                        -1269.2353"
      ]
     },
     "execution_count": 18,
     "metadata": {},
     "output_type": "execute_result"
    }
   ],
   "source": [
    "app_train_max_installment_ratio = app_train_max_installment_ratio.rename(columns={'sk_id_curr': 'SK_ID_CURR'})\n",
    "app_test_max_installment_ratio = app_test_max_installment_ratio.rename(columns={'sk_id_curr': 'SK_ID_CURR'})\n",
    "app_test_max_installment_ratio.head()"
   ]
  },
  {
   "cell_type": "code",
   "execution_count": 19,
   "id": "5d936671",
   "metadata": {},
   "outputs": [
    {
     "data": {
      "text/plain": [
       "307511"
      ]
     },
     "execution_count": 19,
     "metadata": {},
     "output_type": "execute_result"
    }
   ],
   "source": [
    "# trainへマージ\n",
    "app_train = pd.merge(app_train, app_train_max_installment_ratio, on='SK_ID_CURR', how='left')\n",
    "# testへマージ\n",
    "app_test = pd.merge(app_test, app_test_max_installment_ratio, on='SK_ID_CURR', how='left')\n",
    "len(app_train)"
   ]
  },
  {
   "cell_type": "markdown",
   "id": "2d612127",
   "metadata": {},
   "source": [
    "### AMT_ANNUITY(ローン支払い額)"
   ]
  },
  {
   "cell_type": "code",
   "execution_count": 20,
   "id": "8b3f9319",
   "metadata": {},
   "outputs": [
    {
     "data": {
      "text/plain": [
       "nan"
      ]
     },
     "execution_count": 20,
     "metadata": {},
     "output_type": "execute_result"
    }
   ],
   "source": [
    "max(app_train['amt_annuity'])"
   ]
  },
  {
   "cell_type": "code",
   "execution_count": 21,
   "id": "7af685ff",
   "metadata": {},
   "outputs": [
    {
     "data": {
      "text/plain": [
       "nan"
      ]
     },
     "execution_count": 21,
     "metadata": {},
     "output_type": "execute_result"
    }
   ],
   "source": [
    "min(app_train['amt_annuity'])"
   ]
  },
  {
   "cell_type": "code",
   "execution_count": 22,
   "id": "8ab5de5a",
   "metadata": {},
   "outputs": [
    {
     "data": {
      "text/html": [
       "<div>\n",
       "<style scoped>\n",
       "    .dataframe tbody tr th:only-of-type {\n",
       "        vertical-align: middle;\n",
       "    }\n",
       "\n",
       "    .dataframe tbody tr th {\n",
       "        vertical-align: top;\n",
       "    }\n",
       "\n",
       "    .dataframe thead th {\n",
       "        text-align: right;\n",
       "    }\n",
       "</style>\n",
       "<table border=\"1\" class=\"dataframe\">\n",
       "  <thead>\n",
       "    <tr style=\"text-align: right;\">\n",
       "      <th></th>\n",
       "      <th>amt_annuity</th>\n",
       "      <th>TARGET</th>\n",
       "    </tr>\n",
       "  </thead>\n",
       "  <tbody>\n",
       "    <tr>\n",
       "      <th>amt_annuity</th>\n",
       "      <td>1.000000</td>\n",
       "      <td>-0.036369</td>\n",
       "    </tr>\n",
       "    <tr>\n",
       "      <th>TARGET</th>\n",
       "      <td>-0.036369</td>\n",
       "      <td>1.000000</td>\n",
       "    </tr>\n",
       "  </tbody>\n",
       "</table>\n",
       "</div>"
      ],
      "text/plain": [
       "             amt_annuity    TARGET\n",
       "amt_annuity     1.000000 -0.036369\n",
       "TARGET         -0.036369  1.000000"
      ]
     },
     "execution_count": 22,
     "metadata": {},
     "output_type": "execute_result"
    }
   ],
   "source": [
    "app_train[['amt_annuity', 'TARGET']].corr()"
   ]
  },
  {
   "cell_type": "markdown",
   "id": "77493d7c",
   "metadata": {},
   "source": [
    "### AMT_APPLICATION|借り入れ申し込み金額|"
   ]
  },
  {
   "cell_type": "code",
   "execution_count": 23,
   "id": "11dc9824",
   "metadata": {},
   "outputs": [],
   "source": [
    "#app_train['amt_application'].fillna(0, inplace=True)\n",
    "#app_test['amt_application'].fillna(0, inplace=True)"
   ]
  },
  {
   "cell_type": "code",
   "execution_count": 24,
   "id": "6b3b6d3e",
   "metadata": {},
   "outputs": [
    {
     "data": {
      "text/html": [
       "<div>\n",
       "<style scoped>\n",
       "    .dataframe tbody tr th:only-of-type {\n",
       "        vertical-align: middle;\n",
       "    }\n",
       "\n",
       "    .dataframe tbody tr th {\n",
       "        vertical-align: top;\n",
       "    }\n",
       "\n",
       "    .dataframe thead th {\n",
       "        text-align: right;\n",
       "    }\n",
       "</style>\n",
       "<table border=\"1\" class=\"dataframe\">\n",
       "  <thead>\n",
       "    <tr style=\"text-align: right;\">\n",
       "      <th></th>\n",
       "      <th>amt_application</th>\n",
       "      <th>TARGET</th>\n",
       "    </tr>\n",
       "  </thead>\n",
       "  <tbody>\n",
       "    <tr>\n",
       "      <th>amt_application</th>\n",
       "      <td>1.00000</td>\n",
       "      <td>-0.01506</td>\n",
       "    </tr>\n",
       "    <tr>\n",
       "      <th>TARGET</th>\n",
       "      <td>-0.01506</td>\n",
       "      <td>1.00000</td>\n",
       "    </tr>\n",
       "  </tbody>\n",
       "</table>\n",
       "</div>"
      ],
      "text/plain": [
       "                 amt_application   TARGET\n",
       "amt_application          1.00000 -0.01506\n",
       "TARGET                  -0.01506  1.00000"
      ]
     },
     "execution_count": 24,
     "metadata": {},
     "output_type": "execute_result"
    }
   ],
   "source": [
    "app_train[['amt_application', 'TARGET']].corr()"
   ]
  },
  {
   "cell_type": "markdown",
   "id": "63593d37",
   "metadata": {},
   "source": [
    "### AMT_CREDIT(借り入れ承認金額(最終的な貸付金額))"
   ]
  },
  {
   "cell_type": "code",
   "execution_count": 25,
   "id": "2ee52722",
   "metadata": {},
   "outputs": [
    {
     "data": {
      "text/plain": [
       "nan"
      ]
     },
     "execution_count": 25,
     "metadata": {},
     "output_type": "execute_result"
    }
   ],
   "source": [
    "max(app_train['amt_credit'])"
   ]
  },
  {
   "cell_type": "code",
   "execution_count": 26,
   "id": "2a30f4d8",
   "metadata": {},
   "outputs": [
    {
     "data": {
      "text/plain": [
       "nan"
      ]
     },
     "execution_count": 26,
     "metadata": {},
     "output_type": "execute_result"
    }
   ],
   "source": [
    "min(app_train['amt_credit'])"
   ]
  },
  {
   "cell_type": "code",
   "execution_count": 27,
   "id": "80d48903",
   "metadata": {},
   "outputs": [
    {
     "data": {
      "text/html": [
       "<div>\n",
       "<style scoped>\n",
       "    .dataframe tbody tr th:only-of-type {\n",
       "        vertical-align: middle;\n",
       "    }\n",
       "\n",
       "    .dataframe tbody tr th {\n",
       "        vertical-align: top;\n",
       "    }\n",
       "\n",
       "    .dataframe thead th {\n",
       "        text-align: right;\n",
       "    }\n",
       "</style>\n",
       "<table border=\"1\" class=\"dataframe\">\n",
       "  <thead>\n",
       "    <tr style=\"text-align: right;\">\n",
       "      <th></th>\n",
       "      <th>amt_credit</th>\n",
       "      <th>TARGET</th>\n",
       "    </tr>\n",
       "  </thead>\n",
       "  <tbody>\n",
       "    <tr>\n",
       "      <th>amt_credit</th>\n",
       "      <td>1.000000</td>\n",
       "      <td>-0.008921</td>\n",
       "    </tr>\n",
       "    <tr>\n",
       "      <th>TARGET</th>\n",
       "      <td>-0.008921</td>\n",
       "      <td>1.000000</td>\n",
       "    </tr>\n",
       "  </tbody>\n",
       "</table>\n",
       "</div>"
      ],
      "text/plain": [
       "            amt_credit    TARGET\n",
       "amt_credit    1.000000 -0.008921\n",
       "TARGET       -0.008921  1.000000"
      ]
     },
     "execution_count": 27,
     "metadata": {},
     "output_type": "execute_result"
    }
   ],
   "source": [
    "app_train[['amt_credit', 'TARGET']].corr()"
   ]
  },
  {
   "cell_type": "markdown",
   "id": "cff1629a",
   "metadata": {},
   "source": [
    "### AMT_DOWN_PAYMENT(頭金) Cash loans の場合は不要?"
   ]
  },
  {
   "cell_type": "code",
   "execution_count": 28,
   "id": "4c8ea3ed",
   "metadata": {},
   "outputs": [
    {
     "data": {
      "text/html": [
       "<div>\n",
       "<style scoped>\n",
       "    .dataframe tbody tr th:only-of-type {\n",
       "        vertical-align: middle;\n",
       "    }\n",
       "\n",
       "    .dataframe tbody tr th {\n",
       "        vertical-align: top;\n",
       "    }\n",
       "\n",
       "    .dataframe thead th {\n",
       "        text-align: right;\n",
       "    }\n",
       "</style>\n",
       "<table border=\"1\" class=\"dataframe\">\n",
       "  <thead>\n",
       "    <tr style=\"text-align: right;\">\n",
       "      <th></th>\n",
       "      <th>amt_down_payment</th>\n",
       "      <th>TARGET</th>\n",
       "    </tr>\n",
       "  </thead>\n",
       "  <tbody>\n",
       "    <tr>\n",
       "      <th>amt_down_payment</th>\n",
       "      <td>NaN</td>\n",
       "      <td>NaN</td>\n",
       "    </tr>\n",
       "    <tr>\n",
       "      <th>TARGET</th>\n",
       "      <td>NaN</td>\n",
       "      <td>1.0</td>\n",
       "    </tr>\n",
       "  </tbody>\n",
       "</table>\n",
       "</div>"
      ],
      "text/plain": [
       "                  amt_down_payment  TARGET\n",
       "amt_down_payment               NaN     NaN\n",
       "TARGET                         NaN     1.0"
      ]
     },
     "execution_count": 28,
     "metadata": {},
     "output_type": "execute_result"
    }
   ],
   "source": [
    "app_train[['amt_down_payment', 'TARGET']].corr()"
   ]
  },
  {
   "cell_type": "code",
   "execution_count": 29,
   "id": "95f28508",
   "metadata": {},
   "outputs": [],
   "source": [
    "app_train.drop(['amt_down_payment'], axis=1, inplace=True)\n",
    "app_test.drop(['amt_down_payment'], axis=1, inplace=True)"
   ]
  },
  {
   "cell_type": "markdown",
   "id": "3491ddf3",
   "metadata": {},
   "source": [
    "### AMT_GOODS_PRICE(クライアントが要求した商品価格)"
   ]
  },
  {
   "cell_type": "code",
   "execution_count": 30,
   "id": "290e500c",
   "metadata": {},
   "outputs": [
    {
     "data": {
      "text/html": [
       "<div>\n",
       "<style scoped>\n",
       "    .dataframe tbody tr th:only-of-type {\n",
       "        vertical-align: middle;\n",
       "    }\n",
       "\n",
       "    .dataframe tbody tr th {\n",
       "        vertical-align: top;\n",
       "    }\n",
       "\n",
       "    .dataframe thead th {\n",
       "        text-align: right;\n",
       "    }\n",
       "</style>\n",
       "<table border=\"1\" class=\"dataframe\">\n",
       "  <thead>\n",
       "    <tr style=\"text-align: right;\">\n",
       "      <th></th>\n",
       "      <th>amt_goods_price</th>\n",
       "      <th>TARGET</th>\n",
       "    </tr>\n",
       "  </thead>\n",
       "  <tbody>\n",
       "    <tr>\n",
       "      <th>amt_goods_price</th>\n",
       "      <td>1.00000</td>\n",
       "      <td>-0.01506</td>\n",
       "    </tr>\n",
       "    <tr>\n",
       "      <th>TARGET</th>\n",
       "      <td>-0.01506</td>\n",
       "      <td>1.00000</td>\n",
       "    </tr>\n",
       "  </tbody>\n",
       "</table>\n",
       "</div>"
      ],
      "text/plain": [
       "                 amt_goods_price   TARGET\n",
       "amt_goods_price          1.00000 -0.01506\n",
       "TARGET                  -0.01506  1.00000"
      ]
     },
     "execution_count": 30,
     "metadata": {},
     "output_type": "execute_result"
    }
   ],
   "source": [
    "app_train[['amt_goods_price', 'TARGET']].corr()"
   ]
  },
  {
   "cell_type": "markdown",
   "id": "951d832a",
   "metadata": {},
   "source": [
    "### WEEKDAY_APPR_PROCESS_START(申請した曜日)"
   ]
  },
  {
   "cell_type": "code",
   "execution_count": 31,
   "id": "a701df8e",
   "metadata": {},
   "outputs": [],
   "source": [
    "app_train['weekday_appr_process_start'].replace(['TUESDAY', 'MONDAY', 'WEDNESDAY', 'THURSDAY', 'FRIDAY', 'SATURDAY', 'SUNDAY'], [1, 2, 3, 4, 5, 6, 7], inplace=True)\n",
    "app_test['weekday_appr_process_start'].replace(['TUESDAY', 'MONDAY', 'WEDNESDAY', 'THURSDAY', 'FRIDAY', 'SATURDAY', 'SUNDAY'], [1, 2, 3, 4, 5, 6, 7], inplace=True)"
   ]
  },
  {
   "cell_type": "code",
   "execution_count": 32,
   "id": "284d60e3",
   "metadata": {},
   "outputs": [
    {
     "data": {
      "text/plain": [
       "1.0    5847\n",
       "2.0    5827\n",
       "3.0    5694\n",
       "4.0    5428\n",
       "5.0    5281\n",
       "6.0    4033\n",
       "7.0    1902\n",
       "Name: weekday_appr_process_start, dtype: int64"
      ]
     },
     "execution_count": 32,
     "metadata": {},
     "output_type": "execute_result"
    }
   ],
   "source": [
    "app_train['weekday_appr_process_start'].value_counts()"
   ]
  },
  {
   "cell_type": "code",
   "execution_count": 33,
   "id": "3fe34aed",
   "metadata": {},
   "outputs": [
    {
     "data": {
      "text/html": [
       "<div>\n",
       "<style scoped>\n",
       "    .dataframe tbody tr th:only-of-type {\n",
       "        vertical-align: middle;\n",
       "    }\n",
       "\n",
       "    .dataframe tbody tr th {\n",
       "        vertical-align: top;\n",
       "    }\n",
       "\n",
       "    .dataframe thead th {\n",
       "        text-align: right;\n",
       "    }\n",
       "</style>\n",
       "<table border=\"1\" class=\"dataframe\">\n",
       "  <thead>\n",
       "    <tr style=\"text-align: right;\">\n",
       "      <th></th>\n",
       "      <th>weekday_appr_process_start</th>\n",
       "      <th>TARGET</th>\n",
       "    </tr>\n",
       "  </thead>\n",
       "  <tbody>\n",
       "    <tr>\n",
       "      <th>weekday_appr_process_start</th>\n",
       "      <td>1.000000</td>\n",
       "      <td>0.004927</td>\n",
       "    </tr>\n",
       "    <tr>\n",
       "      <th>TARGET</th>\n",
       "      <td>0.004927</td>\n",
       "      <td>1.000000</td>\n",
       "    </tr>\n",
       "  </tbody>\n",
       "</table>\n",
       "</div>"
      ],
      "text/plain": [
       "                            weekday_appr_process_start    TARGET\n",
       "weekday_appr_process_start                    1.000000  0.004927\n",
       "TARGET                                        0.004927  1.000000"
      ]
     },
     "execution_count": 33,
     "metadata": {},
     "output_type": "execute_result"
    }
   ],
   "source": [
    "app_train[['weekday_appr_process_start', 'TARGET']].corr()"
   ]
  },
  {
   "cell_type": "code",
   "execution_count": 34,
   "id": "9973a00c",
   "metadata": {},
   "outputs": [],
   "source": [
    "app_train.drop(['weekday_appr_process_start'], axis=1, inplace=True)\n",
    "app_test.drop(['weekday_appr_process_start'], axis=1, inplace=True)"
   ]
  },
  {
   "cell_type": "markdown",
   "id": "2561c7a0",
   "metadata": {},
   "source": [
    "### HOUR_APPR_PROCESS_START(クライアントが応募した時間)"
   ]
  },
  {
   "cell_type": "code",
   "execution_count": 35,
   "id": "b896f309",
   "metadata": {},
   "outputs": [
    {
     "data": {
      "text/plain": [
       "10.0    4744\n",
       "11.0    4218\n",
       "12.0    3921\n",
       "13.0    3333\n",
       "9.0     3130\n",
       "14.0    2892\n",
       "15.0    2577\n",
       "16.0    1992\n",
       "8.0     1822\n",
       "17.0    1404\n",
       "7.0     1163\n",
       "18.0     848\n",
       "6.0      665\n",
       "5.0      386\n",
       "19.0     384\n",
       "4.0      217\n",
       "3.0      140\n",
       "20.0      94\n",
       "2.0       29\n",
       "21.0      28\n",
       "22.0      18\n",
       "1.0        4\n",
       "0.0        2\n",
       "23.0       1\n",
       "Name: hour_appr_process_start, dtype: int64"
      ]
     },
     "execution_count": 35,
     "metadata": {},
     "output_type": "execute_result"
    }
   ],
   "source": [
    "app_train['hour_appr_process_start'].value_counts()"
   ]
  },
  {
   "cell_type": "code",
   "execution_count": 36,
   "id": "edba6ab3",
   "metadata": {},
   "outputs": [
    {
     "data": {
      "text/html": [
       "<div>\n",
       "<style scoped>\n",
       "    .dataframe tbody tr th:only-of-type {\n",
       "        vertical-align: middle;\n",
       "    }\n",
       "\n",
       "    .dataframe tbody tr th {\n",
       "        vertical-align: top;\n",
       "    }\n",
       "\n",
       "    .dataframe thead th {\n",
       "        text-align: right;\n",
       "    }\n",
       "</style>\n",
       "<table border=\"1\" class=\"dataframe\">\n",
       "  <thead>\n",
       "    <tr style=\"text-align: right;\">\n",
       "      <th></th>\n",
       "      <th>hour_appr_process_start</th>\n",
       "      <th>TARGET</th>\n",
       "    </tr>\n",
       "  </thead>\n",
       "  <tbody>\n",
       "    <tr>\n",
       "      <th>hour_appr_process_start</th>\n",
       "      <td>1.000000</td>\n",
       "      <td>-0.018993</td>\n",
       "    </tr>\n",
       "    <tr>\n",
       "      <th>TARGET</th>\n",
       "      <td>-0.018993</td>\n",
       "      <td>1.000000</td>\n",
       "    </tr>\n",
       "  </tbody>\n",
       "</table>\n",
       "</div>"
      ],
      "text/plain": [
       "                         hour_appr_process_start    TARGET\n",
       "hour_appr_process_start                 1.000000 -0.018993\n",
       "TARGET                                 -0.018993  1.000000"
      ]
     },
     "execution_count": 36,
     "metadata": {},
     "output_type": "execute_result"
    }
   ],
   "source": [
    "app_train[['hour_appr_process_start', 'TARGET']].corr()"
   ]
  },
  {
   "cell_type": "markdown",
   "id": "ccea59d8",
   "metadata": {},
   "source": [
    "### FLAG_LAST_APPL_PER_CONTRACT|最も最新の過去のローン申請だった場合のフラグ(店員による間違いがあるかもしれんけど)|"
   ]
  },
  {
   "cell_type": "code",
   "execution_count": 37,
   "id": "3fd0064f",
   "metadata": {},
   "outputs": [
    {
     "data": {
      "text/plain": [
       "Y    34012\n",
       "Name: flag_last_appl_per_contract, dtype: int64"
      ]
     },
     "execution_count": 37,
     "metadata": {},
     "output_type": "execute_result"
    }
   ],
   "source": [
    "app_train['flag_last_appl_per_contract'].value_counts()"
   ]
  },
  {
   "cell_type": "code",
   "execution_count": 38,
   "id": "49d4039b",
   "metadata": {},
   "outputs": [],
   "source": [
    "app_train.drop(['flag_last_appl_per_contract'], axis=1, inplace=True)\n",
    "app_test.drop(['flag_last_appl_per_contract'], axis=1, inplace=True)"
   ]
  },
  {
   "cell_type": "markdown",
   "id": "1cb984d0",
   "metadata": {},
   "source": [
    "### NFLAG_LAST_APPL_IN_DAY(1日の中での最後の申し込みだった場合のフラグ)"
   ]
  },
  {
   "cell_type": "code",
   "execution_count": 39,
   "id": "f25d2ebf",
   "metadata": {},
   "outputs": [
    {
     "data": {
      "text/plain": [
       "1.0    33970\n",
       "0.0       42\n",
       "Name: nflag_last_appl_in_day, dtype: int64"
      ]
     },
     "execution_count": 39,
     "metadata": {},
     "output_type": "execute_result"
    }
   ],
   "source": [
    "app_train['nflag_last_appl_in_day'].value_counts()"
   ]
  },
  {
   "cell_type": "code",
   "execution_count": 40,
   "id": "7280f71f",
   "metadata": {},
   "outputs": [
    {
     "data": {
      "text/html": [
       "<div>\n",
       "<style scoped>\n",
       "    .dataframe tbody tr th:only-of-type {\n",
       "        vertical-align: middle;\n",
       "    }\n",
       "\n",
       "    .dataframe tbody tr th {\n",
       "        vertical-align: top;\n",
       "    }\n",
       "\n",
       "    .dataframe thead th {\n",
       "        text-align: right;\n",
       "    }\n",
       "</style>\n",
       "<table border=\"1\" class=\"dataframe\">\n",
       "  <thead>\n",
       "    <tr style=\"text-align: right;\">\n",
       "      <th></th>\n",
       "      <th>nflag_last_appl_in_day</th>\n",
       "      <th>TARGET</th>\n",
       "    </tr>\n",
       "  </thead>\n",
       "  <tbody>\n",
       "    <tr>\n",
       "      <th>nflag_last_appl_in_day</th>\n",
       "      <td>1.000000</td>\n",
       "      <td>0.003847</td>\n",
       "    </tr>\n",
       "    <tr>\n",
       "      <th>TARGET</th>\n",
       "      <td>0.003847</td>\n",
       "      <td>1.000000</td>\n",
       "    </tr>\n",
       "  </tbody>\n",
       "</table>\n",
       "</div>"
      ],
      "text/plain": [
       "                        nflag_last_appl_in_day    TARGET\n",
       "nflag_last_appl_in_day                1.000000  0.003847\n",
       "TARGET                                0.003847  1.000000"
      ]
     },
     "execution_count": 40,
     "metadata": {},
     "output_type": "execute_result"
    }
   ],
   "source": [
    "app_train[['nflag_last_appl_in_day', 'TARGET']].corr()"
   ]
  },
  {
   "cell_type": "markdown",
   "id": "f064d36c",
   "metadata": {},
   "source": [
    "### RATE_DOWN_PAYMENT(前払い率)"
   ]
  },
  {
   "cell_type": "code",
   "execution_count": 41,
   "id": "134e1cfa",
   "metadata": {},
   "outputs": [
    {
     "data": {
      "text/plain": [
       "0.0    34012\n",
       "Name: rate_down_payment, dtype: int64"
      ]
     },
     "execution_count": 41,
     "metadata": {},
     "output_type": "execute_result"
    }
   ],
   "source": [
    "app_train['rate_down_payment'].value_counts()"
   ]
  },
  {
   "cell_type": "code",
   "execution_count": 42,
   "id": "7a20abfc",
   "metadata": {},
   "outputs": [],
   "source": [
    "app_train.drop(['rate_down_payment'], axis=1, inplace=True)\n",
    "app_test.drop(['rate_down_payment'], axis=1, inplace=True)"
   ]
  },
  {
   "cell_type": "markdown",
   "id": "edf64089",
   "metadata": {},
   "source": [
    "### RATE_INTEREST_PRIMARY(金利)"
   ]
  },
  {
   "cell_type": "code",
   "execution_count": 43,
   "id": "116d29fc",
   "metadata": {},
   "outputs": [
    {
     "data": {
      "text/plain": [
       "0.0    34012\n",
       "Name: rate_interest_primary, dtype: int64"
      ]
     },
     "execution_count": 43,
     "metadata": {},
     "output_type": "execute_result"
    }
   ],
   "source": [
    "app_train['rate_interest_primary'].value_counts()"
   ]
  },
  {
   "cell_type": "markdown",
   "id": "e601cbc2",
   "metadata": {},
   "source": [
    "### RATE_INTEREST_PRIVILEGED(金利)"
   ]
  },
  {
   "cell_type": "code",
   "execution_count": 44,
   "id": "df1b2134",
   "metadata": {},
   "outputs": [
    {
     "data": {
      "text/plain": [
       "0.0    34012\n",
       "Name: rate_interest_privileged, dtype: int64"
      ]
     },
     "execution_count": 44,
     "metadata": {},
     "output_type": "execute_result"
    }
   ],
   "source": [
    "app_train['rate_interest_privileged'].value_counts()"
   ]
  },
  {
   "cell_type": "markdown",
   "id": "d2b7a2a1",
   "metadata": {},
   "source": [
    "### NAME_CASH_LOAN_PURPOSE(現金融資の目的)"
   ]
  },
  {
   "cell_type": "code",
   "execution_count": 45,
   "id": "3733f0b3",
   "metadata": {},
   "outputs": [],
   "source": [
    "columns = ['XNA', 'Repairs', 'Other', 'Urgent needs', 'Building a house or an annex', 'Buying a used car', 'Medicine', 'Wedding / gift / holiday', 'Furniture', 'Journey', 'Everyday expenses', 'Education', 'Car repairs', 'Payments on other loans', 'Purchase of electronic equipment', 'Buying a new car', 'Buying a home', 'Gasification / water supply', 'Buying a holiday home / land', 'Business development', 'Buying a garage', 'Hobby', 'Refusal to name the goal', 'Money for a third person']\n",
    "app_train['name_cash_loan_purpose'].replace(columns, [1, 2, 3, 4, 5, 6, 7, 8, 9, 10, 11, 12, 13, 14, 15, 16, 17, 18, 19, 20, 21, 22, 23, 24], inplace=True)\n",
    "app_test['name_cash_loan_purpose'].replace(columns, [1, 2, 3, 4, 5, 6, 7, 8, 9, 10, 11, 12, 13, 14, 15, 16, 17, 18, 19, 20, 21, 22, 23, 24], inplace=True)"
   ]
  },
  {
   "cell_type": "code",
   "execution_count": 46,
   "id": "580a43db",
   "metadata": {},
   "outputs": [
    {
     "data": {
      "text/plain": [
       "1.0     31474\n",
       "2.0       917\n",
       "3.0       505\n",
       "4.0       423\n",
       "5.0       100\n",
       "6.0        89\n",
       "7.0        70\n",
       "8.0        64\n",
       "9.0        50\n",
       "10.0       48\n",
       "11.0       44\n",
       "12.0       38\n",
       "13.0       36\n",
       "14.0       30\n",
       "15.0       29\n",
       "16.0       21\n",
       "17.0       18\n",
       "18.0       16\n",
       "19.0       14\n",
       "20.0       13\n",
       "21.0        6\n",
       "22.0        4\n",
       "23.0        2\n",
       "24.0        1\n",
       "Name: name_cash_loan_purpose, dtype: int64"
      ]
     },
     "execution_count": 46,
     "metadata": {},
     "output_type": "execute_result"
    }
   ],
   "source": [
    "app_train['name_cash_loan_purpose'].value_counts()"
   ]
  },
  {
   "cell_type": "code",
   "execution_count": 47,
   "id": "5e9c2fa8",
   "metadata": {},
   "outputs": [
    {
     "data": {
      "text/html": [
       "<div>\n",
       "<style scoped>\n",
       "    .dataframe tbody tr th:only-of-type {\n",
       "        vertical-align: middle;\n",
       "    }\n",
       "\n",
       "    .dataframe tbody tr th {\n",
       "        vertical-align: top;\n",
       "    }\n",
       "\n",
       "    .dataframe thead th {\n",
       "        text-align: right;\n",
       "    }\n",
       "</style>\n",
       "<table border=\"1\" class=\"dataframe\">\n",
       "  <thead>\n",
       "    <tr style=\"text-align: right;\">\n",
       "      <th></th>\n",
       "      <th>name_cash_loan_purpose</th>\n",
       "      <th>TARGET</th>\n",
       "    </tr>\n",
       "  </thead>\n",
       "  <tbody>\n",
       "    <tr>\n",
       "      <th>name_cash_loan_purpose</th>\n",
       "      <td>1.000000</td>\n",
       "      <td>0.030993</td>\n",
       "    </tr>\n",
       "    <tr>\n",
       "      <th>TARGET</th>\n",
       "      <td>0.030993</td>\n",
       "      <td>1.000000</td>\n",
       "    </tr>\n",
       "  </tbody>\n",
       "</table>\n",
       "</div>"
      ],
      "text/plain": [
       "                        name_cash_loan_purpose    TARGET\n",
       "name_cash_loan_purpose                1.000000  0.030993\n",
       "TARGET                                0.030993  1.000000"
      ]
     },
     "execution_count": 47,
     "metadata": {},
     "output_type": "execute_result"
    }
   ],
   "source": [
    "app_train[['name_cash_loan_purpose', 'TARGET']].corr()"
   ]
  },
  {
   "cell_type": "markdown",
   "id": "62b25c03",
   "metadata": {},
   "source": [
    "### NAME_CONTRACT_STATUS(契約状況)"
   ]
  },
  {
   "cell_type": "code",
   "execution_count": 48,
   "id": "f3de0700",
   "metadata": {},
   "outputs": [
    {
     "data": {
      "text/plain": [
       "Approved    34012\n",
       "Name: name_contract_status, dtype: int64"
      ]
     },
     "execution_count": 48,
     "metadata": {},
     "output_type": "execute_result"
    }
   ],
   "source": [
    "app_train['name_contract_status'].value_counts()"
   ]
  },
  {
   "cell_type": "code",
   "execution_count": 49,
   "id": "35fbc18d",
   "metadata": {},
   "outputs": [],
   "source": [
    "app_train.drop(['name_contract_status'], axis=1, inplace=True)\n",
    "app_test.drop(['name_contract_status'], axis=1, inplace=True)"
   ]
  },
  {
   "cell_type": "markdown",
   "id": "30dcdf72",
   "metadata": {},
   "source": [
    "### DAYS_DECISION(今回申込日との日数差)"
   ]
  },
  {
   "cell_type": "code",
   "execution_count": 50,
   "id": "5bdd2496",
   "metadata": {},
   "outputs": [
    {
     "data": {
      "text/plain": [
       "-244.0     124\n",
       "-364.0     108\n",
       "-245.0     107\n",
       "-273.0     105\n",
       "-183.0     104\n",
       "          ... \n",
       "-2327.0      1\n",
       "-1287.0      1\n",
       "-2567.0      1\n",
       "-1220.0      1\n",
       "-19.0        1\n",
       "Name: days_decision, Length: 1367, dtype: int64"
      ]
     },
     "execution_count": 50,
     "metadata": {},
     "output_type": "execute_result"
    }
   ],
   "source": [
    "app_train['days_decision'].value_counts()"
   ]
  },
  {
   "cell_type": "code",
   "execution_count": 51,
   "id": "55df8bba",
   "metadata": {},
   "outputs": [
    {
     "data": {
      "text/html": [
       "<div>\n",
       "<style scoped>\n",
       "    .dataframe tbody tr th:only-of-type {\n",
       "        vertical-align: middle;\n",
       "    }\n",
       "\n",
       "    .dataframe tbody tr th {\n",
       "        vertical-align: top;\n",
       "    }\n",
       "\n",
       "    .dataframe thead th {\n",
       "        text-align: right;\n",
       "    }\n",
       "</style>\n",
       "<table border=\"1\" class=\"dataframe\">\n",
       "  <thead>\n",
       "    <tr style=\"text-align: right;\">\n",
       "      <th></th>\n",
       "      <th>days_decision</th>\n",
       "      <th>TARGET</th>\n",
       "    </tr>\n",
       "  </thead>\n",
       "  <tbody>\n",
       "    <tr>\n",
       "      <th>days_decision</th>\n",
       "      <td>1.000000</td>\n",
       "      <td>0.005374</td>\n",
       "    </tr>\n",
       "    <tr>\n",
       "      <th>TARGET</th>\n",
       "      <td>0.005374</td>\n",
       "      <td>1.000000</td>\n",
       "    </tr>\n",
       "  </tbody>\n",
       "</table>\n",
       "</div>"
      ],
      "text/plain": [
       "               days_decision    TARGET\n",
       "days_decision       1.000000  0.005374\n",
       "TARGET              0.005374  1.000000"
      ]
     },
     "execution_count": 51,
     "metadata": {},
     "output_type": "execute_result"
    }
   ],
   "source": [
    "app_train[['days_decision', 'TARGET']].corr()"
   ]
  },
  {
   "cell_type": "code",
   "execution_count": 52,
   "id": "98d78587",
   "metadata": {},
   "outputs": [],
   "source": [
    "# days_decisionをDROP\n",
    "app_train.drop(['days_decision'], axis=1, inplace=True)\n",
    "app_test.drop(['days_decision'], axis=1, inplace=True)"
   ]
  },
  {
   "cell_type": "markdown",
   "id": "8a95c961",
   "metadata": {},
   "source": [
    "### NAME_PAYMENT_TYPE(支払い方法)"
   ]
  },
  {
   "cell_type": "code",
   "execution_count": 53,
   "id": "07075a20",
   "metadata": {},
   "outputs": [],
   "source": [
    "columns = ['Cash through the bank', 'XNA', 'Non-cash from your account', 'Cashless from the account of the employer']\n",
    "app_train['name_payment_type'].replace(columns, [1, 2, 3, 4], inplace=True)\n",
    "app_test['name_payment_type'].replace(columns, [1, 2, 3, 4], inplace=True)"
   ]
  },
  {
   "cell_type": "code",
   "execution_count": 54,
   "id": "a45b1c20",
   "metadata": {},
   "outputs": [
    {
     "data": {
      "text/plain": [
       "1.0    30767\n",
       "2.0     3079\n",
       "3.0      138\n",
       "4.0       28\n",
       "Name: name_payment_type, dtype: int64"
      ]
     },
     "execution_count": 54,
     "metadata": {},
     "output_type": "execute_result"
    }
   ],
   "source": [
    "app_train['name_payment_type'].value_counts()"
   ]
  },
  {
   "cell_type": "code",
   "execution_count": 55,
   "id": "b5487c97",
   "metadata": {},
   "outputs": [
    {
     "data": {
      "text/html": [
       "<div>\n",
       "<style scoped>\n",
       "    .dataframe tbody tr th:only-of-type {\n",
       "        vertical-align: middle;\n",
       "    }\n",
       "\n",
       "    .dataframe tbody tr th {\n",
       "        vertical-align: top;\n",
       "    }\n",
       "\n",
       "    .dataframe thead th {\n",
       "        text-align: right;\n",
       "    }\n",
       "</style>\n",
       "<table border=\"1\" class=\"dataframe\">\n",
       "  <thead>\n",
       "    <tr style=\"text-align: right;\">\n",
       "      <th></th>\n",
       "      <th>name_payment_type</th>\n",
       "      <th>TARGET</th>\n",
       "    </tr>\n",
       "  </thead>\n",
       "  <tbody>\n",
       "    <tr>\n",
       "      <th>name_payment_type</th>\n",
       "      <td>1.000000</td>\n",
       "      <td>0.015109</td>\n",
       "    </tr>\n",
       "    <tr>\n",
       "      <th>TARGET</th>\n",
       "      <td>0.015109</td>\n",
       "      <td>1.000000</td>\n",
       "    </tr>\n",
       "  </tbody>\n",
       "</table>\n",
       "</div>"
      ],
      "text/plain": [
       "                   name_payment_type    TARGET\n",
       "name_payment_type           1.000000  0.015109\n",
       "TARGET                      0.015109  1.000000"
      ]
     },
     "execution_count": 55,
     "metadata": {},
     "output_type": "execute_result"
    }
   ],
   "source": [
    "app_train[['name_payment_type', 'TARGET']].corr()"
   ]
  },
  {
   "cell_type": "markdown",
   "id": "dd3aa159",
   "metadata": {},
   "source": [
    "### CODE_REJECT_REASON(審査落ち理由)"
   ]
  },
  {
   "cell_type": "code",
   "execution_count": 56,
   "id": "5292842c",
   "metadata": {},
   "outputs": [
    {
     "data": {
      "text/plain": [
       "XAP    34012\n",
       "Name: code_reject_reason, dtype: int64"
      ]
     },
     "execution_count": 56,
     "metadata": {},
     "output_type": "execute_result"
    }
   ],
   "source": [
    "app_train['code_reject_reason'].value_counts()"
   ]
  },
  {
   "cell_type": "code",
   "execution_count": 57,
   "id": "481e1d5b",
   "metadata": {},
   "outputs": [],
   "source": [
    "app_train.drop(['code_reject_reason'], axis=1, inplace=True)\n",
    "app_test.drop(['code_reject_reason'], axis=1, inplace=True)"
   ]
  },
  {
   "cell_type": "markdown",
   "id": "b48ac18a",
   "metadata": {},
   "source": [
    "### NAME_TYPE_SUITE(申請時同行者)"
   ]
  },
  {
   "cell_type": "code",
   "execution_count": 58,
   "id": "f63af848",
   "metadata": {},
   "outputs": [],
   "source": [
    "columns = ['Unaccompanied', 'Family', 'Spouse, partner', 'Children', 'Other_B', 'Other_A', 'Group of people']\n",
    "app_train['name_type_suite'].replace(columns, [1, 2, 3, 4, 5, 6, 7], inplace=True)\n",
    "app_test['name_type_suite'].replace(columns, [1, 2, 3, 4, 5, 6, 7], inplace=True)"
   ]
  },
  {
   "cell_type": "code",
   "execution_count": 59,
   "id": "407c7865",
   "metadata": {},
   "outputs": [
    {
     "data": {
      "text/plain": [
       "1.0    18101\n",
       "2.0     3267\n",
       "3.0      946\n",
       "4.0      312\n",
       "5.0      159\n",
       "6.0       57\n",
       "7.0       23\n",
       "Name: name_type_suite, dtype: int64"
      ]
     },
     "execution_count": 59,
     "metadata": {},
     "output_type": "execute_result"
    }
   ],
   "source": [
    "app_train['name_type_suite'].value_counts()"
   ]
  },
  {
   "cell_type": "code",
   "execution_count": 60,
   "id": "75de4024",
   "metadata": {},
   "outputs": [
    {
     "data": {
      "text/html": [
       "<div>\n",
       "<style scoped>\n",
       "    .dataframe tbody tr th:only-of-type {\n",
       "        vertical-align: middle;\n",
       "    }\n",
       "\n",
       "    .dataframe tbody tr th {\n",
       "        vertical-align: top;\n",
       "    }\n",
       "\n",
       "    .dataframe thead th {\n",
       "        text-align: right;\n",
       "    }\n",
       "</style>\n",
       "<table border=\"1\" class=\"dataframe\">\n",
       "  <thead>\n",
       "    <tr style=\"text-align: right;\">\n",
       "      <th></th>\n",
       "      <th>name_type_suite</th>\n",
       "      <th>TARGET</th>\n",
       "    </tr>\n",
       "  </thead>\n",
       "  <tbody>\n",
       "    <tr>\n",
       "      <th>name_type_suite</th>\n",
       "      <td>1.00000</td>\n",
       "      <td>0.00975</td>\n",
       "    </tr>\n",
       "    <tr>\n",
       "      <th>TARGET</th>\n",
       "      <td>0.00975</td>\n",
       "      <td>1.00000</td>\n",
       "    </tr>\n",
       "  </tbody>\n",
       "</table>\n",
       "</div>"
      ],
      "text/plain": [
       "                 name_type_suite   TARGET\n",
       "name_type_suite          1.00000  0.00975\n",
       "TARGET                   0.00975  1.00000"
      ]
     },
     "execution_count": 60,
     "metadata": {},
     "output_type": "execute_result"
    }
   ],
   "source": [
    "app_train[['name_type_suite', 'TARGET']].corr()"
   ]
  },
  {
   "cell_type": "markdown",
   "id": "2a7cc60a",
   "metadata": {},
   "source": [
    "### NAME_CLIENT_TYPE(新規顧客などの顧客タイプ)"
   ]
  },
  {
   "cell_type": "code",
   "execution_count": 61,
   "id": "987826f3",
   "metadata": {},
   "outputs": [],
   "source": [
    "columns = ['Repeater', 'Refreshed', 'New', 'XNA']\n",
    "app_train['name_client_type'].replace(columns, [1, 2, 3, 4], inplace=True)\n",
    "app_test['name_client_type'].replace(columns, [1, 2, 3, 4], inplace=True)"
   ]
  },
  {
   "cell_type": "code",
   "execution_count": 62,
   "id": "d90815d3",
   "metadata": {},
   "outputs": [
    {
     "data": {
      "text/plain": [
       "1.0    29422\n",
       "2.0     3320\n",
       "3.0     1243\n",
       "4.0       27\n",
       "Name: name_client_type, dtype: int64"
      ]
     },
     "execution_count": 62,
     "metadata": {},
     "output_type": "execute_result"
    }
   ],
   "source": [
    "app_train['name_client_type'].value_counts()"
   ]
  },
  {
   "cell_type": "code",
   "execution_count": 63,
   "id": "f6e3c583",
   "metadata": {},
   "outputs": [
    {
     "data": {
      "text/html": [
       "<div>\n",
       "<style scoped>\n",
       "    .dataframe tbody tr th:only-of-type {\n",
       "        vertical-align: middle;\n",
       "    }\n",
       "\n",
       "    .dataframe tbody tr th {\n",
       "        vertical-align: top;\n",
       "    }\n",
       "\n",
       "    .dataframe thead th {\n",
       "        text-align: right;\n",
       "    }\n",
       "</style>\n",
       "<table border=\"1\" class=\"dataframe\">\n",
       "  <thead>\n",
       "    <tr style=\"text-align: right;\">\n",
       "      <th></th>\n",
       "      <th>name_client_type</th>\n",
       "      <th>TARGET</th>\n",
       "    </tr>\n",
       "  </thead>\n",
       "  <tbody>\n",
       "    <tr>\n",
       "      <th>name_client_type</th>\n",
       "      <td>1.00000</td>\n",
       "      <td>0.02332</td>\n",
       "    </tr>\n",
       "    <tr>\n",
       "      <th>TARGET</th>\n",
       "      <td>0.02332</td>\n",
       "      <td>1.00000</td>\n",
       "    </tr>\n",
       "  </tbody>\n",
       "</table>\n",
       "</div>"
      ],
      "text/plain": [
       "                  name_client_type   TARGET\n",
       "name_client_type           1.00000  0.02332\n",
       "TARGET                     0.02332  1.00000"
      ]
     },
     "execution_count": 63,
     "metadata": {},
     "output_type": "execute_result"
    }
   ],
   "source": [
    "app_train[['name_client_type', 'TARGET']].corr()"
   ]
  },
  {
   "cell_type": "markdown",
   "id": "d9a6207c",
   "metadata": {},
   "source": [
    "### NAME_GOODS_CATEGORY(申請した商品の種類)"
   ]
  },
  {
   "cell_type": "code",
   "execution_count": 64,
   "id": "c058abd8",
   "metadata": {},
   "outputs": [
    {
     "data": {
      "text/plain": [
       "XNA    34012\n",
       "Name: name_goods_category, dtype: int64"
      ]
     },
     "execution_count": 64,
     "metadata": {},
     "output_type": "execute_result"
    }
   ],
   "source": [
    "app_train['name_goods_category'].value_counts()"
   ]
  },
  {
   "cell_type": "code",
   "execution_count": 65,
   "id": "77cca5e2",
   "metadata": {},
   "outputs": [],
   "source": [
    "app_train.drop(['name_goods_category'], axis=1, inplace=True)\n",
    "app_test.drop(['name_goods_category'], axis=1, inplace=True)"
   ]
  },
  {
   "cell_type": "markdown",
   "id": "70f4e92f",
   "metadata": {},
   "source": [
    "### name_portfolio"
   ]
  },
  {
   "cell_type": "code",
   "execution_count": 66,
   "id": "93c08cf5",
   "metadata": {},
   "outputs": [
    {
     "data": {
      "text/plain": [
       "Cash    34012\n",
       "Name: name_portfolio, dtype: int64"
      ]
     },
     "execution_count": 66,
     "metadata": {},
     "output_type": "execute_result"
    }
   ],
   "source": [
    "app_train['name_portfolio'].value_counts()"
   ]
  },
  {
   "cell_type": "code",
   "execution_count": 67,
   "id": "e3c7dda5",
   "metadata": {},
   "outputs": [],
   "source": [
    "app_train.drop(['name_portfolio'], axis=1, inplace=True)\n",
    "app_test.drop(['name_portfolio'], axis=1, inplace=True)"
   ]
  },
  {
   "cell_type": "markdown",
   "id": "4b670647",
   "metadata": {},
   "source": [
    "### name_product_type"
   ]
  },
  {
   "cell_type": "code",
   "execution_count": 68,
   "id": "8d857e63",
   "metadata": {},
   "outputs": [],
   "source": [
    "columns = ['x-sell', 'walk-in']\n",
    "app_train['name_product_type'].replace(columns, [1, 2], inplace=True)\n",
    "app_test['name_product_type'].replace(columns, [1, 2], inplace=True)"
   ]
  },
  {
   "cell_type": "code",
   "execution_count": 69,
   "id": "75a84638",
   "metadata": {},
   "outputs": [
    {
     "data": {
      "text/html": [
       "<div>\n",
       "<style scoped>\n",
       "    .dataframe tbody tr th:only-of-type {\n",
       "        vertical-align: middle;\n",
       "    }\n",
       "\n",
       "    .dataframe tbody tr th {\n",
       "        vertical-align: top;\n",
       "    }\n",
       "\n",
       "    .dataframe thead th {\n",
       "        text-align: right;\n",
       "    }\n",
       "</style>\n",
       "<table border=\"1\" class=\"dataframe\">\n",
       "  <thead>\n",
       "    <tr style=\"text-align: right;\">\n",
       "      <th></th>\n",
       "      <th>name_product_type</th>\n",
       "      <th>TARGET</th>\n",
       "    </tr>\n",
       "  </thead>\n",
       "  <tbody>\n",
       "    <tr>\n",
       "      <th>name_product_type</th>\n",
       "      <td>1.000000</td>\n",
       "      <td>0.046163</td>\n",
       "    </tr>\n",
       "    <tr>\n",
       "      <th>TARGET</th>\n",
       "      <td>0.046163</td>\n",
       "      <td>1.000000</td>\n",
       "    </tr>\n",
       "  </tbody>\n",
       "</table>\n",
       "</div>"
      ],
      "text/plain": [
       "                   name_product_type    TARGET\n",
       "name_product_type           1.000000  0.046163\n",
       "TARGET                      0.046163  1.000000"
      ]
     },
     "execution_count": 69,
     "metadata": {},
     "output_type": "execute_result"
    }
   ],
   "source": [
    "app_train[['name_product_type', 'TARGET']].corr()"
   ]
  },
  {
   "cell_type": "code",
   "execution_count": 70,
   "id": "e203d27e",
   "metadata": {},
   "outputs": [
    {
     "data": {
      "text/plain": [
       "1.0    30722\n",
       "2.0     3290\n",
       "Name: name_product_type, dtype: int64"
      ]
     },
     "execution_count": 70,
     "metadata": {},
     "output_type": "execute_result"
    }
   ],
   "source": [
    "app_train['name_product_type'].value_counts()"
   ]
  },
  {
   "cell_type": "markdown",
   "id": "06da1ede",
   "metadata": {},
   "source": [
    "### channel_type"
   ]
  },
  {
   "cell_type": "code",
   "execution_count": 71,
   "id": "9bd23edd",
   "metadata": {},
   "outputs": [],
   "source": [
    "columns = ['Credit and cash offices', 'AP+ (Cash loan)', 'Contact center', 'Country-wide', 'Stone', 'Regional / Local', 'Channel of corporate sales', 'Car dealer']\n",
    "app_train['channel_type'].replace(columns, [1, 2, 3, 4, 5, 6, 7, 8], inplace=True)\n",
    "app_test['channel_type'].replace(columns, [1, 2, 3, 4, 5, 6, 7, 8], inplace=True)"
   ]
  },
  {
   "cell_type": "code",
   "execution_count": 72,
   "id": "2e94ffdf",
   "metadata": {},
   "outputs": [
    {
     "data": {
      "text/plain": [
       "1.0    25962\n",
       "2.0     3081\n",
       "3.0     2516\n",
       "4.0     1451\n",
       "5.0      363\n",
       "6.0      338\n",
       "7.0      300\n",
       "8.0        1\n",
       "Name: channel_type, dtype: int64"
      ]
     },
     "execution_count": 72,
     "metadata": {},
     "output_type": "execute_result"
    }
   ],
   "source": [
    "app_train['channel_type'].value_counts()"
   ]
  },
  {
   "cell_type": "code",
   "execution_count": 73,
   "id": "ca7777c7",
   "metadata": {},
   "outputs": [
    {
     "data": {
      "text/html": [
       "<div>\n",
       "<style scoped>\n",
       "    .dataframe tbody tr th:only-of-type {\n",
       "        vertical-align: middle;\n",
       "    }\n",
       "\n",
       "    .dataframe tbody tr th {\n",
       "        vertical-align: top;\n",
       "    }\n",
       "\n",
       "    .dataframe thead th {\n",
       "        text-align: right;\n",
       "    }\n",
       "</style>\n",
       "<table border=\"1\" class=\"dataframe\">\n",
       "  <thead>\n",
       "    <tr style=\"text-align: right;\">\n",
       "      <th></th>\n",
       "      <th>channel_type</th>\n",
       "      <th>TARGET</th>\n",
       "    </tr>\n",
       "  </thead>\n",
       "  <tbody>\n",
       "    <tr>\n",
       "      <th>channel_type</th>\n",
       "      <td>1.000000</td>\n",
       "      <td>0.019057</td>\n",
       "    </tr>\n",
       "    <tr>\n",
       "      <th>TARGET</th>\n",
       "      <td>0.019057</td>\n",
       "      <td>1.000000</td>\n",
       "    </tr>\n",
       "  </tbody>\n",
       "</table>\n",
       "</div>"
      ],
      "text/plain": [
       "              channel_type    TARGET\n",
       "channel_type      1.000000  0.019057\n",
       "TARGET            0.019057  1.000000"
      ]
     },
     "execution_count": 73,
     "metadata": {},
     "output_type": "execute_result"
    }
   ],
   "source": [
    "app_train[['channel_type', 'TARGET']].corr()"
   ]
  },
  {
   "cell_type": "markdown",
   "id": "3becba1c",
   "metadata": {},
   "source": [
    "### sellerplace_area"
   ]
  },
  {
   "cell_type": "code",
   "execution_count": 74,
   "id": "fb206052",
   "metadata": {},
   "outputs": [
    {
     "data": {
      "text/plain": [
       "-1.0        27416\n",
       " 0.0         1550\n",
       " 4.0          694\n",
       " 5.0          453\n",
       " 3.0          289\n",
       "            ...  \n",
       " 288.0          1\n",
       " 2105.0         1\n",
       " 134.0          1\n",
       " 13000.0        1\n",
       " 3102.0         1\n",
       "Name: sellerplace_area, Length: 345, dtype: int64"
      ]
     },
     "execution_count": 74,
     "metadata": {},
     "output_type": "execute_result"
    }
   ],
   "source": [
    "app_train['sellerplace_area'].value_counts()"
   ]
  },
  {
   "cell_type": "code",
   "execution_count": 75,
   "id": "1b83f582",
   "metadata": {},
   "outputs": [
    {
     "data": {
      "text/html": [
       "<div>\n",
       "<style scoped>\n",
       "    .dataframe tbody tr th:only-of-type {\n",
       "        vertical-align: middle;\n",
       "    }\n",
       "\n",
       "    .dataframe tbody tr th {\n",
       "        vertical-align: top;\n",
       "    }\n",
       "\n",
       "    .dataframe thead th {\n",
       "        text-align: right;\n",
       "    }\n",
       "</style>\n",
       "<table border=\"1\" class=\"dataframe\">\n",
       "  <thead>\n",
       "    <tr style=\"text-align: right;\">\n",
       "      <th></th>\n",
       "      <th>sellerplace_area</th>\n",
       "      <th>TARGET</th>\n",
       "    </tr>\n",
       "  </thead>\n",
       "  <tbody>\n",
       "    <tr>\n",
       "      <th>sellerplace_area</th>\n",
       "      <td>1.000000</td>\n",
       "      <td>0.011037</td>\n",
       "    </tr>\n",
       "    <tr>\n",
       "      <th>TARGET</th>\n",
       "      <td>0.011037</td>\n",
       "      <td>1.000000</td>\n",
       "    </tr>\n",
       "  </tbody>\n",
       "</table>\n",
       "</div>"
      ],
      "text/plain": [
       "                  sellerplace_area    TARGET\n",
       "sellerplace_area          1.000000  0.011037\n",
       "TARGET                    0.011037  1.000000"
      ]
     },
     "execution_count": 75,
     "metadata": {},
     "output_type": "execute_result"
    }
   ],
   "source": [
    "app_train[['sellerplace_area', 'TARGET']].corr()"
   ]
  },
  {
   "cell_type": "markdown",
   "id": "9ef9ae0d",
   "metadata": {},
   "source": [
    "### name_seller_industry"
   ]
  },
  {
   "cell_type": "code",
   "execution_count": 76,
   "id": "5212fd36",
   "metadata": {},
   "outputs": [],
   "source": [
    "columns = ['XNA', 'Consumer electronics', 'Connectivity', 'Furniture', 'Industry', 'Construction', 'Auto technology', 'MLM partners', 'Clothing', 'Jewelry']\n",
    "app_train['name_seller_industry'].replace(columns, [1, 2, 3, 4, 5, 6, 7, 8, 9, 10], inplace=True)\n",
    "app_test['name_seller_industry'].replace(columns, [1, 2, 3, 4, 5, 6, 7, 8, 9, 10], inplace=True)"
   ]
  },
  {
   "cell_type": "code",
   "execution_count": 77,
   "id": "222c89fa",
   "metadata": {},
   "outputs": [
    {
     "data": {
      "text/plain": [
       "1.0     31877\n",
       "2.0       997\n",
       "3.0       955\n",
       "4.0       112\n",
       "5.0        23\n",
       "6.0        22\n",
       "7.0         8\n",
       "8.0         8\n",
       "9.0         8\n",
       "10.0        2\n",
       "Name: name_seller_industry, dtype: int64"
      ]
     },
     "execution_count": 77,
     "metadata": {},
     "output_type": "execute_result"
    }
   ],
   "source": [
    "app_train['name_seller_industry'].value_counts()"
   ]
  },
  {
   "cell_type": "code",
   "execution_count": 78,
   "id": "a323f44f",
   "metadata": {},
   "outputs": [
    {
     "data": {
      "text/html": [
       "<div>\n",
       "<style scoped>\n",
       "    .dataframe tbody tr th:only-of-type {\n",
       "        vertical-align: middle;\n",
       "    }\n",
       "\n",
       "    .dataframe tbody tr th {\n",
       "        vertical-align: top;\n",
       "    }\n",
       "\n",
       "    .dataframe thead th {\n",
       "        text-align: right;\n",
       "    }\n",
       "</style>\n",
       "<table border=\"1\" class=\"dataframe\">\n",
       "  <thead>\n",
       "    <tr style=\"text-align: right;\">\n",
       "      <th></th>\n",
       "      <th>name_seller_industry</th>\n",
       "      <th>TARGET</th>\n",
       "    </tr>\n",
       "  </thead>\n",
       "  <tbody>\n",
       "    <tr>\n",
       "      <th>name_seller_industry</th>\n",
       "      <td>1.000000</td>\n",
       "      <td>0.026302</td>\n",
       "    </tr>\n",
       "    <tr>\n",
       "      <th>TARGET</th>\n",
       "      <td>0.026302</td>\n",
       "      <td>1.000000</td>\n",
       "    </tr>\n",
       "  </tbody>\n",
       "</table>\n",
       "</div>"
      ],
      "text/plain": [
       "                      name_seller_industry    TARGET\n",
       "name_seller_industry              1.000000  0.026302\n",
       "TARGET                            0.026302  1.000000"
      ]
     },
     "execution_count": 78,
     "metadata": {},
     "output_type": "execute_result"
    }
   ],
   "source": [
    "app_train[['name_seller_industry', 'TARGET']].corr()"
   ]
  },
  {
   "cell_type": "markdown",
   "id": "ce56a781",
   "metadata": {},
   "source": [
    "### cnt_payment"
   ]
  },
  {
   "cell_type": "code",
   "execution_count": 79,
   "id": "4a3460a6",
   "metadata": {},
   "outputs": [
    {
     "data": {
      "text/plain": [
       "24.0    7211\n",
       "36.0    7080\n",
       "12.0    4991\n",
       "48.0    4300\n",
       "60.0    3796\n",
       "18.0    3264\n",
       "30.0    1593\n",
       "42.0     866\n",
       "6.0      615\n",
       "54.0     281\n",
       "72.0       6\n",
       "23.0       3\n",
       "29.0       1\n",
       "15.0       1\n",
       "44.0       1\n",
       "35.0       1\n",
       "26.0       1\n",
       "59.0       1\n",
       "Name: cnt_payment, dtype: int64"
      ]
     },
     "execution_count": 79,
     "metadata": {},
     "output_type": "execute_result"
    }
   ],
   "source": [
    "app_train['cnt_payment'].value_counts()"
   ]
  },
  {
   "cell_type": "code",
   "execution_count": 80,
   "id": "508b26be",
   "metadata": {},
   "outputs": [
    {
     "data": {
      "text/html": [
       "<div>\n",
       "<style scoped>\n",
       "    .dataframe tbody tr th:only-of-type {\n",
       "        vertical-align: middle;\n",
       "    }\n",
       "\n",
       "    .dataframe tbody tr th {\n",
       "        vertical-align: top;\n",
       "    }\n",
       "\n",
       "    .dataframe thead th {\n",
       "        text-align: right;\n",
       "    }\n",
       "</style>\n",
       "<table border=\"1\" class=\"dataframe\">\n",
       "  <thead>\n",
       "    <tr style=\"text-align: right;\">\n",
       "      <th></th>\n",
       "      <th>cnt_payment</th>\n",
       "      <th>TARGET</th>\n",
       "    </tr>\n",
       "  </thead>\n",
       "  <tbody>\n",
       "    <tr>\n",
       "      <th>cnt_payment</th>\n",
       "      <td>1.000000</td>\n",
       "      <td>0.072413</td>\n",
       "    </tr>\n",
       "    <tr>\n",
       "      <th>TARGET</th>\n",
       "      <td>0.072413</td>\n",
       "      <td>1.000000</td>\n",
       "    </tr>\n",
       "  </tbody>\n",
       "</table>\n",
       "</div>"
      ],
      "text/plain": [
       "             cnt_payment    TARGET\n",
       "cnt_payment     1.000000  0.072413\n",
       "TARGET          0.072413  1.000000"
      ]
     },
     "execution_count": 80,
     "metadata": {},
     "output_type": "execute_result"
    }
   ],
   "source": [
    "app_train[['cnt_payment', 'TARGET']].corr()"
   ]
  },
  {
   "cell_type": "markdown",
   "id": "4d9573d3",
   "metadata": {},
   "source": [
    "### name_yield_group"
   ]
  },
  {
   "cell_type": "code",
   "execution_count": 81,
   "id": "7bd9e37a",
   "metadata": {},
   "outputs": [],
   "source": [
    "columns = ['low_normal', 'middle', 'high', 'low_action']\n",
    "app_train['name_yield_group'].replace(columns, [1, 2, 3, 4], inplace=True)\n",
    "app_test['name_yield_group'].replace(columns, [1, 2, 3, 4], inplace=True)"
   ]
  },
  {
   "cell_type": "code",
   "execution_count": 82,
   "id": "f5dae41e",
   "metadata": {},
   "outputs": [
    {
     "data": {
      "text/plain": [
       "1.0    15907\n",
       "2.0    11925\n",
       "3.0     3575\n",
       "4.0     2605\n",
       "Name: name_yield_group, dtype: int64"
      ]
     },
     "execution_count": 82,
     "metadata": {},
     "output_type": "execute_result"
    }
   ],
   "source": [
    "app_train['name_yield_group'].value_counts()"
   ]
  },
  {
   "cell_type": "code",
   "execution_count": 83,
   "id": "68c9b1df",
   "metadata": {},
   "outputs": [
    {
     "data": {
      "text/html": [
       "<div>\n",
       "<style scoped>\n",
       "    .dataframe tbody tr th:only-of-type {\n",
       "        vertical-align: middle;\n",
       "    }\n",
       "\n",
       "    .dataframe tbody tr th {\n",
       "        vertical-align: top;\n",
       "    }\n",
       "\n",
       "    .dataframe thead th {\n",
       "        text-align: right;\n",
       "    }\n",
       "</style>\n",
       "<table border=\"1\" class=\"dataframe\">\n",
       "  <thead>\n",
       "    <tr style=\"text-align: right;\">\n",
       "      <th></th>\n",
       "      <th>name_yield_group</th>\n",
       "      <th>TARGET</th>\n",
       "    </tr>\n",
       "  </thead>\n",
       "  <tbody>\n",
       "    <tr>\n",
       "      <th>name_yield_group</th>\n",
       "      <td>1.000000</td>\n",
       "      <td>0.018434</td>\n",
       "    </tr>\n",
       "    <tr>\n",
       "      <th>TARGET</th>\n",
       "      <td>0.018434</td>\n",
       "      <td>1.000000</td>\n",
       "    </tr>\n",
       "  </tbody>\n",
       "</table>\n",
       "</div>"
      ],
      "text/plain": [
       "                  name_yield_group    TARGET\n",
       "name_yield_group          1.000000  0.018434\n",
       "TARGET                    0.018434  1.000000"
      ]
     },
     "execution_count": 83,
     "metadata": {},
     "output_type": "execute_result"
    }
   ],
   "source": [
    "app_train[['name_yield_group', 'TARGET']].corr()"
   ]
  },
  {
   "cell_type": "markdown",
   "id": "6d3345a0",
   "metadata": {},
   "source": [
    "### product_combination"
   ]
  },
  {
   "cell_type": "code",
   "execution_count": 84,
   "id": "471b3cf8",
   "metadata": {},
   "outputs": [],
   "source": [
    "columns = ['Cash X-Sell: low', 'Cash X-Sell: middle', 'Cash X-Sell: high', 'Cash Street: low', 'Cash Street: middle', 'Cash Street: high']\n",
    "app_train['product_combination'].replace(columns, [1, 2, 3, 4, 5, 6], inplace=True)\n",
    "app_test['product_combination'].replace(columns, [1, 2, 3, 4, 5, 6], inplace=True)"
   ]
  },
  {
   "cell_type": "code",
   "execution_count": 85,
   "id": "977c0bec",
   "metadata": {},
   "outputs": [
    {
     "data": {
      "text/plain": [
       "1.0    17152\n",
       "2.0    10786\n",
       "3.0     2473\n",
       "4.0     1360\n",
       "5.0     1139\n",
       "6.0     1102\n",
       "Name: product_combination, dtype: int64"
      ]
     },
     "execution_count": 85,
     "metadata": {},
     "output_type": "execute_result"
    }
   ],
   "source": [
    "app_train['product_combination'].value_counts()"
   ]
  },
  {
   "cell_type": "code",
   "execution_count": 86,
   "id": "0e547b68",
   "metadata": {},
   "outputs": [
    {
     "data": {
      "text/html": [
       "<div>\n",
       "<style scoped>\n",
       "    .dataframe tbody tr th:only-of-type {\n",
       "        vertical-align: middle;\n",
       "    }\n",
       "\n",
       "    .dataframe tbody tr th {\n",
       "        vertical-align: top;\n",
       "    }\n",
       "\n",
       "    .dataframe thead th {\n",
       "        text-align: right;\n",
       "    }\n",
       "</style>\n",
       "<table border=\"1\" class=\"dataframe\">\n",
       "  <thead>\n",
       "    <tr style=\"text-align: right;\">\n",
       "      <th></th>\n",
       "      <th>product_combination</th>\n",
       "      <th>TARGET</th>\n",
       "    </tr>\n",
       "  </thead>\n",
       "  <tbody>\n",
       "    <tr>\n",
       "      <th>product_combination</th>\n",
       "      <td>1.000000</td>\n",
       "      <td>0.071361</td>\n",
       "    </tr>\n",
       "    <tr>\n",
       "      <th>TARGET</th>\n",
       "      <td>0.071361</td>\n",
       "      <td>1.000000</td>\n",
       "    </tr>\n",
       "  </tbody>\n",
       "</table>\n",
       "</div>"
      ],
      "text/plain": [
       "                     product_combination    TARGET\n",
       "product_combination             1.000000  0.071361\n",
       "TARGET                          0.071361  1.000000"
      ]
     },
     "execution_count": 86,
     "metadata": {},
     "output_type": "execute_result"
    }
   ],
   "source": [
    "app_train[['product_combination', 'TARGET']].corr()"
   ]
  },
  {
   "cell_type": "markdown",
   "id": "3114fb9e",
   "metadata": {},
   "source": [
    "### days_first_drawing"
   ]
  },
  {
   "cell_type": "code",
   "execution_count": 87,
   "id": "742efe50",
   "metadata": {},
   "outputs": [
    {
     "data": {
      "text/plain": [
       "365243.0    34000\n",
       "Name: days_first_drawing, dtype: int64"
      ]
     },
     "execution_count": 87,
     "metadata": {},
     "output_type": "execute_result"
    }
   ],
   "source": [
    "app_train['days_first_drawing'].value_counts()"
   ]
  },
  {
   "cell_type": "code",
   "execution_count": 88,
   "id": "c944995a",
   "metadata": {},
   "outputs": [],
   "source": [
    "app_train.drop(['days_first_drawing'], axis=1, inplace=True)\n",
    "app_test.drop(['days_first_drawing'], axis=1, inplace=True)"
   ]
  },
  {
   "cell_type": "code",
   "execution_count": 89,
   "id": "43f9484b",
   "metadata": {},
   "outputs": [],
   "source": [
    "### days_first_due"
   ]
  },
  {
   "cell_type": "code",
   "execution_count": 90,
   "id": "a2713f00",
   "metadata": {},
   "outputs": [
    {
     "data": {
      "text/plain": [
       "-214.0     130\n",
       "-153.0     109\n",
       "-334.0     106\n",
       "-184.0     106\n",
       "-243.0     104\n",
       "          ... \n",
       "-1352.0      1\n",
       "-2236.0      1\n",
       "-1279.0      1\n",
       "-2297.0      1\n",
       "-1277.0      1\n",
       "Name: days_first_due, Length: 1353, dtype: int64"
      ]
     },
     "execution_count": 90,
     "metadata": {},
     "output_type": "execute_result"
    }
   ],
   "source": [
    "app_train['days_first_due'].value_counts()"
   ]
  },
  {
   "cell_type": "code",
   "execution_count": 91,
   "id": "8a651c0b",
   "metadata": {},
   "outputs": [
    {
     "data": {
      "text/html": [
       "<div>\n",
       "<style scoped>\n",
       "    .dataframe tbody tr th:only-of-type {\n",
       "        vertical-align: middle;\n",
       "    }\n",
       "\n",
       "    .dataframe tbody tr th {\n",
       "        vertical-align: top;\n",
       "    }\n",
       "\n",
       "    .dataframe thead th {\n",
       "        text-align: right;\n",
       "    }\n",
       "</style>\n",
       "<table border=\"1\" class=\"dataframe\">\n",
       "  <thead>\n",
       "    <tr style=\"text-align: right;\">\n",
       "      <th></th>\n",
       "      <th>days_first_due</th>\n",
       "      <th>TARGET</th>\n",
       "    </tr>\n",
       "  </thead>\n",
       "  <tbody>\n",
       "    <tr>\n",
       "      <th>days_first_due</th>\n",
       "      <td>1.000000</td>\n",
       "      <td>0.005313</td>\n",
       "    </tr>\n",
       "    <tr>\n",
       "      <th>TARGET</th>\n",
       "      <td>0.005313</td>\n",
       "      <td>1.000000</td>\n",
       "    </tr>\n",
       "  </tbody>\n",
       "</table>\n",
       "</div>"
      ],
      "text/plain": [
       "                days_first_due    TARGET\n",
       "days_first_due        1.000000  0.005313\n",
       "TARGET                0.005313  1.000000"
      ]
     },
     "execution_count": 91,
     "metadata": {},
     "output_type": "execute_result"
    }
   ],
   "source": [
    "app_train[['days_first_due', 'TARGET']].corr()"
   ]
  },
  {
   "cell_type": "markdown",
   "id": "88323fe9",
   "metadata": {},
   "source": [
    "### days_last_due_1st_version"
   ]
  },
  {
   "cell_type": "code",
   "execution_count": 92,
   "id": "ce5d6a9f",
   "metadata": {},
   "outputs": [
    {
     "data": {
      "text/plain": [
       "-8.0       86\n",
       "-4.0       79\n",
       "-12.0      78\n",
       "-10.0      74\n",
       "-7.0       73\n",
       "           ..\n",
       "-100.0      1\n",
       "-1572.0     1\n",
       " 1772.0     1\n",
       " 1741.0     1\n",
       " 1781.0     1\n",
       "Name: days_last_due_1st_version, Length: 1840, dtype: int64"
      ]
     },
     "execution_count": 92,
     "metadata": {},
     "output_type": "execute_result"
    }
   ],
   "source": [
    "app_train['days_last_due_1st_version'].value_counts()"
   ]
  },
  {
   "cell_type": "code",
   "execution_count": 93,
   "id": "618d5f2b",
   "metadata": {},
   "outputs": [
    {
     "data": {
      "text/html": [
       "<div>\n",
       "<style scoped>\n",
       "    .dataframe tbody tr th:only-of-type {\n",
       "        vertical-align: middle;\n",
       "    }\n",
       "\n",
       "    .dataframe tbody tr th {\n",
       "        vertical-align: top;\n",
       "    }\n",
       "\n",
       "    .dataframe thead th {\n",
       "        text-align: right;\n",
       "    }\n",
       "</style>\n",
       "<table border=\"1\" class=\"dataframe\">\n",
       "  <thead>\n",
       "    <tr style=\"text-align: right;\">\n",
       "      <th></th>\n",
       "      <th>days_last_due_1st_version</th>\n",
       "      <th>TARGET</th>\n",
       "    </tr>\n",
       "  </thead>\n",
       "  <tbody>\n",
       "    <tr>\n",
       "      <th>days_last_due_1st_version</th>\n",
       "      <td>1.000000</td>\n",
       "      <td>0.074578</td>\n",
       "    </tr>\n",
       "    <tr>\n",
       "      <th>TARGET</th>\n",
       "      <td>0.074578</td>\n",
       "      <td>1.000000</td>\n",
       "    </tr>\n",
       "  </tbody>\n",
       "</table>\n",
       "</div>"
      ],
      "text/plain": [
       "                           days_last_due_1st_version    TARGET\n",
       "days_last_due_1st_version                   1.000000  0.074578\n",
       "TARGET                                      0.074578  1.000000"
      ]
     },
     "execution_count": 93,
     "metadata": {},
     "output_type": "execute_result"
    }
   ],
   "source": [
    "app_train[['days_last_due_1st_version', 'TARGET']].corr()"
   ]
  },
  {
   "cell_type": "code",
   "execution_count": 94,
   "id": "b15b8454",
   "metadata": {},
   "outputs": [],
   "source": [
    "### days_last_due"
   ]
  },
  {
   "cell_type": "code",
   "execution_count": 95,
   "id": "3ed9e46d",
   "metadata": {},
   "outputs": [
    {
     "data": {
      "text/plain": [
       " 365243.0    29864\n",
       "-10.0          152\n",
       "-12.0          145\n",
       "-8.0           144\n",
       "-6.0           136\n",
       "             ...  \n",
       "-460.0           1\n",
       "-2116.0          1\n",
       "-107.0           1\n",
       "-67.0            1\n",
       "-255.0           1\n",
       "Name: days_last_due, Length: 93, dtype: int64"
      ]
     },
     "execution_count": 95,
     "metadata": {},
     "output_type": "execute_result"
    }
   ],
   "source": [
    "app_train['days_last_due'].value_counts()"
   ]
  },
  {
   "cell_type": "code",
   "execution_count": 96,
   "id": "146415d6",
   "metadata": {},
   "outputs": [
    {
     "data": {
      "text/html": [
       "<div>\n",
       "<style scoped>\n",
       "    .dataframe tbody tr th:only-of-type {\n",
       "        vertical-align: middle;\n",
       "    }\n",
       "\n",
       "    .dataframe tbody tr th {\n",
       "        vertical-align: top;\n",
       "    }\n",
       "\n",
       "    .dataframe thead th {\n",
       "        text-align: right;\n",
       "    }\n",
       "</style>\n",
       "<table border=\"1\" class=\"dataframe\">\n",
       "  <thead>\n",
       "    <tr style=\"text-align: right;\">\n",
       "      <th></th>\n",
       "      <th>days_last_due</th>\n",
       "      <th>TARGET</th>\n",
       "    </tr>\n",
       "  </thead>\n",
       "  <tbody>\n",
       "    <tr>\n",
       "      <th>days_last_due</th>\n",
       "      <td>1.000000</td>\n",
       "      <td>0.029502</td>\n",
       "    </tr>\n",
       "    <tr>\n",
       "      <th>TARGET</th>\n",
       "      <td>0.029502</td>\n",
       "      <td>1.000000</td>\n",
       "    </tr>\n",
       "  </tbody>\n",
       "</table>\n",
       "</div>"
      ],
      "text/plain": [
       "               days_last_due    TARGET\n",
       "days_last_due       1.000000  0.029502\n",
       "TARGET              0.029502  1.000000"
      ]
     },
     "execution_count": 96,
     "metadata": {},
     "output_type": "execute_result"
    }
   ],
   "source": [
    "app_train[['days_last_due', 'TARGET']].corr()"
   ]
  },
  {
   "cell_type": "markdown",
   "id": "18c1eaba",
   "metadata": {},
   "source": [
    "### days_termination"
   ]
  },
  {
   "cell_type": "code",
   "execution_count": 97,
   "id": "18290c4d",
   "metadata": {},
   "outputs": [
    {
     "data": {
      "text/plain": [
       " 365243.0    30457\n",
       "-2.0           157\n",
       "-3.0           149\n",
       "-5.0           146\n",
       "-9.0           144\n",
       "             ...  \n",
       "-1628.0          1\n",
       "-1504.0          1\n",
       "-1632.0          1\n",
       "-1554.0          1\n",
       "-1534.0          1\n",
       "Name: days_termination, Length: 65, dtype: int64"
      ]
     },
     "execution_count": 97,
     "metadata": {},
     "output_type": "execute_result"
    }
   ],
   "source": [
    "app_train['days_termination'].value_counts()"
   ]
  },
  {
   "cell_type": "code",
   "execution_count": 98,
   "id": "ee1e22e8",
   "metadata": {},
   "outputs": [
    {
     "data": {
      "text/html": [
       "<div>\n",
       "<style scoped>\n",
       "    .dataframe tbody tr th:only-of-type {\n",
       "        vertical-align: middle;\n",
       "    }\n",
       "\n",
       "    .dataframe tbody tr th {\n",
       "        vertical-align: top;\n",
       "    }\n",
       "\n",
       "    .dataframe thead th {\n",
       "        text-align: right;\n",
       "    }\n",
       "</style>\n",
       "<table border=\"1\" class=\"dataframe\">\n",
       "  <thead>\n",
       "    <tr style=\"text-align: right;\">\n",
       "      <th></th>\n",
       "      <th>days_termination</th>\n",
       "      <th>TARGET</th>\n",
       "    </tr>\n",
       "  </thead>\n",
       "  <tbody>\n",
       "    <tr>\n",
       "      <th>days_termination</th>\n",
       "      <td>1.000000</td>\n",
       "      <td>0.026684</td>\n",
       "    </tr>\n",
       "    <tr>\n",
       "      <th>TARGET</th>\n",
       "      <td>0.026684</td>\n",
       "      <td>1.000000</td>\n",
       "    </tr>\n",
       "  </tbody>\n",
       "</table>\n",
       "</div>"
      ],
      "text/plain": [
       "                  days_termination    TARGET\n",
       "days_termination          1.000000  0.026684\n",
       "TARGET                    0.026684  1.000000"
      ]
     },
     "execution_count": 98,
     "metadata": {},
     "output_type": "execute_result"
    }
   ],
   "source": [
    "app_train[['days_termination', 'TARGET']].corr()"
   ]
  },
  {
   "cell_type": "markdown",
   "id": "2e066e55",
   "metadata": {},
   "source": [
    "### nflag_insured_on_approval"
   ]
  },
  {
   "cell_type": "code",
   "execution_count": 99,
   "id": "52ce4faa",
   "metadata": {},
   "outputs": [
    {
     "data": {
      "text/plain": [
       "1.0    26672\n",
       "0.0     7328\n",
       "Name: nflag_insured_on_approval, dtype: int64"
      ]
     },
     "execution_count": 99,
     "metadata": {},
     "output_type": "execute_result"
    }
   ],
   "source": [
    "app_train['nflag_insured_on_approval'].value_counts()"
   ]
  },
  {
   "cell_type": "code",
   "execution_count": 100,
   "id": "5ae5bb43",
   "metadata": {},
   "outputs": [
    {
     "data": {
      "text/html": [
       "<div>\n",
       "<style scoped>\n",
       "    .dataframe tbody tr th:only-of-type {\n",
       "        vertical-align: middle;\n",
       "    }\n",
       "\n",
       "    .dataframe tbody tr th {\n",
       "        vertical-align: top;\n",
       "    }\n",
       "\n",
       "    .dataframe thead th {\n",
       "        text-align: right;\n",
       "    }\n",
       "</style>\n",
       "<table border=\"1\" class=\"dataframe\">\n",
       "  <thead>\n",
       "    <tr style=\"text-align: right;\">\n",
       "      <th></th>\n",
       "      <th>nflag_insured_on_approval</th>\n",
       "      <th>TARGET</th>\n",
       "    </tr>\n",
       "  </thead>\n",
       "  <tbody>\n",
       "    <tr>\n",
       "      <th>nflag_insured_on_approval</th>\n",
       "      <td>1.000000</td>\n",
       "      <td>0.012391</td>\n",
       "    </tr>\n",
       "    <tr>\n",
       "      <th>TARGET</th>\n",
       "      <td>0.012391</td>\n",
       "      <td>1.000000</td>\n",
       "    </tr>\n",
       "  </tbody>\n",
       "</table>\n",
       "</div>"
      ],
      "text/plain": [
       "                           nflag_insured_on_approval    TARGET\n",
       "nflag_insured_on_approval                   1.000000  0.012391\n",
       "TARGET                                      0.012391  1.000000"
      ]
     },
     "execution_count": 100,
     "metadata": {},
     "output_type": "execute_result"
    }
   ],
   "source": [
    "app_train[['nflag_insured_on_approval', 'TARGET']].corr()"
   ]
  },
  {
   "cell_type": "markdown",
   "id": "b571d479",
   "metadata": {},
   "source": [
    "### max_sk_dpd"
   ]
  },
  {
   "cell_type": "code",
   "execution_count": 101,
   "id": "25b97572",
   "metadata": {},
   "outputs": [
    {
     "data": {
      "text/plain": [
       "0.0       33514\n",
       "1.0         110\n",
       "2.0          76\n",
       "3.0          53\n",
       "4.0          30\n",
       "          ...  \n",
       "2024.0        1\n",
       "1956.0        1\n",
       "2186.0        1\n",
       "74.0          1\n",
       "117.0         1\n",
       "Name: max_sk_dpd, Length: 92, dtype: int64"
      ]
     },
     "execution_count": 101,
     "metadata": {},
     "output_type": "execute_result"
    }
   ],
   "source": [
    "app_train['max_sk_dpd'].value_counts()"
   ]
  },
  {
   "cell_type": "code",
   "execution_count": 102,
   "id": "e7515dc6",
   "metadata": {},
   "outputs": [
    {
     "data": {
      "text/html": [
       "<div>\n",
       "<style scoped>\n",
       "    .dataframe tbody tr th:only-of-type {\n",
       "        vertical-align: middle;\n",
       "    }\n",
       "\n",
       "    .dataframe tbody tr th {\n",
       "        vertical-align: top;\n",
       "    }\n",
       "\n",
       "    .dataframe thead th {\n",
       "        text-align: right;\n",
       "    }\n",
       "</style>\n",
       "<table border=\"1\" class=\"dataframe\">\n",
       "  <thead>\n",
       "    <tr style=\"text-align: right;\">\n",
       "      <th></th>\n",
       "      <th>max_sk_dpd</th>\n",
       "      <th>TARGET</th>\n",
       "    </tr>\n",
       "  </thead>\n",
       "  <tbody>\n",
       "    <tr>\n",
       "      <th>max_sk_dpd</th>\n",
       "      <td>1.000000</td>\n",
       "      <td>0.010112</td>\n",
       "    </tr>\n",
       "    <tr>\n",
       "      <th>TARGET</th>\n",
       "      <td>0.010112</td>\n",
       "      <td>1.000000</td>\n",
       "    </tr>\n",
       "  </tbody>\n",
       "</table>\n",
       "</div>"
      ],
      "text/plain": [
       "            max_sk_dpd    TARGET\n",
       "max_sk_dpd    1.000000  0.010112\n",
       "TARGET        0.010112  1.000000"
      ]
     },
     "execution_count": 102,
     "metadata": {},
     "output_type": "execute_result"
    }
   ],
   "source": [
    "app_train[['max_sk_dpd', 'TARGET']].corr()"
   ]
  },
  {
   "cell_type": "markdown",
   "id": "3f1cf596",
   "metadata": {},
   "source": [
    "### installment_payment_ratio_1000_mean_mean"
   ]
  },
  {
   "cell_type": "code",
   "execution_count": 103,
   "id": "52c6d89e",
   "metadata": {},
   "outputs": [
    {
     "data": {
      "text/plain": [
       " 0.000000        57898\n",
       " 22500.000000      120\n",
       " 45000.000000       94\n",
       " 11250.000000       79\n",
       " 15000.000000       79\n",
       "                 ...  \n",
       "-4592.368636         1\n",
       "-845.156250          1\n",
       " 20485.198333        1\n",
       " 6394.845789         1\n",
       " 9014.333365         1\n",
       "Name: installment_payment_ratio_1000_mean_mean, Length: 51777, dtype: int64"
      ]
     },
     "execution_count": 103,
     "metadata": {},
     "output_type": "execute_result"
    }
   ],
   "source": [
    "app_train['installment_payment_ratio_1000_mean_mean'].value_counts()"
   ]
  },
  {
   "cell_type": "code",
   "execution_count": 104,
   "id": "2e659c39",
   "metadata": {},
   "outputs": [
    {
     "data": {
      "text/plain": [
       "0                 NaN\n",
       "1            0.000000\n",
       "2                 NaN\n",
       "3            0.000000\n",
       "4            0.000000\n",
       "             ...     \n",
       "307506            NaN\n",
       "307507            NaN\n",
       "307508            NaN\n",
       "307509            NaN\n",
       "307510    9014.333365\n",
       "Name: installment_payment_ratio_1000_mean_mean, Length: 307511, dtype: float64"
      ]
     },
     "execution_count": 104,
     "metadata": {},
     "output_type": "execute_result"
    }
   ],
   "source": [
    "app_train['installment_payment_ratio_1000_mean_mean']"
   ]
  },
  {
   "cell_type": "code",
   "execution_count": 105,
   "id": "56e46445",
   "metadata": {},
   "outputs": [
    {
     "data": {
      "text/html": [
       "<div>\n",
       "<style scoped>\n",
       "    .dataframe tbody tr th:only-of-type {\n",
       "        vertical-align: middle;\n",
       "    }\n",
       "\n",
       "    .dataframe tbody tr th {\n",
       "        vertical-align: top;\n",
       "    }\n",
       "\n",
       "    .dataframe thead th {\n",
       "        text-align: right;\n",
       "    }\n",
       "</style>\n",
       "<table border=\"1\" class=\"dataframe\">\n",
       "  <thead>\n",
       "    <tr style=\"text-align: right;\">\n",
       "      <th></th>\n",
       "      <th>installment_payment_ratio_1000_mean_mean</th>\n",
       "      <th>TARGET</th>\n",
       "    </tr>\n",
       "  </thead>\n",
       "  <tbody>\n",
       "    <tr>\n",
       "      <th>installment_payment_ratio_1000_mean_mean</th>\n",
       "      <td>1.000000</td>\n",
       "      <td>-0.030569</td>\n",
       "    </tr>\n",
       "    <tr>\n",
       "      <th>TARGET</th>\n",
       "      <td>-0.030569</td>\n",
       "      <td>1.000000</td>\n",
       "    </tr>\n",
       "  </tbody>\n",
       "</table>\n",
       "</div>"
      ],
      "text/plain": [
       "                                          installment_payment_ratio_1000_mean_mean  \\\n",
       "installment_payment_ratio_1000_mean_mean                                  1.000000   \n",
       "TARGET                                                                   -0.030569   \n",
       "\n",
       "                                            TARGET  \n",
       "installment_payment_ratio_1000_mean_mean -0.030569  \n",
       "TARGET                                    1.000000  "
      ]
     },
     "execution_count": 105,
     "metadata": {},
     "output_type": "execute_result"
    }
   ],
   "source": [
    "app_train[['installment_payment_ratio_1000_mean_mean', 'TARGET']].corr()"
   ]
  },
  {
   "cell_type": "code",
   "execution_count": 106,
   "id": "4f7a7678",
   "metadata": {},
   "outputs": [
    {
     "data": {
      "text/plain": [
       "307511"
      ]
     },
     "execution_count": 106,
     "metadata": {},
     "output_type": "execute_result"
    }
   ],
   "source": [
    "len(app_train)"
   ]
  },
  {
   "cell_type": "code",
   "execution_count": 107,
   "id": "55681d1d",
   "metadata": {},
   "outputs": [
    {
     "data": {
      "text/plain": [
       "48744"
      ]
     },
     "execution_count": 107,
     "metadata": {},
     "output_type": "execute_result"
    }
   ],
   "source": [
    "len(app_test)"
   ]
  },
  {
   "cell_type": "markdown",
   "id": "a63a2540",
   "metadata": {},
   "source": [
    "### CSVをEXPORT"
   ]
  },
  {
   "cell_type": "code",
   "execution_count": 108,
   "id": "8ecf00fc",
   "metadata": {},
   "outputs": [],
   "source": [
    "### train\n",
    "app_train.to_csv(\n",
    "    path_or_buf=\"./home-credit-default-risk/exports/hc_only_cash_train.csv\", # 出力先\n",
    "    sep=\",\",                                            # 区切り文字\n",
    "    index=False,                                        # indexの出力有無\n",
    "    header=True                                        # headerの出力有無\n",
    ")"
   ]
  },
  {
   "cell_type": "code",
   "execution_count": 109,
   "id": "ea678f2e",
   "metadata": {},
   "outputs": [],
   "source": [
    "### test\n",
    "app_test.to_csv(\n",
    "    path_or_buf=\"./home-credit-default-risk/exports/hc_only_cash_test.csv\", # 出力先\n",
    "    sep=\",\",                                            # 区切り文字\n",
    "    index=False,                                        # indexの出力有無\n",
    "    header=True                                        # headerの出力有無\n",
    ")"
   ]
  },
  {
   "cell_type": "code",
   "execution_count": 110,
   "id": "e53e9578",
   "metadata": {},
   "outputs": [
    {
     "data": {
      "text/html": [
       "<div>\n",
       "<style scoped>\n",
       "    .dataframe tbody tr th:only-of-type {\n",
       "        vertical-align: middle;\n",
       "    }\n",
       "\n",
       "    .dataframe tbody tr th {\n",
       "        vertical-align: top;\n",
       "    }\n",
       "\n",
       "    .dataframe thead th {\n",
       "        text-align: right;\n",
       "    }\n",
       "</style>\n",
       "<table border=\"1\" class=\"dataframe\">\n",
       "  <thead>\n",
       "    <tr style=\"text-align: right;\">\n",
       "      <th></th>\n",
       "      <th>SK_ID_CURR</th>\n",
       "      <th>amt_annuity</th>\n",
       "      <th>amt_application</th>\n",
       "      <th>amt_credit</th>\n",
       "      <th>amt_goods_price</th>\n",
       "      <th>hour_appr_process_start</th>\n",
       "      <th>nflag_last_appl_in_day</th>\n",
       "      <th>rate_interest_primary</th>\n",
       "      <th>rate_interest_privileged</th>\n",
       "      <th>name_cash_loan_purpose</th>\n",
       "      <th>...</th>\n",
       "      <th>name_yield_group</th>\n",
       "      <th>product_combination</th>\n",
       "      <th>days_first_due</th>\n",
       "      <th>days_last_due_1st_version</th>\n",
       "      <th>days_last_due</th>\n",
       "      <th>days_termination</th>\n",
       "      <th>nflag_insured_on_approval</th>\n",
       "      <th>max_sk_dpd</th>\n",
       "      <th>installment_payment_ratio_1000_mean_mean</th>\n",
       "      <th>annuity_to_max_installment_ratio</th>\n",
       "    </tr>\n",
       "  </thead>\n",
       "  <tbody>\n",
       "    <tr>\n",
       "      <th>0</th>\n",
       "      <td>100002</td>\n",
       "      <td>NaN</td>\n",
       "      <td>NaN</td>\n",
       "      <td>NaN</td>\n",
       "      <td>NaN</td>\n",
       "      <td>NaN</td>\n",
       "      <td>NaN</td>\n",
       "      <td>NaN</td>\n",
       "      <td>NaN</td>\n",
       "      <td>NaN</td>\n",
       "      <td>...</td>\n",
       "      <td>NaN</td>\n",
       "      <td>NaN</td>\n",
       "      <td>NaN</td>\n",
       "      <td>NaN</td>\n",
       "      <td>NaN</td>\n",
       "      <td>NaN</td>\n",
       "      <td>NaN</td>\n",
       "      <td>NaN</td>\n",
       "      <td>NaN</td>\n",
       "      <td>NaN</td>\n",
       "    </tr>\n",
       "    <tr>\n",
       "      <th>1</th>\n",
       "      <td>100003</td>\n",
       "      <td>NaN</td>\n",
       "      <td>NaN</td>\n",
       "      <td>NaN</td>\n",
       "      <td>NaN</td>\n",
       "      <td>NaN</td>\n",
       "      <td>NaN</td>\n",
       "      <td>NaN</td>\n",
       "      <td>NaN</td>\n",
       "      <td>NaN</td>\n",
       "      <td>...</td>\n",
       "      <td>NaN</td>\n",
       "      <td>NaN</td>\n",
       "      <td>NaN</td>\n",
       "      <td>NaN</td>\n",
       "      <td>NaN</td>\n",
       "      <td>NaN</td>\n",
       "      <td>NaN</td>\n",
       "      <td>NaN</td>\n",
       "      <td>0.0</td>\n",
       "      <td>NaN</td>\n",
       "    </tr>\n",
       "    <tr>\n",
       "      <th>2</th>\n",
       "      <td>100004</td>\n",
       "      <td>NaN</td>\n",
       "      <td>NaN</td>\n",
       "      <td>NaN</td>\n",
       "      <td>NaN</td>\n",
       "      <td>NaN</td>\n",
       "      <td>NaN</td>\n",
       "      <td>NaN</td>\n",
       "      <td>NaN</td>\n",
       "      <td>NaN</td>\n",
       "      <td>...</td>\n",
       "      <td>NaN</td>\n",
       "      <td>NaN</td>\n",
       "      <td>NaN</td>\n",
       "      <td>NaN</td>\n",
       "      <td>NaN</td>\n",
       "      <td>NaN</td>\n",
       "      <td>NaN</td>\n",
       "      <td>NaN</td>\n",
       "      <td>NaN</td>\n",
       "      <td>NaN</td>\n",
       "    </tr>\n",
       "    <tr>\n",
       "      <th>3</th>\n",
       "      <td>100006</td>\n",
       "      <td>NaN</td>\n",
       "      <td>NaN</td>\n",
       "      <td>NaN</td>\n",
       "      <td>NaN</td>\n",
       "      <td>NaN</td>\n",
       "      <td>NaN</td>\n",
       "      <td>NaN</td>\n",
       "      <td>NaN</td>\n",
       "      <td>NaN</td>\n",
       "      <td>...</td>\n",
       "      <td>NaN</td>\n",
       "      <td>NaN</td>\n",
       "      <td>NaN</td>\n",
       "      <td>NaN</td>\n",
       "      <td>NaN</td>\n",
       "      <td>NaN</td>\n",
       "      <td>NaN</td>\n",
       "      <td>NaN</td>\n",
       "      <td>0.0</td>\n",
       "      <td>NaN</td>\n",
       "    </tr>\n",
       "    <tr>\n",
       "      <th>4</th>\n",
       "      <td>100007</td>\n",
       "      <td>16037.64</td>\n",
       "      <td>247500.0</td>\n",
       "      <td>274288.5</td>\n",
       "      <td>247500.0</td>\n",
       "      <td>11.0</td>\n",
       "      <td>1.0</td>\n",
       "      <td>0.0</td>\n",
       "      <td>0.0</td>\n",
       "      <td>1.0</td>\n",
       "      <td>...</td>\n",
       "      <td>2.0</td>\n",
       "      <td>2.0</td>\n",
       "      <td>-344.0</td>\n",
       "      <td>346.0</td>\n",
       "      <td>365243.0</td>\n",
       "      <td>365243.0</td>\n",
       "      <td>1.0</td>\n",
       "      <td>0.0</td>\n",
       "      <td>0.0</td>\n",
       "      <td>-1561.7857</td>\n",
       "    </tr>\n",
       "  </tbody>\n",
       "</table>\n",
       "<p>5 rows × 28 columns</p>\n",
       "</div>"
      ],
      "text/plain": [
       "   SK_ID_CURR  amt_annuity  amt_application  amt_credit  amt_goods_price  \\\n",
       "0      100002          NaN              NaN         NaN              NaN   \n",
       "1      100003          NaN              NaN         NaN              NaN   \n",
       "2      100004          NaN              NaN         NaN              NaN   \n",
       "3      100006          NaN              NaN         NaN              NaN   \n",
       "4      100007     16037.64         247500.0    274288.5         247500.0   \n",
       "\n",
       "   hour_appr_process_start  nflag_last_appl_in_day  rate_interest_primary  \\\n",
       "0                      NaN                     NaN                    NaN   \n",
       "1                      NaN                     NaN                    NaN   \n",
       "2                      NaN                     NaN                    NaN   \n",
       "3                      NaN                     NaN                    NaN   \n",
       "4                     11.0                     1.0                    0.0   \n",
       "\n",
       "   rate_interest_privileged  name_cash_loan_purpose  ...  name_yield_group  \\\n",
       "0                       NaN                     NaN  ...               NaN   \n",
       "1                       NaN                     NaN  ...               NaN   \n",
       "2                       NaN                     NaN  ...               NaN   \n",
       "3                       NaN                     NaN  ...               NaN   \n",
       "4                       0.0                     1.0  ...               2.0   \n",
       "\n",
       "   product_combination  days_first_due  days_last_due_1st_version  \\\n",
       "0                  NaN             NaN                        NaN   \n",
       "1                  NaN             NaN                        NaN   \n",
       "2                  NaN             NaN                        NaN   \n",
       "3                  NaN             NaN                        NaN   \n",
       "4                  2.0          -344.0                      346.0   \n",
       "\n",
       "   days_last_due  days_termination  nflag_insured_on_approval  max_sk_dpd  \\\n",
       "0            NaN               NaN                        NaN         NaN   \n",
       "1            NaN               NaN                        NaN         NaN   \n",
       "2            NaN               NaN                        NaN         NaN   \n",
       "3            NaN               NaN                        NaN         NaN   \n",
       "4       365243.0          365243.0                        1.0         0.0   \n",
       "\n",
       "   installment_payment_ratio_1000_mean_mean  annuity_to_max_installment_ratio  \n",
       "0                                       NaN                               NaN  \n",
       "1                                       0.0                               NaN  \n",
       "2                                       NaN                               NaN  \n",
       "3                                       0.0                               NaN  \n",
       "4                                       0.0                        -1561.7857  \n",
       "\n",
       "[5 rows x 28 columns]"
      ]
     },
     "execution_count": 110,
     "metadata": {},
     "output_type": "execute_result"
    }
   ],
   "source": [
    "#num_cols = ['max_credit_day_overdue', 'max_days_credit_enddate', 'min_days_enddate_fact', 'max_amt_credit_max_overdue', 'cnt_credit_prolong_in_6month', 'sum_amt_credit_sum', 'sum_amt_credit_sum_debt', 'sum_amt_credit_sum_limit', 'sum_amt_credit_sum_overdue', 'avg_amt_annuity']\n",
    "\n",
    "data = pd.concat([app_train, app_test], sort=False)\n",
    "train = data[:len(app_train)]\n",
    "test = data[len(app_test):]\n",
    "\n",
    "\n",
    "y_train = train['TARGET']\n",
    "X_train = app_train.copy().drop('TARGET', axis=1)\n",
    "X_test = app_test.copy()\n",
    "\n",
    "# 学習データに基づいてYao-Johnson変換を定義\n",
    "#pt = PowerTransformer(method = 'yeo-johnson')\n",
    "#pt.fit(X_train[num_cols])\n",
    "\n",
    "# 変換後のデータで各列を置換\n",
    "#X_train[num_cols] = pt.transform(X_train[num_cols])\n",
    "#X_test[num_cols] = pt.transform(X_test[num_cols])\n",
    "\n",
    "X_train.head()"
   ]
  },
  {
   "cell_type": "code",
   "execution_count": 111,
   "id": "66221193",
   "metadata": {},
   "outputs": [
    {
     "name": "stdout",
     "output_type": "stream",
     "text": [
      "[22:00:09] WARNING: C:/Users/Administrator/workspace/xgboost-win64_release_1.6.0/src/learner.cc:627: \n",
      "Parameters: { \"colsample_state\", \"silent\", \"subsumple\" } might not be used.\n",
      "\n",
      "  This could be a false alarm, with some parameters getting used by language bindings but\n",
      "  then being mistakenly passed down to XGBoost core, or some parameter actually being used\n",
      "  but getting flagged wrongly here. Please open an issue if you find any such cases.\n",
      "\n",
      "\n",
      "[0]\ttrain-auc:0.53718\teval-auc:0.53245\n",
      "[1]\ttrain-auc:0.54952\teval-auc:0.53631\n",
      "[2]\ttrain-auc:0.55073\teval-auc:0.53640\n",
      "[3]\ttrain-auc:0.55256\teval-auc:0.53667\n",
      "[4]\ttrain-auc:0.55347\teval-auc:0.53600\n",
      "[5]\ttrain-auc:0.55584\teval-auc:0.53711\n",
      "[6]\ttrain-auc:0.55643\teval-auc:0.53891\n",
      "[7]\ttrain-auc:0.55751\teval-auc:0.53883\n",
      "[8]\ttrain-auc:0.55781\teval-auc:0.53770\n",
      "[9]\ttrain-auc:0.55862\teval-auc:0.53884\n",
      "[10]\ttrain-auc:0.55962\teval-auc:0.53828\n",
      "[11]\ttrain-auc:0.56016\teval-auc:0.53812\n",
      "[12]\ttrain-auc:0.56306\teval-auc:0.53840\n",
      "[13]\ttrain-auc:0.56396\teval-auc:0.53849\n",
      "[14]\ttrain-auc:0.56419\teval-auc:0.53860\n",
      "[15]\ttrain-auc:0.56512\teval-auc:0.53885\n",
      "[16]\ttrain-auc:0.56580\teval-auc:0.53939\n",
      "[17]\ttrain-auc:0.56694\teval-auc:0.53946\n",
      "[18]\ttrain-auc:0.56713\teval-auc:0.53978\n",
      "[19]\ttrain-auc:0.56759\teval-auc:0.53928\n",
      "[20]\ttrain-auc:0.56809\teval-auc:0.53977\n",
      "[21]\ttrain-auc:0.56878\teval-auc:0.53995\n",
      "[22]\ttrain-auc:0.56887\teval-auc:0.53955\n",
      "[23]\ttrain-auc:0.56918\teval-auc:0.53922\n",
      "[24]\ttrain-auc:0.56948\teval-auc:0.53962\n",
      "[25]\ttrain-auc:0.57024\teval-auc:0.53875\n",
      "[26]\ttrain-auc:0.57059\teval-auc:0.53843\n",
      "[27]\ttrain-auc:0.57129\teval-auc:0.53915\n",
      "[28]\ttrain-auc:0.57142\teval-auc:0.53884\n",
      "[29]\ttrain-auc:0.57203\teval-auc:0.53896\n",
      "[30]\ttrain-auc:0.57243\teval-auc:0.53894\n",
      "[31]\ttrain-auc:0.57287\teval-auc:0.53900\n",
      "[32]\ttrain-auc:0.57341\teval-auc:0.53832\n",
      "[33]\ttrain-auc:0.57473\teval-auc:0.53657\n",
      "[34]\ttrain-auc:0.57490\teval-auc:0.53656\n",
      "[35]\ttrain-auc:0.57563\teval-auc:0.53623\n",
      "[36]\ttrain-auc:0.57587\teval-auc:0.53656\n",
      "[37]\ttrain-auc:0.57609\teval-auc:0.53741\n",
      "[38]\ttrain-auc:0.57639\teval-auc:0.53712\n",
      "[39]\ttrain-auc:0.57685\teval-auc:0.53764\n",
      "[40]\ttrain-auc:0.57678\teval-auc:0.53688\n",
      "[41]\ttrain-auc:0.57679\teval-auc:0.53680\n",
      "[42]\ttrain-auc:0.57705\teval-auc:0.53716\n",
      "[43]\ttrain-auc:0.57748\teval-auc:0.53755\n",
      "[44]\ttrain-auc:0.57789\teval-auc:0.53786\n",
      "[45]\ttrain-auc:0.57822\teval-auc:0.53787\n",
      "[46]\ttrain-auc:0.57848\teval-auc:0.53801\n",
      "[47]\ttrain-auc:0.58020\teval-auc:0.53999\n",
      "[48]\ttrain-auc:0.58054\teval-auc:0.54079\n",
      "[49]\ttrain-auc:0.58090\teval-auc:0.54033\n",
      "[22:00:10] WARNING: C:/Users/Administrator/workspace/xgboost-win64_release_1.6.0/src/learner.cc:627: \n",
      "Parameters: { \"colsample_state\", \"silent\", \"subsumple\" } might not be used.\n",
      "\n",
      "  This could be a false alarm, with some parameters getting used by language bindings but\n",
      "  then being mistakenly passed down to XGBoost core, or some parameter actually being used\n",
      "  but getting flagged wrongly here. Please open an issue if you find any such cases.\n",
      "\n",
      "\n",
      "[0]\ttrain-auc:0.53949\teval-auc:0.53229\n",
      "[1]\ttrain-auc:0.54715\teval-auc:0.53553\n",
      "[2]\ttrain-auc:0.54863\teval-auc:0.53658\n",
      "[3]\ttrain-auc:0.55012\teval-auc:0.53607\n",
      "[4]\ttrain-auc:0.55156\teval-auc:0.53663\n",
      "[5]\ttrain-auc:0.55263\teval-auc:0.53777\n",
      "[6]\ttrain-auc:0.55342\teval-auc:0.53725\n",
      "[7]\ttrain-auc:0.55389\teval-auc:0.53664\n",
      "[8]\ttrain-auc:0.55754\teval-auc:0.54077\n",
      "[9]\ttrain-auc:0.55861\teval-auc:0.54055\n",
      "[10]\ttrain-auc:0.55991\teval-auc:0.54018\n",
      "[11]\ttrain-auc:0.55998\teval-auc:0.53977\n",
      "[12]\ttrain-auc:0.56040\teval-auc:0.53892\n",
      "[13]\ttrain-auc:0.56120\teval-auc:0.53889\n",
      "[14]\ttrain-auc:0.56225\teval-auc:0.53940\n",
      "[15]\ttrain-auc:0.56287\teval-auc:0.53926\n",
      "[16]\ttrain-auc:0.56339\teval-auc:0.54023\n",
      "[17]\ttrain-auc:0.56385\teval-auc:0.53912\n",
      "[18]\ttrain-auc:0.56436\teval-auc:0.53942\n",
      "[19]\ttrain-auc:0.56447\teval-auc:0.53879\n",
      "[20]\ttrain-auc:0.56508\teval-auc:0.53946\n",
      "[21]\ttrain-auc:0.56560\teval-auc:0.53945\n",
      "[22]\ttrain-auc:0.56586\teval-auc:0.53873\n",
      "[23]\ttrain-auc:0.56626\teval-auc:0.53888\n",
      "[24]\ttrain-auc:0.56708\teval-auc:0.53918\n",
      "[25]\ttrain-auc:0.56759\teval-auc:0.53903\n",
      "[26]\ttrain-auc:0.56807\teval-auc:0.53927\n",
      "[27]\ttrain-auc:0.56920\teval-auc:0.53943\n",
      "[28]\ttrain-auc:0.56964\teval-auc:0.53989\n",
      "[29]\ttrain-auc:0.57032\teval-auc:0.54015\n",
      "[30]\ttrain-auc:0.57110\teval-auc:0.53829\n",
      "[31]\ttrain-auc:0.57108\teval-auc:0.53879\n",
      "[32]\ttrain-auc:0.57207\teval-auc:0.53800\n",
      "[33]\ttrain-auc:0.57248\teval-auc:0.53728\n",
      "[34]\ttrain-auc:0.57285\teval-auc:0.53742\n",
      "[35]\ttrain-auc:0.57329\teval-auc:0.53795\n",
      "[36]\ttrain-auc:0.57366\teval-auc:0.53810\n",
      "[37]\ttrain-auc:0.57406\teval-auc:0.53792\n",
      "[38]\ttrain-auc:0.57434\teval-auc:0.53829\n",
      "[39]\ttrain-auc:0.57479\teval-auc:0.53843\n",
      "[40]\ttrain-auc:0.57557\teval-auc:0.53763\n",
      "[41]\ttrain-auc:0.57543\teval-auc:0.53743\n",
      "[42]\ttrain-auc:0.57646\teval-auc:0.53911\n",
      "[43]\ttrain-auc:0.57726\teval-auc:0.53905\n",
      "[44]\ttrain-auc:0.57752\teval-auc:0.53903\n",
      "[45]\ttrain-auc:0.57787\teval-auc:0.53932\n",
      "[46]\ttrain-auc:0.57778\teval-auc:0.53950\n",
      "[47]\ttrain-auc:0.57796\teval-auc:0.53902\n",
      "[48]\ttrain-auc:0.57890\teval-auc:0.53925\n",
      "[49]\ttrain-auc:0.57929\teval-auc:0.53905\n",
      "[22:00:12] WARNING: C:/Users/Administrator/workspace/xgboost-win64_release_1.6.0/src/learner.cc:627: \n",
      "Parameters: { \"colsample_state\", \"silent\", \"subsumple\" } might not be used.\n",
      "\n",
      "  This could be a false alarm, with some parameters getting used by language bindings but\n",
      "  then being mistakenly passed down to XGBoost core, or some parameter actually being used\n",
      "  but getting flagged wrongly here. Please open an issue if you find any such cases.\n",
      "\n",
      "\n",
      "[0]\ttrain-auc:0.53613\teval-auc:0.53570\n",
      "[1]\ttrain-auc:0.54106\teval-auc:0.53817\n",
      "[2]\ttrain-auc:0.54191\teval-auc:0.53963\n",
      "[3]\ttrain-auc:0.54833\teval-auc:0.54292\n",
      "[4]\ttrain-auc:0.55036\teval-auc:0.54354\n",
      "[5]\ttrain-auc:0.55150\teval-auc:0.54454\n",
      "[6]\ttrain-auc:0.55242\teval-auc:0.54420\n",
      "[7]\ttrain-auc:0.55364\teval-auc:0.54340\n",
      "[8]\ttrain-auc:0.55407\teval-auc:0.54304\n",
      "[9]\ttrain-auc:0.55488\teval-auc:0.54314\n",
      "[10]\ttrain-auc:0.55558\teval-auc:0.54272\n",
      "[11]\ttrain-auc:0.55759\teval-auc:0.54286\n",
      "[12]\ttrain-auc:0.55818\teval-auc:0.54272\n",
      "[13]\ttrain-auc:0.55840\teval-auc:0.54265\n",
      "[14]\ttrain-auc:0.55795\teval-auc:0.54203\n",
      "[15]\ttrain-auc:0.55933\teval-auc:0.54250\n",
      "[16]\ttrain-auc:0.55957\teval-auc:0.54202\n",
      "[17]\ttrain-auc:0.56171\teval-auc:0.54765\n",
      "[18]\ttrain-auc:0.56221\teval-auc:0.54783\n",
      "[19]\ttrain-auc:0.56358\teval-auc:0.54757\n",
      "[20]\ttrain-auc:0.56443\teval-auc:0.54820\n",
      "[21]\ttrain-auc:0.56520\teval-auc:0.54808\n",
      "[22]\ttrain-auc:0.56586\teval-auc:0.54780\n",
      "[23]\ttrain-auc:0.56618\teval-auc:0.54792\n",
      "[24]\ttrain-auc:0.56639\teval-auc:0.54787\n",
      "[25]\ttrain-auc:0.56709\teval-auc:0.54768\n",
      "[26]\ttrain-auc:0.56758\teval-auc:0.54823\n",
      "[27]\ttrain-auc:0.56815\teval-auc:0.54879\n",
      "[28]\ttrain-auc:0.56860\teval-auc:0.54918\n",
      "[29]\ttrain-auc:0.56938\teval-auc:0.54972\n",
      "[30]\ttrain-auc:0.56985\teval-auc:0.54946\n",
      "[31]\ttrain-auc:0.57019\teval-auc:0.54982\n",
      "[32]\ttrain-auc:0.57042\teval-auc:0.54978\n",
      "[33]\ttrain-auc:0.57062\teval-auc:0.54965\n",
      "[34]\ttrain-auc:0.57044\teval-auc:0.54964\n",
      "[35]\ttrain-auc:0.57179\teval-auc:0.54901\n",
      "[36]\ttrain-auc:0.57220\teval-auc:0.54965\n",
      "[37]\ttrain-auc:0.57245\teval-auc:0.54952\n",
      "[38]\ttrain-auc:0.57263\teval-auc:0.54945\n",
      "[39]\ttrain-auc:0.57271\teval-auc:0.54892\n",
      "[40]\ttrain-auc:0.57287\teval-auc:0.54951\n",
      "[41]\ttrain-auc:0.57338\teval-auc:0.54952\n",
      "[42]\ttrain-auc:0.57395\teval-auc:0.54859\n",
      "[43]\ttrain-auc:0.57415\teval-auc:0.54889\n",
      "[44]\ttrain-auc:0.57415\teval-auc:0.54974\n",
      "[45]\ttrain-auc:0.57551\teval-auc:0.55317\n",
      "[46]\ttrain-auc:0.57596\teval-auc:0.55340\n",
      "[47]\ttrain-auc:0.57635\teval-auc:0.55283\n",
      "[48]\ttrain-auc:0.57677\teval-auc:0.55245\n",
      "[49]\ttrain-auc:0.57703\teval-auc:0.55309\n",
      "[22:00:13] WARNING: C:/Users/Administrator/workspace/xgboost-win64_release_1.6.0/src/learner.cc:627: \n",
      "Parameters: { \"colsample_state\", \"silent\", \"subsumple\" } might not be used.\n",
      "\n",
      "  This could be a false alarm, with some parameters getting used by language bindings but\n",
      "  then being mistakenly passed down to XGBoost core, or some parameter actually being used\n",
      "  but getting flagged wrongly here. Please open an issue if you find any such cases.\n",
      "\n",
      "\n",
      "[0]\ttrain-auc:0.53592\teval-auc:0.53470\n",
      "[1]\ttrain-auc:0.54597\teval-auc:0.54282\n",
      "[2]\ttrain-auc:0.54728\teval-auc:0.54435\n",
      "[3]\ttrain-auc:0.55033\teval-auc:0.54325\n",
      "[4]\ttrain-auc:0.55232\teval-auc:0.54467\n",
      "[5]\ttrain-auc:0.55301\teval-auc:0.54424\n",
      "[6]\ttrain-auc:0.55487\teval-auc:0.54263\n",
      "[7]\ttrain-auc:0.55582\teval-auc:0.54204\n",
      "[8]\ttrain-auc:0.55743\teval-auc:0.54195\n",
      "[9]\ttrain-auc:0.55815\teval-auc:0.54251\n",
      "[10]\ttrain-auc:0.55968\teval-auc:0.54233\n",
      "[11]\ttrain-auc:0.56065\teval-auc:0.54272\n"
     ]
    },
    {
     "name": "stdout",
     "output_type": "stream",
     "text": [
      "[12]\ttrain-auc:0.56121\teval-auc:0.54206\n",
      "[13]\ttrain-auc:0.56219\teval-auc:0.54221\n",
      "[14]\ttrain-auc:0.56262\teval-auc:0.54264\n",
      "[15]\ttrain-auc:0.56299\teval-auc:0.54285\n",
      "[16]\ttrain-auc:0.56373\teval-auc:0.54346\n",
      "[17]\ttrain-auc:0.56412\teval-auc:0.54367\n",
      "[18]\ttrain-auc:0.56530\teval-auc:0.54409\n",
      "[19]\ttrain-auc:0.56509\teval-auc:0.54353\n",
      "[20]\ttrain-auc:0.56580\teval-auc:0.54441\n",
      "[21]\ttrain-auc:0.56718\teval-auc:0.54422\n",
      "[22]\ttrain-auc:0.56771\teval-auc:0.54362\n",
      "[23]\ttrain-auc:0.56821\teval-auc:0.54453\n",
      "[24]\ttrain-auc:0.56849\teval-auc:0.54459\n",
      "[25]\ttrain-auc:0.56948\teval-auc:0.54518\n",
      "[26]\ttrain-auc:0.56938\teval-auc:0.54524\n",
      "[27]\ttrain-auc:0.57030\teval-auc:0.54543\n",
      "[28]\ttrain-auc:0.57099\teval-auc:0.54483\n",
      "[29]\ttrain-auc:0.57141\teval-auc:0.54403\n",
      "[30]\ttrain-auc:0.57209\teval-auc:0.54429\n",
      "[31]\ttrain-auc:0.57210\teval-auc:0.54442\n",
      "[32]\ttrain-auc:0.57305\teval-auc:0.54388\n",
      "[33]\ttrain-auc:0.57316\teval-auc:0.54432\n",
      "[34]\ttrain-auc:0.57381\teval-auc:0.54421\n",
      "[35]\ttrain-auc:0.57433\teval-auc:0.54390\n",
      "[36]\ttrain-auc:0.57464\teval-auc:0.54407\n",
      "[37]\ttrain-auc:0.57474\teval-auc:0.54411\n",
      "[38]\ttrain-auc:0.57452\teval-auc:0.54400\n",
      "[39]\ttrain-auc:0.57534\teval-auc:0.54381\n",
      "[40]\ttrain-auc:0.57586\teval-auc:0.54419\n",
      "[41]\ttrain-auc:0.57613\teval-auc:0.54371\n",
      "[42]\ttrain-auc:0.57652\teval-auc:0.54355\n",
      "[43]\ttrain-auc:0.57692\teval-auc:0.54397\n",
      "[44]\ttrain-auc:0.57845\teval-auc:0.54494\n",
      "[45]\ttrain-auc:0.57862\teval-auc:0.54527\n",
      "[46]\ttrain-auc:0.57872\teval-auc:0.54521\n",
      "[47]\ttrain-auc:0.57917\teval-auc:0.54492\n",
      "[48]\ttrain-auc:0.57933\teval-auc:0.54480\n",
      "[49]\ttrain-auc:0.57979\teval-auc:0.54473\n",
      "[22:00:14] WARNING: C:/Users/Administrator/workspace/xgboost-win64_release_1.6.0/src/learner.cc:627: \n",
      "Parameters: { \"colsample_state\", \"silent\", \"subsumple\" } might not be used.\n",
      "\n",
      "  This could be a false alarm, with some parameters getting used by language bindings but\n",
      "  then being mistakenly passed down to XGBoost core, or some parameter actually being used\n",
      "  but getting flagged wrongly here. Please open an issue if you find any such cases.\n",
      "\n",
      "\n",
      "[0]\ttrain-auc:0.53832\teval-auc:0.53645\n",
      "[1]\ttrain-auc:0.54152\teval-auc:0.53795\n",
      "[2]\ttrain-auc:0.54311\teval-auc:0.53754\n",
      "[3]\ttrain-auc:0.54741\teval-auc:0.54197\n",
      "[4]\ttrain-auc:0.54865\teval-auc:0.54337\n",
      "[5]\ttrain-auc:0.55308\teval-auc:0.54264\n",
      "[6]\ttrain-auc:0.55416\teval-auc:0.54386\n",
      "[7]\ttrain-auc:0.55559\teval-auc:0.54314\n",
      "[8]\ttrain-auc:0.55669\teval-auc:0.54371\n",
      "[9]\ttrain-auc:0.55734\teval-auc:0.54409\n",
      "[10]\ttrain-auc:0.55777\teval-auc:0.54522\n",
      "[11]\ttrain-auc:0.55871\teval-auc:0.54546\n",
      "[12]\ttrain-auc:0.55973\teval-auc:0.54475\n",
      "[13]\ttrain-auc:0.55961\teval-auc:0.54441\n",
      "[14]\ttrain-auc:0.55989\teval-auc:0.54449\n",
      "[15]\ttrain-auc:0.56187\teval-auc:0.54834\n",
      "[16]\ttrain-auc:0.56261\teval-auc:0.54744\n",
      "[17]\ttrain-auc:0.56368\teval-auc:0.54640\n",
      "[18]\ttrain-auc:0.56460\teval-auc:0.54703\n",
      "[19]\ttrain-auc:0.56544\teval-auc:0.54634\n",
      "[20]\ttrain-auc:0.56613\teval-auc:0.54648\n",
      "[21]\ttrain-auc:0.56724\teval-auc:0.54574\n",
      "[22]\ttrain-auc:0.56761\teval-auc:0.54549\n",
      "[23]\ttrain-auc:0.56748\teval-auc:0.54331\n",
      "[24]\ttrain-auc:0.56751\teval-auc:0.54391\n",
      "[25]\ttrain-auc:0.56806\teval-auc:0.54466\n",
      "[26]\ttrain-auc:0.56890\teval-auc:0.54500\n",
      "[27]\ttrain-auc:0.56928\teval-auc:0.54404\n",
      "[28]\ttrain-auc:0.56942\teval-auc:0.54461\n",
      "[29]\ttrain-auc:0.56994\teval-auc:0.54515\n",
      "[30]\ttrain-auc:0.57072\teval-auc:0.54750\n",
      "[31]\ttrain-auc:0.57135\teval-auc:0.54731\n",
      "[32]\ttrain-auc:0.57186\teval-auc:0.54706\n",
      "[33]\ttrain-auc:0.57223\teval-auc:0.54712\n",
      "[34]\ttrain-auc:0.57251\teval-auc:0.54707\n",
      "[35]\ttrain-auc:0.57354\teval-auc:0.54705\n",
      "[36]\ttrain-auc:0.57347\teval-auc:0.54723\n",
      "[37]\ttrain-auc:0.57391\teval-auc:0.54740\n",
      "[38]\ttrain-auc:0.57420\teval-auc:0.54794\n",
      "[39]\ttrain-auc:0.57480\teval-auc:0.54795\n",
      "[40]\ttrain-auc:0.57506\teval-auc:0.54799\n",
      "[41]\ttrain-auc:0.57523\teval-auc:0.54829\n",
      "[42]\ttrain-auc:0.57534\teval-auc:0.54849\n",
      "[43]\ttrain-auc:0.57637\teval-auc:0.54917\n",
      "[44]\ttrain-auc:0.57664\teval-auc:0.54953\n",
      "[45]\ttrain-auc:0.57678\teval-auc:0.54888\n",
      "[46]\ttrain-auc:0.57720\teval-auc:0.54864\n",
      "[47]\ttrain-auc:0.57810\teval-auc:0.54884\n",
      "[48]\ttrain-auc:0.57832\teval-auc:0.54901\n",
      "[49]\ttrain-auc:0.57860\teval-auc:0.54862\n"
     ]
    }
   ],
   "source": [
    "import xgboost as xgb\n",
    "from sklearn.metrics import log_loss\n",
    "\n",
    "y_preds = []\n",
    "models = []\n",
    "scores = []\n",
    "oof_train = np.zeros((len(X_train),))\n",
    "cv = KFold(n_splits=5, shuffle=True, random_state=0)\n",
    "\n",
    "categorical_features = columns\n",
    "\n",
    "params = {\n",
    "    'booster': 'gbtree'\n",
    "    ,'objective': 'binary:logistic'\n",
    "    ,'silent': 1\n",
    "    ,'random_state': 17\n",
    "    ,'gpu_id': 0\n",
    "    ,'tree_method': 'gpu_hist'\n",
    "    ,'eval_metric': 'auc'\n",
    "    ,'eta': 0.1\n",
    "    #,'max_round': 100\n",
    "    ,'max_depth': 8\n",
    "    ,'subsample': 0.8\n",
    "    ,'colsample_state': 71\n",
    "    ,'colsample_bytree': 1.0\n",
    "    ,'colsample_bylevel': 0.3\n",
    "    ,'subsumple': 0.9\n",
    "    ,'gamma': 0\n",
    "    ,'lambda': 1\n",
    "    ,'alpha': 0\n",
    "    ,'min_child_weight': 1\n",
    "}\n",
    "\n",
    "num_round = 50\n",
    "\n",
    "for fold_id, (train_index, valid_index) in enumerate(cv.split(X_train)):\n",
    "    X_tr = X_train.loc[train_index, :]\n",
    "    X_val = X_train.loc[valid_index, :]\n",
    "    y_tr = y_train[train_index]\n",
    "    y_val = y_train[valid_index]\n",
    "    \n",
    "    dtrain = xgb.DMatrix(X_tr, label=y_tr)\n",
    "    dvalid = xgb.DMatrix(X_val, label=y_val)\n",
    "    dtest = xgb.DMatrix(X_test)\n",
    "    \n",
    "    watchlist = [(dtrain, 'train'), (dvalid, 'eval')]\n",
    "    model = xgb.train(params, dtrain, num_round, evals=watchlist)\n",
    "    \n",
    "    va_pred = model.predict(dvalid)\n",
    "    score = log_loss(y_val, va_pred)\n",
    "    oof_train[valid_index] = va_pred\n",
    "    \n",
    "    y_pred = model.predict(dtest) \n",
    "    \n",
    "    \n",
    "    #oof_train[valid_index] = model.predict(X_val, num_iteration=model.best_iteration)\n",
    "    #y_pred = model.predict(X_test, num_iteration=model.best_iteration)##\n",
    "\n",
    "    y_preds.append(y_pred)\n",
    "    models.append(model)\n",
    "    scores.append(score)"
   ]
  },
  {
   "cell_type": "code",
   "execution_count": 112,
   "id": "b643ea2e",
   "metadata": {},
   "outputs": [
    {
     "data": {
      "text/plain": [
       "[array([0.08232608, 0.08232608, 0.12576523, ..., 0.0812972 , 0.0812972 ,\n",
       "        0.07595982], dtype=float32),\n",
       " array([0.07970504, 0.07970504, 0.11108422, ..., 0.08034716, 0.08034716,\n",
       "        0.07762544], dtype=float32),\n",
       " array([0.08117311, 0.08117311, 0.10060679, ..., 0.0808669 , 0.0808669 ,\n",
       "        0.07965405], dtype=float32),\n",
       " array([0.07976759, 0.07976759, 0.0953372 , ..., 0.07851186, 0.07851186,\n",
       "        0.07651309], dtype=float32),\n",
       " array([0.07668689, 0.07668689, 0.10504444, ..., 0.08011776, 0.08011776,\n",
       "        0.07543893], dtype=float32)]"
      ]
     },
     "execution_count": 112,
     "metadata": {},
     "output_type": "execute_result"
    }
   ],
   "source": [
    "y_preds"
   ]
  },
  {
   "cell_type": "code",
   "execution_count": 113,
   "id": "08edb8ce",
   "metadata": {},
   "outputs": [
    {
     "data": {
      "text/plain": [
       "[0.27462937696194156,\n",
       " 0.2797467189103116,\n",
       " 0.2783913456568094,\n",
       " 0.2793328658330591,\n",
       " 0.2807752503279045]"
      ]
     },
     "execution_count": 113,
     "metadata": {},
     "output_type": "execute_result"
    }
   ],
   "source": [
    "scores"
   ]
  },
  {
   "cell_type": "code",
   "execution_count": 114,
   "id": "79740c4a",
   "metadata": {},
   "outputs": [],
   "source": [
    "# CSV-00\n",
    "submit_all = app_test[[\"SK_ID_CURR\"]].copy()\n",
    "# 予測確率の変数名はTARGET\n",
    "submit_all[\"TARGET\"] = y_preds[0]\n",
    "submit_all.isnull().sum()\n",
    "\n",
    "# Submit File\n",
    "submit_all.to_csv(\n",
    "    path_or_buf=\"./home-credit-default-risk/submit/submit_all_00.csv\", # 出力先\n",
    "    sep=\",\",                                            # 区切り文字\n",
    "    index=False,                                        # indexの出力有無\n",
    "    header=True                                        # headerの出力有無\n",
    ")"
   ]
  },
  {
   "cell_type": "code",
   "execution_count": 115,
   "id": "19caf64d",
   "metadata": {},
   "outputs": [],
   "source": [
    "# CSV-01\n",
    "submit_all = app_test[[\"SK_ID_CURR\"]].copy()\n",
    "# 予測確率の変数名はTARGET\n",
    "submit_all[\"TARGET\"] = y_preds[1]\n",
    "\n",
    "# Submit File\n",
    "submit_all.to_csv(\n",
    "    path_or_buf=\"./home-credit-default-risk/submit/submit_all_01.csv\", # 出力先\n",
    "    sep=\",\",                                            # 区切り文字\n",
    "    index=False,                                        # indexの出力有無\n",
    "    header=True                                        # headerの出力有無\n",
    ")"
   ]
  },
  {
   "cell_type": "code",
   "execution_count": 116,
   "id": "20f6cd80",
   "metadata": {},
   "outputs": [],
   "source": [
    "# CSV-02\n",
    "submit_all = app_test[[\"SK_ID_CURR\"]].copy()\n",
    "# 予測確率の変数名はTARGET\n",
    "submit_all[\"TARGET\"] = y_preds[2]\n",
    "\n",
    "# Submit File\n",
    "submit_all.to_csv(\n",
    "    path_or_buf=\"./home-credit-default-risk/submit/submit_all_02.csv\", # 出力先\n",
    "    sep=\",\",                                            # 区切り文字\n",
    "    index=False,                                        # indexの出力有無\n",
    "    header=True                                        # headerの出力有無\n",
    ")"
   ]
  },
  {
   "cell_type": "code",
   "execution_count": 117,
   "id": "935101ec",
   "metadata": {},
   "outputs": [],
   "source": [
    "# CSV-03\n",
    "submit_all = app_test[[\"SK_ID_CURR\"]].copy()\n",
    "# 予測確率の変数名はTARGET\n",
    "submit_all[\"TARGET\"] = y_preds[3]\n",
    "\n",
    "# Submit File\n",
    "submit_all.to_csv(\n",
    "    path_or_buf=\"./home-credit-default-risk/submit/submit_all_03.csv\", # 出力先\n",
    "    sep=\",\",                                            # 区切り文字\n",
    "    index=False,                                        # indexの出力有無\n",
    "    header=True                                        # headerの出力有無\n",
    ")"
   ]
  },
  {
   "cell_type": "code",
   "execution_count": 118,
   "id": "84a44c4f",
   "metadata": {},
   "outputs": [],
   "source": [
    "# CSV-04\n",
    "submit_all = app_test[[\"SK_ID_CURR\"]].copy()\n",
    "# 予測確率の変数名はTARGET\n",
    "submit_all[\"TARGET\"] = y_preds[4]\n",
    "\n",
    "# Submit File\n",
    "submit_all.to_csv(\n",
    "    path_or_buf=\"./home-credit-default-risk/submit/submit_all_04.csv\", # 出力先\n",
    "    sep=\",\",                                            # 区切り文字\n",
    "    index=False,                                        # indexの出力有無\n",
    "    header=True                                        # headerの出力有無\n",
    ")"
   ]
  },
  {
   "cell_type": "code",
   "execution_count": 119,
   "id": "f3de8b93",
   "metadata": {},
   "outputs": [],
   "source": [
    "submit_all_00 = pd.read_csv('./home-credit-default-risk/submit/submit_all_00.csv')\n",
    "submit_all_01 = pd.read_csv('./home-credit-default-risk/submit/submit_all_01.csv')\n",
    "submit_all_02 = pd.read_csv('./home-credit-default-risk/submit/submit_all_02.csv')\n",
    "submit_all_03 = pd.read_csv('./home-credit-default-risk/submit/submit_all_03.csv')\n",
    "submit_all_04 = pd.read_csv('./home-credit-default-risk/submit/submit_all_04.csv')"
   ]
  },
  {
   "cell_type": "code",
   "execution_count": 120,
   "id": "9dac1432",
   "metadata": {},
   "outputs": [
    {
     "data": {
      "text/html": [
       "<div>\n",
       "<style scoped>\n",
       "    .dataframe tbody tr th:only-of-type {\n",
       "        vertical-align: middle;\n",
       "    }\n",
       "\n",
       "    .dataframe tbody tr th {\n",
       "        vertical-align: top;\n",
       "    }\n",
       "\n",
       "    .dataframe thead th {\n",
       "        text-align: right;\n",
       "    }\n",
       "</style>\n",
       "<table border=\"1\" class=\"dataframe\">\n",
       "  <thead>\n",
       "    <tr style=\"text-align: right;\">\n",
       "      <th></th>\n",
       "      <th>submit_all_00</th>\n",
       "      <th>submit_all_01</th>\n",
       "      <th>submit_all_02</th>\n",
       "      <th>submit_all_03</th>\n",
       "      <th>submit_all_04</th>\n",
       "    </tr>\n",
       "  </thead>\n",
       "  <tbody>\n",
       "    <tr>\n",
       "      <th>0</th>\n",
       "      <td>0.082326</td>\n",
       "      <td>0.079705</td>\n",
       "      <td>0.081173</td>\n",
       "      <td>0.079768</td>\n",
       "      <td>0.076687</td>\n",
       "    </tr>\n",
       "    <tr>\n",
       "      <th>1</th>\n",
       "      <td>0.082326</td>\n",
       "      <td>0.079705</td>\n",
       "      <td>0.081173</td>\n",
       "      <td>0.079768</td>\n",
       "      <td>0.076687</td>\n",
       "    </tr>\n",
       "    <tr>\n",
       "      <th>2</th>\n",
       "      <td>0.125765</td>\n",
       "      <td>0.111084</td>\n",
       "      <td>0.100607</td>\n",
       "      <td>0.095337</td>\n",
       "      <td>0.105044</td>\n",
       "    </tr>\n",
       "    <tr>\n",
       "      <th>3</th>\n",
       "      <td>0.082326</td>\n",
       "      <td>0.079705</td>\n",
       "      <td>0.081173</td>\n",
       "      <td>0.079768</td>\n",
       "      <td>0.076687</td>\n",
       "    </tr>\n",
       "    <tr>\n",
       "      <th>4</th>\n",
       "      <td>0.082326</td>\n",
       "      <td>0.079705</td>\n",
       "      <td>0.081173</td>\n",
       "      <td>0.079768</td>\n",
       "      <td>0.076687</td>\n",
       "    </tr>\n",
       "  </tbody>\n",
       "</table>\n",
       "</div>"
      ],
      "text/plain": [
       "   submit_all_00  submit_all_01  submit_all_02  submit_all_03  submit_all_04\n",
       "0       0.082326       0.079705       0.081173       0.079768       0.076687\n",
       "1       0.082326       0.079705       0.081173       0.079768       0.076687\n",
       "2       0.125765       0.111084       0.100607       0.095337       0.105044\n",
       "3       0.082326       0.079705       0.081173       0.079768       0.076687\n",
       "4       0.082326       0.079705       0.081173       0.079768       0.076687"
      ]
     },
     "execution_count": 120,
     "metadata": {},
     "output_type": "execute_result"
    }
   ],
   "source": [
    "submit_all = pd.DataFrame({\n",
    "    'submit_all_00': submit_all_00['TARGET'].values\n",
    "    ,'submit_all_01': submit_all_01['TARGET'].values\n",
    "    ,'submit_all_02': submit_all_02['TARGET'].values\n",
    "    ,'submit_all_03': submit_all_03['TARGET'].values\n",
    "    ,'submit_all_04': submit_all_04['TARGET'].values\n",
    "    })\n",
    "submit_all.head()"
   ]
  },
  {
   "cell_type": "code",
   "execution_count": 121,
   "id": "56fd23aa",
   "metadata": {},
   "outputs": [
    {
     "data": {
      "text/html": [
       "<div>\n",
       "<style scoped>\n",
       "    .dataframe tbody tr th:only-of-type {\n",
       "        vertical-align: middle;\n",
       "    }\n",
       "\n",
       "    .dataframe tbody tr th {\n",
       "        vertical-align: top;\n",
       "    }\n",
       "\n",
       "    .dataframe thead th {\n",
       "        text-align: right;\n",
       "    }\n",
       "</style>\n",
       "<table border=\"1\" class=\"dataframe\">\n",
       "  <thead>\n",
       "    <tr style=\"text-align: right;\">\n",
       "      <th></th>\n",
       "      <th>submit_all_00</th>\n",
       "      <th>submit_all_01</th>\n",
       "      <th>submit_all_02</th>\n",
       "      <th>submit_all_03</th>\n",
       "      <th>submit_all_04</th>\n",
       "    </tr>\n",
       "  </thead>\n",
       "  <tbody>\n",
       "    <tr>\n",
       "      <th>submit_all_00</th>\n",
       "      <td>1.000000</td>\n",
       "      <td>0.908244</td>\n",
       "      <td>0.915162</td>\n",
       "      <td>0.854503</td>\n",
       "      <td>0.873539</td>\n",
       "    </tr>\n",
       "    <tr>\n",
       "      <th>submit_all_01</th>\n",
       "      <td>0.908244</td>\n",
       "      <td>1.000000</td>\n",
       "      <td>0.945849</td>\n",
       "      <td>0.930975</td>\n",
       "      <td>0.902809</td>\n",
       "    </tr>\n",
       "    <tr>\n",
       "      <th>submit_all_02</th>\n",
       "      <td>0.915162</td>\n",
       "      <td>0.945849</td>\n",
       "      <td>1.000000</td>\n",
       "      <td>0.899188</td>\n",
       "      <td>0.908164</td>\n",
       "    </tr>\n",
       "    <tr>\n",
       "      <th>submit_all_03</th>\n",
       "      <td>0.854503</td>\n",
       "      <td>0.930975</td>\n",
       "      <td>0.899188</td>\n",
       "      <td>1.000000</td>\n",
       "      <td>0.815570</td>\n",
       "    </tr>\n",
       "    <tr>\n",
       "      <th>submit_all_04</th>\n",
       "      <td>0.873539</td>\n",
       "      <td>0.902809</td>\n",
       "      <td>0.908164</td>\n",
       "      <td>0.815570</td>\n",
       "      <td>1.000000</td>\n",
       "    </tr>\n",
       "  </tbody>\n",
       "</table>\n",
       "</div>"
      ],
      "text/plain": [
       "               submit_all_00  submit_all_01  submit_all_02  submit_all_03  \\\n",
       "submit_all_00       1.000000       0.908244       0.915162       0.854503   \n",
       "submit_all_01       0.908244       1.000000       0.945849       0.930975   \n",
       "submit_all_02       0.915162       0.945849       1.000000       0.899188   \n",
       "submit_all_03       0.854503       0.930975       0.899188       1.000000   \n",
       "submit_all_04       0.873539       0.902809       0.908164       0.815570   \n",
       "\n",
       "               submit_all_04  \n",
       "submit_all_00       0.873539  \n",
       "submit_all_01       0.902809  \n",
       "submit_all_02       0.908164  \n",
       "submit_all_03       0.815570  \n",
       "submit_all_04       1.000000  "
      ]
     },
     "execution_count": 121,
     "metadata": {},
     "output_type": "execute_result"
    }
   ],
   "source": [
    "submit_all.corr()"
   ]
  },
  {
   "cell_type": "code",
   "execution_count": 122,
   "id": "889b1e4d",
   "metadata": {},
   "outputs": [
    {
     "data": {
      "text/html": [
       "<div>\n",
       "<style scoped>\n",
       "    .dataframe tbody tr th:only-of-type {\n",
       "        vertical-align: middle;\n",
       "    }\n",
       "\n",
       "    .dataframe tbody tr th {\n",
       "        vertical-align: top;\n",
       "    }\n",
       "\n",
       "    .dataframe thead th {\n",
       "        text-align: right;\n",
       "    }\n",
       "</style>\n",
       "<table border=\"1\" class=\"dataframe\">\n",
       "  <thead>\n",
       "    <tr style=\"text-align: right;\">\n",
       "      <th></th>\n",
       "      <th>SK_ID_CURR</th>\n",
       "      <th>TARGET</th>\n",
       "    </tr>\n",
       "  </thead>\n",
       "  <tbody>\n",
       "    <tr>\n",
       "      <th>0</th>\n",
       "      <td>100001</td>\n",
       "      <td>0.079932</td>\n",
       "    </tr>\n",
       "    <tr>\n",
       "      <th>1</th>\n",
       "      <td>100005</td>\n",
       "      <td>0.079932</td>\n",
       "    </tr>\n",
       "    <tr>\n",
       "      <th>2</th>\n",
       "      <td>100013</td>\n",
       "      <td>0.107568</td>\n",
       "    </tr>\n",
       "    <tr>\n",
       "      <th>3</th>\n",
       "      <td>100028</td>\n",
       "      <td>0.079932</td>\n",
       "    </tr>\n",
       "    <tr>\n",
       "      <th>4</th>\n",
       "      <td>100038</td>\n",
       "      <td>0.079932</td>\n",
       "    </tr>\n",
       "  </tbody>\n",
       "</table>\n",
       "</div>"
      ],
      "text/plain": [
       "   SK_ID_CURR    TARGET\n",
       "0      100001  0.079932\n",
       "1      100005  0.079932\n",
       "2      100013  0.107568\n",
       "3      100028  0.079932\n",
       "4      100038  0.079932"
      ]
     },
     "execution_count": 122,
     "metadata": {},
     "output_type": "execute_result"
    }
   ],
   "source": [
    "submit_all = app_test[[\"SK_ID_CURR\"]].copy()\n",
    "submit_all['TARGET'] = (submit_all_00['TARGET'] + submit_all_01['TARGET'] + submit_all_02['TARGET'] + submit_all_03['TARGET'] + submit_all_04['TARGET'])/5\n",
    "submit_all.head()"
   ]
  },
  {
   "cell_type": "code",
   "execution_count": 123,
   "id": "a68a3285",
   "metadata": {},
   "outputs": [
    {
     "data": {
      "text/html": [
       "<div>\n",
       "<style scoped>\n",
       "    .dataframe tbody tr th:only-of-type {\n",
       "        vertical-align: middle;\n",
       "    }\n",
       "\n",
       "    .dataframe tbody tr th {\n",
       "        vertical-align: top;\n",
       "    }\n",
       "\n",
       "    .dataframe thead th {\n",
       "        text-align: right;\n",
       "    }\n",
       "</style>\n",
       "<table border=\"1\" class=\"dataframe\">\n",
       "  <thead>\n",
       "    <tr style=\"text-align: right;\">\n",
       "      <th></th>\n",
       "      <th>SK_ID_CURR</th>\n",
       "      <th>TARGET</th>\n",
       "    </tr>\n",
       "  </thead>\n",
       "  <tbody>\n",
       "    <tr>\n",
       "      <th>0</th>\n",
       "      <td>100001</td>\n",
       "      <td>0.015986</td>\n",
       "    </tr>\n",
       "    <tr>\n",
       "      <th>1</th>\n",
       "      <td>100005</td>\n",
       "      <td>0.015986</td>\n",
       "    </tr>\n",
       "    <tr>\n",
       "      <th>2</th>\n",
       "      <td>100013</td>\n",
       "      <td>0.021514</td>\n",
       "    </tr>\n",
       "    <tr>\n",
       "      <th>3</th>\n",
       "      <td>100028</td>\n",
       "      <td>0.015986</td>\n",
       "    </tr>\n",
       "    <tr>\n",
       "      <th>4</th>\n",
       "      <td>100038</td>\n",
       "      <td>0.015986</td>\n",
       "    </tr>\n",
       "  </tbody>\n",
       "</table>\n",
       "</div>"
      ],
      "text/plain": [
       "   SK_ID_CURR    TARGET\n",
       "0      100001  0.015986\n",
       "1      100005  0.015986\n",
       "2      100013  0.021514\n",
       "3      100028  0.015986\n",
       "4      100038  0.015986"
      ]
     },
     "execution_count": 123,
     "metadata": {},
     "output_type": "execute_result"
    }
   ],
   "source": [
    "submit_all['TARGET'] = (submit_all['TARGET'] / 5)\n",
    "submit_all.to_csv('./home-credit-default-risk/submit/submit_hc_only_cash_test.csv', index=False)\n",
    "submit_all.head()"
   ]
  },
  {
   "cell_type": "code",
   "execution_count": 124,
   "id": "650c4b41",
   "metadata": {},
   "outputs": [
    {
     "data": {
      "text/plain": [
       "SK_ID_CURR    48744\n",
       "TARGET        48744\n",
       "dtype: int64"
      ]
     },
     "execution_count": 124,
     "metadata": {},
     "output_type": "execute_result"
    }
   ],
   "source": [
    "submit_all.count()"
   ]
  }
 ],
 "metadata": {
  "kernelspec": {
   "display_name": "Python 3 (ipykernel)",
   "language": "python",
   "name": "python3"
  },
  "language_info": {
   "codemirror_mode": {
    "name": "ipython",
    "version": 3
   },
   "file_extension": ".py",
   "mimetype": "text/x-python",
   "name": "python",
   "nbconvert_exporter": "python",
   "pygments_lexer": "ipython3",
   "version": "3.9.7"
  }
 },
 "nbformat": 4,
 "nbformat_minor": 5
}
