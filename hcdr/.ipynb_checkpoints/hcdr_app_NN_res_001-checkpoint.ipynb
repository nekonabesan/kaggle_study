{
 "cells": [
  {
   "cell_type": "code",
   "execution_count": 1,
   "id": "06bc61c9",
   "metadata": {},
   "outputs": [],
   "source": [
    "#from google.colab import drive\n",
    "#drive.mount('/content/drive')"
   ]
  },
  {
   "cell_type": "code",
   "execution_count": 2,
   "id": "e007e9a2",
   "metadata": {},
   "outputs": [],
   "source": [
    "#%cd /content/drive/MyDrive/"
   ]
  },
  {
   "cell_type": "code",
   "execution_count": 3,
   "id": "43f0813a",
   "metadata": {},
   "outputs": [
    {
     "name": "stdout",
     "output_type": "stream",
     "text": [
      "OK\n",
      "\n"
     ]
    }
   ],
   "source": [
    "import cupy as cp\n",
    "import numpy as np\n",
    "import pandas as pd\n",
    "import lightgbm as lgb\n",
    "import matplotlib.pyplot as plt\n",
    "import seaborn as sns\n",
    "import tensorflow as tf\n",
    "\n",
    "from lightgbm import LGBMClassifier\n",
    "\n",
    "from sklearn import metrics\n",
    "from sklearn_pandas import DataFrameMapper\n",
    "from sklearn.metrics import accuracy_score\n",
    "from sklearn.metrics import log_loss\n",
    "from sklearn.metrics import mean_squared_log_error\n",
    "from sklearn.tree import DecisionTreeClassifier, export_graphviz\n",
    "from sklearn.ensemble import RandomForestRegressor\n",
    "from sklearn.model_selection import KFold\n",
    "from sklearn.model_selection import train_test_split\n",
    "from sklearn.preprocessing import LabelEncoder\n",
    "from sklearn.preprocessing import StandardScaler\n",
    "from sklearn.preprocessing import PowerTransformer\n",
    "from sklearn.preprocessing import LabelEncoder\n",
    "from sklearn.preprocessing import MinMaxScaler\n",
    "from sklearn.experimental import enable_iterative_imputer\n",
    "from sklearn.metrics import roc_auc_score\n",
    "from sklearn.tree import plot_tree\n",
    "from sklearn.datasets import make_moons\n",
    "\n",
    "from sklearn.experimental import enable_iterative_imputer\n",
    "from sklearn.impute import IterativeImputer\n",
    "from sklearn.impute import SimpleImputer\n",
    "\n",
    "from keras.layers import Dense, Dropout\n",
    "from keras.models import Sequential\n",
    "\n",
    "from six import StringIO\n",
    "\n",
    "from IPython.display import Image\n",
    "import matplotlib.pyplot as plt\n",
    "import seaborn as sns\n",
    "\n",
    "import statsmodels.api as sm\n",
    "import math\n",
    "from scipy import stats\n",
    "import numpy as np\n",
    "import pandas as pd\n",
    "import tensorflow as tf\n",
    "\n",
    "from datetime import datetime\n",
    "from tensorflow import feature_column\n",
    "from tensorflow.keras import layers\n",
    "\n",
    "from tqdm import tqdm\n",
    "\n",
    "# sklearn preprocessing for dealing with categorical variables\n",
    "from sklearn.preprocessing import LabelEncoder\n",
    "\n",
    "# File system manangement\n",
    "import os\n",
    "\n",
    "# Suppress warnings \n",
    "import warnings\n",
    "warnings.filterwarnings('ignore')\n",
    "\n",
    "%matplotlib inline\n",
    "\n",
    "print(\"OK\\n\")"
   ]
  },
  {
   "cell_type": "code",
   "execution_count": 4,
   "id": "ee9200ed",
   "metadata": {},
   "outputs": [],
   "source": [
    "app_train_origin =  pd.read_csv('./home-credit-default-risk/application_train.csv')\n",
    "app_test_origin =  pd.read_csv('./home-credit-default-risk/application_test.csv')"
   ]
  },
  {
   "cell_type": "code",
   "execution_count": 5,
   "id": "947a4833",
   "metadata": {},
   "outputs": [],
   "source": [
    "app_train = app_train_origin.copy()\n",
    "app_test = app_test_origin.copy()"
   ]
  },
  {
   "cell_type": "code",
   "execution_count": 6,
   "id": "61688ae6",
   "metadata": {},
   "outputs": [],
   "source": [
    "# Function to calculate missing values by column# Funct \n",
    "def missing_values_table(df):\n",
    "        # Total missing values\n",
    "        mis_val = df.isnull().sum()\n",
    "        \n",
    "        # Percentage of missing values\n",
    "        mis_val_percent = 100 * df.isnull().sum() / len(df)\n",
    "        \n",
    "        # Make a table with the results\n",
    "        mis_val_table = pd.concat([mis_val, mis_val_percent], axis=1)\n",
    "        \n",
    "        # Rename the columns\n",
    "        mis_val_table_ren_columns = mis_val_table.rename(\n",
    "        columns = {0 : 'Missing Values', 1 : '% of Total Values'})\n",
    "        \n",
    "        # Sort the table by percentage of missing descending\n",
    "        mis_val_table_ren_columns = mis_val_table_ren_columns[\n",
    "            mis_val_table_ren_columns.iloc[:,1] != 0].sort_values(\n",
    "        '% of Total Values', ascending=False).round(1)\n",
    "        \n",
    "        # Print some summary information\n",
    "        print (\"Your selected dataframe has \" + str(df.shape[1]) + \" columns.\\n\"      \n",
    "            \"There are \" + str(mis_val_table_ren_columns.shape[0]) +\n",
    "              \" columns that have missing values.\")\n",
    "        \n",
    "        # Return the dataframe with missing information\n",
    "        return mis_val_table_ren_columns"
   ]
  },
  {
   "cell_type": "code",
   "execution_count": 7,
   "id": "a1e4f900",
   "metadata": {},
   "outputs": [
    {
     "name": "stdout",
     "output_type": "stream",
     "text": [
      "Your selected dataframe has 122 columns.\n",
      "There are 67 columns that have missing values.\n"
     ]
    },
    {
     "data": {
      "text/html": [
       "<div>\n",
       "<style scoped>\n",
       "    .dataframe tbody tr th:only-of-type {\n",
       "        vertical-align: middle;\n",
       "    }\n",
       "\n",
       "    .dataframe tbody tr th {\n",
       "        vertical-align: top;\n",
       "    }\n",
       "\n",
       "    .dataframe thead th {\n",
       "        text-align: right;\n",
       "    }\n",
       "</style>\n",
       "<table border=\"1\" class=\"dataframe\">\n",
       "  <thead>\n",
       "    <tr style=\"text-align: right;\">\n",
       "      <th></th>\n",
       "      <th>Missing Values</th>\n",
       "      <th>% of Total Values</th>\n",
       "    </tr>\n",
       "  </thead>\n",
       "  <tbody>\n",
       "    <tr>\n",
       "      <th>COMMONAREA_MEDI</th>\n",
       "      <td>214865</td>\n",
       "      <td>69.9</td>\n",
       "    </tr>\n",
       "    <tr>\n",
       "      <th>COMMONAREA_AVG</th>\n",
       "      <td>214865</td>\n",
       "      <td>69.9</td>\n",
       "    </tr>\n",
       "    <tr>\n",
       "      <th>COMMONAREA_MODE</th>\n",
       "      <td>214865</td>\n",
       "      <td>69.9</td>\n",
       "    </tr>\n",
       "    <tr>\n",
       "      <th>NONLIVINGAPARTMENTS_MEDI</th>\n",
       "      <td>213514</td>\n",
       "      <td>69.4</td>\n",
       "    </tr>\n",
       "    <tr>\n",
       "      <th>NONLIVINGAPARTMENTS_MODE</th>\n",
       "      <td>213514</td>\n",
       "      <td>69.4</td>\n",
       "    </tr>\n",
       "    <tr>\n",
       "      <th>NONLIVINGAPARTMENTS_AVG</th>\n",
       "      <td>213514</td>\n",
       "      <td>69.4</td>\n",
       "    </tr>\n",
       "    <tr>\n",
       "      <th>FONDKAPREMONT_MODE</th>\n",
       "      <td>210295</td>\n",
       "      <td>68.4</td>\n",
       "    </tr>\n",
       "    <tr>\n",
       "      <th>LIVINGAPARTMENTS_MODE</th>\n",
       "      <td>210199</td>\n",
       "      <td>68.4</td>\n",
       "    </tr>\n",
       "    <tr>\n",
       "      <th>LIVINGAPARTMENTS_MEDI</th>\n",
       "      <td>210199</td>\n",
       "      <td>68.4</td>\n",
       "    </tr>\n",
       "    <tr>\n",
       "      <th>LIVINGAPARTMENTS_AVG</th>\n",
       "      <td>210199</td>\n",
       "      <td>68.4</td>\n",
       "    </tr>\n",
       "    <tr>\n",
       "      <th>FLOORSMIN_MODE</th>\n",
       "      <td>208642</td>\n",
       "      <td>67.8</td>\n",
       "    </tr>\n",
       "    <tr>\n",
       "      <th>FLOORSMIN_MEDI</th>\n",
       "      <td>208642</td>\n",
       "      <td>67.8</td>\n",
       "    </tr>\n",
       "    <tr>\n",
       "      <th>FLOORSMIN_AVG</th>\n",
       "      <td>208642</td>\n",
       "      <td>67.8</td>\n",
       "    </tr>\n",
       "    <tr>\n",
       "      <th>YEARS_BUILD_MODE</th>\n",
       "      <td>204488</td>\n",
       "      <td>66.5</td>\n",
       "    </tr>\n",
       "    <tr>\n",
       "      <th>YEARS_BUILD_MEDI</th>\n",
       "      <td>204488</td>\n",
       "      <td>66.5</td>\n",
       "    </tr>\n",
       "    <tr>\n",
       "      <th>YEARS_BUILD_AVG</th>\n",
       "      <td>204488</td>\n",
       "      <td>66.5</td>\n",
       "    </tr>\n",
       "    <tr>\n",
       "      <th>OWN_CAR_AGE</th>\n",
       "      <td>202929</td>\n",
       "      <td>66.0</td>\n",
       "    </tr>\n",
       "    <tr>\n",
       "      <th>LANDAREA_AVG</th>\n",
       "      <td>182590</td>\n",
       "      <td>59.4</td>\n",
       "    </tr>\n",
       "    <tr>\n",
       "      <th>LANDAREA_MEDI</th>\n",
       "      <td>182590</td>\n",
       "      <td>59.4</td>\n",
       "    </tr>\n",
       "    <tr>\n",
       "      <th>LANDAREA_MODE</th>\n",
       "      <td>182590</td>\n",
       "      <td>59.4</td>\n",
       "    </tr>\n",
       "  </tbody>\n",
       "</table>\n",
       "</div>"
      ],
      "text/plain": [
       "                          Missing Values  % of Total Values\n",
       "COMMONAREA_MEDI                   214865               69.9\n",
       "COMMONAREA_AVG                    214865               69.9\n",
       "COMMONAREA_MODE                   214865               69.9\n",
       "NONLIVINGAPARTMENTS_MEDI          213514               69.4\n",
       "NONLIVINGAPARTMENTS_MODE          213514               69.4\n",
       "NONLIVINGAPARTMENTS_AVG           213514               69.4\n",
       "FONDKAPREMONT_MODE                210295               68.4\n",
       "LIVINGAPARTMENTS_MODE             210199               68.4\n",
       "LIVINGAPARTMENTS_MEDI             210199               68.4\n",
       "LIVINGAPARTMENTS_AVG              210199               68.4\n",
       "FLOORSMIN_MODE                    208642               67.8\n",
       "FLOORSMIN_MEDI                    208642               67.8\n",
       "FLOORSMIN_AVG                     208642               67.8\n",
       "YEARS_BUILD_MODE                  204488               66.5\n",
       "YEARS_BUILD_MEDI                  204488               66.5\n",
       "YEARS_BUILD_AVG                   204488               66.5\n",
       "OWN_CAR_AGE                       202929               66.0\n",
       "LANDAREA_AVG                      182590               59.4\n",
       "LANDAREA_MEDI                     182590               59.4\n",
       "LANDAREA_MODE                     182590               59.4"
      ]
     },
     "execution_count": 7,
     "metadata": {},
     "output_type": "execute_result"
    }
   ],
   "source": [
    "# Missing values statistics\n",
    "missing_values = missing_values_table(app_train)\n",
    "missing_values.head(20)"
   ]
  },
  {
   "cell_type": "code",
   "execution_count": 8,
   "id": "3e5e1eed",
   "metadata": {},
   "outputs": [],
   "source": [
    "# Plots the disribution of a variable colored by value of the target\n",
    "def kde_target(var_name, df):\n",
    "    \n",
    "    # Calculate the correlation coefficient between the new variable and the target\n",
    "    corr = df['TARGET'].corr(df[var_name])\n",
    "    \n",
    "    # Calculate medians for repaid vs not repaid\n",
    "    avg_repaid = df.loc[df['TARGET'] == 0, var_name].median()\n",
    "    avg_not_repaid = df.loc[df['TARGET'] == 1, var_name].median()\n",
    "    \n",
    "    plt.figure(figsize = (12, 6))\n",
    "    \n",
    "    # Plot the distribution for target == 0 and target == 1\n",
    "    sns.kdeplot(df.loc[df['TARGET'] == 0, var_name], label = 'TARGET == 0')\n",
    "    sns.kdeplot(df.loc[df['TARGET'] == 1, var_name], label = 'TARGET == 1')\n",
    "    \n",
    "    # label the plot\n",
    "    plt.xlabel(var_name); plt.ylabel('Density'); plt.title('%s Distribution' % var_name)\n",
    "    plt.legend();\n",
    "    \n",
    "    # print out the correlation\n",
    "    print('The correlation between %s and the TARGET is %0.4f' % (var_name, corr))\n",
    "    # Print out average values\n",
    "    print('Median value for loan that was not repaid = %0.4f' % avg_not_repaid)\n",
    "    print('Median value for loan that was repaid =     %0.4f' % avg_repaid)"
   ]
  },
  {
   "cell_type": "markdown",
   "id": "b25a07cc",
   "metadata": {},
   "source": [
    "## 前処理前の値から特徴量作成 Domain Knowledge Features"
   ]
  },
  {
   "cell_type": "code",
   "execution_count": 9,
   "id": "95d406ba",
   "metadata": {},
   "outputs": [],
   "source": [
    "app_train_domain = app_train.copy()\n",
    "app_test_domain = app_test.copy()"
   ]
  },
  {
   "cell_type": "markdown",
   "id": "2b80b0df",
   "metadata": {},
   "source": [
    "### CREDIT_INCOME_PERCENT"
   ]
  },
  {
   "cell_type": "code",
   "execution_count": 10,
   "id": "362db6f3",
   "metadata": {},
   "outputs": [],
   "source": [
    "app_train_domain['CREDIT_INCOME_PERCENT'] = app_train_domain['AMT_CREDIT'] / app_train_domain['AMT_INCOME_TOTAL']\n",
    "app_test_domain['CREDIT_INCOME_PERCENT'] = app_test_domain['AMT_CREDIT'] / app_test_domain['AMT_INCOME_TOTAL']"
   ]
  },
  {
   "cell_type": "code",
   "execution_count": 11,
   "id": "8b80989a",
   "metadata": {},
   "outputs": [
    {
     "data": {
      "text/plain": [
       "0"
      ]
     },
     "execution_count": 11,
     "metadata": {},
     "output_type": "execute_result"
    }
   ],
   "source": [
    "app_train_domain['CREDIT_INCOME_PERCENT'].isnull().sum()"
   ]
  },
  {
   "cell_type": "code",
   "execution_count": 12,
   "id": "b0ff6c1a",
   "metadata": {},
   "outputs": [
    {
     "data": {
      "text/html": [
       "<div>\n",
       "<style scoped>\n",
       "    .dataframe tbody tr th:only-of-type {\n",
       "        vertical-align: middle;\n",
       "    }\n",
       "\n",
       "    .dataframe tbody tr th {\n",
       "        vertical-align: top;\n",
       "    }\n",
       "\n",
       "    .dataframe thead th {\n",
       "        text-align: right;\n",
       "    }\n",
       "</style>\n",
       "<table border=\"1\" class=\"dataframe\">\n",
       "  <thead>\n",
       "    <tr style=\"text-align: right;\">\n",
       "      <th></th>\n",
       "      <th>CREDIT_INCOME_PERCENT</th>\n",
       "      <th>TARGET</th>\n",
       "    </tr>\n",
       "  </thead>\n",
       "  <tbody>\n",
       "    <tr>\n",
       "      <th>CREDIT_INCOME_PERCENT</th>\n",
       "      <td>1.000000</td>\n",
       "      <td>-0.007727</td>\n",
       "    </tr>\n",
       "    <tr>\n",
       "      <th>TARGET</th>\n",
       "      <td>-0.007727</td>\n",
       "      <td>1.000000</td>\n",
       "    </tr>\n",
       "  </tbody>\n",
       "</table>\n",
       "</div>"
      ],
      "text/plain": [
       "                       CREDIT_INCOME_PERCENT    TARGET\n",
       "CREDIT_INCOME_PERCENT               1.000000 -0.007727\n",
       "TARGET                             -0.007727  1.000000"
      ]
     },
     "execution_count": 12,
     "metadata": {},
     "output_type": "execute_result"
    }
   ],
   "source": [
    "app_train_domain[['CREDIT_INCOME_PERCENT', 'TARGET']].corr()"
   ]
  },
  {
   "cell_type": "code",
   "execution_count": 13,
   "id": "1b287b68",
   "metadata": {},
   "outputs": [
    {
     "name": "stdout",
     "output_type": "stream",
     "text": [
      "The correlation between CREDIT_INCOME_PERCENT and the TARGET is -0.0077\n",
      "Median value for loan that was not repaid = 3.2531\n",
      "Median value for loan that was repaid =     3.2667\n"
     ]
    },
    {
     "data": {
      "image/png": "[encoded data removed]",
      "text/plain": [
       "<Figure size 864x432 with 1 Axes>"
      ]
     },
     "metadata": {
      "needs_background": "light"
     },
     "output_type": "display_data"
    }
   ],
   "source": [
    "kde_target('CREDIT_INCOME_PERCENT', app_train_domain)"
   ]
  },
  {
   "cell_type": "code",
   "execution_count": 14,
   "id": "ace7b18a",
   "metadata": {},
   "outputs": [
    {
     "data": {
      "text/html": [
       "<div>\n",
       "<style scoped>\n",
       "    .dataframe tbody tr th:only-of-type {\n",
       "        vertical-align: middle;\n",
       "    }\n",
       "\n",
       "    .dataframe tbody tr th {\n",
       "        vertical-align: top;\n",
       "    }\n",
       "\n",
       "    .dataframe thead th {\n",
       "        text-align: right;\n",
       "    }\n",
       "</style>\n",
       "<table border=\"1\" class=\"dataframe\">\n",
       "  <thead>\n",
       "    <tr style=\"text-align: right;\">\n",
       "      <th></th>\n",
       "      <th>CREDIT_INCOME_PERCENT</th>\n",
       "      <th>TARGET</th>\n",
       "    </tr>\n",
       "  </thead>\n",
       "  <tbody>\n",
       "    <tr>\n",
       "      <th>CREDIT_INCOME_PERCENT</th>\n",
       "      <td>1.000000</td>\n",
       "      <td>-0.001035</td>\n",
       "    </tr>\n",
       "    <tr>\n",
       "      <th>TARGET</th>\n",
       "      <td>-0.001035</td>\n",
       "      <td>1.000000</td>\n",
       "    </tr>\n",
       "  </tbody>\n",
       "</table>\n",
       "</div>"
      ],
      "text/plain": [
       "                       CREDIT_INCOME_PERCENT    TARGET\n",
       "CREDIT_INCOME_PERCENT               1.000000 -0.001035\n",
       "TARGET                             -0.001035  1.000000"
      ]
     },
     "execution_count": 14,
     "metadata": {},
     "output_type": "execute_result"
    }
   ],
   "source": [
    "## Yao-Johnson変換\n",
    "num_cols = ['CREDIT_INCOME_PERCENT']\n",
    "### 学習データに基づいてYao-Johnson変換を定義\n",
    "pt = PowerTransformer(method = 'yeo-johnson')\n",
    "pt.fit(app_train_domain[num_cols].copy())\n",
    "\n",
    "### 変換後のデータで各列を置換\n",
    "app_train_domain['CREDIT_INCOME_PERCENT'] = pt.transform(app_train_domain[num_cols])\n",
    "app_test_domain['CREDIT_INCOME_PERCENT'] = pt.transform(app_test_domain[num_cols])\n",
    "\n",
    "app_train_domain[['CREDIT_INCOME_PERCENT', 'TARGET']].corr()"
   ]
  },
  {
   "cell_type": "code",
   "execution_count": 15,
   "id": "d1023692",
   "metadata": {},
   "outputs": [
    {
     "name": "stdout",
     "output_type": "stream",
     "text": [
      "The correlation between CREDIT_INCOME_PERCENT and the TARGET is -0.0010\n",
      "Median value for loan that was not repaid = -0.0160\n",
      "Median value for loan that was repaid =     -0.0095\n"
     ]
    },
    {
     "data": {
      "image/png": "[encoded data removed]",
      "text/plain": [
       "<Figure size 864x432 with 1 Axes>"
      ]
     },
     "metadata": {
      "needs_background": "light"
     },
     "output_type": "display_data"
    }
   ],
   "source": [
    "## Yao-Johnson変換後の特徴量の分布\n",
    "kde_target('CREDIT_INCOME_PERCENT', app_train_domain)"
   ]
  },
  {
   "cell_type": "code",
   "execution_count": 16,
   "id": "f9533cef",
   "metadata": {},
   "outputs": [],
   "source": [
    "columns = ['CREDIT_INCOME_PERCENT']\n",
    "app_train_domain.drop(columns, axis=1, inplace=True)\n",
    "app_test_domain.drop(columns, axis=1, inplace=True)"
   ]
  },
  {
   "cell_type": "markdown",
   "id": "1ffd78c4",
   "metadata": {},
   "source": [
    "### ANNUITY_INCOME_PERCENT"
   ]
  },
  {
   "cell_type": "code",
   "execution_count": 17,
   "id": "a5cc8151",
   "metadata": {},
   "outputs": [],
   "source": [
    "app_train_domain['ANNUITY_INCOME_PERCENT'] = app_train_domain['AMT_ANNUITY'] / app_train_domain['AMT_INCOME_TOTAL']\n",
    "app_test_domain['ANNUITY_INCOME_PERCENT'] = app_test_domain['AMT_ANNUITY'] / app_test_domain['AMT_INCOME_TOTAL']"
   ]
  },
  {
   "cell_type": "code",
   "execution_count": 18,
   "id": "1aaf2124",
   "metadata": {},
   "outputs": [
    {
     "data": {
      "text/html": [
       "<div>\n",
       "<style scoped>\n",
       "    .dataframe tbody tr th:only-of-type {\n",
       "        vertical-align: middle;\n",
       "    }\n",
       "\n",
       "    .dataframe tbody tr th {\n",
       "        vertical-align: top;\n",
       "    }\n",
       "\n",
       "    .dataframe thead th {\n",
       "        text-align: right;\n",
       "    }\n",
       "</style>\n",
       "<table border=\"1\" class=\"dataframe\">\n",
       "  <thead>\n",
       "    <tr style=\"text-align: right;\">\n",
       "      <th></th>\n",
       "      <th>ANNUITY_INCOME_PERCENT</th>\n",
       "      <th>TARGET</th>\n",
       "    </tr>\n",
       "  </thead>\n",
       "  <tbody>\n",
       "    <tr>\n",
       "      <th>ANNUITY_INCOME_PERCENT</th>\n",
       "      <td>1.000000</td>\n",
       "      <td>0.014265</td>\n",
       "    </tr>\n",
       "    <tr>\n",
       "      <th>TARGET</th>\n",
       "      <td>0.014265</td>\n",
       "      <td>1.000000</td>\n",
       "    </tr>\n",
       "  </tbody>\n",
       "</table>\n",
       "</div>"
      ],
      "text/plain": [
       "                        ANNUITY_INCOME_PERCENT    TARGET\n",
       "ANNUITY_INCOME_PERCENT                1.000000  0.014265\n",
       "TARGET                                0.014265  1.000000"
      ]
     },
     "execution_count": 18,
     "metadata": {},
     "output_type": "execute_result"
    }
   ],
   "source": [
    "app_train_domain[['ANNUITY_INCOME_PERCENT', 'TARGET']].corr()"
   ]
  },
  {
   "cell_type": "code",
   "execution_count": 19,
   "id": "18bc5ebe",
   "metadata": {},
   "outputs": [
    {
     "name": "stdout",
     "output_type": "stream",
     "text": [
      "The correlation between ANNUITY_INCOME_PERCENT and the TARGET is 0.0143\n",
      "Median value for loan that was not repaid = 0.1693\n",
      "Median value for loan that was repaid =     0.1623\n"
     ]
    },
    {
     "data": {
      "image/png": "[encoded data removed]",
      "text/plain": [
       "<Figure size 864x432 with 1 Axes>"
      ]
     },
     "metadata": {
      "needs_background": "light"
     },
     "output_type": "display_data"
    }
   ],
   "source": [
    "kde_target('ANNUITY_INCOME_PERCENT', app_train_domain)"
   ]
  },
  {
   "cell_type": "code",
   "execution_count": 20,
   "id": "e60b03ac",
   "metadata": {},
   "outputs": [
    {
     "data": {
      "text/html": [
       "<div>\n",
       "<style scoped>\n",
       "    .dataframe tbody tr th:only-of-type {\n",
       "        vertical-align: middle;\n",
       "    }\n",
       "\n",
       "    .dataframe tbody tr th {\n",
       "        vertical-align: top;\n",
       "    }\n",
       "\n",
       "    .dataframe thead th {\n",
       "        text-align: right;\n",
       "    }\n",
       "</style>\n",
       "<table border=\"1\" class=\"dataframe\">\n",
       "  <thead>\n",
       "    <tr style=\"text-align: right;\">\n",
       "      <th></th>\n",
       "      <th>ANNUITY_INCOME_PERCENT</th>\n",
       "      <th>TARGET</th>\n",
       "    </tr>\n",
       "  </thead>\n",
       "  <tbody>\n",
       "    <tr>\n",
       "      <th>ANNUITY_INCOME_PERCENT</th>\n",
       "      <td>1.00000</td>\n",
       "      <td>0.01759</td>\n",
       "    </tr>\n",
       "    <tr>\n",
       "      <th>TARGET</th>\n",
       "      <td>0.01759</td>\n",
       "      <td>1.00000</td>\n",
       "    </tr>\n",
       "  </tbody>\n",
       "</table>\n",
       "</div>"
      ],
      "text/plain": [
       "                        ANNUITY_INCOME_PERCENT   TARGET\n",
       "ANNUITY_INCOME_PERCENT                 1.00000  0.01759\n",
       "TARGET                                 0.01759  1.00000"
      ]
     },
     "execution_count": 20,
     "metadata": {},
     "output_type": "execute_result"
    }
   ],
   "source": [
    "## Yao-Johnson変換\n",
    "num_cols = ['ANNUITY_INCOME_PERCENT']\n",
    "### 学習データに基づいてYao-Johnson変換を定義\n",
    "pt = PowerTransformer(method = 'yeo-johnson')\n",
    "pt.fit(app_train_domain[num_cols].copy())\n",
    "\n",
    "### 変換後のデータで各列を置換\n",
    "app_train_domain['ANNUITY_INCOME_PERCENT'] = pt.transform(app_train_domain[num_cols])\n",
    "app_test_domain['ANNUITY_INCOME_PERCENT'] = pt.transform(app_test_domain[num_cols])\n",
    "\n",
    "app_train_domain[['ANNUITY_INCOME_PERCENT', 'TARGET']].corr()"
   ]
  },
  {
   "cell_type": "code",
   "execution_count": 21,
   "id": "9e17a8cb",
   "metadata": {},
   "outputs": [
    {
     "name": "stdout",
     "output_type": "stream",
     "text": [
      "The correlation between ANNUITY_INCOME_PERCENT and the TARGET is 0.0176\n",
      "Median value for loan that was not repaid = 0.0625\n",
      "Median value for loan that was repaid =     -0.0261\n"
     ]
    },
    {
     "data": {
      "image/png": "[encoded data removed]",
      "text/plain": [
       "<Figure size 864x432 with 1 Axes>"
      ]
     },
     "metadata": {
      "needs_background": "light"
     },
     "output_type": "display_data"
    }
   ],
   "source": [
    "## Yao-Johnson変換後の特徴量の分布\n",
    "kde_target('ANNUITY_INCOME_PERCENT', app_train_domain)"
   ]
  },
  {
   "cell_type": "code",
   "execution_count": 22,
   "id": "1e85527e",
   "metadata": {},
   "outputs": [],
   "source": [
    "app_train['ANNUITY_INCOME_PERCENT'] = app_train_domain['ANNUITY_INCOME_PERCENT'].copy()\n",
    "app_test['ANNUITY_INCOME_PERCENT'] = app_test_domain['ANNUITY_INCOME_PERCENT'].copy()"
   ]
  },
  {
   "cell_type": "code",
   "execution_count": 23,
   "id": "7808ba9f",
   "metadata": {},
   "outputs": [
    {
     "data": {
      "text/html": [
       "<div>\n",
       "<style scoped>\n",
       "    .dataframe tbody tr th:only-of-type {\n",
       "        vertical-align: middle;\n",
       "    }\n",
       "\n",
       "    .dataframe tbody tr th {\n",
       "        vertical-align: top;\n",
       "    }\n",
       "\n",
       "    .dataframe thead th {\n",
       "        text-align: right;\n",
       "    }\n",
       "</style>\n",
       "<table border=\"1\" class=\"dataframe\">\n",
       "  <thead>\n",
       "    <tr style=\"text-align: right;\">\n",
       "      <th></th>\n",
       "      <th>ANNUITY_INCOME_PERCENT</th>\n",
       "      <th>TARGET</th>\n",
       "    </tr>\n",
       "  </thead>\n",
       "  <tbody>\n",
       "    <tr>\n",
       "      <th>ANNUITY_INCOME_PERCENT</th>\n",
       "      <td>1.00000</td>\n",
       "      <td>0.01759</td>\n",
       "    </tr>\n",
       "    <tr>\n",
       "      <th>TARGET</th>\n",
       "      <td>0.01759</td>\n",
       "      <td>1.00000</td>\n",
       "    </tr>\n",
       "  </tbody>\n",
       "</table>\n",
       "</div>"
      ],
      "text/plain": [
       "                        ANNUITY_INCOME_PERCENT   TARGET\n",
       "ANNUITY_INCOME_PERCENT                 1.00000  0.01759\n",
       "TARGET                                 0.01759  1.00000"
      ]
     },
     "execution_count": 23,
     "metadata": {},
     "output_type": "execute_result"
    }
   ],
   "source": [
    "# 標準化\n",
    "num_cols = ['ANNUITY_INCOME_PERCENT']\n",
    "scaler = StandardScaler()\n",
    "scaler.fit(app_train[num_cols])\n",
    "\n",
    "app_train[num_cols] = scaler.transform(app_train[num_cols])\n",
    "app_test[num_cols] = scaler.transform(app_test[num_cols])\n",
    "app_train[['ANNUITY_INCOME_PERCENT', 'TARGET']].corr()"
   ]
  },
  {
   "cell_type": "markdown",
   "id": "9be7beee",
   "metadata": {},
   "source": [
    "### CREDIT_TERM"
   ]
  },
  {
   "cell_type": "code",
   "execution_count": 24,
   "id": "7b4ed28f",
   "metadata": {},
   "outputs": [],
   "source": [
    "app_train_domain['CREDIT_TERM'] = app_train_domain['AMT_ANNUITY'] / app_train_domain['AMT_CREDIT']\n",
    "app_test_domain['CREDIT_TERM'] = app_test_domain['AMT_ANNUITY'] / app_test_domain['AMT_CREDIT']"
   ]
  },
  {
   "cell_type": "code",
   "execution_count": 25,
   "id": "86e224b8",
   "metadata": {},
   "outputs": [
    {
     "data": {
      "text/html": [
       "<div>\n",
       "<style scoped>\n",
       "    .dataframe tbody tr th:only-of-type {\n",
       "        vertical-align: middle;\n",
       "    }\n",
       "\n",
       "    .dataframe tbody tr th {\n",
       "        vertical-align: top;\n",
       "    }\n",
       "\n",
       "    .dataframe thead th {\n",
       "        text-align: right;\n",
       "    }\n",
       "</style>\n",
       "<table border=\"1\" class=\"dataframe\">\n",
       "  <thead>\n",
       "    <tr style=\"text-align: right;\">\n",
       "      <th></th>\n",
       "      <th>CREDIT_TERM</th>\n",
       "      <th>TARGET</th>\n",
       "    </tr>\n",
       "  </thead>\n",
       "  <tbody>\n",
       "    <tr>\n",
       "      <th>CREDIT_TERM</th>\n",
       "      <td>1.000000</td>\n",
       "      <td>0.012704</td>\n",
       "    </tr>\n",
       "    <tr>\n",
       "      <th>TARGET</th>\n",
       "      <td>0.012704</td>\n",
       "      <td>1.000000</td>\n",
       "    </tr>\n",
       "  </tbody>\n",
       "</table>\n",
       "</div>"
      ],
      "text/plain": [
       "             CREDIT_TERM    TARGET\n",
       "CREDIT_TERM     1.000000  0.012704\n",
       "TARGET          0.012704  1.000000"
      ]
     },
     "execution_count": 25,
     "metadata": {},
     "output_type": "execute_result"
    }
   ],
   "source": [
    "app_train_domain[['CREDIT_TERM', 'TARGET']].corr()"
   ]
  },
  {
   "cell_type": "code",
   "execution_count": 26,
   "id": "6c8252c9",
   "metadata": {},
   "outputs": [
    {
     "name": "stdout",
     "output_type": "stream",
     "text": [
      "The correlation between CREDIT_TERM and the TARGET is 0.0127\n",
      "Median value for loan that was not repaid = 0.0500\n",
      "Median value for loan that was repaid =     0.0500\n"
     ]
    },
    {
     "data": {
      "image/png": "[encoded data removed]",
      "text/plain": [
       "<Figure size 864x432 with 1 Axes>"
      ]
     },
     "metadata": {
      "needs_background": "light"
     },
     "output_type": "display_data"
    }
   ],
   "source": [
    "kde_target('CREDIT_TERM', app_train_domain)"
   ]
  },
  {
   "cell_type": "code",
   "execution_count": 27,
   "id": "30114e63",
   "metadata": {},
   "outputs": [
    {
     "data": {
      "text/html": [
       "<div>\n",
       "<style scoped>\n",
       "    .dataframe tbody tr th:only-of-type {\n",
       "        vertical-align: middle;\n",
       "    }\n",
       "\n",
       "    .dataframe tbody tr th {\n",
       "        vertical-align: top;\n",
       "    }\n",
       "\n",
       "    .dataframe thead th {\n",
       "        text-align: right;\n",
       "    }\n",
       "</style>\n",
       "<table border=\"1\" class=\"dataframe\">\n",
       "  <thead>\n",
       "    <tr style=\"text-align: right;\">\n",
       "      <th></th>\n",
       "      <th>CREDIT_TERM</th>\n",
       "      <th>TARGET</th>\n",
       "    </tr>\n",
       "  </thead>\n",
       "  <tbody>\n",
       "    <tr>\n",
       "      <th>CREDIT_TERM</th>\n",
       "      <td>1.000000</td>\n",
       "      <td>0.027383</td>\n",
       "    </tr>\n",
       "    <tr>\n",
       "      <th>TARGET</th>\n",
       "      <td>0.027383</td>\n",
       "      <td>1.000000</td>\n",
       "    </tr>\n",
       "  </tbody>\n",
       "</table>\n",
       "</div>"
      ],
      "text/plain": [
       "             CREDIT_TERM    TARGET\n",
       "CREDIT_TERM     1.000000  0.027383\n",
       "TARGET          0.027383  1.000000"
      ]
     },
     "execution_count": 27,
     "metadata": {},
     "output_type": "execute_result"
    }
   ],
   "source": [
    "## Yao-Johnson変換\n",
    "num_cols = ['CREDIT_TERM']\n",
    "### 学習データに基づいてYao-Johnson変換を定義\n",
    "pt = PowerTransformer(method = 'yeo-johnson')\n",
    "pt.fit(app_train_domain[num_cols].copy())\n",
    "\n",
    "### 変換後のデータで各列を置換\n",
    "app_train_domain['CREDIT_TERM'] = pt.transform(app_train_domain[num_cols])\n",
    "app_test_domain['CREDIT_TERM'] = pt.transform(app_test_domain[num_cols])\n",
    "\n",
    "app_train_domain[['CREDIT_TERM', 'TARGET']].corr()"
   ]
  },
  {
   "cell_type": "code",
   "execution_count": 28,
   "id": "0e50eb55",
   "metadata": {},
   "outputs": [
    {
     "name": "stdout",
     "output_type": "stream",
     "text": [
      "The correlation between CREDIT_TERM and the TARGET is 0.0274\n",
      "Median value for loan that was not repaid = 0.0719\n",
      "Median value for loan that was repaid =     0.0719\n"
     ]
    },
    {
     "data": {
      "image/png": "[encoded data removed]",
      "text/plain": [
       "<Figure size 864x432 with 1 Axes>"
      ]
     },
     "metadata": {
      "needs_background": "light"
     },
     "output_type": "display_data"
    }
   ],
   "source": [
    "## Yao-Johnson変換後の特徴量の分布\n",
    "kde_target('CREDIT_TERM', app_train_domain)"
   ]
  },
  {
   "cell_type": "code",
   "execution_count": 29,
   "id": "3e12b520",
   "metadata": {},
   "outputs": [],
   "source": [
    "app_train['CREDIT_TERM'] = app_train_domain['CREDIT_TERM'].copy()\n",
    "app_test['CREDIT_TERM'] = app_test_domain['CREDIT_TERM'].copy()"
   ]
  },
  {
   "cell_type": "code",
   "execution_count": 30,
   "id": "96473527",
   "metadata": {},
   "outputs": [
    {
     "data": {
      "text/html": [
       "<div>\n",
       "<style scoped>\n",
       "    .dataframe tbody tr th:only-of-type {\n",
       "        vertical-align: middle;\n",
       "    }\n",
       "\n",
       "    .dataframe tbody tr th {\n",
       "        vertical-align: top;\n",
       "    }\n",
       "\n",
       "    .dataframe thead th {\n",
       "        text-align: right;\n",
       "    }\n",
       "</style>\n",
       "<table border=\"1\" class=\"dataframe\">\n",
       "  <thead>\n",
       "    <tr style=\"text-align: right;\">\n",
       "      <th></th>\n",
       "      <th>CREDIT_TERM</th>\n",
       "      <th>TARGET</th>\n",
       "    </tr>\n",
       "  </thead>\n",
       "  <tbody>\n",
       "    <tr>\n",
       "      <th>CREDIT_TERM</th>\n",
       "      <td>1.000000</td>\n",
       "      <td>0.027383</td>\n",
       "    </tr>\n",
       "    <tr>\n",
       "      <th>TARGET</th>\n",
       "      <td>0.027383</td>\n",
       "      <td>1.000000</td>\n",
       "    </tr>\n",
       "  </tbody>\n",
       "</table>\n",
       "</div>"
      ],
      "text/plain": [
       "             CREDIT_TERM    TARGET\n",
       "CREDIT_TERM     1.000000  0.027383\n",
       "TARGET          0.027383  1.000000"
      ]
     },
     "execution_count": 30,
     "metadata": {},
     "output_type": "execute_result"
    }
   ],
   "source": [
    "# 標準化\n",
    "num_cols = ['CREDIT_TERM']\n",
    "scaler = StandardScaler()\n",
    "scaler.fit(app_train[num_cols])\n",
    "\n",
    "app_train[num_cols] = scaler.transform(app_train[num_cols])\n",
    "app_test[num_cols] = scaler.transform(app_test[num_cols])\n",
    "app_train[['CREDIT_TERM', 'TARGET']].corr()"
   ]
  },
  {
   "cell_type": "markdown",
   "id": "5c55c90d",
   "metadata": {},
   "source": [
    "### DAYS_EMPLOYED_PERCENT"
   ]
  },
  {
   "cell_type": "code",
   "execution_count": 31,
   "id": "385bdf4c",
   "metadata": {},
   "outputs": [],
   "source": [
    "app_train_domain['DAYS_EMPLOYED_PERCENT'] = app_train_domain['DAYS_EMPLOYED'] / app_train_domain['DAYS_BIRTH']\n",
    "app_test_domain['DAYS_EMPLOYED_PERCENT'] = app_test_domain['DAYS_EMPLOYED'] / app_test_domain['DAYS_BIRTH']"
   ]
  },
  {
   "cell_type": "code",
   "execution_count": 32,
   "id": "24369350",
   "metadata": {},
   "outputs": [
    {
     "data": {
      "text/html": [
       "<div>\n",
       "<style scoped>\n",
       "    .dataframe tbody tr th:only-of-type {\n",
       "        vertical-align: middle;\n",
       "    }\n",
       "\n",
       "    .dataframe tbody tr th {\n",
       "        vertical-align: top;\n",
       "    }\n",
       "\n",
       "    .dataframe thead th {\n",
       "        text-align: right;\n",
       "    }\n",
       "</style>\n",
       "<table border=\"1\" class=\"dataframe\">\n",
       "  <thead>\n",
       "    <tr style=\"text-align: right;\">\n",
       "      <th></th>\n",
       "      <th>DAYS_EMPLOYED_PERCENT</th>\n",
       "      <th>TARGET</th>\n",
       "    </tr>\n",
       "  </thead>\n",
       "  <tbody>\n",
       "    <tr>\n",
       "      <th>DAYS_EMPLOYED_PERCENT</th>\n",
       "      <td>1.000000</td>\n",
       "      <td>0.042206</td>\n",
       "    </tr>\n",
       "    <tr>\n",
       "      <th>TARGET</th>\n",
       "      <td>0.042206</td>\n",
       "      <td>1.000000</td>\n",
       "    </tr>\n",
       "  </tbody>\n",
       "</table>\n",
       "</div>"
      ],
      "text/plain": [
       "                       DAYS_EMPLOYED_PERCENT    TARGET\n",
       "DAYS_EMPLOYED_PERCENT               1.000000  0.042206\n",
       "TARGET                              0.042206  1.000000"
      ]
     },
     "execution_count": 32,
     "metadata": {},
     "output_type": "execute_result"
    }
   ],
   "source": [
    "app_train_domain[['DAYS_EMPLOYED_PERCENT', 'TARGET']].corr()"
   ]
  },
  {
   "cell_type": "code",
   "execution_count": 33,
   "id": "44fe3835",
   "metadata": {},
   "outputs": [
    {
     "name": "stdout",
     "output_type": "stream",
     "text": [
      "The correlation between DAYS_EMPLOYED_PERCENT and the TARGET is 0.0422\n",
      "Median value for loan that was not repaid = 0.0790\n",
      "Median value for loan that was repaid =     0.0898\n"
     ]
    },
    {
     "data": {
      "image/png": "[encoded data removed]",
      "text/plain": [
       "<Figure size 864x432 with 1 Axes>"
      ]
     },
     "metadata": {
      "needs_background": "light"
     },
     "output_type": "display_data"
    }
   ],
   "source": [
    "kde_target('DAYS_EMPLOYED_PERCENT', app_train_domain)"
   ]
  },
  {
   "cell_type": "code",
   "execution_count": 34,
   "id": "68ce816d",
   "metadata": {},
   "outputs": [],
   "source": [
    "app_train['DAYS_EMPLOYED_PERCENT'] = app_train_domain['DAYS_EMPLOYED_PERCENT'].copy()\n",
    "app_test['DAYS_EMPLOYED_PERCENT'] = app_test_domain['DAYS_EMPLOYED_PERCENT'].copy()"
   ]
  },
  {
   "cell_type": "code",
   "execution_count": 35,
   "id": "702c4c43",
   "metadata": {},
   "outputs": [
    {
     "data": {
      "text/html": [
       "<div>\n",
       "<style scoped>\n",
       "    .dataframe tbody tr th:only-of-type {\n",
       "        vertical-align: middle;\n",
       "    }\n",
       "\n",
       "    .dataframe tbody tr th {\n",
       "        vertical-align: top;\n",
       "    }\n",
       "\n",
       "    .dataframe thead th {\n",
       "        text-align: right;\n",
       "    }\n",
       "</style>\n",
       "<table border=\"1\" class=\"dataframe\">\n",
       "  <thead>\n",
       "    <tr style=\"text-align: right;\">\n",
       "      <th></th>\n",
       "      <th>DAYS_EMPLOYED_PERCENT</th>\n",
       "      <th>TARGET</th>\n",
       "    </tr>\n",
       "  </thead>\n",
       "  <tbody>\n",
       "    <tr>\n",
       "      <th>DAYS_EMPLOYED_PERCENT</th>\n",
       "      <td>1.000000</td>\n",
       "      <td>0.042206</td>\n",
       "    </tr>\n",
       "    <tr>\n",
       "      <th>TARGET</th>\n",
       "      <td>0.042206</td>\n",
       "      <td>1.000000</td>\n",
       "    </tr>\n",
       "  </tbody>\n",
       "</table>\n",
       "</div>"
      ],
      "text/plain": [
       "                       DAYS_EMPLOYED_PERCENT    TARGET\n",
       "DAYS_EMPLOYED_PERCENT               1.000000  0.042206\n",
       "TARGET                              0.042206  1.000000"
      ]
     },
     "execution_count": 35,
     "metadata": {},
     "output_type": "execute_result"
    }
   ],
   "source": [
    "# 標準化\n",
    "num_cols = ['DAYS_EMPLOYED_PERCENT']\n",
    "scaler = StandardScaler()\n",
    "scaler.fit(app_train[num_cols])\n",
    "\n",
    "app_train[num_cols] = scaler.transform(app_train[num_cols])\n",
    "app_test[num_cols] = scaler.transform(app_test[num_cols])\n",
    "app_train[['DAYS_EMPLOYED_PERCENT', 'TARGET']].corr()"
   ]
  },
  {
   "cell_type": "markdown",
   "id": "3d90c88c",
   "metadata": {},
   "source": [
    "### YEARS_BIRTH"
   ]
  },
  {
   "cell_type": "code",
   "execution_count": 36,
   "id": "75065c98",
   "metadata": {},
   "outputs": [
    {
     "data": {
      "text/html": [
       "<div>\n",
       "<style scoped>\n",
       "    .dataframe tbody tr th:only-of-type {\n",
       "        vertical-align: middle;\n",
       "    }\n",
       "\n",
       "    .dataframe tbody tr th {\n",
       "        vertical-align: top;\n",
       "    }\n",
       "\n",
       "    .dataframe thead th {\n",
       "        text-align: right;\n",
       "    }\n",
       "</style>\n",
       "<table border=\"1\" class=\"dataframe\">\n",
       "  <thead>\n",
       "    <tr style=\"text-align: right;\">\n",
       "      <th></th>\n",
       "      <th>YEARS_BIRTH</th>\n",
       "      <th>TARGET</th>\n",
       "    </tr>\n",
       "  </thead>\n",
       "  <tbody>\n",
       "    <tr>\n",
       "      <th>YEARS_BIRTH</th>\n",
       "      <td>1.000000</td>\n",
       "      <td>0.078239</td>\n",
       "    </tr>\n",
       "    <tr>\n",
       "      <th>TARGET</th>\n",
       "      <td>0.078239</td>\n",
       "      <td>1.000000</td>\n",
       "    </tr>\n",
       "  </tbody>\n",
       "</table>\n",
       "</div>"
      ],
      "text/plain": [
       "             YEARS_BIRTH    TARGET\n",
       "YEARS_BIRTH     1.000000  0.078239\n",
       "TARGET          0.078239  1.000000"
      ]
     },
     "execution_count": 36,
     "metadata": {},
     "output_type": "execute_result"
    }
   ],
   "source": [
    "app_train_domain['YEARS_BIRTH'] = app_train_domain['DAYS_BIRTH'] / 365\n",
    "app_test_domain['YEARS_BIRTH'] = app_test_domain['DAYS_BIRTH'] / 365\n",
    "app_train_domain[['YEARS_BIRTH', 'TARGET']].corr()"
   ]
  },
  {
   "cell_type": "code",
   "execution_count": 37,
   "id": "17652cde",
   "metadata": {},
   "outputs": [
    {
     "name": "stdout",
     "output_type": "stream",
     "text": [
      "The correlation between YEARS_BIRTH and the TARGET is 0.0782\n",
      "Median value for loan that was not repaid = -39.1288\n",
      "Median value for loan that was repaid =     -43.4986\n"
     ]
    },
    {
     "data": {
      "image/png": "[encoded data removed]",
      "text/plain": [
       "<Figure size 864x432 with 1 Axes>"
      ]
     },
     "metadata": {
      "needs_background": "light"
     },
     "output_type": "display_data"
    }
   ],
   "source": [
    "kde_target('YEARS_BIRTH', app_train_domain)"
   ]
  },
  {
   "cell_type": "code",
   "execution_count": 38,
   "id": "990b9f03",
   "metadata": {},
   "outputs": [],
   "source": [
    "app_train['YEARS_BIRTH'] = app_train_domain['YEARS_BIRTH'].copy()\n",
    "app_test['YEARS_BIRTH'] = app_test_domain['YEARS_BIRTH'].copy()"
   ]
  },
  {
   "cell_type": "code",
   "execution_count": 39,
   "id": "1365a8ff",
   "metadata": {},
   "outputs": [
    {
     "data": {
      "text/html": [
       "<div>\n",
       "<style scoped>\n",
       "    .dataframe tbody tr th:only-of-type {\n",
       "        vertical-align: middle;\n",
       "    }\n",
       "\n",
       "    .dataframe tbody tr th {\n",
       "        vertical-align: top;\n",
       "    }\n",
       "\n",
       "    .dataframe thead th {\n",
       "        text-align: right;\n",
       "    }\n",
       "</style>\n",
       "<table border=\"1\" class=\"dataframe\">\n",
       "  <thead>\n",
       "    <tr style=\"text-align: right;\">\n",
       "      <th></th>\n",
       "      <th>YEARS_BIRTH</th>\n",
       "      <th>TARGET</th>\n",
       "    </tr>\n",
       "  </thead>\n",
       "  <tbody>\n",
       "    <tr>\n",
       "      <th>YEARS_BIRTH</th>\n",
       "      <td>1.000000</td>\n",
       "      <td>0.078239</td>\n",
       "    </tr>\n",
       "    <tr>\n",
       "      <th>TARGET</th>\n",
       "      <td>0.078239</td>\n",
       "      <td>1.000000</td>\n",
       "    </tr>\n",
       "  </tbody>\n",
       "</table>\n",
       "</div>"
      ],
      "text/plain": [
       "             YEARS_BIRTH    TARGET\n",
       "YEARS_BIRTH     1.000000  0.078239\n",
       "TARGET          0.078239  1.000000"
      ]
     },
     "execution_count": 39,
     "metadata": {},
     "output_type": "execute_result"
    }
   ],
   "source": [
    "# 標準化\n",
    "num_cols = ['YEARS_BIRTH']\n",
    "scaler = StandardScaler()\n",
    "scaler.fit(app_train[num_cols])\n",
    "\n",
    "app_train[num_cols] = scaler.transform(app_train[num_cols])\n",
    "app_test[num_cols] = scaler.transform(app_test[num_cols])\n",
    "app_train[['YEARS_BIRTH', 'TARGET']].corr()"
   ]
  },
  {
   "cell_type": "markdown",
   "id": "e1878123",
   "metadata": {},
   "source": [
    "### CREDIT_ANNUITY_RATIO"
   ]
  },
  {
   "cell_type": "code",
   "execution_count": 40,
   "id": "e401afd6",
   "metadata": {},
   "outputs": [
    {
     "data": {
      "text/html": [
       "<div>\n",
       "<style scoped>\n",
       "    .dataframe tbody tr th:only-of-type {\n",
       "        vertical-align: middle;\n",
       "    }\n",
       "\n",
       "    .dataframe tbody tr th {\n",
       "        vertical-align: top;\n",
       "    }\n",
       "\n",
       "    .dataframe thead th {\n",
       "        text-align: right;\n",
       "    }\n",
       "</style>\n",
       "<table border=\"1\" class=\"dataframe\">\n",
       "  <thead>\n",
       "    <tr style=\"text-align: right;\">\n",
       "      <th></th>\n",
       "      <th>CREDIT_ANNUITY_RATIO</th>\n",
       "      <th>TARGET</th>\n",
       "    </tr>\n",
       "  </thead>\n",
       "  <tbody>\n",
       "    <tr>\n",
       "      <th>CREDIT_ANNUITY_RATIO</th>\n",
       "      <td>1.000000</td>\n",
       "      <td>-0.032102</td>\n",
       "    </tr>\n",
       "    <tr>\n",
       "      <th>TARGET</th>\n",
       "      <td>-0.032102</td>\n",
       "      <td>1.000000</td>\n",
       "    </tr>\n",
       "  </tbody>\n",
       "</table>\n",
       "</div>"
      ],
      "text/plain": [
       "                      CREDIT_ANNUITY_RATIO    TARGET\n",
       "CREDIT_ANNUITY_RATIO              1.000000 -0.032102\n",
       "TARGET                           -0.032102  1.000000"
      ]
     },
     "execution_count": 40,
     "metadata": {},
     "output_type": "execute_result"
    }
   ],
   "source": [
    "app_train_domain['CREDIT_ANNUITY_RATIO'] = app_train_domain['AMT_CREDIT']/app_train['AMT_ANNUITY']\n",
    "app_test_domain['CREDIT_ANNUITY_RATIO'] = app_test_domain['AMT_CREDIT']/app_test['AMT_ANNUITY']\n",
    "app_train_domain[['CREDIT_ANNUITY_RATIO', 'TARGET']].corr()"
   ]
  },
  {
   "cell_type": "code",
   "execution_count": 41,
   "id": "b44dcb3b",
   "metadata": {},
   "outputs": [
    {
     "name": "stdout",
     "output_type": "stream",
     "text": [
      "The correlation between CREDIT_ANNUITY_RATIO and the TARGET is -0.0321\n",
      "Median value for loan that was not repaid = 20.0000\n",
      "Median value for loan that was repaid =     20.0000\n"
     ]
    },
    {
     "data": {
      "image/png": "[encoded data removed]",
      "text/plain": [
       "<Figure size 864x432 with 1 Axes>"
      ]
     },
     "metadata": {
      "needs_background": "light"
     },
     "output_type": "display_data"
    }
   ],
   "source": [
    "kde_target('CREDIT_ANNUITY_RATIO', app_train_domain)"
   ]
  },
  {
   "cell_type": "code",
   "execution_count": 42,
   "id": "f9d51824",
   "metadata": {},
   "outputs": [],
   "source": [
    "## Yao-Johnson変換\n",
    "#num_cols = ['CREDIT_ANNUITY_RATIO']\n",
    "### 学習データに基づいてYao-Johnson変換を定義\n",
    "#pt = PowerTransformer(method = 'yeo-johnson')\n",
    "#pt.fit(app_train_domain[num_cols].copy())\n",
    "\n",
    "### 変換後のデータで各列を置換\n",
    "#app_train_domain['CREDIT_ANNUITY_RATIO'] = pt.transform(app_train_domain[num_cols])\n",
    "#app_test_domain['CREDIT_ANNUITY_RATIO'] = pt.transform(app_test_domain[num_cols])\n",
    "\n",
    "#app_train_domain[['CREDIT_ANNUITY_RATIO', 'TARGET']].corr()"
   ]
  },
  {
   "cell_type": "code",
   "execution_count": 43,
   "id": "55821a9f",
   "metadata": {},
   "outputs": [],
   "source": [
    "## Yao-Johnson変換後の特徴量の分布\n",
    "# kde_target('REGION_POPULATION_RELATIVE', app_train)"
   ]
  },
  {
   "cell_type": "code",
   "execution_count": 44,
   "id": "24e67913",
   "metadata": {},
   "outputs": [],
   "source": [
    "app_train['CREDIT_ANNUITY_RATIO'] = app_train_domain['CREDIT_ANNUITY_RATIO'].copy()\n",
    "app_test['CREDIT_ANNUITY_RATIO'] = app_test_domain['CREDIT_ANNUITY_RATIO'].copy()"
   ]
  },
  {
   "cell_type": "code",
   "execution_count": 45,
   "id": "b83ebe4a",
   "metadata": {},
   "outputs": [
    {
     "data": {
      "text/html": [
       "<div>\n",
       "<style scoped>\n",
       "    .dataframe tbody tr th:only-of-type {\n",
       "        vertical-align: middle;\n",
       "    }\n",
       "\n",
       "    .dataframe tbody tr th {\n",
       "        vertical-align: top;\n",
       "    }\n",
       "\n",
       "    .dataframe thead th {\n",
       "        text-align: right;\n",
       "    }\n",
       "</style>\n",
       "<table border=\"1\" class=\"dataframe\">\n",
       "  <thead>\n",
       "    <tr style=\"text-align: right;\">\n",
       "      <th></th>\n",
       "      <th>CREDIT_ANNUITY_RATIO</th>\n",
       "      <th>TARGET</th>\n",
       "    </tr>\n",
       "  </thead>\n",
       "  <tbody>\n",
       "    <tr>\n",
       "      <th>CREDIT_ANNUITY_RATIO</th>\n",
       "      <td>1.000000</td>\n",
       "      <td>-0.032102</td>\n",
       "    </tr>\n",
       "    <tr>\n",
       "      <th>TARGET</th>\n",
       "      <td>-0.032102</td>\n",
       "      <td>1.000000</td>\n",
       "    </tr>\n",
       "  </tbody>\n",
       "</table>\n",
       "</div>"
      ],
      "text/plain": [
       "                      CREDIT_ANNUITY_RATIO    TARGET\n",
       "CREDIT_ANNUITY_RATIO              1.000000 -0.032102\n",
       "TARGET                           -0.032102  1.000000"
      ]
     },
     "execution_count": 45,
     "metadata": {},
     "output_type": "execute_result"
    }
   ],
   "source": [
    "# 標準化\n",
    "num_cols = ['CREDIT_ANNUITY_RATIO']\n",
    "scaler = StandardScaler()\n",
    "scaler.fit(app_train[num_cols])\n",
    "\n",
    "app_train[num_cols] = scaler.transform(app_train[num_cols])\n",
    "app_test[num_cols] = scaler.transform(app_test[num_cols])\n",
    "app_train[['CREDIT_ANNUITY_RATIO', 'TARGET']].corr()"
   ]
  },
  {
   "cell_type": "markdown",
   "id": "018853d3",
   "metadata": {},
   "source": [
    "## 前処理(application)"
   ]
  },
  {
   "cell_type": "markdown",
   "id": "0bf18203",
   "metadata": {},
   "source": [
    "### 欠損値の補完\n",
    "(参)https://qiita.com/FukuharaYohei/items/9830d5760595619352a5"
   ]
  },
  {
   "cell_type": "code",
   "execution_count": 46,
   "id": "110fc607",
   "metadata": {},
   "outputs": [
    {
     "ename": "KeyboardInterrupt",
     "evalue": "",
     "output_type": "error",
     "traceback": [
      "\u001b[1;31m---------------------------------------------------------------------------\u001b[0m",
      "\u001b[1;31mKeyboardInterrupt\u001b[0m                         Traceback (most recent call last)",
      "\u001b[1;32m~\\AppData\\Local\\Temp/ipykernel_9512/2056791902.py\u001b[0m in \u001b[0;36m<module>\u001b[1;34m\u001b[0m\n\u001b[0;32m      1\u001b[0m \u001b[0mimputer\u001b[0m \u001b[1;33m=\u001b[0m \u001b[0mIterativeImputer\u001b[0m\u001b[1;33m(\u001b[0m\u001b[1;33m)\u001b[0m\u001b[1;33m\u001b[0m\u001b[1;33m\u001b[0m\u001b[0m\n\u001b[0;32m      2\u001b[0m \u001b[0mreplace_columns\u001b[0m \u001b[1;33m=\u001b[0m \u001b[0mlist\u001b[0m\u001b[1;33m(\u001b[0m\u001b[0mapp_test\u001b[0m\u001b[1;33m.\u001b[0m\u001b[0mselect_dtypes\u001b[0m\u001b[1;33m(\u001b[0m\u001b[0minclude\u001b[0m\u001b[1;33m=\u001b[0m\u001b[1;34m'number'\u001b[0m\u001b[1;33m)\u001b[0m\u001b[1;33m.\u001b[0m\u001b[0mcolumns\u001b[0m\u001b[1;33m)\u001b[0m\u001b[1;33m\u001b[0m\u001b[1;33m\u001b[0m\u001b[0m\n\u001b[1;32m----> 3\u001b[1;33m \u001b[0mapp_train_replace\u001b[0m \u001b[1;33m=\u001b[0m \u001b[0mpd\u001b[0m\u001b[1;33m.\u001b[0m\u001b[0mDataFrame\u001b[0m\u001b[1;33m(\u001b[0m\u001b[0mimputer\u001b[0m\u001b[1;33m.\u001b[0m\u001b[0mfit_transform\u001b[0m\u001b[1;33m(\u001b[0m\u001b[0mapp_train\u001b[0m\u001b[1;33m[\u001b[0m\u001b[0mreplace_columns\u001b[0m\u001b[1;33m]\u001b[0m\u001b[1;33m.\u001b[0m\u001b[0mcopy\u001b[0m\u001b[1;33m(\u001b[0m\u001b[1;33m)\u001b[0m\u001b[1;33m)\u001b[0m\u001b[1;33m,\u001b[0m \u001b[0mcolumns\u001b[0m\u001b[1;33m=\u001b[0m\u001b[0mreplace_columns\u001b[0m\u001b[1;33m)\u001b[0m\u001b[1;33m\u001b[0m\u001b[1;33m\u001b[0m\u001b[0m\n\u001b[0m\u001b[0;32m      4\u001b[0m \u001b[0mapp_test_replace\u001b[0m \u001b[1;33m=\u001b[0m \u001b[0mpd\u001b[0m\u001b[1;33m.\u001b[0m\u001b[0mDataFrame\u001b[0m\u001b[1;33m(\u001b[0m\u001b[0mimputer\u001b[0m\u001b[1;33m.\u001b[0m\u001b[0mfit_transform\u001b[0m\u001b[1;33m(\u001b[0m\u001b[0mapp_test\u001b[0m\u001b[1;33m[\u001b[0m\u001b[0mreplace_columns\u001b[0m\u001b[1;33m]\u001b[0m\u001b[1;33m.\u001b[0m\u001b[0mcopy\u001b[0m\u001b[1;33m(\u001b[0m\u001b[1;33m)\u001b[0m\u001b[1;33m)\u001b[0m\u001b[1;33m,\u001b[0m \u001b[0mcolumns\u001b[0m\u001b[1;33m=\u001b[0m\u001b[0mreplace_columns\u001b[0m\u001b[1;33m)\u001b[0m\u001b[1;33m\u001b[0m\u001b[1;33m\u001b[0m\u001b[0m\n",
      "\u001b[1;32mC:\\ProgramData\\Anaconda3\\lib\\site-packages\\sklearn\\impute\\_iterative.py\u001b[0m in \u001b[0;36mfit_transform\u001b[1;34m(self, X, y)\u001b[0m\n\u001b[0;32m    663\u001b[0m                     \u001b[0mn_features\u001b[0m\u001b[1;33m,\u001b[0m \u001b[0mfeat_idx\u001b[0m\u001b[1;33m,\u001b[0m \u001b[0mabs_corr_mat\u001b[0m\u001b[1;33m\u001b[0m\u001b[1;33m\u001b[0m\u001b[0m\n\u001b[0;32m    664\u001b[0m                 )\n\u001b[1;32m--> 665\u001b[1;33m                 Xt, estimator = self._impute_one_feature(\n\u001b[0m\u001b[0;32m    666\u001b[0m                     \u001b[0mXt\u001b[0m\u001b[1;33m,\u001b[0m\u001b[1;33m\u001b[0m\u001b[1;33m\u001b[0m\u001b[0m\n\u001b[0;32m    667\u001b[0m                     \u001b[0mmask_missing_values\u001b[0m\u001b[1;33m,\u001b[0m\u001b[1;33m\u001b[0m\u001b[1;33m\u001b[0m\u001b[0m\n",
      "\u001b[1;32mC:\\ProgramData\\Anaconda3\\lib\\site-packages\\sklearn\\impute\\_iterative.py\u001b[0m in \u001b[0;36m_impute_one_feature\u001b[1;34m(self, X_filled, mask_missing_values, feat_idx, neighbor_feat_idx, estimator, fit_mode)\u001b[0m\n\u001b[0;32m    316\u001b[0m             \u001b[0mX_train\u001b[0m \u001b[1;33m=\u001b[0m \u001b[0m_safe_indexing\u001b[0m\u001b[1;33m(\u001b[0m\u001b[0mX_filled\u001b[0m\u001b[1;33m[\u001b[0m\u001b[1;33m:\u001b[0m\u001b[1;33m,\u001b[0m \u001b[0mneighbor_feat_idx\u001b[0m\u001b[1;33m]\u001b[0m\u001b[1;33m,\u001b[0m \u001b[1;33m~\u001b[0m\u001b[0mmissing_row_mask\u001b[0m\u001b[1;33m)\u001b[0m\u001b[1;33m\u001b[0m\u001b[1;33m\u001b[0m\u001b[0m\n\u001b[0;32m    317\u001b[0m             \u001b[0my_train\u001b[0m \u001b[1;33m=\u001b[0m \u001b[0m_safe_indexing\u001b[0m\u001b[1;33m(\u001b[0m\u001b[0mX_filled\u001b[0m\u001b[1;33m[\u001b[0m\u001b[1;33m:\u001b[0m\u001b[1;33m,\u001b[0m \u001b[0mfeat_idx\u001b[0m\u001b[1;33m]\u001b[0m\u001b[1;33m,\u001b[0m \u001b[1;33m~\u001b[0m\u001b[0mmissing_row_mask\u001b[0m\u001b[1;33m)\u001b[0m\u001b[1;33m\u001b[0m\u001b[1;33m\u001b[0m\u001b[0m\n\u001b[1;32m--> 318\u001b[1;33m             \u001b[0mestimator\u001b[0m\u001b[1;33m.\u001b[0m\u001b[0mfit\u001b[0m\u001b[1;33m(\u001b[0m\u001b[0mX_train\u001b[0m\u001b[1;33m,\u001b[0m \u001b[0my_train\u001b[0m\u001b[1;33m)\u001b[0m\u001b[1;33m\u001b[0m\u001b[1;33m\u001b[0m\u001b[0m\n\u001b[0m\u001b[0;32m    319\u001b[0m \u001b[1;33m\u001b[0m\u001b[0m\n\u001b[0;32m    320\u001b[0m         \u001b[1;31m# if no missing values, don't predict\u001b[0m\u001b[1;33m\u001b[0m\u001b[1;33m\u001b[0m\u001b[0m\n",
      "\u001b[1;32mC:\\ProgramData\\Anaconda3\\lib\\site-packages\\sklearn\\linear_model\\_bayes.py\u001b[0m in \u001b[0;36mfit\u001b[1;34m(self, X, y, sample_weight)\u001b[0m\n\u001b[0;32m    281\u001b[0m \u001b[1;33m\u001b[0m\u001b[0m\n\u001b[0;32m    282\u001b[0m         \u001b[0mXT_y\u001b[0m \u001b[1;33m=\u001b[0m \u001b[0mnp\u001b[0m\u001b[1;33m.\u001b[0m\u001b[0mdot\u001b[0m\u001b[1;33m(\u001b[0m\u001b[0mX\u001b[0m\u001b[1;33m.\u001b[0m\u001b[0mT\u001b[0m\u001b[1;33m,\u001b[0m \u001b[0my\u001b[0m\u001b[1;33m)\u001b[0m\u001b[1;33m\u001b[0m\u001b[1;33m\u001b[0m\u001b[0m\n\u001b[1;32m--> 283\u001b[1;33m         \u001b[0mU\u001b[0m\u001b[1;33m,\u001b[0m \u001b[0mS\u001b[0m\u001b[1;33m,\u001b[0m \u001b[0mVh\u001b[0m \u001b[1;33m=\u001b[0m \u001b[0mlinalg\u001b[0m\u001b[1;33m.\u001b[0m\u001b[0msvd\u001b[0m\u001b[1;33m(\u001b[0m\u001b[0mX\u001b[0m\u001b[1;33m,\u001b[0m \u001b[0mfull_matrices\u001b[0m\u001b[1;33m=\u001b[0m\u001b[1;32mFalse\u001b[0m\u001b[1;33m)\u001b[0m\u001b[1;33m\u001b[0m\u001b[1;33m\u001b[0m\u001b[0m\n\u001b[0m\u001b[0;32m    284\u001b[0m         \u001b[0meigen_vals_\u001b[0m \u001b[1;33m=\u001b[0m \u001b[0mS\u001b[0m\u001b[1;33m**\u001b[0m\u001b[1;36m2\u001b[0m\u001b[1;33m\u001b[0m\u001b[1;33m\u001b[0m\u001b[0m\n\u001b[0;32m    285\u001b[0m \u001b[1;33m\u001b[0m\u001b[0m\n",
      "\u001b[1;32mC:\\ProgramData\\Anaconda3\\lib\\site-packages\\scipy\\linalg\\decomp_svd.py\u001b[0m in \u001b[0;36msvd\u001b[1;34m(a, full_matrices, compute_uv, overwrite_a, check_finite, lapack_driver)\u001b[0m\n\u001b[0;32m    125\u001b[0m \u001b[1;33m\u001b[0m\u001b[0m\n\u001b[0;32m    126\u001b[0m     \u001b[1;31m# perform decomposition\u001b[0m\u001b[1;33m\u001b[0m\u001b[1;33m\u001b[0m\u001b[0m\n\u001b[1;32m--> 127\u001b[1;33m     u, s, v, info = gesXd(a1, compute_uv=compute_uv, lwork=lwork,\n\u001b[0m\u001b[0;32m    128\u001b[0m                           full_matrices=full_matrices, overwrite_a=overwrite_a)\n\u001b[0;32m    129\u001b[0m \u001b[1;33m\u001b[0m\u001b[0m\n",
      "\u001b[1;31mKeyboardInterrupt\u001b[0m: "
     ]
    }
   ],
   "source": [
    "imputer = IterativeImputer()\n",
    "replace_columns = list(app_test.select_dtypes(include='number').columns)\n",
    "app_train_replace = pd.DataFrame(imputer.fit_transform(app_train[replace_columns].copy()), columns=replace_columns)\n",
    "app_test_replace = pd.DataFrame(imputer.fit_transform(app_test[replace_columns].copy()), columns=replace_columns)"
   ]
  },
  {
   "cell_type": "code",
   "execution_count": null,
   "id": "a5e6df98",
   "metadata": {},
   "outputs": [],
   "source": [
    "app_train[replace_columns] = app_train_replace[replace_columns]\n",
    "app_test[replace_columns] = app_test_replace[replace_columns]"
   ]
  },
  {
   "cell_type": "markdown",
   "id": "0b4d3344",
   "metadata": {},
   "source": [
    "### NAME_CONTRACT_TYPE"
   ]
  },
  {
   "cell_type": "code",
   "execution_count": null,
   "id": "e8797c33",
   "metadata": {},
   "outputs": [],
   "source": [
    "app_train['NAME_CONTRACT_TYPE'].isnull().sum()"
   ]
  },
  {
   "cell_type": "code",
   "execution_count": null,
   "id": "6398fac6",
   "metadata": {},
   "outputs": [],
   "source": [
    "app_train['NAME_CONTRACT_TYPE'].value_counts()"
   ]
  },
  {
   "cell_type": "code",
   "execution_count": null,
   "id": "3f04dea0",
   "metadata": {},
   "outputs": [],
   "source": [
    "# 学習データとテストデータを結合しget_dummiesによるone-hot encodingを行う\n",
    "cat_cols = ['NAME_CONTRACT_TYPE']\n",
    "all_x = pd.concat([app_train, app_test])\n",
    "all_x = pd.get_dummies(all_x, columns=cat_cols)\n",
    "\n",
    "# 学習データとテストデータを分割\n",
    "app_train = all_x.iloc[:app_train.shape[0], :].reset_index(drop=True)\n",
    "app_test  = all_x.iloc[app_train.shape[0]:, :].reset_index(drop=True)"
   ]
  },
  {
   "cell_type": "code",
   "execution_count": null,
   "id": "81a35354",
   "metadata": {},
   "outputs": [],
   "source": [
    "app_train.head()"
   ]
  },
  {
   "cell_type": "code",
   "execution_count": null,
   "id": "35530f1d",
   "metadata": {},
   "outputs": [],
   "source": [
    "len(app_train)"
   ]
  },
  {
   "cell_type": "code",
   "execution_count": null,
   "id": "90cc52c5",
   "metadata": {},
   "outputs": [],
   "source": [
    "len(app_test)"
   ]
  },
  {
   "cell_type": "markdown",
   "id": "28b680ab",
   "metadata": {},
   "source": [
    "### CODE_GENDER"
   ]
  },
  {
   "cell_type": "code",
   "execution_count": null,
   "id": "e4633efd",
   "metadata": {},
   "outputs": [],
   "source": [
    "app_train['CODE_GENDER'].isnull().sum()"
   ]
  },
  {
   "cell_type": "code",
   "execution_count": null,
   "id": "f4ee6cd5",
   "metadata": {},
   "outputs": [],
   "source": [
    "app_train['CODE_GENDER'].value_counts()"
   ]
  },
  {
   "cell_type": "code",
   "execution_count": null,
   "id": "ef942456",
   "metadata": {},
   "outputs": [],
   "source": [
    "# 学習データとテストデータを結合しget_dummiesによるone-hot encodingを行う\n",
    "cat_cols = ['CODE_GENDER']\n",
    "all_x = pd.concat([app_train, app_test])\n",
    "all_x = pd.get_dummies(all_x, columns=cat_cols)\n",
    "\n",
    "# 学習データとテストデータを分割\n",
    "app_train = all_x.iloc[:app_train.shape[0], :].reset_index(drop=True)\n",
    "app_test  = all_x.iloc[app_train.shape[0]:, :].reset_index(drop=True)\n",
    "\n",
    "app_train.head()"
   ]
  },
  {
   "cell_type": "code",
   "execution_count": null,
   "id": "f151a959",
   "metadata": {},
   "outputs": [],
   "source": [
    "len(app_train)"
   ]
  },
  {
   "cell_type": "code",
   "execution_count": null,
   "id": "442e5d32",
   "metadata": {},
   "outputs": [],
   "source": [
    "len(app_test)"
   ]
  },
  {
   "cell_type": "markdown",
   "id": "dbb48c74",
   "metadata": {},
   "source": [
    "### FLAG_OWN_CAR"
   ]
  },
  {
   "cell_type": "code",
   "execution_count": null,
   "id": "6666ec67",
   "metadata": {},
   "outputs": [],
   "source": [
    "app_train['FLAG_OWN_CAR'].isnull().sum()"
   ]
  },
  {
   "cell_type": "code",
   "execution_count": null,
   "id": "3e528172",
   "metadata": {},
   "outputs": [],
   "source": [
    "app_train['FLAG_OWN_CAR'].value_counts()"
   ]
  },
  {
   "cell_type": "code",
   "execution_count": null,
   "id": "1f2a767d",
   "metadata": {},
   "outputs": [],
   "source": [
    "replace_columns = app_train['FLAG_OWN_CAR'].unique().tolist()\n",
    "replace_columns = ['xxxx' if e == \"NaN\" or type(e) is float and math.isnan(e) else e for e in replace_columns]\n",
    "###replace_columns.remove('xxxx')\n",
    "replace_value = [x for x in range(len(replace_columns))]\n",
    "app_train['FLAG_OWN_CAR'].replace(replace_columns, replace_value, inplace=True)\n",
    "app_test['FLAG_OWN_CAR'].replace(replace_columns, replace_value, inplace=True)\n",
    "app_train['FLAG_OWN_CAR'].value_counts()"
   ]
  },
  {
   "cell_type": "code",
   "execution_count": null,
   "id": "1a6f79ef",
   "metadata": {},
   "outputs": [],
   "source": [
    "## 標準化\n",
    "num_cols = ['FLAG_OWN_CAR']\n",
    "scaler = StandardScaler()\n",
    "scaler.fit(app_train[num_cols])\n",
    "\n",
    "app_train[num_cols] = scaler.transform(app_train[num_cols])\n",
    "app_test[num_cols] = scaler.transform(app_test[num_cols])\n",
    "app_train[['FLAG_OWN_CAR', 'TARGET']].corr()"
   ]
  },
  {
   "cell_type": "code",
   "execution_count": null,
   "id": "bb9b1f03",
   "metadata": {},
   "outputs": [],
   "source": [
    "sns.countplot(x='FLAG_OWN_CAR', hue='TARGET', data=app_train)\n",
    "plt.legend(loc='upper right', title='TARGET')\n",
    "plt.show()"
   ]
  },
  {
   "cell_type": "markdown",
   "id": "fc16bd28",
   "metadata": {},
   "source": [
    "### FLAG_OWN_REALTY"
   ]
  },
  {
   "cell_type": "code",
   "execution_count": null,
   "id": "c523814f",
   "metadata": {},
   "outputs": [],
   "source": [
    "app_train['FLAG_OWN_REALTY'].isnull().sum()"
   ]
  },
  {
   "cell_type": "code",
   "execution_count": null,
   "id": "98659df8",
   "metadata": {},
   "outputs": [],
   "source": [
    "app_train['FLAG_OWN_REALTY'].value_counts()"
   ]
  },
  {
   "cell_type": "code",
   "execution_count": null,
   "id": "d1e25418",
   "metadata": {},
   "outputs": [],
   "source": [
    "replace_columns = app_train['FLAG_OWN_REALTY'].unique().tolist()\n",
    "replace_columns = ['xxxx' if e == \"NaN\" or type(e) is float and math.isnan(e) else e for e in replace_columns]\n",
    "###replace_columns.remove('xxxx')\n",
    "replace_value = [x for x in range(len(replace_columns))]\n",
    "app_train['FLAG_OWN_REALTY'].replace(replace_columns, replace_value, inplace=True)\n",
    "app_test['FLAG_OWN_REALTY'].replace(replace_columns, replace_value, inplace=True)\n",
    "app_train['FLAG_OWN_REALTY'].value_counts()"
   ]
  },
  {
   "cell_type": "code",
   "execution_count": null,
   "id": "e0f13582",
   "metadata": {},
   "outputs": [],
   "source": [
    "app_train[['FLAG_OWN_REALTY', 'TARGET']].corr()"
   ]
  },
  {
   "cell_type": "code",
   "execution_count": null,
   "id": "ae22f182",
   "metadata": {},
   "outputs": [],
   "source": [
    "columns = ['FLAG_OWN_REALTY']\n",
    "app_train.drop(columns, axis=1, inplace=True)\n",
    "app_test.drop(columns, axis=1, inplace=True)"
   ]
  },
  {
   "cell_type": "markdown",
   "id": "cf220865",
   "metadata": {},
   "source": [
    "### CNT_CHILDREN"
   ]
  },
  {
   "cell_type": "code",
   "execution_count": null,
   "id": "9633052d",
   "metadata": {},
   "outputs": [],
   "source": [
    "app_train['CNT_CHILDREN'].isnull().sum()"
   ]
  },
  {
   "cell_type": "code",
   "execution_count": null,
   "id": "f003e024",
   "metadata": {},
   "outputs": [],
   "source": [
    "app_train['CNT_CHILDREN'].value_counts()"
   ]
  },
  {
   "cell_type": "code",
   "execution_count": null,
   "id": "1cb65d82",
   "metadata": {},
   "outputs": [],
   "source": [
    "%matplotlib inline\n",
    "sns.countplot(x='CNT_CHILDREN', hue='TARGET', data=app_train)\n",
    "plt.legend(loc='upper right', title='TARGET')\n",
    "plt.show()"
   ]
  },
  {
   "cell_type": "code",
   "execution_count": null,
   "id": "2a34199c",
   "metadata": {},
   "outputs": [],
   "source": [
    "# 標準化\n",
    "num_cols = ['CNT_CHILDREN']\n",
    "scaler = StandardScaler()\n",
    "scaler.fit(app_train[num_cols])\n",
    "\n",
    "app_train[num_cols] = scaler.transform(app_train[num_cols])\n",
    "app_test[num_cols] = scaler.transform(app_test[num_cols])\n",
    "app_train[['CNT_CHILDREN', 'TARGET']].corr()"
   ]
  },
  {
   "cell_type": "markdown",
   "id": "535fbd58",
   "metadata": {},
   "source": [
    "### AMT_INCOME_TOTAL"
   ]
  },
  {
   "cell_type": "code",
   "execution_count": null,
   "id": "2bad4b02",
   "metadata": {},
   "outputs": [],
   "source": [
    "app_train['AMT_INCOME_TOTAL'].isnull().sum()"
   ]
  },
  {
   "cell_type": "code",
   "execution_count": null,
   "id": "a7cd8a24",
   "metadata": {},
   "outputs": [],
   "source": [
    "app_train['AMT_INCOME_TOTAL'].value_counts()"
   ]
  },
  {
   "cell_type": "code",
   "execution_count": null,
   "id": "1753275c",
   "metadata": {},
   "outputs": [],
   "source": [
    "app_train[['AMT_INCOME_TOTAL','TARGET']].corr()"
   ]
  },
  {
   "cell_type": "code",
   "execution_count": null,
   "id": "62247e81",
   "metadata": {},
   "outputs": [],
   "source": [
    "kde_target('AMT_INCOME_TOTAL', app_train)"
   ]
  },
  {
   "cell_type": "markdown",
   "id": "6a4bc678",
   "metadata": {},
   "source": [
    "### AMT_CREDIT"
   ]
  },
  {
   "cell_type": "code",
   "execution_count": null,
   "id": "f59a4acc",
   "metadata": {},
   "outputs": [],
   "source": [
    "app_train['FLAG_OWN_CAR'].isnull().sum()"
   ]
  },
  {
   "cell_type": "code",
   "execution_count": null,
   "id": "75d3c1ff",
   "metadata": {},
   "outputs": [],
   "source": [
    "app_train['FLAG_OWN_CAR'].value_counts()"
   ]
  },
  {
   "cell_type": "code",
   "execution_count": null,
   "id": "1d267031",
   "metadata": {},
   "outputs": [],
   "source": [
    "replace_columns = app_train['FLAG_OWN_CAR'].unique().tolist()\n",
    "replace_columns = ['xxxx' if e == \"NaN\" or type(e) is float and math.isnan(e) else e for e in replace_columns]\n",
    "###replace_columns.remove('xxxx')\n",
    "replace_value = [x for x in range(len(replace_columns))]\n",
    "app_train['FLAG_OWN_CAR'].replace(replace_columns, replace_value, inplace=True)\n",
    "app_test['FLAG_OWN_CAR'].replace(replace_columns, replace_value, inplace=True)\n",
    "app_train['FLAG_OWN_CAR'].value_counts()\n",
    "\n",
    "app_train[['FLAG_OWN_CAR', 'TARGET']].corr()"
   ]
  },
  {
   "cell_type": "code",
   "execution_count": null,
   "id": "213b732e",
   "metadata": {},
   "outputs": [],
   "source": [
    "## 標準化\n",
    "num_cols = ['FLAG_OWN_CAR']\n",
    "scaler = StandardScaler()\n",
    "scaler.fit(app_train[num_cols])\n",
    "\n",
    "app_train[num_cols] = scaler.transform(app_train[num_cols])\n",
    "app_test[num_cols] = scaler.transform(app_test[num_cols])\n",
    "app_train[['FLAG_OWN_CAR', 'TARGET']].corr()"
   ]
  },
  {
   "cell_type": "code",
   "execution_count": null,
   "id": "9b8431d1",
   "metadata": {},
   "outputs": [],
   "source": [
    "sns.countplot(x='FLAG_OWN_CAR', hue='TARGET', data=app_train)\n",
    "plt.legend(loc='upper right', title='TARGET')\n",
    "plt.show()"
   ]
  },
  {
   "cell_type": "markdown",
   "id": "9c039f0f",
   "metadata": {},
   "source": [
    "### AMT_ANNUITY"
   ]
  },
  {
   "cell_type": "code",
   "execution_count": null,
   "id": "dfa58a58",
   "metadata": {},
   "outputs": [],
   "source": [
    "app_train['AMT_ANNUITY'].isnull().sum()"
   ]
  },
  {
   "cell_type": "code",
   "execution_count": null,
   "id": "abe098ee",
   "metadata": {},
   "outputs": [],
   "source": [
    "app_train['AMT_ANNUITY'].value_counts()"
   ]
  },
  {
   "cell_type": "code",
   "execution_count": null,
   "id": "a06b9237",
   "metadata": {},
   "outputs": [],
   "source": [
    "app_train['AMT_ANNUITY'].fillna(0, inplace=True)\n",
    "app_test['AMT_ANNUITY'].fillna(0, inplace=True)"
   ]
  },
  {
   "cell_type": "code",
   "execution_count": null,
   "id": "911208d8",
   "metadata": {},
   "outputs": [],
   "source": [
    "app_train[['AMT_ANNUITY','TARGET']].corr()"
   ]
  },
  {
   "cell_type": "code",
   "execution_count": null,
   "id": "e750f1e6",
   "metadata": {},
   "outputs": [],
   "source": [
    "kde_target('AMT_ANNUITY', app_train)"
   ]
  },
  {
   "cell_type": "code",
   "execution_count": null,
   "id": "41871cb1",
   "metadata": {},
   "outputs": [],
   "source": [
    "## Yao-Johnson変換\n",
    "#num_cols = ['AMT_ANNUITY']\n",
    "### 学習データに基づいてYao-Johnson変換を定義\n",
    "#pt = PowerTransformer(method = 'yeo-johnson')\n",
    "#pt.fit(app_train[num_cols].copy())\n",
    "\n",
    "### 変換後のデータで各列を置換\n",
    "#app_train['AMT_ANNUITY'] = pt.transform(app_train[num_cols])\n",
    "#app_test['AMT_ANNUITY'] = pt.transform(app_test[num_cols])\n",
    "\n",
    "#app_train[['AMT_ANNUITY', 'TARGET']].corr()"
   ]
  },
  {
   "cell_type": "code",
   "execution_count": null,
   "id": "30c26d5c",
   "metadata": {},
   "outputs": [],
   "source": [
    "## 標準化\n",
    "num_cols = ['AMT_ANNUITY']\n",
    "scaler = StandardScaler()\n",
    "scaler.fit(app_train[num_cols])\n",
    "\n",
    "app_train[num_cols] = scaler.transform(app_train[num_cols])\n",
    "app_test[num_cols] = scaler.transform(app_test[num_cols])\n",
    "app_train[['AMT_ANNUITY', 'TARGET']].corr()"
   ]
  },
  {
   "cell_type": "code",
   "execution_count": null,
   "id": "73424786",
   "metadata": {},
   "outputs": [],
   "source": [
    "## Yao-Johnson変換後の特徴量の分布\n",
    "kde_target('AMT_ANNUITY', app_train)"
   ]
  },
  {
   "cell_type": "markdown",
   "id": "8a69ba09",
   "metadata": {},
   "source": [
    "### AMT_GOODS_PRICE"
   ]
  },
  {
   "cell_type": "code",
   "execution_count": null,
   "id": "b052c497",
   "metadata": {},
   "outputs": [],
   "source": [
    "app_train['AMT_GOODS_PRICE'].isnull().sum()"
   ]
  },
  {
   "cell_type": "code",
   "execution_count": null,
   "id": "83c2b58f",
   "metadata": {},
   "outputs": [],
   "source": [
    "app_train['AMT_GOODS_PRICE'].fillna(0, inplace=True)\n",
    "app_test['AMT_GOODS_PRICE'].fillna(0, inplace=True)"
   ]
  },
  {
   "cell_type": "code",
   "execution_count": null,
   "id": "7b09f5de",
   "metadata": {},
   "outputs": [],
   "source": [
    "app_train['AMT_GOODS_PRICE'].value_counts()"
   ]
  },
  {
   "cell_type": "code",
   "execution_count": null,
   "id": "a197a2f5",
   "metadata": {},
   "outputs": [],
   "source": [
    "app_train[['AMT_GOODS_PRICE','TARGET']].corr()"
   ]
  },
  {
   "cell_type": "code",
   "execution_count": null,
   "id": "596c2c81",
   "metadata": {},
   "outputs": [],
   "source": [
    "kde_target('AMT_GOODS_PRICE', app_train)"
   ]
  },
  {
   "cell_type": "code",
   "execution_count": null,
   "id": "5f2e9d4a",
   "metadata": {},
   "outputs": [],
   "source": [
    "## Yao-Johnson変換\n",
    "#num_cols = ['AMT_GOODS_PRICE']\n",
    "### 学習データに基づいてYao-Johnson変換を定義\n",
    "#pt = PowerTransformer(method = 'yeo-johnson')\n",
    "#pt.fit(app_train[num_cols].copy())\n",
    "\n",
    "### 変換後のデータで各列を置換\n",
    "#app_train['AMT_GOODS_PRICE'] = pt.transform(app_train[num_cols])\n",
    "#app_test['AMT_GOODS_PRICE'] = pt.transform(app_test[num_cols])\n",
    "\n",
    "#app_train[['AMT_GOODS_PRICE', 'TARGET']].corr()"
   ]
  },
  {
   "cell_type": "code",
   "execution_count": null,
   "id": "5215b492",
   "metadata": {},
   "outputs": [],
   "source": [
    "# 標準化\n",
    "num_cols = ['AMT_GOODS_PRICE']\n",
    "scaler = StandardScaler()\n",
    "scaler.fit(app_train[num_cols])\n",
    "\n",
    "app_train[num_cols] = scaler.transform(app_train[num_cols])\n",
    "app_test[num_cols] = scaler.transform(app_test[num_cols])\n",
    "app_train[['AMT_GOODS_PRICE', 'TARGET']].corr()"
   ]
  },
  {
   "cell_type": "code",
   "execution_count": null,
   "id": "015ff805",
   "metadata": {},
   "outputs": [],
   "source": [
    "## Yao-Johnson変換後の特徴量の分布\n",
    "kde_target('AMT_GOODS_PRICE', app_train)"
   ]
  },
  {
   "cell_type": "markdown",
   "id": "16b34baf",
   "metadata": {},
   "source": [
    "### NAME_TYPE_SUITE"
   ]
  },
  {
   "cell_type": "code",
   "execution_count": null,
   "id": "e4532eb8",
   "metadata": {},
   "outputs": [],
   "source": [
    "app_train['NAME_TYPE_SUITE'].isnull().sum()"
   ]
  },
  {
   "cell_type": "code",
   "execution_count": null,
   "id": "a2b6ee1e",
   "metadata": {},
   "outputs": [],
   "source": [
    "app_train['NAME_TYPE_SUITE'].fillna('BLANK', inplace=True)\n",
    "app_test['NAME_TYPE_SUITE'].fillna('BLANK', inplace=True)"
   ]
  },
  {
   "cell_type": "code",
   "execution_count": null,
   "id": "430e8c62",
   "metadata": {},
   "outputs": [],
   "source": [
    "app_train['NAME_TYPE_SUITE'].isnull().sum()"
   ]
  },
  {
   "cell_type": "code",
   "execution_count": null,
   "id": "02ab088d",
   "metadata": {},
   "outputs": [],
   "source": [
    "app_train['NAME_TYPE_SUITE'].value_counts()"
   ]
  },
  {
   "cell_type": "code",
   "execution_count": null,
   "id": "dc3933fa",
   "metadata": {},
   "outputs": [],
   "source": [
    "# 学習データとテストデータを結合しget_dummiesによるone-hot encodingを行う\n",
    "cat_cols = ['NAME_TYPE_SUITE']\n",
    "all_x = pd.concat([app_train, app_test])\n",
    "all_x = pd.get_dummies(all_x, columns=cat_cols)\n",
    "\n",
    "# 学習データとテストデータを分割\n",
    "app_train = all_x.iloc[:app_train.shape[0], :].reset_index(drop=True)\n",
    "app_test  = all_x.iloc[app_train.shape[0]:, :].reset_index(drop=True)\n",
    "\n",
    "app_train.head()"
   ]
  },
  {
   "cell_type": "markdown",
   "id": "212e0a36",
   "metadata": {},
   "source": [
    "### NAME_INCOME_TYPE"
   ]
  },
  {
   "cell_type": "code",
   "execution_count": null,
   "id": "54c297b1",
   "metadata": {},
   "outputs": [],
   "source": [
    "app_train['NAME_INCOME_TYPE'].isnull().sum()"
   ]
  },
  {
   "cell_type": "code",
   "execution_count": null,
   "id": "0e3ab80e",
   "metadata": {},
   "outputs": [],
   "source": [
    "app_train['NAME_INCOME_TYPE'].value_counts()"
   ]
  },
  {
   "cell_type": "code",
   "execution_count": null,
   "id": "1f3ac5be",
   "metadata": {},
   "outputs": [],
   "source": [
    "# 学習データとテストデータを結合しget_dummiesによるone-hot encodingを行う\n",
    "cat_cols = ['NAME_INCOME_TYPE']\n",
    "all_x = pd.concat([app_train, app_test])\n",
    "all_x = pd.get_dummies(all_x, columns=cat_cols)\n",
    "\n",
    "# 学習データとテストデータを分割\n",
    "app_train = all_x.iloc[:app_train.shape[0], :].reset_index(drop=True)\n",
    "app_test  = all_x.iloc[app_train.shape[0]:, :].reset_index(drop=True)\n",
    "\n",
    "app_train.head()"
   ]
  },
  {
   "cell_type": "markdown",
   "id": "523a893b",
   "metadata": {},
   "source": [
    "### NAME_EDUCATION_TYPE"
   ]
  },
  {
   "cell_type": "code",
   "execution_count": null,
   "id": "2df2c0f7",
   "metadata": {},
   "outputs": [],
   "source": [
    "app_train['NAME_EDUCATION_TYPE'].isnull().sum()"
   ]
  },
  {
   "cell_type": "code",
   "execution_count": null,
   "id": "cfe44608",
   "metadata": {},
   "outputs": [],
   "source": [
    "app_train['NAME_EDUCATION_TYPE'].value_counts()"
   ]
  },
  {
   "cell_type": "code",
   "execution_count": null,
   "id": "eaf0352c",
   "metadata": {},
   "outputs": [],
   "source": [
    "# 学習データとテストデータを結合しget_dummiesによるone-hot encodingを行う\n",
    "cat_cols = ['NAME_EDUCATION_TYPE']\n",
    "all_x = pd.concat([app_train, app_test])\n",
    "all_x = pd.get_dummies(all_x, columns=cat_cols)\n",
    "\n",
    "# 学習データとテストデータを分割\n",
    "app_train = all_x.iloc[:app_train.shape[0], :].reset_index(drop=True)\n",
    "app_test  = all_x.iloc[app_train.shape[0]:, :].reset_index(drop=True)\n",
    "\n",
    "app_train.head()"
   ]
  },
  {
   "cell_type": "markdown",
   "id": "8d8f2851",
   "metadata": {},
   "source": [
    "### NAME_FAMILY_STATUS"
   ]
  },
  {
   "cell_type": "code",
   "execution_count": null,
   "id": "1a1ccf41",
   "metadata": {},
   "outputs": [],
   "source": [
    "app_train['NAME_FAMILY_STATUS'].isnull().sum()"
   ]
  },
  {
   "cell_type": "code",
   "execution_count": null,
   "id": "f233b696",
   "metadata": {},
   "outputs": [],
   "source": [
    "app_train['NAME_FAMILY_STATUS'].value_counts()"
   ]
  },
  {
   "cell_type": "code",
   "execution_count": null,
   "id": "efb4cb1e",
   "metadata": {},
   "outputs": [],
   "source": [
    "# 学習データとテストデータを結合しget_dummiesによるone-hot encodingを行う\n",
    "cat_cols = ['NAME_FAMILY_STATUS']\n",
    "all_x = pd.concat([app_train, app_test])\n",
    "all_x = pd.get_dummies(all_x, columns=cat_cols)\n",
    "\n",
    "# 学習データとテストデータを分割\n",
    "app_train = all_x.iloc[:app_train.shape[0], :].reset_index(drop=True)\n",
    "app_test  = all_x.iloc[app_train.shape[0]:, :].reset_index(drop=True)\n",
    "\n",
    "app_train.head()"
   ]
  },
  {
   "cell_type": "markdown",
   "id": "5270dd6c",
   "metadata": {},
   "source": [
    "### NAME_HOUSING_TYPE"
   ]
  },
  {
   "cell_type": "code",
   "execution_count": null,
   "id": "e08cfa38",
   "metadata": {},
   "outputs": [],
   "source": [
    "app_train['NAME_HOUSING_TYPE'].isnull().sum()"
   ]
  },
  {
   "cell_type": "code",
   "execution_count": null,
   "id": "02d7f0da",
   "metadata": {},
   "outputs": [],
   "source": [
    "app_train['NAME_HOUSING_TYPE'].value_counts()"
   ]
  },
  {
   "cell_type": "code",
   "execution_count": null,
   "id": "37c03020",
   "metadata": {},
   "outputs": [],
   "source": [
    "# 学習データとテストデータを結合しget_dummiesによるone-hot encodingを行う\n",
    "cat_cols = ['NAME_HOUSING_TYPE']\n",
    "all_x = pd.concat([app_train, app_test])\n",
    "all_x = pd.get_dummies(all_x, columns=cat_cols)\n",
    "\n",
    "# 学習データとテストデータを分割\n",
    "app_train = all_x.iloc[:app_train.shape[0], :].reset_index(drop=True)\n",
    "app_test  = all_x.iloc[app_train.shape[0]:, :].reset_index(drop=True)\n",
    "\n",
    "app_train.head()"
   ]
  },
  {
   "cell_type": "markdown",
   "id": "1c1f1d39",
   "metadata": {},
   "source": [
    "### REGION_POPULATION_RELATIVE"
   ]
  },
  {
   "cell_type": "code",
   "execution_count": null,
   "id": "efe66c5c",
   "metadata": {},
   "outputs": [],
   "source": [
    "app_train['REGION_POPULATION_RELATIVE'].isnull().sum()"
   ]
  },
  {
   "cell_type": "code",
   "execution_count": null,
   "id": "d055a92d",
   "metadata": {},
   "outputs": [],
   "source": [
    "app_train['REGION_POPULATION_RELATIVE'].value_counts()"
   ]
  },
  {
   "cell_type": "code",
   "execution_count": null,
   "id": "14f8e89d",
   "metadata": {},
   "outputs": [],
   "source": [
    "app_train[['REGION_POPULATION_RELATIVE','TARGET']].corr()"
   ]
  },
  {
   "cell_type": "code",
   "execution_count": null,
   "id": "c93452ec",
   "metadata": {},
   "outputs": [],
   "source": [
    "kde_target('REGION_POPULATION_RELATIVE', app_train)"
   ]
  },
  {
   "cell_type": "code",
   "execution_count": null,
   "id": "e756061c",
   "metadata": {},
   "outputs": [],
   "source": [
    "## Yao-Johnson変換\n",
    "#num_cols = ['REGION_POPULATION_RELATIVE']\n",
    "### 学習データに基づいてYao-Johnson変換を定義\n",
    "#pt = PowerTransformer(method = 'yeo-johnson')\n",
    "#pt.fit(app_train[num_cols].copy())\n",
    "\n",
    "### 変換後のデータで各列を置換\n",
    "#app_train['REGION_POPULATION_RELATIVE'] = pt.transform(app_train[num_cols])\n",
    "#app_test['REGION_POPULATION_RELATIVE'] = pt.transform(app_test[num_cols])\n",
    "\n",
    "#app_train[['REGION_POPULATION_RELATIVE', 'TARGET']].corr()"
   ]
  },
  {
   "cell_type": "code",
   "execution_count": null,
   "id": "c808ebb6",
   "metadata": {},
   "outputs": [],
   "source": [
    "# 標準化\n",
    "num_cols = ['REGION_POPULATION_RELATIVE']\n",
    "scaler = StandardScaler()\n",
    "scaler.fit(app_train[num_cols])\n",
    "\n",
    "app_train[num_cols] = scaler.transform(app_train[num_cols])\n",
    "app_test[num_cols] = scaler.transform(app_test[num_cols])\n",
    "app_train[['REGION_POPULATION_RELATIVE', 'TARGET']].corr()"
   ]
  },
  {
   "cell_type": "code",
   "execution_count": null,
   "id": "a179ee18",
   "metadata": {},
   "outputs": [],
   "source": [
    "## Yao-Johnson変換後の特徴量の分布\n",
    "kde_target('REGION_POPULATION_RELATIVE', app_train)"
   ]
  },
  {
   "cell_type": "markdown",
   "id": "8fb55f1c",
   "metadata": {},
   "source": [
    "### DAYS_BIRTH"
   ]
  },
  {
   "cell_type": "code",
   "execution_count": null,
   "id": "1ef45306",
   "metadata": {},
   "outputs": [],
   "source": [
    "app_train['DAYS_BIRTH'].isnull().sum()"
   ]
  },
  {
   "cell_type": "code",
   "execution_count": null,
   "id": "37a3e0db",
   "metadata": {},
   "outputs": [],
   "source": [
    "app_train['DAYS_BIRTH'].value_counts()"
   ]
  },
  {
   "cell_type": "code",
   "execution_count": null,
   "id": "62c4c3d2",
   "metadata": {},
   "outputs": [],
   "source": [
    "app_train[['DAYS_BIRTH','TARGET']].corr()"
   ]
  },
  {
   "cell_type": "code",
   "execution_count": null,
   "id": "990abde8",
   "metadata": {},
   "outputs": [],
   "source": [
    "kde_target('DAYS_BIRTH', app_train)"
   ]
  },
  {
   "cell_type": "code",
   "execution_count": null,
   "id": "493a1983",
   "metadata": {},
   "outputs": [],
   "source": [
    "## Yao-Johnson変換\n",
    "num_cols = ['DAYS_BIRTH']\n",
    "### 学習データに基づいてYao-Johnson変換を定義\n",
    "pt = PowerTransformer(method = 'yeo-johnson')\n",
    "pt.fit(app_train[num_cols].copy())\n",
    "\n",
    "### 変換後のデータで各列を置換\n",
    "app_train['DAYS_BIRTH'] = pt.transform(app_train[num_cols])\n",
    "app_test['DAYS_BIRTH'] = pt.transform(app_test[num_cols])\n",
    "\n",
    "app_train[['DAYS_BIRTH', 'TARGET']].corr()"
   ]
  },
  {
   "cell_type": "code",
   "execution_count": null,
   "id": "c23fdfb5",
   "metadata": {},
   "outputs": [],
   "source": [
    "# 標準化\n",
    "num_cols = ['DAYS_BIRTH']\n",
    "scaler = StandardScaler()\n",
    "scaler.fit(app_train[num_cols])\n",
    "\n",
    "app_train[num_cols] = scaler.transform(app_train[num_cols])\n",
    "app_test[num_cols] = scaler.transform(app_test[num_cols])\n",
    "app_train[['DAYS_BIRTH', 'TARGET']].corr()"
   ]
  },
  {
   "cell_type": "code",
   "execution_count": null,
   "id": "2c5cb152",
   "metadata": {},
   "outputs": [],
   "source": [
    "## Yao-Johnson変換後の特徴量の分布\n",
    "kde_target('DAYS_BIRTH', app_train)"
   ]
  },
  {
   "cell_type": "markdown",
   "id": "89f96bdb",
   "metadata": {},
   "source": [
    "### DAYS_EMPLOYED"
   ]
  },
  {
   "cell_type": "code",
   "execution_count": null,
   "id": "8ade16aa",
   "metadata": {},
   "outputs": [],
   "source": [
    "app_train['DAYS_EMPLOYED'].isnull().sum()"
   ]
  },
  {
   "cell_type": "code",
   "execution_count": null,
   "id": "1c0e6e5d",
   "metadata": {},
   "outputs": [],
   "source": [
    "app_train['DAYS_EMPLOYED'].value_counts()"
   ]
  },
  {
   "cell_type": "code",
   "execution_count": null,
   "id": "f3ee2506",
   "metadata": {},
   "outputs": [],
   "source": [
    "app_train[['DAYS_EMPLOYED','TARGET']].corr()"
   ]
  },
  {
   "cell_type": "code",
   "execution_count": null,
   "id": "275bc40b",
   "metadata": {},
   "outputs": [],
   "source": [
    "kde_target('DAYS_EMPLOYED', app_train)"
   ]
  },
  {
   "cell_type": "code",
   "execution_count": null,
   "id": "835f5bb3",
   "metadata": {},
   "outputs": [],
   "source": [
    "## Yao-Johnson変換\n",
    "#num_cols = ['DAYS_EMPLOYED']\n",
    "### 学習データに基づいてYao-Johnson変換を定義\n",
    "#pt = PowerTransformer(method = 'yeo-johnson')\n",
    "#pt.fit(app_train[num_cols].copy())\n",
    "\n",
    "### 変換後のデータで各列を置換\n",
    "#app_train['DAYS_EMPLOYED'] = pt.transform(app_train[num_cols])\n",
    "#app_test['DAYS_EMPLOYED'] = pt.transform(app_test[num_cols])\n",
    "\n",
    "#app_train[['DAYS_EMPLOYED', 'TARGET']].corr()"
   ]
  },
  {
   "cell_type": "code",
   "execution_count": null,
   "id": "27a94937",
   "metadata": {},
   "outputs": [],
   "source": [
    "# 標準化\n",
    "num_cols = ['DAYS_EMPLOYED']\n",
    "scaler = StandardScaler()\n",
    "scaler.fit(app_train[num_cols])\n",
    "\n",
    "app_train[num_cols] = scaler.transform(app_train[num_cols])\n",
    "app_test[num_cols] = scaler.transform(app_test[num_cols])\n",
    "app_train[['DAYS_EMPLOYED', 'TARGET']].corr()"
   ]
  },
  {
   "cell_type": "code",
   "execution_count": null,
   "id": "114f932d",
   "metadata": {},
   "outputs": [],
   "source": [
    "## Yao-Johnson変換後の特徴量の分布\n",
    "kde_target('REGION_POPULATION_RELATIVE', app_train)"
   ]
  },
  {
   "cell_type": "markdown",
   "id": "1fe385a4",
   "metadata": {},
   "source": [
    "### DAYS_REGISTRATION"
   ]
  },
  {
   "cell_type": "code",
   "execution_count": null,
   "id": "9193efc9",
   "metadata": {},
   "outputs": [],
   "source": [
    "app_train['DAYS_REGISTRATION'].isnull().sum()"
   ]
  },
  {
   "cell_type": "code",
   "execution_count": null,
   "id": "55fa99ea",
   "metadata": {},
   "outputs": [],
   "source": [
    "app_train['DAYS_REGISTRATION'].value_counts()"
   ]
  },
  {
   "cell_type": "code",
   "execution_count": null,
   "id": "d4bdbf7e",
   "metadata": {},
   "outputs": [],
   "source": [
    "app_train[['DAYS_REGISTRATION','TARGET']].corr()"
   ]
  },
  {
   "cell_type": "code",
   "execution_count": null,
   "id": "88f6fcc3",
   "metadata": {},
   "outputs": [],
   "source": [
    "## Yao-Johnson変換\n",
    "#num_cols = ['DAYS_REGISTRATION']\n",
    "### 学習データに基づいてYao-Johnson変換を定義\n",
    "#pt = PowerTransformer(method = 'yeo-johnson')\n",
    "#pt.fit(app_train[num_cols].copy())\n",
    "\n",
    "### 変換後のデータで各列を置換\n",
    "#app_train['DAYS_REGISTRATION'] = pt.transform(app_train[num_cols])\n",
    "#app_test['DAYS_REGISTRATION'] = pt.transform(app_test[num_cols])\n",
    "\n",
    "#app_train[['DAYS_REGISTRATION', 'TARGET']].corr()"
   ]
  },
  {
   "cell_type": "code",
   "execution_count": null,
   "id": "841f3ab4",
   "metadata": {},
   "outputs": [],
   "source": [
    "# 標準化\n",
    "num_cols = ['DAYS_REGISTRATION']\n",
    "scaler = StandardScaler()\n",
    "scaler.fit(app_train[num_cols])\n",
    "\n",
    "app_train[num_cols] = scaler.transform(app_train[num_cols])\n",
    "app_test[num_cols] = scaler.transform(app_test[num_cols])\n",
    "app_train[['DAYS_REGISTRATION', 'TARGET']].corr()"
   ]
  },
  {
   "cell_type": "code",
   "execution_count": null,
   "id": "d4ab79f4",
   "metadata": {},
   "outputs": [],
   "source": [
    "## Yao-Johnson変換後の特徴量の分布\n",
    "kde_target('REGION_POPULATION_RELATIVE', app_train)"
   ]
  },
  {
   "cell_type": "markdown",
   "id": "6a49c9f8",
   "metadata": {},
   "source": [
    "### DAYS_ID_PUBLISH"
   ]
  },
  {
   "cell_type": "code",
   "execution_count": null,
   "id": "c64dca14",
   "metadata": {},
   "outputs": [],
   "source": [
    "app_train['DAYS_ID_PUBLISH'].isnull().sum()"
   ]
  },
  {
   "cell_type": "code",
   "execution_count": null,
   "id": "ee873e77",
   "metadata": {},
   "outputs": [],
   "source": [
    "app_train['DAYS_ID_PUBLISH'].value_counts()"
   ]
  },
  {
   "cell_type": "code",
   "execution_count": null,
   "id": "3f88a4b6",
   "metadata": {},
   "outputs": [],
   "source": [
    "app_train[['DAYS_ID_PUBLISH','TARGET']].corr()"
   ]
  },
  {
   "cell_type": "code",
   "execution_count": null,
   "id": "9dd3552e",
   "metadata": {},
   "outputs": [],
   "source": [
    "kde_target('DAYS_ID_PUBLISH', app_train)"
   ]
  },
  {
   "cell_type": "code",
   "execution_count": null,
   "id": "7229b41d",
   "metadata": {},
   "outputs": [],
   "source": [
    "## Yao-Johnson変換\n",
    "#num_cols = ['DAYS_ID_PUBLISH']\n",
    "### 学習データに基づいてYao-Johnson変換を定義\n",
    "#pt = PowerTransformer(method = 'yeo-johnson')\n",
    "#pt.fit(app_train[num_cols].copy())\n",
    "\n",
    "### 変換後のデータで各列を置換\n",
    "#app_train['DAYS_ID_PUBLISH'] = pt.transform(app_train[num_cols])\n",
    "#app_test['DAYS_ID_PUBLISH'] = pt.transform(app_test[num_cols])\n",
    "\n",
    "#app_train[['DAYS_ID_PUBLISH', 'TARGET']].corr()"
   ]
  },
  {
   "cell_type": "code",
   "execution_count": null,
   "id": "837f1db6",
   "metadata": {},
   "outputs": [],
   "source": [
    "num_cols = ['DAYS_ID_PUBLISH']\n",
    "scaler = StandardScaler()\n",
    "scaler.fit(app_train[num_cols])\n",
    "\n",
    "app_train[num_cols] = scaler.transform(app_train[num_cols])\n",
    "app_test[num_cols] = scaler.transform(app_test[num_cols])\n",
    "app_train[['DAYS_ID_PUBLISH', 'TARGET']].corr()"
   ]
  },
  {
   "cell_type": "code",
   "execution_count": null,
   "id": "fb9c970b",
   "metadata": {},
   "outputs": [],
   "source": [
    "## Yao-Johnson変換後の特徴量の分布\n",
    "kde_target('DAYS_ID_PUBLISH', app_train)"
   ]
  },
  {
   "cell_type": "code",
   "execution_count": null,
   "id": "626263de",
   "metadata": {},
   "outputs": [],
   "source": [
    "# 標準化\n",
    "num_cols = ['DAYS_ID_PUBLISH']\n",
    "scaler = StandardScaler()\n",
    "scaler.fit(app_train[num_cols])\n",
    "\n",
    "app_train[num_cols] = scaler.transform(app_train[num_cols])\n",
    "app_test[num_cols] = scaler.transform(app_test[num_cols])\n",
    "app_train[['DAYS_ID_PUBLISH', 'TARGET']].corr()"
   ]
  },
  {
   "cell_type": "code",
   "execution_count": null,
   "id": "69777e23",
   "metadata": {},
   "outputs": [],
   "source": [
    "## Yao-Johnson変換後の特徴量の分布\n",
    "kde_target('REGION_POPULATION_RELATIVE', app_train)"
   ]
  },
  {
   "cell_type": "markdown",
   "id": "d032560a",
   "metadata": {},
   "source": [
    "### OWN_CAR_AGE"
   ]
  },
  {
   "cell_type": "code",
   "execution_count": null,
   "id": "492a1bfe",
   "metadata": {},
   "outputs": [],
   "source": [
    "app_train['OWN_CAR_AGE'].isnull().sum()"
   ]
  },
  {
   "cell_type": "code",
   "execution_count": null,
   "id": "b8cbdd00",
   "metadata": {},
   "outputs": [],
   "source": [
    "app_train['FLAG_OWN_CAR'].value_counts()"
   ]
  },
  {
   "cell_type": "code",
   "execution_count": null,
   "id": "700e590c",
   "metadata": {},
   "outputs": [],
   "source": [
    "replace_columns = app_train['FLAG_OWN_CAR'].unique().tolist()\n",
    "replace_columns = ['xxxx' if e == \"NaN\" or type(e) is float and math.isnan(e) else e for e in replace_columns]\n",
    "###replace_columns.remove('xxxx')\n",
    "replace_value = [x for x in range(len(replace_columns))]\n",
    "app_train['FLAG_OWN_CAR'].replace(replace_columns, replace_value, inplace=True)\n",
    "app_test['FLAG_OWN_CAR'].replace(replace_columns, replace_value, inplace=True)\n",
    "app_train['FLAG_OWN_CAR'].value_counts()"
   ]
  },
  {
   "cell_type": "code",
   "execution_count": null,
   "id": "9d8e9753",
   "metadata": {},
   "outputs": [],
   "source": [
    "app_train[['FLAG_OWN_CAR', 'TARGET']].corr()"
   ]
  },
  {
   "cell_type": "code",
   "execution_count": null,
   "id": "5f3e4e1a",
   "metadata": {},
   "outputs": [],
   "source": [
    "## 標準化\n",
    "num_cols = ['FLAG_OWN_CAR']\n",
    "scaler = StandardScaler()\n",
    "scaler.fit(app_train[num_cols])\n",
    "\n",
    "app_train[num_cols] = scaler.transform(app_train[num_cols])\n",
    "app_test[num_cols] = scaler.transform(app_test[num_cols])\n",
    "app_train[['FLAG_OWN_CAR', 'TARGET']].corr()"
   ]
  },
  {
   "cell_type": "code",
   "execution_count": null,
   "id": "341dfaf7",
   "metadata": {},
   "outputs": [],
   "source": [
    "sns.countplot(x='FLAG_OWN_CAR', hue='TARGET', data=app_train)\n",
    "plt.legend(loc='upper right', title='TARGET')\n",
    "plt.show()"
   ]
  },
  {
   "cell_type": "markdown",
   "id": "39bef060",
   "metadata": {},
   "source": [
    "### FLAG_MOBIL"
   ]
  },
  {
   "cell_type": "code",
   "execution_count": null,
   "id": "87a4e295",
   "metadata": {},
   "outputs": [],
   "source": [
    "app_train['FLAG_MOBIL'].isnull().sum()"
   ]
  },
  {
   "cell_type": "code",
   "execution_count": null,
   "id": "63348f74",
   "metadata": {},
   "outputs": [],
   "source": [
    "app_train['FLAG_MOBIL'].value_counts()"
   ]
  },
  {
   "cell_type": "code",
   "execution_count": null,
   "id": "8ae1d224",
   "metadata": {},
   "outputs": [],
   "source": [
    "app_train[['FLAG_MOBIL', 'TARGET']].corr()"
   ]
  },
  {
   "cell_type": "code",
   "execution_count": null,
   "id": "0ef0df55",
   "metadata": {},
   "outputs": [],
   "source": [
    "columns = ['FLAG_MOBIL']\n",
    "app_train.drop(columns, axis=1, inplace=True)\n",
    "app_test.drop(columns, axis=1, inplace=True)"
   ]
  },
  {
   "cell_type": "markdown",
   "id": "fc643640",
   "metadata": {},
   "source": [
    "### FLAG_EMP_PHONE"
   ]
  },
  {
   "cell_type": "code",
   "execution_count": null,
   "id": "d854268a",
   "metadata": {},
   "outputs": [],
   "source": [
    "app_train['FLAG_EMP_PHONE'].isnull().sum()"
   ]
  },
  {
   "cell_type": "code",
   "execution_count": null,
   "id": "70588b5c",
   "metadata": {},
   "outputs": [],
   "source": [
    "app_train['FLAG_EMP_PHONE'].value_counts()"
   ]
  },
  {
   "cell_type": "code",
   "execution_count": null,
   "id": "1c19f561",
   "metadata": {},
   "outputs": [],
   "source": [
    "app_train[['FLAG_EMP_PHONE', 'TARGET']].corr()"
   ]
  },
  {
   "cell_type": "code",
   "execution_count": null,
   "id": "94b87ebf",
   "metadata": {},
   "outputs": [],
   "source": [
    "## 標準化\n",
    "num_cols = ['FLAG_EMP_PHONE']\n",
    "scaler = StandardScaler()\n",
    "scaler.fit(app_train[num_cols])\n",
    "\n",
    "app_train[num_cols] = scaler.transform(app_train[num_cols])\n",
    "app_test[num_cols] = scaler.transform(app_test[num_cols])\n",
    "app_train[['FLAG_EMP_PHONE', 'TARGET']].corr()"
   ]
  },
  {
   "cell_type": "code",
   "execution_count": null,
   "id": "70fe725f",
   "metadata": {},
   "outputs": [],
   "source": [
    "%matplotlib inline\n",
    "sns.countplot(x='FLAG_EMP_PHONE', hue='TARGET', data=app_train)\n",
    "plt.legend(loc='upper right', title='TARGET')\n",
    "plt.show()"
   ]
  },
  {
   "cell_type": "markdown",
   "id": "946cd805",
   "metadata": {},
   "source": [
    "### FLAG_WORK_PHONE"
   ]
  },
  {
   "cell_type": "code",
   "execution_count": null,
   "id": "fad12b57",
   "metadata": {},
   "outputs": [],
   "source": [
    "app_train['FLAG_WORK_PHONE'].isnull().sum()"
   ]
  },
  {
   "cell_type": "code",
   "execution_count": null,
   "id": "0a5653d4",
   "metadata": {},
   "outputs": [],
   "source": [
    "app_train['FLAG_WORK_PHONE'].value_counts()"
   ]
  },
  {
   "cell_type": "code",
   "execution_count": null,
   "id": "77753708",
   "metadata": {},
   "outputs": [],
   "source": [
    "app_train[['FLAG_WORK_PHONE','TARGET']].corr()"
   ]
  },
  {
   "cell_type": "code",
   "execution_count": null,
   "id": "46ae15e0",
   "metadata": {},
   "outputs": [],
   "source": [
    "## 標準化\n",
    "num_cols = ['FLAG_WORK_PHONE']\n",
    "scaler = StandardScaler()\n",
    "scaler.fit(app_train[num_cols])\n",
    "\n",
    "app_train[num_cols] = scaler.transform(app_train[num_cols])\n",
    "app_test[num_cols] = scaler.transform(app_test[num_cols])\n",
    "app_train[['FLAG_WORK_PHONE', 'TARGET']].corr()"
   ]
  },
  {
   "cell_type": "code",
   "execution_count": null,
   "id": "07394564",
   "metadata": {},
   "outputs": [],
   "source": [
    "%matplotlib inline\n",
    "sns.countplot(x='FLAG_WORK_PHONE', hue='TARGET', data=app_train)\n",
    "plt.legend(loc='upper right', title='TARGET')\n",
    "plt.show()"
   ]
  },
  {
   "cell_type": "markdown",
   "id": "1fe6af70",
   "metadata": {},
   "source": [
    "### FLAG_CONT_MOBILE"
   ]
  },
  {
   "cell_type": "code",
   "execution_count": null,
   "id": "98d0bb86",
   "metadata": {},
   "outputs": [],
   "source": [
    "app_train['FLAG_CONT_MOBILE'].isnull().sum()"
   ]
  },
  {
   "cell_type": "code",
   "execution_count": null,
   "id": "7b438a44",
   "metadata": {},
   "outputs": [],
   "source": [
    "app_train['FLAG_CONT_MOBILE'].value_counts()"
   ]
  },
  {
   "cell_type": "code",
   "execution_count": null,
   "id": "b31ef1da",
   "metadata": {},
   "outputs": [],
   "source": [
    "app_train[['FLAG_CONT_MOBILE','TARGET']].corr()"
   ]
  },
  {
   "cell_type": "code",
   "execution_count": null,
   "id": "180aa944",
   "metadata": {},
   "outputs": [],
   "source": [
    "## Yao-Johnson変換\n",
    "num_cols = ['FLAG_CONT_MOBILE']\n",
    "### 学習データに基づいてYao-Johnson変換を定義\n",
    "pt = PowerTransformer(method = 'yeo-johnson')\n",
    "pt.fit(app_train[num_cols].copy())\n",
    "\n",
    "### 変換後のデータで各列を置換\n",
    "app_train['FLAG_CONT_MOBILE'] = pt.transform(app_train[num_cols])\n",
    "app_test['FLAG_CONT_MOBILE'] = pt.transform(app_test[num_cols])\n",
    "\n",
    "app_train[['FLAG_CONT_MOBILE', 'TARGET']].corr()"
   ]
  },
  {
   "cell_type": "code",
   "execution_count": null,
   "id": "cab83b58",
   "metadata": {},
   "outputs": [],
   "source": [
    "columns = ['FLAG_CONT_MOBILE']\n",
    "app_train.drop(columns, axis=1, inplace=True)\n",
    "app_test.drop(columns, axis=1, inplace=True)"
   ]
  },
  {
   "cell_type": "markdown",
   "id": "15867ad7",
   "metadata": {},
   "source": [
    "### FLAG_PHONE"
   ]
  },
  {
   "cell_type": "code",
   "execution_count": null,
   "id": "e6a6eaf2",
   "metadata": {},
   "outputs": [],
   "source": [
    "app_train['FLAG_PHONE'].isnull().sum()"
   ]
  },
  {
   "cell_type": "code",
   "execution_count": null,
   "id": "5666d7f9",
   "metadata": {},
   "outputs": [],
   "source": [
    "app_train['FLAG_PHONE'].value_counts()"
   ]
  },
  {
   "cell_type": "code",
   "execution_count": null,
   "id": "e6b4de05",
   "metadata": {},
   "outputs": [],
   "source": [
    "app_train[['FLAG_PHONE','TARGET']].corr()"
   ]
  },
  {
   "cell_type": "code",
   "execution_count": null,
   "id": "b1a33ce6",
   "metadata": {},
   "outputs": [],
   "source": [
    "## 標準化\n",
    "num_cols = ['FLAG_PHONE']\n",
    "scaler = StandardScaler()\n",
    "scaler.fit(app_train[num_cols])\n",
    "\n",
    "app_train[num_cols] = scaler.transform(app_train[num_cols])\n",
    "app_test[num_cols] = scaler.transform(app_test[num_cols])\n",
    "app_train[['FLAG_PHONE', 'TARGET']].corr()"
   ]
  },
  {
   "cell_type": "code",
   "execution_count": null,
   "id": "964169ef",
   "metadata": {},
   "outputs": [],
   "source": [
    "%matplotlib inline\n",
    "sns.countplot(x='FLAG_PHONE', hue='TARGET', data=app_train)\n",
    "plt.legend(loc='upper right', title='TARGET')\n",
    "plt.show()"
   ]
  },
  {
   "cell_type": "markdown",
   "id": "1c51a99c",
   "metadata": {},
   "source": [
    "### FLAG_EMAIL"
   ]
  },
  {
   "cell_type": "code",
   "execution_count": null,
   "id": "fe436f83",
   "metadata": {},
   "outputs": [],
   "source": [
    "app_train['FLAG_EMAIL'].isnull().sum()"
   ]
  },
  {
   "cell_type": "code",
   "execution_count": null,
   "id": "865a8f4c",
   "metadata": {},
   "outputs": [],
   "source": [
    "app_train['FLAG_EMAIL'].value_counts()"
   ]
  },
  {
   "cell_type": "code",
   "execution_count": null,
   "id": "c3981344",
   "metadata": {},
   "outputs": [],
   "source": [
    "app_train[['FLAG_EMAIL','TARGET']].corr()"
   ]
  },
  {
   "cell_type": "code",
   "execution_count": null,
   "id": "cbc9199b",
   "metadata": {},
   "outputs": [],
   "source": [
    "columns = ['FLAG_EMAIL']\n",
    "app_train.drop(columns, axis=1, inplace=True)\n",
    "app_test.drop(columns, axis=1, inplace=True)"
   ]
  },
  {
   "cell_type": "code",
   "execution_count": null,
   "id": "b71ebdab",
   "metadata": {},
   "outputs": [],
   "source": [
    "### OCCUPATION_TYPE"
   ]
  },
  {
   "cell_type": "code",
   "execution_count": null,
   "id": "8a962a1e",
   "metadata": {},
   "outputs": [],
   "source": [
    "app_train['OCCUPATION_TYPE'].isnull().sum()"
   ]
  },
  {
   "cell_type": "code",
   "execution_count": null,
   "id": "9b4890d9",
   "metadata": {},
   "outputs": [],
   "source": [
    "app_train['OCCUPATION_TYPE'].value_counts()"
   ]
  },
  {
   "cell_type": "code",
   "execution_count": null,
   "id": "88b8740f",
   "metadata": {},
   "outputs": [],
   "source": [
    "app_train['OCCUPATION_TYPE'].fillna('BLANK', inplace=True)\n",
    "app_test['OCCUPATION_TYPE'].fillna('BLANK', inplace=True)"
   ]
  },
  {
   "cell_type": "code",
   "execution_count": null,
   "id": "43865e6c",
   "metadata": {},
   "outputs": [],
   "source": [
    "app_train['OCCUPATION_TYPE'].value_counts()"
   ]
  },
  {
   "cell_type": "code",
   "execution_count": null,
   "id": "f7de0202",
   "metadata": {},
   "outputs": [],
   "source": [
    "# 学習データとテストデータを結合しget_dummiesによるone-hot encodingを行う\n",
    "cat_cols = ['OCCUPATION_TYPE']\n",
    "all_x = pd.concat([app_train, app_test])\n",
    "all_x = pd.get_dummies(all_x, columns=cat_cols)\n",
    "\n",
    "# 学習データとテストデータを分割\n",
    "app_train = all_x.iloc[:app_train.shape[0], :].reset_index(drop=True)\n",
    "app_test  = all_x.iloc[app_train.shape[0]:, :].reset_index(drop=True)\n",
    "\n",
    "app_train.head()"
   ]
  },
  {
   "cell_type": "markdown",
   "id": "f016a214",
   "metadata": {},
   "source": [
    "### CNT_FAM_MEMBERS"
   ]
  },
  {
   "cell_type": "code",
   "execution_count": null,
   "id": "c62f1edf",
   "metadata": {},
   "outputs": [],
   "source": [
    "app_train['CNT_FAM_MEMBERS'].isnull().sum()"
   ]
  },
  {
   "cell_type": "code",
   "execution_count": null,
   "id": "ba673e0b",
   "metadata": {},
   "outputs": [],
   "source": [
    "app_train['CNT_FAM_MEMBERS'].value_counts()"
   ]
  },
  {
   "cell_type": "code",
   "execution_count": null,
   "id": "6fb8db0b",
   "metadata": {},
   "outputs": [],
   "source": [
    "app_train['CNT_FAM_MEMBERS'].fillna(0, inplace=True)\n",
    "app_test['CNT_FAM_MEMBERS'].fillna(0, inplace=True)"
   ]
  },
  {
   "cell_type": "code",
   "execution_count": null,
   "id": "2671fe4d",
   "metadata": {},
   "outputs": [],
   "source": [
    "app_train[['CNT_FAM_MEMBERS','TARGET']].corr()"
   ]
  },
  {
   "cell_type": "code",
   "execution_count": null,
   "id": "ed80df63",
   "metadata": {},
   "outputs": [],
   "source": [
    "## Yao-Johnson変換\n",
    "num_cols = ['CNT_FAM_MEMBERS']\n",
    "### 学習データに基づいてYao-Johnson変換を定義\n",
    "pt = PowerTransformer(method = 'yeo-johnson')\n",
    "pt.fit(app_train[num_cols].copy())\n",
    "\n",
    "### 変換後のデータで各列を置換\n",
    "app_train['CNT_FAM_MEMBERS'] = pt.transform(app_train[num_cols])\n",
    "app_test['CNT_FAM_MEMBERS'] = pt.transform(app_test[num_cols])\n",
    "\n",
    "app_train[['CNT_FAM_MEMBERS', 'TARGET']].corr()"
   ]
  },
  {
   "cell_type": "code",
   "execution_count": null,
   "id": "f07a8985",
   "metadata": {},
   "outputs": [],
   "source": [
    "columns = ['CNT_FAM_MEMBERS']\n",
    "app_train.drop(columns, axis=1, inplace=True)\n",
    "app_test.drop(columns, axis=1, inplace=True)"
   ]
  },
  {
   "cell_type": "markdown",
   "id": "196de355",
   "metadata": {},
   "source": [
    "### REGION_RATING_CLIENT"
   ]
  },
  {
   "cell_type": "code",
   "execution_count": null,
   "id": "e008009e",
   "metadata": {},
   "outputs": [],
   "source": [
    "app_train['REGION_RATING_CLIENT'].isnull().sum()"
   ]
  },
  {
   "cell_type": "code",
   "execution_count": null,
   "id": "154bfa9b",
   "metadata": {},
   "outputs": [],
   "source": [
    "app_train['REGION_RATING_CLIENT'].value_counts()"
   ]
  },
  {
   "cell_type": "code",
   "execution_count": null,
   "id": "b64bc544",
   "metadata": {},
   "outputs": [],
   "source": [
    "app_train[['REGION_RATING_CLIENT','TARGET']].corr()"
   ]
  },
  {
   "cell_type": "code",
   "execution_count": null,
   "id": "4f28102e",
   "metadata": {},
   "outputs": [],
   "source": [
    "kde_target('REGION_RATING_CLIENT', app_train)"
   ]
  },
  {
   "cell_type": "code",
   "execution_count": null,
   "id": "8a63ab62",
   "metadata": {},
   "outputs": [],
   "source": [
    "## 標準化\n",
    "num_cols = ['REGION_RATING_CLIENT']\n",
    "scaler = StandardScaler()\n",
    "scaler.fit(app_train[num_cols])\n",
    "\n",
    "app_train[num_cols] = scaler.transform(app_train[num_cols])\n",
    "app_test[num_cols] = scaler.transform(app_test[num_cols])\n",
    "app_train[['REGION_RATING_CLIENT', 'TARGET']].corr()"
   ]
  },
  {
   "cell_type": "code",
   "execution_count": null,
   "id": "1e1e669f",
   "metadata": {},
   "outputs": [],
   "source": [
    "## Yao-Johnson変換後の特徴量の分布\n",
    "kde_target('REGION_RATING_CLIENT', app_train)"
   ]
  },
  {
   "cell_type": "markdown",
   "id": "83003105",
   "metadata": {},
   "source": [
    "### REGION_RATING_CLIENT_W_CITY"
   ]
  },
  {
   "cell_type": "code",
   "execution_count": null,
   "id": "400b7ef6",
   "metadata": {},
   "outputs": [],
   "source": [
    "app_train['REGION_RATING_CLIENT_W_CITY'].isnull().sum()"
   ]
  },
  {
   "cell_type": "code",
   "execution_count": null,
   "id": "b0fe81d3",
   "metadata": {},
   "outputs": [],
   "source": [
    "app_train['REGION_RATING_CLIENT_W_CITY'].value_counts()"
   ]
  },
  {
   "cell_type": "code",
   "execution_count": null,
   "id": "5ee850af",
   "metadata": {},
   "outputs": [],
   "source": [
    "app_train[['REGION_RATING_CLIENT_W_CITY','TARGET']].corr()"
   ]
  },
  {
   "cell_type": "code",
   "execution_count": null,
   "id": "f03e3a77",
   "metadata": {},
   "outputs": [],
   "source": [
    "kde_target('REGION_RATING_CLIENT_W_CITY', app_train)"
   ]
  },
  {
   "cell_type": "code",
   "execution_count": null,
   "id": "fa00c2cb",
   "metadata": {},
   "outputs": [],
   "source": [
    "## 標準化\n",
    "num_cols = ['REGION_RATING_CLIENT_W_CITY']\n",
    "scaler = StandardScaler()\n",
    "scaler.fit(app_train[num_cols])\n",
    "\n",
    "app_train[num_cols] = scaler.transform(app_train[num_cols])\n",
    "app_test[num_cols] = scaler.transform(app_test[num_cols])\n",
    "app_train[['REGION_RATING_CLIENT_W_CITY', 'TARGET']].corr()"
   ]
  },
  {
   "cell_type": "code",
   "execution_count": null,
   "id": "493d331f",
   "metadata": {},
   "outputs": [],
   "source": [
    "## Yao-Johnson変換後の特徴量の分布\n",
    "kde_target('REGION_RATING_CLIENT_W_CITY', app_train)"
   ]
  },
  {
   "cell_type": "markdown",
   "id": "db7a430c",
   "metadata": {},
   "source": [
    "### WEEKDAY_APPR_PROCESS_START"
   ]
  },
  {
   "cell_type": "code",
   "execution_count": null,
   "id": "27e6afc1",
   "metadata": {},
   "outputs": [],
   "source": [
    "app_train['WEEKDAY_APPR_PROCESS_START'].isnull().sum()"
   ]
  },
  {
   "cell_type": "code",
   "execution_count": null,
   "id": "2bdd29a1",
   "metadata": {},
   "outputs": [],
   "source": [
    "app_train['WEEKDAY_APPR_PROCESS_START'].value_counts()"
   ]
  },
  {
   "cell_type": "code",
   "execution_count": null,
   "id": "9b331094",
   "metadata": {},
   "outputs": [],
   "source": [
    "# 学習データとテストデータを結合しget_dummiesによるone-hot encodingを行う\n",
    "cat_cols = ['WEEKDAY_APPR_PROCESS_START']\n",
    "all_x = pd.concat([app_train, app_test])\n",
    "all_x = pd.get_dummies(all_x, columns=cat_cols)\n",
    "\n",
    "# 学習データとテストデータを分割\n",
    "app_train = all_x.iloc[:app_train.shape[0], :].reset_index(drop=True)\n",
    "app_test  = all_x.iloc[app_train.shape[0]:, :].reset_index(drop=True)\n",
    "\n",
    "app_train.head()"
   ]
  },
  {
   "cell_type": "code",
   "execution_count": null,
   "id": "4bbd1bf5",
   "metadata": {},
   "outputs": [],
   "source": [
    "### HOUR_APPR_PROCESS_START"
   ]
  },
  {
   "cell_type": "code",
   "execution_count": null,
   "id": "2ffa4647",
   "metadata": {},
   "outputs": [],
   "source": [
    "app_train['HOUR_APPR_PROCESS_START'].isnull().sum()"
   ]
  },
  {
   "cell_type": "code",
   "execution_count": null,
   "id": "2e92179e",
   "metadata": {},
   "outputs": [],
   "source": [
    "app_train['HOUR_APPR_PROCESS_START'].value_counts()"
   ]
  },
  {
   "cell_type": "code",
   "execution_count": null,
   "id": "24e46d53",
   "metadata": {},
   "outputs": [],
   "source": [
    "app_train[['HOUR_APPR_PROCESS_START','TARGET']].corr()"
   ]
  },
  {
   "cell_type": "code",
   "execution_count": null,
   "id": "86164382",
   "metadata": {},
   "outputs": [],
   "source": [
    "kde_target('HOUR_APPR_PROCESS_START', app_train)"
   ]
  },
  {
   "cell_type": "code",
   "execution_count": null,
   "id": "42448230",
   "metadata": {},
   "outputs": [],
   "source": [
    "## Yao-Johnson変換\n",
    "num_cols = ['HOUR_APPR_PROCESS_START']\n",
    "### 学習データに基づいてYao-Johnson変換を定義\n",
    "pt = PowerTransformer(method = 'yeo-johnson')\n",
    "pt.fit(app_train[num_cols].copy())\n",
    "\n",
    "### 変換後のデータで各列を置換\n",
    "app_train['HOUR_APPR_PROCESS_START'] = pt.transform(app_train[num_cols])\n",
    "app_test['HOUR_APPR_PROCESS_START'] = pt.transform(app_test[num_cols])\n",
    "\n",
    "app_train[['HOUR_APPR_PROCESS_START', 'TARGET']].corr()"
   ]
  },
  {
   "cell_type": "code",
   "execution_count": null,
   "id": "664c7903",
   "metadata": {},
   "outputs": [],
   "source": [
    "## 標準化\n",
    "num_cols = ['HOUR_APPR_PROCESS_START']\n",
    "scaler = StandardScaler()\n",
    "scaler.fit(app_train[num_cols])\n",
    "\n",
    "app_train[num_cols] = scaler.transform(app_train[num_cols])\n",
    "app_test[num_cols] = scaler.transform(app_test[num_cols])\n",
    "app_train[['HOUR_APPR_PROCESS_START', 'TARGET']].corr()"
   ]
  },
  {
   "cell_type": "code",
   "execution_count": null,
   "id": "ce28d937",
   "metadata": {},
   "outputs": [],
   "source": [
    "## Yao-Johnson変換後の特徴量の分布\n",
    "kde_target('HOUR_APPR_PROCESS_START', app_train)"
   ]
  },
  {
   "cell_type": "code",
   "execution_count": null,
   "id": "1f827acc",
   "metadata": {},
   "outputs": [],
   "source": [
    "### REG_REGION_NOT_LIVE_REGION"
   ]
  },
  {
   "cell_type": "code",
   "execution_count": null,
   "id": "2634e3e2",
   "metadata": {},
   "outputs": [],
   "source": [
    "app_train['REG_REGION_NOT_LIVE_REGION'].isnull().sum()"
   ]
  },
  {
   "cell_type": "code",
   "execution_count": null,
   "id": "b0ea714c",
   "metadata": {},
   "outputs": [],
   "source": [
    "app_train['REG_REGION_NOT_LIVE_REGION'].value_counts()"
   ]
  },
  {
   "cell_type": "code",
   "execution_count": null,
   "id": "68e5bc63",
   "metadata": {},
   "outputs": [],
   "source": [
    "app_train[['REG_REGION_NOT_LIVE_REGION','TARGET']].corr()"
   ]
  },
  {
   "cell_type": "code",
   "execution_count": null,
   "id": "5dfae1ec",
   "metadata": {},
   "outputs": [],
   "source": [
    "columns = ['REG_REGION_NOT_LIVE_REGION']\n",
    "app_train.drop(columns, axis=1, inplace=True)\n",
    "app_test.drop(columns, axis=1, inplace=True)"
   ]
  },
  {
   "cell_type": "markdown",
   "id": "ffa984b3",
   "metadata": {},
   "source": [
    "### REG_REGION_NOT_WORK_REGION"
   ]
  },
  {
   "cell_type": "code",
   "execution_count": null,
   "id": "98f256d4",
   "metadata": {},
   "outputs": [],
   "source": [
    "app_train['REG_REGION_NOT_WORK_REGION'].isnull().sum()"
   ]
  },
  {
   "cell_type": "code",
   "execution_count": null,
   "id": "151f435a",
   "metadata": {},
   "outputs": [],
   "source": [
    "app_train['REG_REGION_NOT_WORK_REGION'].value_counts()"
   ]
  },
  {
   "cell_type": "code",
   "execution_count": null,
   "id": "e47c0e06",
   "metadata": {},
   "outputs": [],
   "source": [
    "app_train[['REG_REGION_NOT_WORK_REGION','TARGET']].corr()"
   ]
  },
  {
   "cell_type": "code",
   "execution_count": null,
   "id": "72806305",
   "metadata": {},
   "outputs": [],
   "source": [
    "columns = ['REG_REGION_NOT_WORK_REGION']\n",
    "app_train.drop(columns, axis=1, inplace=True)\n",
    "app_test.drop(columns, axis=1, inplace=True)"
   ]
  },
  {
   "cell_type": "markdown",
   "id": "d1aa9026",
   "metadata": {},
   "source": [
    "### LIVE_REGION_NOT_WORK_REGION"
   ]
  },
  {
   "cell_type": "code",
   "execution_count": null,
   "id": "1df87d00",
   "metadata": {},
   "outputs": [],
   "source": [
    "app_train['LIVE_REGION_NOT_WORK_REGION'].isnull().sum()"
   ]
  },
  {
   "cell_type": "code",
   "execution_count": null,
   "id": "18b19e39",
   "metadata": {},
   "outputs": [],
   "source": [
    "app_train['LIVE_REGION_NOT_WORK_REGION'].value_counts()"
   ]
  },
  {
   "cell_type": "code",
   "execution_count": null,
   "id": "88798ce1",
   "metadata": {},
   "outputs": [],
   "source": [
    "app_train[['LIVE_REGION_NOT_WORK_REGION','TARGET']].corr()"
   ]
  },
  {
   "cell_type": "code",
   "execution_count": null,
   "id": "36f7fe04",
   "metadata": {},
   "outputs": [],
   "source": [
    "columns = ['LIVE_REGION_NOT_WORK_REGION']\n",
    "app_train.drop(columns, axis=1, inplace=True)\n",
    "app_test.drop(columns, axis=1, inplace=True)"
   ]
  },
  {
   "cell_type": "markdown",
   "id": "41407982",
   "metadata": {},
   "source": [
    "### REG_CITY_NOT_LIVE_CITY"
   ]
  },
  {
   "cell_type": "code",
   "execution_count": null,
   "id": "cc6eb984",
   "metadata": {},
   "outputs": [],
   "source": [
    "app_train['REG_CITY_NOT_LIVE_CITY'].isnull().sum()"
   ]
  },
  {
   "cell_type": "code",
   "execution_count": null,
   "id": "22e48a9c",
   "metadata": {},
   "outputs": [],
   "source": [
    "app_train['REG_CITY_NOT_LIVE_CITY'].value_counts()"
   ]
  },
  {
   "cell_type": "code",
   "execution_count": null,
   "id": "448316b0",
   "metadata": {},
   "outputs": [],
   "source": [
    "app_train[['REG_CITY_NOT_LIVE_CITY','TARGET']].corr()"
   ]
  },
  {
   "cell_type": "code",
   "execution_count": null,
   "id": "a527a1de",
   "metadata": {},
   "outputs": [],
   "source": [
    "## 標準化\n",
    "num_cols = ['REG_CITY_NOT_LIVE_CITY']\n",
    "scaler = StandardScaler()\n",
    "scaler.fit(app_train[num_cols])\n",
    "\n",
    "app_train[num_cols] = scaler.transform(app_train[num_cols])\n",
    "app_test[num_cols] = scaler.transform(app_test[num_cols])\n",
    "app_train[['REG_CITY_NOT_LIVE_CITY', 'TARGET']].corr()"
   ]
  },
  {
   "cell_type": "code",
   "execution_count": null,
   "id": "42594a07",
   "metadata": {},
   "outputs": [],
   "source": [
    "%matplotlib inline\n",
    "sns.countplot(x='REG_CITY_NOT_LIVE_CITY', hue='TARGET', data=app_train)\n",
    "plt.legend(loc='upper right', title='TARGET')\n",
    "plt.show()"
   ]
  },
  {
   "cell_type": "code",
   "execution_count": null,
   "id": "4db1b361",
   "metadata": {},
   "outputs": [],
   "source": [
    "### REG_CITY_NOT_WORK_CITY"
   ]
  },
  {
   "cell_type": "code",
   "execution_count": null,
   "id": "4a0e7d34",
   "metadata": {},
   "outputs": [],
   "source": [
    "app_train['REG_CITY_NOT_WORK_CITY'].isnull().sum()"
   ]
  },
  {
   "cell_type": "code",
   "execution_count": null,
   "id": "160f1a85",
   "metadata": {},
   "outputs": [],
   "source": [
    "app_train['REG_CITY_NOT_WORK_CITY'].value_counts()"
   ]
  },
  {
   "cell_type": "code",
   "execution_count": null,
   "id": "e822c306",
   "metadata": {},
   "outputs": [],
   "source": [
    "app_train[['REG_CITY_NOT_WORK_CITY','TARGET']].corr()"
   ]
  },
  {
   "cell_type": "code",
   "execution_count": null,
   "id": "7665e60b",
   "metadata": {},
   "outputs": [],
   "source": [
    "## 標準化\n",
    "num_cols = ['REG_CITY_NOT_WORK_CITY']\n",
    "scaler = StandardScaler()\n",
    "scaler.fit(app_train[num_cols])\n",
    "\n",
    "app_train[num_cols] = scaler.transform(app_train[num_cols])\n",
    "app_test[num_cols] = scaler.transform(app_test[num_cols])\n",
    "app_train[['REG_CITY_NOT_WORK_CITY', 'TARGET']].corr()"
   ]
  },
  {
   "cell_type": "code",
   "execution_count": null,
   "id": "16bd037d",
   "metadata": {},
   "outputs": [],
   "source": [
    "%matplotlib inline\n",
    "sns.countplot(x='REG_CITY_NOT_WORK_CITY', hue='TARGET', data=app_train)\n",
    "plt.legend(loc='upper right', title='TARGET')\n",
    "plt.show()"
   ]
  },
  {
   "cell_type": "markdown",
   "id": "ca081090",
   "metadata": {},
   "source": [
    "### LIVE_CITY_NOT_WORK_CITY"
   ]
  },
  {
   "cell_type": "code",
   "execution_count": null,
   "id": "ae52ff0f",
   "metadata": {},
   "outputs": [],
   "source": [
    "app_train['LIVE_CITY_NOT_WORK_CITY'].isnull().sum()"
   ]
  },
  {
   "cell_type": "code",
   "execution_count": null,
   "id": "da1dcbac",
   "metadata": {},
   "outputs": [],
   "source": [
    "app_train['LIVE_CITY_NOT_WORK_CITY'].value_counts()"
   ]
  },
  {
   "cell_type": "code",
   "execution_count": null,
   "id": "293d6df7",
   "metadata": {},
   "outputs": [],
   "source": [
    "app_train[['LIVE_CITY_NOT_WORK_CITY','TARGET']].corr()"
   ]
  },
  {
   "cell_type": "code",
   "execution_count": null,
   "id": "5c2f459f",
   "metadata": {},
   "outputs": [],
   "source": [
    "## 標準化\n",
    "num_cols = ['LIVE_CITY_NOT_WORK_CITY']\n",
    "scaler = StandardScaler()\n",
    "scaler.fit(app_train[num_cols])\n",
    "\n",
    "app_train[num_cols] = scaler.transform(app_train[num_cols])\n",
    "app_test[num_cols] = scaler.transform(app_test[num_cols])\n",
    "app_train[['LIVE_CITY_NOT_WORK_CITY', 'TARGET']].corr()"
   ]
  },
  {
   "cell_type": "code",
   "execution_count": null,
   "id": "b481948c",
   "metadata": {},
   "outputs": [],
   "source": [
    "%matplotlib inline\n",
    "sns.countplot(x='LIVE_CITY_NOT_WORK_CITY', hue='TARGET', data=app_train)\n",
    "plt.legend(loc='upper right', title='TARGET')\n",
    "plt.show()"
   ]
  },
  {
   "cell_type": "code",
   "execution_count": null,
   "id": "e9073edd",
   "metadata": {},
   "outputs": [],
   "source": [
    "### ORGANIZATION_TYPE"
   ]
  },
  {
   "cell_type": "code",
   "execution_count": null,
   "id": "98f500dc",
   "metadata": {},
   "outputs": [],
   "source": [
    "app_train['ORGANIZATION_TYPE'].isnull().sum()"
   ]
  },
  {
   "cell_type": "code",
   "execution_count": null,
   "id": "364307f7",
   "metadata": {},
   "outputs": [],
   "source": [
    "app_train['ORGANIZATION_TYPE'].value_counts()"
   ]
  },
  {
   "cell_type": "code",
   "execution_count": null,
   "id": "8a0b4253",
   "metadata": {},
   "outputs": [],
   "source": [
    "# 学習データとテストデータを結合しget_dummiesによるone-hot encodingを行う\n",
    "cat_cols = ['ORGANIZATION_TYPE']\n",
    "all_x = pd.concat([app_train, app_test])\n",
    "all_x = pd.get_dummies(all_x, columns=cat_cols)\n",
    "\n",
    "# 学習データとテストデータを分割\n",
    "app_train = all_x.iloc[:app_train.shape[0], :].reset_index(drop=True)\n",
    "app_test  = all_x.iloc[app_train.shape[0]:, :].reset_index(drop=True)\n",
    "\n",
    "app_train.head()"
   ]
  },
  {
   "cell_type": "markdown",
   "id": "a5e7d73a",
   "metadata": {},
   "source": [
    "### EXT_SOURCE_1"
   ]
  },
  {
   "cell_type": "code",
   "execution_count": null,
   "id": "d0013c40",
   "metadata": {},
   "outputs": [],
   "source": [
    "app_train['EXT_SOURCE_1'].isnull().sum()"
   ]
  },
  {
   "cell_type": "code",
   "execution_count": null,
   "id": "56874b86",
   "metadata": {},
   "outputs": [],
   "source": [
    "app_train['EXT_SOURCE_1'].value_counts()"
   ]
  },
  {
   "cell_type": "code",
   "execution_count": null,
   "id": "f115ee32",
   "metadata": {},
   "outputs": [],
   "source": [
    "app_train[['EXT_SOURCE_1','TARGET']].corr()"
   ]
  },
  {
   "cell_type": "code",
   "execution_count": null,
   "id": "45141d88",
   "metadata": {},
   "outputs": [],
   "source": [
    "## train代表値で欠損値を補完\n",
    "#app_train['EXT_SOURCE_1'].fillna(app_train['EXT_SOURCE_1'].mode().iloc[0], inplace=True)\n",
    "## test代表値で欠損値を補完\n",
    "#app_train['EXT_SOURCE_1'].fillna(app_train['EXT_SOURCE_1'].mode().iloc[0], inplace=True)"
   ]
  },
  {
   "cell_type": "code",
   "execution_count": null,
   "id": "ba3885b2",
   "metadata": {},
   "outputs": [],
   "source": [
    "kde_target('EXT_SOURCE_1', app_train)"
   ]
  },
  {
   "cell_type": "code",
   "execution_count": null,
   "id": "5a781315",
   "metadata": {},
   "outputs": [],
   "source": [
    "## 標準化\n",
    "num_cols = ['EXT_SOURCE_1']\n",
    "scaler = StandardScaler()\n",
    "scaler.fit(app_train[num_cols])\n",
    "\n",
    "app_train[num_cols] = scaler.transform(app_train[num_cols])\n",
    "app_test[num_cols] = scaler.transform(app_test[num_cols])\n",
    "app_train[['EXT_SOURCE_1', 'TARGET']].corr()"
   ]
  },
  {
   "cell_type": "code",
   "execution_count": null,
   "id": "936c031a",
   "metadata": {},
   "outputs": [],
   "source": [
    "## Yao-Johnson変換後の特徴量の分布\n",
    "kde_target('EXT_SOURCE_1', app_train)"
   ]
  },
  {
   "cell_type": "markdown",
   "id": "3147f636",
   "metadata": {},
   "source": [
    "### EXT_SOURCE_2"
   ]
  },
  {
   "cell_type": "code",
   "execution_count": null,
   "id": "7c58de99",
   "metadata": {},
   "outputs": [],
   "source": [
    "app_train['EXT_SOURCE_2'].isnull().sum()"
   ]
  },
  {
   "cell_type": "code",
   "execution_count": null,
   "id": "90defbfe",
   "metadata": {},
   "outputs": [],
   "source": [
    "app_train['EXT_SOURCE_2'].value_counts()"
   ]
  },
  {
   "cell_type": "code",
   "execution_count": null,
   "id": "a43a57b6",
   "metadata": {},
   "outputs": [],
   "source": [
    "app_train[['EXT_SOURCE_2','TARGET']].corr()"
   ]
  },
  {
   "cell_type": "code",
   "execution_count": null,
   "id": "b46bfb5a",
   "metadata": {},
   "outputs": [],
   "source": [
    "kde_target('EXT_SOURCE_2', app_train)"
   ]
  },
  {
   "cell_type": "code",
   "execution_count": null,
   "id": "d40eee0e",
   "metadata": {},
   "outputs": [],
   "source": [
    "## 標準化\n",
    "num_cols = ['EXT_SOURCE_2']\n",
    "scaler = StandardScaler()\n",
    "scaler.fit(app_train[num_cols])\n",
    "\n",
    "app_train[num_cols] = scaler.transform(app_train[num_cols])\n",
    "app_test[num_cols] = scaler.transform(app_test[num_cols])\n",
    "app_train[['EXT_SOURCE_2', 'TARGET']].corr()"
   ]
  },
  {
   "cell_type": "code",
   "execution_count": null,
   "id": "c43f8852",
   "metadata": {},
   "outputs": [],
   "source": [
    "kde_target('EXT_SOURCE_2', app_train)"
   ]
  },
  {
   "cell_type": "code",
   "execution_count": null,
   "id": "3adbb6ca",
   "metadata": {},
   "outputs": [],
   "source": [
    "### EXT_SOURCE_3"
   ]
  },
  {
   "cell_type": "code",
   "execution_count": null,
   "id": "8b73ec88",
   "metadata": {},
   "outputs": [],
   "source": [
    "app_train['EXT_SOURCE_3'].isnull().sum()"
   ]
  },
  {
   "cell_type": "code",
   "execution_count": null,
   "id": "6a909dc5",
   "metadata": {},
   "outputs": [],
   "source": [
    "app_train['EXT_SOURCE_3'].value_counts()"
   ]
  },
  {
   "cell_type": "code",
   "execution_count": null,
   "id": "70219c3b",
   "metadata": {},
   "outputs": [],
   "source": [
    "app_train[['EXT_SOURCE_3','TARGET']].corr()"
   ]
  },
  {
   "cell_type": "code",
   "execution_count": null,
   "id": "4e8df1b0",
   "metadata": {},
   "outputs": [],
   "source": [
    "kde_target('EXT_SOURCE_3', app_train)"
   ]
  },
  {
   "cell_type": "code",
   "execution_count": null,
   "id": "e6086395",
   "metadata": {},
   "outputs": [],
   "source": [
    "## 標準化\n",
    "num_cols = ['EXT_SOURCE_3']\n",
    "scaler = StandardScaler()\n",
    "scaler.fit(app_train[num_cols])\n",
    "\n",
    "app_train[num_cols] = scaler.transform(app_train[num_cols])\n",
    "app_test[num_cols] = scaler.transform(app_test[num_cols])\n",
    "app_train[['EXT_SOURCE_3', 'TARGET']].corr()"
   ]
  },
  {
   "cell_type": "code",
   "execution_count": null,
   "id": "2e13c0d7",
   "metadata": {},
   "outputs": [],
   "source": [
    "kde_target('EXT_SOURCE_3', app_train)"
   ]
  },
  {
   "cell_type": "code",
   "execution_count": null,
   "id": "cedb1f06",
   "metadata": {},
   "outputs": [],
   "source": [
    "### APARTMENTS_AVG"
   ]
  },
  {
   "cell_type": "code",
   "execution_count": null,
   "id": "99c16239",
   "metadata": {},
   "outputs": [],
   "source": [
    "app_train['APARTMENTS_AVG'].isnull().sum()"
   ]
  },
  {
   "cell_type": "code",
   "execution_count": null,
   "id": "56b9e2bc",
   "metadata": {},
   "outputs": [],
   "source": [
    "app_train['APARTMENTS_AVG'].value_counts()"
   ]
  },
  {
   "cell_type": "code",
   "execution_count": null,
   "id": "e4de7c1d",
   "metadata": {},
   "outputs": [],
   "source": [
    "app_train[['APARTMENTS_AVG','TARGET']].corr()"
   ]
  },
  {
   "cell_type": "code",
   "execution_count": null,
   "id": "706611b1",
   "metadata": {},
   "outputs": [],
   "source": [
    "kde_target('APARTMENTS_AVG', app_train)"
   ]
  },
  {
   "cell_type": "code",
   "execution_count": null,
   "id": "7c9ca002",
   "metadata": {},
   "outputs": [],
   "source": [
    "## Yao-Johnson変換\n",
    "#num_cols = ['APARTMENTS_AVG']\n",
    "### 学習データに基づいてYao-Johnson変換を定義\n",
    "#pt = PowerTransformer(method = 'yeo-johnson')\n",
    "#pt.fit(app_train[num_cols].copy())\n",
    "\n",
    "### 変換後のデータで各列を置換\n",
    "#app_train['APARTMENTS_AVG'] = pt.transform(app_train[num_cols])\n",
    "#app_test['APARTMENTS_AVG'] = pt.transform(app_test[num_cols])\n",
    "\n",
    "#app_train[['APARTMENTS_AVG', 'TARGET']].corr()"
   ]
  },
  {
   "cell_type": "code",
   "execution_count": null,
   "id": "6b65d2c7",
   "metadata": {},
   "outputs": [],
   "source": [
    "## 標準化\n",
    "num_cols = ['APARTMENTS_AVG']\n",
    "scaler = StandardScaler()\n",
    "scaler.fit(app_train[num_cols])\n",
    "\n",
    "app_train[num_cols] = scaler.transform(app_train[num_cols])\n",
    "app_test[num_cols] = scaler.transform(app_test[num_cols])\n",
    "app_train[['APARTMENTS_AVG', 'TARGET']].corr()"
   ]
  },
  {
   "cell_type": "code",
   "execution_count": null,
   "id": "82cb6c2b",
   "metadata": {},
   "outputs": [],
   "source": [
    "## Yao-Johnson変換後の特徴量の分布\n",
    "kde_target('APARTMENTS_AVG', app_train)"
   ]
  },
  {
   "cell_type": "markdown",
   "id": "f4afda9c",
   "metadata": {},
   "source": [
    "### BASEMENTAREA_AVG"
   ]
  },
  {
   "cell_type": "code",
   "execution_count": null,
   "id": "7f0fabd3",
   "metadata": {},
   "outputs": [],
   "source": [
    "app_train['BASEMENTAREA_AVG'].isnull().sum()"
   ]
  },
  {
   "cell_type": "code",
   "execution_count": null,
   "id": "71e48799",
   "metadata": {},
   "outputs": [],
   "source": [
    "app_train['BASEMENTAREA_AVG'].value_counts()"
   ]
  },
  {
   "cell_type": "code",
   "execution_count": null,
   "id": "ca20eecb",
   "metadata": {},
   "outputs": [],
   "source": [
    "app_train[['BASEMENTAREA_AVG','TARGET']].corr()"
   ]
  },
  {
   "cell_type": "code",
   "execution_count": null,
   "id": "319d939d",
   "metadata": {},
   "outputs": [],
   "source": [
    "kde_target('BASEMENTAREA_AVG', app_train)"
   ]
  },
  {
   "cell_type": "code",
   "execution_count": null,
   "id": "3bd81ed3",
   "metadata": {},
   "outputs": [],
   "source": [
    "## Yao-Johnson変換\n",
    "#num_cols = ['BASEMENTAREA_AVG']\n",
    "### 学習データに基づいてYao-Johnson変換を定義\n",
    "#pt = PowerTransformer(method = 'yeo-johnson')\n",
    "#pt.fit(app_train[num_cols].copy())\n",
    "\n",
    "### 変換後のデータで各列を置換\n",
    "#app_train['BASEMENTAREA_AVG'] = pt.transform(app_train[num_cols])\n",
    "#app_test['BASEMENTAREA_AVG'] = pt.transform(app_test[num_cols])\n",
    "\n",
    "#app_train[['BASEMENTAREA_AVG', 'TARGET']].corr()"
   ]
  },
  {
   "cell_type": "code",
   "execution_count": null,
   "id": "d01ac524",
   "metadata": {},
   "outputs": [],
   "source": [
    "## 標準化\n",
    "num_cols = ['BASEMENTAREA_AVG']\n",
    "scaler = StandardScaler()\n",
    "scaler.fit(app_train[num_cols])\n",
    "\n",
    "app_train[num_cols] = scaler.transform(app_train[num_cols])\n",
    "app_test[num_cols] = scaler.transform(app_test[num_cols])\n",
    "app_train[['BASEMENTAREA_AVG', 'TARGET']].corr()"
   ]
  },
  {
   "cell_type": "code",
   "execution_count": null,
   "id": "25055fda",
   "metadata": {},
   "outputs": [],
   "source": [
    "## Yao-Johnson変換後の特徴量の分布\n",
    "kde_target('BASEMENTAREA_AVG', app_train)"
   ]
  },
  {
   "cell_type": "code",
   "execution_count": null,
   "id": "26744b5a",
   "metadata": {},
   "outputs": [],
   "source": [
    "### YEARS_BEGINEXPLUATATION_AVG"
   ]
  },
  {
   "cell_type": "code",
   "execution_count": null,
   "id": "98cabc16",
   "metadata": {},
   "outputs": [],
   "source": [
    "app_train['YEARS_BEGINEXPLUATATION_AVG'].isnull().sum()"
   ]
  },
  {
   "cell_type": "code",
   "execution_count": null,
   "id": "013d56d1",
   "metadata": {},
   "outputs": [],
   "source": [
    "app_train['YEARS_BEGINEXPLUATATION_AVG'].value_counts()"
   ]
  },
  {
   "cell_type": "code",
   "execution_count": null,
   "id": "dfca71df",
   "metadata": {},
   "outputs": [],
   "source": [
    "app_train[['YEARS_BEGINEXPLUATATION_AVG','TARGET']].corr()"
   ]
  },
  {
   "cell_type": "code",
   "execution_count": null,
   "id": "92b85ac4",
   "metadata": {},
   "outputs": [],
   "source": [
    "## Yao-Johnson変換\n",
    "num_cols = ['YEARS_BEGINEXPLUATATION_AVG']\n",
    "### 学習データに基づいてYao-Johnson変換を定義\n",
    "pt = PowerTransformer(method = 'yeo-johnson')\n",
    "pt.fit(app_train[num_cols].copy())\n",
    "\n",
    "### 変換後のデータで各列を置換\n",
    "app_train['YEARS_BEGINEXPLUATATION_AVG'] = pt.transform(app_train[num_cols])\n",
    "app_test['YEARS_BEGINEXPLUATATION_AVG'] = pt.transform(app_test[num_cols])\n",
    "\n",
    "app_train[['YEARS_BEGINEXPLUATATION_AVG', 'TARGET']].corr()"
   ]
  },
  {
   "cell_type": "code",
   "execution_count": null,
   "id": "d942472f",
   "metadata": {},
   "outputs": [],
   "source": [
    "## 標準化\n",
    "num_cols = ['YEARS_BEGINEXPLUATATION_AVG']\n",
    "scaler = StandardScaler()\n",
    "scaler.fit(app_train[num_cols])\n",
    "\n",
    "app_train[num_cols] = scaler.transform(app_train[num_cols])\n",
    "app_test[num_cols] = scaler.transform(app_test[num_cols])\n",
    "app_train[['YEARS_BEGINEXPLUATATION_AVG', 'TARGET']].corr()"
   ]
  },
  {
   "cell_type": "code",
   "execution_count": null,
   "id": "b8e73dd3",
   "metadata": {},
   "outputs": [],
   "source": [
    "## Yao-Johnson変換後の特徴量の分布\n",
    "kde_target('YEARS_BEGINEXPLUATATION_AVG', app_train)"
   ]
  },
  {
   "cell_type": "code",
   "execution_count": null,
   "id": "72f64298",
   "metadata": {},
   "outputs": [],
   "source": [
    "### YEARS_BUILD_AVG"
   ]
  },
  {
   "cell_type": "code",
   "execution_count": null,
   "id": "b7efa998",
   "metadata": {},
   "outputs": [],
   "source": [
    "app_train['YEARS_BUILD_AVG'].isnull().sum()"
   ]
  },
  {
   "cell_type": "code",
   "execution_count": null,
   "id": "d11699e4",
   "metadata": {},
   "outputs": [],
   "source": [
    "app_train['YEARS_BUILD_AVG'].value_counts()"
   ]
  },
  {
   "cell_type": "code",
   "execution_count": null,
   "id": "f93cd6eb",
   "metadata": {},
   "outputs": [],
   "source": [
    "app_train[['YEARS_BUILD_AVG','TARGET']].corr()"
   ]
  },
  {
   "cell_type": "code",
   "execution_count": null,
   "id": "3accb026",
   "metadata": {},
   "outputs": [],
   "source": [
    "kde_target('YEARS_BUILD_AVG', app_train)"
   ]
  },
  {
   "cell_type": "code",
   "execution_count": null,
   "id": "9a545a17",
   "metadata": {},
   "outputs": [],
   "source": [
    "## Yao-Johnson変換\n",
    "num_cols = ['YEARS_BUILD_AVG']\n",
    "### 学習データに基づいてYao-Johnson変換を定義\n",
    "pt = PowerTransformer(method = 'yeo-johnson')\n",
    "pt.fit(app_train[num_cols].copy())\n",
    "\n",
    "### 変換後のデータで各列を置換\n",
    "app_train['YEARS_BUILD_AVG'] = pt.transform(app_train[num_cols])\n",
    "app_test['YEARS_BUILD_AVG'] = pt.transform(app_test[num_cols])\n",
    "\n",
    "app_train[['YEARS_BUILD_AVG', 'TARGET']].corr()"
   ]
  },
  {
   "cell_type": "code",
   "execution_count": null,
   "id": "b7656653",
   "metadata": {},
   "outputs": [],
   "source": [
    "## 標準化\n",
    "num_cols = ['YEARS_BUILD_AVG']\n",
    "scaler = StandardScaler()\n",
    "scaler.fit(app_train[num_cols])\n",
    "\n",
    "app_train[num_cols] = scaler.transform(app_train[num_cols])\n",
    "app_test[num_cols] = scaler.transform(app_test[num_cols])\n",
    "app_train[['YEARS_BUILD_AVG', 'TARGET']].corr()"
   ]
  },
  {
   "cell_type": "code",
   "execution_count": null,
   "id": "9079e13c",
   "metadata": {},
   "outputs": [],
   "source": [
    "## Yao-Johnson変換後の特徴量の分布\n",
    "kde_target('YEARS_BUILD_AVG', app_train)"
   ]
  },
  {
   "cell_type": "markdown",
   "id": "300d2358",
   "metadata": {},
   "source": [
    "### COMMONAREA_AVG"
   ]
  },
  {
   "cell_type": "code",
   "execution_count": null,
   "id": "80956fd0",
   "metadata": {},
   "outputs": [],
   "source": [
    "app_train['COMMONAREA_AVG'].isnull().sum()"
   ]
  },
  {
   "cell_type": "code",
   "execution_count": null,
   "id": "6f0e015a",
   "metadata": {},
   "outputs": [],
   "source": [
    "app_train['COMMONAREA_AVG'].value_counts()"
   ]
  },
  {
   "cell_type": "code",
   "execution_count": null,
   "id": "88efdbd7",
   "metadata": {},
   "outputs": [],
   "source": [
    "app_train[['COMMONAREA_AVG','TARGET']].corr()"
   ]
  },
  {
   "cell_type": "code",
   "execution_count": null,
   "id": "54a31ba6",
   "metadata": {},
   "outputs": [],
   "source": [
    "kde_target('COMMONAREA_AVG', app_train)"
   ]
  },
  {
   "cell_type": "code",
   "execution_count": null,
   "id": "50cb8f20",
   "metadata": {},
   "outputs": [],
   "source": [
    "## Yao-Johnson変換\n",
    "num_cols = ['COMMONAREA_AVG']\n",
    "### 学習データに基づいてYao-Johnson変換を定義\n",
    "pt = PowerTransformer(method = 'yeo-johnson')\n",
    "pt.fit(app_train[num_cols].copy())\n",
    "\n",
    "### 変換後のデータで各列を置換\n",
    "app_train['COMMONAREA_AVG'] = pt.transform(app_train[num_cols])\n",
    "app_test['COMMONAREA_AVG'] = pt.transform(app_test[num_cols])\n",
    "\n",
    "app_train[['COMMONAREA_AVG', 'TARGET']].corr()"
   ]
  },
  {
   "cell_type": "code",
   "execution_count": null,
   "id": "ff6acad2",
   "metadata": {},
   "outputs": [],
   "source": [
    "## 標準化\n",
    "num_cols = ['COMMONAREA_AVG']\n",
    "scaler = StandardScaler()\n",
    "scaler.fit(app_train[num_cols])\n",
    "\n",
    "app_train[num_cols] = scaler.transform(app_train[num_cols])\n",
    "app_test[num_cols] = scaler.transform(app_test[num_cols])\n",
    "app_train[['COMMONAREA_AVG', 'TARGET']].corr()\n",
    "\n",
    "\n",
    "## Yao-Johnson変換後の特徴量の分布\n",
    "kde_target('COMMONAREA_AVG', app_train)"
   ]
  },
  {
   "cell_type": "code",
   "execution_count": null,
   "id": "12e73331",
   "metadata": {},
   "outputs": [],
   "source": [
    "columns = ['COMMONAREA_AVG']\n",
    "app_train.drop(columns, axis=1, inplace=True)\n",
    "app_test.drop(columns, axis=1, inplace=True)"
   ]
  },
  {
   "cell_type": "code",
   "execution_count": null,
   "id": "331680e0",
   "metadata": {},
   "outputs": [],
   "source": [
    "### ELEVATORS_AVG"
   ]
  },
  {
   "cell_type": "code",
   "execution_count": null,
   "id": "70c6fd70",
   "metadata": {},
   "outputs": [],
   "source": [
    "app_train['ELEVATORS_AVG'].isnull().sum()"
   ]
  },
  {
   "cell_type": "code",
   "execution_count": null,
   "id": "ce4f9c0e",
   "metadata": {},
   "outputs": [],
   "source": [
    "app_train['ELEVATORS_AVG'].value_counts()"
   ]
  },
  {
   "cell_type": "code",
   "execution_count": null,
   "id": "d43476b4",
   "metadata": {},
   "outputs": [],
   "source": [
    "app_train[['ELEVATORS_AVG','TARGET']].corr()"
   ]
  },
  {
   "cell_type": "code",
   "execution_count": null,
   "id": "38a4171e",
   "metadata": {},
   "outputs": [],
   "source": [
    "kde_target('ELEVATORS_AVG', app_train)"
   ]
  },
  {
   "cell_type": "code",
   "execution_count": null,
   "id": "c3320ec4",
   "metadata": {},
   "outputs": [],
   "source": [
    "## Yao-Johnson変換\n",
    "#num_cols = ['ELEVATORS_AVG']\n",
    "### 学習データに基づいてYao-Johnson変換を定義\n",
    "#pt = PowerTransformer(method = 'yeo-johnson')\n",
    "#pt.fit(app_train[num_cols].copy())\n",
    "\n",
    "### 変換後のデータで各列を置換\n",
    "#app_train['ELEVATORS_AVG'] = pt.transform(app_train[num_cols])\n",
    "#app_test['ELEVATORS_AVG'] = pt.transform(app_test[num_cols])\n",
    "\n",
    "#app_train[['ELEVATORS_AVG', 'TARGET']].corr()"
   ]
  },
  {
   "cell_type": "code",
   "execution_count": null,
   "id": "1088d4ff",
   "metadata": {},
   "outputs": [],
   "source": [
    "## 標準化\n",
    "num_cols = ['ELEVATORS_AVG']\n",
    "scaler = StandardScaler()\n",
    "scaler.fit(app_train[num_cols])\n",
    "\n",
    "app_train[num_cols] = scaler.transform(app_train[num_cols])\n",
    "app_test[num_cols] = scaler.transform(app_test[num_cols])\n",
    "app_train[['ELEVATORS_AVG', 'TARGET']].corr()"
   ]
  },
  {
   "cell_type": "code",
   "execution_count": null,
   "id": "bf118bae",
   "metadata": {},
   "outputs": [],
   "source": [
    "## Yao-Johnson変換後の特徴量の分布\n",
    "kde_target('ELEVATORS_AVG', app_train)"
   ]
  },
  {
   "cell_type": "code",
   "execution_count": null,
   "id": "7c2d5222",
   "metadata": {},
   "outputs": [],
   "source": [
    "### ENTRANCES_AVG"
   ]
  },
  {
   "cell_type": "code",
   "execution_count": null,
   "id": "1bf88dc6",
   "metadata": {},
   "outputs": [],
   "source": [
    "app_train['ENTRANCES_AVG'].isnull().sum()"
   ]
  },
  {
   "cell_type": "code",
   "execution_count": null,
   "id": "d74fc02f",
   "metadata": {},
   "outputs": [],
   "source": [
    "app_train['ENTRANCES_AVG'].value_counts()"
   ]
  },
  {
   "cell_type": "code",
   "execution_count": null,
   "id": "50925507",
   "metadata": {},
   "outputs": [],
   "source": [
    "app_train[['ENTRANCES_AVG','TARGET']].corr()"
   ]
  },
  {
   "cell_type": "code",
   "execution_count": null,
   "id": "3ad2b60f",
   "metadata": {},
   "outputs": [],
   "source": [
    "kde_target('ENTRANCES_AVG', app_train)"
   ]
  },
  {
   "cell_type": "code",
   "execution_count": null,
   "id": "48f3f110",
   "metadata": {},
   "outputs": [],
   "source": [
    "## Yao-Johnson変換\n",
    "#num_cols = ['ENTRANCES_AVG']\n",
    "### 学習データに基づいてYao-Johnson変換を定義\n",
    "#pt = PowerTransformer(method = 'yeo-johnson')\n",
    "#pt.fit(app_train[num_cols].copy())\n",
    "\n",
    "### 変換後のデータで各列を置換\n",
    "#app_train['ENTRANCES_AVG'] = pt.transform(app_train[num_cols])\n",
    "#app_test['ENTRANCES_AVG'] = pt.transform(app_test[num_cols])\n",
    "\n",
    "#app_train[['ENTRANCES_AVG', 'TARGET']].corr()"
   ]
  },
  {
   "cell_type": "code",
   "execution_count": null,
   "id": "cdea67a1",
   "metadata": {},
   "outputs": [],
   "source": [
    "## 標準化\n",
    "num_cols = ['ENTRANCES_AVG']\n",
    "scaler = StandardScaler()\n",
    "scaler.fit(app_train[num_cols])\n",
    "\n",
    "app_train[num_cols] = scaler.transform(app_train[num_cols])\n",
    "app_test[num_cols] = scaler.transform(app_test[num_cols])\n",
    "app_train[['ENTRANCES_AVG', 'TARGET']].corr()"
   ]
  },
  {
   "cell_type": "code",
   "execution_count": null,
   "id": "ef4d0298",
   "metadata": {},
   "outputs": [],
   "source": [
    "## Yao-Johnson変換後の特徴量の分布\n",
    "kde_target('ENTRANCES_AVG', app_train)"
   ]
  },
  {
   "cell_type": "markdown",
   "id": "4120a168",
   "metadata": {},
   "source": [
    "### FLOORSMAX_AVG"
   ]
  },
  {
   "cell_type": "code",
   "execution_count": null,
   "id": "39f0ab0d",
   "metadata": {},
   "outputs": [],
   "source": [
    "app_train['FLOORSMAX_AVG'].isnull().sum()"
   ]
  },
  {
   "cell_type": "code",
   "execution_count": null,
   "id": "9c4ad372",
   "metadata": {},
   "outputs": [],
   "source": [
    "app_train['FLOORSMAX_AVG'].value_counts()"
   ]
  },
  {
   "cell_type": "code",
   "execution_count": null,
   "id": "997bad6f",
   "metadata": {},
   "outputs": [],
   "source": [
    "app_train[['FLOORSMAX_AVG','TARGET']].corr()"
   ]
  },
  {
   "cell_type": "code",
   "execution_count": null,
   "id": "597ee827",
   "metadata": {},
   "outputs": [],
   "source": [
    "kde_target('FLOORSMAX_AVG', app_train)"
   ]
  },
  {
   "cell_type": "code",
   "execution_count": null,
   "id": "b07dee86",
   "metadata": {},
   "outputs": [],
   "source": [
    "## Yao-Johnson変換\n",
    "#num_cols = ['FLOORSMAX_AVG']\n",
    "### 学習データに基づいてYao-Johnson変換を定義\n",
    "#pt = PowerTransformer(method = 'yeo-johnson')\n",
    "#pt.fit(app_train[num_cols].copy())\n",
    "\n",
    "### 変換後のデータで各列を置換\n",
    "#app_train['FLOORSMAX_AVG'] = pt.transform(app_train[num_cols])\n",
    "#app_test['FLOORSMAX_AVG'] = pt.transform(app_test[num_cols])\n",
    "\n",
    "#app_train[['FLOORSMAX_AVG', 'TARGET']].corr()"
   ]
  },
  {
   "cell_type": "code",
   "execution_count": null,
   "id": "e50764a0",
   "metadata": {},
   "outputs": [],
   "source": [
    "## 標準化\n",
    "num_cols = ['FLOORSMAX_AVG']\n",
    "scaler = StandardScaler()\n",
    "scaler.fit(app_train[num_cols])\n",
    "\n",
    "app_train[num_cols] = scaler.transform(app_train[num_cols])\n",
    "app_test[num_cols] = scaler.transform(app_test[num_cols])\n",
    "app_train[['FLOORSMAX_AVG', 'TARGET']].corr()"
   ]
  },
  {
   "cell_type": "code",
   "execution_count": null,
   "id": "85589657",
   "metadata": {},
   "outputs": [],
   "source": [
    "## Yao-Johnson変換後の特徴量の分布\n",
    "kde_target('FLOORSMAX_AVG', app_train)"
   ]
  },
  {
   "cell_type": "code",
   "execution_count": null,
   "id": "56f893e6",
   "metadata": {},
   "outputs": [],
   "source": [
    "### FLOORSMIN_AVG"
   ]
  },
  {
   "cell_type": "code",
   "execution_count": null,
   "id": "4fbacc37",
   "metadata": {},
   "outputs": [],
   "source": [
    "app_train['FLOORSMIN_AVG'].isnull().sum()"
   ]
  },
  {
   "cell_type": "code",
   "execution_count": null,
   "id": "9891553a",
   "metadata": {},
   "outputs": [],
   "source": [
    "app_train['FLOORSMIN_AVG'].value_counts()"
   ]
  },
  {
   "cell_type": "code",
   "execution_count": null,
   "id": "05bc9d81",
   "metadata": {},
   "outputs": [],
   "source": [
    "app_train[['FLOORSMIN_AVG','TARGET']].corr()"
   ]
  },
  {
   "cell_type": "code",
   "execution_count": null,
   "id": "7bdcca18",
   "metadata": {},
   "outputs": [],
   "source": [
    "kde_target('FLOORSMIN_AVG', app_train)"
   ]
  },
  {
   "cell_type": "code",
   "execution_count": null,
   "id": "390c293e",
   "metadata": {},
   "outputs": [],
   "source": [
    "## Yao-Johnson変換\n",
    "#num_cols = ['FLOORSMIN_AVG']\n",
    "### 学習データに基づいてYao-Johnson変換を定義\n",
    "#pt = PowerTransformer(method = 'yeo-johnson')\n",
    "#pt.fit(app_train[num_cols].copy())\n",
    "\n",
    "### 変換後のデータで各列を置換\n",
    "#app_train['FLOORSMIN_AVG'] = pt.transform(app_train[num_cols])\n",
    "#app_test['FLOORSMIN_AVG'] = pt.transform(app_test[num_cols])\n",
    "\n",
    "#app_train[['FLOORSMIN_AVG', 'TARGET']].corr()"
   ]
  },
  {
   "cell_type": "code",
   "execution_count": null,
   "id": "78fcac93",
   "metadata": {},
   "outputs": [],
   "source": [
    "## 標準化\n",
    "num_cols = ['FLOORSMIN_AVG']\n",
    "scaler = StandardScaler()\n",
    "scaler.fit(app_train[num_cols])\n",
    "\n",
    "app_train[num_cols] = scaler.transform(app_train[num_cols])\n",
    "app_test[num_cols] = scaler.transform(app_test[num_cols])\n",
    "app_train[['FLOORSMIN_AVG', 'TARGET']].corr()"
   ]
  },
  {
   "cell_type": "code",
   "execution_count": null,
   "id": "dbbb31d1",
   "metadata": {},
   "outputs": [],
   "source": [
    "## Yao-Johnson変換後の特徴量の分布\n",
    "kde_target('FLOORSMIN_AVG', app_train)"
   ]
  },
  {
   "cell_type": "markdown",
   "id": "3eaef517",
   "metadata": {},
   "source": [
    "### LANDAREA_AVG"
   ]
  },
  {
   "cell_type": "code",
   "execution_count": null,
   "id": "5ba6534b",
   "metadata": {},
   "outputs": [],
   "source": [
    "app_train['LANDAREA_AVG'].isnull().sum()"
   ]
  },
  {
   "cell_type": "code",
   "execution_count": null,
   "id": "615ce58d",
   "metadata": {},
   "outputs": [],
   "source": [
    "app_train['LANDAREA_AVG'].value_counts()"
   ]
  },
  {
   "cell_type": "code",
   "execution_count": null,
   "id": "950cc370",
   "metadata": {},
   "outputs": [],
   "source": [
    "app_train[['LANDAREA_AVG','TARGET']].corr()"
   ]
  },
  {
   "cell_type": "code",
   "execution_count": null,
   "id": "282c6265",
   "metadata": {},
   "outputs": [],
   "source": [
    "kde_target('LANDAREA_AVG', app_train)"
   ]
  },
  {
   "cell_type": "code",
   "execution_count": null,
   "id": "930b5ca3",
   "metadata": {},
   "outputs": [],
   "source": [
    "## Yao-Johnson変換\n",
    "#num_cols = ['LANDAREA_AVG']\n",
    "### 学習データに基づいてYao-Johnson変換を定義\n",
    "#pt = PowerTransformer(method = 'yeo-johnson')\n",
    "#pt.fit(app_train[num_cols].copy())\n",
    "\n",
    "### 変換後のデータで各列を置換\n",
    "#app_train['LANDAREA_AVG'] = pt.transform(app_train[num_cols])\n",
    "#app_test['LANDAREA_AVG'] = pt.transform(app_test[num_cols])\n",
    "\n",
    "#app_train[['LANDAREA_AVG', 'TARGET']].corr()"
   ]
  },
  {
   "cell_type": "code",
   "execution_count": null,
   "id": "a3174af9",
   "metadata": {},
   "outputs": [],
   "source": [
    "## 標準化\n",
    "#num_cols = ['LANDAREA_AVG']\n",
    "#scaler = StandardScaler()\n",
    "#scaler.fit(app_train[num_cols])\n",
    "\n",
    "#app_train[num_cols] = scaler.transform(app_train[num_cols])\n",
    "#app_test[num_cols] = scaler.transform(app_test[num_cols])\n",
    "#app_train[['LANDAREA_AVG', 'TARGET']].corr()"
   ]
  },
  {
   "cell_type": "code",
   "execution_count": null,
   "id": "10fe9a6a",
   "metadata": {},
   "outputs": [],
   "source": [
    "columns = ['LANDAREA_AVG']\n",
    "app_train.drop(columns, axis=1, inplace=True)\n",
    "app_test.drop(columns, axis=1, inplace=True)"
   ]
  },
  {
   "cell_type": "code",
   "execution_count": null,
   "id": "a21e5f94",
   "metadata": {},
   "outputs": [],
   "source": [
    "### LIVINGAPARTMENTS_AVG"
   ]
  },
  {
   "cell_type": "code",
   "execution_count": null,
   "id": "08197056",
   "metadata": {},
   "outputs": [],
   "source": [
    "app_train['LIVINGAPARTMENTS_AVG'].isnull().sum()"
   ]
  },
  {
   "cell_type": "code",
   "execution_count": null,
   "id": "c42d21e6",
   "metadata": {},
   "outputs": [],
   "source": [
    "app_train['LIVINGAPARTMENTS_AVG'].value_counts()"
   ]
  },
  {
   "cell_type": "code",
   "execution_count": null,
   "id": "1e7c9c1e",
   "metadata": {},
   "outputs": [],
   "source": [
    "app_train[['LIVINGAPARTMENTS_AVG','TARGET']].corr()"
   ]
  },
  {
   "cell_type": "code",
   "execution_count": null,
   "id": "5a42b53b",
   "metadata": {},
   "outputs": [],
   "source": [
    "kde_target('LIVINGAPARTMENTS_AVG', app_train)"
   ]
  },
  {
   "cell_type": "code",
   "execution_count": null,
   "id": "9ace87e1",
   "metadata": {},
   "outputs": [],
   "source": [
    "## Yao-Johnson変換\n",
    "#num_cols = ['LIVINGAPARTMENTS_AVG']\n",
    "### 学習データに基づいてYao-Johnson変換を定義\n",
    "#pt = PowerTransformer(method = 'yeo-johnson')\n",
    "#pt.fit(app_train[num_cols].copy())\n",
    "\n",
    "### 変換後のデータで各列を置換\n",
    "#app_train['LIVINGAPARTMENTS_AVG'] = pt.transform(app_train[num_cols])\n",
    "#app_test['LIVINGAPARTMENTS_AVG'] = pt.transform(app_test[num_cols])\n",
    "\n",
    "#app_train[['LIVINGAPARTMENTS_AVG', 'TARGET']].corr()"
   ]
  },
  {
   "cell_type": "code",
   "execution_count": null,
   "id": "7d162185",
   "metadata": {},
   "outputs": [],
   "source": [
    "## 標準化\n",
    "num_cols = ['LIVINGAPARTMENTS_AVG']\n",
    "scaler = StandardScaler()\n",
    "scaler.fit(app_train[num_cols])\n",
    "\n",
    "app_train[num_cols] = scaler.transform(app_train[num_cols])\n",
    "app_test[num_cols] = scaler.transform(app_test[num_cols])\n",
    "app_train[['LIVINGAPARTMENTS_AVG', 'TARGET']].corr()"
   ]
  },
  {
   "cell_type": "code",
   "execution_count": null,
   "id": "b992ebff",
   "metadata": {},
   "outputs": [],
   "source": [
    "## Yao-Johnson変換後の特徴量の分布\n",
    "kde_target('LIVINGAPARTMENTS_AVG', app_train)"
   ]
  },
  {
   "cell_type": "markdown",
   "id": "8432cba3",
   "metadata": {},
   "source": [
    "### LIVINGAREA_AVG"
   ]
  },
  {
   "cell_type": "code",
   "execution_count": null,
   "id": "3a26ccfa",
   "metadata": {},
   "outputs": [],
   "source": [
    "app_train['LIVINGAREA_AVG'].isnull().sum()"
   ]
  },
  {
   "cell_type": "code",
   "execution_count": null,
   "id": "1f568c52",
   "metadata": {},
   "outputs": [],
   "source": [
    "app_train['LIVINGAREA_AVG'].value_counts()"
   ]
  },
  {
   "cell_type": "code",
   "execution_count": null,
   "id": "2c4fab8e",
   "metadata": {},
   "outputs": [],
   "source": [
    "app_train[['LIVINGAREA_AVG','TARGET']].corr()"
   ]
  },
  {
   "cell_type": "code",
   "execution_count": null,
   "id": "b3c3c114",
   "metadata": {},
   "outputs": [],
   "source": [
    "kde_target('LIVINGAREA_AVG', app_train)"
   ]
  },
  {
   "cell_type": "code",
   "execution_count": null,
   "id": "e43a5689",
   "metadata": {},
   "outputs": [],
   "source": [
    "## Yao-Johnson変換\n",
    "#num_cols = ['LIVINGAREA_AVG']\n",
    "### 学習データに基づいてYao-Johnson変換を定義\n",
    "#pt = PowerTransformer(method = 'yeo-johnson')\n",
    "#pt.fit(app_train[num_cols].copy())\n",
    "\n",
    "### 変換後のデータで各列を置換\n",
    "#app_train['LIVINGAREA_AVG'] = pt.transform(app_train[num_cols])\n",
    "#app_test['LIVINGAREA_AVG'] = pt.transform(app_test[num_cols])\n",
    "\n",
    "#app_train[['LIVINGAREA_AVG', 'TARGET']].corr()"
   ]
  },
  {
   "cell_type": "code",
   "execution_count": null,
   "id": "64ca7c28",
   "metadata": {},
   "outputs": [],
   "source": [
    "## 標準化\n",
    "num_cols = ['LIVINGAREA_AVG']\n",
    "scaler = StandardScaler()\n",
    "scaler.fit(app_train[num_cols])\n",
    "\n",
    "app_train[num_cols] = scaler.transform(app_train[num_cols])\n",
    "app_test[num_cols] = scaler.transform(app_test[num_cols])\n",
    "app_train[['LIVINGAREA_AVG', 'TARGET']].corr()"
   ]
  },
  {
   "cell_type": "code",
   "execution_count": null,
   "id": "838ca8bd",
   "metadata": {},
   "outputs": [],
   "source": [
    "## Yao-Johnson変換後の特徴量の分布\n",
    "kde_target('LIVINGAREA_AVG', app_train)"
   ]
  },
  {
   "cell_type": "markdown",
   "id": "2c83e38d",
   "metadata": {},
   "source": [
    "### NONLIVINGAPARTMENTS_AVG"
   ]
  },
  {
   "cell_type": "code",
   "execution_count": null,
   "id": "f4e44c8e",
   "metadata": {},
   "outputs": [],
   "source": [
    "app_train['NONLIVINGAPARTMENTS_AVG'].isnull().sum()"
   ]
  },
  {
   "cell_type": "code",
   "execution_count": null,
   "id": "e91db6c3",
   "metadata": {},
   "outputs": [],
   "source": [
    "app_train['NONLIVINGAPARTMENTS_AVG'].value_counts()"
   ]
  },
  {
   "cell_type": "code",
   "execution_count": null,
   "id": "601ef8d1",
   "metadata": {},
   "outputs": [],
   "source": [
    "app_train[['NONLIVINGAPARTMENTS_AVG','TARGET']].corr()"
   ]
  },
  {
   "cell_type": "code",
   "execution_count": null,
   "id": "504be954",
   "metadata": {},
   "outputs": [],
   "source": [
    "kde_target('NONLIVINGAPARTMENTS_AVG', app_train)"
   ]
  },
  {
   "cell_type": "code",
   "execution_count": null,
   "id": "df985391",
   "metadata": {},
   "outputs": [],
   "source": [
    "## Yao-Johnson変換\n",
    "num_cols = ['NONLIVINGAPARTMENTS_AVG']\n",
    "### 学習データに基づいてYao-Johnson変換を定義\n",
    "pt = PowerTransformer(method = 'yeo-johnson')\n",
    "pt.fit(app_train[num_cols].copy())\n",
    "\n",
    "### 変換後のデータで各列を置換\n",
    "app_train['NONLIVINGAPARTMENTS_AVG'] = pt.transform(app_train[num_cols])\n",
    "app_test['NONLIVINGAPARTMENTS_AVG'] = pt.transform(app_test[num_cols])\n",
    "\n",
    "app_train[['NONLIVINGAPARTMENTS_AVG', 'TARGET']].corr()"
   ]
  },
  {
   "cell_type": "code",
   "execution_count": null,
   "id": "2cc31ebf",
   "metadata": {},
   "outputs": [],
   "source": [
    "## 標準化\n",
    "num_cols = ['NONLIVINGAPARTMENTS_AVG']\n",
    "scaler = StandardScaler()\n",
    "scaler.fit(app_train[num_cols])\n",
    "\n",
    "app_train[num_cols] = scaler.transform(app_train[num_cols])\n",
    "app_test[num_cols] = scaler.transform(app_test[num_cols])\n",
    "app_train[['NONLIVINGAPARTMENTS_AVG', 'TARGET']].corr()"
   ]
  },
  {
   "cell_type": "code",
   "execution_count": null,
   "id": "576e0661",
   "metadata": {},
   "outputs": [],
   "source": [
    "## Yao-Johnson変換後の特徴量の分布\n",
    "#kde_target('NONLIVINGAPARTMENTS_AVG', app_train)"
   ]
  },
  {
   "cell_type": "code",
   "execution_count": null,
   "id": "ad1b9d1f",
   "metadata": {},
   "outputs": [],
   "source": [
    "columns = ['NONLIVINGAPARTMENTS_AVG']\n",
    "app_train.drop(columns, axis=1, inplace=True)\n",
    "app_test.drop(columns, axis=1, inplace=True)"
   ]
  },
  {
   "cell_type": "code",
   "execution_count": null,
   "id": "48ca244d",
   "metadata": {},
   "outputs": [],
   "source": [
    "### NONLIVINGAREA_AVG"
   ]
  },
  {
   "cell_type": "code",
   "execution_count": null,
   "id": "85fbacb0",
   "metadata": {},
   "outputs": [],
   "source": [
    "app_train['NONLIVINGAREA_AVG'].isnull().sum()"
   ]
  },
  {
   "cell_type": "code",
   "execution_count": null,
   "id": "5d4c463c",
   "metadata": {},
   "outputs": [],
   "source": [
    "app_train['NONLIVINGAREA_AVG'].value_counts()"
   ]
  },
  {
   "cell_type": "code",
   "execution_count": null,
   "id": "b8c6d346",
   "metadata": {},
   "outputs": [],
   "source": [
    "app_train[['NONLIVINGAREA_AVG','TARGET']].corr()"
   ]
  },
  {
   "cell_type": "code",
   "execution_count": null,
   "id": "0072ff04",
   "metadata": {},
   "outputs": [],
   "source": [
    "#kde_target('NONLIVINGAREA_AVG', app_train)"
   ]
  },
  {
   "cell_type": "code",
   "execution_count": null,
   "id": "04bf3199",
   "metadata": {},
   "outputs": [],
   "source": [
    "## Yao-Johnson変換\n",
    "#num_cols = ['NONLIVINGAREA_AVG']\n",
    "### 学習データに基づいてYao-Johnson変換を定義\n",
    "#pt = PowerTransformer(method = 'yeo-johnson')\n",
    "#pt.fit(app_train[num_cols].copy())\n",
    "\n",
    "### 変換後のデータで各列を置換\n",
    "#app_train['NONLIVINGAREA_AVG'] = pt.transform(app_train[num_cols])\n",
    "#app_test['NONLIVINGAREA_AVG'] = pt.transform(app_test[num_cols])\n",
    "\n",
    "#app_train[['NONLIVINGAREA_AVG', 'TARGET']].corr()"
   ]
  },
  {
   "cell_type": "code",
   "execution_count": null,
   "id": "127e9ae4",
   "metadata": {},
   "outputs": [],
   "source": [
    "## 標準化\n",
    "#num_cols = ['NONLIVINGAREA_AVG']\n",
    "#scaler = StandardScaler()\n",
    "#scaler.fit(app_train[num_cols])\n",
    "\n",
    "#app_train[num_cols] = scaler.transform(app_train[num_cols])\n",
    "#app_test[num_cols] = scaler.transform(app_test[num_cols])\n",
    "#app_train[['NONLIVINGAREA_AVG', 'TARGET']].corr()"
   ]
  },
  {
   "cell_type": "code",
   "execution_count": null,
   "id": "c9c8d74a",
   "metadata": {},
   "outputs": [],
   "source": [
    "columns = ['NONLIVINGAREA_AVG']\n",
    "app_train.drop(columns, axis=1, inplace=True)\n",
    "app_test.drop(columns, axis=1, inplace=True)"
   ]
  },
  {
   "cell_type": "code",
   "execution_count": null,
   "id": "6f56dc1d",
   "metadata": {},
   "outputs": [],
   "source": [
    "### APARTMENTS_MODE"
   ]
  },
  {
   "cell_type": "code",
   "execution_count": null,
   "id": "d4481fb2",
   "metadata": {},
   "outputs": [],
   "source": [
    "app_train['APARTMENTS_MODE'].isnull().sum()"
   ]
  },
  {
   "cell_type": "code",
   "execution_count": null,
   "id": "363068b1",
   "metadata": {},
   "outputs": [],
   "source": [
    "app_train['APARTMENTS_MODE'].value_counts()"
   ]
  },
  {
   "cell_type": "code",
   "execution_count": null,
   "id": "f853b66d",
   "metadata": {},
   "outputs": [],
   "source": [
    "app_train[['APARTMENTS_MODE','TARGET']].corr()"
   ]
  },
  {
   "cell_type": "code",
   "execution_count": null,
   "id": "91408451",
   "metadata": {},
   "outputs": [],
   "source": [
    "kde_target('APARTMENTS_MODE', app_train)"
   ]
  },
  {
   "cell_type": "code",
   "execution_count": null,
   "id": "054c9c0e",
   "metadata": {},
   "outputs": [],
   "source": [
    "## Yao-Johnson変換\n",
    "#num_cols = ['APARTMENTS_MODE']\n",
    "### 学習データに基づいてYao-Johnson変換を定義\n",
    "#pt = PowerTransformer(method = 'yeo-johnson')\n",
    "#pt.fit(app_train[num_cols].copy())\n",
    "\n",
    "### 変換後のデータで各列を置換\n",
    "#app_train['APARTMENTS_MODE'] = pt.transform(app_train[num_cols])\n",
    "#app_test['APARTMENTS_MODE'] = pt.transform(app_test[num_cols])\n",
    "\n",
    "#app_train[['APARTMENTS_MODE', 'TARGET']].corr()"
   ]
  },
  {
   "cell_type": "code",
   "execution_count": null,
   "id": "f49e6fba",
   "metadata": {},
   "outputs": [],
   "source": [
    "## 標準化\n",
    "num_cols = ['APARTMENTS_MODE']\n",
    "scaler = StandardScaler()\n",
    "scaler.fit(app_train[num_cols])\n",
    "\n",
    "app_train[num_cols] = scaler.transform(app_train[num_cols])\n",
    "app_test[num_cols] = scaler.transform(app_test[num_cols])\n",
    "app_train[['APARTMENTS_MODE', 'TARGET']].corr()"
   ]
  },
  {
   "cell_type": "code",
   "execution_count": null,
   "id": "c44b06c8",
   "metadata": {},
   "outputs": [],
   "source": [
    "## Yao-Johnson変換後の特徴量の分布\n",
    "kde_target('APARTMENTS_MODE', app_train)"
   ]
  },
  {
   "cell_type": "code",
   "execution_count": null,
   "id": "5ff0a85e",
   "metadata": {},
   "outputs": [],
   "source": [
    "### BASEMENTAREA_MODE"
   ]
  },
  {
   "cell_type": "code",
   "execution_count": null,
   "id": "272fb4c1",
   "metadata": {},
   "outputs": [],
   "source": [
    "app_train['BASEMENTAREA_MODE'].isnull().sum()"
   ]
  },
  {
   "cell_type": "code",
   "execution_count": null,
   "id": "e7e1495b",
   "metadata": {},
   "outputs": [],
   "source": [
    "app_train['BASEMENTAREA_MODE'].value_counts()"
   ]
  },
  {
   "cell_type": "code",
   "execution_count": null,
   "id": "6961ca43",
   "metadata": {},
   "outputs": [],
   "source": [
    "app_train[['BASEMENTAREA_MODE','TARGET']].corr()"
   ]
  },
  {
   "cell_type": "code",
   "execution_count": null,
   "id": "4e11d041",
   "metadata": {},
   "outputs": [],
   "source": [
    "kde_target('BASEMENTAREA_MODE', app_train)"
   ]
  },
  {
   "cell_type": "code",
   "execution_count": null,
   "id": "249d3039",
   "metadata": {},
   "outputs": [],
   "source": [
    "## Yao-Johnson変換\n",
    "#num_cols = ['BASEMENTAREA_MODE']\n",
    "### 学習データに基づいてYao-Johnson変換を定義\n",
    "#pt = PowerTransformer(method = 'yeo-johnson')\n",
    "#pt.fit(app_train[num_cols].copy())\n",
    "\n",
    "### 変換後のデータで各列を置換\n",
    "#app_train['BASEMENTAREA_MODE'] = pt.transform(app_train[num_cols])\n",
    "#app_test['BASEMENTAREA_MODE'] = pt.transform(app_test[num_cols])\n",
    "\n",
    "#app_train[['BASEMENTAREA_MODE', 'TARGET']].corr()"
   ]
  },
  {
   "cell_type": "code",
   "execution_count": null,
   "id": "45c781f3",
   "metadata": {},
   "outputs": [],
   "source": [
    "## 標準化\n",
    "num_cols = ['BASEMENTAREA_MODE']\n",
    "scaler = StandardScaler()\n",
    "scaler.fit(app_train[num_cols])\n",
    "\n",
    "app_train[num_cols] = scaler.transform(app_train[num_cols])\n",
    "app_test[num_cols] = scaler.transform(app_test[num_cols])\n",
    "app_train[['BASEMENTAREA_MODE', 'TARGET']].corr()"
   ]
  },
  {
   "cell_type": "code",
   "execution_count": null,
   "id": "0380e861",
   "metadata": {},
   "outputs": [],
   "source": [
    "## Yao-Johnson変換後の特徴量の分布\n",
    "kde_target('BASEMENTAREA_MODE', app_train)"
   ]
  },
  {
   "cell_type": "code",
   "execution_count": null,
   "id": "8fff6a9b",
   "metadata": {},
   "outputs": [],
   "source": [
    "### YEARS_BEGINEXPLUATATION_MODE"
   ]
  },
  {
   "cell_type": "code",
   "execution_count": null,
   "id": "374186e1",
   "metadata": {},
   "outputs": [],
   "source": [
    "app_train['YEARS_BEGINEXPLUATATION_MODE'].isnull().sum()"
   ]
  },
  {
   "cell_type": "code",
   "execution_count": null,
   "id": "fbfd9a3d",
   "metadata": {},
   "outputs": [],
   "source": [
    "app_train['YEARS_BEGINEXPLUATATION_MODE'].value_counts()"
   ]
  },
  {
   "cell_type": "code",
   "execution_count": null,
   "id": "3c1d029c",
   "metadata": {},
   "outputs": [],
   "source": [
    "app_train[['YEARS_BEGINEXPLUATATION_MODE','TARGET']].corr()"
   ]
  },
  {
   "cell_type": "code",
   "execution_count": null,
   "id": "cc466528",
   "metadata": {
    "scrolled": true
   },
   "outputs": [],
   "source": [
    "kde_target('YEARS_BEGINEXPLUATATION_MODE', app_train)"
   ]
  },
  {
   "cell_type": "code",
   "execution_count": null,
   "id": "e4ca3caa",
   "metadata": {},
   "outputs": [],
   "source": [
    "## Yao-Johnson変換\n",
    "num_cols = ['YEARS_BEGINEXPLUATATION_MODE']\n",
    "### 学習データに基づいてYao-Johnson変換を定義\n",
    "pt = PowerTransformer(method = 'yeo-johnson')\n",
    "pt.fit(app_train[num_cols].copy())\n",
    "\n",
    "### 変換後のデータで各列を置換\n",
    "app_train['YEARS_BEGINEXPLUATATION_MODE'] = pt.transform(app_train[num_cols])\n",
    "app_test['YEARS_BEGINEXPLUATATION_MODE'] = pt.transform(app_test[num_cols])\n",
    "\n",
    "app_train[['YEARS_BEGINEXPLUATATION_MODE', 'TARGET']].corr()"
   ]
  },
  {
   "cell_type": "code",
   "execution_count": null,
   "id": "b7d8a54c",
   "metadata": {},
   "outputs": [],
   "source": [
    "## 標準化\n",
    "num_cols = ['YEARS_BEGINEXPLUATATION_MODE']\n",
    "scaler = StandardScaler()\n",
    "scaler.fit(app_train[num_cols])\n",
    "\n",
    "app_train[num_cols] = scaler.transform(app_train[num_cols])\n",
    "app_test[num_cols] = scaler.transform(app_test[num_cols])\n",
    "app_train[['YEARS_BEGINEXPLUATATION_MODE', 'TARGET']].corr()"
   ]
  },
  {
   "cell_type": "code",
   "execution_count": null,
   "id": "b4632bb2",
   "metadata": {},
   "outputs": [],
   "source": [
    "## Yao-Johnson変換後の特徴量の分布\n",
    "kde_target('YEARS_BEGINEXPLUATATION_MODE', app_train)"
   ]
  },
  {
   "cell_type": "code",
   "execution_count": null,
   "id": "e18976cf",
   "metadata": {},
   "outputs": [],
   "source": [
    "### YEARS_BUILD_MODE"
   ]
  },
  {
   "cell_type": "code",
   "execution_count": null,
   "id": "a3015c9d",
   "metadata": {},
   "outputs": [],
   "source": [
    "app_train['YEARS_BUILD_MODE'].isnull().sum()"
   ]
  },
  {
   "cell_type": "code",
   "execution_count": null,
   "id": "dffa3ed7",
   "metadata": {},
   "outputs": [],
   "source": [
    "app_train['YEARS_BUILD_MODE'].value_counts()"
   ]
  },
  {
   "cell_type": "code",
   "execution_count": null,
   "id": "b33dea5b",
   "metadata": {},
   "outputs": [],
   "source": [
    "app_train[['YEARS_BUILD_MODE','TARGET']].corr()"
   ]
  },
  {
   "cell_type": "code",
   "execution_count": null,
   "id": "54db0867",
   "metadata": {},
   "outputs": [],
   "source": [
    "kde_target('YEARS_BUILD_MODE', app_train)"
   ]
  },
  {
   "cell_type": "code",
   "execution_count": null,
   "id": "756e649f",
   "metadata": {},
   "outputs": [],
   "source": [
    "## Yao-Johnson変換\n",
    "num_cols = ['YEARS_BUILD_MODE']\n",
    "### 学習データに基づいてYao-Johnson変換を定義\n",
    "pt = PowerTransformer(method = 'yeo-johnson')\n",
    "pt.fit(app_train[num_cols].copy())\n",
    "\n",
    "### 変換後のデータで各列を置換\n",
    "app_train['YEARS_BUILD_MODE'] = pt.transform(app_train[num_cols])\n",
    "app_test['YEARS_BUILD_MODE'] = pt.transform(app_test[num_cols])\n",
    "\n",
    "app_train[['YEARS_BUILD_MODE', 'TARGET']].corr()"
   ]
  },
  {
   "cell_type": "code",
   "execution_count": null,
   "id": "e5cebd20",
   "metadata": {},
   "outputs": [],
   "source": [
    "## 標準化\n",
    "num_cols = ['YEARS_BUILD_MODE']\n",
    "scaler = StandardScaler()\n",
    "scaler.fit(app_train[num_cols])\n",
    "\n",
    "app_train[num_cols] = scaler.transform(app_train[num_cols])\n",
    "app_test[num_cols] = scaler.transform(app_test[num_cols])\n",
    "app_train[['YEARS_BUILD_MODE', 'TARGET']].corr()"
   ]
  },
  {
   "cell_type": "code",
   "execution_count": null,
   "id": "e0b46226",
   "metadata": {},
   "outputs": [],
   "source": [
    "## Yao-Johnson変換後の特徴量の分布\n",
    "kde_target('YEARS_BUILD_MODE', app_train)"
   ]
  },
  {
   "cell_type": "markdown",
   "id": "32fa202e",
   "metadata": {},
   "source": [
    "### COMMONAREA_MODE"
   ]
  },
  {
   "cell_type": "code",
   "execution_count": null,
   "id": "c6858c4c",
   "metadata": {},
   "outputs": [],
   "source": [
    "app_train['COMMONAREA_MODE'].isnull().sum()"
   ]
  },
  {
   "cell_type": "code",
   "execution_count": null,
   "id": "5f68d606",
   "metadata": {},
   "outputs": [],
   "source": [
    "app_train['COMMONAREA_MODE'].value_counts()"
   ]
  },
  {
   "cell_type": "code",
   "execution_count": null,
   "id": "bd62b63e",
   "metadata": {},
   "outputs": [],
   "source": [
    "app_train[['COMMONAREA_MODE','TARGET']].corr()"
   ]
  },
  {
   "cell_type": "code",
   "execution_count": null,
   "id": "d64d7fda",
   "metadata": {},
   "outputs": [],
   "source": [
    "## Yao-Johnson変換\n",
    "num_cols = ['COMMONAREA_MODE']\n",
    "### 学習データに基づいてYao-Johnson変換を定義\n",
    "pt = PowerTransformer(method = 'yeo-johnson')\n",
    "pt.fit(app_train[num_cols].copy())\n",
    "\n",
    "### 変換後のデータで各列を置換\n",
    "app_train['COMMONAREA_MODE'] = pt.transform(app_train[num_cols])\n",
    "app_test['COMMONAREA_MODE'] = pt.transform(app_test[num_cols])\n",
    "\n",
    "app_train[['COMMONAREA_MODE', 'TARGET']].corr()"
   ]
  },
  {
   "cell_type": "code",
   "execution_count": null,
   "id": "bc87aec3",
   "metadata": {},
   "outputs": [],
   "source": [
    "## 標準化\n",
    "#num_cols = ['DAYS_ID_PUBLISH']\n",
    "#scaler = StandardScaler()\n",
    "#scaler.fit(app_train[num_cols])\n",
    "\n",
    "#app_train[num_cols] = scaler.transform(app_train[num_cols])\n",
    "#app_test[num_cols] = scaler.transform(app_test[num_cols])\n",
    "#app_train[['DAYS_ID_PUBLISH', 'TARGET']].corr()"
   ]
  },
  {
   "cell_type": "code",
   "execution_count": null,
   "id": "b7ca9463",
   "metadata": {},
   "outputs": [],
   "source": [
    "## Yao-Johnson変換後の特徴量の分布\n",
    "#kde_target('REGION_POPULATION_RELATIVE', app_train)"
   ]
  },
  {
   "cell_type": "code",
   "execution_count": null,
   "id": "49d39185",
   "metadata": {},
   "outputs": [],
   "source": [
    "columns = ['DAYS_ID_PUBLISH']\n",
    "app_train.drop(columns, axis=1, inplace=True)\n",
    "app_test.drop(columns, axis=1, inplace=True)"
   ]
  },
  {
   "cell_type": "markdown",
   "id": "259d68fe",
   "metadata": {},
   "source": [
    "### ELEVATORS_MODE"
   ]
  },
  {
   "cell_type": "code",
   "execution_count": null,
   "id": "d4f1d611",
   "metadata": {},
   "outputs": [],
   "source": [
    "app_train['ELEVATORS_MODE'].isnull().sum()"
   ]
  },
  {
   "cell_type": "code",
   "execution_count": null,
   "id": "c72a293d",
   "metadata": {},
   "outputs": [],
   "source": [
    "app_train['ELEVATORS_MODE'].value_counts()"
   ]
  },
  {
   "cell_type": "code",
   "execution_count": null,
   "id": "c510874a",
   "metadata": {},
   "outputs": [],
   "source": [
    "app_train[['ELEVATORS_MODE','TARGET']].corr()"
   ]
  },
  {
   "cell_type": "code",
   "execution_count": null,
   "id": "ab0baeab",
   "metadata": {},
   "outputs": [],
   "source": [
    "kde_target('ELEVATORS_MODE', app_train)"
   ]
  },
  {
   "cell_type": "code",
   "execution_count": null,
   "id": "edc3b222",
   "metadata": {},
   "outputs": [],
   "source": [
    "## Yao-Johnson変換\n",
    "#num_cols = ['ELEVATORS_MODE']\n",
    "### 学習データに基づいてYao-Johnson変換を定義\n",
    "#pt = PowerTransformer(method = 'yeo-johnson')\n",
    "#pt.fit(app_train[num_cols].copy())\n",
    "\n",
    "### 変換後のデータで各列を置換\n",
    "#app_train['ELEVATORS_MODE'] = pt.transform(app_train[num_cols])\n",
    "#app_test['ELEVATORS_MODE'] = pt.transform(app_test[num_cols])\n",
    "\n",
    "#app_train[['ELEVATORS_MODE', 'TARGET']].corr()"
   ]
  },
  {
   "cell_type": "code",
   "execution_count": null,
   "id": "a66cf7eb",
   "metadata": {},
   "outputs": [],
   "source": [
    "## 標準化\n",
    "num_cols = ['ELEVATORS_MODE']\n",
    "scaler = StandardScaler()\n",
    "scaler.fit(app_train[num_cols])\n",
    "\n",
    "app_train[num_cols] = scaler.transform(app_train[num_cols])\n",
    "app_test[num_cols] = scaler.transform(app_test[num_cols])\n",
    "app_train[['ELEVATORS_MODE', 'TARGET']].corr()"
   ]
  },
  {
   "cell_type": "code",
   "execution_count": null,
   "id": "b6ebe362",
   "metadata": {},
   "outputs": [],
   "source": [
    "## Yao-Johnson変換後の特徴量の分布\n",
    "kde_target('ELEVATORS_MODE', app_train)"
   ]
  },
  {
   "cell_type": "markdown",
   "id": "ccaf34aa",
   "metadata": {},
   "source": [
    "### ENTRANCES_MODE"
   ]
  },
  {
   "cell_type": "code",
   "execution_count": null,
   "id": "b8ffb6e2",
   "metadata": {},
   "outputs": [],
   "source": [
    "app_train['ENTRANCES_MODE'].isnull().sum()"
   ]
  },
  {
   "cell_type": "code",
   "execution_count": null,
   "id": "9ab54c2b",
   "metadata": {},
   "outputs": [],
   "source": [
    "app_train['ENTRANCES_MODE'].value_counts()"
   ]
  },
  {
   "cell_type": "code",
   "execution_count": null,
   "id": "de2057c9",
   "metadata": {},
   "outputs": [],
   "source": [
    "app_train[['ENTRANCES_MODE','TARGET']].corr()"
   ]
  },
  {
   "cell_type": "code",
   "execution_count": null,
   "id": "680ab07d",
   "metadata": {},
   "outputs": [],
   "source": [
    "kde_target('ENTRANCES_MODE', app_train)"
   ]
  },
  {
   "cell_type": "code",
   "execution_count": null,
   "id": "45dc765e",
   "metadata": {},
   "outputs": [],
   "source": [
    "## Yao-Johnson変換\n",
    "#num_cols = ['ENTRANCES_MODE']\n",
    "### 学習データに基づいてYao-Johnson変換を定義\n",
    "#pt = PowerTransformer(method = 'yeo-johnson')\n",
    "#pt.fit(app_train[num_cols].copy())\n",
    "\n",
    "### 変換後のデータで各列を置換\n",
    "#app_train['ENTRANCES_MODE'] = pt.transform(app_train[num_cols])\n",
    "#app_test['ENTRANCES_MODE'] = pt.transform(app_test[num_cols])\n",
    "\n",
    "#app_train[['ENTRANCES_MODE', 'TARGET']].corr()"
   ]
  },
  {
   "cell_type": "code",
   "execution_count": null,
   "id": "8d3b32e2",
   "metadata": {},
   "outputs": [],
   "source": [
    "## 標準化\n",
    "num_cols = ['ENTRANCES_MODE']\n",
    "scaler = StandardScaler()\n",
    "scaler.fit(app_train[num_cols])\n",
    "\n",
    "app_train[num_cols] = scaler.transform(app_train[num_cols])\n",
    "app_test[num_cols] = scaler.transform(app_test[num_cols])\n",
    "app_train[['ENTRANCES_MODE', 'TARGET']].corr()"
   ]
  },
  {
   "cell_type": "code",
   "execution_count": null,
   "id": "af7604f8",
   "metadata": {},
   "outputs": [],
   "source": [
    "## Yao-Johnson変換後の特徴量の分布\n",
    "kde_target('ENTRANCES_MODE', app_train)"
   ]
  },
  {
   "cell_type": "markdown",
   "id": "2becff20",
   "metadata": {},
   "source": [
    "### FLOORSMAX_MODE"
   ]
  },
  {
   "cell_type": "code",
   "execution_count": null,
   "id": "985d0c9e",
   "metadata": {},
   "outputs": [],
   "source": [
    "app_train['FLOORSMAX_MODE'].isnull().sum()"
   ]
  },
  {
   "cell_type": "code",
   "execution_count": null,
   "id": "0bc7851f",
   "metadata": {},
   "outputs": [],
   "source": [
    "app_train['FLOORSMAX_MODE'].value_counts()"
   ]
  },
  {
   "cell_type": "code",
   "execution_count": null,
   "id": "223bdef3",
   "metadata": {},
   "outputs": [],
   "source": [
    "app_train[['FLOORSMAX_MODE','TARGET']].corr()"
   ]
  },
  {
   "cell_type": "code",
   "execution_count": null,
   "id": "d0d04eb4",
   "metadata": {},
   "outputs": [],
   "source": [
    "kde_target('FLOORSMAX_MODE', app_train)"
   ]
  },
  {
   "cell_type": "code",
   "execution_count": null,
   "id": "66f2e2d8",
   "metadata": {},
   "outputs": [],
   "source": [
    "## Yao-Johnson変換\n",
    "#num_cols = ['FLOORSMAX_MODE']\n",
    "### 学習データに基づいてYao-Johnson変換を定義\n",
    "#pt = PowerTransformer(method = 'yeo-johnson')\n",
    "#pt.fit(app_train[num_cols].copy())\n",
    "\n",
    "### 変換後のデータで各列を置換\n",
    "#app_train['FLOORSMAX_MODE'] = pt.transform(app_train[num_cols])\n",
    "#app_test['FLOORSMAX_MODE'] = pt.transform(app_test[num_cols])\n",
    "\n",
    "#app_train[['FLOORSMAX_MODE', 'TARGET']].corr()"
   ]
  },
  {
   "cell_type": "code",
   "execution_count": null,
   "id": "47c6597b",
   "metadata": {},
   "outputs": [],
   "source": [
    "## 標準化\n",
    "num_cols = ['FLOORSMAX_MODE']\n",
    "scaler = StandardScaler()\n",
    "scaler.fit(app_train[num_cols])\n",
    "\n",
    "app_train[num_cols] = scaler.transform(app_train[num_cols])\n",
    "app_test[num_cols] = scaler.transform(app_test[num_cols])\n",
    "app_train[['FLOORSMAX_MODE', 'TARGET']].corr()"
   ]
  },
  {
   "cell_type": "code",
   "execution_count": null,
   "id": "eb5dbff6",
   "metadata": {},
   "outputs": [],
   "source": [
    "## Yao-Johnson変換後の特徴量の分布\n",
    "kde_target('FLOORSMAX_MODE', app_train)"
   ]
  },
  {
   "cell_type": "markdown",
   "id": "052ef80d",
   "metadata": {},
   "source": [
    "### FLOORSMIN_MODE"
   ]
  },
  {
   "cell_type": "code",
   "execution_count": null,
   "id": "64be6789",
   "metadata": {},
   "outputs": [],
   "source": [
    "app_train['FLOORSMIN_MODE'].isnull().sum()"
   ]
  },
  {
   "cell_type": "code",
   "execution_count": null,
   "id": "05cb94f5",
   "metadata": {},
   "outputs": [],
   "source": [
    "app_train['FLOORSMIN_MODE'].value_counts()"
   ]
  },
  {
   "cell_type": "code",
   "execution_count": null,
   "id": "c7b6b3e3",
   "metadata": {},
   "outputs": [],
   "source": [
    "app_train[['FLOORSMIN_MODE','TARGET']].corr()"
   ]
  },
  {
   "cell_type": "code",
   "execution_count": null,
   "id": "57006ef3",
   "metadata": {},
   "outputs": [],
   "source": [
    "kde_target('FLOORSMIN_MODE', app_train)"
   ]
  },
  {
   "cell_type": "code",
   "execution_count": null,
   "id": "028ac1f5",
   "metadata": {},
   "outputs": [],
   "source": [
    "## Yao-Johnson変換\n",
    "#num_cols = ['FLOORSMIN_MODE']\n",
    "### 学習データに基づいてYao-Johnson変換を定義\n",
    "#pt = PowerTransformer(method = 'yeo-johnson')\n",
    "#pt.fit(app_train[num_cols].copy())\n",
    "\n",
    "### 変換後のデータで各列を置換\n",
    "#app_train['FLOORSMIN_MODE'] = pt.transform(app_train[num_cols])\n",
    "#app_test['FLOORSMIN_MODE'] = pt.transform(app_test[num_cols])\n",
    "\n",
    "#app_train[['FLOORSMIN_MODE', 'TARGET']].corr()"
   ]
  },
  {
   "cell_type": "code",
   "execution_count": null,
   "id": "a89afc4d",
   "metadata": {},
   "outputs": [],
   "source": [
    "## 標準化\n",
    "num_cols = ['FLOORSMIN_MODE']\n",
    "scaler = StandardScaler()\n",
    "scaler.fit(app_train[num_cols])\n",
    "\n",
    "app_train[num_cols] = scaler.transform(app_train[num_cols])\n",
    "app_test[num_cols] = scaler.transform(app_test[num_cols])\n",
    "app_train[['FLOORSMIN_MODE', 'TARGET']].corr()"
   ]
  },
  {
   "cell_type": "code",
   "execution_count": null,
   "id": "cd0e4b36",
   "metadata": {},
   "outputs": [],
   "source": [
    "## Yao-Johnson変換後の特徴量の分布\n",
    "kde_target('FLOORSMIN_MODE', app_train)"
   ]
  },
  {
   "cell_type": "code",
   "execution_count": null,
   "id": "39567c50",
   "metadata": {},
   "outputs": [],
   "source": [
    "### LANDAREA_MODE"
   ]
  },
  {
   "cell_type": "code",
   "execution_count": null,
   "id": "9c3a417e",
   "metadata": {},
   "outputs": [],
   "source": [
    "app_train['LANDAREA_MODE'].isnull().sum()"
   ]
  },
  {
   "cell_type": "code",
   "execution_count": null,
   "id": "c60950a5",
   "metadata": {},
   "outputs": [],
   "source": [
    "app_train['LANDAREA_MODE'].value_counts()"
   ]
  },
  {
   "cell_type": "code",
   "execution_count": null,
   "id": "38997090",
   "metadata": {},
   "outputs": [],
   "source": [
    "app_train[['LANDAREA_MODE','TARGET']].corr()"
   ]
  },
  {
   "cell_type": "code",
   "execution_count": null,
   "id": "d6e0c372",
   "metadata": {},
   "outputs": [],
   "source": [
    "## Yao-Johnson変換\n",
    "#num_cols = ['LANDAREA_MODE']\n",
    "### 学習データに基づいてYao-Johnson変換を定義\n",
    "#pt = PowerTransformer(method = 'yeo-johnson')\n",
    "#pt.fit(app_train[num_cols].copy())\n",
    "\n",
    "### 変換後のデータで各列を置換\n",
    "#app_train['LANDAREA_MODE'] = pt.transform(app_train[num_cols])\n",
    "#app_test['LANDAREA_MODE'] = pt.transform(app_test[num_cols])\n",
    "\n",
    "#app_train[['LANDAREA_MODE', 'TARGET']].corr()"
   ]
  },
  {
   "cell_type": "code",
   "execution_count": null,
   "id": "08a649d1",
   "metadata": {},
   "outputs": [],
   "source": [
    "columns = ['LANDAREA_MODE']\n",
    "app_train.drop(columns, axis=1, inplace=True)\n",
    "app_test.drop(columns, axis=1, inplace=True)"
   ]
  },
  {
   "cell_type": "code",
   "execution_count": null,
   "id": "410edee1",
   "metadata": {},
   "outputs": [],
   "source": [
    "### LIVINGAPARTMENTS_MODE"
   ]
  },
  {
   "cell_type": "code",
   "execution_count": null,
   "id": "58bf62e5",
   "metadata": {},
   "outputs": [],
   "source": [
    "app_train['LIVINGAPARTMENTS_MODE'].isnull().sum()"
   ]
  },
  {
   "cell_type": "code",
   "execution_count": null,
   "id": "93b75c19",
   "metadata": {},
   "outputs": [],
   "source": [
    "app_train['LIVINGAPARTMENTS_MODE'].value_counts()"
   ]
  },
  {
   "cell_type": "code",
   "execution_count": null,
   "id": "02be161c",
   "metadata": {},
   "outputs": [],
   "source": [
    "app_train[['LIVINGAPARTMENTS_MODE','TARGET']].corr()"
   ]
  },
  {
   "cell_type": "code",
   "execution_count": null,
   "id": "fb4bd64f",
   "metadata": {},
   "outputs": [],
   "source": [
    "kde_target('LIVINGAPARTMENTS_MODE', app_train)"
   ]
  },
  {
   "cell_type": "code",
   "execution_count": null,
   "id": "223b3cf0",
   "metadata": {},
   "outputs": [],
   "source": [
    "## Yao-Johnson変換\n",
    "#num_cols = ['LIVINGAPARTMENTS_MODE']\n",
    "### 学習データに基づいてYao-Johnson変換を定義\n",
    "#pt = PowerTransformer(method = 'yeo-johnson')\n",
    "#pt.fit(app_train[num_cols].copy())\n",
    "\n",
    "### 変換後のデータで各列を置換\n",
    "#app_train['LIVINGAPARTMENTS_MODE'] = pt.transform(app_train[num_cols])\n",
    "#app_test['LIVINGAPARTMENTS_MODE'] = pt.transform(app_test[num_cols])\n",
    "\n",
    "#app_train[['LIVINGAPARTMENTS_MODE', 'TARGET']].corr()"
   ]
  },
  {
   "cell_type": "code",
   "execution_count": null,
   "id": "38788e14",
   "metadata": {},
   "outputs": [],
   "source": [
    "## 標準化\n",
    "num_cols = ['LIVINGAPARTMENTS_MODE']\n",
    "scaler = StandardScaler()\n",
    "scaler.fit(app_train[num_cols])\n",
    "\n",
    "app_train[num_cols] = scaler.transform(app_train[num_cols])\n",
    "app_test[num_cols] = scaler.transform(app_test[num_cols])\n",
    "app_train[['LIVINGAPARTMENTS_MODE', 'TARGET']].corr()"
   ]
  },
  {
   "cell_type": "code",
   "execution_count": null,
   "id": "f6861ef7",
   "metadata": {},
   "outputs": [],
   "source": [
    "## Yao-Johnson変換後の特徴量の分布\n",
    "kde_target('LIVINGAPARTMENTS_MODE', app_train)"
   ]
  },
  {
   "cell_type": "markdown",
   "id": "202e32ce",
   "metadata": {},
   "source": [
    "### LIVINGAREA_MODE"
   ]
  },
  {
   "cell_type": "code",
   "execution_count": null,
   "id": "cfae6bf4",
   "metadata": {},
   "outputs": [],
   "source": [
    "app_train['LIVINGAREA_MODE'].isnull().sum()"
   ]
  },
  {
   "cell_type": "code",
   "execution_count": null,
   "id": "63a20579",
   "metadata": {},
   "outputs": [],
   "source": [
    "app_train['LIVINGAREA_MODE'].value_counts()"
   ]
  },
  {
   "cell_type": "code",
   "execution_count": null,
   "id": "bf026726",
   "metadata": {},
   "outputs": [],
   "source": [
    "app_train[['LIVINGAREA_MODE','TARGET']].corr()"
   ]
  },
  {
   "cell_type": "code",
   "execution_count": null,
   "id": "2f1510de",
   "metadata": {},
   "outputs": [],
   "source": [
    "kde_target('LIVINGAREA_MODE', app_train)"
   ]
  },
  {
   "cell_type": "code",
   "execution_count": null,
   "id": "b56a798e",
   "metadata": {},
   "outputs": [],
   "source": [
    "## Yao-Johnson変換\n",
    "num_cols = ['REGION_POPULATION_RELATIVE']\n",
    "### 学習データに基づいてYao-Johnson変換を定義\n",
    "pt = PowerTransformer(method = 'yeo-johnson')\n",
    "pt.fit(app_train[num_cols].copy())\n",
    "\n",
    "### 変換後のデータで各列を置換\n",
    "app_train['LIVINGAREA_MODE'] = pt.transform(app_train[num_cols])\n",
    "app_test['LIVINGAREA_MODE'] = pt.transform(app_test[num_cols])\n",
    "\n",
    "app_train[['LIVINGAREA_MODE', 'TARGET']].corr()"
   ]
  },
  {
   "cell_type": "code",
   "execution_count": null,
   "id": "e08078a9",
   "metadata": {},
   "outputs": [],
   "source": [
    "## 標準化\n",
    "num_cols = ['LIVINGAREA_MODE']\n",
    "scaler = StandardScaler()\n",
    "scaler.fit(app_train[num_cols])\n",
    "\n",
    "app_train[num_cols] = scaler.transform(app_train[num_cols])\n",
    "app_test[num_cols] = scaler.transform(app_test[num_cols])\n",
    "app_train[['LIVINGAREA_MODE', 'TARGET']].corr()"
   ]
  },
  {
   "cell_type": "code",
   "execution_count": null,
   "id": "65b1e2b5",
   "metadata": {},
   "outputs": [],
   "source": [
    "## Yao-Johnson変換後の特徴量の分布\n",
    "kde_target('LIVINGAREA_MODE', app_train)"
   ]
  },
  {
   "cell_type": "code",
   "execution_count": null,
   "id": "9cacf464",
   "metadata": {},
   "outputs": [],
   "source": [
    "### NONLIVINGAPARTMENTS_MODE"
   ]
  },
  {
   "cell_type": "code",
   "execution_count": null,
   "id": "5eb76381",
   "metadata": {},
   "outputs": [],
   "source": [
    "app_train['NONLIVINGAPARTMENTS_MODE'].isnull().sum()"
   ]
  },
  {
   "cell_type": "code",
   "execution_count": null,
   "id": "00fd2f21",
   "metadata": {},
   "outputs": [],
   "source": [
    "app_train['NONLIVINGAPARTMENTS_MODE'].value_counts()"
   ]
  },
  {
   "cell_type": "code",
   "execution_count": null,
   "id": "9a10797c",
   "metadata": {},
   "outputs": [],
   "source": [
    "app_train[['NONLIVINGAPARTMENTS_MODE','TARGET']].corr()"
   ]
  },
  {
   "cell_type": "code",
   "execution_count": null,
   "id": "0a1bb610",
   "metadata": {},
   "outputs": [],
   "source": [
    "kde_target('NONLIVINGAPARTMENTS_MODE', app_train)"
   ]
  },
  {
   "cell_type": "code",
   "execution_count": null,
   "id": "c36f3aaf",
   "metadata": {},
   "outputs": [],
   "source": [
    "## Yao-Johnson変換\n",
    "num_cols = ['NONLIVINGAPARTMENTS_MODE']\n",
    "### 学習データに基づいてYao-Johnson変換を定義\n",
    "pt = PowerTransformer(method = 'yeo-johnson')\n",
    "pt.fit(app_train[num_cols].copy())\n",
    "\n",
    "### 変換後のデータで各列を置換\n",
    "app_train['NONLIVINGAPARTMENTS_MODE'] = pt.transform(app_train[num_cols])\n",
    "app_test['NONLIVINGAPARTMENTS_MODE'] = pt.transform(app_test[num_cols])\n",
    "\n",
    "app_train[['NONLIVINGAPARTMENTS_MODE', 'TARGET']].corr()"
   ]
  },
  {
   "cell_type": "code",
   "execution_count": null,
   "id": "b31f58e2",
   "metadata": {},
   "outputs": [],
   "source": [
    "## 標準化\n",
    "num_cols = ['NONLIVINGAPARTMENTS_MODE']\n",
    "scaler = StandardScaler()\n",
    "scaler.fit(app_train[num_cols])\n",
    "\n",
    "app_train[num_cols] = scaler.transform(app_train[num_cols])\n",
    "app_test[num_cols] = scaler.transform(app_test[num_cols])\n",
    "app_train[['NONLIVINGAPARTMENTS_MODE', 'TARGET']].corr()"
   ]
  },
  {
   "cell_type": "code",
   "execution_count": null,
   "id": "63f799cf",
   "metadata": {},
   "outputs": [],
   "source": [
    "## Yao-Johnson変換後の特徴量の分布\n",
    "kde_target('NONLIVINGAPARTMENTS_MODE', app_train)"
   ]
  },
  {
   "cell_type": "code",
   "execution_count": null,
   "id": "6c13e680",
   "metadata": {},
   "outputs": [],
   "source": [
    "### NONLIVINGAREA_MODE"
   ]
  },
  {
   "cell_type": "code",
   "execution_count": null,
   "id": "bce97209",
   "metadata": {},
   "outputs": [],
   "source": [
    "app_train['NONLIVINGAREA_MODE'].isnull().sum()"
   ]
  },
  {
   "cell_type": "code",
   "execution_count": null,
   "id": "421f960b",
   "metadata": {},
   "outputs": [],
   "source": [
    "app_train['NONLIVINGAREA_MODE'].value_counts()"
   ]
  },
  {
   "cell_type": "code",
   "execution_count": null,
   "id": "4fffa0b3",
   "metadata": {},
   "outputs": [],
   "source": [
    "app_train[['NONLIVINGAREA_MODE','TARGET']].corr()"
   ]
  },
  {
   "cell_type": "code",
   "execution_count": null,
   "id": "ed536e08",
   "metadata": {},
   "outputs": [],
   "source": [
    "## Yao-Johnson変換\n",
    "num_cols = ['NONLIVINGAREA_MODE']\n",
    "### 学習データに基づいてYao-Johnson変換を定義\n",
    "pt = PowerTransformer(method = 'yeo-johnson')\n",
    "pt.fit(app_train[num_cols].copy())\n",
    "\n",
    "### 変換後のデータで各列を置換\n",
    "app_train['NONLIVINGAREA_MODE'] = pt.transform(app_train[num_cols])\n",
    "app_test['NONLIVINGAREA_MODE'] = pt.transform(app_test[num_cols])\n",
    "\n",
    "app_train[['NONLIVINGAREA_MODE', 'TARGET']].corr()"
   ]
  },
  {
   "cell_type": "code",
   "execution_count": null,
   "id": "fd9e16f1",
   "metadata": {},
   "outputs": [],
   "source": [
    "## 標準化\n",
    "num_cols = ['NONLIVINGAREA_MODE']\n",
    "scaler = StandardScaler()\n",
    "scaler.fit(app_train[num_cols])\n",
    "\n",
    "app_train[num_cols] = scaler.transform(app_train[num_cols])\n",
    "app_test[num_cols] = scaler.transform(app_test[num_cols])\n",
    "app_train[['NONLIVINGAREA_MODE', 'TARGET']].corr()"
   ]
  },
  {
   "cell_type": "code",
   "execution_count": null,
   "id": "3470d352",
   "metadata": {},
   "outputs": [],
   "source": [
    "## Yao-Johnson変換後の特徴量の分布\n",
    "kde_target('NONLIVINGAREA_MODE', app_train)"
   ]
  },
  {
   "cell_type": "code",
   "execution_count": null,
   "id": "36ce9d6f",
   "metadata": {},
   "outputs": [],
   "source": [
    "### APARTMENTS_MEDI"
   ]
  },
  {
   "cell_type": "code",
   "execution_count": null,
   "id": "875bbe5c",
   "metadata": {},
   "outputs": [],
   "source": [
    "app_train['APARTMENTS_MEDI'].isnull().sum()"
   ]
  },
  {
   "cell_type": "code",
   "execution_count": null,
   "id": "ab78bd55",
   "metadata": {},
   "outputs": [],
   "source": [
    "app_train['APARTMENTS_MEDI'].value_counts()"
   ]
  },
  {
   "cell_type": "code",
   "execution_count": null,
   "id": "6e7cb2f3",
   "metadata": {},
   "outputs": [],
   "source": [
    "app_train[['APARTMENTS_MEDI','TARGET']].corr()"
   ]
  },
  {
   "cell_type": "code",
   "execution_count": null,
   "id": "5376ac37",
   "metadata": {},
   "outputs": [],
   "source": [
    "kde_target('APARTMENTS_MEDI', app_train)"
   ]
  },
  {
   "cell_type": "code",
   "execution_count": null,
   "id": "517e26d9",
   "metadata": {},
   "outputs": [],
   "source": [
    "## Yao-Johnson変換\n",
    "#num_cols = ['APARTMENTS_MEDI']\n",
    "### 学習データに基づいてYao-Johnson変換を定義\n",
    "#pt = PowerTransformer(method = 'yeo-johnson')\n",
    "#pt.fit(app_train[num_cols].copy())\n",
    "\n",
    "### 変換後のデータで各列を置換\n",
    "#app_train['APARTMENTS_MEDI'] = pt.transform(app_train[num_cols])\n",
    "#app_test['APARTMENTS_MEDI'] = pt.transform(app_test[num_cols])\n",
    "\n",
    "#app_train[['APARTMENTS_MEDI', 'TARGET']].corr()"
   ]
  },
  {
   "cell_type": "code",
   "execution_count": null,
   "id": "cda83e8d",
   "metadata": {},
   "outputs": [],
   "source": [
    "## 標準化\n",
    "num_cols = ['APARTMENTS_MEDI']\n",
    "scaler = StandardScaler()\n",
    "scaler.fit(app_train[num_cols])\n",
    "\n",
    "app_train[num_cols] = scaler.transform(app_train[num_cols])\n",
    "app_test[num_cols] = scaler.transform(app_test[num_cols])\n",
    "app_train[['APARTMENTS_MEDI', 'TARGET']].corr()"
   ]
  },
  {
   "cell_type": "code",
   "execution_count": null,
   "id": "36095acc",
   "metadata": {},
   "outputs": [],
   "source": [
    "## Yao-Johnson変換後の特徴量の分布\n",
    "kde_target('APARTMENTS_MEDI', app_train)"
   ]
  },
  {
   "cell_type": "markdown",
   "id": "0a221a78",
   "metadata": {},
   "source": [
    "### BASEMENTAREA_MEDI"
   ]
  },
  {
   "cell_type": "code",
   "execution_count": null,
   "id": "a5c9fd06",
   "metadata": {},
   "outputs": [],
   "source": [
    "app_train['BASEMENTAREA_MEDI'].isnull().sum()"
   ]
  },
  {
   "cell_type": "code",
   "execution_count": null,
   "id": "06b2d213",
   "metadata": {},
   "outputs": [],
   "source": [
    "app_train['BASEMENTAREA_MEDI'].value_counts()"
   ]
  },
  {
   "cell_type": "code",
   "execution_count": null,
   "id": "00c0cd89",
   "metadata": {},
   "outputs": [],
   "source": [
    "app_train[['BASEMENTAREA_MEDI','TARGET']].corr()"
   ]
  },
  {
   "cell_type": "code",
   "execution_count": null,
   "id": "7c3b40d1",
   "metadata": {},
   "outputs": [],
   "source": [
    "kde_target('BASEMENTAREA_MEDI', app_train)"
   ]
  },
  {
   "cell_type": "code",
   "execution_count": null,
   "id": "d5a4c6e3",
   "metadata": {},
   "outputs": [],
   "source": [
    "## Yao-Johnson変換\n",
    "#num_cols = ['BASEMENTAREA_MEDI']\n",
    "### 学習データに基づいてYao-Johnson変換を定義\n",
    "#pt = PowerTransformer(method = 'yeo-johnson')\n",
    "#pt.fit(app_train[num_cols].copy())\n",
    "\n",
    "### 変換後のデータで各列を置換\n",
    "#app_train['BASEMENTAREA_MEDI'] = pt.transform(app_train[num_cols])\n",
    "#app_test['BASEMENTAREA_MEDI'] = pt.transform(app_test[num_cols])\n",
    "\n",
    "#app_train[['BASEMENTAREA_MEDI', 'TARGET']].corr()"
   ]
  },
  {
   "cell_type": "code",
   "execution_count": null,
   "id": "9fdf4821",
   "metadata": {},
   "outputs": [],
   "source": [
    "## 標準化\n",
    "num_cols = ['BASEMENTAREA_MEDI']\n",
    "scaler = StandardScaler()\n",
    "scaler.fit(app_train[num_cols])\n",
    "\n",
    "app_train[num_cols] = scaler.transform(app_train[num_cols])\n",
    "app_test[num_cols] = scaler.transform(app_test[num_cols])\n",
    "app_train[['BASEMENTAREA_MEDI', 'TARGET']].corr()"
   ]
  },
  {
   "cell_type": "code",
   "execution_count": null,
   "id": "f2065c3f",
   "metadata": {},
   "outputs": [],
   "source": [
    "## Yao-Johnson変換後の特徴量の分布\n",
    "kde_target('BASEMENTAREA_MEDI', app_train)"
   ]
  },
  {
   "cell_type": "markdown",
   "id": "cc9f61c5",
   "metadata": {},
   "source": [
    "### YEARS_BEGINEXPLUATATION_MEDI"
   ]
  },
  {
   "cell_type": "code",
   "execution_count": null,
   "id": "537e236b",
   "metadata": {},
   "outputs": [],
   "source": [
    "app_train['YEARS_BEGINEXPLUATATION_MEDI'].isnull().sum()"
   ]
  },
  {
   "cell_type": "code",
   "execution_count": null,
   "id": "074124dd",
   "metadata": {},
   "outputs": [],
   "source": [
    "app_train['YEARS_BEGINEXPLUATATION_MEDI'].value_counts()"
   ]
  },
  {
   "cell_type": "code",
   "execution_count": null,
   "id": "d01705c1",
   "metadata": {},
   "outputs": [],
   "source": [
    "app_train[['YEARS_BEGINEXPLUATATION_MEDI','TARGET']].corr()"
   ]
  },
  {
   "cell_type": "code",
   "execution_count": null,
   "id": "ff6ba777",
   "metadata": {},
   "outputs": [],
   "source": [
    "kde_target('YEARS_BEGINEXPLUATATION_MEDI', app_train)"
   ]
  },
  {
   "cell_type": "code",
   "execution_count": null,
   "id": "56974519",
   "metadata": {},
   "outputs": [],
   "source": [
    "## Yao-Johnson変換\n",
    "num_cols = ['YEARS_BEGINEXPLUATATION_MEDI']\n",
    "### 学習データに基づいてYao-Johnson変換を定義\n",
    "pt = PowerTransformer(method = 'yeo-johnson')\n",
    "pt.fit(app_train[num_cols].copy())\n",
    "\n",
    "### 変換後のデータで各列を置換\n",
    "app_train['YEARS_BEGINEXPLUATATION_MEDI'] = pt.transform(app_train[num_cols])\n",
    "app_test['YEARS_BEGINEXPLUATATION_MEDI'] = pt.transform(app_test[num_cols])\n",
    "\n",
    "app_train[['YEARS_BEGINEXPLUATATION_MEDI', 'TARGET']].corr()"
   ]
  },
  {
   "cell_type": "code",
   "execution_count": null,
   "id": "4a317eb9",
   "metadata": {},
   "outputs": [],
   "source": [
    "## 標準化\n",
    "num_cols = ['YEARS_BEGINEXPLUATATION_MEDI']\n",
    "scaler = StandardScaler()\n",
    "scaler.fit(app_train[num_cols])\n",
    "\n",
    "app_train[num_cols] = scaler.transform(app_train[num_cols])\n",
    "app_test[num_cols] = scaler.transform(app_test[num_cols])\n",
    "app_train[['YEARS_BEGINEXPLUATATION_MEDI', 'TARGET']].corr()"
   ]
  },
  {
   "cell_type": "code",
   "execution_count": null,
   "id": "eae89e46",
   "metadata": {},
   "outputs": [],
   "source": [
    "## Yao-Johnson変換後の特徴量の分布\n",
    "kde_target('YEARS_BEGINEXPLUATATION_MEDI', app_train)"
   ]
  },
  {
   "cell_type": "code",
   "execution_count": null,
   "id": "d2e30192",
   "metadata": {},
   "outputs": [],
   "source": [
    "### YEARS_BUILD_MEDI"
   ]
  },
  {
   "cell_type": "code",
   "execution_count": null,
   "id": "04cfe712",
   "metadata": {},
   "outputs": [],
   "source": [
    "app_train['YEARS_BUILD_MEDI'].isnull().sum()"
   ]
  },
  {
   "cell_type": "code",
   "execution_count": null,
   "id": "554c2b98",
   "metadata": {},
   "outputs": [],
   "source": [
    "app_train['YEARS_BUILD_MEDI'].value_counts()"
   ]
  },
  {
   "cell_type": "code",
   "execution_count": null,
   "id": "f8b8eaf8",
   "metadata": {},
   "outputs": [],
   "source": [
    "app_train[['YEARS_BUILD_MEDI','TARGET']].corr()"
   ]
  },
  {
   "cell_type": "code",
   "execution_count": null,
   "id": "a5cda4d3",
   "metadata": {},
   "outputs": [],
   "source": [
    "kde_target('YEARS_BUILD_MEDI', app_train)"
   ]
  },
  {
   "cell_type": "code",
   "execution_count": null,
   "id": "629a5437",
   "metadata": {},
   "outputs": [],
   "source": [
    "## Yao-Johnson変換\n",
    "num_cols = ['YEARS_BUILD_MEDI']\n",
    "### 学習データに基づいてYao-Johnson変換を定義\n",
    "pt = PowerTransformer(method = 'yeo-johnson')\n",
    "pt.fit(app_train[num_cols].copy())\n",
    "\n",
    "### 変換後のデータで各列を置換\n",
    "app_train['YEARS_BUILD_MEDI'] = pt.transform(app_train[num_cols])\n",
    "app_test['YEARS_BUILD_MEDI'] = pt.transform(app_test[num_cols])\n",
    "\n",
    "app_train[['YEARS_BUILD_MEDI', 'TARGET']].corr()"
   ]
  },
  {
   "cell_type": "code",
   "execution_count": null,
   "id": "26c8500d",
   "metadata": {},
   "outputs": [],
   "source": [
    "## 標準化\n",
    "num_cols = ['YEARS_BUILD_MEDI']\n",
    "scaler = StandardScaler()\n",
    "scaler.fit(app_train[num_cols])\n",
    "\n",
    "app_train[num_cols] = scaler.transform(app_train[num_cols])\n",
    "app_test[num_cols] = scaler.transform(app_test[num_cols])\n",
    "app_train[['YEARS_BUILD_MEDI', 'TARGET']].corr()"
   ]
  },
  {
   "cell_type": "code",
   "execution_count": null,
   "id": "63a26a9b",
   "metadata": {},
   "outputs": [],
   "source": [
    "## Yao-Johnson変換後の特徴量の分布\n",
    "kde_target('YEARS_BUILD_MEDI', app_train)"
   ]
  },
  {
   "cell_type": "code",
   "execution_count": null,
   "id": "ca7f84c1",
   "metadata": {},
   "outputs": [],
   "source": [
    "### COMMONAREA_MEDI"
   ]
  },
  {
   "cell_type": "code",
   "execution_count": null,
   "id": "0e697d83",
   "metadata": {},
   "outputs": [],
   "source": [
    "app_train['COMMONAREA_MEDI'].isnull().sum()"
   ]
  },
  {
   "cell_type": "code",
   "execution_count": null,
   "id": "ad7ebd83",
   "metadata": {},
   "outputs": [],
   "source": [
    "app_train['COMMONAREA_MEDI'].value_counts()"
   ]
  },
  {
   "cell_type": "code",
   "execution_count": null,
   "id": "7053ccbc",
   "metadata": {},
   "outputs": [],
   "source": [
    "app_train[['COMMONAREA_MEDI','TARGET']].corr()"
   ]
  },
  {
   "cell_type": "code",
   "execution_count": null,
   "id": "03c416b1",
   "metadata": {},
   "outputs": [],
   "source": [
    "kde_target('COMMONAREA_MEDI', app_train)"
   ]
  },
  {
   "cell_type": "code",
   "execution_count": null,
   "id": "c755f6b5",
   "metadata": {},
   "outputs": [],
   "source": [
    "## Yao-Johnson変換\n",
    "num_cols = ['REGION_POPULATION_RELATIVE']\n",
    "### 学習データに基づいてYao-Johnson変換を定義\n",
    "pt = PowerTransformer(method = 'yeo-johnson')\n",
    "pt.fit(app_train[num_cols].copy())\n",
    "\n",
    "### 変換後のデータで各列を置換\n",
    "app_train['REGION_POPULATION_RELATIVE'] = pt.transform(app_train[num_cols])\n",
    "app_test['REGION_POPULATION_RELATIVE'] = pt.transform(app_test[num_cols])\n",
    "\n",
    "app_train[['REGION_POPULATION_RELATIVE', 'TARGET']].corr()"
   ]
  },
  {
   "cell_type": "code",
   "execution_count": null,
   "id": "77b17be1",
   "metadata": {},
   "outputs": [],
   "source": [
    "## 標準化\n",
    "num_cols = ['REGION_POPULATION_RELATIVE']\n",
    "scaler = StandardScaler()\n",
    "scaler.fit(app_train[num_cols])\n",
    "\n",
    "app_train[num_cols] = scaler.transform(app_train[num_cols])\n",
    "app_test[num_cols] = scaler.transform(app_test[num_cols])\n",
    "app_train[['REGION_POPULATION_RELATIVE', 'TARGET']].corr()"
   ]
  },
  {
   "cell_type": "code",
   "execution_count": null,
   "id": "4f444dc2",
   "metadata": {},
   "outputs": [],
   "source": [
    "## Yao-Johnson変換後の特徴量の分布\n",
    "kde_target('REGION_POPULATION_RELATIVE', app_train)"
   ]
  },
  {
   "cell_type": "code",
   "execution_count": null,
   "id": "0ce14a9f",
   "metadata": {},
   "outputs": [],
   "source": [
    "### ELEVATORS_MEDI"
   ]
  },
  {
   "cell_type": "code",
   "execution_count": null,
   "id": "b3980939",
   "metadata": {},
   "outputs": [],
   "source": [
    "app_train['ELEVATORS_MEDI'].isnull().sum()"
   ]
  },
  {
   "cell_type": "code",
   "execution_count": null,
   "id": "b3812da1",
   "metadata": {},
   "outputs": [],
   "source": [
    "app_train['ELEVATORS_MEDI'].value_counts()"
   ]
  },
  {
   "cell_type": "code",
   "execution_count": null,
   "id": "11082ece",
   "metadata": {},
   "outputs": [],
   "source": [
    "app_train[['ELEVATORS_MEDI','TARGET']].corr()"
   ]
  },
  {
   "cell_type": "code",
   "execution_count": null,
   "id": "a283d5be",
   "metadata": {},
   "outputs": [],
   "source": [
    "kde_target('ELEVATORS_MEDI', app_train)"
   ]
  },
  {
   "cell_type": "code",
   "execution_count": null,
   "id": "78b26237",
   "metadata": {},
   "outputs": [],
   "source": [
    "## Yao-Johnson変換\n",
    "#num_cols = ['ELEVATORS_MEDI']\n",
    "### 学習データに基づいてYao-Johnson変換を定義\n",
    "#pt = PowerTransformer(method = 'yeo-johnson')\n",
    "#pt.fit(app_train[num_cols].copy())\n",
    "\n",
    "### 変換後のデータで各列を置換\n",
    "#app_train['ELEVATORS_MEDI'] = pt.transform(app_train[num_cols])\n",
    "#app_test['ELEVATORS_MEDI'] = pt.transform(app_test[num_cols])\n",
    "\n",
    "#app_train[['ELEVATORS_MEDI', 'TARGET']].corr()"
   ]
  },
  {
   "cell_type": "code",
   "execution_count": null,
   "id": "17778884",
   "metadata": {},
   "outputs": [],
   "source": [
    "## 標準化\n",
    "num_cols = ['ELEVATORS_MEDI']\n",
    "scaler = StandardScaler()\n",
    "scaler.fit(app_train[num_cols])\n",
    "\n",
    "app_train[num_cols] = scaler.transform(app_train[num_cols])\n",
    "app_test[num_cols] = scaler.transform(app_test[num_cols])\n",
    "app_train[['ELEVATORS_MEDI', 'TARGET']].corr()"
   ]
  },
  {
   "cell_type": "code",
   "execution_count": null,
   "id": "aa94775c",
   "metadata": {},
   "outputs": [],
   "source": [
    "## Yao-Johnson変換後の特徴量の分布\n",
    "kde_target('ELEVATORS_MEDI', app_train)"
   ]
  },
  {
   "cell_type": "markdown",
   "id": "e64ec8ed",
   "metadata": {},
   "source": [
    "### ENTRANCES_MEDI"
   ]
  },
  {
   "cell_type": "code",
   "execution_count": null,
   "id": "6c530921",
   "metadata": {},
   "outputs": [],
   "source": [
    "app_train['ENTRANCES_MEDI'].isnull().sum()"
   ]
  },
  {
   "cell_type": "code",
   "execution_count": null,
   "id": "53af35fb",
   "metadata": {},
   "outputs": [],
   "source": [
    "app_train['ENTRANCES_MEDI'].value_counts()"
   ]
  },
  {
   "cell_type": "code",
   "execution_count": null,
   "id": "fca83b2b",
   "metadata": {},
   "outputs": [],
   "source": [
    "app_train[['ENTRANCES_MEDI','TARGET']].corr()"
   ]
  },
  {
   "cell_type": "code",
   "execution_count": null,
   "id": "cd754258",
   "metadata": {},
   "outputs": [],
   "source": [
    "kde_target('ENTRANCES_MEDI', app_train)"
   ]
  },
  {
   "cell_type": "code",
   "execution_count": null,
   "id": "918f674d",
   "metadata": {},
   "outputs": [],
   "source": [
    "## Yao-Johnson変換\n",
    "#num_cols = ['ENTRANCES_MEDI']\n",
    "### 学習データに基づいてYao-Johnson変換を定義\n",
    "#pt = PowerTransformer(method = 'yeo-johnson')\n",
    "#pt.fit(app_train[num_cols].copy())\n",
    "\n",
    "### 変換後のデータで各列を置換\n",
    "#app_train['ENTRANCES_MEDI'] = pt.transform(app_train[num_cols])\n",
    "#app_test['ENTRANCES_MEDI'] = pt.transform(app_test[num_cols])\n",
    "\n",
    "#app_train[['ENTRANCES_MEDI', 'TARGET']].corr()"
   ]
  },
  {
   "cell_type": "code",
   "execution_count": null,
   "id": "83784233",
   "metadata": {},
   "outputs": [],
   "source": [
    "## 標準化\n",
    "num_cols = ['ENTRANCES_MEDI']\n",
    "scaler = StandardScaler()\n",
    "scaler.fit(app_train[num_cols])\n",
    "\n",
    "app_train[num_cols] = scaler.transform(app_train[num_cols])\n",
    "app_test[num_cols] = scaler.transform(app_test[num_cols])\n",
    "app_train[['ENTRANCES_MEDI', 'TARGET']].corr()"
   ]
  },
  {
   "cell_type": "code",
   "execution_count": null,
   "id": "df22c6b6",
   "metadata": {},
   "outputs": [],
   "source": [
    "## Yao-Johnson変換後の特徴量の分布\n",
    "kde_target('ENTRANCES_MEDI', app_train)"
   ]
  },
  {
   "cell_type": "markdown",
   "id": "69269859",
   "metadata": {},
   "source": [
    "### FLOORSMAX_MEDI"
   ]
  },
  {
   "cell_type": "code",
   "execution_count": null,
   "id": "44bac142",
   "metadata": {},
   "outputs": [],
   "source": [
    "app_train['FLOORSMAX_MEDI'].isnull().sum()"
   ]
  },
  {
   "cell_type": "code",
   "execution_count": null,
   "id": "7a735daa",
   "metadata": {},
   "outputs": [],
   "source": [
    "app_train['FLOORSMAX_MEDI'].value_counts()"
   ]
  },
  {
   "cell_type": "code",
   "execution_count": null,
   "id": "931d02b7",
   "metadata": {},
   "outputs": [],
   "source": [
    "app_train[['FLOORSMAX_MEDI','TARGET']].corr()"
   ]
  },
  {
   "cell_type": "code",
   "execution_count": null,
   "id": "3d390a03",
   "metadata": {},
   "outputs": [],
   "source": [
    "kde_target('FLOORSMAX_MEDI', app_train)"
   ]
  },
  {
   "cell_type": "code",
   "execution_count": null,
   "id": "84daf999",
   "metadata": {},
   "outputs": [],
   "source": [
    "## Yao-Johnson変換\n",
    "#num_cols = ['FLOORSMAX_MEDI']\n",
    "### 学習データに基づいてYao-Johnson変換を定義\n",
    "#pt = PowerTransformer(method = 'yeo-johnson')\n",
    "#pt.fit(app_train[num_cols].copy())\n",
    "\n",
    "### 変換後のデータで各列を置換\n",
    "#app_train['FLOORSMAX_MEDI'] = pt.transform(app_train[num_cols])\n",
    "#app_test['FLOORSMAX_MEDI'] = pt.transform(app_test[num_cols])\n",
    "\n",
    "#app_train[['FLOORSMAX_MEDI', 'TARGET']].corr()"
   ]
  },
  {
   "cell_type": "code",
   "execution_count": null,
   "id": "7f959598",
   "metadata": {},
   "outputs": [],
   "source": [
    "## 標準化\n",
    "num_cols = ['FLOORSMAX_MEDI']\n",
    "scaler = StandardScaler()\n",
    "scaler.fit(app_train[num_cols])\n",
    "\n",
    "app_train[num_cols] = scaler.transform(app_train[num_cols])\n",
    "app_test[num_cols] = scaler.transform(app_test[num_cols])\n",
    "app_train[['FLOORSMAX_MEDI', 'TARGET']].corr()"
   ]
  },
  {
   "cell_type": "code",
   "execution_count": null,
   "id": "aa53f0d5",
   "metadata": {},
   "outputs": [],
   "source": [
    "## Yao-Johnson変換後の特徴量の分布\n",
    "kde_target('FLOORSMAX_MEDI', app_train)"
   ]
  },
  {
   "cell_type": "code",
   "execution_count": null,
   "id": "0844c92a",
   "metadata": {},
   "outputs": [],
   "source": [
    "### FLOORSMIN_MEDI"
   ]
  },
  {
   "cell_type": "code",
   "execution_count": null,
   "id": "6a7585a5",
   "metadata": {},
   "outputs": [],
   "source": [
    "app_train['FLOORSMIN_MEDI'].isnull().sum()"
   ]
  },
  {
   "cell_type": "code",
   "execution_count": null,
   "id": "bd5b5f94",
   "metadata": {},
   "outputs": [],
   "source": [
    "app_train['FLOORSMIN_MEDI'].value_counts()"
   ]
  },
  {
   "cell_type": "code",
   "execution_count": null,
   "id": "19083955",
   "metadata": {},
   "outputs": [],
   "source": [
    "app_train[['FLOORSMIN_MEDI','TARGET']].corr()"
   ]
  },
  {
   "cell_type": "code",
   "execution_count": null,
   "id": "c2c488f5",
   "metadata": {},
   "outputs": [],
   "source": [
    "kde_target('FLOORSMIN_MEDI', app_train)"
   ]
  },
  {
   "cell_type": "code",
   "execution_count": null,
   "id": "8d8d7344",
   "metadata": {},
   "outputs": [],
   "source": [
    "## Yao-Johnson変換\n",
    "#num_cols = ['FLOORSMIN_MEDI']\n",
    "### 学習データに基づいてYao-Johnson変換を定義\n",
    "#pt = PowerTransformer(method = 'yeo-johnson')\n",
    "#pt.fit(app_train[num_cols].copy())\n",
    "\n",
    "### 変換後のデータで各列を置換\n",
    "#app_train['FLOORSMIN_MEDI'] = pt.transform(app_train[num_cols])\n",
    "#app_test['FLOORSMIN_MEDI'] = pt.transform(app_test[num_cols])\n",
    "\n",
    "#app_train[['FLOORSMIN_MEDI', 'TARGET']].corr()"
   ]
  },
  {
   "cell_type": "code",
   "execution_count": null,
   "id": "3506347a",
   "metadata": {},
   "outputs": [],
   "source": [
    "## 標準化\n",
    "num_cols = ['FLOORSMIN_MEDI']\n",
    "scaler = StandardScaler()\n",
    "scaler.fit(app_train[num_cols])\n",
    "\n",
    "app_train[num_cols] = scaler.transform(app_train[num_cols])\n",
    "app_test[num_cols] = scaler.transform(app_test[num_cols])\n",
    "app_train[['FLOORSMIN_MEDI', 'TARGET']].corr()"
   ]
  },
  {
   "cell_type": "code",
   "execution_count": null,
   "id": "e9aa0d26",
   "metadata": {},
   "outputs": [],
   "source": [
    "## Yao-Johnson変換後の特徴量の分布\n",
    "kde_target('FLOORSMIN_MEDI', app_train)"
   ]
  },
  {
   "cell_type": "markdown",
   "id": "ea0f8a54",
   "metadata": {},
   "source": [
    "### LANDAREA_MEDI"
   ]
  },
  {
   "cell_type": "code",
   "execution_count": null,
   "id": "552cfd88",
   "metadata": {},
   "outputs": [],
   "source": [
    "app_train['LANDAREA_MEDI'].isnull().sum()"
   ]
  },
  {
   "cell_type": "code",
   "execution_count": null,
   "id": "ab5ee8c9",
   "metadata": {},
   "outputs": [],
   "source": [
    "app_train['LANDAREA_MEDI'].value_counts()"
   ]
  },
  {
   "cell_type": "code",
   "execution_count": null,
   "id": "7e336388",
   "metadata": {},
   "outputs": [],
   "source": [
    "app_train[['LANDAREA_MEDI','TARGET']].corr()"
   ]
  },
  {
   "cell_type": "code",
   "execution_count": null,
   "id": "a1d65993",
   "metadata": {},
   "outputs": [],
   "source": [
    "kde_target('LANDAREA_MEDI', app_train)"
   ]
  },
  {
   "cell_type": "code",
   "execution_count": null,
   "id": "fd9e2895",
   "metadata": {},
   "outputs": [],
   "source": [
    "## Yao-Johnson変換\n",
    "num_cols = ['LANDAREA_MEDI']\n",
    "### 学習データに基づいてYao-Johnson変換を定義\n",
    "pt = PowerTransformer(method = 'yeo-johnson')\n",
    "pt.fit(app_train[num_cols].copy())\n",
    "\n",
    "### 変換後のデータで各列を置換\n",
    "app_train['LANDAREA_MEDI'] = pt.transform(app_train[num_cols])\n",
    "app_test['LANDAREA_MEDI'] = pt.transform(app_test[num_cols])\n",
    "\n",
    "app_train[['LANDAREA_MEDI', 'TARGET']].corr()"
   ]
  },
  {
   "cell_type": "code",
   "execution_count": null,
   "id": "d5b39adc",
   "metadata": {},
   "outputs": [],
   "source": [
    "columns = ['LANDAREA_MEDI']\n",
    "app_train.drop(columns, axis=1, inplace=True)\n",
    "app_test.drop(columns, axis=1, inplace=True)"
   ]
  },
  {
   "cell_type": "code",
   "execution_count": null,
   "id": "f23e30a8",
   "metadata": {},
   "outputs": [],
   "source": [
    "### LIVINGAPARTMENTS_MEDI"
   ]
  },
  {
   "cell_type": "code",
   "execution_count": null,
   "id": "f5959849",
   "metadata": {},
   "outputs": [],
   "source": [
    "app_train['LIVINGAPARTMENTS_MEDI'].isnull().sum()"
   ]
  },
  {
   "cell_type": "code",
   "execution_count": null,
   "id": "fdcd25e0",
   "metadata": {},
   "outputs": [],
   "source": [
    "app_train['LIVINGAPARTMENTS_MEDI'].value_counts()"
   ]
  },
  {
   "cell_type": "code",
   "execution_count": null,
   "id": "9cb501b5",
   "metadata": {},
   "outputs": [],
   "source": [
    "app_train[['LIVINGAPARTMENTS_MEDI','TARGET']].corr()"
   ]
  },
  {
   "cell_type": "code",
   "execution_count": null,
   "id": "2e250f8e",
   "metadata": {},
   "outputs": [],
   "source": [
    "kde_target('LIVINGAPARTMENTS_MEDI', app_train)"
   ]
  },
  {
   "cell_type": "code",
   "execution_count": null,
   "id": "5c20b1ec",
   "metadata": {},
   "outputs": [],
   "source": [
    "## Yao-Johnson変換\n",
    "#num_cols = ['LIVINGAPARTMENTS_MEDI']\n",
    "### 学習データに基づいてYao-Johnson変換を定義\n",
    "#pt = PowerTransformer(method = 'yeo-johnson')\n",
    "#pt.fit(app_train[num_cols].copy())\n",
    "\n",
    "### 変換後のデータで各列を置換\n",
    "#app_train['LIVINGAPARTMENTS_MEDI'] = pt.transform(app_train[num_cols])\n",
    "#app_test['LIVINGAPARTMENTS_MEDI'] = pt.transform(app_test[num_cols])\n",
    "\n",
    "#app_train[['LIVINGAPARTMENTS_MEDI', 'TARGET']].corr()"
   ]
  },
  {
   "cell_type": "code",
   "execution_count": null,
   "id": "354b036d",
   "metadata": {},
   "outputs": [],
   "source": [
    "## 標準化\n",
    "num_cols = ['LIVINGAPARTMENTS_MEDI']\n",
    "scaler = StandardScaler()\n",
    "scaler.fit(app_train[num_cols])\n",
    "\n",
    "app_train[num_cols] = scaler.transform(app_train[num_cols])\n",
    "app_test[num_cols] = scaler.transform(app_test[num_cols])\n",
    "app_train[['LIVINGAPARTMENTS_MEDI', 'TARGET']].corr()"
   ]
  },
  {
   "cell_type": "code",
   "execution_count": null,
   "id": "54205bd4",
   "metadata": {},
   "outputs": [],
   "source": [
    "## Yao-Johnson変換後の特徴量の分布\n",
    "kde_target('LIVINGAPARTMENTS_MEDI', app_train)"
   ]
  },
  {
   "cell_type": "markdown",
   "id": "6d569cb5",
   "metadata": {},
   "source": [
    "### LIVINGAREA_MEDI"
   ]
  },
  {
   "cell_type": "code",
   "execution_count": null,
   "id": "8719d89a",
   "metadata": {},
   "outputs": [],
   "source": [
    "app_train['LIVINGAREA_MEDI'].isnull().sum()"
   ]
  },
  {
   "cell_type": "code",
   "execution_count": null,
   "id": "d473fae4",
   "metadata": {},
   "outputs": [],
   "source": [
    "app_train['LIVINGAREA_MEDI'].value_counts()"
   ]
  },
  {
   "cell_type": "code",
   "execution_count": null,
   "id": "71f5c937",
   "metadata": {},
   "outputs": [],
   "source": [
    "app_train[['LIVINGAREA_MEDI','TARGET']].corr()"
   ]
  },
  {
   "cell_type": "code",
   "execution_count": null,
   "id": "598dfbae",
   "metadata": {},
   "outputs": [],
   "source": [
    "kde_target('LIVINGAREA_MEDI', app_train)"
   ]
  },
  {
   "cell_type": "code",
   "execution_count": null,
   "id": "3b8e807b",
   "metadata": {},
   "outputs": [],
   "source": [
    "## Yao-Johnson変換\n",
    "#num_cols = ['LIVINGAREA_MEDI']\n",
    "### 学習データに基づいてYao-Johnson変換を定義\n",
    "#pt = PowerTransformer(method = 'yeo-johnson')\n",
    "#pt.fit(app_train[num_cols].copy())\n",
    "\n",
    "### 変換後のデータで各列を置換\n",
    "#app_train['LIVINGAREA_MEDI'] = pt.transform(app_train[num_cols])\n",
    "#app_test['LIVINGAREA_MEDI'] = pt.transform(app_test[num_cols])\n",
    "\n",
    "#app_train[['LIVINGAREA_MEDI', 'TARGET']].corr()"
   ]
  },
  {
   "cell_type": "code",
   "execution_count": null,
   "id": "4a4f66f5",
   "metadata": {},
   "outputs": [],
   "source": [
    "## 標準化\n",
    "num_cols = ['LIVINGAREA_MEDI']\n",
    "scaler = StandardScaler()\n",
    "scaler.fit(app_train[num_cols])\n",
    "\n",
    "app_train[num_cols] = scaler.transform(app_train[num_cols])\n",
    "app_test[num_cols] = scaler.transform(app_test[num_cols])\n",
    "app_train[['LIVINGAREA_MEDI', 'TARGET']].corr()"
   ]
  },
  {
   "cell_type": "code",
   "execution_count": null,
   "id": "b29567f8",
   "metadata": {},
   "outputs": [],
   "source": [
    "## Yao-Johnson変換後の特徴量の分布\n",
    "kde_target('LIVINGAREA_MEDI', app_train)"
   ]
  },
  {
   "cell_type": "markdown",
   "id": "c515e759",
   "metadata": {},
   "source": [
    "### NONLIVINGAPARTMENTS_MEDI"
   ]
  },
  {
   "cell_type": "code",
   "execution_count": null,
   "id": "ce128c5c",
   "metadata": {},
   "outputs": [],
   "source": [
    "app_train['NONLIVINGAPARTMENTS_MEDI'].isnull().sum()"
   ]
  },
  {
   "cell_type": "code",
   "execution_count": null,
   "id": "256f8e95",
   "metadata": {},
   "outputs": [],
   "source": [
    "app_train['NONLIVINGAPARTMENTS_MEDI'].value_counts()"
   ]
  },
  {
   "cell_type": "code",
   "execution_count": null,
   "id": "2ebf67cd",
   "metadata": {},
   "outputs": [],
   "source": [
    "app_train[['NONLIVINGAPARTMENTS_MEDI','TARGET']].corr()"
   ]
  },
  {
   "cell_type": "code",
   "execution_count": null,
   "id": "bb85e5ff",
   "metadata": {},
   "outputs": [],
   "source": [
    "kde_target('NONLIVINGAPARTMENTS_MEDI', app_train)"
   ]
  },
  {
   "cell_type": "code",
   "execution_count": null,
   "id": "b08b171f",
   "metadata": {},
   "outputs": [],
   "source": [
    "## Yao-Johnson変換\n",
    "num_cols = ['NONLIVINGAPARTMENTS_MEDI']\n",
    "### 学習データに基づいてYao-Johnson変換を定義\n",
    "pt = PowerTransformer(method = 'yeo-johnson')\n",
    "pt.fit(app_train[num_cols].copy())\n",
    "\n",
    "### 変換後のデータで各列を置換\n",
    "app_train['NONLIVINGAPARTMENTS_MEDI'] = pt.transform(app_train[num_cols])\n",
    "app_test['NONLIVINGAPARTMENTS_MEDI'] = pt.transform(app_test[num_cols])\n",
    "\n",
    "app_train[['NONLIVINGAPARTMENTS_MEDI', 'TARGET']].corr()"
   ]
  },
  {
   "cell_type": "code",
   "execution_count": null,
   "id": "a6dde5c2",
   "metadata": {},
   "outputs": [],
   "source": [
    "## 標準化\n",
    "num_cols = ['NONLIVINGAPARTMENTS_MEDI']\n",
    "scaler = StandardScaler()\n",
    "scaler.fit(app_train[num_cols])\n",
    "\n",
    "app_train[num_cols] = scaler.transform(app_train[num_cols])\n",
    "app_test[num_cols] = scaler.transform(app_test[num_cols])\n",
    "app_train[['NONLIVINGAPARTMENTS_MEDI', 'TARGET']].corr()"
   ]
  },
  {
   "cell_type": "code",
   "execution_count": null,
   "id": "548fef3b",
   "metadata": {},
   "outputs": [],
   "source": [
    "## Yao-Johnson変換後の特徴量の分布\n",
    "kde_target('NONLIVINGAPARTMENTS_MEDI', app_train)"
   ]
  },
  {
   "cell_type": "code",
   "execution_count": null,
   "id": "877c6415",
   "metadata": {},
   "outputs": [],
   "source": [
    "### NONLIVINGAREA_MEDI"
   ]
  },
  {
   "cell_type": "code",
   "execution_count": null,
   "id": "89cb0724",
   "metadata": {},
   "outputs": [],
   "source": [
    "app_train['NONLIVINGAREA_MEDI'].isnull().sum()"
   ]
  },
  {
   "cell_type": "code",
   "execution_count": null,
   "id": "b5908c06",
   "metadata": {},
   "outputs": [],
   "source": [
    "app_train['NONLIVINGAREA_MEDI'].value_counts()"
   ]
  },
  {
   "cell_type": "code",
   "execution_count": null,
   "id": "1f8c2f80",
   "metadata": {},
   "outputs": [],
   "source": [
    "app_train[['NONLIVINGAREA_MEDI','TARGET']].corr()"
   ]
  },
  {
   "cell_type": "code",
   "execution_count": null,
   "id": "68c0812f",
   "metadata": {},
   "outputs": [],
   "source": [
    "kde_target('NONLIVINGAREA_MEDI', app_train)"
   ]
  },
  {
   "cell_type": "code",
   "execution_count": null,
   "id": "2e3764a2",
   "metadata": {},
   "outputs": [],
   "source": [
    "## Yao-Johnson変換\n",
    "num_cols = ['NONLIVINGAREA_MEDI']\n",
    "### 学習データに基づいてYao-Johnson変換を定義\n",
    "pt = PowerTransformer(method = 'yeo-johnson')\n",
    "pt.fit(app_train[num_cols].copy())\n",
    "\n",
    "### 変換後のデータで各列を置換\n",
    "app_train['NONLIVINGAREA_MEDI'] = pt.transform(app_train[num_cols])\n",
    "app_test['NONLIVINGAREA_MEDI'] = pt.transform(app_test[num_cols])\n",
    "\n",
    "app_train[['NONLIVINGAREA_MEDI', 'TARGET']].corr()"
   ]
  },
  {
   "cell_type": "code",
   "execution_count": null,
   "id": "a75a1f5f",
   "metadata": {},
   "outputs": [],
   "source": [
    "columns = ['NONLIVINGAREA_MEDI']\n",
    "app_train.drop(columns, axis=1, inplace=True)\n",
    "app_test.drop(columns, axis=1, inplace=True)"
   ]
  },
  {
   "cell_type": "markdown",
   "id": "f5dfc1fa",
   "metadata": {},
   "source": [
    "### FONDKAPREMONT_MODE"
   ]
  },
  {
   "cell_type": "code",
   "execution_count": null,
   "id": "77a7737e",
   "metadata": {},
   "outputs": [],
   "source": [
    "app_train['FONDKAPREMONT_MODE'].isnull().sum()"
   ]
  },
  {
   "cell_type": "code",
   "execution_count": null,
   "id": "b08fd6bf",
   "metadata": {},
   "outputs": [],
   "source": [
    "app_train['FONDKAPREMONT_MODE'].value_counts()"
   ]
  },
  {
   "cell_type": "code",
   "execution_count": null,
   "id": "d2f7081b",
   "metadata": {},
   "outputs": [],
   "source": [
    "# 学習データとテストデータを結合しget_dummiesによるone-hot encodingを行う\n",
    "cat_cols = ['FONDKAPREMONT_MODE']\n",
    "all_x = pd.concat([app_train, app_test])\n",
    "all_x = pd.get_dummies(all_x, columns=cat_cols)\n",
    "\n",
    "# 学習データとテストデータを分割\n",
    "app_train = all_x.iloc[:app_train.shape[0], :].reset_index(drop=True)\n",
    "app_test  = all_x.iloc[app_train.shape[0]:, :].reset_index(drop=True)\n",
    "\n",
    "app_train.head()"
   ]
  },
  {
   "cell_type": "markdown",
   "id": "8d3e8c58",
   "metadata": {},
   "source": [
    "### HOUSETYPE_MODE"
   ]
  },
  {
   "cell_type": "code",
   "execution_count": null,
   "id": "b786d968",
   "metadata": {},
   "outputs": [],
   "source": [
    "app_train['HOUSETYPE_MODE'].isnull().sum()"
   ]
  },
  {
   "cell_type": "code",
   "execution_count": null,
   "id": "ec87efcb",
   "metadata": {},
   "outputs": [],
   "source": [
    "app_train['HOUSETYPE_MODE'].value_counts()"
   ]
  },
  {
   "cell_type": "code",
   "execution_count": null,
   "id": "3006a70d",
   "metadata": {},
   "outputs": [],
   "source": [
    "app_train['HOUSETYPE_MODE'].fillna('BLANK', inplace=True)\n",
    "app_test['HOUSETYPE_MODE'].fillna('BLANK', inplace=True)"
   ]
  },
  {
   "cell_type": "code",
   "execution_count": null,
   "id": "765f6249",
   "metadata": {},
   "outputs": [],
   "source": [
    "app_train['HOUSETYPE_MODE'].value_counts()"
   ]
  },
  {
   "cell_type": "code",
   "execution_count": null,
   "id": "191d8fe2",
   "metadata": {},
   "outputs": [],
   "source": [
    "# 学習データとテストデータを結合しget_dummiesによるone-hot encodingを行う\n",
    "cat_cols = ['HOUSETYPE_MODE']\n",
    "all_x = pd.concat([app_train, app_test])\n",
    "all_x = pd.get_dummies(all_x, columns=cat_cols)\n",
    "\n",
    "# 学習データとテストデータを分割\n",
    "app_train = all_x.iloc[:app_train.shape[0], :].reset_index(drop=True)\n",
    "app_test  = all_x.iloc[app_train.shape[0]:, :].reset_index(drop=True)\n",
    "\n",
    "app_train.head()"
   ]
  },
  {
   "cell_type": "markdown",
   "id": "11f27646",
   "metadata": {},
   "source": [
    "### TOTALAREA_MODE"
   ]
  },
  {
   "cell_type": "code",
   "execution_count": null,
   "id": "ed3ac221",
   "metadata": {},
   "outputs": [],
   "source": [
    "app_train['TOTALAREA_MODE'].isnull().sum()"
   ]
  },
  {
   "cell_type": "code",
   "execution_count": null,
   "id": "4d8089c8",
   "metadata": {},
   "outputs": [],
   "source": [
    "app_train['TOTALAREA_MODE'].value_counts()"
   ]
  },
  {
   "cell_type": "code",
   "execution_count": null,
   "id": "7e6686e9",
   "metadata": {},
   "outputs": [],
   "source": [
    "app_train[['TOTALAREA_MODE','TARGET']].corr()"
   ]
  },
  {
   "cell_type": "code",
   "execution_count": null,
   "id": "d65da879",
   "metadata": {},
   "outputs": [],
   "source": [
    "kde_target('TOTALAREA_MODE', app_train)"
   ]
  },
  {
   "cell_type": "code",
   "execution_count": null,
   "id": "4ad35dcc",
   "metadata": {},
   "outputs": [],
   "source": [
    "## Yao-Johnson変換\n",
    "#num_cols = ['TOTALAREA_MODE']\n",
    "### 学習データに基づいてYao-Johnson変換を定義\n",
    "#pt = PowerTransformer(method = 'yeo-johnson')\n",
    "#pt.fit(app_train[num_cols].copy())\n",
    "\n",
    "### 変換後のデータで各列を置換\n",
    "#app_train['TOTALAREA_MODE'] = pt.transform(app_train[num_cols])\n",
    "#app_test['TOTALAREA_MODE'] = pt.transform(app_test[num_cols])\n",
    "\n",
    "#app_train[['TOTALAREA_MODE', 'TARGET']].corr()"
   ]
  },
  {
   "cell_type": "code",
   "execution_count": null,
   "id": "b8d14684",
   "metadata": {},
   "outputs": [],
   "source": [
    "## 標準化\n",
    "num_cols = ['TOTALAREA_MODE']\n",
    "scaler = StandardScaler()\n",
    "scaler.fit(app_train[num_cols])\n",
    "\n",
    "app_train[num_cols] = scaler.transform(app_train[num_cols])\n",
    "app_test[num_cols] = scaler.transform(app_test[num_cols])\n",
    "app_train[['TOTALAREA_MODE', 'TARGET']].corr()"
   ]
  },
  {
   "cell_type": "code",
   "execution_count": null,
   "id": "ab3e5a7b",
   "metadata": {},
   "outputs": [],
   "source": [
    "## Yao-Johnson変換後の特徴量の分布\n",
    "kde_target('TOTALAREA_MODE', app_train)"
   ]
  },
  {
   "cell_type": "markdown",
   "id": "6ef33513",
   "metadata": {},
   "source": [
    "### WALLSMATERIAL_MODE"
   ]
  },
  {
   "cell_type": "code",
   "execution_count": null,
   "id": "79612296",
   "metadata": {},
   "outputs": [],
   "source": [
    "app_train['WALLSMATERIAL_MODE'].isnull().sum()"
   ]
  },
  {
   "cell_type": "code",
   "execution_count": null,
   "id": "cfff00de",
   "metadata": {},
   "outputs": [],
   "source": [
    "app_train['WALLSMATERIAL_MODE'].value_counts()"
   ]
  },
  {
   "cell_type": "code",
   "execution_count": null,
   "id": "cd6e37ca",
   "metadata": {},
   "outputs": [],
   "source": [
    "app_train['WALLSMATERIAL_MODE'].fillna('BLANK', inplace=True)\n",
    "app_test['WALLSMATERIAL_MODE'].fillna('BLANK', inplace=True)"
   ]
  },
  {
   "cell_type": "code",
   "execution_count": null,
   "id": "79dca5f9",
   "metadata": {},
   "outputs": [],
   "source": [
    "# 学習データとテストデータを結合しget_dummiesによるone-hot encodingを行う\n",
    "cat_cols = ['WALLSMATERIAL_MODE']\n",
    "all_x = pd.concat([app_train, app_test])\n",
    "all_x = pd.get_dummies(all_x, columns=cat_cols)\n",
    "\n",
    "# 学習データとテストデータを分割\n",
    "app_train = all_x.iloc[:app_train.shape[0], :].reset_index(drop=True)\n",
    "app_test  = all_x.iloc[app_train.shape[0]:, :].reset_index(drop=True)\n",
    "\n",
    "app_train.head()"
   ]
  },
  {
   "cell_type": "code",
   "execution_count": null,
   "id": "d76fd1b1",
   "metadata": {},
   "outputs": [],
   "source": [
    "### EMERGENCYSTATE_MODE"
   ]
  },
  {
   "cell_type": "code",
   "execution_count": null,
   "id": "e4539e44",
   "metadata": {},
   "outputs": [],
   "source": [
    "app_train['EMERGENCYSTATE_MODE'].isnull().sum()"
   ]
  },
  {
   "cell_type": "code",
   "execution_count": null,
   "id": "4df569bc",
   "metadata": {},
   "outputs": [],
   "source": [
    "app_train['EMERGENCYSTATE_MODE'].value_counts()"
   ]
  },
  {
   "cell_type": "code",
   "execution_count": null,
   "id": "4e66dd28",
   "metadata": {},
   "outputs": [],
   "source": [
    "app_train['EMERGENCYSTATE_MODE'].fillna('BLANK', inplace=True)\n",
    "app_test['EMERGENCYSTATE_MODE'].fillna('BLANK', inplace=True)"
   ]
  },
  {
   "cell_type": "code",
   "execution_count": null,
   "id": "c7ca2d15",
   "metadata": {},
   "outputs": [],
   "source": [
    "app_train['EMERGENCYSTATE_MODE'].value_counts()"
   ]
  },
  {
   "cell_type": "code",
   "execution_count": null,
   "id": "e4eb585d",
   "metadata": {},
   "outputs": [],
   "source": [
    "# 学習データとテストデータを結合しget_dummiesによるone-hot encodingを行う\n",
    "cat_cols = ['EMERGENCYSTATE_MODE']\n",
    "all_x = pd.concat([app_train, app_test])\n",
    "all_x = pd.get_dummies(all_x, columns=cat_cols)\n",
    "\n",
    "# 学習データとテストデータを分割\n",
    "app_train = all_x.iloc[:app_train.shape[0], :].reset_index(drop=True)\n",
    "app_test  = all_x.iloc[app_train.shape[0]:, :].reset_index(drop=True)\n",
    "\n",
    "app_train.head()"
   ]
  },
  {
   "cell_type": "markdown",
   "id": "b77d9334",
   "metadata": {},
   "source": [
    "### OBS_30_CNT_SOCIAL_CIRCLE"
   ]
  },
  {
   "cell_type": "code",
   "execution_count": null,
   "id": "aa57b08b",
   "metadata": {},
   "outputs": [],
   "source": [
    "app_train['OBS_30_CNT_SOCIAL_CIRCLE'].isnull().sum()"
   ]
  },
  {
   "cell_type": "code",
   "execution_count": null,
   "id": "279342d5",
   "metadata": {},
   "outputs": [],
   "source": [
    "app_train['OBS_30_CNT_SOCIAL_CIRCLE'].value_counts()"
   ]
  },
  {
   "cell_type": "code",
   "execution_count": null,
   "id": "7fe2fa90",
   "metadata": {},
   "outputs": [],
   "source": [
    "app_train[['OBS_30_CNT_SOCIAL_CIRCLE','TARGET']].corr()"
   ]
  },
  {
   "cell_type": "code",
   "execution_count": null,
   "id": "e3d19b36",
   "metadata": {},
   "outputs": [],
   "source": [
    "kde_target('OBS_30_CNT_SOCIAL_CIRCLE', app_train)"
   ]
  },
  {
   "cell_type": "code",
   "execution_count": null,
   "id": "32b63c44",
   "metadata": {},
   "outputs": [],
   "source": [
    "## Yao-Johnson変換\n",
    "num_cols = ['OBS_30_CNT_SOCIAL_CIRCLE']\n",
    "### 学習データに基づいてYao-Johnson変換を定義\n",
    "pt = PowerTransformer(method = 'yeo-johnson')\n",
    "pt.fit(app_train[num_cols].copy())\n",
    "\n",
    "### 変換後のデータで各列を置換\n",
    "app_train['OBS_30_CNT_SOCIAL_CIRCLE'] = pt.transform(app_train[num_cols])\n",
    "app_test['OBS_30_CNT_SOCIAL_CIRCLE'] = pt.transform(app_test[num_cols])\n",
    "\n",
    "app_train[['OBS_30_CNT_SOCIAL_CIRCLE', 'TARGET']].corr()"
   ]
  },
  {
   "cell_type": "code",
   "execution_count": null,
   "id": "743fdae1",
   "metadata": {},
   "outputs": [],
   "source": [
    "columns = ['OBS_30_CNT_SOCIAL_CIRCLE']\n",
    "app_train.drop(columns, axis=1, inplace=True)\n",
    "app_test.drop(columns, axis=1, inplace=True)"
   ]
  },
  {
   "cell_type": "markdown",
   "id": "93879da6",
   "metadata": {},
   "source": [
    "### DEF_30_CNT_SOCIAL_CIRCLE"
   ]
  },
  {
   "cell_type": "code",
   "execution_count": null,
   "id": "8f045674",
   "metadata": {},
   "outputs": [],
   "source": [
    "app_train['DEF_30_CNT_SOCIAL_CIRCLE'].isnull().sum()"
   ]
  },
  {
   "cell_type": "code",
   "execution_count": null,
   "id": "e82b585f",
   "metadata": {},
   "outputs": [],
   "source": [
    "app_train['DEF_30_CNT_SOCIAL_CIRCLE'].value_counts()"
   ]
  },
  {
   "cell_type": "code",
   "execution_count": null,
   "id": "5cb096da",
   "metadata": {},
   "outputs": [],
   "source": [
    "app_train[['DEF_30_CNT_SOCIAL_CIRCLE','TARGET']].corr()"
   ]
  },
  {
   "cell_type": "code",
   "execution_count": null,
   "id": "4aa11135",
   "metadata": {},
   "outputs": [],
   "source": [
    "kde_target('DEF_30_CNT_SOCIAL_CIRCLE', app_train)"
   ]
  },
  {
   "cell_type": "code",
   "execution_count": null,
   "id": "a41176ae",
   "metadata": {},
   "outputs": [],
   "source": [
    "## Yao-Johnson変換\n",
    "#num_cols = ['DEF_30_CNT_SOCIAL_CIRCLE']\n",
    "### 学習データに基づいてYao-Johnson変換を定義\n",
    "#pt = PowerTransformer(method = 'yeo-johnson')\n",
    "#pt.fit(app_train[num_cols].copy())\n",
    "\n",
    "### 変換後のデータで各列を置換\n",
    "#app_train['DEF_30_CNT_SOCIAL_CIRCLE'] = pt.transform(app_train[num_cols])\n",
    "#app_test['DEF_30_CNT_SOCIAL_CIRCLE'] = pt.transform(app_test[num_cols])\n",
    "\n",
    "#app_train[['DEF_30_CNT_SOCIAL_CIRCLE', 'TARGET']].corr()"
   ]
  },
  {
   "cell_type": "code",
   "execution_count": null,
   "id": "85a55792",
   "metadata": {},
   "outputs": [],
   "source": [
    "## 標準化\n",
    "num_cols = ['DEF_30_CNT_SOCIAL_CIRCLE']\n",
    "scaler = StandardScaler()\n",
    "scaler.fit(app_train[num_cols])\n",
    "\n",
    "app_train[num_cols] = scaler.transform(app_train[num_cols])\n",
    "app_test[num_cols] = scaler.transform(app_test[num_cols])\n",
    "app_train[['DEF_30_CNT_SOCIAL_CIRCLE', 'TARGET']].corr()"
   ]
  },
  {
   "cell_type": "code",
   "execution_count": null,
   "id": "0f35ad4a",
   "metadata": {},
   "outputs": [],
   "source": [
    "## Yao-Johnson変換後の特徴量の分布\n",
    "kde_target('DEF_30_CNT_SOCIAL_CIRCLE', app_train)"
   ]
  },
  {
   "cell_type": "markdown",
   "id": "7a4b5480",
   "metadata": {},
   "source": [
    "### OBS_60_CNT_SOCIAL_CIRCLE"
   ]
  },
  {
   "cell_type": "code",
   "execution_count": null,
   "id": "8657af61",
   "metadata": {},
   "outputs": [],
   "source": [
    "app_train['OBS_60_CNT_SOCIAL_CIRCLE'].isnull().sum()"
   ]
  },
  {
   "cell_type": "code",
   "execution_count": null,
   "id": "96406614",
   "metadata": {},
   "outputs": [],
   "source": [
    "app_train['OBS_60_CNT_SOCIAL_CIRCLE'].value_counts()"
   ]
  },
  {
   "cell_type": "code",
   "execution_count": null,
   "id": "84b4f166",
   "metadata": {},
   "outputs": [],
   "source": [
    "app_train[['OBS_60_CNT_SOCIAL_CIRCLE','TARGET']].corr()"
   ]
  },
  {
   "cell_type": "code",
   "execution_count": null,
   "id": "a88ed0bf",
   "metadata": {},
   "outputs": [],
   "source": [
    "kde_target('OBS_60_CNT_SOCIAL_CIRCLE', app_train)"
   ]
  },
  {
   "cell_type": "code",
   "execution_count": null,
   "id": "d322a9a5",
   "metadata": {},
   "outputs": [],
   "source": [
    "## Yao-Johnson変換\n",
    "num_cols = ['OBS_60_CNT_SOCIAL_CIRCLE']\n",
    "### 学習データに基づいてYao-Johnson変換を定義\n",
    "pt = PowerTransformer(method = 'yeo-johnson')\n",
    "pt.fit(app_train[num_cols].copy())\n",
    "\n",
    "### 変換後のデータで各列を置換\n",
    "app_train['OBS_60_CNT_SOCIAL_CIRCLE'] = pt.transform(app_train[num_cols])\n",
    "app_test['OBS_60_CNT_SOCIAL_CIRCLE'] = pt.transform(app_test[num_cols])\n",
    "\n",
    "app_train[['OBS_60_CNT_SOCIAL_CIRCLE', 'TARGET']].corr()"
   ]
  },
  {
   "cell_type": "code",
   "execution_count": null,
   "id": "caa62596",
   "metadata": {},
   "outputs": [],
   "source": [
    "columns = ['OBS_60_CNT_SOCIAL_CIRCLE']\n",
    "app_train.drop(columns, axis=1, inplace=True)\n",
    "app_test.drop(columns, axis=1, inplace=True)"
   ]
  },
  {
   "cell_type": "markdown",
   "id": "7d19f5bb",
   "metadata": {},
   "source": [
    "### DEF_60_CNT_SOCIAL_CIRCLE"
   ]
  },
  {
   "cell_type": "code",
   "execution_count": null,
   "id": "f5b91837",
   "metadata": {},
   "outputs": [],
   "source": [
    "app_train['DEF_60_CNT_SOCIAL_CIRCLE'].isnull().sum()"
   ]
  },
  {
   "cell_type": "code",
   "execution_count": null,
   "id": "8a0a582c",
   "metadata": {},
   "outputs": [],
   "source": [
    "app_train['DEF_60_CNT_SOCIAL_CIRCLE'].value_counts()"
   ]
  },
  {
   "cell_type": "code",
   "execution_count": null,
   "id": "3fb46db2",
   "metadata": {},
   "outputs": [],
   "source": [
    "app_train[['DEF_60_CNT_SOCIAL_CIRCLE','TARGET']].corr()"
   ]
  },
  {
   "cell_type": "code",
   "execution_count": null,
   "id": "11ce9cff",
   "metadata": {},
   "outputs": [],
   "source": [
    "kde_target('DEF_60_CNT_SOCIAL_CIRCLE', app_train)"
   ]
  },
  {
   "cell_type": "code",
   "execution_count": null,
   "id": "83a52a75",
   "metadata": {},
   "outputs": [],
   "source": [
    "## Yao-Johnson変換\n",
    "#num_cols = ['DEF_60_CNT_SOCIAL_CIRCLE']\n",
    "### 学習データに基づいてYao-Johnson変換を定義\n",
    "#pt = PowerTransformer(method = 'yeo-johnson')\n",
    "#pt.fit(app_train[num_cols].copy())\n",
    "\n",
    "### 変換後のデータで各列を置換\n",
    "#app_train['DEF_60_CNT_SOCIAL_CIRCLE'] = pt.transform(app_train[num_cols])\n",
    "#app_test['DEF_60_CNT_SOCIAL_CIRCLE'] = pt.transform(app_test[num_cols])\n",
    "\n",
    "#app_train[['DEF_60_CNT_SOCIAL_CIRCLE', 'TARGET']].corr()"
   ]
  },
  {
   "cell_type": "code",
   "execution_count": null,
   "id": "250c678d",
   "metadata": {},
   "outputs": [],
   "source": [
    "## 標準化\n",
    "num_cols = ['DEF_60_CNT_SOCIAL_CIRCLE']\n",
    "scaler = StandardScaler()\n",
    "scaler.fit(app_train[num_cols])\n",
    "\n",
    "app_train[num_cols] = scaler.transform(app_train[num_cols])\n",
    "app_test[num_cols] = scaler.transform(app_test[num_cols])\n",
    "app_train[['DEF_60_CNT_SOCIAL_CIRCLE', 'TARGET']].corr()"
   ]
  },
  {
   "cell_type": "code",
   "execution_count": null,
   "id": "cb72642e",
   "metadata": {},
   "outputs": [],
   "source": [
    "## Yao-Johnson変換後の特徴量の分布\n",
    "kde_target('DEF_60_CNT_SOCIAL_CIRCLE', app_train)"
   ]
  },
  {
   "cell_type": "markdown",
   "id": "d9ca314c",
   "metadata": {},
   "source": [
    "### DAYS_LAST_PHONE_CHANGE"
   ]
  },
  {
   "cell_type": "code",
   "execution_count": null,
   "id": "a7961693",
   "metadata": {},
   "outputs": [],
   "source": [
    "app_train['DAYS_LAST_PHONE_CHANGE'].isnull().sum()"
   ]
  },
  {
   "cell_type": "code",
   "execution_count": null,
   "id": "c6a0f730",
   "metadata": {},
   "outputs": [],
   "source": [
    "app_train['DAYS_LAST_PHONE_CHANGE'].value_counts()"
   ]
  },
  {
   "cell_type": "code",
   "execution_count": null,
   "id": "519a9cf8",
   "metadata": {},
   "outputs": [],
   "source": [
    "app_train[['DAYS_LAST_PHONE_CHANGE','TARGET']].corr()"
   ]
  },
  {
   "cell_type": "code",
   "execution_count": null,
   "id": "5e43b090",
   "metadata": {},
   "outputs": [],
   "source": [
    "kde_target('DAYS_LAST_PHONE_CHANGE', app_train)"
   ]
  },
  {
   "cell_type": "code",
   "execution_count": null,
   "id": "cda8693b",
   "metadata": {},
   "outputs": [],
   "source": [
    "## Yao-Johnson変換\n",
    "#num_cols = ['DAYS_LAST_PHONE_CHANGE']\n",
    "### 学習データに基づいてYao-Johnson変換を定義\n",
    "#pt = PowerTransformer(method = 'yeo-johnson')\n",
    "#pt.fit(app_train[num_cols].copy())\n",
    "\n",
    "### 変換後のデータで各列を置換\n",
    "#app_train['DAYS_LAST_PHONE_CHANGE'] = pt.transform(app_train[num_cols])\n",
    "#app_test['DAYS_LAST_PHONE_CHANGE'] = pt.transform(app_test[num_cols])\n",
    "\n",
    "#app_train[['DAYS_LAST_PHONE_CHANGE', 'TARGET']].corr()"
   ]
  },
  {
   "cell_type": "code",
   "execution_count": null,
   "id": "fc113ece",
   "metadata": {},
   "outputs": [],
   "source": [
    "## 標準化\n",
    "num_cols = ['DAYS_LAST_PHONE_CHANGE']\n",
    "scaler = StandardScaler()\n",
    "scaler.fit(app_train[num_cols])\n",
    "\n",
    "app_train[num_cols] = scaler.transform(app_train[num_cols])\n",
    "app_test[num_cols] = scaler.transform(app_test[num_cols])\n",
    "app_train[['DAYS_LAST_PHONE_CHANGE', 'TARGET']].corr()"
   ]
  },
  {
   "cell_type": "code",
   "execution_count": null,
   "id": "3f7a5fd6",
   "metadata": {},
   "outputs": [],
   "source": [
    "## Yao-Johnson変換後の特徴量の分布\n",
    "kde_target('DAYS_LAST_PHONE_CHANGE', app_train)"
   ]
  },
  {
   "cell_type": "markdown",
   "id": "e844c9d7",
   "metadata": {},
   "source": [
    "### FLAG_DOCUMENT_2"
   ]
  },
  {
   "cell_type": "code",
   "execution_count": null,
   "id": "17ff4f69",
   "metadata": {},
   "outputs": [],
   "source": [
    "app_train['FLAG_DOCUMENT_2'].isnull().sum()"
   ]
  },
  {
   "cell_type": "code",
   "execution_count": null,
   "id": "1742f11c",
   "metadata": {},
   "outputs": [],
   "source": [
    "app_train['FLAG_DOCUMENT_2'].value_counts()"
   ]
  },
  {
   "cell_type": "code",
   "execution_count": null,
   "id": "ff9764d2",
   "metadata": {},
   "outputs": [],
   "source": [
    "app_train[['FLAG_DOCUMENT_2','TARGET']].corr()"
   ]
  },
  {
   "cell_type": "code",
   "execution_count": null,
   "id": "e426b5d4",
   "metadata": {},
   "outputs": [],
   "source": [
    "columns = ['FLAG_DOCUMENT_2']\n",
    "app_train.drop(columns, axis=1, inplace=True)\n",
    "app_test.drop(columns, axis=1, inplace=True)"
   ]
  },
  {
   "cell_type": "code",
   "execution_count": null,
   "id": "2fb58a09",
   "metadata": {},
   "outputs": [],
   "source": [
    "### FLAG_DOCUMENT_3"
   ]
  },
  {
   "cell_type": "code",
   "execution_count": null,
   "id": "bb80aad9",
   "metadata": {},
   "outputs": [],
   "source": [
    "app_train['FLAG_DOCUMENT_3'].isnull().sum()"
   ]
  },
  {
   "cell_type": "code",
   "execution_count": null,
   "id": "5d790ff4",
   "metadata": {},
   "outputs": [],
   "source": [
    "app_train['FLAG_DOCUMENT_3'].value_counts()"
   ]
  },
  {
   "cell_type": "code",
   "execution_count": null,
   "id": "2f54a426",
   "metadata": {},
   "outputs": [],
   "source": [
    "app_train[['FLAG_DOCUMENT_3','TARGET']].corr()"
   ]
  },
  {
   "cell_type": "code",
   "execution_count": null,
   "id": "3554b334",
   "metadata": {},
   "outputs": [],
   "source": [
    "## 標準化\n",
    "num_cols = ['FLAG_DOCUMENT_3']\n",
    "scaler = StandardScaler()\n",
    "scaler.fit(app_train[num_cols])\n",
    "\n",
    "app_train[num_cols] = scaler.transform(app_train[num_cols])\n",
    "app_test[num_cols] = scaler.transform(app_test[num_cols])\n",
    "app_train[['FLAG_DOCUMENT_3', 'TARGET']].corr()"
   ]
  },
  {
   "cell_type": "code",
   "execution_count": null,
   "id": "571b6dd2",
   "metadata": {},
   "outputs": [],
   "source": [
    "%matplotlib inline\n",
    "sns.countplot(x='FLAG_DOCUMENT_3', hue='TARGET', data=app_train)\n",
    "plt.legend(loc='upper right', title='TARGET')\n",
    "plt.show()"
   ]
  },
  {
   "cell_type": "markdown",
   "id": "3a4c19d2",
   "metadata": {},
   "source": [
    "### FLAG_DOCUMENT_4"
   ]
  },
  {
   "cell_type": "code",
   "execution_count": null,
   "id": "99274bb7",
   "metadata": {},
   "outputs": [],
   "source": [
    "app_train['FLAG_DOCUMENT_4'].isnull().sum()"
   ]
  },
  {
   "cell_type": "code",
   "execution_count": null,
   "id": "38abf3ac",
   "metadata": {},
   "outputs": [],
   "source": [
    "app_train['FLAG_DOCUMENT_4'].value_counts()"
   ]
  },
  {
   "cell_type": "code",
   "execution_count": null,
   "id": "d62aef73",
   "metadata": {},
   "outputs": [],
   "source": [
    "app_train[['FLAG_DOCUMENT_4','TARGET']].corr()"
   ]
  },
  {
   "cell_type": "code",
   "execution_count": null,
   "id": "1f349cbc",
   "metadata": {},
   "outputs": [],
   "source": [
    "columns = ['FLAG_DOCUMENT_4']\n",
    "app_train.drop(columns, axis=1, inplace=True)\n",
    "app_test.drop(columns, axis=1, inplace=True)"
   ]
  },
  {
   "cell_type": "markdown",
   "id": "450375aa",
   "metadata": {},
   "source": [
    "### FLAG_DOCUMENT_5"
   ]
  },
  {
   "cell_type": "code",
   "execution_count": null,
   "id": "fd3cd69f",
   "metadata": {},
   "outputs": [],
   "source": [
    "app_train['FLAG_DOCUMENT_5'].isnull().sum()"
   ]
  },
  {
   "cell_type": "code",
   "execution_count": null,
   "id": "1ac07402",
   "metadata": {},
   "outputs": [],
   "source": [
    "app_train['FLAG_DOCUMENT_5'].value_counts()"
   ]
  },
  {
   "cell_type": "code",
   "execution_count": null,
   "id": "4cff2b71",
   "metadata": {},
   "outputs": [],
   "source": [
    "app_train[['FLAG_DOCUMENT_5','TARGET']].corr()"
   ]
  },
  {
   "cell_type": "code",
   "execution_count": null,
   "id": "8f54e1d8",
   "metadata": {},
   "outputs": [],
   "source": [
    "columns = ['FLAG_DOCUMENT_5']\n",
    "app_train.drop(columns, axis=1, inplace=True)\n",
    "app_test.drop(columns, axis=1, inplace=True)"
   ]
  },
  {
   "cell_type": "markdown",
   "id": "fa65d630",
   "metadata": {},
   "source": [
    "### FLAG_DOCUMENT_6"
   ]
  },
  {
   "cell_type": "code",
   "execution_count": null,
   "id": "170ef2b4",
   "metadata": {},
   "outputs": [],
   "source": [
    "app_train['FLAG_DOCUMENT_6'].isnull().sum()"
   ]
  },
  {
   "cell_type": "code",
   "execution_count": null,
   "id": "fc98b430",
   "metadata": {},
   "outputs": [],
   "source": [
    "app_train['FLAG_DOCUMENT_6'].value_counts()"
   ]
  },
  {
   "cell_type": "code",
   "execution_count": null,
   "id": "5811418a",
   "metadata": {},
   "outputs": [],
   "source": [
    "app_train[['FLAG_DOCUMENT_6','TARGET']].corr()"
   ]
  },
  {
   "cell_type": "code",
   "execution_count": null,
   "id": "db3fefa1",
   "metadata": {},
   "outputs": [],
   "source": [
    "## 標準化\n",
    "num_cols = ['FLAG_DOCUMENT_6']\n",
    "scaler = StandardScaler()\n",
    "scaler.fit(app_train[num_cols])\n",
    "\n",
    "app_train[num_cols] = scaler.transform(app_train[num_cols])\n",
    "app_test[num_cols] = scaler.transform(app_test[num_cols])\n",
    "app_train[['FLAG_DOCUMENT_6', 'TARGET']].corr()"
   ]
  },
  {
   "cell_type": "code",
   "execution_count": null,
   "id": "fcdd6f97",
   "metadata": {},
   "outputs": [],
   "source": [
    "%matplotlib inline\n",
    "sns.countplot(x='FLAG_DOCUMENT_6', hue='TARGET', data=app_train)\n",
    "plt.legend(loc='upper right', title='TARGET')\n",
    "plt.show()"
   ]
  },
  {
   "cell_type": "markdown",
   "id": "294ce690",
   "metadata": {},
   "source": [
    "### FLAG_DOCUMENT_7"
   ]
  },
  {
   "cell_type": "code",
   "execution_count": null,
   "id": "8cf4de0d",
   "metadata": {},
   "outputs": [],
   "source": [
    "app_train['FLAG_DOCUMENT_7'].isnull().sum()"
   ]
  },
  {
   "cell_type": "code",
   "execution_count": null,
   "id": "ca4cff52",
   "metadata": {},
   "outputs": [],
   "source": [
    "app_train['FLAG_DOCUMENT_7'].value_counts()"
   ]
  },
  {
   "cell_type": "code",
   "execution_count": null,
   "id": "3a77f945",
   "metadata": {},
   "outputs": [],
   "source": [
    "app_train[['FLAG_DOCUMENT_7','TARGET']].corr()"
   ]
  },
  {
   "cell_type": "code",
   "execution_count": null,
   "id": "053e2efa",
   "metadata": {},
   "outputs": [],
   "source": [
    "columns = ['FLAG_DOCUMENT_7']\n",
    "app_train.drop(columns, axis=1, inplace=True)\n",
    "app_test.drop(columns, axis=1, inplace=True)"
   ]
  },
  {
   "cell_type": "markdown",
   "id": "b3f059e3",
   "metadata": {},
   "source": [
    "### FLAG_DOCUMENT_8"
   ]
  },
  {
   "cell_type": "code",
   "execution_count": null,
   "id": "6ceae383",
   "metadata": {},
   "outputs": [],
   "source": [
    "app_train['FLAG_DOCUMENT_8'].isnull().sum()"
   ]
  },
  {
   "cell_type": "code",
   "execution_count": null,
   "id": "344fcd31",
   "metadata": {},
   "outputs": [],
   "source": [
    "app_train['FLAG_DOCUMENT_8'].value_counts()"
   ]
  },
  {
   "cell_type": "code",
   "execution_count": null,
   "id": "cf3dc3c4",
   "metadata": {},
   "outputs": [],
   "source": [
    "app_train[['FLAG_DOCUMENT_8','TARGET']].corr()"
   ]
  },
  {
   "cell_type": "code",
   "execution_count": null,
   "id": "c5721835",
   "metadata": {},
   "outputs": [],
   "source": [
    "columns = ['FLAG_DOCUMENT_8']\n",
    "app_train.drop(columns, axis=1, inplace=True)\n",
    "app_test.drop(columns, axis=1, inplace=True)"
   ]
  },
  {
   "cell_type": "markdown",
   "id": "78ec7af4",
   "metadata": {},
   "source": [
    "### FLAG_DOCUMENT_9"
   ]
  },
  {
   "cell_type": "code",
   "execution_count": null,
   "id": "b227ac59",
   "metadata": {},
   "outputs": [],
   "source": [
    "app_train['FLAG_DOCUMENT_9'].isnull().sum()"
   ]
  },
  {
   "cell_type": "code",
   "execution_count": null,
   "id": "e28505dc",
   "metadata": {},
   "outputs": [],
   "source": [
    "app_train['FLAG_DOCUMENT_9'].value_counts()"
   ]
  },
  {
   "cell_type": "code",
   "execution_count": null,
   "id": "48ffdff4",
   "metadata": {},
   "outputs": [],
   "source": [
    "app_train[['FLAG_DOCUMENT_9','TARGET']].corr()"
   ]
  },
  {
   "cell_type": "code",
   "execution_count": null,
   "id": "07866d48",
   "metadata": {},
   "outputs": [],
   "source": [
    "columns = ['FLAG_DOCUMENT_9']\n",
    "app_train.drop(columns, axis=1, inplace=True)\n",
    "app_test.drop(columns, axis=1, inplace=True)"
   ]
  },
  {
   "cell_type": "markdown",
   "id": "ac582d2f",
   "metadata": {},
   "source": [
    "### FLAG_DOCUMENT_10"
   ]
  },
  {
   "cell_type": "code",
   "execution_count": null,
   "id": "6d7d046a",
   "metadata": {},
   "outputs": [],
   "source": [
    "app_train['FLAG_DOCUMENT_10'].isnull().sum()"
   ]
  },
  {
   "cell_type": "code",
   "execution_count": null,
   "id": "35500d21",
   "metadata": {},
   "outputs": [],
   "source": [
    "app_train['FLAG_DOCUMENT_10'].value_counts()"
   ]
  },
  {
   "cell_type": "code",
   "execution_count": null,
   "id": "b93aee74",
   "metadata": {},
   "outputs": [],
   "source": [
    "app_train[['FLAG_DOCUMENT_10','TARGET']].corr()"
   ]
  },
  {
   "cell_type": "code",
   "execution_count": null,
   "id": "0d35e57c",
   "metadata": {},
   "outputs": [],
   "source": [
    "columns = ['FLAG_DOCUMENT_10']\n",
    "app_train.drop(columns, axis=1, inplace=True)\n",
    "app_test.drop(columns, axis=1, inplace=True)"
   ]
  },
  {
   "cell_type": "markdown",
   "id": "4dad16ab",
   "metadata": {},
   "source": [
    "### FLAG_DOCUMENT_11"
   ]
  },
  {
   "cell_type": "code",
   "execution_count": null,
   "id": "2a82e3a8",
   "metadata": {},
   "outputs": [],
   "source": [
    "app_train['FLAG_DOCUMENT_11'].isnull().sum()"
   ]
  },
  {
   "cell_type": "code",
   "execution_count": null,
   "id": "5d4ac9e3",
   "metadata": {},
   "outputs": [],
   "source": [
    "app_train['FLAG_DOCUMENT_11'].value_counts()"
   ]
  },
  {
   "cell_type": "code",
   "execution_count": null,
   "id": "2d5ecbde",
   "metadata": {},
   "outputs": [],
   "source": [
    "app_train[['FLAG_DOCUMENT_11','TARGET']].corr()"
   ]
  },
  {
   "cell_type": "code",
   "execution_count": null,
   "id": "6d95b202",
   "metadata": {},
   "outputs": [],
   "source": [
    "columns = ['FLAG_DOCUMENT_11']\n",
    "app_train.drop(columns, axis=1, inplace=True)\n",
    "app_test.drop(columns, axis=1, inplace=True)"
   ]
  },
  {
   "cell_type": "code",
   "execution_count": null,
   "id": "9a8edf82",
   "metadata": {},
   "outputs": [],
   "source": [
    "### FLAG_DOCUMENT_12"
   ]
  },
  {
   "cell_type": "code",
   "execution_count": null,
   "id": "f48ef94b",
   "metadata": {},
   "outputs": [],
   "source": [
    "app_train['FLAG_DOCUMENT_12'].isnull().sum()"
   ]
  },
  {
   "cell_type": "code",
   "execution_count": null,
   "id": "6fc9b9f0",
   "metadata": {},
   "outputs": [],
   "source": [
    "app_train['FLAG_DOCUMENT_12'].value_counts()"
   ]
  },
  {
   "cell_type": "code",
   "execution_count": null,
   "id": "90c25d6f",
   "metadata": {},
   "outputs": [],
   "source": [
    "app_train[['FLAG_DOCUMENT_12','TARGET']].corr()"
   ]
  },
  {
   "cell_type": "code",
   "execution_count": null,
   "id": "baeb2c40",
   "metadata": {},
   "outputs": [],
   "source": [
    "columns = ['FLAG_DOCUMENT_12']\n",
    "app_train.drop(columns, axis=1, inplace=True)\n",
    "app_test.drop(columns, axis=1, inplace=True)"
   ]
  },
  {
   "cell_type": "markdown",
   "id": "b65bf032",
   "metadata": {},
   "source": [
    "### FLAG_DOCUMENT_13"
   ]
  },
  {
   "cell_type": "code",
   "execution_count": null,
   "id": "5915d33d",
   "metadata": {},
   "outputs": [],
   "source": [
    "app_train['FLAG_DOCUMENT_13'].isnull().sum()"
   ]
  },
  {
   "cell_type": "code",
   "execution_count": null,
   "id": "b534da4a",
   "metadata": {},
   "outputs": [],
   "source": [
    "app_train['FLAG_DOCUMENT_13'].value_counts()"
   ]
  },
  {
   "cell_type": "code",
   "execution_count": null,
   "id": "90dceeaf",
   "metadata": {},
   "outputs": [],
   "source": [
    "app_train[['FLAG_DOCUMENT_13','TARGET']].corr()"
   ]
  },
  {
   "cell_type": "code",
   "execution_count": null,
   "id": "ba6e718f",
   "metadata": {},
   "outputs": [],
   "source": [
    "## 標準化\n",
    "num_cols = ['FLAG_DOCUMENT_13']\n",
    "scaler = StandardScaler()\n",
    "scaler.fit(app_train[num_cols])\n",
    "\n",
    "app_train[num_cols] = scaler.transform(app_train[num_cols])\n",
    "app_test[num_cols] = scaler.transform(app_test[num_cols])\n",
    "app_train[['FLAG_DOCUMENT_13', 'TARGET']].corr()"
   ]
  },
  {
   "cell_type": "code",
   "execution_count": null,
   "id": "9563fec8",
   "metadata": {},
   "outputs": [],
   "source": [
    "%matplotlib inline\n",
    "sns.countplot(x='FLAG_DOCUMENT_13', hue='TARGET', data=app_train)\n",
    "plt.legend(loc='upper right', title='TARGET')\n",
    "plt.show()\n"
   ]
  },
  {
   "cell_type": "markdown",
   "id": "14163137",
   "metadata": {},
   "source": [
    "### FLAG_DOCUMENT_14"
   ]
  },
  {
   "cell_type": "code",
   "execution_count": null,
   "id": "87a7ecdd",
   "metadata": {},
   "outputs": [],
   "source": [
    "app_train['FLAG_DOCUMENT_14'].isnull().sum()"
   ]
  },
  {
   "cell_type": "code",
   "execution_count": null,
   "id": "08ee07f4",
   "metadata": {},
   "outputs": [],
   "source": [
    "app_train['FLAG_DOCUMENT_14'].value_counts()"
   ]
  },
  {
   "cell_type": "code",
   "execution_count": null,
   "id": "1d8c411c",
   "metadata": {},
   "outputs": [],
   "source": [
    "app_train[['FLAG_DOCUMENT_14','TARGET']].corr()"
   ]
  },
  {
   "cell_type": "code",
   "execution_count": null,
   "id": "848055d3",
   "metadata": {},
   "outputs": [],
   "source": [
    "columns = ['FLAG_DOCUMENT_14']\n",
    "app_train.drop(columns, axis=1, inplace=True)\n",
    "app_test.drop(columns, axis=1, inplace=True)"
   ]
  },
  {
   "cell_type": "markdown",
   "id": "69db9dec",
   "metadata": {},
   "source": [
    "### FLAG_DOCUMENT_15"
   ]
  },
  {
   "cell_type": "code",
   "execution_count": null,
   "id": "e0399ab2",
   "metadata": {},
   "outputs": [],
   "source": [
    "app_train['FLAG_DOCUMENT_15'].isnull().sum()"
   ]
  },
  {
   "cell_type": "code",
   "execution_count": null,
   "id": "acb3ce92",
   "metadata": {},
   "outputs": [],
   "source": [
    "app_train['FLAG_DOCUMENT_15'].value_counts()"
   ]
  },
  {
   "cell_type": "code",
   "execution_count": null,
   "id": "5ead316e",
   "metadata": {},
   "outputs": [],
   "source": [
    "app_train[['FLAG_DOCUMENT_15','TARGET']].corr()"
   ]
  },
  {
   "cell_type": "code",
   "execution_count": null,
   "id": "32344eb2",
   "metadata": {},
   "outputs": [],
   "source": [
    "columns = ['FLAG_DOCUMENT_15']\n",
    "app_train.drop(columns, axis=1, inplace=True)\n",
    "app_test.drop(columns, axis=1, inplace=True)"
   ]
  },
  {
   "cell_type": "markdown",
   "id": "736420db",
   "metadata": {},
   "source": [
    "### FLAG_DOCUMENT_16"
   ]
  },
  {
   "cell_type": "code",
   "execution_count": null,
   "id": "5dce5a1b",
   "metadata": {},
   "outputs": [],
   "source": [
    "app_train['FLAG_DOCUMENT_16'].isnull().sum()"
   ]
  },
  {
   "cell_type": "code",
   "execution_count": null,
   "id": "39dba3a3",
   "metadata": {},
   "outputs": [],
   "source": [
    "app_train['FLAG_DOCUMENT_16'].value_counts()"
   ]
  },
  {
   "cell_type": "code",
   "execution_count": null,
   "id": "d5abc910",
   "metadata": {},
   "outputs": [],
   "source": [
    "app_train[['FLAG_DOCUMENT_16','TARGET']].corr()"
   ]
  },
  {
   "cell_type": "code",
   "execution_count": null,
   "id": "dd4f00c3",
   "metadata": {},
   "outputs": [],
   "source": [
    "## 標準化\n",
    "num_cols = ['FLAG_DOCUMENT_16']\n",
    "scaler = StandardScaler()\n",
    "scaler.fit(app_train[num_cols])\n",
    "\n",
    "app_train[num_cols] = scaler.transform(app_train[num_cols])\n",
    "app_test[num_cols] = scaler.transform(app_test[num_cols])\n",
    "app_train[['FLAG_DOCUMENT_16', 'TARGET']].corr()"
   ]
  },
  {
   "cell_type": "code",
   "execution_count": null,
   "id": "b831e253",
   "metadata": {},
   "outputs": [],
   "source": [
    "%matplotlib inline\n",
    "sns.countplot(x='FLAG_DOCUMENT_16', hue='TARGET', data=app_train)\n",
    "plt.legend(loc='upper right', title='TARGET')\n",
    "plt.show()"
   ]
  },
  {
   "cell_type": "markdown",
   "id": "0f823264",
   "metadata": {},
   "source": [
    "### FLAG_DOCUMENT_17"
   ]
  },
  {
   "cell_type": "code",
   "execution_count": null,
   "id": "8ec00f53",
   "metadata": {},
   "outputs": [],
   "source": [
    "app_train['FLAG_DOCUMENT_17'].isnull().sum()"
   ]
  },
  {
   "cell_type": "code",
   "execution_count": null,
   "id": "8e1758d7",
   "metadata": {},
   "outputs": [],
   "source": [
    "app_train['FLAG_DOCUMENT_17'].value_counts()"
   ]
  },
  {
   "cell_type": "code",
   "execution_count": null,
   "id": "80625669",
   "metadata": {},
   "outputs": [],
   "source": [
    "app_train[['FLAG_DOCUMENT_17','TARGET']].corr()"
   ]
  },
  {
   "cell_type": "code",
   "execution_count": null,
   "id": "20109c80",
   "metadata": {},
   "outputs": [],
   "source": [
    "columns = ['FLAG_DOCUMENT_17']\n",
    "app_train.drop(columns, axis=1, inplace=True)\n",
    "app_test.drop(columns, axis=1, inplace=True)"
   ]
  },
  {
   "cell_type": "markdown",
   "id": "21cb7d96",
   "metadata": {},
   "source": [
    "### FLAG_DOCUMENT_18"
   ]
  },
  {
   "cell_type": "code",
   "execution_count": null,
   "id": "89dc48fb",
   "metadata": {},
   "outputs": [],
   "source": [
    "app_train['FLAG_DOCUMENT_18'].isnull().sum()"
   ]
  },
  {
   "cell_type": "code",
   "execution_count": null,
   "id": "0ba289d0",
   "metadata": {},
   "outputs": [],
   "source": [
    "app_train['FLAG_DOCUMENT_18'].value_counts()"
   ]
  },
  {
   "cell_type": "code",
   "execution_count": null,
   "id": "8d5172b2",
   "metadata": {},
   "outputs": [],
   "source": [
    "app_train[['FLAG_DOCUMENT_18','TARGET']].corr()"
   ]
  },
  {
   "cell_type": "code",
   "execution_count": null,
   "id": "049aa1c2",
   "metadata": {},
   "outputs": [],
   "source": [
    "columns = ['FLAG_DOCUMENT_18']\n",
    "app_train.drop(columns, axis=1, inplace=True)\n",
    "app_test.drop(columns, axis=1, inplace=True)"
   ]
  },
  {
   "cell_type": "markdown",
   "id": "3a54db88",
   "metadata": {},
   "source": [
    "### FLAG_DOCUMENT_19"
   ]
  },
  {
   "cell_type": "code",
   "execution_count": null,
   "id": "597a2579",
   "metadata": {},
   "outputs": [],
   "source": [
    "app_train['FLAG_DOCUMENT_19'].isnull().sum()"
   ]
  },
  {
   "cell_type": "code",
   "execution_count": null,
   "id": "2d129927",
   "metadata": {},
   "outputs": [],
   "source": [
    "app_train['FLAG_DOCUMENT_19'].value_counts()"
   ]
  },
  {
   "cell_type": "code",
   "execution_count": null,
   "id": "8f744620",
   "metadata": {},
   "outputs": [],
   "source": [
    "app_train[['FLAG_DOCUMENT_19','TARGET']].corr()"
   ]
  },
  {
   "cell_type": "code",
   "execution_count": null,
   "id": "9ac90869",
   "metadata": {},
   "outputs": [],
   "source": [
    "columns = ['FLAG_DOCUMENT_19']\n",
    "app_train.drop(columns, axis=1, inplace=True)\n",
    "app_test.drop(columns, axis=1, inplace=True)"
   ]
  },
  {
   "cell_type": "markdown",
   "id": "d8ead30c",
   "metadata": {},
   "source": [
    "### FLAG_DOCUMENT_20"
   ]
  },
  {
   "cell_type": "code",
   "execution_count": null,
   "id": "32fe3745",
   "metadata": {},
   "outputs": [],
   "source": [
    "app_train['FLAG_DOCUMENT_20'].isnull().sum()"
   ]
  },
  {
   "cell_type": "code",
   "execution_count": null,
   "id": "93d339b5",
   "metadata": {},
   "outputs": [],
   "source": [
    "app_train['FLAG_DOCUMENT_20'].value_counts()"
   ]
  },
  {
   "cell_type": "code",
   "execution_count": null,
   "id": "6c38028a",
   "metadata": {},
   "outputs": [],
   "source": [
    "app_train[['FLAG_DOCUMENT_20','TARGET']].corr()"
   ]
  },
  {
   "cell_type": "code",
   "execution_count": null,
   "id": "636ba83c",
   "metadata": {},
   "outputs": [],
   "source": [
    "columns = ['FLAG_DOCUMENT_20']\n",
    "app_train.drop(columns, axis=1, inplace=True)\n",
    "app_test.drop(columns, axis=1, inplace=True)"
   ]
  },
  {
   "cell_type": "markdown",
   "id": "b3271ab8",
   "metadata": {},
   "source": [
    "### FLAG_DOCUMENT_21"
   ]
  },
  {
   "cell_type": "code",
   "execution_count": null,
   "id": "c667c53d",
   "metadata": {},
   "outputs": [],
   "source": [
    "app_train['FLAG_DOCUMENT_21'].isnull().sum()"
   ]
  },
  {
   "cell_type": "code",
   "execution_count": null,
   "id": "f3d2538c",
   "metadata": {},
   "outputs": [],
   "source": [
    "app_train['FLAG_DOCUMENT_21'].value_counts()"
   ]
  },
  {
   "cell_type": "code",
   "execution_count": null,
   "id": "bb8e96a3",
   "metadata": {},
   "outputs": [],
   "source": [
    "app_train[['FLAG_DOCUMENT_21','TARGET']].corr()"
   ]
  },
  {
   "cell_type": "code",
   "execution_count": null,
   "id": "94d2d7a7",
   "metadata": {},
   "outputs": [],
   "source": [
    "columns = ['FLAG_DOCUMENT_21']\n",
    "app_train.drop(columns, axis=1, inplace=True)\n",
    "app_test.drop(columns, axis=1, inplace=True)"
   ]
  },
  {
   "cell_type": "markdown",
   "id": "41879c9e",
   "metadata": {},
   "source": [
    "### AMT_REQ_CREDIT_BUREAU_HOUR"
   ]
  },
  {
   "cell_type": "code",
   "execution_count": null,
   "id": "70cc66fa",
   "metadata": {},
   "outputs": [],
   "source": [
    "app_train['AMT_REQ_CREDIT_BUREAU_HOUR'].isnull().sum()"
   ]
  },
  {
   "cell_type": "code",
   "execution_count": null,
   "id": "46ae20eb",
   "metadata": {},
   "outputs": [],
   "source": [
    "app_train['AMT_REQ_CREDIT_BUREAU_HOUR'].value_counts()"
   ]
  },
  {
   "cell_type": "code",
   "execution_count": null,
   "id": "b7dd2bc6",
   "metadata": {},
   "outputs": [],
   "source": [
    "app_train[['AMT_REQ_CREDIT_BUREAU_HOUR','TARGET']].corr()"
   ]
  },
  {
   "cell_type": "code",
   "execution_count": null,
   "id": "9d3176bb",
   "metadata": {},
   "outputs": [],
   "source": [
    "kde_target('AMT_REQ_CREDIT_BUREAU_HOUR', app_train)"
   ]
  },
  {
   "cell_type": "code",
   "execution_count": null,
   "id": "5b13c913",
   "metadata": {},
   "outputs": [],
   "source": [
    "## Yao-Johnson変換\n",
    "num_cols = ['AMT_REQ_CREDIT_BUREAU_HOUR']\n",
    "### 学習データに基づいてYao-Johnson変換を定義\n",
    "pt = PowerTransformer(method = 'yeo-johnson')\n",
    "pt.fit(app_train[num_cols].copy())\n",
    "\n",
    "### 変換後のデータで各列を置換\n",
    "app_train['AMT_REQ_CREDIT_BUREAU_HOUR'] = pt.transform(app_train[num_cols])\n",
    "app_test['AMT_REQ_CREDIT_BUREAU_HOUR'] = pt.transform(app_test[num_cols])\n",
    "\n",
    "app_train[['AMT_REQ_CREDIT_BUREAU_HOUR', 'TARGET']].corr()"
   ]
  },
  {
   "cell_type": "code",
   "execution_count": null,
   "id": "cd08fcb8",
   "metadata": {},
   "outputs": [],
   "source": [
    "## 標準化\n",
    "num_cols = ['AMT_REQ_CREDIT_BUREAU_HOUR']\n",
    "scaler = StandardScaler()\n",
    "scaler.fit(app_train[num_cols])\n",
    "\n",
    "app_train[num_cols] = scaler.transform(app_train[num_cols])\n",
    "app_test[num_cols] = scaler.transform(app_test[num_cols])\n",
    "app_train[['AMT_REQ_CREDIT_BUREAU_HOUR', 'TARGET']].corr()"
   ]
  },
  {
   "cell_type": "code",
   "execution_count": null,
   "id": "349edd76",
   "metadata": {},
   "outputs": [],
   "source": [
    "## Yao-Johnson変換後の特徴量の分布\n",
    "kde_target('AMT_REQ_CREDIT_BUREAU_HOUR', app_train)"
   ]
  },
  {
   "cell_type": "markdown",
   "id": "7f567744",
   "metadata": {},
   "source": [
    "### AMT_REQ_CREDIT_BUREAU_DAY"
   ]
  },
  {
   "cell_type": "code",
   "execution_count": null,
   "id": "4dc06814",
   "metadata": {},
   "outputs": [],
   "source": [
    "app_train['AMT_REQ_CREDIT_BUREAU_DAY'].isnull().sum()"
   ]
  },
  {
   "cell_type": "code",
   "execution_count": null,
   "id": "4d9093f6",
   "metadata": {},
   "outputs": [],
   "source": [
    "app_train['AMT_REQ_CREDIT_BUREAU_DAY'].value_counts()"
   ]
  },
  {
   "cell_type": "code",
   "execution_count": null,
   "id": "5cb1fd6f",
   "metadata": {},
   "outputs": [],
   "source": [
    "app_train[['AMT_REQ_CREDIT_BUREAU_DAY','TARGET']].corr()"
   ]
  },
  {
   "cell_type": "code",
   "execution_count": null,
   "id": "4d2648b7",
   "metadata": {},
   "outputs": [],
   "source": [
    "## Yao-Johnson変換\n",
    "num_cols = ['AMT_REQ_CREDIT_BUREAU_DAY']\n",
    "### 学習データに基づいてYao-Johnson変換を定義\n",
    "pt = PowerTransformer(method = 'yeo-johnson')\n",
    "pt.fit(app_train[num_cols].copy())\n",
    "\n",
    "### 変換後のデータで各列を置換\n",
    "app_train['AMT_REQ_CREDIT_BUREAU_DAY'] = pt.transform(app_train[num_cols])\n",
    "app_test['AMT_REQ_CREDIT_BUREAU_DAY'] = pt.transform(app_test[num_cols])\n",
    "\n",
    "app_train[['AMT_REQ_CREDIT_BUREAU_DAY', 'TARGET']].corr()"
   ]
  },
  {
   "cell_type": "code",
   "execution_count": null,
   "id": "8b1997a8",
   "metadata": {},
   "outputs": [],
   "source": [
    "## 標準化\n",
    "num_cols = ['AMT_REQ_CREDIT_BUREAU_DAY']\n",
    "scaler = StandardScaler()\n",
    "scaler.fit(app_train[num_cols])\n",
    "\n",
    "app_train[num_cols] = scaler.transform(app_train[num_cols])\n",
    "app_test[num_cols] = scaler.transform(app_test[num_cols])\n",
    "app_train[['AMT_REQ_CREDIT_BUREAU_DAY', 'TARGET']].corr()"
   ]
  },
  {
   "cell_type": "code",
   "execution_count": null,
   "id": "7e95197c",
   "metadata": {},
   "outputs": [],
   "source": [
    "## Yao-Johnson変換後の特徴量の分布\n",
    "kde_target('AMT_REQ_CREDIT_BUREAU_DAY', app_train)"
   ]
  },
  {
   "cell_type": "markdown",
   "id": "7948ff66",
   "metadata": {},
   "source": [
    "### AMT_REQ_CREDIT_BUREAU_WEEK"
   ]
  },
  {
   "cell_type": "code",
   "execution_count": null,
   "id": "0cb71763",
   "metadata": {},
   "outputs": [],
   "source": [
    "app_train['AMT_REQ_CREDIT_BUREAU_WEEK'].isnull().sum()"
   ]
  },
  {
   "cell_type": "code",
   "execution_count": null,
   "id": "8ae90da1",
   "metadata": {},
   "outputs": [],
   "source": [
    "app_train['AMT_REQ_CREDIT_BUREAU_WEEK'].value_counts()"
   ]
  },
  {
   "cell_type": "code",
   "execution_count": null,
   "id": "ea7dd74c",
   "metadata": {},
   "outputs": [],
   "source": [
    "app_train[['AMT_REQ_CREDIT_BUREAU_WEEK','TARGET']].corr()"
   ]
  },
  {
   "cell_type": "code",
   "execution_count": null,
   "id": "c7376b10",
   "metadata": {},
   "outputs": [],
   "source": [
    "## Yao-Johnson変換\n",
    "num_cols = ['AMT_REQ_CREDIT_BUREAU_WEEK']\n",
    "### 学習データに基づいてYao-Johnson変換を定義\n",
    "pt = PowerTransformer(method = 'yeo-johnson')\n",
    "pt.fit(app_train[num_cols].copy())\n",
    "\n",
    "### 変換後のデータで各列を置換\n",
    "app_train['AMT_REQ_CREDIT_BUREAU_WEEK'] = pt.transform(app_train[num_cols])\n",
    "app_test['AMT_REQ_CREDIT_BUREAU_WEEK'] = pt.transform(app_test[num_cols])\n",
    "\n",
    "app_train[['AMT_REQ_CREDIT_BUREAU_WEEK', 'TARGET']].corr()"
   ]
  },
  {
   "cell_type": "code",
   "execution_count": null,
   "id": "a7c1157b",
   "metadata": {},
   "outputs": [],
   "source": [
    "## 標準化\n",
    "num_cols = ['AMT_REQ_CREDIT_BUREAU_WEEK']\n",
    "scaler = StandardScaler()\n",
    "scaler.fit(app_train[num_cols])\n",
    "\n",
    "app_train[num_cols] = scaler.transform(app_train[num_cols])\n",
    "app_test[num_cols] = scaler.transform(app_test[num_cols])\n",
    "app_train[['AMT_REQ_CREDIT_BUREAU_WEEK', 'TARGET']].corr()"
   ]
  },
  {
   "cell_type": "code",
   "execution_count": null,
   "id": "e14f5851",
   "metadata": {},
   "outputs": [],
   "source": [
    "## Yao-Johnson変換後の特徴量の分布\n",
    "kde_target('AMT_REQ_CREDIT_BUREAU_WEEK', app_train)"
   ]
  },
  {
   "cell_type": "markdown",
   "id": "7c490fd1",
   "metadata": {},
   "source": [
    "### AMT_REQ_CREDIT_BUREAU_MON"
   ]
  },
  {
   "cell_type": "code",
   "execution_count": null,
   "id": "9463c36a",
   "metadata": {},
   "outputs": [],
   "source": [
    "app_train['AMT_REQ_CREDIT_BUREAU_MON'].isnull().sum()"
   ]
  },
  {
   "cell_type": "code",
   "execution_count": null,
   "id": "0342da17",
   "metadata": {},
   "outputs": [],
   "source": [
    "app_train['AMT_REQ_CREDIT_BUREAU_MON'].value_counts()"
   ]
  },
  {
   "cell_type": "code",
   "execution_count": null,
   "id": "267636ab",
   "metadata": {},
   "outputs": [],
   "source": [
    "app_train[['AMT_REQ_CREDIT_BUREAU_MON','TARGET']].corr()"
   ]
  },
  {
   "cell_type": "code",
   "execution_count": null,
   "id": "b3a018da",
   "metadata": {},
   "outputs": [],
   "source": [
    "kde_target('AMT_REQ_CREDIT_BUREAU_MON', app_train)"
   ]
  },
  {
   "cell_type": "code",
   "execution_count": null,
   "id": "429f6f0f",
   "metadata": {},
   "outputs": [],
   "source": [
    "## Yao-Johnson変換\n",
    "#num_cols = ['AMT_REQ_CREDIT_BUREAU_MON']\n",
    "### 学習データに基づいてYao-Johnson変換を定義\n",
    "#pt = PowerTransformer(method = 'yeo-johnson')\n",
    "#pt.fit(app_train[num_cols].copy())\n",
    "\n",
    "### 変換後のデータで各列を置換\n",
    "#app_train['AMT_REQ_CREDIT_BUREAU_MON'] = pt.transform(app_train[num_cols])\n",
    "#app_test['AMT_REQ_CREDIT_BUREAU_MON'] = pt.transform(app_test[num_cols])\n",
    "\n",
    "#app_train[['AMT_REQ_CREDIT_BUREAU_MON', 'TARGET']].corr()"
   ]
  },
  {
   "cell_type": "code",
   "execution_count": null,
   "id": "064f4d8b",
   "metadata": {},
   "outputs": [],
   "source": [
    "## 標準化\n",
    "num_cols = ['AMT_REQ_CREDIT_BUREAU_MON']\n",
    "scaler = StandardScaler()\n",
    "scaler.fit(app_train[num_cols])\n",
    "\n",
    "app_train[num_cols] = scaler.transform(app_train[num_cols])\n",
    "app_test[num_cols] = scaler.transform(app_test[num_cols])\n",
    "app_train[['AMT_REQ_CREDIT_BUREAU_MON', 'TARGET']].corr()"
   ]
  },
  {
   "cell_type": "code",
   "execution_count": null,
   "id": "8c977ffc",
   "metadata": {},
   "outputs": [],
   "source": [
    "## Yao-Johnson変換後の特徴量の分布\n",
    "kde_target('AMT_REQ_CREDIT_BUREAU_MON', app_train)"
   ]
  },
  {
   "cell_type": "markdown",
   "id": "d8103eba",
   "metadata": {},
   "source": [
    "### AMT_REQ_CREDIT_BUREAU_QRT"
   ]
  },
  {
   "cell_type": "code",
   "execution_count": null,
   "id": "a37d0029",
   "metadata": {},
   "outputs": [],
   "source": [
    "app_train['AMT_REQ_CREDIT_BUREAU_QRT'].isnull().sum()"
   ]
  },
  {
   "cell_type": "code",
   "execution_count": null,
   "id": "41b6687d",
   "metadata": {},
   "outputs": [],
   "source": [
    "app_train['AMT_REQ_CREDIT_BUREAU_QRT'].value_counts()"
   ]
  },
  {
   "cell_type": "code",
   "execution_count": null,
   "id": "75ffbc88",
   "metadata": {},
   "outputs": [],
   "source": [
    "app_train[['AMT_REQ_CREDIT_BUREAU_QRT','TARGET']].corr()"
   ]
  },
  {
   "cell_type": "code",
   "execution_count": null,
   "id": "e2f1c821",
   "metadata": {},
   "outputs": [],
   "source": [
    "## Yao-Johnson変換\n",
    "num_cols = ['AMT_REQ_CREDIT_BUREAU_QRT']\n",
    "### 学習データに基づいてYao-Johnson変換を定義\n",
    "pt = PowerTransformer(method = 'yeo-johnson')\n",
    "pt.fit(app_train[num_cols].copy())\n",
    "\n",
    "### 変換後のデータで各列を置換\n",
    "app_train['AMT_REQ_CREDIT_BUREAU_QRT'] = pt.transform(app_train[num_cols])\n",
    "app_test['AMT_REQ_CREDIT_BUREAU_QRT'] = pt.transform(app_test[num_cols])\n",
    "\n",
    "app_train[['AMT_REQ_CREDIT_BUREAU_QRT', 'TARGET']].corr()"
   ]
  },
  {
   "cell_type": "code",
   "execution_count": null,
   "id": "2713bd41",
   "metadata": {},
   "outputs": [],
   "source": [
    "columns = ['AMT_REQ_CREDIT_BUREAU_QRT']\n",
    "app_train.drop(columns, axis=1, inplace=True)\n",
    "app_test.drop(columns, axis=1, inplace=True)"
   ]
  },
  {
   "cell_type": "markdown",
   "id": "35ef2d02",
   "metadata": {},
   "source": [
    "### AMT_REQ_CREDIT_BUREAU_YEAR"
   ]
  },
  {
   "cell_type": "code",
   "execution_count": null,
   "id": "7742089d",
   "metadata": {},
   "outputs": [],
   "source": [
    "app_train['AMT_REQ_CREDIT_BUREAU_YEAR'].isnull().sum()"
   ]
  },
  {
   "cell_type": "code",
   "execution_count": null,
   "id": "4ca1a4cd",
   "metadata": {},
   "outputs": [],
   "source": [
    "app_train['AMT_REQ_CREDIT_BUREAU_YEAR'].value_counts()"
   ]
  },
  {
   "cell_type": "code",
   "execution_count": null,
   "id": "248c7c91",
   "metadata": {},
   "outputs": [],
   "source": [
    "app_train[['AMT_REQ_CREDIT_BUREAU_YEAR','TARGET']].corr()"
   ]
  },
  {
   "cell_type": "code",
   "execution_count": null,
   "id": "8e3a1574",
   "metadata": {},
   "outputs": [],
   "source": [
    "## Yao-Johnson変換\n",
    "num_cols = ['AMT_REQ_CREDIT_BUREAU_YEAR']\n",
    "### 学習データに基づいてYao-Johnson変換を定義\n",
    "pt = PowerTransformer(method = 'yeo-johnson')\n",
    "pt.fit(app_train[num_cols].copy())\n",
    "\n",
    "### 変換後のデータで各列を置換\n",
    "app_train['AMT_REQ_CREDIT_BUREAU_YEAR'] = pt.transform(app_train[num_cols])\n",
    "app_test['AMT_REQ_CREDIT_BUREAU_YEAR'] = pt.transform(app_test[num_cols])\n",
    "\n",
    "app_train[['AMT_REQ_CREDIT_BUREAU_YEAR', 'TARGET']].corr()"
   ]
  },
  {
   "cell_type": "code",
   "execution_count": null,
   "id": "98903ae2",
   "metadata": {},
   "outputs": [],
   "source": [
    "## 標準化\n",
    "num_cols = ['AMT_REQ_CREDIT_BUREAU_YEAR']\n",
    "scaler = StandardScaler()\n",
    "scaler.fit(app_train[num_cols])\n",
    "\n",
    "app_train[num_cols] = scaler.transform(app_train[num_cols])\n",
    "app_test[num_cols] = scaler.transform(app_test[num_cols])\n",
    "app_train[['AMT_REQ_CREDIT_BUREAU_YEAR', 'TARGET']].corr()"
   ]
  },
  {
   "cell_type": "code",
   "execution_count": null,
   "id": "065618e7",
   "metadata": {},
   "outputs": [],
   "source": [
    "## Yao-Johnson変換後の特徴量の分布\n",
    "kde_target('AMT_REQ_CREDIT_BUREAU_YEAR', app_train)"
   ]
  },
  {
   "cell_type": "code",
   "execution_count": null,
   "id": "cc0c9449",
   "metadata": {},
   "outputs": [],
   "source": [
    "## CSV出力"
   ]
  },
  {
   "cell_type": "code",
   "execution_count": null,
   "id": "8a49e109",
   "metadata": {},
   "outputs": [],
   "source": [
    "app_test = app_test.copy().drop('TARGET', axis=1)\n",
    "app_test['SK_ID_CURR'] = app_test[[\"SK_ID_CURR\"]].astype(int)\n",
    "app_train['SK_ID_CURR'] = app_train[[\"SK_ID_CURR\"]].astype(int)"
   ]
  },
  {
   "cell_type": "code",
   "execution_count": null,
   "id": "59953156",
   "metadata": {},
   "outputs": [],
   "source": [
    "### train\n",
    "app_train.to_csv(\n",
    "    path_or_buf=\"./home-credit-default-risk/exports/app_train_nn.csv\", # 出力先\n",
    "    sep=\",\",                                            # 区切り文字\n",
    "    index=False,                                        # indexの出力有無\n",
    "    header=True                                        # headerの出力有無\n",
    ")"
   ]
  },
  {
   "cell_type": "code",
   "execution_count": null,
   "id": "dca5f6a4",
   "metadata": {},
   "outputs": [],
   "source": [
    "### test\n",
    "app_test.to_csv(\n",
    "    path_or_buf=\"./home-credit-default-risk/exports/app_test_nn.csv\", # 出力先\n",
    "    sep=\",\",                                            # 区切り文字\n",
    "    index=False,                                        # indexの出力有無\n",
    "    header=True                                        # headerの出力有無\n",
    ")"
   ]
  },
  {
   "cell_type": "markdown",
   "id": "e8ec0482",
   "metadata": {},
   "source": [
    "## モデル適用"
   ]
  },
  {
   "cell_type": "code",
   "execution_count": null,
   "id": "35a410cf",
   "metadata": {},
   "outputs": [],
   "source": [
    "data = pd.concat([app_train, app_test], sort=False)\n",
    "train = data[:len(app_train)]\n",
    "test = data[len(app_test):]\n",
    "\n",
    "\n",
    "y_train = train['TARGET']\n",
    "X_train = app_train.copy().drop('TARGET', axis=1)\n",
    "X_test = app_test.copy()\n",
    "len(X_test)"
   ]
  },
  {
   "cell_type": "code",
   "execution_count": null,
   "id": "811429f6",
   "metadata": {},
   "outputs": [],
   "source": [
    "len(X_train.columns)"
   ]
  },
  {
   "cell_type": "code",
   "execution_count": null,
   "id": "2bac003e",
   "metadata": {},
   "outputs": [],
   "source": [
    "len(X_test.columns)"
   ]
  },
  {
   "cell_type": "code",
   "execution_count": null,
   "id": "dbade781",
   "metadata": {},
   "outputs": [],
   "source": [
    "diff_list = set(X_train.columns) ^ set(X_test.columns)\n",
    "print(diff_list)"
   ]
  },
  {
   "cell_type": "code",
   "execution_count": null,
   "id": "7bff65ca",
   "metadata": {},
   "outputs": [],
   "source": [
    "y_preds = []\n",
    "models = []\n",
    "scores = []\n",
    "oof_train = np.zeros((len(X_train),))\n",
    "cv = KFold(n_splits=5, shuffle=True, random_state=0)\n",
    "\n",
    "\n",
    "for fold_id, (train_index, valid_index) in enumerate(cv.split(X_train)):\n",
    "    tr_x = X_train.loc[train_index, :]\n",
    "    va_x = X_train.loc[valid_index, :]\n",
    "    tr_y = y_train[train_index]\n",
    "    va_y = y_train[valid_index]\n",
    "    \n",
    "    scaler = StandardScaler()\n",
    "    tr_x = scaler.fit_transform(tr_x)\n",
    "    va_x = scaler.transform(va_x)\n",
    "    test_x = scaler.transform(X_test)\n",
    "    \n",
    "    model = Sequential()\n",
    "    model.add(Dense(\n",
    "        256\n",
    "        ,activation = 'relu'\n",
    "        ,input_shape=(X_train.shape[1],)\n",
    "    ))\n",
    "    \n",
    "    model.add(Dropout(0.2))\n",
    "    model.add(Dense(256, activation='relu'))\n",
    "    model.add(Dropout(0.2))\n",
    "    model.add(Dense(1, activation='sigmoid'))\n",
    "   \n",
    "    model.compile(loss='binary_crossentropy',\n",
    "                 optimizer='adam', metrics=['accuracy'])\n",
    "    \n",
    "    # 学習の実行\n",
    "    batch_size = 128\n",
    "    epochs = 10\n",
    "    history = model.fit(tr_x, tr_y,\n",
    "                       batch_size=batch_size, epochs=epochs,\n",
    "                       verbose=1, validation_data=(va_x, va_y))\n",
    "    \n",
    "    va_pred = model.predict(va_x)\n",
    "    y_pred = model.predict(test_x)\n",
    "    score = log_loss(va_y, va_pred, eps=1e-7)\n",
    "    print(f'logloss:{score:.4f}')\n",
    "\n",
    "    y_preds.append(y_pred)\n",
    "    models.append(model)\n",
    "    scores.append(score)"
   ]
  },
  {
   "cell_type": "code",
   "execution_count": null,
   "id": "f12f4252",
   "metadata": {},
   "outputs": [],
   "source": [
    "scores"
   ]
  },
  {
   "cell_type": "code",
   "execution_count": null,
   "id": "6357a844",
   "metadata": {},
   "outputs": [],
   "source": [
    "y_preds"
   ]
  },
  {
   "cell_type": "code",
   "execution_count": null,
   "id": "6c584e64",
   "metadata": {},
   "outputs": [],
   "source": [
    "# CSV-00\n",
    "submit_all = app_test[[\"SK_ID_CURR\"]].copy()\n",
    "# 予測確率の変数名はTARGET\n",
    "submit_all[\"TARGET\"] = y_preds[0]\n",
    "\n",
    "# Submit File\n",
    "submit_all.to_csv(\n",
    "    path_or_buf=\"./home-credit-default-risk/submit/submit_all_00.csv\", # 出力先\n",
    "    sep=\",\",                                            # 区切り文字\n",
    "    index=False,                                        # indexの出力有無\n",
    "    header=True                                        # headerの出力有無\n",
    ")"
   ]
  },
  {
   "cell_type": "code",
   "execution_count": null,
   "id": "419293f1",
   "metadata": {},
   "outputs": [],
   "source": [
    "# CSV-01\n",
    "submit_all = app_test[[\"SK_ID_CURR\"]].copy()\n",
    "# 予測確率の変数名はTARGET\n",
    "submit_all[\"TARGET\"] = y_preds[1]\n",
    "\n",
    "# Submit File\n",
    "submit_all.to_csv(\n",
    "    path_or_buf=\"./home-credit-default-risk/submit/submit_all_01.csv\", # 出力先\n",
    "    sep=\",\",                                            # 区切り文字\n",
    "    index=False,                                        # indexの出力有無\n",
    "    header=True                                        # headerの出力有無\n",
    ")"
   ]
  },
  {
   "cell_type": "code",
   "execution_count": null,
   "id": "ef99e057",
   "metadata": {},
   "outputs": [],
   "source": [
    "# CSV-02\n",
    "submit_all = app_test[[\"SK_ID_CURR\"]].copy()\n",
    "# 予測確率の変数名はTARGET\n",
    "submit_all[\"TARGET\"] = y_preds[2]\n",
    "\n",
    "# Submit File\n",
    "submit_all.to_csv(\n",
    "    path_or_buf=\"./home-credit-default-risk/submit/submit_all_02.csv\", # 出力先\n",
    "    sep=\",\",                                            # 区切り文字\n",
    "    index=False,                                        # indexの出力有無\n",
    "    header=True                                        # headerの出力有無\n",
    ")"
   ]
  },
  {
   "cell_type": "code",
   "execution_count": null,
   "id": "57311e03",
   "metadata": {},
   "outputs": [],
   "source": [
    "# CSV-03\n",
    "submit_all = app_test[[\"SK_ID_CURR\"]].copy()\n",
    "# 予測確率の変数名はTARGET\n",
    "submit_all[\"TARGET\"] = y_preds[3]\n",
    "\n",
    "# Submit File\n",
    "submit_all.to_csv(\n",
    "    path_or_buf=\"./home-credit-default-risk/submit/submit_all_03.csv\", # 出力先\n",
    "    sep=\",\",                                            # 区切り文字\n",
    "    index=False,                                        # indexの出力有無\n",
    "    header=True                                        # headerの出力有無\n",
    ")"
   ]
  },
  {
   "cell_type": "code",
   "execution_count": null,
   "id": "46522b1f",
   "metadata": {},
   "outputs": [],
   "source": [
    "# CSV-04\n",
    "submit_all = app_test[[\"SK_ID_CURR\"]].copy()\n",
    "# 予測確率の変数名はTARGET\n",
    "submit_all[\"TARGET\"] = y_preds[4]\n",
    "\n",
    "# Submit File\n",
    "submit_all.to_csv(\n",
    "    path_or_buf=\"./home-credit-default-risk/submit/submit_all_04.csv\", # 出力先\n",
    "    sep=\",\",                                            # 区切り文字\n",
    "    index=False,                                        # indexの出力有無\n",
    "    header=True                                        # headerの出力有無\n",
    ")"
   ]
  },
  {
   "cell_type": "code",
   "execution_count": null,
   "id": "7abd0e91",
   "metadata": {},
   "outputs": [],
   "source": [
    "submit_all_00 = pd.read_csv('./home-credit-default-risk/submit/submit_all_00.csv')\n",
    "submit_all_01 = pd.read_csv('./home-credit-default-risk/submit/submit_all_01.csv')\n",
    "submit_all_02 = pd.read_csv('./home-credit-default-risk/submit/submit_all_02.csv')\n",
    "submit_all_03 = pd.read_csv('./home-credit-default-risk/submit/submit_all_03.csv')\n",
    "submit_all_04 = pd.read_csv('./home-credit-default-risk/submit/submit_all_04.csv')"
   ]
  },
  {
   "cell_type": "code",
   "execution_count": null,
   "id": "59865b48",
   "metadata": {},
   "outputs": [],
   "source": [
    "submit_all = pd.DataFrame({\n",
    "    'submit_all_00': submit_all_00['TARGET'].values\n",
    "    ,'submit_all_01': submit_all_01['TARGET'].values\n",
    "    ,'submit_all_02': submit_all_02['TARGET'].values\n",
    "    ,'submit_all_03': submit_all_03['TARGET'].values\n",
    "    ,'submit_all_04': submit_all_04['TARGET'].values\n",
    "    })\n",
    "submit_all.head()"
   ]
  },
  {
   "cell_type": "code",
   "execution_count": null,
   "id": "32083a75",
   "metadata": {},
   "outputs": [],
   "source": [
    "submit_all.corr()"
   ]
  },
  {
   "cell_type": "code",
   "execution_count": null,
   "id": "0c32fa76",
   "metadata": {},
   "outputs": [],
   "source": [
    "submit_all = app_test[[\"SK_ID_CURR\"]].astype(int).copy()\n",
    "submit_all['TARGET'] = (submit_all_00['TARGET'] + submit_all_01['TARGET'] + submit_all_02['TARGET'] + submit_all_03['TARGET'] + submit_all_04['TARGET'])/5\n",
    "submit_all.head()"
   ]
  },
  {
   "cell_type": "code",
   "execution_count": null,
   "id": "afccd960",
   "metadata": {},
   "outputs": [],
   "source": [
    "len(submit_all)"
   ]
  },
  {
   "cell_type": "code",
   "execution_count": null,
   "id": "38cdd631",
   "metadata": {},
   "outputs": [],
   "source": [
    "len(app_test)"
   ]
  },
  {
   "cell_type": "code",
   "execution_count": null,
   "id": "8c66e7bc",
   "metadata": {},
   "outputs": [],
   "source": [
    "submit_all['TARGET'] = (submit_all['TARGET'] / 5)\n",
    "submit_all.to_csv('./home-credit-default-risk/submit/hcr_app_nn_res_01.csv', index=False)\n",
    "submit_all.head()"
   ]
  },
  {
   "cell_type": "code",
   "execution_count": null,
   "id": "b826b054",
   "metadata": {},
   "outputs": [],
   "source": []
  },
  {
   "cell_type": "code",
   "execution_count": null,
   "id": "facc43df",
   "metadata": {},
   "outputs": [],
   "source": []
  }
 ],
 "metadata": {
  "kernelspec": {
   "display_name": "Python 3 (ipykernel)",
   "language": "python",
   "name": "python3"
  },
  "language_info": {
   "codemirror_mode": {
    "name": "ipython",
    "version": 3
   },
   "file_extension": ".py",
   "mimetype": "text/x-python",
   "name": "python",
   "nbconvert_exporter": "python",
   "pygments_lexer": "ipython3",
   "version": "3.9.7"
  }
 },
 "nbformat": 4,
 "nbformat_minor": 5
}
