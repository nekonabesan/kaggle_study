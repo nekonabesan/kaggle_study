{
 "cells": [
  {
   "cell_type": "code",
   "execution_count": 1,
   "id": "074409fa",
   "metadata": {},
   "outputs": [],
   "source": [
    "# from google.colab import drive\n",
    "# drive.mount('/content/drive')"
   ]
  },
  {
   "cell_type": "code",
   "execution_count": 2,
   "id": "bf88b8fb",
   "metadata": {},
   "outputs": [],
   "source": [
    "# %cd /content/drive/MyDrive/"
   ]
  },
  {
   "cell_type": "code",
   "execution_count": 3,
   "id": "eb856bdd",
   "metadata": {},
   "outputs": [
    {
     "data": {
      "text/plain": [
       "[name: \"/device:CPU:0\"\n",
       " device_type: \"CPU\"\n",
       " memory_limit: 268435456\n",
       " locality {\n",
       " }\n",
       " incarnation: 4430324102940635148\n",
       " xla_global_id: -1,\n",
       " name: \"/device:GPU:0\"\n",
       " device_type: \"GPU\"\n",
       " memory_limit: 1745276110\n",
       " locality {\n",
       "   bus_id: 1\n",
       "   links {\n",
       "   }\n",
       " }\n",
       " incarnation: 11962048879986669869\n",
       " physical_device_desc: \"device: 0, name: NVIDIA RTX A2000 Laptop GPU, pci bus id: 0000:01:00.0, compute capability: 8.6\"\n",
       " xla_global_id: 416903419]"
      ]
     },
     "execution_count": 3,
     "metadata": {},
     "output_type": "execute_result"
    }
   ],
   "source": [
    "from tensorflow.python.client import device_lib\n",
    "device_lib.list_local_devices()"
   ]
  },
  {
   "cell_type": "code",
   "execution_count": 4,
   "id": "80924b9b",
   "metadata": {},
   "outputs": [
    {
     "name": "stdout",
     "output_type": "stream",
     "text": [
      "OK\n",
      "\n"
     ]
    }
   ],
   "source": [
    "import pandas as pd\n",
    "#import pandas_profiling\n",
    "import numpy as np\n",
    "import cupy as cp\n",
    "from sklearn.model_selection import train_test_split\n",
    "import lightgbm as lgb\n",
    "import matplotlib.pyplot as plt\n",
    "import seaborn as sns\n",
    "from sklearn.model_selection import KFold\n",
    "from sklearn import metrics\n",
    "from sklearn.metrics import accuracy_score\n",
    "from sklearn.model_selection import train_test_split\n",
    "from sklearn.preprocessing import LabelEncoder\n",
    "from sklearn.preprocessing import StandardScaler\n",
    "from sklearn.tree import DecisionTreeClassifier, export_graphviz\n",
    "from sklearn.metrics import roc_auc_score\n",
    "from sklearn.tree import plot_tree\n",
    "\n",
    "from six import StringIO\n",
    "\n",
    "from IPython.display import Image\n",
    "import matplotlib.pyplot as plt\n",
    "import seaborn as sns\n",
    "\n",
    "import statsmodels.api as sm\n",
    "import math\n",
    "from scipy import stats\n",
    "import numpy as np\n",
    "import optuna.integration.lightgbm as lgb\n",
    "import pandas as pd\n",
    "import tensorflow as tf\n",
    "\n",
    "from datetime import datetime\n",
    "from tensorflow import feature_column\n",
    "from tensorflow.keras import layers\n",
    "\n",
    "print(\"OK\\n\")"
   ]
  },
  {
   "cell_type": "code",
   "execution_count": 5,
   "id": "326da3ba",
   "metadata": {},
   "outputs": [],
   "source": [
    "application_train_origin = pd.read_csv('./home-credit-default-risk/application_train.csv')\n",
    "application_test_origin =  pd.read_csv('./home-credit-default-risk/application_test.csv')\n",
    "#bureau_origin = pd.read_csv('./home-credit-default-risk/bureau.csv')\n",
    "#bureau_balance_origin = pd.read_csv('./home-credit-default-risk/bureau_balance.csv')\n",
    "pos_cash_balance_origin = pd.read_csv('./home-credit-default-risk/POS_CASH_balance.csv')\n",
    "#credit_card_balance_origin = pd.read_csv('./home-credit-default-risk/credit_card_balance.csv')\n",
    "previous_application_origin = pd.read_csv('./home-credit-default-risk/previous_application.csv')\n",
    "installments_payments_origin = pd.read_csv('./home-credit-default-risk/installments_payments.csv')\n",
    "# custo data\n",
    "app_train_loan_from_hc_only_cash_origin = pd.read_csv('./home-credit-default-risk/datasets/app_train_loan_from_hc_only_cash.csv')\n",
    "app_test_loan_from_hc_only_cash_origin = pd.read_csv('./home-credit-default-risk/datasets/app_test_loan_from_hc_only_cash.csv')\n",
    "app_train_1000_mean_origin = pd.read_csv('./home-credit-default-risk/exports/train_hc_only_cash_installment_payment_ratio_1000_mean_mean.csv')\n",
    "app_test_1000_mean_origin = pd.read_csv('./home-credit-default-risk/exports/test_hc_only_cash_installment_payment_ratio_1000_mean_mean.csv')"
   ]
  },
  {
   "cell_type": "code",
   "execution_count": 6,
   "id": "5f63a3fc",
   "metadata": {},
   "outputs": [],
   "source": [
    "app_train = application_train_origin.copy()\n",
    "app_test = application_test_origin.copy()\n",
    "pos_cash_balance = pos_cash_balance_origin.copy()\n",
    "previous_application = previous_application_origin.copy()\n",
    "installments_payments = installments_payments_origin.copy()\n",
    "app_train_cash = app_train_loan_from_hc_only_cash_origin.copy()\n",
    "app_test_cash = app_test_loan_from_hc_only_cash_origin.copy()\n",
    "app_train_1000_mean = app_train_1000_mean_origin.copy()\n",
    "app_test_1000_mean = app_test_1000_mean_origin.copy()"
   ]
  },
  {
   "cell_type": "code",
   "execution_count": 7,
   "id": "531b8acc",
   "metadata": {},
   "outputs": [
    {
     "data": {
      "text/html": [
       "<div>\n",
       "<style scoped>\n",
       "    .dataframe tbody tr th:only-of-type {\n",
       "        vertical-align: middle;\n",
       "    }\n",
       "\n",
       "    .dataframe tbody tr th {\n",
       "        vertical-align: top;\n",
       "    }\n",
       "\n",
       "    .dataframe thead th {\n",
       "        text-align: right;\n",
       "    }\n",
       "</style>\n",
       "<table border=\"1\" class=\"dataframe\">\n",
       "  <thead>\n",
       "    <tr style=\"text-align: right;\">\n",
       "      <th></th>\n",
       "      <th>SK_ID_CURR</th>\n",
       "      <th>TARGET</th>\n",
       "      <th>NAME_CONTRACT_TYPE</th>\n",
       "      <th>CODE_GENDER</th>\n",
       "      <th>FLAG_OWN_CAR</th>\n",
       "      <th>FLAG_OWN_REALTY</th>\n",
       "      <th>CNT_CHILDREN</th>\n",
       "      <th>AMT_INCOME_TOTAL</th>\n",
       "      <th>AMT_CREDIT</th>\n",
       "      <th>AMT_ANNUITY</th>\n",
       "      <th>...</th>\n",
       "      <th>FLAG_DOCUMENT_18</th>\n",
       "      <th>FLAG_DOCUMENT_19</th>\n",
       "      <th>FLAG_DOCUMENT_20</th>\n",
       "      <th>FLAG_DOCUMENT_21</th>\n",
       "      <th>AMT_REQ_CREDIT_BUREAU_HOUR</th>\n",
       "      <th>AMT_REQ_CREDIT_BUREAU_DAY</th>\n",
       "      <th>AMT_REQ_CREDIT_BUREAU_WEEK</th>\n",
       "      <th>AMT_REQ_CREDIT_BUREAU_MON</th>\n",
       "      <th>AMT_REQ_CREDIT_BUREAU_QRT</th>\n",
       "      <th>AMT_REQ_CREDIT_BUREAU_YEAR</th>\n",
       "    </tr>\n",
       "  </thead>\n",
       "  <tbody>\n",
       "    <tr>\n",
       "      <th>0</th>\n",
       "      <td>100002</td>\n",
       "      <td>1</td>\n",
       "      <td>Cash loans</td>\n",
       "      <td>M</td>\n",
       "      <td>N</td>\n",
       "      <td>Y</td>\n",
       "      <td>0</td>\n",
       "      <td>202500.0</td>\n",
       "      <td>406597.5</td>\n",
       "      <td>24700.5</td>\n",
       "      <td>...</td>\n",
       "      <td>0</td>\n",
       "      <td>0</td>\n",
       "      <td>0</td>\n",
       "      <td>0</td>\n",
       "      <td>0.0</td>\n",
       "      <td>0.0</td>\n",
       "      <td>0.0</td>\n",
       "      <td>0.0</td>\n",
       "      <td>0.0</td>\n",
       "      <td>1.0</td>\n",
       "    </tr>\n",
       "    <tr>\n",
       "      <th>1</th>\n",
       "      <td>100003</td>\n",
       "      <td>0</td>\n",
       "      <td>Cash loans</td>\n",
       "      <td>F</td>\n",
       "      <td>N</td>\n",
       "      <td>N</td>\n",
       "      <td>0</td>\n",
       "      <td>270000.0</td>\n",
       "      <td>1293502.5</td>\n",
       "      <td>35698.5</td>\n",
       "      <td>...</td>\n",
       "      <td>0</td>\n",
       "      <td>0</td>\n",
       "      <td>0</td>\n",
       "      <td>0</td>\n",
       "      <td>0.0</td>\n",
       "      <td>0.0</td>\n",
       "      <td>0.0</td>\n",
       "      <td>0.0</td>\n",
       "      <td>0.0</td>\n",
       "      <td>0.0</td>\n",
       "    </tr>\n",
       "    <tr>\n",
       "      <th>2</th>\n",
       "      <td>100004</td>\n",
       "      <td>0</td>\n",
       "      <td>Revolving loans</td>\n",
       "      <td>M</td>\n",
       "      <td>Y</td>\n",
       "      <td>Y</td>\n",
       "      <td>0</td>\n",
       "      <td>67500.0</td>\n",
       "      <td>135000.0</td>\n",
       "      <td>6750.0</td>\n",
       "      <td>...</td>\n",
       "      <td>0</td>\n",
       "      <td>0</td>\n",
       "      <td>0</td>\n",
       "      <td>0</td>\n",
       "      <td>0.0</td>\n",
       "      <td>0.0</td>\n",
       "      <td>0.0</td>\n",
       "      <td>0.0</td>\n",
       "      <td>0.0</td>\n",
       "      <td>0.0</td>\n",
       "    </tr>\n",
       "    <tr>\n",
       "      <th>3</th>\n",
       "      <td>100006</td>\n",
       "      <td>0</td>\n",
       "      <td>Cash loans</td>\n",
       "      <td>F</td>\n",
       "      <td>N</td>\n",
       "      <td>Y</td>\n",
       "      <td>0</td>\n",
       "      <td>135000.0</td>\n",
       "      <td>312682.5</td>\n",
       "      <td>29686.5</td>\n",
       "      <td>...</td>\n",
       "      <td>0</td>\n",
       "      <td>0</td>\n",
       "      <td>0</td>\n",
       "      <td>0</td>\n",
       "      <td>NaN</td>\n",
       "      <td>NaN</td>\n",
       "      <td>NaN</td>\n",
       "      <td>NaN</td>\n",
       "      <td>NaN</td>\n",
       "      <td>NaN</td>\n",
       "    </tr>\n",
       "    <tr>\n",
       "      <th>4</th>\n",
       "      <td>100007</td>\n",
       "      <td>0</td>\n",
       "      <td>Cash loans</td>\n",
       "      <td>M</td>\n",
       "      <td>N</td>\n",
       "      <td>Y</td>\n",
       "      <td>0</td>\n",
       "      <td>121500.0</td>\n",
       "      <td>513000.0</td>\n",
       "      <td>21865.5</td>\n",
       "      <td>...</td>\n",
       "      <td>0</td>\n",
       "      <td>0</td>\n",
       "      <td>0</td>\n",
       "      <td>0</td>\n",
       "      <td>0.0</td>\n",
       "      <td>0.0</td>\n",
       "      <td>0.0</td>\n",
       "      <td>0.0</td>\n",
       "      <td>0.0</td>\n",
       "      <td>0.0</td>\n",
       "    </tr>\n",
       "  </tbody>\n",
       "</table>\n",
       "<p>5 rows × 122 columns</p>\n",
       "</div>"
      ],
      "text/plain": [
       "   SK_ID_CURR  TARGET NAME_CONTRACT_TYPE CODE_GENDER FLAG_OWN_CAR  \\\n",
       "0      100002       1         Cash loans           M            N   \n",
       "1      100003       0         Cash loans           F            N   \n",
       "2      100004       0    Revolving loans           M            Y   \n",
       "3      100006       0         Cash loans           F            N   \n",
       "4      100007       0         Cash loans           M            N   \n",
       "\n",
       "  FLAG_OWN_REALTY  CNT_CHILDREN  AMT_INCOME_TOTAL  AMT_CREDIT  AMT_ANNUITY  \\\n",
       "0               Y             0          202500.0    406597.5      24700.5   \n",
       "1               N             0          270000.0   1293502.5      35698.5   \n",
       "2               Y             0           67500.0    135000.0       6750.0   \n",
       "3               Y             0          135000.0    312682.5      29686.5   \n",
       "4               Y             0          121500.0    513000.0      21865.5   \n",
       "\n",
       "   ...  FLAG_DOCUMENT_18 FLAG_DOCUMENT_19 FLAG_DOCUMENT_20 FLAG_DOCUMENT_21  \\\n",
       "0  ...                 0                0                0                0   \n",
       "1  ...                 0                0                0                0   \n",
       "2  ...                 0                0                0                0   \n",
       "3  ...                 0                0                0                0   \n",
       "4  ...                 0                0                0                0   \n",
       "\n",
       "  AMT_REQ_CREDIT_BUREAU_HOUR AMT_REQ_CREDIT_BUREAU_DAY  \\\n",
       "0                        0.0                       0.0   \n",
       "1                        0.0                       0.0   \n",
       "2                        0.0                       0.0   \n",
       "3                        NaN                       NaN   \n",
       "4                        0.0                       0.0   \n",
       "\n",
       "   AMT_REQ_CREDIT_BUREAU_WEEK  AMT_REQ_CREDIT_BUREAU_MON  \\\n",
       "0                         0.0                        0.0   \n",
       "1                         0.0                        0.0   \n",
       "2                         0.0                        0.0   \n",
       "3                         NaN                        NaN   \n",
       "4                         0.0                        0.0   \n",
       "\n",
       "   AMT_REQ_CREDIT_BUREAU_QRT  AMT_REQ_CREDIT_BUREAU_YEAR  \n",
       "0                        0.0                         1.0  \n",
       "1                        0.0                         0.0  \n",
       "2                        0.0                         0.0  \n",
       "3                        NaN                         NaN  \n",
       "4                        0.0                         0.0  \n",
       "\n",
       "[5 rows x 122 columns]"
      ]
     },
     "execution_count": 7,
     "metadata": {},
     "output_type": "execute_result"
    }
   ],
   "source": [
    "app_train.head()"
   ]
  },
  {
   "cell_type": "markdown",
   "id": "e0c857ba",
   "metadata": {},
   "source": [
    "### applicationの複製"
   ]
  },
  {
   "cell_type": "code",
   "execution_count": 8,
   "id": "de76e770",
   "metadata": {},
   "outputs": [
    {
     "data": {
      "text/plain": [
       "48744"
      ]
     },
     "execution_count": 8,
     "metadata": {},
     "output_type": "execute_result"
    }
   ],
   "source": [
    "app_train = app_train[['SK_ID_CURR','TARGET','EXT_SOURCE_1','EXT_SOURCE_2','EXT_SOURCE_3']].copy()\n",
    "app_test = app_test[['SK_ID_CURR','EXT_SOURCE_1','EXT_SOURCE_2','EXT_SOURCE_3']].copy()\n",
    "len(app_test)"
   ]
  },
  {
   "cell_type": "code",
   "execution_count": 9,
   "id": "4bfa6d57",
   "metadata": {},
   "outputs": [
    {
     "data": {
      "text/html": [
       "<div>\n",
       "<style scoped>\n",
       "    .dataframe tbody tr th:only-of-type {\n",
       "        vertical-align: middle;\n",
       "    }\n",
       "\n",
       "    .dataframe tbody tr th {\n",
       "        vertical-align: top;\n",
       "    }\n",
       "\n",
       "    .dataframe thead th {\n",
       "        text-align: right;\n",
       "    }\n",
       "</style>\n",
       "<table border=\"1\" class=\"dataframe\">\n",
       "  <thead>\n",
       "    <tr style=\"text-align: right;\">\n",
       "      <th></th>\n",
       "      <th>SK_ID_CURR</th>\n",
       "      <th>TARGET</th>\n",
       "      <th>EXT_SOURCE_1</th>\n",
       "      <th>EXT_SOURCE_2</th>\n",
       "      <th>EXT_SOURCE_3</th>\n",
       "    </tr>\n",
       "  </thead>\n",
       "  <tbody>\n",
       "    <tr>\n",
       "      <th>0</th>\n",
       "      <td>100002</td>\n",
       "      <td>1</td>\n",
       "      <td>0.083037</td>\n",
       "      <td>0.262949</td>\n",
       "      <td>0.139376</td>\n",
       "    </tr>\n",
       "    <tr>\n",
       "      <th>1</th>\n",
       "      <td>100003</td>\n",
       "      <td>0</td>\n",
       "      <td>0.311267</td>\n",
       "      <td>0.622246</td>\n",
       "      <td>NaN</td>\n",
       "    </tr>\n",
       "    <tr>\n",
       "      <th>2</th>\n",
       "      <td>100004</td>\n",
       "      <td>0</td>\n",
       "      <td>NaN</td>\n",
       "      <td>0.555912</td>\n",
       "      <td>0.729567</td>\n",
       "    </tr>\n",
       "    <tr>\n",
       "      <th>3</th>\n",
       "      <td>100006</td>\n",
       "      <td>0</td>\n",
       "      <td>NaN</td>\n",
       "      <td>0.650442</td>\n",
       "      <td>NaN</td>\n",
       "    </tr>\n",
       "    <tr>\n",
       "      <th>4</th>\n",
       "      <td>100007</td>\n",
       "      <td>0</td>\n",
       "      <td>NaN</td>\n",
       "      <td>0.322738</td>\n",
       "      <td>NaN</td>\n",
       "    </tr>\n",
       "  </tbody>\n",
       "</table>\n",
       "</div>"
      ],
      "text/plain": [
       "   SK_ID_CURR  TARGET  EXT_SOURCE_1  EXT_SOURCE_2  EXT_SOURCE_3\n",
       "0      100002       1      0.083037      0.262949      0.139376\n",
       "1      100003       0      0.311267      0.622246           NaN\n",
       "2      100004       0           NaN      0.555912      0.729567\n",
       "3      100006       0           NaN      0.650442           NaN\n",
       "4      100007       0           NaN      0.322738           NaN"
      ]
     },
     "execution_count": 9,
     "metadata": {},
     "output_type": "execute_result"
    }
   ],
   "source": [
    "app_train.head()"
   ]
  },
  {
   "cell_type": "code",
   "execution_count": 10,
   "id": "6e076db5",
   "metadata": {},
   "outputs": [
    {
     "data": {
      "text/plain": [
       "34012"
      ]
     },
     "execution_count": 10,
     "metadata": {},
     "output_type": "execute_result"
    }
   ],
   "source": [
    "app_train_cash = app_train_cash.rename(columns={'sk_id_curr': 'SK_ID_CURR'})\n",
    "app_test_cash = app_test_cash.rename(columns={'sk_id_curr': 'SK_ID_CURR'})\n",
    "len(app_train_cash)"
   ]
  },
  {
   "cell_type": "code",
   "execution_count": 11,
   "id": "87eadbe5",
   "metadata": {},
   "outputs": [
    {
     "data": {
      "text/plain": [
       "307511"
      ]
     },
     "execution_count": 11,
     "metadata": {},
     "output_type": "execute_result"
    }
   ],
   "source": [
    "# trainへマージ\n",
    "app_train = pd.merge(app_train, app_train_cash, on='SK_ID_CURR', how='left')\n",
    "# testへマージ\n",
    "app_test = pd.merge(app_test, app_test_cash, on='SK_ID_CURR', how='left')\n",
    "len(app_train)"
   ]
  },
  {
   "cell_type": "code",
   "execution_count": 12,
   "id": "501cc4a5",
   "metadata": {},
   "outputs": [
    {
     "data": {
      "text/html": [
       "<div>\n",
       "<style scoped>\n",
       "    .dataframe tbody tr th:only-of-type {\n",
       "        vertical-align: middle;\n",
       "    }\n",
       "\n",
       "    .dataframe tbody tr th {\n",
       "        vertical-align: top;\n",
       "    }\n",
       "\n",
       "    .dataframe thead th {\n",
       "        text-align: right;\n",
       "    }\n",
       "</style>\n",
       "<table border=\"1\" class=\"dataframe\">\n",
       "  <thead>\n",
       "    <tr style=\"text-align: right;\">\n",
       "      <th></th>\n",
       "      <th>SK_ID_CURR</th>\n",
       "      <th>sk_id_prev</th>\n",
       "      <th>installment_payment_ratio_1000_mean_mean</th>\n",
       "    </tr>\n",
       "  </thead>\n",
       "  <tbody>\n",
       "    <tr>\n",
       "      <th>0</th>\n",
       "      <td>100003</td>\n",
       "      <td>1810518</td>\n",
       "      <td>0.0</td>\n",
       "    </tr>\n",
       "    <tr>\n",
       "      <th>1</th>\n",
       "      <td>100006</td>\n",
       "      <td>2078043</td>\n",
       "      <td>0.0</td>\n",
       "    </tr>\n",
       "    <tr>\n",
       "      <th>2</th>\n",
       "      <td>100007</td>\n",
       "      <td>1940724</td>\n",
       "      <td>0.0</td>\n",
       "    </tr>\n",
       "    <tr>\n",
       "      <th>3</th>\n",
       "      <td>100007</td>\n",
       "      <td>2001242</td>\n",
       "      <td>0.0</td>\n",
       "    </tr>\n",
       "    <tr>\n",
       "      <th>4</th>\n",
       "      <td>100007</td>\n",
       "      <td>1692033</td>\n",
       "      <td>0.0</td>\n",
       "    </tr>\n",
       "  </tbody>\n",
       "</table>\n",
       "</div>"
      ],
      "text/plain": [
       "   SK_ID_CURR  sk_id_prev  installment_payment_ratio_1000_mean_mean\n",
       "0      100003     1810518                                       0.0\n",
       "1      100006     2078043                                       0.0\n",
       "2      100007     1940724                                       0.0\n",
       "3      100007     2001242                                       0.0\n",
       "4      100007     1692033                                       0.0"
      ]
     },
     "execution_count": 12,
     "metadata": {},
     "output_type": "execute_result"
    }
   ],
   "source": [
    "app_train_1000_mean = app_train_1000_mean.rename(columns={'sk_id_curr': 'SK_ID_CURR'})\n",
    "app_test_1000_mean = app_test_1000_mean.rename(columns={'sk_id_curr': 'SK_ID_CURR'})\n",
    "app_train_1000_mean.head()"
   ]
  },
  {
   "cell_type": "code",
   "execution_count": 13,
   "id": "b8568b64",
   "metadata": {},
   "outputs": [
    {
     "data": {
      "text/html": [
       "<div>\n",
       "<style scoped>\n",
       "    .dataframe tbody tr th:only-of-type {\n",
       "        vertical-align: middle;\n",
       "    }\n",
       "\n",
       "    .dataframe tbody tr th {\n",
       "        vertical-align: top;\n",
       "    }\n",
       "\n",
       "    .dataframe thead th {\n",
       "        text-align: right;\n",
       "    }\n",
       "</style>\n",
       "<table border=\"1\" class=\"dataframe\">\n",
       "  <thead>\n",
       "    <tr style=\"text-align: right;\">\n",
       "      <th></th>\n",
       "      <th>SK_ID_CURR</th>\n",
       "      <th>installment_payment_ratio_1000_mean_mean</th>\n",
       "    </tr>\n",
       "  </thead>\n",
       "  <tbody>\n",
       "    <tr>\n",
       "      <th>0</th>\n",
       "      <td>100003</td>\n",
       "      <td>0.0</td>\n",
       "    </tr>\n",
       "    <tr>\n",
       "      <th>1</th>\n",
       "      <td>100006</td>\n",
       "      <td>0.0</td>\n",
       "    </tr>\n",
       "    <tr>\n",
       "      <th>2</th>\n",
       "      <td>100007</td>\n",
       "      <td>0.0</td>\n",
       "    </tr>\n",
       "    <tr>\n",
       "      <th>3</th>\n",
       "      <td>100007</td>\n",
       "      <td>0.0</td>\n",
       "    </tr>\n",
       "    <tr>\n",
       "      <th>4</th>\n",
       "      <td>100007</td>\n",
       "      <td>0.0</td>\n",
       "    </tr>\n",
       "  </tbody>\n",
       "</table>\n",
       "</div>"
      ],
      "text/plain": [
       "   SK_ID_CURR  installment_payment_ratio_1000_mean_mean\n",
       "0      100003                                       0.0\n",
       "1      100006                                       0.0\n",
       "2      100007                                       0.0\n",
       "3      100007                                       0.0\n",
       "4      100007                                       0.0"
      ]
     },
     "execution_count": 13,
     "metadata": {},
     "output_type": "execute_result"
    }
   ],
   "source": [
    "#app_train_1000_mean.drop(['sk_id_prev'], axis=1, inplace=True)\n",
    "#app_test_1000_mean.drop(['sk_id_prev'], axis=1, inplace=True)\n",
    "#app_train_1000_mean.head()"
   ]
  },
  {
   "cell_type": "code",
   "execution_count": 14,
   "id": "c3f3bea4",
   "metadata": {},
   "outputs": [
    {
     "data": {
      "text/plain": [
       "385702"
      ]
     },
     "execution_count": 14,
     "metadata": {},
     "output_type": "execute_result"
    }
   ],
   "source": [
    "# trainへマージ\n",
    "app_train = pd.merge(app_train, app_train_1000_mean, on='SK_ID_CURR', how='left')\n",
    "# testへマージ\n",
    "app_test = pd.merge(app_test, app_test_1000_mean, on='SK_ID_CURR', how='left')\n",
    "len(app_train)"
   ]
  },
  {
   "cell_type": "code",
   "execution_count": 15,
   "id": "9a4a4087",
   "metadata": {},
   "outputs": [
    {
     "data": {
      "text/plain": [
       "0                  NaN\n",
       "1             0.000000\n",
       "2                  NaN\n",
       "3             0.000000\n",
       "4             0.000000\n",
       "              ...     \n",
       "385697             NaN\n",
       "385698             NaN\n",
       "385699    -6560.244000\n",
       "385700    19285.961897\n",
       "385701    -3208.130000\n",
       "Name: installment_payment_ratio_1000_mean_mean, Length: 385702, dtype: float64"
      ]
     },
     "execution_count": 15,
     "metadata": {},
     "output_type": "execute_result"
    }
   ],
   "source": [
    "app_train['installment_payment_ratio_1000_mean_mean']"
   ]
  },
  {
   "cell_type": "code",
   "execution_count": 16,
   "id": "f6a20732",
   "metadata": {},
   "outputs": [
    {
     "data": {
      "text/plain": [
       "193154"
      ]
     },
     "execution_count": 16,
     "metadata": {},
     "output_type": "execute_result"
    }
   ],
   "source": [
    "app_train['installment_payment_ratio_1000_mean_mean'].isnull().sum()"
   ]
  },
  {
   "cell_type": "code",
   "execution_count": 17,
   "id": "20cda801",
   "metadata": {},
   "outputs": [],
   "source": [
    "#app_train['amt_annuity'].fillna(0, inplace=True)\n",
    "#app_test['amt_annuity'].fillna(0, inplace=True)"
   ]
  },
  {
   "cell_type": "code",
   "execution_count": 18,
   "id": "0aac181c",
   "metadata": {},
   "outputs": [
    {
     "data": {
      "text/plain": [
       "320519"
      ]
     },
     "execution_count": 18,
     "metadata": {},
     "output_type": "execute_result"
    }
   ],
   "source": [
    "app_train['amt_annuity'].isnull().sum()"
   ]
  },
  {
   "cell_type": "markdown",
   "id": "e7a8653d",
   "metadata": {},
   "source": [
    "### AMT_ANNUITY(ローン支払い額)"
   ]
  },
  {
   "cell_type": "code",
   "execution_count": 19,
   "id": "4a7e4d60",
   "metadata": {},
   "outputs": [
    {
     "data": {
      "text/plain": [
       "nan"
      ]
     },
     "execution_count": 19,
     "metadata": {},
     "output_type": "execute_result"
    }
   ],
   "source": [
    "max(app_train['amt_annuity'])"
   ]
  },
  {
   "cell_type": "code",
   "execution_count": 20,
   "id": "914f58f7",
   "metadata": {},
   "outputs": [
    {
     "data": {
      "text/plain": [
       "nan"
      ]
     },
     "execution_count": 20,
     "metadata": {},
     "output_type": "execute_result"
    }
   ],
   "source": [
    "min(app_train['amt_annuity'])"
   ]
  },
  {
   "cell_type": "code",
   "execution_count": 21,
   "id": "ab7571cb",
   "metadata": {},
   "outputs": [
    {
     "data": {
      "text/html": [
       "<div>\n",
       "<style scoped>\n",
       "    .dataframe tbody tr th:only-of-type {\n",
       "        vertical-align: middle;\n",
       "    }\n",
       "\n",
       "    .dataframe tbody tr th {\n",
       "        vertical-align: top;\n",
       "    }\n",
       "\n",
       "    .dataframe thead th {\n",
       "        text-align: right;\n",
       "    }\n",
       "</style>\n",
       "<table border=\"1\" class=\"dataframe\">\n",
       "  <thead>\n",
       "    <tr style=\"text-align: right;\">\n",
       "      <th></th>\n",
       "      <th>amt_annuity</th>\n",
       "      <th>TARGET</th>\n",
       "    </tr>\n",
       "  </thead>\n",
       "  <tbody>\n",
       "    <tr>\n",
       "      <th>amt_annuity</th>\n",
       "      <td>1.000000</td>\n",
       "      <td>-0.025678</td>\n",
       "    </tr>\n",
       "    <tr>\n",
       "      <th>TARGET</th>\n",
       "      <td>-0.025678</td>\n",
       "      <td>1.000000</td>\n",
       "    </tr>\n",
       "  </tbody>\n",
       "</table>\n",
       "</div>"
      ],
      "text/plain": [
       "             amt_annuity    TARGET\n",
       "amt_annuity     1.000000 -0.025678\n",
       "TARGET         -0.025678  1.000000"
      ]
     },
     "execution_count": 21,
     "metadata": {},
     "output_type": "execute_result"
    }
   ],
   "source": [
    "app_train[['amt_annuity', 'TARGET']].corr()"
   ]
  },
  {
   "cell_type": "markdown",
   "id": "77eab7cf",
   "metadata": {},
   "source": [
    "### AMT_APPLICATION|借り入れ申し込み金額|"
   ]
  },
  {
   "cell_type": "code",
   "execution_count": 22,
   "id": "e8bea527",
   "metadata": {},
   "outputs": [],
   "source": [
    "#app_train['amt_application'].fillna(0, inplace=True)\n",
    "#app_test['amt_application'].fillna(0, inplace=True)"
   ]
  },
  {
   "cell_type": "code",
   "execution_count": 23,
   "id": "6b3b6d3e",
   "metadata": {},
   "outputs": [
    {
     "data": {
      "text/html": [
       "<div>\n",
       "<style scoped>\n",
       "    .dataframe tbody tr th:only-of-type {\n",
       "        vertical-align: middle;\n",
       "    }\n",
       "\n",
       "    .dataframe tbody tr th {\n",
       "        vertical-align: top;\n",
       "    }\n",
       "\n",
       "    .dataframe thead th {\n",
       "        text-align: right;\n",
       "    }\n",
       "</style>\n",
       "<table border=\"1\" class=\"dataframe\">\n",
       "  <thead>\n",
       "    <tr style=\"text-align: right;\">\n",
       "      <th></th>\n",
       "      <th>amt_application</th>\n",
       "      <th>TARGET</th>\n",
       "    </tr>\n",
       "  </thead>\n",
       "  <tbody>\n",
       "    <tr>\n",
       "      <th>amt_application</th>\n",
       "      <td>1.000000</td>\n",
       "      <td>0.000245</td>\n",
       "    </tr>\n",
       "    <tr>\n",
       "      <th>TARGET</th>\n",
       "      <td>0.000245</td>\n",
       "      <td>1.000000</td>\n",
       "    </tr>\n",
       "  </tbody>\n",
       "</table>\n",
       "</div>"
      ],
      "text/plain": [
       "                 amt_application    TARGET\n",
       "amt_application         1.000000  0.000245\n",
       "TARGET                  0.000245  1.000000"
      ]
     },
     "execution_count": 23,
     "metadata": {},
     "output_type": "execute_result"
    }
   ],
   "source": [
    "app_train[['amt_application', 'TARGET']].corr()"
   ]
  },
  {
   "cell_type": "markdown",
   "id": "821c3b42",
   "metadata": {},
   "source": [
    "### AMT_CREDIT(借り入れ承認金額(最終的な貸付金額))"
   ]
  },
  {
   "cell_type": "code",
   "execution_count": 24,
   "id": "a8cc4453",
   "metadata": {},
   "outputs": [
    {
     "data": {
      "text/plain": [
       "nan"
      ]
     },
     "execution_count": 24,
     "metadata": {},
     "output_type": "execute_result"
    }
   ],
   "source": [
    "max(app_train['amt_credit'])"
   ]
  },
  {
   "cell_type": "code",
   "execution_count": 25,
   "id": "3708d8cf",
   "metadata": {},
   "outputs": [
    {
     "data": {
      "text/plain": [
       "nan"
      ]
     },
     "execution_count": 25,
     "metadata": {},
     "output_type": "execute_result"
    }
   ],
   "source": [
    "min(app_train['amt_credit'])"
   ]
  },
  {
   "cell_type": "code",
   "execution_count": 26,
   "id": "1b2cacfe",
   "metadata": {},
   "outputs": [
    {
     "data": {
      "text/html": [
       "<div>\n",
       "<style scoped>\n",
       "    .dataframe tbody tr th:only-of-type {\n",
       "        vertical-align: middle;\n",
       "    }\n",
       "\n",
       "    .dataframe tbody tr th {\n",
       "        vertical-align: top;\n",
       "    }\n",
       "\n",
       "    .dataframe thead th {\n",
       "        text-align: right;\n",
       "    }\n",
       "</style>\n",
       "<table border=\"1\" class=\"dataframe\">\n",
       "  <thead>\n",
       "    <tr style=\"text-align: right;\">\n",
       "      <th></th>\n",
       "      <th>amt_credit</th>\n",
       "      <th>TARGET</th>\n",
       "    </tr>\n",
       "  </thead>\n",
       "  <tbody>\n",
       "    <tr>\n",
       "      <th>amt_credit</th>\n",
       "      <td>1.000000</td>\n",
       "      <td>0.006822</td>\n",
       "    </tr>\n",
       "    <tr>\n",
       "      <th>TARGET</th>\n",
       "      <td>0.006822</td>\n",
       "      <td>1.000000</td>\n",
       "    </tr>\n",
       "  </tbody>\n",
       "</table>\n",
       "</div>"
      ],
      "text/plain": [
       "            amt_credit    TARGET\n",
       "amt_credit    1.000000  0.006822\n",
       "TARGET        0.006822  1.000000"
      ]
     },
     "execution_count": 26,
     "metadata": {},
     "output_type": "execute_result"
    }
   ],
   "source": [
    "app_train[['amt_credit', 'TARGET']].corr()"
   ]
  },
  {
   "cell_type": "markdown",
   "id": "e764fe63",
   "metadata": {},
   "source": [
    "### AMT_DOWN_PAYMENT(頭金) Cash loans の場合は不要?"
   ]
  },
  {
   "cell_type": "code",
   "execution_count": 27,
   "id": "bc52363b",
   "metadata": {},
   "outputs": [
    {
     "data": {
      "text/html": [
       "<div>\n",
       "<style scoped>\n",
       "    .dataframe tbody tr th:only-of-type {\n",
       "        vertical-align: middle;\n",
       "    }\n",
       "\n",
       "    .dataframe tbody tr th {\n",
       "        vertical-align: top;\n",
       "    }\n",
       "\n",
       "    .dataframe thead th {\n",
       "        text-align: right;\n",
       "    }\n",
       "</style>\n",
       "<table border=\"1\" class=\"dataframe\">\n",
       "  <thead>\n",
       "    <tr style=\"text-align: right;\">\n",
       "      <th></th>\n",
       "      <th>amt_down_payment</th>\n",
       "      <th>TARGET</th>\n",
       "    </tr>\n",
       "  </thead>\n",
       "  <tbody>\n",
       "    <tr>\n",
       "      <th>amt_down_payment</th>\n",
       "      <td>NaN</td>\n",
       "      <td>NaN</td>\n",
       "    </tr>\n",
       "    <tr>\n",
       "      <th>TARGET</th>\n",
       "      <td>NaN</td>\n",
       "      <td>1.0</td>\n",
       "    </tr>\n",
       "  </tbody>\n",
       "</table>\n",
       "</div>"
      ],
      "text/plain": [
       "                  amt_down_payment  TARGET\n",
       "amt_down_payment               NaN     NaN\n",
       "TARGET                         NaN     1.0"
      ]
     },
     "execution_count": 27,
     "metadata": {},
     "output_type": "execute_result"
    }
   ],
   "source": [
    "app_train[['amt_down_payment', 'TARGET']].corr()"
   ]
  },
  {
   "cell_type": "markdown",
   "id": "371cf4cd",
   "metadata": {},
   "source": [
    "### AMT_GOODS_PRICE(クライアントが要求した商品価格)"
   ]
  },
  {
   "cell_type": "code",
   "execution_count": 28,
   "id": "3dd7403c",
   "metadata": {},
   "outputs": [
    {
     "data": {
      "text/html": [
       "<div>\n",
       "<style scoped>\n",
       "    .dataframe tbody tr th:only-of-type {\n",
       "        vertical-align: middle;\n",
       "    }\n",
       "\n",
       "    .dataframe tbody tr th {\n",
       "        vertical-align: top;\n",
       "    }\n",
       "\n",
       "    .dataframe thead th {\n",
       "        text-align: right;\n",
       "    }\n",
       "</style>\n",
       "<table border=\"1\" class=\"dataframe\">\n",
       "  <thead>\n",
       "    <tr style=\"text-align: right;\">\n",
       "      <th></th>\n",
       "      <th>amt_goods_price</th>\n",
       "      <th>TARGET</th>\n",
       "    </tr>\n",
       "  </thead>\n",
       "  <tbody>\n",
       "    <tr>\n",
       "      <th>amt_goods_price</th>\n",
       "      <td>1.000000</td>\n",
       "      <td>0.000245</td>\n",
       "    </tr>\n",
       "    <tr>\n",
       "      <th>TARGET</th>\n",
       "      <td>0.000245</td>\n",
       "      <td>1.000000</td>\n",
       "    </tr>\n",
       "  </tbody>\n",
       "</table>\n",
       "</div>"
      ],
      "text/plain": [
       "                 amt_goods_price    TARGET\n",
       "amt_goods_price         1.000000  0.000245\n",
       "TARGET                  0.000245  1.000000"
      ]
     },
     "execution_count": 28,
     "metadata": {},
     "output_type": "execute_result"
    }
   ],
   "source": [
    "app_train[['amt_goods_price', 'TARGET']].corr()"
   ]
  },
  {
   "cell_type": "markdown",
   "id": "9eec206e",
   "metadata": {},
   "source": [
    "### WEEKDAY_APPR_PROCESS_START(申請した曜日)"
   ]
  },
  {
   "cell_type": "code",
   "execution_count": 29,
   "id": "5b591e67",
   "metadata": {},
   "outputs": [],
   "source": [
    "app_train['weekday_appr_process_start'].replace(['TUESDAY', 'MONDAY', 'WEDNESDAY', 'THURSDAY', 'FRIDAY', 'SATURDAY', 'SUNDAY'], [1, 2, 3, 4, 5, 6, 7], inplace=True)\n",
    "app_test['weekday_appr_process_start'].replace(['TUESDAY', 'MONDAY', 'WEDNESDAY', 'THURSDAY', 'FRIDAY', 'SATURDAY', 'SUNDAY'], [1, 2, 3, 4, 5, 6, 7], inplace=True)"
   ]
  },
  {
   "cell_type": "code",
   "execution_count": 30,
   "id": "72d24021",
   "metadata": {},
   "outputs": [
    {
     "data": {
      "text/plain": [
       "2.0    11280\n",
       "1.0    11067\n",
       "3.0    11040\n",
       "4.0    10372\n",
       "5.0     9979\n",
       "6.0     7852\n",
       "7.0     3593\n",
       "Name: weekday_appr_process_start, dtype: int64"
      ]
     },
     "execution_count": 30,
     "metadata": {},
     "output_type": "execute_result"
    }
   ],
   "source": [
    "app_train['weekday_appr_process_start'].value_counts()"
   ]
  },
  {
   "cell_type": "code",
   "execution_count": 31,
   "id": "39a71ed8",
   "metadata": {},
   "outputs": [
    {
     "data": {
      "text/html": [
       "<div>\n",
       "<style scoped>\n",
       "    .dataframe tbody tr th:only-of-type {\n",
       "        vertical-align: middle;\n",
       "    }\n",
       "\n",
       "    .dataframe tbody tr th {\n",
       "        vertical-align: top;\n",
       "    }\n",
       "\n",
       "    .dataframe thead th {\n",
       "        text-align: right;\n",
       "    }\n",
       "</style>\n",
       "<table border=\"1\" class=\"dataframe\">\n",
       "  <thead>\n",
       "    <tr style=\"text-align: right;\">\n",
       "      <th></th>\n",
       "      <th>weekday_appr_process_start</th>\n",
       "      <th>TARGET</th>\n",
       "    </tr>\n",
       "  </thead>\n",
       "  <tbody>\n",
       "    <tr>\n",
       "      <th>weekday_appr_process_start</th>\n",
       "      <td>1.000000</td>\n",
       "      <td>0.010451</td>\n",
       "    </tr>\n",
       "    <tr>\n",
       "      <th>TARGET</th>\n",
       "      <td>0.010451</td>\n",
       "      <td>1.000000</td>\n",
       "    </tr>\n",
       "  </tbody>\n",
       "</table>\n",
       "</div>"
      ],
      "text/plain": [
       "                            weekday_appr_process_start    TARGET\n",
       "weekday_appr_process_start                    1.000000  0.010451\n",
       "TARGET                                        0.010451  1.000000"
      ]
     },
     "execution_count": 31,
     "metadata": {},
     "output_type": "execute_result"
    }
   ],
   "source": [
    "app_train[['weekday_appr_process_start', 'TARGET']].corr()"
   ]
  },
  {
   "cell_type": "markdown",
   "id": "62d0ce94",
   "metadata": {},
   "source": [
    "### HOUR_APPR_PROCESS_START(クライアントが応募した時間)"
   ]
  },
  {
   "cell_type": "code",
   "execution_count": 32,
   "id": "e41bb327",
   "metadata": {},
   "outputs": [
    {
     "data": {
      "text/plain": [
       "10.0    9296\n",
       "11.0    8205\n",
       "12.0    7550\n",
       "13.0    6371\n",
       "9.0     6064\n",
       "14.0    5448\n",
       "15.0    4767\n",
       "16.0    3847\n",
       "8.0     3605\n",
       "17.0    2574\n",
       "7.0     2315\n",
       "18.0    1567\n",
       "6.0     1256\n",
       "5.0      732\n",
       "19.0     677\n",
       "4.0      365\n",
       "3.0      242\n",
       "20.0     173\n",
       "2.0       52\n",
       "21.0      40\n",
       "22.0      27\n",
       "1.0        5\n",
       "0.0        3\n",
       "23.0       2\n",
       "Name: hour_appr_process_start, dtype: int64"
      ]
     },
     "execution_count": 32,
     "metadata": {},
     "output_type": "execute_result"
    }
   ],
   "source": [
    "app_train['hour_appr_process_start'].value_counts()"
   ]
  },
  {
   "cell_type": "code",
   "execution_count": 33,
   "id": "7b605197",
   "metadata": {},
   "outputs": [
    {
     "data": {
      "text/html": [
       "<div>\n",
       "<style scoped>\n",
       "    .dataframe tbody tr th:only-of-type {\n",
       "        vertical-align: middle;\n",
       "    }\n",
       "\n",
       "    .dataframe tbody tr th {\n",
       "        vertical-align: top;\n",
       "    }\n",
       "\n",
       "    .dataframe thead th {\n",
       "        text-align: right;\n",
       "    }\n",
       "</style>\n",
       "<table border=\"1\" class=\"dataframe\">\n",
       "  <thead>\n",
       "    <tr style=\"text-align: right;\">\n",
       "      <th></th>\n",
       "      <th>hour_appr_process_start</th>\n",
       "      <th>TARGET</th>\n",
       "    </tr>\n",
       "  </thead>\n",
       "  <tbody>\n",
       "    <tr>\n",
       "      <th>hour_appr_process_start</th>\n",
       "      <td>1.000000</td>\n",
       "      <td>-0.018711</td>\n",
       "    </tr>\n",
       "    <tr>\n",
       "      <th>TARGET</th>\n",
       "      <td>-0.018711</td>\n",
       "      <td>1.000000</td>\n",
       "    </tr>\n",
       "  </tbody>\n",
       "</table>\n",
       "</div>"
      ],
      "text/plain": [
       "                         hour_appr_process_start    TARGET\n",
       "hour_appr_process_start                 1.000000 -0.018711\n",
       "TARGET                                 -0.018711  1.000000"
      ]
     },
     "execution_count": 33,
     "metadata": {},
     "output_type": "execute_result"
    }
   ],
   "source": [
    "app_train[['hour_appr_process_start', 'TARGET']].corr()"
   ]
  },
  {
   "cell_type": "markdown",
   "id": "0705901a",
   "metadata": {},
   "source": [
    "### FLAG_LAST_APPL_PER_CONTRACT|最も最新の過去のローン申請だった場合のフラグ(店員による間違いがあるかもしれんけど)|"
   ]
  },
  {
   "cell_type": "code",
   "execution_count": 34,
   "id": "4bf6350d",
   "metadata": {},
   "outputs": [
    {
     "data": {
      "text/plain": [
       "Y    65183\n",
       "Name: flag_last_appl_per_contract, dtype: int64"
      ]
     },
     "execution_count": 34,
     "metadata": {},
     "output_type": "execute_result"
    }
   ],
   "source": [
    "app_train['flag_last_appl_per_contract'].value_counts()"
   ]
  },
  {
   "cell_type": "code",
   "execution_count": 35,
   "id": "97f020a2",
   "metadata": {},
   "outputs": [],
   "source": [
    "app_train.drop(['flag_last_appl_per_contract'], axis=1, inplace=True)\n",
    "app_test.drop(['flag_last_appl_per_contract'], axis=1, inplace=True)"
   ]
  },
  {
   "cell_type": "markdown",
   "id": "4cd3769d",
   "metadata": {},
   "source": [
    "### NFLAG_LAST_APPL_IN_DAY(1日の中での最後の申し込みだった場合のフラグ)"
   ]
  },
  {
   "cell_type": "code",
   "execution_count": 36,
   "id": "90c555e6",
   "metadata": {},
   "outputs": [
    {
     "data": {
      "text/plain": [
       "1.0    65080\n",
       "0.0      103\n",
       "Name: nflag_last_appl_in_day, dtype: int64"
      ]
     },
     "execution_count": 36,
     "metadata": {},
     "output_type": "execute_result"
    }
   ],
   "source": [
    "app_train['nflag_last_appl_in_day'].value_counts()"
   ]
  },
  {
   "cell_type": "code",
   "execution_count": 37,
   "id": "7280f71f",
   "metadata": {},
   "outputs": [
    {
     "data": {
      "text/html": [
       "<div>\n",
       "<style scoped>\n",
       "    .dataframe tbody tr th:only-of-type {\n",
       "        vertical-align: middle;\n",
       "    }\n",
       "\n",
       "    .dataframe tbody tr th {\n",
       "        vertical-align: top;\n",
       "    }\n",
       "\n",
       "    .dataframe thead th {\n",
       "        text-align: right;\n",
       "    }\n",
       "</style>\n",
       "<table border=\"1\" class=\"dataframe\">\n",
       "  <thead>\n",
       "    <tr style=\"text-align: right;\">\n",
       "      <th></th>\n",
       "      <th>nflag_last_appl_in_day</th>\n",
       "      <th>TARGET</th>\n",
       "    </tr>\n",
       "  </thead>\n",
       "  <tbody>\n",
       "    <tr>\n",
       "      <th>nflag_last_appl_in_day</th>\n",
       "      <td>1.00000</td>\n",
       "      <td>0.00844</td>\n",
       "    </tr>\n",
       "    <tr>\n",
       "      <th>TARGET</th>\n",
       "      <td>0.00844</td>\n",
       "      <td>1.00000</td>\n",
       "    </tr>\n",
       "  </tbody>\n",
       "</table>\n",
       "</div>"
      ],
      "text/plain": [
       "                        nflag_last_appl_in_day   TARGET\n",
       "nflag_last_appl_in_day                 1.00000  0.00844\n",
       "TARGET                                 0.00844  1.00000"
      ]
     },
     "execution_count": 37,
     "metadata": {},
     "output_type": "execute_result"
    }
   ],
   "source": [
    "app_train[['nflag_last_appl_in_day', 'TARGET']].corr()"
   ]
  },
  {
   "cell_type": "markdown",
   "id": "34d48ef6",
   "metadata": {},
   "source": [
    "### RATE_DOWN_PAYMENT(前払い率)"
   ]
  },
  {
   "cell_type": "code",
   "execution_count": 38,
   "id": "32eba460",
   "metadata": {},
   "outputs": [
    {
     "data": {
      "text/plain": [
       "0.0    65183\n",
       "Name: rate_down_payment, dtype: int64"
      ]
     },
     "execution_count": 38,
     "metadata": {},
     "output_type": "execute_result"
    }
   ],
   "source": [
    "app_train['rate_down_payment'].value_counts()"
   ]
  },
  {
   "cell_type": "code",
   "execution_count": 39,
   "id": "eafbc9b0",
   "metadata": {},
   "outputs": [],
   "source": [
    "app_train.drop(['rate_down_payment'], axis=1, inplace=True)\n",
    "app_test.drop(['rate_down_payment'], axis=1, inplace=True)"
   ]
  },
  {
   "cell_type": "markdown",
   "id": "cc314f0b",
   "metadata": {},
   "source": [
    "### RATE_INTEREST_PRIMARY(金利)"
   ]
  },
  {
   "cell_type": "code",
   "execution_count": 40,
   "id": "a324fc63",
   "metadata": {},
   "outputs": [
    {
     "data": {
      "text/plain": [
       "0.0    65183\n",
       "Name: rate_interest_primary, dtype: int64"
      ]
     },
     "execution_count": 40,
     "metadata": {},
     "output_type": "execute_result"
    }
   ],
   "source": [
    "app_train['rate_interest_primary'].value_counts()"
   ]
  },
  {
   "cell_type": "markdown",
   "id": "67a340b1",
   "metadata": {},
   "source": [
    "### RATE_INTEREST_PRIVILEGED(金利)"
   ]
  },
  {
   "cell_type": "code",
   "execution_count": 41,
   "id": "99638f64",
   "metadata": {},
   "outputs": [
    {
     "data": {
      "text/plain": [
       "0.0    65183\n",
       "Name: rate_interest_privileged, dtype: int64"
      ]
     },
     "execution_count": 41,
     "metadata": {},
     "output_type": "execute_result"
    }
   ],
   "source": [
    "app_train['rate_interest_privileged'].value_counts()"
   ]
  },
  {
   "cell_type": "markdown",
   "id": "e9a1b266",
   "metadata": {},
   "source": [
    "### NAME_CASH_LOAN_PURPOSE(現金融資の目的)"
   ]
  },
  {
   "cell_type": "code",
   "execution_count": 42,
   "id": "e968fd82",
   "metadata": {},
   "outputs": [],
   "source": [
    "columns = ['XNA', 'Repairs', 'Other', 'Urgent needs', 'Building a house or an annex', 'Buying a used car', 'Medicine', 'Wedding / gift / holiday', 'Furniture', 'Journey', 'Everyday expenses', 'Education', 'Car repairs', 'Payments on other loans', 'Purchase of electronic equipment', 'Buying a new car', 'Buying a home', 'Gasification / water supply', 'Buying a holiday home / land', 'Business development', 'Buying a garage', 'Hobby', 'Refusal to name the goal', 'Money for a third person']\n",
    "app_train['name_cash_loan_purpose'].replace(columns, [1, 2, 3, 4, 5, 6, 7, 8, 9, 10, 11, 12, 13, 14, 15, 16, 17, 18, 19, 20, 21, 22, 23, 24], inplace=True)\n",
    "app_test['name_cash_loan_purpose'].replace(columns, [1, 2, 3, 4, 5, 6, 7, 8, 9, 10, 11, 12, 13, 14, 15, 16, 17, 18, 19, 20, 21, 22, 23, 24], inplace=True)"
   ]
  },
  {
   "cell_type": "code",
   "execution_count": 43,
   "id": "c6a78306",
   "metadata": {},
   "outputs": [
    {
     "data": {
      "text/plain": [
       "1.0     60958\n",
       "2.0      1551\n",
       "3.0       900\n",
       "4.0       676\n",
       "5.0       181\n",
       "6.0       115\n",
       "7.0       111\n",
       "8.0       103\n",
       "9.0        76\n",
       "10.0       75\n",
       "14.0       72\n",
       "11.0       64\n",
       "12.0       61\n",
       "15.0       47\n",
       "13.0       46\n",
       "16.0       32\n",
       "18.0       32\n",
       "17.0       22\n",
       "20.0       22\n",
       "19.0       21\n",
       "21.0        8\n",
       "22.0        7\n",
       "23.0        2\n",
       "24.0        1\n",
       "Name: name_cash_loan_purpose, dtype: int64"
      ]
     },
     "execution_count": 43,
     "metadata": {},
     "output_type": "execute_result"
    }
   ],
   "source": [
    "app_train['name_cash_loan_purpose'].value_counts()"
   ]
  },
  {
   "cell_type": "code",
   "execution_count": 44,
   "id": "6f0e0fb2",
   "metadata": {},
   "outputs": [
    {
     "data": {
      "text/html": [
       "<div>\n",
       "<style scoped>\n",
       "    .dataframe tbody tr th:only-of-type {\n",
       "        vertical-align: middle;\n",
       "    }\n",
       "\n",
       "    .dataframe tbody tr th {\n",
       "        vertical-align: top;\n",
       "    }\n",
       "\n",
       "    .dataframe thead th {\n",
       "        text-align: right;\n",
       "    }\n",
       "</style>\n",
       "<table border=\"1\" class=\"dataframe\">\n",
       "  <thead>\n",
       "    <tr style=\"text-align: right;\">\n",
       "      <th></th>\n",
       "      <th>name_cash_loan_purpose</th>\n",
       "      <th>TARGET</th>\n",
       "    </tr>\n",
       "  </thead>\n",
       "  <tbody>\n",
       "    <tr>\n",
       "      <th>name_cash_loan_purpose</th>\n",
       "      <td>1.000000</td>\n",
       "      <td>0.025316</td>\n",
       "    </tr>\n",
       "    <tr>\n",
       "      <th>TARGET</th>\n",
       "      <td>0.025316</td>\n",
       "      <td>1.000000</td>\n",
       "    </tr>\n",
       "  </tbody>\n",
       "</table>\n",
       "</div>"
      ],
      "text/plain": [
       "                        name_cash_loan_purpose    TARGET\n",
       "name_cash_loan_purpose                1.000000  0.025316\n",
       "TARGET                                0.025316  1.000000"
      ]
     },
     "execution_count": 44,
     "metadata": {},
     "output_type": "execute_result"
    }
   ],
   "source": [
    "app_train[['name_cash_loan_purpose', 'TARGET']].corr()"
   ]
  },
  {
   "cell_type": "markdown",
   "id": "0985e91b",
   "metadata": {},
   "source": [
    "### NAME_CONTRACT_STATUS(契約状況)"
   ]
  },
  {
   "cell_type": "code",
   "execution_count": 45,
   "id": "0766e985",
   "metadata": {},
   "outputs": [
    {
     "data": {
      "text/plain": [
       "Approved    65183\n",
       "Name: name_contract_status, dtype: int64"
      ]
     },
     "execution_count": 45,
     "metadata": {},
     "output_type": "execute_result"
    }
   ],
   "source": [
    "app_train['name_contract_status'].value_counts()"
   ]
  },
  {
   "cell_type": "code",
   "execution_count": 46,
   "id": "756d3d46",
   "metadata": {},
   "outputs": [],
   "source": [
    "app_train.drop(['name_contract_status'], axis=1, inplace=True)\n",
    "app_test.drop(['name_contract_status'], axis=1, inplace=True)"
   ]
  },
  {
   "cell_type": "markdown",
   "id": "2911e309",
   "metadata": {},
   "source": [
    "### DAYS_DECISION(今回申込日との日数差)"
   ]
  },
  {
   "cell_type": "code",
   "execution_count": 47,
   "id": "b77dc5ac",
   "metadata": {},
   "outputs": [
    {
     "data": {
      "text/plain": [
       "-244.0     228\n",
       "-245.0     223\n",
       "-188.0     212\n",
       "-273.0     201\n",
       "-213.0     200\n",
       "          ... \n",
       "-1565.0      1\n",
       "-1460.0      1\n",
       "-2401.0      1\n",
       "-1369.0      1\n",
       "-19.0        1\n",
       "Name: days_decision, Length: 1367, dtype: int64"
      ]
     },
     "execution_count": 47,
     "metadata": {},
     "output_type": "execute_result"
    }
   ],
   "source": [
    "app_train['days_decision'].value_counts()"
   ]
  },
  {
   "cell_type": "code",
   "execution_count": 48,
   "id": "12f2b32e",
   "metadata": {},
   "outputs": [
    {
     "data": {
      "text/html": [
       "<div>\n",
       "<style scoped>\n",
       "    .dataframe tbody tr th:only-of-type {\n",
       "        vertical-align: middle;\n",
       "    }\n",
       "\n",
       "    .dataframe tbody tr th {\n",
       "        vertical-align: top;\n",
       "    }\n",
       "\n",
       "    .dataframe thead th {\n",
       "        text-align: right;\n",
       "    }\n",
       "</style>\n",
       "<table border=\"1\" class=\"dataframe\">\n",
       "  <thead>\n",
       "    <tr style=\"text-align: right;\">\n",
       "      <th></th>\n",
       "      <th>days_decision</th>\n",
       "      <th>TARGET</th>\n",
       "    </tr>\n",
       "  </thead>\n",
       "  <tbody>\n",
       "    <tr>\n",
       "      <th>days_decision</th>\n",
       "      <td>1.000000</td>\n",
       "      <td>-0.006512</td>\n",
       "    </tr>\n",
       "    <tr>\n",
       "      <th>TARGET</th>\n",
       "      <td>-0.006512</td>\n",
       "      <td>1.000000</td>\n",
       "    </tr>\n",
       "  </tbody>\n",
       "</table>\n",
       "</div>"
      ],
      "text/plain": [
       "               days_decision    TARGET\n",
       "days_decision       1.000000 -0.006512\n",
       "TARGET             -0.006512  1.000000"
      ]
     },
     "execution_count": 48,
     "metadata": {},
     "output_type": "execute_result"
    }
   ],
   "source": [
    "app_train[['days_decision', 'TARGET']].corr()"
   ]
  },
  {
   "cell_type": "markdown",
   "id": "03f60765",
   "metadata": {},
   "source": [
    "### NAME_PAYMENT_TYPE(支払い方法)"
   ]
  },
  {
   "cell_type": "code",
   "execution_count": 49,
   "id": "1bea2ba0",
   "metadata": {},
   "outputs": [],
   "source": [
    "columns = ['Cash through the bank', 'XNA', 'Non-cash from your account', 'Cashless from the account of the employer']\n",
    "app_train['name_payment_type'].replace(columns, [1, 2, 3, 4], inplace=True)\n",
    "app_test['name_payment_type'].replace(columns, [1, 2, 3, 4], inplace=True)"
   ]
  },
  {
   "cell_type": "code",
   "execution_count": 50,
   "id": "a479fc3d",
   "metadata": {},
   "outputs": [
    {
     "data": {
      "text/plain": [
       "1.0    59637\n",
       "2.0     5222\n",
       "3.0      265\n",
       "4.0       59\n",
       "Name: name_payment_type, dtype: int64"
      ]
     },
     "execution_count": 50,
     "metadata": {},
     "output_type": "execute_result"
    }
   ],
   "source": [
    "app_train['name_payment_type'].value_counts()"
   ]
  },
  {
   "cell_type": "code",
   "execution_count": 51,
   "id": "b6a1d808",
   "metadata": {},
   "outputs": [
    {
     "data": {
      "text/html": [
       "<div>\n",
       "<style scoped>\n",
       "    .dataframe tbody tr th:only-of-type {\n",
       "        vertical-align: middle;\n",
       "    }\n",
       "\n",
       "    .dataframe tbody tr th {\n",
       "        vertical-align: top;\n",
       "    }\n",
       "\n",
       "    .dataframe thead th {\n",
       "        text-align: right;\n",
       "    }\n",
       "</style>\n",
       "<table border=\"1\" class=\"dataframe\">\n",
       "  <thead>\n",
       "    <tr style=\"text-align: right;\">\n",
       "      <th></th>\n",
       "      <th>name_payment_type</th>\n",
       "      <th>TARGET</th>\n",
       "    </tr>\n",
       "  </thead>\n",
       "  <tbody>\n",
       "    <tr>\n",
       "      <th>name_payment_type</th>\n",
       "      <td>1.000000</td>\n",
       "      <td>0.014166</td>\n",
       "    </tr>\n",
       "    <tr>\n",
       "      <th>TARGET</th>\n",
       "      <td>0.014166</td>\n",
       "      <td>1.000000</td>\n",
       "    </tr>\n",
       "  </tbody>\n",
       "</table>\n",
       "</div>"
      ],
      "text/plain": [
       "                   name_payment_type    TARGET\n",
       "name_payment_type           1.000000  0.014166\n",
       "TARGET                      0.014166  1.000000"
      ]
     },
     "execution_count": 51,
     "metadata": {},
     "output_type": "execute_result"
    }
   ],
   "source": [
    "app_train[['name_payment_type', 'TARGET']].corr()"
   ]
  },
  {
   "cell_type": "markdown",
   "id": "48350108",
   "metadata": {},
   "source": [
    "### CODE_REJECT_REASON(審査落ち理由)"
   ]
  },
  {
   "cell_type": "code",
   "execution_count": 52,
   "id": "189fed15",
   "metadata": {},
   "outputs": [
    {
     "data": {
      "text/plain": [
       "XAP    65183\n",
       "Name: code_reject_reason, dtype: int64"
      ]
     },
     "execution_count": 52,
     "metadata": {},
     "output_type": "execute_result"
    }
   ],
   "source": [
    "app_train['code_reject_reason'].value_counts()"
   ]
  },
  {
   "cell_type": "code",
   "execution_count": 53,
   "id": "e98b6461",
   "metadata": {},
   "outputs": [],
   "source": [
    "app_train.drop(['code_reject_reason'], axis=1, inplace=True)\n",
    "app_test.drop(['code_reject_reason'], axis=1, inplace=True)"
   ]
  },
  {
   "cell_type": "markdown",
   "id": "e637a9c5",
   "metadata": {},
   "source": [
    "### NAME_TYPE_SUITE(申請時同行者)"
   ]
  },
  {
   "cell_type": "code",
   "execution_count": 54,
   "id": "7d9b9d82",
   "metadata": {},
   "outputs": [],
   "source": [
    "columns = ['Unaccompanied', 'Family', 'Spouse, partner', 'Children', 'Other_B', 'Other_A', 'Group of people']\n",
    "app_train['name_type_suite'].replace(columns, [1, 2, 3, 4, 5, 6, 7], inplace=True)\n",
    "app_test['name_type_suite'].replace(columns, [1, 2, 3, 4, 5, 6, 7], inplace=True)"
   ]
  },
  {
   "cell_type": "code",
   "execution_count": 55,
   "id": "c657c94b",
   "metadata": {},
   "outputs": [
    {
     "data": {
      "text/plain": [
       "1.0    35063\n",
       "2.0     6240\n",
       "3.0     1616\n",
       "4.0      591\n",
       "5.0      270\n",
       "6.0       95\n",
       "7.0       48\n",
       "Name: name_type_suite, dtype: int64"
      ]
     },
     "execution_count": 55,
     "metadata": {},
     "output_type": "execute_result"
    }
   ],
   "source": [
    "app_train['name_type_suite'].value_counts()"
   ]
  },
  {
   "cell_type": "code",
   "execution_count": 56,
   "id": "3618c0f3",
   "metadata": {},
   "outputs": [
    {
     "data": {
      "text/html": [
       "<div>\n",
       "<style scoped>\n",
       "    .dataframe tbody tr th:only-of-type {\n",
       "        vertical-align: middle;\n",
       "    }\n",
       "\n",
       "    .dataframe tbody tr th {\n",
       "        vertical-align: top;\n",
       "    }\n",
       "\n",
       "    .dataframe thead th {\n",
       "        text-align: right;\n",
       "    }\n",
       "</style>\n",
       "<table border=\"1\" class=\"dataframe\">\n",
       "  <thead>\n",
       "    <tr style=\"text-align: right;\">\n",
       "      <th></th>\n",
       "      <th>name_type_suite</th>\n",
       "      <th>TARGET</th>\n",
       "    </tr>\n",
       "  </thead>\n",
       "  <tbody>\n",
       "    <tr>\n",
       "      <th>name_type_suite</th>\n",
       "      <td>1.000000</td>\n",
       "      <td>0.004977</td>\n",
       "    </tr>\n",
       "    <tr>\n",
       "      <th>TARGET</th>\n",
       "      <td>0.004977</td>\n",
       "      <td>1.000000</td>\n",
       "    </tr>\n",
       "  </tbody>\n",
       "</table>\n",
       "</div>"
      ],
      "text/plain": [
       "                 name_type_suite    TARGET\n",
       "name_type_suite         1.000000  0.004977\n",
       "TARGET                  0.004977  1.000000"
      ]
     },
     "execution_count": 56,
     "metadata": {},
     "output_type": "execute_result"
    }
   ],
   "source": [
    "app_train[['name_type_suite', 'TARGET']].corr()"
   ]
  },
  {
   "cell_type": "markdown",
   "id": "56d72614",
   "metadata": {},
   "source": [
    "### NAME_CLIENT_TYPE(新規顧客などの顧客タイプ)"
   ]
  },
  {
   "cell_type": "code",
   "execution_count": 57,
   "id": "bcf0d18f",
   "metadata": {},
   "outputs": [],
   "source": [
    "columns = ['Repeater', 'Refreshed', 'New', 'XNA']\n",
    "app_train['name_client_type'].replace(columns, [1, 2, 3, 4], inplace=True)\n",
    "app_test['name_client_type'].replace(columns, [1, 2, 3, 4], inplace=True)"
   ]
  },
  {
   "cell_type": "code",
   "execution_count": 58,
   "id": "9447b255",
   "metadata": {},
   "outputs": [
    {
     "data": {
      "text/plain": [
       "1.0    60213\n",
       "2.0     3593\n",
       "3.0     1316\n",
       "4.0       61\n",
       "Name: name_client_type, dtype: int64"
      ]
     },
     "execution_count": 58,
     "metadata": {},
     "output_type": "execute_result"
    }
   ],
   "source": [
    "app_train['name_client_type'].value_counts()"
   ]
  },
  {
   "cell_type": "code",
   "execution_count": 59,
   "id": "f512e5ba",
   "metadata": {},
   "outputs": [
    {
     "data": {
      "text/html": [
       "<div>\n",
       "<style scoped>\n",
       "    .dataframe tbody tr th:only-of-type {\n",
       "        vertical-align: middle;\n",
       "    }\n",
       "\n",
       "    .dataframe tbody tr th {\n",
       "        vertical-align: top;\n",
       "    }\n",
       "\n",
       "    .dataframe thead th {\n",
       "        text-align: right;\n",
       "    }\n",
       "</style>\n",
       "<table border=\"1\" class=\"dataframe\">\n",
       "  <thead>\n",
       "    <tr style=\"text-align: right;\">\n",
       "      <th></th>\n",
       "      <th>name_client_type</th>\n",
       "      <th>TARGET</th>\n",
       "    </tr>\n",
       "  </thead>\n",
       "  <tbody>\n",
       "    <tr>\n",
       "      <th>name_client_type</th>\n",
       "      <td>1.00000</td>\n",
       "      <td>0.01433</td>\n",
       "    </tr>\n",
       "    <tr>\n",
       "      <th>TARGET</th>\n",
       "      <td>0.01433</td>\n",
       "      <td>1.00000</td>\n",
       "    </tr>\n",
       "  </tbody>\n",
       "</table>\n",
       "</div>"
      ],
      "text/plain": [
       "                  name_client_type   TARGET\n",
       "name_client_type           1.00000  0.01433\n",
       "TARGET                     0.01433  1.00000"
      ]
     },
     "execution_count": 59,
     "metadata": {},
     "output_type": "execute_result"
    }
   ],
   "source": [
    "app_train[['name_client_type', 'TARGET']].corr()"
   ]
  },
  {
   "cell_type": "markdown",
   "id": "6447dc3c",
   "metadata": {},
   "source": [
    "### NAME_GOODS_CATEGORY(申請した商品の種類)"
   ]
  },
  {
   "cell_type": "code",
   "execution_count": 60,
   "id": "a8561f99",
   "metadata": {},
   "outputs": [
    {
     "data": {
      "text/plain": [
       "XNA    65183\n",
       "Name: name_goods_category, dtype: int64"
      ]
     },
     "execution_count": 60,
     "metadata": {},
     "output_type": "execute_result"
    }
   ],
   "source": [
    "app_train['name_goods_category'].value_counts()"
   ]
  },
  {
   "cell_type": "code",
   "execution_count": 61,
   "id": "24f83f40",
   "metadata": {},
   "outputs": [],
   "source": [
    "app_train.drop(['name_goods_category'], axis=1, inplace=True)\n",
    "app_test.drop(['name_goods_category'], axis=1, inplace=True)"
   ]
  },
  {
   "cell_type": "markdown",
   "id": "0c36b9a7",
   "metadata": {},
   "source": [
    "### name_portfolio"
   ]
  },
  {
   "cell_type": "code",
   "execution_count": 62,
   "id": "ba9e4d77",
   "metadata": {},
   "outputs": [
    {
     "data": {
      "text/plain": [
       "Cash    65183\n",
       "Name: name_portfolio, dtype: int64"
      ]
     },
     "execution_count": 62,
     "metadata": {},
     "output_type": "execute_result"
    }
   ],
   "source": [
    "app_train['name_portfolio'].value_counts()"
   ]
  },
  {
   "cell_type": "code",
   "execution_count": 63,
   "id": "b7e0b762",
   "metadata": {},
   "outputs": [],
   "source": [
    "app_train.drop(['name_portfolio'], axis=1, inplace=True)\n",
    "app_test.drop(['name_portfolio'], axis=1, inplace=True)"
   ]
  },
  {
   "cell_type": "markdown",
   "id": "16dcba09",
   "metadata": {},
   "source": [
    "### name_product_type"
   ]
  },
  {
   "cell_type": "code",
   "execution_count": 64,
   "id": "63a99cff",
   "metadata": {},
   "outputs": [],
   "source": [
    "columns = ['x-sell', 'walk-in']\n",
    "app_train['name_product_type'].replace(columns, [1, 2], inplace=True)\n",
    "app_test['name_product_type'].replace(columns, [1, 2], inplace=True)"
   ]
  },
  {
   "cell_type": "code",
   "execution_count": 65,
   "id": "92be317d",
   "metadata": {},
   "outputs": [
    {
     "data": {
      "text/html": [
       "<div>\n",
       "<style scoped>\n",
       "    .dataframe tbody tr th:only-of-type {\n",
       "        vertical-align: middle;\n",
       "    }\n",
       "\n",
       "    .dataframe tbody tr th {\n",
       "        vertical-align: top;\n",
       "    }\n",
       "\n",
       "    .dataframe thead th {\n",
       "        text-align: right;\n",
       "    }\n",
       "</style>\n",
       "<table border=\"1\" class=\"dataframe\">\n",
       "  <thead>\n",
       "    <tr style=\"text-align: right;\">\n",
       "      <th></th>\n",
       "      <th>name_product_type</th>\n",
       "      <th>TARGET</th>\n",
       "    </tr>\n",
       "  </thead>\n",
       "  <tbody>\n",
       "    <tr>\n",
       "      <th>name_product_type</th>\n",
       "      <td>1.000000</td>\n",
       "      <td>0.041091</td>\n",
       "    </tr>\n",
       "    <tr>\n",
       "      <th>TARGET</th>\n",
       "      <td>0.041091</td>\n",
       "      <td>1.000000</td>\n",
       "    </tr>\n",
       "  </tbody>\n",
       "</table>\n",
       "</div>"
      ],
      "text/plain": [
       "                   name_product_type    TARGET\n",
       "name_product_type           1.000000  0.041091\n",
       "TARGET                      0.041091  1.000000"
      ]
     },
     "execution_count": 65,
     "metadata": {},
     "output_type": "execute_result"
    }
   ],
   "source": [
    "app_train[['name_product_type', 'TARGET']].corr()"
   ]
  },
  {
   "cell_type": "code",
   "execution_count": 66,
   "id": "19418bde",
   "metadata": {},
   "outputs": [
    {
     "data": {
      "text/plain": [
       "1.0    59918\n",
       "2.0     5265\n",
       "Name: name_product_type, dtype: int64"
      ]
     },
     "execution_count": 66,
     "metadata": {},
     "output_type": "execute_result"
    }
   ],
   "source": [
    "app_train['name_product_type'].value_counts()"
   ]
  },
  {
   "cell_type": "markdown",
   "id": "c272ef39",
   "metadata": {},
   "source": [
    "### channel_type"
   ]
  },
  {
   "cell_type": "code",
   "execution_count": 67,
   "id": "8be5bb04",
   "metadata": {},
   "outputs": [],
   "source": [
    "columns = ['Credit and cash offices', 'AP+ (Cash loan)', 'Contact center', 'Country-wide', 'Stone', 'Regional / Local', 'Channel of corporate sales', 'Car dealer']\n",
    "app_train['channel_type'].replace(columns, [1, 2, 3, 4, 5, 6, 7, 8], inplace=True)\n",
    "app_test['channel_type'].replace(columns, [1, 2, 3, 4, 5, 6, 7, 8], inplace=True)"
   ]
  },
  {
   "cell_type": "code",
   "execution_count": 68,
   "id": "1d06bb0f",
   "metadata": {},
   "outputs": [
    {
     "data": {
      "text/plain": [
       "1.0    51771\n",
       "2.0     5210\n",
       "3.0     4235\n",
       "4.0     2397\n",
       "5.0      622\n",
       "6.0      519\n",
       "7.0      428\n",
       "8.0        1\n",
       "Name: channel_type, dtype: int64"
      ]
     },
     "execution_count": 68,
     "metadata": {},
     "output_type": "execute_result"
    }
   ],
   "source": [
    "app_train['channel_type'].value_counts()"
   ]
  },
  {
   "cell_type": "code",
   "execution_count": 69,
   "id": "a7af435d",
   "metadata": {},
   "outputs": [
    {
     "data": {
      "text/html": [
       "<div>\n",
       "<style scoped>\n",
       "    .dataframe tbody tr th:only-of-type {\n",
       "        vertical-align: middle;\n",
       "    }\n",
       "\n",
       "    .dataframe tbody tr th {\n",
       "        vertical-align: top;\n",
       "    }\n",
       "\n",
       "    .dataframe thead th {\n",
       "        text-align: right;\n",
       "    }\n",
       "</style>\n",
       "<table border=\"1\" class=\"dataframe\">\n",
       "  <thead>\n",
       "    <tr style=\"text-align: right;\">\n",
       "      <th></th>\n",
       "      <th>channel_type</th>\n",
       "      <th>TARGET</th>\n",
       "    </tr>\n",
       "  </thead>\n",
       "  <tbody>\n",
       "    <tr>\n",
       "      <th>channel_type</th>\n",
       "      <td>1.000000</td>\n",
       "      <td>0.017003</td>\n",
       "    </tr>\n",
       "    <tr>\n",
       "      <th>TARGET</th>\n",
       "      <td>0.017003</td>\n",
       "      <td>1.000000</td>\n",
       "    </tr>\n",
       "  </tbody>\n",
       "</table>\n",
       "</div>"
      ],
      "text/plain": [
       "              channel_type    TARGET\n",
       "channel_type      1.000000  0.017003\n",
       "TARGET            0.017003  1.000000"
      ]
     },
     "execution_count": 69,
     "metadata": {},
     "output_type": "execute_result"
    }
   ],
   "source": [
    "app_train[['channel_type', 'TARGET']].corr()"
   ]
  },
  {
   "cell_type": "markdown",
   "id": "bc2ba0c5",
   "metadata": {},
   "source": [
    "### sellerplace_area"
   ]
  },
  {
   "cell_type": "code",
   "execution_count": 70,
   "id": "f4712d43",
   "metadata": {},
   "outputs": [
    {
     "data": {
      "text/plain": [
       "-1.0       53454\n",
       " 0.0        3350\n",
       " 4.0        1129\n",
       " 5.0         760\n",
       " 3.0         488\n",
       "           ...  \n",
       " 312.0         1\n",
       " 308.0         1\n",
       " 5160.0        1\n",
       " 61.0          1\n",
       " 3102.0        1\n",
       "Name: sellerplace_area, Length: 345, dtype: int64"
      ]
     },
     "execution_count": 70,
     "metadata": {},
     "output_type": "execute_result"
    }
   ],
   "source": [
    "app_train['sellerplace_area'].value_counts()"
   ]
  },
  {
   "cell_type": "code",
   "execution_count": 71,
   "id": "f48896be",
   "metadata": {},
   "outputs": [
    {
     "data": {
      "text/html": [
       "<div>\n",
       "<style scoped>\n",
       "    .dataframe tbody tr th:only-of-type {\n",
       "        vertical-align: middle;\n",
       "    }\n",
       "\n",
       "    .dataframe tbody tr th {\n",
       "        vertical-align: top;\n",
       "    }\n",
       "\n",
       "    .dataframe thead th {\n",
       "        text-align: right;\n",
       "    }\n",
       "</style>\n",
       "<table border=\"1\" class=\"dataframe\">\n",
       "  <thead>\n",
       "    <tr style=\"text-align: right;\">\n",
       "      <th></th>\n",
       "      <th>sellerplace_area</th>\n",
       "      <th>TARGET</th>\n",
       "    </tr>\n",
       "  </thead>\n",
       "  <tbody>\n",
       "    <tr>\n",
       "      <th>sellerplace_area</th>\n",
       "      <td>1.000000</td>\n",
       "      <td>0.010032</td>\n",
       "    </tr>\n",
       "    <tr>\n",
       "      <th>TARGET</th>\n",
       "      <td>0.010032</td>\n",
       "      <td>1.000000</td>\n",
       "    </tr>\n",
       "  </tbody>\n",
       "</table>\n",
       "</div>"
      ],
      "text/plain": [
       "                  sellerplace_area    TARGET\n",
       "sellerplace_area          1.000000  0.010032\n",
       "TARGET                    0.010032  1.000000"
      ]
     },
     "execution_count": 71,
     "metadata": {},
     "output_type": "execute_result"
    }
   ],
   "source": [
    "app_train[['sellerplace_area', 'TARGET']].corr()"
   ]
  },
  {
   "cell_type": "markdown",
   "id": "7f6946d6",
   "metadata": {},
   "source": [
    "### name_seller_industry"
   ]
  },
  {
   "cell_type": "code",
   "execution_count": 72,
   "id": "6e3090fc",
   "metadata": {},
   "outputs": [],
   "source": [
    "columns = ['XNA', 'Consumer electronics', 'Connectivity', 'Furniture', 'Industry', 'Construction', 'Auto technology', 'MLM partners', 'Clothing', 'Jewelry']\n",
    "app_train['name_seller_industry'].replace(columns, [1, 2, 3, 4, 5, 6, 7, 8, 9, 10], inplace=True)\n",
    "app_test['name_seller_industry'].replace(columns, [1, 2, 3, 4, 5, 6, 7, 8, 9, 10], inplace=True)"
   ]
  },
  {
   "cell_type": "code",
   "execution_count": 73,
   "id": "806eb60a",
   "metadata": {},
   "outputs": [
    {
     "data": {
      "text/plain": [
       "1.0     61690\n",
       "2.0      1607\n",
       "3.0      1592\n",
       "4.0       176\n",
       "5.0        32\n",
       "6.0        30\n",
       "8.0        18\n",
       "7.0        17\n",
       "9.0        17\n",
       "10.0        4\n",
       "Name: name_seller_industry, dtype: int64"
      ]
     },
     "execution_count": 73,
     "metadata": {},
     "output_type": "execute_result"
    }
   ],
   "source": [
    "app_train['name_seller_industry'].value_counts()"
   ]
  },
  {
   "cell_type": "code",
   "execution_count": 74,
   "id": "2f65ba86",
   "metadata": {},
   "outputs": [
    {
     "data": {
      "text/html": [
       "<div>\n",
       "<style scoped>\n",
       "    .dataframe tbody tr th:only-of-type {\n",
       "        vertical-align: middle;\n",
       "    }\n",
       "\n",
       "    .dataframe tbody tr th {\n",
       "        vertical-align: top;\n",
       "    }\n",
       "\n",
       "    .dataframe thead th {\n",
       "        text-align: right;\n",
       "    }\n",
       "</style>\n",
       "<table border=\"1\" class=\"dataframe\">\n",
       "  <thead>\n",
       "    <tr style=\"text-align: right;\">\n",
       "      <th></th>\n",
       "      <th>name_seller_industry</th>\n",
       "      <th>TARGET</th>\n",
       "    </tr>\n",
       "  </thead>\n",
       "  <tbody>\n",
       "    <tr>\n",
       "      <th>name_seller_industry</th>\n",
       "      <td>1.000000</td>\n",
       "      <td>0.020224</td>\n",
       "    </tr>\n",
       "    <tr>\n",
       "      <th>TARGET</th>\n",
       "      <td>0.020224</td>\n",
       "      <td>1.000000</td>\n",
       "    </tr>\n",
       "  </tbody>\n",
       "</table>\n",
       "</div>"
      ],
      "text/plain": [
       "                      name_seller_industry    TARGET\n",
       "name_seller_industry              1.000000  0.020224\n",
       "TARGET                            0.020224  1.000000"
      ]
     },
     "execution_count": 74,
     "metadata": {},
     "output_type": "execute_result"
    }
   ],
   "source": [
    "app_train[['name_seller_industry', 'TARGET']].corr()"
   ]
  },
  {
   "cell_type": "markdown",
   "id": "53a168d0",
   "metadata": {},
   "source": [
    "### cnt_payment"
   ]
  },
  {
   "cell_type": "code",
   "execution_count": 75,
   "id": "cd5c277f",
   "metadata": {},
   "outputs": [
    {
     "data": {
      "text/plain": [
       "36.0    13759\n",
       "24.0    13613\n",
       "12.0     8912\n",
       "48.0     8601\n",
       "60.0     7975\n",
       "18.0     5895\n",
       "30.0     3026\n",
       "42.0     1700\n",
       "6.0      1135\n",
       "54.0      542\n",
       "72.0       13\n",
       "23.0        6\n",
       "29.0        1\n",
       "15.0        1\n",
       "44.0        1\n",
       "35.0        1\n",
       "26.0        1\n",
       "59.0        1\n",
       "Name: cnt_payment, dtype: int64"
      ]
     },
     "execution_count": 75,
     "metadata": {},
     "output_type": "execute_result"
    }
   ],
   "source": [
    "app_train['cnt_payment'].value_counts()"
   ]
  },
  {
   "cell_type": "code",
   "execution_count": 76,
   "id": "c0181e8c",
   "metadata": {},
   "outputs": [
    {
     "data": {
      "text/html": [
       "<div>\n",
       "<style scoped>\n",
       "    .dataframe tbody tr th:only-of-type {\n",
       "        vertical-align: middle;\n",
       "    }\n",
       "\n",
       "    .dataframe tbody tr th {\n",
       "        vertical-align: top;\n",
       "    }\n",
       "\n",
       "    .dataframe thead th {\n",
       "        text-align: right;\n",
       "    }\n",
       "</style>\n",
       "<table border=\"1\" class=\"dataframe\">\n",
       "  <thead>\n",
       "    <tr style=\"text-align: right;\">\n",
       "      <th></th>\n",
       "      <th>cnt_payment</th>\n",
       "      <th>TARGET</th>\n",
       "    </tr>\n",
       "  </thead>\n",
       "  <tbody>\n",
       "    <tr>\n",
       "      <th>cnt_payment</th>\n",
       "      <td>1.000000</td>\n",
       "      <td>0.087195</td>\n",
       "    </tr>\n",
       "    <tr>\n",
       "      <th>TARGET</th>\n",
       "      <td>0.087195</td>\n",
       "      <td>1.000000</td>\n",
       "    </tr>\n",
       "  </tbody>\n",
       "</table>\n",
       "</div>"
      ],
      "text/plain": [
       "             cnt_payment    TARGET\n",
       "cnt_payment     1.000000  0.087195\n",
       "TARGET          0.087195  1.000000"
      ]
     },
     "execution_count": 76,
     "metadata": {},
     "output_type": "execute_result"
    }
   ],
   "source": [
    "app_train[['cnt_payment', 'TARGET']].corr()"
   ]
  },
  {
   "cell_type": "markdown",
   "id": "40bc737a",
   "metadata": {},
   "source": [
    "### name_yield_group"
   ]
  },
  {
   "cell_type": "code",
   "execution_count": 77,
   "id": "bc5f701e",
   "metadata": {},
   "outputs": [],
   "source": [
    "columns = ['low_normal', 'middle', 'high', 'low_action']\n",
    "app_train['name_yield_group'].replace(columns, [1, 2, 3, 4], inplace=True)\n",
    "app_test['name_yield_group'].replace(columns, [1, 2, 3, 4], inplace=True)"
   ]
  },
  {
   "cell_type": "code",
   "execution_count": 78,
   "id": "c6838e53",
   "metadata": {},
   "outputs": [
    {
     "data": {
      "text/plain": [
       "1.0    30665\n",
       "2.0    23275\n",
       "3.0     6085\n",
       "4.0     5158\n",
       "Name: name_yield_group, dtype: int64"
      ]
     },
     "execution_count": 78,
     "metadata": {},
     "output_type": "execute_result"
    }
   ],
   "source": [
    "app_train['name_yield_group'].value_counts()"
   ]
  },
  {
   "cell_type": "code",
   "execution_count": 79,
   "id": "86e821f1",
   "metadata": {},
   "outputs": [
    {
     "data": {
      "text/html": [
       "<div>\n",
       "<style scoped>\n",
       "    .dataframe tbody tr th:only-of-type {\n",
       "        vertical-align: middle;\n",
       "    }\n",
       "\n",
       "    .dataframe tbody tr th {\n",
       "        vertical-align: top;\n",
       "    }\n",
       "\n",
       "    .dataframe thead th {\n",
       "        text-align: right;\n",
       "    }\n",
       "</style>\n",
       "<table border=\"1\" class=\"dataframe\">\n",
       "  <thead>\n",
       "    <tr style=\"text-align: right;\">\n",
       "      <th></th>\n",
       "      <th>name_yield_group</th>\n",
       "      <th>TARGET</th>\n",
       "    </tr>\n",
       "  </thead>\n",
       "  <tbody>\n",
       "    <tr>\n",
       "      <th>name_yield_group</th>\n",
       "      <td>1.000000</td>\n",
       "      <td>0.013701</td>\n",
       "    </tr>\n",
       "    <tr>\n",
       "      <th>TARGET</th>\n",
       "      <td>0.013701</td>\n",
       "      <td>1.000000</td>\n",
       "    </tr>\n",
       "  </tbody>\n",
       "</table>\n",
       "</div>"
      ],
      "text/plain": [
       "                  name_yield_group    TARGET\n",
       "name_yield_group          1.000000  0.013701\n",
       "TARGET                    0.013701  1.000000"
      ]
     },
     "execution_count": 79,
     "metadata": {},
     "output_type": "execute_result"
    }
   ],
   "source": [
    "app_train[['name_yield_group', 'TARGET']].corr()"
   ]
  },
  {
   "cell_type": "markdown",
   "id": "079d933a",
   "metadata": {},
   "source": [
    "### product_combination"
   ]
  },
  {
   "cell_type": "code",
   "execution_count": 80,
   "id": "6c2d677b",
   "metadata": {},
   "outputs": [],
   "source": [
    "columns = ['Cash X-Sell: low', 'Cash X-Sell: middle', 'Cash X-Sell: high', 'Cash Street: low', 'Cash Street: middle', 'Cash Street: high']\n",
    "app_train['product_combination'].replace(columns, [1, 2, 3, 4, 5, 6], inplace=True)\n",
    "app_test['product_combination'].replace(columns, [1, 2, 3, 4, 5, 6], inplace=True)"
   ]
  },
  {
   "cell_type": "code",
   "execution_count": 81,
   "id": "e841176d",
   "metadata": {},
   "outputs": [
    {
     "data": {
      "text/plain": [
       "1.0    33502\n",
       "2.0    21186\n",
       "3.0     4314\n",
       "4.0     2321\n",
       "5.0     2089\n",
       "6.0     1771\n",
       "Name: product_combination, dtype: int64"
      ]
     },
     "execution_count": 81,
     "metadata": {},
     "output_type": "execute_result"
    }
   ],
   "source": [
    "app_train['product_combination'].value_counts()"
   ]
  },
  {
   "cell_type": "code",
   "execution_count": 82,
   "id": "99d7428a",
   "metadata": {},
   "outputs": [
    {
     "data": {
      "text/html": [
       "<div>\n",
       "<style scoped>\n",
       "    .dataframe tbody tr th:only-of-type {\n",
       "        vertical-align: middle;\n",
       "    }\n",
       "\n",
       "    .dataframe tbody tr th {\n",
       "        vertical-align: top;\n",
       "    }\n",
       "\n",
       "    .dataframe thead th {\n",
       "        text-align: right;\n",
       "    }\n",
       "</style>\n",
       "<table border=\"1\" class=\"dataframe\">\n",
       "  <thead>\n",
       "    <tr style=\"text-align: right;\">\n",
       "      <th></th>\n",
       "      <th>product_combination</th>\n",
       "      <th>TARGET</th>\n",
       "    </tr>\n",
       "  </thead>\n",
       "  <tbody>\n",
       "    <tr>\n",
       "      <th>product_combination</th>\n",
       "      <td>1.00000</td>\n",
       "      <td>0.06612</td>\n",
       "    </tr>\n",
       "    <tr>\n",
       "      <th>TARGET</th>\n",
       "      <td>0.06612</td>\n",
       "      <td>1.00000</td>\n",
       "    </tr>\n",
       "  </tbody>\n",
       "</table>\n",
       "</div>"
      ],
      "text/plain": [
       "                     product_combination   TARGET\n",
       "product_combination              1.00000  0.06612\n",
       "TARGET                           0.06612  1.00000"
      ]
     },
     "execution_count": 82,
     "metadata": {},
     "output_type": "execute_result"
    }
   ],
   "source": [
    "app_train[['product_combination', 'TARGET']].corr()"
   ]
  },
  {
   "cell_type": "markdown",
   "id": "1f392962",
   "metadata": {},
   "source": [
    "### days_first_drawing"
   ]
  },
  {
   "cell_type": "code",
   "execution_count": 83,
   "id": "e03b6f5f",
   "metadata": {},
   "outputs": [
    {
     "data": {
      "text/plain": [
       "365243.0    65165\n",
       "Name: days_first_drawing, dtype: int64"
      ]
     },
     "execution_count": 83,
     "metadata": {},
     "output_type": "execute_result"
    }
   ],
   "source": [
    "app_train['days_first_drawing'].value_counts()"
   ]
  },
  {
   "cell_type": "code",
   "execution_count": 84,
   "id": "19e872da",
   "metadata": {},
   "outputs": [],
   "source": [
    "app_train.drop(['days_first_drawing'], axis=1, inplace=True)\n",
    "app_test.drop(['days_first_drawing'], axis=1, inplace=True)"
   ]
  },
  {
   "cell_type": "code",
   "execution_count": 85,
   "id": "fcc3dc08",
   "metadata": {},
   "outputs": [],
   "source": [
    "### days_first_due"
   ]
  },
  {
   "cell_type": "code",
   "execution_count": 86,
   "id": "f8753e34",
   "metadata": {},
   "outputs": [
    {
     "data": {
      "text/plain": [
       "-214.0     235\n",
       "-215.0     219\n",
       "-158.0     213\n",
       "-153.0     210\n",
       "-184.0     204\n",
       "          ... \n",
       "-1143.0      1\n",
       "-1498.0      1\n",
       "-1098.0      1\n",
       "-1371.0      1\n",
       "-1327.0      1\n",
       "Name: days_first_due, Length: 1353, dtype: int64"
      ]
     },
     "execution_count": 86,
     "metadata": {},
     "output_type": "execute_result"
    }
   ],
   "source": [
    "app_train['days_first_due'].value_counts()"
   ]
  },
  {
   "cell_type": "code",
   "execution_count": 87,
   "id": "d181bca4",
   "metadata": {},
   "outputs": [
    {
     "data": {
      "text/html": [
       "<div>\n",
       "<style scoped>\n",
       "    .dataframe tbody tr th:only-of-type {\n",
       "        vertical-align: middle;\n",
       "    }\n",
       "\n",
       "    .dataframe tbody tr th {\n",
       "        vertical-align: top;\n",
       "    }\n",
       "\n",
       "    .dataframe thead th {\n",
       "        text-align: right;\n",
       "    }\n",
       "</style>\n",
       "<table border=\"1\" class=\"dataframe\">\n",
       "  <thead>\n",
       "    <tr style=\"text-align: right;\">\n",
       "      <th></th>\n",
       "      <th>days_first_due</th>\n",
       "      <th>TARGET</th>\n",
       "    </tr>\n",
       "  </thead>\n",
       "  <tbody>\n",
       "    <tr>\n",
       "      <th>days_first_due</th>\n",
       "      <td>1.000000</td>\n",
       "      <td>-0.006513</td>\n",
       "    </tr>\n",
       "    <tr>\n",
       "      <th>TARGET</th>\n",
       "      <td>-0.006513</td>\n",
       "      <td>1.000000</td>\n",
       "    </tr>\n",
       "  </tbody>\n",
       "</table>\n",
       "</div>"
      ],
      "text/plain": [
       "                days_first_due    TARGET\n",
       "days_first_due        1.000000 -0.006513\n",
       "TARGET               -0.006513  1.000000"
      ]
     },
     "execution_count": 87,
     "metadata": {},
     "output_type": "execute_result"
    }
   ],
   "source": [
    "app_train[['days_first_due', 'TARGET']].corr()"
   ]
  },
  {
   "cell_type": "markdown",
   "id": "972bfd7f",
   "metadata": {},
   "source": [
    "### days_last_due_1st_version"
   ]
  },
  {
   "cell_type": "code",
   "execution_count": 88,
   "id": "4663ffda",
   "metadata": {},
   "outputs": [
    {
     "data": {
      "text/plain": [
       "-12.0      149\n",
       "-8.0       143\n",
       " 85.0      142\n",
       "-4.0       138\n",
       "-13.0      132\n",
       "          ... \n",
       "-2254.0      1\n",
       " 1750.0      1\n",
       " 1743.0      1\n",
       " 1778.0      1\n",
       " 1781.0      1\n",
       "Name: days_last_due_1st_version, Length: 1840, dtype: int64"
      ]
     },
     "execution_count": 88,
     "metadata": {},
     "output_type": "execute_result"
    }
   ],
   "source": [
    "app_train['days_last_due_1st_version'].value_counts()"
   ]
  },
  {
   "cell_type": "code",
   "execution_count": 89,
   "id": "f91f557c",
   "metadata": {},
   "outputs": [
    {
     "data": {
      "text/html": [
       "<div>\n",
       "<style scoped>\n",
       "    .dataframe tbody tr th:only-of-type {\n",
       "        vertical-align: middle;\n",
       "    }\n",
       "\n",
       "    .dataframe tbody tr th {\n",
       "        vertical-align: top;\n",
       "    }\n",
       "\n",
       "    .dataframe thead th {\n",
       "        text-align: right;\n",
       "    }\n",
       "</style>\n",
       "<table border=\"1\" class=\"dataframe\">\n",
       "  <thead>\n",
       "    <tr style=\"text-align: right;\">\n",
       "      <th></th>\n",
       "      <th>days_last_due_1st_version</th>\n",
       "      <th>TARGET</th>\n",
       "    </tr>\n",
       "  </thead>\n",
       "  <tbody>\n",
       "    <tr>\n",
       "      <th>days_last_due_1st_version</th>\n",
       "      <td>1.000000</td>\n",
       "      <td>0.081611</td>\n",
       "    </tr>\n",
       "    <tr>\n",
       "      <th>TARGET</th>\n",
       "      <td>0.081611</td>\n",
       "      <td>1.000000</td>\n",
       "    </tr>\n",
       "  </tbody>\n",
       "</table>\n",
       "</div>"
      ],
      "text/plain": [
       "                           days_last_due_1st_version    TARGET\n",
       "days_last_due_1st_version                   1.000000  0.081611\n",
       "TARGET                                      0.081611  1.000000"
      ]
     },
     "execution_count": 89,
     "metadata": {},
     "output_type": "execute_result"
    }
   ],
   "source": [
    "app_train[['days_last_due_1st_version', 'TARGET']].corr()"
   ]
  },
  {
   "cell_type": "code",
   "execution_count": 90,
   "id": "715751b8",
   "metadata": {},
   "outputs": [],
   "source": [
    "### days_last_due"
   ]
  },
  {
   "cell_type": "code",
   "execution_count": 91,
   "id": "9aa39627",
   "metadata": {},
   "outputs": [
    {
     "data": {
      "text/plain": [
       " 365243.0    57669\n",
       "-10.0          265\n",
       "-12.0          255\n",
       "-13.0          254\n",
       "-6.0           248\n",
       "             ...  \n",
       "-2086.0          1\n",
       "-2041.0          1\n",
       "-67.0            1\n",
       "-222.0           1\n",
       "-1348.0          1\n",
       "Name: days_last_due, Length: 93, dtype: int64"
      ]
     },
     "execution_count": 91,
     "metadata": {},
     "output_type": "execute_result"
    }
   ],
   "source": [
    "app_train['days_last_due'].value_counts()"
   ]
  },
  {
   "cell_type": "code",
   "execution_count": 92,
   "id": "800097c3",
   "metadata": {},
   "outputs": [
    {
     "data": {
      "text/html": [
       "<div>\n",
       "<style scoped>\n",
       "    .dataframe tbody tr th:only-of-type {\n",
       "        vertical-align: middle;\n",
       "    }\n",
       "\n",
       "    .dataframe tbody tr th {\n",
       "        vertical-align: top;\n",
       "    }\n",
       "\n",
       "    .dataframe thead th {\n",
       "        text-align: right;\n",
       "    }\n",
       "</style>\n",
       "<table border=\"1\" class=\"dataframe\">\n",
       "  <thead>\n",
       "    <tr style=\"text-align: right;\">\n",
       "      <th></th>\n",
       "      <th>days_last_due</th>\n",
       "      <th>TARGET</th>\n",
       "    </tr>\n",
       "  </thead>\n",
       "  <tbody>\n",
       "    <tr>\n",
       "      <th>days_last_due</th>\n",
       "      <td>1.000000</td>\n",
       "      <td>0.035038</td>\n",
       "    </tr>\n",
       "    <tr>\n",
       "      <th>TARGET</th>\n",
       "      <td>0.035038</td>\n",
       "      <td>1.000000</td>\n",
       "    </tr>\n",
       "  </tbody>\n",
       "</table>\n",
       "</div>"
      ],
      "text/plain": [
       "               days_last_due    TARGET\n",
       "days_last_due       1.000000  0.035038\n",
       "TARGET              0.035038  1.000000"
      ]
     },
     "execution_count": 92,
     "metadata": {},
     "output_type": "execute_result"
    }
   ],
   "source": [
    "app_train[['days_last_due', 'TARGET']].corr()"
   ]
  },
  {
   "cell_type": "markdown",
   "id": "01b5aab9",
   "metadata": {},
   "source": [
    "### days_termination"
   ]
  },
  {
   "cell_type": "code",
   "execution_count": 93,
   "id": "446297e3",
   "metadata": {},
   "outputs": [
    {
     "data": {
      "text/plain": [
       " 365243.0    58660\n",
       "-2.0           298\n",
       "-5.0           276\n",
       "-3.0           261\n",
       "-4.0           246\n",
       "             ...  \n",
       "-153.0           1\n",
       "-1628.0          1\n",
       "-1504.0          1\n",
       "-1632.0          1\n",
       "-1554.0          1\n",
       "Name: days_termination, Length: 65, dtype: int64"
      ]
     },
     "execution_count": 93,
     "metadata": {},
     "output_type": "execute_result"
    }
   ],
   "source": [
    "app_train['days_termination'].value_counts()"
   ]
  },
  {
   "cell_type": "code",
   "execution_count": 94,
   "id": "0c5242e6",
   "metadata": {},
   "outputs": [
    {
     "data": {
      "text/html": [
       "<div>\n",
       "<style scoped>\n",
       "    .dataframe tbody tr th:only-of-type {\n",
       "        vertical-align: middle;\n",
       "    }\n",
       "\n",
       "    .dataframe tbody tr th {\n",
       "        vertical-align: top;\n",
       "    }\n",
       "\n",
       "    .dataframe thead th {\n",
       "        text-align: right;\n",
       "    }\n",
       "</style>\n",
       "<table border=\"1\" class=\"dataframe\">\n",
       "  <thead>\n",
       "    <tr style=\"text-align: right;\">\n",
       "      <th></th>\n",
       "      <th>days_termination</th>\n",
       "      <th>TARGET</th>\n",
       "    </tr>\n",
       "  </thead>\n",
       "  <tbody>\n",
       "    <tr>\n",
       "      <th>days_termination</th>\n",
       "      <td>1.000000</td>\n",
       "      <td>0.032303</td>\n",
       "    </tr>\n",
       "    <tr>\n",
       "      <th>TARGET</th>\n",
       "      <td>0.032303</td>\n",
       "      <td>1.000000</td>\n",
       "    </tr>\n",
       "  </tbody>\n",
       "</table>\n",
       "</div>"
      ],
      "text/plain": [
       "                  days_termination    TARGET\n",
       "days_termination          1.000000  0.032303\n",
       "TARGET                    0.032303  1.000000"
      ]
     },
     "execution_count": 94,
     "metadata": {},
     "output_type": "execute_result"
    }
   ],
   "source": [
    "app_train[['days_termination', 'TARGET']].corr()"
   ]
  },
  {
   "cell_type": "markdown",
   "id": "09b80ffd",
   "metadata": {},
   "source": [
    "### nflag_insured_on_approval"
   ]
  },
  {
   "cell_type": "code",
   "execution_count": 95,
   "id": "47a98659",
   "metadata": {},
   "outputs": [
    {
     "data": {
      "text/plain": [
       "1.0    51790\n",
       "0.0    13375\n",
       "Name: nflag_insured_on_approval, dtype: int64"
      ]
     },
     "execution_count": 95,
     "metadata": {},
     "output_type": "execute_result"
    }
   ],
   "source": [
    "app_train['nflag_insured_on_approval'].value_counts()"
   ]
  },
  {
   "cell_type": "code",
   "execution_count": 96,
   "id": "93aef4c3",
   "metadata": {},
   "outputs": [
    {
     "data": {
      "text/html": [
       "<div>\n",
       "<style scoped>\n",
       "    .dataframe tbody tr th:only-of-type {\n",
       "        vertical-align: middle;\n",
       "    }\n",
       "\n",
       "    .dataframe tbody tr th {\n",
       "        vertical-align: top;\n",
       "    }\n",
       "\n",
       "    .dataframe thead th {\n",
       "        text-align: right;\n",
       "    }\n",
       "</style>\n",
       "<table border=\"1\" class=\"dataframe\">\n",
       "  <thead>\n",
       "    <tr style=\"text-align: right;\">\n",
       "      <th></th>\n",
       "      <th>nflag_insured_on_approval</th>\n",
       "      <th>TARGET</th>\n",
       "    </tr>\n",
       "  </thead>\n",
       "  <tbody>\n",
       "    <tr>\n",
       "      <th>nflag_insured_on_approval</th>\n",
       "      <td>1.000000</td>\n",
       "      <td>0.014934</td>\n",
       "    </tr>\n",
       "    <tr>\n",
       "      <th>TARGET</th>\n",
       "      <td>0.014934</td>\n",
       "      <td>1.000000</td>\n",
       "    </tr>\n",
       "  </tbody>\n",
       "</table>\n",
       "</div>"
      ],
      "text/plain": [
       "                           nflag_insured_on_approval    TARGET\n",
       "nflag_insured_on_approval                   1.000000  0.014934\n",
       "TARGET                                      0.014934  1.000000"
      ]
     },
     "execution_count": 96,
     "metadata": {},
     "output_type": "execute_result"
    }
   ],
   "source": [
    "app_train[['nflag_insured_on_approval', 'TARGET']].corr()"
   ]
  },
  {
   "cell_type": "markdown",
   "id": "744303a3",
   "metadata": {},
   "source": [
    "### max_sk_dpd"
   ]
  },
  {
   "cell_type": "code",
   "execution_count": 97,
   "id": "ff16d044",
   "metadata": {},
   "outputs": [
    {
     "data": {
      "text/plain": [
       "0.0       64057\n",
       "1.0         233\n",
       "2.0         165\n",
       "3.0         101\n",
       "4.0          67\n",
       "          ...  \n",
       "1956.0        1\n",
       "2186.0        1\n",
       "23.0          1\n",
       "51.0          1\n",
       "76.0          1\n",
       "Name: max_sk_dpd, Length: 92, dtype: int64"
      ]
     },
     "execution_count": 97,
     "metadata": {},
     "output_type": "execute_result"
    }
   ],
   "source": [
    "app_train['max_sk_dpd'].value_counts()"
   ]
  },
  {
   "cell_type": "code",
   "execution_count": 98,
   "id": "38a2832c",
   "metadata": {},
   "outputs": [
    {
     "data": {
      "text/html": [
       "<div>\n",
       "<style scoped>\n",
       "    .dataframe tbody tr th:only-of-type {\n",
       "        vertical-align: middle;\n",
       "    }\n",
       "\n",
       "    .dataframe tbody tr th {\n",
       "        vertical-align: top;\n",
       "    }\n",
       "\n",
       "    .dataframe thead th {\n",
       "        text-align: right;\n",
       "    }\n",
       "</style>\n",
       "<table border=\"1\" class=\"dataframe\">\n",
       "  <thead>\n",
       "    <tr style=\"text-align: right;\">\n",
       "      <th></th>\n",
       "      <th>max_sk_dpd</th>\n",
       "      <th>TARGET</th>\n",
       "    </tr>\n",
       "  </thead>\n",
       "  <tbody>\n",
       "    <tr>\n",
       "      <th>max_sk_dpd</th>\n",
       "      <td>1.000000</td>\n",
       "      <td>0.025752</td>\n",
       "    </tr>\n",
       "    <tr>\n",
       "      <th>TARGET</th>\n",
       "      <td>0.025752</td>\n",
       "      <td>1.000000</td>\n",
       "    </tr>\n",
       "  </tbody>\n",
       "</table>\n",
       "</div>"
      ],
      "text/plain": [
       "            max_sk_dpd    TARGET\n",
       "max_sk_dpd    1.000000  0.025752\n",
       "TARGET        0.025752  1.000000"
      ]
     },
     "execution_count": 98,
     "metadata": {},
     "output_type": "execute_result"
    }
   ],
   "source": [
    "app_train[['max_sk_dpd', 'TARGET']].corr()"
   ]
  },
  {
   "cell_type": "markdown",
   "id": "3709637e",
   "metadata": {},
   "source": [
    "### installment_payment_ratio_1000_mean_mean"
   ]
  },
  {
   "cell_type": "code",
   "execution_count": 99,
   "id": "4eab44c6",
   "metadata": {},
   "outputs": [
    {
     "data": {
      "text/plain": [
       " 0.000000        122077\n",
       " 22500.000000       188\n",
       " 45000.000000       173\n",
       " 15000.000000       119\n",
       " 11250.000000       112\n",
       "                  ...  \n",
       "-2107.052308          1\n",
       "-3896.720455          1\n",
       "-8035.937500          1\n",
       " 21.457500            1\n",
       "-3208.130000          1\n",
       "Name: installment_payment_ratio_1000_mean_mean, Length: 62960, dtype: int64"
      ]
     },
     "execution_count": 99,
     "metadata": {},
     "output_type": "execute_result"
    }
   ],
   "source": [
    "app_train['installment_payment_ratio_1000_mean_mean'].value_counts()"
   ]
  },
  {
   "cell_type": "code",
   "execution_count": 100,
   "id": "8b05d990",
   "metadata": {},
   "outputs": [
    {
     "data": {
      "text/plain": [
       "0                  NaN\n",
       "1             0.000000\n",
       "2                  NaN\n",
       "3             0.000000\n",
       "4             0.000000\n",
       "              ...     \n",
       "385697             NaN\n",
       "385698             NaN\n",
       "385699    -6560.244000\n",
       "385700    19285.961897\n",
       "385701    -3208.130000\n",
       "Name: installment_payment_ratio_1000_mean_mean, Length: 385702, dtype: float64"
      ]
     },
     "execution_count": 100,
     "metadata": {},
     "output_type": "execute_result"
    }
   ],
   "source": [
    "app_train['installment_payment_ratio_1000_mean_mean']"
   ]
  },
  {
   "cell_type": "code",
   "execution_count": 101,
   "id": "580048f3",
   "metadata": {},
   "outputs": [
    {
     "data": {
      "text/html": [
       "<div>\n",
       "<style scoped>\n",
       "    .dataframe tbody tr th:only-of-type {\n",
       "        vertical-align: middle;\n",
       "    }\n",
       "\n",
       "    .dataframe tbody tr th {\n",
       "        vertical-align: top;\n",
       "    }\n",
       "\n",
       "    .dataframe thead th {\n",
       "        text-align: right;\n",
       "    }\n",
       "</style>\n",
       "<table border=\"1\" class=\"dataframe\">\n",
       "  <thead>\n",
       "    <tr style=\"text-align: right;\">\n",
       "      <th></th>\n",
       "      <th>installment_payment_ratio_1000_mean_mean</th>\n",
       "      <th>TARGET</th>\n",
       "    </tr>\n",
       "  </thead>\n",
       "  <tbody>\n",
       "    <tr>\n",
       "      <th>installment_payment_ratio_1000_mean_mean</th>\n",
       "      <td>1.000000</td>\n",
       "      <td>-0.022478</td>\n",
       "    </tr>\n",
       "    <tr>\n",
       "      <th>TARGET</th>\n",
       "      <td>-0.022478</td>\n",
       "      <td>1.000000</td>\n",
       "    </tr>\n",
       "  </tbody>\n",
       "</table>\n",
       "</div>"
      ],
      "text/plain": [
       "                                          installment_payment_ratio_1000_mean_mean  \\\n",
       "installment_payment_ratio_1000_mean_mean                                  1.000000   \n",
       "TARGET                                                                   -0.022478   \n",
       "\n",
       "                                            TARGET  \n",
       "installment_payment_ratio_1000_mean_mean -0.022478  \n",
       "TARGET                                    1.000000  "
      ]
     },
     "execution_count": 101,
     "metadata": {},
     "output_type": "execute_result"
    }
   ],
   "source": [
    "app_train[['installment_payment_ratio_1000_mean_mean', 'TARGET']].corr()"
   ]
  },
  {
   "cell_type": "code",
   "execution_count": 117,
   "id": "e74b720a",
   "metadata": {},
   "outputs": [
    {
     "data": {
      "text/plain": [
       "385702"
      ]
     },
     "execution_count": 117,
     "metadata": {},
     "output_type": "execute_result"
    }
   ],
   "source": [
    "len(app_train)"
   ]
  },
  {
   "cell_type": "code",
   "execution_count": 118,
   "id": "b2885ffd",
   "metadata": {},
   "outputs": [
    {
     "data": {
      "text/plain": [
       "61811"
      ]
     },
     "execution_count": 118,
     "metadata": {},
     "output_type": "execute_result"
    }
   ],
   "source": [
    "len(app_test)"
   ]
  },
  {
   "cell_type": "code",
   "execution_count": null,
   "id": "7c54ddbf",
   "metadata": {},
   "outputs": [],
   "source": [
    "### "
   ]
  },
  {
   "cell_type": "code",
   "execution_count": 102,
   "id": "f14b1085",
   "metadata": {},
   "outputs": [
    {
     "data": {
      "text/html": [
       "<div>\n",
       "<style scoped>\n",
       "    .dataframe tbody tr th:only-of-type {\n",
       "        vertical-align: middle;\n",
       "    }\n",
       "\n",
       "    .dataframe tbody tr th {\n",
       "        vertical-align: top;\n",
       "    }\n",
       "\n",
       "    .dataframe thead th {\n",
       "        text-align: right;\n",
       "    }\n",
       "</style>\n",
       "<table border=\"1\" class=\"dataframe\">\n",
       "  <thead>\n",
       "    <tr style=\"text-align: right;\">\n",
       "      <th></th>\n",
       "      <th>SK_ID_CURR</th>\n",
       "      <th>EXT_SOURCE_1</th>\n",
       "      <th>EXT_SOURCE_2</th>\n",
       "      <th>EXT_SOURCE_3</th>\n",
       "      <th>amt_annuity</th>\n",
       "      <th>amt_application</th>\n",
       "      <th>amt_credit</th>\n",
       "      <th>amt_down_payment</th>\n",
       "      <th>amt_goods_price</th>\n",
       "      <th>weekday_appr_process_start</th>\n",
       "      <th>...</th>\n",
       "      <th>cnt_payment</th>\n",
       "      <th>name_yield_group</th>\n",
       "      <th>product_combination</th>\n",
       "      <th>days_first_due</th>\n",
       "      <th>days_last_due_1st_version</th>\n",
       "      <th>days_last_due</th>\n",
       "      <th>days_termination</th>\n",
       "      <th>nflag_insured_on_approval</th>\n",
       "      <th>max_sk_dpd</th>\n",
       "      <th>installment_payment_ratio_1000_mean_mean</th>\n",
       "    </tr>\n",
       "  </thead>\n",
       "  <tbody>\n",
       "    <tr>\n",
       "      <th>0</th>\n",
       "      <td>100002</td>\n",
       "      <td>0.083037</td>\n",
       "      <td>0.262949</td>\n",
       "      <td>0.139376</td>\n",
       "      <td>NaN</td>\n",
       "      <td>NaN</td>\n",
       "      <td>NaN</td>\n",
       "      <td>NaN</td>\n",
       "      <td>NaN</td>\n",
       "      <td>NaN</td>\n",
       "      <td>...</td>\n",
       "      <td>NaN</td>\n",
       "      <td>NaN</td>\n",
       "      <td>NaN</td>\n",
       "      <td>NaN</td>\n",
       "      <td>NaN</td>\n",
       "      <td>NaN</td>\n",
       "      <td>NaN</td>\n",
       "      <td>NaN</td>\n",
       "      <td>NaN</td>\n",
       "      <td>NaN</td>\n",
       "    </tr>\n",
       "    <tr>\n",
       "      <th>1</th>\n",
       "      <td>100003</td>\n",
       "      <td>0.311267</td>\n",
       "      <td>0.622246</td>\n",
       "      <td>NaN</td>\n",
       "      <td>NaN</td>\n",
       "      <td>NaN</td>\n",
       "      <td>NaN</td>\n",
       "      <td>NaN</td>\n",
       "      <td>NaN</td>\n",
       "      <td>NaN</td>\n",
       "      <td>...</td>\n",
       "      <td>NaN</td>\n",
       "      <td>NaN</td>\n",
       "      <td>NaN</td>\n",
       "      <td>NaN</td>\n",
       "      <td>NaN</td>\n",
       "      <td>NaN</td>\n",
       "      <td>NaN</td>\n",
       "      <td>NaN</td>\n",
       "      <td>NaN</td>\n",
       "      <td>0.0</td>\n",
       "    </tr>\n",
       "    <tr>\n",
       "      <th>2</th>\n",
       "      <td>100004</td>\n",
       "      <td>NaN</td>\n",
       "      <td>0.555912</td>\n",
       "      <td>0.729567</td>\n",
       "      <td>NaN</td>\n",
       "      <td>NaN</td>\n",
       "      <td>NaN</td>\n",
       "      <td>NaN</td>\n",
       "      <td>NaN</td>\n",
       "      <td>NaN</td>\n",
       "      <td>...</td>\n",
       "      <td>NaN</td>\n",
       "      <td>NaN</td>\n",
       "      <td>NaN</td>\n",
       "      <td>NaN</td>\n",
       "      <td>NaN</td>\n",
       "      <td>NaN</td>\n",
       "      <td>NaN</td>\n",
       "      <td>NaN</td>\n",
       "      <td>NaN</td>\n",
       "      <td>NaN</td>\n",
       "    </tr>\n",
       "    <tr>\n",
       "      <th>3</th>\n",
       "      <td>100006</td>\n",
       "      <td>NaN</td>\n",
       "      <td>0.650442</td>\n",
       "      <td>NaN</td>\n",
       "      <td>NaN</td>\n",
       "      <td>NaN</td>\n",
       "      <td>NaN</td>\n",
       "      <td>NaN</td>\n",
       "      <td>NaN</td>\n",
       "      <td>NaN</td>\n",
       "      <td>...</td>\n",
       "      <td>NaN</td>\n",
       "      <td>NaN</td>\n",
       "      <td>NaN</td>\n",
       "      <td>NaN</td>\n",
       "      <td>NaN</td>\n",
       "      <td>NaN</td>\n",
       "      <td>NaN</td>\n",
       "      <td>NaN</td>\n",
       "      <td>NaN</td>\n",
       "      <td>0.0</td>\n",
       "    </tr>\n",
       "    <tr>\n",
       "      <th>4</th>\n",
       "      <td>100007</td>\n",
       "      <td>NaN</td>\n",
       "      <td>0.322738</td>\n",
       "      <td>NaN</td>\n",
       "      <td>16037.64</td>\n",
       "      <td>247500.0</td>\n",
       "      <td>274288.5</td>\n",
       "      <td>0.0</td>\n",
       "      <td>247500.0</td>\n",
       "      <td>2.0</td>\n",
       "      <td>...</td>\n",
       "      <td>24.0</td>\n",
       "      <td>2.0</td>\n",
       "      <td>2.0</td>\n",
       "      <td>-344.0</td>\n",
       "      <td>346.0</td>\n",
       "      <td>365243.0</td>\n",
       "      <td>365243.0</td>\n",
       "      <td>1.0</td>\n",
       "      <td>0.0</td>\n",
       "      <td>0.0</td>\n",
       "    </tr>\n",
       "  </tbody>\n",
       "</table>\n",
       "<p>5 rows × 33 columns</p>\n",
       "</div>"
      ],
      "text/plain": [
       "   SK_ID_CURR  EXT_SOURCE_1  EXT_SOURCE_2  EXT_SOURCE_3  amt_annuity  \\\n",
       "0      100002      0.083037      0.262949      0.139376          NaN   \n",
       "1      100003      0.311267      0.622246           NaN          NaN   \n",
       "2      100004           NaN      0.555912      0.729567          NaN   \n",
       "3      100006           NaN      0.650442           NaN          NaN   \n",
       "4      100007           NaN      0.322738           NaN     16037.64   \n",
       "\n",
       "   amt_application  amt_credit  amt_down_payment  amt_goods_price  \\\n",
       "0              NaN         NaN               NaN              NaN   \n",
       "1              NaN         NaN               NaN              NaN   \n",
       "2              NaN         NaN               NaN              NaN   \n",
       "3              NaN         NaN               NaN              NaN   \n",
       "4         247500.0    274288.5               0.0         247500.0   \n",
       "\n",
       "   weekday_appr_process_start  ...  cnt_payment  name_yield_group  \\\n",
       "0                         NaN  ...          NaN               NaN   \n",
       "1                         NaN  ...          NaN               NaN   \n",
       "2                         NaN  ...          NaN               NaN   \n",
       "3                         NaN  ...          NaN               NaN   \n",
       "4                         2.0  ...         24.0               2.0   \n",
       "\n",
       "   product_combination  days_first_due  days_last_due_1st_version  \\\n",
       "0                  NaN             NaN                        NaN   \n",
       "1                  NaN             NaN                        NaN   \n",
       "2                  NaN             NaN                        NaN   \n",
       "3                  NaN             NaN                        NaN   \n",
       "4                  2.0          -344.0                      346.0   \n",
       "\n",
       "   days_last_due  days_termination  nflag_insured_on_approval  max_sk_dpd  \\\n",
       "0            NaN               NaN                        NaN         NaN   \n",
       "1            NaN               NaN                        NaN         NaN   \n",
       "2            NaN               NaN                        NaN         NaN   \n",
       "3            NaN               NaN                        NaN         NaN   \n",
       "4       365243.0          365243.0                        1.0         0.0   \n",
       "\n",
       "   installment_payment_ratio_1000_mean_mean  \n",
       "0                                       NaN  \n",
       "1                                       0.0  \n",
       "2                                       NaN  \n",
       "3                                       0.0  \n",
       "4                                       0.0  \n",
       "\n",
       "[5 rows x 33 columns]"
      ]
     },
     "execution_count": 102,
     "metadata": {},
     "output_type": "execute_result"
    }
   ],
   "source": [
    "#num_cols = ['max_credit_day_overdue', 'max_days_credit_enddate', 'min_days_enddate_fact', 'max_amt_credit_max_overdue', 'cnt_credit_prolong_in_6month', 'sum_amt_credit_sum', 'sum_amt_credit_sum_debt', 'sum_amt_credit_sum_limit', 'sum_amt_credit_sum_overdue', 'avg_amt_annuity']\n",
    "\n",
    "data = pd.concat([app_train, app_test], sort=False)\n",
    "train = data[:len(app_train)]\n",
    "test = data[len(app_test):]\n",
    "\n",
    "\n",
    "y_train = train['TARGET']\n",
    "X_train = app_train.copy().drop('TARGET', axis=1)\n",
    "X_test = app_test.copy()\n",
    "\n",
    "# 学習データに基づいてYao-Johnson変換を定義\n",
    "#pt = PowerTransformer(method = 'yeo-johnson')\n",
    "#pt.fit(X_train[num_cols])\n",
    "\n",
    "# 変換後のデータで各列を置換\n",
    "#X_train[num_cols] = pt.transform(X_train[num_cols])\n",
    "#X_test[num_cols] = pt.transform(X_test[num_cols])\n",
    "\n",
    "X_train.head()"
   ]
  },
  {
   "cell_type": "code",
   "execution_count": 103,
   "id": "53ecbcd7",
   "metadata": {},
   "outputs": [
    {
     "name": "stdout",
     "output_type": "stream",
     "text": [
      "[00:24:51] WARNING: C:/Users/Administrator/workspace/xgboost-win64_release_1.6.0/src/learner.cc:627: \n",
      "Parameters: { \"silent\" } might not be used.\n",
      "\n",
      "  This could be a false alarm, with some parameters getting used by language bindings but\n",
      "  then being mistakenly passed down to XGBoost core, or some parameter actually being used\n",
      "  but getting flagged wrongly here. Please open an issue if you find any such cases.\n",
      "\n",
      "\n",
      "[0]\ttrain-logloss:0.50858\teval-logloss:0.50853\n",
      "[1]\ttrain-logloss:0.40916\teval-logloss:0.40908\n",
      "[2]\ttrain-logloss:0.34984\teval-logloss:0.34976\n",
      "[3]\ttrain-logloss:0.31302\teval-logloss:0.31300\n",
      "[4]\ttrain-logloss:0.28979\teval-logloss:0.28984\n",
      "[5]\ttrain-logloss:0.27506\teval-logloss:0.27517\n",
      "[6]\ttrain-logloss:0.26563\teval-logloss:0.26594\n",
      "[7]\ttrain-logloss:0.25962\teval-logloss:0.26011\n",
      "[8]\ttrain-logloss:0.25574\teval-logloss:0.25646\n",
      "[9]\ttrain-logloss:0.25319\teval-logloss:0.25407\n",
      "[10]\ttrain-logloss:0.25150\teval-logloss:0.25268\n",
      "[11]\ttrain-logloss:0.25030\teval-logloss:0.25164\n",
      "[12]\ttrain-logloss:0.24937\teval-logloss:0.25101\n",
      "[13]\ttrain-logloss:0.24868\teval-logloss:0.25059\n",
      "[14]\ttrain-logloss:0.24801\teval-logloss:0.25029\n",
      "[15]\ttrain-logloss:0.24745\teval-logloss:0.24990\n",
      "[16]\ttrain-logloss:0.24701\teval-logloss:0.24960\n",
      "[17]\ttrain-logloss:0.24661\teval-logloss:0.24947\n",
      "[18]\ttrain-logloss:0.24625\teval-logloss:0.24930\n",
      "[19]\ttrain-logloss:0.24594\teval-logloss:0.24908\n",
      "[20]\ttrain-logloss:0.24561\teval-logloss:0.24883\n",
      "[21]\ttrain-logloss:0.24513\teval-logloss:0.24857\n",
      "[22]\ttrain-logloss:0.24477\teval-logloss:0.24839\n",
      "[23]\ttrain-logloss:0.24458\teval-logloss:0.24826\n",
      "[24]\ttrain-logloss:0.24428\teval-logloss:0.24809\n",
      "[25]\ttrain-logloss:0.24408\teval-logloss:0.24799\n",
      "[26]\ttrain-logloss:0.24392\teval-logloss:0.24797\n",
      "[27]\ttrain-logloss:0.24358\teval-logloss:0.24779\n",
      "[28]\ttrain-logloss:0.24330\teval-logloss:0.24762\n",
      "[29]\ttrain-logloss:0.24315\teval-logloss:0.24758\n",
      "[30]\ttrain-logloss:0.24284\teval-logloss:0.24746\n",
      "[31]\ttrain-logloss:0.24264\teval-logloss:0.24732\n",
      "[32]\ttrain-logloss:0.24230\teval-logloss:0.24724\n",
      "[33]\ttrain-logloss:0.24201\teval-logloss:0.24711\n",
      "[34]\ttrain-logloss:0.24193\teval-logloss:0.24710\n",
      "[35]\ttrain-logloss:0.24170\teval-logloss:0.24704\n",
      "[36]\ttrain-logloss:0.24150\teval-logloss:0.24691\n",
      "[37]\ttrain-logloss:0.24139\teval-logloss:0.24687\n",
      "[38]\ttrain-logloss:0.24111\teval-logloss:0.24673\n",
      "[39]\ttrain-logloss:0.24074\teval-logloss:0.24653\n",
      "[40]\ttrain-logloss:0.24066\teval-logloss:0.24650\n",
      "[41]\ttrain-logloss:0.24042\teval-logloss:0.24633\n",
      "[42]\ttrain-logloss:0.24021\teval-logloss:0.24624\n",
      "[43]\ttrain-logloss:0.23995\teval-logloss:0.24614\n",
      "[44]\ttrain-logloss:0.23968\teval-logloss:0.24602\n",
      "[45]\ttrain-logloss:0.23954\teval-logloss:0.24600\n",
      "[46]\ttrain-logloss:0.23942\teval-logloss:0.24597\n",
      "[47]\ttrain-logloss:0.23921\teval-logloss:0.24583\n",
      "[48]\ttrain-logloss:0.23907\teval-logloss:0.24578\n",
      "[49]\ttrain-logloss:0.23892\teval-logloss:0.24567\n",
      "[00:24:52] WARNING: C:/Users/Administrator/workspace/xgboost-win64_release_1.6.0/src/learner.cc:627: \n",
      "Parameters: { \"silent\" } might not be used.\n",
      "\n",
      "  This could be a false alarm, with some parameters getting used by language bindings but\n",
      "  then being mistakenly passed down to XGBoost core, or some parameter actually being used\n",
      "  but getting flagged wrongly here. Please open an issue if you find any such cases.\n",
      "\n",
      "\n",
      "[0]\ttrain-logloss:0.50840\teval-logloss:0.50888\n",
      "[1]\ttrain-logloss:0.40889\teval-logloss:0.40983\n",
      "[2]\ttrain-logloss:0.34951\teval-logloss:0.35076\n",
      "[3]\ttrain-logloss:0.31269\teval-logloss:0.31428\n",
      "[4]\ttrain-logloss:0.28941\teval-logloss:0.29138\n",
      "[5]\ttrain-logloss:0.27463\teval-logloss:0.27687\n",
      "[6]\ttrain-logloss:0.26518\teval-logloss:0.26769\n",
      "[7]\ttrain-logloss:0.25918\teval-logloss:0.26196\n",
      "[8]\ttrain-logloss:0.25530\teval-logloss:0.25842\n",
      "[9]\ttrain-logloss:0.25271\teval-logloss:0.25614\n",
      "[10]\ttrain-logloss:0.25097\teval-logloss:0.25468\n",
      "[11]\ttrain-logloss:0.24975\teval-logloss:0.25373\n",
      "[12]\ttrain-logloss:0.24878\teval-logloss:0.25301\n",
      "[13]\ttrain-logloss:0.24811\teval-logloss:0.25253\n",
      "[14]\ttrain-logloss:0.24759\teval-logloss:0.25220\n",
      "[15]\ttrain-logloss:0.24702\teval-logloss:0.25183\n",
      "[16]\ttrain-logloss:0.24653\teval-logloss:0.25152\n",
      "[17]\ttrain-logloss:0.24608\teval-logloss:0.25123\n",
      "[18]\ttrain-logloss:0.24581\teval-logloss:0.25107\n",
      "[19]\ttrain-logloss:0.24545\teval-logloss:0.25097\n",
      "[20]\ttrain-logloss:0.24513\teval-logloss:0.25079\n",
      "[21]\ttrain-logloss:0.24488\teval-logloss:0.25059\n",
      "[22]\ttrain-logloss:0.24465\teval-logloss:0.25052\n",
      "[23]\ttrain-logloss:0.24428\teval-logloss:0.25037\n",
      "[24]\ttrain-logloss:0.24408\teval-logloss:0.25027\n",
      "[25]\ttrain-logloss:0.24375\teval-logloss:0.25011\n",
      "[26]\ttrain-logloss:0.24351\teval-logloss:0.25001\n",
      "[27]\ttrain-logloss:0.24327\teval-logloss:0.24986\n",
      "[28]\ttrain-logloss:0.24307\teval-logloss:0.24978\n",
      "[29]\ttrain-logloss:0.24287\teval-logloss:0.24965\n",
      "[30]\ttrain-logloss:0.24276\teval-logloss:0.24957\n",
      "[31]\ttrain-logloss:0.24254\teval-logloss:0.24951\n",
      "[32]\ttrain-logloss:0.24242\teval-logloss:0.24944\n",
      "[33]\ttrain-logloss:0.24223\teval-logloss:0.24933\n",
      "[34]\ttrain-logloss:0.24195\teval-logloss:0.24920\n",
      "[35]\ttrain-logloss:0.24164\teval-logloss:0.24900\n",
      "[36]\ttrain-logloss:0.24141\teval-logloss:0.24883\n",
      "[37]\ttrain-logloss:0.24111\teval-logloss:0.24872\n",
      "[38]\ttrain-logloss:0.24097\teval-logloss:0.24866\n",
      "[39]\ttrain-logloss:0.24084\teval-logloss:0.24864\n",
      "[40]\ttrain-logloss:0.24052\teval-logloss:0.24860\n",
      "[41]\ttrain-logloss:0.24029\teval-logloss:0.24853\n",
      "[42]\ttrain-logloss:0.24015\teval-logloss:0.24848\n",
      "[43]\ttrain-logloss:0.24008\teval-logloss:0.24848\n",
      "[44]\ttrain-logloss:0.23993\teval-logloss:0.24843\n",
      "[45]\ttrain-logloss:0.23976\teval-logloss:0.24830\n",
      "[46]\ttrain-logloss:0.23929\teval-logloss:0.24800\n",
      "[47]\ttrain-logloss:0.23887\teval-logloss:0.24778\n",
      "[48]\ttrain-logloss:0.23849\teval-logloss:0.24767\n",
      "[49]\ttrain-logloss:0.23821\teval-logloss:0.24755\n",
      "[00:24:53] WARNING: C:/Users/Administrator/workspace/xgboost-win64_release_1.6.0/src/learner.cc:627: \n",
      "Parameters: { \"silent\" } might not be used.\n",
      "\n",
      "  This could be a false alarm, with some parameters getting used by language bindings but\n",
      "  then being mistakenly passed down to XGBoost core, or some parameter actually being used\n",
      "  but getting flagged wrongly here. Please open an issue if you find any such cases.\n",
      "\n",
      "\n",
      "[0]\ttrain-logloss:0.50830\teval-logloss:0.50901\n",
      "[1]\ttrain-logloss:0.40860\teval-logloss:0.40992\n",
      "[2]\ttrain-logloss:0.34925\teval-logloss:0.35111\n",
      "[3]\ttrain-logloss:0.31238\teval-logloss:0.31477\n",
      "[4]\ttrain-logloss:0.28912\teval-logloss:0.29191\n",
      "[5]\ttrain-logloss:0.27434\teval-logloss:0.27758\n",
      "[6]\ttrain-logloss:0.26493\teval-logloss:0.26854\n",
      "[7]\ttrain-logloss:0.25892\teval-logloss:0.26286\n",
      "[8]\ttrain-logloss:0.25501\teval-logloss:0.25937\n",
      "[9]\ttrain-logloss:0.25247\teval-logloss:0.25721\n",
      "[10]\ttrain-logloss:0.25069\teval-logloss:0.25571\n",
      "[11]\ttrain-logloss:0.24948\teval-logloss:0.25478\n",
      "[12]\ttrain-logloss:0.24861\teval-logloss:0.25407\n",
      "[13]\ttrain-logloss:0.24779\teval-logloss:0.25359\n",
      "[14]\ttrain-logloss:0.24721\teval-logloss:0.25322\n",
      "[15]\ttrain-logloss:0.24667\teval-logloss:0.25290\n",
      "[16]\ttrain-logloss:0.24616\teval-logloss:0.25256\n",
      "[17]\ttrain-logloss:0.24573\teval-logloss:0.25233\n",
      "[18]\ttrain-logloss:0.24522\teval-logloss:0.25205\n",
      "[19]\ttrain-logloss:0.24466\teval-logloss:0.25174\n",
      "[20]\ttrain-logloss:0.24438\teval-logloss:0.25157\n",
      "[21]\ttrain-logloss:0.24400\teval-logloss:0.25143\n",
      "[22]\ttrain-logloss:0.24354\teval-logloss:0.25131\n",
      "[23]\ttrain-logloss:0.24334\teval-logloss:0.25127\n",
      "[24]\ttrain-logloss:0.24320\teval-logloss:0.25118\n",
      "[25]\ttrain-logloss:0.24274\teval-logloss:0.25086\n",
      "[26]\ttrain-logloss:0.24246\teval-logloss:0.25070\n",
      "[27]\ttrain-logloss:0.24200\teval-logloss:0.25058\n",
      "[28]\ttrain-logloss:0.24175\teval-logloss:0.25049\n",
      "[29]\ttrain-logloss:0.24142\teval-logloss:0.25037\n",
      "[30]\ttrain-logloss:0.24123\teval-logloss:0.25021\n",
      "[31]\ttrain-logloss:0.24101\teval-logloss:0.25012\n",
      "[32]\ttrain-logloss:0.24078\teval-logloss:0.25002\n",
      "[33]\ttrain-logloss:0.24049\teval-logloss:0.24995\n",
      "[34]\ttrain-logloss:0.24021\teval-logloss:0.24983\n",
      "[35]\ttrain-logloss:0.24010\teval-logloss:0.24979\n",
      "[36]\ttrain-logloss:0.23992\teval-logloss:0.24975\n",
      "[37]\ttrain-logloss:0.23973\teval-logloss:0.24968\n",
      "[38]\ttrain-logloss:0.23953\teval-logloss:0.24958\n",
      "[39]\ttrain-logloss:0.23925\teval-logloss:0.24942\n",
      "[40]\ttrain-logloss:0.23898\teval-logloss:0.24933\n",
      "[41]\ttrain-logloss:0.23887\teval-logloss:0.24932\n",
      "[42]\ttrain-logloss:0.23868\teval-logloss:0.24926\n",
      "[43]\ttrain-logloss:0.23848\teval-logloss:0.24912\n",
      "[44]\ttrain-logloss:0.23817\teval-logloss:0.24896\n"
     ]
    },
    {
     "name": "stdout",
     "output_type": "stream",
     "text": [
      "[45]\ttrain-logloss:0.23784\teval-logloss:0.24880\n",
      "[46]\ttrain-logloss:0.23766\teval-logloss:0.24868\n",
      "[47]\ttrain-logloss:0.23741\teval-logloss:0.24855\n",
      "[48]\ttrain-logloss:0.23724\teval-logloss:0.24846\n",
      "[49]\ttrain-logloss:0.23719\teval-logloss:0.24842\n",
      "[00:24:54] WARNING: C:/Users/Administrator/workspace/xgboost-win64_release_1.6.0/src/learner.cc:627: \n",
      "Parameters: { \"silent\" } might not be used.\n",
      "\n",
      "  This could be a false alarm, with some parameters getting used by language bindings but\n",
      "  then being mistakenly passed down to XGBoost core, or some parameter actually being used\n",
      "  but getting flagged wrongly here. Please open an issue if you find any such cases.\n",
      "\n",
      "\n",
      "[0]\ttrain-logloss:0.50833\teval-logloss:0.50906\n",
      "[1]\ttrain-logloss:0.40875\teval-logloss:0.40995\n",
      "[2]\ttrain-logloss:0.34936\teval-logloss:0.35101\n",
      "[3]\ttrain-logloss:0.31253\teval-logloss:0.31462\n",
      "[4]\ttrain-logloss:0.28924\teval-logloss:0.29175\n",
      "[5]\ttrain-logloss:0.27439\teval-logloss:0.27733\n",
      "[6]\ttrain-logloss:0.26497\teval-logloss:0.26827\n",
      "[7]\ttrain-logloss:0.25895\teval-logloss:0.26259\n",
      "[8]\ttrain-logloss:0.25504\teval-logloss:0.25909\n",
      "[9]\ttrain-logloss:0.25245\teval-logloss:0.25686\n",
      "[10]\ttrain-logloss:0.25064\teval-logloss:0.25525\n",
      "[11]\ttrain-logloss:0.24950\teval-logloss:0.25446\n",
      "[12]\ttrain-logloss:0.24853\teval-logloss:0.25386\n",
      "[13]\ttrain-logloss:0.24764\teval-logloss:0.25329\n",
      "[14]\ttrain-logloss:0.24709\teval-logloss:0.25297\n",
      "[15]\ttrain-logloss:0.24650\teval-logloss:0.25251\n",
      "[16]\ttrain-logloss:0.24596\teval-logloss:0.25226\n",
      "[17]\ttrain-logloss:0.24560\teval-logloss:0.25210\n",
      "[18]\ttrain-logloss:0.24523\teval-logloss:0.25200\n",
      "[19]\ttrain-logloss:0.24485\teval-logloss:0.25192\n",
      "[20]\ttrain-logloss:0.24447\teval-logloss:0.25172\n",
      "[21]\ttrain-logloss:0.24413\teval-logloss:0.25154\n",
      "[22]\ttrain-logloss:0.24375\teval-logloss:0.25141\n",
      "[23]\ttrain-logloss:0.24338\teval-logloss:0.25124\n",
      "[24]\ttrain-logloss:0.24311\teval-logloss:0.25108\n",
      "[25]\ttrain-logloss:0.24294\teval-logloss:0.25102\n",
      "[26]\ttrain-logloss:0.24270\teval-logloss:0.25096\n",
      "[27]\ttrain-logloss:0.24257\teval-logloss:0.25093\n",
      "[28]\ttrain-logloss:0.24226\teval-logloss:0.25076\n",
      "[29]\ttrain-logloss:0.24207\teval-logloss:0.25066\n",
      "[30]\ttrain-logloss:0.24182\teval-logloss:0.25056\n",
      "[31]\ttrain-logloss:0.24165\teval-logloss:0.25047\n",
      "[32]\ttrain-logloss:0.24152\teval-logloss:0.25038\n",
      "[33]\ttrain-logloss:0.24125\teval-logloss:0.25032\n",
      "[34]\ttrain-logloss:0.24106\teval-logloss:0.25020\n",
      "[35]\ttrain-logloss:0.24070\teval-logloss:0.25009\n",
      "[36]\ttrain-logloss:0.24031\teval-logloss:0.24987\n",
      "[37]\ttrain-logloss:0.24019\teval-logloss:0.24983\n",
      "[38]\ttrain-logloss:0.24013\teval-logloss:0.24981\n",
      "[39]\ttrain-logloss:0.23992\teval-logloss:0.24977\n",
      "[40]\ttrain-logloss:0.23947\teval-logloss:0.24961\n",
      "[41]\ttrain-logloss:0.23934\teval-logloss:0.24957\n",
      "[42]\ttrain-logloss:0.23927\teval-logloss:0.24955\n",
      "[43]\ttrain-logloss:0.23920\teval-logloss:0.24956\n",
      "[44]\ttrain-logloss:0.23913\teval-logloss:0.24955\n",
      "[45]\ttrain-logloss:0.23876\teval-logloss:0.24944\n",
      "[46]\ttrain-logloss:0.23864\teval-logloss:0.24934\n",
      "[47]\ttrain-logloss:0.23833\teval-logloss:0.24925\n",
      "[48]\ttrain-logloss:0.23821\teval-logloss:0.24919\n",
      "[49]\ttrain-logloss:0.23804\teval-logloss:0.24911\n",
      "[00:24:55] WARNING: C:/Users/Administrator/workspace/xgboost-win64_release_1.6.0/src/learner.cc:627: \n",
      "Parameters: { \"silent\" } might not be used.\n",
      "\n",
      "  This could be a false alarm, with some parameters getting used by language bindings but\n",
      "  then being mistakenly passed down to XGBoost core, or some parameter actually being used\n",
      "  but getting flagged wrongly here. Please open an issue if you find any such cases.\n",
      "\n",
      "\n",
      "[0]\ttrain-logloss:0.50869\teval-logloss:0.50824\n",
      "[1]\ttrain-logloss:0.40930\teval-logloss:0.40847\n",
      "[2]\ttrain-logloss:0.35007\teval-logloss:0.34915\n",
      "[3]\ttrain-logloss:0.31334\teval-logloss:0.31225\n",
      "[4]\ttrain-logloss:0.29020\teval-logloss:0.28893\n",
      "[5]\ttrain-logloss:0.27551\teval-logloss:0.27416\n",
      "[6]\ttrain-logloss:0.26617\teval-logloss:0.26475\n",
      "[7]\ttrain-logloss:0.26020\teval-logloss:0.25882\n",
      "[8]\ttrain-logloss:0.25637\teval-logloss:0.25503\n",
      "[9]\ttrain-logloss:0.25386\teval-logloss:0.25269\n",
      "[10]\ttrain-logloss:0.25206\teval-logloss:0.25112\n",
      "[11]\ttrain-logloss:0.25087\teval-logloss:0.25003\n",
      "[12]\ttrain-logloss:0.24990\teval-logloss:0.24928\n",
      "[13]\ttrain-logloss:0.24917\teval-logloss:0.24872\n",
      "[14]\ttrain-logloss:0.24859\teval-logloss:0.24833\n",
      "[15]\ttrain-logloss:0.24802\teval-logloss:0.24793\n",
      "[16]\ttrain-logloss:0.24756\teval-logloss:0.24769\n",
      "[17]\ttrain-logloss:0.24711\teval-logloss:0.24738\n",
      "[18]\ttrain-logloss:0.24665\teval-logloss:0.24713\n",
      "[19]\ttrain-logloss:0.24620\teval-logloss:0.24692\n",
      "[20]\ttrain-logloss:0.24579\teval-logloss:0.24665\n",
      "[21]\ttrain-logloss:0.24541\teval-logloss:0.24651\n",
      "[22]\ttrain-logloss:0.24513\teval-logloss:0.24631\n",
      "[23]\ttrain-logloss:0.24485\teval-logloss:0.24619\n",
      "[24]\ttrain-logloss:0.24464\teval-logloss:0.24608\n",
      "[25]\ttrain-logloss:0.24420\teval-logloss:0.24580\n",
      "[26]\ttrain-logloss:0.24399\teval-logloss:0.24578\n",
      "[27]\ttrain-logloss:0.24383\teval-logloss:0.24566\n",
      "[28]\ttrain-logloss:0.24356\teval-logloss:0.24558\n",
      "[29]\ttrain-logloss:0.24337\teval-logloss:0.24541\n",
      "[30]\ttrain-logloss:0.24318\teval-logloss:0.24531\n",
      "[31]\ttrain-logloss:0.24301\teval-logloss:0.24522\n",
      "[32]\ttrain-logloss:0.24264\teval-logloss:0.24496\n",
      "[33]\ttrain-logloss:0.24251\teval-logloss:0.24490\n",
      "[34]\ttrain-logloss:0.24227\teval-logloss:0.24491\n",
      "[35]\ttrain-logloss:0.24191\teval-logloss:0.24468\n",
      "[36]\ttrain-logloss:0.24174\teval-logloss:0.24463\n",
      "[37]\ttrain-logloss:0.24156\teval-logloss:0.24447\n",
      "[38]\ttrain-logloss:0.24122\teval-logloss:0.24428\n",
      "[39]\ttrain-logloss:0.24095\teval-logloss:0.24419\n",
      "[40]\ttrain-logloss:0.24075\teval-logloss:0.24413\n",
      "[41]\ttrain-logloss:0.24046\teval-logloss:0.24398\n",
      "[42]\ttrain-logloss:0.24025\teval-logloss:0.24382\n",
      "[43]\ttrain-logloss:0.24006\teval-logloss:0.24373\n",
      "[44]\ttrain-logloss:0.23993\teval-logloss:0.24370\n",
      "[45]\ttrain-logloss:0.23981\teval-logloss:0.24368\n",
      "[46]\ttrain-logloss:0.23969\teval-logloss:0.24362\n",
      "[47]\ttrain-logloss:0.23954\teval-logloss:0.24357\n",
      "[48]\ttrain-logloss:0.23926\teval-logloss:0.24342\n",
      "[49]\ttrain-logloss:0.23888\teval-logloss:0.24314\n"
     ]
    }
   ],
   "source": [
    "import xgboost as xgb\n",
    "from sklearn.metrics import log_loss\n",
    "\n",
    "y_preds = []\n",
    "models = []\n",
    "scores = []\n",
    "oof_train = np.zeros((len(X_train),))\n",
    "cv = KFold(n_splits=5, shuffle=True, random_state=0)\n",
    "\n",
    "categorical_features = columns\n",
    "\n",
    "params = {\n",
    "    'objective': 'binary:logistic'\n",
    "    ,'silent': 1\n",
    "    ,'random_state': 17\n",
    "    ,'gpu_id': 0\n",
    "    ,'tree_method': 'gpu_hist'\n",
    "}\n",
    "\n",
    "num_round = 50\n",
    "\n",
    "for fold_id, (train_index, valid_index) in enumerate(cv.split(X_train)):\n",
    "    X_tr = X_train.loc[train_index, :]\n",
    "    X_val = X_train.loc[valid_index, :]\n",
    "    y_tr = y_train[train_index]\n",
    "    y_val = y_train[valid_index]\n",
    "    \n",
    "    dtrain = xgb.DMatrix(X_tr, label=y_tr)\n",
    "    dvalid = xgb.DMatrix(X_val, label=y_val)\n",
    "    dtest = xgb.DMatrix(X_test)\n",
    "    \n",
    "    watchlist = [(dtrain, 'train'), (dvalid, 'eval')]\n",
    "    model = xgb.train(params, dtrain, num_round, evals=watchlist)\n",
    "    \n",
    "    va_pred = model.predict(dvalid)\n",
    "    score = log_loss(y_val, va_pred)\n",
    "    oof_train[valid_index] = va_pred\n",
    "    \n",
    "    y_pred = model.predict(dtest) \n",
    "    \n",
    "    \n",
    "    #oof_train[valid_index] = model.predict(X_val, num_iteration=model.best_iteration)\n",
    "    #y_pred = model.predict(X_test, num_iteration=model.best_iteration)##\n",
    "\n",
    "    y_preds.append(y_pred)\n",
    "    models.append(model)\n",
    "    scores.append(score)"
   ]
  },
  {
   "cell_type": "code",
   "execution_count": 104,
   "id": "30980b10",
   "metadata": {},
   "outputs": [
    {
     "data": {
      "text/plain": [
       "array([0.03725635, 0.05438721, 0.0307745 , ..., 0.04972951, 0.05233239,\n",
       "       0.11669409], dtype=float32)"
      ]
     },
     "execution_count": 104,
     "metadata": {},
     "output_type": "execute_result"
    }
   ],
   "source": [
    "y_pred"
   ]
  },
  {
   "cell_type": "code",
   "execution_count": 105,
   "id": "71b452c1",
   "metadata": {},
   "outputs": [
    {
     "data": {
      "text/plain": [
       "[0.24567398747320404,\n",
       " 0.24755373451652035,\n",
       " 0.24841535821534363,\n",
       " 0.24911209050870986,\n",
       " 0.24314439867133833]"
      ]
     },
     "execution_count": 105,
     "metadata": {},
     "output_type": "execute_result"
    }
   ],
   "source": [
    "scores"
   ]
  },
  {
   "cell_type": "code",
   "execution_count": 106,
   "id": "070a12f3",
   "metadata": {},
   "outputs": [],
   "source": [
    "# CSV-00\n",
    "submit_all = app_test[[\"SK_ID_CURR\"]].copy()\n",
    "# 予測確率の変数名はTARGET\n",
    "submit_all[\"TARGET\"] = y_preds[0]\n",
    "submit_all.isnull().sum()\n",
    "\n",
    "# Submit File\n",
    "submit_all.to_csv(\n",
    "    path_or_buf=\"./home-credit-default-risk/submit/submit_all_00.csv\", # 出力先\n",
    "    sep=\",\",                                            # 区切り文字\n",
    "    index=False,                                        # indexの出力有無\n",
    "    header=True                                        # headerの出力有無\n",
    ")"
   ]
  },
  {
   "cell_type": "code",
   "execution_count": 107,
   "id": "b2115808",
   "metadata": {},
   "outputs": [],
   "source": [
    "# CSV-01\n",
    "submit_all = app_test[[\"SK_ID_CURR\"]].copy()\n",
    "# 予測確率の変数名はTARGET\n",
    "submit_all[\"TARGET\"] = y_preds[1]\n",
    "\n",
    "# Submit File\n",
    "submit_all.to_csv(\n",
    "    path_or_buf=\"./home-credit-default-risk/submit/submit_all_01.csv\", # 出力先\n",
    "    sep=\",\",                                            # 区切り文字\n",
    "    index=False,                                        # indexの出力有無\n",
    "    header=True                                        # headerの出力有無\n",
    ")"
   ]
  },
  {
   "cell_type": "code",
   "execution_count": 108,
   "id": "590ab729",
   "metadata": {},
   "outputs": [],
   "source": [
    "# CSV-02\n",
    "submit_all = app_test[[\"SK_ID_CURR\"]].copy()\n",
    "# 予測確率の変数名はTARGET\n",
    "submit_all[\"TARGET\"] = y_preds[2]\n",
    "\n",
    "# Submit File\n",
    "submit_all.to_csv(\n",
    "    path_or_buf=\"./home-credit-default-risk/submit/submit_all_02.csv\", # 出力先\n",
    "    sep=\",\",                                            # 区切り文字\n",
    "    index=False,                                        # indexの出力有無\n",
    "    header=True                                        # headerの出力有無\n",
    ")"
   ]
  },
  {
   "cell_type": "code",
   "execution_count": 109,
   "id": "96e18fa0",
   "metadata": {},
   "outputs": [],
   "source": [
    "# CSV-03\n",
    "submit_all = app_test[[\"SK_ID_CURR\"]].copy()\n",
    "# 予測確率の変数名はTARGET\n",
    "submit_all[\"TARGET\"] = y_preds[3]\n",
    "\n",
    "# Submit File\n",
    "submit_all.to_csv(\n",
    "    path_or_buf=\"./home-credit-default-risk/submit/submit_all_03.csv\", # 出力先\n",
    "    sep=\",\",                                            # 区切り文字\n",
    "    index=False,                                        # indexの出力有無\n",
    "    header=True                                        # headerの出力有無\n",
    ")"
   ]
  },
  {
   "cell_type": "code",
   "execution_count": 110,
   "id": "661a297a",
   "metadata": {},
   "outputs": [],
   "source": [
    "# CSV-04\n",
    "submit_all = app_test[[\"SK_ID_CURR\"]].copy()\n",
    "# 予測確率の変数名はTARGET\n",
    "submit_all[\"TARGET\"] = y_preds[4]\n",
    "\n",
    "# Submit File\n",
    "submit_all.to_csv(\n",
    "    path_or_buf=\"./home-credit-default-risk/submit/submit_all_04.csv\", # 出力先\n",
    "    sep=\",\",                                            # 区切り文字\n",
    "    index=False,                                        # indexの出力有無\n",
    "    header=True                                        # headerの出力有無\n",
    ")"
   ]
  },
  {
   "cell_type": "code",
   "execution_count": 111,
   "id": "0fdd02c3",
   "metadata": {},
   "outputs": [],
   "source": [
    "submit_all_00 = pd.read_csv('./home-credit-default-risk/submit/submit_all_00.csv')\n",
    "submit_all_01 = pd.read_csv('./home-credit-default-risk/submit/submit_all_01.csv')\n",
    "submit_all_02 = pd.read_csv('./home-credit-default-risk/submit/submit_all_02.csv')\n",
    "submit_all_03 = pd.read_csv('./home-credit-default-risk/submit/submit_all_03.csv')\n",
    "submit_all_04 = pd.read_csv('./home-credit-default-risk/submit/submit_all_04.csv')"
   ]
  },
  {
   "cell_type": "code",
   "execution_count": 112,
   "id": "28547cf2",
   "metadata": {},
   "outputs": [
    {
     "data": {
      "text/html": [
       "<div>\n",
       "<style scoped>\n",
       "    .dataframe tbody tr th:only-of-type {\n",
       "        vertical-align: middle;\n",
       "    }\n",
       "\n",
       "    .dataframe tbody tr th {\n",
       "        vertical-align: top;\n",
       "    }\n",
       "\n",
       "    .dataframe thead th {\n",
       "        text-align: right;\n",
       "    }\n",
       "</style>\n",
       "<table border=\"1\" class=\"dataframe\">\n",
       "  <thead>\n",
       "    <tr style=\"text-align: right;\">\n",
       "      <th></th>\n",
       "      <th>submit_all_00</th>\n",
       "      <th>submit_all_01</th>\n",
       "      <th>submit_all_02</th>\n",
       "      <th>submit_all_03</th>\n",
       "      <th>submit_all_04</th>\n",
       "    </tr>\n",
       "  </thead>\n",
       "  <tbody>\n",
       "    <tr>\n",
       "      <th>0</th>\n",
       "      <td>0.069037</td>\n",
       "      <td>0.040603</td>\n",
       "      <td>0.076096</td>\n",
       "      <td>0.063949</td>\n",
       "      <td>0.037256</td>\n",
       "    </tr>\n",
       "    <tr>\n",
       "      <th>1</th>\n",
       "      <td>0.067230</td>\n",
       "      <td>0.058390</td>\n",
       "      <td>0.060481</td>\n",
       "      <td>0.064579</td>\n",
       "      <td>0.054387</td>\n",
       "    </tr>\n",
       "    <tr>\n",
       "      <th>2</th>\n",
       "      <td>0.035951</td>\n",
       "      <td>0.025443</td>\n",
       "      <td>0.031397</td>\n",
       "      <td>0.040232</td>\n",
       "      <td>0.030775</td>\n",
       "    </tr>\n",
       "    <tr>\n",
       "      <th>3</th>\n",
       "      <td>0.036192</td>\n",
       "      <td>0.033398</td>\n",
       "      <td>0.033270</td>\n",
       "      <td>0.035503</td>\n",
       "      <td>0.030296</td>\n",
       "    </tr>\n",
       "    <tr>\n",
       "      <th>4</th>\n",
       "      <td>0.114583</td>\n",
       "      <td>0.119779</td>\n",
       "      <td>0.138647</td>\n",
       "      <td>0.126853</td>\n",
       "      <td>0.110457</td>\n",
       "    </tr>\n",
       "  </tbody>\n",
       "</table>\n",
       "</div>"
      ],
      "text/plain": [
       "   submit_all_00  submit_all_01  submit_all_02  submit_all_03  submit_all_04\n",
       "0       0.069037       0.040603       0.076096       0.063949       0.037256\n",
       "1       0.067230       0.058390       0.060481       0.064579       0.054387\n",
       "2       0.035951       0.025443       0.031397       0.040232       0.030775\n",
       "3       0.036192       0.033398       0.033270       0.035503       0.030296\n",
       "4       0.114583       0.119779       0.138647       0.126853       0.110457"
      ]
     },
     "execution_count": 112,
     "metadata": {},
     "output_type": "execute_result"
    }
   ],
   "source": [
    "submit_all = pd.DataFrame({\n",
    "    'submit_all_00': submit_all_00['TARGET'].values\n",
    "    ,'submit_all_01': submit_all_01['TARGET'].values\n",
    "    ,'submit_all_02': submit_all_02['TARGET'].values\n",
    "    ,'submit_all_03': submit_all_03['TARGET'].values\n",
    "    ,'submit_all_04': submit_all_04['TARGET'].values\n",
    "    })\n",
    "submit_all.head()"
   ]
  },
  {
   "cell_type": "code",
   "execution_count": 113,
   "id": "8dd33f9c",
   "metadata": {},
   "outputs": [
    {
     "data": {
      "text/html": [
       "<div>\n",
       "<style scoped>\n",
       "    .dataframe tbody tr th:only-of-type {\n",
       "        vertical-align: middle;\n",
       "    }\n",
       "\n",
       "    .dataframe tbody tr th {\n",
       "        vertical-align: top;\n",
       "    }\n",
       "\n",
       "    .dataframe thead th {\n",
       "        text-align: right;\n",
       "    }\n",
       "</style>\n",
       "<table border=\"1\" class=\"dataframe\">\n",
       "  <thead>\n",
       "    <tr style=\"text-align: right;\">\n",
       "      <th></th>\n",
       "      <th>submit_all_00</th>\n",
       "      <th>submit_all_01</th>\n",
       "      <th>submit_all_02</th>\n",
       "      <th>submit_all_03</th>\n",
       "      <th>submit_all_04</th>\n",
       "    </tr>\n",
       "  </thead>\n",
       "  <tbody>\n",
       "    <tr>\n",
       "      <th>submit_all_00</th>\n",
       "      <td>1.000000</td>\n",
       "      <td>0.973299</td>\n",
       "      <td>0.969658</td>\n",
       "      <td>0.973010</td>\n",
       "      <td>0.970551</td>\n",
       "    </tr>\n",
       "    <tr>\n",
       "      <th>submit_all_01</th>\n",
       "      <td>0.973299</td>\n",
       "      <td>1.000000</td>\n",
       "      <td>0.973169</td>\n",
       "      <td>0.971614</td>\n",
       "      <td>0.973809</td>\n",
       "    </tr>\n",
       "    <tr>\n",
       "      <th>submit_all_02</th>\n",
       "      <td>0.969658</td>\n",
       "      <td>0.973169</td>\n",
       "      <td>1.000000</td>\n",
       "      <td>0.973246</td>\n",
       "      <td>0.971557</td>\n",
       "    </tr>\n",
       "    <tr>\n",
       "      <th>submit_all_03</th>\n",
       "      <td>0.973010</td>\n",
       "      <td>0.971614</td>\n",
       "      <td>0.973246</td>\n",
       "      <td>1.000000</td>\n",
       "      <td>0.971631</td>\n",
       "    </tr>\n",
       "    <tr>\n",
       "      <th>submit_all_04</th>\n",
       "      <td>0.970551</td>\n",
       "      <td>0.973809</td>\n",
       "      <td>0.971557</td>\n",
       "      <td>0.971631</td>\n",
       "      <td>1.000000</td>\n",
       "    </tr>\n",
       "  </tbody>\n",
       "</table>\n",
       "</div>"
      ],
      "text/plain": [
       "               submit_all_00  submit_all_01  submit_all_02  submit_all_03  \\\n",
       "submit_all_00       1.000000       0.973299       0.969658       0.973010   \n",
       "submit_all_01       0.973299       1.000000       0.973169       0.971614   \n",
       "submit_all_02       0.969658       0.973169       1.000000       0.973246   \n",
       "submit_all_03       0.973010       0.971614       0.973246       1.000000   \n",
       "submit_all_04       0.970551       0.973809       0.971557       0.971631   \n",
       "\n",
       "               submit_all_04  \n",
       "submit_all_00       0.970551  \n",
       "submit_all_01       0.973809  \n",
       "submit_all_02       0.971557  \n",
       "submit_all_03       0.971631  \n",
       "submit_all_04       1.000000  "
      ]
     },
     "execution_count": 113,
     "metadata": {},
     "output_type": "execute_result"
    }
   ],
   "source": [
    "submit_all.corr()"
   ]
  },
  {
   "cell_type": "code",
   "execution_count": 114,
   "id": "51309d15",
   "metadata": {},
   "outputs": [
    {
     "data": {
      "text/html": [
       "<div>\n",
       "<style scoped>\n",
       "    .dataframe tbody tr th:only-of-type {\n",
       "        vertical-align: middle;\n",
       "    }\n",
       "\n",
       "    .dataframe tbody tr th {\n",
       "        vertical-align: top;\n",
       "    }\n",
       "\n",
       "    .dataframe thead th {\n",
       "        text-align: right;\n",
       "    }\n",
       "</style>\n",
       "<table border=\"1\" class=\"dataframe\">\n",
       "  <thead>\n",
       "    <tr style=\"text-align: right;\">\n",
       "      <th></th>\n",
       "      <th>SK_ID_CURR</th>\n",
       "      <th>TARGET</th>\n",
       "    </tr>\n",
       "  </thead>\n",
       "  <tbody>\n",
       "    <tr>\n",
       "      <th>0</th>\n",
       "      <td>100001</td>\n",
       "      <td>0.057388</td>\n",
       "    </tr>\n",
       "    <tr>\n",
       "      <th>1</th>\n",
       "      <td>100005</td>\n",
       "      <td>0.061013</td>\n",
       "    </tr>\n",
       "    <tr>\n",
       "      <th>2</th>\n",
       "      <td>100013</td>\n",
       "      <td>0.032759</td>\n",
       "    </tr>\n",
       "    <tr>\n",
       "      <th>3</th>\n",
       "      <td>100028</td>\n",
       "      <td>0.033732</td>\n",
       "    </tr>\n",
       "    <tr>\n",
       "      <th>4</th>\n",
       "      <td>100038</td>\n",
       "      <td>0.122064</td>\n",
       "    </tr>\n",
       "  </tbody>\n",
       "</table>\n",
       "</div>"
      ],
      "text/plain": [
       "   SK_ID_CURR    TARGET\n",
       "0      100001  0.057388\n",
       "1      100005  0.061013\n",
       "2      100013  0.032759\n",
       "3      100028  0.033732\n",
       "4      100038  0.122064"
      ]
     },
     "execution_count": 114,
     "metadata": {},
     "output_type": "execute_result"
    }
   ],
   "source": [
    "submit_all = app_test[[\"SK_ID_CURR\"]].copy()\n",
    "submit_all['TARGET'] = (submit_all_00['TARGET'] + submit_all_01['TARGET'] + submit_all_02['TARGET'] + submit_all_03['TARGET'] + submit_all_04['TARGET'])/5\n",
    "submit_all.head()"
   ]
  },
  {
   "cell_type": "code",
   "execution_count": 115,
   "id": "54a7e869",
   "metadata": {},
   "outputs": [
    {
     "data": {
      "text/html": [
       "<div>\n",
       "<style scoped>\n",
       "    .dataframe tbody tr th:only-of-type {\n",
       "        vertical-align: middle;\n",
       "    }\n",
       "\n",
       "    .dataframe tbody tr th {\n",
       "        vertical-align: top;\n",
       "    }\n",
       "\n",
       "    .dataframe thead th {\n",
       "        text-align: right;\n",
       "    }\n",
       "</style>\n",
       "<table border=\"1\" class=\"dataframe\">\n",
       "  <thead>\n",
       "    <tr style=\"text-align: right;\">\n",
       "      <th></th>\n",
       "      <th>SK_ID_CURR</th>\n",
       "      <th>TARGET</th>\n",
       "    </tr>\n",
       "  </thead>\n",
       "  <tbody>\n",
       "    <tr>\n",
       "      <th>0</th>\n",
       "      <td>100001</td>\n",
       "      <td>0.011478</td>\n",
       "    </tr>\n",
       "    <tr>\n",
       "      <th>1</th>\n",
       "      <td>100005</td>\n",
       "      <td>0.012203</td>\n",
       "    </tr>\n",
       "    <tr>\n",
       "      <th>2</th>\n",
       "      <td>100013</td>\n",
       "      <td>0.006552</td>\n",
       "    </tr>\n",
       "    <tr>\n",
       "      <th>3</th>\n",
       "      <td>100028</td>\n",
       "      <td>0.006746</td>\n",
       "    </tr>\n",
       "    <tr>\n",
       "      <th>4</th>\n",
       "      <td>100038</td>\n",
       "      <td>0.024413</td>\n",
       "    </tr>\n",
       "  </tbody>\n",
       "</table>\n",
       "</div>"
      ],
      "text/plain": [
       "   SK_ID_CURR    TARGET\n",
       "0      100001  0.011478\n",
       "1      100005  0.012203\n",
       "2      100013  0.006552\n",
       "3      100028  0.006746\n",
       "4      100038  0.024413"
      ]
     },
     "execution_count": 115,
     "metadata": {},
     "output_type": "execute_result"
    }
   ],
   "source": [
    "submit_all['TARGET'] = (submit_all['TARGET'] / 5)\n",
    "submit_all.to_csv('./home-credit-default-risk/submit/submit_hc_only_cash_test.csv', index=False)\n",
    "submit_all.head()"
   ]
  },
  {
   "cell_type": "code",
   "execution_count": 116,
   "id": "d23f9a91",
   "metadata": {},
   "outputs": [
    {
     "data": {
      "text/plain": [
       "SK_ID_CURR    61811\n",
       "TARGET        61811\n",
       "dtype: int64"
      ]
     },
     "execution_count": 116,
     "metadata": {},
     "output_type": "execute_result"
    }
   ],
   "source": [
    "submit_all.count()"
   ]
  },
  {
   "cell_type": "code",
   "execution_count": null,
   "id": "ff5913cf",
   "metadata": {},
   "outputs": [],
   "source": []
  }
 ],
 "metadata": {
  "kernelspec": {
   "display_name": "Python 3 (ipykernel)",
   "language": "python",
   "name": "python3"
  },
  "language_info": {
   "codemirror_mode": {
    "name": "ipython",
    "version": 3
   },
   "file_extension": ".py",
   "mimetype": "text/x-python",
   "name": "python",
   "nbconvert_exporter": "python",
   "pygments_lexer": "ipython3",
   "version": "3.9.7"
  }
 },
 "nbformat": 4,
 "nbformat_minor": 5
}
