{
 "cells": [
  {
   "cell_type": "code",
   "execution_count": 1,
   "metadata": {
    "colab": {
     "base_uri": "https://localhost:8080/"
    },
    "executionInfo": {
     "elapsed": 20931,
     "status": "ok",
     "timestamp": 1651711228445,
     "user": {
      "displayName": "大竹 春生- Haruo Otake",
      "userId": "13319069107488779089"
     },
     "user_tz": -540
    },
    "id": "ejHTu_3AJgnb",
    "outputId": "1e162626-6487-4c47-a227-4c8a51eace4a"
   },
   "outputs": [],
   "source": [
    "# from google.colab import drive\n",
    "# drive.mount('/content/drive')"
   ]
  },
  {
   "cell_type": "code",
   "execution_count": 2,
   "metadata": {
    "colab": {
     "base_uri": "https://localhost:8080/"
    },
    "executionInfo": {
     "elapsed": 8,
     "status": "ok",
     "timestamp": 1651711228445,
     "user": {
      "displayName": "大竹 春生- Haruo Otake",
      "userId": "13319069107488779089"
     },
     "user_tz": -540
    },
    "id": "Qezcgc9kKNsF",
    "outputId": "f1bf7837-3e17-4f28-902c-f8225193a926"
   },
   "outputs": [],
   "source": [
    "# %cd /content/drive/MyDrive/"
   ]
  },
  {
   "cell_type": "code",
   "execution_count": 3,
   "metadata": {},
   "outputs": [
    {
     "data": {
      "text/plain": [
       "[name: \"/device:CPU:0\"\n",
       " device_type: \"CPU\"\n",
       " memory_limit: 268435456\n",
       " locality {\n",
       " }\n",
       " incarnation: 9815414615831049949\n",
       " xla_global_id: -1,\n",
       " name: \"/device:GPU:0\"\n",
       " device_type: \"GPU\"\n",
       " memory_limit: 1745276110\n",
       " locality {\n",
       "   bus_id: 1\n",
       "   links {\n",
       "   }\n",
       " }\n",
       " incarnation: 15861924280322243802\n",
       " physical_device_desc: \"device: 0, name: NVIDIA RTX A2000 Laptop GPU, pci bus id: 0000:01:00.0, compute capability: 8.6\"\n",
       " xla_global_id: 416903419]"
      ]
     },
     "execution_count": 3,
     "metadata": {},
     "output_type": "execute_result"
    }
   ],
   "source": [
    "from tensorflow.python.client import device_lib\n",
    "device_lib.list_local_devices()"
   ]
  },
  {
   "cell_type": "code",
   "execution_count": 4,
   "metadata": {},
   "outputs": [
    {
     "name": "stdout",
     "output_type": "stream",
     "text": [
      "True\n"
     ]
    }
   ],
   "source": [
    "import torch\n",
    "print(torch.cuda.is_available())"
   ]
  },
  {
   "cell_type": "code",
   "execution_count": 5,
   "metadata": {},
   "outputs": [
    {
     "name": "stdout",
     "output_type": "stream",
     "text": [
      "2.8.0\n"
     ]
    }
   ],
   "source": [
    "import tensorflow as tf\n",
    "print(tf.__version__)"
   ]
  },
  {
   "cell_type": "code",
   "execution_count": 6,
   "metadata": {},
   "outputs": [
    {
     "name": "stderr",
     "output_type": "stream",
     "text": [
      "C:\\ProgramData\\Anaconda3\\lib\\site-packages\\pkg_resources\\__init__.py:123: PkgResourcesDeprecationWarning: ghtgbm is an invalid version and will not be supported in a future release\n",
      "  warnings.warn(\n",
      "C:\\ProgramData\\Anaconda3\\lib\\site-packages\\pkg_resources\\__init__.py:123: PkgResourcesDeprecationWarning: 4.0.0-unsupported is an invalid version and will not be supported in a future release\n",
      "  warnings.warn(\n",
      "C:\\ProgramData\\Anaconda3\\lib\\site-packages\\chainer\\_environment_check.py:72: UserWarning: \n",
      "--------------------------------------------------------------------------------\n",
      "CuPy (cupy-cuda116) version 10.3.1 may not be compatible with this version of Chainer.\n",
      "Please consider installing the supported version by running:\n",
      "  $ pip install 'cupy-cuda116>=7.7.0,<8.0.0'\n",
      "\n",
      "See the following page for more details:\n",
      "  https://docs.cupy.dev/en/latest/install.html\n",
      "--------------------------------------------------------------------------------\n",
      "\n",
      "  warnings.warn(msg.format(\n"
     ]
    },
    {
     "name": "stdout",
     "output_type": "stream",
     "text": [
      "Platform: Windows-10-10.0.19043-SP0\n",
      "Chainer: 7.8.1\n",
      "ChainerX: Not Available\n",
      "NumPy: 1.20.3\n",
      "CuPy:\n",
      "  OS                           : Windows-10-10.0.19043-SP0\n",
      "  Python Version               : 3.9.7\n",
      "  CuPy Version                 : 10.3.1\n",
      "  CuPy Platform                : NVIDIA CUDA\n",
      "  NumPy Version                : 1.20.3\n",
      "  SciPy Version                : 1.7.1\n",
      "  Cython Build Version         : 0.29.28\n",
      "  Cython Runtime Version       : 0.29.24\n",
      "  CUDA Root                    : C:\\Program Files\\NVIDIA GPU Computing Toolkit\\CUDA\\v11.6\n",
      "  nvcc PATH                    : C:\\Program Files\\NVIDIA GPU Computing Toolkit\\CUDA\\v11.6\\bin\\nvcc.EXE\n",
      "  CUDA Build Version           : 11060\n",
      "  CUDA Driver Version          : 11060\n",
      "  CUDA Runtime Version         : 11060\n",
      "  cuBLAS Version               : 110902\n",
      "  cuFFT Version                : 10701\n",
      "  cuRAND Version               : 10209\n",
      "  cuSOLVER Version             : (11, 3, 4)\n",
      "  cuSPARSE Version             : 11702\n",
      "  NVRTC Version                : (11, 3)\n",
      "  Thrust Version               : 101500\n",
      "  CUB Build Version            : 101500\n",
      "  Jitify Build Version         : 4a37de0\n",
      "  cuDNN Build Version          : 8302\n",
      "  cuDNN Version                : 8200\n",
      "  NCCL Build Version           : None\n",
      "  NCCL Runtime Version         : None\n",
      "  cuTENSOR Version             : 10400\n",
      "  cuSPARSELt Build Version     : None\n",
      "  Device 0 Name                : NVIDIA RTX A2000 Laptop GPU\n",
      "  Device 0 Compute Capability  : 86\n",
      "  Device 0 PCI Bus ID          : 0000:01:00.0\n",
      "iDeep: Not Available\n"
     ]
    }
   ],
   "source": [
    "import chainer\n",
    "chainer.print_runtime_info()"
   ]
  },
  {
   "cell_type": "code",
   "execution_count": 7,
   "metadata": {},
   "outputs": [
    {
     "name": "stdout",
     "output_type": "stream",
     "text": [
      "1.11.0+cu113\n"
     ]
    }
   ],
   "source": [
    "import torch\n",
    "print(torch.__version__)"
   ]
  },
  {
   "cell_type": "code",
   "execution_count": 8,
   "metadata": {},
   "outputs": [
    {
     "name": "stdout",
     "output_type": "stream",
     "text": [
      "True\n"
     ]
    }
   ],
   "source": [
    "# PyTorchでGPUが使用可能か確認: torch.cuda.is_available()\n",
    "print(torch.cuda.is_available())"
   ]
  },
  {
   "cell_type": "code",
   "execution_count": 9,
   "metadata": {},
   "outputs": [
    {
     "name": "stdout",
     "output_type": "stream",
     "text": [
      "1\n"
     ]
    }
   ],
   "source": [
    "# PyTorchで使用できるGPU（デバイス）数の確認: \n",
    "print(torch.cuda.device_count())"
   ]
  },
  {
   "cell_type": "code",
   "execution_count": 10,
   "metadata": {},
   "outputs": [
    {
     "name": "stdout",
     "output_type": "stream",
     "text": [
      "NVIDIA RTX A2000 Laptop GPU\n"
     ]
    }
   ],
   "source": [
    "# GPUの名称、CUDA Compute Capabilityを取得\n",
    "print(torch.cuda.get_device_name())"
   ]
  },
  {
   "cell_type": "code",
   "execution_count": 11,
   "metadata": {},
   "outputs": [
    {
     "name": "stdout",
     "output_type": "stream",
     "text": [
      "(8, 6)\n"
     ]
    }
   ],
   "source": [
    "print(torch.cuda.get_device_capability())"
   ]
  },
  {
   "cell_type": "markdown",
   "metadata": {
    "id": "HocszF7eMoSa"
   },
   "source": [
    "# home-credit-risk(003)"
   ]
  },
  {
   "cell_type": "code",
   "execution_count": 2,
   "metadata": {
    "colab": {
     "base_uri": "https://localhost:8080/"
    },
    "executionInfo": {
     "elapsed": 4572,
     "status": "ok",
     "timestamp": 1651711233013,
     "user": {
      "displayName": "大竹 春生- Haruo Otake",
      "userId": "13319069107488779089"
     },
     "user_tz": -540
    },
    "id": "t23Xa6hEKNuk",
    "outputId": "b186dd2b-dbf3-4a1b-e4eb-613d31a52c34"
   },
   "outputs": [
    {
     "name": "stdout",
     "output_type": "stream",
     "text": [
      "OK\n",
      "\n"
     ]
    }
   ],
   "source": [
    "import pandas as pd\n",
    "#import pandas_profiling\n",
    "import numpy as np\n",
    "import cupy as cp\n",
    "from sklearn.model_selection import train_test_split\n",
    "import lightgbm as lgb\n",
    "import matplotlib.pyplot as plt\n",
    "import seaborn as sns\n",
    "from sklearn.model_selection import KFold\n",
    "from sklearn import metrics\n",
    "from sklearn.metrics import accuracy_score\n",
    "from sklearn.model_selection import train_test_split\n",
    "from sklearn.preprocessing import LabelEncoder\n",
    "from sklearn.preprocessing import StandardScaler\n",
    "from sklearn.tree import DecisionTreeClassifier, export_graphviz\n",
    "from sklearn.metrics import roc_auc_score\n",
    "from sklearn.tree import plot_tree\n",
    "\n",
    "from six import StringIO\n",
    "\n",
    "from IPython.display import Image\n",
    "import matplotlib.pyplot as plt\n",
    "import seaborn as sns\n",
    "\n",
    "import statsmodels.api as sm\n",
    "import math\n",
    "from scipy import stats\n",
    "import numpy as np\n",
    "import optuna.integration.lightgbm as lgb\n",
    "import pandas as pd\n",
    "import tensorflow as tf\n",
    "\n",
    "from datetime import datetime\n",
    "from tensorflow import feature_column\n",
    "from tensorflow.keras import layers\n",
    "\n",
    "print(\"OK\\n\")"
   ]
  },
  {
   "cell_type": "markdown",
   "metadata": {
    "id": "JsCs-e6fMhlw"
   },
   "source": [
    "## データ読み込み"
   ]
  },
  {
   "cell_type": "code",
   "execution_count": 3,
   "metadata": {
    "executionInfo": {
     "elapsed": 30484,
     "status": "ok",
     "timestamp": 1651711263494,
     "user": {
      "displayName": "大竹 春生- Haruo Otake",
      "userId": "13319069107488779089"
     },
     "user_tz": -540
    },
    "id": "GV1hthUgKW7_"
   },
   "outputs": [
    {
     "data": {
      "text/html": [
       "<div>\n",
       "<style scoped>\n",
       "    .dataframe tbody tr th:only-of-type {\n",
       "        vertical-align: middle;\n",
       "    }\n",
       "\n",
       "    .dataframe tbody tr th {\n",
       "        vertical-align: top;\n",
       "    }\n",
       "\n",
       "    .dataframe thead th {\n",
       "        text-align: right;\n",
       "    }\n",
       "</style>\n",
       "<table border=\"1\" class=\"dataframe\">\n",
       "  <thead>\n",
       "    <tr style=\"text-align: right;\">\n",
       "      <th></th>\n",
       "      <th>SK_ID_CURR</th>\n",
       "      <th>TARGET</th>\n",
       "      <th>NAME_CONTRACT_TYPE</th>\n",
       "      <th>CODE_GENDER</th>\n",
       "      <th>FLAG_OWN_CAR</th>\n",
       "      <th>CNT_CHILDREN</th>\n",
       "      <th>AMT_INCOME_TOTAL</th>\n",
       "      <th>AMT_CREDIT</th>\n",
       "      <th>AMT_ANNUITY</th>\n",
       "      <th>AMT_GOODS_PRICE</th>\n",
       "      <th>...</th>\n",
       "      <th>FLAG_DOCUMENT_16</th>\n",
       "      <th>AMT_REQ_CREDIT_BUREAU_MON</th>\n",
       "      <th>AMT_REQ_CREDIT_BUREAU_YEAR</th>\n",
       "      <th>CREDIT_TERM</th>\n",
       "      <th>DAYS_EMPLOYED_PERCENT</th>\n",
       "      <th>credit_annuity_ratio</th>\n",
       "      <th>DAYS_EMPLOYED_ANOM</th>\n",
       "      <th>credit_goods_price_ratio</th>\n",
       "      <th>credit_downpayment</th>\n",
       "      <th>AGE_INT</th>\n",
       "    </tr>\n",
       "  </thead>\n",
       "  <tbody>\n",
       "    <tr>\n",
       "      <th>0</th>\n",
       "      <td>100002</td>\n",
       "      <td>1</td>\n",
       "      <td>0</td>\n",
       "      <td>1</td>\n",
       "      <td>0</td>\n",
       "      <td>0</td>\n",
       "      <td>202500.0</td>\n",
       "      <td>406597.5</td>\n",
       "      <td>24700.5</td>\n",
       "      <td>351000.0</td>\n",
       "      <td>...</td>\n",
       "      <td>0</td>\n",
       "      <td>0.0</td>\n",
       "      <td>1.0</td>\n",
       "      <td>0.060749</td>\n",
       "      <td>-0.067329</td>\n",
       "      <td>16.461104</td>\n",
       "      <td>False</td>\n",
       "      <td>1.158397</td>\n",
       "      <td>-55597.5</td>\n",
       "      <td>-25.920548</td>\n",
       "    </tr>\n",
       "    <tr>\n",
       "      <th>1</th>\n",
       "      <td>100003</td>\n",
       "      <td>0</td>\n",
       "      <td>0</td>\n",
       "      <td>0</td>\n",
       "      <td>0</td>\n",
       "      <td>0</td>\n",
       "      <td>270000.0</td>\n",
       "      <td>1293502.5</td>\n",
       "      <td>35698.5</td>\n",
       "      <td>1129500.0</td>\n",
       "      <td>...</td>\n",
       "      <td>0</td>\n",
       "      <td>0.0</td>\n",
       "      <td>0.0</td>\n",
       "      <td>0.027598</td>\n",
       "      <td>-0.070862</td>\n",
       "      <td>36.234085</td>\n",
       "      <td>False</td>\n",
       "      <td>1.145199</td>\n",
       "      <td>-164002.5</td>\n",
       "      <td>-45.931507</td>\n",
       "    </tr>\n",
       "    <tr>\n",
       "      <th>2</th>\n",
       "      <td>100004</td>\n",
       "      <td>0</td>\n",
       "      <td>1</td>\n",
       "      <td>1</td>\n",
       "      <td>1</td>\n",
       "      <td>0</td>\n",
       "      <td>67500.0</td>\n",
       "      <td>135000.0</td>\n",
       "      <td>6750.0</td>\n",
       "      <td>135000.0</td>\n",
       "      <td>...</td>\n",
       "      <td>0</td>\n",
       "      <td>0.0</td>\n",
       "      <td>0.0</td>\n",
       "      <td>0.050000</td>\n",
       "      <td>-0.011814</td>\n",
       "      <td>20.000000</td>\n",
       "      <td>False</td>\n",
       "      <td>1.000000</td>\n",
       "      <td>0.0</td>\n",
       "      <td>-52.180822</td>\n",
       "    </tr>\n",
       "    <tr>\n",
       "      <th>3</th>\n",
       "      <td>100006</td>\n",
       "      <td>0</td>\n",
       "      <td>0</td>\n",
       "      <td>0</td>\n",
       "      <td>0</td>\n",
       "      <td>0</td>\n",
       "      <td>135000.0</td>\n",
       "      <td>312682.5</td>\n",
       "      <td>29686.5</td>\n",
       "      <td>297000.0</td>\n",
       "      <td>...</td>\n",
       "      <td>0</td>\n",
       "      <td>NaN</td>\n",
       "      <td>NaN</td>\n",
       "      <td>0.094941</td>\n",
       "      <td>-0.159905</td>\n",
       "      <td>10.532818</td>\n",
       "      <td>False</td>\n",
       "      <td>1.052803</td>\n",
       "      <td>-15682.5</td>\n",
       "      <td>-52.068493</td>\n",
       "    </tr>\n",
       "    <tr>\n",
       "      <th>4</th>\n",
       "      <td>100007</td>\n",
       "      <td>0</td>\n",
       "      <td>0</td>\n",
       "      <td>1</td>\n",
       "      <td>0</td>\n",
       "      <td>0</td>\n",
       "      <td>121500.0</td>\n",
       "      <td>513000.0</td>\n",
       "      <td>21865.5</td>\n",
       "      <td>513000.0</td>\n",
       "      <td>...</td>\n",
       "      <td>0</td>\n",
       "      <td>0.0</td>\n",
       "      <td>0.0</td>\n",
       "      <td>0.042623</td>\n",
       "      <td>-0.152418</td>\n",
       "      <td>23.461618</td>\n",
       "      <td>False</td>\n",
       "      <td>1.000000</td>\n",
       "      <td>0.0</td>\n",
       "      <td>-54.608219</td>\n",
       "    </tr>\n",
       "  </tbody>\n",
       "</table>\n",
       "<p>5 rows × 90 columns</p>\n",
       "</div>"
      ],
      "text/plain": [
       "   SK_ID_CURR  TARGET  NAME_CONTRACT_TYPE  CODE_GENDER  FLAG_OWN_CAR  \\\n",
       "0      100002       1                   0            1             0   \n",
       "1      100003       0                   0            0             0   \n",
       "2      100004       0                   1            1             1   \n",
       "3      100006       0                   0            0             0   \n",
       "4      100007       0                   0            1             0   \n",
       "\n",
       "   CNT_CHILDREN  AMT_INCOME_TOTAL  AMT_CREDIT  AMT_ANNUITY  AMT_GOODS_PRICE  \\\n",
       "0             0          202500.0    406597.5      24700.5         351000.0   \n",
       "1             0          270000.0   1293502.5      35698.5        1129500.0   \n",
       "2             0           67500.0    135000.0       6750.0         135000.0   \n",
       "3             0          135000.0    312682.5      29686.5         297000.0   \n",
       "4             0          121500.0    513000.0      21865.5         513000.0   \n",
       "\n",
       "   ...  FLAG_DOCUMENT_16  AMT_REQ_CREDIT_BUREAU_MON  \\\n",
       "0  ...                 0                        0.0   \n",
       "1  ...                 0                        0.0   \n",
       "2  ...                 0                        0.0   \n",
       "3  ...                 0                        NaN   \n",
       "4  ...                 0                        0.0   \n",
       "\n",
       "   AMT_REQ_CREDIT_BUREAU_YEAR  CREDIT_TERM  DAYS_EMPLOYED_PERCENT  \\\n",
       "0                         1.0     0.060749              -0.067329   \n",
       "1                         0.0     0.027598              -0.070862   \n",
       "2                         0.0     0.050000              -0.011814   \n",
       "3                         NaN     0.094941              -0.159905   \n",
       "4                         0.0     0.042623              -0.152418   \n",
       "\n",
       "   credit_annuity_ratio  DAYS_EMPLOYED_ANOM  credit_goods_price_ratio  \\\n",
       "0             16.461104               False                  1.158397   \n",
       "1             36.234085               False                  1.145199   \n",
       "2             20.000000               False                  1.000000   \n",
       "3             10.532818               False                  1.052803   \n",
       "4             23.461618               False                  1.000000   \n",
       "\n",
       "   credit_downpayment    AGE_INT  \n",
       "0            -55597.5 -25.920548  \n",
       "1           -164002.5 -45.931507  \n",
       "2                 0.0 -52.180822  \n",
       "3            -15682.5 -52.068493  \n",
       "4                 0.0 -54.608219  \n",
       "\n",
       "[5 rows x 90 columns]"
      ]
     },
     "execution_count": 3,
     "metadata": {},
     "output_type": "execute_result"
    }
   ],
   "source": [
    "app_train_origin = pd.read_csv('./home-credit-default-risk/exports/app_train.csv')\n",
    "app_test_origin =  pd.read_csv('./home-credit-default-risk/exports/app_test.csv')\n",
    "bureau_origin = pd.read_csv('./home-credit-default-risk/bureau.csv')\n",
    "bureau_balance_origin = pd.read_csv('./home-credit-default-risk/bureau_balance.csv')\n",
    "#POS_CASH_balance_origin = pd.read_csv('./home-credit-default-risk/POS_CASH_balance.csv')\n",
    "#credit_card_balance_origin = pd.read_csv('./home-credit-default-risk/credit_card_balance.csv')\n",
    "#previous_application_origin = pd.read_csv('./home-credit-default-risk/previous_application.csv')\n",
    "#installments_payments_origin = pd.read_csv('./home-credit-default-risk/installments_payments.csv')\n",
    "# custo data\n",
    "app_br_train_origin = pd.read_csv('./home-credit-default-risk/datasets/app_train_Loan_From_other_banks_cash-consumer-loans.csv')\n",
    "app_br_test_origin = pd.read_csv('./home-credit-default-risk/datasets/app_test_Loan_From_other_banks_cash-consumer-loans.csv')\n",
    "app_train_br_overdue_hist_origin = pd.read_csv('./home-credit-default-risk/datasets/app_train_br_overdue_hist.csv')\n",
    "app_test_br_overdue_hist_origin = pd.read_csv('./home-credit-default-risk/datasets/app_test_br_overdue_hist.csv')\n",
    "app_train_br_debt_credit_ratio_none_origin = pd.read_csv('./home-credit-default-risk/datasets/app_train_br_debt_credit_ratio_none.csv')\n",
    "app_test_br_debt_credit_ratio_none_origin = pd.read_csv('./home-credit-default-risk/datasets/app_test_br_debt_credit_ratio_none.csv')\n",
    "\n",
    "app_train_origin.head()"
   ]
  },
  {
   "cell_type": "code",
   "execution_count": 4,
   "metadata": {
    "executionInfo": {
     "elapsed": 628,
     "status": "ok",
     "timestamp": 1651711264118,
     "user": {
      "displayName": "大竹 春生- Haruo Otake",
      "userId": "13319069107488779089"
     },
     "user_tz": -540
    },
    "id": "Crkva8TSKNw0"
   },
   "outputs": [
    {
     "data": {
      "text/plain": [
       "48744"
      ]
     },
     "execution_count": 4,
     "metadata": {},
     "output_type": "execute_result"
    }
   ],
   "source": [
    "app_train = app_train_origin.copy()\n",
    "app_test = app_test_origin.copy()\n",
    "bureau = bureau_origin.copy()\n",
    "bureau_balance = bureau_balance_origin.copy()\n",
    "#POS_CASH_balance = POS_CASH_balance_origin.copy()\n",
    "#credit_card_balance = credit_card_balance_origin.copy()\n",
    "#previous_application = previous_application_origin.copy()\n",
    "#installments_payments = installments_payments_origin.copy()\n",
    "#application_train.head()\n",
    "app_br_train = app_br_train_origin.copy()\n",
    "app_br_test = app_br_test_origin.copy()\n",
    "app_train_br_overdue_hist = app_train_br_overdue_hist_origin.copy()\n",
    "app_test_br_overdue_hist = app_test_br_overdue_hist_origin.copy()\n",
    "app_train_br_debt_credit_ratio_none = app_train_br_debt_credit_ratio_none_origin.copy()\n",
    "app_test_br_debt_credit_ratio_none = app_test_br_debt_credit_ratio_none_origin.copy()\n",
    "len(app_test)"
   ]
  },
  {
   "cell_type": "code",
   "execution_count": 33,
   "metadata": {},
   "outputs": [],
   "source": [
    "# Plots the disribution of a variable colored by value of the target\n",
    "def kde_target(var_name, df):\n",
    "    \n",
    "    # Calculate the correlation coefficient between the new variable and the target\n",
    "    corr = df['TARGET'].corr(df[var_name])\n",
    "    \n",
    "    # Calculate medians for repaid vs not repaid\n",
    "    avg_repaid = df.loc[df['TARGET'] == 0, var_name].median()\n",
    "    avg_not_repaid = df.loc[df['TARGET'] == 1, var_name].median()\n",
    "    \n",
    "    plt.figure(figsize = (12, 6))\n",
    "    \n",
    "    # Plot the distribution for target == 0 and target == 1\n",
    "    sns.kdeplot(df.loc[df['TARGET'] == 0, var_name], label = 'TARGET == 0')\n",
    "    sns.kdeplot(df.loc[df['TARGET'] == 1, var_name], label = 'TARGET == 1')\n",
    "    \n",
    "    # label the plot\n",
    "    plt.xlabel(var_name); plt.ylabel('Density'); plt.title('%s Distribution' % var_name)\n",
    "    plt.legend();\n",
    "    \n",
    "    # print out the correlation\n",
    "    print('The correlation between %s and the TARGET is %0.4f' % (var_name, corr))\n",
    "    # Print out average values\n",
    "    print('Median value for loan that was not repaid = %0.4f' % avg_not_repaid)\n",
    "    print('Median value for loan that was repaid =     %0.4f' % avg_repaid)"
   ]
  },
  {
   "cell_type": "markdown",
   "metadata": {
    "id": "PV_cx5rEM2-A"
   },
   "source": [
    "## 他金融機関での借り入れ情報(bureau)前処理"
   ]
  },
  {
   "cell_type": "code",
   "execution_count": 6,
   "metadata": {
    "colab": {
     "base_uri": "https://localhost:8080/"
    },
    "executionInfo": {
     "elapsed": 15,
     "status": "ok",
     "timestamp": 1651711264119,
     "user": {
      "displayName": "大竹 春生- Haruo Otake",
      "userId": "13319069107488779089"
     },
     "user_tz": -540
    },
    "id": "gDDucmqM8EG5",
    "outputId": "167172cf-4ffa-49ab-aa02-efe900ef58c9"
   },
   "outputs": [
    {
     "data": {
      "text/plain": [
       "307511"
      ]
     },
     "execution_count": 6,
     "metadata": {},
     "output_type": "execute_result"
    }
   ],
   "source": [
    "len(app_train)"
   ]
  },
  {
   "cell_type": "code",
   "execution_count": 7,
   "metadata": {
    "colab": {
     "base_uri": "https://localhost:8080/"
    },
    "executionInfo": {
     "elapsed": 28,
     "status": "ok",
     "timestamp": 1651711264528,
     "user": {
      "displayName": "大竹 春生- Haruo Otake",
      "userId": "13319069107488779089"
     },
     "user_tz": -540
    },
    "id": "-Yq2m_t58EJv",
    "outputId": "5df0c429-69eb-422f-92f0-48f4ac73c525"
   },
   "outputs": [
    {
     "data": {
      "text/plain": [
       "48744"
      ]
     },
     "execution_count": 7,
     "metadata": {},
     "output_type": "execute_result"
    }
   ],
   "source": [
    "len(app_test)"
   ]
  },
  {
   "cell_type": "markdown",
   "metadata": {
    "id": "iZXCO2-7M6cy"
   },
   "source": []
  },
  {
   "cell_type": "code",
   "execution_count": 8,
   "metadata": {
    "colab": {
     "base_uri": "https://localhost:8080/"
    },
    "executionInfo": {
     "elapsed": 23,
     "status": "ok",
     "timestamp": 1651711264529,
     "user": {
      "displayName": "大竹 春生- Haruo Otake",
      "userId": "13319069107488779089"
     },
     "user_tz": -540
    },
    "id": "KpfNaBKzKNz0",
    "outputId": "dcf41a93-5d65-4ce5-caa9-a3d8c8fd21cf"
   },
   "outputs": [
    {
     "data": {
      "text/plain": [
       "87829"
      ]
     },
     "execution_count": 8,
     "metadata": {},
     "output_type": "execute_result"
    }
   ],
   "source": [
    "len(app_br_train)"
   ]
  },
  {
   "cell_type": "code",
   "execution_count": 9,
   "metadata": {
    "colab": {
     "base_uri": "https://localhost:8080/"
    },
    "executionInfo": {
     "elapsed": 22,
     "status": "ok",
     "timestamp": 1651711264530,
     "user": {
      "displayName": "大竹 春生- Haruo Otake",
      "userId": "13319069107488779089"
     },
     "user_tz": -540
    },
    "id": "OaTHv_nx7ycB",
    "outputId": "5ba6ac05-4d79-4c72-bb14-b2adf36764c3"
   },
   "outputs": [
    {
     "data": {
      "text/plain": [
       "42000"
      ]
     },
     "execution_count": 9,
     "metadata": {},
     "output_type": "execute_result"
    }
   ],
   "source": [
    "len(app_br_test)"
   ]
  },
  {
   "cell_type": "code",
   "execution_count": 10,
   "metadata": {
    "colab": {
     "base_uri": "https://localhost:8080/"
    },
    "executionInfo": {
     "elapsed": 21,
     "status": "ok",
     "timestamp": 1651711264530,
     "user": {
      "displayName": "大竹 春生- Haruo Otake",
      "userId": "13319069107488779089"
     },
     "user_tz": -540
    },
    "id": "3SwJU5a17yfH",
    "outputId": "d2980070-5003-4467-e1a3-01c3887ce237"
   },
   "outputs": [
    {
     "data": {
      "text/plain": [
       "307511"
      ]
     },
     "execution_count": 10,
     "metadata": {},
     "output_type": "execute_result"
    }
   ],
   "source": [
    "len(app_train_br_overdue_hist)"
   ]
  },
  {
   "cell_type": "code",
   "execution_count": 11,
   "metadata": {
    "colab": {
     "base_uri": "https://localhost:8080/"
    },
    "executionInfo": {
     "elapsed": 20,
     "status": "ok",
     "timestamp": 1651711264530,
     "user": {
      "displayName": "大竹 春生- Haruo Otake",
      "userId": "13319069107488779089"
     },
     "user_tz": -540
    },
    "id": "e_h_inmX7ysQ",
    "outputId": "dff7191b-83d2-4061-ec93-dbe2b56350ca"
   },
   "outputs": [
    {
     "data": {
      "text/plain": [
       "48744"
      ]
     },
     "execution_count": 11,
     "metadata": {},
     "output_type": "execute_result"
    }
   ],
   "source": [
    "len(app_test_br_overdue_hist)"
   ]
  },
  {
   "cell_type": "markdown",
   "metadata": {
    "id": "ZRVHQXTuN8Rp"
   },
   "source": [
    "### bureau.csv\n",
    "|列名|内容|\n",
    "|:----|:----|\n",
    "|SK_ID_CURR|クライアントのローンID|\n",
    "|SK_ID_BUREAU|ローン申し込み以前の他金融機関ローンのID|\n",
    "|CREDIT_ACTIVE|他金融機関のローンの状態|\n",
    "|CREDIT_CURRENCY|記録されている他金融機関のローンの通貨の種類|\n",
    "|DAYS_CREDIT|申し込み日と他金融機関のローンがこの信用情報機関に登録された日数の差|\n",
    "|CREDIT_DAY_OVERDUE|申し込み時点での他金融機関ローンの延滞日数|\n",
    "|DAYS_CREDIT_ENDDATE|申し込み時点での他金融機関ローンの残りの日数|\n",
    "|DAYS_ENDDATE_FACT|申し込み時点での他金融機関ローンが払い終わっている場合の払い終わってからの日数|\n",
    "|AMT_CREDIT_MAX_OVERDUE|これまでの最大延滞金額|\n",
    "|CNT_CREDIT_PROLONG|クレジットを何回延長したか|\n",
    "|AMT_CREDIT_SUM|信用情報機関登録されている与信額の総和|\n",
    "|AMT_CREDIT_SUM_DEBT|信用情報機関に登録されている債務|\n",
    "|AMT_CREDIT_SUM_LIMIT|信用情報機関に登録されているクレジットカードの限度額|\n",
    "|AMT_CREDIT_SUM_OVERDUE|信用情報機関に登録されているクレジットカードの残高(使用額)|\n",
    "|CREDIT_TYPE|クレジットカードの種類|\n",
    "|DAYS_CREDIT_UPDATE|申し込み日から、信用情報機関に最後に情報が登録された日までの日数|\n",
    "|AMT_ANNUITY|登録されているローン支払い額|"
   ]
  },
  {
   "cell_type": "code",
   "execution_count": 12,
   "metadata": {
    "executionInfo": {
     "elapsed": 16,
     "status": "ok",
     "timestamp": 1651711264531,
     "user": {
      "displayName": "大竹 春生- Haruo Otake",
      "userId": "13319069107488779089"
     },
     "user_tz": -540
    },
    "id": "lSePyx35NF--"
   },
   "outputs": [],
   "source": [
    "#bureau.isnull().sum()"
   ]
  },
  {
   "cell_type": "code",
   "execution_count": 13,
   "metadata": {
    "executionInfo": {
     "elapsed": 16,
     "status": "ok",
     "timestamp": 1651711264531,
     "user": {
      "displayName": "大竹 春生- Haruo Otake",
      "userId": "13319069107488779089"
     },
     "user_tz": -540
    },
    "id": "b_pSl45GNGBX"
   },
   "outputs": [],
   "source": [
    "# 他金融機関での借り入れ情報(bureau)遅延情報等の登録がない場合は0とする\n",
    "#bureau['DAYS_CREDIT_ENDDATE'].fillna(0, inplace=True)\n",
    "#bureau['DAYS_ENDDATE_FACT'].fillna(0, inplace=True)\n",
    "#bureau['AMT_CREDIT_MAX_OVERDUE'].fillna(0, inplace=True)\n",
    "#bureau['AMT_CREDIT_SUM_DEBT'].fillna(0, inplace=True)\n",
    "#bureau['AMT_CREDIT_SUM_LIMIT'].fillna(0, inplace=True)\n",
    "#bureau['AMT_CREDIT_SUM'].fillna(0, inplace=True)\n",
    "#bureau['AMT_ANNUITY'].fillna(0, inplace=True)\n",
    "#bureau.isnull().sum()\n"
   ]
  },
  {
   "cell_type": "markdown",
   "metadata": {},
   "source": [
    "### applicationの複製"
   ]
  },
  {
   "cell_type": "code",
   "execution_count": 14,
   "metadata": {},
   "outputs": [
    {
     "data": {
      "text/plain": [
       "48744"
      ]
     },
     "execution_count": 14,
     "metadata": {},
     "output_type": "execute_result"
    }
   ],
   "source": [
    "#app_train = app_train[['SK_ID_CURR','TARGET','EXT_SOURCE_1','EXT_SOURCE_2','EXT_SOURCE_3']].copy()\n",
    "#app_test = app_test[['SK_ID_CURR','EXT_SOURCE_1','EXT_SOURCE_2','EXT_SOURCE_3']].copy()\n",
    "app_train = app_train[['SK_ID_CURR','TARGET']].copy()\n",
    "app_test = app_test[['SK_ID_CURR']].copy()\n",
    "len(app_test)"
   ]
  },
  {
   "cell_type": "markdown",
   "metadata": {},
   "source": [
    "### 与信実行時債務データの結合"
   ]
  },
  {
   "cell_type": "code",
   "execution_count": 15,
   "metadata": {},
   "outputs": [
    {
     "data": {
      "text/plain": [
       "42000"
      ]
     },
     "execution_count": 15,
     "metadata": {},
     "output_type": "execute_result"
    }
   ],
   "source": [
    "app_br_train = app_br_train.rename(columns={'sk_id_curr': 'SK_ID_CURR'})\n",
    "app_br_test = app_br_test.rename(columns={'sk_id_curr': 'SK_ID_CURR'})\n",
    "len(app_br_test)"
   ]
  },
  {
   "cell_type": "code",
   "execution_count": 16,
   "metadata": {},
   "outputs": [
    {
     "data": {
      "text/plain": [
       "42000"
      ]
     },
     "execution_count": 16,
     "metadata": {},
     "output_type": "execute_result"
    }
   ],
   "source": [
    "# trainへマージ\n",
    "app_train = pd.merge(app_train, app_br_train, on='SK_ID_CURR', how='left')\n",
    "# testへマージ\n",
    "app_test = pd.merge(app_test, app_br_test, on='SK_ID_CURR', how='left')\n",
    "len(app_br_test)"
   ]
  },
  {
   "cell_type": "markdown",
   "metadata": {},
   "source": [
    "### 他金融機関ローンの延滞日数の結合"
   ]
  },
  {
   "cell_type": "code",
   "execution_count": 17,
   "metadata": {},
   "outputs": [
    {
     "data": {
      "text/plain": [
       "48744"
      ]
     },
     "execution_count": 17,
     "metadata": {},
     "output_type": "execute_result"
    }
   ],
   "source": [
    "\n",
    "app_train_br_overdue_hist = app_train_br_overdue_hist.rename(columns={'sk_id_curr': 'SK_ID_CURR'})\n",
    "app_test_br_overdue_hist = app_test_br_overdue_hist.rename(columns={'sk_id_curr': 'SK_ID_CURR'})\n",
    "len(app_test_br_overdue_hist)"
   ]
  },
  {
   "cell_type": "code",
   "execution_count": 18,
   "metadata": {},
   "outputs": [
    {
     "data": {
      "text/plain": [
       "48744"
      ]
     },
     "execution_count": 18,
     "metadata": {},
     "output_type": "execute_result"
    }
   ],
   "source": [
    "# trainへマージ\n",
    "app_train = pd.merge(app_train, app_train_br_overdue_hist, on='SK_ID_CURR', how='left')\n",
    "# testへマージ\n",
    "app_test = pd.merge(app_test, app_test_br_overdue_hist, on='SK_ID_CURR', how='left')\n",
    "len(app_test)"
   ]
  },
  {
   "cell_type": "markdown",
   "metadata": {},
   "source": [
    "### 付与されている与信額の債務による充足率の結合"
   ]
  },
  {
   "cell_type": "code",
   "execution_count": 19,
   "metadata": {},
   "outputs": [
    {
     "data": {
      "text/plain": [
       "307511"
      ]
     },
     "execution_count": 19,
     "metadata": {},
     "output_type": "execute_result"
    }
   ],
   "source": [
    "app_train_br_debt_credit_ratio_none = app_train_br_debt_credit_ratio_none.rename(columns={'sk_id_curr': 'SK_ID_CURR'})\n",
    "app_test_br_debt_credit_ratio_none = app_test_br_debt_credit_ratio_none.rename(columns={'sk_id_curr': 'SK_ID_CURR'})\n",
    "len(app_train_br_debt_credit_ratio_none)"
   ]
  },
  {
   "cell_type": "code",
   "execution_count": 20,
   "metadata": {},
   "outputs": [
    {
     "data": {
      "text/plain": [
       "48744"
      ]
     },
     "execution_count": 20,
     "metadata": {},
     "output_type": "execute_result"
    }
   ],
   "source": [
    "# trainへマージ\n",
    "app_train = pd.merge(app_train, app_train_br_debt_credit_ratio_none, on='SK_ID_CURR', how='left')\n",
    "# testへマージ\n",
    "app_test = pd.merge(app_test, app_test_br_debt_credit_ratio_none, on='SK_ID_CURR', how='left')\n",
    "len(app_test)"
   ]
  },
  {
   "cell_type": "markdown",
   "metadata": {
    "id": "wzF2uFshZ8ia"
   },
   "source": [
    "### \n"
   ]
  },
  {
   "cell_type": "code",
   "execution_count": 21,
   "metadata": {
    "colab": {
     "base_uri": "https://localhost:8080/",
     "height": 300
    },
    "executionInfo": {
     "elapsed": 8,
     "status": "ok",
     "timestamp": 1651711266552,
     "user": {
      "displayName": "大竹 春生- Haruo Otake",
      "userId": "13319069107488779089"
     },
     "user_tz": -540
    },
    "id": "m-BFlD9A9772",
    "outputId": "851f1531-3d76-4655-bbb5-0c934fcae85a"
   },
   "outputs": [
    {
     "data": {
      "text/html": [
       "<div>\n",
       "<style scoped>\n",
       "    .dataframe tbody tr th:only-of-type {\n",
       "        vertical-align: middle;\n",
       "    }\n",
       "\n",
       "    .dataframe tbody tr th {\n",
       "        vertical-align: top;\n",
       "    }\n",
       "\n",
       "    .dataframe thead th {\n",
       "        text-align: right;\n",
       "    }\n",
       "</style>\n",
       "<table border=\"1\" class=\"dataframe\">\n",
       "  <thead>\n",
       "    <tr style=\"text-align: right;\">\n",
       "      <th></th>\n",
       "      <th>SK_ID_CURR</th>\n",
       "      <th>TARGET</th>\n",
       "      <th>sk_id_bureau</th>\n",
       "      <th>max_credit_day_overdue</th>\n",
       "      <th>max_days_credit_enddate</th>\n",
       "      <th>min_days_enddate_fact</th>\n",
       "      <th>max_amt_credit_max_overdue</th>\n",
       "      <th>cnt_credit_prolong</th>\n",
       "      <th>max_credit_prolong</th>\n",
       "      <th>sum_amt_credit_sum</th>\n",
       "      <th>...</th>\n",
       "      <th>hist_cnt_credit_day_overdue</th>\n",
       "      <th>hist_sum_credit_day_overdue</th>\n",
       "      <th>hist_max_credit_prolong</th>\n",
       "      <th>hist_cnt_credit_prolong</th>\n",
       "      <th>hist_sum_credit_prolong</th>\n",
       "      <th>hist_max_amt_credit_max_overdue</th>\n",
       "      <th>hist_cnt_amt_credit_max_overdue</th>\n",
       "      <th>hist_sum_amt_credit_max_overdue</th>\n",
       "      <th>debt_credit_ratio_none</th>\n",
       "      <th>debt_credit_ratio_none_flg</th>\n",
       "    </tr>\n",
       "  </thead>\n",
       "  <tbody>\n",
       "    <tr>\n",
       "      <th>0</th>\n",
       "      <td>100002</td>\n",
       "      <td>1</td>\n",
       "      <td>6158909.0</td>\n",
       "      <td>0.0</td>\n",
       "      <td>0.0</td>\n",
       "      <td>-48.0</td>\n",
       "      <td>40.5</td>\n",
       "      <td>2.0</td>\n",
       "      <td>0.0</td>\n",
       "      <td>31988.565</td>\n",
       "      <td>...</td>\n",
       "      <td>110</td>\n",
       "      <td>0</td>\n",
       "      <td>0</td>\n",
       "      <td>110</td>\n",
       "      <td>0</td>\n",
       "      <td>5043.645</td>\n",
       "      <td>56</td>\n",
       "      <td>73472.58</td>\n",
       "      <td>0.320947</td>\n",
       "      <td>1</td>\n",
       "    </tr>\n",
       "    <tr>\n",
       "      <th>1</th>\n",
       "      <td>100003</td>\n",
       "      <td>0</td>\n",
       "      <td>NaN</td>\n",
       "      <td>NaN</td>\n",
       "      <td>NaN</td>\n",
       "      <td>NaN</td>\n",
       "      <td>NaN</td>\n",
       "      <td>NaN</td>\n",
       "      <td>NaN</td>\n",
       "      <td>NaN</td>\n",
       "      <td>...</td>\n",
       "      <td>4</td>\n",
       "      <td>0</td>\n",
       "      <td>0</td>\n",
       "      <td>4</td>\n",
       "      <td>0</td>\n",
       "      <td>0.000</td>\n",
       "      <td>4</td>\n",
       "      <td>0.00</td>\n",
       "      <td>0.000000</td>\n",
       "      <td>0</td>\n",
       "    </tr>\n",
       "    <tr>\n",
       "      <th>2</th>\n",
       "      <td>100004</td>\n",
       "      <td>0</td>\n",
       "      <td>NaN</td>\n",
       "      <td>NaN</td>\n",
       "      <td>NaN</td>\n",
       "      <td>NaN</td>\n",
       "      <td>NaN</td>\n",
       "      <td>NaN</td>\n",
       "      <td>NaN</td>\n",
       "      <td>NaN</td>\n",
       "      <td>...</td>\n",
       "      <td>2</td>\n",
       "      <td>0</td>\n",
       "      <td>0</td>\n",
       "      <td>2</td>\n",
       "      <td>0</td>\n",
       "      <td>0.000</td>\n",
       "      <td>1</td>\n",
       "      <td>0.00</td>\n",
       "      <td>0.000000</td>\n",
       "      <td>0</td>\n",
       "    </tr>\n",
       "    <tr>\n",
       "      <th>3</th>\n",
       "      <td>100006</td>\n",
       "      <td>0</td>\n",
       "      <td>NaN</td>\n",
       "      <td>NaN</td>\n",
       "      <td>NaN</td>\n",
       "      <td>NaN</td>\n",
       "      <td>NaN</td>\n",
       "      <td>NaN</td>\n",
       "      <td>NaN</td>\n",
       "      <td>NaN</td>\n",
       "      <td>...</td>\n",
       "      <td>0</td>\n",
       "      <td>0</td>\n",
       "      <td>0</td>\n",
       "      <td>0</td>\n",
       "      <td>0</td>\n",
       "      <td>0.000</td>\n",
       "      <td>0</td>\n",
       "      <td>0.00</td>\n",
       "      <td>0.000000</td>\n",
       "      <td>0</td>\n",
       "    </tr>\n",
       "    <tr>\n",
       "      <th>4</th>\n",
       "      <td>100007</td>\n",
       "      <td>0</td>\n",
       "      <td>NaN</td>\n",
       "      <td>NaN</td>\n",
       "      <td>NaN</td>\n",
       "      <td>NaN</td>\n",
       "      <td>NaN</td>\n",
       "      <td>NaN</td>\n",
       "      <td>NaN</td>\n",
       "      <td>NaN</td>\n",
       "      <td>...</td>\n",
       "      <td>1</td>\n",
       "      <td>0</td>\n",
       "      <td>0</td>\n",
       "      <td>1</td>\n",
       "      <td>0</td>\n",
       "      <td>0.000</td>\n",
       "      <td>1</td>\n",
       "      <td>0.00</td>\n",
       "      <td>0.000000</td>\n",
       "      <td>0</td>\n",
       "    </tr>\n",
       "  </tbody>\n",
       "</table>\n",
       "<p>5 rows × 27 columns</p>\n",
       "</div>"
      ],
      "text/plain": [
       "   SK_ID_CURR  TARGET  sk_id_bureau  max_credit_day_overdue  \\\n",
       "0      100002       1     6158909.0                     0.0   \n",
       "1      100003       0           NaN                     NaN   \n",
       "2      100004       0           NaN                     NaN   \n",
       "3      100006       0           NaN                     NaN   \n",
       "4      100007       0           NaN                     NaN   \n",
       "\n",
       "   max_days_credit_enddate  min_days_enddate_fact  max_amt_credit_max_overdue  \\\n",
       "0                      0.0                  -48.0                        40.5   \n",
       "1                      NaN                    NaN                         NaN   \n",
       "2                      NaN                    NaN                         NaN   \n",
       "3                      NaN                    NaN                         NaN   \n",
       "4                      NaN                    NaN                         NaN   \n",
       "\n",
       "   cnt_credit_prolong  max_credit_prolong  sum_amt_credit_sum  ...  \\\n",
       "0                 2.0                 0.0           31988.565  ...   \n",
       "1                 NaN                 NaN                 NaN  ...   \n",
       "2                 NaN                 NaN                 NaN  ...   \n",
       "3                 NaN                 NaN                 NaN  ...   \n",
       "4                 NaN                 NaN                 NaN  ...   \n",
       "\n",
       "   hist_cnt_credit_day_overdue  hist_sum_credit_day_overdue  \\\n",
       "0                          110                            0   \n",
       "1                            4                            0   \n",
       "2                            2                            0   \n",
       "3                            0                            0   \n",
       "4                            1                            0   \n",
       "\n",
       "   hist_max_credit_prolong hist_cnt_credit_prolong  hist_sum_credit_prolong  \\\n",
       "0                        0                     110                        0   \n",
       "1                        0                       4                        0   \n",
       "2                        0                       2                        0   \n",
       "3                        0                       0                        0   \n",
       "4                        0                       1                        0   \n",
       "\n",
       "   hist_max_amt_credit_max_overdue  hist_cnt_amt_credit_max_overdue  \\\n",
       "0                         5043.645                               56   \n",
       "1                            0.000                                4   \n",
       "2                            0.000                                1   \n",
       "3                            0.000                                0   \n",
       "4                            0.000                                1   \n",
       "\n",
       "   hist_sum_amt_credit_max_overdue  debt_credit_ratio_none  \\\n",
       "0                         73472.58                0.320947   \n",
       "1                             0.00                0.000000   \n",
       "2                             0.00                0.000000   \n",
       "3                             0.00                0.000000   \n",
       "4                             0.00                0.000000   \n",
       "\n",
       "   debt_credit_ratio_none_flg  \n",
       "0                           1  \n",
       "1                           0  \n",
       "2                           0  \n",
       "3                           0  \n",
       "4                           0  \n",
       "\n",
       "[5 rows x 27 columns]"
      ]
     },
     "execution_count": 21,
     "metadata": {},
     "output_type": "execute_result"
    }
   ],
   "source": [
    "app_train.head()"
   ]
  },
  {
   "cell_type": "code",
   "execution_count": 22,
   "metadata": {
    "executionInfo": {
     "elapsed": 5,
     "status": "ok",
     "timestamp": 1651711266552,
     "user": {
      "displayName": "大竹 春生- Haruo Otake",
      "userId": "13319069107488779089"
     },
     "user_tz": -540
    },
    "id": "EyYCV48-_5LH"
   },
   "outputs": [],
   "source": [
    "# 与信実行時債務データの欠損値を0埋め\n",
    "#app_train['max_credit_day_overdue'].fillna(0, inplace=True)\n",
    "#app_train['max_days_credit_enddate'].fillna(0, inplace=True)\n",
    "#app_train['min_days_enddate_fact'].fillna(0, inplace=True)\n",
    "#app_train['max_amt_credit_max_overdue'].fillna(0, inplace=True)\n",
    "#app_train['cnt_credit_prolong'].fillna(0, inplace=True)\n",
    "#app_train['max_credit_prolong'].fillna(0, inplace=True)\n",
    "#app_train['sum_amt_credit_sum'].fillna(0, inplace=True)\n",
    "#app_train['sum_amt_credit_sum_debt'].fillna(0, inplace=True)\n",
    "#app_train['sum_amt_credit_sum_limit'].fillna(0, inplace=True)\n",
    "#app_train['sum_amt_credit_sum_overdue'].fillna(0, inplace=True)\n",
    "#app_train['credit_type'].fillna(0, inplace=True)\n",
    "#app_train['max_days_credit_update'].fillna(0, inplace=True)\n",
    "#app_train['sum_amt_annuity'].fillna(0, inplace=True)\n",
    "# 与信実行時債務データの欠損値を0埋め\n",
    "#app_test['max_credit_day_overdue'].fillna(0, inplace=True)\n",
    "#app_test['max_days_credit_enddate'].fillna(0, inplace=True)\n",
    "#app_test['min_days_enddate_fact'].fillna(0, inplace=True)\n",
    "#app_test['max_amt_credit_max_overdue'].fillna(0, inplace=True)\n",
    "#app_test['cnt_credit_prolong'].fillna(0, inplace=True)\n",
    "#app_test['max_credit_prolong'].fillna(0, inplace=True)\n",
    "#app_test['sum_amt_credit_sum'].fillna(0, inplace=True)\n",
    "#app_test['sum_amt_credit_sum_debt'].fillna(0, inplace=True)\n",
    "#app_test['sum_amt_credit_sum_limit'].fillna(0, inplace=True)\n",
    "#app_test['sum_amt_credit_sum_overdue'].fillna(0, inplace=True)\n",
    "#app_test['credit_type'].fillna(0, inplace=True)\n",
    "#app_test['max_days_credit_update'].fillna(0, inplace=True)\n",
    "#app_test['sum_amt_annuity'].fillna(0, inplace=True)"
   ]
  },
  {
   "cell_type": "code",
   "execution_count": 23,
   "metadata": {
    "colab": {
     "base_uri": "https://localhost:8080/"
    },
    "executionInfo": {
     "elapsed": 562,
     "status": "ok",
     "timestamp": 1651711267109,
     "user": {
      "displayName": "大竹 春生- Haruo Otake",
      "userId": "13319069107488779089"
     },
     "user_tz": -540
    },
    "id": "519HQnas97-e",
    "outputId": "dd30df52-71e9-4323-b25a-ab0e8bd4d7b5"
   },
   "outputs": [
    {
     "data": {
      "text/plain": [
       "SK_ID_CURR                              0\n",
       "TARGET                                  0\n",
       "sk_id_bureau                       219682\n",
       "max_credit_day_overdue             219682\n",
       "max_days_credit_enddate            219682\n",
       "min_days_enddate_fact              219682\n",
       "max_amt_credit_max_overdue         219682\n",
       "cnt_credit_prolong                 219682\n",
       "max_credit_prolong                 219682\n",
       "sum_amt_credit_sum                 219682\n",
       "sum_amt_credit_sum_debt            219682\n",
       "sum_amt_credit_sum_limit           219682\n",
       "sum_amt_credit_sum_overdue         219682\n",
       "credit_type                        219682\n",
       "max_days_credit_update             219682\n",
       "sum_amt_annuity                    219682\n",
       "hist_max_credit_day_overdue             0\n",
       "hist_cnt_credit_day_overdue             0\n",
       "hist_sum_credit_day_overdue             0\n",
       "hist_max_credit_prolong                 0\n",
       "hist_cnt_credit_prolong                 0\n",
       "hist_sum_credit_prolong                 0\n",
       "hist_max_amt_credit_max_overdue         0\n",
       "hist_cnt_amt_credit_max_overdue         0\n",
       "hist_sum_amt_credit_max_overdue         0\n",
       "debt_credit_ratio_none                  0\n",
       "debt_credit_ratio_none_flg              0\n",
       "dtype: int64"
      ]
     },
     "execution_count": 23,
     "metadata": {},
     "output_type": "execute_result"
    }
   ],
   "source": [
    "app_train.isnull().sum()"
   ]
  },
  {
   "cell_type": "code",
   "execution_count": 24,
   "metadata": {
    "colab": {
     "base_uri": "https://localhost:8080/",
     "height": 300
    },
    "executionInfo": {
     "elapsed": 14,
     "status": "ok",
     "timestamp": 1651711267539,
     "user": {
      "displayName": "大竹 春生- Haruo Otake",
      "userId": "13319069107488779089"
     },
     "user_tz": -540
    },
    "id": "-x_6Po10E7fC",
    "outputId": "b23bfeaf-38ea-4e3c-9899-9be981ae2f54"
   },
   "outputs": [
    {
     "data": {
      "text/html": [
       "<div>\n",
       "<style scoped>\n",
       "    .dataframe tbody tr th:only-of-type {\n",
       "        vertical-align: middle;\n",
       "    }\n",
       "\n",
       "    .dataframe tbody tr th {\n",
       "        vertical-align: top;\n",
       "    }\n",
       "\n",
       "    .dataframe thead th {\n",
       "        text-align: right;\n",
       "    }\n",
       "</style>\n",
       "<table border=\"1\" class=\"dataframe\">\n",
       "  <thead>\n",
       "    <tr style=\"text-align: right;\">\n",
       "      <th></th>\n",
       "      <th>SK_ID_CURR</th>\n",
       "      <th>TARGET</th>\n",
       "      <th>sk_id_bureau</th>\n",
       "      <th>max_credit_day_overdue</th>\n",
       "      <th>max_days_credit_enddate</th>\n",
       "      <th>min_days_enddate_fact</th>\n",
       "      <th>max_amt_credit_max_overdue</th>\n",
       "      <th>cnt_credit_prolong</th>\n",
       "      <th>max_credit_prolong</th>\n",
       "      <th>sum_amt_credit_sum</th>\n",
       "      <th>...</th>\n",
       "      <th>hist_cnt_credit_day_overdue</th>\n",
       "      <th>hist_sum_credit_day_overdue</th>\n",
       "      <th>hist_max_credit_prolong</th>\n",
       "      <th>hist_cnt_credit_prolong</th>\n",
       "      <th>hist_sum_credit_prolong</th>\n",
       "      <th>hist_max_amt_credit_max_overdue</th>\n",
       "      <th>hist_cnt_amt_credit_max_overdue</th>\n",
       "      <th>hist_sum_amt_credit_max_overdue</th>\n",
       "      <th>debt_credit_ratio_none</th>\n",
       "      <th>debt_credit_ratio_none_flg</th>\n",
       "    </tr>\n",
       "  </thead>\n",
       "  <tbody>\n",
       "    <tr>\n",
       "      <th>0</th>\n",
       "      <td>100002</td>\n",
       "      <td>1</td>\n",
       "      <td>6158909.0</td>\n",
       "      <td>0.0</td>\n",
       "      <td>0.0</td>\n",
       "      <td>-48.0</td>\n",
       "      <td>40.5</td>\n",
       "      <td>2.0</td>\n",
       "      <td>0.0</td>\n",
       "      <td>31988.565</td>\n",
       "      <td>...</td>\n",
       "      <td>110</td>\n",
       "      <td>0</td>\n",
       "      <td>0</td>\n",
       "      <td>110</td>\n",
       "      <td>0</td>\n",
       "      <td>5043.645</td>\n",
       "      <td>56</td>\n",
       "      <td>73472.58</td>\n",
       "      <td>0.320947</td>\n",
       "      <td>1</td>\n",
       "    </tr>\n",
       "    <tr>\n",
       "      <th>1</th>\n",
       "      <td>100003</td>\n",
       "      <td>0</td>\n",
       "      <td>NaN</td>\n",
       "      <td>NaN</td>\n",
       "      <td>NaN</td>\n",
       "      <td>NaN</td>\n",
       "      <td>NaN</td>\n",
       "      <td>NaN</td>\n",
       "      <td>NaN</td>\n",
       "      <td>NaN</td>\n",
       "      <td>...</td>\n",
       "      <td>4</td>\n",
       "      <td>0</td>\n",
       "      <td>0</td>\n",
       "      <td>4</td>\n",
       "      <td>0</td>\n",
       "      <td>0.000</td>\n",
       "      <td>4</td>\n",
       "      <td>0.00</td>\n",
       "      <td>0.000000</td>\n",
       "      <td>0</td>\n",
       "    </tr>\n",
       "    <tr>\n",
       "      <th>2</th>\n",
       "      <td>100004</td>\n",
       "      <td>0</td>\n",
       "      <td>NaN</td>\n",
       "      <td>NaN</td>\n",
       "      <td>NaN</td>\n",
       "      <td>NaN</td>\n",
       "      <td>NaN</td>\n",
       "      <td>NaN</td>\n",
       "      <td>NaN</td>\n",
       "      <td>NaN</td>\n",
       "      <td>...</td>\n",
       "      <td>2</td>\n",
       "      <td>0</td>\n",
       "      <td>0</td>\n",
       "      <td>2</td>\n",
       "      <td>0</td>\n",
       "      <td>0.000</td>\n",
       "      <td>1</td>\n",
       "      <td>0.00</td>\n",
       "      <td>0.000000</td>\n",
       "      <td>0</td>\n",
       "    </tr>\n",
       "    <tr>\n",
       "      <th>3</th>\n",
       "      <td>100006</td>\n",
       "      <td>0</td>\n",
       "      <td>NaN</td>\n",
       "      <td>NaN</td>\n",
       "      <td>NaN</td>\n",
       "      <td>NaN</td>\n",
       "      <td>NaN</td>\n",
       "      <td>NaN</td>\n",
       "      <td>NaN</td>\n",
       "      <td>NaN</td>\n",
       "      <td>...</td>\n",
       "      <td>0</td>\n",
       "      <td>0</td>\n",
       "      <td>0</td>\n",
       "      <td>0</td>\n",
       "      <td>0</td>\n",
       "      <td>0.000</td>\n",
       "      <td>0</td>\n",
       "      <td>0.00</td>\n",
       "      <td>0.000000</td>\n",
       "      <td>0</td>\n",
       "    </tr>\n",
       "    <tr>\n",
       "      <th>4</th>\n",
       "      <td>100007</td>\n",
       "      <td>0</td>\n",
       "      <td>NaN</td>\n",
       "      <td>NaN</td>\n",
       "      <td>NaN</td>\n",
       "      <td>NaN</td>\n",
       "      <td>NaN</td>\n",
       "      <td>NaN</td>\n",
       "      <td>NaN</td>\n",
       "      <td>NaN</td>\n",
       "      <td>...</td>\n",
       "      <td>1</td>\n",
       "      <td>0</td>\n",
       "      <td>0</td>\n",
       "      <td>1</td>\n",
       "      <td>0</td>\n",
       "      <td>0.000</td>\n",
       "      <td>1</td>\n",
       "      <td>0.00</td>\n",
       "      <td>0.000000</td>\n",
       "      <td>0</td>\n",
       "    </tr>\n",
       "  </tbody>\n",
       "</table>\n",
       "<p>5 rows × 27 columns</p>\n",
       "</div>"
      ],
      "text/plain": [
       "   SK_ID_CURR  TARGET  sk_id_bureau  max_credit_day_overdue  \\\n",
       "0      100002       1     6158909.0                     0.0   \n",
       "1      100003       0           NaN                     NaN   \n",
       "2      100004       0           NaN                     NaN   \n",
       "3      100006       0           NaN                     NaN   \n",
       "4      100007       0           NaN                     NaN   \n",
       "\n",
       "   max_days_credit_enddate  min_days_enddate_fact  max_amt_credit_max_overdue  \\\n",
       "0                      0.0                  -48.0                        40.5   \n",
       "1                      NaN                    NaN                         NaN   \n",
       "2                      NaN                    NaN                         NaN   \n",
       "3                      NaN                    NaN                         NaN   \n",
       "4                      NaN                    NaN                         NaN   \n",
       "\n",
       "   cnt_credit_prolong  max_credit_prolong  sum_amt_credit_sum  ...  \\\n",
       "0                 2.0                 0.0           31988.565  ...   \n",
       "1                 NaN                 NaN                 NaN  ...   \n",
       "2                 NaN                 NaN                 NaN  ...   \n",
       "3                 NaN                 NaN                 NaN  ...   \n",
       "4                 NaN                 NaN                 NaN  ...   \n",
       "\n",
       "   hist_cnt_credit_day_overdue  hist_sum_credit_day_overdue  \\\n",
       "0                          110                            0   \n",
       "1                            4                            0   \n",
       "2                            2                            0   \n",
       "3                            0                            0   \n",
       "4                            1                            0   \n",
       "\n",
       "   hist_max_credit_prolong hist_cnt_credit_prolong  hist_sum_credit_prolong  \\\n",
       "0                        0                     110                        0   \n",
       "1                        0                       4                        0   \n",
       "2                        0                       2                        0   \n",
       "3                        0                       0                        0   \n",
       "4                        0                       1                        0   \n",
       "\n",
       "   hist_max_amt_credit_max_overdue  hist_cnt_amt_credit_max_overdue  \\\n",
       "0                         5043.645                               56   \n",
       "1                            0.000                                4   \n",
       "2                            0.000                                1   \n",
       "3                            0.000                                0   \n",
       "4                            0.000                                1   \n",
       "\n",
       "   hist_sum_amt_credit_max_overdue  debt_credit_ratio_none  \\\n",
       "0                         73472.58                0.320947   \n",
       "1                             0.00                0.000000   \n",
       "2                             0.00                0.000000   \n",
       "3                             0.00                0.000000   \n",
       "4                             0.00                0.000000   \n",
       "\n",
       "   debt_credit_ratio_none_flg  \n",
       "0                           1  \n",
       "1                           0  \n",
       "2                           0  \n",
       "3                           0  \n",
       "4                           0  \n",
       "\n",
       "[5 rows x 27 columns]"
      ]
     },
     "execution_count": 24,
     "metadata": {},
     "output_type": "execute_result"
    }
   ],
   "source": [
    "app_train.head()"
   ]
  },
  {
   "cell_type": "code",
   "execution_count": 25,
   "metadata": {
    "executionInfo": {
     "elapsed": 10,
     "status": "ok",
     "timestamp": 1651711267539,
     "user": {
      "displayName": "大竹 春生- Haruo Otake",
      "userId": "13319069107488779089"
     },
     "user_tz": -540
    },
    "id": "RXMe6xHfFpgO"
   },
   "outputs": [],
   "source": [
    "# 他金融機関ローンの延滞日数\n",
    "#app_train['hist_max_credit_day_overdue'].fillna(0, inplace=True)\n",
    "#app_train['hist_cnt_credit_day_overdue'].fillna(0, inplace=True)\n",
    "#app_train['hist_sum_credit_day_overdue'].fillna(0, inplace=True)\n",
    "#app_train['hist_max_credit_prolong'].fillna(0, inplace=True)\n",
    "#app_train['hist_cnt_credit_prolong'].fillna(0, inplace=True)\n",
    "#app_train['hist_sum_credit_prolong'].fillna(0, inplace=True)\n",
    "#app_train['hist_max_amt_credit_max_overdue'].fillna(0, inplace=True)\n",
    "#app_train['hist_cnt_amt_credit_max_overdue'].fillna(0, inplace=True)\n",
    "#app_train['hist_sum_amt_credit_max_overdue'].fillna(0, inplace=True)\n",
    "\n",
    "# 他金融機関ローンの延滞日数\n",
    "#app_test['hist_max_credit_day_overdue'].fillna(0, inplace=True)\n",
    "#app_test['hist_cnt_credit_day_overdue'].fillna(0, inplace=True)\n",
    "#app_test['hist_sum_credit_day_overdue'].fillna(0, inplace=True)\n",
    "#app_test['hist_max_credit_prolong'].fillna(0, inplace=True)\n",
    "#app_test['hist_cnt_credit_prolong'].fillna(0, inplace=True)\n",
    "#app_test['hist_sum_credit_prolong'].fillna(0, inplace=True)\n",
    "#app_test['hist_max_amt_credit_max_overdue'].fillna(0, inplace=True)\n",
    "#app_test['hist_cnt_amt_credit_max_overdue'].fillna(0, inplace=True)\n",
    "#app_test['hist_sum_amt_credit_max_overdue'].fillna(0, inplace=True)"
   ]
  },
  {
   "cell_type": "markdown",
   "metadata": {
    "id": "fZhX7KJZAyiz"
   },
   "source": [
    "### CREDIT_DAY_OVERDUE(申し込み時点での他金融機関ローンの延滞日数)"
   ]
  },
  {
   "cell_type": "code",
   "execution_count": 26,
   "metadata": {
    "colab": {
     "base_uri": "https://localhost:8080/"
    },
    "executionInfo": {
     "elapsed": 351,
     "status": "ok",
     "timestamp": 1651711267881,
     "user": {
      "displayName": "大竹 春生- Haruo Otake",
      "userId": "13319069107488779089"
     },
     "user_tz": -540
    },
    "id": "LxooLCvl8x-6",
    "outputId": "c46edcb5-08d2-41df-a9bd-83809c5e7f20"
   },
   "outputs": [
    {
     "data": {
      "text/plain": [
       "2792.0"
      ]
     },
     "execution_count": 26,
     "metadata": {},
     "output_type": "execute_result"
    }
   ],
   "source": [
    "max(app_train['max_credit_day_overdue'])"
   ]
  },
  {
   "cell_type": "code",
   "execution_count": 27,
   "metadata": {
    "colab": {
     "base_uri": "https://localhost:8080/"
    },
    "executionInfo": {
     "elapsed": 7,
     "status": "ok",
     "timestamp": 1651711267881,
     "user": {
      "displayName": "大竹 春生- Haruo Otake",
      "userId": "13319069107488779089"
     },
     "user_tz": -540
    },
    "id": "70jaRNhdBXBx",
    "outputId": "bab83984-366e-4604-e117-b6c13f5e2cfa"
   },
   "outputs": [
    {
     "data": {
      "text/plain": [
       "0.0"
      ]
     },
     "execution_count": 27,
     "metadata": {},
     "output_type": "execute_result"
    }
   ],
   "source": [
    "min(app_train['max_credit_day_overdue'])"
   ]
  },
  {
   "cell_type": "code",
   "execution_count": 28,
   "metadata": {
    "executionInfo": {
     "elapsed": 3,
     "status": "ok",
     "timestamp": 1651711267881,
     "user": {
      "displayName": "大竹 春生- Haruo Otake",
      "userId": "13319069107488779089"
     },
     "user_tz": -540
    },
    "id": "Xm5yfKMRNob7"
   },
   "outputs": [],
   "source": [
    "## max_credit_day_overdue_flg_flgを設定する\n",
    "app_train.loc[app_train['max_credit_day_overdue'] == 0, 'max_credit_day_overdue_flg'] = 0\n",
    "app_train.loc[app_train['max_credit_day_overdue'] != 0, 'max_credit_day_overdue_flg'] = 1\n",
    "\n",
    "app_test.loc[app_test['max_credit_day_overdue'] == 0, 'max_credit_day_overdue_flg'] = 0\n",
    "app_test.loc[app_test['max_credit_day_overdue'] != 0, 'max_credit_day_overdue_flg'] = 1\n"
   ]
  },
  {
   "cell_type": "code",
   "execution_count": 29,
   "metadata": {
    "colab": {
     "base_uri": "https://localhost:8080/",
     "height": 144
    },
    "executionInfo": {
     "elapsed": 253,
     "status": "ok",
     "timestamp": 1651711268132,
     "user": {
      "displayName": "大竹 春生- Haruo Otake",
      "userId": "13319069107488779089"
     },
     "user_tz": -540
    },
    "id": "2HWQaivFNofG",
    "outputId": "dde53cf4-c498-4574-90b8-ed9b88879dc4"
   },
   "outputs": [
    {
     "data": {
      "text/html": [
       "<div>\n",
       "<style scoped>\n",
       "    .dataframe tbody tr th:only-of-type {\n",
       "        vertical-align: middle;\n",
       "    }\n",
       "\n",
       "    .dataframe tbody tr th {\n",
       "        vertical-align: top;\n",
       "    }\n",
       "\n",
       "    .dataframe thead th {\n",
       "        text-align: right;\n",
       "    }\n",
       "</style>\n",
       "<table border=\"1\" class=\"dataframe\">\n",
       "  <thead>\n",
       "    <tr style=\"text-align: right;\">\n",
       "      <th></th>\n",
       "      <th>TARGET</th>\n",
       "      <th>max_credit_day_overdue</th>\n",
       "    </tr>\n",
       "  </thead>\n",
       "  <tbody>\n",
       "    <tr>\n",
       "      <th>TARGET</th>\n",
       "      <td>1.000000</td>\n",
       "      <td>-0.004333</td>\n",
       "    </tr>\n",
       "    <tr>\n",
       "      <th>max_credit_day_overdue</th>\n",
       "      <td>-0.004333</td>\n",
       "      <td>1.000000</td>\n",
       "    </tr>\n",
       "  </tbody>\n",
       "</table>\n",
       "</div>"
      ],
      "text/plain": [
       "                          TARGET  max_credit_day_overdue\n",
       "TARGET                  1.000000               -0.004333\n",
       "max_credit_day_overdue -0.004333                1.000000"
      ]
     },
     "execution_count": 29,
     "metadata": {},
     "output_type": "execute_result"
    }
   ],
   "source": [
    "app_train[['TARGET', 'max_credit_day_overdue']].corr()"
   ]
  },
  {
   "cell_type": "code",
   "execution_count": 30,
   "metadata": {},
   "outputs": [
    {
     "data": {
      "text/html": [
       "<div>\n",
       "<style scoped>\n",
       "    .dataframe tbody tr th:only-of-type {\n",
       "        vertical-align: middle;\n",
       "    }\n",
       "\n",
       "    .dataframe tbody tr th {\n",
       "        vertical-align: top;\n",
       "    }\n",
       "\n",
       "    .dataframe thead th {\n",
       "        text-align: right;\n",
       "    }\n",
       "</style>\n",
       "<table border=\"1\" class=\"dataframe\">\n",
       "  <thead>\n",
       "    <tr style=\"text-align: right;\">\n",
       "      <th></th>\n",
       "      <th>TARGET</th>\n",
       "      <th>max_credit_day_overdue_flg</th>\n",
       "    </tr>\n",
       "  </thead>\n",
       "  <tbody>\n",
       "    <tr>\n",
       "      <th>TARGET</th>\n",
       "      <td>1.000000</td>\n",
       "      <td>-0.000113</td>\n",
       "    </tr>\n",
       "    <tr>\n",
       "      <th>max_credit_day_overdue_flg</th>\n",
       "      <td>-0.000113</td>\n",
       "      <td>1.000000</td>\n",
       "    </tr>\n",
       "  </tbody>\n",
       "</table>\n",
       "</div>"
      ],
      "text/plain": [
       "                              TARGET  max_credit_day_overdue_flg\n",
       "TARGET                      1.000000                   -0.000113\n",
       "max_credit_day_overdue_flg -0.000113                    1.000000"
      ]
     },
     "execution_count": 30,
     "metadata": {},
     "output_type": "execute_result"
    }
   ],
   "source": [
    "app_train[['TARGET', 'max_credit_day_overdue_flg']].corr()"
   ]
  },
  {
   "cell_type": "code",
   "execution_count": 37,
   "metadata": {},
   "outputs": [
    {
     "name": "stdout",
     "output_type": "stream",
     "text": [
      "The correlation between max_credit_day_overdue_flg and the TARGET is -0.0001\n",
      "Median value for loan that was not repaid = 1.0000\n",
      "Median value for loan that was repaid =     1.0000\n"
     ]
    },
    {
     "data": {
      "image/png": "[encoded data removed]",
      "text/plain": [
       "<Figure size 864x432 with 1 Axes>"
      ]
     },
     "metadata": {
      "needs_background": "light"
     },
     "output_type": "display_data"
    }
   ],
   "source": [
    "kde_target('max_credit_day_overdue_flg', app_train)"
   ]
  },
  {
   "cell_type": "code",
   "execution_count": 38,
   "metadata": {
    "colab": {
     "base_uri": "https://localhost:8080/",
     "height": 280
    },
    "executionInfo": {
     "elapsed": 276,
     "status": "ok",
     "timestamp": 1651711268403,
     "user": {
      "displayName": "大竹 春生- Haruo Otake",
      "userId": "13319069107488779089"
     },
     "user_tz": -540
    },
    "id": "aYJHIriTBbeQ",
    "outputId": "f0428bb9-bd18-4099-ba7d-aa7042f895cf"
   },
   "outputs": [
    {
     "data": {
      "image/png": "[encoded data removed]",
      "text/plain": [
       "<Figure size 432x288 with 1 Axes>"
      ]
     },
     "metadata": {
      "needs_background": "light"
     },
     "output_type": "display_data"
    }
   ],
   "source": [
    "%matplotlib inline\n",
    "sns.countplot(x='max_credit_day_overdue_flg', hue='TARGET', data=app_train)\n",
    "plt.legend(loc='upper right', title='TARGET')\n",
    "plt.show()"
   ]
  },
  {
   "cell_type": "code",
   "execution_count": 39,
   "metadata": {},
   "outputs": [],
   "source": [
    "columns = ['max_credit_day_overdue']\n",
    "app_train.drop(columns, axis=1, inplace=True)\n",
    "app_test.drop(columns, axis=1, inplace=True)"
   ]
  },
  {
   "cell_type": "code",
   "execution_count": 40,
   "metadata": {},
   "outputs": [],
   "source": [
    "columns = ['max_credit_day_overdue_flg']\n",
    "app_train.drop(columns, axis=1, inplace=True)\n",
    "app_test.drop(columns, axis=1, inplace=True)"
   ]
  },
  {
   "cell_type": "markdown",
   "metadata": {
    "id": "pz2QfMnsOZ5T"
   },
   "source": [
    "### DAYS_CREDIT_ENDDATE|申し込み時点での他金融機関ローンの残りの日数"
   ]
  },
  {
   "cell_type": "code",
   "execution_count": 41,
   "metadata": {
    "colab": {
     "base_uri": "https://localhost:8080/"
    },
    "executionInfo": {
     "elapsed": 305,
     "status": "ok",
     "timestamp": 1651711268701,
     "user": {
      "displayName": "大竹 春生- Haruo Otake",
      "userId": "13319069107488779089"
     },
     "user_tz": -540
    },
    "id": "TU8PR0IUOYPB",
    "outputId": "435e6e1a-9398-443f-c5f6-9bada4fbc787"
   },
   "outputs": [
    {
     "data": {
      "text/plain": [
       "31130.0"
      ]
     },
     "execution_count": 41,
     "metadata": {},
     "output_type": "execute_result"
    }
   ],
   "source": [
    "max(app_train['max_days_credit_enddate'])"
   ]
  },
  {
   "cell_type": "code",
   "execution_count": 42,
   "metadata": {
    "colab": {
     "base_uri": "https://localhost:8080/"
    },
    "executionInfo": {
     "elapsed": 39,
     "status": "ok",
     "timestamp": 1651711268702,
     "user": {
      "displayName": "大竹 春生- Haruo Otake",
      "userId": "13319069107488779089"
     },
     "user_tz": -540
    },
    "id": "3Af6meJBBvKP",
    "outputId": "e5124b81-2f45-4b1b-e741-52d4a0ed2aa1"
   },
   "outputs": [
    {
     "data": {
      "text/plain": [
       "-41920.0"
      ]
     },
     "execution_count": 42,
     "metadata": {},
     "output_type": "execute_result"
    }
   ],
   "source": [
    "min(app_train['max_days_credit_enddate'])"
   ]
  },
  {
   "cell_type": "code",
   "execution_count": 43,
   "metadata": {
    "colab": {
     "base_uri": "https://localhost:8080/",
     "height": 112
    },
    "executionInfo": {
     "elapsed": 34,
     "status": "ok",
     "timestamp": 1651711268703,
     "user": {
      "displayName": "大竹 春生- Haruo Otake",
      "userId": "13319069107488779089"
     },
     "user_tz": -540
    },
    "id": "ZvpxQYTIPHiv",
    "outputId": "4cad53b3-ba9b-4b43-99a3-779c97a6fd80"
   },
   "outputs": [
    {
     "data": {
      "text/html": [
       "<div>\n",
       "<style scoped>\n",
       "    .dataframe tbody tr th:only-of-type {\n",
       "        vertical-align: middle;\n",
       "    }\n",
       "\n",
       "    .dataframe tbody tr th {\n",
       "        vertical-align: top;\n",
       "    }\n",
       "\n",
       "    .dataframe thead th {\n",
       "        text-align: right;\n",
       "    }\n",
       "</style>\n",
       "<table border=\"1\" class=\"dataframe\">\n",
       "  <thead>\n",
       "    <tr style=\"text-align: right;\">\n",
       "      <th></th>\n",
       "      <th>TARGET</th>\n",
       "      <th>max_days_credit_enddate</th>\n",
       "    </tr>\n",
       "  </thead>\n",
       "  <tbody>\n",
       "    <tr>\n",
       "      <th>TARGET</th>\n",
       "      <td>1.000000</td>\n",
       "      <td>0.033534</td>\n",
       "    </tr>\n",
       "    <tr>\n",
       "      <th>max_days_credit_enddate</th>\n",
       "      <td>0.033534</td>\n",
       "      <td>1.000000</td>\n",
       "    </tr>\n",
       "  </tbody>\n",
       "</table>\n",
       "</div>"
      ],
      "text/plain": [
       "                           TARGET  max_days_credit_enddate\n",
       "TARGET                   1.000000                 0.033534\n",
       "max_days_credit_enddate  0.033534                 1.000000"
      ]
     },
     "execution_count": 43,
     "metadata": {},
     "output_type": "execute_result"
    }
   ],
   "source": [
    "app_train[['TARGET', 'max_days_credit_enddate']].corr()"
   ]
  },
  {
   "cell_type": "code",
   "execution_count": 45,
   "metadata": {},
   "outputs": [
    {
     "name": "stdout",
     "output_type": "stream",
     "text": [
      "The correlation between max_days_credit_enddate and the TARGET is 0.0335\n",
      "Median value for loan that was not repaid = 1020.0000\n",
      "Median value for loan that was repaid =     845.0000\n"
     ]
    },
    {
     "data": {
      "image/png": "[encoded data removed]",
      "text/plain": [
       "<Figure size 864x432 with 1 Axes>"
      ]
     },
     "metadata": {
      "needs_background": "light"
     },
     "output_type": "display_data"
    }
   ],
   "source": [
    "kde_target('max_days_credit_enddate', app_train)"
   ]
  },
  {
   "cell_type": "code",
   "execution_count": 46,
   "metadata": {
    "executionInfo": {
     "elapsed": 33,
     "status": "ok",
     "timestamp": 1651711268704,
     "user": {
      "displayName": "大竹 春生- Haruo Otake",
      "userId": "13319069107488779089"
     },
     "user_tz": -540
    },
    "id": "I2470pMYBvMs"
   },
   "outputs": [],
   "source": [
    "#%matplotlib inline\n",
    "#sns.countplot(x='max_days_credit_enddate', hue='TARGET', data=app_train)\n",
    "#plt.legend(loc='upper right', title='TARGET')\n",
    "#plt.show()"
   ]
  },
  {
   "cell_type": "markdown",
   "metadata": {
    "id": "VUR-2cy-Pi-G"
   },
   "source": [
    "### DAYS_ENDDATE_FACT(申し込み時点での他金融機関ローンが払い終わっている場合の払い終わってからの日数)"
   ]
  },
  {
   "cell_type": "code",
   "execution_count": 47,
   "metadata": {
    "colab": {
     "base_uri": "https://localhost:8080/"
    },
    "executionInfo": {
     "elapsed": 33,
     "status": "ok",
     "timestamp": 1651711268705,
     "user": {
      "displayName": "大竹 春生- Haruo Otake",
      "userId": "13319069107488779089"
     },
     "user_tz": -540
    },
    "id": "OL9xNwIVPrQo",
    "outputId": "7be398c1-eb62-43f9-f54f-644d4f15f07d"
   },
   "outputs": [
    {
     "data": {
      "text/plain": [
       "0.0"
      ]
     },
     "execution_count": 47,
     "metadata": {},
     "output_type": "execute_result"
    }
   ],
   "source": [
    "max(app_train['min_days_enddate_fact'])"
   ]
  },
  {
   "cell_type": "code",
   "execution_count": 48,
   "metadata": {
    "colab": {
     "base_uri": "https://localhost:8080/"
    },
    "executionInfo": {
     "elapsed": 27,
     "status": "ok",
     "timestamp": 1651711268705,
     "user": {
      "displayName": "大竹 春生- Haruo Otake",
      "userId": "13319069107488779089"
     },
     "user_tz": -540
    },
    "id": "RQUzU2vz8yG4",
    "outputId": "595305d4-0408-41e1-9152-7fec6ffaa4ae"
   },
   "outputs": [
    {
     "data": {
      "text/plain": [
       "-42023.0"
      ]
     },
     "execution_count": 48,
     "metadata": {},
     "output_type": "execute_result"
    }
   ],
   "source": [
    "min(app_train['min_days_enddate_fact'])"
   ]
  },
  {
   "cell_type": "code",
   "execution_count": 49,
   "metadata": {
    "colab": {
     "base_uri": "https://localhost:8080/",
     "height": 112
    },
    "executionInfo": {
     "elapsed": 23,
     "status": "ok",
     "timestamp": 1651711268706,
     "user": {
      "displayName": "大竹 春生- Haruo Otake",
      "userId": "13319069107488779089"
     },
     "user_tz": -540
    },
    "id": "Kkb1i6tz8yJ4",
    "outputId": "7a9430f2-6dd5-4064-9a50-63149bf156ea"
   },
   "outputs": [
    {
     "data": {
      "text/html": [
       "<div>\n",
       "<style scoped>\n",
       "    .dataframe tbody tr th:only-of-type {\n",
       "        vertical-align: middle;\n",
       "    }\n",
       "\n",
       "    .dataframe tbody tr th {\n",
       "        vertical-align: top;\n",
       "    }\n",
       "\n",
       "    .dataframe thead th {\n",
       "        text-align: right;\n",
       "    }\n",
       "</style>\n",
       "<table border=\"1\" class=\"dataframe\">\n",
       "  <thead>\n",
       "    <tr style=\"text-align: right;\">\n",
       "      <th></th>\n",
       "      <th>TARGET</th>\n",
       "      <th>min_days_enddate_fact</th>\n",
       "    </tr>\n",
       "  </thead>\n",
       "  <tbody>\n",
       "    <tr>\n",
       "      <th>TARGET</th>\n",
       "      <td>1.00000</td>\n",
       "      <td>0.06062</td>\n",
       "    </tr>\n",
       "    <tr>\n",
       "      <th>min_days_enddate_fact</th>\n",
       "      <td>0.06062</td>\n",
       "      <td>1.00000</td>\n",
       "    </tr>\n",
       "  </tbody>\n",
       "</table>\n",
       "</div>"
      ],
      "text/plain": [
       "                        TARGET  min_days_enddate_fact\n",
       "TARGET                 1.00000                0.06062\n",
       "min_days_enddate_fact  0.06062                1.00000"
      ]
     },
     "execution_count": 49,
     "metadata": {},
     "output_type": "execute_result"
    }
   ],
   "source": [
    "obj_tmp = app_train[['TARGET', 'min_days_enddate_fact']].copy()\n",
    "obj_tmp.corr()"
   ]
  },
  {
   "cell_type": "code",
   "execution_count": 50,
   "metadata": {},
   "outputs": [
    {
     "name": "stdout",
     "output_type": "stream",
     "text": [
      "The correlation between min_days_enddate_fact and the TARGET is 0.0606\n",
      "Median value for loan that was not repaid = -451.5000\n",
      "Median value for loan that was repaid =     -698.0000\n"
     ]
    },
    {
     "data": {
      "image/png": "[encoded data removed]",
      "text/plain": [
       "<Figure size 864x432 with 1 Axes>"
      ]
     },
     "metadata": {
      "needs_background": "light"
     },
     "output_type": "display_data"
    }
   ],
   "source": [
    "kde_target('min_days_enddate_fact', app_train)"
   ]
  },
  {
   "cell_type": "code",
   "execution_count": 51,
   "metadata": {
    "executionInfo": {
     "elapsed": 299,
     "status": "ok",
     "timestamp": 1651711268985,
     "user": {
      "displayName": "大竹 春生- Haruo Otake",
      "userId": "13319069107488779089"
     },
     "user_tz": -540
    },
    "id": "R3nH2iN28yM4"
   },
   "outputs": [],
   "source": [
    "#%matplotlib inline\n",
    "#sns.countplot(x='min_days_enddate_fact', hue='TARGET', data=app_train)\n",
    "#plt.legend(loc='upper right', title='TARGET')\n",
    "#plt.show()"
   ]
  },
  {
   "cell_type": "markdown",
   "metadata": {
    "id": "XiytmLzIQMzv"
   },
   "source": [
    "### max_amt_credit_max_overdue"
   ]
  },
  {
   "cell_type": "code",
   "execution_count": 52,
   "metadata": {
    "colab": {
     "base_uri": "https://localhost:8080/"
    },
    "executionInfo": {
     "elapsed": 23,
     "status": "ok",
     "timestamp": 1651711268986,
     "user": {
      "displayName": "大竹 春生- Haruo Otake",
      "userId": "13319069107488779089"
     },
     "user_tz": -540
    },
    "id": "nRc0Gbao8yQo",
    "outputId": "9f46495a-6bc2-4620-9d44-b9f2d1555dc3"
   },
   "outputs": [
    {
     "data": {
      "text/plain": [
       "94812246.0"
      ]
     },
     "execution_count": 52,
     "metadata": {},
     "output_type": "execute_result"
    }
   ],
   "source": [
    "max(app_train['max_amt_credit_max_overdue'])"
   ]
  },
  {
   "cell_type": "code",
   "execution_count": 53,
   "metadata": {
    "colab": {
     "base_uri": "https://localhost:8080/"
    },
    "executionInfo": {
     "elapsed": 22,
     "status": "ok",
     "timestamp": 1651711268986,
     "user": {
      "displayName": "大竹 春生- Haruo Otake",
      "userId": "13319069107488779089"
     },
     "user_tz": -540
    },
    "id": "PUx8GeoQ8yUq",
    "outputId": "b1884b17-68fa-4760-cbb0-bc5410145ef0"
   },
   "outputs": [
    {
     "data": {
      "text/plain": [
       "0.0"
      ]
     },
     "execution_count": 53,
     "metadata": {},
     "output_type": "execute_result"
    }
   ],
   "source": [
    "min(app_train['max_amt_credit_max_overdue'])"
   ]
  },
  {
   "cell_type": "code",
   "execution_count": 54,
   "metadata": {
    "colab": {
     "base_uri": "https://localhost:8080/",
     "height": 112
    },
    "executionInfo": {
     "elapsed": 16,
     "status": "ok",
     "timestamp": 1651711268986,
     "user": {
      "displayName": "大竹 春生- Haruo Otake",
      "userId": "13319069107488779089"
     },
     "user_tz": -540
    },
    "id": "54CA4tC3QZre",
    "outputId": "556b77fe-3479-4458-84fb-2dea128ea074"
   },
   "outputs": [
    {
     "data": {
      "text/html": [
       "<div>\n",
       "<style scoped>\n",
       "    .dataframe tbody tr th:only-of-type {\n",
       "        vertical-align: middle;\n",
       "    }\n",
       "\n",
       "    .dataframe tbody tr th {\n",
       "        vertical-align: top;\n",
       "    }\n",
       "\n",
       "    .dataframe thead th {\n",
       "        text-align: right;\n",
       "    }\n",
       "</style>\n",
       "<table border=\"1\" class=\"dataframe\">\n",
       "  <thead>\n",
       "    <tr style=\"text-align: right;\">\n",
       "      <th></th>\n",
       "      <th>TARGET</th>\n",
       "      <th>max_amt_credit_max_overdue</th>\n",
       "    </tr>\n",
       "  </thead>\n",
       "  <tbody>\n",
       "    <tr>\n",
       "      <th>TARGET</th>\n",
       "      <td>1.000000</td>\n",
       "      <td>0.000052</td>\n",
       "    </tr>\n",
       "    <tr>\n",
       "      <th>max_amt_credit_max_overdue</th>\n",
       "      <td>0.000052</td>\n",
       "      <td>1.000000</td>\n",
       "    </tr>\n",
       "  </tbody>\n",
       "</table>\n",
       "</div>"
      ],
      "text/plain": [
       "                              TARGET  max_amt_credit_max_overdue\n",
       "TARGET                      1.000000                    0.000052\n",
       "max_amt_credit_max_overdue  0.000052                    1.000000"
      ]
     },
     "execution_count": 54,
     "metadata": {},
     "output_type": "execute_result"
    }
   ],
   "source": [
    "app_train[['TARGET', 'max_amt_credit_max_overdue']].corr()"
   ]
  },
  {
   "cell_type": "code",
   "execution_count": 55,
   "metadata": {},
   "outputs": [
    {
     "name": "stdout",
     "output_type": "stream",
     "text": [
      "The correlation between max_amt_credit_max_overdue and the TARGET is 0.0001\n",
      "Median value for loan that was not repaid = 0.0000\n",
      "Median value for loan that was repaid =     0.0000\n"
     ]
    },
    {
     "data": {
      "image/png": "[encoded data removed]",
      "text/plain": [
       "<Figure size 864x432 with 1 Axes>"
      ]
     },
     "metadata": {
      "needs_background": "light"
     },
     "output_type": "display_data"
    }
   ],
   "source": [
    "kde_target('max_amt_credit_max_overdue', app_train)"
   ]
  },
  {
   "cell_type": "code",
   "execution_count": 56,
   "metadata": {},
   "outputs": [],
   "source": [
    "columns = ['max_amt_credit_max_overdue']\n",
    "app_train.drop(columns, axis=1, inplace=True)\n",
    "app_test.drop(columns, axis=1, inplace=True)"
   ]
  },
  {
   "cell_type": "markdown",
   "metadata": {
    "id": "6cQtV9Q5RA2s"
   },
   "source": [
    "### CNT_CREDIT_PROLONG(クレジットを何回延長したか)"
   ]
  },
  {
   "cell_type": "code",
   "execution_count": 57,
   "metadata": {
    "colab": {
     "base_uri": "https://localhost:8080/"
    },
    "executionInfo": {
     "elapsed": 13,
     "status": "ok",
     "timestamp": 1651711268986,
     "user": {
      "displayName": "大竹 春生- Haruo Otake",
      "userId": "13319069107488779089"
     },
     "user_tz": -540
    },
    "id": "WHgHTbhyQZxX",
    "outputId": "487e8a74-f086-43fa-b34b-9341ca97aa7f"
   },
   "outputs": [
    {
     "data": {
      "text/plain": [
       "71.0"
      ]
     },
     "execution_count": 57,
     "metadata": {},
     "output_type": "execute_result"
    }
   ],
   "source": [
    "max(app_train['cnt_credit_prolong'])"
   ]
  },
  {
   "cell_type": "code",
   "execution_count": 58,
   "metadata": {
    "colab": {
     "base_uri": "https://localhost:8080/"
    },
    "executionInfo": {
     "elapsed": 9,
     "status": "ok",
     "timestamp": 1651711268986,
     "user": {
      "displayName": "大竹 春生- Haruo Otake",
      "userId": "13319069107488779089"
     },
     "user_tz": -540
    },
    "id": "f9OOVBplQZ0b",
    "outputId": "b75a6687-bf23-4740-8436-4cbdc4bdcbb2"
   },
   "outputs": [
    {
     "data": {
      "text/plain": [
       "1.0"
      ]
     },
     "execution_count": 58,
     "metadata": {},
     "output_type": "execute_result"
    }
   ],
   "source": [
    "min(app_train['cnt_credit_prolong'])"
   ]
  },
  {
   "cell_type": "code",
   "execution_count": 59,
   "metadata": {},
   "outputs": [],
   "source": [
    "app_train['cnt_credit_prolong'] = pd.cut(app_train['cnt_credit_prolong'], bins=20, labels=False)\n",
    "app_test['cnt_credit_prolong'] =  pd.cut(app_test['cnt_credit_prolong'], bins=20, labels=False)"
   ]
  },
  {
   "cell_type": "code",
   "execution_count": 61,
   "metadata": {
    "colab": {
     "base_uri": "https://localhost:8080/",
     "height": 112
    },
    "executionInfo": {
     "elapsed": 9,
     "status": "ok",
     "timestamp": 1651711268987,
     "user": {
      "displayName": "大竹 春生- Haruo Otake",
      "userId": "13319069107488779089"
     },
     "user_tz": -540
    },
    "id": "QjnDVsbGQZ29",
    "outputId": "34d5fb00-bc1b-4488-eca4-1918805028a9"
   },
   "outputs": [
    {
     "data": {
      "text/html": [
       "<div>\n",
       "<style scoped>\n",
       "    .dataframe tbody tr th:only-of-type {\n",
       "        vertical-align: middle;\n",
       "    }\n",
       "\n",
       "    .dataframe tbody tr th {\n",
       "        vertical-align: top;\n",
       "    }\n",
       "\n",
       "    .dataframe thead th {\n",
       "        text-align: right;\n",
       "    }\n",
       "</style>\n",
       "<table border=\"1\" class=\"dataframe\">\n",
       "  <thead>\n",
       "    <tr style=\"text-align: right;\">\n",
       "      <th></th>\n",
       "      <th>TARGET</th>\n",
       "      <th>cnt_credit_prolong</th>\n",
       "    </tr>\n",
       "  </thead>\n",
       "  <tbody>\n",
       "    <tr>\n",
       "      <th>TARGET</th>\n",
       "      <td>1.000000</td>\n",
       "      <td>0.006361</td>\n",
       "    </tr>\n",
       "    <tr>\n",
       "      <th>cnt_credit_prolong</th>\n",
       "      <td>0.006361</td>\n",
       "      <td>1.000000</td>\n",
       "    </tr>\n",
       "  </tbody>\n",
       "</table>\n",
       "</div>"
      ],
      "text/plain": [
       "                      TARGET  cnt_credit_prolong\n",
       "TARGET              1.000000            0.006361\n",
       "cnt_credit_prolong  0.006361            1.000000"
      ]
     },
     "execution_count": 61,
     "metadata": {},
     "output_type": "execute_result"
    }
   ],
   "source": [
    "app_train[['TARGET', 'cnt_credit_prolong']].corr()"
   ]
  },
  {
   "cell_type": "code",
   "execution_count": 63,
   "metadata": {},
   "outputs": [
    {
     "name": "stdout",
     "output_type": "stream",
     "text": [
      "The correlation between cnt_credit_prolong and the TARGET is 0.0064\n",
      "Median value for loan that was not repaid = 0.0000\n",
      "Median value for loan that was repaid =     0.0000\n"
     ]
    },
    {
     "data": {
      "image/png": "[encoded data removed]",
      "text/plain": [
       "<Figure size 864x432 with 1 Axes>"
      ]
     },
     "metadata": {
      "needs_background": "light"
     },
     "output_type": "display_data"
    }
   ],
   "source": [
    "kde_target('cnt_credit_prolong', app_train)"
   ]
  },
  {
   "cell_type": "code",
   "execution_count": 64,
   "metadata": {
    "colab": {
     "base_uri": "https://localhost:8080/",
     "height": 280
    },
    "executionInfo": {
     "elapsed": 986,
     "status": "ok",
     "timestamp": 1651711269965,
     "user": {
      "displayName": "大竹 春生- Haruo Otake",
      "userId": "13319069107488779089"
     },
     "user_tz": -540
    },
    "id": "sLtPMASFQZ7w",
    "outputId": "ede345ad-f544-44ea-a24a-f11886651ec8"
   },
   "outputs": [
    {
     "data": {
      "image/png": "[encoded data removed]",
      "text/plain": [
       "<Figure size 432x288 with 1 Axes>"
      ]
     },
     "metadata": {
      "needs_background": "light"
     },
     "output_type": "display_data"
    }
   ],
   "source": [
    "%matplotlib inline\n",
    "sns.countplot(x='cnt_credit_prolong', hue='TARGET', data=app_train)\n",
    "plt.legend(loc='upper right', title='TARGET')\n",
    "plt.show()"
   ]
  },
  {
   "cell_type": "code",
   "execution_count": 65,
   "metadata": {},
   "outputs": [],
   "source": [
    "columns = ['cnt_credit_prolong']\n",
    "app_train.drop(columns, axis=1, inplace=True)\n",
    "app_test.drop(columns, axis=1, inplace=True)"
   ]
  },
  {
   "cell_type": "markdown",
   "metadata": {
    "id": "abuT9WeORnu9"
   },
   "source": [
    "### max_credit_prolong"
   ]
  },
  {
   "cell_type": "code",
   "execution_count": 66,
   "metadata": {
    "colab": {
     "base_uri": "https://localhost:8080/"
    },
    "executionInfo": {
     "elapsed": 20,
     "status": "ok",
     "timestamp": 1651711269966,
     "user": {
      "displayName": "大竹 春生- Haruo Otake",
      "userId": "13319069107488779089"
     },
     "user_tz": -540
    },
    "id": "SWa4foyKQZ_L",
    "outputId": "659c71fa-c317-4171-a73d-05a062523a28"
   },
   "outputs": [
    {
     "data": {
      "text/plain": [
       "6.0"
      ]
     },
     "execution_count": 66,
     "metadata": {},
     "output_type": "execute_result"
    }
   ],
   "source": [
    "max(app_train['max_credit_prolong'])"
   ]
  },
  {
   "cell_type": "code",
   "execution_count": 67,
   "metadata": {
    "colab": {
     "base_uri": "https://localhost:8080/"
    },
    "executionInfo": {
     "elapsed": 17,
     "status": "ok",
     "timestamp": 1651711269967,
     "user": {
      "displayName": "大竹 春生- Haruo Otake",
      "userId": "13319069107488779089"
     },
     "user_tz": -540
    },
    "id": "vgQJp5x9RmLF",
    "outputId": "118d7840-3665-49f1-bb74-7a67abb58345"
   },
   "outputs": [
    {
     "data": {
      "text/plain": [
       "0.0"
      ]
     },
     "execution_count": 67,
     "metadata": {},
     "output_type": "execute_result"
    }
   ],
   "source": [
    "min(app_train['max_credit_prolong'])"
   ]
  },
  {
   "cell_type": "code",
   "execution_count": 68,
   "metadata": {
    "colab": {
     "base_uri": "https://localhost:8080/",
     "height": 112
    },
    "executionInfo": {
     "elapsed": 11,
     "status": "ok",
     "timestamp": 1651711269967,
     "user": {
      "displayName": "大竹 春生- Haruo Otake",
      "userId": "13319069107488779089"
     },
     "user_tz": -540
    },
    "id": "ff67ugdERmOa",
    "outputId": "a6aba077-9157-48f9-c806-f1c08548754c"
   },
   "outputs": [
    {
     "data": {
      "text/html": [
       "<div>\n",
       "<style scoped>\n",
       "    .dataframe tbody tr th:only-of-type {\n",
       "        vertical-align: middle;\n",
       "    }\n",
       "\n",
       "    .dataframe tbody tr th {\n",
       "        vertical-align: top;\n",
       "    }\n",
       "\n",
       "    .dataframe thead th {\n",
       "        text-align: right;\n",
       "    }\n",
       "</style>\n",
       "<table border=\"1\" class=\"dataframe\">\n",
       "  <thead>\n",
       "    <tr style=\"text-align: right;\">\n",
       "      <th></th>\n",
       "      <th>TARGET</th>\n",
       "      <th>max_credit_prolong</th>\n",
       "    </tr>\n",
       "  </thead>\n",
       "  <tbody>\n",
       "    <tr>\n",
       "      <th>TARGET</th>\n",
       "      <td>1.000000</td>\n",
       "      <td>0.005313</td>\n",
       "    </tr>\n",
       "    <tr>\n",
       "      <th>max_credit_prolong</th>\n",
       "      <td>0.005313</td>\n",
       "      <td>1.000000</td>\n",
       "    </tr>\n",
       "  </tbody>\n",
       "</table>\n",
       "</div>"
      ],
      "text/plain": [
       "                      TARGET  max_credit_prolong\n",
       "TARGET              1.000000            0.005313\n",
       "max_credit_prolong  0.005313            1.000000"
      ]
     },
     "execution_count": 68,
     "metadata": {},
     "output_type": "execute_result"
    }
   ],
   "source": [
    "app_train[['TARGET', 'max_credit_prolong']].corr()"
   ]
  },
  {
   "cell_type": "code",
   "execution_count": 69,
   "metadata": {},
   "outputs": [
    {
     "name": "stdout",
     "output_type": "stream",
     "text": [
      "The correlation between max_credit_prolong and the TARGET is 0.0053\n",
      "Median value for loan that was not repaid = 0.0000\n",
      "Median value for loan that was repaid =     0.0000\n"
     ]
    },
    {
     "data": {
      "image/png": "[encoded data removed]",
      "text/plain": [
       "<Figure size 864x432 with 1 Axes>"
      ]
     },
     "metadata": {
      "needs_background": "light"
     },
     "output_type": "display_data"
    }
   ],
   "source": [
    "kde_target('max_credit_prolong', app_train)"
   ]
  },
  {
   "cell_type": "code",
   "execution_count": 70,
   "metadata": {
    "colab": {
     "base_uri": "https://localhost:8080/",
     "height": 280
    },
    "executionInfo": {
     "elapsed": 483,
     "status": "ok",
     "timestamp": 1651711270443,
     "user": {
      "displayName": "大竹 春生- Haruo Otake",
      "userId": "13319069107488779089"
     },
     "user_tz": -540
    },
    "id": "uptAi5Y-R2h1",
    "outputId": "7db7e19f-7d21-43ef-e989-b0a66ac0e397"
   },
   "outputs": [
    {
     "data": {
      "image/png": "[encoded data removed]",
      "text/plain": [
       "<Figure size 432x288 with 1 Axes>"
      ]
     },
     "metadata": {
      "needs_background": "light"
     },
     "output_type": "display_data"
    }
   ],
   "source": [
    "%matplotlib inline\n",
    "sns.countplot(x='max_credit_prolong', hue='TARGET', data=app_train)\n",
    "plt.legend(loc='upper right', title='TARGET')\n",
    "plt.show()"
   ]
  },
  {
   "cell_type": "code",
   "execution_count": 71,
   "metadata": {},
   "outputs": [],
   "source": [
    "columns = ['max_credit_prolong']\n",
    "app_train.drop(columns, axis=1, inplace=True)\n",
    "app_test.drop(columns, axis=1, inplace=True)"
   ]
  },
  {
   "cell_type": "markdown",
   "metadata": {
    "id": "F8M10UB_SHEd"
   },
   "source": [
    "### AMT_CREDIT_SUM(信用情報機関登録されている与信額の総和)"
   ]
  },
  {
   "cell_type": "code",
   "execution_count": 72,
   "metadata": {
    "colab": {
     "base_uri": "https://localhost:8080/"
    },
    "executionInfo": {
     "elapsed": 20,
     "status": "ok",
     "timestamp": 1651711270443,
     "user": {
      "displayName": "大竹 春生- Haruo Otake",
      "userId": "13319069107488779089"
     },
     "user_tz": -540
    },
    "id": "et_ACdczR2kl",
    "outputId": "1010e700-91f9-478b-af5a-be6def6cf2c9"
   },
   "outputs": [
    {
     "data": {
      "text/plain": [
       "265320558.0"
      ]
     },
     "execution_count": 72,
     "metadata": {},
     "output_type": "execute_result"
    }
   ],
   "source": [
    "max(app_train['sum_amt_credit_sum'])"
   ]
  },
  {
   "cell_type": "code",
   "execution_count": 73,
   "metadata": {
    "colab": {
     "base_uri": "https://localhost:8080/"
    },
    "executionInfo": {
     "elapsed": 16,
     "status": "ok",
     "timestamp": 1651711270443,
     "user": {
      "displayName": "大竹 春生- Haruo Otake",
      "userId": "13319069107488779089"
     },
     "user_tz": -540
    },
    "id": "XfQx9e3aR2nm",
    "outputId": "0ef547d3-72cd-4b5c-9e5c-2b8ab8a1a991"
   },
   "outputs": [
    {
     "data": {
      "text/plain": [
       "0.0"
      ]
     },
     "execution_count": 73,
     "metadata": {},
     "output_type": "execute_result"
    }
   ],
   "source": [
    "min(app_train['sum_amt_credit_sum'])"
   ]
  },
  {
   "cell_type": "code",
   "execution_count": 74,
   "metadata": {
    "colab": {
     "base_uri": "https://localhost:8080/",
     "height": 112
    },
    "executionInfo": {
     "elapsed": 15,
     "status": "ok",
     "timestamp": 1651711270444,
     "user": {
      "displayName": "大竹 春生- Haruo Otake",
      "userId": "13319069107488779089"
     },
     "user_tz": -540
    },
    "id": "aHmFmHuHR2qU",
    "outputId": "0a4e2eb3-7592-496a-aca9-4c56a98162d9"
   },
   "outputs": [
    {
     "data": {
      "text/html": [
       "<div>\n",
       "<style scoped>\n",
       "    .dataframe tbody tr th:only-of-type {\n",
       "        vertical-align: middle;\n",
       "    }\n",
       "\n",
       "    .dataframe tbody tr th {\n",
       "        vertical-align: top;\n",
       "    }\n",
       "\n",
       "    .dataframe thead th {\n",
       "        text-align: right;\n",
       "    }\n",
       "</style>\n",
       "<table border=\"1\" class=\"dataframe\">\n",
       "  <thead>\n",
       "    <tr style=\"text-align: right;\">\n",
       "      <th></th>\n",
       "      <th>TARGET</th>\n",
       "      <th>sum_amt_credit_sum</th>\n",
       "    </tr>\n",
       "  </thead>\n",
       "  <tbody>\n",
       "    <tr>\n",
       "      <th>TARGET</th>\n",
       "      <td>1.000000</td>\n",
       "      <td>-0.016928</td>\n",
       "    </tr>\n",
       "    <tr>\n",
       "      <th>sum_amt_credit_sum</th>\n",
       "      <td>-0.016928</td>\n",
       "      <td>1.000000</td>\n",
       "    </tr>\n",
       "  </tbody>\n",
       "</table>\n",
       "</div>"
      ],
      "text/plain": [
       "                      TARGET  sum_amt_credit_sum\n",
       "TARGET              1.000000           -0.016928\n",
       "sum_amt_credit_sum -0.016928            1.000000"
      ]
     },
     "execution_count": 74,
     "metadata": {},
     "output_type": "execute_result"
    }
   ],
   "source": [
    "app_train[['TARGET', 'sum_amt_credit_sum']].corr()"
   ]
  },
  {
   "cell_type": "code",
   "execution_count": 75,
   "metadata": {},
   "outputs": [
    {
     "name": "stdout",
     "output_type": "stream",
     "text": [
      "The correlation between sum_amt_credit_sum and the TARGET is -0.0169\n",
      "Median value for loan that was not repaid = 670513.5000\n",
      "Median value for loan that was repaid =     720000.0000\n"
     ]
    },
    {
     "data": {
      "image/png": "[encoded data removed]",
      "text/plain": [
       "<Figure size 864x432 with 1 Axes>"
      ]
     },
     "metadata": {
      "needs_background": "light"
     },
     "output_type": "display_data"
    }
   ],
   "source": [
    "kde_target('sum_amt_credit_sum', app_train)"
   ]
  },
  {
   "cell_type": "markdown",
   "metadata": {
    "id": "Aunaf0ClSkBj"
   },
   "source": [
    "### AMT_CREDIT_SUM_DEBT(信用情報機関に登録されている債務)"
   ]
  },
  {
   "cell_type": "code",
   "execution_count": 76,
   "metadata": {
    "colab": {
     "base_uri": "https://localhost:8080/"
    },
    "executionInfo": {
     "elapsed": 14,
     "status": "ok",
     "timestamp": 1651711270444,
     "user": {
      "displayName": "大竹 春生- Haruo Otake",
      "userId": "13319069107488779089"
     },
     "user_tz": -540
    },
    "id": "TwG7YDmQSjK3",
    "outputId": "d93467f4-ffec-4faa-e9d4-29aae8f07210"
   },
   "outputs": [
    {
     "data": {
      "text/plain": [
       "170466131.205"
      ]
     },
     "execution_count": 76,
     "metadata": {},
     "output_type": "execute_result"
    }
   ],
   "source": [
    "max(app_train['sum_amt_credit_sum_debt'])"
   ]
  },
  {
   "cell_type": "code",
   "execution_count": 77,
   "metadata": {
    "colab": {
     "base_uri": "https://localhost:8080/"
    },
    "executionInfo": {
     "elapsed": 13,
     "status": "ok",
     "timestamp": 1651711270445,
     "user": {
      "displayName": "大竹 春生- Haruo Otake",
      "userId": "13319069107488779089"
     },
     "user_tz": -540
    },
    "id": "A1tEcpiYSrdm",
    "outputId": "07770fcf-6efe-4c3d-d77e-87a763c56de1"
   },
   "outputs": [
    {
     "data": {
      "text/plain": [
       "-1999478.475"
      ]
     },
     "execution_count": 77,
     "metadata": {},
     "output_type": "execute_result"
    }
   ],
   "source": [
    "min(app_train['sum_amt_credit_sum_debt'])"
   ]
  },
  {
   "cell_type": "code",
   "execution_count": 78,
   "metadata": {
    "colab": {
     "base_uri": "https://localhost:8080/",
     "height": 112
    },
    "executionInfo": {
     "elapsed": 11,
     "status": "ok",
     "timestamp": 1651711270445,
     "user": {
      "displayName": "大竹 春生- Haruo Otake",
      "userId": "13319069107488779089"
     },
     "user_tz": -540
    },
    "id": "8_WdFxhpSrgb",
    "outputId": "84ba6e61-bf9f-4dbe-cf6d-839dfff7ac55"
   },
   "outputs": [
    {
     "data": {
      "text/html": [
       "<div>\n",
       "<style scoped>\n",
       "    .dataframe tbody tr th:only-of-type {\n",
       "        vertical-align: middle;\n",
       "    }\n",
       "\n",
       "    .dataframe tbody tr th {\n",
       "        vertical-align: top;\n",
       "    }\n",
       "\n",
       "    .dataframe thead th {\n",
       "        text-align: right;\n",
       "    }\n",
       "</style>\n",
       "<table border=\"1\" class=\"dataframe\">\n",
       "  <thead>\n",
       "    <tr style=\"text-align: right;\">\n",
       "      <th></th>\n",
       "      <th>TARGET</th>\n",
       "      <th>sum_amt_credit_sum_debt</th>\n",
       "    </tr>\n",
       "  </thead>\n",
       "  <tbody>\n",
       "    <tr>\n",
       "      <th>TARGET</th>\n",
       "      <td>1.000000</td>\n",
       "      <td>0.007136</td>\n",
       "    </tr>\n",
       "    <tr>\n",
       "      <th>sum_amt_credit_sum_debt</th>\n",
       "      <td>0.007136</td>\n",
       "      <td>1.000000</td>\n",
       "    </tr>\n",
       "  </tbody>\n",
       "</table>\n",
       "</div>"
      ],
      "text/plain": [
       "                           TARGET  sum_amt_credit_sum_debt\n",
       "TARGET                   1.000000                 0.007136\n",
       "sum_amt_credit_sum_debt  0.007136                 1.000000"
      ]
     },
     "execution_count": 78,
     "metadata": {},
     "output_type": "execute_result"
    }
   ],
   "source": [
    "app_train[['TARGET', 'sum_amt_credit_sum_debt']].corr()"
   ]
  },
  {
   "cell_type": "code",
   "execution_count": 79,
   "metadata": {},
   "outputs": [
    {
     "name": "stdout",
     "output_type": "stream",
     "text": [
      "The correlation between sum_amt_credit_sum_debt and the TARGET is 0.0071\n",
      "Median value for loan that was not repaid = 223308.0000\n",
      "Median value for loan that was repaid =     149608.3500\n"
     ]
    },
    {
     "data": {
      "image/png": "[encoded data removed]",
      "text/plain": [
       "<Figure size 864x432 with 1 Axes>"
      ]
     },
     "metadata": {
      "needs_background": "light"
     },
     "output_type": "display_data"
    }
   ],
   "source": [
    "kde_target('sum_amt_credit_sum_debt', app_train)"
   ]
  },
  {
   "cell_type": "code",
   "execution_count": 80,
   "metadata": {},
   "outputs": [],
   "source": [
    "columns = ['sum_amt_credit_sum_debt']\n",
    "app_train.drop(columns, axis=1, inplace=True)\n",
    "app_test.drop(columns, axis=1, inplace=True)"
   ]
  },
  {
   "cell_type": "markdown",
   "metadata": {
    "id": "3Y6_GZVsS40v"
   },
   "source": [
    "### AMT_CREDIT_SUM_LIMIT(信用情報機関に登録されているクレジットカードの限度額)"
   ]
  },
  {
   "cell_type": "code",
   "execution_count": 81,
   "metadata": {
    "colab": {
     "base_uri": "https://localhost:8080/"
    },
    "executionInfo": {
     "elapsed": 408,
     "status": "ok",
     "timestamp": 1651711270843,
     "user": {
      "displayName": "大竹 春生- Haruo Otake",
      "userId": "13319069107488779089"
     },
     "user_tz": -540
    },
    "id": "1Xr3gXcgSrjA",
    "outputId": "ae7e3db0-f6c1-4cfd-f40b-ccd54e48932a"
   },
   "outputs": [
    {
     "data": {
      "text/plain": [
       "4500000.0"
      ]
     },
     "execution_count": 81,
     "metadata": {},
     "output_type": "execute_result"
    }
   ],
   "source": [
    "max(app_train['sum_amt_credit_sum_limit'])"
   ]
  },
  {
   "cell_type": "code",
   "execution_count": 82,
   "metadata": {
    "colab": {
     "base_uri": "https://localhost:8080/"
    },
    "executionInfo": {
     "elapsed": 22,
     "status": "ok",
     "timestamp": 1651711270843,
     "user": {
      "displayName": "大竹 春生- Haruo Otake",
      "userId": "13319069107488779089"
     },
     "user_tz": -540
    },
    "id": "CYZGwrR-TDDm",
    "outputId": "7a900b14-0c31-42ac-e3d0-f48846cbdc02"
   },
   "outputs": [
    {
     "data": {
      "text/plain": [
       "-117660.015"
      ]
     },
     "execution_count": 82,
     "metadata": {},
     "output_type": "execute_result"
    }
   ],
   "source": [
    "min(app_train['sum_amt_credit_sum_limit'])"
   ]
  },
  {
   "cell_type": "code",
   "execution_count": 83,
   "metadata": {
    "colab": {
     "base_uri": "https://localhost:8080/",
     "height": 112
    },
    "executionInfo": {
     "elapsed": 21,
     "status": "ok",
     "timestamp": 1651711270844,
     "user": {
      "displayName": "大竹 春生- Haruo Otake",
      "userId": "13319069107488779089"
     },
     "user_tz": -540
    },
    "id": "KG_0AYlaTDGr",
    "outputId": "8999e8c0-eed7-477a-9ef4-dc1fca639d98"
   },
   "outputs": [
    {
     "data": {
      "text/html": [
       "<div>\n",
       "<style scoped>\n",
       "    .dataframe tbody tr th:only-of-type {\n",
       "        vertical-align: middle;\n",
       "    }\n",
       "\n",
       "    .dataframe tbody tr th {\n",
       "        vertical-align: top;\n",
       "    }\n",
       "\n",
       "    .dataframe thead th {\n",
       "        text-align: right;\n",
       "    }\n",
       "</style>\n",
       "<table border=\"1\" class=\"dataframe\">\n",
       "  <thead>\n",
       "    <tr style=\"text-align: right;\">\n",
       "      <th></th>\n",
       "      <th>TARGET</th>\n",
       "      <th>sum_amt_credit_sum_limit</th>\n",
       "    </tr>\n",
       "  </thead>\n",
       "  <tbody>\n",
       "    <tr>\n",
       "      <th>TARGET</th>\n",
       "      <td>1.000000</td>\n",
       "      <td>-0.012941</td>\n",
       "    </tr>\n",
       "    <tr>\n",
       "      <th>sum_amt_credit_sum_limit</th>\n",
       "      <td>-0.012941</td>\n",
       "      <td>1.000000</td>\n",
       "    </tr>\n",
       "  </tbody>\n",
       "</table>\n",
       "</div>"
      ],
      "text/plain": [
       "                            TARGET  sum_amt_credit_sum_limit\n",
       "TARGET                    1.000000                 -0.012941\n",
       "sum_amt_credit_sum_limit -0.012941                  1.000000"
      ]
     },
     "execution_count": 83,
     "metadata": {},
     "output_type": "execute_result"
    }
   ],
   "source": [
    "app_train[['TARGET', 'sum_amt_credit_sum_limit']].corr()"
   ]
  },
  {
   "cell_type": "code",
   "execution_count": 84,
   "metadata": {},
   "outputs": [
    {
     "name": "stdout",
     "output_type": "stream",
     "text": [
      "The correlation between sum_amt_credit_sum_limit and the TARGET is -0.0129\n",
      "Median value for loan that was not repaid = 0.0000\n",
      "Median value for loan that was repaid =     0.0000\n"
     ]
    },
    {
     "data": {
      "image/png": "[encoded data removed]",
      "text/plain": [
       "<Figure size 864x432 with 1 Axes>"
      ]
     },
     "metadata": {
      "needs_background": "light"
     },
     "output_type": "display_data"
    }
   ],
   "source": [
    "kde_target('sum_amt_credit_sum_limit', app_train)"
   ]
  },
  {
   "cell_type": "markdown",
   "metadata": {
    "id": "lnPtXkUwUFut"
   },
   "source": [
    "### AMT_CREDIT_SUM_OVERDUE(信用情報機関に登録されているクレジットカードの残高(使用額))"
   ]
  },
  {
   "cell_type": "code",
   "execution_count": 85,
   "metadata": {
    "colab": {
     "base_uri": "https://localhost:8080/"
    },
    "executionInfo": {
     "elapsed": 19,
     "status": "ok",
     "timestamp": 1651711270844,
     "user": {
      "displayName": "大竹 春生- Haruo Otake",
      "userId": "13319069107488779089"
     },
     "user_tz": -540
    },
    "id": "adHoOVaKTDK1",
    "outputId": "b7f73d6b-41dc-497a-e1e3-154522857665"
   },
   "outputs": [
    {
     "data": {
      "text/plain": [
       "1982562.12"
      ]
     },
     "execution_count": 85,
     "metadata": {},
     "output_type": "execute_result"
    }
   ],
   "source": [
    "max(app_train['sum_amt_credit_sum_overdue'])"
   ]
  },
  {
   "cell_type": "code",
   "execution_count": 86,
   "metadata": {
    "colab": {
     "base_uri": "https://localhost:8080/"
    },
    "executionInfo": {
     "elapsed": 14,
     "status": "ok",
     "timestamp": 1651711270844,
     "user": {
      "displayName": "大竹 春生- Haruo Otake",
      "userId": "13319069107488779089"
     },
     "user_tz": -540
    },
    "id": "RPntBKwwSrld",
    "outputId": "99b8b93f-8e4b-4a09-8462-def5386ee4d4"
   },
   "outputs": [
    {
     "data": {
      "text/plain": [
       "0.0"
      ]
     },
     "execution_count": 86,
     "metadata": {},
     "output_type": "execute_result"
    }
   ],
   "source": [
    "min(app_train['sum_amt_credit_sum_overdue'])"
   ]
  },
  {
   "cell_type": "code",
   "execution_count": 87,
   "metadata": {
    "colab": {
     "base_uri": "https://localhost:8080/",
     "height": 112
    },
    "executionInfo": {
     "elapsed": 12,
     "status": "ok",
     "timestamp": 1651711270844,
     "user": {
      "displayName": "大竹 春生- Haruo Otake",
      "userId": "13319069107488779089"
     },
     "user_tz": -540
    },
    "id": "wgftEfo0RmRz",
    "outputId": "16412645-9cd0-4082-966c-7c762dfbe93d"
   },
   "outputs": [
    {
     "data": {
      "text/html": [
       "<div>\n",
       "<style scoped>\n",
       "    .dataframe tbody tr th:only-of-type {\n",
       "        vertical-align: middle;\n",
       "    }\n",
       "\n",
       "    .dataframe tbody tr th {\n",
       "        vertical-align: top;\n",
       "    }\n",
       "\n",
       "    .dataframe thead th {\n",
       "        text-align: right;\n",
       "    }\n",
       "</style>\n",
       "<table border=\"1\" class=\"dataframe\">\n",
       "  <thead>\n",
       "    <tr style=\"text-align: right;\">\n",
       "      <th></th>\n",
       "      <th>TARGET</th>\n",
       "      <th>sum_amt_credit_sum_overdue</th>\n",
       "    </tr>\n",
       "  </thead>\n",
       "  <tbody>\n",
       "    <tr>\n",
       "      <th>TARGET</th>\n",
       "      <td>1.000000</td>\n",
       "      <td>0.009505</td>\n",
       "    </tr>\n",
       "    <tr>\n",
       "      <th>sum_amt_credit_sum_overdue</th>\n",
       "      <td>0.009505</td>\n",
       "      <td>1.000000</td>\n",
       "    </tr>\n",
       "  </tbody>\n",
       "</table>\n",
       "</div>"
      ],
      "text/plain": [
       "                              TARGET  sum_amt_credit_sum_overdue\n",
       "TARGET                      1.000000                    0.009505\n",
       "sum_amt_credit_sum_overdue  0.009505                    1.000000"
      ]
     },
     "execution_count": 87,
     "metadata": {},
     "output_type": "execute_result"
    }
   ],
   "source": [
    "app_train[['TARGET', 'sum_amt_credit_sum_overdue']].corr()"
   ]
  },
  {
   "cell_type": "code",
   "execution_count": 88,
   "metadata": {},
   "outputs": [
    {
     "name": "stdout",
     "output_type": "stream",
     "text": [
      "The correlation between sum_amt_credit_sum_overdue and the TARGET is 0.0095\n",
      "Median value for loan that was not repaid = 0.0000\n",
      "Median value for loan that was repaid =     0.0000\n"
     ]
    },
    {
     "data": {
      "image/png": "[encoded data removed]",
      "text/plain": [
       "<Figure size 864x432 with 1 Axes>"
      ]
     },
     "metadata": {
      "needs_background": "light"
     },
     "output_type": "display_data"
    }
   ],
   "source": [
    "kde_target('sum_amt_credit_sum_overdue', app_train)"
   ]
  },
  {
   "cell_type": "code",
   "execution_count": 89,
   "metadata": {},
   "outputs": [],
   "source": [
    "columns = ['sum_amt_credit_sum_overdue']\n",
    "app_train.drop(columns, axis=1, inplace=True)\n",
    "app_test.drop(columns, axis=1, inplace=True)"
   ]
  },
  {
   "cell_type": "markdown",
   "metadata": {
    "id": "TCMzqPH1Ubd5"
   },
   "source": [
    "### CREDIT_TYPE(クレジットカードの種類)"
   ]
  },
  {
   "cell_type": "code",
   "execution_count": 90,
   "metadata": {},
   "outputs": [
    {
     "data": {
      "text/plain": [
       "1.0     61503\n",
       "2.0     22566\n",
       "3.0      1619\n",
       "4.0      1317\n",
       "5.0       664\n",
       "6.0        67\n",
       "7.0        39\n",
       "8.0        38\n",
       "9.0        12\n",
       "10.0        4\n",
       "Name: credit_type, dtype: int64"
      ]
     },
     "execution_count": 90,
     "metadata": {},
     "output_type": "execute_result"
    }
   ],
   "source": [
    "values = ['Consumer credit', 'Credit card', 'Car loan', 'Mortgage', 'Microloan', 'Loan for business development', 'Another type of loan', 'Loan for working capital replenishment', 'Unknown type of loan', 'Cash loan (non-earmarked)', 'Real estate loan', 'Loan for the purchase of equipment']\n",
    "app_train['credit_type'].replace(values, [1, 2, 3, 4, 5, 6, 7, 8, 9, 10, 11, 12], inplace=True)\n",
    "app_test['credit_type'].replace(values, [1, 2, 3, 4, 5, 6, 7, 8, 9, 10, 11, 12], inplace=True)\n",
    "app_train['credit_type'].value_counts()"
   ]
  },
  {
   "cell_type": "code",
   "execution_count": 92,
   "metadata": {},
   "outputs": [
    {
     "data": {
      "text/plain": [
       "1.0     30227\n",
       "2.0      9937\n",
       "3.0       783\n",
       "4.0       606\n",
       "5.0       334\n",
       "6.0        52\n",
       "7.0        25\n",
       "8.0        19\n",
       "9.0        11\n",
       "10.0        3\n",
       "11.0        2\n",
       "12.0        1\n",
       "Name: credit_type, dtype: int64"
      ]
     },
     "execution_count": 92,
     "metadata": {},
     "output_type": "execute_result"
    }
   ],
   "source": [
    "app_test['credit_type'].value_counts()"
   ]
  },
  {
   "cell_type": "code",
   "execution_count": 93,
   "metadata": {},
   "outputs": [
    {
     "data": {
      "image/png": "[encoded data removed]",
      "text/plain": [
       "<Figure size 432x288 with 1 Axes>"
      ]
     },
     "metadata": {
      "needs_background": "light"
     },
     "output_type": "display_data"
    }
   ],
   "source": [
    "%matplotlib inline\n",
    "sns.countplot(x='credit_type', hue='TARGET', data=app_train)\n",
    "plt.legend(loc='upper right', title='TARGET')\n",
    "plt.show()"
   ]
  },
  {
   "cell_type": "code",
   "execution_count": 94,
   "metadata": {},
   "outputs": [
    {
     "data": {
      "text/html": [
       "<div>\n",
       "<style scoped>\n",
       "    .dataframe tbody tr th:only-of-type {\n",
       "        vertical-align: middle;\n",
       "    }\n",
       "\n",
       "    .dataframe tbody tr th {\n",
       "        vertical-align: top;\n",
       "    }\n",
       "\n",
       "    .dataframe thead th {\n",
       "        text-align: right;\n",
       "    }\n",
       "</style>\n",
       "<table border=\"1\" class=\"dataframe\">\n",
       "  <thead>\n",
       "    <tr style=\"text-align: right;\">\n",
       "      <th></th>\n",
       "      <th>TARGET</th>\n",
       "      <th>credit_type</th>\n",
       "    </tr>\n",
       "  </thead>\n",
       "  <tbody>\n",
       "    <tr>\n",
       "      <th>TARGET</th>\n",
       "      <td>1.000000</td>\n",
       "      <td>0.019325</td>\n",
       "    </tr>\n",
       "    <tr>\n",
       "      <th>credit_type</th>\n",
       "      <td>0.019325</td>\n",
       "      <td>1.000000</td>\n",
       "    </tr>\n",
       "  </tbody>\n",
       "</table>\n",
       "</div>"
      ],
      "text/plain": [
       "               TARGET  credit_type\n",
       "TARGET       1.000000     0.019325\n",
       "credit_type  0.019325     1.000000"
      ]
     },
     "execution_count": 94,
     "metadata": {},
     "output_type": "execute_result"
    }
   ],
   "source": [
    "app_train[['TARGET', 'credit_type']].corr()"
   ]
  },
  {
   "cell_type": "code",
   "execution_count": 95,
   "metadata": {},
   "outputs": [
    {
     "name": "stdout",
     "output_type": "stream",
     "text": [
      "The correlation between credit_type and the TARGET is 0.0193\n",
      "Median value for loan that was not repaid = 1.0000\n",
      "Median value for loan that was repaid =     1.0000\n"
     ]
    },
    {
     "data": {
      "image/png": "[encoded data removed]",
      "text/plain": [
       "<Figure size 864x432 with 1 Axes>"
      ]
     },
     "metadata": {
      "needs_background": "light"
     },
     "output_type": "display_data"
    }
   ],
   "source": [
    "kde_target('credit_type', app_train)"
   ]
  },
  {
   "cell_type": "markdown",
   "metadata": {
    "id": "aK0Z-l65UpMx"
   },
   "source": [
    "### DAYS_CREDIT_UPDATE(申し込み日から、信用情報機関に最後に情報が登録された日までの日数)"
   ]
  },
  {
   "cell_type": "code",
   "execution_count": 96,
   "metadata": {},
   "outputs": [
    {
     "data": {
      "text/plain": [
       "-7.0       3833\n",
       "-8.0       3736\n",
       "-6.0       3568\n",
       "-9.0       3249\n",
       "-5.0       3085\n",
       "           ... \n",
       "-2708.0       1\n",
       "-2397.0       1\n",
       "-2426.0       1\n",
       "-2513.0       1\n",
       "-1452.0       1\n",
       "Name: max_days_credit_update, Length: 2088, dtype: int64"
      ]
     },
     "execution_count": 96,
     "metadata": {},
     "output_type": "execute_result"
    }
   ],
   "source": [
    "app_train['max_days_credit_update'].value_counts()"
   ]
  },
  {
   "cell_type": "code",
   "execution_count": 85,
   "metadata": {},
   "outputs": [
    {
     "data": {
      "text/html": [
       "<div>\n",
       "<style scoped>\n",
       "    .dataframe tbody tr th:only-of-type {\n",
       "        vertical-align: middle;\n",
       "    }\n",
       "\n",
       "    .dataframe tbody tr th {\n",
       "        vertical-align: top;\n",
       "    }\n",
       "\n",
       "    .dataframe thead th {\n",
       "        text-align: right;\n",
       "    }\n",
       "</style>\n",
       "<table border=\"1\" class=\"dataframe\">\n",
       "  <thead>\n",
       "    <tr style=\"text-align: right;\">\n",
       "      <th></th>\n",
       "      <th>TARGET</th>\n",
       "      <th>max_days_credit_update</th>\n",
       "    </tr>\n",
       "  </thead>\n",
       "  <tbody>\n",
       "    <tr>\n",
       "      <th>TARGET</th>\n",
       "      <td>1.000000</td>\n",
       "      <td>0.022312</td>\n",
       "    </tr>\n",
       "    <tr>\n",
       "      <th>max_days_credit_update</th>\n",
       "      <td>0.022312</td>\n",
       "      <td>1.000000</td>\n",
       "    </tr>\n",
       "  </tbody>\n",
       "</table>\n",
       "</div>"
      ],
      "text/plain": [
       "                          TARGET  max_days_credit_update\n",
       "TARGET                  1.000000                0.022312\n",
       "max_days_credit_update  0.022312                1.000000"
      ]
     },
     "execution_count": 85,
     "metadata": {},
     "output_type": "execute_result"
    }
   ],
   "source": [
    "app_train[['TARGET', 'max_days_credit_update']].corr()"
   ]
  },
  {
   "cell_type": "code",
   "execution_count": 97,
   "metadata": {},
   "outputs": [
    {
     "name": "stdout",
     "output_type": "stream",
     "text": [
      "The correlation between max_days_credit_update and the TARGET is 0.0223\n",
      "Median value for loan that was not repaid = -14.0000\n",
      "Median value for loan that was repaid =     -17.0000\n"
     ]
    },
    {
     "data": {
      "image/png": "[encoded data removed]",
      "text/plain": [
       "<Figure size 864x432 with 1 Axes>"
      ]
     },
     "metadata": {
      "needs_background": "light"
     },
     "output_type": "display_data"
    }
   ],
   "source": [
    "kde_target('max_days_credit_update', app_train)"
   ]
  },
  {
   "cell_type": "markdown",
   "metadata": {
    "id": "-6Ziz5GLVQHj"
   },
   "source": [
    "### AMT_ANNUITY(登録されているローン支払い額)"
   ]
  },
  {
   "cell_type": "code",
   "execution_count": 98,
   "metadata": {
    "colab": {
     "base_uri": "https://localhost:8080/"
    },
    "executionInfo": {
     "elapsed": 10,
     "status": "ok",
     "timestamp": 1651711270844,
     "user": {
      "displayName": "大竹 春生- Haruo Otake",
      "userId": "13319069107488779089"
     },
     "user_tz": -540
    },
    "id": "4neWQAvcUcmh",
    "outputId": "5a489dfe-9576-45fb-ffea-f845bad6b72d"
   },
   "outputs": [
    {
     "data": {
      "text/plain": [
       "68493591.0"
      ]
     },
     "execution_count": 98,
     "metadata": {},
     "output_type": "execute_result"
    }
   ],
   "source": [
    "max(app_train['sum_amt_annuity'])"
   ]
  },
  {
   "cell_type": "code",
   "execution_count": 99,
   "metadata": {
    "colab": {
     "base_uri": "https://localhost:8080/"
    },
    "executionInfo": {
     "elapsed": 10,
     "status": "ok",
     "timestamp": 1651711270845,
     "user": {
      "displayName": "大竹 春生- Haruo Otake",
      "userId": "13319069107488779089"
     },
     "user_tz": -540
    },
    "id": "pj4IpgTFUcp7",
    "outputId": "120160e0-79e1-4dcb-eae4-fe8aab965553"
   },
   "outputs": [
    {
     "data": {
      "text/plain": [
       "0.0"
      ]
     },
     "execution_count": 99,
     "metadata": {},
     "output_type": "execute_result"
    }
   ],
   "source": [
    "min(app_train['sum_amt_annuity'])"
   ]
  },
  {
   "cell_type": "code",
   "execution_count": 102,
   "metadata": {
    "colab": {
     "base_uri": "https://localhost:8080/",
     "height": 112
    },
    "executionInfo": {
     "elapsed": 412,
     "status": "ok",
     "timestamp": 1651711271249,
     "user": {
      "displayName": "大竹 春生- Haruo Otake",
      "userId": "13319069107488779089"
     },
     "user_tz": -540
    },
    "id": "hzrE8OZrUcs5",
    "outputId": "04fe297f-9fc2-4f42-8182-0d4ef1377dd6"
   },
   "outputs": [
    {
     "data": {
      "text/html": [
       "<div>\n",
       "<style scoped>\n",
       "    .dataframe tbody tr th:only-of-type {\n",
       "        vertical-align: middle;\n",
       "    }\n",
       "\n",
       "    .dataframe tbody tr th {\n",
       "        vertical-align: top;\n",
       "    }\n",
       "\n",
       "    .dataframe thead th {\n",
       "        text-align: right;\n",
       "    }\n",
       "</style>\n",
       "<table border=\"1\" class=\"dataframe\">\n",
       "  <thead>\n",
       "    <tr style=\"text-align: right;\">\n",
       "      <th></th>\n",
       "      <th>TARGET</th>\n",
       "      <th>sum_amt_annuity</th>\n",
       "    </tr>\n",
       "  </thead>\n",
       "  <tbody>\n",
       "    <tr>\n",
       "      <th>TARGET</th>\n",
       "      <td>1.00000</td>\n",
       "      <td>0.00429</td>\n",
       "    </tr>\n",
       "    <tr>\n",
       "      <th>sum_amt_annuity</th>\n",
       "      <td>0.00429</td>\n",
       "      <td>1.00000</td>\n",
       "    </tr>\n",
       "  </tbody>\n",
       "</table>\n",
       "</div>"
      ],
      "text/plain": [
       "                  TARGET  sum_amt_annuity\n",
       "TARGET           1.00000          0.00429\n",
       "sum_amt_annuity  0.00429          1.00000"
      ]
     },
     "execution_count": 102,
     "metadata": {},
     "output_type": "execute_result"
    }
   ],
   "source": [
    "app_train[['TARGET', 'sum_amt_annuity']].corr()"
   ]
  },
  {
   "cell_type": "code",
   "execution_count": 103,
   "metadata": {},
   "outputs": [
    {
     "name": "stdout",
     "output_type": "stream",
     "text": [
      "The correlation between sum_amt_annuity and the TARGET is 0.0043\n",
      "Median value for loan that was not repaid = 8619.0075\n",
      "Median value for loan that was repaid =     5004.0000\n"
     ]
    },
    {
     "data": {
      "image/png": "[encoded data removed]",
      "text/plain": [
       "<Figure size 864x432 with 1 Axes>"
      ]
     },
     "metadata": {
      "needs_background": "light"
     },
     "output_type": "display_data"
    }
   ],
   "source": [
    "kde_target('sum_amt_annuity', app_train)"
   ]
  },
  {
   "cell_type": "code",
   "execution_count": 105,
   "metadata": {},
   "outputs": [
    {
     "ename": "KeyError",
     "evalue": "\"['sum_amt_annuity'] not found in axis\"",
     "output_type": "error",
     "traceback": [
      "\u001b[1;31m---------------------------------------------------------------------------\u001b[0m",
      "\u001b[1;31mKeyError\u001b[0m                                  Traceback (most recent call last)",
      "\u001b[1;32m~\\AppData\\Local\\Temp/ipykernel_15252/2971823667.py\u001b[0m in \u001b[0;36m<module>\u001b[1;34m\u001b[0m\n\u001b[0;32m      1\u001b[0m \u001b[0mcolumns\u001b[0m \u001b[1;33m=\u001b[0m \u001b[1;33m[\u001b[0m\u001b[1;34m'sum_amt_annuity'\u001b[0m\u001b[1;33m]\u001b[0m\u001b[1;33m\u001b[0m\u001b[1;33m\u001b[0m\u001b[0m\n\u001b[1;32m----> 2\u001b[1;33m \u001b[0mapp_train\u001b[0m\u001b[1;33m.\u001b[0m\u001b[0mdrop\u001b[0m\u001b[1;33m(\u001b[0m\u001b[0mcolumns\u001b[0m\u001b[1;33m,\u001b[0m \u001b[0maxis\u001b[0m\u001b[1;33m=\u001b[0m\u001b[1;36m1\u001b[0m\u001b[1;33m,\u001b[0m \u001b[0minplace\u001b[0m\u001b[1;33m=\u001b[0m\u001b[1;32mTrue\u001b[0m\u001b[1;33m)\u001b[0m\u001b[1;33m\u001b[0m\u001b[1;33m\u001b[0m\u001b[0m\n\u001b[0m\u001b[0;32m      3\u001b[0m \u001b[0mapp_test\u001b[0m\u001b[1;33m.\u001b[0m\u001b[0mdrop\u001b[0m\u001b[1;33m(\u001b[0m\u001b[0mcolumns\u001b[0m\u001b[1;33m,\u001b[0m \u001b[0maxis\u001b[0m\u001b[1;33m=\u001b[0m\u001b[1;36m1\u001b[0m\u001b[1;33m,\u001b[0m \u001b[0minplace\u001b[0m\u001b[1;33m=\u001b[0m\u001b[1;32mTrue\u001b[0m\u001b[1;33m)\u001b[0m\u001b[1;33m\u001b[0m\u001b[1;33m\u001b[0m\u001b[0m\n",
      "\u001b[1;32mC:\\ProgramData\\Anaconda3\\lib\\site-packages\\pandas\\util\\_decorators.py\u001b[0m in \u001b[0;36mwrapper\u001b[1;34m(*args, **kwargs)\u001b[0m\n\u001b[0;32m    309\u001b[0m                     \u001b[0mstacklevel\u001b[0m\u001b[1;33m=\u001b[0m\u001b[0mstacklevel\u001b[0m\u001b[1;33m,\u001b[0m\u001b[1;33m\u001b[0m\u001b[1;33m\u001b[0m\u001b[0m\n\u001b[0;32m    310\u001b[0m                 )\n\u001b[1;32m--> 311\u001b[1;33m             \u001b[1;32mreturn\u001b[0m \u001b[0mfunc\u001b[0m\u001b[1;33m(\u001b[0m\u001b[1;33m*\u001b[0m\u001b[0margs\u001b[0m\u001b[1;33m,\u001b[0m \u001b[1;33m**\u001b[0m\u001b[0mkwargs\u001b[0m\u001b[1;33m)\u001b[0m\u001b[1;33m\u001b[0m\u001b[1;33m\u001b[0m\u001b[0m\n\u001b[0m\u001b[0;32m    312\u001b[0m \u001b[1;33m\u001b[0m\u001b[0m\n\u001b[0;32m    313\u001b[0m         \u001b[1;32mreturn\u001b[0m \u001b[0mwrapper\u001b[0m\u001b[1;33m\u001b[0m\u001b[1;33m\u001b[0m\u001b[0m\n",
      "\u001b[1;32mC:\\ProgramData\\Anaconda3\\lib\\site-packages\\pandas\\core\\frame.py\u001b[0m in \u001b[0;36mdrop\u001b[1;34m(self, labels, axis, index, columns, level, inplace, errors)\u001b[0m\n\u001b[0;32m   4904\u001b[0m                 \u001b[0mweight\u001b[0m  \u001b[1;36m1.0\u001b[0m     \u001b[1;36m0.8\u001b[0m\u001b[1;33m\u001b[0m\u001b[1;33m\u001b[0m\u001b[0m\n\u001b[0;32m   4905\u001b[0m         \"\"\"\n\u001b[1;32m-> 4906\u001b[1;33m         return super().drop(\n\u001b[0m\u001b[0;32m   4907\u001b[0m             \u001b[0mlabels\u001b[0m\u001b[1;33m=\u001b[0m\u001b[0mlabels\u001b[0m\u001b[1;33m,\u001b[0m\u001b[1;33m\u001b[0m\u001b[1;33m\u001b[0m\u001b[0m\n\u001b[0;32m   4908\u001b[0m             \u001b[0maxis\u001b[0m\u001b[1;33m=\u001b[0m\u001b[0maxis\u001b[0m\u001b[1;33m,\u001b[0m\u001b[1;33m\u001b[0m\u001b[1;33m\u001b[0m\u001b[0m\n",
      "\u001b[1;32mC:\\ProgramData\\Anaconda3\\lib\\site-packages\\pandas\\core\\generic.py\u001b[0m in \u001b[0;36mdrop\u001b[1;34m(self, labels, axis, index, columns, level, inplace, errors)\u001b[0m\n\u001b[0;32m   4148\u001b[0m         \u001b[1;32mfor\u001b[0m \u001b[0maxis\u001b[0m\u001b[1;33m,\u001b[0m \u001b[0mlabels\u001b[0m \u001b[1;32min\u001b[0m \u001b[0maxes\u001b[0m\u001b[1;33m.\u001b[0m\u001b[0mitems\u001b[0m\u001b[1;33m(\u001b[0m\u001b[1;33m)\u001b[0m\u001b[1;33m:\u001b[0m\u001b[1;33m\u001b[0m\u001b[1;33m\u001b[0m\u001b[0m\n\u001b[0;32m   4149\u001b[0m             \u001b[1;32mif\u001b[0m \u001b[0mlabels\u001b[0m \u001b[1;32mis\u001b[0m \u001b[1;32mnot\u001b[0m \u001b[1;32mNone\u001b[0m\u001b[1;33m:\u001b[0m\u001b[1;33m\u001b[0m\u001b[1;33m\u001b[0m\u001b[0m\n\u001b[1;32m-> 4150\u001b[1;33m                 \u001b[0mobj\u001b[0m \u001b[1;33m=\u001b[0m \u001b[0mobj\u001b[0m\u001b[1;33m.\u001b[0m\u001b[0m_drop_axis\u001b[0m\u001b[1;33m(\u001b[0m\u001b[0mlabels\u001b[0m\u001b[1;33m,\u001b[0m \u001b[0maxis\u001b[0m\u001b[1;33m,\u001b[0m \u001b[0mlevel\u001b[0m\u001b[1;33m=\u001b[0m\u001b[0mlevel\u001b[0m\u001b[1;33m,\u001b[0m \u001b[0merrors\u001b[0m\u001b[1;33m=\u001b[0m\u001b[0merrors\u001b[0m\u001b[1;33m)\u001b[0m\u001b[1;33m\u001b[0m\u001b[1;33m\u001b[0m\u001b[0m\n\u001b[0m\u001b[0;32m   4151\u001b[0m \u001b[1;33m\u001b[0m\u001b[0m\n\u001b[0;32m   4152\u001b[0m         \u001b[1;32mif\u001b[0m \u001b[0minplace\u001b[0m\u001b[1;33m:\u001b[0m\u001b[1;33m\u001b[0m\u001b[1;33m\u001b[0m\u001b[0m\n",
      "\u001b[1;32mC:\\ProgramData\\Anaconda3\\lib\\site-packages\\pandas\\core\\generic.py\u001b[0m in \u001b[0;36m_drop_axis\u001b[1;34m(self, labels, axis, level, errors)\u001b[0m\n\u001b[0;32m   4183\u001b[0m                 \u001b[0mnew_axis\u001b[0m \u001b[1;33m=\u001b[0m \u001b[0maxis\u001b[0m\u001b[1;33m.\u001b[0m\u001b[0mdrop\u001b[0m\u001b[1;33m(\u001b[0m\u001b[0mlabels\u001b[0m\u001b[1;33m,\u001b[0m \u001b[0mlevel\u001b[0m\u001b[1;33m=\u001b[0m\u001b[0mlevel\u001b[0m\u001b[1;33m,\u001b[0m \u001b[0merrors\u001b[0m\u001b[1;33m=\u001b[0m\u001b[0merrors\u001b[0m\u001b[1;33m)\u001b[0m\u001b[1;33m\u001b[0m\u001b[1;33m\u001b[0m\u001b[0m\n\u001b[0;32m   4184\u001b[0m             \u001b[1;32melse\u001b[0m\u001b[1;33m:\u001b[0m\u001b[1;33m\u001b[0m\u001b[1;33m\u001b[0m\u001b[0m\n\u001b[1;32m-> 4185\u001b[1;33m                 \u001b[0mnew_axis\u001b[0m \u001b[1;33m=\u001b[0m \u001b[0maxis\u001b[0m\u001b[1;33m.\u001b[0m\u001b[0mdrop\u001b[0m\u001b[1;33m(\u001b[0m\u001b[0mlabels\u001b[0m\u001b[1;33m,\u001b[0m \u001b[0merrors\u001b[0m\u001b[1;33m=\u001b[0m\u001b[0merrors\u001b[0m\u001b[1;33m)\u001b[0m\u001b[1;33m\u001b[0m\u001b[1;33m\u001b[0m\u001b[0m\n\u001b[0m\u001b[0;32m   4186\u001b[0m             \u001b[0mresult\u001b[0m \u001b[1;33m=\u001b[0m \u001b[0mself\u001b[0m\u001b[1;33m.\u001b[0m\u001b[0mreindex\u001b[0m\u001b[1;33m(\u001b[0m\u001b[1;33m**\u001b[0m\u001b[1;33m{\u001b[0m\u001b[0maxis_name\u001b[0m\u001b[1;33m:\u001b[0m \u001b[0mnew_axis\u001b[0m\u001b[1;33m}\u001b[0m\u001b[1;33m)\u001b[0m\u001b[1;33m\u001b[0m\u001b[1;33m\u001b[0m\u001b[0m\n\u001b[0;32m   4187\u001b[0m \u001b[1;33m\u001b[0m\u001b[0m\n",
      "\u001b[1;32mC:\\ProgramData\\Anaconda3\\lib\\site-packages\\pandas\\core\\indexes\\base.py\u001b[0m in \u001b[0;36mdrop\u001b[1;34m(self, labels, errors)\u001b[0m\n\u001b[0;32m   6015\u001b[0m         \u001b[1;32mif\u001b[0m \u001b[0mmask\u001b[0m\u001b[1;33m.\u001b[0m\u001b[0many\u001b[0m\u001b[1;33m(\u001b[0m\u001b[1;33m)\u001b[0m\u001b[1;33m:\u001b[0m\u001b[1;33m\u001b[0m\u001b[1;33m\u001b[0m\u001b[0m\n\u001b[0;32m   6016\u001b[0m             \u001b[1;32mif\u001b[0m \u001b[0merrors\u001b[0m \u001b[1;33m!=\u001b[0m \u001b[1;34m\"ignore\"\u001b[0m\u001b[1;33m:\u001b[0m\u001b[1;33m\u001b[0m\u001b[1;33m\u001b[0m\u001b[0m\n\u001b[1;32m-> 6017\u001b[1;33m                 \u001b[1;32mraise\u001b[0m \u001b[0mKeyError\u001b[0m\u001b[1;33m(\u001b[0m\u001b[1;34mf\"{labels[mask]} not found in axis\"\u001b[0m\u001b[1;33m)\u001b[0m\u001b[1;33m\u001b[0m\u001b[1;33m\u001b[0m\u001b[0m\n\u001b[0m\u001b[0;32m   6018\u001b[0m             \u001b[0mindexer\u001b[0m \u001b[1;33m=\u001b[0m \u001b[0mindexer\u001b[0m\u001b[1;33m[\u001b[0m\u001b[1;33m~\u001b[0m\u001b[0mmask\u001b[0m\u001b[1;33m]\u001b[0m\u001b[1;33m\u001b[0m\u001b[1;33m\u001b[0m\u001b[0m\n\u001b[0;32m   6019\u001b[0m         \u001b[1;32mreturn\u001b[0m \u001b[0mself\u001b[0m\u001b[1;33m.\u001b[0m\u001b[0mdelete\u001b[0m\u001b[1;33m(\u001b[0m\u001b[0mindexer\u001b[0m\u001b[1;33m)\u001b[0m\u001b[1;33m\u001b[0m\u001b[1;33m\u001b[0m\u001b[0m\n",
      "\u001b[1;31mKeyError\u001b[0m: \"['sum_amt_annuity'] not found in axis\""
     ]
    }
   ],
   "source": [
    "columns = ['sum_amt_annuity']\n",
    "app_train.drop(columns, axis=1, inplace=True)\n",
    "app_test.drop(columns, axis=1, inplace=True)"
   ]
  },
  {
   "cell_type": "markdown",
   "metadata": {
    "id": "ZG7TCFZ2VxfM"
   },
   "source": [
    "### hist_max_credit_day_overdue"
   ]
  },
  {
   "cell_type": "code",
   "execution_count": 106,
   "metadata": {
    "colab": {
     "base_uri": "https://localhost:8080/"
    },
    "executionInfo": {
     "elapsed": 24,
     "status": "ok",
     "timestamp": 1651711271249,
     "user": {
      "displayName": "大竹 春生- Haruo Otake",
      "userId": "13319069107488779089"
     },
     "user_tz": -540
    },
    "id": "MgpTSgtHUc1o",
    "outputId": "1161face-80bc-4280-d09d-fe4de1aeb1f0"
   },
   "outputs": [
    {
     "data": {
      "text/plain": [
       "2792"
      ]
     },
     "execution_count": 106,
     "metadata": {},
     "output_type": "execute_result"
    }
   ],
   "source": [
    "max(app_train['hist_max_credit_day_overdue'])"
   ]
  },
  {
   "cell_type": "code",
   "execution_count": 107,
   "metadata": {
    "colab": {
     "base_uri": "https://localhost:8080/"
    },
    "executionInfo": {
     "elapsed": 19,
     "status": "ok",
     "timestamp": 1651711271249,
     "user": {
      "displayName": "大竹 春生- Haruo Otake",
      "userId": "13319069107488779089"
     },
     "user_tz": -540
    },
    "id": "r9W6LR9PUc4w",
    "outputId": "f8856a77-1b2a-458c-a3f7-8abd045427ff"
   },
   "outputs": [
    {
     "data": {
      "text/plain": [
       "0"
      ]
     },
     "execution_count": 107,
     "metadata": {},
     "output_type": "execute_result"
    }
   ],
   "source": [
    "min(app_train['hist_max_credit_day_overdue'])"
   ]
  },
  {
   "cell_type": "code",
   "execution_count": 108,
   "metadata": {
    "colab": {
     "base_uri": "https://localhost:8080/",
     "height": 112
    },
    "executionInfo": {
     "elapsed": 17,
     "status": "ok",
     "timestamp": 1651711271250,
     "user": {
      "displayName": "大竹 春生- Haruo Otake",
      "userId": "13319069107488779089"
     },
     "user_tz": -540
    },
    "id": "YNlMkDDAUc7p",
    "outputId": "7254cd68-0161-4ad6-e77f-096657739268"
   },
   "outputs": [
    {
     "data": {
      "text/html": [
       "<div>\n",
       "<style scoped>\n",
       "    .dataframe tbody tr th:only-of-type {\n",
       "        vertical-align: middle;\n",
       "    }\n",
       "\n",
       "    .dataframe tbody tr th {\n",
       "        vertical-align: top;\n",
       "    }\n",
       "\n",
       "    .dataframe thead th {\n",
       "        text-align: right;\n",
       "    }\n",
       "</style>\n",
       "<table border=\"1\" class=\"dataframe\">\n",
       "  <thead>\n",
       "    <tr style=\"text-align: right;\">\n",
       "      <th></th>\n",
       "      <th>TARGET</th>\n",
       "      <th>hist_max_credit_day_overdue</th>\n",
       "    </tr>\n",
       "  </thead>\n",
       "  <tbody>\n",
       "    <tr>\n",
       "      <th>TARGET</th>\n",
       "      <td>1.00000</td>\n",
       "      <td>0.00436</td>\n",
       "    </tr>\n",
       "    <tr>\n",
       "      <th>hist_max_credit_day_overdue</th>\n",
       "      <td>0.00436</td>\n",
       "      <td>1.00000</td>\n",
       "    </tr>\n",
       "  </tbody>\n",
       "</table>\n",
       "</div>"
      ],
      "text/plain": [
       "                              TARGET  hist_max_credit_day_overdue\n",
       "TARGET                       1.00000                      0.00436\n",
       "hist_max_credit_day_overdue  0.00436                      1.00000"
      ]
     },
     "execution_count": 108,
     "metadata": {},
     "output_type": "execute_result"
    }
   ],
   "source": [
    "app_train[['TARGET', 'hist_max_credit_day_overdue']].corr()"
   ]
  },
  {
   "cell_type": "code",
   "execution_count": 109,
   "metadata": {},
   "outputs": [
    {
     "name": "stdout",
     "output_type": "stream",
     "text": [
      "The correlation between hist_max_credit_day_overdue and the TARGET is 0.0044\n",
      "Median value for loan that was not repaid = 0.0000\n",
      "Median value for loan that was repaid =     0.0000\n"
     ]
    },
    {
     "data": {
      "image/png": "[encoded data removed]",
      "text/plain": [
       "<Figure size 864x432 with 1 Axes>"
      ]
     },
     "metadata": {
      "needs_background": "light"
     },
     "output_type": "display_data"
    }
   ],
   "source": [
    "kde_target('hist_max_credit_day_overdue', app_train)"
   ]
  },
  {
   "cell_type": "code",
   "execution_count": 110,
   "metadata": {},
   "outputs": [],
   "source": [
    "columns = ['hist_max_credit_day_overdue']\n",
    "app_train.drop(columns, axis=1, inplace=True)\n",
    "app_test.drop(columns, axis=1, inplace=True)"
   ]
  },
  {
   "cell_type": "markdown",
   "metadata": {
    "id": "vK0S-P-rWT6B"
   },
   "source": [
    "### hist_cnt_credit_day_overdue"
   ]
  },
  {
   "cell_type": "code",
   "execution_count": 94,
   "metadata": {
    "colab": {
     "base_uri": "https://localhost:8080/"
    },
    "executionInfo": {
     "elapsed": 15,
     "status": "ok",
     "timestamp": 1651711271250,
     "user": {
      "displayName": "大竹 春生- Haruo Otake",
      "userId": "13319069107488779089"
     },
     "user_tz": -540
    },
    "id": "Cw9lHB18WDK-",
    "outputId": "b63364b3-92ca-4357-aa32-d418fe85589d"
   },
   "outputs": [
    {
     "data": {
      "text/plain": [
       "2657"
      ]
     },
     "execution_count": 94,
     "metadata": {},
     "output_type": "execute_result"
    }
   ],
   "source": [
    "max(app_train['hist_cnt_credit_day_overdue'])"
   ]
  },
  {
   "cell_type": "code",
   "execution_count": 95,
   "metadata": {
    "colab": {
     "base_uri": "https://localhost:8080/"
    },
    "executionInfo": {
     "elapsed": 13,
     "status": "ok",
     "timestamp": 1651711271250,
     "user": {
      "displayName": "大竹 春生- Haruo Otake",
      "userId": "13319069107488779089"
     },
     "user_tz": -540
    },
    "id": "2F0LkqwJWDOL",
    "outputId": "8b836207-c4d1-445d-cc08-4f3174a2b7ea"
   },
   "outputs": [
    {
     "data": {
      "text/plain": [
       "0"
      ]
     },
     "execution_count": 95,
     "metadata": {},
     "output_type": "execute_result"
    }
   ],
   "source": [
    "min(app_train['hist_cnt_credit_day_overdue'])"
   ]
  },
  {
   "cell_type": "code",
   "execution_count": 96,
   "metadata": {
    "colab": {
     "base_uri": "https://localhost:8080/",
     "height": 112
    },
    "executionInfo": {
     "elapsed": 11,
     "status": "ok",
     "timestamp": 1651711271251,
     "user": {
      "displayName": "大竹 春生- Haruo Otake",
      "userId": "13319069107488779089"
     },
     "user_tz": -540
    },
    "id": "6D7sEikyWDRC",
    "outputId": "382a7375-e013-4f16-d91b-5269e6e2fd7f"
   },
   "outputs": [
    {
     "data": {
      "text/html": [
       "<div>\n",
       "<style scoped>\n",
       "    .dataframe tbody tr th:only-of-type {\n",
       "        vertical-align: middle;\n",
       "    }\n",
       "\n",
       "    .dataframe tbody tr th {\n",
       "        vertical-align: top;\n",
       "    }\n",
       "\n",
       "    .dataframe thead th {\n",
       "        text-align: right;\n",
       "    }\n",
       "</style>\n",
       "<table border=\"1\" class=\"dataframe\">\n",
       "  <thead>\n",
       "    <tr style=\"text-align: right;\">\n",
       "      <th></th>\n",
       "      <th>TARGET</th>\n",
       "      <th>hist_cnt_credit_day_overdue</th>\n",
       "    </tr>\n",
       "  </thead>\n",
       "  <tbody>\n",
       "    <tr>\n",
       "      <th>TARGET</th>\n",
       "      <td>1.000000</td>\n",
       "      <td>-0.018182</td>\n",
       "    </tr>\n",
       "    <tr>\n",
       "      <th>hist_cnt_credit_day_overdue</th>\n",
       "      <td>-0.018182</td>\n",
       "      <td>1.000000</td>\n",
       "    </tr>\n",
       "  </tbody>\n",
       "</table>\n",
       "</div>"
      ],
      "text/plain": [
       "                               TARGET  hist_cnt_credit_day_overdue\n",
       "TARGET                       1.000000                    -0.018182\n",
       "hist_cnt_credit_day_overdue -0.018182                     1.000000"
      ]
     },
     "execution_count": 96,
     "metadata": {},
     "output_type": "execute_result"
    }
   ],
   "source": [
    "app_train[['TARGET', 'hist_cnt_credit_day_overdue']].corr()"
   ]
  },
  {
   "cell_type": "code",
   "execution_count": 112,
   "metadata": {},
   "outputs": [
    {
     "name": "stdout",
     "output_type": "stream",
     "text": [
      "The correlation between hist_cnt_credit_day_overdue and the TARGET is -0.0182\n",
      "Median value for loan that was not repaid = 5.0000\n",
      "Median value for loan that was repaid =     6.0000\n"
     ]
    },
    {
     "data": {
      "image/png": "[encoded data removed]",
      "text/plain": [
       "<Figure size 864x432 with 1 Axes>"
      ]
     },
     "metadata": {
      "needs_background": "light"
     },
     "output_type": "display_data"
    }
   ],
   "source": [
    "kde_target('hist_cnt_credit_day_overdue', app_train)"
   ]
  },
  {
   "cell_type": "markdown",
   "metadata": {
    "id": "4nCwrdrhWisB"
   },
   "source": [
    "### hist_sum_credit_day_overdue"
   ]
  },
  {
   "cell_type": "code",
   "execution_count": 113,
   "metadata": {
    "colab": {
     "base_uri": "https://localhost:8080/"
    },
    "executionInfo": {
     "elapsed": 11,
     "status": "ok",
     "timestamp": 1651711271251,
     "user": {
      "displayName": "大竹 春生- Haruo Otake",
      "userId": "13319069107488779089"
     },
     "user_tz": -540
    },
    "id": "Xkm4GU3IWiGn",
    "outputId": "69ca1bb8-3324-4925-8dd2-4fa8d8d03b70"
   },
   "outputs": [
    {
     "data": {
      "text/plain": [
       "268032"
      ]
     },
     "execution_count": 113,
     "metadata": {},
     "output_type": "execute_result"
    }
   ],
   "source": [
    "max(app_train['hist_sum_credit_day_overdue'])"
   ]
  },
  {
   "cell_type": "code",
   "execution_count": 114,
   "metadata": {
    "colab": {
     "base_uri": "https://localhost:8080/"
    },
    "executionInfo": {
     "elapsed": 10,
     "status": "ok",
     "timestamp": 1651711271251,
     "user": {
      "displayName": "大竹 春生- Haruo Otake",
      "userId": "13319069107488779089"
     },
     "user_tz": -540
    },
    "id": "VgY07LkUWDUn",
    "outputId": "94a25042-fdd4-4e3a-f90c-93ea9bbf193f"
   },
   "outputs": [
    {
     "data": {
      "text/plain": [
       "0"
      ]
     },
     "execution_count": 114,
     "metadata": {},
     "output_type": "execute_result"
    }
   ],
   "source": [
    "min(app_train['hist_sum_credit_day_overdue'])"
   ]
  },
  {
   "cell_type": "code",
   "execution_count": 115,
   "metadata": {
    "colab": {
     "base_uri": "https://localhost:8080/",
     "height": 112
    },
    "executionInfo": {
     "elapsed": 11,
     "status": "ok",
     "timestamp": 1651711271518,
     "user": {
      "displayName": "大竹 春生- Haruo Otake",
      "userId": "13319069107488779089"
     },
     "user_tz": -540
    },
    "id": "yOtS7X1gWDXD",
    "outputId": "fbb7cd54-771d-42b7-9d47-2584ff906067"
   },
   "outputs": [
    {
     "data": {
      "text/html": [
       "<div>\n",
       "<style scoped>\n",
       "    .dataframe tbody tr th:only-of-type {\n",
       "        vertical-align: middle;\n",
       "    }\n",
       "\n",
       "    .dataframe tbody tr th {\n",
       "        vertical-align: top;\n",
       "    }\n",
       "\n",
       "    .dataframe thead th {\n",
       "        text-align: right;\n",
       "    }\n",
       "</style>\n",
       "<table border=\"1\" class=\"dataframe\">\n",
       "  <thead>\n",
       "    <tr style=\"text-align: right;\">\n",
       "      <th></th>\n",
       "      <th>TARGET</th>\n",
       "      <th>hist_sum_credit_day_overdue</th>\n",
       "    </tr>\n",
       "  </thead>\n",
       "  <tbody>\n",
       "    <tr>\n",
       "      <th>TARGET</th>\n",
       "      <td>1.000000</td>\n",
       "      <td>-0.000762</td>\n",
       "    </tr>\n",
       "    <tr>\n",
       "      <th>hist_sum_credit_day_overdue</th>\n",
       "      <td>-0.000762</td>\n",
       "      <td>1.000000</td>\n",
       "    </tr>\n",
       "  </tbody>\n",
       "</table>\n",
       "</div>"
      ],
      "text/plain": [
       "                               TARGET  hist_sum_credit_day_overdue\n",
       "TARGET                       1.000000                    -0.000762\n",
       "hist_sum_credit_day_overdue -0.000762                     1.000000"
      ]
     },
     "execution_count": 115,
     "metadata": {},
     "output_type": "execute_result"
    }
   ],
   "source": [
    "app_train[['TARGET', 'hist_sum_credit_day_overdue']].corr()"
   ]
  },
  {
   "cell_type": "code",
   "execution_count": 116,
   "metadata": {},
   "outputs": [
    {
     "name": "stdout",
     "output_type": "stream",
     "text": [
      "The correlation between hist_sum_credit_day_overdue and the TARGET is -0.0008\n",
      "Median value for loan that was not repaid = 0.0000\n",
      "Median value for loan that was repaid =     0.0000\n"
     ]
    },
    {
     "data": {
      "image/png": "[encoded data removed]",
      "text/plain": [
       "<Figure size 864x432 with 1 Axes>"
      ]
     },
     "metadata": {
      "needs_background": "light"
     },
     "output_type": "display_data"
    }
   ],
   "source": [
    "kde_target('hist_sum_credit_day_overdue', app_train)"
   ]
  },
  {
   "cell_type": "code",
   "execution_count": 117,
   "metadata": {},
   "outputs": [],
   "source": [
    "columns = ['hist_sum_credit_day_overdue']\n",
    "app_train.drop(columns, axis=1, inplace=True)\n",
    "app_test.drop(columns, axis=1, inplace=True)"
   ]
  },
  {
   "cell_type": "markdown",
   "metadata": {
    "id": "DsG7g3AqWteD"
   },
   "source": [
    "### hist_max_credit_prolong"
   ]
  },
  {
   "cell_type": "code",
   "execution_count": 118,
   "metadata": {
    "colab": {
     "base_uri": "https://localhost:8080/"
    },
    "executionInfo": {
     "elapsed": 10,
     "status": "ok",
     "timestamp": 1651711271519,
     "user": {
      "displayName": "大竹 春生- Haruo Otake",
      "userId": "13319069107488779089"
     },
     "user_tz": -540
    },
    "id": "uD_IBSjgWDaE",
    "outputId": "d929d24c-40ee-4329-a6f9-50816d9d7ff1"
   },
   "outputs": [
    {
     "data": {
      "text/plain": [
       "9"
      ]
     },
     "execution_count": 118,
     "metadata": {},
     "output_type": "execute_result"
    }
   ],
   "source": [
    "max(app_train['hist_max_credit_prolong'])"
   ]
  },
  {
   "cell_type": "code",
   "execution_count": 119,
   "metadata": {
    "colab": {
     "base_uri": "https://localhost:8080/"
    },
    "executionInfo": {
     "elapsed": 9,
     "status": "ok",
     "timestamp": 1651711271520,
     "user": {
      "displayName": "大竹 春生- Haruo Otake",
      "userId": "13319069107488779089"
     },
     "user_tz": -540
    },
    "id": "DjkdK7qAWshP",
    "outputId": "d5cf49d1-9546-4440-b8a5-942ad6f6a3e5"
   },
   "outputs": [
    {
     "data": {
      "text/plain": [
       "0"
      ]
     },
     "execution_count": 119,
     "metadata": {},
     "output_type": "execute_result"
    }
   ],
   "source": [
    "min(app_train['hist_max_credit_prolong'])"
   ]
  },
  {
   "cell_type": "code",
   "execution_count": 120,
   "metadata": {
    "colab": {
     "base_uri": "https://localhost:8080/",
     "height": 112
    },
    "executionInfo": {
     "elapsed": 8,
     "status": "ok",
     "timestamp": 1651711271520,
     "user": {
      "displayName": "大竹 春生- Haruo Otake",
      "userId": "13319069107488779089"
     },
     "user_tz": -540
    },
    "id": "9qCihj8LWsja",
    "outputId": "b6c67908-7737-421f-ba32-8b6046b475c2"
   },
   "outputs": [
    {
     "data": {
      "text/html": [
       "<div>\n",
       "<style scoped>\n",
       "    .dataframe tbody tr th:only-of-type {\n",
       "        vertical-align: middle;\n",
       "    }\n",
       "\n",
       "    .dataframe tbody tr th {\n",
       "        vertical-align: top;\n",
       "    }\n",
       "\n",
       "    .dataframe thead th {\n",
       "        text-align: right;\n",
       "    }\n",
       "</style>\n",
       "<table border=\"1\" class=\"dataframe\">\n",
       "  <thead>\n",
       "    <tr style=\"text-align: right;\">\n",
       "      <th></th>\n",
       "      <th>TARGET</th>\n",
       "      <th>hist_max_credit_prolong</th>\n",
       "    </tr>\n",
       "  </thead>\n",
       "  <tbody>\n",
       "    <tr>\n",
       "      <th>TARGET</th>\n",
       "      <td>1.00000</td>\n",
       "      <td>0.00165</td>\n",
       "    </tr>\n",
       "    <tr>\n",
       "      <th>hist_max_credit_prolong</th>\n",
       "      <td>0.00165</td>\n",
       "      <td>1.00000</td>\n",
       "    </tr>\n",
       "  </tbody>\n",
       "</table>\n",
       "</div>"
      ],
      "text/plain": [
       "                          TARGET  hist_max_credit_prolong\n",
       "TARGET                   1.00000                  0.00165\n",
       "hist_max_credit_prolong  0.00165                  1.00000"
      ]
     },
     "execution_count": 120,
     "metadata": {},
     "output_type": "execute_result"
    }
   ],
   "source": [
    "app_train[['TARGET', 'hist_max_credit_prolong']].corr()"
   ]
  },
  {
   "cell_type": "code",
   "execution_count": 121,
   "metadata": {},
   "outputs": [
    {
     "name": "stdout",
     "output_type": "stream",
     "text": [
      "The correlation between hist_max_credit_prolong and the TARGET is 0.0017\n",
      "Median value for loan that was not repaid = 0.0000\n",
      "Median value for loan that was repaid =     0.0000\n"
     ]
    },
    {
     "data": {
      "image/png": "[encoded data removed]",
      "text/plain": [
       "<Figure size 864x432 with 1 Axes>"
      ]
     },
     "metadata": {
      "needs_background": "light"
     },
     "output_type": "display_data"
    }
   ],
   "source": [
    "kde_target('hist_max_credit_prolong', app_train)"
   ]
  },
  {
   "cell_type": "code",
   "execution_count": 122,
   "metadata": {
    "colab": {
     "base_uri": "https://localhost:8080/",
     "height": 280
    },
    "executionInfo": {
     "elapsed": 331,
     "status": "ok",
     "timestamp": 1651711271844,
     "user": {
      "displayName": "大竹 春生- Haruo Otake",
      "userId": "13319069107488779089"
     },
     "user_tz": -540
    },
    "id": "Hj9VQvk-WsnM",
    "outputId": "4d071d4d-cc39-471a-82ad-c3dd69c1cf87"
   },
   "outputs": [
    {
     "data": {
      "image/png": "[encoded data removed]",
      "text/plain": [
       "<Figure size 432x288 with 1 Axes>"
      ]
     },
     "metadata": {
      "needs_background": "light"
     },
     "output_type": "display_data"
    }
   ],
   "source": [
    "%matplotlib inline\n",
    "sns.countplot(x='hist_max_credit_prolong', hue='TARGET', data=app_train)\n",
    "plt.legend(loc='upper right', title='TARGET')\n",
    "plt.show()"
   ]
  },
  {
   "cell_type": "code",
   "execution_count": 123,
   "metadata": {},
   "outputs": [],
   "source": [
    "columns = ['hist_max_credit_prolong']\n",
    "app_train.drop(columns, axis=1, inplace=True)\n",
    "app_test.drop(columns, axis=1, inplace=True)"
   ]
  },
  {
   "cell_type": "markdown",
   "metadata": {
    "id": "nHQH_1b5XBDu"
   },
   "source": [
    "### hist_cnt_credit_prolong"
   ]
  },
  {
   "cell_type": "code",
   "execution_count": 124,
   "metadata": {
    "colab": {
     "base_uri": "https://localhost:8080/"
    },
    "executionInfo": {
     "elapsed": 21,
     "status": "ok",
     "timestamp": 1651711271844,
     "user": {
      "displayName": "大竹 春生- Haruo Otake",
      "userId": "13319069107488779089"
     },
     "user_tz": -540
    },
    "id": "XRE_G_tBWstj",
    "outputId": "03a245c3-b9cd-4f1f-fbc9-a643acfdcb00"
   },
   "outputs": [
    {
     "data": {
      "text/plain": [
       "2657"
      ]
     },
     "execution_count": 124,
     "metadata": {},
     "output_type": "execute_result"
    }
   ],
   "source": [
    "max(app_train['hist_cnt_credit_prolong'])"
   ]
  },
  {
   "cell_type": "code",
   "execution_count": 125,
   "metadata": {
    "colab": {
     "base_uri": "https://localhost:8080/"
    },
    "executionInfo": {
     "elapsed": 18,
     "status": "ok",
     "timestamp": 1651711271845,
     "user": {
      "displayName": "大竹 春生- Haruo Otake",
      "userId": "13319069107488779089"
     },
     "user_tz": -540
    },
    "id": "R0LWgScaWswu",
    "outputId": "19d76146-e8f6-4c13-a691-7498a10c2838"
   },
   "outputs": [
    {
     "data": {
      "text/plain": [
       "0"
      ]
     },
     "execution_count": 125,
     "metadata": {},
     "output_type": "execute_result"
    }
   ],
   "source": [
    "min(app_train['hist_cnt_credit_prolong'])"
   ]
  },
  {
   "cell_type": "code",
   "execution_count": 126,
   "metadata": {
    "colab": {
     "base_uri": "https://localhost:8080/",
     "height": 112
    },
    "executionInfo": {
     "elapsed": 12,
     "status": "ok",
     "timestamp": 1651711271845,
     "user": {
      "displayName": "大竹 春生- Haruo Otake",
      "userId": "13319069107488779089"
     },
     "user_tz": -540
    },
    "id": "uXGWYCUCWszW",
    "outputId": "8e053e84-f040-4d23-b4a2-5fc7250fa763"
   },
   "outputs": [
    {
     "data": {
      "text/html": [
       "<div>\n",
       "<style scoped>\n",
       "    .dataframe tbody tr th:only-of-type {\n",
       "        vertical-align: middle;\n",
       "    }\n",
       "\n",
       "    .dataframe tbody tr th {\n",
       "        vertical-align: top;\n",
       "    }\n",
       "\n",
       "    .dataframe thead th {\n",
       "        text-align: right;\n",
       "    }\n",
       "</style>\n",
       "<table border=\"1\" class=\"dataframe\">\n",
       "  <thead>\n",
       "    <tr style=\"text-align: right;\">\n",
       "      <th></th>\n",
       "      <th>TARGET</th>\n",
       "      <th>hist_cnt_credit_prolong</th>\n",
       "    </tr>\n",
       "  </thead>\n",
       "  <tbody>\n",
       "    <tr>\n",
       "      <th>TARGET</th>\n",
       "      <td>1.000000</td>\n",
       "      <td>-0.018182</td>\n",
       "    </tr>\n",
       "    <tr>\n",
       "      <th>hist_cnt_credit_prolong</th>\n",
       "      <td>-0.018182</td>\n",
       "      <td>1.000000</td>\n",
       "    </tr>\n",
       "  </tbody>\n",
       "</table>\n",
       "</div>"
      ],
      "text/plain": [
       "                           TARGET  hist_cnt_credit_prolong\n",
       "TARGET                   1.000000                -0.018182\n",
       "hist_cnt_credit_prolong -0.018182                 1.000000"
      ]
     },
     "execution_count": 126,
     "metadata": {},
     "output_type": "execute_result"
    }
   ],
   "source": [
    "app_train[['TARGET', 'hist_cnt_credit_prolong']].corr()"
   ]
  },
  {
   "cell_type": "code",
   "execution_count": 127,
   "metadata": {},
   "outputs": [
    {
     "name": "stdout",
     "output_type": "stream",
     "text": [
      "The correlation between hist_cnt_credit_prolong and the TARGET is -0.0182\n",
      "Median value for loan that was not repaid = 5.0000\n",
      "Median value for loan that was repaid =     6.0000\n"
     ]
    },
    {
     "data": {
      "image/png": "[encoded data removed]",
      "text/plain": [
       "<Figure size 864x432 with 1 Axes>"
      ]
     },
     "metadata": {
      "needs_background": "light"
     },
     "output_type": "display_data"
    }
   ],
   "source": [
    "kde_target('hist_cnt_credit_prolong', app_train)"
   ]
  },
  {
   "cell_type": "code",
   "execution_count": 109,
   "metadata": {
    "executionInfo": {
     "elapsed": 10,
     "status": "ok",
     "timestamp": 1651711271845,
     "user": {
      "displayName": "大竹 春生- Haruo Otake",
      "userId": "13319069107488779089"
     },
     "user_tz": -540
    },
    "id": "a0Nn0wTUWs2M"
   },
   "outputs": [],
   "source": [
    "#%matplotlib inline\n",
    "#sns.countplot(x='hist_cnt_credit_prolong', hue='TARGET', data=app_train)\n",
    "#plt.legend(loc='upper right', title='TARGET')\n",
    "#plt.show()"
   ]
  },
  {
   "cell_type": "markdown",
   "metadata": {
    "id": "Vh6LmQc7XS1w"
   },
   "source": [
    "### hist_sum_credit_prolong"
   ]
  },
  {
   "cell_type": "code",
   "execution_count": 128,
   "metadata": {
    "colab": {
     "base_uri": "https://localhost:8080/"
    },
    "executionInfo": {
     "elapsed": 10,
     "status": "ok",
     "timestamp": 1651711271845,
     "user": {
      "displayName": "大竹 春生- Haruo Otake",
      "userId": "13319069107488779089"
     },
     "user_tz": -540
    },
    "id": "vnXudz2kWDdN",
    "outputId": "b81d1e03-0286-40c2-f0f3-470f5ef4c6c4"
   },
   "outputs": [
    {
     "data": {
      "text/plain": [
       "558"
      ]
     },
     "execution_count": 128,
     "metadata": {},
     "output_type": "execute_result"
    }
   ],
   "source": [
    "max(app_train['hist_sum_credit_prolong'])"
   ]
  },
  {
   "cell_type": "code",
   "execution_count": 129,
   "metadata": {
    "colab": {
     "base_uri": "https://localhost:8080/"
    },
    "executionInfo": {
     "elapsed": 289,
     "status": "ok",
     "timestamp": 1651711272127,
     "user": {
      "displayName": "大竹 春生- Haruo Otake",
      "userId": "13319069107488779089"
     },
     "user_tz": -540
    },
    "id": "aeHh02HYXWxx",
    "outputId": "a14ebebc-91a3-4ea6-e3fd-2c395c13ed1c"
   },
   "outputs": [
    {
     "data": {
      "text/plain": [
       "0"
      ]
     },
     "execution_count": 129,
     "metadata": {},
     "output_type": "execute_result"
    }
   ],
   "source": [
    "min(app_train['hist_sum_credit_prolong'])"
   ]
  },
  {
   "cell_type": "code",
   "execution_count": 130,
   "metadata": {
    "colab": {
     "base_uri": "https://localhost:8080/",
     "height": 112
    },
    "executionInfo": {
     "elapsed": 14,
     "status": "ok",
     "timestamp": 1651711272127,
     "user": {
      "displayName": "大竹 春生- Haruo Otake",
      "userId": "13319069107488779089"
     },
     "user_tz": -540
    },
    "id": "fueRVkhaXW0v",
    "outputId": "36f6d605-0f5c-4eb3-eac6-8b96685ae08f"
   },
   "outputs": [
    {
     "data": {
      "text/html": [
       "<div>\n",
       "<style scoped>\n",
       "    .dataframe tbody tr th:only-of-type {\n",
       "        vertical-align: middle;\n",
       "    }\n",
       "\n",
       "    .dataframe tbody tr th {\n",
       "        vertical-align: top;\n",
       "    }\n",
       "\n",
       "    .dataframe thead th {\n",
       "        text-align: right;\n",
       "    }\n",
       "</style>\n",
       "<table border=\"1\" class=\"dataframe\">\n",
       "  <thead>\n",
       "    <tr style=\"text-align: right;\">\n",
       "      <th></th>\n",
       "      <th>TARGET</th>\n",
       "      <th>hist_sum_credit_prolong</th>\n",
       "    </tr>\n",
       "  </thead>\n",
       "  <tbody>\n",
       "    <tr>\n",
       "      <th>TARGET</th>\n",
       "      <td>1.000000</td>\n",
       "      <td>-0.002264</td>\n",
       "    </tr>\n",
       "    <tr>\n",
       "      <th>hist_sum_credit_prolong</th>\n",
       "      <td>-0.002264</td>\n",
       "      <td>1.000000</td>\n",
       "    </tr>\n",
       "  </tbody>\n",
       "</table>\n",
       "</div>"
      ],
      "text/plain": [
       "                           TARGET  hist_sum_credit_prolong\n",
       "TARGET                   1.000000                -0.002264\n",
       "hist_sum_credit_prolong -0.002264                 1.000000"
      ]
     },
     "execution_count": 130,
     "metadata": {},
     "output_type": "execute_result"
    }
   ],
   "source": [
    "app_train[['TARGET', 'hist_sum_credit_prolong']].corr()"
   ]
  },
  {
   "cell_type": "code",
   "execution_count": 131,
   "metadata": {},
   "outputs": [
    {
     "name": "stdout",
     "output_type": "stream",
     "text": [
      "The correlation between hist_sum_credit_prolong and the TARGET is -0.0023\n",
      "Median value for loan that was not repaid = 0.0000\n",
      "Median value for loan that was repaid =     0.0000\n"
     ]
    },
    {
     "data": {
      "image/png": "[encoded data removed]",
      "text/plain": [
       "<Figure size 864x432 with 1 Axes>"
      ]
     },
     "metadata": {
      "needs_background": "light"
     },
     "output_type": "display_data"
    }
   ],
   "source": [
    "kde_target('hist_sum_credit_prolong', app_train)"
   ]
  },
  {
   "cell_type": "code",
   "execution_count": 132,
   "metadata": {
    "executionInfo": {
     "elapsed": 14,
     "status": "ok",
     "timestamp": 1651711272128,
     "user": {
      "displayName": "大竹 春生- Haruo Otake",
      "userId": "13319069107488779089"
     },
     "user_tz": -540
    },
    "id": "ldyfEYZ-XW3w"
   },
   "outputs": [],
   "source": [
    "#%matplotlib inline\n",
    "#sns.countplot(x='hist_sum_credit_prolong', hue='TARGET', data=app_train)\n",
    "#plt.legend(loc='upper right', title='TARGET')\n",
    "#plt.show()"
   ]
  },
  {
   "cell_type": "code",
   "execution_count": 133,
   "metadata": {},
   "outputs": [],
   "source": [
    "columns = ['hist_sum_credit_prolong']\n",
    "app_train.drop(columns, axis=1, inplace=True)\n",
    "app_test.drop(columns, axis=1, inplace=True)"
   ]
  },
  {
   "cell_type": "markdown",
   "metadata": {
    "id": "NjGuksg1XoER"
   },
   "source": [
    "### hist_max_amt_credit_max_overdue"
   ]
  },
  {
   "cell_type": "code",
   "execution_count": 134,
   "metadata": {
    "colab": {
     "base_uri": "https://localhost:8080/"
    },
    "executionInfo": {
     "elapsed": 13,
     "status": "ok",
     "timestamp": 1651711272128,
     "user": {
      "displayName": "大竹 春生- Haruo Otake",
      "userId": "13319069107488779089"
     },
     "user_tz": -540
    },
    "id": "p7QosW0jXW6p",
    "outputId": "cce9e770-1f80-47bc-bdec-d91ac90a7f7a"
   },
   "outputs": [
    {
     "data": {
      "text/plain": [
       "115987185.0"
      ]
     },
     "execution_count": 134,
     "metadata": {},
     "output_type": "execute_result"
    }
   ],
   "source": [
    "max(app_train['hist_max_amt_credit_max_overdue'])"
   ]
  },
  {
   "cell_type": "code",
   "execution_count": 135,
   "metadata": {
    "colab": {
     "base_uri": "https://localhost:8080/"
    },
    "executionInfo": {
     "elapsed": 12,
     "status": "ok",
     "timestamp": 1651711272128,
     "user": {
      "displayName": "大竹 春生- Haruo Otake",
      "userId": "13319069107488779089"
     },
     "user_tz": -540
    },
    "id": "F9W2RpbpXW9f",
    "outputId": "318183af-1164-46dc-db89-179722abbb9b"
   },
   "outputs": [
    {
     "data": {
      "text/plain": [
       "0.0"
      ]
     },
     "execution_count": 135,
     "metadata": {},
     "output_type": "execute_result"
    }
   ],
   "source": [
    "min(app_train['hist_max_amt_credit_max_overdue'])"
   ]
  },
  {
   "cell_type": "code",
   "execution_count": 136,
   "metadata": {
    "colab": {
     "base_uri": "https://localhost:8080/",
     "height": 112
    },
    "executionInfo": {
     "elapsed": 12,
     "status": "ok",
     "timestamp": 1651711272129,
     "user": {
      "displayName": "大竹 春生- Haruo Otake",
      "userId": "13319069107488779089"
     },
     "user_tz": -540
    },
    "id": "Du348CoSXXAP",
    "outputId": "374d37b6-d8ba-4255-e813-607c8bd2d7fa"
   },
   "outputs": [
    {
     "data": {
      "text/html": [
       "<div>\n",
       "<style scoped>\n",
       "    .dataframe tbody tr th:only-of-type {\n",
       "        vertical-align: middle;\n",
       "    }\n",
       "\n",
       "    .dataframe tbody tr th {\n",
       "        vertical-align: top;\n",
       "    }\n",
       "\n",
       "    .dataframe thead th {\n",
       "        text-align: right;\n",
       "    }\n",
       "</style>\n",
       "<table border=\"1\" class=\"dataframe\">\n",
       "  <thead>\n",
       "    <tr style=\"text-align: right;\">\n",
       "      <th></th>\n",
       "      <th>TARGET</th>\n",
       "      <th>hist_max_amt_credit_max_overdue</th>\n",
       "    </tr>\n",
       "  </thead>\n",
       "  <tbody>\n",
       "    <tr>\n",
       "      <th>TARGET</th>\n",
       "      <td>1.000000</td>\n",
       "      <td>0.001772</td>\n",
       "    </tr>\n",
       "    <tr>\n",
       "      <th>hist_max_amt_credit_max_overdue</th>\n",
       "      <td>0.001772</td>\n",
       "      <td>1.000000</td>\n",
       "    </tr>\n",
       "  </tbody>\n",
       "</table>\n",
       "</div>"
      ],
      "text/plain": [
       "                                   TARGET  hist_max_amt_credit_max_overdue\n",
       "TARGET                           1.000000                         0.001772\n",
       "hist_max_amt_credit_max_overdue  0.001772                         1.000000"
      ]
     },
     "execution_count": 136,
     "metadata": {},
     "output_type": "execute_result"
    }
   ],
   "source": [
    "app_train[['TARGET', 'hist_max_amt_credit_max_overdue']].corr()"
   ]
  },
  {
   "cell_type": "code",
   "execution_count": 137,
   "metadata": {},
   "outputs": [
    {
     "name": "stdout",
     "output_type": "stream",
     "text": [
      "The correlation between hist_max_amt_credit_max_overdue and the TARGET is 0.0018\n",
      "Median value for loan that was not repaid = 0.0000\n",
      "Median value for loan that was repaid =     0.0000\n"
     ]
    },
    {
     "data": {
      "image/png": "[encoded data removed]",
      "text/plain": [
       "<Figure size 864x432 with 1 Axes>"
      ]
     },
     "metadata": {
      "needs_background": "light"
     },
     "output_type": "display_data"
    }
   ],
   "source": [
    "kde_target('hist_max_amt_credit_max_overdue', app_train)"
   ]
  },
  {
   "cell_type": "code",
   "execution_count": 138,
   "metadata": {},
   "outputs": [],
   "source": [
    "columns = ['hist_max_amt_credit_max_overdue']\n",
    "app_train.drop(columns, axis=1, inplace=True)\n",
    "app_test.drop(columns, axis=1, inplace=True)"
   ]
  },
  {
   "cell_type": "markdown",
   "metadata": {
    "id": "rKBjBz-wXyDh"
   },
   "source": [
    "### hist_cnt_amt_credit_max_overdue"
   ]
  },
  {
   "cell_type": "code",
   "execution_count": 139,
   "metadata": {
    "colab": {
     "base_uri": "https://localhost:8080/"
    },
    "executionInfo": {
     "elapsed": 11,
     "status": "ok",
     "timestamp": 1651711272129,
     "user": {
      "displayName": "大竹 春生- Haruo Otake",
      "userId": "13319069107488779089"
     },
     "user_tz": -540
    },
    "id": "F0yVPx_2Xz0w",
    "outputId": "e9d3e9ed-dda0-4af6-8b96-8eee21da209e"
   },
   "outputs": [
    {
     "data": {
      "text/plain": [
       "858"
      ]
     },
     "execution_count": 139,
     "metadata": {},
     "output_type": "execute_result"
    }
   ],
   "source": [
    "max(app_train['hist_cnt_amt_credit_max_overdue'])"
   ]
  },
  {
   "cell_type": "code",
   "execution_count": 140,
   "metadata": {
    "colab": {
     "base_uri": "https://localhost:8080/"
    },
    "executionInfo": {
     "elapsed": 9,
     "status": "ok",
     "timestamp": 1651711272129,
     "user": {
      "displayName": "大竹 春生- Haruo Otake",
      "userId": "13319069107488779089"
     },
     "user_tz": -540
    },
    "id": "jU-g6N6lXz3t",
    "outputId": "fadcab64-30be-4b68-d5ef-04ebaf48175f"
   },
   "outputs": [
    {
     "data": {
      "text/plain": [
       "0"
      ]
     },
     "execution_count": 140,
     "metadata": {},
     "output_type": "execute_result"
    }
   ],
   "source": [
    "min(app_train['hist_cnt_amt_credit_max_overdue'])"
   ]
  },
  {
   "cell_type": "code",
   "execution_count": 141,
   "metadata": {
    "colab": {
     "base_uri": "https://localhost:8080/",
     "height": 112
    },
    "executionInfo": {
     "elapsed": 12,
     "status": "ok",
     "timestamp": 1651711272381,
     "user": {
      "displayName": "大竹 春生- Haruo Otake",
      "userId": "13319069107488779089"
     },
     "user_tz": -540
    },
    "id": "4zUDNkUKXz8f",
    "outputId": "ce4e6504-9692-43f3-ca5a-12273535badd"
   },
   "outputs": [
    {
     "data": {
      "text/html": [
       "<div>\n",
       "<style scoped>\n",
       "    .dataframe tbody tr th:only-of-type {\n",
       "        vertical-align: middle;\n",
       "    }\n",
       "\n",
       "    .dataframe tbody tr th {\n",
       "        vertical-align: top;\n",
       "    }\n",
       "\n",
       "    .dataframe thead th {\n",
       "        text-align: right;\n",
       "    }\n",
       "</style>\n",
       "<table border=\"1\" class=\"dataframe\">\n",
       "  <thead>\n",
       "    <tr style=\"text-align: right;\">\n",
       "      <th></th>\n",
       "      <th>TARGET</th>\n",
       "      <th>hist_cnt_amt_credit_max_overdue</th>\n",
       "    </tr>\n",
       "  </thead>\n",
       "  <tbody>\n",
       "    <tr>\n",
       "      <th>TARGET</th>\n",
       "      <td>1.000000</td>\n",
       "      <td>-0.010286</td>\n",
       "    </tr>\n",
       "    <tr>\n",
       "      <th>hist_cnt_amt_credit_max_overdue</th>\n",
       "      <td>-0.010286</td>\n",
       "      <td>1.000000</td>\n",
       "    </tr>\n",
       "  </tbody>\n",
       "</table>\n",
       "</div>"
      ],
      "text/plain": [
       "                                   TARGET  hist_cnt_amt_credit_max_overdue\n",
       "TARGET                           1.000000                        -0.010286\n",
       "hist_cnt_amt_credit_max_overdue -0.010286                         1.000000"
      ]
     },
     "execution_count": 141,
     "metadata": {},
     "output_type": "execute_result"
    }
   ],
   "source": [
    "app_train[['TARGET', 'hist_cnt_amt_credit_max_overdue']].corr()"
   ]
  },
  {
   "cell_type": "code",
   "execution_count": 142,
   "metadata": {},
   "outputs": [
    {
     "name": "stdout",
     "output_type": "stream",
     "text": [
      "The correlation between hist_cnt_amt_credit_max_overdue and the TARGET is -0.0103\n",
      "Median value for loan that was not repaid = 1.0000\n",
      "Median value for loan that was repaid =     1.0000\n"
     ]
    },
    {
     "data": {
      "image/png": "[encoded data removed]",
      "text/plain": [
       "<Figure size 864x432 with 1 Axes>"
      ]
     },
     "metadata": {
      "needs_background": "light"
     },
     "output_type": "display_data"
    }
   ],
   "source": [
    "kde_target('hist_cnt_amt_credit_max_overdue', app_train)"
   ]
  },
  {
   "cell_type": "code",
   "execution_count": 143,
   "metadata": {
    "executionInfo": {
     "elapsed": 9,
     "status": "ok",
     "timestamp": 1651711272381,
     "user": {
      "displayName": "大竹 春生- Haruo Otake",
      "userId": "13319069107488779089"
     },
     "user_tz": -540
    },
    "id": "K8S5HGW0X0At"
   },
   "outputs": [],
   "source": [
    "#%matplotlib inline\n",
    "#sns.countplot(x='hist_cnt_amt_credit_max_overdue', hue='TARGET', data=app_train)\n",
    "#plt.legend(loc='upper right', title='TARGET')\n",
    "#plt.show()"
   ]
  },
  {
   "cell_type": "markdown",
   "metadata": {
    "id": "JHpXMYp4YFOq"
   },
   "source": [
    "### hist_sum_amt_credit_max_overdue"
   ]
  },
  {
   "cell_type": "code",
   "execution_count": 144,
   "metadata": {
    "colab": {
     "base_uri": "https://localhost:8080/"
    },
    "executionInfo": {
     "elapsed": 9,
     "status": "ok",
     "timestamp": 1651711272382,
     "user": {
      "displayName": "大竹 春生- Haruo Otake",
      "userId": "13319069107488779089"
     },
     "user_tz": -540
    },
    "id": "xHQAg0w2YIUu",
    "outputId": "56717081-a2e9-4ac3-d9e4-bb1ac733ae6a"
   },
   "outputs": [
    {
     "data": {
      "text/plain": [
       "8153853156.0"
      ]
     },
     "execution_count": 144,
     "metadata": {},
     "output_type": "execute_result"
    }
   ],
   "source": [
    "max(app_train['hist_sum_amt_credit_max_overdue'])"
   ]
  },
  {
   "cell_type": "code",
   "execution_count": 145,
   "metadata": {
    "colab": {
     "base_uri": "https://localhost:8080/"
    },
    "executionInfo": {
     "elapsed": 7,
     "status": "ok",
     "timestamp": 1651711272382,
     "user": {
      "displayName": "大竹 春生- Haruo Otake",
      "userId": "13319069107488779089"
     },
     "user_tz": -540
    },
    "id": "lWw_LQg2YIYL",
    "outputId": "16918be8-9a91-44d2-e486-186a049e0ec7"
   },
   "outputs": [
    {
     "data": {
      "text/plain": [
       "0.0"
      ]
     },
     "execution_count": 145,
     "metadata": {},
     "output_type": "execute_result"
    }
   ],
   "source": [
    "min(app_train['hist_sum_amt_credit_max_overdue'])"
   ]
  },
  {
   "cell_type": "code",
   "execution_count": 146,
   "metadata": {
    "colab": {
     "base_uri": "https://localhost:8080/",
     "height": 112
    },
    "executionInfo": {
     "elapsed": 6,
     "status": "ok",
     "timestamp": 1651711272382,
     "user": {
      "displayName": "大竹 春生- Haruo Otake",
      "userId": "13319069107488779089"
     },
     "user_tz": -540
    },
    "id": "-S8l0g-aYIc8",
    "outputId": "3f788cf6-be55-48bb-98f8-5ce4a6c806c0"
   },
   "outputs": [
    {
     "data": {
      "text/html": [
       "<div>\n",
       "<style scoped>\n",
       "    .dataframe tbody tr th:only-of-type {\n",
       "        vertical-align: middle;\n",
       "    }\n",
       "\n",
       "    .dataframe tbody tr th {\n",
       "        vertical-align: top;\n",
       "    }\n",
       "\n",
       "    .dataframe thead th {\n",
       "        text-align: right;\n",
       "    }\n",
       "</style>\n",
       "<table border=\"1\" class=\"dataframe\">\n",
       "  <thead>\n",
       "    <tr style=\"text-align: right;\">\n",
       "      <th></th>\n",
       "      <th>TARGET</th>\n",
       "      <th>hist_sum_amt_credit_max_overdue</th>\n",
       "    </tr>\n",
       "  </thead>\n",
       "  <tbody>\n",
       "    <tr>\n",
       "      <th>TARGET</th>\n",
       "      <td>1.000000</td>\n",
       "      <td>-0.000233</td>\n",
       "    </tr>\n",
       "    <tr>\n",
       "      <th>hist_sum_amt_credit_max_overdue</th>\n",
       "      <td>-0.000233</td>\n",
       "      <td>1.000000</td>\n",
       "    </tr>\n",
       "  </tbody>\n",
       "</table>\n",
       "</div>"
      ],
      "text/plain": [
       "                                   TARGET  hist_sum_amt_credit_max_overdue\n",
       "TARGET                           1.000000                        -0.000233\n",
       "hist_sum_amt_credit_max_overdue -0.000233                         1.000000"
      ]
     },
     "execution_count": 146,
     "metadata": {},
     "output_type": "execute_result"
    }
   ],
   "source": [
    "app_train[['TARGET', 'hist_sum_amt_credit_max_overdue']].corr()"
   ]
  },
  {
   "cell_type": "code",
   "execution_count": 147,
   "metadata": {},
   "outputs": [
    {
     "name": "stdout",
     "output_type": "stream",
     "text": [
      "The correlation between hist_sum_amt_credit_max_overdue and the TARGET is -0.0002\n",
      "Median value for loan that was not repaid = 0.0000\n",
      "Median value for loan that was repaid =     0.0000\n"
     ]
    },
    {
     "data": {
      "image/png": "[encoded data removed]",
      "text/plain": [
       "<Figure size 864x432 with 1 Axes>"
      ]
     },
     "metadata": {
      "needs_background": "light"
     },
     "output_type": "display_data"
    }
   ],
   "source": [
    "kde_target('hist_sum_amt_credit_max_overdue', app_train)"
   ]
  },
  {
   "cell_type": "code",
   "execution_count": 148,
   "metadata": {},
   "outputs": [],
   "source": [
    "columns = ['hist_sum_amt_credit_max_overdue']\n",
    "app_train.drop(columns, axis=1, inplace=True)\n",
    "app_test.drop(columns, axis=1, inplace=True)"
   ]
  },
  {
   "cell_type": "markdown",
   "metadata": {
    "id": "Jq2en9iTYY4u"
   },
   "source": [
    "### 債務件数"
   ]
  },
  {
   "cell_type": "code",
   "execution_count": 149,
   "metadata": {
    "executionInfo": {
     "elapsed": 274,
     "status": "ok",
     "timestamp": 1651711272651,
     "user": {
      "displayName": "大竹 春生- Haruo Otake",
      "userId": "13319069107488779089"
     },
     "user_tz": -540
    },
    "id": "_fEmnuSg3Ij7"
   },
   "outputs": [],
   "source": [
    "# 集計処理\n",
    "#previous_loan_counts = bureau.groupby('SK_ID_CURR', as_index=False)['SK_ID_BUREAU'].count().rename(columns={'SK_ID_BUREAU': 'previous_loan_counts'})"
   ]
  },
  {
   "cell_type": "code",
   "execution_count": 150,
   "metadata": {
    "executionInfo": {
     "elapsed": 2305,
     "status": "ok",
     "timestamp": 1651711274950,
     "user": {
      "displayName": "大竹 春生- Haruo Otake",
      "userId": "13319069107488779089"
     },
     "user_tz": -540
    },
    "id": "sxaWdAYsNGfP"
   },
   "outputs": [],
   "source": [
    "# trainへマージ\n",
    "#app_train = pd.merge(app_train, previous_loan_counts, on='SK_ID_CURR', how='left')\n",
    "#app_train['previous_loan_counts'].fillna(0, inplace=True)\n",
    "# testへマージ\n",
    "#app_test = pd.merge(app_test, previous_loan_counts, on='SK_ID_CURR', how='left')\n",
    "#app_test['previous_loan_counts'].fillna(0, inplace=True)"
   ]
  },
  {
   "cell_type": "code",
   "execution_count": 151,
   "metadata": {
    "colab": {
     "base_uri": "https://localhost:8080/",
     "height": 300
    },
    "executionInfo": {
     "elapsed": 11,
     "status": "ok",
     "timestamp": 1651711274950,
     "user": {
      "displayName": "大竹 春生- Haruo Otake",
      "userId": "13319069107488779089"
     },
     "user_tz": -540
    },
    "id": "8MoXL3Qz30wU",
    "outputId": "94094fa1-dad9-4adc-9cf0-0ec731b90657"
   },
   "outputs": [
    {
     "data": {
      "text/html": [
       "<div>\n",
       "<style scoped>\n",
       "    .dataframe tbody tr th:only-of-type {\n",
       "        vertical-align: middle;\n",
       "    }\n",
       "\n",
       "    .dataframe tbody tr th {\n",
       "        vertical-align: top;\n",
       "    }\n",
       "\n",
       "    .dataframe thead th {\n",
       "        text-align: right;\n",
       "    }\n",
       "</style>\n",
       "<table border=\"1\" class=\"dataframe\">\n",
       "  <thead>\n",
       "    <tr style=\"text-align: right;\">\n",
       "      <th></th>\n",
       "      <th>SK_ID_CURR</th>\n",
       "      <th>TARGET</th>\n",
       "      <th>sk_id_bureau</th>\n",
       "      <th>max_days_credit_enddate</th>\n",
       "      <th>min_days_enddate_fact</th>\n",
       "      <th>sum_amt_credit_sum</th>\n",
       "      <th>sum_amt_credit_sum_limit</th>\n",
       "      <th>credit_type</th>\n",
       "      <th>max_days_credit_update</th>\n",
       "      <th>hist_cnt_credit_day_overdue</th>\n",
       "      <th>hist_cnt_credit_prolong</th>\n",
       "      <th>hist_cnt_amt_credit_max_overdue</th>\n",
       "      <th>debt_credit_ratio_none</th>\n",
       "      <th>debt_credit_ratio_none_flg</th>\n",
       "    </tr>\n",
       "  </thead>\n",
       "  <tbody>\n",
       "    <tr>\n",
       "      <th>0</th>\n",
       "      <td>100002</td>\n",
       "      <td>1</td>\n",
       "      <td>6158909.0</td>\n",
       "      <td>0.0</td>\n",
       "      <td>-48.0</td>\n",
       "      <td>31988.565</td>\n",
       "      <td>31988.565</td>\n",
       "      <td>2.0</td>\n",
       "      <td>-24.0</td>\n",
       "      <td>110</td>\n",
       "      <td>110</td>\n",
       "      <td>56</td>\n",
       "      <td>0.320947</td>\n",
       "      <td>1</td>\n",
       "    </tr>\n",
       "    <tr>\n",
       "      <th>1</th>\n",
       "      <td>100003</td>\n",
       "      <td>0</td>\n",
       "      <td>NaN</td>\n",
       "      <td>NaN</td>\n",
       "      <td>NaN</td>\n",
       "      <td>NaN</td>\n",
       "      <td>NaN</td>\n",
       "      <td>NaN</td>\n",
       "      <td>NaN</td>\n",
       "      <td>4</td>\n",
       "      <td>4</td>\n",
       "      <td>4</td>\n",
       "      <td>0.000000</td>\n",
       "      <td>0</td>\n",
       "    </tr>\n",
       "    <tr>\n",
       "      <th>2</th>\n",
       "      <td>100004</td>\n",
       "      <td>0</td>\n",
       "      <td>NaN</td>\n",
       "      <td>NaN</td>\n",
       "      <td>NaN</td>\n",
       "      <td>NaN</td>\n",
       "      <td>NaN</td>\n",
       "      <td>NaN</td>\n",
       "      <td>NaN</td>\n",
       "      <td>2</td>\n",
       "      <td>2</td>\n",
       "      <td>1</td>\n",
       "      <td>0.000000</td>\n",
       "      <td>0</td>\n",
       "    </tr>\n",
       "    <tr>\n",
       "      <th>3</th>\n",
       "      <td>100006</td>\n",
       "      <td>0</td>\n",
       "      <td>NaN</td>\n",
       "      <td>NaN</td>\n",
       "      <td>NaN</td>\n",
       "      <td>NaN</td>\n",
       "      <td>NaN</td>\n",
       "      <td>NaN</td>\n",
       "      <td>NaN</td>\n",
       "      <td>0</td>\n",
       "      <td>0</td>\n",
       "      <td>0</td>\n",
       "      <td>0.000000</td>\n",
       "      <td>0</td>\n",
       "    </tr>\n",
       "    <tr>\n",
       "      <th>4</th>\n",
       "      <td>100007</td>\n",
       "      <td>0</td>\n",
       "      <td>NaN</td>\n",
       "      <td>NaN</td>\n",
       "      <td>NaN</td>\n",
       "      <td>NaN</td>\n",
       "      <td>NaN</td>\n",
       "      <td>NaN</td>\n",
       "      <td>NaN</td>\n",
       "      <td>1</td>\n",
       "      <td>1</td>\n",
       "      <td>1</td>\n",
       "      <td>0.000000</td>\n",
       "      <td>0</td>\n",
       "    </tr>\n",
       "  </tbody>\n",
       "</table>\n",
       "</div>"
      ],
      "text/plain": [
       "   SK_ID_CURR  TARGET  sk_id_bureau  max_days_credit_enddate  \\\n",
       "0      100002       1     6158909.0                      0.0   \n",
       "1      100003       0           NaN                      NaN   \n",
       "2      100004       0           NaN                      NaN   \n",
       "3      100006       0           NaN                      NaN   \n",
       "4      100007       0           NaN                      NaN   \n",
       "\n",
       "   min_days_enddate_fact  sum_amt_credit_sum  sum_amt_credit_sum_limit  \\\n",
       "0                  -48.0           31988.565                 31988.565   \n",
       "1                    NaN                 NaN                       NaN   \n",
       "2                    NaN                 NaN                       NaN   \n",
       "3                    NaN                 NaN                       NaN   \n",
       "4                    NaN                 NaN                       NaN   \n",
       "\n",
       "   credit_type  max_days_credit_update  hist_cnt_credit_day_overdue  \\\n",
       "0          2.0                   -24.0                          110   \n",
       "1          NaN                     NaN                            4   \n",
       "2          NaN                     NaN                            2   \n",
       "3          NaN                     NaN                            0   \n",
       "4          NaN                     NaN                            1   \n",
       "\n",
       "   hist_cnt_credit_prolong  hist_cnt_amt_credit_max_overdue  \\\n",
       "0                      110                               56   \n",
       "1                        4                                4   \n",
       "2                        2                                1   \n",
       "3                        0                                0   \n",
       "4                        1                                1   \n",
       "\n",
       "   debt_credit_ratio_none  debt_credit_ratio_none_flg  \n",
       "0                0.320947                           1  \n",
       "1                0.000000                           0  \n",
       "2                0.000000                           0  \n",
       "3                0.000000                           0  \n",
       "4                0.000000                           0  "
      ]
     },
     "execution_count": 151,
     "metadata": {},
     "output_type": "execute_result"
    }
   ],
   "source": [
    "# trainへフラグを設定\n",
    "#app_train.loc[app_train['previous_loan_counts'] == 0, 'previous_loan_flg'] = 0\n",
    "#app_train.loc[app_train['previous_loan_counts'] != 0, 'previous_loan_flg'] = 1\n",
    "# testへフラグを設定\n",
    "#app_test.loc[app_test['previous_loan_counts'] == 0, 'previous_loan_flg'] = 0\n",
    "#app_test.loc[app_test['previous_loan_counts'] != 0, 'previous_loan_flg'] = 1\n",
    "\n",
    "# dummy列を削除\n",
    "#delete_columns = ['CODE_GENDER']\n",
    "#app_train_br_pr_loan_counts.drop(delete_columns, axis=1, inplace=True)\n",
    "#app_test_br_pr_loan_counts.drop(delete_columns, axis=1, inplace=True)\n",
    "\n",
    "app_train.head()"
   ]
  },
  {
   "cell_type": "code",
   "execution_count": 152,
   "metadata": {
    "colab": {
     "base_uri": "https://localhost:8080/"
    },
    "executionInfo": {
     "elapsed": 426,
     "status": "ok",
     "timestamp": 1651711275370,
     "user": {
      "displayName": "大竹 春生- Haruo Otake",
      "userId": "13319069107488779089"
     },
     "user_tz": -540
    },
    "id": "kk4WFr6o30ze",
    "outputId": "4fdc364f-b470-4dea-aaad-eed1cba27207"
   },
   "outputs": [
    {
     "data": {
      "text/plain": [
       "SK_ID_CURR                              0\n",
       "TARGET                                  0\n",
       "sk_id_bureau                       219682\n",
       "max_days_credit_enddate            219682\n",
       "min_days_enddate_fact              219682\n",
       "sum_amt_credit_sum                 219682\n",
       "sum_amt_credit_sum_limit           219682\n",
       "credit_type                        219682\n",
       "max_days_credit_update             219682\n",
       "hist_cnt_credit_day_overdue             0\n",
       "hist_cnt_credit_prolong                 0\n",
       "hist_cnt_amt_credit_max_overdue         0\n",
       "debt_credit_ratio_none                  0\n",
       "debt_credit_ratio_none_flg              0\n",
       "dtype: int64"
      ]
     },
     "execution_count": 152,
     "metadata": {},
     "output_type": "execute_result"
    }
   ],
   "source": [
    "app_train.isnull().sum()"
   ]
  },
  {
   "cell_type": "code",
   "execution_count": 153,
   "metadata": {
    "colab": {
     "base_uri": "https://localhost:8080/"
    },
    "executionInfo": {
     "elapsed": 9,
     "status": "ok",
     "timestamp": 1651711275370,
     "user": {
      "displayName": "大竹 春生- Haruo Otake",
      "userId": "13319069107488779089"
     },
     "user_tz": -540
    },
    "id": "KK4ZK_KmNGhn",
    "outputId": "99716773-cf77-4e5a-89b8-bfdaaf653920"
   },
   "outputs": [
    {
     "data": {
      "text/plain": [
       "307511"
      ]
     },
     "execution_count": 153,
     "metadata": {},
     "output_type": "execute_result"
    }
   ],
   "source": [
    "len(app_train)"
   ]
  },
  {
   "cell_type": "code",
   "execution_count": 154,
   "metadata": {
    "executionInfo": {
     "elapsed": 5,
     "status": "ok",
     "timestamp": 1651711275371,
     "user": {
      "displayName": "大竹 春生- Haruo Otake",
      "userId": "13319069107488779089"
     },
     "user_tz": -540
    },
    "id": "jzjfLoPoBXGw"
   },
   "outputs": [],
   "source": [
    "# previous_loan_countsを分割し値をビンの代表値へ置き換え\n",
    "#app_train_br_pr_loan_counts['previous_loan_counts'] = app_train_br_pr_loan_counts['previous_loan_counts'].apply(lambda x : previous_loan_counts(x))\n",
    "#app_test_br_pr_loan_counts['previous_loan_counts'] = app_test_br_pr_loan_counts['previous_loan_counts'].apply(lambda x : previous_loan_counts(x))\n",
    "#app_train_br_pr_loan_counts['previous_loan_counts']"
   ]
  },
  {
   "cell_type": "code",
   "execution_count": 155,
   "metadata": {
    "colab": {
     "base_uri": "https://localhost:8080/",
     "height": 280
    },
    "executionInfo": {
     "elapsed": 984,
     "status": "ok",
     "timestamp": 1651711276350,
     "user": {
      "displayName": "大竹 春生- Haruo Otake",
      "userId": "13319069107488779089"
     },
     "user_tz": -540
    },
    "id": "bpcLddjy3gPD",
    "outputId": "d3d0ea00-b428-49e8-e61c-ef859cb22793"
   },
   "outputs": [],
   "source": [
    "#%matplotlib inline\n",
    "#sns.countplot(x='previous_loan_counts', hue='TARGET', data=app_train)\n",
    "#plt.legend(loc='upper right', title='TARGET')\n",
    "#plt.show()"
   ]
  },
  {
   "cell_type": "code",
   "execution_count": 156,
   "metadata": {
    "colab": {
     "base_uri": "https://localhost:8080/",
     "height": 280
    },
    "executionInfo": {
     "elapsed": 303,
     "status": "ok",
     "timestamp": 1651711276650,
     "user": {
      "displayName": "大竹 春生- Haruo Otake",
      "userId": "13319069107488779089"
     },
     "user_tz": -540
    },
    "id": "XhbjixSB3gRm",
    "outputId": "b9e1d378-481a-4283-e03e-85c3f331923b"
   },
   "outputs": [],
   "source": [
    "#%matplotlib inline\n",
    "#sns.countplot(x='previous_loan_flg', hue='TARGET', data=app_train)\n",
    "#plt.legend(loc='upper right', title='TARGET')\n",
    "#plt.show()"
   ]
  },
  {
   "cell_type": "code",
   "execution_count": 157,
   "metadata": {
    "colab": {
     "base_uri": "https://localhost:8080/",
     "height": 112
    },
    "executionInfo": {
     "elapsed": 247,
     "status": "ok",
     "timestamp": 1651711276892,
     "user": {
      "displayName": "大竹 春生- Haruo Otake",
      "userId": "13319069107488779089"
     },
     "user_tz": -540
    },
    "id": "g7QXHi7g9pVN",
    "outputId": "59d6849a-6b92-45dd-e80a-444778eb4a43"
   },
   "outputs": [],
   "source": [
    "#app_train[['TARGET', 'previous_loan_flg']].corr()"
   ]
  },
  {
   "cell_type": "code",
   "execution_count": 158,
   "metadata": {
    "colab": {
     "base_uri": "https://localhost:8080/",
     "height": 112
    },
    "executionInfo": {
     "elapsed": 302,
     "status": "ok",
     "timestamp": 1651711277192,
     "user": {
      "displayName": "大竹 春生- Haruo Otake",
      "userId": "13319069107488779089"
     },
     "user_tz": -540
    },
    "id": "UR6iJiS_9paO",
    "outputId": "35ae3dca-1217-444f-c6cb-a5dde0452ff6"
   },
   "outputs": [],
   "source": [
    "#app_train[['TARGET', 'previous_loan_counts']].corr()"
   ]
  },
  {
   "cell_type": "markdown",
   "metadata": {},
   "source": [
    "### CSVをEXPORT"
   ]
  },
  {
   "cell_type": "code",
   "execution_count": 159,
   "metadata": {},
   "outputs": [],
   "source": [
    "### train\n",
    "app_train.to_csv(\n",
    "    path_or_buf=\"./home-credit-default-risk/exports/hc_br_train.csv\", # 出力先\n",
    "    sep=\",\",                                            # 区切り文字\n",
    "    index=False,                                        # indexの出力有無\n",
    "    header=True                                        # headerの出力有無\n",
    ")"
   ]
  },
  {
   "cell_type": "code",
   "execution_count": 160,
   "metadata": {},
   "outputs": [],
   "source": [
    "### test\n",
    "app_test.to_csv(\n",
    "    path_or_buf=\"./home-credit-default-risk/exports/hc_br_test.csv\", # 出力先\n",
    "    sep=\",\",                                            # 区切り文字\n",
    "    index=False,                                        # indexの出力有無\n",
    "    header=True                                        # headerの出力有無\n",
    ")"
   ]
  },
  {
   "cell_type": "markdown",
   "metadata": {
    "id": "_hFt58qKEa0A"
   },
   "source": [
    "### 他社遅延日数の集計"
   ]
  },
  {
   "cell_type": "markdown",
   "metadata": {
    "id": "FJp1f5CJxJ3o"
   },
   "source": [
    "## モデルを適用"
   ]
  },
  {
   "cell_type": "code",
   "execution_count": 161,
   "metadata": {
    "colab": {
     "base_uri": "https://localhost:8080/",
     "height": 300
    },
    "executionInfo": {
     "elapsed": 8,
     "status": "ok",
     "timestamp": 1651711277192,
     "user": {
      "displayName": "大竹 春生- Haruo Otake",
      "userId": "13319069107488779089"
     },
     "user_tz": -540
    },
    "id": "qzxah7gadrcu",
    "outputId": "9696f48c-ce94-4e92-c9d6-d1678f875779"
   },
   "outputs": [],
   "source": [
    "#delete_columns = ['DAYS_REGISTRATION', 'DAYS_ID_PUBLISH', 'FLAG_MOBIL', 'FLAG_EMP_PHONE', 'FLAG_WORK_PHONE', 'FLAG_CONT_MOBILE', 'FLAG_PHONE', 'FLAG_EMAIL', 'WEEKDAY_APPR_PROCESS_START', 'HOUR_APPR_PROCESS_START', 'REG_REGION_NOT_LIVE_REGION', 'REG_REGION_NOT_WORK_REGION', 'LIVE_REGION_NOT_WORK_REGION', 'REG_CITY_NOT_LIVE_CITY', 'REG_CITY_NOT_WORK_CITY', 'LIVE_CITY_NOT_WORK_CITY', 'WEEKDAY_APPR_PROCESS_START', 'HOUR_APPR_PROCESS_START', 'REG_REGION_NOT_LIVE_REGION', 'REG_REGION_NOT_WORK_REGION', 'LIVE_REGION_NOT_WORK_REGION', 'REG_CITY_NOT_LIVE_CITY', 'REG_CITY_NOT_WORK_CITY', 'LIVE_CITY_NOT_WORK_CITY', 'ORGANIZATION_TYPE', 'APARTMENTS_AVG', 'BASEMENTAREA_AVG', 'YEARS_BEGINEXPLUATATION_AVG', 'YEARS_BUILD_AVG', 'COMMONAREA_AVG', 'ELEVATORS_AVG', 'ENTRANCES_AVG', 'FLOORSMAX_AVG', 'FLOORSMIN_AVG', 'LANDAREA_AVG', 'LIVINGAPARTMENTS_AVG', 'LIVINGAREA_AVG', 'NONLIVINGAPARTMENTS_AVG', 'NONLIVINGAREA_AVG', 'APARTMENTS_MODE', 'BASEMENTAREA_MODE', 'YEARS_BEGINEXPLUATATION_MODE', 'YEARS_BUILD_MODE', 'COMMONAREA_MODE', 'ELEVATORS_MODE', 'ENTRANCES_MODE', 'FLOORSMAX_MODE', 'FLOORSMIN_MODE', 'LANDAREA_MODE', 'LIVINGAPARTMENTS_MODE', 'LIVINGAREA_MODE', 'NONLIVINGAPARTMENTS_MODE', 'NONLIVINGAREA_MODE', 'APARTMENTS_MEDI', 'BASEMENTAREA_MEDI', 'YEARS_BEGINEXPLUATATION_MEDI', 'YEARS_BUILD_MEDI', 'COMMONAREA_MEDI', 'ELEVATORS_MEDI', 'ENTRANCES_MEDI', 'FLOORSMAX_MEDI', 'FLOORSMIN_MEDI', 'LANDAREA_MEDI', 'LIVINGAPARTMENTS_MEDI', 'LIVINGAREA_MEDI', 'NONLIVINGAPARTMENTS_MEDI', 'NONLIVINGAREA_MEDI', 'FONDKAPREMONT_MODE', 'HOUSETYPE_MODE', 'TOTALAREA_MODE', 'WALLSMATERIAL_MODE', 'EMERGENCYSTATE_MODE', 'OBS_30_CNT_SOCIAL_CIRCLE', 'DEF_30_CNT_SOCIAL_CIRCLE', 'OBS_60_CNT_SOCIAL_CIRCLE', 'DEF_60_CNT_SOCIAL_CIRCLE', 'DAYS_LAST_PHONE_CHANGE', 'FLAG_DOCUMENT_2', 'FLAG_DOCUMENT_3', 'FLAG_DOCUMENT_4', 'FLAG_DOCUMENT_5', 'FLAG_DOCUMENT_6', 'FLAG_DOCUMENT_7', 'FLAG_DOCUMENT_8', 'FLAG_DOCUMENT_9', 'FLAG_DOCUMENT_10', 'FLAG_DOCUMENT_11', 'FLAG_DOCUMENT_12', 'FLAG_DOCUMENT_13', 'FLAG_DOCUMENT_14', 'FLAG_DOCUMENT_15', 'FLAG_DOCUMENT_16', 'FLAG_DOCUMENT_17', 'FLAG_DOCUMENT_18', 'FLAG_DOCUMENT_19', 'FLAG_DOCUMENT_20', 'FLAG_DOCUMENT_21', 'AMT_REQ_CREDIT_BUREAU_HOUR', 'AMT_REQ_CREDIT_BUREAU_DAY', 'AMT_REQ_CREDIT_BUREAU_WEEK', 'AMT_REQ_CREDIT_BUREAU_MON', 'AMT_REQ_CREDIT_BUREAU_QRT', 'AMT_REQ_CREDIT_BUREAU_YEAR','NAME_TYPE_SUITE','OWN_CAR_AGE']\n",
    "#app_train.drop(delete_columns, axis=1, inplace=True)\n",
    "#app_test.drop(delete_columns, axis=1, inplace=True)\n",
    "#app_train.head()"
   ]
  },
  {
   "cell_type": "code",
   "execution_count": 162,
   "metadata": {
    "executionInfo": {
     "elapsed": 7,
     "status": "ok",
     "timestamp": 1651711277193,
     "user": {
      "displayName": "大竹 春生- Haruo Otake",
      "userId": "13319069107488779089"
     },
     "user_tz": -540
    },
    "id": "IsXXZ_QdbW1h"
   },
   "outputs": [],
   "source": [
    "columns = list(app_train.columns)\n",
    "columns.remove('SK_ID_CURR')\n",
    "columns.remove('TARGET')\n",
    "#columns"
   ]
  },
  {
   "cell_type": "code",
   "execution_count": 163,
   "metadata": {},
   "outputs": [],
   "source": [
    "#test_columns = list(app_test.columns)\n",
    "#test_columns.remove('SK_ID_CURR')\n",
    "#test_columns"
   ]
  },
  {
   "cell_type": "code",
   "execution_count": 164,
   "metadata": {},
   "outputs": [],
   "source": [
    "#app_train['NAME_CONTRACT_TYPE'].value_counts()\n",
    "#app_train['CODE_GENDER'].value_counts()\n",
    "#app_train['FLAG_OWN_CAR'].value_counts()\n",
    "#app_train['FLAG_OWN_REALTY'].value_counts()\n",
    "#app_train['CNT_CHILDREN'].value_counts()\n",
    "#app_train['AMT_INCOME_TOTAL'].value_counts()\n",
    "#app_train['AMT_CREDIT'].value_counts()\n",
    "#app_train['AMT_ANNUITY'].value_counts()\n",
    "#app_train['AMT_GOODS_PRICE'].value_counts()\n",
    "#app_train['NAME_INCOME_TYPE'].value_counts()\n",
    "#app_train['NAME_EDUCATION_TYPE'].value_counts()\n",
    "#app_train['NAME_FAMILY_STATUS'].value_counts()\n",
    "#app_train['NAME_HOUSING_TYPE'].value_counts()\n",
    "#app_train['REGION_POPULATION_RELATIVE'].value_counts()\n",
    "#app_train['DAYS_BIRTH'].value_counts()\n",
    "#app_train['DAYS_EMPLOYED'].value_counts()\n",
    "#app_train['OCCUPATION_TYPE'].value_counts()\n",
    "#app_train['CNT_FAM_MEMBERS'].value_counts()\n",
    "#app_train['REGION_RATING_CLIENT'].value_counts()\n",
    "#app_train['REGION_RATING_CLIENT_W_CITY'].value_counts()\n",
    "#app_train['EXT_SOURCE_1'].value_counts()\n",
    "#app_train['EXT_SOURCE_2'].value_counts()\n",
    "#app_train['EXT_SOURCE_3'].value_counts()\n",
    "#app_train['credit_annuity_ratio'].value_counts()\n",
    "#app_train['sk_id_bureau'].value_counts()\n",
    "#app_train['max_credit_day_overdue'].value_counts()\n",
    "#app_train['max_days_credit_enddate'].value_counts()\n",
    "#app_train['min_days_enddate_fact'].value_counts()\n",
    "#app_train['max_amt_credit_max_overdue'].value_counts()\n",
    "#app_train['cnt_credit_prolong'].value_counts()\n",
    "#app_train['max_credit_prolong'].value_counts()\n",
    "#app_train['sum_amt_credit_sum'].value_counts()\n",
    "#app_train['sum_amt_credit_sum_debt'].value_counts()\n",
    "#app_train['sum_amt_credit_sum_limit'].value_counts()\n",
    "#app_train['sum_amt_credit_sum_overdue'].value_counts()\n",
    "#app_train['credit_type'].value_counts()\n",
    "#app_train['max_days_credit_update'].value_counts()\n",
    "#app_train['sum_amt_annuity'].value_counts()\n",
    "#app_train['hist_max_credit_day_overdue'].value_counts()\n",
    "#app_train['hist_cnt_credit_day_overdue'].value_counts()\n",
    "#app_train['hist_sum_credit_day_overdue'].value_counts()\n",
    "#app_train['hist_max_credit_prolong'].value_counts()\n",
    "#app_train['hist_cnt_credit_prolong'].value_counts()\n",
    "#app_train['hist_sum_credit_prolong'].value_counts()\n",
    "#app_train['hist_max_amt_credit_max_overdue'].value_counts()\n",
    "#app_train['hist_cnt_amt_credit_max_overdue'].value_counts()\n",
    "#app_train['hist_sum_amt_credit_max_overdue'].value_counts()\n",
    "#app_train['max_credit_day_overdue_flg'].value_counts()\n",
    "#app_train['previous_loan_counts'].value_counts()\n",
    "#app_train['previous_loan_flg'].value_counts()"
   ]
  },
  {
   "cell_type": "code",
   "execution_count": 165,
   "metadata": {
    "executionInfo": {
     "elapsed": 1914,
     "status": "ok",
     "timestamp": 1651711279101,
     "user": {
      "displayName": "大竹 春生- Haruo Otake",
      "userId": "13319069107488779089"
     },
     "user_tz": -540
    },
    "id": "9MuMugvmi47g"
   },
   "outputs": [],
   "source": [
    "# カテゴリ変数の変換\n",
    "#cat_cols = ['NAME_CONTRACT_TYPE', 'CODE_GENDER', 'FLAG_OWN_CAR', 'FLAG_OWN_REALTY', 'OCCUPATION_TYPE', 'NAME_FAMILY_STATUS', 'NAME_HOUSING_TYPE', 'NAME_INCOME_TYPE', 'NAME_EDUCATION_TYPE', 'OCCUPATION_TYPE', 'credit_type']\n",
    "# \n",
    "#alt_x = pd.concat([app_train, app_test])\n",
    "#alt_x = pd.get_dummies(alt_x, columns=cat_cols)\n",
    "\n",
    "#\n",
    "#app_train = alt_x.iloc[:app_train.shape[0], :].reset_index(drop=True)\n",
    "#app_test = alt_x.iloc[app_train.shape[0]:, :].reset_index(drop=True)"
   ]
  },
  {
   "cell_type": "code",
   "execution_count": 166,
   "metadata": {
    "colab": {
     "base_uri": "https://localhost:8080/",
     "height": 300
    },
    "executionInfo": {
     "elapsed": 563,
     "status": "ok",
     "timestamp": 1651711279659,
     "user": {
      "displayName": "大竹 春生- Haruo Otake",
      "userId": "13319069107488779089"
     },
     "user_tz": -540
    },
    "id": "Um1gcNeFw-1Q",
    "outputId": "2a19eb7c-a3b1-4e81-eb1e-c8361194672a"
   },
   "outputs": [
    {
     "data": {
      "text/html": [
       "<div>\n",
       "<style scoped>\n",
       "    .dataframe tbody tr th:only-of-type {\n",
       "        vertical-align: middle;\n",
       "    }\n",
       "\n",
       "    .dataframe tbody tr th {\n",
       "        vertical-align: top;\n",
       "    }\n",
       "\n",
       "    .dataframe thead th {\n",
       "        text-align: right;\n",
       "    }\n",
       "</style>\n",
       "<table border=\"1\" class=\"dataframe\">\n",
       "  <thead>\n",
       "    <tr style=\"text-align: right;\">\n",
       "      <th></th>\n",
       "      <th>SK_ID_CURR</th>\n",
       "      <th>sk_id_bureau</th>\n",
       "      <th>max_days_credit_enddate</th>\n",
       "      <th>min_days_enddate_fact</th>\n",
       "      <th>sum_amt_credit_sum</th>\n",
       "      <th>sum_amt_credit_sum_limit</th>\n",
       "      <th>credit_type</th>\n",
       "      <th>max_days_credit_update</th>\n",
       "      <th>hist_cnt_credit_day_overdue</th>\n",
       "      <th>hist_cnt_credit_prolong</th>\n",
       "      <th>hist_cnt_amt_credit_max_overdue</th>\n",
       "      <th>debt_credit_ratio_none</th>\n",
       "      <th>debt_credit_ratio_none_flg</th>\n",
       "    </tr>\n",
       "  </thead>\n",
       "  <tbody>\n",
       "    <tr>\n",
       "      <th>0</th>\n",
       "      <td>100002</td>\n",
       "      <td>6158909.0</td>\n",
       "      <td>0.0</td>\n",
       "      <td>-48.0</td>\n",
       "      <td>31988.565</td>\n",
       "      <td>31988.565</td>\n",
       "      <td>2.0</td>\n",
       "      <td>-24.0</td>\n",
       "      <td>110</td>\n",
       "      <td>110</td>\n",
       "      <td>56</td>\n",
       "      <td>0.320947</td>\n",
       "      <td>1</td>\n",
       "    </tr>\n",
       "    <tr>\n",
       "      <th>1</th>\n",
       "      <td>100003</td>\n",
       "      <td>NaN</td>\n",
       "      <td>NaN</td>\n",
       "      <td>NaN</td>\n",
       "      <td>NaN</td>\n",
       "      <td>NaN</td>\n",
       "      <td>NaN</td>\n",
       "      <td>NaN</td>\n",
       "      <td>4</td>\n",
       "      <td>4</td>\n",
       "      <td>4</td>\n",
       "      <td>0.000000</td>\n",
       "      <td>0</td>\n",
       "    </tr>\n",
       "    <tr>\n",
       "      <th>2</th>\n",
       "      <td>100004</td>\n",
       "      <td>NaN</td>\n",
       "      <td>NaN</td>\n",
       "      <td>NaN</td>\n",
       "      <td>NaN</td>\n",
       "      <td>NaN</td>\n",
       "      <td>NaN</td>\n",
       "      <td>NaN</td>\n",
       "      <td>2</td>\n",
       "      <td>2</td>\n",
       "      <td>1</td>\n",
       "      <td>0.000000</td>\n",
       "      <td>0</td>\n",
       "    </tr>\n",
       "    <tr>\n",
       "      <th>3</th>\n",
       "      <td>100006</td>\n",
       "      <td>NaN</td>\n",
       "      <td>NaN</td>\n",
       "      <td>NaN</td>\n",
       "      <td>NaN</td>\n",
       "      <td>NaN</td>\n",
       "      <td>NaN</td>\n",
       "      <td>NaN</td>\n",
       "      <td>0</td>\n",
       "      <td>0</td>\n",
       "      <td>0</td>\n",
       "      <td>0.000000</td>\n",
       "      <td>0</td>\n",
       "    </tr>\n",
       "    <tr>\n",
       "      <th>4</th>\n",
       "      <td>100007</td>\n",
       "      <td>NaN</td>\n",
       "      <td>NaN</td>\n",
       "      <td>NaN</td>\n",
       "      <td>NaN</td>\n",
       "      <td>NaN</td>\n",
       "      <td>NaN</td>\n",
       "      <td>NaN</td>\n",
       "      <td>1</td>\n",
       "      <td>1</td>\n",
       "      <td>1</td>\n",
       "      <td>0.000000</td>\n",
       "      <td>0</td>\n",
       "    </tr>\n",
       "  </tbody>\n",
       "</table>\n",
       "</div>"
      ],
      "text/plain": [
       "   SK_ID_CURR  sk_id_bureau  max_days_credit_enddate  min_days_enddate_fact  \\\n",
       "0      100002     6158909.0                      0.0                  -48.0   \n",
       "1      100003           NaN                      NaN                    NaN   \n",
       "2      100004           NaN                      NaN                    NaN   \n",
       "3      100006           NaN                      NaN                    NaN   \n",
       "4      100007           NaN                      NaN                    NaN   \n",
       "\n",
       "   sum_amt_credit_sum  sum_amt_credit_sum_limit  credit_type  \\\n",
       "0           31988.565                 31988.565          2.0   \n",
       "1                 NaN                       NaN          NaN   \n",
       "2                 NaN                       NaN          NaN   \n",
       "3                 NaN                       NaN          NaN   \n",
       "4                 NaN                       NaN          NaN   \n",
       "\n",
       "   max_days_credit_update  hist_cnt_credit_day_overdue  \\\n",
       "0                   -24.0                          110   \n",
       "1                     NaN                            4   \n",
       "2                     NaN                            2   \n",
       "3                     NaN                            0   \n",
       "4                     NaN                            1   \n",
       "\n",
       "   hist_cnt_credit_prolong  hist_cnt_amt_credit_max_overdue  \\\n",
       "0                      110                               56   \n",
       "1                        4                                4   \n",
       "2                        2                                1   \n",
       "3                        0                                0   \n",
       "4                        1                                1   \n",
       "\n",
       "   debt_credit_ratio_none  debt_credit_ratio_none_flg  \n",
       "0                0.320947                           1  \n",
       "1                0.000000                           0  \n",
       "2                0.000000                           0  \n",
       "3                0.000000                           0  \n",
       "4                0.000000                           0  "
      ]
     },
     "execution_count": 166,
     "metadata": {},
     "output_type": "execute_result"
    }
   ],
   "source": [
    "#num_cols = ['max_credit_day_overdue', 'max_days_credit_enddate', 'min_days_enddate_fact', 'max_amt_credit_max_overdue', 'cnt_credit_prolong_in_6month', 'sum_amt_credit_sum', 'sum_amt_credit_sum_debt', 'sum_amt_credit_sum_limit', 'sum_amt_credit_sum_overdue', 'avg_amt_annuity']\n",
    "\n",
    "data = pd.concat([app_train, app_test], sort=False)\n",
    "train = data[:len(app_train)]\n",
    "test = data[len(app_test):]\n",
    "\n",
    "\n",
    "y_train = train['TARGET']\n",
    "X_train = app_train.copy().drop('TARGET', axis=1)\n",
    "X_test = app_test.copy()\n",
    "\n",
    "# 学習データに基づいてYao-Johnson変換を定義\n",
    "#pt = PowerTransformer(method = 'yeo-johnson')\n",
    "#pt.fit(X_train[num_cols])\n",
    "\n",
    "# 変換後のデータで各列を置換\n",
    "#X_train[num_cols] = pt.transform(X_train[num_cols])\n",
    "#X_test[num_cols] = pt.transform(X_test[num_cols])\n",
    "\n",
    "X_train.head()"
   ]
  },
  {
   "cell_type": "code",
   "execution_count": 167,
   "metadata": {},
   "outputs": [
    {
     "data": {
      "text/html": [
       "<div>\n",
       "<style scoped>\n",
       "    .dataframe tbody tr th:only-of-type {\n",
       "        vertical-align: middle;\n",
       "    }\n",
       "\n",
       "    .dataframe tbody tr th {\n",
       "        vertical-align: top;\n",
       "    }\n",
       "\n",
       "    .dataframe thead th {\n",
       "        text-align: right;\n",
       "    }\n",
       "</style>\n",
       "<table border=\"1\" class=\"dataframe\">\n",
       "  <thead>\n",
       "    <tr style=\"text-align: right;\">\n",
       "      <th></th>\n",
       "      <th>SK_ID_CURR</th>\n",
       "      <th>sk_id_bureau</th>\n",
       "      <th>max_days_credit_enddate</th>\n",
       "      <th>min_days_enddate_fact</th>\n",
       "      <th>sum_amt_credit_sum</th>\n",
       "      <th>sum_amt_credit_sum_limit</th>\n",
       "      <th>credit_type</th>\n",
       "      <th>max_days_credit_update</th>\n",
       "      <th>hist_cnt_credit_day_overdue</th>\n",
       "      <th>hist_cnt_credit_prolong</th>\n",
       "      <th>hist_cnt_amt_credit_max_overdue</th>\n",
       "      <th>debt_credit_ratio_none</th>\n",
       "      <th>debt_credit_ratio_none_flg</th>\n",
       "    </tr>\n",
       "  </thead>\n",
       "  <tbody>\n",
       "    <tr>\n",
       "      <th>0</th>\n",
       "      <td>100001</td>\n",
       "      <td>5896631.0</td>\n",
       "      <td>1778.0</td>\n",
       "      <td>-1328.0</td>\n",
       "      <td>1453365.00</td>\n",
       "      <td>0.00</td>\n",
       "      <td>1.0</td>\n",
       "      <td>-6.0</td>\n",
       "      <td>172</td>\n",
       "      <td>172</td>\n",
       "      <td>0</td>\n",
       "      <td>0.147934</td>\n",
       "      <td>1</td>\n",
       "    </tr>\n",
       "    <tr>\n",
       "      <th>1</th>\n",
       "      <td>100005</td>\n",
       "      <td>6735202.0</td>\n",
       "      <td>1324.0</td>\n",
       "      <td>-123.0</td>\n",
       "      <td>657126.00</td>\n",
       "      <td>0.00</td>\n",
       "      <td>1.0</td>\n",
       "      <td>-11.0</td>\n",
       "      <td>21</td>\n",
       "      <td>21</td>\n",
       "      <td>3</td>\n",
       "      <td>0.755662</td>\n",
       "      <td>1</td>\n",
       "    </tr>\n",
       "    <tr>\n",
       "      <th>2</th>\n",
       "      <td>100013</td>\n",
       "      <td>5922081.0</td>\n",
       "      <td>-567.0</td>\n",
       "      <td>-1334.0</td>\n",
       "      <td>2072280.06</td>\n",
       "      <td>0.00</td>\n",
       "      <td>1.0</td>\n",
       "      <td>-4.0</td>\n",
       "      <td>230</td>\n",
       "      <td>230</td>\n",
       "      <td>66</td>\n",
       "      <td>0.000000</td>\n",
       "      <td>0</td>\n",
       "    </tr>\n",
       "    <tr>\n",
       "      <th>3</th>\n",
       "      <td>100028</td>\n",
       "      <td>6356889.0</td>\n",
       "      <td>30885.0</td>\n",
       "      <td>-1862.0</td>\n",
       "      <td>1520875.08</td>\n",
       "      <td>101390.76</td>\n",
       "      <td>2.0</td>\n",
       "      <td>-20.0</td>\n",
       "      <td>560</td>\n",
       "      <td>560</td>\n",
       "      <td>128</td>\n",
       "      <td>0.038443</td>\n",
       "      <td>1</td>\n",
       "    </tr>\n",
       "    <tr>\n",
       "      <th>4</th>\n",
       "      <td>100038</td>\n",
       "      <td>NaN</td>\n",
       "      <td>NaN</td>\n",
       "      <td>NaN</td>\n",
       "      <td>NaN</td>\n",
       "      <td>NaN</td>\n",
       "      <td>NaN</td>\n",
       "      <td>NaN</td>\n",
       "      <td>0</td>\n",
       "      <td>0</td>\n",
       "      <td>0</td>\n",
       "      <td>0.000000</td>\n",
       "      <td>0</td>\n",
       "    </tr>\n",
       "  </tbody>\n",
       "</table>\n",
       "</div>"
      ],
      "text/plain": [
       "   SK_ID_CURR  sk_id_bureau  max_days_credit_enddate  min_days_enddate_fact  \\\n",
       "0      100001     5896631.0                   1778.0                -1328.0   \n",
       "1      100005     6735202.0                   1324.0                 -123.0   \n",
       "2      100013     5922081.0                   -567.0                -1334.0   \n",
       "3      100028     6356889.0                  30885.0                -1862.0   \n",
       "4      100038           NaN                      NaN                    NaN   \n",
       "\n",
       "   sum_amt_credit_sum  sum_amt_credit_sum_limit  credit_type  \\\n",
       "0          1453365.00                      0.00          1.0   \n",
       "1           657126.00                      0.00          1.0   \n",
       "2          2072280.06                      0.00          1.0   \n",
       "3          1520875.08                 101390.76          2.0   \n",
       "4                 NaN                       NaN          NaN   \n",
       "\n",
       "   max_days_credit_update  hist_cnt_credit_day_overdue  \\\n",
       "0                    -6.0                          172   \n",
       "1                   -11.0                           21   \n",
       "2                    -4.0                          230   \n",
       "3                   -20.0                          560   \n",
       "4                     NaN                            0   \n",
       "\n",
       "   hist_cnt_credit_prolong  hist_cnt_amt_credit_max_overdue  \\\n",
       "0                      172                                0   \n",
       "1                       21                                3   \n",
       "2                      230                               66   \n",
       "3                      560                              128   \n",
       "4                        0                                0   \n",
       "\n",
       "   debt_credit_ratio_none  debt_credit_ratio_none_flg  \n",
       "0                0.147934                           1  \n",
       "1                0.755662                           1  \n",
       "2                0.000000                           0  \n",
       "3                0.038443                           1  \n",
       "4                0.000000                           0  "
      ]
     },
     "execution_count": 167,
     "metadata": {},
     "output_type": "execute_result"
    }
   ],
   "source": [
    "X_test.head()"
   ]
  },
  {
   "cell_type": "code",
   "execution_count": 168,
   "metadata": {
    "colab": {
     "base_uri": "https://localhost:8080/"
    },
    "id": "EaaOLy4sw-4p",
    "outputId": "f35f4d72-8d4f-402d-ffb0-f6fdeac32b26"
   },
   "outputs": [
    {
     "name": "stdout",
     "output_type": "stream",
     "text": [
      "[23:00:20] WARNING: C:/Users/Administrator/workspace/xgboost-win64_release_1.6.0/src/learner.cc:627: \n",
      "Parameters: { \"colsample_state\", \"silent\", \"subsumple\" } might not be used.\n",
      "\n",
      "  This could be a false alarm, with some parameters getting used by language bindings but\n",
      "  then being mistakenly passed down to XGBoost core, or some parameter actually being used\n",
      "  but getting flagged wrongly here. Please open an issue if you find any such cases.\n",
      "\n",
      "\n",
      "[0]\ttrain-auc:0.59969\teval-auc:0.58937\n",
      "[1]\ttrain-auc:0.60473\teval-auc:0.59379\n",
      "[2]\ttrain-auc:0.60652\teval-auc:0.59407\n",
      "[3]\ttrain-auc:0.61051\teval-auc:0.59706\n",
      "[4]\ttrain-auc:0.61229\teval-auc:0.59772\n",
      "[5]\ttrain-auc:0.61283\teval-auc:0.59812\n",
      "[6]\ttrain-auc:0.61545\teval-auc:0.59880\n",
      "[7]\ttrain-auc:0.61659\teval-auc:0.59909\n",
      "[8]\ttrain-auc:0.61742\teval-auc:0.59894\n",
      "[9]\ttrain-auc:0.61829\teval-auc:0.59955\n",
      "[10]\ttrain-auc:0.61927\teval-auc:0.59999\n",
      "[11]\ttrain-auc:0.62011\teval-auc:0.60043\n",
      "[12]\ttrain-auc:0.62086\teval-auc:0.60014\n",
      "[13]\ttrain-auc:0.62148\teval-auc:0.60044\n",
      "[14]\ttrain-auc:0.62219\teval-auc:0.60111\n",
      "[15]\ttrain-auc:0.62326\teval-auc:0.60112\n",
      "[16]\ttrain-auc:0.62431\teval-auc:0.60104\n",
      "[17]\ttrain-auc:0.62613\teval-auc:0.60088\n",
      "[18]\ttrain-auc:0.62646\teval-auc:0.60095\n",
      "[19]\ttrain-auc:0.62736\teval-auc:0.60105\n",
      "[20]\ttrain-auc:0.62809\teval-auc:0.60113\n",
      "[21]\ttrain-auc:0.62893\teval-auc:0.60118\n",
      "[22]\ttrain-auc:0.62999\teval-auc:0.60188\n",
      "[23]\ttrain-auc:0.63076\teval-auc:0.60184\n",
      "[24]\ttrain-auc:0.63167\teval-auc:0.60229\n",
      "[25]\ttrain-auc:0.63259\teval-auc:0.60320\n",
      "[26]\ttrain-auc:0.63394\teval-auc:0.60383\n",
      "[27]\ttrain-auc:0.63423\teval-auc:0.60352\n",
      "[28]\ttrain-auc:0.63603\teval-auc:0.60389\n",
      "[29]\ttrain-auc:0.63705\teval-auc:0.60372\n",
      "[30]\ttrain-auc:0.63811\teval-auc:0.60377\n",
      "[31]\ttrain-auc:0.63894\teval-auc:0.60397\n",
      "[32]\ttrain-auc:0.63915\teval-auc:0.60401\n",
      "[33]\ttrain-auc:0.63996\teval-auc:0.60424\n",
      "[34]\ttrain-auc:0.64056\teval-auc:0.60403\n",
      "[35]\ttrain-auc:0.64137\teval-auc:0.60401\n",
      "[36]\ttrain-auc:0.64246\teval-auc:0.60445\n",
      "[37]\ttrain-auc:0.64314\teval-auc:0.60419\n",
      "[38]\ttrain-auc:0.64375\teval-auc:0.60440\n",
      "[39]\ttrain-auc:0.64440\teval-auc:0.60438\n",
      "[40]\ttrain-auc:0.64525\teval-auc:0.60445\n",
      "[41]\ttrain-auc:0.64614\teval-auc:0.60412\n",
      "[42]\ttrain-auc:0.64752\teval-auc:0.60402\n",
      "[43]\ttrain-auc:0.64774\teval-auc:0.60388\n",
      "[44]\ttrain-auc:0.64845\teval-auc:0.60395\n",
      "[45]\ttrain-auc:0.64886\teval-auc:0.60412\n",
      "[46]\ttrain-auc:0.64902\teval-auc:0.60413\n",
      "[47]\ttrain-auc:0.64930\teval-auc:0.60437\n",
      "[48]\ttrain-auc:0.65048\teval-auc:0.60453\n",
      "[49]\ttrain-auc:0.65082\teval-auc:0.60448\n",
      "[23:00:22] WARNING: C:/Users/Administrator/workspace/xgboost-win64_release_1.6.0/src/learner.cc:627: \n",
      "Parameters: { \"colsample_state\", \"silent\", \"subsumple\" } might not be used.\n",
      "\n",
      "  This could be a false alarm, with some parameters getting used by language bindings but\n",
      "  then being mistakenly passed down to XGBoost core, or some parameter actually being used\n",
      "  but getting flagged wrongly here. Please open an issue if you find any such cases.\n",
      "\n",
      "\n",
      "[0]\ttrain-auc:0.59839\teval-auc:0.58992\n",
      "[1]\ttrain-auc:0.60616\teval-auc:0.59326\n",
      "[2]\ttrain-auc:0.60805\teval-auc:0.59578\n",
      "[3]\ttrain-auc:0.61057\teval-auc:0.59758\n",
      "[4]\ttrain-auc:0.61230\teval-auc:0.59775\n",
      "[5]\ttrain-auc:0.61297\teval-auc:0.59847\n",
      "[6]\ttrain-auc:0.61651\teval-auc:0.59843\n",
      "[7]\ttrain-auc:0.61711\teval-auc:0.59893\n",
      "[8]\ttrain-auc:0.61785\teval-auc:0.59928\n",
      "[9]\ttrain-auc:0.61904\teval-auc:0.60060\n",
      "[10]\ttrain-auc:0.62046\teval-auc:0.60059\n",
      "[11]\ttrain-auc:0.62123\teval-auc:0.60054\n",
      "[12]\ttrain-auc:0.62235\teval-auc:0.60091\n",
      "[13]\ttrain-auc:0.62322\teval-auc:0.60134\n",
      "[14]\ttrain-auc:0.62379\teval-auc:0.60179\n",
      "[15]\ttrain-auc:0.62520\teval-auc:0.60170\n",
      "[16]\ttrain-auc:0.62562\teval-auc:0.60142\n",
      "[17]\ttrain-auc:0.62773\teval-auc:0.60170\n",
      "[18]\ttrain-auc:0.62839\teval-auc:0.60169\n",
      "[19]\ttrain-auc:0.62901\teval-auc:0.60198\n",
      "[20]\ttrain-auc:0.62996\teval-auc:0.60221\n",
      "[21]\ttrain-auc:0.63075\teval-auc:0.60280\n",
      "[22]\ttrain-auc:0.63128\teval-auc:0.60316\n",
      "[23]\ttrain-auc:0.63231\teval-auc:0.60290\n",
      "[24]\ttrain-auc:0.63366\teval-auc:0.60278\n",
      "[25]\ttrain-auc:0.63483\teval-auc:0.60297\n",
      "[26]\ttrain-auc:0.63543\teval-auc:0.60308\n",
      "[27]\ttrain-auc:0.63590\teval-auc:0.60263\n",
      "[28]\ttrain-auc:0.63714\teval-auc:0.60249\n",
      "[29]\ttrain-auc:0.63815\teval-auc:0.60314\n",
      "[30]\ttrain-auc:0.63883\teval-auc:0.60299\n",
      "[31]\ttrain-auc:0.63992\teval-auc:0.60308\n",
      "[32]\ttrain-auc:0.64043\teval-auc:0.60333\n",
      "[33]\ttrain-auc:0.64159\teval-auc:0.60327\n",
      "[34]\ttrain-auc:0.64208\teval-auc:0.60339\n",
      "[35]\ttrain-auc:0.64282\teval-auc:0.60319\n",
      "[36]\ttrain-auc:0.64367\teval-auc:0.60307\n",
      "[37]\ttrain-auc:0.64434\teval-auc:0.60338\n",
      "[38]\ttrain-auc:0.64540\teval-auc:0.60308\n",
      "[39]\ttrain-auc:0.64575\teval-auc:0.60306\n",
      "[40]\ttrain-auc:0.64595\teval-auc:0.60317\n",
      "[41]\ttrain-auc:0.64686\teval-auc:0.60308\n",
      "[42]\ttrain-auc:0.64778\teval-auc:0.60285\n",
      "[43]\ttrain-auc:0.64818\teval-auc:0.60293\n",
      "[44]\ttrain-auc:0.64917\teval-auc:0.60310\n",
      "[45]\ttrain-auc:0.65000\teval-auc:0.60304\n",
      "[46]\ttrain-auc:0.65062\teval-auc:0.60304\n",
      "[47]\ttrain-auc:0.65128\teval-auc:0.60299\n",
      "[48]\ttrain-auc:0.65249\teval-auc:0.60292\n",
      "[49]\ttrain-auc:0.65300\teval-auc:0.60312\n",
      "[23:00:23] WARNING: C:/Users/Administrator/workspace/xgboost-win64_release_1.6.0/src/learner.cc:627: \n",
      "Parameters: { \"colsample_state\", \"silent\", \"subsumple\" } might not be used.\n",
      "\n",
      "  This could be a false alarm, with some parameters getting used by language bindings but\n",
      "  then being mistakenly passed down to XGBoost core, or some parameter actually being used\n",
      "  but getting flagged wrongly here. Please open an issue if you find any such cases.\n",
      "\n",
      "\n",
      "[0]\ttrain-auc:0.59685\teval-auc:0.59230\n",
      "[1]\ttrain-auc:0.60312\teval-auc:0.59721\n",
      "[2]\ttrain-auc:0.60494\teval-auc:0.59955\n",
      "[3]\ttrain-auc:0.60848\teval-auc:0.60274\n",
      "[4]\ttrain-auc:0.61108\teval-auc:0.60353\n",
      "[5]\ttrain-auc:0.61174\teval-auc:0.60370\n",
      "[6]\ttrain-auc:0.61482\teval-auc:0.60393\n",
      "[7]\ttrain-auc:0.61565\teval-auc:0.60367\n",
      "[8]\ttrain-auc:0.61642\teval-auc:0.60393\n",
      "[9]\ttrain-auc:0.61703\teval-auc:0.60446\n",
      "[10]\ttrain-auc:0.61775\teval-auc:0.60501\n",
      "[11]\ttrain-auc:0.61827\teval-auc:0.60474\n",
      "[12]\ttrain-auc:0.61993\teval-auc:0.60520\n",
      "[13]\ttrain-auc:0.62141\teval-auc:0.60497\n",
      "[14]\ttrain-auc:0.62212\teval-auc:0.60568\n",
      "[15]\ttrain-auc:0.62335\teval-auc:0.60613\n",
      "[16]\ttrain-auc:0.62400\teval-auc:0.60591\n",
      "[17]\ttrain-auc:0.62571\teval-auc:0.60604\n",
      "[18]\ttrain-auc:0.62660\teval-auc:0.60636\n",
      "[19]\ttrain-auc:0.62700\teval-auc:0.60639\n",
      "[20]\ttrain-auc:0.62775\teval-auc:0.60635\n",
      "[21]\ttrain-auc:0.62844\teval-auc:0.60640\n",
      "[22]\ttrain-auc:0.62960\teval-auc:0.60706\n",
      "[23]\ttrain-auc:0.63008\teval-auc:0.60733\n",
      "[24]\ttrain-auc:0.63098\teval-auc:0.60705\n",
      "[25]\ttrain-auc:0.63223\teval-auc:0.60703\n",
      "[26]\ttrain-auc:0.63257\teval-auc:0.60704\n",
      "[27]\ttrain-auc:0.63338\teval-auc:0.60711\n",
      "[28]\ttrain-auc:0.63410\teval-auc:0.60669\n",
      "[29]\ttrain-auc:0.63539\teval-auc:0.60697\n",
      "[30]\ttrain-auc:0.63577\teval-auc:0.60708\n",
      "[31]\ttrain-auc:0.63636\teval-auc:0.60719\n",
      "[32]\ttrain-auc:0.63713\teval-auc:0.60703\n",
      "[33]\ttrain-auc:0.63781\teval-auc:0.60696\n",
      "[34]\ttrain-auc:0.63826\teval-auc:0.60726\n",
      "[35]\ttrain-auc:0.63905\teval-auc:0.60681\n",
      "[36]\ttrain-auc:0.64033\teval-auc:0.60660\n",
      "[37]\ttrain-auc:0.64193\teval-auc:0.60665\n",
      "[38]\ttrain-auc:0.64313\teval-auc:0.60699\n",
      "[39]\ttrain-auc:0.64357\teval-auc:0.60688\n",
      "[40]\ttrain-auc:0.64419\teval-auc:0.60722\n",
      "[41]\ttrain-auc:0.64525\teval-auc:0.60747\n",
      "[42]\ttrain-auc:0.64625\teval-auc:0.60735\n",
      "[43]\ttrain-auc:0.64728\teval-auc:0.60714\n",
      "[44]\ttrain-auc:0.64789\teval-auc:0.60722\n",
      "[45]\ttrain-auc:0.64866\teval-auc:0.60690\n",
      "[46]\ttrain-auc:0.64990\teval-auc:0.60675\n",
      "[47]\ttrain-auc:0.65059\teval-auc:0.60684\n",
      "[48]\ttrain-auc:0.65179\teval-auc:0.60658\n",
      "[49]\ttrain-auc:0.65268\teval-auc:0.60679\n",
      "[23:00:24] WARNING: C:/Users/Administrator/workspace/xgboost-win64_release_1.6.0/src/learner.cc:627: \n",
      "Parameters: { \"colsample_state\", \"silent\", \"subsumple\" } might not be used.\n",
      "\n",
      "  This could be a false alarm, with some parameters getting used by language bindings but\n",
      "  then being mistakenly passed down to XGBoost core, or some parameter actually being used\n",
      "  but getting flagged wrongly here. Please open an issue if you find any such cases.\n",
      "\n",
      "\n",
      "[0]\ttrain-auc:0.59863\teval-auc:0.59460\n",
      "[1]\ttrain-auc:0.60406\teval-auc:0.60085\n",
      "[2]\ttrain-auc:0.60649\teval-auc:0.60097\n",
      "[3]\ttrain-auc:0.60981\teval-auc:0.60115\n",
      "[4]\ttrain-auc:0.61236\teval-auc:0.60055\n",
      "[5]\ttrain-auc:0.61341\teval-auc:0.60218\n",
      "[6]\ttrain-auc:0.61567\teval-auc:0.60235\n",
      "[7]\ttrain-auc:0.61686\teval-auc:0.60272\n",
      "[8]\ttrain-auc:0.61758\teval-auc:0.60288\n",
      "[9]\ttrain-auc:0.61868\teval-auc:0.60302\n",
      "[10]\ttrain-auc:0.61956\teval-auc:0.60358\n",
      "[11]\ttrain-auc:0.62000\teval-auc:0.60424\n"
     ]
    },
    {
     "name": "stdout",
     "output_type": "stream",
     "text": [
      "[12]\ttrain-auc:0.62111\teval-auc:0.60442\n",
      "[13]\ttrain-auc:0.62164\teval-auc:0.60494\n",
      "[14]\ttrain-auc:0.62238\teval-auc:0.60491\n",
      "[15]\ttrain-auc:0.62386\teval-auc:0.60515\n",
      "[16]\ttrain-auc:0.62428\teval-auc:0.60503\n",
      "[17]\ttrain-auc:0.62536\teval-auc:0.60513\n",
      "[18]\ttrain-auc:0.62637\teval-auc:0.60536\n",
      "[19]\ttrain-auc:0.62728\teval-auc:0.60518\n",
      "[20]\ttrain-auc:0.62789\teval-auc:0.60520\n",
      "[21]\ttrain-auc:0.62893\teval-auc:0.60545\n",
      "[22]\ttrain-auc:0.62954\teval-auc:0.60560\n",
      "[23]\ttrain-auc:0.63022\teval-auc:0.60625\n",
      "[24]\ttrain-auc:0.63154\teval-auc:0.60663\n",
      "[25]\ttrain-auc:0.63301\teval-auc:0.60655\n",
      "[26]\ttrain-auc:0.63330\teval-auc:0.60680\n",
      "[27]\ttrain-auc:0.63421\teval-auc:0.60653\n",
      "[28]\ttrain-auc:0.63547\teval-auc:0.60627\n",
      "[29]\ttrain-auc:0.63655\teval-auc:0.60649\n",
      "[30]\ttrain-auc:0.63704\teval-auc:0.60628\n",
      "[31]\ttrain-auc:0.63743\teval-auc:0.60612\n",
      "[32]\ttrain-auc:0.63781\teval-auc:0.60636\n",
      "[33]\ttrain-auc:0.63914\teval-auc:0.60684\n",
      "[34]\ttrain-auc:0.63950\teval-auc:0.60661\n",
      "[35]\ttrain-auc:0.64022\teval-auc:0.60699\n",
      "[36]\ttrain-auc:0.64090\teval-auc:0.60706\n",
      "[37]\ttrain-auc:0.64144\teval-auc:0.60676\n",
      "[38]\ttrain-auc:0.64228\teval-auc:0.60701\n",
      "[39]\ttrain-auc:0.64283\teval-auc:0.60717\n",
      "[40]\ttrain-auc:0.64344\teval-auc:0.60705\n",
      "[41]\ttrain-auc:0.64398\teval-auc:0.60700\n",
      "[42]\ttrain-auc:0.64526\teval-auc:0.60714\n",
      "[43]\ttrain-auc:0.64606\teval-auc:0.60705\n",
      "[44]\ttrain-auc:0.64719\teval-auc:0.60689\n",
      "[45]\ttrain-auc:0.64766\teval-auc:0.60702\n",
      "[46]\ttrain-auc:0.64852\teval-auc:0.60693\n",
      "[47]\ttrain-auc:0.64952\teval-auc:0.60656\n",
      "[48]\ttrain-auc:0.64990\teval-auc:0.60674\n",
      "[49]\ttrain-auc:0.65053\teval-auc:0.60701\n",
      "[23:00:25] WARNING: C:/Users/Administrator/workspace/xgboost-win64_release_1.6.0/src/learner.cc:627: \n",
      "Parameters: { \"colsample_state\", \"silent\", \"subsumple\" } might not be used.\n",
      "\n",
      "  This could be a false alarm, with some parameters getting used by language bindings but\n",
      "  then being mistakenly passed down to XGBoost core, or some parameter actually being used\n",
      "  but getting flagged wrongly here. Please open an issue if you find any such cases.\n",
      "\n",
      "\n",
      "[0]\ttrain-auc:0.59822\teval-auc:0.58964\n",
      "[1]\ttrain-auc:0.60515\teval-auc:0.59328\n",
      "[2]\ttrain-auc:0.60835\teval-auc:0.59742\n",
      "[3]\ttrain-auc:0.61176\teval-auc:0.59977\n",
      "[4]\ttrain-auc:0.61262\teval-auc:0.60015\n",
      "[5]\ttrain-auc:0.61369\teval-auc:0.60082\n",
      "[6]\ttrain-auc:0.61662\teval-auc:0.60084\n",
      "[7]\ttrain-auc:0.61753\teval-auc:0.60061\n",
      "[8]\ttrain-auc:0.61766\teval-auc:0.60146\n",
      "[9]\ttrain-auc:0.61837\teval-auc:0.60129\n",
      "[10]\ttrain-auc:0.61928\teval-auc:0.60132\n",
      "[11]\ttrain-auc:0.61939\teval-auc:0.60116\n",
      "[12]\ttrain-auc:0.62078\teval-auc:0.60151\n",
      "[13]\ttrain-auc:0.62193\teval-auc:0.60104\n",
      "[14]\ttrain-auc:0.62274\teval-auc:0.60120\n",
      "[15]\ttrain-auc:0.62380\teval-auc:0.60136\n",
      "[16]\ttrain-auc:0.62417\teval-auc:0.60166\n",
      "[17]\ttrain-auc:0.62556\teval-auc:0.60180\n",
      "[18]\ttrain-auc:0.62580\teval-auc:0.60232\n",
      "[19]\ttrain-auc:0.62621\teval-auc:0.60197\n",
      "[20]\ttrain-auc:0.62677\teval-auc:0.60164\n",
      "[21]\ttrain-auc:0.62793\teval-auc:0.60210\n",
      "[22]\ttrain-auc:0.62828\teval-auc:0.60164\n",
      "[23]\ttrain-auc:0.62895\teval-auc:0.60184\n",
      "[24]\ttrain-auc:0.62996\teval-auc:0.60132\n",
      "[25]\ttrain-auc:0.63131\teval-auc:0.60111\n",
      "[26]\ttrain-auc:0.63174\teval-auc:0.60129\n",
      "[27]\ttrain-auc:0.63224\teval-auc:0.60168\n",
      "[28]\ttrain-auc:0.63387\teval-auc:0.60110\n",
      "[29]\ttrain-auc:0.63537\teval-auc:0.60122\n",
      "[30]\ttrain-auc:0.63586\teval-auc:0.60120\n",
      "[31]\ttrain-auc:0.63642\teval-auc:0.60173\n",
      "[32]\ttrain-auc:0.63721\teval-auc:0.60172\n",
      "[33]\ttrain-auc:0.63779\teval-auc:0.60166\n",
      "[34]\ttrain-auc:0.63833\teval-auc:0.60165\n",
      "[35]\ttrain-auc:0.63921\teval-auc:0.60165\n",
      "[36]\ttrain-auc:0.64004\teval-auc:0.60150\n",
      "[37]\ttrain-auc:0.64151\teval-auc:0.60236\n",
      "[38]\ttrain-auc:0.64239\teval-auc:0.60254\n",
      "[39]\ttrain-auc:0.64319\teval-auc:0.60253\n",
      "[40]\ttrain-auc:0.64374\teval-auc:0.60251\n",
      "[41]\ttrain-auc:0.64450\teval-auc:0.60199\n",
      "[42]\ttrain-auc:0.64481\teval-auc:0.60170\n",
      "[43]\ttrain-auc:0.64582\teval-auc:0.60191\n",
      "[44]\ttrain-auc:0.64647\teval-auc:0.60204\n",
      "[45]\ttrain-auc:0.64704\teval-auc:0.60200\n",
      "[46]\ttrain-auc:0.64784\teval-auc:0.60188\n",
      "[47]\ttrain-auc:0.64914\teval-auc:0.60177\n",
      "[48]\ttrain-auc:0.64971\teval-auc:0.60200\n",
      "[49]\ttrain-auc:0.65022\teval-auc:0.60191\n"
     ]
    }
   ],
   "source": [
    "import xgboost as xgb\n",
    "from sklearn.metrics import log_loss\n",
    "\n",
    "y_preds = []\n",
    "models = []\n",
    "scores = []\n",
    "oof_train = np.zeros((len(X_train),))\n",
    "cv = KFold(n_splits=5, shuffle=True, random_state=0)\n",
    "\n",
    "categorical_features = columns\n",
    "\n",
    "params = {\n",
    "    'booster': 'gbtree'\n",
    "    ,'objective': 'binary:logistic'\n",
    "    ,'silent': 1\n",
    "    ,'random_state': 17\n",
    "    ,'gpu_id': 0\n",
    "    ,'tree_method': 'gpu_hist'\n",
    "    ,'eval_metric': 'auc'\n",
    "    ,'eta': 0.1\n",
    "    #,'max_round': 100\n",
    "    ,'max_depth': 8\n",
    "    ,'subsample': 0.8\n",
    "    ,'colsample_state': 71\n",
    "    ,'colsample_bytree': 1.0\n",
    "    ,'colsample_bylevel': 0.3\n",
    "    ,'subsumple': 0.9\n",
    "    ,'gamma': 0\n",
    "    ,'lambda': 1\n",
    "    ,'alpha': 0\n",
    "    ,'min_child_weight': 1\n",
    "}\n",
    "\n",
    "num_round = 50\n",
    "\n",
    "for fold_id, (train_index, valid_index) in enumerate(cv.split(X_train)):\n",
    "    X_tr = X_train.loc[train_index, :]\n",
    "    X_val = X_train.loc[valid_index, :]\n",
    "    y_tr = y_train[train_index]\n",
    "    y_val = y_train[valid_index]\n",
    "    \n",
    "    dtrain = xgb.DMatrix(X_tr, label=y_tr)\n",
    "    dvalid = xgb.DMatrix(X_val, label=y_val)\n",
    "    dtest = xgb.DMatrix(X_test)\n",
    "    \n",
    "    watchlist = [(dtrain, 'train'), (dvalid, 'eval')]\n",
    "    model = xgb.train(params, dtrain, num_round, evals=watchlist)\n",
    "    \n",
    "    va_pred = model.predict(dvalid)\n",
    "    score = log_loss(y_val, va_pred)\n",
    "    oof_train[valid_index] = va_pred\n",
    "    \n",
    "    y_pred = model.predict(dtest) \n",
    "    \n",
    "    \n",
    "    #oof_train[valid_index] = model.predict(X_val, num_iteration=model.best_iteration)\n",
    "    #y_pred = model.predict(X_test, num_iteration=model.best_iteration)##\n",
    "\n",
    "    y_preds.append(y_pred)\n",
    "    models.append(model)\n",
    "    scores.append(score)"
   ]
  },
  {
   "cell_type": "code",
   "execution_count": 169,
   "metadata": {
    "id": "dfSRl2kgiAl0"
   },
   "outputs": [
    {
     "data": {
      "text/plain": [
       "array([0.10052185, 0.16906697, 0.03329954, ..., 0.06810992, 0.04866034,\n",
       "       0.13699618], dtype=float32)"
      ]
     },
     "execution_count": 169,
     "metadata": {},
     "output_type": "execute_result"
    }
   ],
   "source": [
    "y_pred"
   ]
  },
  {
   "cell_type": "code",
   "execution_count": 170,
   "metadata": {},
   "outputs": [
    {
     "data": {
      "text/plain": [
       "[0.27140114692768774,\n",
       " 0.27626074761003744,\n",
       " 0.2753613405480236,\n",
       " 0.27636427505057576,\n",
       " 0.2776904622959505]"
      ]
     },
     "execution_count": 170,
     "metadata": {},
     "output_type": "execute_result"
    }
   ],
   "source": [
    "scores"
   ]
  },
  {
   "cell_type": "code",
   "execution_count": 171,
   "metadata": {},
   "outputs": [],
   "source": [
    "# CSV-00\n",
    "submit_all = app_test[[\"SK_ID_CURR\"]].copy()\n",
    "# 予測確率の変数名はTARGET\n",
    "submit_all[\"TARGET\"] = y_preds[0]\n",
    "submit_all.isnull().sum()\n",
    "\n",
    "# Submit File\n",
    "submit_all.to_csv(\n",
    "    path_or_buf=\"./home-credit-default-risk/submit/submit_all_00.csv\", # 出力先\n",
    "    sep=\",\",                                            # 区切り文字\n",
    "    index=False,                                        # indexの出力有無\n",
    "    header=True                                        # headerの出力有無\n",
    ")"
   ]
  },
  {
   "cell_type": "code",
   "execution_count": 172,
   "metadata": {},
   "outputs": [],
   "source": [
    "# CSV-01\n",
    "submit_all = app_test[[\"SK_ID_CURR\"]].copy()\n",
    "# 予測確率の変数名はTARGET\n",
    "submit_all[\"TARGET\"] = y_preds[1]\n",
    "\n",
    "# Submit File\n",
    "submit_all.to_csv(\n",
    "    path_or_buf=\"./home-credit-default-risk/submit/submit_all_01.csv\", # 出力先\n",
    "    sep=\",\",                                            # 区切り文字\n",
    "    index=False,                                        # indexの出力有無\n",
    "    header=True                                        # headerの出力有無\n",
    ")"
   ]
  },
  {
   "cell_type": "code",
   "execution_count": 173,
   "metadata": {},
   "outputs": [],
   "source": [
    "# CSV-02\n",
    "submit_all = app_test[[\"SK_ID_CURR\"]].copy()\n",
    "# 予測確率の変数名はTARGET\n",
    "submit_all[\"TARGET\"] = y_preds[2]\n",
    "\n",
    "# Submit File\n",
    "submit_all.to_csv(\n",
    "    path_or_buf=\"./home-credit-default-risk/submit/submit_all_02.csv\", # 出力先\n",
    "    sep=\",\",                                            # 区切り文字\n",
    "    index=False,                                        # indexの出力有無\n",
    "    header=True                                        # headerの出力有無\n",
    ")"
   ]
  },
  {
   "cell_type": "code",
   "execution_count": 174,
   "metadata": {},
   "outputs": [],
   "source": [
    "# CSV-03\n",
    "submit_all = app_test[[\"SK_ID_CURR\"]].copy()\n",
    "# 予測確率の変数名はTARGET\n",
    "submit_all[\"TARGET\"] = y_preds[3]\n",
    "\n",
    "# Submit File\n",
    "submit_all.to_csv(\n",
    "    path_or_buf=\"./home-credit-default-risk/submit/submit_all_03.csv\", # 出力先\n",
    "    sep=\",\",                                            # 区切り文字\n",
    "    index=False,                                        # indexの出力有無\n",
    "    header=True                                        # headerの出力有無\n",
    ")"
   ]
  },
  {
   "cell_type": "code",
   "execution_count": 175,
   "metadata": {},
   "outputs": [],
   "source": [
    "# CSV-04\n",
    "submit_all = app_test[[\"SK_ID_CURR\"]].copy()\n",
    "# 予測確率の変数名はTARGET\n",
    "submit_all[\"TARGET\"] = y_preds[4]\n",
    "\n",
    "# Submit File\n",
    "submit_all.to_csv(\n",
    "    path_or_buf=\"./home-credit-default-risk/submit/submit_all_04.csv\", # 出力先\n",
    "    sep=\",\",                                            # 区切り文字\n",
    "    index=False,                                        # indexの出力有無\n",
    "    header=True                                        # headerの出力有無\n",
    ")"
   ]
  },
  {
   "cell_type": "code",
   "execution_count": 176,
   "metadata": {},
   "outputs": [],
   "source": [
    "submit_all_00 = pd.read_csv('./home-credit-default-risk/submit/submit_all_00.csv')\n",
    "submit_all_01 = pd.read_csv('./home-credit-default-risk/submit/submit_all_01.csv')\n",
    "submit_all_02 = pd.read_csv('./home-credit-default-risk/submit/submit_all_02.csv')\n",
    "submit_all_03 = pd.read_csv('./home-credit-default-risk/submit/submit_all_03.csv')\n",
    "submit_all_04 = pd.read_csv('./home-credit-default-risk/submit/submit_all_04.csv')"
   ]
  },
  {
   "cell_type": "code",
   "execution_count": 177,
   "metadata": {},
   "outputs": [
    {
     "data": {
      "text/html": [
       "<div>\n",
       "<style scoped>\n",
       "    .dataframe tbody tr th:only-of-type {\n",
       "        vertical-align: middle;\n",
       "    }\n",
       "\n",
       "    .dataframe tbody tr th {\n",
       "        vertical-align: top;\n",
       "    }\n",
       "\n",
       "    .dataframe thead th {\n",
       "        text-align: right;\n",
       "    }\n",
       "</style>\n",
       "<table border=\"1\" class=\"dataframe\">\n",
       "  <thead>\n",
       "    <tr style=\"text-align: right;\">\n",
       "      <th></th>\n",
       "      <th>submit_all_00</th>\n",
       "      <th>submit_all_01</th>\n",
       "      <th>submit_all_02</th>\n",
       "      <th>submit_all_03</th>\n",
       "      <th>submit_all_04</th>\n",
       "    </tr>\n",
       "  </thead>\n",
       "  <tbody>\n",
       "    <tr>\n",
       "      <th>0</th>\n",
       "      <td>0.074259</td>\n",
       "      <td>0.060114</td>\n",
       "      <td>0.079128</td>\n",
       "      <td>0.074689</td>\n",
       "      <td>0.100522</td>\n",
       "    </tr>\n",
       "    <tr>\n",
       "      <th>1</th>\n",
       "      <td>0.197582</td>\n",
       "      <td>0.189551</td>\n",
       "      <td>0.148652</td>\n",
       "      <td>0.107749</td>\n",
       "      <td>0.169067</td>\n",
       "    </tr>\n",
       "    <tr>\n",
       "      <th>2</th>\n",
       "      <td>0.032212</td>\n",
       "      <td>0.045943</td>\n",
       "      <td>0.052545</td>\n",
       "      <td>0.045072</td>\n",
       "      <td>0.033300</td>\n",
       "    </tr>\n",
       "    <tr>\n",
       "      <th>3</th>\n",
       "      <td>0.029409</td>\n",
       "      <td>0.040805</td>\n",
       "      <td>0.054857</td>\n",
       "      <td>0.049523</td>\n",
       "      <td>0.060236</td>\n",
       "    </tr>\n",
       "    <tr>\n",
       "      <th>4</th>\n",
       "      <td>0.102234</td>\n",
       "      <td>0.096089</td>\n",
       "      <td>0.102105</td>\n",
       "      <td>0.101706</td>\n",
       "      <td>0.086146</td>\n",
       "    </tr>\n",
       "  </tbody>\n",
       "</table>\n",
       "</div>"
      ],
      "text/plain": [
       "   submit_all_00  submit_all_01  submit_all_02  submit_all_03  submit_all_04\n",
       "0       0.074259       0.060114       0.079128       0.074689       0.100522\n",
       "1       0.197582       0.189551       0.148652       0.107749       0.169067\n",
       "2       0.032212       0.045943       0.052545       0.045072       0.033300\n",
       "3       0.029409       0.040805       0.054857       0.049523       0.060236\n",
       "4       0.102234       0.096089       0.102105       0.101706       0.086146"
      ]
     },
     "execution_count": 177,
     "metadata": {},
     "output_type": "execute_result"
    }
   ],
   "source": [
    "submit_all = pd.DataFrame({\n",
    "    'submit_all_00': submit_all_00['TARGET'].values\n",
    "    ,'submit_all_01': submit_all_01['TARGET'].values\n",
    "    ,'submit_all_02': submit_all_02['TARGET'].values\n",
    "    ,'submit_all_03': submit_all_03['TARGET'].values\n",
    "    ,'submit_all_04': submit_all_04['TARGET'].values\n",
    "    })\n",
    "submit_all.head()"
   ]
  },
  {
   "cell_type": "code",
   "execution_count": 178,
   "metadata": {},
   "outputs": [
    {
     "data": {
      "text/html": [
       "<div>\n",
       "<style scoped>\n",
       "    .dataframe tbody tr th:only-of-type {\n",
       "        vertical-align: middle;\n",
       "    }\n",
       "\n",
       "    .dataframe tbody tr th {\n",
       "        vertical-align: top;\n",
       "    }\n",
       "\n",
       "    .dataframe thead th {\n",
       "        text-align: right;\n",
       "    }\n",
       "</style>\n",
       "<table border=\"1\" class=\"dataframe\">\n",
       "  <thead>\n",
       "    <tr style=\"text-align: right;\">\n",
       "      <th></th>\n",
       "      <th>submit_all_00</th>\n",
       "      <th>submit_all_01</th>\n",
       "      <th>submit_all_02</th>\n",
       "      <th>submit_all_03</th>\n",
       "      <th>submit_all_04</th>\n",
       "    </tr>\n",
       "  </thead>\n",
       "  <tbody>\n",
       "    <tr>\n",
       "      <th>submit_all_00</th>\n",
       "      <td>1.000000</td>\n",
       "      <td>0.881333</td>\n",
       "      <td>0.873871</td>\n",
       "      <td>0.868690</td>\n",
       "      <td>0.876573</td>\n",
       "    </tr>\n",
       "    <tr>\n",
       "      <th>submit_all_01</th>\n",
       "      <td>0.881333</td>\n",
       "      <td>1.000000</td>\n",
       "      <td>0.869824</td>\n",
       "      <td>0.872082</td>\n",
       "      <td>0.873344</td>\n",
       "    </tr>\n",
       "    <tr>\n",
       "      <th>submit_all_02</th>\n",
       "      <td>0.873871</td>\n",
       "      <td>0.869824</td>\n",
       "      <td>1.000000</td>\n",
       "      <td>0.853995</td>\n",
       "      <td>0.860419</td>\n",
       "    </tr>\n",
       "    <tr>\n",
       "      <th>submit_all_03</th>\n",
       "      <td>0.868690</td>\n",
       "      <td>0.872082</td>\n",
       "      <td>0.853995</td>\n",
       "      <td>1.000000</td>\n",
       "      <td>0.862014</td>\n",
       "    </tr>\n",
       "    <tr>\n",
       "      <th>submit_all_04</th>\n",
       "      <td>0.876573</td>\n",
       "      <td>0.873344</td>\n",
       "      <td>0.860419</td>\n",
       "      <td>0.862014</td>\n",
       "      <td>1.000000</td>\n",
       "    </tr>\n",
       "  </tbody>\n",
       "</table>\n",
       "</div>"
      ],
      "text/plain": [
       "               submit_all_00  submit_all_01  submit_all_02  submit_all_03  \\\n",
       "submit_all_00       1.000000       0.881333       0.873871       0.868690   \n",
       "submit_all_01       0.881333       1.000000       0.869824       0.872082   \n",
       "submit_all_02       0.873871       0.869824       1.000000       0.853995   \n",
       "submit_all_03       0.868690       0.872082       0.853995       1.000000   \n",
       "submit_all_04       0.876573       0.873344       0.860419       0.862014   \n",
       "\n",
       "               submit_all_04  \n",
       "submit_all_00       0.876573  \n",
       "submit_all_01       0.873344  \n",
       "submit_all_02       0.860419  \n",
       "submit_all_03       0.862014  \n",
       "submit_all_04       1.000000  "
      ]
     },
     "execution_count": 178,
     "metadata": {},
     "output_type": "execute_result"
    }
   ],
   "source": [
    "submit_all.corr()"
   ]
  },
  {
   "cell_type": "code",
   "execution_count": 179,
   "metadata": {},
   "outputs": [
    {
     "data": {
      "text/html": [
       "<div>\n",
       "<style scoped>\n",
       "    .dataframe tbody tr th:only-of-type {\n",
       "        vertical-align: middle;\n",
       "    }\n",
       "\n",
       "    .dataframe tbody tr th {\n",
       "        vertical-align: top;\n",
       "    }\n",
       "\n",
       "    .dataframe thead th {\n",
       "        text-align: right;\n",
       "    }\n",
       "</style>\n",
       "<table border=\"1\" class=\"dataframe\">\n",
       "  <thead>\n",
       "    <tr style=\"text-align: right;\">\n",
       "      <th></th>\n",
       "      <th>SK_ID_CURR</th>\n",
       "      <th>TARGET</th>\n",
       "    </tr>\n",
       "  </thead>\n",
       "  <tbody>\n",
       "    <tr>\n",
       "      <th>0</th>\n",
       "      <td>100001</td>\n",
       "      <td>0.077742</td>\n",
       "    </tr>\n",
       "    <tr>\n",
       "      <th>1</th>\n",
       "      <td>100005</td>\n",
       "      <td>0.162520</td>\n",
       "    </tr>\n",
       "    <tr>\n",
       "      <th>2</th>\n",
       "      <td>100013</td>\n",
       "      <td>0.041814</td>\n",
       "    </tr>\n",
       "    <tr>\n",
       "      <th>3</th>\n",
       "      <td>100028</td>\n",
       "      <td>0.046966</td>\n",
       "    </tr>\n",
       "    <tr>\n",
       "      <th>4</th>\n",
       "      <td>100038</td>\n",
       "      <td>0.097656</td>\n",
       "    </tr>\n",
       "  </tbody>\n",
       "</table>\n",
       "</div>"
      ],
      "text/plain": [
       "   SK_ID_CURR    TARGET\n",
       "0      100001  0.077742\n",
       "1      100005  0.162520\n",
       "2      100013  0.041814\n",
       "3      100028  0.046966\n",
       "4      100038  0.097656"
      ]
     },
     "execution_count": 179,
     "metadata": {},
     "output_type": "execute_result"
    }
   ],
   "source": [
    "submit_all = app_test[[\"SK_ID_CURR\"]].copy()\n",
    "submit_all['TARGET'] = (submit_all_00['TARGET'] + submit_all_01['TARGET'] + submit_all_02['TARGET'] + submit_all_03['TARGET'] + submit_all_04['TARGET'])/5\n",
    "submit_all.head()"
   ]
  },
  {
   "cell_type": "code",
   "execution_count": 180,
   "metadata": {},
   "outputs": [
    {
     "data": {
      "text/html": [
       "<div>\n",
       "<style scoped>\n",
       "    .dataframe tbody tr th:only-of-type {\n",
       "        vertical-align: middle;\n",
       "    }\n",
       "\n",
       "    .dataframe tbody tr th {\n",
       "        vertical-align: top;\n",
       "    }\n",
       "\n",
       "    .dataframe thead th {\n",
       "        text-align: right;\n",
       "    }\n",
       "</style>\n",
       "<table border=\"1\" class=\"dataframe\">\n",
       "  <thead>\n",
       "    <tr style=\"text-align: right;\">\n",
       "      <th></th>\n",
       "      <th>SK_ID_CURR</th>\n",
       "      <th>TARGET</th>\n",
       "    </tr>\n",
       "  </thead>\n",
       "  <tbody>\n",
       "    <tr>\n",
       "      <th>0</th>\n",
       "      <td>100001</td>\n",
       "      <td>0.015548</td>\n",
       "    </tr>\n",
       "    <tr>\n",
       "      <th>1</th>\n",
       "      <td>100005</td>\n",
       "      <td>0.032504</td>\n",
       "    </tr>\n",
       "    <tr>\n",
       "      <th>2</th>\n",
       "      <td>100013</td>\n",
       "      <td>0.008363</td>\n",
       "    </tr>\n",
       "    <tr>\n",
       "      <th>3</th>\n",
       "      <td>100028</td>\n",
       "      <td>0.009393</td>\n",
       "    </tr>\n",
       "    <tr>\n",
       "      <th>4</th>\n",
       "      <td>100038</td>\n",
       "      <td>0.019531</td>\n",
       "    </tr>\n",
       "  </tbody>\n",
       "</table>\n",
       "</div>"
      ],
      "text/plain": [
       "   SK_ID_CURR    TARGET\n",
       "0      100001  0.015548\n",
       "1      100005  0.032504\n",
       "2      100013  0.008363\n",
       "3      100028  0.009393\n",
       "4      100038  0.019531"
      ]
     },
     "execution_count": 180,
     "metadata": {},
     "output_type": "execute_result"
    }
   ],
   "source": [
    "submit_all['TARGET'] = (submit_all['TARGET'] / 5)\n",
    "submit_all.to_csv('./home-credit-default-risk/submit/submit_br_main_test.csv', index=False)\n",
    "submit_all.head()"
   ]
  },
  {
   "cell_type": "code",
   "execution_count": 181,
   "metadata": {},
   "outputs": [
    {
     "data": {
      "text/plain": [
       "SK_ID_CURR    48744\n",
       "TARGET        48744\n",
       "dtype: int64"
      ]
     },
     "execution_count": 181,
     "metadata": {},
     "output_type": "execute_result"
    }
   ],
   "source": [
    "submit_all.count()"
   ]
  },
  {
   "cell_type": "code",
   "execution_count": null,
   "metadata": {},
   "outputs": [],
   "source": []
  },
  {
   "cell_type": "code",
   "execution_count": null,
   "metadata": {},
   "outputs": [],
   "source": []
  },
  {
   "cell_type": "code",
   "execution_count": null,
   "metadata": {},
   "outputs": [],
   "source": []
  },
  {
   "cell_type": "code",
   "execution_count": null,
   "metadata": {},
   "outputs": [],
   "source": []
  }
 ],
 "metadata": {
  "colab": {
   "authorship_tag": "ABX9TyNiFA6jmxKpYkiUhklAKAyP",
   "collapsed_sections": [],
   "name": "home-credit-risk_bureau-res-003.ipynb",
   "provenance": []
  },
  "kernelspec": {
   "display_name": "Python 3 (ipykernel)",
   "language": "python",
   "name": "python3"
  },
  "language_info": {
   "codemirror_mode": {
    "name": "ipython",
    "version": 3
   },
   "file_extension": ".py",
   "mimetype": "text/x-python",
   "name": "python",
   "nbconvert_exporter": "python",
   "pygments_lexer": "ipython3",
   "version": "3.9.7"
  }
 },
 "nbformat": 4,
 "nbformat_minor": 1
}
