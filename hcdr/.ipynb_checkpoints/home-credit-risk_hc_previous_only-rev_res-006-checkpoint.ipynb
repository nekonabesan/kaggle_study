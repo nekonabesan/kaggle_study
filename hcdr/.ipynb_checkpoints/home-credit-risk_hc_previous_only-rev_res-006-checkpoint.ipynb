{
 "cells": [
  {
   "cell_type": "code",
   "execution_count": 1,
   "id": "074409fa",
   "metadata": {},
   "outputs": [],
   "source": [
    "# from google.colab import drive\n",
    "# drive.mount('/content/drive')"
   ]
  },
  {
   "cell_type": "code",
   "execution_count": 2,
   "id": "bf88b8fb",
   "metadata": {},
   "outputs": [],
   "source": [
    "# %cd /content/drive/MyDrive/"
   ]
  },
  {
   "cell_type": "code",
   "execution_count": 3,
   "id": "eb856bdd",
   "metadata": {},
   "outputs": [
    {
     "data": {
      "text/plain": [
       "[name: \"/device:CPU:0\"\n",
       " device_type: \"CPU\"\n",
       " memory_limit: 268435456\n",
       " locality {\n",
       " }\n",
       " incarnation: 14498984516976889567\n",
       " xla_global_id: -1,\n",
       " name: \"/device:GPU:0\"\n",
       " device_type: \"GPU\"\n",
       " memory_limit: 1745276110\n",
       " locality {\n",
       "   bus_id: 1\n",
       "   links {\n",
       "   }\n",
       " }\n",
       " incarnation: 7316216494347392082\n",
       " physical_device_desc: \"device: 0, name: NVIDIA RTX A2000 Laptop GPU, pci bus id: 0000:01:00.0, compute capability: 8.6\"\n",
       " xla_global_id: 416903419]"
      ]
     },
     "execution_count": 3,
     "metadata": {},
     "output_type": "execute_result"
    }
   ],
   "source": [
    "from tensorflow.python.client import device_lib\n",
    "device_lib.list_local_devices()"
   ]
  },
  {
   "cell_type": "code",
   "execution_count": 4,
   "id": "80924b9b",
   "metadata": {},
   "outputs": [
    {
     "name": "stdout",
     "output_type": "stream",
     "text": [
      "OK\n",
      "\n"
     ]
    }
   ],
   "source": [
    "import pandas as pd\n",
    "#import pandas_profiling\n",
    "import numpy as np\n",
    "import cupy as cp\n",
    "from sklearn.model_selection import train_test_split\n",
    "import lightgbm as lgb\n",
    "import matplotlib.pyplot as plt\n",
    "import seaborn as sns\n",
    "from sklearn.model_selection import KFold\n",
    "from sklearn import metrics\n",
    "from sklearn.metrics import accuracy_score\n",
    "from sklearn.model_selection import train_test_split\n",
    "from sklearn.preprocessing import LabelEncoder\n",
    "from sklearn.preprocessing import StandardScaler\n",
    "from sklearn.tree import DecisionTreeClassifier, export_graphviz\n",
    "from sklearn.metrics import roc_auc_score\n",
    "from sklearn.tree import plot_tree\n",
    "from sklearn.metrics import mean_squared_error\n",
    "\n",
    "from six import StringIO\n",
    "\n",
    "from IPython.display import Image\n",
    "import matplotlib.pyplot as plt\n",
    "import seaborn as sns\n",
    "\n",
    "import statsmodels.api as sm\n",
    "import math\n",
    "from scipy import stats\n",
    "import numpy as np\n",
    "import optuna.integration.lightgbm as lgb\n",
    "import pandas as pd\n",
    "import tensorflow as tf\n",
    "\n",
    "from datetime import datetime\n",
    "from tensorflow import feature_column\n",
    "from tensorflow.keras import layers\n",
    "\n",
    "from xgboost.sklearn import XGBClassifier\n",
    "\n",
    "\n",
    "print(\"OK\\n\")"
   ]
  },
  {
   "cell_type": "code",
   "execution_count": 5,
   "id": "326da3ba",
   "metadata": {},
   "outputs": [],
   "source": [
    "app_train_origin = pd.read_csv('./home-credit-default-risk/exports/app_train.csv')\n",
    "app_test_origin =  pd.read_csv('./home-credit-default-risk/exports/app_test.csv')\n",
    "#bureau_origin = pd.read_csv('./home-credit-default-risk/bureau.csv')\n",
    "#bureau_balance_origin = pd.read_csv('./home-credit-default-risk/bureau_balance.csv')\n",
    "pos_cash_balance_origin = pd.read_csv('./home-credit-default-risk/POS_CASH_balance.csv')\n",
    "#credit_card_balance_origin = pd.read_csv('./home-credit-default-risk/credit_card_balance.csv')\n",
    "previous_application_origin = pd.read_csv('./home-credit-default-risk/previous_application.csv')\n",
    "installments_payments_origin = pd.read_csv('./home-credit-default-risk/installments_payments.csv')\n",
    "# custo data\n",
    "app_train_hc_only_revo_origin = pd.read_csv('./home-credit-default-risk/exports/train_hc_only_revo.csv')\n",
    "app_test_hc_only_revo_origin = pd.read_csv('./home-credit-default-risk/exports/test_hc_only_revo.csv')\n",
    "app_train_1000_mean_origin = pd.read_csv('./home-credit-default-risk/exports/train_hc_only_revo_installment_payment_ratio_1000_mean_mean.csv')\n",
    "app_test_1000_mean_origin = pd.read_csv('./home-credit-default-risk/exports/test_hc_only_revo_installment_payment_ratio_1000_mean_mean.csv')\n",
    "app_train_max_installment_ratio_origin = pd.read_csv('./home-credit-default-risk/exports/train_hc_only_revo_annuity_to_max_installment_ratio.csv')\n",
    "app_test_max_installment_ratio_origin = pd.read_csv('./home-credit-default-risk/exports/test_hc_only_revo_annuity_to_max_installment_ratio.csv')"
   ]
  },
  {
   "cell_type": "code",
   "execution_count": 6,
   "id": "0480561a",
   "metadata": {},
   "outputs": [],
   "source": [
    "app_train = app_train_origin.copy()\n",
    "app_test = app_test_origin.copy()\n",
    "pos_cash_balance = pos_cash_balance_origin.copy()\n",
    "previous_application = previous_application_origin.copy()\n",
    "installments_payments = installments_payments_origin.copy()\n",
    "app_train_revo = app_train_hc_only_revo_origin.copy()\n",
    "app_test_revo = app_test_hc_only_revo_origin.copy()\n",
    "app_train_1000_mean = app_train_1000_mean_origin.copy()\n",
    "app_test_1000_mean = app_test_1000_mean_origin.copy()\n",
    "app_train_max_installment_ratio = app_train_max_installment_ratio_origin.copy()\n",
    "app_test_max_installment_ratio = app_test_max_installment_ratio_origin.copy()"
   ]
  },
  {
   "cell_type": "markdown",
   "id": "98b4fdef",
   "metadata": {},
   "source": [
    "### applicationの複製"
   ]
  },
  {
   "cell_type": "code",
   "execution_count": 7,
   "id": "de76e770",
   "metadata": {},
   "outputs": [
    {
     "data": {
      "text/plain": [
       "48744"
      ]
     },
     "execution_count": 7,
     "metadata": {},
     "output_type": "execute_result"
    }
   ],
   "source": [
    "#app_train = app_train[['SK_ID_CURR','TARGET','EXT_SOURCE_1','EXT_SOURCE_2','EXT_SOURCE_3']].copy()\n",
    "#app_test = app_test[['SK_ID_CURR','EXT_SOURCE_1','EXT_SOURCE_2','EXT_SOURCE_3']].copy()\n",
    "app_train = app_train[['SK_ID_CURR','TARGET']].copy()\n",
    "app_test = app_test[['SK_ID_CURR']].copy()\n",
    "len(app_test)"
   ]
  },
  {
   "cell_type": "code",
   "execution_count": 8,
   "id": "93802c05",
   "metadata": {},
   "outputs": [
    {
     "data": {
      "text/html": [
       "<div>\n",
       "<style scoped>\n",
       "    .dataframe tbody tr th:only-of-type {\n",
       "        vertical-align: middle;\n",
       "    }\n",
       "\n",
       "    .dataframe tbody tr th {\n",
       "        vertical-align: top;\n",
       "    }\n",
       "\n",
       "    .dataframe thead th {\n",
       "        text-align: right;\n",
       "    }\n",
       "</style>\n",
       "<table border=\"1\" class=\"dataframe\">\n",
       "  <thead>\n",
       "    <tr style=\"text-align: right;\">\n",
       "      <th></th>\n",
       "      <th>SK_ID_CURR</th>\n",
       "      <th>TARGET</th>\n",
       "      <th>NAME_CONTRACT_TYPE</th>\n",
       "      <th>CODE_GENDER</th>\n",
       "      <th>FLAG_OWN_CAR</th>\n",
       "      <th>FLAG_OWN_REALTY</th>\n",
       "      <th>CNT_CHILDREN</th>\n",
       "      <th>AMT_INCOME_TOTAL</th>\n",
       "      <th>AMT_CREDIT</th>\n",
       "      <th>AMT_ANNUITY</th>\n",
       "      <th>...</th>\n",
       "      <th>FLAG_DOCUMENT_3</th>\n",
       "      <th>FLAG_DOCUMENT_6</th>\n",
       "      <th>FLAG_DOCUMENT_13</th>\n",
       "      <th>FLAG_DOCUMENT_16</th>\n",
       "      <th>AMT_REQ_CREDIT_BUREAU_MON</th>\n",
       "      <th>AMT_REQ_CREDIT_BUREAU_YEAR</th>\n",
       "      <th>credit_annuity_ratio</th>\n",
       "      <th>credit_goods_price_ratio</th>\n",
       "      <th>credit_downpayment</th>\n",
       "      <th>AGE_INT</th>\n",
       "    </tr>\n",
       "  </thead>\n",
       "  <tbody>\n",
       "    <tr>\n",
       "      <th>0</th>\n",
       "      <td>100002</td>\n",
       "      <td>1</td>\n",
       "      <td>0</td>\n",
       "      <td>1</td>\n",
       "      <td>0</td>\n",
       "      <td>1</td>\n",
       "      <td>0</td>\n",
       "      <td>202500.0</td>\n",
       "      <td>406597.5</td>\n",
       "      <td>24700.5</td>\n",
       "      <td>...</td>\n",
       "      <td>1</td>\n",
       "      <td>0</td>\n",
       "      <td>0</td>\n",
       "      <td>0</td>\n",
       "      <td>0.0</td>\n",
       "      <td>1.0</td>\n",
       "      <td>16.461104</td>\n",
       "      <td>1.158397</td>\n",
       "      <td>-55597.5</td>\n",
       "      <td>-25.920548</td>\n",
       "    </tr>\n",
       "    <tr>\n",
       "      <th>1</th>\n",
       "      <td>100003</td>\n",
       "      <td>0</td>\n",
       "      <td>0</td>\n",
       "      <td>0</td>\n",
       "      <td>0</td>\n",
       "      <td>0</td>\n",
       "      <td>0</td>\n",
       "      <td>270000.0</td>\n",
       "      <td>1293502.5</td>\n",
       "      <td>35698.5</td>\n",
       "      <td>...</td>\n",
       "      <td>1</td>\n",
       "      <td>0</td>\n",
       "      <td>0</td>\n",
       "      <td>0</td>\n",
       "      <td>0.0</td>\n",
       "      <td>0.0</td>\n",
       "      <td>36.234085</td>\n",
       "      <td>1.145199</td>\n",
       "      <td>-164002.5</td>\n",
       "      <td>-45.931507</td>\n",
       "    </tr>\n",
       "    <tr>\n",
       "      <th>2</th>\n",
       "      <td>100004</td>\n",
       "      <td>0</td>\n",
       "      <td>1</td>\n",
       "      <td>1</td>\n",
       "      <td>1</td>\n",
       "      <td>1</td>\n",
       "      <td>0</td>\n",
       "      <td>67500.0</td>\n",
       "      <td>135000.0</td>\n",
       "      <td>6750.0</td>\n",
       "      <td>...</td>\n",
       "      <td>0</td>\n",
       "      <td>0</td>\n",
       "      <td>0</td>\n",
       "      <td>0</td>\n",
       "      <td>0.0</td>\n",
       "      <td>0.0</td>\n",
       "      <td>20.000000</td>\n",
       "      <td>1.000000</td>\n",
       "      <td>0.0</td>\n",
       "      <td>-52.180822</td>\n",
       "    </tr>\n",
       "    <tr>\n",
       "      <th>3</th>\n",
       "      <td>100006</td>\n",
       "      <td>0</td>\n",
       "      <td>0</td>\n",
       "      <td>0</td>\n",
       "      <td>0</td>\n",
       "      <td>1</td>\n",
       "      <td>0</td>\n",
       "      <td>135000.0</td>\n",
       "      <td>312682.5</td>\n",
       "      <td>29686.5</td>\n",
       "      <td>...</td>\n",
       "      <td>1</td>\n",
       "      <td>0</td>\n",
       "      <td>0</td>\n",
       "      <td>0</td>\n",
       "      <td>NaN</td>\n",
       "      <td>NaN</td>\n",
       "      <td>10.532818</td>\n",
       "      <td>1.052803</td>\n",
       "      <td>-15682.5</td>\n",
       "      <td>-52.068493</td>\n",
       "    </tr>\n",
       "    <tr>\n",
       "      <th>4</th>\n",
       "      <td>100007</td>\n",
       "      <td>0</td>\n",
       "      <td>0</td>\n",
       "      <td>1</td>\n",
       "      <td>0</td>\n",
       "      <td>1</td>\n",
       "      <td>0</td>\n",
       "      <td>121500.0</td>\n",
       "      <td>513000.0</td>\n",
       "      <td>21865.5</td>\n",
       "      <td>...</td>\n",
       "      <td>0</td>\n",
       "      <td>0</td>\n",
       "      <td>0</td>\n",
       "      <td>0</td>\n",
       "      <td>0.0</td>\n",
       "      <td>0.0</td>\n",
       "      <td>23.461618</td>\n",
       "      <td>1.000000</td>\n",
       "      <td>0.0</td>\n",
       "      <td>-54.608219</td>\n",
       "    </tr>\n",
       "  </tbody>\n",
       "</table>\n",
       "<p>5 rows × 91 columns</p>\n",
       "</div>"
      ],
      "text/plain": [
       "   SK_ID_CURR  TARGET  NAME_CONTRACT_TYPE  CODE_GENDER  FLAG_OWN_CAR  \\\n",
       "0      100002       1                   0            1             0   \n",
       "1      100003       0                   0            0             0   \n",
       "2      100004       0                   1            1             1   \n",
       "3      100006       0                   0            0             0   \n",
       "4      100007       0                   0            1             0   \n",
       "\n",
       "   FLAG_OWN_REALTY  CNT_CHILDREN  AMT_INCOME_TOTAL  AMT_CREDIT  AMT_ANNUITY  \\\n",
       "0                1             0          202500.0    406597.5      24700.5   \n",
       "1                0             0          270000.0   1293502.5      35698.5   \n",
       "2                1             0           67500.0    135000.0       6750.0   \n",
       "3                1             0          135000.0    312682.5      29686.5   \n",
       "4                1             0          121500.0    513000.0      21865.5   \n",
       "\n",
       "   ...  FLAG_DOCUMENT_3  FLAG_DOCUMENT_6  FLAG_DOCUMENT_13  FLAG_DOCUMENT_16  \\\n",
       "0  ...                1                0                 0                 0   \n",
       "1  ...                1                0                 0                 0   \n",
       "2  ...                0                0                 0                 0   \n",
       "3  ...                1                0                 0                 0   \n",
       "4  ...                0                0                 0                 0   \n",
       "\n",
       "   AMT_REQ_CREDIT_BUREAU_MON  AMT_REQ_CREDIT_BUREAU_YEAR  \\\n",
       "0                        0.0                         1.0   \n",
       "1                        0.0                         0.0   \n",
       "2                        0.0                         0.0   \n",
       "3                        NaN                         NaN   \n",
       "4                        0.0                         0.0   \n",
       "\n",
       "   credit_annuity_ratio  credit_goods_price_ratio  credit_downpayment  \\\n",
       "0             16.461104                  1.158397            -55597.5   \n",
       "1             36.234085                  1.145199           -164002.5   \n",
       "2             20.000000                  1.000000                 0.0   \n",
       "3             10.532818                  1.052803            -15682.5   \n",
       "4             23.461618                  1.000000                 0.0   \n",
       "\n",
       "     AGE_INT  \n",
       "0 -25.920548  \n",
       "1 -45.931507  \n",
       "2 -52.180822  \n",
       "3 -52.068493  \n",
       "4 -54.608219  \n",
       "\n",
       "[5 rows x 91 columns]"
      ]
     },
     "execution_count": 8,
     "metadata": {},
     "output_type": "execute_result"
    }
   ],
   "source": [
    "app_train.head()"
   ]
  },
  {
   "cell_type": "markdown",
   "id": "1f88f372",
   "metadata": {},
   "source": [
    "### 申し込み月におけるCssh loanの情報をマージ"
   ]
  },
  {
   "cell_type": "code",
   "execution_count": 9,
   "id": "b3d483c5",
   "metadata": {},
   "outputs": [
    {
     "data": {
      "text/plain": [
       "35586"
      ]
     },
     "execution_count": 9,
     "metadata": {},
     "output_type": "execute_result"
    }
   ],
   "source": [
    "app_train_revo = app_train_revo.rename(columns={'sk_id_curr': 'SK_ID_CURR'})\n",
    "app_test_revo = app_test_revo.rename(columns={'sk_id_curr': 'SK_ID_CURR'})\n",
    "len(app_train_revo)"
   ]
  },
  {
   "cell_type": "code",
   "execution_count": 10,
   "id": "e3d3e06a",
   "metadata": {},
   "outputs": [
    {
     "data": {
      "text/plain": [
       "307511"
      ]
     },
     "execution_count": 10,
     "metadata": {},
     "output_type": "execute_result"
    }
   ],
   "source": [
    "# trainへマージ\n",
    "app_train = pd.merge(app_train, app_train_revo, on='SK_ID_CURR', how='left')\n",
    "# testへマージ\n",
    "app_test = pd.merge(app_test, app_test_revo, on='SK_ID_CURR', how='left')\n",
    "len(app_train)"
   ]
  },
  {
   "cell_type": "markdown",
   "id": "208cb8c1",
   "metadata": {},
   "source": [
    "### installment_payment_ratio_1000_mean_meanをマージ"
   ]
  },
  {
   "cell_type": "code",
   "execution_count": 11,
   "id": "e0818a4a",
   "metadata": {},
   "outputs": [
    {
     "data": {
      "text/html": [
       "<div>\n",
       "<style scoped>\n",
       "    .dataframe tbody tr th:only-of-type {\n",
       "        vertical-align: middle;\n",
       "    }\n",
       "\n",
       "    .dataframe tbody tr th {\n",
       "        vertical-align: top;\n",
       "    }\n",
       "\n",
       "    .dataframe thead th {\n",
       "        text-align: right;\n",
       "    }\n",
       "</style>\n",
       "<table border=\"1\" class=\"dataframe\">\n",
       "  <thead>\n",
       "    <tr style=\"text-align: right;\">\n",
       "      <th></th>\n",
       "      <th>SK_ID_CURR</th>\n",
       "      <th>revo_installment_payment_ratio_1000_mean_mean</th>\n",
       "    </tr>\n",
       "  </thead>\n",
       "  <tbody>\n",
       "    <tr>\n",
       "      <th>0</th>\n",
       "      <td>100011</td>\n",
       "      <td>0.000000</td>\n",
       "    </tr>\n",
       "    <tr>\n",
       "      <th>1</th>\n",
       "      <td>100043</td>\n",
       "      <td>-1260.462857</td>\n",
       "    </tr>\n",
       "    <tr>\n",
       "      <th>2</th>\n",
       "      <td>100048</td>\n",
       "      <td>0.000000</td>\n",
       "    </tr>\n",
       "    <tr>\n",
       "      <th>3</th>\n",
       "      <td>100049</td>\n",
       "      <td>-289.125000</td>\n",
       "    </tr>\n",
       "    <tr>\n",
       "      <th>4</th>\n",
       "      <td>100075</td>\n",
       "      <td>0.000000</td>\n",
       "    </tr>\n",
       "  </tbody>\n",
       "</table>\n",
       "</div>"
      ],
      "text/plain": [
       "   SK_ID_CURR  revo_installment_payment_ratio_1000_mean_mean\n",
       "0      100011                                       0.000000\n",
       "1      100043                                   -1260.462857\n",
       "2      100048                                       0.000000\n",
       "3      100049                                    -289.125000\n",
       "4      100075                                       0.000000"
      ]
     },
     "execution_count": 11,
     "metadata": {},
     "output_type": "execute_result"
    }
   ],
   "source": [
    "app_train_1000_mean = app_train_1000_mean.rename(columns={'sk_id_curr': 'SK_ID_CURR'})\n",
    "app_test_1000_mean = app_test_1000_mean.rename(columns={'sk_id_curr': 'SK_ID_CURR'})\n",
    "app_train_1000_mean.head()"
   ]
  },
  {
   "cell_type": "code",
   "execution_count": 12,
   "id": "80d7425d",
   "metadata": {},
   "outputs": [],
   "source": [
    "#app_train_1000_mean.drop(['sk_id_prev'], axis=1, inplace=True)\n",
    "#app_test_1000_mean.drop(['sk_id_prev'], axis=1, inplace=True)\n",
    "#app_train_1000_mean.head()"
   ]
  },
  {
   "cell_type": "code",
   "execution_count": 13,
   "id": "28ef3529",
   "metadata": {},
   "outputs": [
    {
     "data": {
      "text/plain": [
       "307511"
      ]
     },
     "execution_count": 13,
     "metadata": {},
     "output_type": "execute_result"
    }
   ],
   "source": [
    "# trainへマージ\n",
    "app_train = pd.merge(app_train, app_train_1000_mean, on='SK_ID_CURR', how='left')\n",
    "# testへマージ\n",
    "app_test = pd.merge(app_test, app_test_1000_mean, on='SK_ID_CURR', how='left')\n",
    "len(app_train)"
   ]
  },
  {
   "cell_type": "code",
   "execution_count": 14,
   "id": "4af7abb0",
   "metadata": {},
   "outputs": [
    {
     "data": {
      "text/plain": [
       "0        NaN\n",
       "1        NaN\n",
       "2        NaN\n",
       "3        NaN\n",
       "4        NaN\n",
       "          ..\n",
       "307506   NaN\n",
       "307507   NaN\n",
       "307508   NaN\n",
       "307509   NaN\n",
       "307510   NaN\n",
       "Name: revo_installment_payment_ratio_1000_mean_mean, Length: 307511, dtype: float64"
      ]
     },
     "execution_count": 14,
     "metadata": {},
     "output_type": "execute_result"
    }
   ],
   "source": [
    "app_train['revo_installment_payment_ratio_1000_mean_mean']"
   ]
  },
  {
   "cell_type": "code",
   "execution_count": 15,
   "id": "c0f00c4b",
   "metadata": {},
   "outputs": [
    {
     "data": {
      "text/plain": [
       "255531"
      ]
     },
     "execution_count": 15,
     "metadata": {},
     "output_type": "execute_result"
    }
   ],
   "source": [
    "app_train['revo_installment_payment_ratio_1000_mean_mean'].isnull().sum()"
   ]
  },
  {
   "cell_type": "code",
   "execution_count": 16,
   "id": "4a87c74e",
   "metadata": {},
   "outputs": [],
   "source": [
    "#app_train['amt_annuity'].fillna(0, inplace=True)\n",
    "#app_test['amt_annuity'].fillna(0, inplace=True)"
   ]
  },
  {
   "cell_type": "code",
   "execution_count": 17,
   "id": "22d3b757",
   "metadata": {},
   "outputs": [
    {
     "data": {
      "text/plain": [
       "271925"
      ]
     },
     "execution_count": 17,
     "metadata": {},
     "output_type": "execute_result"
    }
   ],
   "source": [
    "app_train['revo_amt_annuity'].isnull().sum()"
   ]
  },
  {
   "cell_type": "markdown",
   "id": "6fcb4a3e",
   "metadata": {},
   "source": [
    "### annuity_to_max_installment_ratioをマージ"
   ]
  },
  {
   "cell_type": "code",
   "execution_count": 18,
   "id": "82525aa0",
   "metadata": {},
   "outputs": [
    {
     "data": {
      "text/html": [
       "<div>\n",
       "<style scoped>\n",
       "    .dataframe tbody tr th:only-of-type {\n",
       "        vertical-align: middle;\n",
       "    }\n",
       "\n",
       "    .dataframe tbody tr th {\n",
       "        vertical-align: top;\n",
       "    }\n",
       "\n",
       "    .dataframe thead th {\n",
       "        text-align: right;\n",
       "    }\n",
       "</style>\n",
       "<table border=\"1\" class=\"dataframe\">\n",
       "  <thead>\n",
       "    <tr style=\"text-align: right;\">\n",
       "      <th></th>\n",
       "      <th>SK_ID_CURR</th>\n",
       "      <th>revo_annuity_to_max_installment_ratio</th>\n",
       "    </tr>\n",
       "  </thead>\n",
       "  <tbody>\n",
       "    <tr>\n",
       "      <th>0</th>\n",
       "      <td>100028</td>\n",
       "      <td>-1815.4815</td>\n",
       "    </tr>\n",
       "    <tr>\n",
       "      <th>1</th>\n",
       "      <td>100042</td>\n",
       "      <td>-2035.2941</td>\n",
       "    </tr>\n",
       "    <tr>\n",
       "      <th>2</th>\n",
       "      <td>100067</td>\n",
       "      <td>-593.0000</td>\n",
       "    </tr>\n",
       "    <tr>\n",
       "      <th>3</th>\n",
       "      <td>100107</td>\n",
       "      <td>-5422.5000</td>\n",
       "    </tr>\n",
       "    <tr>\n",
       "      <th>4</th>\n",
       "      <td>100330</td>\n",
       "      <td>-3950.2857</td>\n",
       "    </tr>\n",
       "  </tbody>\n",
       "</table>\n",
       "</div>"
      ],
      "text/plain": [
       "   SK_ID_CURR  revo_annuity_to_max_installment_ratio\n",
       "0      100028                             -1815.4815\n",
       "1      100042                             -2035.2941\n",
       "2      100067                              -593.0000\n",
       "3      100107                             -5422.5000\n",
       "4      100330                             -3950.2857"
      ]
     },
     "execution_count": 18,
     "metadata": {},
     "output_type": "execute_result"
    }
   ],
   "source": [
    "app_train_max_installment_ratio = app_train_max_installment_ratio.rename(columns={'sk_id_curr': 'SK_ID_CURR'})\n",
    "app_test_max_installment_ratio = app_test_max_installment_ratio.rename(columns={'sk_id_curr': 'SK_ID_CURR'})\n",
    "app_test_max_installment_ratio.head()"
   ]
  },
  {
   "cell_type": "code",
   "execution_count": 19,
   "id": "d1fc0c53",
   "metadata": {},
   "outputs": [
    {
     "data": {
      "text/plain": [
       "307511"
      ]
     },
     "execution_count": 19,
     "metadata": {},
     "output_type": "execute_result"
    }
   ],
   "source": [
    "# trainへマージ\n",
    "app_train = pd.merge(app_train, app_train_max_installment_ratio, on='SK_ID_CURR', how='left')\n",
    "# testへマージ\n",
    "app_test = pd.merge(app_test, app_test_max_installment_ratio, on='SK_ID_CURR', how='left')\n",
    "len(app_train)"
   ]
  },
  {
   "cell_type": "markdown",
   "id": "2d612127",
   "metadata": {},
   "source": [
    "### AMT_ANNUITY(ローン支払い額)"
   ]
  },
  {
   "cell_type": "code",
   "execution_count": 20,
   "id": "8b3f9319",
   "metadata": {},
   "outputs": [
    {
     "data": {
      "text/plain": [
       "nan"
      ]
     },
     "execution_count": 20,
     "metadata": {},
     "output_type": "execute_result"
    }
   ],
   "source": [
    "max(app_train['revo_amt_annuity'])"
   ]
  },
  {
   "cell_type": "code",
   "execution_count": 21,
   "id": "7af685ff",
   "metadata": {},
   "outputs": [
    {
     "data": {
      "text/plain": [
       "nan"
      ]
     },
     "execution_count": 21,
     "metadata": {},
     "output_type": "execute_result"
    }
   ],
   "source": [
    "min(app_train['revo_amt_annuity'])"
   ]
  },
  {
   "cell_type": "code",
   "execution_count": 22,
   "id": "8ab5de5a",
   "metadata": {},
   "outputs": [
    {
     "data": {
      "text/html": [
       "<div>\n",
       "<style scoped>\n",
       "    .dataframe tbody tr th:only-of-type {\n",
       "        vertical-align: middle;\n",
       "    }\n",
       "\n",
       "    .dataframe tbody tr th {\n",
       "        vertical-align: top;\n",
       "    }\n",
       "\n",
       "    .dataframe thead th {\n",
       "        text-align: right;\n",
       "    }\n",
       "</style>\n",
       "<table border=\"1\" class=\"dataframe\">\n",
       "  <thead>\n",
       "    <tr style=\"text-align: right;\">\n",
       "      <th></th>\n",
       "      <th>revo_amt_annuity</th>\n",
       "      <th>TARGET</th>\n",
       "    </tr>\n",
       "  </thead>\n",
       "  <tbody>\n",
       "    <tr>\n",
       "      <th>revo_amt_annuity</th>\n",
       "      <td>1.000000</td>\n",
       "      <td>-0.023584</td>\n",
       "    </tr>\n",
       "    <tr>\n",
       "      <th>TARGET</th>\n",
       "      <td>-0.023584</td>\n",
       "      <td>1.000000</td>\n",
       "    </tr>\n",
       "  </tbody>\n",
       "</table>\n",
       "</div>"
      ],
      "text/plain": [
       "                  revo_amt_annuity    TARGET\n",
       "revo_amt_annuity          1.000000 -0.023584\n",
       "TARGET                   -0.023584  1.000000"
      ]
     },
     "execution_count": 22,
     "metadata": {},
     "output_type": "execute_result"
    }
   ],
   "source": [
    "app_train[['revo_amt_annuity', 'TARGET']].corr()"
   ]
  },
  {
   "cell_type": "markdown",
   "id": "77493d7c",
   "metadata": {},
   "source": [
    "### AMT_APPLICATION|借り入れ申し込み金額|"
   ]
  },
  {
   "cell_type": "code",
   "execution_count": 23,
   "id": "11dc9824",
   "metadata": {},
   "outputs": [],
   "source": [
    "#app_train['amt_application'].fillna(0, inplace=True)\n",
    "#app_test['amt_application'].fillna(0, inplace=True)"
   ]
  },
  {
   "cell_type": "code",
   "execution_count": 24,
   "id": "6b3b6d3e",
   "metadata": {},
   "outputs": [
    {
     "data": {
      "text/html": [
       "<div>\n",
       "<style scoped>\n",
       "    .dataframe tbody tr th:only-of-type {\n",
       "        vertical-align: middle;\n",
       "    }\n",
       "\n",
       "    .dataframe tbody tr th {\n",
       "        vertical-align: top;\n",
       "    }\n",
       "\n",
       "    .dataframe thead th {\n",
       "        text-align: right;\n",
       "    }\n",
       "</style>\n",
       "<table border=\"1\" class=\"dataframe\">\n",
       "  <thead>\n",
       "    <tr style=\"text-align: right;\">\n",
       "      <th></th>\n",
       "      <th>revo_amt_application</th>\n",
       "      <th>TARGET</th>\n",
       "    </tr>\n",
       "  </thead>\n",
       "  <tbody>\n",
       "    <tr>\n",
       "      <th>revo_amt_application</th>\n",
       "      <td>1.000000</td>\n",
       "      <td>0.021231</td>\n",
       "    </tr>\n",
       "    <tr>\n",
       "      <th>TARGET</th>\n",
       "      <td>0.021231</td>\n",
       "      <td>1.000000</td>\n",
       "    </tr>\n",
       "  </tbody>\n",
       "</table>\n",
       "</div>"
      ],
      "text/plain": [
       "                      revo_amt_application    TARGET\n",
       "revo_amt_application              1.000000  0.021231\n",
       "TARGET                            0.021231  1.000000"
      ]
     },
     "execution_count": 24,
     "metadata": {},
     "output_type": "execute_result"
    }
   ],
   "source": [
    "app_train[['revo_amt_application', 'TARGET']].corr()"
   ]
  },
  {
   "cell_type": "markdown",
   "id": "63593d37",
   "metadata": {},
   "source": [
    "### AMT_CREDIT(借り入れ承認金額(最終的な貸付金額))"
   ]
  },
  {
   "cell_type": "code",
   "execution_count": 25,
   "id": "2ee52722",
   "metadata": {},
   "outputs": [
    {
     "data": {
      "text/plain": [
       "nan"
      ]
     },
     "execution_count": 25,
     "metadata": {},
     "output_type": "execute_result"
    }
   ],
   "source": [
    "max(app_train['revo_amt_credit'])"
   ]
  },
  {
   "cell_type": "code",
   "execution_count": 26,
   "id": "2a30f4d8",
   "metadata": {},
   "outputs": [
    {
     "data": {
      "text/plain": [
       "nan"
      ]
     },
     "execution_count": 26,
     "metadata": {},
     "output_type": "execute_result"
    }
   ],
   "source": [
    "min(app_train['revo_amt_credit'])"
   ]
  },
  {
   "cell_type": "code",
   "execution_count": 27,
   "id": "80d48903",
   "metadata": {},
   "outputs": [
    {
     "data": {
      "text/html": [
       "<div>\n",
       "<style scoped>\n",
       "    .dataframe tbody tr th:only-of-type {\n",
       "        vertical-align: middle;\n",
       "    }\n",
       "\n",
       "    .dataframe tbody tr th {\n",
       "        vertical-align: top;\n",
       "    }\n",
       "\n",
       "    .dataframe thead th {\n",
       "        text-align: right;\n",
       "    }\n",
       "</style>\n",
       "<table border=\"1\" class=\"dataframe\">\n",
       "  <thead>\n",
       "    <tr style=\"text-align: right;\">\n",
       "      <th></th>\n",
       "      <th>revo_amt_credit</th>\n",
       "      <th>TARGET</th>\n",
       "    </tr>\n",
       "  </thead>\n",
       "  <tbody>\n",
       "    <tr>\n",
       "      <th>revo_amt_credit</th>\n",
       "      <td>1.000000</td>\n",
       "      <td>-0.022719</td>\n",
       "    </tr>\n",
       "    <tr>\n",
       "      <th>TARGET</th>\n",
       "      <td>-0.022719</td>\n",
       "      <td>1.000000</td>\n",
       "    </tr>\n",
       "  </tbody>\n",
       "</table>\n",
       "</div>"
      ],
      "text/plain": [
       "                 revo_amt_credit    TARGET\n",
       "revo_amt_credit         1.000000 -0.022719\n",
       "TARGET                 -0.022719  1.000000"
      ]
     },
     "execution_count": 27,
     "metadata": {},
     "output_type": "execute_result"
    }
   ],
   "source": [
    "app_train[['revo_amt_credit', 'TARGET']].corr()"
   ]
  },
  {
   "cell_type": "markdown",
   "id": "cff1629a",
   "metadata": {},
   "source": [
    "### AMT_DOWN_PAYMENT(頭金) Cash loans の場合は不要?"
   ]
  },
  {
   "cell_type": "code",
   "execution_count": 28,
   "id": "4c8ea3ed",
   "metadata": {},
   "outputs": [
    {
     "data": {
      "text/html": [
       "<div>\n",
       "<style scoped>\n",
       "    .dataframe tbody tr th:only-of-type {\n",
       "        vertical-align: middle;\n",
       "    }\n",
       "\n",
       "    .dataframe tbody tr th {\n",
       "        vertical-align: top;\n",
       "    }\n",
       "\n",
       "    .dataframe thead th {\n",
       "        text-align: right;\n",
       "    }\n",
       "</style>\n",
       "<table border=\"1\" class=\"dataframe\">\n",
       "  <thead>\n",
       "    <tr style=\"text-align: right;\">\n",
       "      <th></th>\n",
       "      <th>revo_amt_down_payment</th>\n",
       "      <th>TARGET</th>\n",
       "    </tr>\n",
       "  </thead>\n",
       "  <tbody>\n",
       "    <tr>\n",
       "      <th>revo_amt_down_payment</th>\n",
       "      <td>1.000000</td>\n",
       "      <td>-0.010726</td>\n",
       "    </tr>\n",
       "    <tr>\n",
       "      <th>TARGET</th>\n",
       "      <td>-0.010726</td>\n",
       "      <td>1.000000</td>\n",
       "    </tr>\n",
       "  </tbody>\n",
       "</table>\n",
       "</div>"
      ],
      "text/plain": [
       "                       revo_amt_down_payment    TARGET\n",
       "revo_amt_down_payment               1.000000 -0.010726\n",
       "TARGET                             -0.010726  1.000000"
      ]
     },
     "execution_count": 28,
     "metadata": {},
     "output_type": "execute_result"
    }
   ],
   "source": [
    "app_train[['revo_amt_down_payment', 'TARGET']].corr()"
   ]
  },
  {
   "cell_type": "code",
   "execution_count": 29,
   "id": "72b61ecc",
   "metadata": {},
   "outputs": [],
   "source": [
    "#app_train.drop(['revo_amt_down_payment'], axis=1, inplace=True)\n",
    "#app_test.drop(['revo_amt_down_payment'], axis=1, inplace=True)"
   ]
  },
  {
   "cell_type": "markdown",
   "id": "3491ddf3",
   "metadata": {},
   "source": [
    "### AMT_GOODS_PRICE(クライアントが要求した商品価格)"
   ]
  },
  {
   "cell_type": "code",
   "execution_count": 30,
   "id": "290e500c",
   "metadata": {},
   "outputs": [
    {
     "data": {
      "text/html": [
       "<div>\n",
       "<style scoped>\n",
       "    .dataframe tbody tr th:only-of-type {\n",
       "        vertical-align: middle;\n",
       "    }\n",
       "\n",
       "    .dataframe tbody tr th {\n",
       "        vertical-align: top;\n",
       "    }\n",
       "\n",
       "    .dataframe thead th {\n",
       "        text-align: right;\n",
       "    }\n",
       "</style>\n",
       "<table border=\"1\" class=\"dataframe\">\n",
       "  <thead>\n",
       "    <tr style=\"text-align: right;\">\n",
       "      <th></th>\n",
       "      <th>revo_amt_goods_price</th>\n",
       "      <th>TARGET</th>\n",
       "    </tr>\n",
       "  </thead>\n",
       "  <tbody>\n",
       "    <tr>\n",
       "      <th>revo_amt_goods_price</th>\n",
       "      <td>1.000000</td>\n",
       "      <td>0.021231</td>\n",
       "    </tr>\n",
       "    <tr>\n",
       "      <th>TARGET</th>\n",
       "      <td>0.021231</td>\n",
       "      <td>1.000000</td>\n",
       "    </tr>\n",
       "  </tbody>\n",
       "</table>\n",
       "</div>"
      ],
      "text/plain": [
       "                      revo_amt_goods_price    TARGET\n",
       "revo_amt_goods_price              1.000000  0.021231\n",
       "TARGET                            0.021231  1.000000"
      ]
     },
     "execution_count": 30,
     "metadata": {},
     "output_type": "execute_result"
    }
   ],
   "source": [
    "app_train[['revo_amt_goods_price', 'TARGET']].corr()"
   ]
  },
  {
   "cell_type": "markdown",
   "id": "951d832a",
   "metadata": {},
   "source": [
    "### WEEKDAY_APPR_PROCESS_START(申請した曜日)"
   ]
  },
  {
   "cell_type": "code",
   "execution_count": 31,
   "id": "a701df8e",
   "metadata": {},
   "outputs": [],
   "source": [
    "app_train['revo_weekday_appr_process_start'].replace(['TUESDAY', 'MONDAY', 'WEDNESDAY', 'THURSDAY', 'FRIDAY', 'SATURDAY', 'SUNDAY'], [1, 2, 3, 4, 5, 6, 7], inplace=True)\n",
    "app_test['revo_weekday_appr_process_start'].replace(['TUESDAY', 'MONDAY', 'WEDNESDAY', 'THURSDAY', 'FRIDAY', 'SATURDAY', 'SUNDAY'], [1, 2, 3, 4, 5, 6, 7], inplace=True)"
   ]
  },
  {
   "cell_type": "code",
   "execution_count": 32,
   "id": "284d60e3",
   "metadata": {},
   "outputs": [
    {
     "data": {
      "text/plain": [
       "3.0    5908\n",
       "1.0    5878\n",
       "5.0    5580\n",
       "4.0    5549\n",
       "2.0    5438\n",
       "6.0    4580\n",
       "7.0    2653\n",
       "Name: revo_weekday_appr_process_start, dtype: int64"
      ]
     },
     "execution_count": 32,
     "metadata": {},
     "output_type": "execute_result"
    }
   ],
   "source": [
    "app_train['revo_weekday_appr_process_start'].value_counts()"
   ]
  },
  {
   "cell_type": "code",
   "execution_count": 33,
   "id": "3fe34aed",
   "metadata": {},
   "outputs": [
    {
     "data": {
      "text/html": [
       "<div>\n",
       "<style scoped>\n",
       "    .dataframe tbody tr th:only-of-type {\n",
       "        vertical-align: middle;\n",
       "    }\n",
       "\n",
       "    .dataframe tbody tr th {\n",
       "        vertical-align: top;\n",
       "    }\n",
       "\n",
       "    .dataframe thead th {\n",
       "        text-align: right;\n",
       "    }\n",
       "</style>\n",
       "<table border=\"1\" class=\"dataframe\">\n",
       "  <thead>\n",
       "    <tr style=\"text-align: right;\">\n",
       "      <th></th>\n",
       "      <th>revo_weekday_appr_process_start</th>\n",
       "      <th>TARGET</th>\n",
       "    </tr>\n",
       "  </thead>\n",
       "  <tbody>\n",
       "    <tr>\n",
       "      <th>revo_weekday_appr_process_start</th>\n",
       "      <td>1.000000</td>\n",
       "      <td>0.003813</td>\n",
       "    </tr>\n",
       "    <tr>\n",
       "      <th>TARGET</th>\n",
       "      <td>0.003813</td>\n",
       "      <td>1.000000</td>\n",
       "    </tr>\n",
       "  </tbody>\n",
       "</table>\n",
       "</div>"
      ],
      "text/plain": [
       "                                 revo_weekday_appr_process_start    TARGET\n",
       "revo_weekday_appr_process_start                         1.000000  0.003813\n",
       "TARGET                                                  0.003813  1.000000"
      ]
     },
     "execution_count": 33,
     "metadata": {},
     "output_type": "execute_result"
    }
   ],
   "source": [
    "app_train[['revo_weekday_appr_process_start', 'TARGET']].corr()"
   ]
  },
  {
   "cell_type": "code",
   "execution_count": 34,
   "id": "6ee499d0",
   "metadata": {},
   "outputs": [],
   "source": [
    "app_train.drop(['revo_weekday_appr_process_start'], axis=1, inplace=True)\n",
    "app_test.drop(['revo_weekday_appr_process_start'], axis=1, inplace=True)"
   ]
  },
  {
   "cell_type": "markdown",
   "id": "2561c7a0",
   "metadata": {},
   "source": [
    "### HOUR_APPR_PROCESS_START(クライアントが応募した時間)"
   ]
  },
  {
   "cell_type": "code",
   "execution_count": 35,
   "id": "b896f309",
   "metadata": {},
   "outputs": [
    {
     "data": {
      "text/plain": [
       "11.0    4079\n",
       "10.0    3957\n",
       "12.0    3787\n",
       "13.0    3650\n",
       "14.0    3259\n",
       "15.0    2976\n",
       "9.0     2843\n",
       "16.0    2556\n",
       "17.0    1990\n",
       "8.0     1756\n",
       "18.0    1318\n",
       "7.0     1033\n",
       "19.0     674\n",
       "6.0      564\n",
       "5.0      313\n",
       "20.0     274\n",
       "4.0      193\n",
       "21.0     123\n",
       "3.0      108\n",
       "22.0      45\n",
       "2.0       38\n",
       "23.0      26\n",
       "0.0       13\n",
       "1.0       11\n",
       "Name: revo_hour_appr_process_start, dtype: int64"
      ]
     },
     "execution_count": 35,
     "metadata": {},
     "output_type": "execute_result"
    }
   ],
   "source": [
    "app_train['revo_hour_appr_process_start'].value_counts()"
   ]
  },
  {
   "cell_type": "code",
   "execution_count": 36,
   "id": "edba6ab3",
   "metadata": {},
   "outputs": [
    {
     "data": {
      "text/html": [
       "<div>\n",
       "<style scoped>\n",
       "    .dataframe tbody tr th:only-of-type {\n",
       "        vertical-align: middle;\n",
       "    }\n",
       "\n",
       "    .dataframe tbody tr th {\n",
       "        vertical-align: top;\n",
       "    }\n",
       "\n",
       "    .dataframe thead th {\n",
       "        text-align: right;\n",
       "    }\n",
       "</style>\n",
       "<table border=\"1\" class=\"dataframe\">\n",
       "  <thead>\n",
       "    <tr style=\"text-align: right;\">\n",
       "      <th></th>\n",
       "      <th>revo_hour_appr_process_start</th>\n",
       "      <th>TARGET</th>\n",
       "    </tr>\n",
       "  </thead>\n",
       "  <tbody>\n",
       "    <tr>\n",
       "      <th>revo_hour_appr_process_start</th>\n",
       "      <td>1.000000</td>\n",
       "      <td>-0.030777</td>\n",
       "    </tr>\n",
       "    <tr>\n",
       "      <th>TARGET</th>\n",
       "      <td>-0.030777</td>\n",
       "      <td>1.000000</td>\n",
       "    </tr>\n",
       "  </tbody>\n",
       "</table>\n",
       "</div>"
      ],
      "text/plain": [
       "                              revo_hour_appr_process_start    TARGET\n",
       "revo_hour_appr_process_start                      1.000000 -0.030777\n",
       "TARGET                                           -0.030777  1.000000"
      ]
     },
     "execution_count": 36,
     "metadata": {},
     "output_type": "execute_result"
    }
   ],
   "source": [
    "app_train[['revo_hour_appr_process_start', 'TARGET']].corr()"
   ]
  },
  {
   "cell_type": "markdown",
   "id": "ccea59d8",
   "metadata": {},
   "source": [
    "### FLAG_LAST_APPL_PER_CONTRACT|最も最新の過去のローン申請だった場合のフラグ(店員による間違いがあるかもしれんけど)|"
   ]
  },
  {
   "cell_type": "code",
   "execution_count": 37,
   "id": "3fd0064f",
   "metadata": {},
   "outputs": [
    {
     "data": {
      "text/plain": [
       "Y    35586\n",
       "Name: revo_flag_last_appl_per_contract, dtype: int64"
      ]
     },
     "execution_count": 37,
     "metadata": {},
     "output_type": "execute_result"
    }
   ],
   "source": [
    "app_train['revo_flag_last_appl_per_contract'].value_counts()"
   ]
  },
  {
   "cell_type": "code",
   "execution_count": 38,
   "id": "49d4039b",
   "metadata": {},
   "outputs": [],
   "source": [
    "app_train.drop(['revo_flag_last_appl_per_contract'], axis=1, inplace=True)\n",
    "app_test.drop(['revo_flag_last_appl_per_contract'], axis=1, inplace=True)"
   ]
  },
  {
   "cell_type": "markdown",
   "id": "1cb984d0",
   "metadata": {},
   "source": [
    "### NFLAG_LAST_APPL_IN_DAY(1日の中での最後の申し込みだった場合のフラグ)"
   ]
  },
  {
   "cell_type": "code",
   "execution_count": 39,
   "id": "f25d2ebf",
   "metadata": {},
   "outputs": [
    {
     "data": {
      "text/plain": [
       "1.0    35561\n",
       "0.0       25\n",
       "Name: revo_nflag_last_appl_in_day, dtype: int64"
      ]
     },
     "execution_count": 39,
     "metadata": {},
     "output_type": "execute_result"
    }
   ],
   "source": [
    "app_train['revo_nflag_last_appl_in_day'].value_counts()"
   ]
  },
  {
   "cell_type": "code",
   "execution_count": 40,
   "id": "7280f71f",
   "metadata": {},
   "outputs": [
    {
     "data": {
      "text/html": [
       "<div>\n",
       "<style scoped>\n",
       "    .dataframe tbody tr th:only-of-type {\n",
       "        vertical-align: middle;\n",
       "    }\n",
       "\n",
       "    .dataframe tbody tr th {\n",
       "        vertical-align: top;\n",
       "    }\n",
       "\n",
       "    .dataframe thead th {\n",
       "        text-align: right;\n",
       "    }\n",
       "</style>\n",
       "<table border=\"1\" class=\"dataframe\">\n",
       "  <thead>\n",
       "    <tr style=\"text-align: right;\">\n",
       "      <th></th>\n",
       "      <th>revo_nflag_last_appl_in_day</th>\n",
       "      <th>TARGET</th>\n",
       "    </tr>\n",
       "  </thead>\n",
       "  <tbody>\n",
       "    <tr>\n",
       "      <th>revo_nflag_last_appl_in_day</th>\n",
       "      <td>1.000000</td>\n",
       "      <td>0.005826</td>\n",
       "    </tr>\n",
       "    <tr>\n",
       "      <th>TARGET</th>\n",
       "      <td>0.005826</td>\n",
       "      <td>1.000000</td>\n",
       "    </tr>\n",
       "  </tbody>\n",
       "</table>\n",
       "</div>"
      ],
      "text/plain": [
       "                             revo_nflag_last_appl_in_day    TARGET\n",
       "revo_nflag_last_appl_in_day                     1.000000  0.005826\n",
       "TARGET                                          0.005826  1.000000"
      ]
     },
     "execution_count": 40,
     "metadata": {},
     "output_type": "execute_result"
    }
   ],
   "source": [
    "app_train[['revo_nflag_last_appl_in_day', 'TARGET']].corr()"
   ]
  },
  {
   "cell_type": "code",
   "execution_count": 41,
   "id": "d70dd1e3",
   "metadata": {},
   "outputs": [],
   "source": [
    "app_train.drop(['revo_nflag_last_appl_in_day'], axis=1, inplace=True)\n",
    "app_test.drop(['revo_nflag_last_appl_in_day'], axis=1, inplace=True)"
   ]
  },
  {
   "cell_type": "markdown",
   "id": "f064d36c",
   "metadata": {},
   "source": [
    "### RATE_DOWN_PAYMENT(前払い率)"
   ]
  },
  {
   "cell_type": "code",
   "execution_count": 42,
   "id": "134e1cfa",
   "metadata": {},
   "outputs": [
    {
     "data": {
      "text/plain": [
       "0.000000    35332\n",
       "0.217818        6\n",
       "0.363030        5\n",
       "0.155584        5\n",
       "0.401244        3\n",
       "            ...  \n",
       "0.106220        1\n",
       "0.107320        1\n",
       "0.078177        1\n",
       "0.104541        1\n",
       "0.269918        1\n",
       "Name: revo_rate_down_payment, Length: 208, dtype: int64"
      ]
     },
     "execution_count": 42,
     "metadata": {},
     "output_type": "execute_result"
    }
   ],
   "source": [
    "app_train['revo_rate_down_payment'].value_counts()"
   ]
  },
  {
   "cell_type": "code",
   "execution_count": 43,
   "id": "3ffd5acb",
   "metadata": {},
   "outputs": [
    {
     "data": {
      "text/html": [
       "<div>\n",
       "<style scoped>\n",
       "    .dataframe tbody tr th:only-of-type {\n",
       "        vertical-align: middle;\n",
       "    }\n",
       "\n",
       "    .dataframe tbody tr th {\n",
       "        vertical-align: top;\n",
       "    }\n",
       "\n",
       "    .dataframe thead th {\n",
       "        text-align: right;\n",
       "    }\n",
       "</style>\n",
       "<table border=\"1\" class=\"dataframe\">\n",
       "  <thead>\n",
       "    <tr style=\"text-align: right;\">\n",
       "      <th></th>\n",
       "      <th>revo_rate_down_payment</th>\n",
       "      <th>TARGET</th>\n",
       "    </tr>\n",
       "  </thead>\n",
       "  <tbody>\n",
       "    <tr>\n",
       "      <th>revo_rate_down_payment</th>\n",
       "      <td>1.000000</td>\n",
       "      <td>-0.010131</td>\n",
       "    </tr>\n",
       "    <tr>\n",
       "      <th>TARGET</th>\n",
       "      <td>-0.010131</td>\n",
       "      <td>1.000000</td>\n",
       "    </tr>\n",
       "  </tbody>\n",
       "</table>\n",
       "</div>"
      ],
      "text/plain": [
       "                        revo_rate_down_payment    TARGET\n",
       "revo_rate_down_payment                1.000000 -0.010131\n",
       "TARGET                               -0.010131  1.000000"
      ]
     },
     "execution_count": 43,
     "metadata": {},
     "output_type": "execute_result"
    }
   ],
   "source": [
    "app_train[['revo_rate_down_payment', 'TARGET']].corr()"
   ]
  },
  {
   "cell_type": "markdown",
   "id": "edf64089",
   "metadata": {},
   "source": [
    "### RATE_INTEREST_PRIMARY(金利)"
   ]
  },
  {
   "cell_type": "code",
   "execution_count": 44,
   "id": "116d29fc",
   "metadata": {},
   "outputs": [
    {
     "data": {
      "text/plain": [
       "0.000000    35332\n",
       "0.217818        6\n",
       "0.363030        5\n",
       "0.155584        5\n",
       "0.401244        3\n",
       "            ...  \n",
       "0.106220        1\n",
       "0.107320        1\n",
       "0.078177        1\n",
       "0.104541        1\n",
       "0.269918        1\n",
       "Name: revo_rate_down_payment, Length: 208, dtype: int64"
      ]
     },
     "execution_count": 44,
     "metadata": {},
     "output_type": "execute_result"
    }
   ],
   "source": [
    "app_train['revo_rate_down_payment'].value_counts()"
   ]
  },
  {
   "cell_type": "code",
   "execution_count": 45,
   "id": "287b0807",
   "metadata": {},
   "outputs": [
    {
     "data": {
      "text/html": [
       "<div>\n",
       "<style scoped>\n",
       "    .dataframe tbody tr th:only-of-type {\n",
       "        vertical-align: middle;\n",
       "    }\n",
       "\n",
       "    .dataframe tbody tr th {\n",
       "        vertical-align: top;\n",
       "    }\n",
       "\n",
       "    .dataframe thead th {\n",
       "        text-align: right;\n",
       "    }\n",
       "</style>\n",
       "<table border=\"1\" class=\"dataframe\">\n",
       "  <thead>\n",
       "    <tr style=\"text-align: right;\">\n",
       "      <th></th>\n",
       "      <th>revo_rate_down_payment</th>\n",
       "      <th>TARGET</th>\n",
       "    </tr>\n",
       "  </thead>\n",
       "  <tbody>\n",
       "    <tr>\n",
       "      <th>revo_rate_down_payment</th>\n",
       "      <td>1.000000</td>\n",
       "      <td>-0.010131</td>\n",
       "    </tr>\n",
       "    <tr>\n",
       "      <th>TARGET</th>\n",
       "      <td>-0.010131</td>\n",
       "      <td>1.000000</td>\n",
       "    </tr>\n",
       "  </tbody>\n",
       "</table>\n",
       "</div>"
      ],
      "text/plain": [
       "                        revo_rate_down_payment    TARGET\n",
       "revo_rate_down_payment                1.000000 -0.010131\n",
       "TARGET                               -0.010131  1.000000"
      ]
     },
     "execution_count": 45,
     "metadata": {},
     "output_type": "execute_result"
    }
   ],
   "source": [
    "app_train[['revo_rate_down_payment', 'TARGET']].corr()"
   ]
  },
  {
   "cell_type": "markdown",
   "id": "e601cbc2",
   "metadata": {},
   "source": [
    "### RATE_INTEREST_PRIVILEGED(金利)"
   ]
  },
  {
   "cell_type": "code",
   "execution_count": 46,
   "id": "df1b2134",
   "metadata": {},
   "outputs": [
    {
     "data": {
      "text/plain": [
       "0.0    35586\n",
       "Name: revo_rate_interest_privileged, dtype: int64"
      ]
     },
     "execution_count": 46,
     "metadata": {},
     "output_type": "execute_result"
    }
   ],
   "source": [
    "app_train['revo_rate_interest_privileged'].value_counts()"
   ]
  },
  {
   "cell_type": "code",
   "execution_count": 47,
   "id": "12abca46",
   "metadata": {},
   "outputs": [
    {
     "data": {
      "text/html": [
       "<div>\n",
       "<style scoped>\n",
       "    .dataframe tbody tr th:only-of-type {\n",
       "        vertical-align: middle;\n",
       "    }\n",
       "\n",
       "    .dataframe tbody tr th {\n",
       "        vertical-align: top;\n",
       "    }\n",
       "\n",
       "    .dataframe thead th {\n",
       "        text-align: right;\n",
       "    }\n",
       "</style>\n",
       "<table border=\"1\" class=\"dataframe\">\n",
       "  <thead>\n",
       "    <tr style=\"text-align: right;\">\n",
       "      <th></th>\n",
       "      <th>revo_rate_interest_privileged</th>\n",
       "      <th>TARGET</th>\n",
       "    </tr>\n",
       "  </thead>\n",
       "  <tbody>\n",
       "    <tr>\n",
       "      <th>revo_rate_interest_privileged</th>\n",
       "      <td>NaN</td>\n",
       "      <td>NaN</td>\n",
       "    </tr>\n",
       "    <tr>\n",
       "      <th>TARGET</th>\n",
       "      <td>NaN</td>\n",
       "      <td>1.0</td>\n",
       "    </tr>\n",
       "  </tbody>\n",
       "</table>\n",
       "</div>"
      ],
      "text/plain": [
       "                               revo_rate_interest_privileged  TARGET\n",
       "revo_rate_interest_privileged                            NaN     NaN\n",
       "TARGET                                                   NaN     1.0"
      ]
     },
     "execution_count": 47,
     "metadata": {},
     "output_type": "execute_result"
    }
   ],
   "source": [
    "app_train[['revo_rate_interest_privileged', 'TARGET']].corr()"
   ]
  },
  {
   "cell_type": "code",
   "execution_count": 48,
   "id": "de20bb21",
   "metadata": {},
   "outputs": [],
   "source": [
    "app_train.drop(['revo_rate_interest_privileged'], axis=1, inplace=True)\n",
    "app_test.drop(['revo_rate_interest_privileged'], axis=1, inplace=True)"
   ]
  },
  {
   "cell_type": "markdown",
   "id": "d2b7a2a1",
   "metadata": {},
   "source": [
    "### NAME_CASH_LOAN_PURPOSE(現金融資の目的)"
   ]
  },
  {
   "cell_type": "code",
   "execution_count": 49,
   "id": "964bca14",
   "metadata": {},
   "outputs": [
    {
     "data": {
      "text/plain": [
       "XAP    35586\n",
       "Name: revo_name_cash_loan_purpose, dtype: int64"
      ]
     },
     "execution_count": 49,
     "metadata": {},
     "output_type": "execute_result"
    }
   ],
   "source": [
    "app_train['revo_name_cash_loan_purpose'].value_counts()"
   ]
  },
  {
   "cell_type": "code",
   "execution_count": 50,
   "id": "580a43db",
   "metadata": {},
   "outputs": [],
   "source": [
    "app_train.drop(['revo_name_cash_loan_purpose'], axis=1, inplace=True)\n",
    "app_test.drop(['revo_name_cash_loan_purpose'], axis=1, inplace=True)"
   ]
  },
  {
   "cell_type": "markdown",
   "id": "62b25c03",
   "metadata": {},
   "source": [
    "### NAME_CONTRACT_STATUS(契約状況)"
   ]
  },
  {
   "cell_type": "code",
   "execution_count": 51,
   "id": "f3de0700",
   "metadata": {},
   "outputs": [
    {
     "data": {
      "text/plain": [
       "Approved    35586\n",
       "Name: revo_name_contract_status, dtype: int64"
      ]
     },
     "execution_count": 51,
     "metadata": {},
     "output_type": "execute_result"
    }
   ],
   "source": [
    "app_train['revo_name_contract_status'].value_counts()"
   ]
  },
  {
   "cell_type": "code",
   "execution_count": 52,
   "id": "35fbc18d",
   "metadata": {},
   "outputs": [],
   "source": [
    "app_train.drop(['revo_name_contract_status'], axis=1, inplace=True)\n",
    "app_test.drop(['revo_name_contract_status'], axis=1, inplace=True)"
   ]
  },
  {
   "cell_type": "markdown",
   "id": "30dcdf72",
   "metadata": {},
   "source": [
    "### DAYS_DECISION(今回申込日との日数差)"
   ]
  },
  {
   "cell_type": "code",
   "execution_count": 53,
   "id": "5bdd2496",
   "metadata": {},
   "outputs": [
    {
     "data": {
      "text/plain": [
       "-245.0     83\n",
       "-252.0     72\n",
       "-215.0     71\n",
       "-269.0     71\n",
       "-244.0     71\n",
       "           ..\n",
       "-2130.0     1\n",
       "-1881.0     1\n",
       "-1907.0     1\n",
       "-1979.0     1\n",
       "-1499.0     1\n",
       "Name: revo_days_decision, Length: 2623, dtype: int64"
      ]
     },
     "execution_count": 53,
     "metadata": {},
     "output_type": "execute_result"
    }
   ],
   "source": [
    "app_train['revo_days_decision'].value_counts()"
   ]
  },
  {
   "cell_type": "code",
   "execution_count": 54,
   "id": "55df8bba",
   "metadata": {},
   "outputs": [
    {
     "data": {
      "text/html": [
       "<div>\n",
       "<style scoped>\n",
       "    .dataframe tbody tr th:only-of-type {\n",
       "        vertical-align: middle;\n",
       "    }\n",
       "\n",
       "    .dataframe tbody tr th {\n",
       "        vertical-align: top;\n",
       "    }\n",
       "\n",
       "    .dataframe thead th {\n",
       "        text-align: right;\n",
       "    }\n",
       "</style>\n",
       "<table border=\"1\" class=\"dataframe\">\n",
       "  <thead>\n",
       "    <tr style=\"text-align: right;\">\n",
       "      <th></th>\n",
       "      <th>revo_days_decision</th>\n",
       "      <th>TARGET</th>\n",
       "    </tr>\n",
       "  </thead>\n",
       "  <tbody>\n",
       "    <tr>\n",
       "      <th>revo_days_decision</th>\n",
       "      <td>1.000000</td>\n",
       "      <td>0.099104</td>\n",
       "    </tr>\n",
       "    <tr>\n",
       "      <th>TARGET</th>\n",
       "      <td>0.099104</td>\n",
       "      <td>1.000000</td>\n",
       "    </tr>\n",
       "  </tbody>\n",
       "</table>\n",
       "</div>"
      ],
      "text/plain": [
       "                    revo_days_decision    TARGET\n",
       "revo_days_decision            1.000000  0.099104\n",
       "TARGET                        0.099104  1.000000"
      ]
     },
     "execution_count": 54,
     "metadata": {},
     "output_type": "execute_result"
    }
   ],
   "source": [
    "app_train[['revo_days_decision', 'TARGET']].corr()"
   ]
  },
  {
   "cell_type": "markdown",
   "id": "8a95c961",
   "metadata": {},
   "source": [
    "### NAME_PAYMENT_TYPE(支払い方法)"
   ]
  },
  {
   "cell_type": "code",
   "execution_count": 55,
   "id": "0e1b42e5",
   "metadata": {},
   "outputs": [
    {
     "data": {
      "text/plain": [
       "XNA    35586\n",
       "Name: revo_name_payment_type, dtype: int64"
      ]
     },
     "execution_count": 55,
     "metadata": {},
     "output_type": "execute_result"
    }
   ],
   "source": [
    "app_train['revo_name_payment_type'].value_counts()"
   ]
  },
  {
   "cell_type": "code",
   "execution_count": 56,
   "id": "a45b1c20",
   "metadata": {},
   "outputs": [],
   "source": [
    "app_train.drop(['revo_name_payment_type'], axis=1, inplace=True)\n",
    "app_test.drop(['revo_name_payment_type'], axis=1, inplace=True)"
   ]
  },
  {
   "cell_type": "markdown",
   "id": "dd3aa159",
   "metadata": {},
   "source": [
    "### CODE_REJECT_REASON(審査落ち理由)"
   ]
  },
  {
   "cell_type": "code",
   "execution_count": 57,
   "id": "5292842c",
   "metadata": {},
   "outputs": [
    {
     "data": {
      "text/plain": [
       "XAP    35586\n",
       "Name: revo_code_reject_reason, dtype: int64"
      ]
     },
     "execution_count": 57,
     "metadata": {},
     "output_type": "execute_result"
    }
   ],
   "source": [
    "app_train['revo_code_reject_reason'].value_counts()"
   ]
  },
  {
   "cell_type": "code",
   "execution_count": 58,
   "id": "481e1d5b",
   "metadata": {},
   "outputs": [],
   "source": [
    "app_train.drop(['revo_code_reject_reason'], axis=1, inplace=True)\n",
    "app_test.drop(['revo_code_reject_reason'], axis=1, inplace=True)"
   ]
  },
  {
   "cell_type": "markdown",
   "id": "b48ac18a",
   "metadata": {},
   "source": [
    "### NAME_TYPE_SUITE(申請時同行者)"
   ]
  },
  {
   "cell_type": "code",
   "execution_count": 59,
   "id": "22bcae2f",
   "metadata": {},
   "outputs": [
    {
     "data": {
      "text/plain": [
       "Unaccompanied      8366\n",
       "Family             1559\n",
       "Spouse, partner     387\n",
       "Children            122\n",
       "Other_B              89\n",
       "Other_A              51\n",
       "Group of people      11\n",
       "Name: revo_name_type_suite, dtype: int64"
      ]
     },
     "execution_count": 59,
     "metadata": {},
     "output_type": "execute_result"
    }
   ],
   "source": [
    "app_train['revo_name_type_suite'].value_counts()"
   ]
  },
  {
   "cell_type": "code",
   "execution_count": 60,
   "id": "f63af848",
   "metadata": {},
   "outputs": [],
   "source": [
    "columns = ['Unaccompanied', 'Family', 'Spouse, partner', 'Children', 'Other_B', 'Other_A', 'Group of people']\n",
    "app_train['revo_name_type_suite'].replace(columns, [1, 2, 3, 4, 5, 6, 7], inplace=True)\n",
    "app_test['revo_name_type_suite'].replace(columns, [1, 2, 3, 4, 5, 6, 7], inplace=True)"
   ]
  },
  {
   "cell_type": "code",
   "execution_count": 61,
   "id": "407c7865",
   "metadata": {},
   "outputs": [
    {
     "data": {
      "text/plain": [
       "1.0    8366\n",
       "2.0    1559\n",
       "3.0     387\n",
       "4.0     122\n",
       "5.0      89\n",
       "6.0      51\n",
       "7.0      11\n",
       "Name: revo_name_type_suite, dtype: int64"
      ]
     },
     "execution_count": 61,
     "metadata": {},
     "output_type": "execute_result"
    }
   ],
   "source": [
    "app_train['revo_name_type_suite'].value_counts()"
   ]
  },
  {
   "cell_type": "code",
   "execution_count": 62,
   "id": "75de4024",
   "metadata": {},
   "outputs": [
    {
     "data": {
      "text/html": [
       "<div>\n",
       "<style scoped>\n",
       "    .dataframe tbody tr th:only-of-type {\n",
       "        vertical-align: middle;\n",
       "    }\n",
       "\n",
       "    .dataframe tbody tr th {\n",
       "        vertical-align: top;\n",
       "    }\n",
       "\n",
       "    .dataframe thead th {\n",
       "        text-align: right;\n",
       "    }\n",
       "</style>\n",
       "<table border=\"1\" class=\"dataframe\">\n",
       "  <thead>\n",
       "    <tr style=\"text-align: right;\">\n",
       "      <th></th>\n",
       "      <th>revo_name_type_suite</th>\n",
       "      <th>TARGET</th>\n",
       "    </tr>\n",
       "  </thead>\n",
       "  <tbody>\n",
       "    <tr>\n",
       "      <th>revo_name_type_suite</th>\n",
       "      <td>1.000000</td>\n",
       "      <td>0.010551</td>\n",
       "    </tr>\n",
       "    <tr>\n",
       "      <th>TARGET</th>\n",
       "      <td>0.010551</td>\n",
       "      <td>1.000000</td>\n",
       "    </tr>\n",
       "  </tbody>\n",
       "</table>\n",
       "</div>"
      ],
      "text/plain": [
       "                      revo_name_type_suite    TARGET\n",
       "revo_name_type_suite              1.000000  0.010551\n",
       "TARGET                            0.010551  1.000000"
      ]
     },
     "execution_count": 62,
     "metadata": {},
     "output_type": "execute_result"
    }
   ],
   "source": [
    "app_train[['revo_name_type_suite', 'TARGET']].corr()"
   ]
  },
  {
   "cell_type": "markdown",
   "id": "2a7cc60a",
   "metadata": {},
   "source": [
    "### NAME_CLIENT_TYPE(新規顧客などの顧客タイプ)"
   ]
  },
  {
   "cell_type": "code",
   "execution_count": 63,
   "id": "a3bd4dbf",
   "metadata": {},
   "outputs": [
    {
     "data": {
      "text/plain": [
       "Repeater     30533\n",
       "New           2633\n",
       "Refreshed     2416\n",
       "XNA              4\n",
       "Name: revo_name_client_type, dtype: int64"
      ]
     },
     "execution_count": 63,
     "metadata": {},
     "output_type": "execute_result"
    }
   ],
   "source": [
    "app_train['revo_name_client_type'].value_counts()"
   ]
  },
  {
   "cell_type": "code",
   "execution_count": 64,
   "id": "987826f3",
   "metadata": {},
   "outputs": [],
   "source": [
    "columns = ['Repeater', 'Refreshed', 'New', 'XNA']\n",
    "app_train['revo_name_client_type'].replace(columns, [1, 2, 3, 4], inplace=True)\n",
    "app_test['revo_name_client_type'].replace(columns, [1, 2, 3, 4], inplace=True)"
   ]
  },
  {
   "cell_type": "code",
   "execution_count": 65,
   "id": "d90815d3",
   "metadata": {},
   "outputs": [
    {
     "data": {
      "text/plain": [
       "1.0    30533\n",
       "3.0     2633\n",
       "2.0     2416\n",
       "4.0        4\n",
       "Name: revo_name_client_type, dtype: int64"
      ]
     },
     "execution_count": 65,
     "metadata": {},
     "output_type": "execute_result"
    }
   ],
   "source": [
    "app_train['revo_name_client_type'].value_counts()"
   ]
  },
  {
   "cell_type": "code",
   "execution_count": 66,
   "id": "f6e3c583",
   "metadata": {},
   "outputs": [
    {
     "data": {
      "text/html": [
       "<div>\n",
       "<style scoped>\n",
       "    .dataframe tbody tr th:only-of-type {\n",
       "        vertical-align: middle;\n",
       "    }\n",
       "\n",
       "    .dataframe tbody tr th {\n",
       "        vertical-align: top;\n",
       "    }\n",
       "\n",
       "    .dataframe thead th {\n",
       "        text-align: right;\n",
       "    }\n",
       "</style>\n",
       "<table border=\"1\" class=\"dataframe\">\n",
       "  <thead>\n",
       "    <tr style=\"text-align: right;\">\n",
       "      <th></th>\n",
       "      <th>revo_name_client_type</th>\n",
       "      <th>TARGET</th>\n",
       "    </tr>\n",
       "  </thead>\n",
       "  <tbody>\n",
       "    <tr>\n",
       "      <th>revo_name_client_type</th>\n",
       "      <td>1.000000</td>\n",
       "      <td>0.054188</td>\n",
       "    </tr>\n",
       "    <tr>\n",
       "      <th>TARGET</th>\n",
       "      <td>0.054188</td>\n",
       "      <td>1.000000</td>\n",
       "    </tr>\n",
       "  </tbody>\n",
       "</table>\n",
       "</div>"
      ],
      "text/plain": [
       "                       revo_name_client_type    TARGET\n",
       "revo_name_client_type               1.000000  0.054188\n",
       "TARGET                              0.054188  1.000000"
      ]
     },
     "execution_count": 66,
     "metadata": {},
     "output_type": "execute_result"
    }
   ],
   "source": [
    "app_train[['revo_name_client_type', 'TARGET']].corr()"
   ]
  },
  {
   "cell_type": "markdown",
   "id": "d9a6207c",
   "metadata": {},
   "source": [
    "### NAME_GOODS_CATEGORY(申請した商品の種類)"
   ]
  },
  {
   "cell_type": "code",
   "execution_count": 67,
   "id": "c058abd8",
   "metadata": {},
   "outputs": [
    {
     "data": {
      "text/plain": [
       "XNA                         35332\n",
       "Consumer Electronics          181\n",
       "Audio/Video                    43\n",
       "Mobile                         14\n",
       "Computers                      10\n",
       "Furniture                       5\n",
       "Photo / Cinema Equipment        1\n",
       "Name: revo_name_goods_category, dtype: int64"
      ]
     },
     "execution_count": 67,
     "metadata": {},
     "output_type": "execute_result"
    }
   ],
   "source": [
    "app_train['revo_name_goods_category'].value_counts()"
   ]
  },
  {
   "cell_type": "code",
   "execution_count": 68,
   "id": "99a7f028",
   "metadata": {},
   "outputs": [
    {
     "data": {
      "text/plain": [
       "1.0    35332\n",
       "2.0      181\n",
       "5.0       43\n",
       "3.0       14\n",
       "4.0       10\n",
       "6.0        5\n",
       "7.0        1\n",
       "Name: revo_name_goods_category, dtype: int64"
      ]
     },
     "execution_count": 68,
     "metadata": {},
     "output_type": "execute_result"
    }
   ],
   "source": [
    "replace_columns = app_train['revo_name_goods_category'].unique().tolist()\n",
    "replace_columns = ['xxxx' if e == \"NaN\" or type(e) is float and math.isnan(e) else e for e in replace_columns]\n",
    "###replace_columns.remove('xxxx')\n",
    "replace_value = [x for x in range(len(replace_columns))]\n",
    "app_train['revo_name_goods_category'].replace(replace_columns, replace_value, inplace=True)\n",
    "app_test['revo_name_goods_category'].replace(replace_columns, replace_value, inplace=True)\n",
    "app_train['revo_name_goods_category'].value_counts()"
   ]
  },
  {
   "cell_type": "code",
   "execution_count": 69,
   "id": "749b64d6",
   "metadata": {},
   "outputs": [
    {
     "data": {
      "text/plain": [
       "1.0    35332\n",
       "2.0      181\n",
       "5.0       43\n",
       "3.0       14\n",
       "4.0       10\n",
       "6.0        5\n",
       "7.0        1\n",
       "Name: revo_name_goods_category, dtype: int64"
      ]
     },
     "execution_count": 69,
     "metadata": {},
     "output_type": "execute_result"
    }
   ],
   "source": [
    "app_train['revo_name_goods_category'].value_counts()"
   ]
  },
  {
   "cell_type": "code",
   "execution_count": 70,
   "id": "61db69ec",
   "metadata": {},
   "outputs": [
    {
     "data": {
      "text/html": [
       "<div>\n",
       "<style scoped>\n",
       "    .dataframe tbody tr th:only-of-type {\n",
       "        vertical-align: middle;\n",
       "    }\n",
       "\n",
       "    .dataframe tbody tr th {\n",
       "        vertical-align: top;\n",
       "    }\n",
       "\n",
       "    .dataframe thead th {\n",
       "        text-align: right;\n",
       "    }\n",
       "</style>\n",
       "<table border=\"1\" class=\"dataframe\">\n",
       "  <thead>\n",
       "    <tr style=\"text-align: right;\">\n",
       "      <th></th>\n",
       "      <th>revo_name_goods_category</th>\n",
       "      <th>TARGET</th>\n",
       "    </tr>\n",
       "  </thead>\n",
       "  <tbody>\n",
       "    <tr>\n",
       "      <th>revo_name_goods_category</th>\n",
       "      <td>1.000000</td>\n",
       "      <td>-0.008904</td>\n",
       "    </tr>\n",
       "    <tr>\n",
       "      <th>TARGET</th>\n",
       "      <td>-0.008904</td>\n",
       "      <td>1.000000</td>\n",
       "    </tr>\n",
       "  </tbody>\n",
       "</table>\n",
       "</div>"
      ],
      "text/plain": [
       "                          revo_name_goods_category    TARGET\n",
       "revo_name_goods_category                  1.000000 -0.008904\n",
       "TARGET                                   -0.008904  1.000000"
      ]
     },
     "execution_count": 70,
     "metadata": {},
     "output_type": "execute_result"
    }
   ],
   "source": [
    "app_train[['revo_name_goods_category', 'TARGET']].corr()"
   ]
  },
  {
   "cell_type": "code",
   "execution_count": 71,
   "id": "77cca5e2",
   "metadata": {},
   "outputs": [],
   "source": [
    "app_train.drop(['revo_name_goods_category'], axis=1, inplace=True)\n",
    "app_test.drop(['revo_name_goods_category'], axis=1, inplace=True)"
   ]
  },
  {
   "cell_type": "markdown",
   "id": "70f4e92f",
   "metadata": {},
   "source": [
    "### name_portfolio"
   ]
  },
  {
   "cell_type": "code",
   "execution_count": 72,
   "id": "93c08cf5",
   "metadata": {},
   "outputs": [
    {
     "data": {
      "text/plain": [
       "Cards    35586\n",
       "Name: revo_name_portfolio, dtype: int64"
      ]
     },
     "execution_count": 72,
     "metadata": {},
     "output_type": "execute_result"
    }
   ],
   "source": [
    "app_train['revo_name_portfolio'].value_counts()"
   ]
  },
  {
   "cell_type": "code",
   "execution_count": 73,
   "id": "e3c7dda5",
   "metadata": {},
   "outputs": [],
   "source": [
    "app_train.drop(['revo_name_portfolio'], axis=1, inplace=True)\n",
    "app_test.drop(['revo_name_portfolio'], axis=1, inplace=True)"
   ]
  },
  {
   "cell_type": "markdown",
   "id": "4b670647",
   "metadata": {},
   "source": [
    "### name_product_type"
   ]
  },
  {
   "cell_type": "code",
   "execution_count": 74,
   "id": "9e0e1e3e",
   "metadata": {},
   "outputs": [
    {
     "data": {
      "text/plain": [
       "x-sell     27140\n",
       "walk-in     8446\n",
       "Name: revo_name_product_type, dtype: int64"
      ]
     },
     "execution_count": 74,
     "metadata": {},
     "output_type": "execute_result"
    }
   ],
   "source": [
    "app_train['revo_name_product_type'].value_counts()"
   ]
  },
  {
   "cell_type": "code",
   "execution_count": 75,
   "id": "8d857e63",
   "metadata": {},
   "outputs": [
    {
     "data": {
      "text/plain": [
       "0.0    27140\n",
       "1.0     8446\n",
       "Name: revo_name_product_type, dtype: int64"
      ]
     },
     "execution_count": 75,
     "metadata": {},
     "output_type": "execute_result"
    }
   ],
   "source": [
    "replace_columns = app_train['revo_name_product_type'].unique().tolist()\n",
    "replace_columns = ['xxxx' if e == \"NaN\" or type(e) is float and math.isnan(e) else e for e in replace_columns]\n",
    "replace_columns.remove('xxxx')\n",
    "replace_value = [x for x in range(len(replace_columns))]\n",
    "app_train['revo_name_product_type'].replace(replace_columns, replace_value, inplace=True)\n",
    "app_test['revo_name_product_type'].replace(replace_columns, replace_value, inplace=True)\n",
    "app_train['revo_name_product_type'].value_counts()"
   ]
  },
  {
   "cell_type": "code",
   "execution_count": 76,
   "id": "75a84638",
   "metadata": {},
   "outputs": [
    {
     "data": {
      "text/html": [
       "<div>\n",
       "<style scoped>\n",
       "    .dataframe tbody tr th:only-of-type {\n",
       "        vertical-align: middle;\n",
       "    }\n",
       "\n",
       "    .dataframe tbody tr th {\n",
       "        vertical-align: top;\n",
       "    }\n",
       "\n",
       "    .dataframe thead th {\n",
       "        text-align: right;\n",
       "    }\n",
       "</style>\n",
       "<table border=\"1\" class=\"dataframe\">\n",
       "  <thead>\n",
       "    <tr style=\"text-align: right;\">\n",
       "      <th></th>\n",
       "      <th>revo_name_product_type</th>\n",
       "      <th>TARGET</th>\n",
       "    </tr>\n",
       "  </thead>\n",
       "  <tbody>\n",
       "    <tr>\n",
       "      <th>revo_name_product_type</th>\n",
       "      <td>1.00000</td>\n",
       "      <td>0.07536</td>\n",
       "    </tr>\n",
       "    <tr>\n",
       "      <th>TARGET</th>\n",
       "      <td>0.07536</td>\n",
       "      <td>1.00000</td>\n",
       "    </tr>\n",
       "  </tbody>\n",
       "</table>\n",
       "</div>"
      ],
      "text/plain": [
       "                        revo_name_product_type   TARGET\n",
       "revo_name_product_type                 1.00000  0.07536\n",
       "TARGET                                 0.07536  1.00000"
      ]
     },
     "execution_count": 76,
     "metadata": {},
     "output_type": "execute_result"
    }
   ],
   "source": [
    "app_train[['revo_name_product_type', 'TARGET']].corr()"
   ]
  },
  {
   "cell_type": "markdown",
   "id": "06da1ede",
   "metadata": {},
   "source": [
    "### channel_type"
   ]
  },
  {
   "cell_type": "code",
   "execution_count": 77,
   "id": "e8df441c",
   "metadata": {},
   "outputs": [
    {
     "data": {
      "text/plain": [
       "Credit and cash offices       17751\n",
       "Country-wide                   7130\n",
       "Contact center                 4845\n",
       "AP+ (Cash loan)                2812\n",
       "Stone                          1664\n",
       "Regional / Local               1169\n",
       "Channel of corporate sales      214\n",
       "Car dealer                        1\n",
       "Name: revo_channel_type, dtype: int64"
      ]
     },
     "execution_count": 77,
     "metadata": {},
     "output_type": "execute_result"
    }
   ],
   "source": [
    "app_train['revo_channel_type'].value_counts()"
   ]
  },
  {
   "cell_type": "code",
   "execution_count": 78,
   "id": "9bd23edd",
   "metadata": {},
   "outputs": [
    {
     "data": {
      "text/plain": [
       "1.0    17751\n",
       "0.0     7130\n",
       "2.0     4845\n",
       "3.0     2812\n",
       "4.0     1664\n",
       "6.0     1169\n",
       "5.0      214\n",
       "7.0        1\n",
       "Name: revo_channel_type, dtype: int64"
      ]
     },
     "execution_count": 78,
     "metadata": {},
     "output_type": "execute_result"
    }
   ],
   "source": [
    "replace_columns = app_train['revo_channel_type'].unique().tolist()\n",
    "replace_columns = ['xxxx' if e == \"NaN\" or type(e) is float and math.isnan(e) else e for e in replace_columns]\n",
    "replace_columns.remove('xxxx')\n",
    "replace_value = [x for x in range(len(replace_columns))]\n",
    "app_train['revo_channel_type'].replace(replace_columns, replace_value, inplace=True)\n",
    "app_test['revo_channel_type'].replace(replace_columns, replace_value, inplace=True)\n",
    "app_train['revo_channel_type'].value_counts()"
   ]
  },
  {
   "cell_type": "code",
   "execution_count": 79,
   "id": "2e94ffdf",
   "metadata": {},
   "outputs": [
    {
     "data": {
      "text/html": [
       "<div>\n",
       "<style scoped>\n",
       "    .dataframe tbody tr th:only-of-type {\n",
       "        vertical-align: middle;\n",
       "    }\n",
       "\n",
       "    .dataframe tbody tr th {\n",
       "        vertical-align: top;\n",
       "    }\n",
       "\n",
       "    .dataframe thead th {\n",
       "        text-align: right;\n",
       "    }\n",
       "</style>\n",
       "<table border=\"1\" class=\"dataframe\">\n",
       "  <thead>\n",
       "    <tr style=\"text-align: right;\">\n",
       "      <th></th>\n",
       "      <th>revo_channel_type</th>\n",
       "      <th>TARGET</th>\n",
       "    </tr>\n",
       "  </thead>\n",
       "  <tbody>\n",
       "    <tr>\n",
       "      <th>revo_channel_type</th>\n",
       "      <td>1.00000</td>\n",
       "      <td>0.00912</td>\n",
       "    </tr>\n",
       "    <tr>\n",
       "      <th>TARGET</th>\n",
       "      <td>0.00912</td>\n",
       "      <td>1.00000</td>\n",
       "    </tr>\n",
       "  </tbody>\n",
       "</table>\n",
       "</div>"
      ],
      "text/plain": [
       "                   revo_channel_type   TARGET\n",
       "revo_channel_type            1.00000  0.00912\n",
       "TARGET                       0.00912  1.00000"
      ]
     },
     "execution_count": 79,
     "metadata": {},
     "output_type": "execute_result"
    }
   ],
   "source": [
    "app_train[['revo_channel_type', 'TARGET']].corr()"
   ]
  },
  {
   "cell_type": "code",
   "execution_count": 80,
   "id": "ca7777c7",
   "metadata": {},
   "outputs": [],
   "source": [
    "app_train.drop(['revo_channel_type'], axis=1, inplace=True)\n",
    "app_test.drop(['revo_channel_type'], axis=1, inplace=True)"
   ]
  },
  {
   "cell_type": "markdown",
   "id": "3becba1c",
   "metadata": {},
   "source": [
    "### sellerplace_area"
   ]
  },
  {
   "cell_type": "code",
   "execution_count": 81,
   "id": "fb206052",
   "metadata": {},
   "outputs": [
    {
     "data": {
      "text/plain": [
       "-1.0       20904\n",
       " 0.0        2284\n",
       " 4.0         622\n",
       " 5.0         455\n",
       " 50.0        394\n",
       "           ...  \n",
       " 1331.0        1\n",
       " 268.0         1\n",
       " 1304.0        1\n",
       " 621.0         1\n",
       " 510.0         1\n",
       "Name: revo_sellerplace_area, Length: 927, dtype: int64"
      ]
     },
     "execution_count": 81,
     "metadata": {},
     "output_type": "execute_result"
    }
   ],
   "source": [
    "app_train['revo_sellerplace_area'].value_counts()"
   ]
  },
  {
   "cell_type": "code",
   "execution_count": 82,
   "id": "1b83f582",
   "metadata": {},
   "outputs": [
    {
     "data": {
      "text/html": [
       "<div>\n",
       "<style scoped>\n",
       "    .dataframe tbody tr th:only-of-type {\n",
       "        vertical-align: middle;\n",
       "    }\n",
       "\n",
       "    .dataframe tbody tr th {\n",
       "        vertical-align: top;\n",
       "    }\n",
       "\n",
       "    .dataframe thead th {\n",
       "        text-align: right;\n",
       "    }\n",
       "</style>\n",
       "<table border=\"1\" class=\"dataframe\">\n",
       "  <thead>\n",
       "    <tr style=\"text-align: right;\">\n",
       "      <th></th>\n",
       "      <th>revo_sellerplace_area</th>\n",
       "      <th>TARGET</th>\n",
       "    </tr>\n",
       "  </thead>\n",
       "  <tbody>\n",
       "    <tr>\n",
       "      <th>revo_sellerplace_area</th>\n",
       "      <td>1.000000</td>\n",
       "      <td>-0.006568</td>\n",
       "    </tr>\n",
       "    <tr>\n",
       "      <th>TARGET</th>\n",
       "      <td>-0.006568</td>\n",
       "      <td>1.000000</td>\n",
       "    </tr>\n",
       "  </tbody>\n",
       "</table>\n",
       "</div>"
      ],
      "text/plain": [
       "                       revo_sellerplace_area    TARGET\n",
       "revo_sellerplace_area               1.000000 -0.006568\n",
       "TARGET                             -0.006568  1.000000"
      ]
     },
     "execution_count": 82,
     "metadata": {},
     "output_type": "execute_result"
    }
   ],
   "source": [
    "app_train[['revo_sellerplace_area', 'TARGET']].corr()"
   ]
  },
  {
   "cell_type": "code",
   "execution_count": 83,
   "id": "30b23328",
   "metadata": {},
   "outputs": [],
   "source": [
    "app_train.drop(['revo_sellerplace_area'], axis=1, inplace=True)\n",
    "app_test.drop(['revo_sellerplace_area'], axis=1, inplace=True)"
   ]
  },
  {
   "cell_type": "markdown",
   "id": "9ef9ae0d",
   "metadata": {},
   "source": [
    "### name_seller_industry"
   ]
  },
  {
   "cell_type": "code",
   "execution_count": 84,
   "id": "1bfdfa41",
   "metadata": {},
   "outputs": [
    {
     "data": {
      "text/plain": [
       "XNA                     25610\n",
       "Consumer electronics     5820\n",
       "Connectivity             3733\n",
       "Furniture                 267\n",
       "Clothing                   63\n",
       "Construction               54\n",
       "Industry                   19\n",
       "Auto technology            11\n",
       "MLM partners                6\n",
       "Jewelry                     3\n",
       "Name: revo_name_seller_industry, dtype: int64"
      ]
     },
     "execution_count": 84,
     "metadata": {},
     "output_type": "execute_result"
    }
   ],
   "source": [
    "app_train['revo_name_seller_industry'].value_counts()"
   ]
  },
  {
   "cell_type": "code",
   "execution_count": 85,
   "id": "5212fd36",
   "metadata": {},
   "outputs": [
    {
     "data": {
      "text/plain": [
       "1.0    25610\n",
       "2.0     5820\n",
       "0.0     3733\n",
       "3.0      267\n",
       "8.0       63\n",
       "7.0       54\n",
       "5.0       19\n",
       "4.0       11\n",
       "9.0        6\n",
       "6.0        3\n",
       "Name: revo_name_seller_industry, dtype: int64"
      ]
     },
     "execution_count": 85,
     "metadata": {},
     "output_type": "execute_result"
    }
   ],
   "source": [
    "replace_columns = app_train['revo_name_seller_industry'].unique().tolist()\n",
    "replace_columns = ['xxxx' if e == \"NaN\" or type(e) is float and math.isnan(e) else e for e in replace_columns]\n",
    "replace_columns.remove('xxxx')\n",
    "replace_value = [x for x in range(len(replace_columns))]\n",
    "app_train['revo_name_seller_industry'].replace(replace_columns, replace_value, inplace=True)\n",
    "app_test['revo_name_seller_industry'].replace(replace_columns, replace_value, inplace=True)\n",
    "app_train['revo_name_seller_industry'].value_counts()"
   ]
  },
  {
   "cell_type": "code",
   "execution_count": 86,
   "id": "222c89fa",
   "metadata": {},
   "outputs": [
    {
     "data": {
      "text/html": [
       "<div>\n",
       "<style scoped>\n",
       "    .dataframe tbody tr th:only-of-type {\n",
       "        vertical-align: middle;\n",
       "    }\n",
       "\n",
       "    .dataframe tbody tr th {\n",
       "        vertical-align: top;\n",
       "    }\n",
       "\n",
       "    .dataframe thead th {\n",
       "        text-align: right;\n",
       "    }\n",
       "</style>\n",
       "<table border=\"1\" class=\"dataframe\">\n",
       "  <thead>\n",
       "    <tr style=\"text-align: right;\">\n",
       "      <th></th>\n",
       "      <th>revo_name_seller_industry</th>\n",
       "      <th>TARGET</th>\n",
       "    </tr>\n",
       "  </thead>\n",
       "  <tbody>\n",
       "    <tr>\n",
       "      <th>revo_name_seller_industry</th>\n",
       "      <td>1.000000</td>\n",
       "      <td>-0.006876</td>\n",
       "    </tr>\n",
       "    <tr>\n",
       "      <th>TARGET</th>\n",
       "      <td>-0.006876</td>\n",
       "      <td>1.000000</td>\n",
       "    </tr>\n",
       "  </tbody>\n",
       "</table>\n",
       "</div>"
      ],
      "text/plain": [
       "                           revo_name_seller_industry    TARGET\n",
       "revo_name_seller_industry                   1.000000 -0.006876\n",
       "TARGET                                     -0.006876  1.000000"
      ]
     },
     "execution_count": 86,
     "metadata": {},
     "output_type": "execute_result"
    }
   ],
   "source": [
    "app_train[['revo_name_seller_industry', 'TARGET']].corr()"
   ]
  },
  {
   "cell_type": "code",
   "execution_count": 87,
   "id": "a323f44f",
   "metadata": {},
   "outputs": [],
   "source": [
    "app_train.drop(['revo_name_seller_industry'], axis=1, inplace=True)\n",
    "app_test.drop(['revo_name_seller_industry'], axis=1, inplace=True)"
   ]
  },
  {
   "cell_type": "markdown",
   "id": "ce56a781",
   "metadata": {},
   "source": [
    "### cnt_payment"
   ]
  },
  {
   "cell_type": "code",
   "execution_count": 88,
   "id": "4a3460a6",
   "metadata": {},
   "outputs": [
    {
     "data": {
      "text/plain": [
       "0.0    35586\n",
       "Name: revo_cnt_payment, dtype: int64"
      ]
     },
     "execution_count": 88,
     "metadata": {},
     "output_type": "execute_result"
    }
   ],
   "source": [
    "app_train['revo_cnt_payment'].value_counts()"
   ]
  },
  {
   "cell_type": "code",
   "execution_count": 89,
   "id": "508b26be",
   "metadata": {},
   "outputs": [
    {
     "data": {
      "text/html": [
       "<div>\n",
       "<style scoped>\n",
       "    .dataframe tbody tr th:only-of-type {\n",
       "        vertical-align: middle;\n",
       "    }\n",
       "\n",
       "    .dataframe tbody tr th {\n",
       "        vertical-align: top;\n",
       "    }\n",
       "\n",
       "    .dataframe thead th {\n",
       "        text-align: right;\n",
       "    }\n",
       "</style>\n",
       "<table border=\"1\" class=\"dataframe\">\n",
       "  <thead>\n",
       "    <tr style=\"text-align: right;\">\n",
       "      <th></th>\n",
       "      <th>revo_cnt_payment</th>\n",
       "      <th>TARGET</th>\n",
       "    </tr>\n",
       "  </thead>\n",
       "  <tbody>\n",
       "    <tr>\n",
       "      <th>revo_cnt_payment</th>\n",
       "      <td>NaN</td>\n",
       "      <td>NaN</td>\n",
       "    </tr>\n",
       "    <tr>\n",
       "      <th>TARGET</th>\n",
       "      <td>NaN</td>\n",
       "      <td>1.0</td>\n",
       "    </tr>\n",
       "  </tbody>\n",
       "</table>\n",
       "</div>"
      ],
      "text/plain": [
       "                  revo_cnt_payment  TARGET\n",
       "revo_cnt_payment               NaN     NaN\n",
       "TARGET                         NaN     1.0"
      ]
     },
     "execution_count": 89,
     "metadata": {},
     "output_type": "execute_result"
    }
   ],
   "source": [
    "app_train[['revo_cnt_payment', 'TARGET']].corr()"
   ]
  },
  {
   "cell_type": "code",
   "execution_count": 90,
   "id": "0e2bcd6a",
   "metadata": {},
   "outputs": [],
   "source": [
    "app_train.drop(['revo_cnt_payment'], axis=1, inplace=True)\n",
    "app_test.drop(['revo_cnt_payment'], axis=1, inplace=True)"
   ]
  },
  {
   "cell_type": "markdown",
   "id": "4d9573d3",
   "metadata": {},
   "source": [
    "### name_yield_group"
   ]
  },
  {
   "cell_type": "code",
   "execution_count": 91,
   "id": "7844625b",
   "metadata": {},
   "outputs": [
    {
     "data": {
      "text/plain": [
       "XNA    35586\n",
       "Name: revo_name_yield_group, dtype: int64"
      ]
     },
     "execution_count": 91,
     "metadata": {},
     "output_type": "execute_result"
    }
   ],
   "source": [
    "app_train['revo_name_yield_group'].value_counts()"
   ]
  },
  {
   "cell_type": "code",
   "execution_count": 92,
   "id": "68c9b1df",
   "metadata": {},
   "outputs": [],
   "source": [
    "app_train.drop(['revo_name_yield_group'], axis=1, inplace=True)\n",
    "app_test.drop(['revo_name_yield_group'], axis=1, inplace=True)"
   ]
  },
  {
   "cell_type": "markdown",
   "id": "6d3345a0",
   "metadata": {},
   "source": [
    "### product_combination"
   ]
  },
  {
   "cell_type": "code",
   "execution_count": 93,
   "id": "97e4b7ab",
   "metadata": {},
   "outputs": [
    {
     "data": {
      "text/plain": [
       "Card X-Sell    20791\n",
       "Card Street    14795\n",
       "Name: revo_product_combination, dtype: int64"
      ]
     },
     "execution_count": 93,
     "metadata": {},
     "output_type": "execute_result"
    }
   ],
   "source": [
    "app_train['revo_product_combination'].value_counts()"
   ]
  },
  {
   "cell_type": "code",
   "execution_count": 94,
   "id": "471b3cf8",
   "metadata": {},
   "outputs": [
    {
     "data": {
      "text/plain": [
       "0.0    20791\n",
       "1.0    14795\n",
       "Name: revo_product_combination, dtype: int64"
      ]
     },
     "execution_count": 94,
     "metadata": {},
     "output_type": "execute_result"
    }
   ],
   "source": [
    "replace_columns = app_train['revo_product_combination'].unique().tolist()\n",
    "replace_columns = ['xxxx' if e == \"NaN\" or type(e) is float and math.isnan(e) else e for e in replace_columns]\n",
    "replace_columns.remove('xxxx')\n",
    "replace_value = [x for x in range(len(replace_columns))]\n",
    "app_train['revo_product_combination'].replace(replace_columns, replace_value, inplace=True)\n",
    "app_test['revo_product_combination'].replace(replace_columns, replace_value, inplace=True)\n",
    "app_train['revo_product_combination'].value_counts()"
   ]
  },
  {
   "cell_type": "code",
   "execution_count": 95,
   "id": "977c0bec",
   "metadata": {},
   "outputs": [
    {
     "data": {
      "text/plain": [
       "0.0    20791\n",
       "1.0    14795\n",
       "Name: revo_product_combination, dtype: int64"
      ]
     },
     "execution_count": 95,
     "metadata": {},
     "output_type": "execute_result"
    }
   ],
   "source": [
    "app_train['revo_product_combination'].value_counts()"
   ]
  },
  {
   "cell_type": "code",
   "execution_count": 96,
   "id": "0e547b68",
   "metadata": {},
   "outputs": [
    {
     "data": {
      "text/html": [
       "<div>\n",
       "<style scoped>\n",
       "    .dataframe tbody tr th:only-of-type {\n",
       "        vertical-align: middle;\n",
       "    }\n",
       "\n",
       "    .dataframe tbody tr th {\n",
       "        vertical-align: top;\n",
       "    }\n",
       "\n",
       "    .dataframe thead th {\n",
       "        text-align: right;\n",
       "    }\n",
       "</style>\n",
       "<table border=\"1\" class=\"dataframe\">\n",
       "  <thead>\n",
       "    <tr style=\"text-align: right;\">\n",
       "      <th></th>\n",
       "      <th>revo_product_combination</th>\n",
       "      <th>TARGET</th>\n",
       "    </tr>\n",
       "  </thead>\n",
       "  <tbody>\n",
       "    <tr>\n",
       "      <th>revo_product_combination</th>\n",
       "      <td>1.000000</td>\n",
       "      <td>0.015433</td>\n",
       "    </tr>\n",
       "    <tr>\n",
       "      <th>TARGET</th>\n",
       "      <td>0.015433</td>\n",
       "      <td>1.000000</td>\n",
       "    </tr>\n",
       "  </tbody>\n",
       "</table>\n",
       "</div>"
      ],
      "text/plain": [
       "                          revo_product_combination    TARGET\n",
       "revo_product_combination                  1.000000  0.015433\n",
       "TARGET                                    0.015433  1.000000"
      ]
     },
     "execution_count": 96,
     "metadata": {},
     "output_type": "execute_result"
    }
   ],
   "source": [
    "app_train[['revo_product_combination', 'TARGET']].corr()"
   ]
  },
  {
   "cell_type": "markdown",
   "id": "3114fb9e",
   "metadata": {},
   "source": [
    "### days_first_drawing"
   ]
  },
  {
   "cell_type": "code",
   "execution_count": 97,
   "id": "742efe50",
   "metadata": {},
   "outputs": [
    {
     "data": {
      "text/plain": [
       " 365243.0    115\n",
       "-212.0        82\n",
       "-210.0        79\n",
       "-215.0        78\n",
       "-249.0        77\n",
       "            ... \n",
       "-1739.0        1\n",
       "-1532.0        1\n",
       "-1419.0        1\n",
       "-1840.0        1\n",
       "-1328.0        1\n",
       "Name: revo_days_first_drawing, Length: 2664, dtype: int64"
      ]
     },
     "execution_count": 97,
     "metadata": {},
     "output_type": "execute_result"
    }
   ],
   "source": [
    "app_train['revo_days_first_drawing'].value_counts()"
   ]
  },
  {
   "cell_type": "code",
   "execution_count": 98,
   "id": "e86d5b34",
   "metadata": {},
   "outputs": [
    {
     "data": {
      "text/html": [
       "<div>\n",
       "<style scoped>\n",
       "    .dataframe tbody tr th:only-of-type {\n",
       "        vertical-align: middle;\n",
       "    }\n",
       "\n",
       "    .dataframe tbody tr th {\n",
       "        vertical-align: top;\n",
       "    }\n",
       "\n",
       "    .dataframe thead th {\n",
       "        text-align: right;\n",
       "    }\n",
       "</style>\n",
       "<table border=\"1\" class=\"dataframe\">\n",
       "  <thead>\n",
       "    <tr style=\"text-align: right;\">\n",
       "      <th></th>\n",
       "      <th>revo_days_first_drawing</th>\n",
       "      <th>TARGET</th>\n",
       "    </tr>\n",
       "  </thead>\n",
       "  <tbody>\n",
       "    <tr>\n",
       "      <th>revo_days_first_drawing</th>\n",
       "      <td>1.000000</td>\n",
       "      <td>-0.007476</td>\n",
       "    </tr>\n",
       "    <tr>\n",
       "      <th>TARGET</th>\n",
       "      <td>-0.007476</td>\n",
       "      <td>1.000000</td>\n",
       "    </tr>\n",
       "  </tbody>\n",
       "</table>\n",
       "</div>"
      ],
      "text/plain": [
       "                         revo_days_first_drawing    TARGET\n",
       "revo_days_first_drawing                 1.000000 -0.007476\n",
       "TARGET                                 -0.007476  1.000000"
      ]
     },
     "execution_count": 98,
     "metadata": {},
     "output_type": "execute_result"
    }
   ],
   "source": [
    "app_train[['revo_days_first_drawing', 'TARGET']].corr()"
   ]
  },
  {
   "cell_type": "code",
   "execution_count": 99,
   "id": "c944995a",
   "metadata": {},
   "outputs": [],
   "source": [
    "app_train.drop(['revo_days_first_drawing'], axis=1, inplace=True)\n",
    "app_test.drop(['revo_days_first_drawing'], axis=1, inplace=True)"
   ]
  },
  {
   "cell_type": "markdown",
   "id": "83e7d39e",
   "metadata": {},
   "source": [
    "### days_first_due"
   ]
  },
  {
   "cell_type": "code",
   "execution_count": 100,
   "id": "a2713f00",
   "metadata": {},
   "outputs": [
    {
     "data": {
      "text/plain": [
       " 365243.0    758\n",
       "-208.0        95\n",
       "-199.0        94\n",
       "-167.0        89\n",
       "-178.0        85\n",
       "            ... \n",
       "-2044.0        1\n",
       "-1684.0        1\n",
       "-1773.0        1\n",
       "-1645.0        1\n",
       "-1592.0        1\n",
       "Name: revo_days_first_due, Length: 2622, dtype: int64"
      ]
     },
     "execution_count": 100,
     "metadata": {},
     "output_type": "execute_result"
    }
   ],
   "source": [
    "app_train['revo_days_first_due'].value_counts()"
   ]
  },
  {
   "cell_type": "code",
   "execution_count": 101,
   "id": "8a651c0b",
   "metadata": {},
   "outputs": [
    {
     "data": {
      "text/html": [
       "<div>\n",
       "<style scoped>\n",
       "    .dataframe tbody tr th:only-of-type {\n",
       "        vertical-align: middle;\n",
       "    }\n",
       "\n",
       "    .dataframe tbody tr th {\n",
       "        vertical-align: top;\n",
       "    }\n",
       "\n",
       "    .dataframe thead th {\n",
       "        text-align: right;\n",
       "    }\n",
       "</style>\n",
       "<table border=\"1\" class=\"dataframe\">\n",
       "  <thead>\n",
       "    <tr style=\"text-align: right;\">\n",
       "      <th></th>\n",
       "      <th>revo_days_first_due</th>\n",
       "      <th>TARGET</th>\n",
       "    </tr>\n",
       "  </thead>\n",
       "  <tbody>\n",
       "    <tr>\n",
       "      <th>revo_days_first_due</th>\n",
       "      <td>1.000000</td>\n",
       "      <td>-0.011457</td>\n",
       "    </tr>\n",
       "    <tr>\n",
       "      <th>TARGET</th>\n",
       "      <td>-0.011457</td>\n",
       "      <td>1.000000</td>\n",
       "    </tr>\n",
       "  </tbody>\n",
       "</table>\n",
       "</div>"
      ],
      "text/plain": [
       "                     revo_days_first_due    TARGET\n",
       "revo_days_first_due             1.000000 -0.011457\n",
       "TARGET                         -0.011457  1.000000"
      ]
     },
     "execution_count": 101,
     "metadata": {},
     "output_type": "execute_result"
    }
   ],
   "source": [
    "app_train[['revo_days_first_due', 'TARGET']].corr()"
   ]
  },
  {
   "cell_type": "markdown",
   "id": "88323fe9",
   "metadata": {},
   "source": [
    "### days_last_due_1st_version"
   ]
  },
  {
   "cell_type": "code",
   "execution_count": 102,
   "id": "ce5d6a9f",
   "metadata": {},
   "outputs": [
    {
     "data": {
      "text/plain": [
       "365243.0    35576\n",
       "Name: revo_days_last_due_1st_version, dtype: int64"
      ]
     },
     "execution_count": 102,
     "metadata": {},
     "output_type": "execute_result"
    }
   ],
   "source": [
    "app_train['revo_days_last_due_1st_version'].value_counts()"
   ]
  },
  {
   "cell_type": "code",
   "execution_count": 103,
   "id": "618d5f2b",
   "metadata": {},
   "outputs": [
    {
     "data": {
      "text/html": [
       "<div>\n",
       "<style scoped>\n",
       "    .dataframe tbody tr th:only-of-type {\n",
       "        vertical-align: middle;\n",
       "    }\n",
       "\n",
       "    .dataframe tbody tr th {\n",
       "        vertical-align: top;\n",
       "    }\n",
       "\n",
       "    .dataframe thead th {\n",
       "        text-align: right;\n",
       "    }\n",
       "</style>\n",
       "<table border=\"1\" class=\"dataframe\">\n",
       "  <thead>\n",
       "    <tr style=\"text-align: right;\">\n",
       "      <th></th>\n",
       "      <th>revo_days_last_due_1st_version</th>\n",
       "      <th>TARGET</th>\n",
       "    </tr>\n",
       "  </thead>\n",
       "  <tbody>\n",
       "    <tr>\n",
       "      <th>revo_days_last_due_1st_version</th>\n",
       "      <td>NaN</td>\n",
       "      <td>NaN</td>\n",
       "    </tr>\n",
       "    <tr>\n",
       "      <th>TARGET</th>\n",
       "      <td>NaN</td>\n",
       "      <td>1.0</td>\n",
       "    </tr>\n",
       "  </tbody>\n",
       "</table>\n",
       "</div>"
      ],
      "text/plain": [
       "                                revo_days_last_due_1st_version  TARGET\n",
       "revo_days_last_due_1st_version                             NaN     NaN\n",
       "TARGET                                                     NaN     1.0"
      ]
     },
     "execution_count": 103,
     "metadata": {},
     "output_type": "execute_result"
    }
   ],
   "source": [
    "app_train[['revo_days_last_due_1st_version', 'TARGET']].corr()"
   ]
  },
  {
   "cell_type": "code",
   "execution_count": 104,
   "id": "984f1e0f",
   "metadata": {},
   "outputs": [],
   "source": [
    "app_train.drop(['revo_days_last_due_1st_version'], axis=1, inplace=True)\n",
    "app_test.drop(['revo_days_last_due_1st_version'], axis=1, inplace=True)"
   ]
  },
  {
   "cell_type": "markdown",
   "id": "2c1b5f12",
   "metadata": {},
   "source": [
    "### days_last_due"
   ]
  },
  {
   "cell_type": "code",
   "execution_count": 105,
   "id": "3ed9e46d",
   "metadata": {},
   "outputs": [
    {
     "data": {
      "text/plain": [
       " 365243.0    23868\n",
       "-76.0           21\n",
       "-107.0          18\n",
       "-119.0          17\n",
       "-297.0          17\n",
       "             ...  \n",
       "-2361.0          1\n",
       "-1322.0          1\n",
       "-1901.0          1\n",
       "-1364.0          1\n",
       "-1988.0          1\n",
       "Name: revo_days_last_due, Length: 2482, dtype: int64"
      ]
     },
     "execution_count": 105,
     "metadata": {},
     "output_type": "execute_result"
    }
   ],
   "source": [
    "app_train['revo_days_last_due'].value_counts()"
   ]
  },
  {
   "cell_type": "code",
   "execution_count": 106,
   "id": "146415d6",
   "metadata": {},
   "outputs": [
    {
     "data": {
      "text/html": [
       "<div>\n",
       "<style scoped>\n",
       "    .dataframe tbody tr th:only-of-type {\n",
       "        vertical-align: middle;\n",
       "    }\n",
       "\n",
       "    .dataframe tbody tr th {\n",
       "        vertical-align: top;\n",
       "    }\n",
       "\n",
       "    .dataframe thead th {\n",
       "        text-align: right;\n",
       "    }\n",
       "</style>\n",
       "<table border=\"1\" class=\"dataframe\">\n",
       "  <thead>\n",
       "    <tr style=\"text-align: right;\">\n",
       "      <th></th>\n",
       "      <th>revo_days_last_due</th>\n",
       "      <th>TARGET</th>\n",
       "    </tr>\n",
       "  </thead>\n",
       "  <tbody>\n",
       "    <tr>\n",
       "      <th>revo_days_last_due</th>\n",
       "      <td>1.000000</td>\n",
       "      <td>0.084313</td>\n",
       "    </tr>\n",
       "    <tr>\n",
       "      <th>TARGET</th>\n",
       "      <td>0.084313</td>\n",
       "      <td>1.000000</td>\n",
       "    </tr>\n",
       "  </tbody>\n",
       "</table>\n",
       "</div>"
      ],
      "text/plain": [
       "                    revo_days_last_due    TARGET\n",
       "revo_days_last_due            1.000000  0.084313\n",
       "TARGET                        0.084313  1.000000"
      ]
     },
     "execution_count": 106,
     "metadata": {},
     "output_type": "execute_result"
    }
   ],
   "source": [
    "app_train[['revo_days_last_due', 'TARGET']].corr()"
   ]
  },
  {
   "cell_type": "markdown",
   "id": "18c1eaba",
   "metadata": {},
   "source": [
    "### days_termination"
   ]
  },
  {
   "cell_type": "code",
   "execution_count": 107,
   "id": "18290c4d",
   "metadata": {},
   "outputs": [
    {
     "data": {
      "text/plain": [
       " 365243.0    32998\n",
       "-7.0            22\n",
       "-99.0           21\n",
       "-97.0           21\n",
       "-113.0          21\n",
       "             ...  \n",
       "-788.0           1\n",
       "-778.0           1\n",
       "-943.0           1\n",
       "-177.0           1\n",
       "-870.0           1\n",
       "Name: revo_days_termination, Length: 524, dtype: int64"
      ]
     },
     "execution_count": 107,
     "metadata": {},
     "output_type": "execute_result"
    }
   ],
   "source": [
    "app_train['revo_days_termination'].value_counts()"
   ]
  },
  {
   "cell_type": "code",
   "execution_count": 108,
   "id": "ee1e22e8",
   "metadata": {},
   "outputs": [
    {
     "data": {
      "text/html": [
       "<div>\n",
       "<style scoped>\n",
       "    .dataframe tbody tr th:only-of-type {\n",
       "        vertical-align: middle;\n",
       "    }\n",
       "\n",
       "    .dataframe tbody tr th {\n",
       "        vertical-align: top;\n",
       "    }\n",
       "\n",
       "    .dataframe thead th {\n",
       "        text-align: right;\n",
       "    }\n",
       "</style>\n",
       "<table border=\"1\" class=\"dataframe\">\n",
       "  <thead>\n",
       "    <tr style=\"text-align: right;\">\n",
       "      <th></th>\n",
       "      <th>revo_days_termination</th>\n",
       "      <th>TARGET</th>\n",
       "    </tr>\n",
       "  </thead>\n",
       "  <tbody>\n",
       "    <tr>\n",
       "      <th>revo_days_termination</th>\n",
       "      <td>1.000000</td>\n",
       "      <td>0.024473</td>\n",
       "    </tr>\n",
       "    <tr>\n",
       "      <th>TARGET</th>\n",
       "      <td>0.024473</td>\n",
       "      <td>1.000000</td>\n",
       "    </tr>\n",
       "  </tbody>\n",
       "</table>\n",
       "</div>"
      ],
      "text/plain": [
       "                       revo_days_termination    TARGET\n",
       "revo_days_termination               1.000000  0.024473\n",
       "TARGET                              0.024473  1.000000"
      ]
     },
     "execution_count": 108,
     "metadata": {},
     "output_type": "execute_result"
    }
   ],
   "source": [
    "app_train[['revo_days_termination', 'TARGET']].corr()"
   ]
  },
  {
   "cell_type": "markdown",
   "id": "2e066e55",
   "metadata": {},
   "source": [
    "### nflag_insured_on_approval"
   ]
  },
  {
   "cell_type": "code",
   "execution_count": 109,
   "id": "52ce4faa",
   "metadata": {},
   "outputs": [
    {
     "data": {
      "text/plain": [
       "0.0    35185\n",
       "1.0      391\n",
       "Name: revo_nflag_insured_on_approval, dtype: int64"
      ]
     },
     "execution_count": 109,
     "metadata": {},
     "output_type": "execute_result"
    }
   ],
   "source": [
    "app_train['revo_nflag_insured_on_approval'].value_counts()"
   ]
  },
  {
   "cell_type": "code",
   "execution_count": 110,
   "id": "5ae5bb43",
   "metadata": {},
   "outputs": [
    {
     "data": {
      "text/html": [
       "<div>\n",
       "<style scoped>\n",
       "    .dataframe tbody tr th:only-of-type {\n",
       "        vertical-align: middle;\n",
       "    }\n",
       "\n",
       "    .dataframe tbody tr th {\n",
       "        vertical-align: top;\n",
       "    }\n",
       "\n",
       "    .dataframe thead th {\n",
       "        text-align: right;\n",
       "    }\n",
       "</style>\n",
       "<table border=\"1\" class=\"dataframe\">\n",
       "  <thead>\n",
       "    <tr style=\"text-align: right;\">\n",
       "      <th></th>\n",
       "      <th>revo_nflag_insured_on_approval</th>\n",
       "      <th>TARGET</th>\n",
       "    </tr>\n",
       "  </thead>\n",
       "  <tbody>\n",
       "    <tr>\n",
       "      <th>revo_nflag_insured_on_approval</th>\n",
       "      <td>1.000000</td>\n",
       "      <td>-0.012439</td>\n",
       "    </tr>\n",
       "    <tr>\n",
       "      <th>TARGET</th>\n",
       "      <td>-0.012439</td>\n",
       "      <td>1.000000</td>\n",
       "    </tr>\n",
       "  </tbody>\n",
       "</table>\n",
       "</div>"
      ],
      "text/plain": [
       "                                revo_nflag_insured_on_approval    TARGET\n",
       "revo_nflag_insured_on_approval                        1.000000 -0.012439\n",
       "TARGET                                               -0.012439  1.000000"
      ]
     },
     "execution_count": 110,
     "metadata": {},
     "output_type": "execute_result"
    }
   ],
   "source": [
    "app_train[['revo_nflag_insured_on_approval', 'TARGET']].corr()"
   ]
  },
  {
   "cell_type": "markdown",
   "id": "b571d479",
   "metadata": {},
   "source": [
    "### max_sk_dpd"
   ]
  },
  {
   "cell_type": "code",
   "execution_count": 111,
   "id": "25b97572",
   "metadata": {},
   "outputs": [
    {
     "data": {
      "text/plain": [
       "0.0      35096\n",
       "1.0        102\n",
       "8.0         73\n",
       "5.0         69\n",
       "7.0         38\n",
       "         ...  \n",
       "39.0         1\n",
       "98.0         1\n",
       "99.0         1\n",
       "615.0        1\n",
       "140.0        1\n",
       "Name: revo_max_sk_dpd, Length: 117, dtype: int64"
      ]
     },
     "execution_count": 111,
     "metadata": {},
     "output_type": "execute_result"
    }
   ],
   "source": [
    "app_train['revo_max_sk_dpd'].value_counts()"
   ]
  },
  {
   "cell_type": "code",
   "execution_count": 112,
   "id": "e7515dc6",
   "metadata": {},
   "outputs": [
    {
     "data": {
      "text/html": [
       "<div>\n",
       "<style scoped>\n",
       "    .dataframe tbody tr th:only-of-type {\n",
       "        vertical-align: middle;\n",
       "    }\n",
       "\n",
       "    .dataframe tbody tr th {\n",
       "        vertical-align: top;\n",
       "    }\n",
       "\n",
       "    .dataframe thead th {\n",
       "        text-align: right;\n",
       "    }\n",
       "</style>\n",
       "<table border=\"1\" class=\"dataframe\">\n",
       "  <thead>\n",
       "    <tr style=\"text-align: right;\">\n",
       "      <th></th>\n",
       "      <th>revo_max_sk_dpd</th>\n",
       "      <th>TARGET</th>\n",
       "    </tr>\n",
       "  </thead>\n",
       "  <tbody>\n",
       "    <tr>\n",
       "      <th>revo_max_sk_dpd</th>\n",
       "      <td>1.000000</td>\n",
       "      <td>-0.000564</td>\n",
       "    </tr>\n",
       "    <tr>\n",
       "      <th>TARGET</th>\n",
       "      <td>-0.000564</td>\n",
       "      <td>1.000000</td>\n",
       "    </tr>\n",
       "  </tbody>\n",
       "</table>\n",
       "</div>"
      ],
      "text/plain": [
       "                 revo_max_sk_dpd    TARGET\n",
       "revo_max_sk_dpd         1.000000 -0.000564\n",
       "TARGET                 -0.000564  1.000000"
      ]
     },
     "execution_count": 112,
     "metadata": {},
     "output_type": "execute_result"
    }
   ],
   "source": [
    "app_train[['revo_max_sk_dpd', 'TARGET']].corr()"
   ]
  },
  {
   "cell_type": "code",
   "execution_count": 113,
   "id": "68e315c0",
   "metadata": {},
   "outputs": [],
   "source": [
    "app_train.drop(['revo_max_sk_dpd'], axis=1, inplace=True)\n",
    "app_test.drop(['revo_max_sk_dpd'], axis=1, inplace=True)"
   ]
  },
  {
   "cell_type": "markdown",
   "id": "3f1cf596",
   "metadata": {},
   "source": [
    "### installment_payment_ratio_1000_mean_mean"
   ]
  },
  {
   "cell_type": "code",
   "execution_count": 114,
   "id": "52c6d89e",
   "metadata": {},
   "outputs": [
    {
     "data": {
      "text/plain": [
       " 0.000000       37430\n",
       "-86.538462         42\n",
       "-70.312500         37\n",
       "-75.000000         36\n",
       "-80.357143         36\n",
       "                ...  \n",
       "-4743.404505        1\n",
       "-24.196721          1\n",
       "-350.312045         1\n",
       "-76.658049          1\n",
       "-80.110000          1\n",
       "Name: revo_installment_payment_ratio_1000_mean_mean, Length: 12697, dtype: int64"
      ]
     },
     "execution_count": 114,
     "metadata": {},
     "output_type": "execute_result"
    }
   ],
   "source": [
    "app_train['revo_installment_payment_ratio_1000_mean_mean'].value_counts()"
   ]
  },
  {
   "cell_type": "code",
   "execution_count": 115,
   "id": "2e659c39",
   "metadata": {},
   "outputs": [
    {
     "data": {
      "text/plain": [
       "0        NaN\n",
       "1        NaN\n",
       "2        NaN\n",
       "3        NaN\n",
       "4        NaN\n",
       "          ..\n",
       "307506   NaN\n",
       "307507   NaN\n",
       "307508   NaN\n",
       "307509   NaN\n",
       "307510   NaN\n",
       "Name: revo_installment_payment_ratio_1000_mean_mean, Length: 307511, dtype: float64"
      ]
     },
     "execution_count": 115,
     "metadata": {},
     "output_type": "execute_result"
    }
   ],
   "source": [
    "app_train['revo_installment_payment_ratio_1000_mean_mean']"
   ]
  },
  {
   "cell_type": "code",
   "execution_count": 116,
   "id": "56e46445",
   "metadata": {},
   "outputs": [
    {
     "data": {
      "text/html": [
       "<div>\n",
       "<style scoped>\n",
       "    .dataframe tbody tr th:only-of-type {\n",
       "        vertical-align: middle;\n",
       "    }\n",
       "\n",
       "    .dataframe tbody tr th {\n",
       "        vertical-align: top;\n",
       "    }\n",
       "\n",
       "    .dataframe thead th {\n",
       "        text-align: right;\n",
       "    }\n",
       "</style>\n",
       "<table border=\"1\" class=\"dataframe\">\n",
       "  <thead>\n",
       "    <tr style=\"text-align: right;\">\n",
       "      <th></th>\n",
       "      <th>revo_installment_payment_ratio_1000_mean_mean</th>\n",
       "      <th>TARGET</th>\n",
       "    </tr>\n",
       "  </thead>\n",
       "  <tbody>\n",
       "    <tr>\n",
       "      <th>revo_installment_payment_ratio_1000_mean_mean</th>\n",
       "      <td>1.000000</td>\n",
       "      <td>-0.040611</td>\n",
       "    </tr>\n",
       "    <tr>\n",
       "      <th>TARGET</th>\n",
       "      <td>-0.040611</td>\n",
       "      <td>1.000000</td>\n",
       "    </tr>\n",
       "  </tbody>\n",
       "</table>\n",
       "</div>"
      ],
      "text/plain": [
       "                                               revo_installment_payment_ratio_1000_mean_mean  \\\n",
       "revo_installment_payment_ratio_1000_mean_mean                                       1.000000   \n",
       "TARGET                                                                             -0.040611   \n",
       "\n",
       "                                                 TARGET  \n",
       "revo_installment_payment_ratio_1000_mean_mean -0.040611  \n",
       "TARGET                                         1.000000  "
      ]
     },
     "execution_count": 116,
     "metadata": {},
     "output_type": "execute_result"
    }
   ],
   "source": [
    "app_train[['revo_installment_payment_ratio_1000_mean_mean', 'TARGET']].corr()"
   ]
  },
  {
   "cell_type": "markdown",
   "id": "d8177206",
   "metadata": {},
   "source": [
    "### revo_annuity_to_max_installment_ratio"
   ]
  },
  {
   "cell_type": "code",
   "execution_count": 117,
   "id": "93652f05",
   "metadata": {},
   "outputs": [
    {
     "data": {
      "text/plain": [
       "-9114.7500    12\n",
       "-6554.2500    11\n",
       "-1567.0588    11\n",
       "-3745.2857    11\n",
       "-2804.5385    10\n",
       "              ..\n",
       "-2244.0000     1\n",
       "-2041.0000     1\n",
       "-158.4507      1\n",
       "-3068.6667     1\n",
       "-172.1627      1\n",
       "Name: revo_annuity_to_max_installment_ratio, Length: 28471, dtype: int64"
      ]
     },
     "execution_count": 117,
     "metadata": {},
     "output_type": "execute_result"
    }
   ],
   "source": [
    "app_train['revo_annuity_to_max_installment_ratio'].value_counts()"
   ]
  },
  {
   "cell_type": "code",
   "execution_count": 118,
   "id": "904a61e9",
   "metadata": {},
   "outputs": [
    {
     "data": {
      "text/html": [
       "<div>\n",
       "<style scoped>\n",
       "    .dataframe tbody tr th:only-of-type {\n",
       "        vertical-align: middle;\n",
       "    }\n",
       "\n",
       "    .dataframe tbody tr th {\n",
       "        vertical-align: top;\n",
       "    }\n",
       "\n",
       "    .dataframe thead th {\n",
       "        text-align: right;\n",
       "    }\n",
       "</style>\n",
       "<table border=\"1\" class=\"dataframe\">\n",
       "  <thead>\n",
       "    <tr style=\"text-align: right;\">\n",
       "      <th></th>\n",
       "      <th>revo_annuity_to_max_installment_ratio</th>\n",
       "      <th>TARGET</th>\n",
       "    </tr>\n",
       "  </thead>\n",
       "  <tbody>\n",
       "    <tr>\n",
       "      <th>revo_annuity_to_max_installment_ratio</th>\n",
       "      <td>1.00000</td>\n",
       "      <td>0.00516</td>\n",
       "    </tr>\n",
       "    <tr>\n",
       "      <th>TARGET</th>\n",
       "      <td>0.00516</td>\n",
       "      <td>1.00000</td>\n",
       "    </tr>\n",
       "  </tbody>\n",
       "</table>\n",
       "</div>"
      ],
      "text/plain": [
       "                                       revo_annuity_to_max_installment_ratio  \\\n",
       "revo_annuity_to_max_installment_ratio                                1.00000   \n",
       "TARGET                                                               0.00516   \n",
       "\n",
       "                                        TARGET  \n",
       "revo_annuity_to_max_installment_ratio  0.00516  \n",
       "TARGET                                 1.00000  "
      ]
     },
     "execution_count": 118,
     "metadata": {},
     "output_type": "execute_result"
    }
   ],
   "source": [
    "app_train[['revo_annuity_to_max_installment_ratio', 'TARGET']].corr()"
   ]
  },
  {
   "cell_type": "code",
   "execution_count": 119,
   "id": "83950ed7",
   "metadata": {},
   "outputs": [],
   "source": [
    "app_train.drop(['revo_annuity_to_max_installment_ratio'], axis=1, inplace=True)\n",
    "app_test.drop(['revo_annuity_to_max_installment_ratio'], axis=1, inplace=True)"
   ]
  },
  {
   "cell_type": "code",
   "execution_count": 120,
   "id": "4f7a7678",
   "metadata": {},
   "outputs": [
    {
     "data": {
      "text/plain": [
       "307511"
      ]
     },
     "execution_count": 120,
     "metadata": {},
     "output_type": "execute_result"
    }
   ],
   "source": [
    "len(app_train)"
   ]
  },
  {
   "cell_type": "code",
   "execution_count": 121,
   "id": "55681d1d",
   "metadata": {},
   "outputs": [
    {
     "data": {
      "text/plain": [
       "48744"
      ]
     },
     "execution_count": 121,
     "metadata": {},
     "output_type": "execute_result"
    }
   ],
   "source": [
    "len(app_test)"
   ]
  },
  {
   "cell_type": "markdown",
   "id": "412f9496",
   "metadata": {},
   "source": [
    "### CSVをEXPORT"
   ]
  },
  {
   "cell_type": "code",
   "execution_count": 122,
   "id": "d283c9c5",
   "metadata": {},
   "outputs": [],
   "source": [
    "### train\n",
    "app_train.to_csv(\n",
    "    path_or_buf=\"./home-credit-default-risk/exports/hc_only_revo_train.csv\", # 出力先\n",
    "    sep=\",\",                                            # 区切り文字\n",
    "    index=False,                                        # indexの出力有無\n",
    "    header=True                                        # headerの出力有無\n",
    ")"
   ]
  },
  {
   "cell_type": "code",
   "execution_count": 123,
   "id": "9957ee5e",
   "metadata": {},
   "outputs": [],
   "source": [
    "### test\n",
    "app_test.to_csv(\n",
    "    path_or_buf=\"./home-credit-default-risk/exports/hc_only_revo_test.csv\", # 出力先\n",
    "    sep=\",\",                                            # 区切り文字\n",
    "    index=False,                                        # indexの出力有無\n",
    "    header=True                                        # headerの出力有無\n",
    ")"
   ]
  },
  {
   "cell_type": "code",
   "execution_count": 124,
   "id": "e53e9578",
   "metadata": {},
   "outputs": [
    {
     "data": {
      "text/html": [
       "<div>\n",
       "<style scoped>\n",
       "    .dataframe tbody tr th:only-of-type {\n",
       "        vertical-align: middle;\n",
       "    }\n",
       "\n",
       "    .dataframe tbody tr th {\n",
       "        vertical-align: top;\n",
       "    }\n",
       "\n",
       "    .dataframe thead th {\n",
       "        text-align: right;\n",
       "    }\n",
       "</style>\n",
       "<table border=\"1\" class=\"dataframe\">\n",
       "  <thead>\n",
       "    <tr style=\"text-align: right;\">\n",
       "      <th></th>\n",
       "      <th>SK_ID_CURR</th>\n",
       "      <th>NAME_CONTRACT_TYPE</th>\n",
       "      <th>CODE_GENDER</th>\n",
       "      <th>FLAG_OWN_CAR</th>\n",
       "      <th>FLAG_OWN_REALTY</th>\n",
       "      <th>CNT_CHILDREN</th>\n",
       "      <th>AMT_INCOME_TOTAL</th>\n",
       "      <th>AMT_CREDIT</th>\n",
       "      <th>AMT_ANNUITY</th>\n",
       "      <th>AMT_GOODS_PRICE</th>\n",
       "      <th>...</th>\n",
       "      <th>revo_days_decision</th>\n",
       "      <th>revo_name_type_suite</th>\n",
       "      <th>revo_name_client_type</th>\n",
       "      <th>revo_name_product_type</th>\n",
       "      <th>revo_product_combination</th>\n",
       "      <th>revo_days_first_due</th>\n",
       "      <th>revo_days_last_due</th>\n",
       "      <th>revo_days_termination</th>\n",
       "      <th>revo_nflag_insured_on_approval</th>\n",
       "      <th>revo_installment_payment_ratio_1000_mean_mean</th>\n",
       "    </tr>\n",
       "  </thead>\n",
       "  <tbody>\n",
       "    <tr>\n",
       "      <th>0</th>\n",
       "      <td>100002</td>\n",
       "      <td>0</td>\n",
       "      <td>1</td>\n",
       "      <td>0</td>\n",
       "      <td>1</td>\n",
       "      <td>0</td>\n",
       "      <td>202500.0</td>\n",
       "      <td>406597.5</td>\n",
       "      <td>24700.5</td>\n",
       "      <td>351000.0</td>\n",
       "      <td>...</td>\n",
       "      <td>NaN</td>\n",
       "      <td>NaN</td>\n",
       "      <td>NaN</td>\n",
       "      <td>NaN</td>\n",
       "      <td>NaN</td>\n",
       "      <td>NaN</td>\n",
       "      <td>NaN</td>\n",
       "      <td>NaN</td>\n",
       "      <td>NaN</td>\n",
       "      <td>NaN</td>\n",
       "    </tr>\n",
       "    <tr>\n",
       "      <th>1</th>\n",
       "      <td>100003</td>\n",
       "      <td>0</td>\n",
       "      <td>0</td>\n",
       "      <td>0</td>\n",
       "      <td>0</td>\n",
       "      <td>0</td>\n",
       "      <td>270000.0</td>\n",
       "      <td>1293502.5</td>\n",
       "      <td>35698.5</td>\n",
       "      <td>1129500.0</td>\n",
       "      <td>...</td>\n",
       "      <td>NaN</td>\n",
       "      <td>NaN</td>\n",
       "      <td>NaN</td>\n",
       "      <td>NaN</td>\n",
       "      <td>NaN</td>\n",
       "      <td>NaN</td>\n",
       "      <td>NaN</td>\n",
       "      <td>NaN</td>\n",
       "      <td>NaN</td>\n",
       "      <td>NaN</td>\n",
       "    </tr>\n",
       "    <tr>\n",
       "      <th>2</th>\n",
       "      <td>100004</td>\n",
       "      <td>1</td>\n",
       "      <td>1</td>\n",
       "      <td>1</td>\n",
       "      <td>1</td>\n",
       "      <td>0</td>\n",
       "      <td>67500.0</td>\n",
       "      <td>135000.0</td>\n",
       "      <td>6750.0</td>\n",
       "      <td>135000.0</td>\n",
       "      <td>...</td>\n",
       "      <td>NaN</td>\n",
       "      <td>NaN</td>\n",
       "      <td>NaN</td>\n",
       "      <td>NaN</td>\n",
       "      <td>NaN</td>\n",
       "      <td>NaN</td>\n",
       "      <td>NaN</td>\n",
       "      <td>NaN</td>\n",
       "      <td>NaN</td>\n",
       "      <td>NaN</td>\n",
       "    </tr>\n",
       "    <tr>\n",
       "      <th>3</th>\n",
       "      <td>100006</td>\n",
       "      <td>0</td>\n",
       "      <td>0</td>\n",
       "      <td>0</td>\n",
       "      <td>1</td>\n",
       "      <td>0</td>\n",
       "      <td>135000.0</td>\n",
       "      <td>312682.5</td>\n",
       "      <td>29686.5</td>\n",
       "      <td>297000.0</td>\n",
       "      <td>...</td>\n",
       "      <td>NaN</td>\n",
       "      <td>NaN</td>\n",
       "      <td>NaN</td>\n",
       "      <td>NaN</td>\n",
       "      <td>NaN</td>\n",
       "      <td>NaN</td>\n",
       "      <td>NaN</td>\n",
       "      <td>NaN</td>\n",
       "      <td>NaN</td>\n",
       "      <td>NaN</td>\n",
       "    </tr>\n",
       "    <tr>\n",
       "      <th>4</th>\n",
       "      <td>100007</td>\n",
       "      <td>0</td>\n",
       "      <td>1</td>\n",
       "      <td>0</td>\n",
       "      <td>1</td>\n",
       "      <td>0</td>\n",
       "      <td>121500.0</td>\n",
       "      <td>513000.0</td>\n",
       "      <td>21865.5</td>\n",
       "      <td>513000.0</td>\n",
       "      <td>...</td>\n",
       "      <td>NaN</td>\n",
       "      <td>NaN</td>\n",
       "      <td>NaN</td>\n",
       "      <td>NaN</td>\n",
       "      <td>NaN</td>\n",
       "      <td>NaN</td>\n",
       "      <td>NaN</td>\n",
       "      <td>NaN</td>\n",
       "      <td>NaN</td>\n",
       "      <td>NaN</td>\n",
       "    </tr>\n",
       "  </tbody>\n",
       "</table>\n",
       "<p>5 rows × 108 columns</p>\n",
       "</div>"
      ],
      "text/plain": [
       "   SK_ID_CURR  NAME_CONTRACT_TYPE  CODE_GENDER  FLAG_OWN_CAR  FLAG_OWN_REALTY  \\\n",
       "0      100002                   0            1             0                1   \n",
       "1      100003                   0            0             0                0   \n",
       "2      100004                   1            1             1                1   \n",
       "3      100006                   0            0             0                1   \n",
       "4      100007                   0            1             0                1   \n",
       "\n",
       "   CNT_CHILDREN  AMT_INCOME_TOTAL  AMT_CREDIT  AMT_ANNUITY  AMT_GOODS_PRICE  \\\n",
       "0             0          202500.0    406597.5      24700.5         351000.0   \n",
       "1             0          270000.0   1293502.5      35698.5        1129500.0   \n",
       "2             0           67500.0    135000.0       6750.0         135000.0   \n",
       "3             0          135000.0    312682.5      29686.5         297000.0   \n",
       "4             0          121500.0    513000.0      21865.5         513000.0   \n",
       "\n",
       "   ...  revo_days_decision  revo_name_type_suite  revo_name_client_type  \\\n",
       "0  ...                 NaN                   NaN                    NaN   \n",
       "1  ...                 NaN                   NaN                    NaN   \n",
       "2  ...                 NaN                   NaN                    NaN   \n",
       "3  ...                 NaN                   NaN                    NaN   \n",
       "4  ...                 NaN                   NaN                    NaN   \n",
       "\n",
       "   revo_name_product_type  revo_product_combination  revo_days_first_due  \\\n",
       "0                     NaN                       NaN                  NaN   \n",
       "1                     NaN                       NaN                  NaN   \n",
       "2                     NaN                       NaN                  NaN   \n",
       "3                     NaN                       NaN                  NaN   \n",
       "4                     NaN                       NaN                  NaN   \n",
       "\n",
       "   revo_days_last_due  revo_days_termination  revo_nflag_insured_on_approval  \\\n",
       "0                 NaN                    NaN                             NaN   \n",
       "1                 NaN                    NaN                             NaN   \n",
       "2                 NaN                    NaN                             NaN   \n",
       "3                 NaN                    NaN                             NaN   \n",
       "4                 NaN                    NaN                             NaN   \n",
       "\n",
       "   revo_installment_payment_ratio_1000_mean_mean  \n",
       "0                                            NaN  \n",
       "1                                            NaN  \n",
       "2                                            NaN  \n",
       "3                                            NaN  \n",
       "4                                            NaN  \n",
       "\n",
       "[5 rows x 108 columns]"
      ]
     },
     "execution_count": 124,
     "metadata": {},
     "output_type": "execute_result"
    }
   ],
   "source": [
    "#num_cols = ['max_credit_day_overdue', 'max_days_credit_enddate', 'min_days_enddate_fact', 'max_amt_credit_max_overdue', 'cnt_credit_prolong_in_6month', 'sum_amt_credit_sum', 'sum_amt_credit_sum_debt', 'sum_amt_credit_sum_limit', 'sum_amt_credit_sum_overdue', 'avg_amt_annuity']\n",
    "\n",
    "data = pd.concat([app_train, app_test], sort=False)\n",
    "train = data[:len(app_train)]\n",
    "test = data[len(app_test):]\n",
    "\n",
    "\n",
    "y_train = train['TARGET']\n",
    "X_train = app_train.copy().drop('TARGET', axis=1)\n",
    "X_test = app_test.copy()\n",
    "\n",
    "# 学習データに基づいてYao-Johnson変換を定義\n",
    "#pt = PowerTransformer(method = 'yeo-johnson')\n",
    "#pt.fit(X_train[num_cols])\n",
    "\n",
    "# 変換後のデータで各列を置換\n",
    "#X_train[num_cols] = pt.transform(X_train[num_cols])\n",
    "#X_test[num_cols] = pt.transform(X_test[num_cols])\n",
    "\n",
    "X_train.head()"
   ]
  },
  {
   "cell_type": "code",
   "execution_count": 125,
   "id": "66221193",
   "metadata": {},
   "outputs": [
    {
     "name": "stdout",
     "output_type": "stream",
     "text": [
      "[21:15:24] WARNING: C:/Users/Administrator/workspace/xgboost-win64_release_1.6.0/src/learner.cc:627: \n",
      "Parameters: { \"colsample_state\", \"silent\", \"subsumple\" } might not be used.\n",
      "\n",
      "  This could be a false alarm, with some parameters getting used by language bindings but\n",
      "  then being mistakenly passed down to XGBoost core, or some parameter actually being used\n",
      "  but getting flagged wrongly here. Please open an issue if you find any such cases.\n",
      "\n",
      "\n",
      "[0]\ttrain-auc:0.72750\teval-auc:0.71240\n",
      "[1]\ttrain-auc:0.74641\teval-auc:0.72782\n",
      "[2]\ttrain-auc:0.75262\teval-auc:0.73197\n",
      "[3]\ttrain-auc:0.75628\teval-auc:0.73286\n",
      "[4]\ttrain-auc:0.75911\teval-auc:0.73456\n",
      "[5]\ttrain-auc:0.76149\teval-auc:0.73573\n",
      "[6]\ttrain-auc:0.76361\teval-auc:0.73697\n",
      "[7]\ttrain-auc:0.76547\teval-auc:0.73740\n",
      "[8]\ttrain-auc:0.76803\teval-auc:0.73868\n",
      "[9]\ttrain-auc:0.76916\teval-auc:0.73909\n",
      "[10]\ttrain-auc:0.77133\teval-auc:0.74067\n",
      "[11]\ttrain-auc:0.77356\teval-auc:0.74166\n",
      "[12]\ttrain-auc:0.77446\teval-auc:0.74189\n",
      "[13]\ttrain-auc:0.77627\teval-auc:0.74261\n",
      "[14]\ttrain-auc:0.77746\teval-auc:0.74287\n",
      "[15]\ttrain-auc:0.77922\teval-auc:0.74385\n",
      "[16]\ttrain-auc:0.78054\teval-auc:0.74433\n",
      "[17]\ttrain-auc:0.78135\teval-auc:0.74475\n",
      "[18]\ttrain-auc:0.78272\teval-auc:0.74557\n",
      "[19]\ttrain-auc:0.78369\teval-auc:0.74553\n",
      "[20]\ttrain-auc:0.78532\teval-auc:0.74585\n",
      "[21]\ttrain-auc:0.78688\teval-auc:0.74640\n",
      "[22]\ttrain-auc:0.78910\teval-auc:0.74752\n",
      "[23]\ttrain-auc:0.79033\teval-auc:0.74775\n",
      "[24]\ttrain-auc:0.79181\teval-auc:0.74845\n",
      "[25]\ttrain-auc:0.79283\teval-auc:0.74855\n",
      "[26]\ttrain-auc:0.79357\teval-auc:0.74891\n",
      "[27]\ttrain-auc:0.79478\teval-auc:0.74945\n",
      "[28]\ttrain-auc:0.79557\teval-auc:0.75032\n",
      "[29]\ttrain-auc:0.79705\teval-auc:0.75065\n",
      "[30]\ttrain-auc:0.79816\teval-auc:0.75127\n",
      "[31]\ttrain-auc:0.79970\teval-auc:0.75213\n",
      "[32]\ttrain-auc:0.80135\teval-auc:0.75285\n",
      "[33]\ttrain-auc:0.80305\teval-auc:0.75345\n",
      "[34]\ttrain-auc:0.80425\teval-auc:0.75405\n",
      "[35]\ttrain-auc:0.80567\teval-auc:0.75434\n",
      "[36]\ttrain-auc:0.80665\teval-auc:0.75480\n",
      "[37]\ttrain-auc:0.80812\teval-auc:0.75506\n",
      "[38]\ttrain-auc:0.80932\teval-auc:0.75576\n",
      "[39]\ttrain-auc:0.81092\teval-auc:0.75644\n",
      "[40]\ttrain-auc:0.81247\teval-auc:0.75693\n",
      "[41]\ttrain-auc:0.81374\teval-auc:0.75753\n",
      "[42]\ttrain-auc:0.81485\teval-auc:0.75779\n",
      "[43]\ttrain-auc:0.81599\teval-auc:0.75820\n",
      "[44]\ttrain-auc:0.81718\teval-auc:0.75839\n",
      "[45]\ttrain-auc:0.81851\teval-auc:0.75874\n",
      "[46]\ttrain-auc:0.81939\teval-auc:0.75881\n",
      "[47]\ttrain-auc:0.82046\teval-auc:0.75883\n",
      "[48]\ttrain-auc:0.82168\teval-auc:0.75913\n",
      "[49]\ttrain-auc:0.82258\teval-auc:0.75958\n",
      "[21:15:28] WARNING: C:/Users/Administrator/workspace/xgboost-win64_release_1.6.0/src/learner.cc:627: \n",
      "Parameters: { \"colsample_state\", \"silent\", \"subsumple\" } might not be used.\n",
      "\n",
      "  This could be a false alarm, with some parameters getting used by language bindings but\n",
      "  then being mistakenly passed down to XGBoost core, or some parameter actually being used\n",
      "  but getting flagged wrongly here. Please open an issue if you find any such cases.\n",
      "\n",
      "\n",
      "[0]\ttrain-auc:0.72343\teval-auc:0.71152\n",
      "[1]\ttrain-auc:0.74383\teval-auc:0.72911\n",
      "[2]\ttrain-auc:0.74905\teval-auc:0.73238\n",
      "[3]\ttrain-auc:0.75319\teval-auc:0.73359\n",
      "[4]\ttrain-auc:0.75585\teval-auc:0.73477\n",
      "[5]\ttrain-auc:0.75891\teval-auc:0.73703\n",
      "[6]\ttrain-auc:0.76120\teval-auc:0.73803\n",
      "[7]\ttrain-auc:0.76309\teval-auc:0.73839\n",
      "[8]\ttrain-auc:0.76633\teval-auc:0.74093\n",
      "[9]\ttrain-auc:0.76772\teval-auc:0.74137\n",
      "[10]\ttrain-auc:0.77075\teval-auc:0.74282\n",
      "[11]\ttrain-auc:0.77342\teval-auc:0.74323\n",
      "[12]\ttrain-auc:0.77495\teval-auc:0.74362\n",
      "[13]\ttrain-auc:0.77694\teval-auc:0.74478\n",
      "[14]\ttrain-auc:0.77778\teval-auc:0.74500\n",
      "[15]\ttrain-auc:0.77910\teval-auc:0.74570\n",
      "[16]\ttrain-auc:0.78022\teval-auc:0.74589\n",
      "[17]\ttrain-auc:0.78143\teval-auc:0.74646\n",
      "[18]\ttrain-auc:0.78287\teval-auc:0.74688\n",
      "[19]\ttrain-auc:0.78402\teval-auc:0.74695\n",
      "[20]\ttrain-auc:0.78594\teval-auc:0.74772\n",
      "[21]\ttrain-auc:0.78737\teval-auc:0.74798\n",
      "[22]\ttrain-auc:0.78911\teval-auc:0.74857\n",
      "[23]\ttrain-auc:0.79018\teval-auc:0.74830\n",
      "[24]\ttrain-auc:0.79144\teval-auc:0.74870\n",
      "[25]\ttrain-auc:0.79239\teval-auc:0.74885\n",
      "[26]\ttrain-auc:0.79408\teval-auc:0.75031\n",
      "[27]\ttrain-auc:0.79537\teval-auc:0.75067\n",
      "[28]\ttrain-auc:0.79673\teval-auc:0.75133\n",
      "[29]\ttrain-auc:0.79770\teval-auc:0.75151\n",
      "[30]\ttrain-auc:0.79933\teval-auc:0.75235\n",
      "[31]\ttrain-auc:0.80018\teval-auc:0.75245\n",
      "[32]\ttrain-auc:0.80177\teval-auc:0.75297\n",
      "[33]\ttrain-auc:0.80317\teval-auc:0.75357\n",
      "[34]\ttrain-auc:0.80461\teval-auc:0.75388\n",
      "[35]\ttrain-auc:0.80584\teval-auc:0.75426\n",
      "[36]\ttrain-auc:0.80713\teval-auc:0.75476\n",
      "[37]\ttrain-auc:0.80846\teval-auc:0.75465\n",
      "[38]\ttrain-auc:0.80979\teval-auc:0.75540\n",
      "[39]\ttrain-auc:0.81133\teval-auc:0.75602\n",
      "[40]\ttrain-auc:0.81284\teval-auc:0.75676\n",
      "[41]\ttrain-auc:0.81411\teval-auc:0.75697\n",
      "[42]\ttrain-auc:0.81515\teval-auc:0.75726\n",
      "[43]\ttrain-auc:0.81652\teval-auc:0.75728\n",
      "[44]\ttrain-auc:0.81738\teval-auc:0.75762\n",
      "[45]\ttrain-auc:0.81870\teval-auc:0.75781\n",
      "[46]\ttrain-auc:0.81980\teval-auc:0.75806\n",
      "[47]\ttrain-auc:0.82089\teval-auc:0.75828\n",
      "[48]\ttrain-auc:0.82193\teval-auc:0.75846\n",
      "[49]\ttrain-auc:0.82304\teval-auc:0.75884\n",
      "[21:15:31] WARNING: C:/Users/Administrator/workspace/xgboost-win64_release_1.6.0/src/learner.cc:627: \n",
      "Parameters: { \"colsample_state\", \"silent\", \"subsumple\" } might not be used.\n",
      "\n",
      "  This could be a false alarm, with some parameters getting used by language bindings but\n",
      "  then being mistakenly passed down to XGBoost core, or some parameter actually being used\n",
      "  but getting flagged wrongly here. Please open an issue if you find any such cases.\n",
      "\n",
      "\n",
      "[0]\ttrain-auc:0.72826\teval-auc:0.70652\n",
      "[1]\ttrain-auc:0.74587\teval-auc:0.72381\n",
      "[2]\ttrain-auc:0.75185\teval-auc:0.72906\n",
      "[3]\ttrain-auc:0.75666\teval-auc:0.73151\n",
      "[4]\ttrain-auc:0.75848\teval-auc:0.73272\n",
      "[5]\ttrain-auc:0.76064\teval-auc:0.73299\n",
      "[6]\ttrain-auc:0.76309\teval-auc:0.73444\n",
      "[7]\ttrain-auc:0.76497\teval-auc:0.73446\n",
      "[8]\ttrain-auc:0.76800\teval-auc:0.73687\n",
      "[9]\ttrain-auc:0.76895\teval-auc:0.73718\n",
      "[10]\ttrain-auc:0.77105\teval-auc:0.73848\n",
      "[11]\ttrain-auc:0.77313\teval-auc:0.74026\n",
      "[12]\ttrain-auc:0.77443\teval-auc:0.74003\n",
      "[13]\ttrain-auc:0.77674\teval-auc:0.74057\n",
      "[14]\ttrain-auc:0.77765\teval-auc:0.74081\n",
      "[15]\ttrain-auc:0.77923\teval-auc:0.74138\n",
      "[16]\ttrain-auc:0.78052\teval-auc:0.74194\n",
      "[17]\ttrain-auc:0.78148\teval-auc:0.74195\n",
      "[18]\ttrain-auc:0.78246\teval-auc:0.74248\n",
      "[19]\ttrain-auc:0.78369\teval-auc:0.74272\n",
      "[20]\ttrain-auc:0.78550\teval-auc:0.74299\n",
      "[21]\ttrain-auc:0.78788\teval-auc:0.74440\n",
      "[22]\ttrain-auc:0.78961\teval-auc:0.74487\n",
      "[23]\ttrain-auc:0.79051\teval-auc:0.74506\n",
      "[24]\ttrain-auc:0.79236\teval-auc:0.74571\n",
      "[25]\ttrain-auc:0.79315\teval-auc:0.74598\n",
      "[26]\ttrain-auc:0.79470\teval-auc:0.74682\n",
      "[27]\ttrain-auc:0.79595\teval-auc:0.74705\n",
      "[28]\ttrain-auc:0.79682\teval-auc:0.74742\n",
      "[29]\ttrain-auc:0.79872\teval-auc:0.74805\n",
      "[30]\ttrain-auc:0.80022\teval-auc:0.74881\n",
      "[31]\ttrain-auc:0.80161\teval-auc:0.74945\n",
      "[32]\ttrain-auc:0.80304\teval-auc:0.74959\n",
      "[33]\ttrain-auc:0.80469\teval-auc:0.75038\n",
      "[34]\ttrain-auc:0.80604\teval-auc:0.75095\n",
      "[35]\ttrain-auc:0.80765\teval-auc:0.75133\n",
      "[36]\ttrain-auc:0.80910\teval-auc:0.75179\n",
      "[37]\ttrain-auc:0.81044\teval-auc:0.75197\n",
      "[38]\ttrain-auc:0.81151\teval-auc:0.75260\n",
      "[39]\ttrain-auc:0.81292\teval-auc:0.75310\n",
      "[40]\ttrain-auc:0.81444\teval-auc:0.75345\n",
      "[41]\ttrain-auc:0.81569\teval-auc:0.75398\n",
      "[42]\ttrain-auc:0.81698\teval-auc:0.75439\n",
      "[43]\ttrain-auc:0.81841\teval-auc:0.75499\n",
      "[44]\ttrain-auc:0.81954\teval-auc:0.75506\n",
      "[45]\ttrain-auc:0.82090\teval-auc:0.75528\n",
      "[46]\ttrain-auc:0.82219\teval-auc:0.75607\n",
      "[47]\ttrain-auc:0.82317\teval-auc:0.75630\n",
      "[48]\ttrain-auc:0.82448\teval-auc:0.75674\n",
      "[49]\ttrain-auc:0.82550\teval-auc:0.75680\n",
      "[21:15:35] WARNING: C:/Users/Administrator/workspace/xgboost-win64_release_1.6.0/src/learner.cc:627: \n",
      "Parameters: { \"colsample_state\", \"silent\", \"subsumple\" } might not be used.\n",
      "\n",
      "  This could be a false alarm, with some parameters getting used by language bindings but\n",
      "  then being mistakenly passed down to XGBoost core, or some parameter actually being used\n",
      "  but getting flagged wrongly here. Please open an issue if you find any such cases.\n",
      "\n",
      "\n",
      "[0]\ttrain-auc:0.72994\teval-auc:0.71376\n",
      "[1]\ttrain-auc:0.74631\teval-auc:0.72645\n",
      "[2]\ttrain-auc:0.75249\teval-auc:0.72981\n",
      "[3]\ttrain-auc:0.75707\teval-auc:0.73274\n",
      "[4]\ttrain-auc:0.75888\teval-auc:0.73412\n",
      "[5]\ttrain-auc:0.76085\teval-auc:0.73525\n",
      "[6]\ttrain-auc:0.76341\teval-auc:0.73633\n",
      "[7]\ttrain-auc:0.76482\teval-auc:0.73637\n",
      "[8]\ttrain-auc:0.76780\teval-auc:0.73728\n",
      "[9]\ttrain-auc:0.76971\teval-auc:0.73763\n",
      "[10]\ttrain-auc:0.77160\teval-auc:0.73874\n",
      "[11]\ttrain-auc:0.77395\teval-auc:0.73970\n"
     ]
    },
    {
     "name": "stdout",
     "output_type": "stream",
     "text": [
      "[12]\ttrain-auc:0.77520\teval-auc:0.73990\n",
      "[13]\ttrain-auc:0.77697\teval-auc:0.74018\n",
      "[14]\ttrain-auc:0.77773\teval-auc:0.74043\n",
      "[15]\ttrain-auc:0.77955\teval-auc:0.74182\n",
      "[16]\ttrain-auc:0.78082\teval-auc:0.74174\n",
      "[17]\ttrain-auc:0.78176\teval-auc:0.74211\n",
      "[18]\ttrain-auc:0.78329\teval-auc:0.74324\n",
      "[19]\ttrain-auc:0.78455\teval-auc:0.74328\n",
      "[20]\ttrain-auc:0.78623\teval-auc:0.74352\n",
      "[21]\ttrain-auc:0.78746\teval-auc:0.74400\n",
      "[22]\ttrain-auc:0.78928\teval-auc:0.74502\n",
      "[23]\ttrain-auc:0.79006\teval-auc:0.74535\n",
      "[24]\ttrain-auc:0.79173\teval-auc:0.74602\n",
      "[25]\ttrain-auc:0.79294\teval-auc:0.74650\n",
      "[26]\ttrain-auc:0.79470\teval-auc:0.74695\n",
      "[27]\ttrain-auc:0.79594\teval-auc:0.74707\n",
      "[28]\ttrain-auc:0.79716\teval-auc:0.74779\n",
      "[29]\ttrain-auc:0.79872\teval-auc:0.74825\n",
      "[30]\ttrain-auc:0.80011\teval-auc:0.74906\n",
      "[31]\ttrain-auc:0.80138\teval-auc:0.74959\n",
      "[32]\ttrain-auc:0.80241\teval-auc:0.74998\n",
      "[33]\ttrain-auc:0.80391\teval-auc:0.75058\n",
      "[34]\ttrain-auc:0.80559\teval-auc:0.75103\n",
      "[35]\ttrain-auc:0.80704\teval-auc:0.75135\n",
      "[36]\ttrain-auc:0.80839\teval-auc:0.75145\n",
      "[37]\ttrain-auc:0.80943\teval-auc:0.75159\n",
      "[38]\ttrain-auc:0.81064\teval-auc:0.75210\n",
      "[39]\ttrain-auc:0.81195\teval-auc:0.75262\n",
      "[40]\ttrain-auc:0.81330\teval-auc:0.75286\n",
      "[41]\ttrain-auc:0.81434\teval-auc:0.75337\n",
      "[42]\ttrain-auc:0.81533\teval-auc:0.75351\n",
      "[43]\ttrain-auc:0.81674\teval-auc:0.75385\n",
      "[44]\ttrain-auc:0.81793\teval-auc:0.75413\n",
      "[45]\ttrain-auc:0.81917\teval-auc:0.75436\n",
      "[46]\ttrain-auc:0.82048\teval-auc:0.75441\n",
      "[47]\ttrain-auc:0.82146\teval-auc:0.75462\n",
      "[48]\ttrain-auc:0.82236\teval-auc:0.75500\n",
      "[49]\ttrain-auc:0.82322\teval-auc:0.75542\n",
      "[21:15:39] WARNING: C:/Users/Administrator/workspace/xgboost-win64_release_1.6.0/src/learner.cc:627: \n",
      "Parameters: { \"colsample_state\", \"silent\", \"subsumple\" } might not be used.\n",
      "\n",
      "  This could be a false alarm, with some parameters getting used by language bindings but\n",
      "  then being mistakenly passed down to XGBoost core, or some parameter actually being used\n",
      "  but getting flagged wrongly here. Please open an issue if you find any such cases.\n",
      "\n",
      "\n",
      "[0]\ttrain-auc:0.72809\teval-auc:0.71231\n",
      "[1]\ttrain-auc:0.74615\teval-auc:0.73026\n",
      "[2]\ttrain-auc:0.75052\teval-auc:0.73394\n",
      "[3]\ttrain-auc:0.75662\teval-auc:0.73620\n",
      "[4]\ttrain-auc:0.75921\teval-auc:0.73834\n",
      "[5]\ttrain-auc:0.76126\teval-auc:0.73920\n",
      "[6]\ttrain-auc:0.76373\teval-auc:0.74049\n",
      "[7]\ttrain-auc:0.76463\teval-auc:0.74020\n",
      "[8]\ttrain-auc:0.76847\teval-auc:0.74150\n",
      "[9]\ttrain-auc:0.77091\teval-auc:0.74218\n",
      "[10]\ttrain-auc:0.77293\teval-auc:0.74331\n",
      "[11]\ttrain-auc:0.77513\teval-auc:0.74423\n",
      "[12]\ttrain-auc:0.77682\teval-auc:0.74386\n",
      "[13]\ttrain-auc:0.77841\teval-auc:0.74389\n",
      "[14]\ttrain-auc:0.77962\teval-auc:0.74469\n",
      "[15]\ttrain-auc:0.78121\teval-auc:0.74466\n",
      "[16]\ttrain-auc:0.78244\teval-auc:0.74461\n",
      "[17]\ttrain-auc:0.78318\teval-auc:0.74480\n",
      "[18]\ttrain-auc:0.78422\teval-auc:0.74561\n",
      "[19]\ttrain-auc:0.78521\teval-auc:0.74597\n",
      "[20]\ttrain-auc:0.78685\teval-auc:0.74615\n",
      "[21]\ttrain-auc:0.78830\teval-auc:0.74653\n",
      "[22]\ttrain-auc:0.78983\teval-auc:0.74714\n",
      "[23]\ttrain-auc:0.79118\teval-auc:0.74710\n",
      "[24]\ttrain-auc:0.79238\teval-auc:0.74780\n",
      "[25]\ttrain-auc:0.79353\teval-auc:0.74852\n",
      "[26]\ttrain-auc:0.79491\teval-auc:0.74916\n",
      "[27]\ttrain-auc:0.79607\teval-auc:0.74963\n",
      "[28]\ttrain-auc:0.79702\teval-auc:0.75019\n",
      "[29]\ttrain-auc:0.79820\teval-auc:0.75036\n",
      "[30]\ttrain-auc:0.79959\teval-auc:0.75102\n",
      "[31]\ttrain-auc:0.80107\teval-auc:0.75165\n",
      "[32]\ttrain-auc:0.80226\teval-auc:0.75161\n",
      "[33]\ttrain-auc:0.80402\teval-auc:0.75218\n",
      "[34]\ttrain-auc:0.80531\teval-auc:0.75248\n",
      "[35]\ttrain-auc:0.80654\teval-auc:0.75273\n",
      "[36]\ttrain-auc:0.80790\teval-auc:0.75314\n",
      "[37]\ttrain-auc:0.80935\teval-auc:0.75334\n",
      "[38]\ttrain-auc:0.81051\teval-auc:0.75398\n",
      "[39]\ttrain-auc:0.81176\teval-auc:0.75449\n",
      "[40]\ttrain-auc:0.81369\teval-auc:0.75523\n",
      "[41]\ttrain-auc:0.81509\teval-auc:0.75563\n",
      "[42]\ttrain-auc:0.81651\teval-auc:0.75567\n",
      "[43]\ttrain-auc:0.81740\teval-auc:0.75585\n",
      "[44]\ttrain-auc:0.81844\teval-auc:0.75602\n",
      "[45]\ttrain-auc:0.81978\teval-auc:0.75643\n",
      "[46]\ttrain-auc:0.82111\teval-auc:0.75679\n",
      "[47]\ttrain-auc:0.82215\teval-auc:0.75694\n",
      "[48]\ttrain-auc:0.82319\teval-auc:0.75729\n",
      "[49]\ttrain-auc:0.82426\teval-auc:0.75754\n"
     ]
    }
   ],
   "source": [
    "import xgboost as xgb\n",
    "from sklearn.metrics import log_loss\n",
    "\n",
    "y_preds = []\n",
    "models = []\n",
    "scores = []\n",
    "oof_train = np.zeros((len(X_train),))\n",
    "cv = KFold(n_splits=5, shuffle=True, random_state=0)\n",
    "\n",
    "categorical_features = columns\n",
    "\n",
    "params = {\n",
    "    'booster': 'gbtree'\n",
    "    ,'objective': 'binary:logistic'\n",
    "    ,'silent': 1\n",
    "    ,'random_state': 17\n",
    "    ,'gpu_id': 0\n",
    "    ,'tree_method': 'gpu_hist'\n",
    "    ,'eval_metric': 'auc'\n",
    "    ,'eta': 0.1\n",
    "    #,'max_round': 100\n",
    "    ,'max_depth': 8\n",
    "    ,'subsample': 0.8\n",
    "    ,'colsample_state': 71\n",
    "    ,'colsample_bytree': 1.0\n",
    "    ,'colsample_bylevel': 0.3\n",
    "    ,'subsumple': 0.9\n",
    "    ,'gamma': 0\n",
    "    ,'lambda': 1\n",
    "    ,'alpha': 0\n",
    "    ,'min_child_weight': 1\n",
    "}\n",
    "\n",
    "num_round = 50\n",
    "\n",
    "for fold_id, (train_index, valid_index) in enumerate(cv.split(X_train)):\n",
    "    X_tr = X_train.loc[train_index, :]\n",
    "    X_val = X_train.loc[valid_index, :]\n",
    "    y_tr = y_train[train_index]\n",
    "    y_val = y_train[valid_index]\n",
    "    \n",
    "    dtrain = xgb.DMatrix(X_tr, label=y_tr)\n",
    "    dvalid = xgb.DMatrix(X_val, label=y_val)\n",
    "    dtest = xgb.DMatrix(X_test)\n",
    "    \n",
    "    watchlist = [(dtrain, 'train'), (dvalid, 'eval')]\n",
    "    model = xgb.train(params, dtrain, num_round, evals=watchlist)\n",
    "    \n",
    "    va_pred = model.predict(dvalid)\n",
    "    score = log_loss(y_val, va_pred)\n",
    "    oof_train[valid_index] = va_pred\n",
    "    \n",
    "    y_pred = model.predict(dtest) \n",
    "    \n",
    "    \n",
    "    #oof_train[valid_index] = model.predict(X_val, num_iteration=model.best_iteration)\n",
    "    #y_pred = model.predict(X_test, num_iteration=model.best_iteration)##\n",
    "\n",
    "    y_preds.append(y_pred)\n",
    "    models.append(model)\n",
    "    scores.append(score)"
   ]
  },
  {
   "cell_type": "code",
   "execution_count": 126,
   "id": "b643ea2e",
   "metadata": {},
   "outputs": [
    {
     "data": {
      "text/plain": [
       "[array([0.06714364, 0.08126487, 0.0293024 , ..., 0.03138511, 0.04522434,\n",
       "        0.1724348 ], dtype=float32),\n",
       " array([0.06065353, 0.07669225, 0.03499817, ..., 0.03714799, 0.0497738 ,\n",
       "        0.16288832], dtype=float32),\n",
       " array([0.06659681, 0.08525851, 0.02455273, ..., 0.03996467, 0.0499388 ,\n",
       "        0.21670449], dtype=float32),\n",
       " array([0.0674085 , 0.09666277, 0.03113229, ..., 0.0241245 , 0.04075591,\n",
       "        0.24600965], dtype=float32),\n",
       " array([0.10495749, 0.06650924, 0.02178716, ..., 0.02698989, 0.04837272,\n",
       "        0.22350253], dtype=float32)]"
      ]
     },
     "execution_count": 126,
     "metadata": {},
     "output_type": "execute_result"
    }
   ],
   "source": [
    "y_preds"
   ]
  },
  {
   "cell_type": "code",
   "execution_count": 127,
   "id": "08edb8ce",
   "metadata": {},
   "outputs": [
    {
     "data": {
      "text/plain": [
       "[0.2429913565769325,\n",
       " 0.24670370136083908,\n",
       " 0.24736884654747965,\n",
       " 0.24849656667247608,\n",
       " 0.24858890341520373]"
      ]
     },
     "execution_count": 127,
     "metadata": {},
     "output_type": "execute_result"
    }
   ],
   "source": [
    "scores"
   ]
  },
  {
   "cell_type": "code",
   "execution_count": 128,
   "id": "79740c4a",
   "metadata": {},
   "outputs": [],
   "source": [
    "# CSV-00\n",
    "submit_all = app_test[[\"SK_ID_CURR\"]].copy()\n",
    "# 予測確率の変数名はTARGET\n",
    "submit_all[\"TARGET\"] = y_preds[0]\n",
    "submit_all.isnull().sum()\n",
    "\n",
    "# Submit File\n",
    "submit_all.to_csv(\n",
    "    path_or_buf=\"./home-credit-default-risk/submit/submit_all_00.csv\", # 出力先\n",
    "    sep=\",\",                                            # 区切り文字\n",
    "    index=False,                                        # indexの出力有無\n",
    "    header=True                                        # headerの出力有無\n",
    ")"
   ]
  },
  {
   "cell_type": "code",
   "execution_count": 129,
   "id": "19caf64d",
   "metadata": {},
   "outputs": [],
   "source": [
    "# CSV-01\n",
    "submit_all = app_test[[\"SK_ID_CURR\"]].copy()\n",
    "# 予測確率の変数名はTARGET\n",
    "submit_all[\"TARGET\"] = y_preds[1]\n",
    "\n",
    "# Submit File\n",
    "submit_all.to_csv(\n",
    "    path_or_buf=\"./home-credit-default-risk/submit/submit_all_01.csv\", # 出力先\n",
    "    sep=\",\",                                            # 区切り文字\n",
    "    index=False,                                        # indexの出力有無\n",
    "    header=True                                        # headerの出力有無\n",
    ")"
   ]
  },
  {
   "cell_type": "code",
   "execution_count": 130,
   "id": "20f6cd80",
   "metadata": {},
   "outputs": [],
   "source": [
    "# CSV-02\n",
    "submit_all = app_test[[\"SK_ID_CURR\"]].copy()\n",
    "# 予測確率の変数名はTARGET\n",
    "submit_all[\"TARGET\"] = y_preds[2]\n",
    "\n",
    "# Submit File\n",
    "submit_all.to_csv(\n",
    "    path_or_buf=\"./home-credit-default-risk/submit/submit_all_02.csv\", # 出力先\n",
    "    sep=\",\",                                            # 区切り文字\n",
    "    index=False,                                        # indexの出力有無\n",
    "    header=True                                        # headerの出力有無\n",
    ")"
   ]
  },
  {
   "cell_type": "code",
   "execution_count": 131,
   "id": "935101ec",
   "metadata": {},
   "outputs": [],
   "source": [
    "# CSV-03\n",
    "submit_all = app_test[[\"SK_ID_CURR\"]].copy()\n",
    "# 予測確率の変数名はTARGET\n",
    "submit_all[\"TARGET\"] = y_preds[3]\n",
    "\n",
    "# Submit File\n",
    "submit_all.to_csv(\n",
    "    path_or_buf=\"./home-credit-default-risk/submit/submit_all_03.csv\", # 出力先\n",
    "    sep=\",\",                                            # 区切り文字\n",
    "    index=False,                                        # indexの出力有無\n",
    "    header=True                                        # headerの出力有無\n",
    ")"
   ]
  },
  {
   "cell_type": "code",
   "execution_count": 132,
   "id": "84a44c4f",
   "metadata": {},
   "outputs": [],
   "source": [
    "# CSV-04\n",
    "submit_all = app_test[[\"SK_ID_CURR\"]].copy()\n",
    "# 予測確率の変数名はTARGET\n",
    "submit_all[\"TARGET\"] = y_preds[4]\n",
    "\n",
    "# Submit File\n",
    "submit_all.to_csv(\n",
    "    path_or_buf=\"./home-credit-default-risk/submit/submit_all_04.csv\", # 出力先\n",
    "    sep=\",\",                                            # 区切り文字\n",
    "    index=False,                                        # indexの出力有無\n",
    "    header=True                                        # headerの出力有無\n",
    ")"
   ]
  },
  {
   "cell_type": "code",
   "execution_count": 133,
   "id": "f3de8b93",
   "metadata": {},
   "outputs": [],
   "source": [
    "submit_all_00 = pd.read_csv('./home-credit-default-risk/submit/submit_all_00.csv')\n",
    "submit_all_01 = pd.read_csv('./home-credit-default-risk/submit/submit_all_01.csv')\n",
    "submit_all_02 = pd.read_csv('./home-credit-default-risk/submit/submit_all_02.csv')\n",
    "submit_all_03 = pd.read_csv('./home-credit-default-risk/submit/submit_all_03.csv')\n",
    "submit_all_04 = pd.read_csv('./home-credit-default-risk/submit/submit_all_04.csv')"
   ]
  },
  {
   "cell_type": "code",
   "execution_count": 134,
   "id": "9dac1432",
   "metadata": {},
   "outputs": [
    {
     "data": {
      "text/html": [
       "<div>\n",
       "<style scoped>\n",
       "    .dataframe tbody tr th:only-of-type {\n",
       "        vertical-align: middle;\n",
       "    }\n",
       "\n",
       "    .dataframe tbody tr th {\n",
       "        vertical-align: top;\n",
       "    }\n",
       "\n",
       "    .dataframe thead th {\n",
       "        text-align: right;\n",
       "    }\n",
       "</style>\n",
       "<table border=\"1\" class=\"dataframe\">\n",
       "  <thead>\n",
       "    <tr style=\"text-align: right;\">\n",
       "      <th></th>\n",
       "      <th>submit_all_00</th>\n",
       "      <th>submit_all_01</th>\n",
       "      <th>submit_all_02</th>\n",
       "      <th>submit_all_03</th>\n",
       "      <th>submit_all_04</th>\n",
       "    </tr>\n",
       "  </thead>\n",
       "  <tbody>\n",
       "    <tr>\n",
       "      <th>0</th>\n",
       "      <td>0.067144</td>\n",
       "      <td>0.060654</td>\n",
       "      <td>0.066597</td>\n",
       "      <td>0.067408</td>\n",
       "      <td>0.104957</td>\n",
       "    </tr>\n",
       "    <tr>\n",
       "      <th>1</th>\n",
       "      <td>0.081265</td>\n",
       "      <td>0.076692</td>\n",
       "      <td>0.085259</td>\n",
       "      <td>0.096663</td>\n",
       "      <td>0.066509</td>\n",
       "    </tr>\n",
       "    <tr>\n",
       "      <th>2</th>\n",
       "      <td>0.029302</td>\n",
       "      <td>0.034998</td>\n",
       "      <td>0.024553</td>\n",
       "      <td>0.031132</td>\n",
       "      <td>0.021787</td>\n",
       "    </tr>\n",
       "    <tr>\n",
       "      <th>3</th>\n",
       "      <td>0.068822</td>\n",
       "      <td>0.036899</td>\n",
       "      <td>0.054928</td>\n",
       "      <td>0.053444</td>\n",
       "      <td>0.057522</td>\n",
       "    </tr>\n",
       "    <tr>\n",
       "      <th>4</th>\n",
       "      <td>0.146736</td>\n",
       "      <td>0.159621</td>\n",
       "      <td>0.132797</td>\n",
       "      <td>0.143546</td>\n",
       "      <td>0.163514</td>\n",
       "    </tr>\n",
       "  </tbody>\n",
       "</table>\n",
       "</div>"
      ],
      "text/plain": [
       "   submit_all_00  submit_all_01  submit_all_02  submit_all_03  submit_all_04\n",
       "0       0.067144       0.060654       0.066597       0.067408       0.104957\n",
       "1       0.081265       0.076692       0.085259       0.096663       0.066509\n",
       "2       0.029302       0.034998       0.024553       0.031132       0.021787\n",
       "3       0.068822       0.036899       0.054928       0.053444       0.057522\n",
       "4       0.146736       0.159621       0.132797       0.143546       0.163514"
      ]
     },
     "execution_count": 134,
     "metadata": {},
     "output_type": "execute_result"
    }
   ],
   "source": [
    "submit_all = pd.DataFrame({\n",
    "    'submit_all_00': submit_all_00['TARGET'].values\n",
    "    ,'submit_all_01': submit_all_01['TARGET'].values\n",
    "    ,'submit_all_02': submit_all_02['TARGET'].values\n",
    "    ,'submit_all_03': submit_all_03['TARGET'].values\n",
    "    ,'submit_all_04': submit_all_04['TARGET'].values\n",
    "    })\n",
    "submit_all.head()"
   ]
  },
  {
   "cell_type": "code",
   "execution_count": 135,
   "id": "56fd23aa",
   "metadata": {},
   "outputs": [
    {
     "data": {
      "text/html": [
       "<div>\n",
       "<style scoped>\n",
       "    .dataframe tbody tr th:only-of-type {\n",
       "        vertical-align: middle;\n",
       "    }\n",
       "\n",
       "    .dataframe tbody tr th {\n",
       "        vertical-align: top;\n",
       "    }\n",
       "\n",
       "    .dataframe thead th {\n",
       "        text-align: right;\n",
       "    }\n",
       "</style>\n",
       "<table border=\"1\" class=\"dataframe\">\n",
       "  <thead>\n",
       "    <tr style=\"text-align: right;\">\n",
       "      <th></th>\n",
       "      <th>submit_all_00</th>\n",
       "      <th>submit_all_01</th>\n",
       "      <th>submit_all_02</th>\n",
       "      <th>submit_all_03</th>\n",
       "      <th>submit_all_04</th>\n",
       "    </tr>\n",
       "  </thead>\n",
       "  <tbody>\n",
       "    <tr>\n",
       "      <th>submit_all_00</th>\n",
       "      <td>1.000000</td>\n",
       "      <td>0.928248</td>\n",
       "      <td>0.932467</td>\n",
       "      <td>0.931929</td>\n",
       "      <td>0.928299</td>\n",
       "    </tr>\n",
       "    <tr>\n",
       "      <th>submit_all_01</th>\n",
       "      <td>0.928248</td>\n",
       "      <td>1.000000</td>\n",
       "      <td>0.927672</td>\n",
       "      <td>0.928885</td>\n",
       "      <td>0.927396</td>\n",
       "    </tr>\n",
       "    <tr>\n",
       "      <th>submit_all_02</th>\n",
       "      <td>0.932467</td>\n",
       "      <td>0.927672</td>\n",
       "      <td>1.000000</td>\n",
       "      <td>0.931508</td>\n",
       "      <td>0.928835</td>\n",
       "    </tr>\n",
       "    <tr>\n",
       "      <th>submit_all_03</th>\n",
       "      <td>0.931929</td>\n",
       "      <td>0.928885</td>\n",
       "      <td>0.931508</td>\n",
       "      <td>1.000000</td>\n",
       "      <td>0.930091</td>\n",
       "    </tr>\n",
       "    <tr>\n",
       "      <th>submit_all_04</th>\n",
       "      <td>0.928299</td>\n",
       "      <td>0.927396</td>\n",
       "      <td>0.928835</td>\n",
       "      <td>0.930091</td>\n",
       "      <td>1.000000</td>\n",
       "    </tr>\n",
       "  </tbody>\n",
       "</table>\n",
       "</div>"
      ],
      "text/plain": [
       "               submit_all_00  submit_all_01  submit_all_02  submit_all_03  \\\n",
       "submit_all_00       1.000000       0.928248       0.932467       0.931929   \n",
       "submit_all_01       0.928248       1.000000       0.927672       0.928885   \n",
       "submit_all_02       0.932467       0.927672       1.000000       0.931508   \n",
       "submit_all_03       0.931929       0.928885       0.931508       1.000000   \n",
       "submit_all_04       0.928299       0.927396       0.928835       0.930091   \n",
       "\n",
       "               submit_all_04  \n",
       "submit_all_00       0.928299  \n",
       "submit_all_01       0.927396  \n",
       "submit_all_02       0.928835  \n",
       "submit_all_03       0.930091  \n",
       "submit_all_04       1.000000  "
      ]
     },
     "execution_count": 135,
     "metadata": {},
     "output_type": "execute_result"
    }
   ],
   "source": [
    "submit_all.corr()"
   ]
  },
  {
   "cell_type": "code",
   "execution_count": 136,
   "id": "889b1e4d",
   "metadata": {},
   "outputs": [
    {
     "data": {
      "text/html": [
       "<div>\n",
       "<style scoped>\n",
       "    .dataframe tbody tr th:only-of-type {\n",
       "        vertical-align: middle;\n",
       "    }\n",
       "\n",
       "    .dataframe tbody tr th {\n",
       "        vertical-align: top;\n",
       "    }\n",
       "\n",
       "    .dataframe thead th {\n",
       "        text-align: right;\n",
       "    }\n",
       "</style>\n",
       "<table border=\"1\" class=\"dataframe\">\n",
       "  <thead>\n",
       "    <tr style=\"text-align: right;\">\n",
       "      <th></th>\n",
       "      <th>SK_ID_CURR</th>\n",
       "      <th>TARGET</th>\n",
       "    </tr>\n",
       "  </thead>\n",
       "  <tbody>\n",
       "    <tr>\n",
       "      <th>0</th>\n",
       "      <td>100001</td>\n",
       "      <td>0.073352</td>\n",
       "    </tr>\n",
       "    <tr>\n",
       "      <th>1</th>\n",
       "      <td>100005</td>\n",
       "      <td>0.081278</td>\n",
       "    </tr>\n",
       "    <tr>\n",
       "      <th>2</th>\n",
       "      <td>100013</td>\n",
       "      <td>0.028355</td>\n",
       "    </tr>\n",
       "    <tr>\n",
       "      <th>3</th>\n",
       "      <td>100028</td>\n",
       "      <td>0.054323</td>\n",
       "    </tr>\n",
       "    <tr>\n",
       "      <th>4</th>\n",
       "      <td>100038</td>\n",
       "      <td>0.149243</td>\n",
       "    </tr>\n",
       "  </tbody>\n",
       "</table>\n",
       "</div>"
      ],
      "text/plain": [
       "   SK_ID_CURR    TARGET\n",
       "0      100001  0.073352\n",
       "1      100005  0.081278\n",
       "2      100013  0.028355\n",
       "3      100028  0.054323\n",
       "4      100038  0.149243"
      ]
     },
     "execution_count": 136,
     "metadata": {},
     "output_type": "execute_result"
    }
   ],
   "source": [
    "submit_all = app_test[[\"SK_ID_CURR\"]].copy()\n",
    "submit_all['TARGET'] = (submit_all_00['TARGET'] + submit_all_01['TARGET'] + submit_all_02['TARGET'] + submit_all_03['TARGET'] + submit_all_04['TARGET'])/5\n",
    "submit_all.head()"
   ]
  },
  {
   "cell_type": "code",
   "execution_count": 137,
   "id": "a68a3285",
   "metadata": {},
   "outputs": [
    {
     "data": {
      "text/html": [
       "<div>\n",
       "<style scoped>\n",
       "    .dataframe tbody tr th:only-of-type {\n",
       "        vertical-align: middle;\n",
       "    }\n",
       "\n",
       "    .dataframe tbody tr th {\n",
       "        vertical-align: top;\n",
       "    }\n",
       "\n",
       "    .dataframe thead th {\n",
       "        text-align: right;\n",
       "    }\n",
       "</style>\n",
       "<table border=\"1\" class=\"dataframe\">\n",
       "  <thead>\n",
       "    <tr style=\"text-align: right;\">\n",
       "      <th></th>\n",
       "      <th>SK_ID_CURR</th>\n",
       "      <th>TARGET</th>\n",
       "    </tr>\n",
       "  </thead>\n",
       "  <tbody>\n",
       "    <tr>\n",
       "      <th>0</th>\n",
       "      <td>100001</td>\n",
       "      <td>0.014670</td>\n",
       "    </tr>\n",
       "    <tr>\n",
       "      <th>1</th>\n",
       "      <td>100005</td>\n",
       "      <td>0.016256</td>\n",
       "    </tr>\n",
       "    <tr>\n",
       "      <th>2</th>\n",
       "      <td>100013</td>\n",
       "      <td>0.005671</td>\n",
       "    </tr>\n",
       "    <tr>\n",
       "      <th>3</th>\n",
       "      <td>100028</td>\n",
       "      <td>0.010865</td>\n",
       "    </tr>\n",
       "    <tr>\n",
       "      <th>4</th>\n",
       "      <td>100038</td>\n",
       "      <td>0.029849</td>\n",
       "    </tr>\n",
       "  </tbody>\n",
       "</table>\n",
       "</div>"
      ],
      "text/plain": [
       "   SK_ID_CURR    TARGET\n",
       "0      100001  0.014670\n",
       "1      100005  0.016256\n",
       "2      100013  0.005671\n",
       "3      100028  0.010865\n",
       "4      100038  0.029849"
      ]
     },
     "execution_count": 137,
     "metadata": {},
     "output_type": "execute_result"
    }
   ],
   "source": [
    "submit_all['TARGET'] = (submit_all['TARGET'] / 5)\n",
    "submit_all.to_csv('./home-credit-default-risk/submit/submit_hc_only_revo_test.csv', index=False)\n",
    "submit_all.head()"
   ]
  },
  {
   "cell_type": "code",
   "execution_count": 138,
   "id": "650c4b41",
   "metadata": {},
   "outputs": [
    {
     "data": {
      "text/plain": [
       "SK_ID_CURR    48744\n",
       "TARGET        48744\n",
       "dtype: int64"
      ]
     },
     "execution_count": 138,
     "metadata": {},
     "output_type": "execute_result"
    }
   ],
   "source": [
    "submit_all.count()"
   ]
  },
  {
   "cell_type": "code",
   "execution_count": null,
   "id": "d8b0d4ce",
   "metadata": {},
   "outputs": [],
   "source": []
  }
 ],
 "metadata": {
  "kernelspec": {
   "display_name": "Python 3 (ipykernel)",
   "language": "python",
   "name": "python3"
  },
  "language_info": {
   "codemirror_mode": {
    "name": "ipython",
    "version": 3
   },
   "file_extension": ".py",
   "mimetype": "text/x-python",
   "name": "python",
   "nbconvert_exporter": "python",
   "pygments_lexer": "ipython3",
   "version": "3.9.7"
  }
 },
 "nbformat": 4,
 "nbformat_minor": 5
}
