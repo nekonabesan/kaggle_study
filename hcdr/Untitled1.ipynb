{
 "cells": [
  {
   "cell_type": "code",
   "execution_count": null,
   "id": "ad5db578",
   "metadata": {},
   "outputs": [],
   "source": [
    "import cupy as cp\n",
    "import numpy as np\n",
    "import pandas as pd\n",
    "import lightgbm as lgb\n",
    "import matplotlib.pyplot as plt\n",
    "import seaborn as sns\n",
    "import tensorflow as tf\n",
    "import scipy.stats as st\n",
    "import pickle\n",
    "import optuna\n",
    "import re\n",
    "import gc\n",
    "\n",
    "from lightgbm import LGBMClassifier\n",
    "\n",
    "from sklearn import metrics\n",
    "from sklearn.tree import plot_tree\n",
    "from sklearn.tree import DecisionTreeClassifier, export_graphviz\n",
    "from sklearn.impute import SimpleImputer\n",
    "from sklearn_pandas import DataFrameMapper\n",
    "from sklearn.metrics import accuracy_score\n",
    "from sklearn.metrics import roc_auc_score\n",
    "from sklearn.metrics import log_loss\n",
    "from sklearn.metrics import mean_squared_log_error\n",
    "from sklearn.ensemble import RandomForestRegressor\n",
    "from sklearn.model_selection import KFold\n",
    "from sklearn.model_selection import train_test_split\n",
    "from sklearn.preprocessing import LabelEncoder\n",
    "from sklearn.preprocessing import StandardScaler\n",
    "from sklearn.preprocessing import PowerTransformer\n",
    "from sklearn.preprocessing import LabelEncoder\n",
    "from sklearn.preprocessing import MinMaxScaler\n",
    "from sklearn.preprocessing import OneHotEncoder, LabelEncoder\n",
    "from sklearn.experimental import enable_iterative_imputer\n",
    "from sklearn.metrics import roc_auc_score\n",
    "from sklearn.datasets import make_moons\n",
    "from sklearn.model_selection import StratifiedKFold\n",
    "from sklearn.feature_selection import mutual_info_classif\n",
    "from sklearn.experimental import enable_iterative_imputer\n",
    "\n",
    "from keras.layers import Dense, Dropout\n",
    "from keras.models import Sequential\n",
    "\n",
    "from six import StringIO\n",
    "\n",
    "from IPython.display import Image\n",
    "import matplotlib.pyplot as plt\n",
    "import seaborn as sns\n",
    "\n",
    "import statsmodels.api as sm\n",
    "import math\n",
    "from scipy import stats\n",
    "import numpy as np\n",
    "import pandas as pd\n",
    "import tensorflow as tf\n",
    "\n",
    "from datetime import datetime\n",
    "from tensorflow import feature_column\n",
    "from tensorflow.keras import layers\n",
    "\n",
    "from tqdm import tqdm\n",
    "\n",
    "# sklearn preprocessing for dealing with categorical variables\n",
    "from sklearn.preprocessing import LabelEncoder\n",
    "\n",
    "# File system manangement\n",
    "import os\n",
    "\n",
    "# Suppress warnings \n",
    "import warnings\n",
    "warnings.filterwarnings('ignore')\n",
    "\n",
    "import xgboost as xgb\n",
    "from sklearn.metrics import log_loss\n",
    "from xgboost.sklearn import XGBClassifier\n",
    "\n",
    "from Modules import Modules\n",
    "from Baseline import Baseline\n",
    "from FeatureEngineering2 import FeatureEngineering2\n",
    "\n",
    "\n",
    "%matplotlib inline\n",
    "\n",
    "print(\"OK\\n\")"
   ]
  },
  {
   "cell_type": "code",
   "execution_count": null,
   "id": "c4c8f520",
   "metadata": {},
   "outputs": [],
   "source": [
    "\"\"\"\n",
    "params_base = {\n",
    "    'boosting_type': 'gbdt'\n",
    "    ,'objective': 'binary'\n",
    "    ,'metric': 'auc'\n",
    "    ,'nthread': -1\n",
    "    ,'n_estimators': 5000\n",
    "    ,'learning_rate': 0.01\n",
    "    ,'max_depth': 11\n",
    "    ,'colsample_bytree': 0.613\n",
    "    ,'subsample': 0.708\n",
    "    ,'max_bin': 407\n",
    "    ,'reg_alpha': 3.564\n",
    "    ,'reg_lambda': 4.930\n",
    "    ,'min_child_samples': 165\n",
    "    ,'silent': -1\n",
    "    ,'verbose': -1\n",
    "    ,'importance_type': 'gain'\n",
    "}\n",
    "\"\"\"\n",
    "params_base = {\n",
    "    'boosting_type': 'gbdt'\n",
    "    ,'objective': 'binary'\n",
    "    ,'metric': 'auc'\n",
    "    ,'learning_rate': 0.02\n",
    "    ,'max_bin':400\n",
    "    ,'max_depth': -1\n",
    "    ,'num_leaves': 30\n",
    "    ,'min_child_samples': 70\n",
    "    ,'subsample': 1.0\n",
    "    ,'subsample_freq': 1\n",
    "    ,'colsample_bytree': 0.05\n",
    "    ,'min_split_gain': 0.5\n",
    "    ,'reg_alpha': 0.0\n",
    "    ,'reg_lambda': 100\n",
    "    ,'n_estimators': 10000\n",
    "}\n",
    "\n",
    "\n",
    "\n",
    "\n",
    "def objective(trial):\n",
    "    # 探索するパラメータ\n",
    "    param_tuning = {\n",
    "            \"num_leaves\": trial.suggest_int(\"num_leaves\", 8, 256)\n",
    "            ,\"min_child_samples\": trial.suggest_int(\"min_child_samples\", 5, 200)\n",
    "            ,\"min_sum_hessian_in_leaf\": trial.suggest_float(\"min_sum_hessian_in_leaf\", 1e-5, 1e-2, log=True)\n",
    "            ,\"feature_fraction\": trial.suggest_float(\"feature_fraction\", 0.5, 1.0)\n",
    "            ,\"bagging_fraction\": trial.suggest_float(\"bagging_fraction\", 0.5, 1.0)\n",
    "            ,\"lambda_l1\": trial.suggest_float(\"lambda_l1\", 1e-2, 1e+2, log=True)\n",
    "            ,\"lambda_l2\": trial.suggest_float(\"lambda_l2\", 1e-2, 1e+2, log=True)\n",
    "    }\n",
    "    param_tuning.update(params_base)\n",
    "\n",
    "    # モデル学習・評価:\n",
    "    list_metrics = []\n",
    "    cv = list(StratifiedKFold(n_splits=5, shuffle=True, random_state=123).split(x_train, y_train))\n",
    "    list_fold = [0]\n",
    "    for nfold in list_fold:\n",
    "        idx_tr, idx_va = cv[nfold][0], cv[nfold][1]\n",
    "        x_tr, y_tr = x_train.loc[idx_tr, :], y_train[idx_tr]\n",
    "        x_va, y_va = x_train.loc[idx_va, :], y_train[idx_va]\n",
    "        model = lgb.LGBMClassifier(**params)\n",
    "        model.fit(x_tr\n",
    "                    ,y_tr\n",
    "                    ,eval_set=[(x_tr, y_tr), (x_va, y_va)]\n",
    "                    ,early_stopping_rounds=1000\n",
    "                    ,verbose=0\n",
    "        )\n",
    "        y_va_pred = model.predict_proba(x_va)[:,1]\n",
    "        metric_va = roc_auc_score(y_va, y_va_pred)\n",
    "        list_metrics.append(metric_va)\n",
    "\n",
    "    # 評価指数の算出\n",
    "    metrics = np.mean(list_metrics)\n",
    "\n",
    "    return metrics"
   ]
  },
  {
   "cell_type": "code",
   "execution_count": null,
   "id": "4adaddca",
   "metadata": {},
   "outputs": [],
   "source": [
    "baseline = Baseline('SK_ID_CURR')\n",
    "modules = Modules('SK_ID_CURR')\n",
    "FeatureEngineering2 = FeatureEngineering2('SK_ID_CURR')"
   ]
  },
  {
   "cell_type": "code",
   "execution_count": null,
   "id": "f7b02764",
   "metadata": {},
   "outputs": [],
   "source": [
    "### application\n",
    "df = FeatureEngineering2.application()\n",
    "df.head()"
   ]
  },
  {
   "cell_type": "code",
   "execution_count": null,
   "id": "1ef849b5",
   "metadata": {},
   "outputs": [],
   "source": [
    "### bureau_balance\n",
    "df = df.merge(FeatureEngineering2.bureau_bb(), how='left', on='SK_ID_CURR')\n",
    "df.head()"
   ]
  },
  {
   "cell_type": "code",
   "execution_count": null,
   "id": "b633c411",
   "metadata": {},
   "outputs": [],
   "source": [
    "### previos_application\n",
    "df = df.merge(FeatureEngineering2.previous_application(), how='left', on='SK_ID_CURR')\n",
    "df.head()"
   ]
  },
  {
   "cell_type": "code",
   "execution_count": null,
   "id": "8444689d",
   "metadata": {},
   "outputs": [],
   "source": [
    "### pos_cash\n",
    "df = df.merge(FeatureEngineering2.pos_cash(), how='left', on='SK_ID_CURR')\n",
    "df.head()"
   ]
  },
  {
   "cell_type": "code",
   "execution_count": null,
   "id": "f4c0b5b7",
   "metadata": {},
   "outputs": [],
   "source": [
    "### instllment_payment\n",
    "df = df.merge(FeatureEngineering2.installment(), how='left', on='SK_ID_CURR')\n",
    "df.head()"
   ]
  },
  {
   "cell_type": "code",
   "execution_count": null,
   "id": "feb3a949",
   "metadata": {},
   "outputs": [],
   "source": [
    "### credit_card_balance\n",
    "df = df.merge(FeatureEngineering2.credit_card(), how='left', on='SK_ID_CURR')\n",
    "df.head()"
   ]
  },
  {
   "cell_type": "code",
   "execution_count": null,
   "id": "db108224",
   "metadata": {},
   "outputs": [],
   "source": [
    "### 変数選択\n",
    "df = FeatureEngineering2.data_post_processing(df)\n",
    "print('='*50, '\\n')\n",
    "print('---=> df final shape:', df.shape, ' <=---', '\\n')\n",
    "print('=' * 50)\n",
    "df.head()"
   ]
  },
  {
   "cell_type": "code",
   "execution_count": null,
   "id": "4b00056b",
   "metadata": {},
   "outputs": [],
   "source": [
    "df = df.rename(columns = lambda x:re.sub('[^A-Za-z0-9_]+', '', x))\n",
    "df.head()"
   ]
  },
  {
   "cell_type": "code",
   "execution_count": null,
   "id": "7ef7754a",
   "metadata": {},
   "outputs": [],
   "source": [
    "# split train, and test datasets\n",
    "app_train = df[df['TARGET'].notnull()]\n",
    "app_test = df[df['TARGET'].isnull()]\n",
    "\n",
    "print(app_test.shape)\n",
    "app_test.head()"
   ]
  },
  {
   "cell_type": "code",
   "execution_count": null,
   "id": "12f0c8fb",
   "metadata": {},
   "outputs": [],
   "source": []
  },
  {
   "cell_type": "code",
   "execution_count": null,
   "id": "280dee69",
   "metadata": {},
   "outputs": [],
   "source": []
  },
  {
   "cell_type": "code",
   "execution_count": null,
   "id": "e860b3d7",
   "metadata": {},
   "outputs": [],
   "source": []
  },
  {
   "cell_type": "code",
   "execution_count": null,
   "id": "3de3b4d4",
   "metadata": {},
   "outputs": [],
   "source": []
  },
  {
   "cell_type": "code",
   "execution_count": null,
   "id": "c1fd03cf",
   "metadata": {},
   "outputs": [],
   "source": []
  },
  {
   "cell_type": "code",
   "execution_count": null,
   "id": "024fb93d",
   "metadata": {},
   "outputs": [],
   "source": []
  },
  {
   "cell_type": "code",
   "execution_count": null,
   "id": "a8618bcd",
   "metadata": {},
   "outputs": [],
   "source": []
  },
  {
   "cell_type": "code",
   "execution_count": null,
   "id": "99a8c72b",
   "metadata": {},
   "outputs": [],
   "source": []
  },
  {
   "cell_type": "code",
   "execution_count": null,
   "id": "5097f6d8",
   "metadata": {},
   "outputs": [],
   "source": []
  },
  {
   "cell_type": "code",
   "execution_count": null,
   "id": "53921a99",
   "metadata": {},
   "outputs": [],
   "source": []
  },
  {
   "cell_type": "code",
   "execution_count": null,
   "id": "d4444f14",
   "metadata": {},
   "outputs": [],
   "source": []
  },
  {
   "cell_type": "code",
   "execution_count": null,
   "id": "ba5dcc03",
   "metadata": {},
   "outputs": [],
   "source": []
  },
  {
   "cell_type": "code",
   "execution_count": null,
   "id": "32a4fcdf",
   "metadata": {},
   "outputs": [],
   "source": []
  },
  {
   "cell_type": "code",
   "execution_count": null,
   "id": "b5d09d54",
   "metadata": {},
   "outputs": [],
   "source": []
  }
 ],
 "metadata": {
  "kernelspec": {
   "display_name": "Python 3 (ipykernel)",
   "language": "python",
   "name": "python3"
  },
  "language_info": {
   "codemirror_mode": {
    "name": "ipython",
    "version": 3
   },
   "file_extension": ".py",
   "mimetype": "text/x-python",
   "name": "python",
   "nbconvert_exporter": "python",
   "pygments_lexer": "ipython3",
   "version": "3.9.7"
  }
 },
 "nbformat": 4,
 "nbformat_minor": 5
}
