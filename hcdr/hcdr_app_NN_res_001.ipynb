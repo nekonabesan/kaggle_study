{
 "cells": [
  {
   "cell_type": "code",
   "execution_count": null,
   "id": "23122f78",
   "metadata": {},
   "outputs": [],
   "source": [
    "#from google.colab import drive\n",
    "#drive.mount('/content/drive')"
   ]
  },
  {
   "cell_type": "code",
   "execution_count": null,
   "id": "d71d3d7f",
   "metadata": {},
   "outputs": [],
   "source": [
    "#%cd /content/drive/MyDrive/"
   ]
  },
  {
   "cell_type": "code",
   "execution_count": 3,
   "id": "ce253f43",
   "metadata": {},
   "outputs": [
    {
     "name": "stdout",
     "output_type": "stream",
     "text": [
      "OK\n",
      "\n"
     ]
    }
   ],
   "source": [
    "import pandas as pd\n",
    "#import pandas_profiling\n",
    "import numpy as np\n",
    "import cupy as cp\n",
    "from sklearn.model_selection import train_test_split\n",
    "import lightgbm as lgb\n",
    "from lightgbm import LGBMClassifier\n",
    "import matplotlib.pyplot as plt\n",
    "import seaborn as sns\n",
    "from sklearn.model_selection import KFold\n",
    "from sklearn import metrics\n",
    "from sklearn.metrics import accuracy_score\n",
    "from sklearn.metrics import log_loss\n",
    "from sklearn.model_selection import train_test_split\n",
    "from sklearn.preprocessing import LabelEncoder\n",
    "from sklearn.preprocessing import StandardScaler\n",
    "from sklearn.preprocessing import PowerTransformer\n",
    "from sklearn.tree import DecisionTreeClassifier, export_graphviz\n",
    "from sklearn.metrics import roc_auc_score\n",
    "from sklearn.tree import plot_tree\n",
    "from sklearn.datasets import make_moons\n",
    "\n",
    "from keras.layers import Dense, Dropout\n",
    "from keras.models import Sequential\n",
    "\n",
    "from six import StringIO\n",
    "\n",
    "from IPython.display import Image\n",
    "import matplotlib.pyplot as plt\n",
    "import seaborn as sns\n",
    "\n",
    "import statsmodels.api as sm\n",
    "import math\n",
    "from scipy import stats\n",
    "import numpy as np\n",
    "#import optuna.integration.lightgbm as lgb\n",
    "import pandas as pd\n",
    "import tensorflow as tf\n",
    "\n",
    "from datetime import datetime\n",
    "from tensorflow import feature_column\n",
    "from tensorflow.keras import layers\n",
    "\n",
    "\n",
    "# sklearn preprocessing for dealing with categorical variables\n",
    "from sklearn.preprocessing import LabelEncoder\n",
    "\n",
    "# File system manangement\n",
    "import os\n",
    "\n",
    "# Suppress warnings \n",
    "import warnings\n",
    "warnings.filterwarnings('ignore')\n",
    "\n",
    "\n",
    "%matplotlib inline\n",
    "\n",
    "print(\"OK\\n\")"
   ]
  },
  {
   "cell_type": "code",
   "execution_count": 6,
   "id": "a194d28a",
   "metadata": {},
   "outputs": [],
   "source": [
    "app_train_origin = pd.read_csv('./home-credit-default-risk/exports/app_train.csv')\n",
    "app_test_origin =  pd.read_csv('./home-credit-default-risk/exports/app_test.csv')"
   ]
  },
  {
   "cell_type": "code",
   "execution_count": 7,
   "id": "7001589a",
   "metadata": {},
   "outputs": [],
   "source": [
    "app_train = app_train_origin.copy()\n",
    "app_test = app_test_origin.copy()"
   ]
  },
  {
   "cell_type": "code",
   "execution_count": 9,
   "id": "bfc3057d",
   "metadata": {},
   "outputs": [
    {
     "data": {
      "text/plain": [
       "SK_ID_CURR                    0\n",
       "TARGET                        0\n",
       "NAME_CONTRACT_TYPE            0\n",
       "CODE_GENDER                   0\n",
       "FLAG_OWN_CAR                  0\n",
       "                           ... \n",
       "credit_annuity_ratio         12\n",
       "DAYS_EMPLOYED_ANOM            0\n",
       "credit_goods_price_ratio    278\n",
       "credit_downpayment          278\n",
       "AGE_INT                       0\n",
       "Length: 93, dtype: int64"
      ]
     },
     "execution_count": 9,
     "metadata": {},
     "output_type": "execute_result"
    }
   ],
   "source": [
    "app_train.isnull().sum()"
   ]
  },
  {
   "cell_type": "code",
   "execution_count": 28,
   "id": "3f1e3984",
   "metadata": {},
   "outputs": [
    {
     "data": {
      "text/plain": [
       "48744"
      ]
     },
     "execution_count": 28,
     "metadata": {},
     "output_type": "execute_result"
    }
   ],
   "source": [
    "data = pd.concat([app_train, app_test], sort=False)\n",
    "train = data[:len(app_train)]\n",
    "test = data[len(app_test):]\n",
    "\n",
    "\n",
    "y_train = train['TARGET']\n",
    "X_train = app_train.copy().drop('TARGET', axis=1)\n",
    "X_train = X_train.select_dtypes(include=[int, float]).fillna(-999)\n",
    "X_test = app_test.copy()\n",
    "X_test = X_test.select_dtypes(include=[int, float]).fillna(-999)\n",
    "len(X_test)"
   ]
  },
  {
   "cell_type": "code",
   "execution_count": 30,
   "id": "70a08aeb",
   "metadata": {},
   "outputs": [
    {
     "name": "stdout",
     "output_type": "stream",
     "text": [
      "Epoch 1/10\n",
      "1922/1922 [==============================] - 5s 2ms/step - loss: 0.2743 - accuracy: 0.9185 - val_loss: 0.2620 - val_accuracy: 0.9211\n",
      "Epoch 2/10\n",
      "1922/1922 [==============================] - 4s 2ms/step - loss: 0.2701 - accuracy: 0.9188 - val_loss: 0.2654 - val_accuracy: 0.9211\n",
      "Epoch 3/10\n",
      "1922/1922 [==============================] - 4s 2ms/step - loss: 0.2686 - accuracy: 0.9188 - val_loss: 0.2611 - val_accuracy: 0.9211\n",
      "Epoch 4/10\n",
      "1922/1922 [==============================] - 4s 2ms/step - loss: 0.2676 - accuracy: 0.9188 - val_loss: 0.2601 - val_accuracy: 0.9211\n",
      "Epoch 5/10\n",
      "1922/1922 [==============================] - 4s 2ms/step - loss: 0.2671 - accuracy: 0.9188 - val_loss: 0.2612 - val_accuracy: 0.9211\n",
      "Epoch 6/10\n",
      "1922/1922 [==============================] - 4s 2ms/step - loss: 0.2666 - accuracy: 0.9188 - val_loss: 0.2610 - val_accuracy: 0.9211\n",
      "Epoch 7/10\n",
      "1922/1922 [==============================] - 4s 2ms/step - loss: 0.2659 - accuracy: 0.9188 - val_loss: 0.2612 - val_accuracy: 0.9211\n",
      "Epoch 8/10\n",
      "1922/1922 [==============================] - 4s 2ms/step - loss: 0.2656 - accuracy: 0.9188 - val_loss: 0.2602 - val_accuracy: 0.9211\n",
      "Epoch 9/10\n",
      "1922/1922 [==============================] - 4s 2ms/step - loss: 0.2652 - accuracy: 0.9188 - val_loss: 0.2610 - val_accuracy: 0.9211\n",
      "Epoch 10/10\n",
      "1922/1922 [==============================] - 4s 2ms/step - loss: 0.2648 - accuracy: 0.9188 - val_loss: 0.2616 - val_accuracy: 0.9211\n",
      "logloss:0.2616\n",
      "Epoch 1/10\n",
      "1922/1922 [==============================] - 5s 2ms/step - loss: 0.2733 - accuracy: 0.9189 - val_loss: 0.2678 - val_accuracy: 0.9190\n",
      "Epoch 2/10\n",
      "1922/1922 [==============================] - 4s 2ms/step - loss: 0.2689 - accuracy: 0.9193 - val_loss: 0.2658 - val_accuracy: 0.9190\n",
      "Epoch 3/10\n",
      "1922/1922 [==============================] - 4s 2ms/step - loss: 0.2673 - accuracy: 0.9193 - val_loss: 0.2654 - val_accuracy: 0.9190\n",
      "Epoch 4/10\n",
      "1922/1922 [==============================] - 4s 2ms/step - loss: 0.2664 - accuracy: 0.9193 - val_loss: 0.2652 - val_accuracy: 0.9190\n",
      "Epoch 5/10\n",
      "1922/1922 [==============================] - 4s 2ms/step - loss: 0.2657 - accuracy: 0.9193 - val_loss: 0.2648 - val_accuracy: 0.9190\n",
      "Epoch 6/10\n",
      "1922/1922 [==============================] - 4s 2ms/step - loss: 0.2650 - accuracy: 0.9193 - val_loss: 0.2645 - val_accuracy: 0.9190\n",
      "Epoch 7/10\n",
      "1922/1922 [==============================] - 4s 2ms/step - loss: 0.2646 - accuracy: 0.9194 - val_loss: 0.2672 - val_accuracy: 0.9190\n",
      "Epoch 8/10\n",
      "1922/1922 [==============================] - 4s 2ms/step - loss: 0.2643 - accuracy: 0.9193 - val_loss: 0.2650 - val_accuracy: 0.9190\n",
      "Epoch 9/10\n",
      "1922/1922 [==============================] - 4s 2ms/step - loss: 0.2637 - accuracy: 0.9194 - val_loss: 0.2645 - val_accuracy: 0.9190\n",
      "Epoch 10/10\n",
      "1922/1922 [==============================] - 4s 2ms/step - loss: 0.2634 - accuracy: 0.9193 - val_loss: 0.2647 - val_accuracy: 0.9190\n",
      "logloss:0.2647\n",
      "Epoch 1/10\n",
      "1922/1922 [==============================] - 5s 2ms/step - loss: 0.2736 - accuracy: 0.9187 - val_loss: 0.2662 - val_accuracy: 0.9192\n",
      "Epoch 2/10\n",
      "1922/1922 [==============================] - 4s 2ms/step - loss: 0.2688 - accuracy: 0.9193 - val_loss: 0.2664 - val_accuracy: 0.9192\n",
      "Epoch 3/10\n",
      "1922/1922 [==============================] - 4s 2ms/step - loss: 0.2673 - accuracy: 0.9193 - val_loss: 0.2670 - val_accuracy: 0.9192\n",
      "Epoch 4/10\n",
      "1922/1922 [==============================] - 4s 2ms/step - loss: 0.2663 - accuracy: 0.9193 - val_loss: 0.2651 - val_accuracy: 0.9192\n",
      "Epoch 5/10\n",
      "1922/1922 [==============================] - 4s 2ms/step - loss: 0.2654 - accuracy: 0.9193 - val_loss: 0.2676 - val_accuracy: 0.9192\n",
      "Epoch 6/10\n",
      "1922/1922 [==============================] - 4s 2ms/step - loss: 0.2650 - accuracy: 0.9193 - val_loss: 0.2648 - val_accuracy: 0.9192\n",
      "Epoch 7/10\n",
      "1922/1922 [==============================] - 4s 2ms/step - loss: 0.2646 - accuracy: 0.9193 - val_loss: 0.2654 - val_accuracy: 0.9192\n",
      "Epoch 8/10\n",
      "1922/1922 [==============================] - 4s 2ms/step - loss: 0.2640 - accuracy: 0.9193 - val_loss: 0.2659 - val_accuracy: 0.9192\n",
      "Epoch 9/10\n",
      "1922/1922 [==============================] - 4s 2ms/step - loss: 0.2636 - accuracy: 0.9193 - val_loss: 0.2644 - val_accuracy: 0.9192\n",
      "Epoch 10/10\n",
      "1922/1922 [==============================] - 4s 2ms/step - loss: 0.2633 - accuracy: 0.9193 - val_loss: 0.2648 - val_accuracy: 0.9192\n",
      "logloss:0.2648\n",
      "Epoch 1/10\n",
      "1922/1922 [==============================] - 5s 2ms/step - loss: 0.2723 - accuracy: 0.9192 - val_loss: 0.2718 - val_accuracy: 0.9188\n",
      "Epoch 2/10\n",
      "1922/1922 [==============================] - 4s 2ms/step - loss: 0.2678 - accuracy: 0.9194 - val_loss: 0.2726 - val_accuracy: 0.9188\n",
      "Epoch 3/10\n",
      "1922/1922 [==============================] - 4s 2ms/step - loss: 0.2665 - accuracy: 0.9194 - val_loss: 0.2700 - val_accuracy: 0.9188\n",
      "Epoch 4/10\n",
      "1922/1922 [==============================] - 4s 2ms/step - loss: 0.2659 - accuracy: 0.9194 - val_loss: 0.2676 - val_accuracy: 0.9188\n",
      "Epoch 5/10\n",
      "1922/1922 [==============================] - 4s 2ms/step - loss: 0.2651 - accuracy: 0.9194 - val_loss: 0.2721 - val_accuracy: 0.9188\n",
      "Epoch 6/10\n",
      "1922/1922 [==============================] - 4s 2ms/step - loss: 0.2648 - accuracy: 0.9194 - val_loss: 0.2688 - val_accuracy: 0.9188\n",
      "Epoch 7/10\n",
      "1922/1922 [==============================] - 4s 2ms/step - loss: 0.2640 - accuracy: 0.9194 - val_loss: 0.2688 - val_accuracy: 0.9188\n",
      "Epoch 8/10\n",
      "1922/1922 [==============================] - 4s 2ms/step - loss: 0.2638 - accuracy: 0.9193 - val_loss: 0.2667 - val_accuracy: 0.9188\n",
      "Epoch 9/10\n",
      "1922/1922 [==============================] - 5s 2ms/step - loss: 0.2634 - accuracy: 0.9193 - val_loss: 0.2667 - val_accuracy: 0.9188\n",
      "Epoch 10/10\n",
      "1922/1922 [==============================] - 5s 2ms/step - loss: 0.2631 - accuracy: 0.9194 - val_loss: 0.2671 - val_accuracy: 0.9188\n",
      "logloss:0.2664\n",
      "Epoch 1/10\n",
      "1922/1922 [==============================] - 5s 2ms/step - loss: 0.2726 - accuracy: 0.9194 - val_loss: 0.2700 - val_accuracy: 0.9183\n",
      "Epoch 2/10\n",
      "1922/1922 [==============================] - 4s 2ms/step - loss: 0.2684 - accuracy: 0.9195 - val_loss: 0.2679 - val_accuracy: 0.9183\n",
      "Epoch 3/10\n",
      "1922/1922 [==============================] - 4s 2ms/step - loss: 0.2670 - accuracy: 0.9195 - val_loss: 0.2679 - val_accuracy: 0.9183\n",
      "Epoch 4/10\n",
      "1922/1922 [==============================] - 4s 2ms/step - loss: 0.2657 - accuracy: 0.9195 - val_loss: 0.2667 - val_accuracy: 0.9183\n",
      "Epoch 5/10\n",
      "1922/1922 [==============================] - 4s 2ms/step - loss: 0.2652 - accuracy: 0.9195 - val_loss: 0.2667 - val_accuracy: 0.9183\n",
      "Epoch 6/10\n",
      "1922/1922 [==============================] - 4s 2ms/step - loss: 0.2644 - accuracy: 0.9195 - val_loss: 0.2668 - val_accuracy: 0.9183\n",
      "Epoch 7/10\n",
      "1922/1922 [==============================] - 4s 2ms/step - loss: 0.2638 - accuracy: 0.9195 - val_loss: 0.2666 - val_accuracy: 0.9183\n",
      "Epoch 8/10\n",
      "1922/1922 [==============================] - 4s 2ms/step - loss: 0.2637 - accuracy: 0.9195 - val_loss: 0.2660 - val_accuracy: 0.9183\n",
      "Epoch 9/10\n",
      "1922/1922 [==============================] - 4s 2ms/step - loss: 0.2633 - accuracy: 0.9195 - val_loss: 0.2669 - val_accuracy: 0.9183\n",
      "Epoch 10/10\n",
      "1922/1922 [==============================] - 4s 2ms/step - loss: 0.2629 - accuracy: 0.9195 - val_loss: 0.2671 - val_accuracy: 0.9183\n",
      "logloss:0.2671\n"
     ]
    }
   ],
   "source": [
    "y_preds = []\n",
    "models = []\n",
    "scores = []\n",
    "oof_train = np.zeros((len(X_train),))\n",
    "cv = KFold(n_splits=5, shuffle=True, random_state=0)\n",
    "\n",
    "\n",
    "for fold_id, (train_index, valid_index) in enumerate(cv.split(X_train)):\n",
    "    tr_x = X_train.loc[train_index, :]\n",
    "    va_x = X_train.loc[valid_index, :]\n",
    "    tr_y = y_train[train_index]\n",
    "    va_y = y_train[valid_index]\n",
    "    \n",
    "    scaler = StandardScaler()\n",
    "    tr_x = scaler.fit_transform(tr_x)\n",
    "    va_x = scaler.transform(va_x)\n",
    "    test_x = scaler.transform(X_test)\n",
    "    \n",
    "    model = Sequential()\n",
    "    model.add(Dense(\n",
    "        256\n",
    "        ,activation = 'relu'\n",
    "        ,input_shape=(X_train.shape[1],)\n",
    "    ))\n",
    "    \n",
    "    model.add(Dropout(0.2))\n",
    "    model.add(Dense(256, activation='relu'))\n",
    "    model.add(Dropout(0.2))\n",
    "    model.add(Dense(1, activation='sigmoid'))\n",
    "   \n",
    "    model.compile(loss='binary_crossentropy',\n",
    "                 optimizer='adam', metrics=['accuracy'])\n",
    "    \n",
    "    # 学習の実行\n",
    "    batch_size = 128\n",
    "    epochs = 10\n",
    "    history = model.fit(tr_x, tr_y,\n",
    "                       batch_size=batch_size, epochs=epochs,\n",
    "                       verbose=1, validation_data=(va_x, va_y))\n",
    "    \n",
    "    va_pred = model.predict(va_x)\n",
    "    y_pred = model.predict(test_x)\n",
    "    score = log_loss(va_y, va_pred, eps=1e-7)\n",
    "    print(f'logloss:{score:.4f}')\n",
    "        \n",
    "    \n",
    "    #oof_train[valid_index] = model.predict(X_val, num_iteration=model.best_iteration)\n",
    "    #y_pred = model.predict(X_test, num_iteration=model.best_iteration)##\n",
    "\n",
    "    y_preds.append(y_pred)\n",
    "    models.append(model)\n",
    "    scores.append(score)"
   ]
  },
  {
   "cell_type": "code",
   "execution_count": 31,
   "id": "857359cf",
   "metadata": {},
   "outputs": [
    {
     "data": {
      "text/plain": [
       "[0.26161503008461384,\n",
       " 0.2646827786407651,\n",
       " 0.26477791108017457,\n",
       " 0.2664224799956247,\n",
       " 0.2670937117017784]"
      ]
     },
     "execution_count": 31,
     "metadata": {},
     "output_type": "execute_result"
    }
   ],
   "source": [
    "scores"
   ]
  },
  {
   "cell_type": "code",
   "execution_count": 32,
   "id": "ea811133",
   "metadata": {},
   "outputs": [
    {
     "data": {
      "text/plain": [
       "[array([[0.03825499],\n",
       "        [0.01464197],\n",
       "        [0.01216851],\n",
       "        ...,\n",
       "        [0.0709767 ],\n",
       "        [0.03375876],\n",
       "        [0.098987  ]], dtype=float32),\n",
       " array([[0.02754524],\n",
       "        [0.00669081],\n",
       "        [0.02876271],\n",
       "        ...,\n",
       "        [0.04949496],\n",
       "        [0.01737387],\n",
       "        [0.13064407]], dtype=float32),\n",
       " array([[0.05532917],\n",
       "        [0.00498434],\n",
       "        [0.03595953],\n",
       "        ...,\n",
       "        [0.07397807],\n",
       "        [0.04071283],\n",
       "        [0.12405236]], dtype=float32),\n",
       " array([[0.06279404],\n",
       "        [0.00955997],\n",
       "        [0.0456911 ],\n",
       "        ...,\n",
       "        [0.05851615],\n",
       "        [0.05543239],\n",
       "        [0.14372446]], dtype=float32),\n",
       " array([[0.05589843],\n",
       "        [0.0106366 ],\n",
       "        [0.0436075 ],\n",
       "        ...,\n",
       "        [0.079992  ],\n",
       "        [0.04229377],\n",
       "        [0.13690862]], dtype=float32)]"
      ]
     },
     "execution_count": 32,
     "metadata": {},
     "output_type": "execute_result"
    }
   ],
   "source": [
    "y_preds"
   ]
  },
  {
   "cell_type": "code",
   "execution_count": 33,
   "id": "635c595c",
   "metadata": {},
   "outputs": [],
   "source": [
    "# CSV-00\n",
    "submit_all = app_test[[\"SK_ID_CURR\"]].copy()\n",
    "# 予測確率の変数名はTARGET\n",
    "submit_all[\"TARGET\"] = y_preds[0]\n",
    "\n",
    "# Submit File\n",
    "submit_all.to_csv(\n",
    "    path_or_buf=\"./home-credit-default-risk/submit/submit_all_00.csv\", # 出力先\n",
    "    sep=\",\",                                            # 区切り文字\n",
    "    index=False,                                        # indexの出力有無\n",
    "    header=True                                        # headerの出力有無\n",
    ")"
   ]
  },
  {
   "cell_type": "code",
   "execution_count": 34,
   "id": "cdae1f1b",
   "metadata": {},
   "outputs": [],
   "source": [
    "# CSV-01\n",
    "submit_all = app_test[[\"SK_ID_CURR\"]].copy()\n",
    "# 予測確率の変数名はTARGET\n",
    "submit_all[\"TARGET\"] = y_preds[1]\n",
    "\n",
    "# Submit File\n",
    "submit_all.to_csv(\n",
    "    path_or_buf=\"./home-credit-default-risk/submit/submit_all_01.csv\", # 出力先\n",
    "    sep=\",\",                                            # 区切り文字\n",
    "    index=False,                                        # indexの出力有無\n",
    "    header=True                                        # headerの出力有無\n",
    ")"
   ]
  },
  {
   "cell_type": "code",
   "execution_count": 35,
   "id": "438b20a5",
   "metadata": {},
   "outputs": [],
   "source": [
    "# CSV-02\n",
    "submit_all = app_test[[\"SK_ID_CURR\"]].copy()\n",
    "# 予測確率の変数名はTARGET\n",
    "submit_all[\"TARGET\"] = y_preds[2]\n",
    "\n",
    "# Submit File\n",
    "submit_all.to_csv(\n",
    "    path_or_buf=\"./home-credit-default-risk/submit/submit_all_02.csv\", # 出力先\n",
    "    sep=\",\",                                            # 区切り文字\n",
    "    index=False,                                        # indexの出力有無\n",
    "    header=True                                        # headerの出力有無\n",
    ")"
   ]
  },
  {
   "cell_type": "code",
   "execution_count": 36,
   "id": "89c0b657",
   "metadata": {},
   "outputs": [],
   "source": [
    "# CSV-03\n",
    "submit_all = app_test[[\"SK_ID_CURR\"]].copy()\n",
    "# 予測確率の変数名はTARGET\n",
    "submit_all[\"TARGET\"] = y_preds[3]\n",
    "\n",
    "# Submit File\n",
    "submit_all.to_csv(\n",
    "    path_or_buf=\"./home-credit-default-risk/submit/submit_all_03.csv\", # 出力先\n",
    "    sep=\",\",                                            # 区切り文字\n",
    "    index=False,                                        # indexの出力有無\n",
    "    header=True                                        # headerの出力有無\n",
    ")"
   ]
  },
  {
   "cell_type": "code",
   "execution_count": 37,
   "id": "57db09d7",
   "metadata": {},
   "outputs": [],
   "source": [
    "# CSV-04\n",
    "submit_all = app_test[[\"SK_ID_CURR\"]].copy()\n",
    "# 予測確率の変数名はTARGET\n",
    "submit_all[\"TARGET\"] = y_preds[4]\n",
    "\n",
    "# Submit File\n",
    "submit_all.to_csv(\n",
    "    path_or_buf=\"./home-credit-default-risk/submit/submit_all_04.csv\", # 出力先\n",
    "    sep=\",\",                                            # 区切り文字\n",
    "    index=False,                                        # indexの出力有無\n",
    "    header=True                                        # headerの出力有無\n",
    ")"
   ]
  },
  {
   "cell_type": "code",
   "execution_count": 38,
   "id": "c23cd829",
   "metadata": {},
   "outputs": [],
   "source": [
    "submit_all_00 = pd.read_csv('./home-credit-default-risk/submit/submit_all_00.csv')\n",
    "submit_all_01 = pd.read_csv('./home-credit-default-risk/submit/submit_all_01.csv')\n",
    "submit_all_02 = pd.read_csv('./home-credit-default-risk/submit/submit_all_02.csv')\n",
    "submit_all_03 = pd.read_csv('./home-credit-default-risk/submit/submit_all_03.csv')\n",
    "submit_all_04 = pd.read_csv('./home-credit-default-risk/submit/submit_all_04.csv')"
   ]
  },
  {
   "cell_type": "code",
   "execution_count": 39,
   "id": "d182bc77",
   "metadata": {},
   "outputs": [
    {
     "data": {
      "text/html": [
       "<div>\n",
       "<style scoped>\n",
       "    .dataframe tbody tr th:only-of-type {\n",
       "        vertical-align: middle;\n",
       "    }\n",
       "\n",
       "    .dataframe tbody tr th {\n",
       "        vertical-align: top;\n",
       "    }\n",
       "\n",
       "    .dataframe thead th {\n",
       "        text-align: right;\n",
       "    }\n",
       "</style>\n",
       "<table border=\"1\" class=\"dataframe\">\n",
       "  <thead>\n",
       "    <tr style=\"text-align: right;\">\n",
       "      <th></th>\n",
       "      <th>submit_all_00</th>\n",
       "      <th>submit_all_01</th>\n",
       "      <th>submit_all_02</th>\n",
       "      <th>submit_all_03</th>\n",
       "      <th>submit_all_04</th>\n",
       "    </tr>\n",
       "  </thead>\n",
       "  <tbody>\n",
       "    <tr>\n",
       "      <th>0</th>\n",
       "      <td>0.038255</td>\n",
       "      <td>0.027545</td>\n",
       "      <td>0.055329</td>\n",
       "      <td>0.062794</td>\n",
       "      <td>0.055898</td>\n",
       "    </tr>\n",
       "    <tr>\n",
       "      <th>1</th>\n",
       "      <td>0.014642</td>\n",
       "      <td>0.006691</td>\n",
       "      <td>0.004984</td>\n",
       "      <td>0.009560</td>\n",
       "      <td>0.010637</td>\n",
       "    </tr>\n",
       "    <tr>\n",
       "      <th>2</th>\n",
       "      <td>0.012169</td>\n",
       "      <td>0.028763</td>\n",
       "      <td>0.035960</td>\n",
       "      <td>0.045691</td>\n",
       "      <td>0.043608</td>\n",
       "    </tr>\n",
       "    <tr>\n",
       "      <th>3</th>\n",
       "      <td>0.060577</td>\n",
       "      <td>0.039731</td>\n",
       "      <td>0.080779</td>\n",
       "      <td>0.051872</td>\n",
       "      <td>0.050830</td>\n",
       "    </tr>\n",
       "    <tr>\n",
       "      <th>4</th>\n",
       "      <td>0.079823</td>\n",
       "      <td>0.084593</td>\n",
       "      <td>0.086336</td>\n",
       "      <td>0.116570</td>\n",
       "      <td>0.108352</td>\n",
       "    </tr>\n",
       "  </tbody>\n",
       "</table>\n",
       "</div>"
      ],
      "text/plain": [
       "   submit_all_00  submit_all_01  submit_all_02  submit_all_03  submit_all_04\n",
       "0       0.038255       0.027545       0.055329       0.062794       0.055898\n",
       "1       0.014642       0.006691       0.004984       0.009560       0.010637\n",
       "2       0.012169       0.028763       0.035960       0.045691       0.043608\n",
       "3       0.060577       0.039731       0.080779       0.051872       0.050830\n",
       "4       0.079823       0.084593       0.086336       0.116570       0.108352"
      ]
     },
     "execution_count": 39,
     "metadata": {},
     "output_type": "execute_result"
    }
   ],
   "source": [
    "submit_all = pd.DataFrame({\n",
    "    'submit_all_00': submit_all_00['TARGET'].values\n",
    "    ,'submit_all_01': submit_all_01['TARGET'].values\n",
    "    ,'submit_all_02': submit_all_02['TARGET'].values\n",
    "    ,'submit_all_03': submit_all_03['TARGET'].values\n",
    "    ,'submit_all_04': submit_all_04['TARGET'].values\n",
    "    })\n",
    "submit_all.head()"
   ]
  },
  {
   "cell_type": "code",
   "execution_count": 40,
   "id": "35e03bae",
   "metadata": {},
   "outputs": [
    {
     "data": {
      "text/html": [
       "<div>\n",
       "<style scoped>\n",
       "    .dataframe tbody tr th:only-of-type {\n",
       "        vertical-align: middle;\n",
       "    }\n",
       "\n",
       "    .dataframe tbody tr th {\n",
       "        vertical-align: top;\n",
       "    }\n",
       "\n",
       "    .dataframe thead th {\n",
       "        text-align: right;\n",
       "    }\n",
       "</style>\n",
       "<table border=\"1\" class=\"dataframe\">\n",
       "  <thead>\n",
       "    <tr style=\"text-align: right;\">\n",
       "      <th></th>\n",
       "      <th>submit_all_00</th>\n",
       "      <th>submit_all_01</th>\n",
       "      <th>submit_all_02</th>\n",
       "      <th>submit_all_03</th>\n",
       "      <th>submit_all_04</th>\n",
       "    </tr>\n",
       "  </thead>\n",
       "  <tbody>\n",
       "    <tr>\n",
       "      <th>submit_all_00</th>\n",
       "      <td>1.000000</td>\n",
       "      <td>0.820734</td>\n",
       "      <td>0.892509</td>\n",
       "      <td>0.866980</td>\n",
       "      <td>0.824101</td>\n",
       "    </tr>\n",
       "    <tr>\n",
       "      <th>submit_all_01</th>\n",
       "      <td>0.820734</td>\n",
       "      <td>1.000000</td>\n",
       "      <td>0.880867</td>\n",
       "      <td>0.932365</td>\n",
       "      <td>0.943032</td>\n",
       "    </tr>\n",
       "    <tr>\n",
       "      <th>submit_all_02</th>\n",
       "      <td>0.892509</td>\n",
       "      <td>0.880867</td>\n",
       "      <td>1.000000</td>\n",
       "      <td>0.899847</td>\n",
       "      <td>0.894627</td>\n",
       "    </tr>\n",
       "    <tr>\n",
       "      <th>submit_all_03</th>\n",
       "      <td>0.866980</td>\n",
       "      <td>0.932365</td>\n",
       "      <td>0.899847</td>\n",
       "      <td>1.000000</td>\n",
       "      <td>0.941097</td>\n",
       "    </tr>\n",
       "    <tr>\n",
       "      <th>submit_all_04</th>\n",
       "      <td>0.824101</td>\n",
       "      <td>0.943032</td>\n",
       "      <td>0.894627</td>\n",
       "      <td>0.941097</td>\n",
       "      <td>1.000000</td>\n",
       "    </tr>\n",
       "  </tbody>\n",
       "</table>\n",
       "</div>"
      ],
      "text/plain": [
       "               submit_all_00  submit_all_01  submit_all_02  submit_all_03  \\\n",
       "submit_all_00       1.000000       0.820734       0.892509       0.866980   \n",
       "submit_all_01       0.820734       1.000000       0.880867       0.932365   \n",
       "submit_all_02       0.892509       0.880867       1.000000       0.899847   \n",
       "submit_all_03       0.866980       0.932365       0.899847       1.000000   \n",
       "submit_all_04       0.824101       0.943032       0.894627       0.941097   \n",
       "\n",
       "               submit_all_04  \n",
       "submit_all_00       0.824101  \n",
       "submit_all_01       0.943032  \n",
       "submit_all_02       0.894627  \n",
       "submit_all_03       0.941097  \n",
       "submit_all_04       1.000000  "
      ]
     },
     "execution_count": 40,
     "metadata": {},
     "output_type": "execute_result"
    }
   ],
   "source": [
    "submit_all.corr()"
   ]
  },
  {
   "cell_type": "code",
   "execution_count": 41,
   "id": "bb5fa409",
   "metadata": {},
   "outputs": [
    {
     "data": {
      "text/html": [
       "<div>\n",
       "<style scoped>\n",
       "    .dataframe tbody tr th:only-of-type {\n",
       "        vertical-align: middle;\n",
       "    }\n",
       "\n",
       "    .dataframe tbody tr th {\n",
       "        vertical-align: top;\n",
       "    }\n",
       "\n",
       "    .dataframe thead th {\n",
       "        text-align: right;\n",
       "    }\n",
       "</style>\n",
       "<table border=\"1\" class=\"dataframe\">\n",
       "  <thead>\n",
       "    <tr style=\"text-align: right;\">\n",
       "      <th></th>\n",
       "      <th>SK_ID_CURR</th>\n",
       "      <th>TARGET</th>\n",
       "    </tr>\n",
       "  </thead>\n",
       "  <tbody>\n",
       "    <tr>\n",
       "      <th>0</th>\n",
       "      <td>100001</td>\n",
       "      <td>0.047964</td>\n",
       "    </tr>\n",
       "    <tr>\n",
       "      <th>1</th>\n",
       "      <td>100005</td>\n",
       "      <td>0.009303</td>\n",
       "    </tr>\n",
       "    <tr>\n",
       "      <th>2</th>\n",
       "      <td>100013</td>\n",
       "      <td>0.033238</td>\n",
       "    </tr>\n",
       "    <tr>\n",
       "      <th>3</th>\n",
       "      <td>100028</td>\n",
       "      <td>0.056758</td>\n",
       "    </tr>\n",
       "    <tr>\n",
       "      <th>4</th>\n",
       "      <td>100038</td>\n",
       "      <td>0.095135</td>\n",
       "    </tr>\n",
       "  </tbody>\n",
       "</table>\n",
       "</div>"
      ],
      "text/plain": [
       "   SK_ID_CURR    TARGET\n",
       "0      100001  0.047964\n",
       "1      100005  0.009303\n",
       "2      100013  0.033238\n",
       "3      100028  0.056758\n",
       "4      100038  0.095135"
      ]
     },
     "execution_count": 41,
     "metadata": {},
     "output_type": "execute_result"
    }
   ],
   "source": [
    "submit_all = app_test[[\"SK_ID_CURR\"]].copy()\n",
    "submit_all['TARGET'] = (submit_all_00['TARGET'] + submit_all_01['TARGET'] + submit_all_02['TARGET'] + submit_all_03['TARGET'] + submit_all_04['TARGET'])/5\n",
    "submit_all.head()"
   ]
  },
  {
   "cell_type": "code",
   "execution_count": 42,
   "id": "8a0b9a85",
   "metadata": {},
   "outputs": [
    {
     "data": {
      "text/plain": [
       "48744"
      ]
     },
     "execution_count": 42,
     "metadata": {},
     "output_type": "execute_result"
    }
   ],
   "source": [
    "len(submit_all)"
   ]
  },
  {
   "cell_type": "code",
   "execution_count": 43,
   "id": "0eb4a517",
   "metadata": {},
   "outputs": [
    {
     "data": {
      "text/plain": [
       "48744"
      ]
     },
     "execution_count": 43,
     "metadata": {},
     "output_type": "execute_result"
    }
   ],
   "source": [
    "len(app_test)"
   ]
  },
  {
   "cell_type": "code",
   "execution_count": 44,
   "id": "fbadee98",
   "metadata": {},
   "outputs": [
    {
     "data": {
      "text/html": [
       "<div>\n",
       "<style scoped>\n",
       "    .dataframe tbody tr th:only-of-type {\n",
       "        vertical-align: middle;\n",
       "    }\n",
       "\n",
       "    .dataframe tbody tr th {\n",
       "        vertical-align: top;\n",
       "    }\n",
       "\n",
       "    .dataframe thead th {\n",
       "        text-align: right;\n",
       "    }\n",
       "</style>\n",
       "<table border=\"1\" class=\"dataframe\">\n",
       "  <thead>\n",
       "    <tr style=\"text-align: right;\">\n",
       "      <th></th>\n",
       "      <th>SK_ID_CURR</th>\n",
       "      <th>TARGET</th>\n",
       "    </tr>\n",
       "  </thead>\n",
       "  <tbody>\n",
       "    <tr>\n",
       "      <th>0</th>\n",
       "      <td>100001</td>\n",
       "      <td>0.009593</td>\n",
       "    </tr>\n",
       "    <tr>\n",
       "      <th>1</th>\n",
       "      <td>100005</td>\n",
       "      <td>0.001861</td>\n",
       "    </tr>\n",
       "    <tr>\n",
       "      <th>2</th>\n",
       "      <td>100013</td>\n",
       "      <td>0.006648</td>\n",
       "    </tr>\n",
       "    <tr>\n",
       "      <th>3</th>\n",
       "      <td>100028</td>\n",
       "      <td>0.011352</td>\n",
       "    </tr>\n",
       "    <tr>\n",
       "      <th>4</th>\n",
       "      <td>100038</td>\n",
       "      <td>0.019027</td>\n",
       "    </tr>\n",
       "  </tbody>\n",
       "</table>\n",
       "</div>"
      ],
      "text/plain": [
       "   SK_ID_CURR    TARGET\n",
       "0      100001  0.009593\n",
       "1      100005  0.001861\n",
       "2      100013  0.006648\n",
       "3      100028  0.011352\n",
       "4      100038  0.019027"
      ]
     },
     "execution_count": 44,
     "metadata": {},
     "output_type": "execute_result"
    }
   ],
   "source": [
    "submit_all['TARGET'] = (submit_all['TARGET'] / 5)\n",
    "submit_all.to_csv('./home-credit-default-risk/submit/hcr_app_nn_res_01.csv', index=False)\n",
    "submit_all.head()"
   ]
  },
  {
   "cell_type": "code",
   "execution_count": null,
   "id": "cff4bb04",
   "metadata": {},
   "outputs": [],
   "source": []
  }
 ],
 "metadata": {
  "kernelspec": {
   "display_name": "Python 3 (ipykernel)",
   "language": "python",
   "name": "python3"
  },
  "language_info": {
   "codemirror_mode": {
    "name": "ipython",
    "version": 3
   },
   "file_extension": ".py",
   "mimetype": "text/x-python",
   "name": "python",
   "nbconvert_exporter": "python",
   "pygments_lexer": "ipython3",
   "version": "3.9.7"
  }
 },
 "nbformat": 4,
 "nbformat_minor": 5
}
