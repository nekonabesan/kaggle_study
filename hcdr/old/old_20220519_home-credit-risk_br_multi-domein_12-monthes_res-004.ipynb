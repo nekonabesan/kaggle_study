{
 "cells": [
  {
   "cell_type": "code",
   "execution_count": 1,
   "id": "c91ff30e",
   "metadata": {},
   "outputs": [],
   "source": [
    "# from google.colab import drive\n",
    "# drive.mount('/content/drive')"
   ]
  },
  {
   "cell_type": "code",
   "execution_count": 2,
   "id": "a44783fd",
   "metadata": {},
   "outputs": [],
   "source": [
    "# %cd /content/drive/MyDrive/"
   ]
  },
  {
   "cell_type": "markdown",
   "id": "879fe082",
   "metadata": {},
   "source": [
    "# 他社債務(12か月)"
   ]
  },
  {
   "cell_type": "markdown",
   "id": "9f367770",
   "metadata": {},
   "source": [
    "## 参考\n",
    "https://www.kaggle.com/code/willkoehrsen/introduction-to-manual-feature-engineering"
   ]
  },
  {
   "cell_type": "markdown",
   "id": "2bf8fc45",
   "metadata": {},
   "source": [
    "## モジュールとCSVの読み込み"
   ]
  },
  {
   "cell_type": "code",
   "execution_count": 3,
   "id": "b7f380dc",
   "metadata": {},
   "outputs": [
    {
     "data": {
      "text/plain": [
       "[name: \"/device:CPU:0\"\n",
       " device_type: \"CPU\"\n",
       " memory_limit: 268435456\n",
       " locality {\n",
       " }\n",
       " incarnation: 5604730604044291133\n",
       " xla_global_id: -1,\n",
       " name: \"/device:GPU:0\"\n",
       " device_type: \"GPU\"\n",
       " memory_limit: 1745276110\n",
       " locality {\n",
       "   bus_id: 1\n",
       "   links {\n",
       "   }\n",
       " }\n",
       " incarnation: 11043864393000311506\n",
       " physical_device_desc: \"device: 0, name: NVIDIA RTX A2000 Laptop GPU, pci bus id: 0000:01:00.0, compute capability: 8.6\"\n",
       " xla_global_id: 416903419]"
      ]
     },
     "execution_count": 3,
     "metadata": {},
     "output_type": "execute_result"
    }
   ],
   "source": [
    "from tensorflow.python.client import device_lib\n",
    "device_lib.list_local_devices()"
   ]
  },
  {
   "cell_type": "code",
   "execution_count": 4,
   "id": "cb409ce2",
   "metadata": {},
   "outputs": [
    {
     "name": "stdout",
     "output_type": "stream",
     "text": [
      "NVIDIA RTX A2000 Laptop GPU\n"
     ]
    }
   ],
   "source": [
    "import torch\n",
    "# GPUの名称、CUDA Compute Capabilityを取得\n",
    "print(torch.cuda.get_device_name())"
   ]
  },
  {
   "cell_type": "code",
   "execution_count": 5,
   "id": "0514996a",
   "metadata": {},
   "outputs": [
    {
     "name": "stdout",
     "output_type": "stream",
     "text": [
      "OK\n",
      "\n"
     ]
    }
   ],
   "source": [
    "import cupy as cp\n",
    "import numpy as np\n",
    "import pandas as pd\n",
    "import lightgbm as lgb\n",
    "import matplotlib.pyplot as plt\n",
    "import seaborn as sns\n",
    "import tensorflow as tf\n",
    "import datawig\n",
    "import mxnet as mx\n",
    "\n",
    "from lightgbm import LGBMClassifier\n",
    "\n",
    "from sklearn import metrics\n",
    "from sklearn_pandas import DataFrameMapper\n",
    "from sklearn.metrics import accuracy_score\n",
    "from sklearn.metrics import log_loss\n",
    "from sklearn.metrics import mean_squared_log_error\n",
    "from sklearn.tree import DecisionTreeClassifier, export_graphviz\n",
    "from sklearn.ensemble import RandomForestRegressor\n",
    "from sklearn.model_selection import KFold\n",
    "from sklearn.model_selection import train_test_split\n",
    "from sklearn.preprocessing import LabelEncoder\n",
    "from sklearn.preprocessing import StandardScaler\n",
    "from sklearn.preprocessing import PowerTransformer\n",
    "from sklearn.preprocessing import LabelEncoder\n",
    "from sklearn.preprocessing import MinMaxScaler\n",
    "from sklearn.metrics import roc_auc_score\n",
    "from sklearn.tree import plot_tree\n",
    "from sklearn.datasets import make_moons\n",
    "\n",
    "from sklearn.experimental import enable_iterative_imputer\n",
    "from sklearn.impute import IterativeImputer\n",
    "from sklearn.impute import SimpleImputer\n",
    "\n",
    "from keras.layers import Dense, Dropout\n",
    "from keras.models import Sequential\n",
    "\n",
    "from six import StringIO\n",
    "\n",
    "from IPython.display import Image\n",
    "import matplotlib.pyplot as plt\n",
    "import seaborn as sns\n",
    "\n",
    "import statsmodels.api as sm\n",
    "import math\n",
    "from scipy import stats\n",
    "import numpy as np\n",
    "import pandas as pd\n",
    "import tensorflow as tf\n",
    "\n",
    "from datetime import datetime\n",
    "from tensorflow import feature_column\n",
    "from tensorflow.keras import layers\n",
    "\n",
    "from tqdm import tqdm\n",
    "\n",
    "# sklearn preprocessing for dealing with categorical variables\n",
    "from sklearn.preprocessing import LabelEncoder\n",
    "\n",
    "# File system manangement\n",
    "import os\n",
    "\n",
    "# Suppress warnings \n",
    "import warnings\n",
    "warnings.filterwarnings('ignore')\n",
    "\n",
    "%matplotlib inline\n",
    "\n",
    "print(\"OK\\n\")"
   ]
  },
  {
   "cell_type": "code",
   "execution_count": 6,
   "id": "412cfcd5",
   "metadata": {},
   "outputs": [
    {
     "data": {
      "text/html": [
       "<div>\n",
       "<style scoped>\n",
       "    .dataframe tbody tr th:only-of-type {\n",
       "        vertical-align: middle;\n",
       "    }\n",
       "\n",
       "    .dataframe tbody tr th {\n",
       "        vertical-align: top;\n",
       "    }\n",
       "\n",
       "    .dataframe thead th {\n",
       "        text-align: right;\n",
       "    }\n",
       "</style>\n",
       "<table border=\"1\" class=\"dataframe\">\n",
       "  <thead>\n",
       "    <tr style=\"text-align: right;\">\n",
       "      <th></th>\n",
       "      <th>sk_id_curr</th>\n",
       "      <th>br_min_credit_day_overdue</th>\n",
       "      <th>br_max_credit_day_overdue</th>\n",
       "      <th>br_sum_credit_day_overdue</th>\n",
       "      <th>br_avg_credit_day_overdue</th>\n",
       "      <th>br_cnt_credit_day_overdue</th>\n",
       "      <th>br_stddev_credit_day_overdue</th>\n",
       "      <th>br_stddev_pop_credit_day_overdue</th>\n",
       "      <th>br_var_pop_credit_day_overdue</th>\n",
       "      <th>br_var_samp_credit_day_overdue</th>\n",
       "      <th>...</th>\n",
       "      <th>br_min_amt_annuity</th>\n",
       "      <th>br_max_amt_annuity</th>\n",
       "      <th>br_sum_amt_annuity</th>\n",
       "      <th>br_avg_amt_annuity</th>\n",
       "      <th>br_cnt_amt_annuity</th>\n",
       "      <th>br_stddev_amt_annuity</th>\n",
       "      <th>br_stddev_pop_amt_annuity</th>\n",
       "      <th>br_var_pop_amt_annuity</th>\n",
       "      <th>br_var_samp_amt_annuity</th>\n",
       "      <th>br_variance_pop_amt_annuity</th>\n",
       "    </tr>\n",
       "  </thead>\n",
       "  <tbody>\n",
       "    <tr>\n",
       "      <th>0</th>\n",
       "      <td>100001</td>\n",
       "      <td>0</td>\n",
       "      <td>0</td>\n",
       "      <td>0</td>\n",
       "      <td>0.0000</td>\n",
       "      <td>172</td>\n",
       "      <td>0</td>\n",
       "      <td>0</td>\n",
       "      <td>0</td>\n",
       "      <td>0</td>\n",
       "      <td>...</td>\n",
       "      <td>0.0</td>\n",
       "      <td>9364.5</td>\n",
       "      <td>212634</td>\n",
       "      <td>1236.2441860465117</td>\n",
       "      <td>172</td>\n",
       "      <td>2794.7282221572123</td>\n",
       "      <td>2794.7282221572123</td>\n",
       "      <td>7810505.835722012</td>\n",
       "      <td>7856181.308445533</td>\n",
       "      <td>7810505.835722012</td>\n",
       "    </tr>\n",
       "    <tr>\n",
       "      <th>1</th>\n",
       "      <td>100005</td>\n",
       "      <td>0</td>\n",
       "      <td>0</td>\n",
       "      <td>0</td>\n",
       "      <td>0.0000</td>\n",
       "      <td>21</td>\n",
       "      <td>0</td>\n",
       "      <td>0</td>\n",
       "      <td>0</td>\n",
       "      <td>0</td>\n",
       "      <td>...</td>\n",
       "      <td>0.0</td>\n",
       "      <td>4261.5</td>\n",
       "      <td>12784.5</td>\n",
       "      <td>608.7857142857143</td>\n",
       "      <td>21</td>\n",
       "      <td>1491.2143626957877</td>\n",
       "      <td>1491.2143626957877</td>\n",
       "      <td>2223720.2755102045</td>\n",
       "      <td>2334906.2892857147</td>\n",
       "      <td>2223720.2755102045</td>\n",
       "    </tr>\n",
       "    <tr>\n",
       "      <th>2</th>\n",
       "      <td>100013</td>\n",
       "      <td>0</td>\n",
       "      <td>0</td>\n",
       "      <td>0</td>\n",
       "      <td>0.0000</td>\n",
       "      <td>217</td>\n",
       "      <td>0</td>\n",
       "      <td>0</td>\n",
       "      <td>0</td>\n",
       "      <td>0</td>\n",
       "      <td>...</td>\n",
       "      <td>NaN</td>\n",
       "      <td>0.0</td>\n",
       "      <td>0</td>\n",
       "      <td>0</td>\n",
       "      <td>217</td>\n",
       "      <td>0</td>\n",
       "      <td>0</td>\n",
       "      <td>0</td>\n",
       "      <td>0</td>\n",
       "      <td>0</td>\n",
       "    </tr>\n",
       "    <tr>\n",
       "      <th>3</th>\n",
       "      <td>100028</td>\n",
       "      <td>0</td>\n",
       "      <td>0</td>\n",
       "      <td>0</td>\n",
       "      <td>0.0000</td>\n",
       "      <td>536</td>\n",
       "      <td>0</td>\n",
       "      <td>0</td>\n",
       "      <td>0</td>\n",
       "      <td>0</td>\n",
       "      <td>...</td>\n",
       "      <td>NaN</td>\n",
       "      <td>6562.485</td>\n",
       "      <td>443230.7849999995</td>\n",
       "      <td>826.9231063432827</td>\n",
       "      <td>536</td>\n",
       "      <td>2284.0107511879555</td>\n",
       "      <td>2284.0107511879555</td>\n",
       "      <td>5216705.111542168</td>\n",
       "      <td>5226455.9622179475</td>\n",
       "      <td>5216705.111542168</td>\n",
       "    </tr>\n",
       "    <tr>\n",
       "      <th>4</th>\n",
       "      <td>100042</td>\n",
       "      <td>0</td>\n",
       "      <td>0</td>\n",
       "      <td>0</td>\n",
       "      <td>0.0000</td>\n",
       "      <td>547</td>\n",
       "      <td>0</td>\n",
       "      <td>0</td>\n",
       "      <td>0</td>\n",
       "      <td>0</td>\n",
       "      <td>...</td>\n",
       "      <td>NaN</td>\n",
       "      <td>40500.0</td>\n",
       "      <td>4324419</td>\n",
       "      <td>7905.702010968921</td>\n",
       "      <td>547</td>\n",
       "      <td>15016.22619291047</td>\n",
       "      <td>15016.22619291047</td>\n",
       "      <td>225487049.07665047</td>\n",
       "      <td>225900029.02001432</td>\n",
       "      <td>225487049.07665047</td>\n",
       "    </tr>\n",
       "  </tbody>\n",
       "</table>\n",
       "<p>5 rows × 111 columns</p>\n",
       "</div>"
      ],
      "text/plain": [
       "  sk_id_curr br_min_credit_day_overdue br_max_credit_day_overdue  \\\n",
       "0     100001                         0                         0   \n",
       "1     100005                         0                         0   \n",
       "2     100013                         0                         0   \n",
       "3     100028                         0                         0   \n",
       "4     100042                         0                         0   \n",
       "\n",
       "  br_sum_credit_day_overdue br_avg_credit_day_overdue  \\\n",
       "0                         0                    0.0000   \n",
       "1                         0                    0.0000   \n",
       "2                         0                    0.0000   \n",
       "3                         0                    0.0000   \n",
       "4                         0                    0.0000   \n",
       "\n",
       "  br_cnt_credit_day_overdue br_stddev_credit_day_overdue  \\\n",
       "0                       172                            0   \n",
       "1                        21                            0   \n",
       "2                       217                            0   \n",
       "3                       536                            0   \n",
       "4                       547                            0   \n",
       "\n",
       "  br_stddev_pop_credit_day_overdue br_var_pop_credit_day_overdue  \\\n",
       "0                                0                             0   \n",
       "1                                0                             0   \n",
       "2                                0                             0   \n",
       "3                                0                             0   \n",
       "4                                0                             0   \n",
       "\n",
       "  br_var_samp_credit_day_overdue  ... br_min_amt_annuity br_max_amt_annuity  \\\n",
       "0                              0  ...                0.0             9364.5   \n",
       "1                              0  ...                0.0             4261.5   \n",
       "2                              0  ...                NaN                0.0   \n",
       "3                              0  ...                NaN           6562.485   \n",
       "4                              0  ...                NaN            40500.0   \n",
       "\n",
       "  br_sum_amt_annuity  br_avg_amt_annuity br_cnt_amt_annuity  \\\n",
       "0             212634  1236.2441860465117                172   \n",
       "1            12784.5   608.7857142857143                 21   \n",
       "2                  0                   0                217   \n",
       "3  443230.7849999995   826.9231063432827                536   \n",
       "4            4324419   7905.702010968921                547   \n",
       "\n",
       "  br_stddev_amt_annuity br_stddev_pop_amt_annuity br_var_pop_amt_annuity  \\\n",
       "0    2794.7282221572123        2794.7282221572123      7810505.835722012   \n",
       "1    1491.2143626957877        1491.2143626957877     2223720.2755102045   \n",
       "2                     0                         0                      0   \n",
       "3    2284.0107511879555        2284.0107511879555      5216705.111542168   \n",
       "4     15016.22619291047         15016.22619291047     225487049.07665047   \n",
       "\n",
       "  br_var_samp_amt_annuity br_variance_pop_amt_annuity  \n",
       "0       7856181.308445533           7810505.835722012  \n",
       "1      2334906.2892857147          2223720.2755102045  \n",
       "2                       0                           0  \n",
       "3      5226455.9622179475           5216705.111542168  \n",
       "4      225900029.02001432          225487049.07665047  \n",
       "\n",
       "[5 rows x 111 columns]"
      ]
     },
     "execution_count": 6,
     "metadata": {},
     "output_type": "execute_result"
    }
   ],
   "source": [
    "app_train_origin = pd.read_csv('./home-credit-default-risk/exports/app_train.csv')\n",
    "app_test_origin =  pd.read_csv('./home-credit-default-risk/exports/app_test.csv')\n",
    "bureau_origin = pd.read_csv('./home-credit-default-risk/bureau.csv')\n",
    "bureau_balance_origin = pd.read_csv('./home-credit-default-risk/bureau_balance.csv')\n",
    "app_br_train_origin = pd.read_csv('./home-credit-default-risk/exports/app_train_br_all-domein_12-monthes.csv', na_values = 'na', dtype = 'object')\n",
    "app_br_test_origin = pd.read_csv('./home-credit-default-risk/exports/app_test_br_all-domein_12-monthes.csv', na_values = 'na', dtype = 'object')\n",
    "#POS_CASH_balance_origin = pd.read_csv('./home-credit-default-risk/POS_CASH_balance.csv')\n",
    "#credit_card_balance_origin = pd.read_csv('./home-credit-default-risk/credit_card_balance.csv')\n",
    "#previous_application_origin = pd.read_csv('./home-credit-default-risk/previous_application.csv')\n",
    "#installments_payments_origin = pd.read_csv('./home-credit-default-risk/installments_payments.csv')\n",
    "# custo data\n",
    "#app_br_train_origin = pd.read_csv('./home-credit-default-risk/datasets/app_train_Loan_From_other_banks_cash-consumer-loans.csv')\n",
    "#app_br_test_origin = pd.read_csv('./home-credit-default-risk/datasets/app_test_Loan_From_other_banks_cash-consumer-loans.csv')\n",
    "#app_train_br_overdue_hist_origin = pd.read_csv('./home-credit-default-risk/datasets/app_train_br_overdue_hist.csv')\n",
    "#app_test_br_overdue_hist_origin = pd.read_csv('./home-credit-default-risk/datasets/app_test_br_overdue_hist.csv')\n",
    "#app_train_br_debt_credit_ratio_none_origin = pd.read_csv('./home-credit-default-risk/datasets/app_train_br_debt_credit_ratio_none.csv')\n",
    "#app_test_br_debt_credit_ratio_none_origin = pd.read_csv('./home-credit-default-risk/datasets/app_test_br_debt_credit_ratio_none.csv')\n",
    "\n",
    "app_br_test_origin.head()"
   ]
  },
  {
   "cell_type": "code",
   "execution_count": 7,
   "id": "f42bee6f",
   "metadata": {},
   "outputs": [
    {
     "data": {
      "text/html": [
       "<div>\n",
       "<style scoped>\n",
       "    .dataframe tbody tr th:only-of-type {\n",
       "        vertical-align: middle;\n",
       "    }\n",
       "\n",
       "    .dataframe tbody tr th {\n",
       "        vertical-align: top;\n",
       "    }\n",
       "\n",
       "    .dataframe thead th {\n",
       "        text-align: right;\n",
       "    }\n",
       "</style>\n",
       "<table border=\"1\" class=\"dataframe\">\n",
       "  <thead>\n",
       "    <tr style=\"text-align: right;\">\n",
       "      <th></th>\n",
       "      <th>sk_id_curr</th>\n",
       "      <th>br_min_credit_day_overdue</th>\n",
       "      <th>br_max_credit_day_overdue</th>\n",
       "      <th>br_sum_credit_day_overdue</th>\n",
       "      <th>br_avg_credit_day_overdue</th>\n",
       "      <th>br_cnt_credit_day_overdue</th>\n",
       "      <th>br_stddev_credit_day_overdue</th>\n",
       "      <th>br_stddev_pop_credit_day_overdue</th>\n",
       "      <th>br_var_pop_credit_day_overdue</th>\n",
       "      <th>br_var_samp_credit_day_overdue</th>\n",
       "      <th>...</th>\n",
       "      <th>br_min_amt_annuity</th>\n",
       "      <th>br_max_amt_annuity</th>\n",
       "      <th>br_sum_amt_annuity</th>\n",
       "      <th>br_avg_amt_annuity</th>\n",
       "      <th>br_cnt_amt_annuity</th>\n",
       "      <th>br_stddev_amt_annuity</th>\n",
       "      <th>br_stddev_pop_amt_annuity</th>\n",
       "      <th>br_var_pop_amt_annuity</th>\n",
       "      <th>br_var_samp_amt_annuity</th>\n",
       "      <th>br_variance_pop_amt_annuity</th>\n",
       "    </tr>\n",
       "  </thead>\n",
       "  <tbody>\n",
       "    <tr>\n",
       "      <th>0</th>\n",
       "      <td>100001</td>\n",
       "      <td>0</td>\n",
       "      <td>0</td>\n",
       "      <td>0</td>\n",
       "      <td>0.0000</td>\n",
       "      <td>172</td>\n",
       "      <td>0</td>\n",
       "      <td>0</td>\n",
       "      <td>0</td>\n",
       "      <td>0</td>\n",
       "      <td>...</td>\n",
       "      <td>0.0</td>\n",
       "      <td>9364.5</td>\n",
       "      <td>212634</td>\n",
       "      <td>1236.2441860465117</td>\n",
       "      <td>172</td>\n",
       "      <td>2794.7282221572123</td>\n",
       "      <td>2794.7282221572123</td>\n",
       "      <td>7810505.835722012</td>\n",
       "      <td>7856181.308445533</td>\n",
       "      <td>7810505.835722012</td>\n",
       "    </tr>\n",
       "    <tr>\n",
       "      <th>1</th>\n",
       "      <td>100005</td>\n",
       "      <td>0</td>\n",
       "      <td>0</td>\n",
       "      <td>0</td>\n",
       "      <td>0.0000</td>\n",
       "      <td>21</td>\n",
       "      <td>0</td>\n",
       "      <td>0</td>\n",
       "      <td>0</td>\n",
       "      <td>0</td>\n",
       "      <td>...</td>\n",
       "      <td>0.0</td>\n",
       "      <td>4261.5</td>\n",
       "      <td>12784.5</td>\n",
       "      <td>608.7857142857143</td>\n",
       "      <td>21</td>\n",
       "      <td>1491.2143626957877</td>\n",
       "      <td>1491.2143626957877</td>\n",
       "      <td>2223720.2755102045</td>\n",
       "      <td>2334906.2892857147</td>\n",
       "      <td>2223720.2755102045</td>\n",
       "    </tr>\n",
       "    <tr>\n",
       "      <th>2</th>\n",
       "      <td>100013</td>\n",
       "      <td>0</td>\n",
       "      <td>0</td>\n",
       "      <td>0</td>\n",
       "      <td>0.0000</td>\n",
       "      <td>217</td>\n",
       "      <td>0</td>\n",
       "      <td>0</td>\n",
       "      <td>0</td>\n",
       "      <td>0</td>\n",
       "      <td>...</td>\n",
       "      <td>NaN</td>\n",
       "      <td>0.0</td>\n",
       "      <td>0</td>\n",
       "      <td>0</td>\n",
       "      <td>217</td>\n",
       "      <td>0</td>\n",
       "      <td>0</td>\n",
       "      <td>0</td>\n",
       "      <td>0</td>\n",
       "      <td>0</td>\n",
       "    </tr>\n",
       "    <tr>\n",
       "      <th>3</th>\n",
       "      <td>100028</td>\n",
       "      <td>0</td>\n",
       "      <td>0</td>\n",
       "      <td>0</td>\n",
       "      <td>0.0000</td>\n",
       "      <td>536</td>\n",
       "      <td>0</td>\n",
       "      <td>0</td>\n",
       "      <td>0</td>\n",
       "      <td>0</td>\n",
       "      <td>...</td>\n",
       "      <td>NaN</td>\n",
       "      <td>6562.485</td>\n",
       "      <td>443230.7849999995</td>\n",
       "      <td>826.9231063432827</td>\n",
       "      <td>536</td>\n",
       "      <td>2284.0107511879555</td>\n",
       "      <td>2284.0107511879555</td>\n",
       "      <td>5216705.111542168</td>\n",
       "      <td>5226455.9622179475</td>\n",
       "      <td>5216705.111542168</td>\n",
       "    </tr>\n",
       "    <tr>\n",
       "      <th>4</th>\n",
       "      <td>100042</td>\n",
       "      <td>0</td>\n",
       "      <td>0</td>\n",
       "      <td>0</td>\n",
       "      <td>0.0000</td>\n",
       "      <td>547</td>\n",
       "      <td>0</td>\n",
       "      <td>0</td>\n",
       "      <td>0</td>\n",
       "      <td>0</td>\n",
       "      <td>...</td>\n",
       "      <td>NaN</td>\n",
       "      <td>40500.0</td>\n",
       "      <td>4324419</td>\n",
       "      <td>7905.702010968921</td>\n",
       "      <td>547</td>\n",
       "      <td>15016.22619291047</td>\n",
       "      <td>15016.22619291047</td>\n",
       "      <td>225487049.07665047</td>\n",
       "      <td>225900029.02001432</td>\n",
       "      <td>225487049.07665047</td>\n",
       "    </tr>\n",
       "  </tbody>\n",
       "</table>\n",
       "<p>5 rows × 111 columns</p>\n",
       "</div>"
      ],
      "text/plain": [
       "  sk_id_curr br_min_credit_day_overdue br_max_credit_day_overdue  \\\n",
       "0     100001                         0                         0   \n",
       "1     100005                         0                         0   \n",
       "2     100013                         0                         0   \n",
       "3     100028                         0                         0   \n",
       "4     100042                         0                         0   \n",
       "\n",
       "  br_sum_credit_day_overdue br_avg_credit_day_overdue  \\\n",
       "0                         0                    0.0000   \n",
       "1                         0                    0.0000   \n",
       "2                         0                    0.0000   \n",
       "3                         0                    0.0000   \n",
       "4                         0                    0.0000   \n",
       "\n",
       "  br_cnt_credit_day_overdue br_stddev_credit_day_overdue  \\\n",
       "0                       172                            0   \n",
       "1                        21                            0   \n",
       "2                       217                            0   \n",
       "3                       536                            0   \n",
       "4                       547                            0   \n",
       "\n",
       "  br_stddev_pop_credit_day_overdue br_var_pop_credit_day_overdue  \\\n",
       "0                                0                             0   \n",
       "1                                0                             0   \n",
       "2                                0                             0   \n",
       "3                                0                             0   \n",
       "4                                0                             0   \n",
       "\n",
       "  br_var_samp_credit_day_overdue  ... br_min_amt_annuity br_max_amt_annuity  \\\n",
       "0                              0  ...                0.0             9364.5   \n",
       "1                              0  ...                0.0             4261.5   \n",
       "2                              0  ...                NaN                0.0   \n",
       "3                              0  ...                NaN           6562.485   \n",
       "4                              0  ...                NaN            40500.0   \n",
       "\n",
       "  br_sum_amt_annuity  br_avg_amt_annuity br_cnt_amt_annuity  \\\n",
       "0             212634  1236.2441860465117                172   \n",
       "1            12784.5   608.7857142857143                 21   \n",
       "2                  0                   0                217   \n",
       "3  443230.7849999995   826.9231063432827                536   \n",
       "4            4324419   7905.702010968921                547   \n",
       "\n",
       "  br_stddev_amt_annuity br_stddev_pop_amt_annuity br_var_pop_amt_annuity  \\\n",
       "0    2794.7282221572123        2794.7282221572123      7810505.835722012   \n",
       "1    1491.2143626957877        1491.2143626957877     2223720.2755102045   \n",
       "2                     0                         0                      0   \n",
       "3    2284.0107511879555        2284.0107511879555      5216705.111542168   \n",
       "4     15016.22619291047         15016.22619291047     225487049.07665047   \n",
       "\n",
       "  br_var_samp_amt_annuity br_variance_pop_amt_annuity  \n",
       "0       7856181.308445533           7810505.835722012  \n",
       "1      2334906.2892857147          2223720.2755102045  \n",
       "2                       0                           0  \n",
       "3      5226455.9622179475           5216705.111542168  \n",
       "4      225900029.02001432          225487049.07665047  \n",
       "\n",
       "[5 rows x 111 columns]"
      ]
     },
     "execution_count": 7,
     "metadata": {},
     "output_type": "execute_result"
    }
   ],
   "source": [
    "app_train = app_train_origin.copy()\n",
    "app_test = app_test_origin.copy()\n",
    "bureau = bureau_origin.copy()\n",
    "bureau_balance = bureau_balance_origin.copy()\n",
    "app_br_train = app_br_train_origin.copy()\n",
    "app_br_test = app_br_test_origin.copy()\n",
    "app_br_test.head()"
   ]
  },
  {
   "cell_type": "code",
   "execution_count": 8,
   "id": "0e3f95cb",
   "metadata": {},
   "outputs": [
    {
     "data": {
      "text/plain": [
       "['br_min_credit_day_overdue',\n",
       " 'br_max_credit_day_overdue',\n",
       " 'br_sum_credit_day_overdue',\n",
       " 'br_avg_credit_day_overdue',\n",
       " 'br_cnt_credit_day_overdue',\n",
       " 'br_stddev_credit_day_overdue',\n",
       " 'br_stddev_pop_credit_day_overdue',\n",
       " 'br_var_pop_credit_day_overdue',\n",
       " 'br_var_samp_credit_day_overdue',\n",
       " 'br_variance_pop_credit_day_overdue',\n",
       " 'br_min_days_credit_enddate',\n",
       " 'br_max_days_credit_enddate',\n",
       " 'br_sum_days_credit_enddate',\n",
       " 'br_avg_days_credit_enddate',\n",
       " 'br_cnt_days_credit_enddate',\n",
       " 'br_stddev_days_credit_enddate',\n",
       " 'br_stddev_pop_days_credit_enddate',\n",
       " 'br_var_pop_days_credit_enddate',\n",
       " 'br_var_samp_days_credit_enddate',\n",
       " 'br_variance_pop_days_credit_enddate',\n",
       " 'br_min_days_enddate_fact',\n",
       " 'br_max_days_enddate_fact',\n",
       " 'br_sum_days_enddate_fact',\n",
       " 'br_avg_days_enddate_fact',\n",
       " 'br_cnt_days_enddate_fact',\n",
       " 'br_stddev_days_enddate_fact',\n",
       " 'br_stddev_pop_days_enddate_fact',\n",
       " 'br_var_pop_days_enddate_fact',\n",
       " 'br_var_samp_days_enddate_fact',\n",
       " 'br_variance_pop_days_enddate_fact',\n",
       " 'br_min_amt_credit_max_overdue',\n",
       " 'br_max_amt_credit_max_overdue',\n",
       " 'br_sum_amt_credit_max_overdue',\n",
       " 'br_avg_amt_credit_max_overdue',\n",
       " 'br_cnt_amt_credit_max_overdue',\n",
       " 'br_stddev_amt_credit_max_overdue',\n",
       " 'br_stddev_pop_amt_credit_max_overdue',\n",
       " 'br_var_pop_amt_credit_max_overdue',\n",
       " 'br_var_samp_amt_credit_max_overdue',\n",
       " 'br_variance_pop_amt_credit_max_overdue',\n",
       " 'br_min_cnt_credit_prolong',\n",
       " 'br_max_cnt_credit_prolong',\n",
       " 'br_sum_cnt_credit_prolong',\n",
       " 'br_avg_cnt_credit_prolong',\n",
       " 'br_cnt_cnt_credit_prolong',\n",
       " 'br_stddev_cnt_credit_prolong',\n",
       " 'br_stddev_pop_cnt_credit_prolong',\n",
       " 'br_var_pop_cnt_credit_prolong',\n",
       " 'br_var_samp_cnt_credit_prolong',\n",
       " 'br_variance_pop_cnt_credit_prolong',\n",
       " 'br_min_amt_credit_sum',\n",
       " 'br_max_amt_credit_sum',\n",
       " 'br_sum_amt_credit_sum',\n",
       " 'br_avg_amt_credit_sum',\n",
       " 'br_cnt_amt_credit_sum',\n",
       " 'br_stddev_amt_credit_sum',\n",
       " 'br_stddev_pop_amt_credit_sum',\n",
       " 'br_var_pop_amt_credit_sum',\n",
       " 'br_var_samp_amt_credit_sum',\n",
       " 'br_variance_pop_amt_credit_sum',\n",
       " 'br_min_amt_credit_sum_debt',\n",
       " 'br_max_amt_credit_sum_debt',\n",
       " 'br_sum_amt_credit_sum_debt',\n",
       " 'br_avg_amt_credit_sum_debt',\n",
       " 'br_cnt_amt_credit_sum_debt',\n",
       " 'br_stddev_amt_credit_sum_debt',\n",
       " 'br_stddev_pop_amt_credit_sum_debt',\n",
       " 'br_var_pop_amt_credit_sum_debt',\n",
       " 'br_var_samp_amt_credit_sum_debt',\n",
       " 'br_variance_pop_amt_credit_sum_debt',\n",
       " 'br_min_amt_credit_sum_limit',\n",
       " 'br_max_amt_credit_sum_limit',\n",
       " 'br_sum_amt_credit_sum_limit',\n",
       " 'br_avg_amt_credit_sum_limit',\n",
       " 'br_cnt_amt_credit_sum_limit',\n",
       " 'br_stddev_amt_credit_sum_limit',\n",
       " 'br_stddev_pop_amt_credit_sum_limit',\n",
       " 'br_var_pop_amt_credit_sum_limit',\n",
       " 'br_var_samp_amt_credit_sum_limit',\n",
       " 'br_variance_pop_amt_credit_sum_limit',\n",
       " 'br_min_amt_credit_sum_overdue',\n",
       " 'br_max_amt_credit_sum_overdue',\n",
       " 'br_sum_amt_credit_sum_overdue',\n",
       " 'br_avg_amt_credit_sum_overdue',\n",
       " 'br_cnt_amt_credit_sum_overdue',\n",
       " 'br_stddev_amt_credit_sum_overdue',\n",
       " 'br_stddev_pop_amt_credit_sum_overdue',\n",
       " 'br_var_pop_amt_credit_sum_overdue',\n",
       " 'br_var_samp_amt_credit_sum_overdue',\n",
       " 'br_variance_pop_amt_credit_sum_overdue',\n",
       " 'br_min_days_credit_update',\n",
       " 'br_max_days_credit_update',\n",
       " 'br_sum_days_credit_update',\n",
       " 'br_avg_days_credit_update',\n",
       " 'br_cnt_days_credit_update',\n",
       " 'br_stddev_days_credit_update',\n",
       " 'br_stddev_pop_days_credit_update',\n",
       " 'br_var_pop_days_credit_update',\n",
       " 'br_var_samp_days_credit_update',\n",
       " 'br_variance_pop_days_credit_update',\n",
       " 'br_min_amt_annuity',\n",
       " 'br_max_amt_annuity',\n",
       " 'br_sum_amt_annuity',\n",
       " 'br_avg_amt_annuity',\n",
       " 'br_cnt_amt_annuity',\n",
       " 'br_stddev_amt_annuity',\n",
       " 'br_stddev_pop_amt_annuity',\n",
       " 'br_var_pop_amt_annuity',\n",
       " 'br_var_samp_amt_annuity',\n",
       " 'br_variance_pop_amt_annuity']"
      ]
     },
     "execution_count": 8,
     "metadata": {},
     "output_type": "execute_result"
    }
   ],
   "source": [
    "restore_columns = list(app_br_test.columns)\n",
    "restore_columns.remove('sk_id_curr')\n",
    "restore_columns"
   ]
  },
  {
   "cell_type": "code",
   "execution_count": 9,
   "id": "a304ee2d",
   "metadata": {},
   "outputs": [
    {
     "data": {
      "text/html": [
       "<div>\n",
       "<style scoped>\n",
       "    .dataframe tbody tr th:only-of-type {\n",
       "        vertical-align: middle;\n",
       "    }\n",
       "\n",
       "    .dataframe tbody tr th {\n",
       "        vertical-align: top;\n",
       "    }\n",
       "\n",
       "    .dataframe thead th {\n",
       "        text-align: right;\n",
       "    }\n",
       "</style>\n",
       "<table border=\"1\" class=\"dataframe\">\n",
       "  <thead>\n",
       "    <tr style=\"text-align: right;\">\n",
       "      <th></th>\n",
       "      <th>sk_id_curr</th>\n",
       "      <th>br_min_credit_day_overdue</th>\n",
       "      <th>br_max_credit_day_overdue</th>\n",
       "      <th>br_sum_credit_day_overdue</th>\n",
       "      <th>br_avg_credit_day_overdue</th>\n",
       "      <th>br_cnt_credit_day_overdue</th>\n",
       "      <th>br_stddev_credit_day_overdue</th>\n",
       "      <th>br_stddev_pop_credit_day_overdue</th>\n",
       "      <th>br_var_pop_credit_day_overdue</th>\n",
       "      <th>br_var_samp_credit_day_overdue</th>\n",
       "      <th>...</th>\n",
       "      <th>br_min_amt_annuity</th>\n",
       "      <th>br_max_amt_annuity</th>\n",
       "      <th>br_sum_amt_annuity</th>\n",
       "      <th>br_avg_amt_annuity</th>\n",
       "      <th>br_cnt_amt_annuity</th>\n",
       "      <th>br_stddev_amt_annuity</th>\n",
       "      <th>br_stddev_pop_amt_annuity</th>\n",
       "      <th>br_var_pop_amt_annuity</th>\n",
       "      <th>br_var_samp_amt_annuity</th>\n",
       "      <th>br_variance_pop_amt_annuity</th>\n",
       "    </tr>\n",
       "  </thead>\n",
       "  <tbody>\n",
       "    <tr>\n",
       "      <th>0</th>\n",
       "      <td>100001</td>\n",
       "      <td>0.0</td>\n",
       "      <td>0.0</td>\n",
       "      <td>0.0</td>\n",
       "      <td>0.0</td>\n",
       "      <td>172.0</td>\n",
       "      <td>0.0</td>\n",
       "      <td>0.0</td>\n",
       "      <td>0.0</td>\n",
       "      <td>0.0</td>\n",
       "      <td>...</td>\n",
       "      <td>0.0</td>\n",
       "      <td>9364.500</td>\n",
       "      <td>212634.000</td>\n",
       "      <td>1236.244186</td>\n",
       "      <td>172.0</td>\n",
       "      <td>2794.728222</td>\n",
       "      <td>2794.728222</td>\n",
       "      <td>7.810506e+06</td>\n",
       "      <td>7.856181e+06</td>\n",
       "      <td>7.810506e+06</td>\n",
       "    </tr>\n",
       "    <tr>\n",
       "      <th>1</th>\n",
       "      <td>100005</td>\n",
       "      <td>0.0</td>\n",
       "      <td>0.0</td>\n",
       "      <td>0.0</td>\n",
       "      <td>0.0</td>\n",
       "      <td>21.0</td>\n",
       "      <td>0.0</td>\n",
       "      <td>0.0</td>\n",
       "      <td>0.0</td>\n",
       "      <td>0.0</td>\n",
       "      <td>...</td>\n",
       "      <td>0.0</td>\n",
       "      <td>4261.500</td>\n",
       "      <td>12784.500</td>\n",
       "      <td>608.785714</td>\n",
       "      <td>21.0</td>\n",
       "      <td>1491.214363</td>\n",
       "      <td>1491.214363</td>\n",
       "      <td>2.223720e+06</td>\n",
       "      <td>2.334906e+06</td>\n",
       "      <td>2.223720e+06</td>\n",
       "    </tr>\n",
       "    <tr>\n",
       "      <th>2</th>\n",
       "      <td>100013</td>\n",
       "      <td>0.0</td>\n",
       "      <td>0.0</td>\n",
       "      <td>0.0</td>\n",
       "      <td>0.0</td>\n",
       "      <td>217.0</td>\n",
       "      <td>0.0</td>\n",
       "      <td>0.0</td>\n",
       "      <td>0.0</td>\n",
       "      <td>0.0</td>\n",
       "      <td>...</td>\n",
       "      <td>NaN</td>\n",
       "      <td>0.000</td>\n",
       "      <td>0.000</td>\n",
       "      <td>0.000000</td>\n",
       "      <td>217.0</td>\n",
       "      <td>0.000000</td>\n",
       "      <td>0.000000</td>\n",
       "      <td>0.000000e+00</td>\n",
       "      <td>0.000000e+00</td>\n",
       "      <td>0.000000e+00</td>\n",
       "    </tr>\n",
       "    <tr>\n",
       "      <th>3</th>\n",
       "      <td>100028</td>\n",
       "      <td>0.0</td>\n",
       "      <td>0.0</td>\n",
       "      <td>0.0</td>\n",
       "      <td>0.0</td>\n",
       "      <td>536.0</td>\n",
       "      <td>0.0</td>\n",
       "      <td>0.0</td>\n",
       "      <td>0.0</td>\n",
       "      <td>0.0</td>\n",
       "      <td>...</td>\n",
       "      <td>NaN</td>\n",
       "      <td>6562.485</td>\n",
       "      <td>443230.785</td>\n",
       "      <td>826.923106</td>\n",
       "      <td>536.0</td>\n",
       "      <td>2284.010751</td>\n",
       "      <td>2284.010751</td>\n",
       "      <td>5.216705e+06</td>\n",
       "      <td>5.226456e+06</td>\n",
       "      <td>5.216705e+06</td>\n",
       "    </tr>\n",
       "    <tr>\n",
       "      <th>4</th>\n",
       "      <td>100042</td>\n",
       "      <td>0.0</td>\n",
       "      <td>0.0</td>\n",
       "      <td>0.0</td>\n",
       "      <td>0.0</td>\n",
       "      <td>547.0</td>\n",
       "      <td>0.0</td>\n",
       "      <td>0.0</td>\n",
       "      <td>0.0</td>\n",
       "      <td>0.0</td>\n",
       "      <td>...</td>\n",
       "      <td>NaN</td>\n",
       "      <td>40500.000</td>\n",
       "      <td>4324419.000</td>\n",
       "      <td>7905.702011</td>\n",
       "      <td>547.0</td>\n",
       "      <td>15016.226193</td>\n",
       "      <td>15016.226193</td>\n",
       "      <td>2.254870e+08</td>\n",
       "      <td>2.259000e+08</td>\n",
       "      <td>2.254870e+08</td>\n",
       "    </tr>\n",
       "  </tbody>\n",
       "</table>\n",
       "<p>5 rows × 111 columns</p>\n",
       "</div>"
      ],
      "text/plain": [
       "  sk_id_curr  br_min_credit_day_overdue  br_max_credit_day_overdue  \\\n",
       "0     100001                        0.0                        0.0   \n",
       "1     100005                        0.0                        0.0   \n",
       "2     100013                        0.0                        0.0   \n",
       "3     100028                        0.0                        0.0   \n",
       "4     100042                        0.0                        0.0   \n",
       "\n",
       "   br_sum_credit_day_overdue  br_avg_credit_day_overdue  \\\n",
       "0                        0.0                        0.0   \n",
       "1                        0.0                        0.0   \n",
       "2                        0.0                        0.0   \n",
       "3                        0.0                        0.0   \n",
       "4                        0.0                        0.0   \n",
       "\n",
       "   br_cnt_credit_day_overdue  br_stddev_credit_day_overdue  \\\n",
       "0                      172.0                           0.0   \n",
       "1                       21.0                           0.0   \n",
       "2                      217.0                           0.0   \n",
       "3                      536.0                           0.0   \n",
       "4                      547.0                           0.0   \n",
       "\n",
       "   br_stddev_pop_credit_day_overdue  br_var_pop_credit_day_overdue  \\\n",
       "0                               0.0                            0.0   \n",
       "1                               0.0                            0.0   \n",
       "2                               0.0                            0.0   \n",
       "3                               0.0                            0.0   \n",
       "4                               0.0                            0.0   \n",
       "\n",
       "   br_var_samp_credit_day_overdue  ...  br_min_amt_annuity  \\\n",
       "0                             0.0  ...                 0.0   \n",
       "1                             0.0  ...                 0.0   \n",
       "2                             0.0  ...                 NaN   \n",
       "3                             0.0  ...                 NaN   \n",
       "4                             0.0  ...                 NaN   \n",
       "\n",
       "   br_max_amt_annuity  br_sum_amt_annuity  br_avg_amt_annuity  \\\n",
       "0            9364.500          212634.000         1236.244186   \n",
       "1            4261.500           12784.500          608.785714   \n",
       "2               0.000               0.000            0.000000   \n",
       "3            6562.485          443230.785          826.923106   \n",
       "4           40500.000         4324419.000         7905.702011   \n",
       "\n",
       "   br_cnt_amt_annuity  br_stddev_amt_annuity  br_stddev_pop_amt_annuity  \\\n",
       "0               172.0            2794.728222                2794.728222   \n",
       "1                21.0            1491.214363                1491.214363   \n",
       "2               217.0               0.000000                   0.000000   \n",
       "3               536.0            2284.010751                2284.010751   \n",
       "4               547.0           15016.226193               15016.226193   \n",
       "\n",
       "   br_var_pop_amt_annuity  br_var_samp_amt_annuity  \\\n",
       "0            7.810506e+06             7.856181e+06   \n",
       "1            2.223720e+06             2.334906e+06   \n",
       "2            0.000000e+00             0.000000e+00   \n",
       "3            5.216705e+06             5.226456e+06   \n",
       "4            2.254870e+08             2.259000e+08   \n",
       "\n",
       "   br_variance_pop_amt_annuity  \n",
       "0                 7.810506e+06  \n",
       "1                 2.223720e+06  \n",
       "2                 0.000000e+00  \n",
       "3                 5.216705e+06  \n",
       "4                 2.254870e+08  \n",
       "\n",
       "[5 rows x 111 columns]"
      ]
     },
     "execution_count": 9,
     "metadata": {},
     "output_type": "execute_result"
    }
   ],
   "source": [
    "# brの数値データをfloatへキャスト\n",
    "app_br_train[restore_columns] = app_br_train[restore_columns].astype('float64')\n",
    "app_br_test[restore_columns] = app_br_test[restore_columns].astype('float64')\n",
    "app_br_test.head()"
   ]
  },
  {
   "cell_type": "code",
   "execution_count": 10,
   "id": "2e0d0212",
   "metadata": {},
   "outputs": [
    {
     "data": {
      "text/html": [
       "<div>\n",
       "<style scoped>\n",
       "    .dataframe tbody tr th:only-of-type {\n",
       "        vertical-align: middle;\n",
       "    }\n",
       "\n",
       "    .dataframe tbody tr th {\n",
       "        vertical-align: top;\n",
       "    }\n",
       "\n",
       "    .dataframe thead th {\n",
       "        text-align: right;\n",
       "    }\n",
       "</style>\n",
       "<table border=\"1\" class=\"dataframe\">\n",
       "  <thead>\n",
       "    <tr style=\"text-align: right;\">\n",
       "      <th></th>\n",
       "      <th>sk_id_curr</th>\n",
       "      <th>br_min_credit_day_overdue</th>\n",
       "      <th>br_max_credit_day_overdue</th>\n",
       "      <th>br_sum_credit_day_overdue</th>\n",
       "      <th>br_avg_credit_day_overdue</th>\n",
       "      <th>br_cnt_credit_day_overdue</th>\n",
       "      <th>br_stddev_credit_day_overdue</th>\n",
       "      <th>br_stddev_pop_credit_day_overdue</th>\n",
       "      <th>br_var_pop_credit_day_overdue</th>\n",
       "      <th>br_var_samp_credit_day_overdue</th>\n",
       "      <th>...</th>\n",
       "      <th>br_min_amt_annuity</th>\n",
       "      <th>br_max_amt_annuity</th>\n",
       "      <th>br_sum_amt_annuity</th>\n",
       "      <th>br_avg_amt_annuity</th>\n",
       "      <th>br_cnt_amt_annuity</th>\n",
       "      <th>br_stddev_amt_annuity</th>\n",
       "      <th>br_stddev_pop_amt_annuity</th>\n",
       "      <th>br_var_pop_amt_annuity</th>\n",
       "      <th>br_var_samp_amt_annuity</th>\n",
       "      <th>br_variance_pop_amt_annuity</th>\n",
       "    </tr>\n",
       "  </thead>\n",
       "  <tbody>\n",
       "    <tr>\n",
       "      <th>0</th>\n",
       "      <td>100001</td>\n",
       "      <td>0.0</td>\n",
       "      <td>0.0</td>\n",
       "      <td>0.0</td>\n",
       "      <td>0.0</td>\n",
       "      <td>172.0</td>\n",
       "      <td>0.0</td>\n",
       "      <td>0.0</td>\n",
       "      <td>0.0</td>\n",
       "      <td>0.0</td>\n",
       "      <td>...</td>\n",
       "      <td>0.0</td>\n",
       "      <td>9364.500</td>\n",
       "      <td>212634.000</td>\n",
       "      <td>1236.244186</td>\n",
       "      <td>172.0</td>\n",
       "      <td>2794.728222</td>\n",
       "      <td>2794.728222</td>\n",
       "      <td>7.810506e+06</td>\n",
       "      <td>7.856181e+06</td>\n",
       "      <td>7.810506e+06</td>\n",
       "    </tr>\n",
       "    <tr>\n",
       "      <th>1</th>\n",
       "      <td>100005</td>\n",
       "      <td>0.0</td>\n",
       "      <td>0.0</td>\n",
       "      <td>0.0</td>\n",
       "      <td>0.0</td>\n",
       "      <td>21.0</td>\n",
       "      <td>0.0</td>\n",
       "      <td>0.0</td>\n",
       "      <td>0.0</td>\n",
       "      <td>0.0</td>\n",
       "      <td>...</td>\n",
       "      <td>0.0</td>\n",
       "      <td>4261.500</td>\n",
       "      <td>12784.500</td>\n",
       "      <td>608.785714</td>\n",
       "      <td>21.0</td>\n",
       "      <td>1491.214363</td>\n",
       "      <td>1491.214363</td>\n",
       "      <td>2.223720e+06</td>\n",
       "      <td>2.334906e+06</td>\n",
       "      <td>2.223720e+06</td>\n",
       "    </tr>\n",
       "    <tr>\n",
       "      <th>2</th>\n",
       "      <td>100013</td>\n",
       "      <td>0.0</td>\n",
       "      <td>0.0</td>\n",
       "      <td>0.0</td>\n",
       "      <td>0.0</td>\n",
       "      <td>217.0</td>\n",
       "      <td>0.0</td>\n",
       "      <td>0.0</td>\n",
       "      <td>0.0</td>\n",
       "      <td>0.0</td>\n",
       "      <td>...</td>\n",
       "      <td>NaN</td>\n",
       "      <td>0.000</td>\n",
       "      <td>0.000</td>\n",
       "      <td>0.000000</td>\n",
       "      <td>217.0</td>\n",
       "      <td>0.000000</td>\n",
       "      <td>0.000000</td>\n",
       "      <td>0.000000e+00</td>\n",
       "      <td>0.000000e+00</td>\n",
       "      <td>0.000000e+00</td>\n",
       "    </tr>\n",
       "    <tr>\n",
       "      <th>3</th>\n",
       "      <td>100028</td>\n",
       "      <td>0.0</td>\n",
       "      <td>0.0</td>\n",
       "      <td>0.0</td>\n",
       "      <td>0.0</td>\n",
       "      <td>536.0</td>\n",
       "      <td>0.0</td>\n",
       "      <td>0.0</td>\n",
       "      <td>0.0</td>\n",
       "      <td>0.0</td>\n",
       "      <td>...</td>\n",
       "      <td>NaN</td>\n",
       "      <td>6562.485</td>\n",
       "      <td>443230.785</td>\n",
       "      <td>826.923106</td>\n",
       "      <td>536.0</td>\n",
       "      <td>2284.010751</td>\n",
       "      <td>2284.010751</td>\n",
       "      <td>5.216705e+06</td>\n",
       "      <td>5.226456e+06</td>\n",
       "      <td>5.216705e+06</td>\n",
       "    </tr>\n",
       "    <tr>\n",
       "      <th>4</th>\n",
       "      <td>100042</td>\n",
       "      <td>0.0</td>\n",
       "      <td>0.0</td>\n",
       "      <td>0.0</td>\n",
       "      <td>0.0</td>\n",
       "      <td>547.0</td>\n",
       "      <td>0.0</td>\n",
       "      <td>0.0</td>\n",
       "      <td>0.0</td>\n",
       "      <td>0.0</td>\n",
       "      <td>...</td>\n",
       "      <td>NaN</td>\n",
       "      <td>40500.000</td>\n",
       "      <td>4324419.000</td>\n",
       "      <td>7905.702011</td>\n",
       "      <td>547.0</td>\n",
       "      <td>15016.226193</td>\n",
       "      <td>15016.226193</td>\n",
       "      <td>2.254870e+08</td>\n",
       "      <td>2.259000e+08</td>\n",
       "      <td>2.254870e+08</td>\n",
       "    </tr>\n",
       "  </tbody>\n",
       "</table>\n",
       "<p>5 rows × 111 columns</p>\n",
       "</div>"
      ],
      "text/plain": [
       "  sk_id_curr  br_min_credit_day_overdue  br_max_credit_day_overdue  \\\n",
       "0     100001                        0.0                        0.0   \n",
       "1     100005                        0.0                        0.0   \n",
       "2     100013                        0.0                        0.0   \n",
       "3     100028                        0.0                        0.0   \n",
       "4     100042                        0.0                        0.0   \n",
       "\n",
       "   br_sum_credit_day_overdue  br_avg_credit_day_overdue  \\\n",
       "0                        0.0                        0.0   \n",
       "1                        0.0                        0.0   \n",
       "2                        0.0                        0.0   \n",
       "3                        0.0                        0.0   \n",
       "4                        0.0                        0.0   \n",
       "\n",
       "   br_cnt_credit_day_overdue  br_stddev_credit_day_overdue  \\\n",
       "0                      172.0                           0.0   \n",
       "1                       21.0                           0.0   \n",
       "2                      217.0                           0.0   \n",
       "3                      536.0                           0.0   \n",
       "4                      547.0                           0.0   \n",
       "\n",
       "   br_stddev_pop_credit_day_overdue  br_var_pop_credit_day_overdue  \\\n",
       "0                               0.0                            0.0   \n",
       "1                               0.0                            0.0   \n",
       "2                               0.0                            0.0   \n",
       "3                               0.0                            0.0   \n",
       "4                               0.0                            0.0   \n",
       "\n",
       "   br_var_samp_credit_day_overdue  ...  br_min_amt_annuity  \\\n",
       "0                             0.0  ...                 0.0   \n",
       "1                             0.0  ...                 0.0   \n",
       "2                             0.0  ...                 NaN   \n",
       "3                             0.0  ...                 NaN   \n",
       "4                             0.0  ...                 NaN   \n",
       "\n",
       "   br_max_amt_annuity  br_sum_amt_annuity  br_avg_amt_annuity  \\\n",
       "0            9364.500          212634.000         1236.244186   \n",
       "1            4261.500           12784.500          608.785714   \n",
       "2               0.000               0.000            0.000000   \n",
       "3            6562.485          443230.785          826.923106   \n",
       "4           40500.000         4324419.000         7905.702011   \n",
       "\n",
       "   br_cnt_amt_annuity  br_stddev_amt_annuity  br_stddev_pop_amt_annuity  \\\n",
       "0               172.0            2794.728222                2794.728222   \n",
       "1                21.0            1491.214363                1491.214363   \n",
       "2               217.0               0.000000                   0.000000   \n",
       "3               536.0            2284.010751                2284.010751   \n",
       "4               547.0           15016.226193               15016.226193   \n",
       "\n",
       "   br_var_pop_amt_annuity  br_var_samp_amt_annuity  \\\n",
       "0            7.810506e+06             7.856181e+06   \n",
       "1            2.223720e+06             2.334906e+06   \n",
       "2            0.000000e+00             0.000000e+00   \n",
       "3            5.216705e+06             5.226456e+06   \n",
       "4            2.254870e+08             2.259000e+08   \n",
       "\n",
       "   br_variance_pop_amt_annuity  \n",
       "0                 7.810506e+06  \n",
       "1                 2.223720e+06  \n",
       "2                 0.000000e+00  \n",
       "3                 5.216705e+06  \n",
       "4                 2.254870e+08  \n",
       "\n",
       "[5 rows x 111 columns]"
      ]
     },
     "execution_count": 10,
     "metadata": {},
     "output_type": "execute_result"
    }
   ],
   "source": [
    "# infを未定義値へ置換\n",
    "app_br_train = app_br_train.replace([np.inf, -np.inf], np.nan)\n",
    "app_br_test = app_br_test.replace([np.inf, -np.inf], np.nan)\n",
    "app_br_test.head()"
   ]
  },
  {
   "cell_type": "code",
   "execution_count": 11,
   "id": "a7d234c2",
   "metadata": {},
   "outputs": [
    {
     "data": {
      "text/html": [
       "<div>\n",
       "<style scoped>\n",
       "    .dataframe tbody tr th:only-of-type {\n",
       "        vertical-align: middle;\n",
       "    }\n",
       "\n",
       "    .dataframe tbody tr th {\n",
       "        vertical-align: top;\n",
       "    }\n",
       "\n",
       "    .dataframe thead th {\n",
       "        text-align: right;\n",
       "    }\n",
       "</style>\n",
       "<table border=\"1\" class=\"dataframe\">\n",
       "  <thead>\n",
       "    <tr style=\"text-align: right;\">\n",
       "      <th></th>\n",
       "      <th>sk_id_curr</th>\n",
       "      <th>br_min_credit_day_overdue</th>\n",
       "      <th>br_max_credit_day_overdue</th>\n",
       "      <th>br_sum_credit_day_overdue</th>\n",
       "      <th>br_avg_credit_day_overdue</th>\n",
       "      <th>br_cnt_credit_day_overdue</th>\n",
       "      <th>br_stddev_credit_day_overdue</th>\n",
       "      <th>br_stddev_pop_credit_day_overdue</th>\n",
       "      <th>br_var_pop_credit_day_overdue</th>\n",
       "      <th>br_var_samp_credit_day_overdue</th>\n",
       "      <th>...</th>\n",
       "      <th>br_min_amt_annuity</th>\n",
       "      <th>br_max_amt_annuity</th>\n",
       "      <th>br_sum_amt_annuity</th>\n",
       "      <th>br_avg_amt_annuity</th>\n",
       "      <th>br_cnt_amt_annuity</th>\n",
       "      <th>br_stddev_amt_annuity</th>\n",
       "      <th>br_stddev_pop_amt_annuity</th>\n",
       "      <th>br_var_pop_amt_annuity</th>\n",
       "      <th>br_var_samp_amt_annuity</th>\n",
       "      <th>br_variance_pop_amt_annuity</th>\n",
       "    </tr>\n",
       "  </thead>\n",
       "  <tbody>\n",
       "    <tr>\n",
       "      <th>0</th>\n",
       "      <td>100001</td>\n",
       "      <td>0.0</td>\n",
       "      <td>0.0</td>\n",
       "      <td>0.0</td>\n",
       "      <td>0.0</td>\n",
       "      <td>172.0</td>\n",
       "      <td>0.0</td>\n",
       "      <td>0.0</td>\n",
       "      <td>0.0</td>\n",
       "      <td>0.0</td>\n",
       "      <td>...</td>\n",
       "      <td>0.0</td>\n",
       "      <td>9364.500</td>\n",
       "      <td>212634.000</td>\n",
       "      <td>1236.244186</td>\n",
       "      <td>172.0</td>\n",
       "      <td>2794.728222</td>\n",
       "      <td>2794.728222</td>\n",
       "      <td>7.810506e+06</td>\n",
       "      <td>7.856181e+06</td>\n",
       "      <td>7.810506e+06</td>\n",
       "    </tr>\n",
       "    <tr>\n",
       "      <th>1</th>\n",
       "      <td>100005</td>\n",
       "      <td>0.0</td>\n",
       "      <td>0.0</td>\n",
       "      <td>0.0</td>\n",
       "      <td>0.0</td>\n",
       "      <td>21.0</td>\n",
       "      <td>0.0</td>\n",
       "      <td>0.0</td>\n",
       "      <td>0.0</td>\n",
       "      <td>0.0</td>\n",
       "      <td>...</td>\n",
       "      <td>0.0</td>\n",
       "      <td>4261.500</td>\n",
       "      <td>12784.500</td>\n",
       "      <td>608.785714</td>\n",
       "      <td>21.0</td>\n",
       "      <td>1491.214363</td>\n",
       "      <td>1491.214363</td>\n",
       "      <td>2.223720e+06</td>\n",
       "      <td>2.334906e+06</td>\n",
       "      <td>2.223720e+06</td>\n",
       "    </tr>\n",
       "    <tr>\n",
       "      <th>2</th>\n",
       "      <td>100013</td>\n",
       "      <td>0.0</td>\n",
       "      <td>0.0</td>\n",
       "      <td>0.0</td>\n",
       "      <td>0.0</td>\n",
       "      <td>217.0</td>\n",
       "      <td>0.0</td>\n",
       "      <td>0.0</td>\n",
       "      <td>0.0</td>\n",
       "      <td>0.0</td>\n",
       "      <td>...</td>\n",
       "      <td>NaN</td>\n",
       "      <td>0.000</td>\n",
       "      <td>0.000</td>\n",
       "      <td>0.000000</td>\n",
       "      <td>217.0</td>\n",
       "      <td>0.000000</td>\n",
       "      <td>0.000000</td>\n",
       "      <td>0.000000e+00</td>\n",
       "      <td>0.000000e+00</td>\n",
       "      <td>0.000000e+00</td>\n",
       "    </tr>\n",
       "    <tr>\n",
       "      <th>3</th>\n",
       "      <td>100028</td>\n",
       "      <td>0.0</td>\n",
       "      <td>0.0</td>\n",
       "      <td>0.0</td>\n",
       "      <td>0.0</td>\n",
       "      <td>536.0</td>\n",
       "      <td>0.0</td>\n",
       "      <td>0.0</td>\n",
       "      <td>0.0</td>\n",
       "      <td>0.0</td>\n",
       "      <td>...</td>\n",
       "      <td>NaN</td>\n",
       "      <td>6562.485</td>\n",
       "      <td>443230.785</td>\n",
       "      <td>826.923106</td>\n",
       "      <td>536.0</td>\n",
       "      <td>2284.010751</td>\n",
       "      <td>2284.010751</td>\n",
       "      <td>5.216705e+06</td>\n",
       "      <td>5.226456e+06</td>\n",
       "      <td>5.216705e+06</td>\n",
       "    </tr>\n",
       "    <tr>\n",
       "      <th>4</th>\n",
       "      <td>100042</td>\n",
       "      <td>0.0</td>\n",
       "      <td>0.0</td>\n",
       "      <td>0.0</td>\n",
       "      <td>0.0</td>\n",
       "      <td>547.0</td>\n",
       "      <td>0.0</td>\n",
       "      <td>0.0</td>\n",
       "      <td>0.0</td>\n",
       "      <td>0.0</td>\n",
       "      <td>...</td>\n",
       "      <td>NaN</td>\n",
       "      <td>40500.000</td>\n",
       "      <td>4324419.000</td>\n",
       "      <td>7905.702011</td>\n",
       "      <td>547.0</td>\n",
       "      <td>15016.226193</td>\n",
       "      <td>15016.226193</td>\n",
       "      <td>2.254870e+08</td>\n",
       "      <td>2.259000e+08</td>\n",
       "      <td>2.254870e+08</td>\n",
       "    </tr>\n",
       "  </tbody>\n",
       "</table>\n",
       "<p>5 rows × 111 columns</p>\n",
       "</div>"
      ],
      "text/plain": [
       "   sk_id_curr  br_min_credit_day_overdue  br_max_credit_day_overdue  \\\n",
       "0      100001                        0.0                        0.0   \n",
       "1      100005                        0.0                        0.0   \n",
       "2      100013                        0.0                        0.0   \n",
       "3      100028                        0.0                        0.0   \n",
       "4      100042                        0.0                        0.0   \n",
       "\n",
       "   br_sum_credit_day_overdue  br_avg_credit_day_overdue  \\\n",
       "0                        0.0                        0.0   \n",
       "1                        0.0                        0.0   \n",
       "2                        0.0                        0.0   \n",
       "3                        0.0                        0.0   \n",
       "4                        0.0                        0.0   \n",
       "\n",
       "   br_cnt_credit_day_overdue  br_stddev_credit_day_overdue  \\\n",
       "0                      172.0                           0.0   \n",
       "1                       21.0                           0.0   \n",
       "2                      217.0                           0.0   \n",
       "3                      536.0                           0.0   \n",
       "4                      547.0                           0.0   \n",
       "\n",
       "   br_stddev_pop_credit_day_overdue  br_var_pop_credit_day_overdue  \\\n",
       "0                               0.0                            0.0   \n",
       "1                               0.0                            0.0   \n",
       "2                               0.0                            0.0   \n",
       "3                               0.0                            0.0   \n",
       "4                               0.0                            0.0   \n",
       "\n",
       "   br_var_samp_credit_day_overdue  ...  br_min_amt_annuity  \\\n",
       "0                             0.0  ...                 0.0   \n",
       "1                             0.0  ...                 0.0   \n",
       "2                             0.0  ...                 NaN   \n",
       "3                             0.0  ...                 NaN   \n",
       "4                             0.0  ...                 NaN   \n",
       "\n",
       "   br_max_amt_annuity  br_sum_amt_annuity  br_avg_amt_annuity  \\\n",
       "0            9364.500          212634.000         1236.244186   \n",
       "1            4261.500           12784.500          608.785714   \n",
       "2               0.000               0.000            0.000000   \n",
       "3            6562.485          443230.785          826.923106   \n",
       "4           40500.000         4324419.000         7905.702011   \n",
       "\n",
       "   br_cnt_amt_annuity  br_stddev_amt_annuity  br_stddev_pop_amt_annuity  \\\n",
       "0               172.0            2794.728222                2794.728222   \n",
       "1                21.0            1491.214363                1491.214363   \n",
       "2               217.0               0.000000                   0.000000   \n",
       "3               536.0            2284.010751                2284.010751   \n",
       "4               547.0           15016.226193               15016.226193   \n",
       "\n",
       "   br_var_pop_amt_annuity  br_var_samp_amt_annuity  \\\n",
       "0            7.810506e+06             7.856181e+06   \n",
       "1            2.223720e+06             2.334906e+06   \n",
       "2            0.000000e+00             0.000000e+00   \n",
       "3            5.216705e+06             5.226456e+06   \n",
       "4            2.254870e+08             2.259000e+08   \n",
       "\n",
       "   br_variance_pop_amt_annuity  \n",
       "0                 7.810506e+06  \n",
       "1                 2.223720e+06  \n",
       "2                 0.000000e+00  \n",
       "3                 5.216705e+06  \n",
       "4                 2.254870e+08  \n",
       "\n",
       "[5 rows x 111 columns]"
      ]
     },
     "execution_count": 11,
     "metadata": {},
     "output_type": "execute_result"
    }
   ],
   "source": [
    "# sk_id_currをINT型へキャスト\n",
    "app_br_train['sk_id_curr'] = app_br_train['sk_id_curr'].astype(int)\n",
    "app_br_test['sk_id_curr'] = app_br_test['sk_id_curr'].astype(int)\n",
    "app_br_test.head()"
   ]
  },
  {
   "cell_type": "code",
   "execution_count": 12,
   "id": "d5a78fa6",
   "metadata": {},
   "outputs": [],
   "source": [
    "# Plots the disribution of a variable colored by value of the target\n",
    "def kde_target(var_name, df):\n",
    "    \n",
    "    # Calculate the correlation coefficient between the new variable and the target\n",
    "    corr = df['TARGET'].corr(df[var_name])\n",
    "    \n",
    "    # Calculate medians for repaid vs not repaid\n",
    "    avg_repaid = df.loc[df['TARGET'] == 0, var_name].median()\n",
    "    avg_not_repaid = df.loc[df['TARGET'] == 1, var_name].median()\n",
    "    \n",
    "    plt.figure(figsize = (12, 6))\n",
    "    \n",
    "    # Plot the distribution for target == 0 and target == 1\n",
    "    sns.kdeplot(df.loc[df['TARGET'] == 0, var_name], label = 'TARGET == 0')\n",
    "    sns.kdeplot(df.loc[df['TARGET'] == 1, var_name], label = 'TARGET == 1')\n",
    "    \n",
    "    # label the plot\n",
    "    plt.xlabel(var_name); plt.ylabel('Density'); plt.title('%s Distribution' % var_name)\n",
    "    plt.legend();\n",
    "    \n",
    "    # print out the correlation\n",
    "    print('The correlation between %s and the TARGET is %0.4f' % (var_name, corr))\n",
    "    # Print out average values\n",
    "    print('Median value for loan that was not repaid = %0.4f' % avg_not_repaid)\n",
    "    print('Median value for loan that was repaid =     %0.4f' % avg_repaid)"
   ]
  },
  {
   "cell_type": "markdown",
   "id": "c5945576",
   "metadata": {},
   "source": [
    "## データ読み込み"
   ]
  },
  {
   "cell_type": "code",
   "execution_count": 13,
   "id": "27147998",
   "metadata": {},
   "outputs": [
    {
     "data": {
      "text/plain": [
       "307511"
      ]
     },
     "execution_count": 13,
     "metadata": {},
     "output_type": "execute_result"
    }
   ],
   "source": [
    "len(app_train)"
   ]
  },
  {
   "cell_type": "code",
   "execution_count": 14,
   "id": "ff8e2a35",
   "metadata": {},
   "outputs": [
    {
     "data": {
      "text/plain": [
       "48744"
      ]
     },
     "execution_count": 14,
     "metadata": {},
     "output_type": "execute_result"
    }
   ],
   "source": [
    "len(app_test)"
   ]
  },
  {
   "cell_type": "code",
   "execution_count": 15,
   "id": "22d968dc",
   "metadata": {},
   "outputs": [
    {
     "data": {
      "text/plain": [
       "91932"
      ]
     },
     "execution_count": 15,
     "metadata": {},
     "output_type": "execute_result"
    }
   ],
   "source": [
    "len(app_br_train)"
   ]
  },
  {
   "cell_type": "code",
   "execution_count": 16,
   "id": "678f86f0",
   "metadata": {},
   "outputs": [
    {
     "data": {
      "text/plain": [
       "42311"
      ]
     },
     "execution_count": 16,
     "metadata": {},
     "output_type": "execute_result"
    }
   ],
   "source": [
    "len(app_br_test)"
   ]
  },
  {
   "cell_type": "code",
   "execution_count": 17,
   "id": "c5260677",
   "metadata": {},
   "outputs": [
    {
     "data": {
      "text/plain": [
       "42311"
      ]
     },
     "execution_count": 17,
     "metadata": {},
     "output_type": "execute_result"
    }
   ],
   "source": [
    "len(app_br_test)"
   ]
  },
  {
   "cell_type": "code",
   "execution_count": 18,
   "id": "79dbf98e",
   "metadata": {},
   "outputs": [
    {
     "data": {
      "text/html": [
       "<div>\n",
       "<style scoped>\n",
       "    .dataframe tbody tr th:only-of-type {\n",
       "        vertical-align: middle;\n",
       "    }\n",
       "\n",
       "    .dataframe tbody tr th {\n",
       "        vertical-align: top;\n",
       "    }\n",
       "\n",
       "    .dataframe thead th {\n",
       "        text-align: right;\n",
       "    }\n",
       "</style>\n",
       "<table border=\"1\" class=\"dataframe\">\n",
       "  <thead>\n",
       "    <tr style=\"text-align: right;\">\n",
       "      <th></th>\n",
       "      <th>SK_ID_CURR</th>\n",
       "      <th>NAME_CONTRACT_TYPE</th>\n",
       "      <th>CODE_GENDER</th>\n",
       "      <th>FLAG_OWN_CAR</th>\n",
       "      <th>CNT_CHILDREN</th>\n",
       "      <th>AMT_INCOME_TOTAL</th>\n",
       "      <th>AMT_CREDIT</th>\n",
       "      <th>AMT_ANNUITY</th>\n",
       "      <th>AMT_GOODS_PRICE</th>\n",
       "      <th>NAME_INCOME_TYPE</th>\n",
       "      <th>...</th>\n",
       "      <th>FLAG_DOCUMENT_13</th>\n",
       "      <th>FLAG_DOCUMENT_16</th>\n",
       "      <th>AMT_REQ_CREDIT_BUREAU_MON</th>\n",
       "      <th>AMT_REQ_CREDIT_BUREAU_YEAR</th>\n",
       "      <th>CREDIT_TERM</th>\n",
       "      <th>DAYS_EMPLOYED_PERCENT</th>\n",
       "      <th>credit_annuity_ratio</th>\n",
       "      <th>credit_goods_price_ratio</th>\n",
       "      <th>credit_downpayment</th>\n",
       "      <th>AGE_INT</th>\n",
       "    </tr>\n",
       "  </thead>\n",
       "  <tbody>\n",
       "    <tr>\n",
       "      <th>0</th>\n",
       "      <td>100001.0</td>\n",
       "      <td>0.0</td>\n",
       "      <td>0.0</td>\n",
       "      <td>0.0</td>\n",
       "      <td>0.0</td>\n",
       "      <td>135000.0</td>\n",
       "      <td>568800.0</td>\n",
       "      <td>20560.5</td>\n",
       "      <td>450000.0</td>\n",
       "      <td>0.0</td>\n",
       "      <td>...</td>\n",
       "      <td>0.0</td>\n",
       "      <td>0.0</td>\n",
       "      <td>0.000000</td>\n",
       "      <td>0.000000</td>\n",
       "      <td>0.036147</td>\n",
       "      <td>0.121044</td>\n",
       "      <td>19.775662</td>\n",
       "      <td>1.2640</td>\n",
       "      <td>-118800.0</td>\n",
       "      <td>52.715068</td>\n",
       "    </tr>\n",
       "    <tr>\n",
       "      <th>1</th>\n",
       "      <td>100005.0</td>\n",
       "      <td>0.0</td>\n",
       "      <td>1.0</td>\n",
       "      <td>0.0</td>\n",
       "      <td>0.0</td>\n",
       "      <td>99000.0</td>\n",
       "      <td>222768.0</td>\n",
       "      <td>17370.0</td>\n",
       "      <td>180000.0</td>\n",
       "      <td>0.0</td>\n",
       "      <td>...</td>\n",
       "      <td>0.0</td>\n",
       "      <td>0.0</td>\n",
       "      <td>0.000000</td>\n",
       "      <td>3.000000</td>\n",
       "      <td>0.077973</td>\n",
       "      <td>0.247398</td>\n",
       "      <td>74.467617</td>\n",
       "      <td>1.2376</td>\n",
       "      <td>-42768.0</td>\n",
       "      <td>49.490411</td>\n",
       "    </tr>\n",
       "    <tr>\n",
       "      <th>2</th>\n",
       "      <td>100013.0</td>\n",
       "      <td>0.0</td>\n",
       "      <td>1.0</td>\n",
       "      <td>1.0</td>\n",
       "      <td>0.0</td>\n",
       "      <td>202500.0</td>\n",
       "      <td>663264.0</td>\n",
       "      <td>69777.0</td>\n",
       "      <td>630000.0</td>\n",
       "      <td>0.0</td>\n",
       "      <td>...</td>\n",
       "      <td>0.0</td>\n",
       "      <td>0.0</td>\n",
       "      <td>0.000000</td>\n",
       "      <td>4.000000</td>\n",
       "      <td>0.105202</td>\n",
       "      <td>0.222477</td>\n",
       "      <td>1.934735</td>\n",
       "      <td>1.0528</td>\n",
       "      <td>-33264.0</td>\n",
       "      <td>54.898630</td>\n",
       "    </tr>\n",
       "    <tr>\n",
       "      <th>3</th>\n",
       "      <td>100028.0</td>\n",
       "      <td>0.0</td>\n",
       "      <td>0.0</td>\n",
       "      <td>0.0</td>\n",
       "      <td>2.0</td>\n",
       "      <td>315000.0</td>\n",
       "      <td>1575000.0</td>\n",
       "      <td>49018.5</td>\n",
       "      <td>1575000.0</td>\n",
       "      <td>0.0</td>\n",
       "      <td>...</td>\n",
       "      <td>0.0</td>\n",
       "      <td>0.0</td>\n",
       "      <td>0.000000</td>\n",
       "      <td>3.000000</td>\n",
       "      <td>0.031123</td>\n",
       "      <td>0.133515</td>\n",
       "      <td>6.378867</td>\n",
       "      <td>1.0000</td>\n",
       "      <td>0.0</td>\n",
       "      <td>38.290411</td>\n",
       "    </tr>\n",
       "    <tr>\n",
       "      <th>4</th>\n",
       "      <td>100038.0</td>\n",
       "      <td>0.0</td>\n",
       "      <td>1.0</td>\n",
       "      <td>1.0</td>\n",
       "      <td>1.0</td>\n",
       "      <td>180000.0</td>\n",
       "      <td>625500.0</td>\n",
       "      <td>32067.0</td>\n",
       "      <td>625500.0</td>\n",
       "      <td>0.0</td>\n",
       "      <td>...</td>\n",
       "      <td>0.0</td>\n",
       "      <td>0.0</td>\n",
       "      <td>0.010242</td>\n",
       "      <td>1.748333</td>\n",
       "      <td>0.051266</td>\n",
       "      <td>0.168021</td>\n",
       "      <td>15.997755</td>\n",
       "      <td>1.0000</td>\n",
       "      <td>0.0</td>\n",
       "      <td>35.726027</td>\n",
       "    </tr>\n",
       "  </tbody>\n",
       "</table>\n",
       "<p>5 rows × 91 columns</p>\n",
       "</div>"
      ],
      "text/plain": [
       "   SK_ID_CURR  NAME_CONTRACT_TYPE  CODE_GENDER  FLAG_OWN_CAR  CNT_CHILDREN  \\\n",
       "0    100001.0                 0.0          0.0           0.0           0.0   \n",
       "1    100005.0                 0.0          1.0           0.0           0.0   \n",
       "2    100013.0                 0.0          1.0           1.0           0.0   \n",
       "3    100028.0                 0.0          0.0           0.0           2.0   \n",
       "4    100038.0                 0.0          1.0           1.0           1.0   \n",
       "\n",
       "   AMT_INCOME_TOTAL  AMT_CREDIT  AMT_ANNUITY  AMT_GOODS_PRICE  \\\n",
       "0          135000.0    568800.0      20560.5         450000.0   \n",
       "1           99000.0    222768.0      17370.0         180000.0   \n",
       "2          202500.0    663264.0      69777.0         630000.0   \n",
       "3          315000.0   1575000.0      49018.5        1575000.0   \n",
       "4          180000.0    625500.0      32067.0         625500.0   \n",
       "\n",
       "   NAME_INCOME_TYPE  ...  FLAG_DOCUMENT_13  FLAG_DOCUMENT_16  \\\n",
       "0               0.0  ...               0.0               0.0   \n",
       "1               0.0  ...               0.0               0.0   \n",
       "2               0.0  ...               0.0               0.0   \n",
       "3               0.0  ...               0.0               0.0   \n",
       "4               0.0  ...               0.0               0.0   \n",
       "\n",
       "   AMT_REQ_CREDIT_BUREAU_MON  AMT_REQ_CREDIT_BUREAU_YEAR  CREDIT_TERM  \\\n",
       "0                   0.000000                    0.000000     0.036147   \n",
       "1                   0.000000                    3.000000     0.077973   \n",
       "2                   0.000000                    4.000000     0.105202   \n",
       "3                   0.000000                    3.000000     0.031123   \n",
       "4                   0.010242                    1.748333     0.051266   \n",
       "\n",
       "   DAYS_EMPLOYED_PERCENT  credit_annuity_ratio  credit_goods_price_ratio  \\\n",
       "0               0.121044             19.775662                    1.2640   \n",
       "1               0.247398             74.467617                    1.2376   \n",
       "2               0.222477              1.934735                    1.0528   \n",
       "3               0.133515              6.378867                    1.0000   \n",
       "4               0.168021             15.997755                    1.0000   \n",
       "\n",
       "   credit_downpayment    AGE_INT  \n",
       "0           -118800.0  52.715068  \n",
       "1            -42768.0  49.490411  \n",
       "2            -33264.0  54.898630  \n",
       "3                 0.0  38.290411  \n",
       "4                 0.0  35.726027  \n",
       "\n",
       "[5 rows x 91 columns]"
      ]
     },
     "execution_count": 18,
     "metadata": {},
     "output_type": "execute_result"
    }
   ],
   "source": [
    "# applicationの欠損値を補完\n",
    "imputer = IterativeImputer()\n",
    "replace_columns = list(app_test.select_dtypes(include='number').columns)\n",
    "app_train = pd.DataFrame(imputer.fit_transform(app_train[replace_columns].copy()), columns=replace_columns)\n",
    "app_test = pd.DataFrame(imputer.fit_transform(app_test[replace_columns].copy()), columns=replace_columns)\n",
    "app_test.head()"
   ]
  },
  {
   "cell_type": "code",
   "execution_count": 19,
   "id": "e3f6cade",
   "metadata": {},
   "outputs": [
    {
     "data": {
      "text/html": [
       "<div>\n",
       "<style scoped>\n",
       "    .dataframe tbody tr th:only-of-type {\n",
       "        vertical-align: middle;\n",
       "    }\n",
       "\n",
       "    .dataframe tbody tr th {\n",
       "        vertical-align: top;\n",
       "    }\n",
       "\n",
       "    .dataframe thead th {\n",
       "        text-align: right;\n",
       "    }\n",
       "</style>\n",
       "<table border=\"1\" class=\"dataframe\">\n",
       "  <thead>\n",
       "    <tr style=\"text-align: right;\">\n",
       "      <th></th>\n",
       "      <th>SK_ID_CURR</th>\n",
       "      <th>NAME_CONTRACT_TYPE</th>\n",
       "      <th>CODE_GENDER</th>\n",
       "      <th>FLAG_OWN_CAR</th>\n",
       "      <th>CNT_CHILDREN</th>\n",
       "      <th>AMT_INCOME_TOTAL</th>\n",
       "      <th>AMT_CREDIT</th>\n",
       "      <th>AMT_ANNUITY</th>\n",
       "      <th>AMT_GOODS_PRICE</th>\n",
       "      <th>NAME_INCOME_TYPE</th>\n",
       "      <th>...</th>\n",
       "      <th>FLAG_DOCUMENT_13</th>\n",
       "      <th>FLAG_DOCUMENT_16</th>\n",
       "      <th>AMT_REQ_CREDIT_BUREAU_MON</th>\n",
       "      <th>AMT_REQ_CREDIT_BUREAU_YEAR</th>\n",
       "      <th>CREDIT_TERM</th>\n",
       "      <th>DAYS_EMPLOYED_PERCENT</th>\n",
       "      <th>credit_annuity_ratio</th>\n",
       "      <th>credit_goods_price_ratio</th>\n",
       "      <th>credit_downpayment</th>\n",
       "      <th>AGE_INT</th>\n",
       "    </tr>\n",
       "  </thead>\n",
       "  <tbody>\n",
       "    <tr>\n",
       "      <th>0</th>\n",
       "      <td>100001</td>\n",
       "      <td>0.0</td>\n",
       "      <td>0.0</td>\n",
       "      <td>0.0</td>\n",
       "      <td>0.0</td>\n",
       "      <td>135000.0</td>\n",
       "      <td>568800.0</td>\n",
       "      <td>20560.5</td>\n",
       "      <td>450000.0</td>\n",
       "      <td>0.0</td>\n",
       "      <td>...</td>\n",
       "      <td>0.0</td>\n",
       "      <td>0.0</td>\n",
       "      <td>0.000000</td>\n",
       "      <td>0.000000</td>\n",
       "      <td>0.036147</td>\n",
       "      <td>0.121044</td>\n",
       "      <td>19.775662</td>\n",
       "      <td>1.2640</td>\n",
       "      <td>-118800.0</td>\n",
       "      <td>52.715068</td>\n",
       "    </tr>\n",
       "    <tr>\n",
       "      <th>1</th>\n",
       "      <td>100005</td>\n",
       "      <td>0.0</td>\n",
       "      <td>1.0</td>\n",
       "      <td>0.0</td>\n",
       "      <td>0.0</td>\n",
       "      <td>99000.0</td>\n",
       "      <td>222768.0</td>\n",
       "      <td>17370.0</td>\n",
       "      <td>180000.0</td>\n",
       "      <td>0.0</td>\n",
       "      <td>...</td>\n",
       "      <td>0.0</td>\n",
       "      <td>0.0</td>\n",
       "      <td>0.000000</td>\n",
       "      <td>3.000000</td>\n",
       "      <td>0.077973</td>\n",
       "      <td>0.247398</td>\n",
       "      <td>74.467617</td>\n",
       "      <td>1.2376</td>\n",
       "      <td>-42768.0</td>\n",
       "      <td>49.490411</td>\n",
       "    </tr>\n",
       "    <tr>\n",
       "      <th>2</th>\n",
       "      <td>100013</td>\n",
       "      <td>0.0</td>\n",
       "      <td>1.0</td>\n",
       "      <td>1.0</td>\n",
       "      <td>0.0</td>\n",
       "      <td>202500.0</td>\n",
       "      <td>663264.0</td>\n",
       "      <td>69777.0</td>\n",
       "      <td>630000.0</td>\n",
       "      <td>0.0</td>\n",
       "      <td>...</td>\n",
       "      <td>0.0</td>\n",
       "      <td>0.0</td>\n",
       "      <td>0.000000</td>\n",
       "      <td>4.000000</td>\n",
       "      <td>0.105202</td>\n",
       "      <td>0.222477</td>\n",
       "      <td>1.934735</td>\n",
       "      <td>1.0528</td>\n",
       "      <td>-33264.0</td>\n",
       "      <td>54.898630</td>\n",
       "    </tr>\n",
       "    <tr>\n",
       "      <th>3</th>\n",
       "      <td>100028</td>\n",
       "      <td>0.0</td>\n",
       "      <td>0.0</td>\n",
       "      <td>0.0</td>\n",
       "      <td>2.0</td>\n",
       "      <td>315000.0</td>\n",
       "      <td>1575000.0</td>\n",
       "      <td>49018.5</td>\n",
       "      <td>1575000.0</td>\n",
       "      <td>0.0</td>\n",
       "      <td>...</td>\n",
       "      <td>0.0</td>\n",
       "      <td>0.0</td>\n",
       "      <td>0.000000</td>\n",
       "      <td>3.000000</td>\n",
       "      <td>0.031123</td>\n",
       "      <td>0.133515</td>\n",
       "      <td>6.378867</td>\n",
       "      <td>1.0000</td>\n",
       "      <td>0.0</td>\n",
       "      <td>38.290411</td>\n",
       "    </tr>\n",
       "    <tr>\n",
       "      <th>4</th>\n",
       "      <td>100038</td>\n",
       "      <td>0.0</td>\n",
       "      <td>1.0</td>\n",
       "      <td>1.0</td>\n",
       "      <td>1.0</td>\n",
       "      <td>180000.0</td>\n",
       "      <td>625500.0</td>\n",
       "      <td>32067.0</td>\n",
       "      <td>625500.0</td>\n",
       "      <td>0.0</td>\n",
       "      <td>...</td>\n",
       "      <td>0.0</td>\n",
       "      <td>0.0</td>\n",
       "      <td>0.010242</td>\n",
       "      <td>1.748333</td>\n",
       "      <td>0.051266</td>\n",
       "      <td>0.168021</td>\n",
       "      <td>15.997755</td>\n",
       "      <td>1.0000</td>\n",
       "      <td>0.0</td>\n",
       "      <td>35.726027</td>\n",
       "    </tr>\n",
       "  </tbody>\n",
       "</table>\n",
       "<p>5 rows × 91 columns</p>\n",
       "</div>"
      ],
      "text/plain": [
       "   SK_ID_CURR  NAME_CONTRACT_TYPE  CODE_GENDER  FLAG_OWN_CAR  CNT_CHILDREN  \\\n",
       "0      100001                 0.0          0.0           0.0           0.0   \n",
       "1      100005                 0.0          1.0           0.0           0.0   \n",
       "2      100013                 0.0          1.0           1.0           0.0   \n",
       "3      100028                 0.0          0.0           0.0           2.0   \n",
       "4      100038                 0.0          1.0           1.0           1.0   \n",
       "\n",
       "   AMT_INCOME_TOTAL  AMT_CREDIT  AMT_ANNUITY  AMT_GOODS_PRICE  \\\n",
       "0          135000.0    568800.0      20560.5         450000.0   \n",
       "1           99000.0    222768.0      17370.0         180000.0   \n",
       "2          202500.0    663264.0      69777.0         630000.0   \n",
       "3          315000.0   1575000.0      49018.5        1575000.0   \n",
       "4          180000.0    625500.0      32067.0         625500.0   \n",
       "\n",
       "   NAME_INCOME_TYPE  ...  FLAG_DOCUMENT_13  FLAG_DOCUMENT_16  \\\n",
       "0               0.0  ...               0.0               0.0   \n",
       "1               0.0  ...               0.0               0.0   \n",
       "2               0.0  ...               0.0               0.0   \n",
       "3               0.0  ...               0.0               0.0   \n",
       "4               0.0  ...               0.0               0.0   \n",
       "\n",
       "   AMT_REQ_CREDIT_BUREAU_MON  AMT_REQ_CREDIT_BUREAU_YEAR  CREDIT_TERM  \\\n",
       "0                   0.000000                    0.000000     0.036147   \n",
       "1                   0.000000                    3.000000     0.077973   \n",
       "2                   0.000000                    4.000000     0.105202   \n",
       "3                   0.000000                    3.000000     0.031123   \n",
       "4                   0.010242                    1.748333     0.051266   \n",
       "\n",
       "   DAYS_EMPLOYED_PERCENT  credit_annuity_ratio  credit_goods_price_ratio  \\\n",
       "0               0.121044             19.775662                    1.2640   \n",
       "1               0.247398             74.467617                    1.2376   \n",
       "2               0.222477              1.934735                    1.0528   \n",
       "3               0.133515              6.378867                    1.0000   \n",
       "4               0.168021             15.997755                    1.0000   \n",
       "\n",
       "   credit_downpayment    AGE_INT  \n",
       "0           -118800.0  52.715068  \n",
       "1            -42768.0  49.490411  \n",
       "2            -33264.0  54.898630  \n",
       "3                 0.0  38.290411  \n",
       "4                 0.0  35.726027  \n",
       "\n",
       "[5 rows x 91 columns]"
      ]
     },
     "execution_count": 19,
     "metadata": {},
     "output_type": "execute_result"
    }
   ],
   "source": [
    "app_train['SK_ID_CURR'] = app_train[[\"SK_ID_CURR\"]].astype(int) \n",
    "app_test['SK_ID_CURR'] = app_test[[\"SK_ID_CURR\"]].astype(int)\n",
    "app_test.head()"
   ]
  },
  {
   "cell_type": "code",
   "execution_count": 20,
   "id": "ad2712ab",
   "metadata": {},
   "outputs": [
    {
     "data": {
      "text/plain": [
       "0"
      ]
     },
     "execution_count": 20,
     "metadata": {},
     "output_type": "execute_result"
    }
   ],
   "source": [
    "app_train['EXT_SOURCE_1'].isnull().sum()"
   ]
  },
  {
   "cell_type": "code",
   "execution_count": 21,
   "id": "ace08ac3",
   "metadata": {},
   "outputs": [],
   "source": [
    "#app_train = app_train[['SK_ID_CURR','TARGET','EXT_SOURCE_1','EXT_SOURCE_2','EXT_SOURCE_3']].copy()\n",
    "#app_test = app_test[['SK_ID_CURR','EXT_SOURCE_1','EXT_SOURCE_2','EXT_SOURCE_3']].copy()\n",
    "#app_train = app_train[['SK_ID_CURR','TARGET']].copy()\n",
    "#app_test = app_test[['SK_ID_CURR']].copy()\n",
    "#len(app_test)"
   ]
  },
  {
   "cell_type": "code",
   "execution_count": 22,
   "id": "ff4fa677",
   "metadata": {},
   "outputs": [
    {
     "data": {
      "text/plain": [
       "42311"
      ]
     },
     "execution_count": 22,
     "metadata": {},
     "output_type": "execute_result"
    }
   ],
   "source": [
    "app_br_train = app_br_train.rename(columns={'sk_id_curr': 'SK_ID_CURR'})\n",
    "app_br_test = app_br_test.rename(columns={'sk_id_curr': 'SK_ID_CURR'})\n",
    "len(app_br_test)"
   ]
  },
  {
   "cell_type": "code",
   "execution_count": 23,
   "id": "54696994",
   "metadata": {},
   "outputs": [
    {
     "name": "stdout",
     "output_type": "stream",
     "text": [
      "<class 'pandas.core.frame.DataFrame'>\n",
      "RangeIndex: 42311 entries, 0 to 42310\n",
      "Columns: 111 entries, SK_ID_CURR to br_variance_pop_amt_annuity\n",
      "dtypes: float64(110), int32(1)\n",
      "memory usage: 35.7 MB\n"
     ]
    }
   ],
   "source": [
    "app_br_test.info()"
   ]
  },
  {
   "cell_type": "code",
   "execution_count": 24,
   "id": "2917542c",
   "metadata": {},
   "outputs": [
    {
     "data": {
      "text/plain": [
       "48744"
      ]
     },
     "execution_count": 24,
     "metadata": {},
     "output_type": "execute_result"
    }
   ],
   "source": [
    "# trainへマージ\n",
    "app_train = pd.merge(app_train, app_br_train, on='SK_ID_CURR', how='left')\n",
    "# testへマージ\n",
    "app_test = pd.merge(app_test, app_br_test, on='SK_ID_CURR', how='left')\n",
    "len(app_test)"
   ]
  },
  {
   "cell_type": "code",
   "execution_count": 25,
   "id": "a5c38203",
   "metadata": {},
   "outputs": [
    {
     "data": {
      "text/html": [
       "<div>\n",
       "<style scoped>\n",
       "    .dataframe tbody tr th:only-of-type {\n",
       "        vertical-align: middle;\n",
       "    }\n",
       "\n",
       "    .dataframe tbody tr th {\n",
       "        vertical-align: top;\n",
       "    }\n",
       "\n",
       "    .dataframe thead th {\n",
       "        text-align: right;\n",
       "    }\n",
       "</style>\n",
       "<table border=\"1\" class=\"dataframe\">\n",
       "  <thead>\n",
       "    <tr style=\"text-align: right;\">\n",
       "      <th></th>\n",
       "      <th>SK_ID_CURR</th>\n",
       "      <th>NAME_CONTRACT_TYPE</th>\n",
       "      <th>CODE_GENDER</th>\n",
       "      <th>FLAG_OWN_CAR</th>\n",
       "      <th>CNT_CHILDREN</th>\n",
       "      <th>AMT_INCOME_TOTAL</th>\n",
       "      <th>AMT_CREDIT</th>\n",
       "      <th>AMT_ANNUITY</th>\n",
       "      <th>AMT_GOODS_PRICE</th>\n",
       "      <th>NAME_INCOME_TYPE</th>\n",
       "      <th>...</th>\n",
       "      <th>br_min_amt_annuity</th>\n",
       "      <th>br_max_amt_annuity</th>\n",
       "      <th>br_sum_amt_annuity</th>\n",
       "      <th>br_avg_amt_annuity</th>\n",
       "      <th>br_cnt_amt_annuity</th>\n",
       "      <th>br_stddev_amt_annuity</th>\n",
       "      <th>br_stddev_pop_amt_annuity</th>\n",
       "      <th>br_var_pop_amt_annuity</th>\n",
       "      <th>br_var_samp_amt_annuity</th>\n",
       "      <th>br_variance_pop_amt_annuity</th>\n",
       "    </tr>\n",
       "  </thead>\n",
       "  <tbody>\n",
       "    <tr>\n",
       "      <th>0</th>\n",
       "      <td>100001</td>\n",
       "      <td>0.0</td>\n",
       "      <td>0.0</td>\n",
       "      <td>0.0</td>\n",
       "      <td>0.0</td>\n",
       "      <td>135000.0</td>\n",
       "      <td>568800.0</td>\n",
       "      <td>20560.5</td>\n",
       "      <td>450000.0</td>\n",
       "      <td>0.0</td>\n",
       "      <td>...</td>\n",
       "      <td>0.0</td>\n",
       "      <td>9364.500</td>\n",
       "      <td>212634.000</td>\n",
       "      <td>1236.244186</td>\n",
       "      <td>172.0</td>\n",
       "      <td>2794.728222</td>\n",
       "      <td>2794.728222</td>\n",
       "      <td>7.810506e+06</td>\n",
       "      <td>7.856181e+06</td>\n",
       "      <td>7.810506e+06</td>\n",
       "    </tr>\n",
       "    <tr>\n",
       "      <th>1</th>\n",
       "      <td>100005</td>\n",
       "      <td>0.0</td>\n",
       "      <td>1.0</td>\n",
       "      <td>0.0</td>\n",
       "      <td>0.0</td>\n",
       "      <td>99000.0</td>\n",
       "      <td>222768.0</td>\n",
       "      <td>17370.0</td>\n",
       "      <td>180000.0</td>\n",
       "      <td>0.0</td>\n",
       "      <td>...</td>\n",
       "      <td>0.0</td>\n",
       "      <td>4261.500</td>\n",
       "      <td>12784.500</td>\n",
       "      <td>608.785714</td>\n",
       "      <td>21.0</td>\n",
       "      <td>1491.214363</td>\n",
       "      <td>1491.214363</td>\n",
       "      <td>2.223720e+06</td>\n",
       "      <td>2.334906e+06</td>\n",
       "      <td>2.223720e+06</td>\n",
       "    </tr>\n",
       "    <tr>\n",
       "      <th>2</th>\n",
       "      <td>100013</td>\n",
       "      <td>0.0</td>\n",
       "      <td>1.0</td>\n",
       "      <td>1.0</td>\n",
       "      <td>0.0</td>\n",
       "      <td>202500.0</td>\n",
       "      <td>663264.0</td>\n",
       "      <td>69777.0</td>\n",
       "      <td>630000.0</td>\n",
       "      <td>0.0</td>\n",
       "      <td>...</td>\n",
       "      <td>NaN</td>\n",
       "      <td>0.000</td>\n",
       "      <td>0.000</td>\n",
       "      <td>0.000000</td>\n",
       "      <td>217.0</td>\n",
       "      <td>0.000000</td>\n",
       "      <td>0.000000</td>\n",
       "      <td>0.000000e+00</td>\n",
       "      <td>0.000000e+00</td>\n",
       "      <td>0.000000e+00</td>\n",
       "    </tr>\n",
       "    <tr>\n",
       "      <th>3</th>\n",
       "      <td>100028</td>\n",
       "      <td>0.0</td>\n",
       "      <td>0.0</td>\n",
       "      <td>0.0</td>\n",
       "      <td>2.0</td>\n",
       "      <td>315000.0</td>\n",
       "      <td>1575000.0</td>\n",
       "      <td>49018.5</td>\n",
       "      <td>1575000.0</td>\n",
       "      <td>0.0</td>\n",
       "      <td>...</td>\n",
       "      <td>NaN</td>\n",
       "      <td>6562.485</td>\n",
       "      <td>443230.785</td>\n",
       "      <td>826.923106</td>\n",
       "      <td>536.0</td>\n",
       "      <td>2284.010751</td>\n",
       "      <td>2284.010751</td>\n",
       "      <td>5.216705e+06</td>\n",
       "      <td>5.226456e+06</td>\n",
       "      <td>5.216705e+06</td>\n",
       "    </tr>\n",
       "    <tr>\n",
       "      <th>4</th>\n",
       "      <td>100038</td>\n",
       "      <td>0.0</td>\n",
       "      <td>1.0</td>\n",
       "      <td>1.0</td>\n",
       "      <td>1.0</td>\n",
       "      <td>180000.0</td>\n",
       "      <td>625500.0</td>\n",
       "      <td>32067.0</td>\n",
       "      <td>625500.0</td>\n",
       "      <td>0.0</td>\n",
       "      <td>...</td>\n",
       "      <td>NaN</td>\n",
       "      <td>NaN</td>\n",
       "      <td>NaN</td>\n",
       "      <td>NaN</td>\n",
       "      <td>NaN</td>\n",
       "      <td>NaN</td>\n",
       "      <td>NaN</td>\n",
       "      <td>NaN</td>\n",
       "      <td>NaN</td>\n",
       "      <td>NaN</td>\n",
       "    </tr>\n",
       "  </tbody>\n",
       "</table>\n",
       "<p>5 rows × 201 columns</p>\n",
       "</div>"
      ],
      "text/plain": [
       "   SK_ID_CURR  NAME_CONTRACT_TYPE  CODE_GENDER  FLAG_OWN_CAR  CNT_CHILDREN  \\\n",
       "0      100001                 0.0          0.0           0.0           0.0   \n",
       "1      100005                 0.0          1.0           0.0           0.0   \n",
       "2      100013                 0.0          1.0           1.0           0.0   \n",
       "3      100028                 0.0          0.0           0.0           2.0   \n",
       "4      100038                 0.0          1.0           1.0           1.0   \n",
       "\n",
       "   AMT_INCOME_TOTAL  AMT_CREDIT  AMT_ANNUITY  AMT_GOODS_PRICE  \\\n",
       "0          135000.0    568800.0      20560.5         450000.0   \n",
       "1           99000.0    222768.0      17370.0         180000.0   \n",
       "2          202500.0    663264.0      69777.0         630000.0   \n",
       "3          315000.0   1575000.0      49018.5        1575000.0   \n",
       "4          180000.0    625500.0      32067.0         625500.0   \n",
       "\n",
       "   NAME_INCOME_TYPE  ...  br_min_amt_annuity  br_max_amt_annuity  \\\n",
       "0               0.0  ...                 0.0            9364.500   \n",
       "1               0.0  ...                 0.0            4261.500   \n",
       "2               0.0  ...                 NaN               0.000   \n",
       "3               0.0  ...                 NaN            6562.485   \n",
       "4               0.0  ...                 NaN                 NaN   \n",
       "\n",
       "   br_sum_amt_annuity  br_avg_amt_annuity  br_cnt_amt_annuity  \\\n",
       "0          212634.000         1236.244186               172.0   \n",
       "1           12784.500          608.785714                21.0   \n",
       "2               0.000            0.000000               217.0   \n",
       "3          443230.785          826.923106               536.0   \n",
       "4                 NaN                 NaN                 NaN   \n",
       "\n",
       "   br_stddev_amt_annuity  br_stddev_pop_amt_annuity  br_var_pop_amt_annuity  \\\n",
       "0            2794.728222                2794.728222            7.810506e+06   \n",
       "1            1491.214363                1491.214363            2.223720e+06   \n",
       "2               0.000000                   0.000000            0.000000e+00   \n",
       "3            2284.010751                2284.010751            5.216705e+06   \n",
       "4                    NaN                        NaN                     NaN   \n",
       "\n",
       "   br_var_samp_amt_annuity  br_variance_pop_amt_annuity  \n",
       "0             7.856181e+06                 7.810506e+06  \n",
       "1             2.334906e+06                 2.223720e+06  \n",
       "2             0.000000e+00                 0.000000e+00  \n",
       "3             5.226456e+06                 5.216705e+06  \n",
       "4                      NaN                          NaN  \n",
       "\n",
       "[5 rows x 201 columns]"
      ]
     },
     "execution_count": 25,
     "metadata": {},
     "output_type": "execute_result"
    }
   ],
   "source": [
    "app_test.head()"
   ]
  },
  {
   "cell_type": "markdown",
   "id": "e84e921f",
   "metadata": {},
   "source": [
    "## 他金融機関での借り入れ情報(bureau)前処理"
   ]
  },
  {
   "cell_type": "markdown",
   "id": "7362fe7f",
   "metadata": {},
   "source": [
    "### 欠損値の補完"
   ]
  },
  {
   "cell_type": "code",
   "execution_count": 26,
   "id": "26d30878",
   "metadata": {},
   "outputs": [],
   "source": [
    "# Function to calculate missing values by column# Funct \n",
    "def missing_values_table(df):\n",
    "        # Total missing values\n",
    "        mis_val = df.isnull().sum()\n",
    "        \n",
    "        # Percentage of missing values\n",
    "        mis_val_percent = 100 * df.isnull().sum() / len(df)\n",
    "        \n",
    "        # Make a table with the results\n",
    "        mis_val_table = pd.concat([mis_val, mis_val_percent], axis=1)\n",
    "        \n",
    "        # Rename the columns\n",
    "        mis_val_table_ren_columns = mis_val_table.rename(\n",
    "        columns = {0 : 'Missing Values', 1 : '% of Total Values'})\n",
    "        \n",
    "        # Sort the table by percentage of missing descending\n",
    "        mis_val_table_ren_columns = mis_val_table_ren_columns[\n",
    "            mis_val_table_ren_columns.iloc[:,1] != 0].sort_values(\n",
    "        '% of Total Values', ascending=False).round(1)\n",
    "        \n",
    "        # Print some summary information\n",
    "        print (\"Your selected dataframe has \" + str(df.shape[1]) + \" columns.\\n\"      \n",
    "            \"There are \" + str(mis_val_table_ren_columns.shape[0]) +\n",
    "              \" columns that have missing values.\")\n",
    "        \n",
    "        # Return the dataframe with missing information\n",
    "        return mis_val_table_ren_columns"
   ]
  },
  {
   "cell_type": "code",
   "execution_count": 27,
   "id": "4b5d10c6",
   "metadata": {},
   "outputs": [
    {
     "data": {
      "text/html": [
       "<div>\n",
       "<style scoped>\n",
       "    .dataframe tbody tr th:only-of-type {\n",
       "        vertical-align: middle;\n",
       "    }\n",
       "\n",
       "    .dataframe tbody tr th {\n",
       "        vertical-align: top;\n",
       "    }\n",
       "\n",
       "    .dataframe thead th {\n",
       "        text-align: right;\n",
       "    }\n",
       "</style>\n",
       "<table border=\"1\" class=\"dataframe\">\n",
       "  <thead>\n",
       "    <tr style=\"text-align: right;\">\n",
       "      <th></th>\n",
       "      <th>SK_ID_CURR</th>\n",
       "      <th>br_min_credit_day_overdue</th>\n",
       "      <th>br_max_credit_day_overdue</th>\n",
       "      <th>br_sum_credit_day_overdue</th>\n",
       "      <th>br_avg_credit_day_overdue</th>\n",
       "      <th>br_cnt_credit_day_overdue</th>\n",
       "      <th>br_stddev_credit_day_overdue</th>\n",
       "      <th>br_stddev_pop_credit_day_overdue</th>\n",
       "      <th>br_var_pop_credit_day_overdue</th>\n",
       "      <th>br_var_samp_credit_day_overdue</th>\n",
       "      <th>...</th>\n",
       "      <th>br_min_amt_annuity</th>\n",
       "      <th>br_max_amt_annuity</th>\n",
       "      <th>br_sum_amt_annuity</th>\n",
       "      <th>br_avg_amt_annuity</th>\n",
       "      <th>br_cnt_amt_annuity</th>\n",
       "      <th>br_stddev_amt_annuity</th>\n",
       "      <th>br_stddev_pop_amt_annuity</th>\n",
       "      <th>br_var_pop_amt_annuity</th>\n",
       "      <th>br_var_samp_amt_annuity</th>\n",
       "      <th>br_variance_pop_amt_annuity</th>\n",
       "    </tr>\n",
       "  </thead>\n",
       "  <tbody>\n",
       "    <tr>\n",
       "      <th>0</th>\n",
       "      <td>100001</td>\n",
       "      <td>0.0</td>\n",
       "      <td>0.0</td>\n",
       "      <td>0.0</td>\n",
       "      <td>0.0</td>\n",
       "      <td>172.0</td>\n",
       "      <td>0.0</td>\n",
       "      <td>0.0</td>\n",
       "      <td>0.0</td>\n",
       "      <td>0.0</td>\n",
       "      <td>...</td>\n",
       "      <td>0.000</td>\n",
       "      <td>9364.500</td>\n",
       "      <td>2.126340e+05</td>\n",
       "      <td>1236.244186</td>\n",
       "      <td>172.0</td>\n",
       "      <td>2794.728222</td>\n",
       "      <td>2794.728222</td>\n",
       "      <td>7.810506e+06</td>\n",
       "      <td>7.856181e+06</td>\n",
       "      <td>7.810506e+06</td>\n",
       "    </tr>\n",
       "    <tr>\n",
       "      <th>1</th>\n",
       "      <td>100005</td>\n",
       "      <td>0.0</td>\n",
       "      <td>0.0</td>\n",
       "      <td>0.0</td>\n",
       "      <td>0.0</td>\n",
       "      <td>21.0</td>\n",
       "      <td>0.0</td>\n",
       "      <td>0.0</td>\n",
       "      <td>0.0</td>\n",
       "      <td>0.0</td>\n",
       "      <td>...</td>\n",
       "      <td>0.000</td>\n",
       "      <td>4261.500</td>\n",
       "      <td>1.278450e+04</td>\n",
       "      <td>608.785714</td>\n",
       "      <td>21.0</td>\n",
       "      <td>1491.214363</td>\n",
       "      <td>1491.214363</td>\n",
       "      <td>2.223720e+06</td>\n",
       "      <td>2.334906e+06</td>\n",
       "      <td>2.223720e+06</td>\n",
       "    </tr>\n",
       "    <tr>\n",
       "      <th>2</th>\n",
       "      <td>100013</td>\n",
       "      <td>0.0</td>\n",
       "      <td>0.0</td>\n",
       "      <td>0.0</td>\n",
       "      <td>0.0</td>\n",
       "      <td>217.0</td>\n",
       "      <td>0.0</td>\n",
       "      <td>0.0</td>\n",
       "      <td>0.0</td>\n",
       "      <td>0.0</td>\n",
       "      <td>...</td>\n",
       "      <td>NaN</td>\n",
       "      <td>0.000</td>\n",
       "      <td>0.000000e+00</td>\n",
       "      <td>0.000000</td>\n",
       "      <td>217.0</td>\n",
       "      <td>0.000000</td>\n",
       "      <td>0.000000</td>\n",
       "      <td>0.000000e+00</td>\n",
       "      <td>0.000000e+00</td>\n",
       "      <td>0.000000e+00</td>\n",
       "    </tr>\n",
       "    <tr>\n",
       "      <th>3</th>\n",
       "      <td>100028</td>\n",
       "      <td>0.0</td>\n",
       "      <td>0.0</td>\n",
       "      <td>0.0</td>\n",
       "      <td>0.0</td>\n",
       "      <td>536.0</td>\n",
       "      <td>0.0</td>\n",
       "      <td>0.0</td>\n",
       "      <td>0.0</td>\n",
       "      <td>0.0</td>\n",
       "      <td>...</td>\n",
       "      <td>NaN</td>\n",
       "      <td>6562.485</td>\n",
       "      <td>4.432308e+05</td>\n",
       "      <td>826.923106</td>\n",
       "      <td>536.0</td>\n",
       "      <td>2284.010751</td>\n",
       "      <td>2284.010751</td>\n",
       "      <td>5.216705e+06</td>\n",
       "      <td>5.226456e+06</td>\n",
       "      <td>5.216705e+06</td>\n",
       "    </tr>\n",
       "    <tr>\n",
       "      <th>4</th>\n",
       "      <td>100042</td>\n",
       "      <td>0.0</td>\n",
       "      <td>0.0</td>\n",
       "      <td>0.0</td>\n",
       "      <td>0.0</td>\n",
       "      <td>547.0</td>\n",
       "      <td>0.0</td>\n",
       "      <td>0.0</td>\n",
       "      <td>0.0</td>\n",
       "      <td>0.0</td>\n",
       "      <td>...</td>\n",
       "      <td>NaN</td>\n",
       "      <td>40500.000</td>\n",
       "      <td>4.324419e+06</td>\n",
       "      <td>7905.702011</td>\n",
       "      <td>547.0</td>\n",
       "      <td>15016.226193</td>\n",
       "      <td>15016.226193</td>\n",
       "      <td>2.254870e+08</td>\n",
       "      <td>2.259000e+08</td>\n",
       "      <td>2.254870e+08</td>\n",
       "    </tr>\n",
       "    <tr>\n",
       "      <th>...</th>\n",
       "      <td>...</td>\n",
       "      <td>...</td>\n",
       "      <td>...</td>\n",
       "      <td>...</td>\n",
       "      <td>...</td>\n",
       "      <td>...</td>\n",
       "      <td>...</td>\n",
       "      <td>...</td>\n",
       "      <td>...</td>\n",
       "      <td>...</td>\n",
       "      <td>...</td>\n",
       "      <td>...</td>\n",
       "      <td>...</td>\n",
       "      <td>...</td>\n",
       "      <td>...</td>\n",
       "      <td>...</td>\n",
       "      <td>...</td>\n",
       "      <td>...</td>\n",
       "      <td>...</td>\n",
       "      <td>...</td>\n",
       "      <td>...</td>\n",
       "    </tr>\n",
       "    <tr>\n",
       "      <th>42306</th>\n",
       "      <td>456202</td>\n",
       "      <td>0.0</td>\n",
       "      <td>0.0</td>\n",
       "      <td>0.0</td>\n",
       "      <td>0.0</td>\n",
       "      <td>85.0</td>\n",
       "      <td>0.0</td>\n",
       "      <td>0.0</td>\n",
       "      <td>0.0</td>\n",
       "      <td>0.0</td>\n",
       "      <td>...</td>\n",
       "      <td>NaN</td>\n",
       "      <td>0.000</td>\n",
       "      <td>0.000000e+00</td>\n",
       "      <td>0.000000</td>\n",
       "      <td>85.0</td>\n",
       "      <td>0.000000</td>\n",
       "      <td>0.000000</td>\n",
       "      <td>0.000000e+00</td>\n",
       "      <td>0.000000e+00</td>\n",
       "      <td>0.000000e+00</td>\n",
       "    </tr>\n",
       "    <tr>\n",
       "      <th>42307</th>\n",
       "      <td>456221</td>\n",
       "      <td>0.0</td>\n",
       "      <td>0.0</td>\n",
       "      <td>0.0</td>\n",
       "      <td>0.0</td>\n",
       "      <td>121.0</td>\n",
       "      <td>0.0</td>\n",
       "      <td>0.0</td>\n",
       "      <td>0.0</td>\n",
       "      <td>0.0</td>\n",
       "      <td>...</td>\n",
       "      <td>0.000</td>\n",
       "      <td>17257.500</td>\n",
       "      <td>4.706100e+05</td>\n",
       "      <td>3889.338843</td>\n",
       "      <td>121.0</td>\n",
       "      <td>6863.537346</td>\n",
       "      <td>6863.537346</td>\n",
       "      <td>4.710814e+07</td>\n",
       "      <td>4.750071e+07</td>\n",
       "      <td>4.710814e+07</td>\n",
       "    </tr>\n",
       "    <tr>\n",
       "      <th>42308</th>\n",
       "      <td>456223</td>\n",
       "      <td>0.0</td>\n",
       "      <td>0.0</td>\n",
       "      <td>0.0</td>\n",
       "      <td>0.0</td>\n",
       "      <td>92.0</td>\n",
       "      <td>0.0</td>\n",
       "      <td>0.0</td>\n",
       "      <td>0.0</td>\n",
       "      <td>0.0</td>\n",
       "      <td>...</td>\n",
       "      <td>NaN</td>\n",
       "      <td>5053.500</td>\n",
       "      <td>4.042800e+04</td>\n",
       "      <td>439.434783</td>\n",
       "      <td>92.0</td>\n",
       "      <td>1423.931440</td>\n",
       "      <td>1423.931440</td>\n",
       "      <td>2.027581e+06</td>\n",
       "      <td>2.049862e+06</td>\n",
       "      <td>2.027581e+06</td>\n",
       "    </tr>\n",
       "    <tr>\n",
       "      <th>42309</th>\n",
       "      <td>456224</td>\n",
       "      <td>0.0</td>\n",
       "      <td>0.0</td>\n",
       "      <td>0.0</td>\n",
       "      <td>0.0</td>\n",
       "      <td>800.0</td>\n",
       "      <td>0.0</td>\n",
       "      <td>0.0</td>\n",
       "      <td>0.0</td>\n",
       "      <td>0.0</td>\n",
       "      <td>...</td>\n",
       "      <td>NaN</td>\n",
       "      <td>4900.500</td>\n",
       "      <td>1.831856e+06</td>\n",
       "      <td>2289.819375</td>\n",
       "      <td>800.0</td>\n",
       "      <td>6466.382400</td>\n",
       "      <td>6466.382400</td>\n",
       "      <td>4.181410e+07</td>\n",
       "      <td>4.186643e+07</td>\n",
       "      <td>4.181410e+07</td>\n",
       "    </tr>\n",
       "    <tr>\n",
       "      <th>42310</th>\n",
       "      <td>456250</td>\n",
       "      <td>0.0</td>\n",
       "      <td>0.0</td>\n",
       "      <td>0.0</td>\n",
       "      <td>0.0</td>\n",
       "      <td>87.0</td>\n",
       "      <td>0.0</td>\n",
       "      <td>0.0</td>\n",
       "      <td>0.0</td>\n",
       "      <td>0.0</td>\n",
       "      <td>...</td>\n",
       "      <td>27757.395</td>\n",
       "      <td>51799.500</td>\n",
       "      <td>1.480085e+07</td>\n",
       "      <td>170124.655862</td>\n",
       "      <td>87.0</td>\n",
       "      <td>167576.427764</td>\n",
       "      <td>167576.427764</td>\n",
       "      <td>2.808186e+10</td>\n",
       "      <td>2.840839e+10</td>\n",
       "      <td>2.808186e+10</td>\n",
       "    </tr>\n",
       "  </tbody>\n",
       "</table>\n",
       "<p>42311 rows × 111 columns</p>\n",
       "</div>"
      ],
      "text/plain": [
       "       SK_ID_CURR  br_min_credit_day_overdue  br_max_credit_day_overdue  \\\n",
       "0          100001                        0.0                        0.0   \n",
       "1          100005                        0.0                        0.0   \n",
       "2          100013                        0.0                        0.0   \n",
       "3          100028                        0.0                        0.0   \n",
       "4          100042                        0.0                        0.0   \n",
       "...           ...                        ...                        ...   \n",
       "42306      456202                        0.0                        0.0   \n",
       "42307      456221                        0.0                        0.0   \n",
       "42308      456223                        0.0                        0.0   \n",
       "42309      456224                        0.0                        0.0   \n",
       "42310      456250                        0.0                        0.0   \n",
       "\n",
       "       br_sum_credit_day_overdue  br_avg_credit_day_overdue  \\\n",
       "0                            0.0                        0.0   \n",
       "1                            0.0                        0.0   \n",
       "2                            0.0                        0.0   \n",
       "3                            0.0                        0.0   \n",
       "4                            0.0                        0.0   \n",
       "...                          ...                        ...   \n",
       "42306                        0.0                        0.0   \n",
       "42307                        0.0                        0.0   \n",
       "42308                        0.0                        0.0   \n",
       "42309                        0.0                        0.0   \n",
       "42310                        0.0                        0.0   \n",
       "\n",
       "       br_cnt_credit_day_overdue  br_stddev_credit_day_overdue  \\\n",
       "0                          172.0                           0.0   \n",
       "1                           21.0                           0.0   \n",
       "2                          217.0                           0.0   \n",
       "3                          536.0                           0.0   \n",
       "4                          547.0                           0.0   \n",
       "...                          ...                           ...   \n",
       "42306                       85.0                           0.0   \n",
       "42307                      121.0                           0.0   \n",
       "42308                       92.0                           0.0   \n",
       "42309                      800.0                           0.0   \n",
       "42310                       87.0                           0.0   \n",
       "\n",
       "       br_stddev_pop_credit_day_overdue  br_var_pop_credit_day_overdue  \\\n",
       "0                                   0.0                            0.0   \n",
       "1                                   0.0                            0.0   \n",
       "2                                   0.0                            0.0   \n",
       "3                                   0.0                            0.0   \n",
       "4                                   0.0                            0.0   \n",
       "...                                 ...                            ...   \n",
       "42306                               0.0                            0.0   \n",
       "42307                               0.0                            0.0   \n",
       "42308                               0.0                            0.0   \n",
       "42309                               0.0                            0.0   \n",
       "42310                               0.0                            0.0   \n",
       "\n",
       "       br_var_samp_credit_day_overdue  ...  br_min_amt_annuity  \\\n",
       "0                                 0.0  ...               0.000   \n",
       "1                                 0.0  ...               0.000   \n",
       "2                                 0.0  ...                 NaN   \n",
       "3                                 0.0  ...                 NaN   \n",
       "4                                 0.0  ...                 NaN   \n",
       "...                               ...  ...                 ...   \n",
       "42306                             0.0  ...                 NaN   \n",
       "42307                             0.0  ...               0.000   \n",
       "42308                             0.0  ...                 NaN   \n",
       "42309                             0.0  ...                 NaN   \n",
       "42310                             0.0  ...           27757.395   \n",
       "\n",
       "       br_max_amt_annuity  br_sum_amt_annuity  br_avg_amt_annuity  \\\n",
       "0                9364.500        2.126340e+05         1236.244186   \n",
       "1                4261.500        1.278450e+04          608.785714   \n",
       "2                   0.000        0.000000e+00            0.000000   \n",
       "3                6562.485        4.432308e+05          826.923106   \n",
       "4               40500.000        4.324419e+06         7905.702011   \n",
       "...                   ...                 ...                 ...   \n",
       "42306               0.000        0.000000e+00            0.000000   \n",
       "42307           17257.500        4.706100e+05         3889.338843   \n",
       "42308            5053.500        4.042800e+04          439.434783   \n",
       "42309            4900.500        1.831856e+06         2289.819375   \n",
       "42310           51799.500        1.480085e+07       170124.655862   \n",
       "\n",
       "       br_cnt_amt_annuity  br_stddev_amt_annuity  br_stddev_pop_amt_annuity  \\\n",
       "0                   172.0            2794.728222                2794.728222   \n",
       "1                    21.0            1491.214363                1491.214363   \n",
       "2                   217.0               0.000000                   0.000000   \n",
       "3                   536.0            2284.010751                2284.010751   \n",
       "4                   547.0           15016.226193               15016.226193   \n",
       "...                   ...                    ...                        ...   \n",
       "42306                85.0               0.000000                   0.000000   \n",
       "42307               121.0            6863.537346                6863.537346   \n",
       "42308                92.0            1423.931440                1423.931440   \n",
       "42309               800.0            6466.382400                6466.382400   \n",
       "42310                87.0          167576.427764              167576.427764   \n",
       "\n",
       "       br_var_pop_amt_annuity  br_var_samp_amt_annuity  \\\n",
       "0                7.810506e+06             7.856181e+06   \n",
       "1                2.223720e+06             2.334906e+06   \n",
       "2                0.000000e+00             0.000000e+00   \n",
       "3                5.216705e+06             5.226456e+06   \n",
       "4                2.254870e+08             2.259000e+08   \n",
       "...                       ...                      ...   \n",
       "42306            0.000000e+00             0.000000e+00   \n",
       "42307            4.710814e+07             4.750071e+07   \n",
       "42308            2.027581e+06             2.049862e+06   \n",
       "42309            4.181410e+07             4.186643e+07   \n",
       "42310            2.808186e+10             2.840839e+10   \n",
       "\n",
       "       br_variance_pop_amt_annuity  \n",
       "0                     7.810506e+06  \n",
       "1                     2.223720e+06  \n",
       "2                     0.000000e+00  \n",
       "3                     5.216705e+06  \n",
       "4                     2.254870e+08  \n",
       "...                            ...  \n",
       "42306                 0.000000e+00  \n",
       "42307                 4.710814e+07  \n",
       "42308                 2.027581e+06  \n",
       "42309                 4.181410e+07  \n",
       "42310                 2.808186e+10  \n",
       "\n",
       "[42311 rows x 111 columns]"
      ]
     },
     "execution_count": 27,
     "metadata": {},
     "output_type": "execute_result"
    }
   ],
   "source": [
    "app_br_test.select_dtypes(include='number')"
   ]
  },
  {
   "cell_type": "code",
   "execution_count": 28,
   "id": "e245926d",
   "metadata": {},
   "outputs": [
    {
     "data": {
      "text/plain": [
       "['br_min_credit_day_overdue',\n",
       " 'br_max_credit_day_overdue',\n",
       " 'br_sum_credit_day_overdue',\n",
       " 'br_avg_credit_day_overdue',\n",
       " 'br_cnt_credit_day_overdue',\n",
       " 'br_stddev_credit_day_overdue',\n",
       " 'br_stddev_pop_credit_day_overdue',\n",
       " 'br_var_pop_credit_day_overdue',\n",
       " 'br_var_samp_credit_day_overdue',\n",
       " 'br_variance_pop_credit_day_overdue',\n",
       " 'br_min_days_credit_enddate',\n",
       " 'br_max_days_credit_enddate',\n",
       " 'br_sum_days_credit_enddate',\n",
       " 'br_avg_days_credit_enddate',\n",
       " 'br_cnt_days_credit_enddate',\n",
       " 'br_stddev_days_credit_enddate',\n",
       " 'br_stddev_pop_days_credit_enddate',\n",
       " 'br_var_pop_days_credit_enddate',\n",
       " 'br_var_samp_days_credit_enddate',\n",
       " 'br_variance_pop_days_credit_enddate',\n",
       " 'br_min_days_enddate_fact',\n",
       " 'br_max_days_enddate_fact',\n",
       " 'br_sum_days_enddate_fact',\n",
       " 'br_avg_days_enddate_fact',\n",
       " 'br_cnt_days_enddate_fact',\n",
       " 'br_stddev_days_enddate_fact',\n",
       " 'br_stddev_pop_days_enddate_fact',\n",
       " 'br_var_pop_days_enddate_fact',\n",
       " 'br_var_samp_days_enddate_fact',\n",
       " 'br_variance_pop_days_enddate_fact',\n",
       " 'br_min_amt_credit_max_overdue',\n",
       " 'br_max_amt_credit_max_overdue',\n",
       " 'br_sum_amt_credit_max_overdue',\n",
       " 'br_avg_amt_credit_max_overdue',\n",
       " 'br_cnt_amt_credit_max_overdue',\n",
       " 'br_stddev_amt_credit_max_overdue',\n",
       " 'br_stddev_pop_amt_credit_max_overdue',\n",
       " 'br_var_pop_amt_credit_max_overdue',\n",
       " 'br_var_samp_amt_credit_max_overdue',\n",
       " 'br_variance_pop_amt_credit_max_overdue',\n",
       " 'br_min_cnt_credit_prolong',\n",
       " 'br_max_cnt_credit_prolong',\n",
       " 'br_sum_cnt_credit_prolong',\n",
       " 'br_avg_cnt_credit_prolong',\n",
       " 'br_cnt_cnt_credit_prolong',\n",
       " 'br_stddev_cnt_credit_prolong',\n",
       " 'br_stddev_pop_cnt_credit_prolong',\n",
       " 'br_var_pop_cnt_credit_prolong',\n",
       " 'br_var_samp_cnt_credit_prolong',\n",
       " 'br_variance_pop_cnt_credit_prolong',\n",
       " 'br_min_amt_credit_sum',\n",
       " 'br_max_amt_credit_sum',\n",
       " 'br_sum_amt_credit_sum',\n",
       " 'br_avg_amt_credit_sum',\n",
       " 'br_cnt_amt_credit_sum',\n",
       " 'br_stddev_amt_credit_sum',\n",
       " 'br_stddev_pop_amt_credit_sum',\n",
       " 'br_var_pop_amt_credit_sum',\n",
       " 'br_var_samp_amt_credit_sum',\n",
       " 'br_variance_pop_amt_credit_sum',\n",
       " 'br_min_amt_credit_sum_debt',\n",
       " 'br_max_amt_credit_sum_debt',\n",
       " 'br_sum_amt_credit_sum_debt',\n",
       " 'br_avg_amt_credit_sum_debt',\n",
       " 'br_cnt_amt_credit_sum_debt',\n",
       " 'br_stddev_amt_credit_sum_debt',\n",
       " 'br_stddev_pop_amt_credit_sum_debt',\n",
       " 'br_var_pop_amt_credit_sum_debt',\n",
       " 'br_var_samp_amt_credit_sum_debt',\n",
       " 'br_variance_pop_amt_credit_sum_debt',\n",
       " 'br_min_amt_credit_sum_limit',\n",
       " 'br_max_amt_credit_sum_limit',\n",
       " 'br_sum_amt_credit_sum_limit',\n",
       " 'br_avg_amt_credit_sum_limit',\n",
       " 'br_cnt_amt_credit_sum_limit',\n",
       " 'br_stddev_amt_credit_sum_limit',\n",
       " 'br_stddev_pop_amt_credit_sum_limit',\n",
       " 'br_var_pop_amt_credit_sum_limit',\n",
       " 'br_var_samp_amt_credit_sum_limit',\n",
       " 'br_variance_pop_amt_credit_sum_limit',\n",
       " 'br_min_amt_credit_sum_overdue',\n",
       " 'br_max_amt_credit_sum_overdue',\n",
       " 'br_sum_amt_credit_sum_overdue',\n",
       " 'br_avg_amt_credit_sum_overdue',\n",
       " 'br_cnt_amt_credit_sum_overdue',\n",
       " 'br_stddev_amt_credit_sum_overdue',\n",
       " 'br_stddev_pop_amt_credit_sum_overdue',\n",
       " 'br_var_pop_amt_credit_sum_overdue',\n",
       " 'br_var_samp_amt_credit_sum_overdue',\n",
       " 'br_variance_pop_amt_credit_sum_overdue',\n",
       " 'br_min_days_credit_update',\n",
       " 'br_max_days_credit_update',\n",
       " 'br_sum_days_credit_update',\n",
       " 'br_avg_days_credit_update',\n",
       " 'br_cnt_days_credit_update',\n",
       " 'br_stddev_days_credit_update',\n",
       " 'br_stddev_pop_days_credit_update',\n",
       " 'br_var_pop_days_credit_update',\n",
       " 'br_var_samp_days_credit_update',\n",
       " 'br_variance_pop_days_credit_update',\n",
       " 'br_min_amt_annuity',\n",
       " 'br_max_amt_annuity',\n",
       " 'br_sum_amt_annuity',\n",
       " 'br_avg_amt_annuity',\n",
       " 'br_cnt_amt_annuity',\n",
       " 'br_stddev_amt_annuity',\n",
       " 'br_stddev_pop_amt_annuity',\n",
       " 'br_var_pop_amt_annuity',\n",
       " 'br_var_samp_amt_annuity',\n",
       " 'br_variance_pop_amt_annuity']"
      ]
     },
     "execution_count": 28,
     "metadata": {},
     "output_type": "execute_result"
    }
   ],
   "source": [
    "input_columns = list(app_br_test.select_dtypes(include='number').columns)\n",
    "input_columns.remove('SK_ID_CURR')\n",
    "input_columns"
   ]
  },
  {
   "cell_type": "code",
   "execution_count": 29,
   "id": "4e370b7a",
   "metadata": {},
   "outputs": [
    {
     "data": {
      "text/plain": [
       "['NAME_CONTRACT_TYPE',\n",
       " 'CODE_GENDER',\n",
       " 'FLAG_OWN_CAR',\n",
       " 'CNT_CHILDREN',\n",
       " 'AMT_INCOME_TOTAL',\n",
       " 'AMT_CREDIT',\n",
       " 'AMT_ANNUITY',\n",
       " 'AMT_GOODS_PRICE',\n",
       " 'NAME_INCOME_TYPE',\n",
       " 'NAME_EDUCATION_TYPE',\n",
       " 'NAME_HOUSING_TYPE',\n",
       " 'REGION_POPULATION_RELATIVE',\n",
       " 'DAYS_BIRTH',\n",
       " 'DAYS_EMPLOYED',\n",
       " 'DAYS_REGISTRATION',\n",
       " 'DAYS_ID_PUBLISH',\n",
       " 'OWN_CAR_AGE',\n",
       " 'FLAG_EMP_PHONE',\n",
       " 'FLAG_WORK_PHONE',\n",
       " 'FLAG_PHONE',\n",
       " 'OCCUPATION_TYPE',\n",
       " 'REGION_RATING_CLIENT',\n",
       " 'REGION_RATING_CLIENT_W_CITY',\n",
       " 'HOUR_APPR_PROCESS_START',\n",
       " 'REG_REGION_NOT_LIVE_REGION',\n",
       " 'REG_REGION_NOT_WORK_REGION',\n",
       " 'LIVE_REGION_NOT_WORK_REGION',\n",
       " 'REG_CITY_NOT_LIVE_CITY',\n",
       " 'REG_CITY_NOT_WORK_CITY',\n",
       " 'LIVE_CITY_NOT_WORK_CITY',\n",
       " 'EXT_SOURCE_1',\n",
       " 'EXT_SOURCE_2',\n",
       " 'EXT_SOURCE_3',\n",
       " 'APARTMENTS_AVG',\n",
       " 'BASEMENTAREA_AVG',\n",
       " 'YEARS_BEGINEXPLUATATION_AVG',\n",
       " 'YEARS_BUILD_AVG',\n",
       " 'COMMONAREA_AVG',\n",
       " 'ELEVATORS_AVG',\n",
       " 'ENTRANCES_AVG',\n",
       " 'FLOORSMAX_AVG',\n",
       " 'FLOORSMIN_AVG',\n",
       " 'LANDAREA_AVG',\n",
       " 'LIVINGAPARTMENTS_AVG',\n",
       " 'LIVINGAREA_AVG',\n",
       " 'NONLIVINGAREA_AVG',\n",
       " 'APARTMENTS_MODE',\n",
       " 'BASEMENTAREA_MODE',\n",
       " 'YEARS_BEGINEXPLUATATION_MODE',\n",
       " 'YEARS_BUILD_MODE',\n",
       " 'COMMONAREA_MODE',\n",
       " 'ELEVATORS_MODE',\n",
       " 'ENTRANCES_MODE',\n",
       " 'FLOORSMAX_MODE',\n",
       " 'FLOORSMIN_MODE',\n",
       " 'LANDAREA_MODE',\n",
       " 'LIVINGAPARTMENTS_MODE',\n",
       " 'LIVINGAREA_MODE',\n",
       " 'NONLIVINGAREA_MODE',\n",
       " 'APARTMENTS_MEDI',\n",
       " 'BASEMENTAREA_MEDI',\n",
       " 'YEARS_BEGINEXPLUATATION_MEDI',\n",
       " 'YEARS_BUILD_MEDI',\n",
       " 'COMMONAREA_MEDI',\n",
       " 'ELEVATORS_MEDI',\n",
       " 'ENTRANCES_MEDI',\n",
       " 'FLOORSMAX_MEDI',\n",
       " 'FLOORSMIN_MEDI',\n",
       " 'LANDAREA_MEDI',\n",
       " 'LIVINGAPARTMENTS_MEDI',\n",
       " 'LIVINGAREA_MEDI',\n",
       " 'NONLIVINGAREA_MEDI',\n",
       " 'HOUSETYPE_MODE',\n",
       " 'TOTALAREA_MODE',\n",
       " 'EMERGENCYSTATE_MODE',\n",
       " 'DEF_30_CNT_SOCIAL_CIRCLE',\n",
       " 'DEF_60_CNT_SOCIAL_CIRCLE',\n",
       " 'DAYS_LAST_PHONE_CHANGE',\n",
       " 'FLAG_DOCUMENT_3',\n",
       " 'FLAG_DOCUMENT_6',\n",
       " 'FLAG_DOCUMENT_13',\n",
       " 'FLAG_DOCUMENT_16',\n",
       " 'AMT_REQ_CREDIT_BUREAU_MON',\n",
       " 'AMT_REQ_CREDIT_BUREAU_YEAR',\n",
       " 'CREDIT_TERM',\n",
       " 'DAYS_EMPLOYED_PERCENT',\n",
       " 'credit_annuity_ratio',\n",
       " 'credit_goods_price_ratio',\n",
       " 'credit_downpayment',\n",
       " 'AGE_INT',\n",
       " 'br_min_credit_day_overdue',\n",
       " 'br_max_credit_day_overdue',\n",
       " 'br_sum_credit_day_overdue',\n",
       " 'br_avg_credit_day_overdue',\n",
       " 'br_cnt_credit_day_overdue',\n",
       " 'br_stddev_credit_day_overdue',\n",
       " 'br_stddev_pop_credit_day_overdue',\n",
       " 'br_var_pop_credit_day_overdue',\n",
       " 'br_var_samp_credit_day_overdue',\n",
       " 'br_variance_pop_credit_day_overdue',\n",
       " 'br_min_days_credit_enddate',\n",
       " 'br_max_days_credit_enddate',\n",
       " 'br_sum_days_credit_enddate',\n",
       " 'br_avg_days_credit_enddate',\n",
       " 'br_cnt_days_credit_enddate',\n",
       " 'br_stddev_days_credit_enddate',\n",
       " 'br_stddev_pop_days_credit_enddate',\n",
       " 'br_var_pop_days_credit_enddate',\n",
       " 'br_var_samp_days_credit_enddate',\n",
       " 'br_variance_pop_days_credit_enddate',\n",
       " 'br_min_days_enddate_fact',\n",
       " 'br_max_days_enddate_fact',\n",
       " 'br_sum_days_enddate_fact',\n",
       " 'br_avg_days_enddate_fact',\n",
       " 'br_cnt_days_enddate_fact',\n",
       " 'br_stddev_days_enddate_fact',\n",
       " 'br_stddev_pop_days_enddate_fact',\n",
       " 'br_var_pop_days_enddate_fact',\n",
       " 'br_var_samp_days_enddate_fact',\n",
       " 'br_variance_pop_days_enddate_fact',\n",
       " 'br_min_amt_credit_max_overdue',\n",
       " 'br_max_amt_credit_max_overdue',\n",
       " 'br_sum_amt_credit_max_overdue',\n",
       " 'br_avg_amt_credit_max_overdue',\n",
       " 'br_cnt_amt_credit_max_overdue',\n",
       " 'br_stddev_amt_credit_max_overdue',\n",
       " 'br_stddev_pop_amt_credit_max_overdue',\n",
       " 'br_var_pop_amt_credit_max_overdue',\n",
       " 'br_var_samp_amt_credit_max_overdue',\n",
       " 'br_variance_pop_amt_credit_max_overdue',\n",
       " 'br_min_cnt_credit_prolong',\n",
       " 'br_max_cnt_credit_prolong',\n",
       " 'br_sum_cnt_credit_prolong',\n",
       " 'br_avg_cnt_credit_prolong',\n",
       " 'br_cnt_cnt_credit_prolong',\n",
       " 'br_stddev_cnt_credit_prolong',\n",
       " 'br_stddev_pop_cnt_credit_prolong',\n",
       " 'br_var_pop_cnt_credit_prolong',\n",
       " 'br_var_samp_cnt_credit_prolong',\n",
       " 'br_variance_pop_cnt_credit_prolong',\n",
       " 'br_min_amt_credit_sum',\n",
       " 'br_max_amt_credit_sum',\n",
       " 'br_sum_amt_credit_sum',\n",
       " 'br_avg_amt_credit_sum',\n",
       " 'br_cnt_amt_credit_sum',\n",
       " 'br_stddev_amt_credit_sum',\n",
       " 'br_stddev_pop_amt_credit_sum',\n",
       " 'br_var_pop_amt_credit_sum',\n",
       " 'br_var_samp_amt_credit_sum',\n",
       " 'br_variance_pop_amt_credit_sum',\n",
       " 'br_min_amt_credit_sum_debt',\n",
       " 'br_max_amt_credit_sum_debt',\n",
       " 'br_sum_amt_credit_sum_debt',\n",
       " 'br_avg_amt_credit_sum_debt',\n",
       " 'br_cnt_amt_credit_sum_debt',\n",
       " 'br_stddev_amt_credit_sum_debt',\n",
       " 'br_stddev_pop_amt_credit_sum_debt',\n",
       " 'br_var_pop_amt_credit_sum_debt',\n",
       " 'br_var_samp_amt_credit_sum_debt',\n",
       " 'br_variance_pop_amt_credit_sum_debt',\n",
       " 'br_min_amt_credit_sum_limit',\n",
       " 'br_max_amt_credit_sum_limit',\n",
       " 'br_sum_amt_credit_sum_limit',\n",
       " 'br_avg_amt_credit_sum_limit',\n",
       " 'br_cnt_amt_credit_sum_limit',\n",
       " 'br_stddev_amt_credit_sum_limit',\n",
       " 'br_stddev_pop_amt_credit_sum_limit',\n",
       " 'br_var_pop_amt_credit_sum_limit',\n",
       " 'br_var_samp_amt_credit_sum_limit',\n",
       " 'br_variance_pop_amt_credit_sum_limit',\n",
       " 'br_min_amt_credit_sum_overdue',\n",
       " 'br_max_amt_credit_sum_overdue',\n",
       " 'br_sum_amt_credit_sum_overdue',\n",
       " 'br_avg_amt_credit_sum_overdue',\n",
       " 'br_cnt_amt_credit_sum_overdue',\n",
       " 'br_stddev_amt_credit_sum_overdue',\n",
       " 'br_stddev_pop_amt_credit_sum_overdue',\n",
       " 'br_var_pop_amt_credit_sum_overdue',\n",
       " 'br_var_samp_amt_credit_sum_overdue',\n",
       " 'br_variance_pop_amt_credit_sum_overdue',\n",
       " 'br_min_days_credit_update',\n",
       " 'br_max_days_credit_update',\n",
       " 'br_sum_days_credit_update',\n",
       " 'br_avg_days_credit_update',\n",
       " 'br_cnt_days_credit_update',\n",
       " 'br_stddev_days_credit_update',\n",
       " 'br_stddev_pop_days_credit_update',\n",
       " 'br_var_pop_days_credit_update',\n",
       " 'br_var_samp_days_credit_update',\n",
       " 'br_variance_pop_days_credit_update',\n",
       " 'br_min_amt_annuity',\n",
       " 'br_max_amt_annuity',\n",
       " 'br_sum_amt_annuity',\n",
       " 'br_avg_amt_annuity',\n",
       " 'br_cnt_amt_annuity',\n",
       " 'br_stddev_amt_annuity',\n",
       " 'br_stddev_pop_amt_annuity',\n",
       " 'br_var_pop_amt_annuity',\n",
       " 'br_var_samp_amt_annuity',\n",
       " 'br_variance_pop_amt_annuity']"
      ]
     },
     "execution_count": 29,
     "metadata": {},
     "output_type": "execute_result"
    }
   ],
   "source": [
    "output_columns = list(app_test.select_dtypes(include='number').columns)\n",
    "output_columns.remove('SK_ID_CURR')\n",
    "output_columns"
   ]
  },
  {
   "cell_type": "code",
   "execution_count": 30,
   "id": "5829c766",
   "metadata": {},
   "outputs": [],
   "source": [
    "import datawig\n",
    "\n",
    "imputer = datawig.SimpleImputer(\n",
    "    input_columns=input_columns, # List: どのカラムで代入モデルを作成するか\n",
    "    output_column=output_columns[0], # どのカラムの欠損補完を行うか\n",
    "    output_path='imputer_model', # 代入モデルの出力先\n",
    "    num_hash_buckets=int(2 ** 15),\n",
    "    num_labels=100,\n",
    "    tokens='chars',\n",
    "    numeric_latent_dim=100,\n",
    "    numeric_hidden_layers=1,\n",
    "    is_explainable=False\n",
    ")"
   ]
  },
  {
   "cell_type": "code",
   "execution_count": 31,
   "id": "635d585a",
   "metadata": {},
   "outputs": [
    {
     "ename": "KeyboardInterrupt",
     "evalue": "",
     "output_type": "error",
     "traceback": [
      "\u001b[1;31m---------------------------------------------------------------------------\u001b[0m",
      "\u001b[1;31mKeyboardInterrupt\u001b[0m                         Traceback (most recent call last)",
      "\u001b[1;32m~\\AppData\\Local\\Temp/ipykernel_196/4080816713.py\u001b[0m in \u001b[0;36m<module>\u001b[1;34m\u001b[0m\n\u001b[1;32m----> 1\u001b[1;33m app_train = datawig.SimpleImputer.complete(app_train,\n\u001b[0m\u001b[0;32m      2\u001b[0m                                     \u001b[0mprecision_threshold\u001b[0m\u001b[1;33m=\u001b[0m\u001b[1;36m0.0\u001b[0m\u001b[1;33m,\u001b[0m\u001b[1;33m\u001b[0m\u001b[1;33m\u001b[0m\u001b[0m\n\u001b[0;32m      3\u001b[0m                                     \u001b[0minplace\u001b[0m\u001b[1;33m=\u001b[0m\u001b[1;32mFalse\u001b[0m\u001b[1;33m,\u001b[0m\u001b[1;33m\u001b[0m\u001b[1;33m\u001b[0m\u001b[0m\n\u001b[0;32m      4\u001b[0m                                     \u001b[0mhpo\u001b[0m\u001b[1;33m=\u001b[0m\u001b[1;32mFalse\u001b[0m\u001b[1;33m,\u001b[0m\u001b[1;33m\u001b[0m\u001b[1;33m\u001b[0m\u001b[0m\n\u001b[0;32m      5\u001b[0m                                     \u001b[0mverbose\u001b[0m\u001b[1;33m=\u001b[0m\u001b[1;36m0\u001b[0m\u001b[1;33m,\u001b[0m\u001b[1;33m\u001b[0m\u001b[1;33m\u001b[0m\u001b[0m\n",
      "\u001b[1;32mC:\\ProgramData\\Anaconda3\\lib\\site-packages\\datawig\\simple_imputer.py\u001b[0m in \u001b[0;36mcomplete\u001b[1;34m(data_frame, precision_threshold, inplace, hpo, verbose, num_epochs, iterations, output_path)\u001b[0m\n\u001b[0;32m    522\u001b[0m                                     final_fc_hidden_units=[[0], [10], [50], [100]])\n\u001b[0;32m    523\u001b[0m                 \u001b[1;32melse\u001b[0m\u001b[1;33m:\u001b[0m\u001b[1;33m\u001b[0m\u001b[1;33m\u001b[0m\u001b[0m\n\u001b[1;32m--> 524\u001b[1;33m                     imputer.fit(data_frame.loc[~idx_missing, :],\n\u001b[0m\u001b[0;32m    525\u001b[0m                                 \u001b[0mpatience\u001b[0m\u001b[1;33m=\u001b[0m\u001b[1;36m5\u001b[0m \u001b[1;32mif\u001b[0m \u001b[0moutput_col\u001b[0m \u001b[1;32min\u001b[0m \u001b[0mcategorical_columns\u001b[0m \u001b[1;32melse\u001b[0m \u001b[1;36m20\u001b[0m\u001b[1;33m,\u001b[0m\u001b[1;33m\u001b[0m\u001b[1;33m\u001b[0m\u001b[0m\n\u001b[0;32m    526\u001b[0m                                 \u001b[0mnum_epochs\u001b[0m\u001b[1;33m=\u001b[0m\u001b[0mnum_epochs\u001b[0m\u001b[1;33m,\u001b[0m\u001b[1;33m\u001b[0m\u001b[1;33m\u001b[0m\u001b[0m\n",
      "\u001b[1;32mC:\\ProgramData\\Anaconda3\\lib\\site-packages\\datawig\\simple_imputer.py\u001b[0m in \u001b[0;36mfit\u001b[1;34m(self, train_df, test_df, ctx, learning_rate, num_epochs, patience, test_split, weight_decay, batch_size, final_fc_hidden_units, calibrate, class_weights, instance_weights)\u001b[0m\n\u001b[0;32m    384\u001b[0m         \u001b[0mself\u001b[0m\u001b[1;33m.\u001b[0m\u001b[0moutput_path\u001b[0m \u001b[1;33m=\u001b[0m \u001b[0mself\u001b[0m\u001b[1;33m.\u001b[0m\u001b[0mimputer\u001b[0m\u001b[1;33m.\u001b[0m\u001b[0moutput_path\u001b[0m\u001b[1;33m\u001b[0m\u001b[1;33m\u001b[0m\u001b[0m\n\u001b[0;32m    385\u001b[0m \u001b[1;33m\u001b[0m\u001b[0m\n\u001b[1;32m--> 386\u001b[1;33m         self.imputer = self.imputer.fit(train_df, test_df, ctx, learning_rate, num_epochs, patience,\n\u001b[0m\u001b[0;32m    387\u001b[0m                                         \u001b[0mtest_split\u001b[0m\u001b[1;33m,\u001b[0m\u001b[1;33m\u001b[0m\u001b[1;33m\u001b[0m\u001b[0m\n\u001b[0;32m    388\u001b[0m                                         \u001b[0mweight_decay\u001b[0m\u001b[1;33m,\u001b[0m \u001b[0mbatch_size\u001b[0m\u001b[1;33m,\u001b[0m\u001b[1;33m\u001b[0m\u001b[1;33m\u001b[0m\u001b[0m\n",
      "\u001b[1;32mC:\\ProgramData\\Anaconda3\\lib\\site-packages\\datawig\\imputer.py\u001b[0m in \u001b[0;36mfit\u001b[1;34m(self, train_df, test_df, ctx, learning_rate, num_epochs, patience, test_split, weight_decay, batch_size, final_fc_hidden_units, calibrate)\u001b[0m\n\u001b[0;32m    269\u001b[0m             \u001b[0mself\u001b[0m\u001b[1;33m.\u001b[0m\u001b[0mmodule\u001b[0m \u001b[1;33m=\u001b[0m \u001b[0mself\u001b[0m\u001b[1;33m.\u001b[0m\u001b[0m__build_module\u001b[0m\u001b[1;33m(\u001b[0m\u001b[0miter_train\u001b[0m\u001b[1;33m)\u001b[0m\u001b[1;33m\u001b[0m\u001b[1;33m\u001b[0m\u001b[0m\n\u001b[0;32m    270\u001b[0m \u001b[1;33m\u001b[0m\u001b[0m\n\u001b[1;32m--> 271\u001b[1;33m         \u001b[0mself\u001b[0m\u001b[1;33m.\u001b[0m\u001b[0m__fit_module\u001b[0m\u001b[1;33m(\u001b[0m\u001b[0miter_train\u001b[0m\u001b[1;33m,\u001b[0m \u001b[0miter_test\u001b[0m\u001b[1;33m,\u001b[0m \u001b[0mlearning_rate\u001b[0m\u001b[1;33m,\u001b[0m \u001b[0mnum_epochs\u001b[0m\u001b[1;33m,\u001b[0m \u001b[0mpatience\u001b[0m\u001b[1;33m,\u001b[0m \u001b[0mweight_decay\u001b[0m\u001b[1;33m)\u001b[0m\u001b[1;33m\u001b[0m\u001b[1;33m\u001b[0m\u001b[0m\n\u001b[0m\u001b[0;32m    272\u001b[0m \u001b[1;33m\u001b[0m\u001b[0m\n\u001b[0;32m    273\u001b[0m         \u001b[1;31m# Check whether calibration is needed, if so ompute and set internal parameter\u001b[0m\u001b[1;33m\u001b[0m\u001b[1;33m\u001b[0m\u001b[0m\n",
      "\u001b[1;32mC:\\ProgramData\\Anaconda3\\lib\\site-packages\\datawig\\imputer.py\u001b[0m in \u001b[0;36m__fit_module\u001b[1;34m(self, iter_train, iter_test, learning_rate, num_epochs, patience, weight_decay)\u001b[0m\n\u001b[0;32m    502\u001b[0m         \u001b[1;32mwith\u001b[0m \u001b[0mtiming\u001b[0m\u001b[1;33m(\u001b[0m\u001b[1;34m\"fit model\"\u001b[0m\u001b[1;33m)\u001b[0m\u001b[1;33m:\u001b[0m\u001b[1;33m\u001b[0m\u001b[1;33m\u001b[0m\u001b[0m\n\u001b[0;32m    503\u001b[0m             \u001b[1;32mtry\u001b[0m\u001b[1;33m:\u001b[0m\u001b[1;33m\u001b[0m\u001b[1;33m\u001b[0m\u001b[0m\n\u001b[1;32m--> 504\u001b[1;33m                 self.module.fit(\n\u001b[0m\u001b[0;32m    505\u001b[0m                     \u001b[0mtrain_data\u001b[0m\u001b[1;33m=\u001b[0m\u001b[0miter_train\u001b[0m\u001b[1;33m,\u001b[0m\u001b[1;33m\u001b[0m\u001b[1;33m\u001b[0m\u001b[0m\n\u001b[0;32m    506\u001b[0m                     \u001b[0meval_data\u001b[0m\u001b[1;33m=\u001b[0m\u001b[0miter_test\u001b[0m\u001b[1;33m,\u001b[0m\u001b[1;33m\u001b[0m\u001b[1;33m\u001b[0m\u001b[0m\n",
      "\u001b[1;32m~\\AppData\\Roaming\\Python\\Python39\\site-packages\\mxnet\\module\\base_module.py\u001b[0m in \u001b[0;36mfit\u001b[1;34m(self, train_data, eval_data, eval_metric, epoch_end_callback, batch_end_callback, kvstore, optimizer, optimizer_params, eval_end_callback, eval_batch_end_callback, initializer, arg_params, aux_params, allow_missing, force_rebind, force_init, begin_epoch, num_epoch, validation_metric, monitor, sparse_row_id_fn)\u001b[0m\n\u001b[0;32m    523\u001b[0m                 \u001b[1;32mif\u001b[0m \u001b[0mmonitor\u001b[0m \u001b[1;32mis\u001b[0m \u001b[1;32mnot\u001b[0m \u001b[1;32mNone\u001b[0m\u001b[1;33m:\u001b[0m\u001b[1;33m\u001b[0m\u001b[1;33m\u001b[0m\u001b[0m\n\u001b[0;32m    524\u001b[0m                     \u001b[0mmonitor\u001b[0m\u001b[1;33m.\u001b[0m\u001b[0mtic\u001b[0m\u001b[1;33m(\u001b[0m\u001b[1;33m)\u001b[0m\u001b[1;33m\u001b[0m\u001b[1;33m\u001b[0m\u001b[0m\n\u001b[1;32m--> 525\u001b[1;33m                 \u001b[0mself\u001b[0m\u001b[1;33m.\u001b[0m\u001b[0mforward_backward\u001b[0m\u001b[1;33m(\u001b[0m\u001b[0mdata_batch\u001b[0m\u001b[1;33m)\u001b[0m\u001b[1;33m\u001b[0m\u001b[1;33m\u001b[0m\u001b[0m\n\u001b[0m\u001b[0;32m    526\u001b[0m                 \u001b[0mself\u001b[0m\u001b[1;33m.\u001b[0m\u001b[0mupdate\u001b[0m\u001b[1;33m(\u001b[0m\u001b[1;33m)\u001b[0m\u001b[1;33m\u001b[0m\u001b[1;33m\u001b[0m\u001b[0m\n\u001b[0;32m    527\u001b[0m \u001b[1;33m\u001b[0m\u001b[0m\n",
      "\u001b[1;32m~\\AppData\\Roaming\\Python\\Python39\\site-packages\\mxnet\\module\\base_module.py\u001b[0m in \u001b[0;36mforward_backward\u001b[1;34m(self, data_batch)\u001b[0m\n\u001b[0;32m    193\u001b[0m     \u001b[1;32mdef\u001b[0m \u001b[0mforward_backward\u001b[0m\u001b[1;33m(\u001b[0m\u001b[0mself\u001b[0m\u001b[1;33m,\u001b[0m \u001b[0mdata_batch\u001b[0m\u001b[1;33m)\u001b[0m\u001b[1;33m:\u001b[0m\u001b[1;33m\u001b[0m\u001b[1;33m\u001b[0m\u001b[0m\n\u001b[0;32m    194\u001b[0m         \u001b[1;34m\"\"\"A convenient function that calls both ``forward`` and ``backward``.\"\"\"\u001b[0m\u001b[1;33m\u001b[0m\u001b[1;33m\u001b[0m\u001b[0m\n\u001b[1;32m--> 195\u001b[1;33m         \u001b[0mself\u001b[0m\u001b[1;33m.\u001b[0m\u001b[0mforward\u001b[0m\u001b[1;33m(\u001b[0m\u001b[0mdata_batch\u001b[0m\u001b[1;33m,\u001b[0m \u001b[0mis_train\u001b[0m\u001b[1;33m=\u001b[0m\u001b[1;32mTrue\u001b[0m\u001b[1;33m)\u001b[0m\u001b[1;33m\u001b[0m\u001b[1;33m\u001b[0m\u001b[0m\n\u001b[0m\u001b[0;32m    196\u001b[0m         \u001b[0mself\u001b[0m\u001b[1;33m.\u001b[0m\u001b[0mbackward\u001b[0m\u001b[1;33m(\u001b[0m\u001b[1;33m)\u001b[0m\u001b[1;33m\u001b[0m\u001b[1;33m\u001b[0m\u001b[0m\n\u001b[0;32m    197\u001b[0m \u001b[1;33m\u001b[0m\u001b[0m\n",
      "\u001b[1;32m~\\AppData\\Roaming\\Python\\Python39\\site-packages\\mxnet\\module\\module.py\u001b[0m in \u001b[0;36mforward\u001b[1;34m(self, data_batch, is_train)\u001b[0m\n\u001b[0;32m    625\u001b[0m             \u001b[0mself\u001b[0m\u001b[1;33m.\u001b[0m\u001b[0mreshape\u001b[0m\u001b[1;33m(\u001b[0m\u001b[0mnew_dshape\u001b[0m\u001b[1;33m,\u001b[0m \u001b[0mnew_lshape\u001b[0m\u001b[1;33m)\u001b[0m\u001b[1;33m\u001b[0m\u001b[1;33m\u001b[0m\u001b[0m\n\u001b[0;32m    626\u001b[0m \u001b[1;33m\u001b[0m\u001b[0m\n\u001b[1;32m--> 627\u001b[1;33m         \u001b[0mself\u001b[0m\u001b[1;33m.\u001b[0m\u001b[0m_exec_group\u001b[0m\u001b[1;33m.\u001b[0m\u001b[0mforward\u001b[0m\u001b[1;33m(\u001b[0m\u001b[0mdata_batch\u001b[0m\u001b[1;33m,\u001b[0m \u001b[0mis_train\u001b[0m\u001b[1;33m)\u001b[0m\u001b[1;33m\u001b[0m\u001b[1;33m\u001b[0m\u001b[0m\n\u001b[0m\u001b[0;32m    628\u001b[0m \u001b[1;33m\u001b[0m\u001b[0m\n\u001b[0;32m    629\u001b[0m     \u001b[1;32mdef\u001b[0m \u001b[0mbackward\u001b[0m\u001b[1;33m(\u001b[0m\u001b[0mself\u001b[0m\u001b[1;33m,\u001b[0m \u001b[0mout_grads\u001b[0m\u001b[1;33m=\u001b[0m\u001b[1;32mNone\u001b[0m\u001b[1;33m)\u001b[0m\u001b[1;33m:\u001b[0m\u001b[1;33m\u001b[0m\u001b[1;33m\u001b[0m\u001b[0m\n",
      "\u001b[1;32m~\\AppData\\Roaming\\Python\\Python39\\site-packages\\mxnet\\module\\executor_group.py\u001b[0m in \u001b[0;36mforward\u001b[1;34m(self, data_batch, is_train)\u001b[0m\n\u001b[0;32m    466\u001b[0m         \u001b[1;32melse\u001b[0m\u001b[1;33m:\u001b[0m\u001b[1;33m\u001b[0m\u001b[1;33m\u001b[0m\u001b[0m\n\u001b[0;32m    467\u001b[0m             \u001b[1;32mif\u001b[0m \u001b[0mself\u001b[0m\u001b[1;33m.\u001b[0m\u001b[0mlabel_arrays\u001b[0m \u001b[1;32mis\u001b[0m \u001b[1;32mnot\u001b[0m \u001b[1;32mNone\u001b[0m \u001b[1;32mand\u001b[0m \u001b[0mdata_batch\u001b[0m\u001b[1;33m.\u001b[0m\u001b[0mlabel\u001b[0m\u001b[1;33m:\u001b[0m\u001b[1;33m\u001b[0m\u001b[1;33m\u001b[0m\u001b[0m\n\u001b[1;32m--> 468\u001b[1;33m                 \u001b[0m_load_label\u001b[0m\u001b[1;33m(\u001b[0m\u001b[0mdata_batch\u001b[0m\u001b[1;33m,\u001b[0m \u001b[0mself\u001b[0m\u001b[1;33m.\u001b[0m\u001b[0mlabel_arrays\u001b[0m\u001b[1;33m,\u001b[0m \u001b[0mself\u001b[0m\u001b[1;33m.\u001b[0m\u001b[0mlabel_layouts\u001b[0m\u001b[1;33m)\u001b[0m\u001b[1;33m\u001b[0m\u001b[1;33m\u001b[0m\u001b[0m\n\u001b[0m\u001b[0;32m    469\u001b[0m \u001b[1;33m\u001b[0m\u001b[0m\n\u001b[0;32m    470\u001b[0m         \u001b[1;32mfor\u001b[0m \u001b[0mexec_\u001b[0m \u001b[1;32min\u001b[0m \u001b[0mself\u001b[0m\u001b[1;33m.\u001b[0m\u001b[0mexecs\u001b[0m\u001b[1;33m:\u001b[0m\u001b[1;33m\u001b[0m\u001b[1;33m\u001b[0m\u001b[0m\n",
      "\u001b[1;32m~\\AppData\\Roaming\\Python\\Python39\\site-packages\\mxnet\\module\\executor_group.py\u001b[0m in \u001b[0;36m_load_label\u001b[1;34m(batch, targets, major_axis)\u001b[0m\n\u001b[0;32m     85\u001b[0m         \u001b[0m_load_general\u001b[0m\u001b[1;33m(\u001b[0m\u001b[0mnew_batch\u001b[0m\u001b[1;33m,\u001b[0m \u001b[0mnew_targets\u001b[0m\u001b[1;33m,\u001b[0m \u001b[0mmajor_axis\u001b[0m\u001b[1;33m)\u001b[0m\u001b[1;33m\u001b[0m\u001b[1;33m\u001b[0m\u001b[0m\n\u001b[0;32m     86\u001b[0m     \u001b[1;32melse\u001b[0m\u001b[1;33m:\u001b[0m\u001b[1;33m\u001b[0m\u001b[1;33m\u001b[0m\u001b[0m\n\u001b[1;32m---> 87\u001b[1;33m         \u001b[0m_load_general\u001b[0m\u001b[1;33m(\u001b[0m\u001b[0mbatch\u001b[0m\u001b[1;33m.\u001b[0m\u001b[0mlabel\u001b[0m\u001b[1;33m,\u001b[0m \u001b[0mtargets\u001b[0m\u001b[1;33m,\u001b[0m \u001b[0mmajor_axis\u001b[0m\u001b[1;33m)\u001b[0m\u001b[1;33m\u001b[0m\u001b[1;33m\u001b[0m\u001b[0m\n\u001b[0m\u001b[0;32m     88\u001b[0m \u001b[1;33m\u001b[0m\u001b[0m\n\u001b[0;32m     89\u001b[0m \u001b[1;33m\u001b[0m\u001b[0m\n",
      "\u001b[1;32m~\\AppData\\Roaming\\Python\\Python39\\site-packages\\mxnet\\module\\executor_group.py\u001b[0m in \u001b[0;36m_load_general\u001b[1;34m(data, targets, major_axis)\u001b[0m\n\u001b[0;32m     58\u001b[0m                                 \u001b[0md_dst_copy\u001b[0m\u001b[1;33m.\u001b[0m\u001b[0mcopyto\u001b[0m\u001b[1;33m(\u001b[0m\u001b[0md_dst\u001b[0m\u001b[1;33m)\u001b[0m\u001b[1;33m\u001b[0m\u001b[1;33m\u001b[0m\u001b[0m\n\u001b[0;32m     59\u001b[0m                     \u001b[1;32melse\u001b[0m\u001b[1;33m:\u001b[0m\u001b[1;33m\u001b[0m\u001b[1;33m\u001b[0m\u001b[0m\n\u001b[1;32m---> 60\u001b[1;33m                         \u001b[0md_src\u001b[0m\u001b[1;33m.\u001b[0m\u001b[0mcopyto\u001b[0m\u001b[1;33m(\u001b[0m\u001b[0md_dst\u001b[0m\u001b[1;33m)\u001b[0m\u001b[1;33m\u001b[0m\u001b[1;33m\u001b[0m\u001b[0m\n\u001b[0m\u001b[0;32m     61\u001b[0m                     \u001b[1;31m# pylint: enable=no-member,protected-access\u001b[0m\u001b[1;33m\u001b[0m\u001b[1;33m\u001b[0m\u001b[0m\n\u001b[0;32m     62\u001b[0m                 \u001b[1;32melse\u001b[0m\u001b[1;33m:\u001b[0m\u001b[1;33m\u001b[0m\u001b[1;33m\u001b[0m\u001b[0m\n",
      "\u001b[1;32m~\\AppData\\Roaming\\Python\\Python39\\site-packages\\mxnet\\ndarray\\ndarray.py\u001b[0m in \u001b[0;36mcopyto\u001b[1;34m(self, other)\u001b[0m\n\u001b[0;32m   2661\u001b[0m                 \u001b[0mwarnings\u001b[0m\u001b[1;33m.\u001b[0m\u001b[0mwarn\u001b[0m\u001b[1;33m(\u001b[0m\u001b[1;34m'You are attempting to copy an array to itself'\u001b[0m\u001b[1;33m,\u001b[0m \u001b[0mRuntimeWarning\u001b[0m\u001b[1;33m)\u001b[0m\u001b[1;33m\u001b[0m\u001b[1;33m\u001b[0m\u001b[0m\n\u001b[0;32m   2662\u001b[0m                 \u001b[1;32mreturn\u001b[0m \u001b[1;32mFalse\u001b[0m\u001b[1;33m\u001b[0m\u001b[1;33m\u001b[0m\u001b[0m\n\u001b[1;32m-> 2663\u001b[1;33m             \u001b[1;32mreturn\u001b[0m \u001b[0m_internal\u001b[0m\u001b[1;33m.\u001b[0m\u001b[0m_copyto\u001b[0m\u001b[1;33m(\u001b[0m\u001b[0mself\u001b[0m\u001b[1;33m,\u001b[0m \u001b[0mout\u001b[0m\u001b[1;33m=\u001b[0m\u001b[0mother\u001b[0m\u001b[1;33m)\u001b[0m\u001b[1;33m\u001b[0m\u001b[1;33m\u001b[0m\u001b[0m\n\u001b[0m\u001b[0;32m   2664\u001b[0m         \u001b[1;32melif\u001b[0m \u001b[0misinstance\u001b[0m\u001b[1;33m(\u001b[0m\u001b[0mother\u001b[0m\u001b[1;33m,\u001b[0m \u001b[0mContext\u001b[0m\u001b[1;33m)\u001b[0m\u001b[1;33m:\u001b[0m\u001b[1;33m\u001b[0m\u001b[1;33m\u001b[0m\u001b[0m\n\u001b[0;32m   2665\u001b[0m             \u001b[0mhret\u001b[0m \u001b[1;33m=\u001b[0m \u001b[0mNDArray\u001b[0m\u001b[1;33m(\u001b[0m\u001b[0m_new_alloc_handle\u001b[0m\u001b[1;33m(\u001b[0m\u001b[0mself\u001b[0m\u001b[1;33m.\u001b[0m\u001b[0mshape\u001b[0m\u001b[1;33m,\u001b[0m \u001b[0mother\u001b[0m\u001b[1;33m,\u001b[0m \u001b[1;32mTrue\u001b[0m\u001b[1;33m,\u001b[0m \u001b[0mself\u001b[0m\u001b[1;33m.\u001b[0m\u001b[0mdtype\u001b[0m\u001b[1;33m)\u001b[0m\u001b[1;33m)\u001b[0m\u001b[1;33m\u001b[0m\u001b[1;33m\u001b[0m\u001b[0m\n",
      "\u001b[1;32m~\\AppData\\Roaming\\Python\\Python39\\site-packages\\mxnet\\ndarray\\register.py\u001b[0m in \u001b[0;36m_copyto\u001b[1;34m(data, out, name, **kwargs)\u001b[0m\n",
      "\u001b[1;32m~\\AppData\\Roaming\\Python\\Python39\\site-packages\\mxnet\\_ctypes\\ndarray.py\u001b[0m in \u001b[0;36m_imperative_invoke\u001b[1;34m(handle, ndargs, keys, vals, out, is_np_op, output_is_list)\u001b[0m\n\u001b[0;32m     80\u001b[0m     \u001b[0mout_stypes\u001b[0m \u001b[1;33m=\u001b[0m \u001b[0mctypes\u001b[0m\u001b[1;33m.\u001b[0m\u001b[0mPOINTER\u001b[0m\u001b[1;33m(\u001b[0m\u001b[0mctypes\u001b[0m\u001b[1;33m.\u001b[0m\u001b[0mc_int\u001b[0m\u001b[1;33m)\u001b[0m\u001b[1;33m(\u001b[0m\u001b[1;33m)\u001b[0m\u001b[1;33m\u001b[0m\u001b[1;33m\u001b[0m\u001b[0m\n\u001b[0;32m     81\u001b[0m \u001b[1;33m\u001b[0m\u001b[0m\n\u001b[1;32m---> 82\u001b[1;33m     check_call(_LIB.MXImperativeInvokeEx(\n\u001b[0m\u001b[0;32m     83\u001b[0m         \u001b[0mctypes\u001b[0m\u001b[1;33m.\u001b[0m\u001b[0mc_void_p\u001b[0m\u001b[1;33m(\u001b[0m\u001b[0mhandle\u001b[0m\u001b[1;33m)\u001b[0m\u001b[1;33m,\u001b[0m\u001b[1;33m\u001b[0m\u001b[1;33m\u001b[0m\u001b[0m\n\u001b[0;32m     84\u001b[0m         \u001b[0mctypes\u001b[0m\u001b[1;33m.\u001b[0m\u001b[0mc_int\u001b[0m\u001b[1;33m(\u001b[0m\u001b[0mlen\u001b[0m\u001b[1;33m(\u001b[0m\u001b[0mndargs\u001b[0m\u001b[1;33m)\u001b[0m\u001b[1;33m)\u001b[0m\u001b[1;33m,\u001b[0m\u001b[1;33m\u001b[0m\u001b[1;33m\u001b[0m\u001b[0m\n",
      "\u001b[1;31mKeyboardInterrupt\u001b[0m: "
     ]
    }
   ],
   "source": [
    "app_train = datawig.SimpleImputer.complete(app_train,\n",
    "                                    precision_threshold=0.0,\n",
    "                                    inplace=False,\n",
    "                                    hpo=False,\n",
    "                                    verbose=0,\n",
    "                                    num_epochs=100,\n",
    "                                    iterations=1,\n",
    "                                    output_path='.'\n",
    "                                   )"
   ]
  },
  {
   "cell_type": "code",
   "execution_count": null,
   "id": "6963585c",
   "metadata": {},
   "outputs": [],
   "source": [
    "app_test = datawig.SimpleImputer.complete(app_test,\n",
    "                                    precision_threshold=0.0,\n",
    "                                    inplace=False,\n",
    "                                    hpo=False,\n",
    "                                    verbose=0,\n",
    "                                    num_epochs=100,\n",
    "                                    iterations=1,\n",
    "                                    output_path='.'\n",
    "                                   )"
   ]
  },
  {
   "cell_type": "code",
   "execution_count": null,
   "id": "f29336d3",
   "metadata": {},
   "outputs": [],
   "source": [
    "remove_columns = list(app_test_origin.columns)\n",
    "remove_columns.remove('SK_ID_CURR')\n",
    "remove_columns.remove('DAYS_EMPLOYED_ANOM')"
   ]
  },
  {
   "cell_type": "code",
   "execution_count": null,
   "id": "921abcfc",
   "metadata": {},
   "outputs": [],
   "source": [
    "app_train.drop(remove_columns, axis=1, inplace=True)\n",
    "app_test.drop(remove_columns, axis=1, inplace=True)\n",
    "app_test.head()"
   ]
  },
  {
   "cell_type": "code",
   "execution_count": null,
   "id": "4c844720",
   "metadata": {},
   "outputs": [],
   "source": [
    "### train\n",
    "app_train.to_csv(\n",
    "    path_or_buf=\"./home-credit-default-risk/exports/hc_br_train_priprocess.csv\", # 出力先\n",
    "    sep=\",\",                                            # 区切り文字\n",
    "    index=False,                                        # indexの出力有無\n",
    "    header=True                                        # headerの出力有無\n",
    ")"
   ]
  },
  {
   "cell_type": "code",
   "execution_count": null,
   "id": "6a5ec03e",
   "metadata": {},
   "outputs": [],
   "source": [
    "### test\n",
    "app_test.to_csv(\n",
    "    path_or_buf=\"./home-credit-default-risk/exports/app_test_priprocess.csv\", # 出力先\n",
    "    sep=\",\",                                            # 区切り文字\n",
    "    index=False,                                        # indexの出力有無\n",
    "    header=True                                        # headerの出力有無\n",
    ")"
   ]
  },
  {
   "cell_type": "code",
   "execution_count": null,
   "id": "8d8bab38",
   "metadata": {},
   "outputs": [],
   "source": []
  },
  {
   "cell_type": "code",
   "execution_count": null,
   "id": "5d5879cc",
   "metadata": {},
   "outputs": [],
   "source": []
  },
  {
   "cell_type": "code",
   "execution_count": null,
   "id": "9a59d58e",
   "metadata": {},
   "outputs": [],
   "source": []
  },
  {
   "cell_type": "code",
   "execution_count": null,
   "id": "1524f54f",
   "metadata": {},
   "outputs": [],
   "source": []
  },
  {
   "cell_type": "code",
   "execution_count": null,
   "id": "443267f4",
   "metadata": {},
   "outputs": [],
   "source": []
  },
  {
   "cell_type": "code",
   "execution_count": null,
   "id": "291760b5",
   "metadata": {},
   "outputs": [],
   "source": [
    "app_train[replace_columns] = app_train_replace[replace_columns]\n",
    "app_test[replace_columns] = app_test_replace[replace_columns]"
   ]
  },
  {
   "cell_type": "code",
   "execution_count": null,
   "id": "a63c6021",
   "metadata": {},
   "outputs": [],
   "source": [
    "app_train_replace.head()"
   ]
  },
  {
   "cell_type": "code",
   "execution_count": null,
   "id": "19424688",
   "metadata": {},
   "outputs": [],
   "source": [
    "app_test_replace.head()"
   ]
  },
  {
   "cell_type": "code",
   "execution_count": null,
   "id": "9c984187",
   "metadata": {},
   "outputs": [],
   "source": [
    "app_train[replace_columns] = app_train_replace[replace_columns]\n",
    "app_test[replace_columns] = app_test_replace[replace_columns]\n",
    "app_test.head()"
   ]
  },
  {
   "cell_type": "code",
   "execution_count": null,
   "id": "6f4b60a4",
   "metadata": {},
   "outputs": [],
   "source": [
    "remove_columns = list(app_test_origin.columns)\n",
    "remove_columns.remove('SK_ID_CURR')\n",
    "remove_columns"
   ]
  },
  {
   "cell_type": "code",
   "execution_count": null,
   "id": "071a2961",
   "metadata": {},
   "outputs": [],
   "source": [
    "app_train.drop(remove_columns, axis=1, inplace=True)\n",
    "app_test.drop(remove_columns, axis=1, inplace=True)\n",
    "app_train.head()"
   ]
  },
  {
   "cell_type": "markdown",
   "id": "5b8efd1e",
   "metadata": {},
   "source": [
    "### br_min_credit_day_overdue"
   ]
  },
  {
   "cell_type": "code",
   "execution_count": null,
   "id": "fa6f6bc4",
   "metadata": {},
   "outputs": [],
   "source": [
    "app_train[['TARGET', 'br_min_credit_day_overdue']].corr()"
   ]
  },
  {
   "cell_type": "code",
   "execution_count": null,
   "id": "188b2129",
   "metadata": {},
   "outputs": [],
   "source": [
    "kde_target('br_min_credit_day_overdue', app_train)"
   ]
  },
  {
   "cell_type": "code",
   "execution_count": null,
   "id": "1a402296",
   "metadata": {},
   "outputs": [],
   "source": [
    "## Yao-Johnson変換\n",
    "num_cols = ['br_min_credit_day_overdue']\n",
    "### 学習データに基づいてYao-Johnson変換を定義\n",
    "pt = PowerTransformer(method = 'yeo-johnson')\n",
    "pt.fit(app_train[num_cols].copy())\n",
    "\n",
    "### 変換後のデータで各列を置換\n",
    "app_train['br_min_credit_day_overdue'] = pt.transform(app_train[num_cols])\n",
    "app_test['br_min_credit_day_overdue'] = pt.transform(app_test[num_cols])"
   ]
  },
  {
   "cell_type": "code",
   "execution_count": null,
   "id": "42cad7f3",
   "metadata": {},
   "outputs": [],
   "source": [
    "## 標準化\n",
    "num_cols = ['br_min_credit_day_overdue']\n",
    "scaler = StandardScaler()\n",
    "scaler.fit(app_train[num_cols])\n",
    "\n",
    "app_train[num_cols] = scaler.transform(app_train[num_cols])\n",
    "app_test[num_cols] = scaler.transform(app_test[num_cols])\n",
    "app_train[['br_min_credit_day_overdue', 'TARGET']].corr()"
   ]
  },
  {
   "cell_type": "code",
   "execution_count": null,
   "id": "68351859",
   "metadata": {},
   "outputs": [],
   "source": [
    "## Yao-Johnson変換後の特徴量の分布\n",
    "kde_target('br_min_credit_day_overdue', app_train)"
   ]
  },
  {
   "cell_type": "markdown",
   "id": "ee330d89",
   "metadata": {},
   "source": [
    "### br_max_credit_day_overdue"
   ]
  },
  {
   "cell_type": "code",
   "execution_count": null,
   "id": "a44fa411",
   "metadata": {},
   "outputs": [],
   "source": [
    "app_train[['TARGET', 'br_max_credit_day_overdue']].corr()"
   ]
  },
  {
   "cell_type": "code",
   "execution_count": null,
   "id": "7d7640a4",
   "metadata": {},
   "outputs": [],
   "source": [
    "kde_target('br_max_credit_day_overdue', app_train)"
   ]
  },
  {
   "cell_type": "code",
   "execution_count": null,
   "id": "3f046ccb",
   "metadata": {},
   "outputs": [],
   "source": [
    "## Yao-Johnson変換\n",
    "num_cols = ['br_max_credit_day_overdue']\n",
    "### 学習データに基づいてYao-Johnson変換を定義\n",
    "pt = PowerTransformer(method = 'yeo-johnson')\n",
    "pt.fit(app_train[num_cols].copy())\n",
    "\n",
    "### 変換後のデータで各列を置換\n",
    "app_train['br_max_credit_day_overdue'] = pt.transform(app_train[num_cols])\n",
    "app_test['br_max_credit_day_overdue'] = pt.transform(app_test[num_cols])"
   ]
  },
  {
   "cell_type": "code",
   "execution_count": null,
   "id": "9d264359",
   "metadata": {},
   "outputs": [],
   "source": [
    "## Yao-Johnson変換後の目的変数との相関\n",
    "app_train[['TARGET', 'br_max_credit_day_overdue']].corr()"
   ]
  },
  {
   "cell_type": "code",
   "execution_count": null,
   "id": "8a5a719f",
   "metadata": {},
   "outputs": [],
   "source": [
    "## Yao-Johnson変換後の特徴量の分布\n",
    "kde_target('br_max_credit_day_overdue', app_train)"
   ]
  },
  {
   "cell_type": "code",
   "execution_count": null,
   "id": "f594ce2a",
   "metadata": {},
   "outputs": [],
   "source": []
  },
  {
   "cell_type": "code",
   "execution_count": null,
   "id": "59286e2c",
   "metadata": {},
   "outputs": [],
   "source": []
  },
  {
   "cell_type": "markdown",
   "id": "55d471f7",
   "metadata": {},
   "source": [
    "### br_sum_credit_day_overdue"
   ]
  },
  {
   "cell_type": "code",
   "execution_count": null,
   "id": "d157c161",
   "metadata": {},
   "outputs": [],
   "source": [
    "app_train[['TARGET', 'br_sum_credit_day_overdue']].corr()"
   ]
  },
  {
   "cell_type": "code",
   "execution_count": null,
   "id": "9bddd87a",
   "metadata": {},
   "outputs": [],
   "source": [
    "kde_target('br_sum_credit_day_overdue', app_train)"
   ]
  },
  {
   "cell_type": "code",
   "execution_count": null,
   "id": "8e1a5f3a",
   "metadata": {},
   "outputs": [],
   "source": [
    "## Yao-Johnson変換\n",
    "num_cols = ['br_sum_credit_day_overdue']\n",
    "### 学習データに基づいてYao-Johnson変換を定義\n",
    "pt = PowerTransformer(method = 'yeo-johnson')\n",
    "pt.fit(app_train[num_cols].copy())\n",
    "\n",
    "### 変換後のデータで各列を置換\n",
    "app_train['br_sum_credit_day_overdue'] = pt.transform(app_train[num_cols])\n",
    "app_test['br_sum_credit_day_overdue'] = pt.transform(app_test[num_cols])"
   ]
  },
  {
   "cell_type": "code",
   "execution_count": null,
   "id": "dd00ec79",
   "metadata": {},
   "outputs": [],
   "source": [
    "## Yao-Johnson変換後の目的変数との相関\n",
    "app_train[['TARGET', 'br_sum_credit_day_overdue']].corr()"
   ]
  },
  {
   "cell_type": "code",
   "execution_count": null,
   "id": "f714ea9f",
   "metadata": {},
   "outputs": [],
   "source": [
    "## Yao-Johnson変換後の特徴量の分布\n",
    "kde_target('br_sum_credit_day_overdue', app_train)"
   ]
  },
  {
   "cell_type": "markdown",
   "id": "5cdabce4",
   "metadata": {},
   "source": [
    "### br_avg_credit_day_overdue"
   ]
  },
  {
   "cell_type": "code",
   "execution_count": null,
   "id": "b33c170d",
   "metadata": {},
   "outputs": [],
   "source": [
    "app_train[['TARGET', 'br_avg_credit_day_overdue']].corr()"
   ]
  },
  {
   "cell_type": "code",
   "execution_count": null,
   "id": "2d6b6ba5",
   "metadata": {},
   "outputs": [],
   "source": [
    "kde_target('br_avg_credit_day_overdue', app_train)"
   ]
  },
  {
   "cell_type": "code",
   "execution_count": null,
   "id": "b255cbf7",
   "metadata": {},
   "outputs": [],
   "source": [
    "## Yao-Johnson変換\n",
    "num_cols = ['br_avg_credit_day_overdue']\n",
    "### 学習データに基づいてYao-Johnson変換を定義\n",
    "pt = PowerTransformer(method = 'yeo-johnson')\n",
    "pt.fit(app_train[num_cols].copy())\n",
    "\n",
    "### 変換後のデータで各列を置換\n",
    "app_train['br_avg_credit_day_overdue'] = pt.transform(app_train[num_cols])\n",
    "app_test['br_avg_credit_day_overdue'] = pt.transform(app_test[num_cols])"
   ]
  },
  {
   "cell_type": "code",
   "execution_count": null,
   "id": "0650e8c1",
   "metadata": {},
   "outputs": [],
   "source": [
    "## Yao-Johnson変換後の目的変数との相関\n",
    "app_train[['TARGET', 'br_avg_credit_day_overdue']].corr()"
   ]
  },
  {
   "cell_type": "code",
   "execution_count": null,
   "id": "305f5d79",
   "metadata": {},
   "outputs": [],
   "source": [
    "## Yao-Johnson変換後の特徴量の分布\n",
    "kde_target('br_avg_credit_day_overdue', app_train)"
   ]
  },
  {
   "cell_type": "markdown",
   "id": "665ad9e9",
   "metadata": {},
   "source": [
    "### br_cnt_credit_day_overdue"
   ]
  },
  {
   "cell_type": "code",
   "execution_count": null,
   "id": "9a374740",
   "metadata": {},
   "outputs": [],
   "source": [
    "app_train[['TARGET', 'br_cnt_credit_day_overdue']].corr()"
   ]
  },
  {
   "cell_type": "code",
   "execution_count": null,
   "id": "9b542b43",
   "metadata": {},
   "outputs": [],
   "source": [
    "kde_target('br_cnt_credit_day_overdue', app_train)"
   ]
  },
  {
   "cell_type": "code",
   "execution_count": null,
   "id": "f031df93",
   "metadata": {},
   "outputs": [],
   "source": [
    "## Yao-Johnson変換\n",
    "num_cols = ['br_cnt_credit_day_overdue']\n",
    "### 学習データに基づいてYao-Johnson変換を定義\n",
    "pt = PowerTransformer(method = 'yeo-johnson')\n",
    "pt.fit(app_train[num_cols].copy())\n",
    "\n",
    "### 変換後のデータで各列を置換\n",
    "app_train['br_cnt_credit_day_overdue'] = pt.transform(app_train[num_cols])\n",
    "app_test['br_cnt_credit_day_overdue'] = pt.transform(app_test[num_cols])"
   ]
  },
  {
   "cell_type": "code",
   "execution_count": null,
   "id": "2c9578e6",
   "metadata": {},
   "outputs": [],
   "source": [
    "## Yao-Johnson変換後の目的変数との相関\n",
    "app_train[['TARGET', 'br_cnt_credit_day_overdue']].corr()"
   ]
  },
  {
   "cell_type": "code",
   "execution_count": null,
   "id": "4658558d",
   "metadata": {},
   "outputs": [],
   "source": [
    "## Yao-Johnson変換後の特徴量の分布\n",
    "kde_target('br_cnt_credit_day_overdue', app_train)"
   ]
  },
  {
   "cell_type": "markdown",
   "id": "5dfd41a0",
   "metadata": {},
   "source": [
    "### br_stddev_credit_day_overdue"
   ]
  },
  {
   "cell_type": "code",
   "execution_count": null,
   "id": "1d18b6c1",
   "metadata": {},
   "outputs": [],
   "source": [
    "app_train[['TARGET', 'br_stddev_credit_day_overdue']].corr()"
   ]
  },
  {
   "cell_type": "code",
   "execution_count": null,
   "id": "b82b6850",
   "metadata": {},
   "outputs": [],
   "source": [
    "kde_target('br_stddev_credit_day_overdue', app_train)"
   ]
  },
  {
   "cell_type": "code",
   "execution_count": null,
   "id": "434e8fa5",
   "metadata": {},
   "outputs": [],
   "source": [
    "## Yao-Johnson変換\n",
    "num_cols = ['br_stddev_credit_day_overdue']\n",
    "### 学習データに基づいてYao-Johnson変換を定義\n",
    "pt = PowerTransformer(method = 'yeo-johnson')\n",
    "pt.fit(app_train[num_cols].copy())\n",
    "\n",
    "### 変換後のデータで各列を置換\n",
    "app_train['br_stddev_credit_day_overdue'] = pt.transform(app_train[num_cols])\n",
    "app_test['br_stddev_credit_day_overdue'] = pt.transform(app_test[num_cols])"
   ]
  },
  {
   "cell_type": "code",
   "execution_count": null,
   "id": "790fbedf",
   "metadata": {},
   "outputs": [],
   "source": [
    "## Yao-Johnson変換後の目的変数との相関\n",
    "app_train[['TARGET', 'br_stddev_credit_day_overdue']].corr()"
   ]
  },
  {
   "cell_type": "code",
   "execution_count": null,
   "id": "6329dad9",
   "metadata": {},
   "outputs": [],
   "source": [
    "## Yao-Johnson変換後の特徴量の分布\n",
    "kde_target('br_stddev_credit_day_overdue', app_train)"
   ]
  },
  {
   "cell_type": "markdown",
   "id": "5500c193",
   "metadata": {},
   "source": [
    "### br_stddev_pop_credit_day_overdue"
   ]
  },
  {
   "cell_type": "code",
   "execution_count": null,
   "id": "fe1f2ee3",
   "metadata": {},
   "outputs": [],
   "source": [
    "app_train[['TARGET', 'br_stddev_pop_credit_day_overdue']].corr()"
   ]
  },
  {
   "cell_type": "code",
   "execution_count": null,
   "id": "151ff2fb",
   "metadata": {},
   "outputs": [],
   "source": [
    "kde_target('br_stddev_pop_credit_day_overdue', app_train)"
   ]
  },
  {
   "cell_type": "code",
   "execution_count": null,
   "id": "2fea1d9d",
   "metadata": {},
   "outputs": [],
   "source": [
    "## Yao-Johnson変換\n",
    "num_cols = ['br_stddev_pop_credit_day_overdue']\n",
    "### 学習データに基づいてYao-Johnson変換を定義\n",
    "pt = PowerTransformer(method = 'yeo-johnson')\n",
    "pt.fit(app_train[num_cols].copy())\n",
    "\n",
    "### 変換後のデータで各列を置換\n",
    "app_train['br_stddev_pop_credit_day_overdue'] = pt.transform(app_train[num_cols])\n",
    "app_test['br_stddev_pop_credit_day_overdue'] = pt.transform(app_test[num_cols])"
   ]
  },
  {
   "cell_type": "code",
   "execution_count": null,
   "id": "51ba0cc5",
   "metadata": {},
   "outputs": [],
   "source": [
    "## Yao-Johnson変換後の目的変数との相関\n",
    "app_train[['TARGET', 'br_stddev_pop_credit_day_overdue']].corr()"
   ]
  },
  {
   "cell_type": "code",
   "execution_count": null,
   "id": "730bdf5a",
   "metadata": {},
   "outputs": [],
   "source": [
    "## Yao-Johnson変換後の特徴量の分布\n",
    "kde_target('br_stddev_pop_credit_day_overdue', app_train)"
   ]
  },
  {
   "cell_type": "markdown",
   "id": "600cdfd4",
   "metadata": {},
   "source": [
    "### br_var_pop_credit_day_overdue"
   ]
  },
  {
   "cell_type": "code",
   "execution_count": null,
   "id": "b041e2f5",
   "metadata": {},
   "outputs": [],
   "source": [
    "app_train[['TARGET', 'br_var_pop_credit_day_overdue']].corr()"
   ]
  },
  {
   "cell_type": "code",
   "execution_count": null,
   "id": "c64cbf84",
   "metadata": {},
   "outputs": [],
   "source": [
    "kde_target('br_var_pop_credit_day_overdue', app_train)"
   ]
  },
  {
   "cell_type": "code",
   "execution_count": null,
   "id": "e4410d72",
   "metadata": {},
   "outputs": [],
   "source": [
    "## Yao-Johnson変換\n",
    "num_cols = ['br_var_pop_credit_day_overdue']\n",
    "### 学習データに基づいてYao-Johnson変換を定義\n",
    "pt = PowerTransformer(method = 'yeo-johnson')\n",
    "pt.fit(app_train[num_cols].copy())\n",
    "\n",
    "### 変換後のデータで各列を置換\n",
    "app_train['br_var_pop_credit_day_overdue'] = pt.transform(app_train[num_cols])\n",
    "app_test['br_var_pop_credit_day_overdue'] = pt.transform(app_test[num_cols])"
   ]
  },
  {
   "cell_type": "code",
   "execution_count": null,
   "id": "260ada4d",
   "metadata": {},
   "outputs": [],
   "source": [
    "## Yao-Johnson変換後の目的変数との相関\n",
    "app_train[['TARGET', 'br_var_pop_credit_day_overdue']].corr()"
   ]
  },
  {
   "cell_type": "code",
   "execution_count": null,
   "id": "35618725",
   "metadata": {},
   "outputs": [],
   "source": [
    "## Yao-Johnson変換後の特徴量の分布\n",
    "kde_target('br_var_pop_credit_day_overdue', app_train)"
   ]
  },
  {
   "cell_type": "markdown",
   "id": "d844c129",
   "metadata": {},
   "source": [
    "### br_var_samp_credit_day_overdue"
   ]
  },
  {
   "cell_type": "code",
   "execution_count": null,
   "id": "4a711e62",
   "metadata": {},
   "outputs": [],
   "source": [
    "app_train[['TARGET', 'br_var_samp_credit_day_overdue']].corr()"
   ]
  },
  {
   "cell_type": "code",
   "execution_count": null,
   "id": "d82fdbd5",
   "metadata": {},
   "outputs": [],
   "source": [
    "kde_target('br_var_samp_credit_day_overdue', app_train)"
   ]
  },
  {
   "cell_type": "code",
   "execution_count": null,
   "id": "0bd82878",
   "metadata": {},
   "outputs": [],
   "source": [
    "## Yao-Johnson変換\n",
    "num_cols = ['br_var_samp_credit_day_overdue']\n",
    "### 学習データに基づいてYao-Johnson変換を定義\n",
    "pt = PowerTransformer(method = 'yeo-johnson')\n",
    "pt.fit(app_train[num_cols].copy())\n",
    "\n",
    "### 変換後のデータで各列を置換\n",
    "app_train['br_var_samp_credit_day_overdue'] = pt.transform(app_train[num_cols])\n",
    "app_test['br_var_samp_credit_day_overdue'] = pt.transform(app_test[num_cols])"
   ]
  },
  {
   "cell_type": "code",
   "execution_count": null,
   "id": "cf7bfdac",
   "metadata": {},
   "outputs": [],
   "source": [
    "## Yao-Johnson変換後の目的変数との相関\n",
    "app_train[['TARGET', 'br_var_samp_credit_day_overdue']].corr()"
   ]
  },
  {
   "cell_type": "code",
   "execution_count": null,
   "id": "bafdd9f1",
   "metadata": {},
   "outputs": [],
   "source": [
    "## Yao-Johnson変換後の特徴量の分布\n",
    "kde_target('br_var_samp_credit_day_overdue', app_train)"
   ]
  },
  {
   "cell_type": "markdown",
   "id": "b3a0ce85",
   "metadata": {},
   "source": [
    "### br_variance_pop_credit_day_overdue"
   ]
  },
  {
   "cell_type": "code",
   "execution_count": null,
   "id": "61c7d1b4",
   "metadata": {},
   "outputs": [],
   "source": [
    "app_train[['TARGET', 'br_variance_pop_credit_day_overdue']].corr()"
   ]
  },
  {
   "cell_type": "code",
   "execution_count": null,
   "id": "d65ea118",
   "metadata": {},
   "outputs": [],
   "source": [
    "kde_target('br_variance_pop_credit_day_overdue', app_train)"
   ]
  },
  {
   "cell_type": "code",
   "execution_count": null,
   "id": "c2b7db8f",
   "metadata": {},
   "outputs": [],
   "source": [
    "## Yao-Johnson変換\n",
    "num_cols = ['br_variance_pop_credit_day_overdue']\n",
    "### 学習データに基づいてYao-Johnson変換を定義\n",
    "pt = PowerTransformer(method = 'yeo-johnson')\n",
    "pt.fit(app_train[num_cols].copy())\n",
    "\n",
    "### 変換後のデータで各列を置換\n",
    "app_train['br_variance_pop_credit_day_overdue'] = pt.transform(app_train[num_cols])\n",
    "app_test['br_variance_pop_credit_day_overdue'] = pt.transform(app_test[num_cols])"
   ]
  },
  {
   "cell_type": "code",
   "execution_count": null,
   "id": "48670322",
   "metadata": {},
   "outputs": [],
   "source": [
    "## Yao-Johnson変換後の目的変数との相関\n",
    "app_train[['TARGET', 'br_variance_pop_credit_day_overdue']].corr()"
   ]
  },
  {
   "cell_type": "code",
   "execution_count": null,
   "id": "1fe72144",
   "metadata": {},
   "outputs": [],
   "source": [
    "## Yao-Johnson変換後の特徴量の分布\n",
    "kde_target('br_variance_pop_credit_day_overdue', app_train)"
   ]
  },
  {
   "cell_type": "markdown",
   "id": "e93caf8d",
   "metadata": {},
   "source": [
    "### br_min_days_credit_enddate"
   ]
  },
  {
   "cell_type": "code",
   "execution_count": null,
   "id": "e1181e8a",
   "metadata": {},
   "outputs": [],
   "source": [
    "app_train[['TARGET', 'br_min_days_credit_enddate']].corr()"
   ]
  },
  {
   "cell_type": "code",
   "execution_count": null,
   "id": "7232fbd1",
   "metadata": {},
   "outputs": [],
   "source": [
    "kde_target('br_min_days_credit_enddate', app_train)"
   ]
  },
  {
   "cell_type": "code",
   "execution_count": null,
   "id": "3d32d370",
   "metadata": {},
   "outputs": [],
   "source": [
    "## Yao-Johnson変換\n",
    "num_cols = ['br_min_days_credit_enddate']\n",
    "### 学習データに基づいてYao-Johnson変換を定義\n",
    "pt = PowerTransformer(method = 'yeo-johnson')\n",
    "pt.fit(app_train[num_cols].copy())\n",
    "\n",
    "### 変換後のデータで各列を置換\n",
    "app_train['br_min_days_credit_enddate'] = pt.transform(app_train[num_cols])\n",
    "app_test['br_min_days_credit_enddate'] = pt.transform(app_test[num_cols])"
   ]
  },
  {
   "cell_type": "code",
   "execution_count": null,
   "id": "68907fbe",
   "metadata": {},
   "outputs": [],
   "source": [
    "## Yao-Johnson変換後の目的変数との相関\n",
    "app_train[['TARGET', 'br_min_days_credit_enddate']].corr()"
   ]
  },
  {
   "cell_type": "code",
   "execution_count": null,
   "id": "41bf0778",
   "metadata": {},
   "outputs": [],
   "source": [
    "## Yao-Johnson変換後の特徴量の分布\n",
    "kde_target('br_min_days_credit_enddate', app_train)"
   ]
  },
  {
   "cell_type": "markdown",
   "id": "441afd9b",
   "metadata": {},
   "source": [
    "### br_max_days_credit_enddate"
   ]
  },
  {
   "cell_type": "code",
   "execution_count": null,
   "id": "a4ee36ec",
   "metadata": {},
   "outputs": [],
   "source": [
    "app_train[['TARGET', 'br_max_days_credit_enddate']].corr()"
   ]
  },
  {
   "cell_type": "code",
   "execution_count": null,
   "id": "9deaa5bf",
   "metadata": {},
   "outputs": [],
   "source": [
    "kde_target('br_max_days_credit_enddate', app_train)"
   ]
  },
  {
   "cell_type": "code",
   "execution_count": null,
   "id": "70bcc2b2",
   "metadata": {},
   "outputs": [],
   "source": [
    "## Yao-Johnson変換\n",
    "#num_cols = ['br_max_days_credit_enddate']\n",
    "### 学習データに基づいてYao-Johnson変換を定義\n",
    "#pt = PowerTransformer(method = 'yeo-johnson')\n",
    "#pt.fit(app_train[num_cols].copy())\n",
    "\n",
    "### 変換後のデータで各列を置換\n",
    "#app_train['br_max_days_credit_enddate'] = pt.transform(app_train[num_cols])\n",
    "#app_test['br_max_days_credit_enddate'] = pt.transform(app_test[num_cols])\n"
   ]
  },
  {
   "cell_type": "code",
   "execution_count": null,
   "id": "ebe927f7",
   "metadata": {},
   "outputs": [],
   "source": [
    "## Yao-Johnson変換後の目的変数との相関\n",
    "#app_train[['TARGET', 'br_max_days_credit_enddate']].corr()"
   ]
  },
  {
   "cell_type": "code",
   "execution_count": null,
   "id": "6efa28c8",
   "metadata": {},
   "outputs": [],
   "source": [
    "## Yao-Johnson変換後の特徴量の分布\n",
    "#kde_target('br_max_days_credit_enddate', app_train)"
   ]
  },
  {
   "cell_type": "markdown",
   "id": "9cdb755a",
   "metadata": {},
   "source": [
    "### br_sum_days_credit_enddate"
   ]
  },
  {
   "cell_type": "code",
   "execution_count": null,
   "id": "b5a4d974",
   "metadata": {},
   "outputs": [],
   "source": [
    "app_train[['TARGET', 'br_sum_days_credit_enddate']].corr()"
   ]
  },
  {
   "cell_type": "code",
   "execution_count": null,
   "id": "d861425c",
   "metadata": {},
   "outputs": [],
   "source": [
    "kde_target('br_sum_days_credit_enddate', app_train)"
   ]
  },
  {
   "cell_type": "code",
   "execution_count": null,
   "id": "4f1ef136",
   "metadata": {},
   "outputs": [],
   "source": [
    "## Yao-Johnson変換\n",
    "num_cols = ['br_sum_days_credit_enddate']\n",
    "### 学習データに基づいてYao-Johnson変換を定義\n",
    "pt = PowerTransformer(method = 'yeo-johnson')\n",
    "pt.fit(app_train[num_cols].copy())\n",
    "\n",
    "### 変換後のデータで各列を置換\n",
    "app_train['br_sum_days_credit_enddate'] = pt.transform(app_train[num_cols])\n",
    "app_test['br_sum_days_credit_enddate'] = pt.transform(app_test[num_cols])"
   ]
  },
  {
   "cell_type": "code",
   "execution_count": null,
   "id": "b2850d6c",
   "metadata": {},
   "outputs": [],
   "source": [
    "## Yao-Johnson変換後の目的変数との相関\n",
    "app_train[['TARGET', 'br_sum_days_credit_enddate']].corr()"
   ]
  },
  {
   "cell_type": "code",
   "execution_count": null,
   "id": "2a9a5ed2",
   "metadata": {},
   "outputs": [],
   "source": [
    "## Yao-Johnson変換後の特徴量の分布\n",
    "kde_target('br_sum_days_credit_enddate', app_train)"
   ]
  },
  {
   "cell_type": "markdown",
   "id": "dc47f3bc",
   "metadata": {},
   "source": [
    "### br_avg_days_credit_enddate"
   ]
  },
  {
   "cell_type": "code",
   "execution_count": null,
   "id": "7264b736",
   "metadata": {},
   "outputs": [],
   "source": [
    "app_train[['TARGET', 'br_avg_days_credit_enddate']].corr()"
   ]
  },
  {
   "cell_type": "code",
   "execution_count": null,
   "id": "a79c04c5",
   "metadata": {},
   "outputs": [],
   "source": [
    "kde_target('br_avg_days_credit_enddate', app_train)"
   ]
  },
  {
   "cell_type": "code",
   "execution_count": null,
   "id": "7b18c932",
   "metadata": {},
   "outputs": [],
   "source": [
    "## Yao-Johnson変換\n",
    "num_cols = ['br_avg_days_credit_enddate']\n",
    "### 学習データに基づいてYao-Johnson変換を定義\n",
    "pt = PowerTransformer(method = 'yeo-johnson')\n",
    "pt.fit(app_train[num_cols].copy())\n",
    "\n",
    "### 変換後のデータで各列を置換\n",
    "app_train['br_avg_days_credit_enddate'] = pt.transform(app_train[num_cols])\n",
    "app_test['br_avg_days_credit_enddate'] = pt.transform(app_test[num_cols])"
   ]
  },
  {
   "cell_type": "code",
   "execution_count": null,
   "id": "ab8995ea",
   "metadata": {},
   "outputs": [],
   "source": [
    "## Yao-Johnson変換後の目的変数との相関\n",
    "app_train[['TARGET', 'br_avg_days_credit_enddate']].corr()"
   ]
  },
  {
   "cell_type": "code",
   "execution_count": null,
   "id": "03e4e9e7",
   "metadata": {},
   "outputs": [],
   "source": [
    "## Yao-Johnson変換後の特徴量の分布\n",
    "kde_target('br_avg_days_credit_enddate', app_train)"
   ]
  },
  {
   "cell_type": "markdown",
   "id": "6bd1b9a1",
   "metadata": {},
   "source": [
    "### br_cnt_days_credit_enddate"
   ]
  },
  {
   "cell_type": "code",
   "execution_count": null,
   "id": "a95e8acf",
   "metadata": {},
   "outputs": [],
   "source": [
    "app_train[['TARGET', 'br_cnt_days_credit_enddate']].corr()"
   ]
  },
  {
   "cell_type": "code",
   "execution_count": null,
   "id": "30043373",
   "metadata": {},
   "outputs": [],
   "source": [
    "kde_target('br_cnt_days_credit_enddate', app_train)"
   ]
  },
  {
   "cell_type": "code",
   "execution_count": null,
   "id": "aa056715",
   "metadata": {},
   "outputs": [],
   "source": [
    "## Yao-Johnson変換\n",
    "num_cols = ['br_cnt_days_credit_enddate']\n",
    "### 学習データに基づいてYao-Johnson変換を定義\n",
    "pt = PowerTransformer(method = 'yeo-johnson')\n",
    "pt.fit(app_train[num_cols].copy())\n",
    "\n",
    "### 変換後のデータで各列を置換\n",
    "app_train['br_cnt_days_credit_enddate'] = pt.transform(app_train[num_cols])\n",
    "app_test['br_cnt_days_credit_enddate'] = pt.transform(app_test[num_cols])\n"
   ]
  },
  {
   "cell_type": "code",
   "execution_count": null,
   "id": "4c069734",
   "metadata": {},
   "outputs": [],
   "source": [
    "## Yao-Johnson変換後の目的変数との相関\n",
    "app_train[['TARGET', 'br_cnt_days_credit_enddate']].corr()"
   ]
  },
  {
   "cell_type": "code",
   "execution_count": null,
   "id": "911af8e8",
   "metadata": {},
   "outputs": [],
   "source": [
    "## Yao-Johnson変換後の特徴量の分布\n",
    "kde_target('br_cnt_days_credit_enddate', app_train)"
   ]
  },
  {
   "cell_type": "markdown",
   "id": "0c0df81c",
   "metadata": {},
   "source": [
    "### br_stddev_days_credit_enddate"
   ]
  },
  {
   "cell_type": "code",
   "execution_count": null,
   "id": "21e340a8",
   "metadata": {},
   "outputs": [],
   "source": [
    "app_train[['TARGET', 'br_stddev_days_credit_enddate']].corr()"
   ]
  },
  {
   "cell_type": "code",
   "execution_count": null,
   "id": "4a883ed2",
   "metadata": {},
   "outputs": [],
   "source": [
    "kde_target('br_stddev_days_credit_enddate', app_train)"
   ]
  },
  {
   "cell_type": "code",
   "execution_count": null,
   "id": "2195a2db",
   "metadata": {},
   "outputs": [],
   "source": [
    "## Yao-Johnson変換\n",
    "#num_cols = ['br_stddev_days_credit_enddate']\n",
    "### 学習データに基づいてYao-Johnson変換を定義\n",
    "#pt = PowerTransformer(method = 'yeo-johnson')\n",
    "#pt.fit(app_train[num_cols].copy())\n",
    "\n",
    "### 変換後のデータで各列を置換\n",
    "#app_train['br_stddev_days_credit_enddate'] = pt.transform(app_train[num_cols])\n",
    "#app_test['br_stddev_days_credit_enddate'] = pt.transform(app_test[num_cols])"
   ]
  },
  {
   "cell_type": "code",
   "execution_count": null,
   "id": "92e65f98",
   "metadata": {},
   "outputs": [],
   "source": [
    "## Yao-Johnson変換後の目的変数との相関\n",
    "#app_train[['TARGET', 'br_stddev_days_credit_enddate']].corr()"
   ]
  },
  {
   "cell_type": "code",
   "execution_count": null,
   "id": "ecb708cd",
   "metadata": {},
   "outputs": [],
   "source": [
    "## Yao-Johnson変換後の特徴量の分布\n",
    "#kde_target('br_stddev_days_credit_enddate', app_train)"
   ]
  },
  {
   "cell_type": "markdown",
   "id": "d454e989",
   "metadata": {},
   "source": [
    "### br_stddev_pop_days_credit_enddate"
   ]
  },
  {
   "cell_type": "code",
   "execution_count": null,
   "id": "92026e4c",
   "metadata": {},
   "outputs": [],
   "source": [
    "app_train[['TARGET', 'br_stddev_pop_days_credit_enddate']].corr()"
   ]
  },
  {
   "cell_type": "code",
   "execution_count": null,
   "id": "b8794327",
   "metadata": {},
   "outputs": [],
   "source": [
    "kde_target('br_stddev_pop_days_credit_enddate', app_train)"
   ]
  },
  {
   "cell_type": "code",
   "execution_count": null,
   "id": "9bd9b4a2",
   "metadata": {},
   "outputs": [],
   "source": [
    "## Yao-Johnson変換\n",
    "#num_cols = ['br_stddev_pop_days_credit_enddate']\n",
    "### 学習データに基づいてYao-Johnson変換を定義\n",
    "#pt = PowerTransformer(method = 'yeo-johnson')\n",
    "#pt.fit(app_train[num_cols].copy())\n",
    "\n",
    "### 変換後のデータで各列を置換\n",
    "#app_train['br_stddev_pop_days_credit_enddate'] = pt.transform(app_train[num_cols])\n",
    "#app_test['br_stddev_pop_days_credit_enddate'] = pt.transform(app_test[num_cols])"
   ]
  },
  {
   "cell_type": "code",
   "execution_count": null,
   "id": "15113118",
   "metadata": {},
   "outputs": [],
   "source": [
    "## Yao-Johnson変換後の目的変数との相関\n",
    "#app_train[['TARGET', 'br_stddev_pop_days_credit_enddate']].corr()"
   ]
  },
  {
   "cell_type": "code",
   "execution_count": null,
   "id": "503f954d",
   "metadata": {},
   "outputs": [],
   "source": [
    "## Yao-Johnson変換後の特徴量の分布\n",
    "#kde_target('br_stddev_pop_days_credit_enddate', app_train)"
   ]
  },
  {
   "cell_type": "markdown",
   "id": "3838a25b",
   "metadata": {},
   "source": [
    "### br_var_pop_days_credit_enddate"
   ]
  },
  {
   "cell_type": "code",
   "execution_count": null,
   "id": "062ab9da",
   "metadata": {},
   "outputs": [],
   "source": [
    "app_train[['TARGET', 'br_var_pop_days_credit_enddate']].corr()"
   ]
  },
  {
   "cell_type": "code",
   "execution_count": null,
   "id": "a61108a8",
   "metadata": {},
   "outputs": [],
   "source": [
    "kde_target('br_var_pop_days_credit_enddate', app_train)"
   ]
  },
  {
   "cell_type": "code",
   "execution_count": null,
   "id": "072095d2",
   "metadata": {},
   "outputs": [],
   "source": [
    "## Yao-Johnson変換\n",
    "num_cols = ['br_var_pop_days_credit_enddate']\n",
    "### 学習データに基づいてYao-Johnson変換を定義\n",
    "pt = PowerTransformer(method = 'yeo-johnson')\n",
    "pt.fit(app_train[num_cols].copy())\n",
    "\n",
    "### 変換後のデータで各列を置換\n",
    "app_train['br_var_pop_days_credit_enddate'] = pt.transform(app_train[num_cols])\n",
    "app_test['br_var_pop_days_credit_enddate'] = pt.transform(app_test[num_cols])"
   ]
  },
  {
   "cell_type": "code",
   "execution_count": null,
   "id": "d1cd0dbf",
   "metadata": {},
   "outputs": [],
   "source": [
    "## Yao-Johnson変換後の目的変数との相関\n",
    "app_train[['TARGET', 'br_var_pop_days_credit_enddate']].corr()"
   ]
  },
  {
   "cell_type": "code",
   "execution_count": null,
   "id": "3dddb886",
   "metadata": {},
   "outputs": [],
   "source": [
    "## Yao-Johnson変換後の特徴量の分布\n",
    "kde_target('br_var_pop_days_credit_enddate', app_train)"
   ]
  },
  {
   "cell_type": "markdown",
   "id": "d2eff418",
   "metadata": {},
   "source": [
    "### br_var_samp_days_credit_enddate"
   ]
  },
  {
   "cell_type": "code",
   "execution_count": null,
   "id": "46877d25",
   "metadata": {},
   "outputs": [],
   "source": [
    "app_train[['TARGET', 'br_var_samp_days_credit_enddate']].corr()"
   ]
  },
  {
   "cell_type": "code",
   "execution_count": null,
   "id": "c18e477c",
   "metadata": {},
   "outputs": [],
   "source": [
    "kde_target('br_var_samp_days_credit_enddate', app_train)"
   ]
  },
  {
   "cell_type": "code",
   "execution_count": null,
   "id": "887ea6e3",
   "metadata": {},
   "outputs": [],
   "source": [
    "## Yao-Johnson変換\n",
    "#num_cols = ['br_var_samp_days_credit_enddate']\n",
    "### 学習データに基づいてYao-Johnson変換を定義\n",
    "#pt = PowerTransformer(method = 'yeo-johnson')\n",
    "#pt.fit(app_train[num_cols].copy())\n",
    "\n",
    "### 変換後のデータで各列を置換\n",
    "#app_train['br_var_samp_days_credit_enddate'] = pt.transform(app_train[num_cols])\n",
    "#app_test['br_var_samp_days_credit_enddate'] = pt.transform(app_test[num_cols])"
   ]
  },
  {
   "cell_type": "code",
   "execution_count": null,
   "id": "87c72177",
   "metadata": {},
   "outputs": [],
   "source": [
    "## Yao-Johnson変換後の目的変数との相関\n",
    "#app_train[['TARGET', 'br_var_samp_days_credit_enddate']].corr()"
   ]
  },
  {
   "cell_type": "code",
   "execution_count": null,
   "id": "92eb0276",
   "metadata": {},
   "outputs": [],
   "source": [
    "\n",
    "## Yao-Johnson変換後の特徴量の分布\n",
    "#kde_target('br_var_samp_days_credit_enddate', app_train)"
   ]
  },
  {
   "cell_type": "markdown",
   "id": "505c60eb",
   "metadata": {},
   "source": [
    "### br_variance_pop_days_credit_enddate"
   ]
  },
  {
   "cell_type": "code",
   "execution_count": null,
   "id": "c887a6e9",
   "metadata": {},
   "outputs": [],
   "source": [
    "app_train[['TARGET', 'br_variance_pop_days_credit_enddate']].corr()"
   ]
  },
  {
   "cell_type": "code",
   "execution_count": null,
   "id": "55ee0828",
   "metadata": {},
   "outputs": [],
   "source": [
    "kde_target('br_variance_pop_days_credit_enddate', app_train)"
   ]
  },
  {
   "cell_type": "code",
   "execution_count": null,
   "id": "358cdfda",
   "metadata": {},
   "outputs": [],
   "source": []
  },
  {
   "cell_type": "markdown",
   "id": "330c31d4",
   "metadata": {},
   "source": [
    "### br_min_days_enddate_fact"
   ]
  },
  {
   "cell_type": "code",
   "execution_count": null,
   "id": "24ea9056",
   "metadata": {},
   "outputs": [],
   "source": [
    "app_train[['TARGET', 'br_min_days_enddate_fact']].corr()"
   ]
  },
  {
   "cell_type": "code",
   "execution_count": null,
   "id": "d42b1c6f",
   "metadata": {},
   "outputs": [],
   "source": [
    "kde_target('br_min_days_enddate_fact', app_train)"
   ]
  },
  {
   "cell_type": "code",
   "execution_count": null,
   "id": "ce10f10e",
   "metadata": {},
   "outputs": [],
   "source": [
    "## Yao-Johnson変換\n",
    "num_cols = ['br_min_days_enddate_fact']\n",
    "### 学習データに基づいてYao-Johnson変換を定義\n",
    "pt = PowerTransformer(method = 'yeo-johnson')\n",
    "pt.fit(app_train[num_cols].copy())\n",
    "\n",
    "### 変換後のデータで各列を置換\n",
    "app_train['br_min_days_enddate_fact'] = pt.transform(app_train[num_cols])\n",
    "app_test['br_min_days_enddate_fact'] = pt.transform(app_test[num_cols])"
   ]
  },
  {
   "cell_type": "code",
   "execution_count": null,
   "id": "06ecd153",
   "metadata": {},
   "outputs": [],
   "source": [
    "## Yao-Johnson変換後の目的変数との相関\n",
    "app_train[['TARGET', 'br_min_days_enddate_fact']].corr()"
   ]
  },
  {
   "cell_type": "code",
   "execution_count": null,
   "id": "5145659d",
   "metadata": {},
   "outputs": [],
   "source": [
    "## Yao-Johnson変換後の特徴量の分布\n",
    "kde_target('br_min_days_enddate_fact', app_train)"
   ]
  },
  {
   "cell_type": "markdown",
   "id": "de181d2d",
   "metadata": {},
   "source": [
    "### br_max_days_enddate_fact"
   ]
  },
  {
   "cell_type": "code",
   "execution_count": null,
   "id": "15993b15",
   "metadata": {},
   "outputs": [],
   "source": [
    "app_train[['TARGET', 'br_max_days_enddate_fact']].corr()"
   ]
  },
  {
   "cell_type": "code",
   "execution_count": null,
   "id": "aca423e8",
   "metadata": {},
   "outputs": [],
   "source": [
    "kde_target('br_max_days_enddate_fact', app_train)"
   ]
  },
  {
   "cell_type": "code",
   "execution_count": null,
   "id": "e44b4177",
   "metadata": {},
   "outputs": [],
   "source": [
    "## Yao-Johnson変換\n",
    "num_cols = ['br_max_days_enddate_fact']\n",
    "### 学習データに基づいてYao-Johnson変換を定義\n",
    "pt = PowerTransformer(method = 'yeo-johnson')\n",
    "pt.fit(app_train[num_cols].copy())\n",
    "\n",
    "### 変換後のデータで各列を置換\n",
    "app_train['br_max_days_enddate_fact'] = pt.transform(app_train[num_cols])\n",
    "app_test['br_max_days_enddate_fact'] = pt.transform(app_test[num_cols])"
   ]
  },
  {
   "cell_type": "code",
   "execution_count": null,
   "id": "55e90988",
   "metadata": {},
   "outputs": [],
   "source": [
    "## Yao-Johnson変換後の目的変数との相関\n",
    "app_train[['TARGET', 'br_max_days_enddate_fact']].corr()"
   ]
  },
  {
   "cell_type": "code",
   "execution_count": null,
   "id": "6ea40240",
   "metadata": {},
   "outputs": [],
   "source": [
    "## Yao-Johnson変換後の特徴量の分布\n",
    "kde_target('br_max_days_enddate_fact', app_train)"
   ]
  },
  {
   "cell_type": "markdown",
   "id": "7533fd32",
   "metadata": {},
   "source": [
    "### br_sum_days_enddate_fact"
   ]
  },
  {
   "cell_type": "code",
   "execution_count": null,
   "id": "68492b3f",
   "metadata": {},
   "outputs": [],
   "source": [
    "app_train[['TARGET', 'br_sum_days_enddate_fact']].corr()"
   ]
  },
  {
   "cell_type": "code",
   "execution_count": null,
   "id": "5d81dbc4",
   "metadata": {},
   "outputs": [],
   "source": [
    "kde_target('br_sum_days_enddate_fact', app_train)"
   ]
  },
  {
   "cell_type": "code",
   "execution_count": null,
   "id": "3407578d",
   "metadata": {},
   "outputs": [],
   "source": [
    "## Yao-Johnson変換\n",
    "num_cols = ['br_sum_days_enddate_fact']\n",
    "### 学習データに基づいてYao-Johnson変換を定義\n",
    "pt = PowerTransformer(method = 'yeo-johnson')\n",
    "pt.fit(app_train[num_cols].copy())\n",
    "\n",
    "### 変換後のデータで各列を置換\n",
    "app_train['br_sum_days_enddate_fact'] = pt.transform(app_train[num_cols])\n",
    "app_test['br_sum_days_enddate_fact'] = pt.transform(app_test[num_cols])"
   ]
  },
  {
   "cell_type": "code",
   "execution_count": null,
   "id": "0043726b",
   "metadata": {},
   "outputs": [],
   "source": [
    "## Yao-Johnson変換後の目的変数との相関\n",
    "app_train[['TARGET', 'br_sum_days_enddate_fact']].corr()"
   ]
  },
  {
   "cell_type": "code",
   "execution_count": null,
   "id": "357af95f",
   "metadata": {},
   "outputs": [],
   "source": [
    "## Yao-Johnson変換後の特徴量の分布\n",
    "kde_target('br_sum_days_enddate_fact', app_train)"
   ]
  },
  {
   "cell_type": "markdown",
   "id": "6d0860cf",
   "metadata": {},
   "source": [
    "### br_avg_days_enddate_fact"
   ]
  },
  {
   "cell_type": "code",
   "execution_count": null,
   "id": "3182a9b5",
   "metadata": {},
   "outputs": [],
   "source": [
    "app_train[['TARGET', 'br_avg_days_enddate_fact']].corr()"
   ]
  },
  {
   "cell_type": "code",
   "execution_count": null,
   "id": "0bdc371f",
   "metadata": {},
   "outputs": [],
   "source": [
    "kde_target('br_avg_days_enddate_fact', app_train)"
   ]
  },
  {
   "cell_type": "code",
   "execution_count": null,
   "id": "06a8d535",
   "metadata": {},
   "outputs": [],
   "source": [
    "## Yao-Johnson変換\n",
    "num_cols = ['br_avg_days_enddate_fact']\n",
    "### 学習データに基づいてYao-Johnson変換を定義\n",
    "pt = PowerTransformer(method = 'yeo-johnson')\n",
    "pt.fit(app_train[num_cols].copy())\n",
    "\n",
    "### 変換後のデータで各列を置換\n",
    "app_train['br_avg_days_enddate_fact'] = pt.transform(app_train[num_cols])\n",
    "app_test['br_avg_days_enddate_fact'] = pt.transform(app_test[num_cols])"
   ]
  },
  {
   "cell_type": "code",
   "execution_count": null,
   "id": "9b501be9",
   "metadata": {},
   "outputs": [],
   "source": [
    "## Yao-Johnson変換後の目的変数との相関\n",
    "app_train[['TARGET', 'br_avg_days_enddate_fact']].corr()"
   ]
  },
  {
   "cell_type": "code",
   "execution_count": null,
   "id": "93459185",
   "metadata": {},
   "outputs": [],
   "source": [
    "## Yao-Johnson変換後の特徴量の分布\n",
    "kde_target('br_avg_days_enddate_fact', app_train)"
   ]
  },
  {
   "cell_type": "markdown",
   "id": "3e3da0fb",
   "metadata": {},
   "source": [
    "### br_cnt_days_enddate_fact"
   ]
  },
  {
   "cell_type": "code",
   "execution_count": null,
   "id": "5abb106a",
   "metadata": {},
   "outputs": [],
   "source": [
    "app_train[['TARGET', 'br_cnt_days_enddate_fact']].corr()"
   ]
  },
  {
   "cell_type": "code",
   "execution_count": null,
   "id": "1553727b",
   "metadata": {},
   "outputs": [],
   "source": [
    "kde_target('br_cnt_days_enddate_fact', app_train)"
   ]
  },
  {
   "cell_type": "code",
   "execution_count": null,
   "id": "cc0262da",
   "metadata": {},
   "outputs": [],
   "source": [
    "## Yao-Johnson変換\n",
    "num_cols = ['br_cnt_days_enddate_fact']\n",
    "### 学習データに基づいてYao-Johnson変換を定義\n",
    "pt = PowerTransformer(method = 'yeo-johnson')\n",
    "pt.fit(app_train[num_cols].copy())\n",
    "\n",
    "### 変換後のデータで各列を置換\n",
    "app_train['br_cnt_days_enddate_fact'] = pt.transform(app_train[num_cols])\n",
    "app_test['br_cnt_days_enddate_fact'] = pt.transform(app_test[num_cols])"
   ]
  },
  {
   "cell_type": "code",
   "execution_count": null,
   "id": "6e073117",
   "metadata": {},
   "outputs": [],
   "source": [
    "## Yao-Johnson変換後の目的変数との相関\n",
    "app_train[['TARGET', 'br_cnt_days_enddate_fact']].corr()"
   ]
  },
  {
   "cell_type": "code",
   "execution_count": null,
   "id": "3dec505b",
   "metadata": {},
   "outputs": [],
   "source": [
    "## Yao-Johnson変換後の特徴量の分布\n",
    "kde_target('br_cnt_days_enddate_fact', app_train)"
   ]
  },
  {
   "cell_type": "markdown",
   "id": "afa55f92",
   "metadata": {},
   "source": [
    "### br_stddev_days_enddate_fact"
   ]
  },
  {
   "cell_type": "code",
   "execution_count": null,
   "id": "5fa5c4d3",
   "metadata": {},
   "outputs": [],
   "source": [
    "app_train[['TARGET', 'br_stddev_days_enddate_fact']].corr()"
   ]
  },
  {
   "cell_type": "code",
   "execution_count": null,
   "id": "030cd08b",
   "metadata": {},
   "outputs": [],
   "source": [
    "kde_target('br_stddev_days_enddate_fact', app_train)"
   ]
  },
  {
   "cell_type": "code",
   "execution_count": null,
   "id": "12afc5a9",
   "metadata": {},
   "outputs": [],
   "source": [
    "## Yao-Johnson変換\n",
    "#num_cols = ['br_stddev_days_enddate_fact']\n",
    "### 学習データに基づいてYao-Johnson変換を定義\n",
    "#pt = PowerTransformer(method = 'yeo-johnson')\n",
    "#pt.fit(app_train[num_cols].copy())\n",
    "\n",
    "### 変換後のデータで各列を置換\n",
    "#app_train['br_stddev_days_enddate_fact'] = pt.transform(app_train[num_cols])\n",
    "#app_test['br_stddev_days_enddate_fact'] = pt.transform(app_test[num_cols])"
   ]
  },
  {
   "cell_type": "code",
   "execution_count": null,
   "id": "a1bc2501",
   "metadata": {},
   "outputs": [],
   "source": [
    "## Yao-Johnson変換後の目的変数との相関\n",
    "#app_train[['TARGET', 'br_stddev_days_enddate_fact']].corr()"
   ]
  },
  {
   "cell_type": "code",
   "execution_count": null,
   "id": "852224a1",
   "metadata": {},
   "outputs": [],
   "source": [
    "## Yao-Johnson変換後の特徴量の分布\n",
    "#kde_target('br_stddev_days_enddate_fact', app_train)"
   ]
  },
  {
   "cell_type": "markdown",
   "id": "5d2934f6",
   "metadata": {},
   "source": [
    "### br_stddev_pop_days_enddate_fact"
   ]
  },
  {
   "cell_type": "code",
   "execution_count": null,
   "id": "019b1f0c",
   "metadata": {},
   "outputs": [],
   "source": [
    "app_train[['TARGET', 'br_stddev_pop_days_enddate_fact']].corr()"
   ]
  },
  {
   "cell_type": "code",
   "execution_count": null,
   "id": "526e11bc",
   "metadata": {},
   "outputs": [],
   "source": [
    "kde_target('br_stddev_pop_days_enddate_fact', app_train)"
   ]
  },
  {
   "cell_type": "code",
   "execution_count": null,
   "id": "e821f7c4",
   "metadata": {},
   "outputs": [],
   "source": [
    "## Yao-Johnson変換\n",
    "#num_cols = ['br_stddev_pop_days_enddate_fact']\n",
    "### 学習データに基づいてYao-Johnson変換を定義\n",
    "#pt = PowerTransformer(method = 'yeo-johnson')\n",
    "#pt.fit(app_train[num_cols].copy())\n",
    "\n",
    "### 変換後のデータで各列を置換\n",
    "#app_train['br_stddev_pop_days_enddate_fact'] = pt.transform(app_train[num_cols])\n",
    "#app_test['br_stddev_pop_days_enddate_fact'] = pt.transform(app_test[num_cols])"
   ]
  },
  {
   "cell_type": "code",
   "execution_count": null,
   "id": "3191117c",
   "metadata": {},
   "outputs": [],
   "source": [
    "## Yao-Johnson変換後の目的変数との相関\n",
    "#app_train[['TARGET', 'br_stddev_pop_days_enddate_fact']].corr()"
   ]
  },
  {
   "cell_type": "code",
   "execution_count": null,
   "id": "7d64cd2b",
   "metadata": {},
   "outputs": [],
   "source": [
    "## Yao-Johnson変換後の特徴量の分布\n",
    "kde_target('br_stddev_pop_days_enddate_fact', app_train)"
   ]
  },
  {
   "cell_type": "markdown",
   "id": "4ccb2bf7",
   "metadata": {},
   "source": [
    "### br_var_pop_days_enddate_fact"
   ]
  },
  {
   "cell_type": "code",
   "execution_count": null,
   "id": "0896f6b4",
   "metadata": {},
   "outputs": [],
   "source": [
    "app_train[['TARGET', 'br_var_pop_days_enddate_fact']].corr()"
   ]
  },
  {
   "cell_type": "code",
   "execution_count": null,
   "id": "50a71e87",
   "metadata": {},
   "outputs": [],
   "source": [
    "kde_target('br_var_pop_days_enddate_fact', app_train)"
   ]
  },
  {
   "cell_type": "code",
   "execution_count": null,
   "id": "efebda65",
   "metadata": {},
   "outputs": [],
   "source": [
    "## Yao-Johnson変換\n",
    "num_cols = ['br_var_pop_days_enddate_fact']\n",
    "### 学習データに基づいてYao-Johnson変換を定義\n",
    "pt = PowerTransformer(method = 'yeo-johnson')\n",
    "pt.fit(app_train[num_cols].copy())\n",
    "\n",
    "### 変換後のデータで各列を置換\n",
    "app_train['br_var_pop_days_enddate_fact'] = pt.transform(app_train[num_cols])\n",
    "app_test['br_var_pop_days_enddate_fact'] = pt.transform(app_test[num_cols])"
   ]
  },
  {
   "cell_type": "code",
   "execution_count": null,
   "id": "68070a29",
   "metadata": {},
   "outputs": [],
   "source": [
    "## Yao-Johnson変換後の目的変数との相関\n",
    "app_train[['TARGET', 'br_var_pop_days_enddate_fact']].corr()"
   ]
  },
  {
   "cell_type": "code",
   "execution_count": null,
   "id": "b51afb6a",
   "metadata": {},
   "outputs": [],
   "source": [
    "## Yao-Johnson変換後の特徴量の分布\n",
    "kde_target('br_var_pop_days_enddate_fact', app_train)"
   ]
  },
  {
   "cell_type": "markdown",
   "id": "32cef048",
   "metadata": {},
   "source": [
    "### br_var_samp_days_enddate_fact"
   ]
  },
  {
   "cell_type": "code",
   "execution_count": null,
   "id": "40e0fc4b",
   "metadata": {},
   "outputs": [],
   "source": [
    "app_train[['TARGET', 'br_var_samp_days_enddate_fact']].corr()"
   ]
  },
  {
   "cell_type": "code",
   "execution_count": null,
   "id": "ca30cfe5",
   "metadata": {},
   "outputs": [],
   "source": [
    "kde_target('br_var_samp_days_enddate_fact', app_train)"
   ]
  },
  {
   "cell_type": "code",
   "execution_count": null,
   "id": "67028558",
   "metadata": {},
   "outputs": [],
   "source": [
    "## Yao-Johnson変換\n",
    "num_cols = ['br_var_samp_days_enddate_fact']\n",
    "### 学習データに基づいてYao-Johnson変換を定義\n",
    "pt = PowerTransformer(method = 'yeo-johnson')\n",
    "pt.fit(app_train[num_cols].copy())\n",
    "\n",
    "### 変換後のデータで各列を置換\n",
    "app_train['br_var_samp_days_enddate_fact'] = pt.transform(app_train[num_cols])\n",
    "app_test['br_var_samp_days_enddate_fact'] = pt.transform(app_test[num_cols])"
   ]
  },
  {
   "cell_type": "code",
   "execution_count": null,
   "id": "520a2463",
   "metadata": {},
   "outputs": [],
   "source": [
    "## Yao-Johnson変換後の目的変数との相関\n",
    "app_train[['TARGET', 'br_var_samp_days_enddate_fact']].corr()"
   ]
  },
  {
   "cell_type": "code",
   "execution_count": null,
   "id": "dc25433d",
   "metadata": {},
   "outputs": [],
   "source": [
    "## Yao-Johnson変換後の特徴量の分布\n",
    "kde_target('br_var_samp_days_enddate_fact', app_train)"
   ]
  },
  {
   "cell_type": "markdown",
   "id": "9ff8fb0c",
   "metadata": {},
   "source": [
    "### br_variance_pop_days_enddate_fact"
   ]
  },
  {
   "cell_type": "code",
   "execution_count": null,
   "id": "d987c848",
   "metadata": {},
   "outputs": [],
   "source": [
    "app_train[['TARGET', 'br_variance_pop_days_enddate_fact']].corr()"
   ]
  },
  {
   "cell_type": "code",
   "execution_count": null,
   "id": "de34d3c3",
   "metadata": {},
   "outputs": [],
   "source": [
    "kde_target('br_variance_pop_days_enddate_fact', app_train)"
   ]
  },
  {
   "cell_type": "code",
   "execution_count": null,
   "id": "65f0fbec",
   "metadata": {},
   "outputs": [],
   "source": [
    "## Yao-Johnson変換\n",
    "num_cols = ['br_variance_pop_days_enddate_fact']\n",
    "### 学習データに基づいてYao-Johnson変換を定義\n",
    "pt = PowerTransformer(method = 'yeo-johnson')\n",
    "pt.fit(app_train[num_cols].copy())\n",
    "\n",
    "### 変換後のデータで各列を置換\n",
    "app_train['br_variance_pop_days_enddate_fact'] = pt.transform(app_train[num_cols])\n",
    "app_test['br_variance_pop_days_enddate_fact'] = pt.transform(app_test[num_cols])"
   ]
  },
  {
   "cell_type": "code",
   "execution_count": null,
   "id": "9c003277",
   "metadata": {},
   "outputs": [],
   "source": [
    "## Yao-Johnson変換後の目的変数との相関\n",
    "app_train[['TARGET', 'br_variance_pop_days_enddate_fact']].corr()"
   ]
  },
  {
   "cell_type": "code",
   "execution_count": null,
   "id": "3cb6f915",
   "metadata": {},
   "outputs": [],
   "source": [
    "## Yao-Johnson変換後の特徴量の分布\n",
    "kde_target('br_variance_pop_days_enddate_fact', app_train)"
   ]
  },
  {
   "cell_type": "markdown",
   "id": "1c7e263e",
   "metadata": {},
   "source": [
    "### br_min_amt_credit_max_overdue"
   ]
  },
  {
   "cell_type": "code",
   "execution_count": null,
   "id": "4c025de6",
   "metadata": {},
   "outputs": [],
   "source": [
    "app_train[['TARGET', 'br_min_amt_credit_max_overdue']].corr()"
   ]
  },
  {
   "cell_type": "code",
   "execution_count": null,
   "id": "275b6855",
   "metadata": {},
   "outputs": [],
   "source": [
    "kde_target('br_min_amt_credit_max_overdue', app_train)"
   ]
  },
  {
   "cell_type": "code",
   "execution_count": null,
   "id": "12c89da3",
   "metadata": {},
   "outputs": [],
   "source": [
    "num_cols = ['br_min_amt_credit_max_overdue']\n",
    "# 学習データに基づいてYao-Johnson変換を定義\n",
    "pt = PowerTransformer(method = 'yeo-johnson')\n",
    "pt.fit(app_train[num_cols].copy())\n",
    "\n",
    "# 変換後のデータで各列を置換\n",
    "app_train['br_min_amt_credit_max_overdue'] = pt.transform(app_train[num_cols])\n",
    "app_test['br_min_amt_credit_max_overdue'] = pt.transform(app_test[num_cols])"
   ]
  },
  {
   "cell_type": "code",
   "execution_count": null,
   "id": "b842ebf0",
   "metadata": {},
   "outputs": [],
   "source": [
    "app_train[['TARGET', 'br_min_amt_credit_max_overdue']].corr()"
   ]
  },
  {
   "cell_type": "code",
   "execution_count": null,
   "id": "1d1f5b4e",
   "metadata": {},
   "outputs": [],
   "source": [
    "kde_target('br_min_amt_credit_max_overdue', app_train)"
   ]
  },
  {
   "cell_type": "markdown",
   "id": "d16fca35",
   "metadata": {},
   "source": [
    "### br_max_amt_credit_max_overdue"
   ]
  },
  {
   "cell_type": "code",
   "execution_count": null,
   "id": "08a535ed",
   "metadata": {},
   "outputs": [],
   "source": [
    "app_train[['TARGET', 'br_max_amt_credit_max_overdue']].corr()"
   ]
  },
  {
   "cell_type": "code",
   "execution_count": null,
   "id": "d38fc1b6",
   "metadata": {},
   "outputs": [],
   "source": [
    "kde_target('br_max_amt_credit_max_overdue', app_train)"
   ]
  },
  {
   "cell_type": "code",
   "execution_count": null,
   "id": "764da65a",
   "metadata": {},
   "outputs": [],
   "source": [
    "num_cols = ['br_max_amt_credit_max_overdue']\n",
    "# 学習データに基づいてYao-Johnson変換を定義\n",
    "pt = PowerTransformer(method = 'yeo-johnson')\n",
    "pt.fit(app_train[num_cols].copy())\n",
    "\n",
    "# 変換後のデータで各列を置換\n",
    "app_train['br_max_amt_credit_max_overdue'] = pt.transform(app_train[num_cols])\n",
    "app_test['br_max_amt_credit_max_overdue'] = pt.transform(app_test[num_cols])"
   ]
  },
  {
   "cell_type": "code",
   "execution_count": null,
   "id": "aa95b24b",
   "metadata": {},
   "outputs": [],
   "source": [
    "app_train[['TARGET', 'br_max_amt_credit_max_overdue']].corr()"
   ]
  },
  {
   "cell_type": "code",
   "execution_count": null,
   "id": "dfcf247b",
   "metadata": {},
   "outputs": [],
   "source": [
    "kde_target('br_max_amt_credit_max_overdue', app_train)"
   ]
  },
  {
   "cell_type": "markdown",
   "id": "da2fb1f8",
   "metadata": {},
   "source": [
    "### br_sum_amt_credit_max_overdue"
   ]
  },
  {
   "cell_type": "code",
   "execution_count": null,
   "id": "63ad8a27",
   "metadata": {},
   "outputs": [],
   "source": [
    "app_train[['TARGET', 'br_sum_amt_credit_max_overdue']].corr()"
   ]
  },
  {
   "cell_type": "code",
   "execution_count": null,
   "id": "3dfa95a1",
   "metadata": {},
   "outputs": [],
   "source": [
    "kde_target('br_sum_amt_credit_max_overdue', app_train)"
   ]
  },
  {
   "cell_type": "code",
   "execution_count": null,
   "id": "ea3d3400",
   "metadata": {},
   "outputs": [],
   "source": [
    "num_cols = ['br_sum_amt_credit_max_overdue']\n",
    "# 学習データに基づいてYao-Johnson変換を定義\n",
    "pt = PowerTransformer(method = 'yeo-johnson')\n",
    "pt.fit(app_train[num_cols].copy())\n",
    "\n",
    "# 変換後のデータで各列を置換\n",
    "app_train['br_sum_amt_credit_max_overdue'] = pt.transform(app_train[num_cols])\n",
    "app_test['br_sum_amt_credit_max_overdue'] = pt.transform(app_test[num_cols])"
   ]
  },
  {
   "cell_type": "code",
   "execution_count": null,
   "id": "ed79a28a",
   "metadata": {},
   "outputs": [],
   "source": [
    "app_train[['TARGET', 'br_sum_amt_credit_max_overdue']].corr()"
   ]
  },
  {
   "cell_type": "code",
   "execution_count": null,
   "id": "f94baf61",
   "metadata": {},
   "outputs": [],
   "source": [
    "kde_target('br_sum_amt_credit_max_overdue', app_train)"
   ]
  },
  {
   "cell_type": "markdown",
   "id": "743b8737",
   "metadata": {},
   "source": [
    "### br_avg_amt_credit_max_overdue"
   ]
  },
  {
   "cell_type": "code",
   "execution_count": null,
   "id": "c50dceed",
   "metadata": {},
   "outputs": [],
   "source": [
    "app_train[['TARGET', 'br_avg_amt_credit_max_overdue']].corr()"
   ]
  },
  {
   "cell_type": "code",
   "execution_count": null,
   "id": "9e554e26",
   "metadata": {},
   "outputs": [],
   "source": [
    "kde_target('br_avg_amt_credit_max_overdue', app_train)"
   ]
  },
  {
   "cell_type": "code",
   "execution_count": null,
   "id": "01cd0567",
   "metadata": {},
   "outputs": [],
   "source": [
    "## Yao-Johnson変換\n",
    "num_cols = ['br_avg_amt_credit_max_overdue']\n",
    "### 学習データに基づいてYao-Johnson変換を定義\n",
    "pt = PowerTransformer(method = 'yeo-johnson')\n",
    "pt.fit(app_train[num_cols].copy())\n",
    "\n",
    "### 変換後のデータで各列を置換\n",
    "app_train['br_avg_amt_credit_max_overdue'] = pt.transform(app_train[num_cols])\n",
    "app_test['br_avg_amt_credit_max_overdue'] = pt.transform(app_test[num_cols])"
   ]
  },
  {
   "cell_type": "code",
   "execution_count": null,
   "id": "9f65cb92",
   "metadata": {},
   "outputs": [],
   "source": [
    "## Yao-Johnson変換後の目的変数との相関\n",
    "app_train[['TARGET', 'br_avg_amt_credit_max_overdue']].corr()"
   ]
  },
  {
   "cell_type": "code",
   "execution_count": null,
   "id": "112e3073",
   "metadata": {},
   "outputs": [],
   "source": [
    "## Yao-Johnson変換後の特徴量の分布\n",
    "kde_target('br_avg_amt_credit_max_overdue', app_train)"
   ]
  },
  {
   "cell_type": "markdown",
   "id": "83d1e43e",
   "metadata": {},
   "source": [
    "### br_cnt_amt_credit_max_overdue"
   ]
  },
  {
   "cell_type": "code",
   "execution_count": null,
   "id": "4e47f3a6",
   "metadata": {},
   "outputs": [],
   "source": [
    "app_train[['TARGET', 'br_cnt_amt_credit_max_overdue']].corr()"
   ]
  },
  {
   "cell_type": "code",
   "execution_count": null,
   "id": "2ec4c093",
   "metadata": {},
   "outputs": [],
   "source": [
    "kde_target('br_cnt_amt_credit_max_overdue', app_train)"
   ]
  },
  {
   "cell_type": "code",
   "execution_count": null,
   "id": "aaf05356",
   "metadata": {},
   "outputs": [],
   "source": [
    "## Yao-Johnson変換\n",
    "num_cols = ['br_cnt_amt_credit_max_overdue']\n",
    "### 学習データに基づいてYao-Johnson変換を定義\n",
    "pt = PowerTransformer(method = 'yeo-johnson')\n",
    "pt.fit(app_train[num_cols].copy())\n",
    "\n",
    "### 変換後のデータで各列を置換\n",
    "app_train['br_cnt_amt_credit_max_overdue'] = pt.transform(app_train[num_cols])\n",
    "app_test['br_cnt_amt_credit_max_overdue'] = pt.transform(app_test[num_cols])"
   ]
  },
  {
   "cell_type": "code",
   "execution_count": null,
   "id": "2872c338",
   "metadata": {},
   "outputs": [],
   "source": [
    "## Yao-Johnson変換後の目的変数との相関\n",
    "app_train[['TARGET', 'br_cnt_amt_credit_max_overdue']].corr()"
   ]
  },
  {
   "cell_type": "code",
   "execution_count": null,
   "id": "550d6193",
   "metadata": {},
   "outputs": [],
   "source": [
    "## Yao-Johnson変換後の特徴量の分布\n",
    "kde_target('br_cnt_amt_credit_max_overdue', app_train)"
   ]
  },
  {
   "cell_type": "markdown",
   "id": "f6979e90",
   "metadata": {},
   "source": [
    "### br_stddev_amt_credit_max_overdue"
   ]
  },
  {
   "cell_type": "code",
   "execution_count": null,
   "id": "9b8a9921",
   "metadata": {},
   "outputs": [],
   "source": [
    "app_train[['TARGET', 'br_stddev_amt_credit_max_overdue']].corr()"
   ]
  },
  {
   "cell_type": "code",
   "execution_count": null,
   "id": "36f90ebd",
   "metadata": {},
   "outputs": [],
   "source": [
    "kde_target('br_stddev_amt_credit_max_overdue', app_train)"
   ]
  },
  {
   "cell_type": "code",
   "execution_count": null,
   "id": "535d80f3",
   "metadata": {},
   "outputs": [],
   "source": [
    "## Yao-Johnson変換\n",
    "num_cols = ['br_stddev_amt_credit_max_overdue']\n",
    "### 学習データに基づいてYao-Johnson変換を定義\n",
    "pt = PowerTransformer(method = 'yeo-johnson')\n",
    "pt.fit(app_train[num_cols].copy())\n",
    "\n",
    "### 変換後のデータで各列を置換\n",
    "app_train['br_stddev_amt_credit_max_overdue'] = pt.transform(app_train[num_cols])\n",
    "app_test['br_stddev_amt_credit_max_overdue'] = pt.transform(app_test[num_cols])"
   ]
  },
  {
   "cell_type": "code",
   "execution_count": null,
   "id": "a32004b8",
   "metadata": {},
   "outputs": [],
   "source": [
    "## Yao-Johnson変換後の目的変数との相関\n",
    "app_train[['TARGET', 'br_stddev_amt_credit_max_overdue']].corr()"
   ]
  },
  {
   "cell_type": "code",
   "execution_count": null,
   "id": "aa9c7353",
   "metadata": {},
   "outputs": [],
   "source": [
    "## Yao-Johnson変換後の特徴量の分布\n",
    "kde_target('br_stddev_amt_credit_max_overdue', app_train)"
   ]
  },
  {
   "cell_type": "markdown",
   "id": "f55375c6",
   "metadata": {},
   "source": [
    "### br_stddev_pop_amt_credit_max_overdue"
   ]
  },
  {
   "cell_type": "code",
   "execution_count": null,
   "id": "a4f647cc",
   "metadata": {},
   "outputs": [],
   "source": [
    "app_train[['TARGET', 'br_stddev_pop_amt_credit_max_overdue']].corr()"
   ]
  },
  {
   "cell_type": "code",
   "execution_count": null,
   "id": "2b2ee572",
   "metadata": {},
   "outputs": [],
   "source": [
    "kde_target('br_stddev_pop_amt_credit_max_overdue', app_train)"
   ]
  },
  {
   "cell_type": "code",
   "execution_count": null,
   "id": "ca21cca7",
   "metadata": {},
   "outputs": [],
   "source": [
    "## Yao-Johnson変換\n",
    "num_cols = ['br_stddev_pop_amt_credit_max_overdue']\n",
    "### 学習データに基づいてYao-Johnson変換を定義\n",
    "pt = PowerTransformer(method = 'yeo-johnson')\n",
    "pt.fit(app_train[num_cols].copy())\n",
    "\n",
    "### 変換後のデータで各列を置換\n",
    "app_train['br_stddev_pop_amt_credit_max_overdue'] = pt.transform(app_train[num_cols])\n",
    "app_test['br_stddev_pop_amt_credit_max_overdue'] = pt.transform(app_test[num_cols])"
   ]
  },
  {
   "cell_type": "code",
   "execution_count": null,
   "id": "7fecccf3",
   "metadata": {},
   "outputs": [],
   "source": [
    "## Yao-Johnson変換後の目的変数との相関\n",
    "app_train[['TARGET', 'br_stddev_pop_amt_credit_max_overdue']].corr()"
   ]
  },
  {
   "cell_type": "code",
   "execution_count": null,
   "id": "c72b76de",
   "metadata": {},
   "outputs": [],
   "source": [
    "## Yao-Johnson変換後の特徴量の分布\n",
    "kde_target('br_stddev_pop_amt_credit_max_overdue', app_train)"
   ]
  },
  {
   "cell_type": "markdown",
   "id": "8d23e33e",
   "metadata": {},
   "source": [
    "### br_var_pop_amt_credit_max_overdue"
   ]
  },
  {
   "cell_type": "code",
   "execution_count": null,
   "id": "eb8efa4d",
   "metadata": {},
   "outputs": [],
   "source": [
    "## 目的変数との相関\n",
    "app_train[['TARGET', 'br_var_pop_amt_credit_max_overdue']].corr()"
   ]
  },
  {
   "cell_type": "code",
   "execution_count": null,
   "id": "8e2ffb9e",
   "metadata": {},
   "outputs": [],
   "source": [
    "## 特徴量の分布\n",
    "kde_target('br_var_pop_amt_credit_max_overdue', app_train)"
   ]
  },
  {
   "cell_type": "code",
   "execution_count": null,
   "id": "6fa93dff",
   "metadata": {},
   "outputs": [],
   "source": [
    "## Yao-Johnson変換\n",
    "num_cols = ['br_var_pop_amt_credit_max_overdue']\n",
    "### 学習データに基づいてYao-Johnson変換を定義\n",
    "pt = PowerTransformer(method = 'yeo-johnson')\n",
    "pt.fit(app_train[num_cols].copy())\n",
    "\n",
    "### 変換後のデータで各列を置換\n",
    "app_train['br_var_pop_amt_credit_max_overdue'] = pt.transform(app_train[num_cols])\n",
    "app_test['br_var_pop_amt_credit_max_overdue'] = pt.transform(app_test[num_cols])"
   ]
  },
  {
   "cell_type": "code",
   "execution_count": null,
   "id": "36c877dc",
   "metadata": {},
   "outputs": [],
   "source": [
    "## Yao-Johnson変換後の目的変数との相関\n",
    "app_train[['TARGET', 'br_var_pop_amt_credit_max_overdue']].corr()"
   ]
  },
  {
   "cell_type": "code",
   "execution_count": null,
   "id": "543801a1",
   "metadata": {},
   "outputs": [],
   "source": [
    "## Yao-Johnson変換後の特徴量の分布\n",
    "kde_target('br_var_pop_amt_credit_max_overdue', app_train)"
   ]
  },
  {
   "cell_type": "markdown",
   "id": "f70b3689",
   "metadata": {},
   "source": [
    "### br_var_samp_amt_credit_max_overdue"
   ]
  },
  {
   "cell_type": "code",
   "execution_count": null,
   "id": "478659f1",
   "metadata": {},
   "outputs": [],
   "source": [
    "## 目的変数との相関\n",
    "app_train[['TARGET', 'br_var_samp_amt_credit_max_overdue']].corr()"
   ]
  },
  {
   "cell_type": "code",
   "execution_count": null,
   "id": "188b7069",
   "metadata": {},
   "outputs": [],
   "source": [
    "## 特徴量の分布\n",
    "kde_target('br_var_samp_amt_credit_max_overdue', app_train)"
   ]
  },
  {
   "cell_type": "code",
   "execution_count": null,
   "id": "3b25f779",
   "metadata": {},
   "outputs": [],
   "source": [
    "## Yao-Johnson変換\n",
    "num_cols = ['br_var_samp_amt_credit_max_overdue']\n",
    "### 学習データに基づいてYao-Johnson変換を定義\n",
    "pt = PowerTransformer(method = 'yeo-johnson')\n",
    "pt.fit(app_train[num_cols].copy())\n",
    "\n",
    "### 変換後のデータで各列を置換\n",
    "app_train['br_var_samp_amt_credit_max_overdue'] = pt.transform(app_train[num_cols])\n",
    "app_test['br_var_samp_amt_credit_max_overdue'] = pt.transform(app_test[num_cols])"
   ]
  },
  {
   "cell_type": "code",
   "execution_count": null,
   "id": "d56c5364",
   "metadata": {},
   "outputs": [],
   "source": [
    "## Yao-Johnson変換後の目的変数との相関\n",
    "app_train[['TARGET', 'br_var_samp_amt_credit_max_overdue']].corr()"
   ]
  },
  {
   "cell_type": "code",
   "execution_count": null,
   "id": "2666303a",
   "metadata": {},
   "outputs": [],
   "source": [
    "## Yao-Johnson変換後の特徴量の分布\n",
    "kde_target('br_var_samp_amt_credit_max_overdue', app_train)"
   ]
  },
  {
   "cell_type": "markdown",
   "id": "ac8d9712",
   "metadata": {},
   "source": [
    "### br_variance_pop_amt_credit_max_overdue"
   ]
  },
  {
   "cell_type": "code",
   "execution_count": null,
   "id": "d1cba703",
   "metadata": {},
   "outputs": [],
   "source": [
    "## 目的変数との相関\n",
    "app_train[['TARGET', 'br_variance_pop_amt_credit_max_overdue']].corr()"
   ]
  },
  {
   "cell_type": "code",
   "execution_count": null,
   "id": "294d9abb",
   "metadata": {},
   "outputs": [],
   "source": [
    "## 特徴量の分布\n",
    "kde_target('br_variance_pop_amt_credit_max_overdue', app_train)"
   ]
  },
  {
   "cell_type": "code",
   "execution_count": null,
   "id": "a6badf05",
   "metadata": {},
   "outputs": [],
   "source": [
    "## Yao-Johnson変換\n",
    "num_cols = ['br_variance_pop_amt_credit_max_overdue']\n",
    "### 学習データに基づいてYao-Johnson変換を定義\n",
    "pt = PowerTransformer(method = 'yeo-johnson')\n",
    "pt.fit(app_train[num_cols].copy())\n",
    "\n",
    "### 変換後のデータで各列を置換\n",
    "app_train['br_variance_pop_amt_credit_max_overdue'] = pt.transform(app_train[num_cols])\n",
    "app_test['br_variance_pop_amt_credit_max_overdue'] = pt.transform(app_test[num_cols])"
   ]
  },
  {
   "cell_type": "code",
   "execution_count": null,
   "id": "0cb469b8",
   "metadata": {},
   "outputs": [],
   "source": [
    "## Yao-Johnson変換後の目的変数との相関\n",
    "app_train[['TARGET', 'br_variance_pop_amt_credit_max_overdue']].corr()"
   ]
  },
  {
   "cell_type": "code",
   "execution_count": null,
   "id": "993875a5",
   "metadata": {},
   "outputs": [],
   "source": [
    "## Yao-Johnson変換後の特徴量の分布\n",
    "kde_target('br_variance_pop_amt_credit_max_overdue', app_train)"
   ]
  },
  {
   "cell_type": "markdown",
   "id": "b4c2f251",
   "metadata": {},
   "source": [
    "### br_min_cnt_credit_prolong"
   ]
  },
  {
   "cell_type": "code",
   "execution_count": null,
   "id": "88e091a9",
   "metadata": {},
   "outputs": [],
   "source": [
    "app_train[['TARGET', 'br_min_cnt_credit_prolong']].corr()"
   ]
  },
  {
   "cell_type": "code",
   "execution_count": null,
   "id": "67607f2c",
   "metadata": {},
   "outputs": [],
   "source": [
    "kde_target('br_min_cnt_credit_prolong', app_train)"
   ]
  },
  {
   "cell_type": "code",
   "execution_count": null,
   "id": "c40fdeea",
   "metadata": {},
   "outputs": [],
   "source": [
    "## Yao-Johnson変換\n",
    "num_cols = ['br_min_cnt_credit_prolong']\n",
    "### 学習データに基づいてYao-Johnson変換を定義\n",
    "pt = PowerTransformer(method = 'yeo-johnson')\n",
    "pt.fit(app_train[num_cols].copy())\n",
    "\n",
    "### 変換後のデータで各列を置換\n",
    "app_train['br_min_cnt_credit_prolong'] = pt.transform(app_train[num_cols])\n",
    "app_test['br_min_cnt_credit_prolong'] = pt.transform(app_test[num_cols])"
   ]
  },
  {
   "cell_type": "code",
   "execution_count": null,
   "id": "acc48775",
   "metadata": {},
   "outputs": [],
   "source": [
    "## Yao-Johnson変換後の目的変数との相関\n",
    "app_train[['TARGET', 'br_min_cnt_credit_prolong']].corr()"
   ]
  },
  {
   "cell_type": "code",
   "execution_count": null,
   "id": "6f73091d",
   "metadata": {},
   "outputs": [],
   "source": [
    "## Yao-Johnson変換後の特徴量の分布\n",
    "kde_target('br_min_cnt_credit_prolong', app_train)"
   ]
  },
  {
   "cell_type": "markdown",
   "id": "7fe60de2",
   "metadata": {},
   "source": [
    "### br_max_cnt_credit_prolong"
   ]
  },
  {
   "cell_type": "code",
   "execution_count": null,
   "id": "8d29fd69",
   "metadata": {},
   "outputs": [],
   "source": [
    "## 目的変数との相関\n",
    "app_train[['TARGET', 'br_max_cnt_credit_prolong']].corr()"
   ]
  },
  {
   "cell_type": "code",
   "execution_count": null,
   "id": "2997d8cb",
   "metadata": {},
   "outputs": [],
   "source": []
  },
  {
   "cell_type": "code",
   "execution_count": null,
   "id": "ea2b4519",
   "metadata": {},
   "outputs": [],
   "source": [
    "## 特徴量の分布\n",
    "kde_target('br_max_cnt_credit_prolong', app_train)"
   ]
  },
  {
   "cell_type": "code",
   "execution_count": null,
   "id": "6eb79939",
   "metadata": {},
   "outputs": [],
   "source": [
    "## Yao-Johnson変換\n",
    "num_cols = ['br_max_cnt_credit_prolong']\n",
    "### 学習データに基づいてYao-Johnson変換を定義\n",
    "pt = PowerTransformer(method = 'yeo-johnson')\n",
    "pt.fit(app_train[num_cols].copy())\n",
    "\n",
    "### 変換後のデータで各列を置換\n",
    "app_train['br_max_cnt_credit_prolong'] = pt.transform(app_train[num_cols])\n",
    "app_test['br_max_cnt_credit_prolong'] = pt.transform(app_test[num_cols])"
   ]
  },
  {
   "cell_type": "code",
   "execution_count": null,
   "id": "5f3e0421",
   "metadata": {},
   "outputs": [],
   "source": [
    "## Yao-Johnson変換後の目的変数との相関\n",
    "app_train[['TARGET', 'br_max_cnt_credit_prolong']].corr()"
   ]
  },
  {
   "cell_type": "code",
   "execution_count": null,
   "id": "2a343fef",
   "metadata": {},
   "outputs": [],
   "source": [
    "## Yao-Johnson変換後の特徴量の分布\n",
    "kde_target('br_max_cnt_credit_prolong', app_train)"
   ]
  },
  {
   "cell_type": "markdown",
   "id": "cec396a1",
   "metadata": {},
   "source": [
    "### br_sum_cnt_credit_prolong"
   ]
  },
  {
   "cell_type": "code",
   "execution_count": null,
   "id": "4405f8f8",
   "metadata": {},
   "outputs": [],
   "source": [
    "## 目的変数との相関\n",
    "app_train[['TARGET', 'br_sum_cnt_credit_prolong']].corr()"
   ]
  },
  {
   "cell_type": "code",
   "execution_count": null,
   "id": "d709f5cd",
   "metadata": {},
   "outputs": [],
   "source": [
    "## 特徴量の分布\n",
    "kde_target('br_sum_cnt_credit_prolong', app_train)"
   ]
  },
  {
   "cell_type": "code",
   "execution_count": null,
   "id": "5c8cbe60",
   "metadata": {},
   "outputs": [],
   "source": [
    "## Yao-Johnson変換\n",
    "num_cols = ['br_sum_cnt_credit_prolong']\n",
    "### 学習データに基づいてYao-Johnson変換を定義\n",
    "pt = PowerTransformer(method = 'yeo-johnson')\n",
    "pt.fit(app_train[num_cols].copy())\n",
    "\n",
    "### 変換後のデータで各列を置換\n",
    "app_train['br_sum_cnt_credit_prolong'] = pt.transform(app_train[num_cols])\n",
    "app_test['br_sum_cnt_credit_prolong'] = pt.transform(app_test[num_cols])"
   ]
  },
  {
   "cell_type": "code",
   "execution_count": null,
   "id": "8f584cea",
   "metadata": {},
   "outputs": [],
   "source": [
    "## Yao-Johnson変換後の目的変数との相関\n",
    "app_train[['TARGET', 'br_sum_cnt_credit_prolong']].corr()"
   ]
  },
  {
   "cell_type": "code",
   "execution_count": null,
   "id": "94d638a9",
   "metadata": {},
   "outputs": [],
   "source": [
    "## Yao-Johnson変換後の特徴量の分布\n",
    "kde_target('br_sum_cnt_credit_prolong', app_train)"
   ]
  },
  {
   "cell_type": "markdown",
   "id": "2f1fe317",
   "metadata": {},
   "source": [
    "### br_avg_cnt_credit_prolong"
   ]
  },
  {
   "cell_type": "code",
   "execution_count": null,
   "id": "930367de",
   "metadata": {},
   "outputs": [],
   "source": [
    "## 目的変数との相関\n",
    "app_train[['TARGET', 'br_avg_cnt_credit_prolong']].corr()"
   ]
  },
  {
   "cell_type": "code",
   "execution_count": null,
   "id": "c42cfaf9",
   "metadata": {},
   "outputs": [],
   "source": [
    "## 特徴量の分布\n",
    "kde_target('br_avg_cnt_credit_prolong', app_train)"
   ]
  },
  {
   "cell_type": "code",
   "execution_count": null,
   "id": "a7d5e7cc",
   "metadata": {},
   "outputs": [],
   "source": [
    "## Yao-Johnson変換\n",
    "num_cols = ['br_avg_cnt_credit_prolong']\n",
    "### 学習データに基づいてYao-Johnson変換を定義\n",
    "pt = PowerTransformer(method = 'yeo-johnson')\n",
    "pt.fit(app_train[num_cols].copy())\n",
    "\n",
    "### 変換後のデータで各列を置換\n",
    "app_train['br_avg_cnt_credit_prolong'] = pt.transform(app_train[num_cols])\n",
    "app_test['br_avg_cnt_credit_prolong'] = pt.transform(app_test[num_cols])"
   ]
  },
  {
   "cell_type": "code",
   "execution_count": null,
   "id": "8e54cf82",
   "metadata": {},
   "outputs": [],
   "source": [
    "## Yao-Johnson変換後の目的変数との相関\n",
    "app_train[['TARGET', 'br_avg_cnt_credit_prolong']].corr()"
   ]
  },
  {
   "cell_type": "code",
   "execution_count": null,
   "id": "b0b3cd21",
   "metadata": {},
   "outputs": [],
   "source": [
    "## Yao-Johnson変換後の特徴量の分布\n",
    "kde_target('br_avg_cnt_credit_prolong', app_train)"
   ]
  },
  {
   "cell_type": "markdown",
   "id": "1b5c1ae4",
   "metadata": {},
   "source": [
    "### br_cnt_cnt_credit_prolong"
   ]
  },
  {
   "cell_type": "code",
   "execution_count": null,
   "id": "7823325b",
   "metadata": {},
   "outputs": [],
   "source": [
    "## 目的変数との相関\n",
    "app_train[['TARGET', 'br_cnt_cnt_credit_prolong']].corr()"
   ]
  },
  {
   "cell_type": "code",
   "execution_count": null,
   "id": "5349471a",
   "metadata": {},
   "outputs": [],
   "source": [
    "## 特徴量の分布\n",
    "kde_target('br_cnt_cnt_credit_prolong', app_train)"
   ]
  },
  {
   "cell_type": "markdown",
   "id": "9028b271",
   "metadata": {},
   "source": [
    "### br_stddev_cnt_credit_prolong"
   ]
  },
  {
   "cell_type": "code",
   "execution_count": null,
   "id": "59590c4d",
   "metadata": {},
   "outputs": [],
   "source": [
    "## 目的変数との相関\n",
    "app_train[['TARGET', 'br_stddev_cnt_credit_prolong']].corr()"
   ]
  },
  {
   "cell_type": "code",
   "execution_count": null,
   "id": "ebda3f2c",
   "metadata": {},
   "outputs": [],
   "source": [
    "## 特徴量の分布\n",
    "kde_target('br_stddev_cnt_credit_prolong', app_train)"
   ]
  },
  {
   "cell_type": "code",
   "execution_count": null,
   "id": "789dec73",
   "metadata": {},
   "outputs": [],
   "source": [
    "## Yao-Johnson変換\n",
    "num_cols = ['br_stddev_cnt_credit_prolong']\n",
    "### 学習データに基づいてYao-Johnson変換を定義\n",
    "pt = PowerTransformer(method = 'yeo-johnson')\n",
    "pt.fit(app_train[num_cols].copy())\n",
    "\n",
    "### 変換後のデータで各列を置換\n",
    "app_train['br_stddev_cnt_credit_prolong'] = pt.transform(app_train[num_cols])\n",
    "app_test['br_stddev_cnt_credit_prolong'] = pt.transform(app_test[num_cols])"
   ]
  },
  {
   "cell_type": "code",
   "execution_count": null,
   "id": "254da68c",
   "metadata": {},
   "outputs": [],
   "source": [
    "## Yao-Johnson変換後の目的変数との相関\n",
    "app_train[['TARGET', 'br_stddev_cnt_credit_prolong']].corr()"
   ]
  },
  {
   "cell_type": "code",
   "execution_count": null,
   "id": "5ca08abb",
   "metadata": {},
   "outputs": [],
   "source": [
    "## Yao-Johnson変換後の特徴量の分布\n",
    "kde_target('br_stddev_cnt_credit_prolong', app_train)"
   ]
  },
  {
   "cell_type": "markdown",
   "id": "00efcb30",
   "metadata": {},
   "source": [
    "### br_stddev_pop_cnt_credit_prolong"
   ]
  },
  {
   "cell_type": "code",
   "execution_count": null,
   "id": "944e477b",
   "metadata": {},
   "outputs": [],
   "source": [
    "## 目的変数との相関\n",
    "app_train[['TARGET', 'br_stddev_pop_cnt_credit_prolong']].corr()"
   ]
  },
  {
   "cell_type": "code",
   "execution_count": null,
   "id": "f22d1c74",
   "metadata": {},
   "outputs": [],
   "source": [
    "## 特徴量の分布\n",
    "kde_target('br_stddev_pop_cnt_credit_prolong', app_train)"
   ]
  },
  {
   "cell_type": "code",
   "execution_count": null,
   "id": "3821cd43",
   "metadata": {},
   "outputs": [],
   "source": [
    "## Yao-Johnson変換\n",
    "num_cols = ['br_stddev_pop_cnt_credit_prolong']\n",
    "### 学習データに基づいてYao-Johnson変換を定義\n",
    "pt = PowerTransformer(method = 'yeo-johnson')\n",
    "pt.fit(app_train[num_cols].copy())\n",
    "\n",
    "### 変換後のデータで各列を置換\n",
    "app_train['br_stddev_pop_cnt_credit_prolong'] = pt.transform(app_train[num_cols])\n",
    "app_test['br_stddev_pop_cnt_credit_prolong'] = pt.transform(app_test[num_cols])"
   ]
  },
  {
   "cell_type": "code",
   "execution_count": null,
   "id": "6cd0232e",
   "metadata": {},
   "outputs": [],
   "source": [
    "## Yao-Johnson変換後の目的変数との相関\n",
    "app_train[['TARGET', 'br_stddev_pop_cnt_credit_prolong']].corr()"
   ]
  },
  {
   "cell_type": "code",
   "execution_count": null,
   "id": "59239989",
   "metadata": {},
   "outputs": [],
   "source": [
    "## Yao-Johnson変換後の特徴量の分布\n",
    "kde_target('br_stddev_pop_cnt_credit_prolong', app_train)"
   ]
  },
  {
   "cell_type": "markdown",
   "id": "f5cf4d73",
   "metadata": {},
   "source": [
    "### br_var_pop_cnt_credit_prolong"
   ]
  },
  {
   "cell_type": "code",
   "execution_count": null,
   "id": "4f4a5312",
   "metadata": {},
   "outputs": [],
   "source": [
    "## 目的変数との相関\n",
    "app_train[['TARGET', 'br_var_pop_cnt_credit_prolong']].corr()"
   ]
  },
  {
   "cell_type": "code",
   "execution_count": null,
   "id": "e395d2e8",
   "metadata": {},
   "outputs": [],
   "source": [
    "## 特徴量の分布\n",
    "kde_target('br_var_pop_cnt_credit_prolong', app_train)"
   ]
  },
  {
   "cell_type": "code",
   "execution_count": null,
   "id": "f017941e",
   "metadata": {},
   "outputs": [],
   "source": [
    "## Yao-Johnson変換\n",
    "num_cols = ['br_var_pop_cnt_credit_prolong']\n",
    "### 学習データに基づいてYao-Johnson変換を定義\n",
    "pt = PowerTransformer(method = 'yeo-johnson')\n",
    "pt.fit(app_train[num_cols].copy())\n",
    "\n",
    "### 変換後のデータで各列を置換\n",
    "app_train['br_var_pop_cnt_credit_prolong'] = pt.transform(app_train[num_cols])\n",
    "app_test['br_var_pop_cnt_credit_prolong'] = pt.transform(app_test[num_cols])"
   ]
  },
  {
   "cell_type": "code",
   "execution_count": null,
   "id": "e9243054",
   "metadata": {},
   "outputs": [],
   "source": [
    "## Yao-Johnson変換後の目的変数との相関\n",
    "app_train[['TARGET', 'br_var_pop_cnt_credit_prolong']].corr()"
   ]
  },
  {
   "cell_type": "code",
   "execution_count": null,
   "id": "37f20aac",
   "metadata": {},
   "outputs": [],
   "source": [
    "## Yao-Johnson変換後の特徴量の分布\n",
    "kde_target('br_var_pop_cnt_credit_prolong', app_train)"
   ]
  },
  {
   "cell_type": "markdown",
   "id": "cb9457a8",
   "metadata": {},
   "source": [
    "### br_var_samp_cnt_credit_prolong"
   ]
  },
  {
   "cell_type": "code",
   "execution_count": null,
   "id": "8cc4905e",
   "metadata": {},
   "outputs": [],
   "source": [
    "## 目的変数との相関\n",
    "app_train[['TARGET', 'br_var_samp_cnt_credit_prolong']].corr()"
   ]
  },
  {
   "cell_type": "code",
   "execution_count": null,
   "id": "1c831ed4",
   "metadata": {},
   "outputs": [],
   "source": [
    "## 特徴量の分布\n",
    "kde_target('br_var_samp_cnt_credit_prolong', app_train)"
   ]
  },
  {
   "cell_type": "code",
   "execution_count": null,
   "id": "4c56d873",
   "metadata": {},
   "outputs": [],
   "source": [
    "## Yao-Johnson変換\n",
    "num_cols = ['br_var_samp_cnt_credit_prolong']\n",
    "### 学習データに基づいてYao-Johnson変換を定義\n",
    "pt = PowerTransformer(method = 'yeo-johnson')\n",
    "pt.fit(app_train[num_cols].copy())\n",
    "\n",
    "### 変換後のデータで各列を置換\n",
    "app_train['br_var_samp_cnt_credit_prolong'] = pt.transform(app_train[num_cols])\n",
    "app_test['br_var_samp_cnt_credit_prolong'] = pt.transform(app_test[num_cols])"
   ]
  },
  {
   "cell_type": "code",
   "execution_count": null,
   "id": "d6a22f6f",
   "metadata": {},
   "outputs": [],
   "source": [
    "## Yao-Johnson変換後の目的変数との相関\n",
    "app_train[['TARGET', 'br_var_samp_cnt_credit_prolong']].corr()"
   ]
  },
  {
   "cell_type": "code",
   "execution_count": null,
   "id": "84fee2f3",
   "metadata": {},
   "outputs": [],
   "source": [
    "## Yao-Johnson変換後の特徴量の分布\n",
    "kde_target('br_var_samp_cnt_credit_prolong', app_train)"
   ]
  },
  {
   "cell_type": "markdown",
   "id": "dd902ce2",
   "metadata": {},
   "source": [
    "### br_variance_pop_cnt_credit_prolong"
   ]
  },
  {
   "cell_type": "code",
   "execution_count": null,
   "id": "cde67664",
   "metadata": {},
   "outputs": [],
   "source": [
    "## 目的変数との相関\n",
    "app_train[['TARGET', 'br_variance_pop_cnt_credit_prolong']].corr()"
   ]
  },
  {
   "cell_type": "code",
   "execution_count": null,
   "id": "b824c67e",
   "metadata": {},
   "outputs": [],
   "source": [
    "## 特徴量の分布\n",
    "kde_target('br_variance_pop_cnt_credit_prolong', app_train)"
   ]
  },
  {
   "cell_type": "code",
   "execution_count": null,
   "id": "c51b8e93",
   "metadata": {},
   "outputs": [],
   "source": [
    "## Yao-Johnson変換\n",
    "num_cols = ['br_variance_pop_cnt_credit_prolong']\n",
    "### 学習データに基づいてYao-Johnson変換を定義\n",
    "pt = PowerTransformer(method = 'yeo-johnson')\n",
    "pt.fit(app_train[num_cols].copy())\n",
    "\n",
    "### 変換後のデータで各列を置換\n",
    "app_train['br_variance_pop_cnt_credit_prolong'] = pt.transform(app_train[num_cols])\n",
    "app_test['br_variance_pop_cnt_credit_prolong'] = pt.transform(app_test[num_cols])"
   ]
  },
  {
   "cell_type": "code",
   "execution_count": null,
   "id": "a0aa32ba",
   "metadata": {},
   "outputs": [],
   "source": [
    "## Yao-Johnson変換後の目的変数との相関\n",
    "app_train[['TARGET', 'br_variance_pop_cnt_credit_prolong']].corr()"
   ]
  },
  {
   "cell_type": "code",
   "execution_count": null,
   "id": "b46e9c21",
   "metadata": {},
   "outputs": [],
   "source": [
    "## Yao-Johnson変換後の特徴量の分布\n",
    "kde_target('br_variance_pop_cnt_credit_prolong', app_train)"
   ]
  },
  {
   "cell_type": "markdown",
   "id": "f37eacc8",
   "metadata": {},
   "source": [
    "### br_min_amt_credit_sum"
   ]
  },
  {
   "cell_type": "code",
   "execution_count": null,
   "id": "7f3a955b",
   "metadata": {},
   "outputs": [],
   "source": [
    "app_train[['TARGET', 'br_min_amt_credit_sum']].corr()"
   ]
  },
  {
   "cell_type": "code",
   "execution_count": null,
   "id": "b7fa0253",
   "metadata": {},
   "outputs": [],
   "source": [
    "kde_target('br_min_amt_credit_sum', app_train)"
   ]
  },
  {
   "cell_type": "code",
   "execution_count": null,
   "id": "62b3f95b",
   "metadata": {},
   "outputs": [],
   "source": [
    "## Yao-Johnson変換\n",
    "num_cols = ['br_min_amt_credit_sum']\n",
    "### 学習データに基づいてYao-Johnson変換を定義\n",
    "pt = PowerTransformer(method = 'yeo-johnson')\n",
    "pt.fit(app_train[num_cols].copy())\n",
    "\n",
    "### 変換後のデータで各列を置換\n",
    "app_train['br_min_amt_credit_sum'] = pt.transform(app_train[num_cols])\n",
    "app_test['br_min_amt_credit_sum'] = pt.transform(app_test[num_cols])"
   ]
  },
  {
   "cell_type": "code",
   "execution_count": null,
   "id": "328b9bef",
   "metadata": {},
   "outputs": [],
   "source": [
    "## Yao-Johnson変換後の目的変数との相関\n",
    "app_train[['TARGET', 'br_min_amt_credit_sum']].corr()"
   ]
  },
  {
   "cell_type": "code",
   "execution_count": null,
   "id": "dc61d68a",
   "metadata": {},
   "outputs": [],
   "source": [
    "## Yao-Johnson変換後の特徴量の分布\n",
    "kde_target('br_min_amt_credit_sum', app_train)"
   ]
  },
  {
   "cell_type": "markdown",
   "id": "4be3f610",
   "metadata": {},
   "source": [
    "### br_max_amt_credit_sum"
   ]
  },
  {
   "cell_type": "code",
   "execution_count": null,
   "id": "c3465307",
   "metadata": {},
   "outputs": [],
   "source": [
    "app_train[['TARGET', 'br_max_amt_credit_sum']].corr()"
   ]
  },
  {
   "cell_type": "code",
   "execution_count": null,
   "id": "cfb5a19d",
   "metadata": {},
   "outputs": [],
   "source": [
    "kde_target('br_max_amt_credit_sum', app_train)"
   ]
  },
  {
   "cell_type": "code",
   "execution_count": null,
   "id": "671ad53e",
   "metadata": {},
   "outputs": [],
   "source": [
    "## Yao-Johnson変換\n",
    "num_cols = ['br_max_amt_credit_sum']\n",
    "### 学習データに基づいてYao-Johnson変換を定義\n",
    "pt = PowerTransformer(method = 'yeo-johnson')\n",
    "pt.fit(app_train[num_cols].copy())\n",
    "\n",
    "### 変換後のデータで各列を置換\n",
    "app_train['br_max_amt_credit_sum'] = pt.transform(app_train[num_cols])\n",
    "app_test['br_max_amt_credit_sum'] = pt.transform(app_test[num_cols])"
   ]
  },
  {
   "cell_type": "code",
   "execution_count": null,
   "id": "ef5f2faf",
   "metadata": {},
   "outputs": [],
   "source": [
    "## Yao-Johnson変換後の目的変数との相関\n",
    "app_train[['TARGET', 'br_max_amt_credit_sum']].corr()"
   ]
  },
  {
   "cell_type": "code",
   "execution_count": null,
   "id": "ef7d4d06",
   "metadata": {},
   "outputs": [],
   "source": [
    "## Yao-Johnson変換後の特徴量の分布\n",
    "kde_target('br_max_amt_credit_sum', app_train)"
   ]
  },
  {
   "cell_type": "markdown",
   "id": "8831d14a",
   "metadata": {},
   "source": [
    "### br_sum_amt_credit_sum"
   ]
  },
  {
   "cell_type": "code",
   "execution_count": null,
   "id": "f69f10de",
   "metadata": {},
   "outputs": [],
   "source": [
    "app_train[['TARGET', 'br_sum_amt_credit_sum']].corr()"
   ]
  },
  {
   "cell_type": "code",
   "execution_count": null,
   "id": "00a37317",
   "metadata": {},
   "outputs": [],
   "source": [
    "kde_target('br_sum_amt_credit_sum', app_train)"
   ]
  },
  {
   "cell_type": "code",
   "execution_count": null,
   "id": "d5c65390",
   "metadata": {},
   "outputs": [],
   "source": [
    "## Yao-Johnson変換\n",
    "num_cols = ['br_sum_amt_credit_sum']\n",
    "### 学習データに基づいてYao-Johnson変換を定義\n",
    "pt = PowerTransformer(method = 'yeo-johnson')\n",
    "pt.fit(app_train[num_cols].copy())\n",
    "\n",
    "### 変換後のデータで各列を置換\n",
    "app_train['br_sum_amt_credit_sum'] = pt.transform(app_train[num_cols])\n",
    "app_test['br_sum_amt_credit_sum'] = pt.transform(app_test[num_cols])"
   ]
  },
  {
   "cell_type": "code",
   "execution_count": null,
   "id": "c43e844e",
   "metadata": {},
   "outputs": [],
   "source": [
    "## Yao-Johnson変換後の目的変数との相関\n",
    "app_train[['TARGET', 'br_sum_amt_credit_sum']].corr()"
   ]
  },
  {
   "cell_type": "code",
   "execution_count": null,
   "id": "30b822fc",
   "metadata": {},
   "outputs": [],
   "source": [
    "## Yao-Johnson変換後の特徴量の分布\n",
    "kde_target('br_sum_amt_credit_sum', app_train)"
   ]
  },
  {
   "cell_type": "markdown",
   "id": "6dd34552",
   "metadata": {},
   "source": [
    "### br_avg_amt_credit_sum"
   ]
  },
  {
   "cell_type": "code",
   "execution_count": null,
   "id": "302c62cb",
   "metadata": {},
   "outputs": [],
   "source": [
    "## 目的変数との相関\n",
    "app_train[['TARGET', 'br_avg_amt_credit_sum']].corr()"
   ]
  },
  {
   "cell_type": "code",
   "execution_count": null,
   "id": "2514e576",
   "metadata": {},
   "outputs": [],
   "source": [
    "## 特徴量の分布\n",
    "kde_target('br_avg_amt_credit_sum', app_train)"
   ]
  },
  {
   "cell_type": "code",
   "execution_count": null,
   "id": "750c3ca8",
   "metadata": {},
   "outputs": [],
   "source": [
    "## Yao-Johnson変換\n",
    "num_cols = ['br_avg_amt_credit_sum']\n",
    "### 学習データに基づいてYao-Johnson変換を定義\n",
    "pt = PowerTransformer(method = 'yeo-johnson')\n",
    "pt.fit(app_train[num_cols].copy())\n",
    "\n",
    "### 変換後のデータで各列を置換\n",
    "app_train['br_avg_amt_credit_sum'] = pt.transform(app_train[num_cols])\n",
    "app_test['br_avg_amt_credit_sum'] = pt.transform(app_test[num_cols])"
   ]
  },
  {
   "cell_type": "code",
   "execution_count": null,
   "id": "544abc43",
   "metadata": {},
   "outputs": [],
   "source": [
    "## Yao-Johnson変換後の目的変数との相関\n",
    "app_train[['TARGET', 'br_avg_amt_credit_sum']].corr()"
   ]
  },
  {
   "cell_type": "code",
   "execution_count": null,
   "id": "d7e0b7ef",
   "metadata": {},
   "outputs": [],
   "source": [
    "## Yao-Johnson変換後の特徴量の分布\n",
    "kde_target('br_avg_amt_credit_sum', app_train)"
   ]
  },
  {
   "cell_type": "markdown",
   "id": "26eab754",
   "metadata": {},
   "source": [
    "### br_cnt_amt_credit_sum"
   ]
  },
  {
   "cell_type": "code",
   "execution_count": null,
   "id": "9ea6202d",
   "metadata": {},
   "outputs": [],
   "source": [
    "## 目的変数との相関\n",
    "app_train[['TARGET', 'br_cnt_amt_credit_sum']].corr()"
   ]
  },
  {
   "cell_type": "code",
   "execution_count": null,
   "id": "5d8173d4",
   "metadata": {},
   "outputs": [],
   "source": [
    "## 特徴量の分布\n",
    "kde_target('br_cnt_amt_credit_sum', app_train)"
   ]
  },
  {
   "cell_type": "code",
   "execution_count": null,
   "id": "72b51d43",
   "metadata": {},
   "outputs": [],
   "source": [
    "## Yao-Johnson変換\n",
    "num_cols = ['br_cnt_amt_credit_sum']\n",
    "### 学習データに基づいてYao-Johnson変換を定義\n",
    "pt = PowerTransformer(method = 'yeo-johnson')\n",
    "pt.fit(app_train[num_cols].copy())\n",
    "\n",
    "### 変換後のデータで各列を置換\n",
    "app_train['br_cnt_amt_credit_sum'] = pt.transform(app_train[num_cols])\n",
    "app_test['br_cnt_amt_credit_sum'] = pt.transform(app_test[num_cols])"
   ]
  },
  {
   "cell_type": "code",
   "execution_count": null,
   "id": "e741b54f",
   "metadata": {},
   "outputs": [],
   "source": [
    "## Yao-Johnson変換後の目的変数との相関\n",
    "app_train[['TARGET', 'br_cnt_amt_credit_sum']].corr()"
   ]
  },
  {
   "cell_type": "code",
   "execution_count": null,
   "id": "14f19f07",
   "metadata": {},
   "outputs": [],
   "source": [
    "## Yao-Johnson変換後の特徴量の分布\n",
    "kde_target('br_cnt_amt_credit_sum', app_train)"
   ]
  },
  {
   "cell_type": "markdown",
   "id": "6313a917",
   "metadata": {},
   "source": [
    "### br_stddev_amt_credit_sum"
   ]
  },
  {
   "cell_type": "code",
   "execution_count": null,
   "id": "a43fe0e5",
   "metadata": {},
   "outputs": [],
   "source": [
    "## 目的変数との相関\n",
    "app_train[['TARGET', 'br_stddev_amt_credit_sum']].corr()"
   ]
  },
  {
   "cell_type": "code",
   "execution_count": null,
   "id": "a87c5a79",
   "metadata": {},
   "outputs": [],
   "source": [
    "## 特徴量の分布\n",
    "kde_target('br_stddev_amt_credit_sum', app_train)"
   ]
  },
  {
   "cell_type": "markdown",
   "id": "1714435a",
   "metadata": {},
   "source": [
    "### br_stddev_pop_amt_credit_sum"
   ]
  },
  {
   "cell_type": "code",
   "execution_count": null,
   "id": "f5217665",
   "metadata": {},
   "outputs": [],
   "source": [
    "## 目的変数との相関\n",
    "app_train[['TARGET', 'br_stddev_pop_amt_credit_sum']].corr()"
   ]
  },
  {
   "cell_type": "code",
   "execution_count": null,
   "id": "28698ffe",
   "metadata": {},
   "outputs": [],
   "source": [
    "## 特徴量の分布\n",
    "kde_target('br_stddev_pop_amt_credit_sum', app_train)"
   ]
  },
  {
   "cell_type": "markdown",
   "id": "bc104c97",
   "metadata": {},
   "source": [
    "### br_var_pop_amt_credit_sum"
   ]
  },
  {
   "cell_type": "code",
   "execution_count": null,
   "id": "d162045d",
   "metadata": {},
   "outputs": [],
   "source": [
    "## 目的変数との相関\n",
    "app_train[['TARGET', 'br_var_pop_amt_credit_sum']].corr()"
   ]
  },
  {
   "cell_type": "code",
   "execution_count": null,
   "id": "879dc33d",
   "metadata": {},
   "outputs": [],
   "source": [
    "## 特徴量の分布\n",
    "kde_target('br_var_pop_amt_credit_sum', app_train)"
   ]
  },
  {
   "cell_type": "code",
   "execution_count": null,
   "id": "8776cad4",
   "metadata": {},
   "outputs": [],
   "source": [
    "## Yao-Johnson変換\n",
    "num_cols = ['br_var_pop_amt_credit_sum']\n",
    "### 学習データに基づいてYao-Johnson変換を定義\n",
    "pt = PowerTransformer(method = 'yeo-johnson')\n",
    "pt.fit(app_train[num_cols].copy())\n",
    "\n",
    "### 変換後のデータで各列を置換\n",
    "app_train['br_var_pop_amt_credit_sum'] = pt.transform(app_train[num_cols])\n",
    "app_test['br_var_pop_amt_credit_sum'] = pt.transform(app_test[num_cols])"
   ]
  },
  {
   "cell_type": "code",
   "execution_count": null,
   "id": "e9d7694b",
   "metadata": {},
   "outputs": [],
   "source": [
    "## Yao-Johnson変換後の目的変数との相関\n",
    "app_train[['TARGET', 'br_var_pop_amt_credit_sum']].corr()"
   ]
  },
  {
   "cell_type": "code",
   "execution_count": null,
   "id": "41c287bd",
   "metadata": {},
   "outputs": [],
   "source": [
    "## Yao-Johnson変換後の特徴量の分布\n",
    "kde_target('br_var_pop_amt_credit_sum', app_train)"
   ]
  },
  {
   "cell_type": "markdown",
   "id": "167696b9",
   "metadata": {},
   "source": [
    "### br_var_samp_amt_credit_sum"
   ]
  },
  {
   "cell_type": "code",
   "execution_count": null,
   "id": "ba001428",
   "metadata": {},
   "outputs": [],
   "source": [
    "## 目的変数との相関\n",
    "app_train[['TARGET', 'br_var_samp_amt_credit_sum']].corr()"
   ]
  },
  {
   "cell_type": "code",
   "execution_count": null,
   "id": "857b56d5",
   "metadata": {},
   "outputs": [],
   "source": [
    "## 特徴量の分布\n",
    "kde_target('br_var_samp_amt_credit_sum', app_train)"
   ]
  },
  {
   "cell_type": "code",
   "execution_count": null,
   "id": "317a60e1",
   "metadata": {},
   "outputs": [],
   "source": [
    "## Yao-Johnson変換\n",
    "num_cols = ['br_var_samp_amt_credit_sum']\n",
    "### 学習データに基づいてYao-Johnson変換を定義\n",
    "pt = PowerTransformer(method = 'yeo-johnson')\n",
    "pt.fit(app_train[num_cols].copy())\n",
    "\n",
    "### 変換後のデータで各列を置換\n",
    "app_train['br_var_samp_amt_credit_sum'] = pt.transform(app_train[num_cols])\n",
    "app_test['br_var_samp_amt_credit_sum'] = pt.transform(app_test[num_cols])"
   ]
  },
  {
   "cell_type": "code",
   "execution_count": null,
   "id": "72bdca22",
   "metadata": {},
   "outputs": [],
   "source": [
    "## Yao-Johnson変換後の目的変数との相関\n",
    "app_train[['TARGET', 'br_var_samp_amt_credit_sum']].corr()"
   ]
  },
  {
   "cell_type": "code",
   "execution_count": null,
   "id": "76e156a8",
   "metadata": {},
   "outputs": [],
   "source": [
    "## Yao-Johnson変換後の特徴量の分布\n",
    "kde_target('br_var_samp_amt_credit_sum', app_train)"
   ]
  },
  {
   "cell_type": "markdown",
   "id": "6bde6f00",
   "metadata": {},
   "source": [
    "### br_variance_pop_amt_credit_sum"
   ]
  },
  {
   "cell_type": "code",
   "execution_count": null,
   "id": "9c74fb00",
   "metadata": {},
   "outputs": [],
   "source": [
    "## 目的変数との相関\n",
    "app_train[['TARGET', 'br_variance_pop_amt_credit_sum']].corr()"
   ]
  },
  {
   "cell_type": "code",
   "execution_count": null,
   "id": "362e161a",
   "metadata": {},
   "outputs": [],
   "source": [
    "## 特徴量の分布\n",
    "kde_target('br_variance_pop_amt_credit_sum', app_train)"
   ]
  },
  {
   "cell_type": "code",
   "execution_count": null,
   "id": "6d8cc7bc",
   "metadata": {},
   "outputs": [],
   "source": [
    "## Yao-Johnson変換\n",
    "num_cols = ['br_variance_pop_amt_credit_sum']\n",
    "### 学習データに基づいてYao-Johnson変換を定義\n",
    "pt = PowerTransformer(method = 'yeo-johnson')\n",
    "pt.fit(app_train[num_cols].copy())\n",
    "\n",
    "### 変換後のデータで各列を置換\n",
    "app_train['br_variance_pop_amt_credit_sum'] = pt.transform(app_train[num_cols])\n",
    "app_test['br_variance_pop_amt_credit_sum'] = pt.transform(app_test[num_cols])"
   ]
  },
  {
   "cell_type": "code",
   "execution_count": null,
   "id": "069400e1",
   "metadata": {},
   "outputs": [],
   "source": [
    "## Yao-Johnson変換後の目的変数との相関\n",
    "app_train[['TARGET', 'br_variance_pop_amt_credit_sum']].corr()"
   ]
  },
  {
   "cell_type": "code",
   "execution_count": null,
   "id": "9831fd0e",
   "metadata": {},
   "outputs": [],
   "source": [
    "## Yao-Johnson変換後の特徴量の分布\n",
    "kde_target('br_variance_pop_amt_credit_sum', app_train)"
   ]
  },
  {
   "cell_type": "markdown",
   "id": "9cb75942",
   "metadata": {},
   "source": [
    "### br_min_amt_credit_sum_debt"
   ]
  },
  {
   "cell_type": "code",
   "execution_count": null,
   "id": "fe989b21",
   "metadata": {},
   "outputs": [],
   "source": [
    "## 目的変数との相関\n",
    "app_train[['TARGET', 'br_min_amt_credit_sum_debt']].corr()"
   ]
  },
  {
   "cell_type": "code",
   "execution_count": null,
   "id": "8adff24e",
   "metadata": {},
   "outputs": [],
   "source": [
    "## 特徴量の分布\n",
    "kde_target('br_min_amt_credit_sum_debt', app_train)"
   ]
  },
  {
   "cell_type": "code",
   "execution_count": null,
   "id": "6a0a706e",
   "metadata": {},
   "outputs": [],
   "source": [
    "## Yao-Johnson変換\n",
    "num_cols = ['br_min_amt_credit_sum_debt']\n",
    "### 学習データに基づいてYao-Johnson変換を定義\n",
    "pt = PowerTransformer(method = 'yeo-johnson')\n",
    "pt.fit(app_train[num_cols].copy())\n",
    "\n",
    "### 変換後のデータで各列を置換\n",
    "app_train['br_min_amt_credit_sum_debt'] = pt.transform(app_train[num_cols])\n",
    "app_test['br_min_amt_credit_sum_debt'] = pt.transform(app_test[num_cols])"
   ]
  },
  {
   "cell_type": "code",
   "execution_count": null,
   "id": "37748bc6",
   "metadata": {},
   "outputs": [],
   "source": [
    "## Yao-Johnson変換後の目的変数との相関\n",
    "app_train[['TARGET', 'br_min_amt_credit_sum_debt']].corr()"
   ]
  },
  {
   "cell_type": "code",
   "execution_count": null,
   "id": "ff5d4700",
   "metadata": {},
   "outputs": [],
   "source": [
    "## Yao-Johnson変換後の特徴量の分布\n",
    "kde_target('br_min_amt_credit_sum_debt', app_train)"
   ]
  },
  {
   "cell_type": "code",
   "execution_count": null,
   "id": "cb9a1e18",
   "metadata": {},
   "outputs": [],
   "source": [
    "app_train.drop(['br_min_amt_credit_sum_debt'], axis=1, inplace=True)\n",
    "app_test.drop(['br_min_amt_credit_sum_debt'], axis=1, inplace=True)"
   ]
  },
  {
   "cell_type": "markdown",
   "id": "1f74d096",
   "metadata": {},
   "source": [
    "### br_max_amt_credit_sum_debt"
   ]
  },
  {
   "cell_type": "code",
   "execution_count": null,
   "id": "0625f33d",
   "metadata": {},
   "outputs": [],
   "source": [
    "## 目的変数との相関\n",
    "app_train[['TARGET', 'br_max_amt_credit_sum_debt']].corr()"
   ]
  },
  {
   "cell_type": "code",
   "execution_count": null,
   "id": "c12ade9c",
   "metadata": {},
   "outputs": [],
   "source": [
    "## 特徴量の分布\n",
    "kde_target('br_max_amt_credit_sum_debt', app_train)"
   ]
  },
  {
   "cell_type": "code",
   "execution_count": null,
   "id": "6b2f5be0",
   "metadata": {},
   "outputs": [],
   "source": [
    "## Yao-Johnson変換\n",
    "num_cols = ['br_max_amt_credit_sum_debt']\n",
    "### 学習データに基づいてYao-Johnson変換を定義\n",
    "pt = PowerTransformer(method = 'yeo-johnson')\n",
    "pt.fit(app_train[num_cols].copy())\n",
    "\n",
    "### 変換後のデータで各列を置換\n",
    "app_train['br_max_amt_credit_sum_debt'] = pt.transform(app_train[num_cols])\n",
    "app_test['br_max_amt_credit_sum_debt'] = pt.transform(app_test[num_cols])"
   ]
  },
  {
   "cell_type": "code",
   "execution_count": null,
   "id": "6fa395f6",
   "metadata": {},
   "outputs": [],
   "source": [
    "## Yao-Johnson変換後の目的変数との相関\n",
    "app_train[['TARGET', 'br_max_amt_credit_sum_debt']].corr()"
   ]
  },
  {
   "cell_type": "code",
   "execution_count": null,
   "id": "1bfb062a",
   "metadata": {},
   "outputs": [],
   "source": [
    "## Yao-Johnson変換後の特徴量の分布\n",
    "kde_target('br_max_amt_credit_sum_debt', app_train)"
   ]
  },
  {
   "cell_type": "markdown",
   "id": "9a551e19",
   "metadata": {},
   "source": [
    "### br_sum_amt_credit_sum_debt"
   ]
  },
  {
   "cell_type": "code",
   "execution_count": null,
   "id": "b47e0d5d",
   "metadata": {},
   "outputs": [],
   "source": [
    "## 目的変数との相関\n",
    "app_train[['TARGET', 'br_sum_amt_credit_sum_debt']].corr()"
   ]
  },
  {
   "cell_type": "code",
   "execution_count": null,
   "id": "10467d4e",
   "metadata": {},
   "outputs": [],
   "source": [
    "## 特徴量の分布\n",
    "kde_target('br_sum_amt_credit_sum_debt', app_train)"
   ]
  },
  {
   "cell_type": "code",
   "execution_count": null,
   "id": "c287868d",
   "metadata": {},
   "outputs": [],
   "source": [
    "## Yao-Johnson変換\n",
    "num_cols = ['br_sum_amt_credit_sum_debt']\n",
    "### 学習データに基づいてYao-Johnson変換を定義\n",
    "pt = PowerTransformer(method = 'yeo-johnson')\n",
    "pt.fit(app_train[num_cols].copy())\n",
    "\n",
    "### 変換後のデータで各列を置換\n",
    "app_train['br_sum_amt_credit_sum_debt'] = pt.transform(app_train[num_cols])\n",
    "app_test['br_sum_amt_credit_sum_debt'] = pt.transform(app_test[num_cols])"
   ]
  },
  {
   "cell_type": "code",
   "execution_count": null,
   "id": "04cc99c7",
   "metadata": {},
   "outputs": [],
   "source": [
    "## Yao-Johnson変換後の目的変数との相関\n",
    "app_train[['TARGET', 'br_sum_amt_credit_sum_debt']].corr()"
   ]
  },
  {
   "cell_type": "code",
   "execution_count": null,
   "id": "d4c905b7",
   "metadata": {},
   "outputs": [],
   "source": [
    "## Yao-Johnson変換後の特徴量の分布\n",
    "kde_target('br_sum_amt_credit_sum_debt', app_train)"
   ]
  },
  {
   "cell_type": "code",
   "execution_count": null,
   "id": "57ce8995",
   "metadata": {},
   "outputs": [],
   "source": [
    "app_train.drop(['br_sum_amt_credit_sum_debt'], axis=1, inplace=True)\n",
    "app_test.drop(['br_sum_amt_credit_sum_debt'], axis=1, inplace=True)"
   ]
  },
  {
   "cell_type": "markdown",
   "id": "d5245930",
   "metadata": {},
   "source": [
    "### br_avg_amt_credit_sum_debt"
   ]
  },
  {
   "cell_type": "code",
   "execution_count": null,
   "id": "c6098aa1",
   "metadata": {},
   "outputs": [],
   "source": [
    "## 目的変数との相関\n",
    "app_train[['TARGET', 'br_avg_amt_credit_sum_debt']].corr()"
   ]
  },
  {
   "cell_type": "code",
   "execution_count": null,
   "id": "b4482784",
   "metadata": {},
   "outputs": [],
   "source": [
    "## 特徴量の分布\n",
    "kde_target('br_avg_amt_credit_sum_debt', app_train)"
   ]
  },
  {
   "cell_type": "code",
   "execution_count": null,
   "id": "bb8d058a",
   "metadata": {},
   "outputs": [],
   "source": [
    "## Yao-Johnson変換\n",
    "num_cols = ['br_avg_amt_credit_sum_debt']\n",
    "### 学習データに基づいてYao-Johnson変換を定義\n",
    "pt = PowerTransformer(method = 'yeo-johnson')\n",
    "pt.fit(app_train[num_cols].copy())\n",
    "\n",
    "### 変換後のデータで各列を置換\n",
    "app_train['br_avg_amt_credit_sum_debt'] = pt.transform(app_train[num_cols])\n",
    "app_test['br_avg_amt_credit_sum_debt'] = pt.transform(app_test[num_cols])"
   ]
  },
  {
   "cell_type": "code",
   "execution_count": null,
   "id": "c293af8d",
   "metadata": {},
   "outputs": [],
   "source": [
    "## Yao-Johnson変換後の目的変数との相関\n",
    "app_train[['TARGET', 'br_avg_amt_credit_sum_debt']].corr()"
   ]
  },
  {
   "cell_type": "code",
   "execution_count": null,
   "id": "858426eb",
   "metadata": {},
   "outputs": [],
   "source": [
    "## Yao-Johnson変換後の特徴量の分布\n",
    "kde_target('br_avg_amt_credit_sum_debt', app_train)"
   ]
  },
  {
   "cell_type": "code",
   "execution_count": null,
   "id": "fe391eac",
   "metadata": {},
   "outputs": [],
   "source": [
    "app_train.drop(['br_avg_amt_credit_sum_debt'], axis=1, inplace=True)\n",
    "app_test.drop(['br_avg_amt_credit_sum_debt'], axis=1, inplace=True)"
   ]
  },
  {
   "cell_type": "markdown",
   "id": "f40f963f",
   "metadata": {},
   "source": [
    "### br_cnt_amt_credit_sum_debt"
   ]
  },
  {
   "cell_type": "code",
   "execution_count": null,
   "id": "1d62fc37",
   "metadata": {},
   "outputs": [],
   "source": [
    "## 目的変数との相関\n",
    "app_train[['TARGET', 'br_cnt_amt_credit_sum_debt']].corr()"
   ]
  },
  {
   "cell_type": "code",
   "execution_count": null,
   "id": "91148c40",
   "metadata": {},
   "outputs": [],
   "source": [
    "## 特徴量の分布\n",
    "kde_target('br_cnt_amt_credit_sum_debt', app_train)"
   ]
  },
  {
   "cell_type": "code",
   "execution_count": null,
   "id": "8e423fb6",
   "metadata": {},
   "outputs": [],
   "source": [
    "## Yao-Johnson変換\n",
    "num_cols = ['br_cnt_amt_credit_sum_debt']\n",
    "### 学習データに基づいてYao-Johnson変換を定義\n",
    "pt = PowerTransformer(method = 'yeo-johnson')\n",
    "pt.fit(app_train[num_cols].copy())\n",
    "\n",
    "### 変換後のデータで各列を置換\n",
    "app_train['br_cnt_amt_credit_sum_debt'] = pt.transform(app_train[num_cols])\n",
    "app_test['br_cnt_amt_credit_sum_debt'] = pt.transform(app_test[num_cols])"
   ]
  },
  {
   "cell_type": "code",
   "execution_count": null,
   "id": "73c703f7",
   "metadata": {},
   "outputs": [],
   "source": [
    "## Yao-Johnson変換後の目的変数との相関\n",
    "app_train[['TARGET', 'br_cnt_amt_credit_sum_debt']].corr()"
   ]
  },
  {
   "cell_type": "code",
   "execution_count": null,
   "id": "009df18e",
   "metadata": {},
   "outputs": [],
   "source": [
    "## Yao-Johnson変換後の特徴量の分布\n",
    "kde_target('br_cnt_amt_credit_sum_debt', app_train)"
   ]
  },
  {
   "cell_type": "markdown",
   "id": "cd3aaaae",
   "metadata": {},
   "source": [
    "### br_stddev_amt_credit_sum_debt"
   ]
  },
  {
   "cell_type": "code",
   "execution_count": null,
   "id": "d966a447",
   "metadata": {},
   "outputs": [],
   "source": [
    "## 目的変数との相関\n",
    "app_train[['TARGET', 'br_stddev_amt_credit_sum_debt']].corr()"
   ]
  },
  {
   "cell_type": "code",
   "execution_count": null,
   "id": "23ee71c5",
   "metadata": {},
   "outputs": [],
   "source": [
    "## 特徴量の分布\n",
    "kde_target('br_stddev_amt_credit_sum_debt', app_train)"
   ]
  },
  {
   "cell_type": "code",
   "execution_count": null,
   "id": "b14006ca",
   "metadata": {},
   "outputs": [],
   "source": [
    "## Yao-Johnson変換\n",
    "num_cols = ['br_stddev_amt_credit_sum_debt']\n",
    "### 学習データに基づいてYao-Johnson変換を定義\n",
    "pt = PowerTransformer(method = 'yeo-johnson')\n",
    "pt.fit(app_train[num_cols].copy())\n",
    "\n",
    "### 変換後のデータで各列を置換\n",
    "app_train['br_stddev_amt_credit_sum_debt'] = pt.transform(app_train[num_cols])\n",
    "app_test['br_stddev_amt_credit_sum_debt'] = pt.transform(app_test[num_cols])"
   ]
  },
  {
   "cell_type": "code",
   "execution_count": null,
   "id": "2fe0d6bd",
   "metadata": {},
   "outputs": [],
   "source": [
    "## Yao-Johnson変換後の目的変数との相関\n",
    "app_train[['TARGET', 'br_stddev_amt_credit_sum_debt']].corr()"
   ]
  },
  {
   "cell_type": "code",
   "execution_count": null,
   "id": "07a75d9b",
   "metadata": {},
   "outputs": [],
   "source": [
    "## Yao-Johnson変換後の特徴量の分布\n",
    "kde_target('br_stddev_amt_credit_sum_debt', app_train)"
   ]
  },
  {
   "cell_type": "markdown",
   "id": "675e35a9",
   "metadata": {},
   "source": [
    "### br_stddev_pop_amt_credit_sum_debt"
   ]
  },
  {
   "cell_type": "code",
   "execution_count": null,
   "id": "756c7e45",
   "metadata": {},
   "outputs": [],
   "source": [
    "## 目的変数との相関\n",
    "app_train[['TARGET', 'br_stddev_pop_amt_credit_sum_debt']].corr()"
   ]
  },
  {
   "cell_type": "code",
   "execution_count": null,
   "id": "31d00a4f",
   "metadata": {},
   "outputs": [],
   "source": [
    "## 特徴量の分布\n",
    "kde_target('br_stddev_pop_amt_credit_sum_debt', app_train)"
   ]
  },
  {
   "cell_type": "code",
   "execution_count": null,
   "id": "349db762",
   "metadata": {},
   "outputs": [],
   "source": [
    "## Yao-Johnson変換\n",
    "num_cols = ['br_sum_amt_credit_max_overdue']\n",
    "### 学習データに基づいてYao-Johnson変換を定義\n",
    "pt = PowerTransformer(method = 'yeo-johnson')\n",
    "pt.fit(app_train[num_cols].copy())\n",
    "\n",
    "### 変換後のデータで各列を置換\n",
    "app_train['br_sum_amt_credit_max_overdue'] = pt.transform(app_train[num_cols])\n",
    "app_test['br_sum_amt_credit_max_overdue'] = pt.transform(app_test[num_cols])"
   ]
  },
  {
   "cell_type": "code",
   "execution_count": null,
   "id": "faf2c187",
   "metadata": {},
   "outputs": [],
   "source": [
    "## Yao-Johnson変換後の目的変数との相関\n",
    "app_train[['TARGET', 'br_sum_amt_credit_max_overdue']].corr()"
   ]
  },
  {
   "cell_type": "code",
   "execution_count": null,
   "id": "c1c80005",
   "metadata": {},
   "outputs": [],
   "source": [
    "## Yao-Johnson変換後の特徴量の分布\n",
    "kde_target('br_sum_amt_credit_max_overdue', app_train)"
   ]
  },
  {
   "cell_type": "markdown",
   "id": "3ca1819b",
   "metadata": {},
   "source": [
    "### br_var_pop_amt_credit_sum_debt"
   ]
  },
  {
   "cell_type": "code",
   "execution_count": null,
   "id": "6d058a7f",
   "metadata": {},
   "outputs": [],
   "source": [
    "## 目的変数との相関\n",
    "app_train[['TARGET', 'br_var_pop_amt_credit_sum_debt']].corr()"
   ]
  },
  {
   "cell_type": "code",
   "execution_count": null,
   "id": "791798c0",
   "metadata": {},
   "outputs": [],
   "source": [
    "## 特徴量の分布\n",
    "kde_target('br_var_pop_amt_credit_sum_debt', app_train)"
   ]
  },
  {
   "cell_type": "code",
   "execution_count": null,
   "id": "a8c4b7c4",
   "metadata": {},
   "outputs": [],
   "source": [
    "## Yao-Johnson変換\n",
    "num_cols = ['br_var_pop_amt_credit_sum_debt']\n",
    "### 学習データに基づいてYao-Johnson変換を定義\n",
    "pt = PowerTransformer(method = 'yeo-johnson')\n",
    "pt.fit(app_train[num_cols].copy())\n",
    "\n",
    "### 変換後のデータで各列を置換\n",
    "app_train['br_var_pop_amt_credit_sum_debt'] = pt.transform(app_train[num_cols])\n",
    "app_test['br_var_pop_amt_credit_sum_debt'] = pt.transform(app_test[num_cols])"
   ]
  },
  {
   "cell_type": "code",
   "execution_count": null,
   "id": "aeec07c9",
   "metadata": {},
   "outputs": [],
   "source": [
    "## Yao-Johnson変換後の目的変数との相関\n",
    "app_train[['TARGET', 'br_var_pop_amt_credit_sum_debt']].corr()"
   ]
  },
  {
   "cell_type": "code",
   "execution_count": null,
   "id": "7422daeb",
   "metadata": {},
   "outputs": [],
   "source": [
    "## Yao-Johnson変換後の特徴量の分布\n",
    "kde_target('br_var_pop_amt_credit_sum_debt', app_train)"
   ]
  },
  {
   "cell_type": "markdown",
   "id": "54947966",
   "metadata": {},
   "source": [
    "### br_var_samp_amt_credit_sum_debt"
   ]
  },
  {
   "cell_type": "code",
   "execution_count": null,
   "id": "30d97eed",
   "metadata": {},
   "outputs": [],
   "source": [
    "## 目的変数との相関\n",
    "app_train[['TARGET', 'br_var_samp_amt_credit_sum_debt']].corr()"
   ]
  },
  {
   "cell_type": "code",
   "execution_count": null,
   "id": "916d6660",
   "metadata": {},
   "outputs": [],
   "source": [
    "## 特徴量の分布\n",
    "kde_target('br_var_samp_amt_credit_sum_debt', app_train)"
   ]
  },
  {
   "cell_type": "code",
   "execution_count": null,
   "id": "38eeb99f",
   "metadata": {},
   "outputs": [],
   "source": [
    "## Yao-Johnson変換\n",
    "num_cols = ['br_var_samp_amt_credit_sum_debt']\n",
    "### 学習データに基づいてYao-Johnson変換を定義\n",
    "pt = PowerTransformer(method = 'yeo-johnson')\n",
    "pt.fit(app_train[num_cols].copy())\n",
    "\n",
    "### 変換後のデータで各列を置換\n",
    "app_train['br_var_samp_amt_credit_sum_debt'] = pt.transform(app_train[num_cols])\n",
    "app_test['br_var_samp_amt_credit_sum_debt'] = pt.transform(app_test[num_cols])"
   ]
  },
  {
   "cell_type": "code",
   "execution_count": null,
   "id": "72aebcff",
   "metadata": {},
   "outputs": [],
   "source": [
    "## Yao-Johnson変換後の目的変数との相関\n",
    "app_train[['TARGET', 'br_var_samp_amt_credit_sum_debt']].corr()"
   ]
  },
  {
   "cell_type": "code",
   "execution_count": null,
   "id": "37642e9c",
   "metadata": {},
   "outputs": [],
   "source": [
    "## Yao-Johnson変換後の特徴量の分布\n",
    "kde_target('br_var_samp_amt_credit_sum_debt', app_train)"
   ]
  },
  {
   "cell_type": "markdown",
   "id": "2e47637a",
   "metadata": {},
   "source": [
    "### br_variance_pop_amt_credit_sum_debt"
   ]
  },
  {
   "cell_type": "code",
   "execution_count": null,
   "id": "9689249a",
   "metadata": {},
   "outputs": [],
   "source": [
    "## 目的変数との相関\n",
    "app_train[['TARGET', 'br_variance_pop_amt_credit_sum_debt']].corr()"
   ]
  },
  {
   "cell_type": "code",
   "execution_count": null,
   "id": "ed4253fb",
   "metadata": {},
   "outputs": [],
   "source": [
    "## 特徴量の分布\n",
    "kde_target('br_variance_pop_amt_credit_sum_debt', app_train)"
   ]
  },
  {
   "cell_type": "code",
   "execution_count": null,
   "id": "b6d900a5",
   "metadata": {},
   "outputs": [],
   "source": [
    "## Yao-Johnson変換\n",
    "num_cols = ['br_variance_pop_amt_credit_sum_debt']\n",
    "### 学習データに基づいてYao-Johnson変換を定義\n",
    "pt = PowerTransformer(method = 'yeo-johnson')\n",
    "pt.fit(app_train[num_cols].copy())\n",
    "\n",
    "### 変換後のデータで各列を置換\n",
    "app_train['br_variance_pop_amt_credit_sum_debt'] = pt.transform(app_train[num_cols])\n",
    "app_test['br_variance_pop_amt_credit_sum_debt'] = pt.transform(app_test[num_cols])"
   ]
  },
  {
   "cell_type": "code",
   "execution_count": null,
   "id": "c343167c",
   "metadata": {},
   "outputs": [],
   "source": [
    "## Yao-Johnson変換後の目的変数との相関\n",
    "app_train[['TARGET', 'br_variance_pop_amt_credit_sum_debt']].corr()"
   ]
  },
  {
   "cell_type": "code",
   "execution_count": null,
   "id": "922ba94a",
   "metadata": {},
   "outputs": [],
   "source": [
    "## Yao-Johnson変換後の特徴量の分布\n",
    "kde_target('br_variance_pop_amt_credit_sum_debt', app_train)"
   ]
  },
  {
   "cell_type": "markdown",
   "id": "bfcce5d5",
   "metadata": {},
   "source": [
    "### br_min_amt_credit_sum_limit"
   ]
  },
  {
   "cell_type": "code",
   "execution_count": null,
   "id": "f7352f6f",
   "metadata": {},
   "outputs": [],
   "source": [
    "## 目的変数との相関\n",
    "app_train[['TARGET', 'br_min_amt_credit_sum_limit']].corr()"
   ]
  },
  {
   "cell_type": "code",
   "execution_count": null,
   "id": "4d4972cb",
   "metadata": {},
   "outputs": [],
   "source": [
    "## 特徴量の分布\n",
    "kde_target('br_min_amt_credit_sum_limit', app_train)"
   ]
  },
  {
   "cell_type": "code",
   "execution_count": null,
   "id": "244977dd",
   "metadata": {},
   "outputs": [],
   "source": [
    "## Yao-Johnson変換\n",
    "num_cols = ['br_min_amt_credit_sum_limit']\n",
    "### 学習データに基づいてYao-Johnson変換を定義\n",
    "pt = PowerTransformer(method = 'yeo-johnson')\n",
    "pt.fit(app_train[num_cols].copy())\n",
    "\n",
    "### 変換後のデータで各列を置換\n",
    "app_train['br_min_amt_credit_sum_limit'] = pt.transform(app_train[num_cols])\n",
    "app_test['br_min_amt_credit_sum_limit'] = pt.transform(app_test[num_cols])"
   ]
  },
  {
   "cell_type": "code",
   "execution_count": null,
   "id": "b7ff824f",
   "metadata": {},
   "outputs": [],
   "source": [
    "## Yao-Johnson変換後の目的変数との相関\n",
    "app_train[['TARGET', 'br_min_amt_credit_sum_limit']].corr()"
   ]
  },
  {
   "cell_type": "code",
   "execution_count": null,
   "id": "b3401f28",
   "metadata": {},
   "outputs": [],
   "source": [
    "## Yao-Johnson変換後の特徴量の分布\n",
    "kde_target('br_min_amt_credit_sum_limit', app_train)"
   ]
  },
  {
   "cell_type": "code",
   "execution_count": null,
   "id": "4a7575ab",
   "metadata": {},
   "outputs": [],
   "source": [
    "app_train.drop(['br_min_amt_credit_sum_limit'], axis=1, inplace=True)\n",
    "app_test.drop(['br_min_amt_credit_sum_limit'], axis=1, inplace=True)"
   ]
  },
  {
   "cell_type": "markdown",
   "id": "197a81fe",
   "metadata": {},
   "source": [
    "### br_max_amt_credit_sum_limit"
   ]
  },
  {
   "cell_type": "code",
   "execution_count": null,
   "id": "b977b8fa",
   "metadata": {},
   "outputs": [],
   "source": [
    "## 目的変数との相関\n",
    "app_train[['TARGET', 'br_max_amt_credit_sum_limit']].corr()"
   ]
  },
  {
   "cell_type": "code",
   "execution_count": null,
   "id": "ac7867dc",
   "metadata": {},
   "outputs": [],
   "source": [
    "## 特徴量の分布\n",
    "kde_target('br_max_amt_credit_sum_limit', app_train)"
   ]
  },
  {
   "cell_type": "code",
   "execution_count": null,
   "id": "90fc8bf9",
   "metadata": {},
   "outputs": [],
   "source": [
    "## Yao-Johnson変換\n",
    "#num_cols = ['br_max_amt_credit_sum_limit']\n",
    "### 学習データに基づいてYao-Johnson変換を定義\n",
    "#pt = PowerTransformer(method = 'yeo-johnson')\n",
    "#pt.fit(app_train[num_cols].copy())\n",
    "\n",
    "### 変換後のデータで各列を置換\n",
    "#app_train['br_max_amt_credit_sum_limit'] = pt.transform(app_train[num_cols])\n",
    "#app_test['br_max_amt_credit_sum_limit'] = pt.transform(app_test[num_cols])"
   ]
  },
  {
   "cell_type": "code",
   "execution_count": null,
   "id": "8821d0b9",
   "metadata": {},
   "outputs": [],
   "source": [
    "## Yao-Johnson変換後の目的変数との相関\n",
    "#app_train[['TARGET', 'br_max_amt_credit_sum_limit']].corr()"
   ]
  },
  {
   "cell_type": "code",
   "execution_count": null,
   "id": "39247562",
   "metadata": {},
   "outputs": [],
   "source": [
    "## Yao-Johnson変換後の特徴量の分布\n",
    "#kde_target('br_max_amt_credit_sum_limit', app_train)"
   ]
  },
  {
   "cell_type": "markdown",
   "id": "2ea9a48e",
   "metadata": {},
   "source": [
    "### br_sum_amt_credit_sum_limit"
   ]
  },
  {
   "cell_type": "code",
   "execution_count": null,
   "id": "3fed966a",
   "metadata": {},
   "outputs": [],
   "source": [
    "## 目的変数との相関\n",
    "app_train[['TARGET', 'br_sum_amt_credit_sum_limit']].corr()"
   ]
  },
  {
   "cell_type": "code",
   "execution_count": null,
   "id": "bdd4da93",
   "metadata": {},
   "outputs": [],
   "source": [
    "## 特徴量の分布\n",
    "kde_target('br_sum_amt_credit_sum_limit', app_train)"
   ]
  },
  {
   "cell_type": "code",
   "execution_count": null,
   "id": "22c1cc40",
   "metadata": {},
   "outputs": [],
   "source": [
    "## Yao-Johnson変換\n",
    "#num_cols = ['br_sum_amt_credit_sum_limit']\n",
    "### 学習データに基づいてYao-Johnson変換を定義\n",
    "#pt = PowerTransformer(method = 'yeo-johnson')\n",
    "#pt.fit(app_train[num_cols].copy())\n",
    "\n",
    "### 変換後のデータで各列を置換\n",
    "#app_train['br_sum_amt_credit_sum_limit'] = pt.transform(app_train[num_cols])\n",
    "#app_test['br_sum_amt_credit_sum_limit'] = pt.transform(app_test[num_cols])"
   ]
  },
  {
   "cell_type": "code",
   "execution_count": null,
   "id": "43ce8a2e",
   "metadata": {},
   "outputs": [],
   "source": [
    "## Yao-Johnson変換後の目的変数との相関\n",
    "#app_train[['TARGET', 'br_sum_amt_credit_sum_limit']].corr()"
   ]
  },
  {
   "cell_type": "code",
   "execution_count": null,
   "id": "fdee0b60",
   "metadata": {},
   "outputs": [],
   "source": [
    "## Yao-Johnson変換後の特徴量の分布\n",
    "#kde_target('br_sum_amt_credit_sum_limit', app_train)"
   ]
  },
  {
   "cell_type": "markdown",
   "id": "d759f0ae",
   "metadata": {},
   "source": [
    "### br_avg_amt_credit_sum_limit"
   ]
  },
  {
   "cell_type": "code",
   "execution_count": null,
   "id": "2afbd4c3",
   "metadata": {},
   "outputs": [],
   "source": [
    "## 目的変数との相関\n",
    "app_train[['TARGET', 'br_avg_amt_credit_sum_limit']].corr()"
   ]
  },
  {
   "cell_type": "code",
   "execution_count": null,
   "id": "64ed8cee",
   "metadata": {},
   "outputs": [],
   "source": [
    "## 特徴量の分布\n",
    "kde_target('br_avg_amt_credit_sum_limit', app_train)"
   ]
  },
  {
   "cell_type": "code",
   "execution_count": null,
   "id": "a18d078c",
   "metadata": {},
   "outputs": [],
   "source": [
    "## Yao-Johnson変換\n",
    "#num_cols = ['br_avg_amt_credit_sum_limit']\n",
    "### 学習データに基づいてYao-Johnson変換を定義\n",
    "#pt = PowerTransformer(method = 'yeo-johnson')\n",
    "#pt.fit(app_train[num_cols].copy())\n",
    "\n",
    "### 変換後のデータで各列を置換\n",
    "#app_train['br_avg_amt_credit_sum_limit'] = pt.transform(app_train[num_cols])\n",
    "#app_test['br_avg_amt_credit_sum_limit'] = pt.transform(app_test[num_cols])"
   ]
  },
  {
   "cell_type": "code",
   "execution_count": null,
   "id": "7342e0d5",
   "metadata": {},
   "outputs": [],
   "source": [
    "## Yao-Johnson変換後の目的変数との相関\n",
    "#app_train[['TARGET', 'br_avg_amt_credit_sum_limit']].corr()"
   ]
  },
  {
   "cell_type": "code",
   "execution_count": null,
   "id": "53db6961",
   "metadata": {},
   "outputs": [],
   "source": [
    "## Yao-Johnson変換後の特徴量の分布\n",
    "#kde_target('br_avg_amt_credit_sum_limit', app_train)"
   ]
  },
  {
   "cell_type": "markdown",
   "id": "ffd05e13",
   "metadata": {},
   "source": [
    "### br_cnt_amt_credit_sum_limit"
   ]
  },
  {
   "cell_type": "code",
   "execution_count": null,
   "id": "2ae9a48a",
   "metadata": {},
   "outputs": [],
   "source": [
    "## 目的変数との相関\n",
    "app_train[['TARGET', 'br_cnt_amt_credit_sum_limit']].corr()"
   ]
  },
  {
   "cell_type": "code",
   "execution_count": null,
   "id": "ed528244",
   "metadata": {},
   "outputs": [],
   "source": [
    "## 特徴量の分布\n",
    "kde_target('br_cnt_amt_credit_sum_limit', app_train)"
   ]
  },
  {
   "cell_type": "code",
   "execution_count": null,
   "id": "ea9cd769",
   "metadata": {},
   "outputs": [],
   "source": [
    "## Yao-Johnson変換\n",
    "num_cols = ['br_cnt_amt_credit_sum_limit']\n",
    "### 学習データに基づいてYao-Johnson変換を定義\n",
    "pt = PowerTransformer(method = 'yeo-johnson')\n",
    "pt.fit(app_train[num_cols].copy())\n",
    "\n",
    "### 変換後のデータで各列を置換\n",
    "app_train['br_cnt_amt_credit_sum_limit'] = pt.transform(app_train[num_cols])\n",
    "app_test['br_cnt_amt_credit_sum_limit'] = pt.transform(app_test[num_cols])"
   ]
  },
  {
   "cell_type": "code",
   "execution_count": null,
   "id": "9faef8d6",
   "metadata": {},
   "outputs": [],
   "source": [
    "## Yao-Johnson変換後の目的変数との相関\n",
    "app_train[['TARGET', 'br_cnt_amt_credit_sum_limit']].corr()"
   ]
  },
  {
   "cell_type": "code",
   "execution_count": null,
   "id": "60e5c950",
   "metadata": {},
   "outputs": [],
   "source": [
    "## Yao-Johnson変換後の特徴量の分布\n",
    "kde_target('br_cnt_amt_credit_sum_limit', app_train)"
   ]
  },
  {
   "cell_type": "markdown",
   "id": "573165ac",
   "metadata": {},
   "source": [
    "### br_stddev_amt_credit_sum_limit"
   ]
  },
  {
   "cell_type": "code",
   "execution_count": null,
   "id": "2a2a6eb4",
   "metadata": {},
   "outputs": [],
   "source": [
    "## 目的変数との相関\n",
    "app_train[['TARGET', 'br_stddev_amt_credit_sum_limit']].corr()"
   ]
  },
  {
   "cell_type": "code",
   "execution_count": null,
   "id": "c8937c2f",
   "metadata": {},
   "outputs": [],
   "source": [
    "## 特徴量の分布\n",
    "kde_target('br_stddev_amt_credit_sum_limit', app_train)"
   ]
  },
  {
   "cell_type": "code",
   "execution_count": null,
   "id": "104162c5",
   "metadata": {},
   "outputs": [],
   "source": [
    "## Yao-Johnson変換\n",
    "num_cols = ['br_stddev_amt_credit_sum_limit']\n",
    "### 学習データに基づいてYao-Johnson変換を定義\n",
    "pt = PowerTransformer(method = 'yeo-johnson')\n",
    "pt.fit(app_train[num_cols].copy())\n",
    "\n",
    "### 変換後のデータで各列を置換\n",
    "app_train['br_stddev_amt_credit_sum_limit'] = pt.transform(app_train[num_cols])\n",
    "app_test['br_stddev_amt_credit_sum_limit'] = pt.transform(app_test[num_cols])"
   ]
  },
  {
   "cell_type": "code",
   "execution_count": null,
   "id": "81c2e38f",
   "metadata": {},
   "outputs": [],
   "source": [
    "## Yao-Johnson変換後の目的変数との相関\n",
    "app_train[['TARGET', 'br_stddev_amt_credit_sum_limit']].corr()"
   ]
  },
  {
   "cell_type": "code",
   "execution_count": null,
   "id": "d08facdc",
   "metadata": {},
   "outputs": [],
   "source": [
    "## Yao-Johnson変換後の特徴量の分布\n",
    "kde_target('br_stddev_amt_credit_sum_limit', app_train)"
   ]
  },
  {
   "cell_type": "markdown",
   "id": "a8b12007",
   "metadata": {},
   "source": [
    "### br_stddev_pop_amt_credit_sum_limit"
   ]
  },
  {
   "cell_type": "code",
   "execution_count": null,
   "id": "7352015c",
   "metadata": {},
   "outputs": [],
   "source": [
    "## 目的変数との相関\n",
    "app_train[['TARGET', 'br_stddev_pop_amt_credit_sum_limit']].corr()"
   ]
  },
  {
   "cell_type": "code",
   "execution_count": null,
   "id": "5e044fe0",
   "metadata": {},
   "outputs": [],
   "source": [
    "## 特徴量の分布\n",
    "kde_target('br_stddev_pop_amt_credit_sum_limit', app_train)"
   ]
  },
  {
   "cell_type": "code",
   "execution_count": null,
   "id": "9bf513c4",
   "metadata": {},
   "outputs": [],
   "source": [
    "## Yao-Johnson変換\n",
    "num_cols = ['br_stddev_pop_amt_credit_sum_limit']\n",
    "### 学習データに基づいてYao-Johnson変換を定義\n",
    "pt = PowerTransformer(method = 'yeo-johnson')\n",
    "pt.fit(app_train[num_cols].copy())\n",
    "\n",
    "### 変換後のデータで各列を置換\n",
    "app_train['br_stddev_pop_amt_credit_sum_limit'] = pt.transform(app_train[num_cols])\n",
    "app_test['br_stddev_pop_amt_credit_sum_limit'] = pt.transform(app_test[num_cols])"
   ]
  },
  {
   "cell_type": "code",
   "execution_count": null,
   "id": "bb8c5e63",
   "metadata": {},
   "outputs": [],
   "source": [
    "## Yao-Johnson変換後の目的変数との相関\n",
    "app_train[['TARGET', 'br_stddev_pop_amt_credit_sum_limit']].corr()"
   ]
  },
  {
   "cell_type": "code",
   "execution_count": null,
   "id": "f23b2d9b",
   "metadata": {},
   "outputs": [],
   "source": [
    "## Yao-Johnson変換後の特徴量の分布\n",
    "kde_target('br_stddev_pop_amt_credit_sum_limit', app_train)"
   ]
  },
  {
   "cell_type": "markdown",
   "id": "5e41accc",
   "metadata": {},
   "source": [
    "### br_var_pop_amt_credit_sum_limit"
   ]
  },
  {
   "cell_type": "code",
   "execution_count": null,
   "id": "d45226f4",
   "metadata": {},
   "outputs": [],
   "source": [
    "## 目的変数との相関\n",
    "app_train[['TARGET', 'br_var_pop_amt_credit_sum_limit']].corr()"
   ]
  },
  {
   "cell_type": "code",
   "execution_count": null,
   "id": "85d89c65",
   "metadata": {},
   "outputs": [],
   "source": [
    "## 特徴量の分布\n",
    "kde_target('br_var_pop_amt_credit_sum_limit', app_train)"
   ]
  },
  {
   "cell_type": "code",
   "execution_count": null,
   "id": "183f4fb4",
   "metadata": {},
   "outputs": [],
   "source": [
    "## Yao-Johnson変換\n",
    "num_cols = ['br_var_pop_amt_credit_sum_limit']\n",
    "### 学習データに基づいてYao-Johnson変換を定義\n",
    "pt = PowerTransformer(method = 'yeo-johnson')\n",
    "pt.fit(app_train[num_cols].copy())\n",
    "\n",
    "### 変換後のデータで各列を置換\n",
    "app_train['br_var_pop_amt_credit_sum_limit'] = pt.transform(app_train[num_cols])\n",
    "app_test['br_var_pop_amt_credit_sum_limit'] = pt.transform(app_test[num_cols])"
   ]
  },
  {
   "cell_type": "code",
   "execution_count": null,
   "id": "643fa0f7",
   "metadata": {},
   "outputs": [],
   "source": [
    "## Yao-Johnson変換後の目的変数との相関\n",
    "app_train[['TARGET', 'br_var_pop_amt_credit_sum_limit']].corr()"
   ]
  },
  {
   "cell_type": "code",
   "execution_count": null,
   "id": "f898f33d",
   "metadata": {},
   "outputs": [],
   "source": [
    "## Yao-Johnson変換後の特徴量の分布\n",
    "kde_target('br_var_pop_amt_credit_sum_limit', app_train)"
   ]
  },
  {
   "cell_type": "markdown",
   "id": "2a04e97f",
   "metadata": {},
   "source": [
    "### br_var_samp_amt_credit_sum_limit"
   ]
  },
  {
   "cell_type": "code",
   "execution_count": null,
   "id": "de8fbe5b",
   "metadata": {},
   "outputs": [],
   "source": [
    "## 目的変数との相関\n",
    "app_train[['TARGET', 'br_var_samp_amt_credit_sum_limit']].corr()"
   ]
  },
  {
   "cell_type": "code",
   "execution_count": null,
   "id": "5993f5cb",
   "metadata": {},
   "outputs": [],
   "source": [
    "## 特徴量の分布\n",
    "kde_target('br_var_samp_amt_credit_sum_limit', app_train)"
   ]
  },
  {
   "cell_type": "code",
   "execution_count": null,
   "id": "85ea7099",
   "metadata": {},
   "outputs": [],
   "source": [
    "## Yao-Johnson変換\n",
    "num_cols = ['br_var_samp_amt_credit_sum_limit']\n",
    "### 学習データに基づいてYao-Johnson変換を定義\n",
    "pt = PowerTransformer(method = 'yeo-johnson')\n",
    "pt.fit(app_train[num_cols].copy())\n",
    "\n",
    "### 変換後のデータで各列を置換\n",
    "app_train['br_var_samp_amt_credit_sum_limit'] = pt.transform(app_train[num_cols])\n",
    "app_test['br_var_samp_amt_credit_sum_limit'] = pt.transform(app_test[num_cols])"
   ]
  },
  {
   "cell_type": "code",
   "execution_count": null,
   "id": "dc395c3f",
   "metadata": {},
   "outputs": [],
   "source": [
    "## Yao-Johnson変換後の目的変数との相関\n",
    "app_train[['TARGET', 'br_var_samp_amt_credit_sum_limit']].corr()"
   ]
  },
  {
   "cell_type": "code",
   "execution_count": null,
   "id": "51b29ab0",
   "metadata": {},
   "outputs": [],
   "source": [
    "## Yao-Johnson変換後の特徴量の分布\n",
    "kde_target('br_var_samp_amt_credit_sum_limit', app_train)"
   ]
  },
  {
   "cell_type": "markdown",
   "id": "aafeb294",
   "metadata": {},
   "source": [
    "### br_variance_pop_amt_credit_sum_limit"
   ]
  },
  {
   "cell_type": "code",
   "execution_count": null,
   "id": "83ea1391",
   "metadata": {},
   "outputs": [],
   "source": [
    "## 目的変数との相関\n",
    "app_train[['TARGET', 'br_variance_pop_amt_credit_sum_limit']].corr()"
   ]
  },
  {
   "cell_type": "code",
   "execution_count": null,
   "id": "2471448f",
   "metadata": {},
   "outputs": [],
   "source": [
    "## 特徴量の分布\n",
    "kde_target('br_variance_pop_amt_credit_sum_limit', app_train)"
   ]
  },
  {
   "cell_type": "code",
   "execution_count": null,
   "id": "f54f90a6",
   "metadata": {},
   "outputs": [],
   "source": [
    "## Yao-Johnson変換\n",
    "num_cols = ['br_variance_pop_amt_credit_sum_limit']\n",
    "### 学習データに基づいてYao-Johnson変換を定義\n",
    "pt = PowerTransformer(method = 'yeo-johnson')\n",
    "pt.fit(app_train[num_cols].copy())\n",
    "\n",
    "### 変換後のデータで各列を置換\n",
    "app_train['br_variance_pop_amt_credit_sum_limit'] = pt.transform(app_train[num_cols])\n",
    "app_test['br_variance_pop_amt_credit_sum_limit'] = pt.transform(app_test[num_cols])"
   ]
  },
  {
   "cell_type": "code",
   "execution_count": null,
   "id": "a09a3a43",
   "metadata": {},
   "outputs": [],
   "source": [
    "## Yao-Johnson変換後の目的変数との相関\n",
    "app_train[['TARGET', 'br_variance_pop_amt_credit_sum_limit']].corr()"
   ]
  },
  {
   "cell_type": "code",
   "execution_count": null,
   "id": "299d4b36",
   "metadata": {},
   "outputs": [],
   "source": [
    "## Yao-Johnson変換後の特徴量の分布\n",
    "kde_target('br_variance_pop_amt_credit_sum_limit', app_train)"
   ]
  },
  {
   "cell_type": "markdown",
   "id": "5f0c2fdd",
   "metadata": {},
   "source": [
    "### br_min_amt_credit_sum_overdue"
   ]
  },
  {
   "cell_type": "code",
   "execution_count": null,
   "id": "b984bd8e",
   "metadata": {},
   "outputs": [],
   "source": [
    "## 目的変数との相関\n",
    "app_train[['TARGET', 'br_min_amt_credit_sum_overdue']].corr()"
   ]
  },
  {
   "cell_type": "code",
   "execution_count": null,
   "id": "8bc174c1",
   "metadata": {},
   "outputs": [],
   "source": [
    "## 特徴量の分布\n",
    "kde_target('br_min_amt_credit_sum_overdue', app_train)"
   ]
  },
  {
   "cell_type": "code",
   "execution_count": null,
   "id": "fed37b99",
   "metadata": {},
   "outputs": [],
   "source": [
    "## Yao-Johnson変換\n",
    "num_cols = ['br_min_amt_credit_sum_overdue']\n",
    "### 学習データに基づいてYao-Johnson変換を定義\n",
    "pt = PowerTransformer(method = 'yeo-johnson')\n",
    "pt.fit(app_train[num_cols].copy())\n",
    "\n",
    "### 変換後のデータで各列を置換\n",
    "app_train['br_min_amt_credit_sum_overdue'] = pt.transform(app_train[num_cols])\n",
    "app_test['br_min_amt_credit_sum_overdue'] = pt.transform(app_test[num_cols])"
   ]
  },
  {
   "cell_type": "code",
   "execution_count": null,
   "id": "e430c3ac",
   "metadata": {},
   "outputs": [],
   "source": [
    "## Yao-Johnson変換後の目的変数との相関\n",
    "app_train[['TARGET', 'br_min_amt_credit_sum_overdue']].corr()"
   ]
  },
  {
   "cell_type": "code",
   "execution_count": null,
   "id": "06fd8479",
   "metadata": {},
   "outputs": [],
   "source": [
    "## Yao-Johnson変換後の特徴量の分布\n",
    "kde_target('br_min_amt_credit_sum_overdue', app_train)"
   ]
  },
  {
   "cell_type": "code",
   "execution_count": null,
   "id": "68f8ffc4",
   "metadata": {},
   "outputs": [],
   "source": [
    "app_train.drop(['br_min_amt_credit_sum_overdue'], axis=1, inplace=True)\n",
    "app_test.drop(['br_min_amt_credit_sum_overdue'], axis=1, inplace=True)"
   ]
  },
  {
   "cell_type": "markdown",
   "id": "a947a691",
   "metadata": {},
   "source": [
    "### br_max_amt_credit_sum_overdue"
   ]
  },
  {
   "cell_type": "code",
   "execution_count": null,
   "id": "1025e83c",
   "metadata": {},
   "outputs": [],
   "source": [
    "## 目的変数との相関\n",
    "app_train[['TARGET', 'br_max_amt_credit_sum_overdue']].corr()"
   ]
  },
  {
   "cell_type": "code",
   "execution_count": null,
   "id": "2119e463",
   "metadata": {},
   "outputs": [],
   "source": [
    "## 特徴量の分布\n",
    "kde_target('br_max_amt_credit_sum_overdue', app_train)"
   ]
  },
  {
   "cell_type": "code",
   "execution_count": null,
   "id": "d4d91d59",
   "metadata": {},
   "outputs": [],
   "source": [
    "## Yao-Johnson変換\n",
    "num_cols = ['br_max_amt_credit_sum_overdue']\n",
    "### 学習データに基づいてYao-Johnson変換を定義\n",
    "pt = PowerTransformer(method = 'yeo-johnson')\n",
    "pt.fit(app_train[num_cols].copy())\n",
    "\n",
    "### 変換後のデータで各列を置換\n",
    "app_train['br_max_amt_credit_sum_overdue'] = pt.transform(app_train[num_cols])\n",
    "app_test['br_max_amt_credit_sum_overdue'] = pt.transform(app_test[num_cols])"
   ]
  },
  {
   "cell_type": "code",
   "execution_count": null,
   "id": "83401534",
   "metadata": {},
   "outputs": [],
   "source": [
    "## Yao-Johnson変換後の目的変数との相関\n",
    "app_train[['TARGET', 'br_max_amt_credit_sum_overdue']].corr()"
   ]
  },
  {
   "cell_type": "code",
   "execution_count": null,
   "id": "b42c854e",
   "metadata": {},
   "outputs": [],
   "source": [
    "## Yao-Johnson変換後の特徴量の分布\n",
    "kde_target('br_max_amt_credit_sum_overdue', app_train)"
   ]
  },
  {
   "cell_type": "markdown",
   "id": "20d4bd90",
   "metadata": {},
   "source": [
    "### br_sum_amt_credit_sum_overdue"
   ]
  },
  {
   "cell_type": "code",
   "execution_count": null,
   "id": "a4703ae9",
   "metadata": {},
   "outputs": [],
   "source": [
    "## 目的変数との相関\n",
    "app_train[['TARGET', 'br_sum_amt_credit_sum_overdue']].corr()"
   ]
  },
  {
   "cell_type": "code",
   "execution_count": null,
   "id": "29154b4a",
   "metadata": {},
   "outputs": [],
   "source": [
    "## 特徴量の分布\n",
    "kde_target('br_sum_amt_credit_sum_overdue', app_train)"
   ]
  },
  {
   "cell_type": "code",
   "execution_count": null,
   "id": "ad5d9ea6",
   "metadata": {},
   "outputs": [],
   "source": [
    "## Yao-Johnson変換\n",
    "num_cols = ['br_sum_amt_credit_sum_overdue']\n",
    "### 学習データに基づいてYao-Johnson変換を定義\n",
    "pt = PowerTransformer(method = 'yeo-johnson')\n",
    "pt.fit(app_train[num_cols].copy())\n",
    "\n",
    "### 変換後のデータで各列を置換\n",
    "app_train['br_sum_amt_credit_sum_overdue'] = pt.transform(app_train[num_cols])\n",
    "app_test['br_sum_amt_credit_sum_overdue'] = pt.transform(app_test[num_cols])"
   ]
  },
  {
   "cell_type": "code",
   "execution_count": null,
   "id": "24bef740",
   "metadata": {},
   "outputs": [],
   "source": [
    "## Yao-Johnson変換後の目的変数との相関\n",
    "app_train[['TARGET', 'br_sum_amt_credit_sum_overdue']].corr()"
   ]
  },
  {
   "cell_type": "code",
   "execution_count": null,
   "id": "9bf41708",
   "metadata": {},
   "outputs": [],
   "source": [
    "## Yao-Johnson変換後の特徴量の分布\n",
    "kde_target('br_sum_amt_credit_sum_overdue', app_train)"
   ]
  },
  {
   "cell_type": "markdown",
   "id": "1e755498",
   "metadata": {},
   "source": [
    "### br_avg_amt_credit_sum_overdue"
   ]
  },
  {
   "cell_type": "code",
   "execution_count": null,
   "id": "8adb7e41",
   "metadata": {},
   "outputs": [],
   "source": [
    "## 目的変数との相関\n",
    "app_train[['TARGET', 'br_avg_amt_credit_sum_overdue']].corr()"
   ]
  },
  {
   "cell_type": "code",
   "execution_count": null,
   "id": "289139f7",
   "metadata": {},
   "outputs": [],
   "source": [
    "## 特徴量の分布\n",
    "kde_target('br_avg_amt_credit_sum_overdue', app_train)"
   ]
  },
  {
   "cell_type": "code",
   "execution_count": null,
   "id": "c8193a2f",
   "metadata": {},
   "outputs": [],
   "source": [
    "## Yao-Johnson変換\n",
    "num_cols = ['br_avg_amt_credit_sum_overdue']\n",
    "### 学習データに基づいてYao-Johnson変換を定義\n",
    "pt = PowerTransformer(method = 'yeo-johnson')\n",
    "pt.fit(app_train[num_cols].copy())\n",
    "\n",
    "### 変換後のデータで各列を置換\n",
    "app_train['br_avg_amt_credit_sum_overdue'] = pt.transform(app_train[num_cols])\n",
    "app_test['br_avg_amt_credit_sum_overdue'] = pt.transform(app_test[num_cols])"
   ]
  },
  {
   "cell_type": "code",
   "execution_count": null,
   "id": "a1431a73",
   "metadata": {},
   "outputs": [],
   "source": [
    "## Yao-Johnson変換後の目的変数との相関\n",
    "app_train[['TARGET', 'br_avg_amt_credit_sum_overdue']].corr()"
   ]
  },
  {
   "cell_type": "code",
   "execution_count": null,
   "id": "c0d2ffe9",
   "metadata": {},
   "outputs": [],
   "source": [
    "## Yao-Johnson変換後の特徴量の分布\n",
    "kde_target('br_avg_amt_credit_sum_overdue', app_train)"
   ]
  },
  {
   "cell_type": "markdown",
   "id": "d31ffddc",
   "metadata": {},
   "source": [
    "### br_cnt_amt_credit_sum_overdue"
   ]
  },
  {
   "cell_type": "code",
   "execution_count": null,
   "id": "a52bcb6d",
   "metadata": {},
   "outputs": [],
   "source": [
    "## 目的変数との相関\n",
    "app_train[['TARGET', 'br_cnt_amt_credit_sum_overdue']].corr()"
   ]
  },
  {
   "cell_type": "code",
   "execution_count": null,
   "id": "53eee533",
   "metadata": {},
   "outputs": [],
   "source": [
    "## 特徴量の分布\n",
    "kde_target('br_cnt_amt_credit_sum_overdue', app_train)"
   ]
  },
  {
   "cell_type": "code",
   "execution_count": null,
   "id": "83c5a928",
   "metadata": {},
   "outputs": [],
   "source": [
    "## Yao-Johnson変換\n",
    "num_cols = ['br_cnt_amt_credit_sum_overdue']\n",
    "### 学習データに基づいてYao-Johnson変換を定義\n",
    "pt = PowerTransformer(method = 'yeo-johnson')\n",
    "pt.fit(app_train[num_cols].copy())\n",
    "\n",
    "### 変換後のデータで各列を置換\n",
    "app_train['br_cnt_amt_credit_sum_overdue'] = pt.transform(app_train[num_cols])\n",
    "app_test['br_cnt_amt_credit_sum_overdue'] = pt.transform(app_test[num_cols])"
   ]
  },
  {
   "cell_type": "code",
   "execution_count": null,
   "id": "fad4656f",
   "metadata": {},
   "outputs": [],
   "source": [
    "## Yao-Johnson変換後の目的変数との相関\n",
    "app_train[['TARGET', 'br_cnt_amt_credit_sum_overdue']].corr()"
   ]
  },
  {
   "cell_type": "code",
   "execution_count": null,
   "id": "9b7ea910",
   "metadata": {},
   "outputs": [],
   "source": [
    "## Yao-Johnson変換後の特徴量の分布\n",
    "kde_target('br_cnt_amt_credit_sum_overdue', app_train)"
   ]
  },
  {
   "cell_type": "markdown",
   "id": "7c89b1bc",
   "metadata": {},
   "source": [
    "### br_stddev_amt_credit_sum_overdue"
   ]
  },
  {
   "cell_type": "code",
   "execution_count": null,
   "id": "1329de90",
   "metadata": {},
   "outputs": [],
   "source": [
    "## 目的変数との相関\n",
    "app_train[['TARGET', 'br_stddev_amt_credit_sum_overdue']].corr()"
   ]
  },
  {
   "cell_type": "code",
   "execution_count": null,
   "id": "0e27e425",
   "metadata": {},
   "outputs": [],
   "source": [
    "## 特徴量の分布\n",
    "kde_target('br_stddev_amt_credit_sum_overdue', app_train)"
   ]
  },
  {
   "cell_type": "code",
   "execution_count": null,
   "id": "0057d260",
   "metadata": {},
   "outputs": [],
   "source": [
    "## Yao-Johnson変換\n",
    "num_cols = ['br_stddev_amt_credit_sum_overdue']\n",
    "### 学習データに基づいてYao-Johnson変換を定義\n",
    "pt = PowerTransformer(method = 'yeo-johnson')\n",
    "pt.fit(app_train[num_cols].copy())\n",
    "\n",
    "### 変換後のデータで各列を置換\n",
    "app_train['br_stddev_amt_credit_sum_overdue'] = pt.transform(app_train[num_cols])\n",
    "app_test['br_stddev_amt_credit_sum_overdue'] = pt.transform(app_test[num_cols])"
   ]
  },
  {
   "cell_type": "code",
   "execution_count": null,
   "id": "089be34e",
   "metadata": {},
   "outputs": [],
   "source": [
    "## Yao-Johnson変換後の目的変数との相関\n",
    "app_train[['TARGET', 'br_stddev_amt_credit_sum_overdue']].corr()"
   ]
  },
  {
   "cell_type": "code",
   "execution_count": null,
   "id": "5a059a0e",
   "metadata": {},
   "outputs": [],
   "source": [
    "## Yao-Johnson変換後の特徴量の分布\n",
    "kde_target('br_stddev_amt_credit_sum_overdue', app_train)"
   ]
  },
  {
   "cell_type": "markdown",
   "id": "d11007a3",
   "metadata": {},
   "source": [
    "### br_stddev_pop_amt_credit_sum_overdue"
   ]
  },
  {
   "cell_type": "code",
   "execution_count": null,
   "id": "d6870370",
   "metadata": {},
   "outputs": [],
   "source": [
    "## 目的変数との相関\n",
    "app_train[['TARGET', 'br_stddev_pop_amt_credit_sum_overdue']].corr()"
   ]
  },
  {
   "cell_type": "code",
   "execution_count": null,
   "id": "0f2df145",
   "metadata": {},
   "outputs": [],
   "source": [
    "## 特徴量の分布\n",
    "kde_target('br_stddev_pop_amt_credit_sum_overdue', app_train)"
   ]
  },
  {
   "cell_type": "code",
   "execution_count": null,
   "id": "a58a04e5",
   "metadata": {},
   "outputs": [],
   "source": [
    "## Yao-Johnson変換\n",
    "num_cols = ['br_stddev_pop_amt_credit_sum_overdue']\n",
    "### 学習データに基づいてYao-Johnson変換を定義\n",
    "pt = PowerTransformer(method = 'yeo-johnson')\n",
    "pt.fit(app_train[num_cols].copy())\n",
    "\n",
    "### 変換後のデータで各列を置換\n",
    "app_train['br_stddev_pop_amt_credit_sum_overdue'] = pt.transform(app_train[num_cols])\n",
    "app_test['br_stddev_pop_amt_credit_sum_overdue'] = pt.transform(app_test[num_cols])"
   ]
  },
  {
   "cell_type": "code",
   "execution_count": null,
   "id": "370ea90b",
   "metadata": {},
   "outputs": [],
   "source": [
    "## Yao-Johnson変換後の目的変数との相関\n",
    "app_train[['TARGET', 'br_stddev_pop_amt_credit_sum_overdue']].corr()"
   ]
  },
  {
   "cell_type": "code",
   "execution_count": null,
   "id": "528be753",
   "metadata": {},
   "outputs": [],
   "source": [
    "## Yao-Johnson変換後の特徴量の分布\n",
    "kde_target('br_stddev_pop_amt_credit_sum_overdue', app_train)"
   ]
  },
  {
   "cell_type": "markdown",
   "id": "fe8a6775",
   "metadata": {},
   "source": [
    "### br_var_pop_amt_credit_sum_overdue"
   ]
  },
  {
   "cell_type": "code",
   "execution_count": null,
   "id": "daf16a4c",
   "metadata": {},
   "outputs": [],
   "source": [
    "## 目的変数との相関\n",
    "app_train[['TARGET', 'br_var_pop_amt_credit_sum_overdue']].corr()"
   ]
  },
  {
   "cell_type": "code",
   "execution_count": null,
   "id": "5b8e33ba",
   "metadata": {},
   "outputs": [],
   "source": [
    "## 特徴量の分布\n",
    "kde_target('br_var_pop_amt_credit_sum_overdue', app_train)"
   ]
  },
  {
   "cell_type": "code",
   "execution_count": null,
   "id": "651cf3e5",
   "metadata": {},
   "outputs": [],
   "source": [
    "## Yao-Johnson変換\n",
    "num_cols = ['br_var_pop_amt_credit_sum_overdue']\n",
    "### 学習データに基づいてYao-Johnson変換を定義\n",
    "pt = PowerTransformer(method = 'yeo-johnson')\n",
    "pt.fit(app_train[num_cols].copy())\n",
    "\n",
    "### 変換後のデータで各列を置換\n",
    "app_train['br_var_pop_amt_credit_sum_overdue'] = pt.transform(app_train[num_cols])\n",
    "app_test['br_var_pop_amt_credit_sum_overdue'] = pt.transform(app_test[num_cols])"
   ]
  },
  {
   "cell_type": "code",
   "execution_count": null,
   "id": "53c79234",
   "metadata": {},
   "outputs": [],
   "source": [
    "## Yao-Johnson変換後の目的変数との相関\n",
    "app_train[['TARGET', 'br_var_pop_amt_credit_sum_overdue']].corr()"
   ]
  },
  {
   "cell_type": "code",
   "execution_count": null,
   "id": "10854fb5",
   "metadata": {},
   "outputs": [],
   "source": [
    "## Yao-Johnson変換後の特徴量の分布\n",
    "kde_target('br_var_pop_amt_credit_sum_overdue', app_train)"
   ]
  },
  {
   "cell_type": "markdown",
   "id": "22beb6fe",
   "metadata": {},
   "source": [
    "### br_var_samp_amt_credit_sum_overdue"
   ]
  },
  {
   "cell_type": "code",
   "execution_count": null,
   "id": "4bc0116d",
   "metadata": {},
   "outputs": [],
   "source": [
    "## 目的変数との相関\n",
    "app_train[['TARGET', 'br_var_samp_amt_credit_sum_overdue']].corr()"
   ]
  },
  {
   "cell_type": "code",
   "execution_count": null,
   "id": "a7650f5c",
   "metadata": {},
   "outputs": [],
   "source": [
    "## 特徴量の分布\n",
    "kde_target('br_var_samp_amt_credit_sum_overdue', app_train)"
   ]
  },
  {
   "cell_type": "code",
   "execution_count": null,
   "id": "11eabc79",
   "metadata": {},
   "outputs": [],
   "source": [
    "## Yao-Johnson変換\n",
    "num_cols = ['br_var_samp_amt_credit_sum_overdue']\n",
    "### 学習データに基づいてYao-Johnson変換を定義\n",
    "pt = PowerTransformer(method = 'yeo-johnson')\n",
    "pt.fit(app_train[num_cols].copy())\n",
    "\n",
    "### 変換後のデータで各列を置換\n",
    "app_train['br_var_samp_amt_credit_sum_overdue'] = pt.transform(app_train[num_cols])\n",
    "app_test['br_var_samp_amt_credit_sum_overdue'] = pt.transform(app_test[num_cols])"
   ]
  },
  {
   "cell_type": "code",
   "execution_count": null,
   "id": "c863f50f",
   "metadata": {},
   "outputs": [],
   "source": [
    "## Yao-Johnson変換後の目的変数との相関\n",
    "app_train[['TARGET', 'br_var_samp_amt_credit_sum_overdue']].corr()"
   ]
  },
  {
   "cell_type": "code",
   "execution_count": null,
   "id": "ad973ca2",
   "metadata": {},
   "outputs": [],
   "source": [
    "## Yao-Johnson変換後の特徴量の分布\n",
    "kde_target('br_var_samp_amt_credit_sum_overdue', app_train)"
   ]
  },
  {
   "cell_type": "markdown",
   "id": "25f4ba00",
   "metadata": {},
   "source": [
    "### br_variance_pop_amt_credit_sum_overdue"
   ]
  },
  {
   "cell_type": "code",
   "execution_count": null,
   "id": "839968fe",
   "metadata": {},
   "outputs": [],
   "source": [
    "## 目的変数との相関\n",
    "app_train[['TARGET', 'br_variance_pop_amt_credit_sum_overdue']].corr()"
   ]
  },
  {
   "cell_type": "code",
   "execution_count": null,
   "id": "f8cf0ee4",
   "metadata": {},
   "outputs": [],
   "source": [
    "## 特徴量の分布\n",
    "kde_target('br_variance_pop_amt_credit_sum_overdue', app_train)"
   ]
  },
  {
   "cell_type": "code",
   "execution_count": null,
   "id": "639de6da",
   "metadata": {},
   "outputs": [],
   "source": [
    "## Yao-Johnson変換\n",
    "num_cols = ['br_variance_pop_amt_credit_sum_overdue']\n",
    "### 学習データに基づいてYao-Johnson変換を定義\n",
    "pt = PowerTransformer(method = 'yeo-johnson')\n",
    "pt.fit(app_train[num_cols].copy())\n",
    "\n",
    "### 変換後のデータで各列を置換\n",
    "app_train['br_variance_pop_amt_credit_sum_overdue'] = pt.transform(app_train[num_cols])\n",
    "app_test['br_variance_pop_amt_credit_sum_overdue'] = pt.transform(app_test[num_cols])"
   ]
  },
  {
   "cell_type": "code",
   "execution_count": null,
   "id": "954fe74e",
   "metadata": {},
   "outputs": [],
   "source": [
    "## Yao-Johnson変換後の目的変数との相関\n",
    "app_train[['TARGET', 'br_variance_pop_amt_credit_sum_overdue']].corr()"
   ]
  },
  {
   "cell_type": "code",
   "execution_count": null,
   "id": "fa3a1d4f",
   "metadata": {},
   "outputs": [],
   "source": [
    "## Yao-Johnson変換後の特徴量の分布\n",
    "kde_target('br_variance_pop_amt_credit_sum_overdue', app_train)"
   ]
  },
  {
   "cell_type": "markdown",
   "id": "04b1fb2b",
   "metadata": {},
   "source": [
    "### br_min_days_credit_update"
   ]
  },
  {
   "cell_type": "code",
   "execution_count": null,
   "id": "b9fe1e1c",
   "metadata": {},
   "outputs": [],
   "source": [
    "## 目的変数との相関\n",
    "app_train[['TARGET', 'br_min_days_credit_update']].corr()"
   ]
  },
  {
   "cell_type": "code",
   "execution_count": null,
   "id": "3dadf165",
   "metadata": {},
   "outputs": [],
   "source": [
    "## 特徴量の分布\n",
    "kde_target('br_min_days_credit_update', app_train)"
   ]
  },
  {
   "cell_type": "code",
   "execution_count": null,
   "id": "85a56200",
   "metadata": {},
   "outputs": [],
   "source": [
    "## Yao-Johnson変換\n",
    "num_cols = ['br_min_days_credit_update']\n",
    "### 学習データに基づいてYao-Johnson変換を定義\n",
    "pt = PowerTransformer(method = 'yeo-johnson')\n",
    "pt.fit(app_train[num_cols].copy())\n",
    "\n",
    "### 変換後のデータで各列を置換\n",
    "app_train['br_min_days_credit_update'] = pt.transform(app_train[num_cols])\n",
    "app_test['br_min_days_credit_update'] = pt.transform(app_test[num_cols])"
   ]
  },
  {
   "cell_type": "code",
   "execution_count": null,
   "id": "ff1fb59c",
   "metadata": {},
   "outputs": [],
   "source": [
    "## Yao-Johnson変換後の目的変数との相関\n",
    "app_train[['TARGET', 'br_min_days_credit_update']].corr()"
   ]
  },
  {
   "cell_type": "code",
   "execution_count": null,
   "id": "bcfc3072",
   "metadata": {},
   "outputs": [],
   "source": [
    "## Yao-Johnson変換後の特徴量の分布\n",
    "kde_target('br_min_days_credit_update', app_train)"
   ]
  },
  {
   "cell_type": "markdown",
   "id": "17274b4b",
   "metadata": {},
   "source": [
    "### br_max_days_credit_update"
   ]
  },
  {
   "cell_type": "code",
   "execution_count": null,
   "id": "8790f1a8",
   "metadata": {},
   "outputs": [],
   "source": [
    "## 目的変数との相関\n",
    "app_train[['TARGET', 'br_max_days_credit_update']].corr()"
   ]
  },
  {
   "cell_type": "code",
   "execution_count": null,
   "id": "b2d9c229",
   "metadata": {},
   "outputs": [],
   "source": [
    "## 特徴量の分布\n",
    "kde_target('br_max_days_credit_update', app_train)"
   ]
  },
  {
   "cell_type": "code",
   "execution_count": null,
   "id": "43d26d53",
   "metadata": {},
   "outputs": [],
   "source": [
    "## Yao-Johnson変換\n",
    "num_cols = ['br_max_days_credit_update']\n",
    "### 学習データに基づいてYao-Johnson変換を定義\n",
    "pt = PowerTransformer(method = 'yeo-johnson')\n",
    "pt.fit(app_train[num_cols].copy())\n",
    "\n",
    "### 変換後のデータで各列を置換\n",
    "app_train['br_max_days_credit_update'] = pt.transform(app_train[num_cols])\n",
    "app_test['br_max_days_credit_update'] = pt.transform(app_test[num_cols])"
   ]
  },
  {
   "cell_type": "code",
   "execution_count": null,
   "id": "aad43f61",
   "metadata": {},
   "outputs": [],
   "source": [
    "## Yao-Johnson変換後の目的変数との相関\n",
    "app_train[['TARGET', 'br_max_days_credit_update']].corr()"
   ]
  },
  {
   "cell_type": "code",
   "execution_count": null,
   "id": "16c26bc2",
   "metadata": {},
   "outputs": [],
   "source": [
    "## Yao-Johnson変換後の特徴量の分布\n",
    "kde_target('br_max_days_credit_update', app_train)"
   ]
  },
  {
   "cell_type": "markdown",
   "id": "e3e9aa1c",
   "metadata": {},
   "source": [
    "### br_sum_days_credit_update"
   ]
  },
  {
   "cell_type": "code",
   "execution_count": null,
   "id": "308f0955",
   "metadata": {},
   "outputs": [],
   "source": [
    "## 目的変数との相関\n",
    "app_train[['TARGET', 'br_sum_days_credit_update']].corr()"
   ]
  },
  {
   "cell_type": "code",
   "execution_count": null,
   "id": "1c867ce3",
   "metadata": {},
   "outputs": [],
   "source": [
    "## 特徴量の分布\n",
    "kde_target('br_sum_days_credit_update', app_train)"
   ]
  },
  {
   "cell_type": "code",
   "execution_count": null,
   "id": "6d95c121",
   "metadata": {},
   "outputs": [],
   "source": [
    "## Yao-Johnson変換\n",
    "num_cols = ['br_sum_days_credit_update']\n",
    "### 学習データに基づいてYao-Johnson変換を定義\n",
    "pt = PowerTransformer(method = 'yeo-johnson')\n",
    "pt.fit(app_train[num_cols].copy())\n",
    "\n",
    "### 変換後のデータで各列を置換\n",
    "app_train['br_sum_days_credit_update'] = pt.transform(app_train[num_cols])\n",
    "app_test['br_sum_days_credit_update'] = pt.transform(app_test[num_cols])"
   ]
  },
  {
   "cell_type": "code",
   "execution_count": null,
   "id": "c4cbcde3",
   "metadata": {},
   "outputs": [],
   "source": [
    "## Yao-Johnson変換後の目的変数との相関\n",
    "app_train[['TARGET', 'br_sum_days_credit_update']].corr()"
   ]
  },
  {
   "cell_type": "code",
   "execution_count": null,
   "id": "1f6b0d2b",
   "metadata": {},
   "outputs": [],
   "source": [
    "## Yao-Johnson変換後の特徴量の分布\n",
    "kde_target('br_sum_days_credit_update', app_train)"
   ]
  },
  {
   "cell_type": "markdown",
   "id": "573a0bd2",
   "metadata": {},
   "source": [
    "### br_avg_days_credit_update"
   ]
  },
  {
   "cell_type": "code",
   "execution_count": null,
   "id": "9b456f29",
   "metadata": {},
   "outputs": [],
   "source": [
    "## 目的変数との相関\n",
    "app_train[['TARGET', 'br_avg_days_credit_update']].corr()"
   ]
  },
  {
   "cell_type": "code",
   "execution_count": null,
   "id": "9999a29f",
   "metadata": {},
   "outputs": [],
   "source": [
    "## 特徴量の分布\n",
    "kde_target('br_avg_days_credit_update', app_train)"
   ]
  },
  {
   "cell_type": "code",
   "execution_count": null,
   "id": "041dfefd",
   "metadata": {},
   "outputs": [],
   "source": [
    "## Yao-Johnson変換\n",
    "num_cols = ['br_avg_days_credit_update']\n",
    "### 学習データに基づいてYao-Johnson変換を定義\n",
    "pt = PowerTransformer(method = 'yeo-johnson')\n",
    "pt.fit(app_train[num_cols].copy())\n",
    "\n",
    "### 変換後のデータで各列を置換\n",
    "app_train['br_avg_days_credit_update'] = pt.transform(app_train[num_cols])\n",
    "app_test['br_avg_days_credit_update'] = pt.transform(app_test[num_cols])"
   ]
  },
  {
   "cell_type": "code",
   "execution_count": null,
   "id": "50140d92",
   "metadata": {},
   "outputs": [],
   "source": [
    "## Yao-Johnson変換後の目的変数との相関\n",
    "app_train[['TARGET', 'br_avg_days_credit_update']].corr()"
   ]
  },
  {
   "cell_type": "code",
   "execution_count": null,
   "id": "7c82822e",
   "metadata": {},
   "outputs": [],
   "source": [
    "## Yao-Johnson変換後の特徴量の分布\n",
    "kde_target('br_avg_days_credit_update', app_train)"
   ]
  },
  {
   "cell_type": "markdown",
   "id": "4988b709",
   "metadata": {},
   "source": [
    "### br_cnt_days_credit_update"
   ]
  },
  {
   "cell_type": "code",
   "execution_count": null,
   "id": "5706f01c",
   "metadata": {},
   "outputs": [],
   "source": [
    "## 目的変数との相関\n",
    "app_train[['TARGET', 'br_cnt_days_credit_update']].corr()"
   ]
  },
  {
   "cell_type": "code",
   "execution_count": null,
   "id": "87b86646",
   "metadata": {},
   "outputs": [],
   "source": [
    "## 特徴量の分布\n",
    "kde_target('br_cnt_days_credit_update', app_train)"
   ]
  },
  {
   "cell_type": "code",
   "execution_count": null,
   "id": "0b5128aa",
   "metadata": {},
   "outputs": [],
   "source": [
    "## Yao-Johnson変換\n",
    "num_cols = ['br_cnt_days_credit_update']\n",
    "### 学習データに基づいてYao-Johnson変換を定義\n",
    "pt = PowerTransformer(method = 'yeo-johnson')\n",
    "pt.fit(app_train[num_cols].copy())\n",
    "\n",
    "### 変換後のデータで各列を置換\n",
    "app_train['br_cnt_days_credit_update'] = pt.transform(app_train[num_cols])\n",
    "app_test['br_cnt_days_credit_update'] = pt.transform(app_test[num_cols])"
   ]
  },
  {
   "cell_type": "code",
   "execution_count": null,
   "id": "0ae6ed2a",
   "metadata": {},
   "outputs": [],
   "source": [
    "## Yao-Johnson変換後の目的変数との相関\n",
    "app_train[['TARGET', 'br_cnt_days_credit_update']].corr()"
   ]
  },
  {
   "cell_type": "code",
   "execution_count": null,
   "id": "0d620186",
   "metadata": {},
   "outputs": [],
   "source": [
    "## Yao-Johnson変換後の特徴量の分布\n",
    "kde_target('br_cnt_days_credit_update', app_train)"
   ]
  },
  {
   "cell_type": "markdown",
   "id": "6bf45f76",
   "metadata": {},
   "source": [
    "### br_stddev_days_credit_update"
   ]
  },
  {
   "cell_type": "code",
   "execution_count": null,
   "id": "50362c9a",
   "metadata": {},
   "outputs": [],
   "source": [
    "## 目的変数との相関\n",
    "app_train[['TARGET', 'br_stddev_days_credit_update']].corr()"
   ]
  },
  {
   "cell_type": "code",
   "execution_count": null,
   "id": "89012800",
   "metadata": {},
   "outputs": [],
   "source": [
    "## 特徴量の分布\n",
    "kde_target('br_stddev_days_credit_update', app_train)"
   ]
  },
  {
   "cell_type": "code",
   "execution_count": null,
   "id": "e0e23ba8",
   "metadata": {},
   "outputs": [],
   "source": [
    "## Yao-Johnson変換\n",
    "num_cols = ['br_stddev_days_credit_update']\n",
    "### 学習データに基づいてYao-Johnson変換を定義\n",
    "pt = PowerTransformer(method = 'yeo-johnson')\n",
    "pt.fit(app_train[num_cols].copy())\n",
    "\n",
    "### 変換後のデータで各列を置換\n",
    "app_train['br_stddev_days_credit_update'] = pt.transform(app_train[num_cols])\n",
    "app_test['br_stddev_days_credit_update'] = pt.transform(app_test[num_cols])"
   ]
  },
  {
   "cell_type": "code",
   "execution_count": null,
   "id": "3e43cd01",
   "metadata": {},
   "outputs": [],
   "source": [
    "## Yao-Johnson変換後の目的変数との相関\n",
    "app_train[['TARGET', 'br_stddev_days_credit_update']].corr()"
   ]
  },
  {
   "cell_type": "code",
   "execution_count": null,
   "id": "e72e04d4",
   "metadata": {},
   "outputs": [],
   "source": [
    "## Yao-Johnson変換後の特徴量の分布\n",
    "kde_target('br_stddev_days_credit_update', app_train)"
   ]
  },
  {
   "cell_type": "markdown",
   "id": "53b79a10",
   "metadata": {},
   "source": [
    "### br_stddev_pop_days_credit_update"
   ]
  },
  {
   "cell_type": "code",
   "execution_count": null,
   "id": "591f74da",
   "metadata": {},
   "outputs": [],
   "source": [
    "## 目的変数との相関\n",
    "app_train[['TARGET', 'br_stddev_pop_days_credit_update']].corr()"
   ]
  },
  {
   "cell_type": "code",
   "execution_count": null,
   "id": "e363fc88",
   "metadata": {},
   "outputs": [],
   "source": [
    "## 特徴量の分布\n",
    "kde_target('br_stddev_pop_days_credit_update', app_train)"
   ]
  },
  {
   "cell_type": "code",
   "execution_count": null,
   "id": "5284f371",
   "metadata": {},
   "outputs": [],
   "source": [
    "## Yao-Johnson変換\n",
    "num_cols = ['br_stddev_pop_days_credit_update']\n",
    "### 学習データに基づいてYao-Johnson変換を定義\n",
    "pt = PowerTransformer(method = 'yeo-johnson')\n",
    "pt.fit(app_train[num_cols].copy())\n",
    "\n",
    "### 変換後のデータで各列を置換\n",
    "app_train['br_stddev_pop_days_credit_update'] = pt.transform(app_train[num_cols])\n",
    "app_test['br_stddev_pop_days_credit_update'] = pt.transform(app_test[num_cols])"
   ]
  },
  {
   "cell_type": "code",
   "execution_count": null,
   "id": "27c30655",
   "metadata": {},
   "outputs": [],
   "source": [
    "## Yao-Johnson変換後の目的変数との相関\n",
    "app_train[['TARGET', 'br_stddev_pop_days_credit_update']].corr()"
   ]
  },
  {
   "cell_type": "code",
   "execution_count": null,
   "id": "73cfb0b6",
   "metadata": {},
   "outputs": [],
   "source": [
    "## Yao-Johnson変換後の特徴量の分布\n",
    "kde_target('br_stddev_pop_days_credit_update', app_train)"
   ]
  },
  {
   "cell_type": "markdown",
   "id": "37a61580",
   "metadata": {},
   "source": [
    "### br_var_pop_days_credit_update"
   ]
  },
  {
   "cell_type": "code",
   "execution_count": null,
   "id": "3576bc5f",
   "metadata": {},
   "outputs": [],
   "source": [
    "## 目的変数との相関\n",
    "app_train[['TARGET', 'br_var_pop_days_credit_update']].corr()"
   ]
  },
  {
   "cell_type": "code",
   "execution_count": null,
   "id": "25ec8002",
   "metadata": {},
   "outputs": [],
   "source": [
    "## 特徴量の分布\n",
    "kde_target('br_var_pop_days_credit_update', app_train)"
   ]
  },
  {
   "cell_type": "code",
   "execution_count": null,
   "id": "11eb52e7",
   "metadata": {},
   "outputs": [],
   "source": [
    "## Yao-Johnson変換\n",
    "num_cols = ['br_var_pop_days_credit_update']\n",
    "### 学習データに基づいてYao-Johnson変換を定義\n",
    "pt = PowerTransformer(method = 'yeo-johnson')\n",
    "pt.fit(app_train[num_cols].copy())\n",
    "\n",
    "### 変換後のデータで各列を置換\n",
    "app_train['br_var_pop_days_credit_update'] = pt.transform(app_train[num_cols])\n",
    "app_test['br_var_pop_days_credit_update'] = pt.transform(app_test[num_cols])"
   ]
  },
  {
   "cell_type": "code",
   "execution_count": null,
   "id": "d898e283",
   "metadata": {},
   "outputs": [],
   "source": [
    "## Yao-Johnson変換後の目的変数との相関\n",
    "app_train[['TARGET', 'br_var_pop_days_credit_update']].corr()"
   ]
  },
  {
   "cell_type": "code",
   "execution_count": null,
   "id": "8a82d720",
   "metadata": {},
   "outputs": [],
   "source": [
    "## Yao-Johnson変換後の特徴量の分布\n",
    "kde_target('br_var_pop_days_credit_update', app_train)"
   ]
  },
  {
   "cell_type": "markdown",
   "id": "f46003a3",
   "metadata": {},
   "source": [
    "### br_var_samp_days_credit_update"
   ]
  },
  {
   "cell_type": "code",
   "execution_count": null,
   "id": "d084ba2e",
   "metadata": {},
   "outputs": [],
   "source": [
    "## 目的変数との相関\n",
    "app_train[['TARGET', 'br_var_samp_days_credit_update']].corr()"
   ]
  },
  {
   "cell_type": "code",
   "execution_count": null,
   "id": "be36d7fa",
   "metadata": {},
   "outputs": [],
   "source": [
    "## 特徴量の分布\n",
    "kde_target('br_var_samp_days_credit_update', app_train)"
   ]
  },
  {
   "cell_type": "code",
   "execution_count": null,
   "id": "95efd4dd",
   "metadata": {},
   "outputs": [],
   "source": [
    "## Yao-Johnson変換\n",
    "num_cols = ['br_var_samp_days_credit_update']\n",
    "### 学習データに基づいてYao-Johnson変換を定義\n",
    "pt = PowerTransformer(method = 'yeo-johnson')\n",
    "pt.fit(app_train[num_cols].copy())\n",
    "\n",
    "### 変換後のデータで各列を置換\n",
    "app_train['br_var_samp_days_credit_update'] = pt.transform(app_train[num_cols])\n",
    "app_test['br_var_samp_days_credit_update'] = pt.transform(app_test[num_cols])"
   ]
  },
  {
   "cell_type": "code",
   "execution_count": null,
   "id": "5460c0cb",
   "metadata": {},
   "outputs": [],
   "source": [
    "## Yao-Johnson変換後の目的変数との相関\n",
    "app_train[['TARGET', 'br_var_samp_days_credit_update']].corr()"
   ]
  },
  {
   "cell_type": "code",
   "execution_count": null,
   "id": "63f412ef",
   "metadata": {},
   "outputs": [],
   "source": [
    "## Yao-Johnson変換後の特徴量の分布\n",
    "kde_target('br_var_samp_days_credit_update', app_train)"
   ]
  },
  {
   "cell_type": "markdown",
   "id": "dc8b7302",
   "metadata": {},
   "source": [
    "### br_variance_pop_days_credit_update"
   ]
  },
  {
   "cell_type": "code",
   "execution_count": null,
   "id": "1449f56a",
   "metadata": {},
   "outputs": [],
   "source": [
    "## 目的変数との相関\n",
    "app_train[['TARGET', 'br_variance_pop_days_credit_update']].corr()"
   ]
  },
  {
   "cell_type": "code",
   "execution_count": null,
   "id": "d4f27445",
   "metadata": {},
   "outputs": [],
   "source": [
    "## 特徴量の分布\n",
    "kde_target('br_variance_pop_days_credit_update', app_train)"
   ]
  },
  {
   "cell_type": "code",
   "execution_count": null,
   "id": "3d792898",
   "metadata": {},
   "outputs": [],
   "source": [
    "## Yao-Johnson変換\n",
    "num_cols = ['br_variance_pop_days_credit_update']\n",
    "### 学習データに基づいてYao-Johnson変換を定義\n",
    "pt = PowerTransformer(method = 'yeo-johnson')\n",
    "pt.fit(app_train[num_cols].copy())\n",
    "\n",
    "### 変換後のデータで各列を置換\n",
    "app_train['br_variance_pop_days_credit_update'] = pt.transform(app_train[num_cols])\n",
    "app_test['br_variance_pop_days_credit_update'] = pt.transform(app_test[num_cols])"
   ]
  },
  {
   "cell_type": "code",
   "execution_count": null,
   "id": "47384ffa",
   "metadata": {},
   "outputs": [],
   "source": [
    "## Yao-Johnson変換後の目的変数との相関\n",
    "app_train[['TARGET', 'br_variance_pop_days_credit_update']].corr()"
   ]
  },
  {
   "cell_type": "code",
   "execution_count": null,
   "id": "62b05a9b",
   "metadata": {},
   "outputs": [],
   "source": [
    "## Yao-Johnson変換後の特徴量の分布\n",
    "kde_target('br_variance_pop_days_credit_update', app_train)"
   ]
  },
  {
   "cell_type": "markdown",
   "id": "03cbaf31",
   "metadata": {},
   "source": [
    "### br_min_amt_annuity"
   ]
  },
  {
   "cell_type": "code",
   "execution_count": null,
   "id": "5cc1db5c",
   "metadata": {},
   "outputs": [],
   "source": [
    "## 目的変数との相関\n",
    "app_train[['TARGET', 'br_min_amt_annuity']].corr()"
   ]
  },
  {
   "cell_type": "code",
   "execution_count": null,
   "id": "6b018004",
   "metadata": {},
   "outputs": [],
   "source": [
    "## 特徴量の分布\n",
    "kde_target('br_min_amt_annuity', app_train)"
   ]
  },
  {
   "cell_type": "code",
   "execution_count": null,
   "id": "7b60a43f",
   "metadata": {},
   "outputs": [],
   "source": [
    "## Yao-Johnson変換\n",
    "num_cols = ['br_min_amt_annuity']\n",
    "### 学習データに基づいてYao-Johnson変換を定義\n",
    "pt = PowerTransformer(method = 'yeo-johnson')\n",
    "pt.fit(app_train[num_cols].copy())\n",
    "\n",
    "### 変換後のデータで各列を置換\n",
    "app_train['br_min_amt_annuity'] = pt.transform(app_train[num_cols])\n",
    "app_test['br_min_amt_annuity'] = pt.transform(app_test[num_cols])"
   ]
  },
  {
   "cell_type": "code",
   "execution_count": null,
   "id": "c017a46f",
   "metadata": {},
   "outputs": [],
   "source": [
    "## Yao-Johnson変換後の目的変数との相関\n",
    "app_train[['TARGET', 'br_min_amt_annuity']].corr()"
   ]
  },
  {
   "cell_type": "code",
   "execution_count": null,
   "id": "54e8584e",
   "metadata": {},
   "outputs": [],
   "source": [
    "## Yao-Johnson変換後の特徴量の分布\n",
    "kde_target('br_min_amt_annuity', app_train)"
   ]
  },
  {
   "cell_type": "markdown",
   "id": "51e4d870",
   "metadata": {},
   "source": [
    "### br_max_amt_annuity"
   ]
  },
  {
   "cell_type": "code",
   "execution_count": null,
   "id": "d294cad4",
   "metadata": {},
   "outputs": [],
   "source": [
    "## 目的変数との相関\n",
    "app_train[['TARGET', 'br_max_amt_annuity']].corr()"
   ]
  },
  {
   "cell_type": "code",
   "execution_count": null,
   "id": "da803e98",
   "metadata": {},
   "outputs": [],
   "source": [
    "## 特徴量の分布\n",
    "kde_target('br_max_amt_annuity', app_train)"
   ]
  },
  {
   "cell_type": "code",
   "execution_count": null,
   "id": "f443149b",
   "metadata": {},
   "outputs": [],
   "source": [
    "## Yao-Johnson変換\n",
    "num_cols = ['br_max_amt_annuity']\n",
    "### 学習データに基づいてYao-Johnson変換を定義\n",
    "pt = PowerTransformer(method = 'yeo-johnson')\n",
    "pt.fit(app_train[num_cols].copy())\n",
    "\n",
    "### 変換後のデータで各列を置換\n",
    "app_train['br_max_amt_annuity'] = pt.transform(app_train[num_cols])\n",
    "app_test['br_max_amt_annuity'] = pt.transform(app_test[num_cols])"
   ]
  },
  {
   "cell_type": "code",
   "execution_count": null,
   "id": "7cbb9228",
   "metadata": {},
   "outputs": [],
   "source": [
    "## Yao-Johnson変換後の目的変数との相関\n",
    "app_train[['TARGET', 'br_max_amt_annuity']].corr()"
   ]
  },
  {
   "cell_type": "code",
   "execution_count": null,
   "id": "dbcbbabe",
   "metadata": {},
   "outputs": [],
   "source": [
    "## Yao-Johnson変換後の特徴量の分布\n",
    "kde_target('br_max_amt_annuity', app_train)"
   ]
  },
  {
   "cell_type": "markdown",
   "id": "ea7421dc",
   "metadata": {},
   "source": [
    "### br_sum_amt_annuity"
   ]
  },
  {
   "cell_type": "code",
   "execution_count": null,
   "id": "c835e960",
   "metadata": {},
   "outputs": [],
   "source": [
    "## 目的変数との相関\n",
    "app_train[['TARGET', 'br_sum_amt_annuity']].corr()"
   ]
  },
  {
   "cell_type": "code",
   "execution_count": null,
   "id": "259d0409",
   "metadata": {},
   "outputs": [],
   "source": [
    "## 特徴量の分布\n",
    "kde_target('br_sum_amt_annuity', app_train)"
   ]
  },
  {
   "cell_type": "code",
   "execution_count": null,
   "id": "dd5a1d24",
   "metadata": {},
   "outputs": [],
   "source": [
    "## Yao-Johnson変換\n",
    "num_cols = ['br_sum_amt_annuity']\n",
    "### 学習データに基づいてYao-Johnson変換を定義\n",
    "pt = PowerTransformer(method = 'yeo-johnson')\n",
    "pt.fit(app_train[num_cols].copy())\n",
    "\n",
    "### 変換後のデータで各列を置換\n",
    "app_train['br_sum_amt_annuity'] = pt.transform(app_train[num_cols])\n",
    "app_test['br_sum_amt_annuity'] = pt.transform(app_test[num_cols])"
   ]
  },
  {
   "cell_type": "code",
   "execution_count": null,
   "id": "146461fa",
   "metadata": {},
   "outputs": [],
   "source": [
    "## Yao-Johnson変換後の目的変数との相関\n",
    "app_train[['TARGET', 'br_sum_amt_annuity']].corr()"
   ]
  },
  {
   "cell_type": "code",
   "execution_count": null,
   "id": "418d598e",
   "metadata": {},
   "outputs": [],
   "source": [
    "## Yao-Johnson変換後の特徴量の分布\n",
    "kde_target('br_sum_amt_annuity', app_train)"
   ]
  },
  {
   "cell_type": "markdown",
   "id": "3541ca73",
   "metadata": {},
   "source": [
    "### br_avg_amt_annuity"
   ]
  },
  {
   "cell_type": "code",
   "execution_count": null,
   "id": "b1db1885",
   "metadata": {},
   "outputs": [],
   "source": [
    "## 目的変数との相関\n",
    "app_train[['TARGET', 'br_avg_amt_annuity']].corr()"
   ]
  },
  {
   "cell_type": "code",
   "execution_count": null,
   "id": "537cfd22",
   "metadata": {},
   "outputs": [],
   "source": [
    "## 特徴量の分布\n",
    "kde_target('br_avg_amt_annuity', app_train)"
   ]
  },
  {
   "cell_type": "code",
   "execution_count": null,
   "id": "01e706e6",
   "metadata": {},
   "outputs": [],
   "source": [
    "## Yao-Johnson変換\n",
    "num_cols = ['br_avg_amt_annuity']\n",
    "### 学習データに基づいてYao-Johnson変換を定義\n",
    "pt = PowerTransformer(method = 'yeo-johnson')\n",
    "pt.fit(app_train[num_cols].copy())\n",
    "\n",
    "### 変換後のデータで各列を置換\n",
    "app_train['br_avg_amt_annuity'] = pt.transform(app_train[num_cols])\n",
    "app_test['br_avg_amt_annuity'] = pt.transform(app_test[num_cols])"
   ]
  },
  {
   "cell_type": "code",
   "execution_count": null,
   "id": "0f8eed28",
   "metadata": {},
   "outputs": [],
   "source": [
    "## Yao-Johnson変換後の目的変数との相関\n",
    "app_train[['TARGET', 'br_avg_amt_annuity']].corr()"
   ]
  },
  {
   "cell_type": "code",
   "execution_count": null,
   "id": "9b2fd2a4",
   "metadata": {},
   "outputs": [],
   "source": [
    "## Yao-Johnson変換後の特徴量の分布\n",
    "kde_target('br_avg_amt_annuity', app_train)"
   ]
  },
  {
   "cell_type": "markdown",
   "id": "dbcbbbcd",
   "metadata": {},
   "source": [
    "### br_cnt_amt_annuity"
   ]
  },
  {
   "cell_type": "code",
   "execution_count": null,
   "id": "5a9ce753",
   "metadata": {},
   "outputs": [],
   "source": [
    "## 目的変数との相関\n",
    "app_train[['TARGET', 'br_cnt_amt_annuity']].corr()"
   ]
  },
  {
   "cell_type": "code",
   "execution_count": null,
   "id": "9f1c29bf",
   "metadata": {},
   "outputs": [],
   "source": [
    "## 特徴量の分布\n",
    "kde_target('br_cnt_amt_annuity', app_train)"
   ]
  },
  {
   "cell_type": "code",
   "execution_count": null,
   "id": "1e45c039",
   "metadata": {},
   "outputs": [],
   "source": [
    "## Yao-Johnson変換\n",
    "num_cols = ['br_cnt_amt_annuity']\n",
    "### 学習データに基づいてYao-Johnson変換を定義\n",
    "pt = PowerTransformer(method = 'yeo-johnson')\n",
    "pt.fit(app_train[num_cols].copy())\n",
    "\n",
    "### 変換後のデータで各列を置換\n",
    "app_train['br_cnt_amt_annuity'] = pt.transform(app_train[num_cols])\n",
    "app_test['br_cnt_amt_annuity'] = pt.transform(app_test[num_cols])"
   ]
  },
  {
   "cell_type": "code",
   "execution_count": null,
   "id": "a0a75756",
   "metadata": {},
   "outputs": [],
   "source": [
    "## Yao-Johnson変換後の目的変数との相関\n",
    "app_train[['TARGET', 'br_cnt_amt_annuity']].corr()"
   ]
  },
  {
   "cell_type": "code",
   "execution_count": null,
   "id": "0d5abed9",
   "metadata": {},
   "outputs": [],
   "source": [
    "## Yao-Johnson変換後の特徴量の分布\n",
    "kde_target('br_cnt_amt_annuity', app_train)"
   ]
  },
  {
   "cell_type": "markdown",
   "id": "f4cd42e1",
   "metadata": {},
   "source": [
    "### br_stddev_amt_annuity"
   ]
  },
  {
   "cell_type": "code",
   "execution_count": null,
   "id": "fce007ab",
   "metadata": {},
   "outputs": [],
   "source": [
    "## 目的変数との相関\n",
    "app_train[['TARGET', 'br_stddev_amt_annuity']].corr()"
   ]
  },
  {
   "cell_type": "code",
   "execution_count": null,
   "id": "409abe71",
   "metadata": {},
   "outputs": [],
   "source": [
    "## 特徴量の分布\n",
    "kde_target('br_stddev_amt_annuity', app_train)"
   ]
  },
  {
   "cell_type": "code",
   "execution_count": null,
   "id": "a6ac5534",
   "metadata": {},
   "outputs": [],
   "source": [
    "## Yao-Johnson変換\n",
    "num_cols = ['br_stddev_amt_annuity']\n",
    "### 学習データに基づいてYao-Johnson変換を定義\n",
    "pt = PowerTransformer(method = 'yeo-johnson')\n",
    "pt.fit(app_train[num_cols].copy())\n",
    "\n",
    "### 変換後のデータで各列を置換\n",
    "app_train['br_stddev_amt_annuity'] = pt.transform(app_train[num_cols])\n",
    "app_test['br_stddev_amt_annuity'] = pt.transform(app_test[num_cols])"
   ]
  },
  {
   "cell_type": "code",
   "execution_count": null,
   "id": "9d89dfc2",
   "metadata": {},
   "outputs": [],
   "source": [
    "## Yao-Johnson変換後の目的変数との相関\n",
    "app_train[['TARGET', 'br_stddev_amt_annuity']].corr()"
   ]
  },
  {
   "cell_type": "code",
   "execution_count": null,
   "id": "0c2f84bb",
   "metadata": {},
   "outputs": [],
   "source": [
    "## Yao-Johnson変換後の特徴量の分布\n",
    "kde_target('br_stddev_amt_annuity', app_train)"
   ]
  },
  {
   "cell_type": "markdown",
   "id": "619dd681",
   "metadata": {},
   "source": [
    "### br_stddev_pop_amt_annuity"
   ]
  },
  {
   "cell_type": "code",
   "execution_count": null,
   "id": "0566421e",
   "metadata": {},
   "outputs": [],
   "source": [
    "## 目的変数との相関\n",
    "app_train[['TARGET', 'br_stddev_pop_amt_annuity']].corr()"
   ]
  },
  {
   "cell_type": "code",
   "execution_count": null,
   "id": "be7027d3",
   "metadata": {},
   "outputs": [],
   "source": [
    "## 特徴量の分布\n",
    "kde_target('br_stddev_pop_amt_annuity', app_train)"
   ]
  },
  {
   "cell_type": "code",
   "execution_count": null,
   "id": "9ebd921f",
   "metadata": {},
   "outputs": [],
   "source": [
    "## Yao-Johnson変換\n",
    "num_cols = ['br_stddev_pop_amt_annuity']\n",
    "### 学習データに基づいてYao-Johnson変換を定義\n",
    "pt = PowerTransformer(method = 'yeo-johnson')\n",
    "pt.fit(app_train[num_cols].copy())\n",
    "\n",
    "### 変換後のデータで各列を置換\n",
    "app_train['br_stddev_pop_amt_annuity'] = pt.transform(app_train[num_cols])\n",
    "app_test['br_stddev_pop_amt_annuity'] = pt.transform(app_test[num_cols])"
   ]
  },
  {
   "cell_type": "code",
   "execution_count": null,
   "id": "5acbc566",
   "metadata": {},
   "outputs": [],
   "source": [
    "## Yao-Johnson変換後の目的変数との相関\n",
    "app_train[['TARGET', 'br_stddev_pop_amt_annuity']].corr()"
   ]
  },
  {
   "cell_type": "code",
   "execution_count": null,
   "id": "defcf71a",
   "metadata": {},
   "outputs": [],
   "source": [
    "## Yao-Johnson変換後の特徴量の分布\n",
    "kde_target('br_stddev_pop_amt_annuity', app_train)"
   ]
  },
  {
   "cell_type": "markdown",
   "id": "02663a85",
   "metadata": {},
   "source": [
    "### br_var_pop_amt_annuity"
   ]
  },
  {
   "cell_type": "code",
   "execution_count": null,
   "id": "0907aae4",
   "metadata": {},
   "outputs": [],
   "source": [
    "## 目的変数との相関\n",
    "app_train[['TARGET', 'br_var_pop_amt_annuity']].corr()"
   ]
  },
  {
   "cell_type": "code",
   "execution_count": null,
   "id": "5480a3cb",
   "metadata": {},
   "outputs": [],
   "source": [
    "## 特徴量の分布\n",
    "kde_target('br_var_pop_amt_annuity', app_train)"
   ]
  },
  {
   "cell_type": "code",
   "execution_count": null,
   "id": "59711ea6",
   "metadata": {},
   "outputs": [],
   "source": [
    "## Yao-Johnson変換\n",
    "num_cols = ['br_var_pop_amt_annuity']\n",
    "### 学習データに基づいてYao-Johnson変換を定義\n",
    "pt = PowerTransformer(method = 'yeo-johnson')\n",
    "pt.fit(app_train[num_cols].copy())\n",
    "\n",
    "### 変換後のデータで各列を置換\n",
    "app_train['br_var_pop_amt_annuity'] = pt.transform(app_train[num_cols])\n",
    "app_test['br_var_pop_amt_annuity'] = pt.transform(app_test[num_cols])"
   ]
  },
  {
   "cell_type": "code",
   "execution_count": null,
   "id": "930cea31",
   "metadata": {},
   "outputs": [],
   "source": [
    "## Yao-Johnson変換後の目的変数との相関\n",
    "app_train[['TARGET', 'br_var_pop_amt_annuity']].corr()"
   ]
  },
  {
   "cell_type": "code",
   "execution_count": null,
   "id": "26325509",
   "metadata": {},
   "outputs": [],
   "source": [
    "## Yao-Johnson変換後の特徴量の分布\n",
    "kde_target('br_var_pop_amt_annuity', app_train)"
   ]
  },
  {
   "cell_type": "markdown",
   "id": "6229ea0c",
   "metadata": {},
   "source": [
    "### br_var_samp_amt_annuity"
   ]
  },
  {
   "cell_type": "code",
   "execution_count": null,
   "id": "fefedcf3",
   "metadata": {},
   "outputs": [],
   "source": [
    "## 目的変数との相関\n",
    "app_train[['TARGET', 'br_var_samp_amt_annuity']].corr()"
   ]
  },
  {
   "cell_type": "code",
   "execution_count": null,
   "id": "22edeaee",
   "metadata": {},
   "outputs": [],
   "source": [
    "## 特徴量の分布\n",
    "kde_target('br_var_samp_amt_annuity', app_train)"
   ]
  },
  {
   "cell_type": "code",
   "execution_count": null,
   "id": "2902c9d2",
   "metadata": {},
   "outputs": [],
   "source": [
    "## Yao-Johnson変換\n",
    "num_cols = ['br_var_samp_amt_annuity']\n",
    "### 学習データに基づいてYao-Johnson変換を定義\n",
    "pt = PowerTransformer(method = 'yeo-johnson')\n",
    "pt.fit(app_train[num_cols].copy())\n",
    "\n",
    "### 変換後のデータで各列を置換\n",
    "app_train['br_var_samp_amt_annuity'] = pt.transform(app_train[num_cols])\n",
    "app_test['br_var_samp_amt_annuity'] = pt.transform(app_test[num_cols])"
   ]
  },
  {
   "cell_type": "code",
   "execution_count": null,
   "id": "04270b4d",
   "metadata": {},
   "outputs": [],
   "source": [
    "## Yao-Johnson変換後の目的変数との相関\n",
    "app_train[['TARGET', 'br_var_samp_amt_annuity']].corr()"
   ]
  },
  {
   "cell_type": "code",
   "execution_count": null,
   "id": "b784e849",
   "metadata": {},
   "outputs": [],
   "source": [
    "## Yao-Johnson変換後の特徴量の分布\n",
    "kde_target('br_var_samp_amt_annuity', app_train)"
   ]
  },
  {
   "cell_type": "markdown",
   "id": "09ca7445",
   "metadata": {},
   "source": [
    "### br_variance_pop_amt_annuity"
   ]
  },
  {
   "cell_type": "code",
   "execution_count": null,
   "id": "61aa2bd5",
   "metadata": {},
   "outputs": [],
   "source": [
    "## 目的変数との相関\n",
    "app_train[['TARGET', 'br_variance_pop_amt_annuity']].corr()"
   ]
  },
  {
   "cell_type": "code",
   "execution_count": null,
   "id": "bda7f6fb",
   "metadata": {},
   "outputs": [],
   "source": [
    "## 特徴量の分布\n",
    "kde_target('br_variance_pop_amt_annuity', app_train)"
   ]
  },
  {
   "cell_type": "code",
   "execution_count": null,
   "id": "b5a2d943",
   "metadata": {},
   "outputs": [],
   "source": [
    "## Yao-Johnson変換\n",
    "num_cols = ['br_variance_pop_amt_annuity']\n",
    "### 学習データに基づいてYao-Johnson変換を定義\n",
    "pt = PowerTransformer(method = 'yeo-johnson')\n",
    "pt.fit(app_train[num_cols].copy())\n",
    "\n",
    "### 変換後のデータで各列を置換\n",
    "app_train['br_variance_pop_amt_annuity'] = pt.transform(app_train[num_cols])\n",
    "app_test['br_variance_pop_amt_annuity'] = pt.transform(app_test[num_cols])"
   ]
  },
  {
   "cell_type": "code",
   "execution_count": null,
   "id": "fb9d2157",
   "metadata": {},
   "outputs": [],
   "source": [
    "## Yao-Johnson変換後の目的変数との相関\n",
    "app_train[['TARGET', 'br_variance_pop_amt_annuity']].corr()"
   ]
  },
  {
   "cell_type": "code",
   "execution_count": null,
   "id": "71be16be",
   "metadata": {},
   "outputs": [],
   "source": [
    "## Yao-Johnson変換後の特徴量の分布\n",
    "kde_target('br_variance_pop_amt_annuity', app_train)"
   ]
  },
  {
   "cell_type": "markdown",
   "id": "94687401",
   "metadata": {},
   "source": [
    "## CSVをEXPORT"
   ]
  },
  {
   "cell_type": "code",
   "execution_count": null,
   "id": "4f024f1a",
   "metadata": {},
   "outputs": [],
   "source": [
    "### train\n",
    "app_train.to_csv(\n",
    "    path_or_buf=\"./home-credit-default-risk/exports/hc_br_train.csv\", # 出力先\n",
    "    sep=\",\",                                            # 区切り文字\n",
    "    index=False,                                        # indexの出力有無\n",
    "    header=True                                        # headerの出力有無\n",
    ")"
   ]
  },
  {
   "cell_type": "code",
   "execution_count": null,
   "id": "6d030659",
   "metadata": {},
   "outputs": [],
   "source": [
    "### test\n",
    "app_test.to_csv(\n",
    "    path_or_buf=\"./home-credit-default-risk/exports/hc_br_test.csv\", # 出力先\n",
    "    sep=\",\",                                            # 区切り文字\n",
    "    index=False,                                        # indexの出力有無\n",
    "    header=True                                        # headerの出力有無\n",
    ")"
   ]
  },
  {
   "cell_type": "code",
   "execution_count": null,
   "id": "a6bece13",
   "metadata": {},
   "outputs": [],
   "source": [
    "columns = list(app_train.columns)\n",
    "columns.remove('SK_ID_CURR')\n",
    "columns.remove('TARGET')"
   ]
  },
  {
   "cell_type": "code",
   "execution_count": null,
   "id": "a7759e4f",
   "metadata": {},
   "outputs": [],
   "source": [
    "data = pd.concat([app_train, app_test], sort=False)\n",
    "train = data[:len(app_train)]\n",
    "test = data[len(app_test):]\n",
    "\n",
    "\n",
    "y_train = train['TARGET']\n",
    "X_train = app_train.copy().drop('TARGET', axis=1)\n",
    "X_test = app_test.copy()"
   ]
  },
  {
   "cell_type": "code",
   "execution_count": null,
   "id": "cbcc5d39",
   "metadata": {},
   "outputs": [],
   "source": [
    "import xgboost as xgb\n",
    "from sklearn.metrics import log_loss\n",
    "\n",
    "y_preds = []\n",
    "models = []\n",
    "scores = []\n",
    "oof_train = np.zeros((len(X_train),))\n",
    "cv = KFold(n_splits=5, shuffle=True, random_state=0)\n",
    "\n",
    "categorical_features = columns\n",
    "\n",
    "params = {\n",
    "    'booster': 'gbtree'\n",
    "    ,'objective': 'binary:logistic'\n",
    "    ,'silent': 1\n",
    "    ,'random_state': 17\n",
    "    ,'gpu_id': 0\n",
    "    ,'tree_method': 'gpu_hist'\n",
    "    ,'eval_metric': 'auc'\n",
    "    ,'eta': 0.1\n",
    "    #,'max_round': 100\n",
    "    ,'max_depth': 8\n",
    "    ,'subsample': 0.8\n",
    "    ,'colsample_state': 71\n",
    "    ,'colsample_bytree': 1.0\n",
    "    ,'colsample_bylevel': 0.3\n",
    "    ,'subsumple': 0.9\n",
    "    ,'gamma': 0\n",
    "    ,'lambda': 1\n",
    "    ,'alpha': 0\n",
    "    ,'min_child_weight': 1\n",
    "}\n",
    "\n",
    "num_round = 50\n",
    "\n",
    "for fold_id, (train_index, valid_index) in enumerate(cv.split(X_train)):\n",
    "    X_tr = X_train.loc[train_index, :]\n",
    "    X_val = X_train.loc[valid_index, :]\n",
    "    y_tr = y_train[train_index]\n",
    "    y_val = y_train[valid_index]\n",
    "    \n",
    "    dtrain = xgb.DMatrix(X_tr, label=y_tr)\n",
    "    dvalid = xgb.DMatrix(X_val, label=y_val)\n",
    "    dtest = xgb.DMatrix(X_test)\n",
    "    \n",
    "    watchlist = [(dtrain, 'train'), (dvalid, 'eval')]\n",
    "    model = xgb.train(params, dtrain, num_round, evals=watchlist)\n",
    "    \n",
    "    va_pred = model.predict(dvalid)\n",
    "    score = log_loss(y_val, va_pred)\n",
    "    oof_train[valid_index] = va_pred\n",
    "    \n",
    "    y_pred = model.predict(dtest) \n",
    "    \n",
    "    \n",
    "    #oof_train[valid_index] = model.predict(X_val, num_iteration=model.best_iteration)\n",
    "    #y_pred = model.predict(X_test, num_iteration=model.best_iteration)##\n",
    "\n",
    "    y_preds.append(y_pred)\n",
    "    models.append(model)\n",
    "    scores.append(score)"
   ]
  },
  {
   "cell_type": "code",
   "execution_count": null,
   "id": "b81281a7",
   "metadata": {},
   "outputs": [],
   "source": [
    "app_train = app_train.drop('TARGET', axis=1)"
   ]
  },
  {
   "cell_type": "code",
   "execution_count": null,
   "id": "e03f0cc5",
   "metadata": {},
   "outputs": [],
   "source": [
    "# trainへマージ\n",
    "app_train = pd.merge(app_train_origin.copy(), app_br_train, on='SK_ID_CURR', how='left')\n",
    "# testへマージ\n",
    "app_test = pd.merge(app_test_origin.copy(), app_br_test, on='SK_ID_CURR', how='left')\n",
    "len(app_test)"
   ]
  },
  {
   "cell_type": "code",
   "execution_count": null,
   "id": "2921c48a",
   "metadata": {},
   "outputs": [],
   "source": [
    "columns = list(app_train.columns)\n",
    "columns.remove('SK_ID_CURR')\n",
    "columns.remove('TARGET')"
   ]
  },
  {
   "cell_type": "code",
   "execution_count": null,
   "id": "ab33adbe",
   "metadata": {},
   "outputs": [],
   "source": [
    "data = pd.concat([app_train, app_test], sort=False)\n",
    "train = data[:len(app_train)]\n",
    "test = data[len(app_test):]\n",
    "\n",
    "y_train = train['TARGET']\n",
    "X_train = app_train.copy().drop('TARGET', axis=1)\n",
    "X_test = app_test.copy()"
   ]
  },
  {
   "cell_type": "code",
   "execution_count": null,
   "id": "631cc762",
   "metadata": {},
   "outputs": [],
   "source": [
    "import xgboost as xgb\n",
    "from sklearn.metrics import log_loss\n",
    "\n",
    "y_preds = []\n",
    "models = []\n",
    "scores = []\n",
    "oof_train = np.zeros((len(X_train),))\n",
    "cv = KFold(n_splits=5, shuffle=True, random_state=0)\n",
    "\n",
    "categorical_features = columns\n",
    "\n",
    "params = {\n",
    "    'booster': 'gbtree'\n",
    "    ,'objective': 'binary:logistic'\n",
    "    ,'silent': 1\n",
    "    ,'random_state': 17\n",
    "    ,'gpu_id': 0\n",
    "    ,'tree_method': 'gpu_hist'\n",
    "    ,'eval_metric': 'auc'\n",
    "    ,'eta': 0.1\n",
    "    #,'max_round': 100\n",
    "    ,'max_depth': 8\n",
    "    ,'subsample': 0.8\n",
    "    ,'colsample_state': 71\n",
    "    ,'colsample_bytree': 1.0\n",
    "    ,'colsample_bylevel': 0.3\n",
    "    ,'subsumple': 0.9\n",
    "    ,'gamma': 0\n",
    "    ,'lambda': 1\n",
    "    ,'alpha': 0\n",
    "    ,'min_child_weight': 1\n",
    "}\n",
    "\n",
    "num_round = 50\n",
    "\n",
    "for fold_id, (train_index, valid_index) in enumerate(cv.split(X_train)):\n",
    "    X_tr = X_train.loc[train_index, :]\n",
    "    X_val = X_train.loc[valid_index, :]\n",
    "    y_tr = y_train[train_index]\n",
    "    y_val = y_train[valid_index]\n",
    "    \n",
    "    dtrain = xgb.DMatrix(X_tr, label=y_tr)\n",
    "    dvalid = xgb.DMatrix(X_val, label=y_val)\n",
    "    dtest = xgb.DMatrix(X_test)\n",
    "    \n",
    "    watchlist = [(dtrain, 'train'), (dvalid, 'eval')]\n",
    "    model = xgb.train(params, dtrain, num_round, evals=watchlist)\n",
    "    \n",
    "    va_pred = model.predict(dvalid)\n",
    "    score = log_loss(y_val, va_pred)\n",
    "    oof_train[valid_index] = va_pred\n",
    "    \n",
    "    y_pred = model.predict(dtest) \n",
    "    \n",
    "    \n",
    "    #oof_train[valid_index] = model.predict(X_val, num_iteration=model.best_iteration)\n",
    "    #y_pred = model.predict(X_test, num_iteration=model.best_iteration)##\n",
    "\n",
    "    y_preds.append(y_pred)\n",
    "    models.append(model)\n",
    "    scores.append(score)"
   ]
  },
  {
   "cell_type": "code",
   "execution_count": null,
   "id": "8ef553d4",
   "metadata": {},
   "outputs": [],
   "source": [
    "# CSV-00\n",
    "submit_all = app_test[[\"SK_ID_CURR\"]].copy()\n",
    "# 予測確率の変数名はTARGET\n",
    "submit_all[\"TARGET\"] = y_preds[0]\n",
    "submit_all.isnull().sum()\n",
    "\n",
    "# Submit File\n",
    "submit_all.to_csv(\n",
    "    path_or_buf=\"./home-credit-default-risk/submit/submit_all_00.csv\", # 出力先\n",
    "    sep=\",\",                                            # 区切り文字\n",
    "    index=False,                                        # indexの出力有無\n",
    "    header=True                                        # headerの出力有無\n",
    ")"
   ]
  },
  {
   "cell_type": "code",
   "execution_count": null,
   "id": "b2f2ab70",
   "metadata": {},
   "outputs": [],
   "source": [
    "# CSV-01\n",
    "submit_all = app_test[[\"SK_ID_CURR\"]].copy()\n",
    "# 予測確率の変数名はTARGET\n",
    "submit_all[\"TARGET\"] = y_preds[1]\n",
    "\n",
    "# Submit File\n",
    "submit_all.to_csv(\n",
    "    path_or_buf=\"./home-credit-default-risk/submit/submit_all_01.csv\", # 出力先\n",
    "    sep=\",\",                                            # 区切り文字\n",
    "    index=False,                                        # indexの出力有無\n",
    "    header=True                                        # headerの出力有無\n",
    ")"
   ]
  },
  {
   "cell_type": "code",
   "execution_count": null,
   "id": "261b74d9",
   "metadata": {},
   "outputs": [],
   "source": [
    "# CSV-02\n",
    "submit_all = app_test[[\"SK_ID_CURR\"]].copy()\n",
    "# 予測確率の変数名はTARGET\n",
    "submit_all[\"TARGET\"] = y_preds[2]\n",
    "\n",
    "# Submit File\n",
    "submit_all.to_csv(\n",
    "    path_or_buf=\"./home-credit-default-risk/submit/submit_all_02.csv\", # 出力先\n",
    "    sep=\",\",                                            # 区切り文字\n",
    "    index=False,                                        # indexの出力有無\n",
    "    header=True                                        # headerの出力有無\n",
    ")"
   ]
  },
  {
   "cell_type": "code",
   "execution_count": null,
   "id": "4dbb218d",
   "metadata": {},
   "outputs": [],
   "source": [
    "# CSV-03\n",
    "submit_all = app_test[[\"SK_ID_CURR\"]].copy()\n",
    "# 予測確率の変数名はTARGET\n",
    "submit_all[\"TARGET\"] = y_preds[3]\n",
    "\n",
    "# Submit File\n",
    "submit_all.to_csv(\n",
    "    path_or_buf=\"./home-credit-default-risk/submit/submit_all_03.csv\", # 出力先\n",
    "    sep=\",\",                                            # 区切り文字\n",
    "    index=False,                                        # indexの出力有無\n",
    "    header=True                                        # headerの出力有無\n",
    ")"
   ]
  },
  {
   "cell_type": "code",
   "execution_count": null,
   "id": "7d12e1ba",
   "metadata": {},
   "outputs": [],
   "source": [
    "# CSV-04\n",
    "submit_all = app_test[[\"SK_ID_CURR\"]].copy()\n",
    "# 予測確率の変数名はTARGET\n",
    "submit_all[\"TARGET\"] = y_preds[4]\n",
    "\n",
    "# Submit File\n",
    "submit_all.to_csv(\n",
    "    path_or_buf=\"./home-credit-default-risk/submit/submit_all_04.csv\", # 出力先\n",
    "    sep=\",\",                                            # 区切り文字\n",
    "    index=False,                                        # indexの出力有無\n",
    "    header=True                                        # headerの出力有無\n",
    ")"
   ]
  },
  {
   "cell_type": "code",
   "execution_count": null,
   "id": "59c8e47b",
   "metadata": {},
   "outputs": [],
   "source": [
    "submit_all_00 = pd.read_csv('./home-credit-default-risk/submit/submit_all_00.csv')\n",
    "submit_all_01 = pd.read_csv('./home-credit-default-risk/submit/submit_all_01.csv')\n",
    "submit_all_02 = pd.read_csv('./home-credit-default-risk/submit/submit_all_02.csv')\n",
    "submit_all_03 = pd.read_csv('./home-credit-default-risk/submit/submit_all_03.csv')\n",
    "submit_all_04 = pd.read_csv('./home-credit-default-risk/submit/submit_all_04.csv')"
   ]
  },
  {
   "cell_type": "code",
   "execution_count": null,
   "id": "0f329c3a",
   "metadata": {},
   "outputs": [],
   "source": [
    "submit_all = pd.DataFrame({\n",
    "    'submit_all_00': submit_all_00['TARGET'].values\n",
    "    ,'submit_all_01': submit_all_01['TARGET'].values\n",
    "    ,'submit_all_02': submit_all_02['TARGET'].values\n",
    "    ,'submit_all_03': submit_all_03['TARGET'].values\n",
    "    ,'submit_all_04': submit_all_04['TARGET'].values\n",
    "    })\n",
    "submit_all.head()"
   ]
  },
  {
   "cell_type": "code",
   "execution_count": null,
   "id": "39a4ba9b",
   "metadata": {},
   "outputs": [],
   "source": [
    "submit_all = app_test[[\"SK_ID_CURR\"]].copy()\n",
    "submit_all['TARGET'] = (submit_all_00['TARGET'] + submit_all_01['TARGET'] + submit_all_02['TARGET'] + submit_all_03['TARGET'] + submit_all_04['TARGET'])/5\n",
    "submit_all.head()"
   ]
  },
  {
   "cell_type": "code",
   "execution_count": null,
   "id": "0c15e896",
   "metadata": {},
   "outputs": [],
   "source": [
    "submit_all['TARGET'] = (submit_all['TARGET'] / 5)\n",
    "submit_all.to_csv('./home-credit-default-risk/submit/submit_br_main_test_12-monthes.csv', index=False)\n",
    "submit_all.head()"
   ]
  },
  {
   "cell_type": "code",
   "execution_count": null,
   "id": "b4d67c2f",
   "metadata": {},
   "outputs": [],
   "source": [
    "submit_all.count()"
   ]
  },
  {
   "cell_type": "code",
   "execution_count": null,
   "id": "d383dda9",
   "metadata": {},
   "outputs": [],
   "source": []
  },
  {
   "cell_type": "code",
   "execution_count": null,
   "id": "a8505a38",
   "metadata": {},
   "outputs": [],
   "source": []
  },
  {
   "cell_type": "code",
   "execution_count": null,
   "id": "f7e70e97",
   "metadata": {},
   "outputs": [],
   "source": []
  }
 ],
 "metadata": {
  "kernelspec": {
   "display_name": "Python 3 (ipykernel)",
   "language": "python",
   "name": "python3"
  },
  "language_info": {
   "codemirror_mode": {
    "name": "ipython",
    "version": 3
   },
   "file_extension": ".py",
   "mimetype": "text/x-python",
   "name": "python",
   "nbconvert_exporter": "python",
   "pygments_lexer": "ipython3",
   "version": "3.9.7"
  }
 },
 "nbformat": 4,
 "nbformat_minor": 5
}
