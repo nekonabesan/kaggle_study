{
 "cells": [
  {
   "cell_type": "code",
   "execution_count": 1,
   "id": "074409fa",
   "metadata": {},
   "outputs": [],
   "source": [
    "# from google.colab import drive\n",
    "# drive.mount('/content/drive')"
   ]
  },
  {
   "cell_type": "code",
   "execution_count": 2,
   "id": "bf88b8fb",
   "metadata": {},
   "outputs": [],
   "source": [
    "# %cd /content/drive/MyDrive/"
   ]
  },
  {
   "cell_type": "code",
   "execution_count": 3,
   "id": "eb856bdd",
   "metadata": {},
   "outputs": [
    {
     "data": {
      "text/plain": [
       "[name: \"/device:CPU:0\"\n",
       " device_type: \"CPU\"\n",
       " memory_limit: 268435456\n",
       " locality {\n",
       " }\n",
       " incarnation: 11135164849872256422\n",
       " xla_global_id: -1,\n",
       " name: \"/device:GPU:0\"\n",
       " device_type: \"GPU\"\n",
       " memory_limit: 1745276110\n",
       " locality {\n",
       "   bus_id: 1\n",
       "   links {\n",
       "   }\n",
       " }\n",
       " incarnation: 842067009866871888\n",
       " physical_device_desc: \"device: 0, name: NVIDIA RTX A2000 Laptop GPU, pci bus id: 0000:01:00.0, compute capability: 8.6\"\n",
       " xla_global_id: 416903419]"
      ]
     },
     "execution_count": 3,
     "metadata": {},
     "output_type": "execute_result"
    }
   ],
   "source": [
    "from tensorflow.python.client import device_lib\n",
    "device_lib.list_local_devices()"
   ]
  },
  {
   "cell_type": "code",
   "execution_count": 4,
   "id": "80924b9b",
   "metadata": {},
   "outputs": [
    {
     "name": "stdout",
     "output_type": "stream",
     "text": [
      "OK\n",
      "\n"
     ]
    }
   ],
   "source": [
    "import pandas as pd\n",
    "#import pandas_profiling\n",
    "import numpy as np\n",
    "import cupy as cp\n",
    "from sklearn.model_selection import train_test_split\n",
    "import lightgbm as lgb\n",
    "import matplotlib.pyplot as plt\n",
    "import seaborn as sns\n",
    "from sklearn.model_selection import KFold\n",
    "from sklearn import metrics\n",
    "from sklearn.metrics import accuracy_score\n",
    "from sklearn.model_selection import train_test_split\n",
    "from sklearn.preprocessing import LabelEncoder\n",
    "from sklearn.preprocessing import StandardScaler\n",
    "from sklearn.tree import DecisionTreeClassifier, export_graphviz\n",
    "from sklearn.metrics import roc_auc_score\n",
    "from sklearn.tree import plot_tree\n",
    "from sklearn.metrics import mean_squared_error\n",
    "\n",
    "from six import StringIO\n",
    "\n",
    "from IPython.display import Image\n",
    "import matplotlib.pyplot as plt\n",
    "import seaborn as sns\n",
    "\n",
    "import statsmodels.api as sm\n",
    "import math\n",
    "from scipy import stats\n",
    "import numpy as np\n",
    "import optuna.integration.lightgbm as lgb\n",
    "import pandas as pd\n",
    "import tensorflow as tf\n",
    "\n",
    "from datetime import datetime\n",
    "from tensorflow import feature_column\n",
    "from tensorflow.keras import layers\n",
    "\n",
    "from xgboost.sklearn import XGBClassifier\n",
    "\n",
    "\n",
    "print(\"OK\\n\")"
   ]
  },
  {
   "cell_type": "code",
   "execution_count": 5,
   "id": "326da3ba",
   "metadata": {},
   "outputs": [
    {
     "data": {
      "text/html": [
       "<div>\n",
       "<style scoped>\n",
       "    .dataframe tbody tr th:only-of-type {\n",
       "        vertical-align: middle;\n",
       "    }\n",
       "\n",
       "    .dataframe tbody tr th {\n",
       "        vertical-align: top;\n",
       "    }\n",
       "\n",
       "    .dataframe thead th {\n",
       "        text-align: right;\n",
       "    }\n",
       "</style>\n",
       "<table border=\"1\" class=\"dataframe\">\n",
       "  <thead>\n",
       "    <tr style=\"text-align: right;\">\n",
       "      <th></th>\n",
       "      <th>SK_ID_CURR</th>\n",
       "      <th>TARGET</th>\n",
       "      <th>NAME_CONTRACT_TYPE</th>\n",
       "      <th>CODE_GENDER</th>\n",
       "      <th>FLAG_OWN_CAR</th>\n",
       "      <th>CNT_CHILDREN</th>\n",
       "      <th>AMT_INCOME_TOTAL</th>\n",
       "      <th>AMT_CREDIT</th>\n",
       "      <th>AMT_ANNUITY</th>\n",
       "      <th>AMT_GOODS_PRICE</th>\n",
       "      <th>...</th>\n",
       "      <th>FLAG_DOCUMENT_16</th>\n",
       "      <th>AMT_REQ_CREDIT_BUREAU_MON</th>\n",
       "      <th>AMT_REQ_CREDIT_BUREAU_YEAR</th>\n",
       "      <th>CREDIT_TERM</th>\n",
       "      <th>DAYS_EMPLOYED_PERCENT</th>\n",
       "      <th>credit_annuity_ratio</th>\n",
       "      <th>DAYS_EMPLOYED_ANOM</th>\n",
       "      <th>credit_goods_price_ratio</th>\n",
       "      <th>credit_downpayment</th>\n",
       "      <th>AGE_INT</th>\n",
       "    </tr>\n",
       "  </thead>\n",
       "  <tbody>\n",
       "    <tr>\n",
       "      <th>0</th>\n",
       "      <td>100002</td>\n",
       "      <td>1</td>\n",
       "      <td>0</td>\n",
       "      <td>1</td>\n",
       "      <td>0</td>\n",
       "      <td>0</td>\n",
       "      <td>202500.0</td>\n",
       "      <td>406597.5</td>\n",
       "      <td>24700.5</td>\n",
       "      <td>351000.0</td>\n",
       "      <td>...</td>\n",
       "      <td>0</td>\n",
       "      <td>0.0</td>\n",
       "      <td>1.0</td>\n",
       "      <td>0.060749</td>\n",
       "      <td>-0.067329</td>\n",
       "      <td>16.461104</td>\n",
       "      <td>False</td>\n",
       "      <td>1.158397</td>\n",
       "      <td>-55597.5</td>\n",
       "      <td>-25.920548</td>\n",
       "    </tr>\n",
       "    <tr>\n",
       "      <th>1</th>\n",
       "      <td>100003</td>\n",
       "      <td>0</td>\n",
       "      <td>0</td>\n",
       "      <td>0</td>\n",
       "      <td>0</td>\n",
       "      <td>0</td>\n",
       "      <td>270000.0</td>\n",
       "      <td>1293502.5</td>\n",
       "      <td>35698.5</td>\n",
       "      <td>1129500.0</td>\n",
       "      <td>...</td>\n",
       "      <td>0</td>\n",
       "      <td>0.0</td>\n",
       "      <td>0.0</td>\n",
       "      <td>0.027598</td>\n",
       "      <td>-0.070862</td>\n",
       "      <td>36.234085</td>\n",
       "      <td>False</td>\n",
       "      <td>1.145199</td>\n",
       "      <td>-164002.5</td>\n",
       "      <td>-45.931507</td>\n",
       "    </tr>\n",
       "    <tr>\n",
       "      <th>2</th>\n",
       "      <td>100004</td>\n",
       "      <td>0</td>\n",
       "      <td>1</td>\n",
       "      <td>1</td>\n",
       "      <td>1</td>\n",
       "      <td>0</td>\n",
       "      <td>67500.0</td>\n",
       "      <td>135000.0</td>\n",
       "      <td>6750.0</td>\n",
       "      <td>135000.0</td>\n",
       "      <td>...</td>\n",
       "      <td>0</td>\n",
       "      <td>0.0</td>\n",
       "      <td>0.0</td>\n",
       "      <td>0.050000</td>\n",
       "      <td>-0.011814</td>\n",
       "      <td>20.000000</td>\n",
       "      <td>False</td>\n",
       "      <td>1.000000</td>\n",
       "      <td>0.0</td>\n",
       "      <td>-52.180822</td>\n",
       "    </tr>\n",
       "    <tr>\n",
       "      <th>3</th>\n",
       "      <td>100006</td>\n",
       "      <td>0</td>\n",
       "      <td>0</td>\n",
       "      <td>0</td>\n",
       "      <td>0</td>\n",
       "      <td>0</td>\n",
       "      <td>135000.0</td>\n",
       "      <td>312682.5</td>\n",
       "      <td>29686.5</td>\n",
       "      <td>297000.0</td>\n",
       "      <td>...</td>\n",
       "      <td>0</td>\n",
       "      <td>NaN</td>\n",
       "      <td>NaN</td>\n",
       "      <td>0.094941</td>\n",
       "      <td>-0.159905</td>\n",
       "      <td>10.532818</td>\n",
       "      <td>False</td>\n",
       "      <td>1.052803</td>\n",
       "      <td>-15682.5</td>\n",
       "      <td>-52.068493</td>\n",
       "    </tr>\n",
       "    <tr>\n",
       "      <th>4</th>\n",
       "      <td>100007</td>\n",
       "      <td>0</td>\n",
       "      <td>0</td>\n",
       "      <td>1</td>\n",
       "      <td>0</td>\n",
       "      <td>0</td>\n",
       "      <td>121500.0</td>\n",
       "      <td>513000.0</td>\n",
       "      <td>21865.5</td>\n",
       "      <td>513000.0</td>\n",
       "      <td>...</td>\n",
       "      <td>0</td>\n",
       "      <td>0.0</td>\n",
       "      <td>0.0</td>\n",
       "      <td>0.042623</td>\n",
       "      <td>-0.152418</td>\n",
       "      <td>23.461618</td>\n",
       "      <td>False</td>\n",
       "      <td>1.000000</td>\n",
       "      <td>0.0</td>\n",
       "      <td>-54.608219</td>\n",
       "    </tr>\n",
       "  </tbody>\n",
       "</table>\n",
       "<p>5 rows × 90 columns</p>\n",
       "</div>"
      ],
      "text/plain": [
       "   SK_ID_CURR  TARGET  NAME_CONTRACT_TYPE  CODE_GENDER  FLAG_OWN_CAR  \\\n",
       "0      100002       1                   0            1             0   \n",
       "1      100003       0                   0            0             0   \n",
       "2      100004       0                   1            1             1   \n",
       "3      100006       0                   0            0             0   \n",
       "4      100007       0                   0            1             0   \n",
       "\n",
       "   CNT_CHILDREN  AMT_INCOME_TOTAL  AMT_CREDIT  AMT_ANNUITY  AMT_GOODS_PRICE  \\\n",
       "0             0          202500.0    406597.5      24700.5         351000.0   \n",
       "1             0          270000.0   1293502.5      35698.5        1129500.0   \n",
       "2             0           67500.0    135000.0       6750.0         135000.0   \n",
       "3             0          135000.0    312682.5      29686.5         297000.0   \n",
       "4             0          121500.0    513000.0      21865.5         513000.0   \n",
       "\n",
       "   ...  FLAG_DOCUMENT_16  AMT_REQ_CREDIT_BUREAU_MON  \\\n",
       "0  ...                 0                        0.0   \n",
       "1  ...                 0                        0.0   \n",
       "2  ...                 0                        0.0   \n",
       "3  ...                 0                        NaN   \n",
       "4  ...                 0                        0.0   \n",
       "\n",
       "   AMT_REQ_CREDIT_BUREAU_YEAR  CREDIT_TERM  DAYS_EMPLOYED_PERCENT  \\\n",
       "0                         1.0     0.060749              -0.067329   \n",
       "1                         0.0     0.027598              -0.070862   \n",
       "2                         0.0     0.050000              -0.011814   \n",
       "3                         NaN     0.094941              -0.159905   \n",
       "4                         0.0     0.042623              -0.152418   \n",
       "\n",
       "   credit_annuity_ratio  DAYS_EMPLOYED_ANOM  credit_goods_price_ratio  \\\n",
       "0             16.461104               False                  1.158397   \n",
       "1             36.234085               False                  1.145199   \n",
       "2             20.000000               False                  1.000000   \n",
       "3             10.532818               False                  1.052803   \n",
       "4             23.461618               False                  1.000000   \n",
       "\n",
       "   credit_downpayment    AGE_INT  \n",
       "0            -55597.5 -25.920548  \n",
       "1           -164002.5 -45.931507  \n",
       "2                 0.0 -52.180822  \n",
       "3            -15682.5 -52.068493  \n",
       "4                 0.0 -54.608219  \n",
       "\n",
       "[5 rows x 90 columns]"
      ]
     },
     "execution_count": 5,
     "metadata": {},
     "output_type": "execute_result"
    }
   ],
   "source": [
    "app_train_origin = pd.read_csv('./home-credit-default-risk/exports/app_train.csv')\n",
    "app_test_origin =  pd.read_csv('./home-credit-default-risk/exports/app_test.csv')\n",
    "#bureau_origin = pd.read_csv('./home-credit-default-risk/bureau.csv')\n",
    "#bureau_balance_origin = pd.read_csv('./home-credit-default-risk/bureau_balance.csv')\n",
    "pos_cash_balance_origin = pd.read_csv('./home-credit-default-risk/POS_CASH_balance.csv')\n",
    "#credit_card_balance_origin = pd.read_csv('./home-credit-default-risk/credit_card_balance.csv')\n",
    "previous_application_origin = pd.read_csv('./home-credit-default-risk/previous_application.csv')\n",
    "installments_payments_origin = pd.read_csv('./home-credit-default-risk/installments_payments.csv')\n",
    "# custo data\n",
    "app_train_hc_only_revo_origin = pd.read_csv('./home-credit-default-risk/exports/train_hc_only_revo.csv')\n",
    "app_test_hc_only_revo_origin = pd.read_csv('./home-credit-default-risk/exports/test_hc_only_revo.csv')\n",
    "app_train_1000_mean_origin = pd.read_csv('./home-credit-default-risk/exports/train_hc_only_revo_installment_payment_ratio_1000_mean_mean.csv')\n",
    "app_test_1000_mean_origin = pd.read_csv('./home-credit-default-risk/exports/test_hc_only_revo_installment_payment_ratio_1000_mean_mean.csv')\n",
    "app_train_max_installment_ratio_origin = pd.read_csv('./home-credit-default-risk/exports/train_hc_only_revo_annuity_to_max_installment_ratio.csv')\n",
    "app_test_max_installment_ratio_origin = pd.read_csv('./home-credit-default-risk/exports/test_hc_only_revo_annuity_to_max_installment_ratio.csv')\n",
    "app_train_origin.head()"
   ]
  },
  {
   "cell_type": "code",
   "execution_count": 6,
   "id": "0480561a",
   "metadata": {},
   "outputs": [],
   "source": [
    "app_train = app_train_origin.copy()\n",
    "app_test = app_test_origin.copy()\n",
    "pos_cash_balance = pos_cash_balance_origin.copy()\n",
    "previous_application = previous_application_origin.copy()\n",
    "installments_payments = installments_payments_origin.copy()\n",
    "app_train_revo = app_train_hc_only_revo_origin.copy()\n",
    "app_test_revo = app_test_hc_only_revo_origin.copy()\n",
    "app_train_1000_mean = app_train_1000_mean_origin.copy()\n",
    "app_test_1000_mean = app_test_1000_mean_origin.copy()\n",
    "app_train_max_installment_ratio = app_train_max_installment_ratio_origin.copy()\n",
    "app_test_max_installment_ratio = app_test_max_installment_ratio_origin.copy()"
   ]
  },
  {
   "cell_type": "markdown",
   "id": "98b4fdef",
   "metadata": {},
   "source": [
    "### applicationの複製"
   ]
  },
  {
   "cell_type": "code",
   "execution_count": 7,
   "id": "de76e770",
   "metadata": {},
   "outputs": [
    {
     "data": {
      "text/plain": [
       "48744"
      ]
     },
     "execution_count": 7,
     "metadata": {},
     "output_type": "execute_result"
    }
   ],
   "source": [
    "#app_train = app_train[['SK_ID_CURR','TARGET','EXT_SOURCE_1','EXT_SOURCE_2','EXT_SOURCE_3']].copy()\n",
    "#app_test = app_test[['SK_ID_CURR','EXT_SOURCE_1','EXT_SOURCE_2','EXT_SOURCE_3']].copy()\n",
    "app_train = app_train[['SK_ID_CURR','TARGET']].copy()\n",
    "app_test = app_test[['SK_ID_CURR']].copy()\n",
    "len(app_test)"
   ]
  },
  {
   "cell_type": "code",
   "execution_count": 8,
   "id": "93802c05",
   "metadata": {},
   "outputs": [
    {
     "data": {
      "text/html": [
       "<div>\n",
       "<style scoped>\n",
       "    .dataframe tbody tr th:only-of-type {\n",
       "        vertical-align: middle;\n",
       "    }\n",
       "\n",
       "    .dataframe tbody tr th {\n",
       "        vertical-align: top;\n",
       "    }\n",
       "\n",
       "    .dataframe thead th {\n",
       "        text-align: right;\n",
       "    }\n",
       "</style>\n",
       "<table border=\"1\" class=\"dataframe\">\n",
       "  <thead>\n",
       "    <tr style=\"text-align: right;\">\n",
       "      <th></th>\n",
       "      <th>SK_ID_CURR</th>\n",
       "      <th>TARGET</th>\n",
       "    </tr>\n",
       "  </thead>\n",
       "  <tbody>\n",
       "    <tr>\n",
       "      <th>0</th>\n",
       "      <td>100002</td>\n",
       "      <td>1</td>\n",
       "    </tr>\n",
       "    <tr>\n",
       "      <th>1</th>\n",
       "      <td>100003</td>\n",
       "      <td>0</td>\n",
       "    </tr>\n",
       "    <tr>\n",
       "      <th>2</th>\n",
       "      <td>100004</td>\n",
       "      <td>0</td>\n",
       "    </tr>\n",
       "    <tr>\n",
       "      <th>3</th>\n",
       "      <td>100006</td>\n",
       "      <td>0</td>\n",
       "    </tr>\n",
       "    <tr>\n",
       "      <th>4</th>\n",
       "      <td>100007</td>\n",
       "      <td>0</td>\n",
       "    </tr>\n",
       "  </tbody>\n",
       "</table>\n",
       "</div>"
      ],
      "text/plain": [
       "   SK_ID_CURR  TARGET\n",
       "0      100002       1\n",
       "1      100003       0\n",
       "2      100004       0\n",
       "3      100006       0\n",
       "4      100007       0"
      ]
     },
     "execution_count": 8,
     "metadata": {},
     "output_type": "execute_result"
    }
   ],
   "source": [
    "app_train.head()"
   ]
  },
  {
   "cell_type": "markdown",
   "id": "1f88f372",
   "metadata": {},
   "source": [
    "### 申し込み月におけるCssh loanの情報をマージ"
   ]
  },
  {
   "cell_type": "code",
   "execution_count": 9,
   "id": "b3d483c5",
   "metadata": {},
   "outputs": [
    {
     "data": {
      "text/plain": [
       "35586"
      ]
     },
     "execution_count": 9,
     "metadata": {},
     "output_type": "execute_result"
    }
   ],
   "source": [
    "app_train_revo = app_train_revo.rename(columns={'sk_id_curr': 'SK_ID_CURR'})\n",
    "app_test_revo = app_test_revo.rename(columns={'sk_id_curr': 'SK_ID_CURR'})\n",
    "len(app_train_revo)"
   ]
  },
  {
   "cell_type": "code",
   "execution_count": 10,
   "id": "e3d3e06a",
   "metadata": {},
   "outputs": [
    {
     "data": {
      "text/plain": [
       "307511"
      ]
     },
     "execution_count": 10,
     "metadata": {},
     "output_type": "execute_result"
    }
   ],
   "source": [
    "# trainへマージ\n",
    "app_train = pd.merge(app_train, app_train_revo, on='SK_ID_CURR', how='left')\n",
    "# testへマージ\n",
    "app_test = pd.merge(app_test, app_test_revo, on='SK_ID_CURR', how='left')\n",
    "len(app_train)"
   ]
  },
  {
   "cell_type": "markdown",
   "id": "208cb8c1",
   "metadata": {},
   "source": [
    "### installment_payment_ratio_1000_mean_meanをマージ"
   ]
  },
  {
   "cell_type": "code",
   "execution_count": 11,
   "id": "e0818a4a",
   "metadata": {},
   "outputs": [
    {
     "data": {
      "text/html": [
       "<div>\n",
       "<style scoped>\n",
       "    .dataframe tbody tr th:only-of-type {\n",
       "        vertical-align: middle;\n",
       "    }\n",
       "\n",
       "    .dataframe tbody tr th {\n",
       "        vertical-align: top;\n",
       "    }\n",
       "\n",
       "    .dataframe thead th {\n",
       "        text-align: right;\n",
       "    }\n",
       "</style>\n",
       "<table border=\"1\" class=\"dataframe\">\n",
       "  <thead>\n",
       "    <tr style=\"text-align: right;\">\n",
       "      <th></th>\n",
       "      <th>SK_ID_CURR</th>\n",
       "      <th>revo_installment_payment_ratio_1000_mean_mean</th>\n",
       "    </tr>\n",
       "  </thead>\n",
       "  <tbody>\n",
       "    <tr>\n",
       "      <th>0</th>\n",
       "      <td>100011</td>\n",
       "      <td>0.000000</td>\n",
       "    </tr>\n",
       "    <tr>\n",
       "      <th>1</th>\n",
       "      <td>100043</td>\n",
       "      <td>-1260.462857</td>\n",
       "    </tr>\n",
       "    <tr>\n",
       "      <th>2</th>\n",
       "      <td>100048</td>\n",
       "      <td>0.000000</td>\n",
       "    </tr>\n",
       "    <tr>\n",
       "      <th>3</th>\n",
       "      <td>100049</td>\n",
       "      <td>-289.125000</td>\n",
       "    </tr>\n",
       "    <tr>\n",
       "      <th>4</th>\n",
       "      <td>100075</td>\n",
       "      <td>0.000000</td>\n",
       "    </tr>\n",
       "  </tbody>\n",
       "</table>\n",
       "</div>"
      ],
      "text/plain": [
       "   SK_ID_CURR  revo_installment_payment_ratio_1000_mean_mean\n",
       "0      100011                                       0.000000\n",
       "1      100043                                   -1260.462857\n",
       "2      100048                                       0.000000\n",
       "3      100049                                    -289.125000\n",
       "4      100075                                       0.000000"
      ]
     },
     "execution_count": 11,
     "metadata": {},
     "output_type": "execute_result"
    }
   ],
   "source": [
    "app_train_1000_mean = app_train_1000_mean.rename(columns={'sk_id_curr': 'SK_ID_CURR'})\n",
    "app_test_1000_mean = app_test_1000_mean.rename(columns={'sk_id_curr': 'SK_ID_CURR'})\n",
    "app_train_1000_mean.head()"
   ]
  },
  {
   "cell_type": "code",
   "execution_count": 12,
   "id": "80d7425d",
   "metadata": {},
   "outputs": [],
   "source": [
    "#app_train_1000_mean.drop(['sk_id_prev'], axis=1, inplace=True)\n",
    "#app_test_1000_mean.drop(['sk_id_prev'], axis=1, inplace=True)\n",
    "#app_train_1000_mean.head()"
   ]
  },
  {
   "cell_type": "code",
   "execution_count": 13,
   "id": "28ef3529",
   "metadata": {},
   "outputs": [
    {
     "data": {
      "text/plain": [
       "307511"
      ]
     },
     "execution_count": 13,
     "metadata": {},
     "output_type": "execute_result"
    }
   ],
   "source": [
    "# trainへマージ\n",
    "app_train = pd.merge(app_train, app_train_1000_mean, on='SK_ID_CURR', how='left')\n",
    "# testへマージ\n",
    "app_test = pd.merge(app_test, app_test_1000_mean, on='SK_ID_CURR', how='left')\n",
    "len(app_train)"
   ]
  },
  {
   "cell_type": "code",
   "execution_count": 14,
   "id": "4af7abb0",
   "metadata": {},
   "outputs": [
    {
     "data": {
      "text/plain": [
       "0        NaN\n",
       "1        NaN\n",
       "2        NaN\n",
       "3        NaN\n",
       "4        NaN\n",
       "          ..\n",
       "307506   NaN\n",
       "307507   NaN\n",
       "307508   NaN\n",
       "307509   NaN\n",
       "307510   NaN\n",
       "Name: revo_installment_payment_ratio_1000_mean_mean, Length: 307511, dtype: float64"
      ]
     },
     "execution_count": 14,
     "metadata": {},
     "output_type": "execute_result"
    }
   ],
   "source": [
    "app_train['revo_installment_payment_ratio_1000_mean_mean']"
   ]
  },
  {
   "cell_type": "code",
   "execution_count": 15,
   "id": "c0f00c4b",
   "metadata": {},
   "outputs": [
    {
     "data": {
      "text/plain": [
       "255531"
      ]
     },
     "execution_count": 15,
     "metadata": {},
     "output_type": "execute_result"
    }
   ],
   "source": [
    "app_train['revo_installment_payment_ratio_1000_mean_mean'].isnull().sum()"
   ]
  },
  {
   "cell_type": "code",
   "execution_count": 16,
   "id": "4a87c74e",
   "metadata": {},
   "outputs": [],
   "source": [
    "#app_train['amt_annuity'].fillna(0, inplace=True)\n",
    "#app_test['amt_annuity'].fillna(0, inplace=True)"
   ]
  },
  {
   "cell_type": "code",
   "execution_count": 17,
   "id": "22d3b757",
   "metadata": {},
   "outputs": [
    {
     "data": {
      "text/plain": [
       "271925"
      ]
     },
     "execution_count": 17,
     "metadata": {},
     "output_type": "execute_result"
    }
   ],
   "source": [
    "app_train['revo_amt_annuity'].isnull().sum()"
   ]
  },
  {
   "cell_type": "markdown",
   "id": "6fcb4a3e",
   "metadata": {},
   "source": [
    "### annuity_to_max_installment_ratioをマージ"
   ]
  },
  {
   "cell_type": "code",
   "execution_count": 18,
   "id": "82525aa0",
   "metadata": {},
   "outputs": [
    {
     "data": {
      "text/html": [
       "<div>\n",
       "<style scoped>\n",
       "    .dataframe tbody tr th:only-of-type {\n",
       "        vertical-align: middle;\n",
       "    }\n",
       "\n",
       "    .dataframe tbody tr th {\n",
       "        vertical-align: top;\n",
       "    }\n",
       "\n",
       "    .dataframe thead th {\n",
       "        text-align: right;\n",
       "    }\n",
       "</style>\n",
       "<table border=\"1\" class=\"dataframe\">\n",
       "  <thead>\n",
       "    <tr style=\"text-align: right;\">\n",
       "      <th></th>\n",
       "      <th>SK_ID_CURR</th>\n",
       "      <th>revo_annuity_to_max_installment_ratio</th>\n",
       "    </tr>\n",
       "  </thead>\n",
       "  <tbody>\n",
       "    <tr>\n",
       "      <th>0</th>\n",
       "      <td>100028</td>\n",
       "      <td>-1815.4815</td>\n",
       "    </tr>\n",
       "    <tr>\n",
       "      <th>1</th>\n",
       "      <td>100042</td>\n",
       "      <td>-2035.2941</td>\n",
       "    </tr>\n",
       "    <tr>\n",
       "      <th>2</th>\n",
       "      <td>100067</td>\n",
       "      <td>-593.0000</td>\n",
       "    </tr>\n",
       "    <tr>\n",
       "      <th>3</th>\n",
       "      <td>100107</td>\n",
       "      <td>-5422.5000</td>\n",
       "    </tr>\n",
       "    <tr>\n",
       "      <th>4</th>\n",
       "      <td>100330</td>\n",
       "      <td>-3950.2857</td>\n",
       "    </tr>\n",
       "  </tbody>\n",
       "</table>\n",
       "</div>"
      ],
      "text/plain": [
       "   SK_ID_CURR  revo_annuity_to_max_installment_ratio\n",
       "0      100028                             -1815.4815\n",
       "1      100042                             -2035.2941\n",
       "2      100067                              -593.0000\n",
       "3      100107                             -5422.5000\n",
       "4      100330                             -3950.2857"
      ]
     },
     "execution_count": 18,
     "metadata": {},
     "output_type": "execute_result"
    }
   ],
   "source": [
    "app_train_max_installment_ratio = app_train_max_installment_ratio.rename(columns={'sk_id_curr': 'SK_ID_CURR'})\n",
    "app_test_max_installment_ratio = app_test_max_installment_ratio.rename(columns={'sk_id_curr': 'SK_ID_CURR'})\n",
    "app_test_max_installment_ratio.head()"
   ]
  },
  {
   "cell_type": "code",
   "execution_count": 19,
   "id": "d1fc0c53",
   "metadata": {},
   "outputs": [
    {
     "data": {
      "text/plain": [
       "307511"
      ]
     },
     "execution_count": 19,
     "metadata": {},
     "output_type": "execute_result"
    }
   ],
   "source": [
    "# trainへマージ\n",
    "app_train = pd.merge(app_train, app_train_max_installment_ratio, on='SK_ID_CURR', how='left')\n",
    "# testへマージ\n",
    "app_test = pd.merge(app_test, app_test_max_installment_ratio, on='SK_ID_CURR', how='left')\n",
    "len(app_train)"
   ]
  },
  {
   "cell_type": "markdown",
   "id": "2d612127",
   "metadata": {},
   "source": [
    "### AMT_ANNUITY(ローン支払い額)"
   ]
  },
  {
   "cell_type": "code",
   "execution_count": 20,
   "id": "8b3f9319",
   "metadata": {},
   "outputs": [
    {
     "data": {
      "text/plain": [
       "nan"
      ]
     },
     "execution_count": 20,
     "metadata": {},
     "output_type": "execute_result"
    }
   ],
   "source": [
    "max(app_train['revo_amt_annuity'])"
   ]
  },
  {
   "cell_type": "code",
   "execution_count": 21,
   "id": "7af685ff",
   "metadata": {},
   "outputs": [
    {
     "data": {
      "text/plain": [
       "nan"
      ]
     },
     "execution_count": 21,
     "metadata": {},
     "output_type": "execute_result"
    }
   ],
   "source": [
    "min(app_train['revo_amt_annuity'])"
   ]
  },
  {
   "cell_type": "code",
   "execution_count": 22,
   "id": "8ab5de5a",
   "metadata": {},
   "outputs": [
    {
     "data": {
      "text/html": [
       "<div>\n",
       "<style scoped>\n",
       "    .dataframe tbody tr th:only-of-type {\n",
       "        vertical-align: middle;\n",
       "    }\n",
       "\n",
       "    .dataframe tbody tr th {\n",
       "        vertical-align: top;\n",
       "    }\n",
       "\n",
       "    .dataframe thead th {\n",
       "        text-align: right;\n",
       "    }\n",
       "</style>\n",
       "<table border=\"1\" class=\"dataframe\">\n",
       "  <thead>\n",
       "    <tr style=\"text-align: right;\">\n",
       "      <th></th>\n",
       "      <th>revo_amt_annuity</th>\n",
       "      <th>TARGET</th>\n",
       "    </tr>\n",
       "  </thead>\n",
       "  <tbody>\n",
       "    <tr>\n",
       "      <th>revo_amt_annuity</th>\n",
       "      <td>1.000000</td>\n",
       "      <td>-0.023584</td>\n",
       "    </tr>\n",
       "    <tr>\n",
       "      <th>TARGET</th>\n",
       "      <td>-0.023584</td>\n",
       "      <td>1.000000</td>\n",
       "    </tr>\n",
       "  </tbody>\n",
       "</table>\n",
       "</div>"
      ],
      "text/plain": [
       "                  revo_amt_annuity    TARGET\n",
       "revo_amt_annuity          1.000000 -0.023584\n",
       "TARGET                   -0.023584  1.000000"
      ]
     },
     "execution_count": 22,
     "metadata": {},
     "output_type": "execute_result"
    }
   ],
   "source": [
    "app_train[['revo_amt_annuity', 'TARGET']].corr()"
   ]
  },
  {
   "cell_type": "markdown",
   "id": "77493d7c",
   "metadata": {},
   "source": [
    "### AMT_APPLICATION|借り入れ申し込み金額|"
   ]
  },
  {
   "cell_type": "code",
   "execution_count": 23,
   "id": "11dc9824",
   "metadata": {},
   "outputs": [],
   "source": [
    "#app_train['amt_application'].fillna(0, inplace=True)\n",
    "#app_test['amt_application'].fillna(0, inplace=True)"
   ]
  },
  {
   "cell_type": "code",
   "execution_count": 24,
   "id": "6b3b6d3e",
   "metadata": {},
   "outputs": [
    {
     "data": {
      "text/html": [
       "<div>\n",
       "<style scoped>\n",
       "    .dataframe tbody tr th:only-of-type {\n",
       "        vertical-align: middle;\n",
       "    }\n",
       "\n",
       "    .dataframe tbody tr th {\n",
       "        vertical-align: top;\n",
       "    }\n",
       "\n",
       "    .dataframe thead th {\n",
       "        text-align: right;\n",
       "    }\n",
       "</style>\n",
       "<table border=\"1\" class=\"dataframe\">\n",
       "  <thead>\n",
       "    <tr style=\"text-align: right;\">\n",
       "      <th></th>\n",
       "      <th>revo_amt_application</th>\n",
       "      <th>TARGET</th>\n",
       "    </tr>\n",
       "  </thead>\n",
       "  <tbody>\n",
       "    <tr>\n",
       "      <th>revo_amt_application</th>\n",
       "      <td>1.000000</td>\n",
       "      <td>0.021231</td>\n",
       "    </tr>\n",
       "    <tr>\n",
       "      <th>TARGET</th>\n",
       "      <td>0.021231</td>\n",
       "      <td>1.000000</td>\n",
       "    </tr>\n",
       "  </tbody>\n",
       "</table>\n",
       "</div>"
      ],
      "text/plain": [
       "                      revo_amt_application    TARGET\n",
       "revo_amt_application              1.000000  0.021231\n",
       "TARGET                            0.021231  1.000000"
      ]
     },
     "execution_count": 24,
     "metadata": {},
     "output_type": "execute_result"
    }
   ],
   "source": [
    "app_train[['revo_amt_application', 'TARGET']].corr()"
   ]
  },
  {
   "cell_type": "markdown",
   "id": "63593d37",
   "metadata": {},
   "source": [
    "### AMT_CREDIT(借り入れ承認金額(最終的な貸付金額))"
   ]
  },
  {
   "cell_type": "code",
   "execution_count": 25,
   "id": "2ee52722",
   "metadata": {},
   "outputs": [
    {
     "data": {
      "text/plain": [
       "nan"
      ]
     },
     "execution_count": 25,
     "metadata": {},
     "output_type": "execute_result"
    }
   ],
   "source": [
    "max(app_train['revo_amt_credit'])"
   ]
  },
  {
   "cell_type": "code",
   "execution_count": 26,
   "id": "2a30f4d8",
   "metadata": {},
   "outputs": [
    {
     "data": {
      "text/plain": [
       "nan"
      ]
     },
     "execution_count": 26,
     "metadata": {},
     "output_type": "execute_result"
    }
   ],
   "source": [
    "min(app_train['revo_amt_credit'])"
   ]
  },
  {
   "cell_type": "code",
   "execution_count": 27,
   "id": "80d48903",
   "metadata": {},
   "outputs": [
    {
     "data": {
      "text/html": [
       "<div>\n",
       "<style scoped>\n",
       "    .dataframe tbody tr th:only-of-type {\n",
       "        vertical-align: middle;\n",
       "    }\n",
       "\n",
       "    .dataframe tbody tr th {\n",
       "        vertical-align: top;\n",
       "    }\n",
       "\n",
       "    .dataframe thead th {\n",
       "        text-align: right;\n",
       "    }\n",
       "</style>\n",
       "<table border=\"1\" class=\"dataframe\">\n",
       "  <thead>\n",
       "    <tr style=\"text-align: right;\">\n",
       "      <th></th>\n",
       "      <th>revo_amt_credit</th>\n",
       "      <th>TARGET</th>\n",
       "    </tr>\n",
       "  </thead>\n",
       "  <tbody>\n",
       "    <tr>\n",
       "      <th>revo_amt_credit</th>\n",
       "      <td>1.000000</td>\n",
       "      <td>-0.022719</td>\n",
       "    </tr>\n",
       "    <tr>\n",
       "      <th>TARGET</th>\n",
       "      <td>-0.022719</td>\n",
       "      <td>1.000000</td>\n",
       "    </tr>\n",
       "  </tbody>\n",
       "</table>\n",
       "</div>"
      ],
      "text/plain": [
       "                 revo_amt_credit    TARGET\n",
       "revo_amt_credit         1.000000 -0.022719\n",
       "TARGET                 -0.022719  1.000000"
      ]
     },
     "execution_count": 27,
     "metadata": {},
     "output_type": "execute_result"
    }
   ],
   "source": [
    "app_train[['revo_amt_credit', 'TARGET']].corr()"
   ]
  },
  {
   "cell_type": "markdown",
   "id": "cff1629a",
   "metadata": {},
   "source": [
    "### AMT_DOWN_PAYMENT(頭金) Cash loans の場合は不要?"
   ]
  },
  {
   "cell_type": "code",
   "execution_count": 28,
   "id": "4c8ea3ed",
   "metadata": {},
   "outputs": [
    {
     "data": {
      "text/html": [
       "<div>\n",
       "<style scoped>\n",
       "    .dataframe tbody tr th:only-of-type {\n",
       "        vertical-align: middle;\n",
       "    }\n",
       "\n",
       "    .dataframe tbody tr th {\n",
       "        vertical-align: top;\n",
       "    }\n",
       "\n",
       "    .dataframe thead th {\n",
       "        text-align: right;\n",
       "    }\n",
       "</style>\n",
       "<table border=\"1\" class=\"dataframe\">\n",
       "  <thead>\n",
       "    <tr style=\"text-align: right;\">\n",
       "      <th></th>\n",
       "      <th>revo_amt_down_payment</th>\n",
       "      <th>TARGET</th>\n",
       "    </tr>\n",
       "  </thead>\n",
       "  <tbody>\n",
       "    <tr>\n",
       "      <th>revo_amt_down_payment</th>\n",
       "      <td>1.000000</td>\n",
       "      <td>-0.010726</td>\n",
       "    </tr>\n",
       "    <tr>\n",
       "      <th>TARGET</th>\n",
       "      <td>-0.010726</td>\n",
       "      <td>1.000000</td>\n",
       "    </tr>\n",
       "  </tbody>\n",
       "</table>\n",
       "</div>"
      ],
      "text/plain": [
       "                       revo_amt_down_payment    TARGET\n",
       "revo_amt_down_payment               1.000000 -0.010726\n",
       "TARGET                             -0.010726  1.000000"
      ]
     },
     "execution_count": 28,
     "metadata": {},
     "output_type": "execute_result"
    }
   ],
   "source": [
    "app_train[['revo_amt_down_payment', 'TARGET']].corr()"
   ]
  },
  {
   "cell_type": "code",
   "execution_count": 29,
   "id": "72b61ecc",
   "metadata": {},
   "outputs": [],
   "source": [
    "#app_train.drop(['revo_amt_down_payment'], axis=1, inplace=True)\n",
    "#app_test.drop(['revo_amt_down_payment'], axis=1, inplace=True)"
   ]
  },
  {
   "cell_type": "markdown",
   "id": "3491ddf3",
   "metadata": {},
   "source": [
    "### AMT_GOODS_PRICE(クライアントが要求した商品価格)"
   ]
  },
  {
   "cell_type": "code",
   "execution_count": 30,
   "id": "290e500c",
   "metadata": {},
   "outputs": [
    {
     "data": {
      "text/html": [
       "<div>\n",
       "<style scoped>\n",
       "    .dataframe tbody tr th:only-of-type {\n",
       "        vertical-align: middle;\n",
       "    }\n",
       "\n",
       "    .dataframe tbody tr th {\n",
       "        vertical-align: top;\n",
       "    }\n",
       "\n",
       "    .dataframe thead th {\n",
       "        text-align: right;\n",
       "    }\n",
       "</style>\n",
       "<table border=\"1\" class=\"dataframe\">\n",
       "  <thead>\n",
       "    <tr style=\"text-align: right;\">\n",
       "      <th></th>\n",
       "      <th>revo_amt_goods_price</th>\n",
       "      <th>TARGET</th>\n",
       "    </tr>\n",
       "  </thead>\n",
       "  <tbody>\n",
       "    <tr>\n",
       "      <th>revo_amt_goods_price</th>\n",
       "      <td>1.000000</td>\n",
       "      <td>0.021231</td>\n",
       "    </tr>\n",
       "    <tr>\n",
       "      <th>TARGET</th>\n",
       "      <td>0.021231</td>\n",
       "      <td>1.000000</td>\n",
       "    </tr>\n",
       "  </tbody>\n",
       "</table>\n",
       "</div>"
      ],
      "text/plain": [
       "                      revo_amt_goods_price    TARGET\n",
       "revo_amt_goods_price              1.000000  0.021231\n",
       "TARGET                            0.021231  1.000000"
      ]
     },
     "execution_count": 30,
     "metadata": {},
     "output_type": "execute_result"
    }
   ],
   "source": [
    "app_train[['revo_amt_goods_price', 'TARGET']].corr()"
   ]
  },
  {
   "cell_type": "markdown",
   "id": "951d832a",
   "metadata": {},
   "source": [
    "### WEEKDAY_APPR_PROCESS_START(申請した曜日)"
   ]
  },
  {
   "cell_type": "code",
   "execution_count": 31,
   "id": "a701df8e",
   "metadata": {},
   "outputs": [],
   "source": [
    "app_train['revo_weekday_appr_process_start'].replace(['TUESDAY', 'MONDAY', 'WEDNESDAY', 'THURSDAY', 'FRIDAY', 'SATURDAY', 'SUNDAY'], [1, 2, 3, 4, 5, 6, 7], inplace=True)\n",
    "app_test['revo_weekday_appr_process_start'].replace(['TUESDAY', 'MONDAY', 'WEDNESDAY', 'THURSDAY', 'FRIDAY', 'SATURDAY', 'SUNDAY'], [1, 2, 3, 4, 5, 6, 7], inplace=True)"
   ]
  },
  {
   "cell_type": "code",
   "execution_count": 32,
   "id": "284d60e3",
   "metadata": {},
   "outputs": [
    {
     "data": {
      "text/plain": [
       "3.0    5908\n",
       "1.0    5878\n",
       "5.0    5580\n",
       "4.0    5549\n",
       "2.0    5438\n",
       "6.0    4580\n",
       "7.0    2653\n",
       "Name: revo_weekday_appr_process_start, dtype: int64"
      ]
     },
     "execution_count": 32,
     "metadata": {},
     "output_type": "execute_result"
    }
   ],
   "source": [
    "app_train['revo_weekday_appr_process_start'].value_counts()"
   ]
  },
  {
   "cell_type": "code",
   "execution_count": 33,
   "id": "3fe34aed",
   "metadata": {},
   "outputs": [
    {
     "data": {
      "text/html": [
       "<div>\n",
       "<style scoped>\n",
       "    .dataframe tbody tr th:only-of-type {\n",
       "        vertical-align: middle;\n",
       "    }\n",
       "\n",
       "    .dataframe tbody tr th {\n",
       "        vertical-align: top;\n",
       "    }\n",
       "\n",
       "    .dataframe thead th {\n",
       "        text-align: right;\n",
       "    }\n",
       "</style>\n",
       "<table border=\"1\" class=\"dataframe\">\n",
       "  <thead>\n",
       "    <tr style=\"text-align: right;\">\n",
       "      <th></th>\n",
       "      <th>revo_weekday_appr_process_start</th>\n",
       "      <th>TARGET</th>\n",
       "    </tr>\n",
       "  </thead>\n",
       "  <tbody>\n",
       "    <tr>\n",
       "      <th>revo_weekday_appr_process_start</th>\n",
       "      <td>1.000000</td>\n",
       "      <td>0.003813</td>\n",
       "    </tr>\n",
       "    <tr>\n",
       "      <th>TARGET</th>\n",
       "      <td>0.003813</td>\n",
       "      <td>1.000000</td>\n",
       "    </tr>\n",
       "  </tbody>\n",
       "</table>\n",
       "</div>"
      ],
      "text/plain": [
       "                                 revo_weekday_appr_process_start    TARGET\n",
       "revo_weekday_appr_process_start                         1.000000  0.003813\n",
       "TARGET                                                  0.003813  1.000000"
      ]
     },
     "execution_count": 33,
     "metadata": {},
     "output_type": "execute_result"
    }
   ],
   "source": [
    "app_train[['revo_weekday_appr_process_start', 'TARGET']].corr()"
   ]
  },
  {
   "cell_type": "code",
   "execution_count": 34,
   "id": "6ee499d0",
   "metadata": {},
   "outputs": [],
   "source": [
    "app_train.drop(['revo_weekday_appr_process_start'], axis=1, inplace=True)\n",
    "app_test.drop(['revo_weekday_appr_process_start'], axis=1, inplace=True)"
   ]
  },
  {
   "cell_type": "markdown",
   "id": "2561c7a0",
   "metadata": {},
   "source": [
    "### HOUR_APPR_PROCESS_START(クライアントが応募した時間)"
   ]
  },
  {
   "cell_type": "code",
   "execution_count": 35,
   "id": "b896f309",
   "metadata": {},
   "outputs": [
    {
     "data": {
      "text/plain": [
       "11.0    4079\n",
       "10.0    3957\n",
       "12.0    3787\n",
       "13.0    3650\n",
       "14.0    3259\n",
       "15.0    2976\n",
       "9.0     2843\n",
       "16.0    2556\n",
       "17.0    1990\n",
       "8.0     1756\n",
       "18.0    1318\n",
       "7.0     1033\n",
       "19.0     674\n",
       "6.0      564\n",
       "5.0      313\n",
       "20.0     274\n",
       "4.0      193\n",
       "21.0     123\n",
       "3.0      108\n",
       "22.0      45\n",
       "2.0       38\n",
       "23.0      26\n",
       "0.0       13\n",
       "1.0       11\n",
       "Name: revo_hour_appr_process_start, dtype: int64"
      ]
     },
     "execution_count": 35,
     "metadata": {},
     "output_type": "execute_result"
    }
   ],
   "source": [
    "app_train['revo_hour_appr_process_start'].value_counts()"
   ]
  },
  {
   "cell_type": "code",
   "execution_count": 36,
   "id": "edba6ab3",
   "metadata": {},
   "outputs": [
    {
     "data": {
      "text/html": [
       "<div>\n",
       "<style scoped>\n",
       "    .dataframe tbody tr th:only-of-type {\n",
       "        vertical-align: middle;\n",
       "    }\n",
       "\n",
       "    .dataframe tbody tr th {\n",
       "        vertical-align: top;\n",
       "    }\n",
       "\n",
       "    .dataframe thead th {\n",
       "        text-align: right;\n",
       "    }\n",
       "</style>\n",
       "<table border=\"1\" class=\"dataframe\">\n",
       "  <thead>\n",
       "    <tr style=\"text-align: right;\">\n",
       "      <th></th>\n",
       "      <th>revo_hour_appr_process_start</th>\n",
       "      <th>TARGET</th>\n",
       "    </tr>\n",
       "  </thead>\n",
       "  <tbody>\n",
       "    <tr>\n",
       "      <th>revo_hour_appr_process_start</th>\n",
       "      <td>1.000000</td>\n",
       "      <td>-0.030777</td>\n",
       "    </tr>\n",
       "    <tr>\n",
       "      <th>TARGET</th>\n",
       "      <td>-0.030777</td>\n",
       "      <td>1.000000</td>\n",
       "    </tr>\n",
       "  </tbody>\n",
       "</table>\n",
       "</div>"
      ],
      "text/plain": [
       "                              revo_hour_appr_process_start    TARGET\n",
       "revo_hour_appr_process_start                      1.000000 -0.030777\n",
       "TARGET                                           -0.030777  1.000000"
      ]
     },
     "execution_count": 36,
     "metadata": {},
     "output_type": "execute_result"
    }
   ],
   "source": [
    "app_train[['revo_hour_appr_process_start', 'TARGET']].corr()"
   ]
  },
  {
   "cell_type": "markdown",
   "id": "ccea59d8",
   "metadata": {},
   "source": [
    "### FLAG_LAST_APPL_PER_CONTRACT|最も最新の過去のローン申請だった場合のフラグ(店員による間違いがあるかもしれんけど)|"
   ]
  },
  {
   "cell_type": "code",
   "execution_count": 37,
   "id": "3fd0064f",
   "metadata": {},
   "outputs": [
    {
     "data": {
      "text/plain": [
       "Y    35586\n",
       "Name: revo_flag_last_appl_per_contract, dtype: int64"
      ]
     },
     "execution_count": 37,
     "metadata": {},
     "output_type": "execute_result"
    }
   ],
   "source": [
    "app_train['revo_flag_last_appl_per_contract'].value_counts()"
   ]
  },
  {
   "cell_type": "code",
   "execution_count": 38,
   "id": "49d4039b",
   "metadata": {},
   "outputs": [],
   "source": [
    "app_train.drop(['revo_flag_last_appl_per_contract'], axis=1, inplace=True)\n",
    "app_test.drop(['revo_flag_last_appl_per_contract'], axis=1, inplace=True)"
   ]
  },
  {
   "cell_type": "markdown",
   "id": "1cb984d0",
   "metadata": {},
   "source": [
    "### NFLAG_LAST_APPL_IN_DAY(1日の中での最後の申し込みだった場合のフラグ)"
   ]
  },
  {
   "cell_type": "code",
   "execution_count": 39,
   "id": "f25d2ebf",
   "metadata": {},
   "outputs": [
    {
     "data": {
      "text/plain": [
       "1.0    35561\n",
       "0.0       25\n",
       "Name: revo_nflag_last_appl_in_day, dtype: int64"
      ]
     },
     "execution_count": 39,
     "metadata": {},
     "output_type": "execute_result"
    }
   ],
   "source": [
    "app_train['revo_nflag_last_appl_in_day'].value_counts()"
   ]
  },
  {
   "cell_type": "code",
   "execution_count": 40,
   "id": "7280f71f",
   "metadata": {},
   "outputs": [
    {
     "data": {
      "text/html": [
       "<div>\n",
       "<style scoped>\n",
       "    .dataframe tbody tr th:only-of-type {\n",
       "        vertical-align: middle;\n",
       "    }\n",
       "\n",
       "    .dataframe tbody tr th {\n",
       "        vertical-align: top;\n",
       "    }\n",
       "\n",
       "    .dataframe thead th {\n",
       "        text-align: right;\n",
       "    }\n",
       "</style>\n",
       "<table border=\"1\" class=\"dataframe\">\n",
       "  <thead>\n",
       "    <tr style=\"text-align: right;\">\n",
       "      <th></th>\n",
       "      <th>revo_nflag_last_appl_in_day</th>\n",
       "      <th>TARGET</th>\n",
       "    </tr>\n",
       "  </thead>\n",
       "  <tbody>\n",
       "    <tr>\n",
       "      <th>revo_nflag_last_appl_in_day</th>\n",
       "      <td>1.000000</td>\n",
       "      <td>0.005826</td>\n",
       "    </tr>\n",
       "    <tr>\n",
       "      <th>TARGET</th>\n",
       "      <td>0.005826</td>\n",
       "      <td>1.000000</td>\n",
       "    </tr>\n",
       "  </tbody>\n",
       "</table>\n",
       "</div>"
      ],
      "text/plain": [
       "                             revo_nflag_last_appl_in_day    TARGET\n",
       "revo_nflag_last_appl_in_day                     1.000000  0.005826\n",
       "TARGET                                          0.005826  1.000000"
      ]
     },
     "execution_count": 40,
     "metadata": {},
     "output_type": "execute_result"
    }
   ],
   "source": [
    "app_train[['revo_nflag_last_appl_in_day', 'TARGET']].corr()"
   ]
  },
  {
   "cell_type": "code",
   "execution_count": 41,
   "id": "2a53ab82",
   "metadata": {},
   "outputs": [],
   "source": [
    "app_train.drop(['revo_nflag_last_appl_in_day'], axis=1, inplace=True)\n",
    "app_test.drop(['revo_nflag_last_appl_in_day'], axis=1, inplace=True)"
   ]
  },
  {
   "cell_type": "markdown",
   "id": "f064d36c",
   "metadata": {},
   "source": [
    "### RATE_DOWN_PAYMENT(前払い率)"
   ]
  },
  {
   "cell_type": "code",
   "execution_count": 42,
   "id": "134e1cfa",
   "metadata": {},
   "outputs": [
    {
     "data": {
      "text/plain": [
       "0.000000    35332\n",
       "0.217818        6\n",
       "0.363030        5\n",
       "0.155584        5\n",
       "0.401244        3\n",
       "            ...  \n",
       "0.106220        1\n",
       "0.107320        1\n",
       "0.078177        1\n",
       "0.104541        1\n",
       "0.269918        1\n",
       "Name: revo_rate_down_payment, Length: 208, dtype: int64"
      ]
     },
     "execution_count": 42,
     "metadata": {},
     "output_type": "execute_result"
    }
   ],
   "source": [
    "app_train['revo_rate_down_payment'].value_counts()"
   ]
  },
  {
   "cell_type": "code",
   "execution_count": 43,
   "id": "8adbc48f",
   "metadata": {},
   "outputs": [
    {
     "data": {
      "text/html": [
       "<div>\n",
       "<style scoped>\n",
       "    .dataframe tbody tr th:only-of-type {\n",
       "        vertical-align: middle;\n",
       "    }\n",
       "\n",
       "    .dataframe tbody tr th {\n",
       "        vertical-align: top;\n",
       "    }\n",
       "\n",
       "    .dataframe thead th {\n",
       "        text-align: right;\n",
       "    }\n",
       "</style>\n",
       "<table border=\"1\" class=\"dataframe\">\n",
       "  <thead>\n",
       "    <tr style=\"text-align: right;\">\n",
       "      <th></th>\n",
       "      <th>revo_rate_down_payment</th>\n",
       "      <th>TARGET</th>\n",
       "    </tr>\n",
       "  </thead>\n",
       "  <tbody>\n",
       "    <tr>\n",
       "      <th>revo_rate_down_payment</th>\n",
       "      <td>1.000000</td>\n",
       "      <td>-0.010131</td>\n",
       "    </tr>\n",
       "    <tr>\n",
       "      <th>TARGET</th>\n",
       "      <td>-0.010131</td>\n",
       "      <td>1.000000</td>\n",
       "    </tr>\n",
       "  </tbody>\n",
       "</table>\n",
       "</div>"
      ],
      "text/plain": [
       "                        revo_rate_down_payment    TARGET\n",
       "revo_rate_down_payment                1.000000 -0.010131\n",
       "TARGET                               -0.010131  1.000000"
      ]
     },
     "execution_count": 43,
     "metadata": {},
     "output_type": "execute_result"
    }
   ],
   "source": [
    "app_train[['revo_rate_down_payment', 'TARGET']].corr()"
   ]
  },
  {
   "cell_type": "markdown",
   "id": "edf64089",
   "metadata": {},
   "source": [
    "### RATE_INTEREST_PRIMARY(金利)"
   ]
  },
  {
   "cell_type": "code",
   "execution_count": 44,
   "id": "116d29fc",
   "metadata": {},
   "outputs": [
    {
     "data": {
      "text/plain": [
       "0.000000    35332\n",
       "0.217818        6\n",
       "0.363030        5\n",
       "0.155584        5\n",
       "0.401244        3\n",
       "            ...  \n",
       "0.106220        1\n",
       "0.107320        1\n",
       "0.078177        1\n",
       "0.104541        1\n",
       "0.269918        1\n",
       "Name: revo_rate_down_payment, Length: 208, dtype: int64"
      ]
     },
     "execution_count": 44,
     "metadata": {},
     "output_type": "execute_result"
    }
   ],
   "source": [
    "app_train['revo_rate_down_payment'].value_counts()"
   ]
  },
  {
   "cell_type": "code",
   "execution_count": 45,
   "id": "0a1d4064",
   "metadata": {},
   "outputs": [
    {
     "data": {
      "text/html": [
       "<div>\n",
       "<style scoped>\n",
       "    .dataframe tbody tr th:only-of-type {\n",
       "        vertical-align: middle;\n",
       "    }\n",
       "\n",
       "    .dataframe tbody tr th {\n",
       "        vertical-align: top;\n",
       "    }\n",
       "\n",
       "    .dataframe thead th {\n",
       "        text-align: right;\n",
       "    }\n",
       "</style>\n",
       "<table border=\"1\" class=\"dataframe\">\n",
       "  <thead>\n",
       "    <tr style=\"text-align: right;\">\n",
       "      <th></th>\n",
       "      <th>revo_rate_down_payment</th>\n",
       "      <th>TARGET</th>\n",
       "    </tr>\n",
       "  </thead>\n",
       "  <tbody>\n",
       "    <tr>\n",
       "      <th>revo_rate_down_payment</th>\n",
       "      <td>1.000000</td>\n",
       "      <td>-0.010131</td>\n",
       "    </tr>\n",
       "    <tr>\n",
       "      <th>TARGET</th>\n",
       "      <td>-0.010131</td>\n",
       "      <td>1.000000</td>\n",
       "    </tr>\n",
       "  </tbody>\n",
       "</table>\n",
       "</div>"
      ],
      "text/plain": [
       "                        revo_rate_down_payment    TARGET\n",
       "revo_rate_down_payment                1.000000 -0.010131\n",
       "TARGET                               -0.010131  1.000000"
      ]
     },
     "execution_count": 45,
     "metadata": {},
     "output_type": "execute_result"
    }
   ],
   "source": [
    "app_train[['revo_rate_down_payment', 'TARGET']].corr()"
   ]
  },
  {
   "cell_type": "markdown",
   "id": "e601cbc2",
   "metadata": {},
   "source": [
    "### RATE_INTEREST_PRIVILEGED(金利)"
   ]
  },
  {
   "cell_type": "code",
   "execution_count": 46,
   "id": "df1b2134",
   "metadata": {},
   "outputs": [
    {
     "data": {
      "text/plain": [
       "0.0    35586\n",
       "Name: revo_rate_interest_privileged, dtype: int64"
      ]
     },
     "execution_count": 46,
     "metadata": {},
     "output_type": "execute_result"
    }
   ],
   "source": [
    "app_train['revo_rate_interest_privileged'].value_counts()"
   ]
  },
  {
   "cell_type": "code",
   "execution_count": 47,
   "id": "7cf56c42",
   "metadata": {},
   "outputs": [
    {
     "data": {
      "text/html": [
       "<div>\n",
       "<style scoped>\n",
       "    .dataframe tbody tr th:only-of-type {\n",
       "        vertical-align: middle;\n",
       "    }\n",
       "\n",
       "    .dataframe tbody tr th {\n",
       "        vertical-align: top;\n",
       "    }\n",
       "\n",
       "    .dataframe thead th {\n",
       "        text-align: right;\n",
       "    }\n",
       "</style>\n",
       "<table border=\"1\" class=\"dataframe\">\n",
       "  <thead>\n",
       "    <tr style=\"text-align: right;\">\n",
       "      <th></th>\n",
       "      <th>revo_rate_interest_privileged</th>\n",
       "      <th>TARGET</th>\n",
       "    </tr>\n",
       "  </thead>\n",
       "  <tbody>\n",
       "    <tr>\n",
       "      <th>revo_rate_interest_privileged</th>\n",
       "      <td>NaN</td>\n",
       "      <td>NaN</td>\n",
       "    </tr>\n",
       "    <tr>\n",
       "      <th>TARGET</th>\n",
       "      <td>NaN</td>\n",
       "      <td>1.0</td>\n",
       "    </tr>\n",
       "  </tbody>\n",
       "</table>\n",
       "</div>"
      ],
      "text/plain": [
       "                               revo_rate_interest_privileged  TARGET\n",
       "revo_rate_interest_privileged                            NaN     NaN\n",
       "TARGET                                                   NaN     1.0"
      ]
     },
     "execution_count": 47,
     "metadata": {},
     "output_type": "execute_result"
    }
   ],
   "source": [
    "app_train[['revo_rate_interest_privileged', 'TARGET']].corr()"
   ]
  },
  {
   "cell_type": "code",
   "execution_count": 48,
   "id": "edab2792",
   "metadata": {},
   "outputs": [],
   "source": [
    "app_train.drop(['revo_rate_interest_privileged'], axis=1, inplace=True)\n",
    "app_test.drop(['revo_rate_interest_privileged'], axis=1, inplace=True)"
   ]
  },
  {
   "cell_type": "markdown",
   "id": "d2b7a2a1",
   "metadata": {},
   "source": [
    "### NAME_CASH_LOAN_PURPOSE(現金融資の目的)"
   ]
  },
  {
   "cell_type": "code",
   "execution_count": 49,
   "id": "b138f070",
   "metadata": {},
   "outputs": [
    {
     "data": {
      "text/plain": [
       "XAP    35586\n",
       "Name: revo_name_cash_loan_purpose, dtype: int64"
      ]
     },
     "execution_count": 49,
     "metadata": {},
     "output_type": "execute_result"
    }
   ],
   "source": [
    "app_train['revo_name_cash_loan_purpose'].value_counts()"
   ]
  },
  {
   "cell_type": "code",
   "execution_count": 50,
   "id": "580a43db",
   "metadata": {},
   "outputs": [],
   "source": [
    "app_train.drop(['revo_name_cash_loan_purpose'], axis=1, inplace=True)\n",
    "app_test.drop(['revo_name_cash_loan_purpose'], axis=1, inplace=True)"
   ]
  },
  {
   "cell_type": "markdown",
   "id": "62b25c03",
   "metadata": {},
   "source": [
    "### NAME_CONTRACT_STATUS(契約状況)"
   ]
  },
  {
   "cell_type": "code",
   "execution_count": 51,
   "id": "f3de0700",
   "metadata": {},
   "outputs": [
    {
     "data": {
      "text/plain": [
       "Approved    35586\n",
       "Name: revo_name_contract_status, dtype: int64"
      ]
     },
     "execution_count": 51,
     "metadata": {},
     "output_type": "execute_result"
    }
   ],
   "source": [
    "app_train['revo_name_contract_status'].value_counts()"
   ]
  },
  {
   "cell_type": "code",
   "execution_count": 52,
   "id": "35fbc18d",
   "metadata": {},
   "outputs": [],
   "source": [
    "app_train.drop(['revo_name_contract_status'], axis=1, inplace=True)\n",
    "app_test.drop(['revo_name_contract_status'], axis=1, inplace=True)"
   ]
  },
  {
   "cell_type": "markdown",
   "id": "30dcdf72",
   "metadata": {},
   "source": [
    "### DAYS_DECISION(今回申込日との日数差)"
   ]
  },
  {
   "cell_type": "code",
   "execution_count": 53,
   "id": "5bdd2496",
   "metadata": {},
   "outputs": [
    {
     "data": {
      "text/plain": [
       "-245.0     83\n",
       "-252.0     72\n",
       "-215.0     71\n",
       "-269.0     71\n",
       "-244.0     71\n",
       "           ..\n",
       "-2130.0     1\n",
       "-1881.0     1\n",
       "-1907.0     1\n",
       "-1979.0     1\n",
       "-1499.0     1\n",
       "Name: revo_days_decision, Length: 2623, dtype: int64"
      ]
     },
     "execution_count": 53,
     "metadata": {},
     "output_type": "execute_result"
    }
   ],
   "source": [
    "app_train['revo_days_decision'].value_counts()"
   ]
  },
  {
   "cell_type": "code",
   "execution_count": 54,
   "id": "55df8bba",
   "metadata": {},
   "outputs": [
    {
     "data": {
      "text/html": [
       "<div>\n",
       "<style scoped>\n",
       "    .dataframe tbody tr th:only-of-type {\n",
       "        vertical-align: middle;\n",
       "    }\n",
       "\n",
       "    .dataframe tbody tr th {\n",
       "        vertical-align: top;\n",
       "    }\n",
       "\n",
       "    .dataframe thead th {\n",
       "        text-align: right;\n",
       "    }\n",
       "</style>\n",
       "<table border=\"1\" class=\"dataframe\">\n",
       "  <thead>\n",
       "    <tr style=\"text-align: right;\">\n",
       "      <th></th>\n",
       "      <th>revo_days_decision</th>\n",
       "      <th>TARGET</th>\n",
       "    </tr>\n",
       "  </thead>\n",
       "  <tbody>\n",
       "    <tr>\n",
       "      <th>revo_days_decision</th>\n",
       "      <td>1.000000</td>\n",
       "      <td>0.099104</td>\n",
       "    </tr>\n",
       "    <tr>\n",
       "      <th>TARGET</th>\n",
       "      <td>0.099104</td>\n",
       "      <td>1.000000</td>\n",
       "    </tr>\n",
       "  </tbody>\n",
       "</table>\n",
       "</div>"
      ],
      "text/plain": [
       "                    revo_days_decision    TARGET\n",
       "revo_days_decision            1.000000  0.099104\n",
       "TARGET                        0.099104  1.000000"
      ]
     },
     "execution_count": 54,
     "metadata": {},
     "output_type": "execute_result"
    }
   ],
   "source": [
    "app_train[['revo_days_decision', 'TARGET']].corr()"
   ]
  },
  {
   "cell_type": "markdown",
   "id": "8a95c961",
   "metadata": {},
   "source": [
    "### NAME_PAYMENT_TYPE(支払い方法)"
   ]
  },
  {
   "cell_type": "code",
   "execution_count": 55,
   "id": "8cccbfe0",
   "metadata": {},
   "outputs": [
    {
     "data": {
      "text/plain": [
       "XNA    35586\n",
       "Name: revo_name_payment_type, dtype: int64"
      ]
     },
     "execution_count": 55,
     "metadata": {},
     "output_type": "execute_result"
    }
   ],
   "source": [
    "app_train['revo_name_payment_type'].value_counts()"
   ]
  },
  {
   "cell_type": "code",
   "execution_count": 56,
   "id": "a45b1c20",
   "metadata": {},
   "outputs": [],
   "source": [
    "app_train.drop(['revo_name_payment_type'], axis=1, inplace=True)\n",
    "app_test.drop(['revo_name_payment_type'], axis=1, inplace=True)"
   ]
  },
  {
   "cell_type": "markdown",
   "id": "dd3aa159",
   "metadata": {},
   "source": [
    "### CODE_REJECT_REASON(審査落ち理由)"
   ]
  },
  {
   "cell_type": "code",
   "execution_count": 57,
   "id": "5292842c",
   "metadata": {},
   "outputs": [
    {
     "data": {
      "text/plain": [
       "XAP    35586\n",
       "Name: revo_code_reject_reason, dtype: int64"
      ]
     },
     "execution_count": 57,
     "metadata": {},
     "output_type": "execute_result"
    }
   ],
   "source": [
    "app_train['revo_code_reject_reason'].value_counts()"
   ]
  },
  {
   "cell_type": "code",
   "execution_count": 58,
   "id": "481e1d5b",
   "metadata": {},
   "outputs": [],
   "source": [
    "app_train.drop(['revo_code_reject_reason'], axis=1, inplace=True)\n",
    "app_test.drop(['revo_code_reject_reason'], axis=1, inplace=True)"
   ]
  },
  {
   "cell_type": "markdown",
   "id": "b48ac18a",
   "metadata": {},
   "source": [
    "### NAME_TYPE_SUITE(申請時同行者)"
   ]
  },
  {
   "cell_type": "code",
   "execution_count": 59,
   "id": "2b579b1a",
   "metadata": {},
   "outputs": [
    {
     "data": {
      "text/plain": [
       "Unaccompanied      8366\n",
       "Family             1559\n",
       "Spouse, partner     387\n",
       "Children            122\n",
       "Other_B              89\n",
       "Other_A              51\n",
       "Group of people      11\n",
       "Name: revo_name_type_suite, dtype: int64"
      ]
     },
     "execution_count": 59,
     "metadata": {},
     "output_type": "execute_result"
    }
   ],
   "source": [
    "app_train['revo_name_type_suite'].value_counts()"
   ]
  },
  {
   "cell_type": "code",
   "execution_count": 60,
   "id": "f63af848",
   "metadata": {},
   "outputs": [],
   "source": [
    "columns = ['Unaccompanied', 'Family', 'Spouse, partner', 'Children', 'Other_B', 'Other_A', 'Group of people']\n",
    "app_train['revo_name_type_suite'].replace(columns, [1, 2, 3, 4, 5, 6, 7], inplace=True)\n",
    "app_test['revo_name_type_suite'].replace(columns, [1, 2, 3, 4, 5, 6, 7], inplace=True)"
   ]
  },
  {
   "cell_type": "code",
   "execution_count": 61,
   "id": "407c7865",
   "metadata": {},
   "outputs": [
    {
     "data": {
      "text/plain": [
       "1.0    8366\n",
       "2.0    1559\n",
       "3.0     387\n",
       "4.0     122\n",
       "5.0      89\n",
       "6.0      51\n",
       "7.0      11\n",
       "Name: revo_name_type_suite, dtype: int64"
      ]
     },
     "execution_count": 61,
     "metadata": {},
     "output_type": "execute_result"
    }
   ],
   "source": [
    "app_train['revo_name_type_suite'].value_counts()"
   ]
  },
  {
   "cell_type": "code",
   "execution_count": 62,
   "id": "75de4024",
   "metadata": {},
   "outputs": [
    {
     "data": {
      "text/html": [
       "<div>\n",
       "<style scoped>\n",
       "    .dataframe tbody tr th:only-of-type {\n",
       "        vertical-align: middle;\n",
       "    }\n",
       "\n",
       "    .dataframe tbody tr th {\n",
       "        vertical-align: top;\n",
       "    }\n",
       "\n",
       "    .dataframe thead th {\n",
       "        text-align: right;\n",
       "    }\n",
       "</style>\n",
       "<table border=\"1\" class=\"dataframe\">\n",
       "  <thead>\n",
       "    <tr style=\"text-align: right;\">\n",
       "      <th></th>\n",
       "      <th>revo_name_type_suite</th>\n",
       "      <th>TARGET</th>\n",
       "    </tr>\n",
       "  </thead>\n",
       "  <tbody>\n",
       "    <tr>\n",
       "      <th>revo_name_type_suite</th>\n",
       "      <td>1.000000</td>\n",
       "      <td>0.010551</td>\n",
       "    </tr>\n",
       "    <tr>\n",
       "      <th>TARGET</th>\n",
       "      <td>0.010551</td>\n",
       "      <td>1.000000</td>\n",
       "    </tr>\n",
       "  </tbody>\n",
       "</table>\n",
       "</div>"
      ],
      "text/plain": [
       "                      revo_name_type_suite    TARGET\n",
       "revo_name_type_suite              1.000000  0.010551\n",
       "TARGET                            0.010551  1.000000"
      ]
     },
     "execution_count": 62,
     "metadata": {},
     "output_type": "execute_result"
    }
   ],
   "source": [
    "app_train[['revo_name_type_suite', 'TARGET']].corr()"
   ]
  },
  {
   "cell_type": "markdown",
   "id": "2a7cc60a",
   "metadata": {},
   "source": [
    "### NAME_CLIENT_TYPE(新規顧客などの顧客タイプ)"
   ]
  },
  {
   "cell_type": "code",
   "execution_count": 63,
   "id": "917f3bd2",
   "metadata": {},
   "outputs": [
    {
     "data": {
      "text/plain": [
       "Repeater     30533\n",
       "New           2633\n",
       "Refreshed     2416\n",
       "XNA              4\n",
       "Name: revo_name_client_type, dtype: int64"
      ]
     },
     "execution_count": 63,
     "metadata": {},
     "output_type": "execute_result"
    }
   ],
   "source": [
    "app_train['revo_name_client_type'].value_counts()"
   ]
  },
  {
   "cell_type": "code",
   "execution_count": 64,
   "id": "987826f3",
   "metadata": {},
   "outputs": [],
   "source": [
    "columns = ['Repeater', 'Refreshed', 'New', 'XNA']\n",
    "app_train['revo_name_client_type'].replace(columns, [1, 2, 3, 4], inplace=True)\n",
    "app_test['revo_name_client_type'].replace(columns, [1, 2, 3, 4], inplace=True)"
   ]
  },
  {
   "cell_type": "code",
   "execution_count": 65,
   "id": "d90815d3",
   "metadata": {},
   "outputs": [
    {
     "data": {
      "text/plain": [
       "1.0    30533\n",
       "3.0     2633\n",
       "2.0     2416\n",
       "4.0        4\n",
       "Name: revo_name_client_type, dtype: int64"
      ]
     },
     "execution_count": 65,
     "metadata": {},
     "output_type": "execute_result"
    }
   ],
   "source": [
    "app_train['revo_name_client_type'].value_counts()"
   ]
  },
  {
   "cell_type": "code",
   "execution_count": 66,
   "id": "f6e3c583",
   "metadata": {},
   "outputs": [
    {
     "data": {
      "text/html": [
       "<div>\n",
       "<style scoped>\n",
       "    .dataframe tbody tr th:only-of-type {\n",
       "        vertical-align: middle;\n",
       "    }\n",
       "\n",
       "    .dataframe tbody tr th {\n",
       "        vertical-align: top;\n",
       "    }\n",
       "\n",
       "    .dataframe thead th {\n",
       "        text-align: right;\n",
       "    }\n",
       "</style>\n",
       "<table border=\"1\" class=\"dataframe\">\n",
       "  <thead>\n",
       "    <tr style=\"text-align: right;\">\n",
       "      <th></th>\n",
       "      <th>revo_name_client_type</th>\n",
       "      <th>TARGET</th>\n",
       "    </tr>\n",
       "  </thead>\n",
       "  <tbody>\n",
       "    <tr>\n",
       "      <th>revo_name_client_type</th>\n",
       "      <td>1.000000</td>\n",
       "      <td>0.054188</td>\n",
       "    </tr>\n",
       "    <tr>\n",
       "      <th>TARGET</th>\n",
       "      <td>0.054188</td>\n",
       "      <td>1.000000</td>\n",
       "    </tr>\n",
       "  </tbody>\n",
       "</table>\n",
       "</div>"
      ],
      "text/plain": [
       "                       revo_name_client_type    TARGET\n",
       "revo_name_client_type               1.000000  0.054188\n",
       "TARGET                              0.054188  1.000000"
      ]
     },
     "execution_count": 66,
     "metadata": {},
     "output_type": "execute_result"
    }
   ],
   "source": [
    "app_train[['revo_name_client_type', 'TARGET']].corr()"
   ]
  },
  {
   "cell_type": "markdown",
   "id": "d9a6207c",
   "metadata": {},
   "source": [
    "### NAME_GOODS_CATEGORY(申請した商品の種類)"
   ]
  },
  {
   "cell_type": "code",
   "execution_count": 67,
   "id": "c058abd8",
   "metadata": {},
   "outputs": [
    {
     "data": {
      "text/plain": [
       "XNA                         35332\n",
       "Consumer Electronics          181\n",
       "Audio/Video                    43\n",
       "Mobile                         14\n",
       "Computers                      10\n",
       "Furniture                       5\n",
       "Photo / Cinema Equipment        1\n",
       "Name: revo_name_goods_category, dtype: int64"
      ]
     },
     "execution_count": 67,
     "metadata": {},
     "output_type": "execute_result"
    }
   ],
   "source": [
    "app_train['revo_name_goods_category'].value_counts()"
   ]
  },
  {
   "cell_type": "code",
   "execution_count": 68,
   "id": "3dab7897",
   "metadata": {},
   "outputs": [
    {
     "data": {
      "text/plain": [
       "1.0    35332\n",
       "2.0      181\n",
       "5.0       43\n",
       "3.0       14\n",
       "4.0       10\n",
       "6.0        5\n",
       "7.0        1\n",
       "Name: revo_name_goods_category, dtype: int64"
      ]
     },
     "execution_count": 68,
     "metadata": {},
     "output_type": "execute_result"
    }
   ],
   "source": [
    "replace_columns = app_train['revo_name_goods_category'].unique().tolist()\n",
    "replace_columns = ['xxxx' if e == \"NaN\" or type(e) is float and math.isnan(e) else e for e in replace_columns]\n",
    "###replace_columns.remove('xxxx')\n",
    "replace_value = [x for x in range(len(replace_columns))]\n",
    "app_train['revo_name_goods_category'].replace(replace_columns, replace_value, inplace=True)\n",
    "app_test['revo_name_goods_category'].replace(replace_columns, replace_value, inplace=True)\n",
    "app_train['revo_name_goods_category'].value_counts()"
   ]
  },
  {
   "cell_type": "code",
   "execution_count": 69,
   "id": "4d630859",
   "metadata": {},
   "outputs": [
    {
     "data": {
      "text/plain": [
       "1.0    35332\n",
       "2.0      181\n",
       "5.0       43\n",
       "3.0       14\n",
       "4.0       10\n",
       "6.0        5\n",
       "7.0        1\n",
       "Name: revo_name_goods_category, dtype: int64"
      ]
     },
     "execution_count": 69,
     "metadata": {},
     "output_type": "execute_result"
    }
   ],
   "source": [
    "app_train['revo_name_goods_category'].value_counts()"
   ]
  },
  {
   "cell_type": "code",
   "execution_count": 70,
   "id": "dcb45b23",
   "metadata": {},
   "outputs": [
    {
     "data": {
      "text/html": [
       "<div>\n",
       "<style scoped>\n",
       "    .dataframe tbody tr th:only-of-type {\n",
       "        vertical-align: middle;\n",
       "    }\n",
       "\n",
       "    .dataframe tbody tr th {\n",
       "        vertical-align: top;\n",
       "    }\n",
       "\n",
       "    .dataframe thead th {\n",
       "        text-align: right;\n",
       "    }\n",
       "</style>\n",
       "<table border=\"1\" class=\"dataframe\">\n",
       "  <thead>\n",
       "    <tr style=\"text-align: right;\">\n",
       "      <th></th>\n",
       "      <th>revo_name_goods_category</th>\n",
       "      <th>TARGET</th>\n",
       "    </tr>\n",
       "  </thead>\n",
       "  <tbody>\n",
       "    <tr>\n",
       "      <th>revo_name_goods_category</th>\n",
       "      <td>1.000000</td>\n",
       "      <td>-0.008904</td>\n",
       "    </tr>\n",
       "    <tr>\n",
       "      <th>TARGET</th>\n",
       "      <td>-0.008904</td>\n",
       "      <td>1.000000</td>\n",
       "    </tr>\n",
       "  </tbody>\n",
       "</table>\n",
       "</div>"
      ],
      "text/plain": [
       "                          revo_name_goods_category    TARGET\n",
       "revo_name_goods_category                  1.000000 -0.008904\n",
       "TARGET                                   -0.008904  1.000000"
      ]
     },
     "execution_count": 70,
     "metadata": {},
     "output_type": "execute_result"
    }
   ],
   "source": [
    "app_train[['revo_name_goods_category', 'TARGET']].corr()"
   ]
  },
  {
   "cell_type": "code",
   "execution_count": 71,
   "id": "77cca5e2",
   "metadata": {},
   "outputs": [],
   "source": [
    "app_train.drop(['revo_name_goods_category'], axis=1, inplace=True)\n",
    "app_test.drop(['revo_name_goods_category'], axis=1, inplace=True)"
   ]
  },
  {
   "cell_type": "markdown",
   "id": "70f4e92f",
   "metadata": {},
   "source": [
    "### name_portfolio"
   ]
  },
  {
   "cell_type": "code",
   "execution_count": 72,
   "id": "93c08cf5",
   "metadata": {},
   "outputs": [
    {
     "data": {
      "text/plain": [
       "Cards    35586\n",
       "Name: revo_name_portfolio, dtype: int64"
      ]
     },
     "execution_count": 72,
     "metadata": {},
     "output_type": "execute_result"
    }
   ],
   "source": [
    "app_train['revo_name_portfolio'].value_counts()"
   ]
  },
  {
   "cell_type": "code",
   "execution_count": 73,
   "id": "e3c7dda5",
   "metadata": {},
   "outputs": [],
   "source": [
    "app_train.drop(['revo_name_portfolio'], axis=1, inplace=True)\n",
    "app_test.drop(['revo_name_portfolio'], axis=1, inplace=True)"
   ]
  },
  {
   "cell_type": "markdown",
   "id": "4b670647",
   "metadata": {},
   "source": [
    "### name_product_type"
   ]
  },
  {
   "cell_type": "code",
   "execution_count": 74,
   "id": "e15060c5",
   "metadata": {},
   "outputs": [
    {
     "data": {
      "text/plain": [
       "x-sell     27140\n",
       "walk-in     8446\n",
       "Name: revo_name_product_type, dtype: int64"
      ]
     },
     "execution_count": 74,
     "metadata": {},
     "output_type": "execute_result"
    }
   ],
   "source": [
    "app_train['revo_name_product_type'].value_counts()"
   ]
  },
  {
   "cell_type": "code",
   "execution_count": 75,
   "id": "8d857e63",
   "metadata": {},
   "outputs": [
    {
     "data": {
      "text/plain": [
       "0.0    27140\n",
       "1.0     8446\n",
       "Name: revo_name_product_type, dtype: int64"
      ]
     },
     "execution_count": 75,
     "metadata": {},
     "output_type": "execute_result"
    }
   ],
   "source": [
    "replace_columns = app_train['revo_name_product_type'].unique().tolist()\n",
    "replace_columns = ['xxxx' if e == \"NaN\" or type(e) is float and math.isnan(e) else e for e in replace_columns]\n",
    "replace_columns.remove('xxxx')\n",
    "replace_value = [x for x in range(len(replace_columns))]\n",
    "app_train['revo_name_product_type'].replace(replace_columns, replace_value, inplace=True)\n",
    "app_test['revo_name_product_type'].replace(replace_columns, replace_value, inplace=True)\n",
    "app_train['revo_name_product_type'].value_counts()"
   ]
  },
  {
   "cell_type": "code",
   "execution_count": 76,
   "id": "75a84638",
   "metadata": {},
   "outputs": [
    {
     "data": {
      "text/html": [
       "<div>\n",
       "<style scoped>\n",
       "    .dataframe tbody tr th:only-of-type {\n",
       "        vertical-align: middle;\n",
       "    }\n",
       "\n",
       "    .dataframe tbody tr th {\n",
       "        vertical-align: top;\n",
       "    }\n",
       "\n",
       "    .dataframe thead th {\n",
       "        text-align: right;\n",
       "    }\n",
       "</style>\n",
       "<table border=\"1\" class=\"dataframe\">\n",
       "  <thead>\n",
       "    <tr style=\"text-align: right;\">\n",
       "      <th></th>\n",
       "      <th>revo_name_product_type</th>\n",
       "      <th>TARGET</th>\n",
       "    </tr>\n",
       "  </thead>\n",
       "  <tbody>\n",
       "    <tr>\n",
       "      <th>revo_name_product_type</th>\n",
       "      <td>1.00000</td>\n",
       "      <td>0.07536</td>\n",
       "    </tr>\n",
       "    <tr>\n",
       "      <th>TARGET</th>\n",
       "      <td>0.07536</td>\n",
       "      <td>1.00000</td>\n",
       "    </tr>\n",
       "  </tbody>\n",
       "</table>\n",
       "</div>"
      ],
      "text/plain": [
       "                        revo_name_product_type   TARGET\n",
       "revo_name_product_type                 1.00000  0.07536\n",
       "TARGET                                 0.07536  1.00000"
      ]
     },
     "execution_count": 76,
     "metadata": {},
     "output_type": "execute_result"
    }
   ],
   "source": [
    "app_train[['revo_name_product_type', 'TARGET']].corr()"
   ]
  },
  {
   "cell_type": "markdown",
   "id": "06da1ede",
   "metadata": {},
   "source": [
    "### channel_type"
   ]
  },
  {
   "cell_type": "code",
   "execution_count": 77,
   "id": "635d7a64",
   "metadata": {},
   "outputs": [
    {
     "data": {
      "text/plain": [
       "Credit and cash offices       17751\n",
       "Country-wide                   7130\n",
       "Contact center                 4845\n",
       "AP+ (Cash loan)                2812\n",
       "Stone                          1664\n",
       "Regional / Local               1169\n",
       "Channel of corporate sales      214\n",
       "Car dealer                        1\n",
       "Name: revo_channel_type, dtype: int64"
      ]
     },
     "execution_count": 77,
     "metadata": {},
     "output_type": "execute_result"
    }
   ],
   "source": [
    "app_train['revo_channel_type'].value_counts()"
   ]
  },
  {
   "cell_type": "code",
   "execution_count": 78,
   "id": "9bd23edd",
   "metadata": {},
   "outputs": [
    {
     "data": {
      "text/plain": [
       "1.0    17751\n",
       "0.0     7130\n",
       "2.0     4845\n",
       "3.0     2812\n",
       "4.0     1664\n",
       "6.0     1169\n",
       "5.0      214\n",
       "7.0        1\n",
       "Name: revo_channel_type, dtype: int64"
      ]
     },
     "execution_count": 78,
     "metadata": {},
     "output_type": "execute_result"
    }
   ],
   "source": [
    "replace_columns = app_train['revo_channel_type'].unique().tolist()\n",
    "replace_columns = ['xxxx' if e == \"NaN\" or type(e) is float and math.isnan(e) else e for e in replace_columns]\n",
    "replace_columns.remove('xxxx')\n",
    "replace_value = [x for x in range(len(replace_columns))]\n",
    "app_train['revo_channel_type'].replace(replace_columns, replace_value, inplace=True)\n",
    "app_test['revo_channel_type'].replace(replace_columns, replace_value, inplace=True)\n",
    "app_train['revo_channel_type'].value_counts()"
   ]
  },
  {
   "cell_type": "code",
   "execution_count": 79,
   "id": "2e94ffdf",
   "metadata": {},
   "outputs": [
    {
     "data": {
      "text/html": [
       "<div>\n",
       "<style scoped>\n",
       "    .dataframe tbody tr th:only-of-type {\n",
       "        vertical-align: middle;\n",
       "    }\n",
       "\n",
       "    .dataframe tbody tr th {\n",
       "        vertical-align: top;\n",
       "    }\n",
       "\n",
       "    .dataframe thead th {\n",
       "        text-align: right;\n",
       "    }\n",
       "</style>\n",
       "<table border=\"1\" class=\"dataframe\">\n",
       "  <thead>\n",
       "    <tr style=\"text-align: right;\">\n",
       "      <th></th>\n",
       "      <th>revo_channel_type</th>\n",
       "      <th>TARGET</th>\n",
       "    </tr>\n",
       "  </thead>\n",
       "  <tbody>\n",
       "    <tr>\n",
       "      <th>revo_channel_type</th>\n",
       "      <td>1.00000</td>\n",
       "      <td>0.00912</td>\n",
       "    </tr>\n",
       "    <tr>\n",
       "      <th>TARGET</th>\n",
       "      <td>0.00912</td>\n",
       "      <td>1.00000</td>\n",
       "    </tr>\n",
       "  </tbody>\n",
       "</table>\n",
       "</div>"
      ],
      "text/plain": [
       "                   revo_channel_type   TARGET\n",
       "revo_channel_type            1.00000  0.00912\n",
       "TARGET                       0.00912  1.00000"
      ]
     },
     "execution_count": 79,
     "metadata": {},
     "output_type": "execute_result"
    }
   ],
   "source": [
    "app_train[['revo_channel_type', 'TARGET']].corr()"
   ]
  },
  {
   "cell_type": "code",
   "execution_count": 80,
   "id": "ca7777c7",
   "metadata": {},
   "outputs": [],
   "source": [
    "app_train.drop(['revo_channel_type'], axis=1, inplace=True)\n",
    "app_test.drop(['revo_channel_type'], axis=1, inplace=True)"
   ]
  },
  {
   "cell_type": "markdown",
   "id": "3becba1c",
   "metadata": {},
   "source": [
    "### sellerplace_area"
   ]
  },
  {
   "cell_type": "code",
   "execution_count": 81,
   "id": "fb206052",
   "metadata": {},
   "outputs": [
    {
     "data": {
      "text/plain": [
       "-1.0       20904\n",
       " 0.0        2284\n",
       " 4.0         622\n",
       " 5.0         455\n",
       " 50.0        394\n",
       "           ...  \n",
       " 1331.0        1\n",
       " 268.0         1\n",
       " 1304.0        1\n",
       " 621.0         1\n",
       " 510.0         1\n",
       "Name: revo_sellerplace_area, Length: 927, dtype: int64"
      ]
     },
     "execution_count": 81,
     "metadata": {},
     "output_type": "execute_result"
    }
   ],
   "source": [
    "app_train['revo_sellerplace_area'].value_counts()"
   ]
  },
  {
   "cell_type": "code",
   "execution_count": 82,
   "id": "1b83f582",
   "metadata": {},
   "outputs": [
    {
     "data": {
      "text/html": [
       "<div>\n",
       "<style scoped>\n",
       "    .dataframe tbody tr th:only-of-type {\n",
       "        vertical-align: middle;\n",
       "    }\n",
       "\n",
       "    .dataframe tbody tr th {\n",
       "        vertical-align: top;\n",
       "    }\n",
       "\n",
       "    .dataframe thead th {\n",
       "        text-align: right;\n",
       "    }\n",
       "</style>\n",
       "<table border=\"1\" class=\"dataframe\">\n",
       "  <thead>\n",
       "    <tr style=\"text-align: right;\">\n",
       "      <th></th>\n",
       "      <th>revo_sellerplace_area</th>\n",
       "      <th>TARGET</th>\n",
       "    </tr>\n",
       "  </thead>\n",
       "  <tbody>\n",
       "    <tr>\n",
       "      <th>revo_sellerplace_area</th>\n",
       "      <td>1.000000</td>\n",
       "      <td>-0.006568</td>\n",
       "    </tr>\n",
       "    <tr>\n",
       "      <th>TARGET</th>\n",
       "      <td>-0.006568</td>\n",
       "      <td>1.000000</td>\n",
       "    </tr>\n",
       "  </tbody>\n",
       "</table>\n",
       "</div>"
      ],
      "text/plain": [
       "                       revo_sellerplace_area    TARGET\n",
       "revo_sellerplace_area               1.000000 -0.006568\n",
       "TARGET                             -0.006568  1.000000"
      ]
     },
     "execution_count": 82,
     "metadata": {},
     "output_type": "execute_result"
    }
   ],
   "source": [
    "app_train[['revo_sellerplace_area', 'TARGET']].corr()"
   ]
  },
  {
   "cell_type": "code",
   "execution_count": 83,
   "id": "23beeeb2",
   "metadata": {},
   "outputs": [],
   "source": [
    "app_train.drop(['revo_sellerplace_area'], axis=1, inplace=True)\n",
    "app_test.drop(['revo_sellerplace_area'], axis=1, inplace=True)"
   ]
  },
  {
   "cell_type": "markdown",
   "id": "9ef9ae0d",
   "metadata": {},
   "source": [
    "### name_seller_industry"
   ]
  },
  {
   "cell_type": "code",
   "execution_count": 84,
   "id": "506fb7d0",
   "metadata": {},
   "outputs": [
    {
     "data": {
      "text/plain": [
       "XNA                     25610\n",
       "Consumer electronics     5820\n",
       "Connectivity             3733\n",
       "Furniture                 267\n",
       "Clothing                   63\n",
       "Construction               54\n",
       "Industry                   19\n",
       "Auto technology            11\n",
       "MLM partners                6\n",
       "Jewelry                     3\n",
       "Name: revo_name_seller_industry, dtype: int64"
      ]
     },
     "execution_count": 84,
     "metadata": {},
     "output_type": "execute_result"
    }
   ],
   "source": [
    "app_train['revo_name_seller_industry'].value_counts()"
   ]
  },
  {
   "cell_type": "code",
   "execution_count": 85,
   "id": "5212fd36",
   "metadata": {},
   "outputs": [
    {
     "data": {
      "text/plain": [
       "1.0    25610\n",
       "2.0     5820\n",
       "0.0     3733\n",
       "3.0      267\n",
       "8.0       63\n",
       "7.0       54\n",
       "5.0       19\n",
       "4.0       11\n",
       "9.0        6\n",
       "6.0        3\n",
       "Name: revo_name_seller_industry, dtype: int64"
      ]
     },
     "execution_count": 85,
     "metadata": {},
     "output_type": "execute_result"
    }
   ],
   "source": [
    "replace_columns = app_train['revo_name_seller_industry'].unique().tolist()\n",
    "replace_columns = ['xxxx' if e == \"NaN\" or type(e) is float and math.isnan(e) else e for e in replace_columns]\n",
    "replace_columns.remove('xxxx')\n",
    "replace_value = [x for x in range(len(replace_columns))]\n",
    "app_train['revo_name_seller_industry'].replace(replace_columns, replace_value, inplace=True)\n",
    "app_test['revo_name_seller_industry'].replace(replace_columns, replace_value, inplace=True)\n",
    "app_train['revo_name_seller_industry'].value_counts()"
   ]
  },
  {
   "cell_type": "code",
   "execution_count": 86,
   "id": "222c89fa",
   "metadata": {},
   "outputs": [
    {
     "data": {
      "text/html": [
       "<div>\n",
       "<style scoped>\n",
       "    .dataframe tbody tr th:only-of-type {\n",
       "        vertical-align: middle;\n",
       "    }\n",
       "\n",
       "    .dataframe tbody tr th {\n",
       "        vertical-align: top;\n",
       "    }\n",
       "\n",
       "    .dataframe thead th {\n",
       "        text-align: right;\n",
       "    }\n",
       "</style>\n",
       "<table border=\"1\" class=\"dataframe\">\n",
       "  <thead>\n",
       "    <tr style=\"text-align: right;\">\n",
       "      <th></th>\n",
       "      <th>revo_name_seller_industry</th>\n",
       "      <th>TARGET</th>\n",
       "    </tr>\n",
       "  </thead>\n",
       "  <tbody>\n",
       "    <tr>\n",
       "      <th>revo_name_seller_industry</th>\n",
       "      <td>1.000000</td>\n",
       "      <td>-0.006876</td>\n",
       "    </tr>\n",
       "    <tr>\n",
       "      <th>TARGET</th>\n",
       "      <td>-0.006876</td>\n",
       "      <td>1.000000</td>\n",
       "    </tr>\n",
       "  </tbody>\n",
       "</table>\n",
       "</div>"
      ],
      "text/plain": [
       "                           revo_name_seller_industry    TARGET\n",
       "revo_name_seller_industry                   1.000000 -0.006876\n",
       "TARGET                                     -0.006876  1.000000"
      ]
     },
     "execution_count": 86,
     "metadata": {},
     "output_type": "execute_result"
    }
   ],
   "source": [
    "app_train[['revo_name_seller_industry', 'TARGET']].corr()"
   ]
  },
  {
   "cell_type": "code",
   "execution_count": 87,
   "id": "a323f44f",
   "metadata": {},
   "outputs": [],
   "source": [
    "app_train.drop(['revo_name_seller_industry'], axis=1, inplace=True)\n",
    "app_test.drop(['revo_name_seller_industry'], axis=1, inplace=True)"
   ]
  },
  {
   "cell_type": "markdown",
   "id": "ce56a781",
   "metadata": {},
   "source": [
    "### cnt_payment"
   ]
  },
  {
   "cell_type": "code",
   "execution_count": 88,
   "id": "4a3460a6",
   "metadata": {},
   "outputs": [
    {
     "data": {
      "text/plain": [
       "0.0    35586\n",
       "Name: revo_cnt_payment, dtype: int64"
      ]
     },
     "execution_count": 88,
     "metadata": {},
     "output_type": "execute_result"
    }
   ],
   "source": [
    "app_train['revo_cnt_payment'].value_counts()"
   ]
  },
  {
   "cell_type": "code",
   "execution_count": 89,
   "id": "508b26be",
   "metadata": {},
   "outputs": [
    {
     "data": {
      "text/html": [
       "<div>\n",
       "<style scoped>\n",
       "    .dataframe tbody tr th:only-of-type {\n",
       "        vertical-align: middle;\n",
       "    }\n",
       "\n",
       "    .dataframe tbody tr th {\n",
       "        vertical-align: top;\n",
       "    }\n",
       "\n",
       "    .dataframe thead th {\n",
       "        text-align: right;\n",
       "    }\n",
       "</style>\n",
       "<table border=\"1\" class=\"dataframe\">\n",
       "  <thead>\n",
       "    <tr style=\"text-align: right;\">\n",
       "      <th></th>\n",
       "      <th>revo_cnt_payment</th>\n",
       "      <th>TARGET</th>\n",
       "    </tr>\n",
       "  </thead>\n",
       "  <tbody>\n",
       "    <tr>\n",
       "      <th>revo_cnt_payment</th>\n",
       "      <td>NaN</td>\n",
       "      <td>NaN</td>\n",
       "    </tr>\n",
       "    <tr>\n",
       "      <th>TARGET</th>\n",
       "      <td>NaN</td>\n",
       "      <td>1.0</td>\n",
       "    </tr>\n",
       "  </tbody>\n",
       "</table>\n",
       "</div>"
      ],
      "text/plain": [
       "                  revo_cnt_payment  TARGET\n",
       "revo_cnt_payment               NaN     NaN\n",
       "TARGET                         NaN     1.0"
      ]
     },
     "execution_count": 89,
     "metadata": {},
     "output_type": "execute_result"
    }
   ],
   "source": [
    "app_train[['revo_cnt_payment', 'TARGET']].corr()"
   ]
  },
  {
   "cell_type": "code",
   "execution_count": 90,
   "id": "58ee4d81",
   "metadata": {},
   "outputs": [],
   "source": [
    "app_train.drop(['revo_cnt_payment'], axis=1, inplace=True)\n",
    "app_test.drop(['revo_cnt_payment'], axis=1, inplace=True)"
   ]
  },
  {
   "cell_type": "markdown",
   "id": "4d9573d3",
   "metadata": {},
   "source": [
    "### name_yield_group"
   ]
  },
  {
   "cell_type": "code",
   "execution_count": 91,
   "id": "30001f2b",
   "metadata": {},
   "outputs": [
    {
     "data": {
      "text/plain": [
       "XNA    35586\n",
       "Name: revo_name_yield_group, dtype: int64"
      ]
     },
     "execution_count": 91,
     "metadata": {},
     "output_type": "execute_result"
    }
   ],
   "source": [
    "app_train['revo_name_yield_group'].value_counts()"
   ]
  },
  {
   "cell_type": "code",
   "execution_count": 92,
   "id": "68c9b1df",
   "metadata": {},
   "outputs": [],
   "source": [
    "app_train.drop(['revo_name_yield_group'], axis=1, inplace=True)\n",
    "app_test.drop(['revo_name_yield_group'], axis=1, inplace=True)"
   ]
  },
  {
   "cell_type": "markdown",
   "id": "6d3345a0",
   "metadata": {},
   "source": [
    "### product_combination"
   ]
  },
  {
   "cell_type": "code",
   "execution_count": 93,
   "id": "5752f353",
   "metadata": {},
   "outputs": [
    {
     "data": {
      "text/plain": [
       "Card X-Sell    20791\n",
       "Card Street    14795\n",
       "Name: revo_product_combination, dtype: int64"
      ]
     },
     "execution_count": 93,
     "metadata": {},
     "output_type": "execute_result"
    }
   ],
   "source": [
    "app_train['revo_product_combination'].value_counts()"
   ]
  },
  {
   "cell_type": "code",
   "execution_count": 94,
   "id": "471b3cf8",
   "metadata": {},
   "outputs": [
    {
     "data": {
      "text/plain": [
       "0.0    20791\n",
       "1.0    14795\n",
       "Name: revo_product_combination, dtype: int64"
      ]
     },
     "execution_count": 94,
     "metadata": {},
     "output_type": "execute_result"
    }
   ],
   "source": [
    "replace_columns = app_train['revo_product_combination'].unique().tolist()\n",
    "replace_columns = ['xxxx' if e == \"NaN\" or type(e) is float and math.isnan(e) else e for e in replace_columns]\n",
    "replace_columns.remove('xxxx')\n",
    "replace_value = [x for x in range(len(replace_columns))]\n",
    "app_train['revo_product_combination'].replace(replace_columns, replace_value, inplace=True)\n",
    "app_test['revo_product_combination'].replace(replace_columns, replace_value, inplace=True)\n",
    "app_train['revo_product_combination'].value_counts()"
   ]
  },
  {
   "cell_type": "code",
   "execution_count": 95,
   "id": "977c0bec",
   "metadata": {},
   "outputs": [
    {
     "data": {
      "text/plain": [
       "0.0    20791\n",
       "1.0    14795\n",
       "Name: revo_product_combination, dtype: int64"
      ]
     },
     "execution_count": 95,
     "metadata": {},
     "output_type": "execute_result"
    }
   ],
   "source": [
    "app_train['revo_product_combination'].value_counts()"
   ]
  },
  {
   "cell_type": "code",
   "execution_count": 96,
   "id": "0e547b68",
   "metadata": {},
   "outputs": [
    {
     "data": {
      "text/html": [
       "<div>\n",
       "<style scoped>\n",
       "    .dataframe tbody tr th:only-of-type {\n",
       "        vertical-align: middle;\n",
       "    }\n",
       "\n",
       "    .dataframe tbody tr th {\n",
       "        vertical-align: top;\n",
       "    }\n",
       "\n",
       "    .dataframe thead th {\n",
       "        text-align: right;\n",
       "    }\n",
       "</style>\n",
       "<table border=\"1\" class=\"dataframe\">\n",
       "  <thead>\n",
       "    <tr style=\"text-align: right;\">\n",
       "      <th></th>\n",
       "      <th>revo_product_combination</th>\n",
       "      <th>TARGET</th>\n",
       "    </tr>\n",
       "  </thead>\n",
       "  <tbody>\n",
       "    <tr>\n",
       "      <th>revo_product_combination</th>\n",
       "      <td>1.000000</td>\n",
       "      <td>0.015433</td>\n",
       "    </tr>\n",
       "    <tr>\n",
       "      <th>TARGET</th>\n",
       "      <td>0.015433</td>\n",
       "      <td>1.000000</td>\n",
       "    </tr>\n",
       "  </tbody>\n",
       "</table>\n",
       "</div>"
      ],
      "text/plain": [
       "                          revo_product_combination    TARGET\n",
       "revo_product_combination                  1.000000  0.015433\n",
       "TARGET                                    0.015433  1.000000"
      ]
     },
     "execution_count": 96,
     "metadata": {},
     "output_type": "execute_result"
    }
   ],
   "source": [
    "app_train[['revo_product_combination', 'TARGET']].corr()"
   ]
  },
  {
   "cell_type": "markdown",
   "id": "3114fb9e",
   "metadata": {},
   "source": [
    "### days_first_drawing"
   ]
  },
  {
   "cell_type": "code",
   "execution_count": 97,
   "id": "742efe50",
   "metadata": {},
   "outputs": [
    {
     "data": {
      "text/plain": [
       " 365243.0    115\n",
       "-212.0        82\n",
       "-210.0        79\n",
       "-215.0        78\n",
       "-249.0        77\n",
       "            ... \n",
       "-1739.0        1\n",
       "-1532.0        1\n",
       "-1419.0        1\n",
       "-1840.0        1\n",
       "-1328.0        1\n",
       "Name: revo_days_first_drawing, Length: 2664, dtype: int64"
      ]
     },
     "execution_count": 97,
     "metadata": {},
     "output_type": "execute_result"
    }
   ],
   "source": [
    "app_train['revo_days_first_drawing'].value_counts()"
   ]
  },
  {
   "cell_type": "code",
   "execution_count": 98,
   "id": "d9828981",
   "metadata": {},
   "outputs": [
    {
     "data": {
      "text/html": [
       "<div>\n",
       "<style scoped>\n",
       "    .dataframe tbody tr th:only-of-type {\n",
       "        vertical-align: middle;\n",
       "    }\n",
       "\n",
       "    .dataframe tbody tr th {\n",
       "        vertical-align: top;\n",
       "    }\n",
       "\n",
       "    .dataframe thead th {\n",
       "        text-align: right;\n",
       "    }\n",
       "</style>\n",
       "<table border=\"1\" class=\"dataframe\">\n",
       "  <thead>\n",
       "    <tr style=\"text-align: right;\">\n",
       "      <th></th>\n",
       "      <th>revo_days_first_drawing</th>\n",
       "      <th>TARGET</th>\n",
       "    </tr>\n",
       "  </thead>\n",
       "  <tbody>\n",
       "    <tr>\n",
       "      <th>revo_days_first_drawing</th>\n",
       "      <td>1.000000</td>\n",
       "      <td>-0.007476</td>\n",
       "    </tr>\n",
       "    <tr>\n",
       "      <th>TARGET</th>\n",
       "      <td>-0.007476</td>\n",
       "      <td>1.000000</td>\n",
       "    </tr>\n",
       "  </tbody>\n",
       "</table>\n",
       "</div>"
      ],
      "text/plain": [
       "                         revo_days_first_drawing    TARGET\n",
       "revo_days_first_drawing                 1.000000 -0.007476\n",
       "TARGET                                 -0.007476  1.000000"
      ]
     },
     "execution_count": 98,
     "metadata": {},
     "output_type": "execute_result"
    }
   ],
   "source": [
    "app_train[['revo_days_first_drawing', 'TARGET']].corr()"
   ]
  },
  {
   "cell_type": "code",
   "execution_count": 99,
   "id": "c944995a",
   "metadata": {},
   "outputs": [],
   "source": [
    "app_train.drop(['revo_days_first_drawing'], axis=1, inplace=True)\n",
    "app_test.drop(['revo_days_first_drawing'], axis=1, inplace=True)"
   ]
  },
  {
   "cell_type": "markdown",
   "id": "e5718e9c",
   "metadata": {},
   "source": [
    "### days_first_due"
   ]
  },
  {
   "cell_type": "code",
   "execution_count": 100,
   "id": "a2713f00",
   "metadata": {},
   "outputs": [
    {
     "data": {
      "text/plain": [
       " 365243.0    758\n",
       "-208.0        95\n",
       "-199.0        94\n",
       "-167.0        89\n",
       "-178.0        85\n",
       "            ... \n",
       "-2044.0        1\n",
       "-1684.0        1\n",
       "-1773.0        1\n",
       "-1645.0        1\n",
       "-1592.0        1\n",
       "Name: revo_days_first_due, Length: 2622, dtype: int64"
      ]
     },
     "execution_count": 100,
     "metadata": {},
     "output_type": "execute_result"
    }
   ],
   "source": [
    "app_train['revo_days_first_due'].value_counts()"
   ]
  },
  {
   "cell_type": "code",
   "execution_count": 101,
   "id": "8a651c0b",
   "metadata": {},
   "outputs": [
    {
     "data": {
      "text/html": [
       "<div>\n",
       "<style scoped>\n",
       "    .dataframe tbody tr th:only-of-type {\n",
       "        vertical-align: middle;\n",
       "    }\n",
       "\n",
       "    .dataframe tbody tr th {\n",
       "        vertical-align: top;\n",
       "    }\n",
       "\n",
       "    .dataframe thead th {\n",
       "        text-align: right;\n",
       "    }\n",
       "</style>\n",
       "<table border=\"1\" class=\"dataframe\">\n",
       "  <thead>\n",
       "    <tr style=\"text-align: right;\">\n",
       "      <th></th>\n",
       "      <th>revo_days_first_due</th>\n",
       "      <th>TARGET</th>\n",
       "    </tr>\n",
       "  </thead>\n",
       "  <tbody>\n",
       "    <tr>\n",
       "      <th>revo_days_first_due</th>\n",
       "      <td>1.000000</td>\n",
       "      <td>-0.011457</td>\n",
       "    </tr>\n",
       "    <tr>\n",
       "      <th>TARGET</th>\n",
       "      <td>-0.011457</td>\n",
       "      <td>1.000000</td>\n",
       "    </tr>\n",
       "  </tbody>\n",
       "</table>\n",
       "</div>"
      ],
      "text/plain": [
       "                     revo_days_first_due    TARGET\n",
       "revo_days_first_due             1.000000 -0.011457\n",
       "TARGET                         -0.011457  1.000000"
      ]
     },
     "execution_count": 101,
     "metadata": {},
     "output_type": "execute_result"
    }
   ],
   "source": [
    "app_train[['revo_days_first_due', 'TARGET']].corr()"
   ]
  },
  {
   "cell_type": "markdown",
   "id": "88323fe9",
   "metadata": {},
   "source": [
    "### days_last_due_1st_version"
   ]
  },
  {
   "cell_type": "code",
   "execution_count": 102,
   "id": "ce5d6a9f",
   "metadata": {},
   "outputs": [
    {
     "data": {
      "text/plain": [
       "365243.0    35576\n",
       "Name: revo_days_last_due_1st_version, dtype: int64"
      ]
     },
     "execution_count": 102,
     "metadata": {},
     "output_type": "execute_result"
    }
   ],
   "source": [
    "app_train['revo_days_last_due_1st_version'].value_counts()"
   ]
  },
  {
   "cell_type": "code",
   "execution_count": 103,
   "id": "618d5f2b",
   "metadata": {},
   "outputs": [
    {
     "data": {
      "text/html": [
       "<div>\n",
       "<style scoped>\n",
       "    .dataframe tbody tr th:only-of-type {\n",
       "        vertical-align: middle;\n",
       "    }\n",
       "\n",
       "    .dataframe tbody tr th {\n",
       "        vertical-align: top;\n",
       "    }\n",
       "\n",
       "    .dataframe thead th {\n",
       "        text-align: right;\n",
       "    }\n",
       "</style>\n",
       "<table border=\"1\" class=\"dataframe\">\n",
       "  <thead>\n",
       "    <tr style=\"text-align: right;\">\n",
       "      <th></th>\n",
       "      <th>revo_days_last_due_1st_version</th>\n",
       "      <th>TARGET</th>\n",
       "    </tr>\n",
       "  </thead>\n",
       "  <tbody>\n",
       "    <tr>\n",
       "      <th>revo_days_last_due_1st_version</th>\n",
       "      <td>NaN</td>\n",
       "      <td>NaN</td>\n",
       "    </tr>\n",
       "    <tr>\n",
       "      <th>TARGET</th>\n",
       "      <td>NaN</td>\n",
       "      <td>1.0</td>\n",
       "    </tr>\n",
       "  </tbody>\n",
       "</table>\n",
       "</div>"
      ],
      "text/plain": [
       "                                revo_days_last_due_1st_version  TARGET\n",
       "revo_days_last_due_1st_version                             NaN     NaN\n",
       "TARGET                                                     NaN     1.0"
      ]
     },
     "execution_count": 103,
     "metadata": {},
     "output_type": "execute_result"
    }
   ],
   "source": [
    "app_train[['revo_days_last_due_1st_version', 'TARGET']].corr()"
   ]
  },
  {
   "cell_type": "code",
   "execution_count": 104,
   "id": "bff971dd",
   "metadata": {},
   "outputs": [],
   "source": [
    "app_train.drop(['revo_days_last_due_1st_version'], axis=1, inplace=True)\n",
    "app_test.drop(['revo_days_last_due_1st_version'], axis=1, inplace=True)"
   ]
  },
  {
   "cell_type": "markdown",
   "id": "330b2d2b",
   "metadata": {},
   "source": [
    "### days_last_due"
   ]
  },
  {
   "cell_type": "code",
   "execution_count": 105,
   "id": "3ed9e46d",
   "metadata": {},
   "outputs": [
    {
     "data": {
      "text/plain": [
       " 365243.0    23868\n",
       "-76.0           21\n",
       "-107.0          18\n",
       "-119.0          17\n",
       "-297.0          17\n",
       "             ...  \n",
       "-2361.0          1\n",
       "-1322.0          1\n",
       "-1901.0          1\n",
       "-1364.0          1\n",
       "-1988.0          1\n",
       "Name: revo_days_last_due, Length: 2482, dtype: int64"
      ]
     },
     "execution_count": 105,
     "metadata": {},
     "output_type": "execute_result"
    }
   ],
   "source": [
    "app_train['revo_days_last_due'].value_counts()"
   ]
  },
  {
   "cell_type": "code",
   "execution_count": 106,
   "id": "146415d6",
   "metadata": {},
   "outputs": [
    {
     "data": {
      "text/html": [
       "<div>\n",
       "<style scoped>\n",
       "    .dataframe tbody tr th:only-of-type {\n",
       "        vertical-align: middle;\n",
       "    }\n",
       "\n",
       "    .dataframe tbody tr th {\n",
       "        vertical-align: top;\n",
       "    }\n",
       "\n",
       "    .dataframe thead th {\n",
       "        text-align: right;\n",
       "    }\n",
       "</style>\n",
       "<table border=\"1\" class=\"dataframe\">\n",
       "  <thead>\n",
       "    <tr style=\"text-align: right;\">\n",
       "      <th></th>\n",
       "      <th>revo_days_last_due</th>\n",
       "      <th>TARGET</th>\n",
       "    </tr>\n",
       "  </thead>\n",
       "  <tbody>\n",
       "    <tr>\n",
       "      <th>revo_days_last_due</th>\n",
       "      <td>1.000000</td>\n",
       "      <td>0.084313</td>\n",
       "    </tr>\n",
       "    <tr>\n",
       "      <th>TARGET</th>\n",
       "      <td>0.084313</td>\n",
       "      <td>1.000000</td>\n",
       "    </tr>\n",
       "  </tbody>\n",
       "</table>\n",
       "</div>"
      ],
      "text/plain": [
       "                    revo_days_last_due    TARGET\n",
       "revo_days_last_due            1.000000  0.084313\n",
       "TARGET                        0.084313  1.000000"
      ]
     },
     "execution_count": 106,
     "metadata": {},
     "output_type": "execute_result"
    }
   ],
   "source": [
    "app_train[['revo_days_last_due', 'TARGET']].corr()"
   ]
  },
  {
   "cell_type": "markdown",
   "id": "18c1eaba",
   "metadata": {},
   "source": [
    "### days_termination"
   ]
  },
  {
   "cell_type": "code",
   "execution_count": 107,
   "id": "18290c4d",
   "metadata": {},
   "outputs": [
    {
     "data": {
      "text/plain": [
       " 365243.0    32998\n",
       "-7.0            22\n",
       "-99.0           21\n",
       "-97.0           21\n",
       "-113.0          21\n",
       "             ...  \n",
       "-788.0           1\n",
       "-778.0           1\n",
       "-943.0           1\n",
       "-177.0           1\n",
       "-870.0           1\n",
       "Name: revo_days_termination, Length: 524, dtype: int64"
      ]
     },
     "execution_count": 107,
     "metadata": {},
     "output_type": "execute_result"
    }
   ],
   "source": [
    "app_train['revo_days_termination'].value_counts()"
   ]
  },
  {
   "cell_type": "code",
   "execution_count": 108,
   "id": "ee1e22e8",
   "metadata": {},
   "outputs": [
    {
     "data": {
      "text/html": [
       "<div>\n",
       "<style scoped>\n",
       "    .dataframe tbody tr th:only-of-type {\n",
       "        vertical-align: middle;\n",
       "    }\n",
       "\n",
       "    .dataframe tbody tr th {\n",
       "        vertical-align: top;\n",
       "    }\n",
       "\n",
       "    .dataframe thead th {\n",
       "        text-align: right;\n",
       "    }\n",
       "</style>\n",
       "<table border=\"1\" class=\"dataframe\">\n",
       "  <thead>\n",
       "    <tr style=\"text-align: right;\">\n",
       "      <th></th>\n",
       "      <th>revo_days_termination</th>\n",
       "      <th>TARGET</th>\n",
       "    </tr>\n",
       "  </thead>\n",
       "  <tbody>\n",
       "    <tr>\n",
       "      <th>revo_days_termination</th>\n",
       "      <td>1.000000</td>\n",
       "      <td>0.024473</td>\n",
       "    </tr>\n",
       "    <tr>\n",
       "      <th>TARGET</th>\n",
       "      <td>0.024473</td>\n",
       "      <td>1.000000</td>\n",
       "    </tr>\n",
       "  </tbody>\n",
       "</table>\n",
       "</div>"
      ],
      "text/plain": [
       "                       revo_days_termination    TARGET\n",
       "revo_days_termination               1.000000  0.024473\n",
       "TARGET                              0.024473  1.000000"
      ]
     },
     "execution_count": 108,
     "metadata": {},
     "output_type": "execute_result"
    }
   ],
   "source": [
    "app_train[['revo_days_termination', 'TARGET']].corr()"
   ]
  },
  {
   "cell_type": "markdown",
   "id": "2e066e55",
   "metadata": {},
   "source": [
    "### nflag_insured_on_approval"
   ]
  },
  {
   "cell_type": "code",
   "execution_count": 109,
   "id": "52ce4faa",
   "metadata": {},
   "outputs": [
    {
     "data": {
      "text/plain": [
       "0.0    35185\n",
       "1.0      391\n",
       "Name: revo_nflag_insured_on_approval, dtype: int64"
      ]
     },
     "execution_count": 109,
     "metadata": {},
     "output_type": "execute_result"
    }
   ],
   "source": [
    "app_train['revo_nflag_insured_on_approval'].value_counts()"
   ]
  },
  {
   "cell_type": "code",
   "execution_count": 110,
   "id": "5ae5bb43",
   "metadata": {},
   "outputs": [
    {
     "data": {
      "text/html": [
       "<div>\n",
       "<style scoped>\n",
       "    .dataframe tbody tr th:only-of-type {\n",
       "        vertical-align: middle;\n",
       "    }\n",
       "\n",
       "    .dataframe tbody tr th {\n",
       "        vertical-align: top;\n",
       "    }\n",
       "\n",
       "    .dataframe thead th {\n",
       "        text-align: right;\n",
       "    }\n",
       "</style>\n",
       "<table border=\"1\" class=\"dataframe\">\n",
       "  <thead>\n",
       "    <tr style=\"text-align: right;\">\n",
       "      <th></th>\n",
       "      <th>revo_nflag_insured_on_approval</th>\n",
       "      <th>TARGET</th>\n",
       "    </tr>\n",
       "  </thead>\n",
       "  <tbody>\n",
       "    <tr>\n",
       "      <th>revo_nflag_insured_on_approval</th>\n",
       "      <td>1.000000</td>\n",
       "      <td>-0.012439</td>\n",
       "    </tr>\n",
       "    <tr>\n",
       "      <th>TARGET</th>\n",
       "      <td>-0.012439</td>\n",
       "      <td>1.000000</td>\n",
       "    </tr>\n",
       "  </tbody>\n",
       "</table>\n",
       "</div>"
      ],
      "text/plain": [
       "                                revo_nflag_insured_on_approval    TARGET\n",
       "revo_nflag_insured_on_approval                        1.000000 -0.012439\n",
       "TARGET                                               -0.012439  1.000000"
      ]
     },
     "execution_count": 110,
     "metadata": {},
     "output_type": "execute_result"
    }
   ],
   "source": [
    "app_train[['revo_nflag_insured_on_approval', 'TARGET']].corr()"
   ]
  },
  {
   "cell_type": "markdown",
   "id": "b571d479",
   "metadata": {},
   "source": [
    "### max_sk_dpd"
   ]
  },
  {
   "cell_type": "code",
   "execution_count": 111,
   "id": "25b97572",
   "metadata": {},
   "outputs": [
    {
     "data": {
      "text/plain": [
       "0.0      35096\n",
       "1.0        102\n",
       "8.0         73\n",
       "5.0         69\n",
       "7.0         38\n",
       "         ...  \n",
       "39.0         1\n",
       "98.0         1\n",
       "99.0         1\n",
       "615.0        1\n",
       "140.0        1\n",
       "Name: revo_max_sk_dpd, Length: 117, dtype: int64"
      ]
     },
     "execution_count": 111,
     "metadata": {},
     "output_type": "execute_result"
    }
   ],
   "source": [
    "app_train['revo_max_sk_dpd'].value_counts()"
   ]
  },
  {
   "cell_type": "code",
   "execution_count": 112,
   "id": "e7515dc6",
   "metadata": {},
   "outputs": [
    {
     "data": {
      "text/html": [
       "<div>\n",
       "<style scoped>\n",
       "    .dataframe tbody tr th:only-of-type {\n",
       "        vertical-align: middle;\n",
       "    }\n",
       "\n",
       "    .dataframe tbody tr th {\n",
       "        vertical-align: top;\n",
       "    }\n",
       "\n",
       "    .dataframe thead th {\n",
       "        text-align: right;\n",
       "    }\n",
       "</style>\n",
       "<table border=\"1\" class=\"dataframe\">\n",
       "  <thead>\n",
       "    <tr style=\"text-align: right;\">\n",
       "      <th></th>\n",
       "      <th>revo_max_sk_dpd</th>\n",
       "      <th>TARGET</th>\n",
       "    </tr>\n",
       "  </thead>\n",
       "  <tbody>\n",
       "    <tr>\n",
       "      <th>revo_max_sk_dpd</th>\n",
       "      <td>1.000000</td>\n",
       "      <td>-0.000564</td>\n",
       "    </tr>\n",
       "    <tr>\n",
       "      <th>TARGET</th>\n",
       "      <td>-0.000564</td>\n",
       "      <td>1.000000</td>\n",
       "    </tr>\n",
       "  </tbody>\n",
       "</table>\n",
       "</div>"
      ],
      "text/plain": [
       "                 revo_max_sk_dpd    TARGET\n",
       "revo_max_sk_dpd         1.000000 -0.000564\n",
       "TARGET                 -0.000564  1.000000"
      ]
     },
     "execution_count": 112,
     "metadata": {},
     "output_type": "execute_result"
    }
   ],
   "source": [
    "app_train[['revo_max_sk_dpd', 'TARGET']].corr()"
   ]
  },
  {
   "cell_type": "code",
   "execution_count": 113,
   "id": "5ff61429",
   "metadata": {},
   "outputs": [],
   "source": [
    "app_train.drop(['revo_max_sk_dpd'], axis=1, inplace=True)\n",
    "app_test.drop(['revo_max_sk_dpd'], axis=1, inplace=True)"
   ]
  },
  {
   "cell_type": "markdown",
   "id": "3f1cf596",
   "metadata": {},
   "source": [
    "### installment_payment_ratio_1000_mean_mean"
   ]
  },
  {
   "cell_type": "code",
   "execution_count": 114,
   "id": "52c6d89e",
   "metadata": {},
   "outputs": [
    {
     "data": {
      "text/plain": [
       " 0.000000       37430\n",
       "-86.538462         42\n",
       "-70.312500         37\n",
       "-75.000000         36\n",
       "-80.357143         36\n",
       "                ...  \n",
       "-4743.404505        1\n",
       "-24.196721          1\n",
       "-350.312045         1\n",
       "-76.658049          1\n",
       "-80.110000          1\n",
       "Name: revo_installment_payment_ratio_1000_mean_mean, Length: 12697, dtype: int64"
      ]
     },
     "execution_count": 114,
     "metadata": {},
     "output_type": "execute_result"
    }
   ],
   "source": [
    "app_train['revo_installment_payment_ratio_1000_mean_mean'].value_counts()"
   ]
  },
  {
   "cell_type": "code",
   "execution_count": 115,
   "id": "2e659c39",
   "metadata": {},
   "outputs": [
    {
     "data": {
      "text/plain": [
       "0        NaN\n",
       "1        NaN\n",
       "2        NaN\n",
       "3        NaN\n",
       "4        NaN\n",
       "          ..\n",
       "307506   NaN\n",
       "307507   NaN\n",
       "307508   NaN\n",
       "307509   NaN\n",
       "307510   NaN\n",
       "Name: revo_installment_payment_ratio_1000_mean_mean, Length: 307511, dtype: float64"
      ]
     },
     "execution_count": 115,
     "metadata": {},
     "output_type": "execute_result"
    }
   ],
   "source": [
    "app_train['revo_installment_payment_ratio_1000_mean_mean']"
   ]
  },
  {
   "cell_type": "code",
   "execution_count": 116,
   "id": "56e46445",
   "metadata": {},
   "outputs": [
    {
     "data": {
      "text/html": [
       "<div>\n",
       "<style scoped>\n",
       "    .dataframe tbody tr th:only-of-type {\n",
       "        vertical-align: middle;\n",
       "    }\n",
       "\n",
       "    .dataframe tbody tr th {\n",
       "        vertical-align: top;\n",
       "    }\n",
       "\n",
       "    .dataframe thead th {\n",
       "        text-align: right;\n",
       "    }\n",
       "</style>\n",
       "<table border=\"1\" class=\"dataframe\">\n",
       "  <thead>\n",
       "    <tr style=\"text-align: right;\">\n",
       "      <th></th>\n",
       "      <th>revo_installment_payment_ratio_1000_mean_mean</th>\n",
       "      <th>TARGET</th>\n",
       "    </tr>\n",
       "  </thead>\n",
       "  <tbody>\n",
       "    <tr>\n",
       "      <th>revo_installment_payment_ratio_1000_mean_mean</th>\n",
       "      <td>1.000000</td>\n",
       "      <td>-0.040611</td>\n",
       "    </tr>\n",
       "    <tr>\n",
       "      <th>TARGET</th>\n",
       "      <td>-0.040611</td>\n",
       "      <td>1.000000</td>\n",
       "    </tr>\n",
       "  </tbody>\n",
       "</table>\n",
       "</div>"
      ],
      "text/plain": [
       "                                               revo_installment_payment_ratio_1000_mean_mean  \\\n",
       "revo_installment_payment_ratio_1000_mean_mean                                       1.000000   \n",
       "TARGET                                                                             -0.040611   \n",
       "\n",
       "                                                 TARGET  \n",
       "revo_installment_payment_ratio_1000_mean_mean -0.040611  \n",
       "TARGET                                         1.000000  "
      ]
     },
     "execution_count": 116,
     "metadata": {},
     "output_type": "execute_result"
    }
   ],
   "source": [
    "app_train[['revo_installment_payment_ratio_1000_mean_mean', 'TARGET']].corr()"
   ]
  },
  {
   "cell_type": "markdown",
   "id": "7d5f6429",
   "metadata": {},
   "source": [
    "### revo_annuity_to_max_installment_ratio"
   ]
  },
  {
   "cell_type": "code",
   "execution_count": 117,
   "id": "9a50ecf9",
   "metadata": {},
   "outputs": [
    {
     "data": {
      "text/plain": [
       "-9114.7500    12\n",
       "-6554.2500    11\n",
       "-1567.0588    11\n",
       "-3745.2857    11\n",
       "-2804.5385    10\n",
       "              ..\n",
       "-2244.0000     1\n",
       "-2041.0000     1\n",
       "-158.4507      1\n",
       "-3068.6667     1\n",
       "-172.1627      1\n",
       "Name: revo_annuity_to_max_installment_ratio, Length: 28471, dtype: int64"
      ]
     },
     "execution_count": 117,
     "metadata": {},
     "output_type": "execute_result"
    }
   ],
   "source": [
    "app_train['revo_annuity_to_max_installment_ratio'].value_counts()"
   ]
  },
  {
   "cell_type": "code",
   "execution_count": 118,
   "id": "242d2b9f",
   "metadata": {},
   "outputs": [
    {
     "data": {
      "text/html": [
       "<div>\n",
       "<style scoped>\n",
       "    .dataframe tbody tr th:only-of-type {\n",
       "        vertical-align: middle;\n",
       "    }\n",
       "\n",
       "    .dataframe tbody tr th {\n",
       "        vertical-align: top;\n",
       "    }\n",
       "\n",
       "    .dataframe thead th {\n",
       "        text-align: right;\n",
       "    }\n",
       "</style>\n",
       "<table border=\"1\" class=\"dataframe\">\n",
       "  <thead>\n",
       "    <tr style=\"text-align: right;\">\n",
       "      <th></th>\n",
       "      <th>revo_annuity_to_max_installment_ratio</th>\n",
       "      <th>TARGET</th>\n",
       "    </tr>\n",
       "  </thead>\n",
       "  <tbody>\n",
       "    <tr>\n",
       "      <th>revo_annuity_to_max_installment_ratio</th>\n",
       "      <td>1.00000</td>\n",
       "      <td>0.00516</td>\n",
       "    </tr>\n",
       "    <tr>\n",
       "      <th>TARGET</th>\n",
       "      <td>0.00516</td>\n",
       "      <td>1.00000</td>\n",
       "    </tr>\n",
       "  </tbody>\n",
       "</table>\n",
       "</div>"
      ],
      "text/plain": [
       "                                       revo_annuity_to_max_installment_ratio  \\\n",
       "revo_annuity_to_max_installment_ratio                                1.00000   \n",
       "TARGET                                                               0.00516   \n",
       "\n",
       "                                        TARGET  \n",
       "revo_annuity_to_max_installment_ratio  0.00516  \n",
       "TARGET                                 1.00000  "
      ]
     },
     "execution_count": 118,
     "metadata": {},
     "output_type": "execute_result"
    }
   ],
   "source": [
    "app_train[['revo_annuity_to_max_installment_ratio', 'TARGET']].corr()"
   ]
  },
  {
   "cell_type": "code",
   "execution_count": 119,
   "id": "3aeab088",
   "metadata": {},
   "outputs": [],
   "source": [
    "app_train.drop(['revo_annuity_to_max_installment_ratio'], axis=1, inplace=True)\n",
    "app_test.drop(['revo_annuity_to_max_installment_ratio'], axis=1, inplace=True)"
   ]
  },
  {
   "cell_type": "code",
   "execution_count": 120,
   "id": "4f7a7678",
   "metadata": {},
   "outputs": [
    {
     "data": {
      "text/plain": [
       "307511"
      ]
     },
     "execution_count": 120,
     "metadata": {},
     "output_type": "execute_result"
    }
   ],
   "source": [
    "len(app_train)"
   ]
  },
  {
   "cell_type": "code",
   "execution_count": 121,
   "id": "55681d1d",
   "metadata": {},
   "outputs": [
    {
     "data": {
      "text/plain": [
       "48744"
      ]
     },
     "execution_count": 121,
     "metadata": {},
     "output_type": "execute_result"
    }
   ],
   "source": [
    "len(app_test)"
   ]
  },
  {
   "cell_type": "markdown",
   "id": "412f9496",
   "metadata": {},
   "source": [
    "### CSVをEXPORT"
   ]
  },
  {
   "cell_type": "code",
   "execution_count": 122,
   "id": "d283c9c5",
   "metadata": {},
   "outputs": [],
   "source": [
    "### train\n",
    "app_train.to_csv(\n",
    "    path_or_buf=\"./home-credit-default-risk/exports/hc_only_revo_train.csv\", # 出力先\n",
    "    sep=\",\",                                            # 区切り文字\n",
    "    index=False,                                        # indexの出力有無\n",
    "    header=True                                        # headerの出力有無\n",
    ")"
   ]
  },
  {
   "cell_type": "code",
   "execution_count": 123,
   "id": "9957ee5e",
   "metadata": {},
   "outputs": [],
   "source": [
    "### test\n",
    "app_test.to_csv(\n",
    "    path_or_buf=\"./home-credit-default-risk/exports/hc_only_revo_test.csv\", # 出力先\n",
    "    sep=\",\",                                            # 区切り文字\n",
    "    index=False,                                        # indexの出力有無\n",
    "    header=True                                        # headerの出力有無\n",
    ")"
   ]
  },
  {
   "cell_type": "code",
   "execution_count": 124,
   "id": "e53e9578",
   "metadata": {},
   "outputs": [
    {
     "data": {
      "text/html": [
       "<div>\n",
       "<style scoped>\n",
       "    .dataframe tbody tr th:only-of-type {\n",
       "        vertical-align: middle;\n",
       "    }\n",
       "\n",
       "    .dataframe tbody tr th {\n",
       "        vertical-align: top;\n",
       "    }\n",
       "\n",
       "    .dataframe thead th {\n",
       "        text-align: right;\n",
       "    }\n",
       "</style>\n",
       "<table border=\"1\" class=\"dataframe\">\n",
       "  <thead>\n",
       "    <tr style=\"text-align: right;\">\n",
       "      <th></th>\n",
       "      <th>SK_ID_CURR</th>\n",
       "      <th>revo_amt_annuity</th>\n",
       "      <th>revo_amt_application</th>\n",
       "      <th>revo_amt_credit</th>\n",
       "      <th>revo_amt_down_payment</th>\n",
       "      <th>revo_amt_goods_price</th>\n",
       "      <th>revo_hour_appr_process_start</th>\n",
       "      <th>revo_rate_down_payment</th>\n",
       "      <th>revo_rate_interest_primary</th>\n",
       "      <th>revo_days_decision</th>\n",
       "      <th>revo_name_type_suite</th>\n",
       "      <th>revo_name_client_type</th>\n",
       "      <th>revo_name_product_type</th>\n",
       "      <th>revo_product_combination</th>\n",
       "      <th>revo_days_first_due</th>\n",
       "      <th>revo_days_last_due</th>\n",
       "      <th>revo_days_termination</th>\n",
       "      <th>revo_nflag_insured_on_approval</th>\n",
       "      <th>revo_installment_payment_ratio_1000_mean_mean</th>\n",
       "    </tr>\n",
       "  </thead>\n",
       "  <tbody>\n",
       "    <tr>\n",
       "      <th>0</th>\n",
       "      <td>100002</td>\n",
       "      <td>NaN</td>\n",
       "      <td>NaN</td>\n",
       "      <td>NaN</td>\n",
       "      <td>NaN</td>\n",
       "      <td>NaN</td>\n",
       "      <td>NaN</td>\n",
       "      <td>NaN</td>\n",
       "      <td>NaN</td>\n",
       "      <td>NaN</td>\n",
       "      <td>NaN</td>\n",
       "      <td>NaN</td>\n",
       "      <td>NaN</td>\n",
       "      <td>NaN</td>\n",
       "      <td>NaN</td>\n",
       "      <td>NaN</td>\n",
       "      <td>NaN</td>\n",
       "      <td>NaN</td>\n",
       "      <td>NaN</td>\n",
       "    </tr>\n",
       "    <tr>\n",
       "      <th>1</th>\n",
       "      <td>100003</td>\n",
       "      <td>NaN</td>\n",
       "      <td>NaN</td>\n",
       "      <td>NaN</td>\n",
       "      <td>NaN</td>\n",
       "      <td>NaN</td>\n",
       "      <td>NaN</td>\n",
       "      <td>NaN</td>\n",
       "      <td>NaN</td>\n",
       "      <td>NaN</td>\n",
       "      <td>NaN</td>\n",
       "      <td>NaN</td>\n",
       "      <td>NaN</td>\n",
       "      <td>NaN</td>\n",
       "      <td>NaN</td>\n",
       "      <td>NaN</td>\n",
       "      <td>NaN</td>\n",
       "      <td>NaN</td>\n",
       "      <td>NaN</td>\n",
       "    </tr>\n",
       "    <tr>\n",
       "      <th>2</th>\n",
       "      <td>100004</td>\n",
       "      <td>NaN</td>\n",
       "      <td>NaN</td>\n",
       "      <td>NaN</td>\n",
       "      <td>NaN</td>\n",
       "      <td>NaN</td>\n",
       "      <td>NaN</td>\n",
       "      <td>NaN</td>\n",
       "      <td>NaN</td>\n",
       "      <td>NaN</td>\n",
       "      <td>NaN</td>\n",
       "      <td>NaN</td>\n",
       "      <td>NaN</td>\n",
       "      <td>NaN</td>\n",
       "      <td>NaN</td>\n",
       "      <td>NaN</td>\n",
       "      <td>NaN</td>\n",
       "      <td>NaN</td>\n",
       "      <td>NaN</td>\n",
       "    </tr>\n",
       "    <tr>\n",
       "      <th>3</th>\n",
       "      <td>100006</td>\n",
       "      <td>NaN</td>\n",
       "      <td>NaN</td>\n",
       "      <td>NaN</td>\n",
       "      <td>NaN</td>\n",
       "      <td>NaN</td>\n",
       "      <td>NaN</td>\n",
       "      <td>NaN</td>\n",
       "      <td>NaN</td>\n",
       "      <td>NaN</td>\n",
       "      <td>NaN</td>\n",
       "      <td>NaN</td>\n",
       "      <td>NaN</td>\n",
       "      <td>NaN</td>\n",
       "      <td>NaN</td>\n",
       "      <td>NaN</td>\n",
       "      <td>NaN</td>\n",
       "      <td>NaN</td>\n",
       "      <td>NaN</td>\n",
       "    </tr>\n",
       "    <tr>\n",
       "      <th>4</th>\n",
       "      <td>100007</td>\n",
       "      <td>NaN</td>\n",
       "      <td>NaN</td>\n",
       "      <td>NaN</td>\n",
       "      <td>NaN</td>\n",
       "      <td>NaN</td>\n",
       "      <td>NaN</td>\n",
       "      <td>NaN</td>\n",
       "      <td>NaN</td>\n",
       "      <td>NaN</td>\n",
       "      <td>NaN</td>\n",
       "      <td>NaN</td>\n",
       "      <td>NaN</td>\n",
       "      <td>NaN</td>\n",
       "      <td>NaN</td>\n",
       "      <td>NaN</td>\n",
       "      <td>NaN</td>\n",
       "      <td>NaN</td>\n",
       "      <td>NaN</td>\n",
       "    </tr>\n",
       "  </tbody>\n",
       "</table>\n",
       "</div>"
      ],
      "text/plain": [
       "   SK_ID_CURR  revo_amt_annuity  revo_amt_application  revo_amt_credit  \\\n",
       "0      100002               NaN                   NaN              NaN   \n",
       "1      100003               NaN                   NaN              NaN   \n",
       "2      100004               NaN                   NaN              NaN   \n",
       "3      100006               NaN                   NaN              NaN   \n",
       "4      100007               NaN                   NaN              NaN   \n",
       "\n",
       "   revo_amt_down_payment  revo_amt_goods_price  revo_hour_appr_process_start  \\\n",
       "0                    NaN                   NaN                           NaN   \n",
       "1                    NaN                   NaN                           NaN   \n",
       "2                    NaN                   NaN                           NaN   \n",
       "3                    NaN                   NaN                           NaN   \n",
       "4                    NaN                   NaN                           NaN   \n",
       "\n",
       "   revo_rate_down_payment  revo_rate_interest_primary  revo_days_decision  \\\n",
       "0                     NaN                         NaN                 NaN   \n",
       "1                     NaN                         NaN                 NaN   \n",
       "2                     NaN                         NaN                 NaN   \n",
       "3                     NaN                         NaN                 NaN   \n",
       "4                     NaN                         NaN                 NaN   \n",
       "\n",
       "   revo_name_type_suite  revo_name_client_type  revo_name_product_type  \\\n",
       "0                   NaN                    NaN                     NaN   \n",
       "1                   NaN                    NaN                     NaN   \n",
       "2                   NaN                    NaN                     NaN   \n",
       "3                   NaN                    NaN                     NaN   \n",
       "4                   NaN                    NaN                     NaN   \n",
       "\n",
       "   revo_product_combination  revo_days_first_due  revo_days_last_due  \\\n",
       "0                       NaN                  NaN                 NaN   \n",
       "1                       NaN                  NaN                 NaN   \n",
       "2                       NaN                  NaN                 NaN   \n",
       "3                       NaN                  NaN                 NaN   \n",
       "4                       NaN                  NaN                 NaN   \n",
       "\n",
       "   revo_days_termination  revo_nflag_insured_on_approval  \\\n",
       "0                    NaN                             NaN   \n",
       "1                    NaN                             NaN   \n",
       "2                    NaN                             NaN   \n",
       "3                    NaN                             NaN   \n",
       "4                    NaN                             NaN   \n",
       "\n",
       "   revo_installment_payment_ratio_1000_mean_mean  \n",
       "0                                            NaN  \n",
       "1                                            NaN  \n",
       "2                                            NaN  \n",
       "3                                            NaN  \n",
       "4                                            NaN  "
      ]
     },
     "execution_count": 124,
     "metadata": {},
     "output_type": "execute_result"
    }
   ],
   "source": [
    "#num_cols = ['max_credit_day_overdue', 'max_days_credit_enddate', 'min_days_enddate_fact', 'max_amt_credit_max_overdue', 'cnt_credit_prolong_in_6month', 'sum_amt_credit_sum', 'sum_amt_credit_sum_debt', 'sum_amt_credit_sum_limit', 'sum_amt_credit_sum_overdue', 'avg_amt_annuity']\n",
    "\n",
    "data = pd.concat([app_train, app_test], sort=False)\n",
    "train = data[:len(app_train)]\n",
    "test = data[len(app_test):]\n",
    "\n",
    "\n",
    "y_train = train['TARGET']\n",
    "X_train = app_train.copy().drop('TARGET', axis=1)\n",
    "X_test = app_test.copy()\n",
    "\n",
    "# 学習データに基づいてYao-Johnson変換を定義\n",
    "#pt = PowerTransformer(method = 'yeo-johnson')\n",
    "#pt.fit(X_train[num_cols])\n",
    "\n",
    "# 変換後のデータで各列を置換\n",
    "#X_train[num_cols] = pt.transform(X_train[num_cols])\n",
    "#X_test[num_cols] = pt.transform(X_test[num_cols])\n",
    "\n",
    "X_train.head()"
   ]
  },
  {
   "cell_type": "code",
   "execution_count": 125,
   "id": "66221193",
   "metadata": {},
   "outputs": [
    {
     "name": "stdout",
     "output_type": "stream",
     "text": [
      "[22:00:57] WARNING: C:/Users/Administrator/workspace/xgboost-win64_release_1.6.0/src/learner.cc:627: \n",
      "Parameters: { \"colsample_state\", \"silent\", \"subsumple\" } might not be used.\n",
      "\n",
      "  This could be a false alarm, with some parameters getting used by language bindings but\n",
      "  then being mistakenly passed down to XGBoost core, or some parameter actually being used\n",
      "  but getting flagged wrongly here. Please open an issue if you find any such cases.\n",
      "\n",
      "\n",
      "[0]\ttrain-auc:0.53876\teval-auc:0.53763\n",
      "[1]\ttrain-auc:0.53952\teval-auc:0.53624\n",
      "[2]\ttrain-auc:0.54104\teval-auc:0.53761\n",
      "[3]\ttrain-auc:0.54125\teval-auc:0.53828\n",
      "[4]\ttrain-auc:0.54111\teval-auc:0.53844\n",
      "[5]\ttrain-auc:0.54454\teval-auc:0.53930\n",
      "[6]\ttrain-auc:0.54502\teval-auc:0.53752\n",
      "[7]\ttrain-auc:0.54548\teval-auc:0.53783\n",
      "[8]\ttrain-auc:0.54688\teval-auc:0.53868\n",
      "[9]\ttrain-auc:0.54830\teval-auc:0.53817\n",
      "[10]\ttrain-auc:0.54936\teval-auc:0.53842\n",
      "[11]\ttrain-auc:0.55056\teval-auc:0.53952\n",
      "[12]\ttrain-auc:0.55239\teval-auc:0.53984\n",
      "[13]\ttrain-auc:0.55193\teval-auc:0.54064\n",
      "[14]\ttrain-auc:0.55264\teval-auc:0.54025\n",
      "[15]\ttrain-auc:0.55274\teval-auc:0.54002\n",
      "[16]\ttrain-auc:0.55390\teval-auc:0.54017\n",
      "[17]\ttrain-auc:0.55389\teval-auc:0.53879\n",
      "[18]\ttrain-auc:0.55421\teval-auc:0.53953\n",
      "[19]\ttrain-auc:0.55526\teval-auc:0.53958\n",
      "[20]\ttrain-auc:0.55566\teval-auc:0.53903\n",
      "[21]\ttrain-auc:0.55603\teval-auc:0.53971\n",
      "[22]\ttrain-auc:0.55622\teval-auc:0.53992\n",
      "[23]\ttrain-auc:0.55705\teval-auc:0.54065\n",
      "[24]\ttrain-auc:0.55714\teval-auc:0.54017\n",
      "[25]\ttrain-auc:0.55770\teval-auc:0.53972\n",
      "[26]\ttrain-auc:0.55799\teval-auc:0.53953\n",
      "[27]\ttrain-auc:0.55850\teval-auc:0.53910\n",
      "[28]\ttrain-auc:0.55992\teval-auc:0.53967\n",
      "[29]\ttrain-auc:0.56011\teval-auc:0.53996\n",
      "[30]\ttrain-auc:0.56019\teval-auc:0.53990\n",
      "[31]\ttrain-auc:0.56058\teval-auc:0.54069\n",
      "[32]\ttrain-auc:0.56159\teval-auc:0.54027\n",
      "[33]\ttrain-auc:0.56230\teval-auc:0.54208\n",
      "[34]\ttrain-auc:0.56242\teval-auc:0.54197\n",
      "[35]\ttrain-auc:0.56260\teval-auc:0.54207\n",
      "[36]\ttrain-auc:0.56264\teval-auc:0.54138\n",
      "[37]\ttrain-auc:0.56261\teval-auc:0.54151\n",
      "[38]\ttrain-auc:0.56312\teval-auc:0.54105\n",
      "[39]\ttrain-auc:0.56330\teval-auc:0.54105\n",
      "[40]\ttrain-auc:0.56351\teval-auc:0.54115\n",
      "[41]\ttrain-auc:0.56420\teval-auc:0.54201\n",
      "[42]\ttrain-auc:0.56467\teval-auc:0.54177\n",
      "[43]\ttrain-auc:0.56487\teval-auc:0.54187\n",
      "[44]\ttrain-auc:0.56501\teval-auc:0.54186\n",
      "[45]\ttrain-auc:0.56591\teval-auc:0.54254\n",
      "[46]\ttrain-auc:0.56613\teval-auc:0.54255\n",
      "[47]\ttrain-auc:0.56751\teval-auc:0.54116\n",
      "[48]\ttrain-auc:0.56759\teval-auc:0.54142\n",
      "[49]\ttrain-auc:0.56789\teval-auc:0.54144\n",
      "[22:00:59] WARNING: C:/Users/Administrator/workspace/xgboost-win64_release_1.6.0/src/learner.cc:627: \n",
      "Parameters: { \"colsample_state\", \"silent\", \"subsumple\" } might not be used.\n",
      "\n",
      "  This could be a false alarm, with some parameters getting used by language bindings but\n",
      "  then being mistakenly passed down to XGBoost core, or some parameter actually being used\n",
      "  but getting flagged wrongly here. Please open an issue if you find any such cases.\n",
      "\n",
      "\n",
      "[0]\ttrain-auc:0.53868\teval-auc:0.53702\n",
      "[1]\ttrain-auc:0.53877\teval-auc:0.53692\n",
      "[2]\ttrain-auc:0.54029\teval-auc:0.53758\n",
      "[3]\ttrain-auc:0.54064\teval-auc:0.53842\n",
      "[4]\ttrain-auc:0.54149\teval-auc:0.53851\n",
      "[5]\ttrain-auc:0.54183\teval-auc:0.53836\n",
      "[6]\ttrain-auc:0.54399\teval-auc:0.53645\n",
      "[7]\ttrain-auc:0.54735\teval-auc:0.53707\n",
      "[8]\ttrain-auc:0.54844\teval-auc:0.53793\n",
      "[9]\ttrain-auc:0.54973\teval-auc:0.53763\n",
      "[10]\ttrain-auc:0.55095\teval-auc:0.53809\n",
      "[11]\ttrain-auc:0.55221\teval-auc:0.53748\n",
      "[12]\ttrain-auc:0.55258\teval-auc:0.53777\n",
      "[13]\ttrain-auc:0.55280\teval-auc:0.53775\n",
      "[14]\ttrain-auc:0.55371\teval-auc:0.53968\n",
      "[15]\ttrain-auc:0.55388\teval-auc:0.53976\n",
      "[16]\ttrain-auc:0.55413\teval-auc:0.53931\n",
      "[17]\ttrain-auc:0.55465\teval-auc:0.53968\n",
      "[18]\ttrain-auc:0.55507\teval-auc:0.54016\n",
      "[19]\ttrain-auc:0.55541\teval-auc:0.54024\n",
      "[20]\ttrain-auc:0.55577\teval-auc:0.53994\n",
      "[21]\ttrain-auc:0.55584\teval-auc:0.53946\n",
      "[22]\ttrain-auc:0.55552\teval-auc:0.54013\n",
      "[23]\ttrain-auc:0.55669\teval-auc:0.54009\n",
      "[24]\ttrain-auc:0.55712\teval-auc:0.53987\n",
      "[25]\ttrain-auc:0.55769\teval-auc:0.53999\n",
      "[26]\ttrain-auc:0.55755\teval-auc:0.53943\n",
      "[27]\ttrain-auc:0.55831\teval-auc:0.54036\n",
      "[28]\ttrain-auc:0.55932\teval-auc:0.54066\n",
      "[29]\ttrain-auc:0.55960\teval-auc:0.54079\n",
      "[30]\ttrain-auc:0.55988\teval-auc:0.54091\n",
      "[31]\ttrain-auc:0.56172\teval-auc:0.54026\n",
      "[32]\ttrain-auc:0.56160\teval-auc:0.53903\n",
      "[33]\ttrain-auc:0.56165\teval-auc:0.53907\n",
      "[34]\ttrain-auc:0.56261\teval-auc:0.53894\n",
      "[35]\ttrain-auc:0.56287\teval-auc:0.53915\n",
      "[36]\ttrain-auc:0.56521\teval-auc:0.53867\n",
      "[37]\ttrain-auc:0.56556\teval-auc:0.53861\n",
      "[38]\ttrain-auc:0.56619\teval-auc:0.53864\n",
      "[39]\ttrain-auc:0.56636\teval-auc:0.53879\n",
      "[40]\ttrain-auc:0.56659\teval-auc:0.53868\n",
      "[41]\ttrain-auc:0.56670\teval-auc:0.53879\n",
      "[42]\ttrain-auc:0.56692\teval-auc:0.53834\n",
      "[43]\ttrain-auc:0.56743\teval-auc:0.53778\n",
      "[44]\ttrain-auc:0.56777\teval-auc:0.53727\n",
      "[45]\ttrain-auc:0.56791\teval-auc:0.53702\n",
      "[46]\ttrain-auc:0.56817\teval-auc:0.53663\n",
      "[47]\ttrain-auc:0.56927\teval-auc:0.53670\n",
      "[48]\ttrain-auc:0.56990\teval-auc:0.53784\n",
      "[49]\ttrain-auc:0.57021\teval-auc:0.53818\n",
      "[22:01:00] WARNING: C:/Users/Administrator/workspace/xgboost-win64_release_1.6.0/src/learner.cc:627: \n",
      "Parameters: { \"colsample_state\", \"silent\", \"subsumple\" } might not be used.\n",
      "\n",
      "  This could be a false alarm, with some parameters getting used by language bindings but\n",
      "  then being mistakenly passed down to XGBoost core, or some parameter actually being used\n",
      "  but getting flagged wrongly here. Please open an issue if you find any such cases.\n",
      "\n",
      "\n",
      "[0]\ttrain-auc:0.53650\teval-auc:0.53449\n",
      "[1]\ttrain-auc:0.53939\teval-auc:0.53417\n",
      "[2]\ttrain-auc:0.54065\teval-auc:0.53547\n",
      "[3]\ttrain-auc:0.54068\teval-auc:0.53565\n",
      "[4]\ttrain-auc:0.54233\teval-auc:0.53589\n",
      "[5]\ttrain-auc:0.54202\teval-auc:0.53631\n",
      "[6]\ttrain-auc:0.54242\teval-auc:0.53692\n",
      "[7]\ttrain-auc:0.54597\teval-auc:0.53916\n",
      "[8]\ttrain-auc:0.54884\teval-auc:0.53701\n",
      "[9]\ttrain-auc:0.54969\teval-auc:0.53644\n",
      "[10]\ttrain-auc:0.55059\teval-auc:0.53645\n",
      "[11]\ttrain-auc:0.55137\teval-auc:0.53657\n",
      "[12]\ttrain-auc:0.55129\teval-auc:0.53792\n",
      "[13]\ttrain-auc:0.55144\teval-auc:0.53859\n",
      "[14]\ttrain-auc:0.55257\teval-auc:0.53854\n",
      "[15]\ttrain-auc:0.55286\teval-auc:0.53772\n",
      "[16]\ttrain-auc:0.55329\teval-auc:0.53682\n",
      "[17]\ttrain-auc:0.55378\teval-auc:0.53707\n",
      "[18]\ttrain-auc:0.55408\teval-auc:0.53756\n",
      "[19]\ttrain-auc:0.55420\teval-auc:0.53751\n",
      "[20]\ttrain-auc:0.55576\teval-auc:0.53745\n",
      "[21]\ttrain-auc:0.55619\teval-auc:0.53817\n",
      "[22]\ttrain-auc:0.55633\teval-auc:0.53739\n",
      "[23]\ttrain-auc:0.55687\teval-auc:0.53785\n",
      "[24]\ttrain-auc:0.55703\teval-auc:0.53853\n",
      "[25]\ttrain-auc:0.55768\teval-auc:0.53856\n",
      "[26]\ttrain-auc:0.55808\teval-auc:0.53897\n",
      "[27]\ttrain-auc:0.55874\teval-auc:0.53879\n",
      "[28]\ttrain-auc:0.55887\teval-auc:0.53920\n",
      "[29]\ttrain-auc:0.55912\teval-auc:0.53948\n",
      "[30]\ttrain-auc:0.55908\teval-auc:0.53937\n",
      "[31]\ttrain-auc:0.56057\teval-auc:0.53773\n",
      "[32]\ttrain-auc:0.56125\teval-auc:0.53818\n",
      "[33]\ttrain-auc:0.56151\teval-auc:0.53816\n",
      "[34]\ttrain-auc:0.56297\teval-auc:0.53518\n",
      "[35]\ttrain-auc:0.56331\teval-auc:0.53561\n",
      "[36]\ttrain-auc:0.56373\teval-auc:0.53556\n",
      "[37]\ttrain-auc:0.56427\teval-auc:0.53548\n",
      "[38]\ttrain-auc:0.56432\teval-auc:0.53582\n",
      "[39]\ttrain-auc:0.56480\teval-auc:0.53552\n",
      "[40]\ttrain-auc:0.56528\teval-auc:0.53623\n",
      "[41]\ttrain-auc:0.56570\teval-auc:0.53699\n",
      "[42]\ttrain-auc:0.56617\teval-auc:0.53722\n",
      "[43]\ttrain-auc:0.56623\teval-auc:0.53663\n",
      "[44]\ttrain-auc:0.56656\teval-auc:0.53696\n",
      "[45]\ttrain-auc:0.56659\teval-auc:0.53716\n",
      "[46]\ttrain-auc:0.56671\teval-auc:0.53682\n",
      "[47]\ttrain-auc:0.56670\teval-auc:0.53740\n",
      "[48]\ttrain-auc:0.56719\teval-auc:0.53777\n",
      "[49]\ttrain-auc:0.56756\teval-auc:0.53719\n",
      "[22:01:01] WARNING: C:/Users/Administrator/workspace/xgboost-win64_release_1.6.0/src/learner.cc:627: \n",
      "Parameters: { \"colsample_state\", \"silent\", \"subsumple\" } might not be used.\n",
      "\n",
      "  This could be a false alarm, with some parameters getting used by language bindings but\n",
      "  then being mistakenly passed down to XGBoost core, or some parameter actually being used\n",
      "  but getting flagged wrongly here. Please open an issue if you find any such cases.\n",
      "\n",
      "\n",
      "[0]\ttrain-auc:0.53777\teval-auc:0.53722\n",
      "[1]\ttrain-auc:0.53894\teval-auc:0.53669\n",
      "[2]\ttrain-auc:0.53918\teval-auc:0.53835\n",
      "[3]\ttrain-auc:0.54014\teval-auc:0.53746\n",
      "[4]\ttrain-auc:0.54188\teval-auc:0.53793\n",
      "[5]\ttrain-auc:0.54188\teval-auc:0.53809\n",
      "[6]\ttrain-auc:0.54537\teval-auc:0.53650\n",
      "[7]\ttrain-auc:0.54653\teval-auc:0.53713\n",
      "[8]\ttrain-auc:0.54872\teval-auc:0.53611\n",
      "[9]\ttrain-auc:0.54955\teval-auc:0.53630\n",
      "[10]\ttrain-auc:0.55105\teval-auc:0.53786\n",
      "[11]\ttrain-auc:0.55132\teval-auc:0.53830\n"
     ]
    },
    {
     "name": "stdout",
     "output_type": "stream",
     "text": [
      "[12]\ttrain-auc:0.55163\teval-auc:0.53762\n",
      "[13]\ttrain-auc:0.55204\teval-auc:0.53827\n",
      "[14]\ttrain-auc:0.55268\teval-auc:0.53766\n",
      "[15]\ttrain-auc:0.55253\teval-auc:0.53828\n",
      "[16]\ttrain-auc:0.55302\teval-auc:0.53848\n",
      "[17]\ttrain-auc:0.55377\teval-auc:0.53892\n",
      "[18]\ttrain-auc:0.55458\teval-auc:0.53969\n",
      "[19]\ttrain-auc:0.55468\teval-auc:0.53850\n",
      "[20]\ttrain-auc:0.55630\teval-auc:0.53877\n",
      "[21]\ttrain-auc:0.55690\teval-auc:0.53945\n",
      "[22]\ttrain-auc:0.55726\teval-auc:0.53924\n",
      "[23]\ttrain-auc:0.55808\teval-auc:0.53998\n",
      "[24]\ttrain-auc:0.55847\teval-auc:0.54016\n",
      "[25]\ttrain-auc:0.55930\teval-auc:0.54014\n",
      "[26]\ttrain-auc:0.55974\teval-auc:0.53985\n",
      "[27]\ttrain-auc:0.56006\teval-auc:0.54018\n",
      "[28]\ttrain-auc:0.56091\teval-auc:0.53910\n",
      "[29]\ttrain-auc:0.56109\teval-auc:0.53840\n",
      "[30]\ttrain-auc:0.56154\teval-auc:0.53877\n",
      "[31]\ttrain-auc:0.56211\teval-auc:0.53827\n",
      "[32]\ttrain-auc:0.56243\teval-auc:0.53874\n",
      "[33]\ttrain-auc:0.56253\teval-auc:0.53895\n",
      "[34]\ttrain-auc:0.56375\teval-auc:0.53825\n",
      "[35]\ttrain-auc:0.56370\teval-auc:0.53849\n",
      "[36]\ttrain-auc:0.56379\teval-auc:0.53849\n",
      "[37]\ttrain-auc:0.56404\teval-auc:0.53831\n",
      "[38]\ttrain-auc:0.56536\teval-auc:0.53810\n",
      "[39]\ttrain-auc:0.56551\teval-auc:0.53826\n",
      "[40]\ttrain-auc:0.56590\teval-auc:0.53857\n",
      "[41]\ttrain-auc:0.56656\teval-auc:0.53848\n",
      "[42]\ttrain-auc:0.56651\teval-auc:0.53853\n",
      "[43]\ttrain-auc:0.56659\teval-auc:0.53893\n",
      "[44]\ttrain-auc:0.56727\teval-auc:0.53883\n",
      "[45]\ttrain-auc:0.56813\teval-auc:0.53884\n",
      "[46]\ttrain-auc:0.56820\teval-auc:0.53879\n",
      "[47]\ttrain-auc:0.56791\teval-auc:0.53828\n",
      "[48]\ttrain-auc:0.56821\teval-auc:0.53870\n",
      "[49]\ttrain-auc:0.56850\teval-auc:0.53871\n",
      "[22:01:02] WARNING: C:/Users/Administrator/workspace/xgboost-win64_release_1.6.0/src/learner.cc:627: \n",
      "Parameters: { \"colsample_state\", \"silent\", \"subsumple\" } might not be used.\n",
      "\n",
      "  This could be a false alarm, with some parameters getting used by language bindings but\n",
      "  then being mistakenly passed down to XGBoost core, or some parameter actually being used\n",
      "  but getting flagged wrongly here. Please open an issue if you find any such cases.\n",
      "\n",
      "\n",
      "[0]\ttrain-auc:0.53812\teval-auc:0.53537\n",
      "[1]\ttrain-auc:0.53961\teval-auc:0.53733\n",
      "[2]\ttrain-auc:0.54063\teval-auc:0.53718\n",
      "[3]\ttrain-auc:0.54118\teval-auc:0.53736\n",
      "[4]\ttrain-auc:0.54129\teval-auc:0.53742\n",
      "[5]\ttrain-auc:0.54119\teval-auc:0.53830\n",
      "[6]\ttrain-auc:0.54257\teval-auc:0.53820\n",
      "[7]\ttrain-auc:0.54715\teval-auc:0.53637\n",
      "[8]\ttrain-auc:0.54787\teval-auc:0.53667\n",
      "[9]\ttrain-auc:0.54916\teval-auc:0.53791\n",
      "[10]\ttrain-auc:0.55076\teval-auc:0.53827\n",
      "[11]\ttrain-auc:0.55159\teval-auc:0.53729\n",
      "[12]\ttrain-auc:0.55222\teval-auc:0.53711\n",
      "[13]\ttrain-auc:0.55221\teval-auc:0.53756\n",
      "[14]\ttrain-auc:0.55264\teval-auc:0.53713\n",
      "[15]\ttrain-auc:0.55270\teval-auc:0.53720\n",
      "[16]\ttrain-auc:0.55261\teval-auc:0.53631\n",
      "[17]\ttrain-auc:0.55328\teval-auc:0.53634\n",
      "[18]\ttrain-auc:0.55364\teval-auc:0.53682\n",
      "[19]\ttrain-auc:0.55447\teval-auc:0.53671\n",
      "[20]\ttrain-auc:0.55464\teval-auc:0.53889\n",
      "[21]\ttrain-auc:0.55523\teval-auc:0.53823\n",
      "[22]\ttrain-auc:0.55538\teval-auc:0.53908\n",
      "[23]\ttrain-auc:0.55560\teval-auc:0.53818\n",
      "[24]\ttrain-auc:0.55576\teval-auc:0.53804\n",
      "[25]\ttrain-auc:0.55612\teval-auc:0.53856\n",
      "[26]\ttrain-auc:0.55622\teval-auc:0.53880\n",
      "[27]\ttrain-auc:0.55645\teval-auc:0.53846\n",
      "[28]\ttrain-auc:0.55767\teval-auc:0.53767\n",
      "[29]\ttrain-auc:0.55825\teval-auc:0.53791\n",
      "[30]\ttrain-auc:0.55859\teval-auc:0.53720\n",
      "[31]\ttrain-auc:0.55941\teval-auc:0.53715\n",
      "[32]\ttrain-auc:0.56015\teval-auc:0.53755\n",
      "[33]\ttrain-auc:0.56073\teval-auc:0.53748\n",
      "[34]\ttrain-auc:0.56205\teval-auc:0.53557\n",
      "[35]\ttrain-auc:0.56231\teval-auc:0.53521\n",
      "[36]\ttrain-auc:0.56310\teval-auc:0.53525\n",
      "[37]\ttrain-auc:0.56344\teval-auc:0.53605\n",
      "[38]\ttrain-auc:0.56374\teval-auc:0.53613\n",
      "[39]\ttrain-auc:0.56413\teval-auc:0.53562\n",
      "[40]\ttrain-auc:0.56434\teval-auc:0.53592\n",
      "[41]\ttrain-auc:0.56487\teval-auc:0.53628\n",
      "[42]\ttrain-auc:0.56490\teval-auc:0.53623\n",
      "[43]\ttrain-auc:0.56524\teval-auc:0.53592\n",
      "[44]\ttrain-auc:0.56529\teval-auc:0.53570\n",
      "[45]\ttrain-auc:0.56548\teval-auc:0.53560\n",
      "[46]\ttrain-auc:0.56572\teval-auc:0.53585\n",
      "[47]\ttrain-auc:0.56576\teval-auc:0.53628\n",
      "[48]\ttrain-auc:0.56605\teval-auc:0.53622\n",
      "[49]\ttrain-auc:0.56614\teval-auc:0.53652\n"
     ]
    }
   ],
   "source": [
    "import xgboost as xgb\n",
    "from sklearn.metrics import log_loss\n",
    "\n",
    "y_preds = []\n",
    "models = []\n",
    "scores = []\n",
    "oof_train = np.zeros((len(X_train),))\n",
    "cv = KFold(n_splits=5, shuffle=True, random_state=0)\n",
    "\n",
    "categorical_features = columns\n",
    "\n",
    "params = {\n",
    "    'booster': 'gbtree'\n",
    "    ,'objective': 'binary:logistic'\n",
    "    ,'silent': 1\n",
    "    ,'random_state': 17\n",
    "    ,'gpu_id': 0\n",
    "    ,'tree_method': 'gpu_hist'\n",
    "    ,'eval_metric': 'auc'\n",
    "    ,'eta': 0.1\n",
    "    #,'max_round': 100\n",
    "    ,'max_depth': 8\n",
    "    ,'subsample': 0.8\n",
    "    ,'colsample_state': 71\n",
    "    ,'colsample_bytree': 1.0\n",
    "    ,'colsample_bylevel': 0.3\n",
    "    ,'subsumple': 0.9\n",
    "    ,'gamma': 0\n",
    "    ,'lambda': 1\n",
    "    ,'alpha': 0\n",
    "    ,'min_child_weight': 1\n",
    "}\n",
    "\n",
    "num_round = 50\n",
    "\n",
    "for fold_id, (train_index, valid_index) in enumerate(cv.split(X_train)):\n",
    "    X_tr = X_train.loc[train_index, :]\n",
    "    X_val = X_train.loc[valid_index, :]\n",
    "    y_tr = y_train[train_index]\n",
    "    y_val = y_train[valid_index]\n",
    "    \n",
    "    dtrain = xgb.DMatrix(X_tr, label=y_tr)\n",
    "    dvalid = xgb.DMatrix(X_val, label=y_val)\n",
    "    dtest = xgb.DMatrix(X_test)\n",
    "    \n",
    "    watchlist = [(dtrain, 'train'), (dvalid, 'eval')]\n",
    "    model = xgb.train(params, dtrain, num_round, evals=watchlist)\n",
    "    \n",
    "    va_pred = model.predict(dvalid)\n",
    "    score = log_loss(y_val, va_pred)\n",
    "    oof_train[valid_index] = va_pred\n",
    "    \n",
    "    y_pred = model.predict(dtest) \n",
    "    \n",
    "    \n",
    "    #oof_train[valid_index] = model.predict(X_val, num_iteration=model.best_iteration)\n",
    "    #y_pred = model.predict(X_test, num_iteration=model.best_iteration)##\n",
    "\n",
    "    y_preds.append(y_pred)\n",
    "    models.append(model)\n",
    "    scores.append(score)"
   ]
  },
  {
   "cell_type": "code",
   "execution_count": 126,
   "id": "b643ea2e",
   "metadata": {},
   "outputs": [
    {
     "data": {
      "text/plain": [
       "[array([0.07626409, 0.07626409, 0.07626409, ..., 0.07536193, 0.07536193,\n",
       "        0.14064363], dtype=float32),\n",
       " array([0.07343386, 0.07343386, 0.07343386, ..., 0.07468738, 0.07468738,\n",
       "        0.13207898], dtype=float32),\n",
       " array([0.07617155, 0.07617155, 0.07617155, ..., 0.0742854 , 0.0742854 ,\n",
       "        0.22011252], dtype=float32),\n",
       " array([0.07355338, 0.07355338, 0.07355338, ..., 0.07592491, 0.07592491,\n",
       "        0.14249091], dtype=float32),\n",
       " array([0.07424549, 0.07424549, 0.07424549, ..., 0.07388395, 0.07388395,\n",
       "        0.1859375 ], dtype=float32)]"
      ]
     },
     "execution_count": 126,
     "metadata": {},
     "output_type": "execute_result"
    }
   ],
   "source": [
    "y_preds"
   ]
  },
  {
   "cell_type": "code",
   "execution_count": 127,
   "id": "08edb8ce",
   "metadata": {},
   "outputs": [
    {
     "data": {
      "text/plain": [
       "[0.27468497222269306,\n",
       " 0.27907147126685483,\n",
       " 0.2789412900401883,\n",
       " 0.27961613159677723,\n",
       " 0.28098564091989303]"
      ]
     },
     "execution_count": 127,
     "metadata": {},
     "output_type": "execute_result"
    }
   ],
   "source": [
    "scores"
   ]
  },
  {
   "cell_type": "code",
   "execution_count": 128,
   "id": "79740c4a",
   "metadata": {},
   "outputs": [],
   "source": [
    "# CSV-00\n",
    "submit_all = app_test[[\"SK_ID_CURR\"]].copy()\n",
    "# 予測確率の変数名はTARGET\n",
    "submit_all[\"TARGET\"] = y_preds[0]\n",
    "submit_all.isnull().sum()\n",
    "\n",
    "# Submit File\n",
    "submit_all.to_csv(\n",
    "    path_or_buf=\"./home-credit-default-risk/submit/submit_all_00.csv\", # 出力先\n",
    "    sep=\",\",                                            # 区切り文字\n",
    "    index=False,                                        # indexの出力有無\n",
    "    header=True                                        # headerの出力有無\n",
    ")"
   ]
  },
  {
   "cell_type": "code",
   "execution_count": 129,
   "id": "19caf64d",
   "metadata": {},
   "outputs": [],
   "source": [
    "# CSV-01\n",
    "submit_all = app_test[[\"SK_ID_CURR\"]].copy()\n",
    "# 予測確率の変数名はTARGET\n",
    "submit_all[\"TARGET\"] = y_preds[1]\n",
    "\n",
    "# Submit File\n",
    "submit_all.to_csv(\n",
    "    path_or_buf=\"./home-credit-default-risk/submit/submit_all_01.csv\", # 出力先\n",
    "    sep=\",\",                                            # 区切り文字\n",
    "    index=False,                                        # indexの出力有無\n",
    "    header=True                                        # headerの出力有無\n",
    ")"
   ]
  },
  {
   "cell_type": "code",
   "execution_count": 130,
   "id": "20f6cd80",
   "metadata": {},
   "outputs": [],
   "source": [
    "# CSV-02\n",
    "submit_all = app_test[[\"SK_ID_CURR\"]].copy()\n",
    "# 予測確率の変数名はTARGET\n",
    "submit_all[\"TARGET\"] = y_preds[2]\n",
    "\n",
    "# Submit File\n",
    "submit_all.to_csv(\n",
    "    path_or_buf=\"./home-credit-default-risk/submit/submit_all_02.csv\", # 出力先\n",
    "    sep=\",\",                                            # 区切り文字\n",
    "    index=False,                                        # indexの出力有無\n",
    "    header=True                                        # headerの出力有無\n",
    ")"
   ]
  },
  {
   "cell_type": "code",
   "execution_count": 131,
   "id": "935101ec",
   "metadata": {},
   "outputs": [],
   "source": [
    "# CSV-03\n",
    "submit_all = app_test[[\"SK_ID_CURR\"]].copy()\n",
    "# 予測確率の変数名はTARGET\n",
    "submit_all[\"TARGET\"] = y_preds[3]\n",
    "\n",
    "# Submit File\n",
    "submit_all.to_csv(\n",
    "    path_or_buf=\"./home-credit-default-risk/submit/submit_all_03.csv\", # 出力先\n",
    "    sep=\",\",                                            # 区切り文字\n",
    "    index=False,                                        # indexの出力有無\n",
    "    header=True                                        # headerの出力有無\n",
    ")"
   ]
  },
  {
   "cell_type": "code",
   "execution_count": 132,
   "id": "84a44c4f",
   "metadata": {},
   "outputs": [],
   "source": [
    "# CSV-04\n",
    "submit_all = app_test[[\"SK_ID_CURR\"]].copy()\n",
    "# 予測確率の変数名はTARGET\n",
    "submit_all[\"TARGET\"] = y_preds[4]\n",
    "\n",
    "# Submit File\n",
    "submit_all.to_csv(\n",
    "    path_or_buf=\"./home-credit-default-risk/submit/submit_all_04.csv\", # 出力先\n",
    "    sep=\",\",                                            # 区切り文字\n",
    "    index=False,                                        # indexの出力有無\n",
    "    header=True                                        # headerの出力有無\n",
    ")"
   ]
  },
  {
   "cell_type": "code",
   "execution_count": 133,
   "id": "f3de8b93",
   "metadata": {},
   "outputs": [],
   "source": [
    "submit_all_00 = pd.read_csv('./home-credit-default-risk/submit/submit_all_00.csv')\n",
    "submit_all_01 = pd.read_csv('./home-credit-default-risk/submit/submit_all_01.csv')\n",
    "submit_all_02 = pd.read_csv('./home-credit-default-risk/submit/submit_all_02.csv')\n",
    "submit_all_03 = pd.read_csv('./home-credit-default-risk/submit/submit_all_03.csv')\n",
    "submit_all_04 = pd.read_csv('./home-credit-default-risk/submit/submit_all_04.csv')"
   ]
  },
  {
   "cell_type": "code",
   "execution_count": 134,
   "id": "9dac1432",
   "metadata": {},
   "outputs": [
    {
     "data": {
      "text/html": [
       "<div>\n",
       "<style scoped>\n",
       "    .dataframe tbody tr th:only-of-type {\n",
       "        vertical-align: middle;\n",
       "    }\n",
       "\n",
       "    .dataframe tbody tr th {\n",
       "        vertical-align: top;\n",
       "    }\n",
       "\n",
       "    .dataframe thead th {\n",
       "        text-align: right;\n",
       "    }\n",
       "</style>\n",
       "<table border=\"1\" class=\"dataframe\">\n",
       "  <thead>\n",
       "    <tr style=\"text-align: right;\">\n",
       "      <th></th>\n",
       "      <th>submit_all_00</th>\n",
       "      <th>submit_all_01</th>\n",
       "      <th>submit_all_02</th>\n",
       "      <th>submit_all_03</th>\n",
       "      <th>submit_all_04</th>\n",
       "    </tr>\n",
       "  </thead>\n",
       "  <tbody>\n",
       "    <tr>\n",
       "      <th>0</th>\n",
       "      <td>0.076264</td>\n",
       "      <td>0.073434</td>\n",
       "      <td>0.076172</td>\n",
       "      <td>0.073553</td>\n",
       "      <td>0.074245</td>\n",
       "    </tr>\n",
       "    <tr>\n",
       "      <th>1</th>\n",
       "      <td>0.076264</td>\n",
       "      <td>0.073434</td>\n",
       "      <td>0.076172</td>\n",
       "      <td>0.073553</td>\n",
       "      <td>0.074245</td>\n",
       "    </tr>\n",
       "    <tr>\n",
       "      <th>2</th>\n",
       "      <td>0.076264</td>\n",
       "      <td>0.073434</td>\n",
       "      <td>0.076172</td>\n",
       "      <td>0.073553</td>\n",
       "      <td>0.074245</td>\n",
       "    </tr>\n",
       "    <tr>\n",
       "      <th>3</th>\n",
       "      <td>0.108985</td>\n",
       "      <td>0.107257</td>\n",
       "      <td>0.090588</td>\n",
       "      <td>0.116346</td>\n",
       "      <td>0.069415</td>\n",
       "    </tr>\n",
       "    <tr>\n",
       "      <th>4</th>\n",
       "      <td>0.076264</td>\n",
       "      <td>0.073434</td>\n",
       "      <td>0.076172</td>\n",
       "      <td>0.073553</td>\n",
       "      <td>0.074245</td>\n",
       "    </tr>\n",
       "  </tbody>\n",
       "</table>\n",
       "</div>"
      ],
      "text/plain": [
       "   submit_all_00  submit_all_01  submit_all_02  submit_all_03  submit_all_04\n",
       "0       0.076264       0.073434       0.076172       0.073553       0.074245\n",
       "1       0.076264       0.073434       0.076172       0.073553       0.074245\n",
       "2       0.076264       0.073434       0.076172       0.073553       0.074245\n",
       "3       0.108985       0.107257       0.090588       0.116346       0.069415\n",
       "4       0.076264       0.073434       0.076172       0.073553       0.074245"
      ]
     },
     "execution_count": 134,
     "metadata": {},
     "output_type": "execute_result"
    }
   ],
   "source": [
    "submit_all = pd.DataFrame({\n",
    "    'submit_all_00': submit_all_00['TARGET'].values\n",
    "    ,'submit_all_01': submit_all_01['TARGET'].values\n",
    "    ,'submit_all_02': submit_all_02['TARGET'].values\n",
    "    ,'submit_all_03': submit_all_03['TARGET'].values\n",
    "    ,'submit_all_04': submit_all_04['TARGET'].values\n",
    "    })\n",
    "submit_all.head()"
   ]
  },
  {
   "cell_type": "code",
   "execution_count": 135,
   "id": "56fd23aa",
   "metadata": {},
   "outputs": [
    {
     "data": {
      "text/html": [
       "<div>\n",
       "<style scoped>\n",
       "    .dataframe tbody tr th:only-of-type {\n",
       "        vertical-align: middle;\n",
       "    }\n",
       "\n",
       "    .dataframe tbody tr th {\n",
       "        vertical-align: top;\n",
       "    }\n",
       "\n",
       "    .dataframe thead th {\n",
       "        text-align: right;\n",
       "    }\n",
       "</style>\n",
       "<table border=\"1\" class=\"dataframe\">\n",
       "  <thead>\n",
       "    <tr style=\"text-align: right;\">\n",
       "      <th></th>\n",
       "      <th>submit_all_00</th>\n",
       "      <th>submit_all_01</th>\n",
       "      <th>submit_all_02</th>\n",
       "      <th>submit_all_03</th>\n",
       "      <th>submit_all_04</th>\n",
       "    </tr>\n",
       "  </thead>\n",
       "  <tbody>\n",
       "    <tr>\n",
       "      <th>submit_all_00</th>\n",
       "      <td>1.000000</td>\n",
       "      <td>0.876941</td>\n",
       "      <td>0.878082</td>\n",
       "      <td>0.876963</td>\n",
       "      <td>0.880698</td>\n",
       "    </tr>\n",
       "    <tr>\n",
       "      <th>submit_all_01</th>\n",
       "      <td>0.876941</td>\n",
       "      <td>1.000000</td>\n",
       "      <td>0.874997</td>\n",
       "      <td>0.870284</td>\n",
       "      <td>0.877397</td>\n",
       "    </tr>\n",
       "    <tr>\n",
       "      <th>submit_all_02</th>\n",
       "      <td>0.878082</td>\n",
       "      <td>0.874997</td>\n",
       "      <td>1.000000</td>\n",
       "      <td>0.876675</td>\n",
       "      <td>0.880595</td>\n",
       "    </tr>\n",
       "    <tr>\n",
       "      <th>submit_all_03</th>\n",
       "      <td>0.876963</td>\n",
       "      <td>0.870284</td>\n",
       "      <td>0.876675</td>\n",
       "      <td>1.000000</td>\n",
       "      <td>0.879236</td>\n",
       "    </tr>\n",
       "    <tr>\n",
       "      <th>submit_all_04</th>\n",
       "      <td>0.880698</td>\n",
       "      <td>0.877397</td>\n",
       "      <td>0.880595</td>\n",
       "      <td>0.879236</td>\n",
       "      <td>1.000000</td>\n",
       "    </tr>\n",
       "  </tbody>\n",
       "</table>\n",
       "</div>"
      ],
      "text/plain": [
       "               submit_all_00  submit_all_01  submit_all_02  submit_all_03  \\\n",
       "submit_all_00       1.000000       0.876941       0.878082       0.876963   \n",
       "submit_all_01       0.876941       1.000000       0.874997       0.870284   \n",
       "submit_all_02       0.878082       0.874997       1.000000       0.876675   \n",
       "submit_all_03       0.876963       0.870284       0.876675       1.000000   \n",
       "submit_all_04       0.880698       0.877397       0.880595       0.879236   \n",
       "\n",
       "               submit_all_04  \n",
       "submit_all_00       0.880698  \n",
       "submit_all_01       0.877397  \n",
       "submit_all_02       0.880595  \n",
       "submit_all_03       0.879236  \n",
       "submit_all_04       1.000000  "
      ]
     },
     "execution_count": 135,
     "metadata": {},
     "output_type": "execute_result"
    }
   ],
   "source": [
    "submit_all.corr()"
   ]
  },
  {
   "cell_type": "code",
   "execution_count": 136,
   "id": "889b1e4d",
   "metadata": {},
   "outputs": [
    {
     "data": {
      "text/html": [
       "<div>\n",
       "<style scoped>\n",
       "    .dataframe tbody tr th:only-of-type {\n",
       "        vertical-align: middle;\n",
       "    }\n",
       "\n",
       "    .dataframe tbody tr th {\n",
       "        vertical-align: top;\n",
       "    }\n",
       "\n",
       "    .dataframe thead th {\n",
       "        text-align: right;\n",
       "    }\n",
       "</style>\n",
       "<table border=\"1\" class=\"dataframe\">\n",
       "  <thead>\n",
       "    <tr style=\"text-align: right;\">\n",
       "      <th></th>\n",
       "      <th>SK_ID_CURR</th>\n",
       "      <th>TARGET</th>\n",
       "    </tr>\n",
       "  </thead>\n",
       "  <tbody>\n",
       "    <tr>\n",
       "      <th>0</th>\n",
       "      <td>100001</td>\n",
       "      <td>0.074734</td>\n",
       "    </tr>\n",
       "    <tr>\n",
       "      <th>1</th>\n",
       "      <td>100005</td>\n",
       "      <td>0.074734</td>\n",
       "    </tr>\n",
       "    <tr>\n",
       "      <th>2</th>\n",
       "      <td>100013</td>\n",
       "      <td>0.074734</td>\n",
       "    </tr>\n",
       "    <tr>\n",
       "      <th>3</th>\n",
       "      <td>100028</td>\n",
       "      <td>0.098518</td>\n",
       "    </tr>\n",
       "    <tr>\n",
       "      <th>4</th>\n",
       "      <td>100038</td>\n",
       "      <td>0.074734</td>\n",
       "    </tr>\n",
       "  </tbody>\n",
       "</table>\n",
       "</div>"
      ],
      "text/plain": [
       "   SK_ID_CURR    TARGET\n",
       "0      100001  0.074734\n",
       "1      100005  0.074734\n",
       "2      100013  0.074734\n",
       "3      100028  0.098518\n",
       "4      100038  0.074734"
      ]
     },
     "execution_count": 136,
     "metadata": {},
     "output_type": "execute_result"
    }
   ],
   "source": [
    "submit_all = app_test[[\"SK_ID_CURR\"]].copy()\n",
    "submit_all['TARGET'] = (submit_all_00['TARGET'] + submit_all_01['TARGET'] + submit_all_02['TARGET'] + submit_all_03['TARGET'] + submit_all_04['TARGET'])/5\n",
    "submit_all.head()"
   ]
  },
  {
   "cell_type": "code",
   "execution_count": 137,
   "id": "a68a3285",
   "metadata": {},
   "outputs": [
    {
     "data": {
      "text/html": [
       "<div>\n",
       "<style scoped>\n",
       "    .dataframe tbody tr th:only-of-type {\n",
       "        vertical-align: middle;\n",
       "    }\n",
       "\n",
       "    .dataframe tbody tr th {\n",
       "        vertical-align: top;\n",
       "    }\n",
       "\n",
       "    .dataframe thead th {\n",
       "        text-align: right;\n",
       "    }\n",
       "</style>\n",
       "<table border=\"1\" class=\"dataframe\">\n",
       "  <thead>\n",
       "    <tr style=\"text-align: right;\">\n",
       "      <th></th>\n",
       "      <th>SK_ID_CURR</th>\n",
       "      <th>TARGET</th>\n",
       "    </tr>\n",
       "  </thead>\n",
       "  <tbody>\n",
       "    <tr>\n",
       "      <th>0</th>\n",
       "      <td>100001</td>\n",
       "      <td>0.014947</td>\n",
       "    </tr>\n",
       "    <tr>\n",
       "      <th>1</th>\n",
       "      <td>100005</td>\n",
       "      <td>0.014947</td>\n",
       "    </tr>\n",
       "    <tr>\n",
       "      <th>2</th>\n",
       "      <td>100013</td>\n",
       "      <td>0.014947</td>\n",
       "    </tr>\n",
       "    <tr>\n",
       "      <th>3</th>\n",
       "      <td>100028</td>\n",
       "      <td>0.019704</td>\n",
       "    </tr>\n",
       "    <tr>\n",
       "      <th>4</th>\n",
       "      <td>100038</td>\n",
       "      <td>0.014947</td>\n",
       "    </tr>\n",
       "  </tbody>\n",
       "</table>\n",
       "</div>"
      ],
      "text/plain": [
       "   SK_ID_CURR    TARGET\n",
       "0      100001  0.014947\n",
       "1      100005  0.014947\n",
       "2      100013  0.014947\n",
       "3      100028  0.019704\n",
       "4      100038  0.014947"
      ]
     },
     "execution_count": 137,
     "metadata": {},
     "output_type": "execute_result"
    }
   ],
   "source": [
    "submit_all['TARGET'] = (submit_all['TARGET'] / 5)\n",
    "submit_all.to_csv('./home-credit-default-risk/submit/submit_hc_only_revo_test.csv', index=False)\n",
    "submit_all.head()"
   ]
  },
  {
   "cell_type": "code",
   "execution_count": 138,
   "id": "650c4b41",
   "metadata": {},
   "outputs": [
    {
     "data": {
      "text/plain": [
       "SK_ID_CURR    48744\n",
       "TARGET        48744\n",
       "dtype: int64"
      ]
     },
     "execution_count": 138,
     "metadata": {},
     "output_type": "execute_result"
    }
   ],
   "source": [
    "submit_all.count()"
   ]
  },
  {
   "cell_type": "code",
   "execution_count": null,
   "id": "980095f9",
   "metadata": {},
   "outputs": [],
   "source": []
  }
 ],
 "metadata": {
  "kernelspec": {
   "display_name": "Python 3 (ipykernel)",
   "language": "python",
   "name": "python3"
  },
  "language_info": {
   "codemirror_mode": {
    "name": "ipython",
    "version": 3
   },
   "file_extension": ".py",
   "mimetype": "text/x-python",
   "name": "python",
   "nbconvert_exporter": "python",
   "pygments_lexer": "ipython3",
   "version": "3.9.7"
  }
 },
 "nbformat": 4,
 "nbformat_minor": 5
}
