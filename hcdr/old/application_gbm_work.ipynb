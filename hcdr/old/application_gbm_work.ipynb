{
 "cells": [
  {
   "cell_type": "code",
   "execution_count": 1,
   "id": "c5c60a25",
   "metadata": {},
   "outputs": [
    {
     "name": "stdout",
     "output_type": "stream",
     "text": [
      "OK\n",
      "\n"
     ]
    }
   ],
   "source": [
    "import cupy as cp\n",
    "import numpy as np\n",
    "import pandas as pd\n",
    "import lightgbm as lgb\n",
    "import matplotlib.pyplot as plt\n",
    "import seaborn as sns\n",
    "import tensorflow as tf\n",
    "import scipy.stats as st\n",
    "\n",
    "from lightgbm import LGBMClassifier\n",
    "\n",
    "from sklearn import metrics\n",
    "from sklearn_pandas import DataFrameMapper\n",
    "from sklearn.metrics import accuracy_score\n",
    "from sklearn.metrics import log_loss\n",
    "from sklearn.metrics import mean_squared_log_error\n",
    "from sklearn.tree import DecisionTreeClassifier, export_graphviz\n",
    "from sklearn.ensemble import RandomForestRegressor\n",
    "from sklearn.model_selection import KFold\n",
    "from sklearn.model_selection import train_test_split\n",
    "from sklearn.preprocessing import LabelEncoder\n",
    "from sklearn.preprocessing import StandardScaler\n",
    "from sklearn.preprocessing import PowerTransformer\n",
    "from sklearn.preprocessing import LabelEncoder\n",
    "from sklearn.preprocessing import MinMaxScaler\n",
    "from sklearn.experimental import enable_iterative_imputer\n",
    "from sklearn.metrics import roc_auc_score\n",
    "from sklearn.tree import plot_tree\n",
    "from sklearn.datasets import make_moons\n",
    "from sklearn.feature_selection import mutual_info_classif\n",
    "\n",
    "\n",
    "from sklearn.experimental import enable_iterative_imputer\n",
    "from sklearn.impute import IterativeImputer\n",
    "from sklearn.impute import SimpleImputer\n",
    "\n",
    "from keras.layers import Dense, Dropout\n",
    "from keras.models import Sequential\n",
    "\n",
    "from six import StringIO\n",
    "\n",
    "from IPython.display import Image\n",
    "import matplotlib.pyplot as plt\n",
    "import seaborn as sns\n",
    "\n",
    "import statsmodels.api as sm\n",
    "import math\n",
    "from scipy import stats\n",
    "import numpy as np\n",
    "import pandas as pd\n",
    "import tensorflow as tf\n",
    "\n",
    "from datetime import datetime\n",
    "from tensorflow import feature_column\n",
    "from tensorflow.keras import layers\n",
    "\n",
    "from tqdm import tqdm\n",
    "\n",
    "# sklearn preprocessing for dealing with categorical variables\n",
    "from sklearn.preprocessing import LabelEncoder\n",
    "\n",
    "# File system manangement\n",
    "import os\n",
    "\n",
    "# Suppress warnings \n",
    "import warnings\n",
    "warnings.filterwarnings('ignore')\n",
    "\n",
    "import xgboost as xgb\n",
    "from sklearn.metrics import log_loss\n",
    "from xgboost.sklearn import XGBClassifier\n",
    "\n",
    "from Modules import Modules\n",
    "\n",
    "%matplotlib inline\n",
    "\n",
    "print(\"OK\\n\")"
   ]
  },
  {
   "cell_type": "code",
   "execution_count": 2,
   "id": "b34a42a0",
   "metadata": {},
   "outputs": [],
   "source": [
    "# Plots the disribution of a variable colored by value of the target\n",
    "def kde_target(var_name, df):\n",
    "    \n",
    "    # Calculate the correlation coefficient between the new variable and the target\n",
    "    corr = df['TARGET'].corr(df[var_name])\n",
    "    \n",
    "    # Calculate medians for repaid vs not repaid\n",
    "    avg_repaid = df.loc[df['TARGET'] == 0, var_name].median()\n",
    "    avg_not_repaid = df.loc[df['TARGET'] == 1, var_name].median()\n",
    "    \n",
    "    plt.figure(figsize = (12, 6))\n",
    "    \n",
    "    # Plot the distribution for target == 0 and target == 1\n",
    "    sns.kdeplot(df.loc[df['TARGET'] == 0, var_name], label = 'TARGET == 0')\n",
    "    sns.kdeplot(df.loc[df['TARGET'] == 1, var_name], label = 'TARGET == 1')\n",
    "    \n",
    "    # label the plot\n",
    "    plt.xlabel(var_name); plt.ylabel('Density'); plt.title('%s Distribution' % var_name)\n",
    "    plt.legend();\n",
    "    \n",
    "    # print out the correlation\n",
    "    print('The correlation between %s and the TARGET is %0.4f' % (var_name, corr))\n",
    "    # Print out average values\n",
    "    print('Median value for loan that was not repaid = %0.4f' % avg_not_repaid)\n",
    "    print('Median value for loan that was repaid =     %0.4f' % avg_repaid)"
   ]
  },
  {
   "cell_type": "code",
   "execution_count": 3,
   "id": "ce0f8fb2",
   "metadata": {},
   "outputs": [
    {
     "data": {
      "text/html": [
       "<div>\n",
       "<style scoped>\n",
       "    .dataframe tbody tr th:only-of-type {\n",
       "        vertical-align: middle;\n",
       "    }\n",
       "\n",
       "    .dataframe tbody tr th {\n",
       "        vertical-align: top;\n",
       "    }\n",
       "\n",
       "    .dataframe thead th {\n",
       "        text-align: right;\n",
       "    }\n",
       "</style>\n",
       "<table border=\"1\" class=\"dataframe\">\n",
       "  <thead>\n",
       "    <tr style=\"text-align: right;\">\n",
       "      <th></th>\n",
       "      <th>SK_ID_CURR</th>\n",
       "      <th>TARGET</th>\n",
       "      <th>NAME_CONTRACT_TYPE</th>\n",
       "      <th>CODE_GENDER</th>\n",
       "      <th>FLAG_OWN_CAR</th>\n",
       "      <th>FLAG_OWN_REALTY</th>\n",
       "      <th>CNT_CHILDREN</th>\n",
       "      <th>AMT_INCOME_TOTAL</th>\n",
       "      <th>AMT_CREDIT</th>\n",
       "      <th>AMT_ANNUITY</th>\n",
       "      <th>...</th>\n",
       "      <th>FLAG_DOCUMENT_18</th>\n",
       "      <th>FLAG_DOCUMENT_19</th>\n",
       "      <th>FLAG_DOCUMENT_20</th>\n",
       "      <th>FLAG_DOCUMENT_21</th>\n",
       "      <th>AMT_REQ_CREDIT_BUREAU_HOUR</th>\n",
       "      <th>AMT_REQ_CREDIT_BUREAU_DAY</th>\n",
       "      <th>AMT_REQ_CREDIT_BUREAU_WEEK</th>\n",
       "      <th>AMT_REQ_CREDIT_BUREAU_MON</th>\n",
       "      <th>AMT_REQ_CREDIT_BUREAU_QRT</th>\n",
       "      <th>AMT_REQ_CREDIT_BUREAU_YEAR</th>\n",
       "    </tr>\n",
       "  </thead>\n",
       "  <tbody>\n",
       "    <tr>\n",
       "      <th>0</th>\n",
       "      <td>100002</td>\n",
       "      <td>1</td>\n",
       "      <td>0</td>\n",
       "      <td>0</td>\n",
       "      <td>0</td>\n",
       "      <td>0</td>\n",
       "      <td>-0.577538</td>\n",
       "      <td>0.142129</td>\n",
       "      <td>-0.478095</td>\n",
       "      <td>-0.166152</td>\n",
       "      <td>...</td>\n",
       "      <td>-0.090534</td>\n",
       "      <td>-0.024402</td>\n",
       "      <td>-0.022529</td>\n",
       "      <td>-0.018305</td>\n",
       "      <td>-0.082511</td>\n",
       "      <td>-0.067550</td>\n",
       "      <td>-0.180649</td>\n",
       "      <td>-0.310034</td>\n",
       "      <td>-0.358577</td>\n",
       "      <td>-0.513331</td>\n",
       "    </tr>\n",
       "    <tr>\n",
       "      <th>1</th>\n",
       "      <td>100003</td>\n",
       "      <td>0</td>\n",
       "      <td>0</td>\n",
       "      <td>1</td>\n",
       "      <td>0</td>\n",
       "      <td>1</td>\n",
       "      <td>-0.577538</td>\n",
       "      <td>0.426792</td>\n",
       "      <td>1.725450</td>\n",
       "      <td>0.592666</td>\n",
       "      <td>...</td>\n",
       "      <td>-0.090534</td>\n",
       "      <td>-0.024402</td>\n",
       "      <td>-0.022529</td>\n",
       "      <td>-0.018305</td>\n",
       "      <td>-0.082511</td>\n",
       "      <td>-0.067550</td>\n",
       "      <td>-0.180649</td>\n",
       "      <td>-0.310034</td>\n",
       "      <td>-0.358577</td>\n",
       "      <td>-1.086589</td>\n",
       "    </tr>\n",
       "    <tr>\n",
       "      <th>2</th>\n",
       "      <td>100004</td>\n",
       "      <td>0</td>\n",
       "      <td>1</td>\n",
       "      <td>0</td>\n",
       "      <td>1</td>\n",
       "      <td>0</td>\n",
       "      <td>-0.577538</td>\n",
       "      <td>-0.427196</td>\n",
       "      <td>-1.152888</td>\n",
       "      <td>-1.404665</td>\n",
       "      <td>...</td>\n",
       "      <td>-0.090534</td>\n",
       "      <td>-0.024402</td>\n",
       "      <td>-0.022529</td>\n",
       "      <td>-0.018305</td>\n",
       "      <td>-0.082511</td>\n",
       "      <td>-0.067550</td>\n",
       "      <td>-0.180649</td>\n",
       "      <td>-0.310034</td>\n",
       "      <td>-0.358577</td>\n",
       "      <td>-1.086589</td>\n",
       "    </tr>\n",
       "    <tr>\n",
       "      <th>3</th>\n",
       "      <td>100006</td>\n",
       "      <td>0</td>\n",
       "      <td>0</td>\n",
       "      <td>1</td>\n",
       "      <td>0</td>\n",
       "      <td>0</td>\n",
       "      <td>-0.577538</td>\n",
       "      <td>-0.142533</td>\n",
       "      <td>-0.711430</td>\n",
       "      <td>0.177862</td>\n",
       "      <td>...</td>\n",
       "      <td>-0.090534</td>\n",
       "      <td>-0.024402</td>\n",
       "      <td>-0.022529</td>\n",
       "      <td>-0.018305</td>\n",
       "      <td>-0.001001</td>\n",
       "      <td>-0.000539</td>\n",
       "      <td>0.034180</td>\n",
       "      <td>-0.029661</td>\n",
       "      <td>0.003934</td>\n",
       "      <td>0.104634</td>\n",
       "    </tr>\n",
       "    <tr>\n",
       "      <th>4</th>\n",
       "      <td>100007</td>\n",
       "      <td>0</td>\n",
       "      <td>0</td>\n",
       "      <td>0</td>\n",
       "      <td>0</td>\n",
       "      <td>0</td>\n",
       "      <td>-0.577538</td>\n",
       "      <td>-0.199466</td>\n",
       "      <td>-0.213734</td>\n",
       "      <td>-0.361756</td>\n",
       "      <td>...</td>\n",
       "      <td>-0.090534</td>\n",
       "      <td>-0.024402</td>\n",
       "      <td>-0.022529</td>\n",
       "      <td>-0.018305</td>\n",
       "      <td>-0.082511</td>\n",
       "      <td>-0.067550</td>\n",
       "      <td>-0.180649</td>\n",
       "      <td>-0.310034</td>\n",
       "      <td>-0.358577</td>\n",
       "      <td>-1.086589</td>\n",
       "    </tr>\n",
       "  </tbody>\n",
       "</table>\n",
       "<p>5 rows × 122 columns</p>\n",
       "</div>"
      ],
      "text/plain": [
       "   SK_ID_CURR  TARGET  NAME_CONTRACT_TYPE  CODE_GENDER  FLAG_OWN_CAR  \\\n",
       "0      100002       1                   0            0             0   \n",
       "1      100003       0                   0            1             0   \n",
       "2      100004       0                   1            0             1   \n",
       "3      100006       0                   0            1             0   \n",
       "4      100007       0                   0            0             0   \n",
       "\n",
       "   FLAG_OWN_REALTY  CNT_CHILDREN  AMT_INCOME_TOTAL  AMT_CREDIT  AMT_ANNUITY  \\\n",
       "0                0     -0.577538          0.142129   -0.478095    -0.166152   \n",
       "1                1     -0.577538          0.426792    1.725450     0.592666   \n",
       "2                0     -0.577538         -0.427196   -1.152888    -1.404665   \n",
       "3                0     -0.577538         -0.142533   -0.711430     0.177862   \n",
       "4                0     -0.577538         -0.199466   -0.213734    -0.361756   \n",
       "\n",
       "   ...  FLAG_DOCUMENT_18  FLAG_DOCUMENT_19  FLAG_DOCUMENT_20  \\\n",
       "0  ...         -0.090534         -0.024402         -0.022529   \n",
       "1  ...         -0.090534         -0.024402         -0.022529   \n",
       "2  ...         -0.090534         -0.024402         -0.022529   \n",
       "3  ...         -0.090534         -0.024402         -0.022529   \n",
       "4  ...         -0.090534         -0.024402         -0.022529   \n",
       "\n",
       "   FLAG_DOCUMENT_21  AMT_REQ_CREDIT_BUREAU_HOUR  AMT_REQ_CREDIT_BUREAU_DAY  \\\n",
       "0         -0.018305                   -0.082511                  -0.067550   \n",
       "1         -0.018305                   -0.082511                  -0.067550   \n",
       "2         -0.018305                   -0.082511                  -0.067550   \n",
       "3         -0.018305                   -0.001001                  -0.000539   \n",
       "4         -0.018305                   -0.082511                  -0.067550   \n",
       "\n",
       "   AMT_REQ_CREDIT_BUREAU_WEEK  AMT_REQ_CREDIT_BUREAU_MON  \\\n",
       "0                   -0.180649                  -0.310034   \n",
       "1                   -0.180649                  -0.310034   \n",
       "2                   -0.180649                  -0.310034   \n",
       "3                    0.034180                  -0.029661   \n",
       "4                   -0.180649                  -0.310034   \n",
       "\n",
       "   AMT_REQ_CREDIT_BUREAU_QRT  AMT_REQ_CREDIT_BUREAU_YEAR  \n",
       "0                  -0.358577                   -0.513331  \n",
       "1                  -0.358577                   -1.086589  \n",
       "2                  -0.358577                   -1.086589  \n",
       "3                   0.003934                    0.104634  \n",
       "4                  -0.358577                   -1.086589  \n",
       "\n",
       "[5 rows x 122 columns]"
      ]
     },
     "execution_count": 3,
     "metadata": {},
     "output_type": "execute_result"
    }
   ],
   "source": [
    "app_train_origin =  pd.read_csv('./home-credit-default-risk/exports/app_train_gbm.csv')\n",
    "app_test_origin =  pd.read_csv('./home-credit-default-risk/exports/app_test_gbm.csv')\n",
    "app_train_origin.head()"
   ]
  },
  {
   "cell_type": "code",
   "execution_count": 4,
   "id": "3321f52b",
   "metadata": {},
   "outputs": [
    {
     "data": {
      "text/html": [
       "<div>\n",
       "<style scoped>\n",
       "    .dataframe tbody tr th:only-of-type {\n",
       "        vertical-align: middle;\n",
       "    }\n",
       "\n",
       "    .dataframe tbody tr th {\n",
       "        vertical-align: top;\n",
       "    }\n",
       "\n",
       "    .dataframe thead th {\n",
       "        text-align: right;\n",
       "    }\n",
       "</style>\n",
       "<table border=\"1\" class=\"dataframe\">\n",
       "  <thead>\n",
       "    <tr style=\"text-align: right;\">\n",
       "      <th></th>\n",
       "      <th>SK_ID_CURR</th>\n",
       "      <th>TARGET</th>\n",
       "      <th>NAME_CONTRACT_TYPE</th>\n",
       "      <th>CODE_GENDER</th>\n",
       "      <th>FLAG_OWN_CAR</th>\n",
       "      <th>FLAG_OWN_REALTY</th>\n",
       "      <th>CNT_CHILDREN</th>\n",
       "      <th>AMT_INCOME_TOTAL</th>\n",
       "      <th>AMT_CREDIT</th>\n",
       "      <th>AMT_ANNUITY</th>\n",
       "      <th>...</th>\n",
       "      <th>FLAG_DOCUMENT_18</th>\n",
       "      <th>FLAG_DOCUMENT_19</th>\n",
       "      <th>FLAG_DOCUMENT_20</th>\n",
       "      <th>FLAG_DOCUMENT_21</th>\n",
       "      <th>AMT_REQ_CREDIT_BUREAU_HOUR</th>\n",
       "      <th>AMT_REQ_CREDIT_BUREAU_DAY</th>\n",
       "      <th>AMT_REQ_CREDIT_BUREAU_WEEK</th>\n",
       "      <th>AMT_REQ_CREDIT_BUREAU_MON</th>\n",
       "      <th>AMT_REQ_CREDIT_BUREAU_QRT</th>\n",
       "      <th>AMT_REQ_CREDIT_BUREAU_YEAR</th>\n",
       "    </tr>\n",
       "  </thead>\n",
       "  <tbody>\n",
       "    <tr>\n",
       "      <th>0</th>\n",
       "      <td>100002</td>\n",
       "      <td>1</td>\n",
       "      <td>0</td>\n",
       "      <td>0</td>\n",
       "      <td>0</td>\n",
       "      <td>0</td>\n",
       "      <td>-0.577538</td>\n",
       "      <td>0.142129</td>\n",
       "      <td>-0.478095</td>\n",
       "      <td>-0.166152</td>\n",
       "      <td>...</td>\n",
       "      <td>-0.090534</td>\n",
       "      <td>-0.024402</td>\n",
       "      <td>-0.022529</td>\n",
       "      <td>-0.018305</td>\n",
       "      <td>-0.082511</td>\n",
       "      <td>-0.067550</td>\n",
       "      <td>-0.180649</td>\n",
       "      <td>-0.310034</td>\n",
       "      <td>-0.358577</td>\n",
       "      <td>-0.513331</td>\n",
       "    </tr>\n",
       "    <tr>\n",
       "      <th>1</th>\n",
       "      <td>100003</td>\n",
       "      <td>0</td>\n",
       "      <td>0</td>\n",
       "      <td>1</td>\n",
       "      <td>0</td>\n",
       "      <td>1</td>\n",
       "      <td>-0.577538</td>\n",
       "      <td>0.426792</td>\n",
       "      <td>1.725450</td>\n",
       "      <td>0.592666</td>\n",
       "      <td>...</td>\n",
       "      <td>-0.090534</td>\n",
       "      <td>-0.024402</td>\n",
       "      <td>-0.022529</td>\n",
       "      <td>-0.018305</td>\n",
       "      <td>-0.082511</td>\n",
       "      <td>-0.067550</td>\n",
       "      <td>-0.180649</td>\n",
       "      <td>-0.310034</td>\n",
       "      <td>-0.358577</td>\n",
       "      <td>-1.086589</td>\n",
       "    </tr>\n",
       "    <tr>\n",
       "      <th>2</th>\n",
       "      <td>100004</td>\n",
       "      <td>0</td>\n",
       "      <td>1</td>\n",
       "      <td>0</td>\n",
       "      <td>1</td>\n",
       "      <td>0</td>\n",
       "      <td>-0.577538</td>\n",
       "      <td>-0.427196</td>\n",
       "      <td>-1.152888</td>\n",
       "      <td>-1.404665</td>\n",
       "      <td>...</td>\n",
       "      <td>-0.090534</td>\n",
       "      <td>-0.024402</td>\n",
       "      <td>-0.022529</td>\n",
       "      <td>-0.018305</td>\n",
       "      <td>-0.082511</td>\n",
       "      <td>-0.067550</td>\n",
       "      <td>-0.180649</td>\n",
       "      <td>-0.310034</td>\n",
       "      <td>-0.358577</td>\n",
       "      <td>-1.086589</td>\n",
       "    </tr>\n",
       "    <tr>\n",
       "      <th>3</th>\n",
       "      <td>100006</td>\n",
       "      <td>0</td>\n",
       "      <td>0</td>\n",
       "      <td>1</td>\n",
       "      <td>0</td>\n",
       "      <td>0</td>\n",
       "      <td>-0.577538</td>\n",
       "      <td>-0.142533</td>\n",
       "      <td>-0.711430</td>\n",
       "      <td>0.177862</td>\n",
       "      <td>...</td>\n",
       "      <td>-0.090534</td>\n",
       "      <td>-0.024402</td>\n",
       "      <td>-0.022529</td>\n",
       "      <td>-0.018305</td>\n",
       "      <td>-0.001001</td>\n",
       "      <td>-0.000539</td>\n",
       "      <td>0.034180</td>\n",
       "      <td>-0.029661</td>\n",
       "      <td>0.003934</td>\n",
       "      <td>0.104634</td>\n",
       "    </tr>\n",
       "    <tr>\n",
       "      <th>4</th>\n",
       "      <td>100007</td>\n",
       "      <td>0</td>\n",
       "      <td>0</td>\n",
       "      <td>0</td>\n",
       "      <td>0</td>\n",
       "      <td>0</td>\n",
       "      <td>-0.577538</td>\n",
       "      <td>-0.199466</td>\n",
       "      <td>-0.213734</td>\n",
       "      <td>-0.361756</td>\n",
       "      <td>...</td>\n",
       "      <td>-0.090534</td>\n",
       "      <td>-0.024402</td>\n",
       "      <td>-0.022529</td>\n",
       "      <td>-0.018305</td>\n",
       "      <td>-0.082511</td>\n",
       "      <td>-0.067550</td>\n",
       "      <td>-0.180649</td>\n",
       "      <td>-0.310034</td>\n",
       "      <td>-0.358577</td>\n",
       "      <td>-1.086589</td>\n",
       "    </tr>\n",
       "  </tbody>\n",
       "</table>\n",
       "<p>5 rows × 122 columns</p>\n",
       "</div>"
      ],
      "text/plain": [
       "   SK_ID_CURR  TARGET  NAME_CONTRACT_TYPE  CODE_GENDER  FLAG_OWN_CAR  \\\n",
       "0      100002       1                   0            0             0   \n",
       "1      100003       0                   0            1             0   \n",
       "2      100004       0                   1            0             1   \n",
       "3      100006       0                   0            1             0   \n",
       "4      100007       0                   0            0             0   \n",
       "\n",
       "   FLAG_OWN_REALTY  CNT_CHILDREN  AMT_INCOME_TOTAL  AMT_CREDIT  AMT_ANNUITY  \\\n",
       "0                0     -0.577538          0.142129   -0.478095    -0.166152   \n",
       "1                1     -0.577538          0.426792    1.725450     0.592666   \n",
       "2                0     -0.577538         -0.427196   -1.152888    -1.404665   \n",
       "3                0     -0.577538         -0.142533   -0.711430     0.177862   \n",
       "4                0     -0.577538         -0.199466   -0.213734    -0.361756   \n",
       "\n",
       "   ...  FLAG_DOCUMENT_18  FLAG_DOCUMENT_19  FLAG_DOCUMENT_20  \\\n",
       "0  ...         -0.090534         -0.024402         -0.022529   \n",
       "1  ...         -0.090534         -0.024402         -0.022529   \n",
       "2  ...         -0.090534         -0.024402         -0.022529   \n",
       "3  ...         -0.090534         -0.024402         -0.022529   \n",
       "4  ...         -0.090534         -0.024402         -0.022529   \n",
       "\n",
       "   FLAG_DOCUMENT_21  AMT_REQ_CREDIT_BUREAU_HOUR  AMT_REQ_CREDIT_BUREAU_DAY  \\\n",
       "0         -0.018305                   -0.082511                  -0.067550   \n",
       "1         -0.018305                   -0.082511                  -0.067550   \n",
       "2         -0.018305                   -0.082511                  -0.067550   \n",
       "3         -0.018305                   -0.001001                  -0.000539   \n",
       "4         -0.018305                   -0.082511                  -0.067550   \n",
       "\n",
       "   AMT_REQ_CREDIT_BUREAU_WEEK  AMT_REQ_CREDIT_BUREAU_MON  \\\n",
       "0                   -0.180649                  -0.310034   \n",
       "1                   -0.180649                  -0.310034   \n",
       "2                   -0.180649                  -0.310034   \n",
       "3                    0.034180                  -0.029661   \n",
       "4                   -0.180649                  -0.310034   \n",
       "\n",
       "   AMT_REQ_CREDIT_BUREAU_QRT  AMT_REQ_CREDIT_BUREAU_YEAR  \n",
       "0                  -0.358577                   -0.513331  \n",
       "1                  -0.358577                   -1.086589  \n",
       "2                  -0.358577                   -1.086589  \n",
       "3                   0.003934                    0.104634  \n",
       "4                  -0.358577                   -1.086589  \n",
       "\n",
       "[5 rows x 122 columns]"
      ]
     },
     "execution_count": 4,
     "metadata": {},
     "output_type": "execute_result"
    }
   ],
   "source": [
    "app_train = app_train_origin.copy()\n",
    "app_test = app_test_origin.copy()\n",
    "app_train.head()"
   ]
  },
  {
   "cell_type": "code",
   "execution_count": 5,
   "id": "0a41121e",
   "metadata": {},
   "outputs": [],
   "source": [
    "## 特徴量の作成"
   ]
  },
  {
   "cell_type": "code",
   "execution_count": 7,
   "id": "fceba15c",
   "metadata": {},
   "outputs": [
    {
     "data": {
      "text/html": [
       "<div>\n",
       "<style scoped>\n",
       "    .dataframe tbody tr th:only-of-type {\n",
       "        vertical-align: middle;\n",
       "    }\n",
       "\n",
       "    .dataframe tbody tr th {\n",
       "        vertical-align: top;\n",
       "    }\n",
       "\n",
       "    .dataframe thead th {\n",
       "        text-align: right;\n",
       "    }\n",
       "</style>\n",
       "<table border=\"1\" class=\"dataframe\">\n",
       "  <thead>\n",
       "    <tr style=\"text-align: right;\">\n",
       "      <th></th>\n",
       "      <th>SK_ID_CURR</th>\n",
       "      <th>TARGET</th>\n",
       "      <th>NAME_CONTRACT_TYPE</th>\n",
       "      <th>CODE_GENDER</th>\n",
       "      <th>FLAG_OWN_CAR</th>\n",
       "      <th>FLAG_OWN_REALTY</th>\n",
       "      <th>CNT_CHILDREN</th>\n",
       "      <th>AMT_INCOME_TOTAL</th>\n",
       "      <th>AMT_CREDIT</th>\n",
       "      <th>AMT_ANNUITY</th>\n",
       "      <th>...</th>\n",
       "      <th>FLAG_DOCUMENT_18</th>\n",
       "      <th>FLAG_DOCUMENT_19</th>\n",
       "      <th>FLAG_DOCUMENT_20</th>\n",
       "      <th>FLAG_DOCUMENT_21</th>\n",
       "      <th>AMT_REQ_CREDIT_BUREAU_HOUR</th>\n",
       "      <th>AMT_REQ_CREDIT_BUREAU_DAY</th>\n",
       "      <th>AMT_REQ_CREDIT_BUREAU_WEEK</th>\n",
       "      <th>AMT_REQ_CREDIT_BUREAU_MON</th>\n",
       "      <th>AMT_REQ_CREDIT_BUREAU_QRT</th>\n",
       "      <th>AMT_REQ_CREDIT_BUREAU_YEAR</th>\n",
       "    </tr>\n",
       "  </thead>\n",
       "  <tbody>\n",
       "    <tr>\n",
       "      <th>0</th>\n",
       "      <td>100002</td>\n",
       "      <td>1</td>\n",
       "      <td>0</td>\n",
       "      <td>0</td>\n",
       "      <td>0</td>\n",
       "      <td>0</td>\n",
       "      <td>-0.577538</td>\n",
       "      <td>0.142129</td>\n",
       "      <td>-0.478095</td>\n",
       "      <td>-0.166152</td>\n",
       "      <td>...</td>\n",
       "      <td>-0.090534</td>\n",
       "      <td>-0.024402</td>\n",
       "      <td>-0.022529</td>\n",
       "      <td>-0.018305</td>\n",
       "      <td>-0.082511</td>\n",
       "      <td>-0.067550</td>\n",
       "      <td>-0.180649</td>\n",
       "      <td>-0.310034</td>\n",
       "      <td>-0.358577</td>\n",
       "      <td>-0.513331</td>\n",
       "    </tr>\n",
       "    <tr>\n",
       "      <th>1</th>\n",
       "      <td>100003</td>\n",
       "      <td>0</td>\n",
       "      <td>0</td>\n",
       "      <td>1</td>\n",
       "      <td>0</td>\n",
       "      <td>1</td>\n",
       "      <td>-0.577538</td>\n",
       "      <td>0.426792</td>\n",
       "      <td>1.725450</td>\n",
       "      <td>0.592666</td>\n",
       "      <td>...</td>\n",
       "      <td>-0.090534</td>\n",
       "      <td>-0.024402</td>\n",
       "      <td>-0.022529</td>\n",
       "      <td>-0.018305</td>\n",
       "      <td>-0.082511</td>\n",
       "      <td>-0.067550</td>\n",
       "      <td>-0.180649</td>\n",
       "      <td>-0.310034</td>\n",
       "      <td>-0.358577</td>\n",
       "      <td>-1.086589</td>\n",
       "    </tr>\n",
       "    <tr>\n",
       "      <th>2</th>\n",
       "      <td>100004</td>\n",
       "      <td>0</td>\n",
       "      <td>1</td>\n",
       "      <td>0</td>\n",
       "      <td>1</td>\n",
       "      <td>0</td>\n",
       "      <td>-0.577538</td>\n",
       "      <td>-0.427196</td>\n",
       "      <td>-1.152888</td>\n",
       "      <td>-1.404665</td>\n",
       "      <td>...</td>\n",
       "      <td>-0.090534</td>\n",
       "      <td>-0.024402</td>\n",
       "      <td>-0.022529</td>\n",
       "      <td>-0.018305</td>\n",
       "      <td>-0.082511</td>\n",
       "      <td>-0.067550</td>\n",
       "      <td>-0.180649</td>\n",
       "      <td>-0.310034</td>\n",
       "      <td>-0.358577</td>\n",
       "      <td>-1.086589</td>\n",
       "    </tr>\n",
       "    <tr>\n",
       "      <th>3</th>\n",
       "      <td>100006</td>\n",
       "      <td>0</td>\n",
       "      <td>0</td>\n",
       "      <td>1</td>\n",
       "      <td>0</td>\n",
       "      <td>0</td>\n",
       "      <td>-0.577538</td>\n",
       "      <td>-0.142533</td>\n",
       "      <td>-0.711430</td>\n",
       "      <td>0.177862</td>\n",
       "      <td>...</td>\n",
       "      <td>-0.090534</td>\n",
       "      <td>-0.024402</td>\n",
       "      <td>-0.022529</td>\n",
       "      <td>-0.018305</td>\n",
       "      <td>-0.001001</td>\n",
       "      <td>-0.000539</td>\n",
       "      <td>0.034180</td>\n",
       "      <td>-0.029661</td>\n",
       "      <td>0.003934</td>\n",
       "      <td>0.104634</td>\n",
       "    </tr>\n",
       "    <tr>\n",
       "      <th>4</th>\n",
       "      <td>100007</td>\n",
       "      <td>0</td>\n",
       "      <td>0</td>\n",
       "      <td>0</td>\n",
       "      <td>0</td>\n",
       "      <td>0</td>\n",
       "      <td>-0.577538</td>\n",
       "      <td>-0.199466</td>\n",
       "      <td>-0.213734</td>\n",
       "      <td>-0.361756</td>\n",
       "      <td>...</td>\n",
       "      <td>-0.090534</td>\n",
       "      <td>-0.024402</td>\n",
       "      <td>-0.022529</td>\n",
       "      <td>-0.018305</td>\n",
       "      <td>-0.082511</td>\n",
       "      <td>-0.067550</td>\n",
       "      <td>-0.180649</td>\n",
       "      <td>-0.310034</td>\n",
       "      <td>-0.358577</td>\n",
       "      <td>-1.086589</td>\n",
       "    </tr>\n",
       "  </tbody>\n",
       "</table>\n",
       "<p>5 rows × 122 columns</p>\n",
       "</div>"
      ],
      "text/plain": [
       "   SK_ID_CURR  TARGET  NAME_CONTRACT_TYPE  CODE_GENDER  FLAG_OWN_CAR  \\\n",
       "0      100002       1                   0            0             0   \n",
       "1      100003       0                   0            1             0   \n",
       "2      100004       0                   1            0             1   \n",
       "3      100006       0                   0            1             0   \n",
       "4      100007       0                   0            0             0   \n",
       "\n",
       "   FLAG_OWN_REALTY  CNT_CHILDREN  AMT_INCOME_TOTAL  AMT_CREDIT  AMT_ANNUITY  \\\n",
       "0                0     -0.577538          0.142129   -0.478095    -0.166152   \n",
       "1                1     -0.577538          0.426792    1.725450     0.592666   \n",
       "2                0     -0.577538         -0.427196   -1.152888    -1.404665   \n",
       "3                0     -0.577538         -0.142533   -0.711430     0.177862   \n",
       "4                0     -0.577538         -0.199466   -0.213734    -0.361756   \n",
       "\n",
       "   ...  FLAG_DOCUMENT_18  FLAG_DOCUMENT_19  FLAG_DOCUMENT_20  \\\n",
       "0  ...         -0.090534         -0.024402         -0.022529   \n",
       "1  ...         -0.090534         -0.024402         -0.022529   \n",
       "2  ...         -0.090534         -0.024402         -0.022529   \n",
       "3  ...         -0.090534         -0.024402         -0.022529   \n",
       "4  ...         -0.090534         -0.024402         -0.022529   \n",
       "\n",
       "   FLAG_DOCUMENT_21  AMT_REQ_CREDIT_BUREAU_HOUR  AMT_REQ_CREDIT_BUREAU_DAY  \\\n",
       "0         -0.018305                   -0.082511                  -0.067550   \n",
       "1         -0.018305                   -0.082511                  -0.067550   \n",
       "2         -0.018305                   -0.082511                  -0.067550   \n",
       "3         -0.018305                   -0.001001                  -0.000539   \n",
       "4         -0.018305                   -0.082511                  -0.067550   \n",
       "\n",
       "   AMT_REQ_CREDIT_BUREAU_WEEK  AMT_REQ_CREDIT_BUREAU_MON  \\\n",
       "0                   -0.180649                  -0.310034   \n",
       "1                   -0.180649                  -0.310034   \n",
       "2                   -0.180649                  -0.310034   \n",
       "3                    0.034180                  -0.029661   \n",
       "4                   -0.180649                  -0.310034   \n",
       "\n",
       "   AMT_REQ_CREDIT_BUREAU_QRT  AMT_REQ_CREDIT_BUREAU_YEAR  \n",
       "0                  -0.358577                   -0.513331  \n",
       "1                  -0.358577                   -1.086589  \n",
       "2                  -0.358577                   -1.086589  \n",
       "3                   0.003934                    0.104634  \n",
       "4                  -0.358577                   -1.086589  \n",
       "\n",
       "[5 rows x 122 columns]"
      ]
     },
     "execution_count": 7,
     "metadata": {},
     "output_type": "execute_result"
    }
   ],
   "source": [
    "app_train_domain = app_train.copy()\n",
    "app_test_domain = app_test.copy()\n",
    "app_train_domain.head()"
   ]
  },
  {
   "cell_type": "code",
   "execution_count": 293,
   "id": "f766fed5",
   "metadata": {},
   "outputs": [
    {
     "data": {
      "text/html": [
       "<div>\n",
       "<style scoped>\n",
       "    .dataframe tbody tr th:only-of-type {\n",
       "        vertical-align: middle;\n",
       "    }\n",
       "\n",
       "    .dataframe tbody tr th {\n",
       "        vertical-align: top;\n",
       "    }\n",
       "\n",
       "    .dataframe thead th {\n",
       "        text-align: right;\n",
       "    }\n",
       "</style>\n",
       "<table border=\"1\" class=\"dataframe\">\n",
       "  <thead>\n",
       "    <tr style=\"text-align: right;\">\n",
       "      <th></th>\n",
       "      <th>SK_ID_CURR</th>\n",
       "      <th>TARGET</th>\n",
       "      <th>NAME_CONTRACT_TYPE</th>\n",
       "      <th>CODE_GENDER</th>\n",
       "      <th>FLAG_OWN_CAR</th>\n",
       "      <th>FLAG_OWN_REALTY</th>\n",
       "      <th>CNT_CHILDREN</th>\n",
       "      <th>AMT_INCOME_TOTAL</th>\n",
       "      <th>AMT_CREDIT</th>\n",
       "      <th>AMT_ANNUITY</th>\n",
       "      <th>...</th>\n",
       "      <th>AMT_REQ_CREDIT_BUREAU_HOUR</th>\n",
       "      <th>AMT_REQ_CREDIT_BUREAU_DAY</th>\n",
       "      <th>AMT_REQ_CREDIT_BUREAU_WEEK</th>\n",
       "      <th>AMT_REQ_CREDIT_BUREAU_MON</th>\n",
       "      <th>AMT_REQ_CREDIT_BUREAU_QRT</th>\n",
       "      <th>AMT_REQ_CREDIT_BUREAU_YEAR</th>\n",
       "      <th>CREDIT_INCOME_PERCENT</th>\n",
       "      <th>ANNUITY_INCOME_PERCENT</th>\n",
       "      <th>CREDIT_TERM</th>\n",
       "      <th>DAYS_EMPLOYED_PERCENT</th>\n",
       "    </tr>\n",
       "  </thead>\n",
       "  <tbody>\n",
       "    <tr>\n",
       "      <th>0</th>\n",
       "      <td>100002</td>\n",
       "      <td>1</td>\n",
       "      <td>0</td>\n",
       "      <td>0</td>\n",
       "      <td>0</td>\n",
       "      <td>0</td>\n",
       "      <td>-0.577538</td>\n",
       "      <td>0.142129</td>\n",
       "      <td>-0.478095</td>\n",
       "      <td>-0.166152</td>\n",
       "      <td>...</td>\n",
       "      <td>-0.082511</td>\n",
       "      <td>-0.067550</td>\n",
       "      <td>-0.180649</td>\n",
       "      <td>-0.310034</td>\n",
       "      <td>-0.358577</td>\n",
       "      <td>-0.513331</td>\n",
       "      <td>-3.363804</td>\n",
       "      <td>-1.169020</td>\n",
       "      <td>0.347529</td>\n",
       "      <td>-0.302755</td>\n",
       "    </tr>\n",
       "    <tr>\n",
       "      <th>1</th>\n",
       "      <td>100003</td>\n",
       "      <td>0</td>\n",
       "      <td>0</td>\n",
       "      <td>1</td>\n",
       "      <td>0</td>\n",
       "      <td>1</td>\n",
       "      <td>-0.577538</td>\n",
       "      <td>0.426792</td>\n",
       "      <td>1.725450</td>\n",
       "      <td>0.592666</td>\n",
       "      <td>...</td>\n",
       "      <td>-0.082511</td>\n",
       "      <td>-0.067550</td>\n",
       "      <td>-0.180649</td>\n",
       "      <td>-0.310034</td>\n",
       "      <td>-0.358577</td>\n",
       "      <td>-1.086589</td>\n",
       "      <td>4.042836</td>\n",
       "      <td>1.388654</td>\n",
       "      <td>0.343485</td>\n",
       "      <td>2.758134</td>\n",
       "    </tr>\n",
       "    <tr>\n",
       "      <th>2</th>\n",
       "      <td>100004</td>\n",
       "      <td>0</td>\n",
       "      <td>1</td>\n",
       "      <td>0</td>\n",
       "      <td>1</td>\n",
       "      <td>0</td>\n",
       "      <td>-0.577538</td>\n",
       "      <td>-0.427196</td>\n",
       "      <td>-1.152888</td>\n",
       "      <td>-1.404665</td>\n",
       "      <td>...</td>\n",
       "      <td>-0.082511</td>\n",
       "      <td>-0.067550</td>\n",
       "      <td>-0.180649</td>\n",
       "      <td>-0.310034</td>\n",
       "      <td>-0.358577</td>\n",
       "      <td>-1.086589</td>\n",
       "      <td>2.698732</td>\n",
       "      <td>3.288103</td>\n",
       "      <td>1.218388</td>\n",
       "      <td>0.657423</td>\n",
       "    </tr>\n",
       "    <tr>\n",
       "      <th>3</th>\n",
       "      <td>100006</td>\n",
       "      <td>0</td>\n",
       "      <td>0</td>\n",
       "      <td>1</td>\n",
       "      <td>0</td>\n",
       "      <td>0</td>\n",
       "      <td>-0.577538</td>\n",
       "      <td>-0.142533</td>\n",
       "      <td>-0.711430</td>\n",
       "      <td>0.177862</td>\n",
       "      <td>...</td>\n",
       "      <td>-0.001001</td>\n",
       "      <td>-0.000539</td>\n",
       "      <td>0.034180</td>\n",
       "      <td>-0.029661</td>\n",
       "      <td>0.003934</td>\n",
       "      <td>0.104634</td>\n",
       "      <td>4.991320</td>\n",
       "      <td>-1.247863</td>\n",
       "      <td>-0.250007</td>\n",
       "      <td>0.695791</td>\n",
       "    </tr>\n",
       "    <tr>\n",
       "      <th>4</th>\n",
       "      <td>100007</td>\n",
       "      <td>0</td>\n",
       "      <td>0</td>\n",
       "      <td>0</td>\n",
       "      <td>0</td>\n",
       "      <td>0</td>\n",
       "      <td>-0.577538</td>\n",
       "      <td>-0.199466</td>\n",
       "      <td>-0.213734</td>\n",
       "      <td>-0.361756</td>\n",
       "      <td>...</td>\n",
       "      <td>-0.082511</td>\n",
       "      <td>-0.067550</td>\n",
       "      <td>-0.180649</td>\n",
       "      <td>-0.310034</td>\n",
       "      <td>-0.358577</td>\n",
       "      <td>-1.086589</td>\n",
       "      <td>1.071533</td>\n",
       "      <td>1.813620</td>\n",
       "      <td>1.692547</td>\n",
       "      <td>0.530187</td>\n",
       "    </tr>\n",
       "  </tbody>\n",
       "</table>\n",
       "<p>5 rows × 126 columns</p>\n",
       "</div>"
      ],
      "text/plain": [
       "   SK_ID_CURR  TARGET  NAME_CONTRACT_TYPE  CODE_GENDER  FLAG_OWN_CAR  \\\n",
       "0      100002       1                   0            0             0   \n",
       "1      100003       0                   0            1             0   \n",
       "2      100004       0                   1            0             1   \n",
       "3      100006       0                   0            1             0   \n",
       "4      100007       0                   0            0             0   \n",
       "\n",
       "   FLAG_OWN_REALTY  CNT_CHILDREN  AMT_INCOME_TOTAL  AMT_CREDIT  AMT_ANNUITY  \\\n",
       "0                0     -0.577538          0.142129   -0.478095    -0.166152   \n",
       "1                1     -0.577538          0.426792    1.725450     0.592666   \n",
       "2                0     -0.577538         -0.427196   -1.152888    -1.404665   \n",
       "3                0     -0.577538         -0.142533   -0.711430     0.177862   \n",
       "4                0     -0.577538         -0.199466   -0.213734    -0.361756   \n",
       "\n",
       "   ...  AMT_REQ_CREDIT_BUREAU_HOUR  AMT_REQ_CREDIT_BUREAU_DAY  \\\n",
       "0  ...                   -0.082511                  -0.067550   \n",
       "1  ...                   -0.082511                  -0.067550   \n",
       "2  ...                   -0.082511                  -0.067550   \n",
       "3  ...                   -0.001001                  -0.000539   \n",
       "4  ...                   -0.082511                  -0.067550   \n",
       "\n",
       "   AMT_REQ_CREDIT_BUREAU_WEEK  AMT_REQ_CREDIT_BUREAU_MON  \\\n",
       "0                   -0.180649                  -0.310034   \n",
       "1                   -0.180649                  -0.310034   \n",
       "2                   -0.180649                  -0.310034   \n",
       "3                    0.034180                  -0.029661   \n",
       "4                   -0.180649                  -0.310034   \n",
       "\n",
       "   AMT_REQ_CREDIT_BUREAU_QRT  AMT_REQ_CREDIT_BUREAU_YEAR  \\\n",
       "0                  -0.358577                   -0.513331   \n",
       "1                  -0.358577                   -1.086589   \n",
       "2                  -0.358577                   -1.086589   \n",
       "3                   0.003934                    0.104634   \n",
       "4                  -0.358577                   -1.086589   \n",
       "\n",
       "   CREDIT_INCOME_PERCENT  ANNUITY_INCOME_PERCENT  CREDIT_TERM  \\\n",
       "0              -3.363804               -1.169020     0.347529   \n",
       "1               4.042836                1.388654     0.343485   \n",
       "2               2.698732                3.288103     1.218388   \n",
       "3               4.991320               -1.247863    -0.250007   \n",
       "4               1.071533                1.813620     1.692547   \n",
       "\n",
       "   DAYS_EMPLOYED_PERCENT  \n",
       "0              -0.302755  \n",
       "1               2.758134  \n",
       "2               0.657423  \n",
       "3               0.695791  \n",
       "4               0.530187  \n",
       "\n",
       "[5 rows x 126 columns]"
      ]
     },
     "execution_count": 293,
     "metadata": {},
     "output_type": "execute_result"
    }
   ],
   "source": [
    "app_train_domain['CREDIT_INCOME_PERCENT'] = app_train_domain['AMT_CREDIT'] / app_train_domain['AMT_INCOME_TOTAL']\n",
    "app_train_domain['ANNUITY_INCOME_PERCENT'] = app_train_domain['AMT_ANNUITY'] / app_train_domain['AMT_INCOME_TOTAL']\n",
    "app_train_domain['CREDIT_TERM'] = app_train_domain['AMT_ANNUITY'] / app_train_domain['AMT_CREDIT']\n",
    "app_train_domain['DAYS_EMPLOYED_PERCENT'] = app_train_domain['DAYS_EMPLOYED'] / app_train_domain['DAYS_BIRTH']\n",
    "app_train_domain.head()"
   ]
  },
  {
   "cell_type": "code",
   "execution_count": 294,
   "id": "343a0d04",
   "metadata": {},
   "outputs": [
    {
     "data": {
      "text/html": [
       "<div>\n",
       "<style scoped>\n",
       "    .dataframe tbody tr th:only-of-type {\n",
       "        vertical-align: middle;\n",
       "    }\n",
       "\n",
       "    .dataframe tbody tr th {\n",
       "        vertical-align: top;\n",
       "    }\n",
       "\n",
       "    .dataframe thead th {\n",
       "        text-align: right;\n",
       "    }\n",
       "</style>\n",
       "<table border=\"1\" class=\"dataframe\">\n",
       "  <thead>\n",
       "    <tr style=\"text-align: right;\">\n",
       "      <th></th>\n",
       "      <th>SK_ID_CURR</th>\n",
       "      <th>NAME_CONTRACT_TYPE</th>\n",
       "      <th>CODE_GENDER</th>\n",
       "      <th>FLAG_OWN_CAR</th>\n",
       "      <th>FLAG_OWN_REALTY</th>\n",
       "      <th>CNT_CHILDREN</th>\n",
       "      <th>AMT_INCOME_TOTAL</th>\n",
       "      <th>AMT_CREDIT</th>\n",
       "      <th>AMT_ANNUITY</th>\n",
       "      <th>AMT_GOODS_PRICE</th>\n",
       "      <th>...</th>\n",
       "      <th>AMT_REQ_CREDIT_BUREAU_HOUR</th>\n",
       "      <th>AMT_REQ_CREDIT_BUREAU_DAY</th>\n",
       "      <th>AMT_REQ_CREDIT_BUREAU_WEEK</th>\n",
       "      <th>AMT_REQ_CREDIT_BUREAU_MON</th>\n",
       "      <th>AMT_REQ_CREDIT_BUREAU_QRT</th>\n",
       "      <th>AMT_REQ_CREDIT_BUREAU_YEAR</th>\n",
       "      <th>CREDIT_INCOME_PERCENT</th>\n",
       "      <th>ANNUITY_INCOME_PERCENT</th>\n",
       "      <th>CREDIT_TERM</th>\n",
       "      <th>DAYS_EMPLOYED_PERCENT</th>\n",
       "    </tr>\n",
       "  </thead>\n",
       "  <tbody>\n",
       "    <tr>\n",
       "      <th>0</th>\n",
       "      <td>100001</td>\n",
       "      <td>0</td>\n",
       "      <td>1</td>\n",
       "      <td>0</td>\n",
       "      <td>0</td>\n",
       "      <td>-0.577538</td>\n",
       "      <td>-0.142533</td>\n",
       "      <td>-0.075097</td>\n",
       "      <td>-0.451795</td>\n",
       "      <td>-0.238617</td>\n",
       "      <td>...</td>\n",
       "      <td>-0.082511</td>\n",
       "      <td>-0.067550</td>\n",
       "      <td>-0.180649</td>\n",
       "      <td>-0.310034</td>\n",
       "      <td>-0.358577</td>\n",
       "      <td>-1.086589</td>\n",
       "      <td>0.526876</td>\n",
       "      <td>3.169750</td>\n",
       "      <td>6.016117</td>\n",
       "      <td>0.637696</td>\n",
       "    </tr>\n",
       "    <tr>\n",
       "      <th>1</th>\n",
       "      <td>100005</td>\n",
       "      <td>0</td>\n",
       "      <td>0</td>\n",
       "      <td>0</td>\n",
       "      <td>0</td>\n",
       "      <td>-0.577538</td>\n",
       "      <td>-0.294354</td>\n",
       "      <td>-0.934825</td>\n",
       "      <td>-0.671927</td>\n",
       "      <td>-0.969511</td>\n",
       "      <td>...</td>\n",
       "      <td>-0.082511</td>\n",
       "      <td>-0.067550</td>\n",
       "      <td>-0.180649</td>\n",
       "      <td>-0.310034</td>\n",
       "      <td>-0.358577</td>\n",
       "      <td>0.633186</td>\n",
       "      <td>3.175860</td>\n",
       "      <td>2.282721</td>\n",
       "      <td>0.718773</td>\n",
       "      <td>1.040592</td>\n",
       "    </tr>\n",
       "    <tr>\n",
       "      <th>2</th>\n",
       "      <td>100013</td>\n",
       "      <td>0</td>\n",
       "      <td>0</td>\n",
       "      <td>1</td>\n",
       "      <td>0</td>\n",
       "      <td>-0.577538</td>\n",
       "      <td>0.142129</td>\n",
       "      <td>0.159601</td>\n",
       "      <td>2.943946</td>\n",
       "      <td>0.248645</td>\n",
       "      <td>...</td>\n",
       "      <td>-0.082511</td>\n",
       "      <td>-0.067550</td>\n",
       "      <td>-0.180649</td>\n",
       "      <td>-0.310034</td>\n",
       "      <td>0.995174</td>\n",
       "      <td>1.206445</td>\n",
       "      <td>1.122932</td>\n",
       "      <td>20.713163</td>\n",
       "      <td>18.445614</td>\n",
       "      <td>0.527104</td>\n",
       "    </tr>\n",
       "    <tr>\n",
       "      <th>3</th>\n",
       "      <td>100028</td>\n",
       "      <td>0</td>\n",
       "      <td>1</td>\n",
       "      <td>0</td>\n",
       "      <td>0</td>\n",
       "      <td>2.192084</td>\n",
       "      <td>0.616567</td>\n",
       "      <td>2.424840</td>\n",
       "      <td>1.511693</td>\n",
       "      <td>2.806772</td>\n",
       "      <td>...</td>\n",
       "      <td>-0.082511</td>\n",
       "      <td>-0.067550</td>\n",
       "      <td>-0.180649</td>\n",
       "      <td>-0.310034</td>\n",
       "      <td>-0.358577</td>\n",
       "      <td>0.633186</td>\n",
       "      <td>3.932808</td>\n",
       "      <td>2.451790</td>\n",
       "      <td>0.623420</td>\n",
       "      <td>-0.984417</td>\n",
       "    </tr>\n",
       "    <tr>\n",
       "      <th>4</th>\n",
       "      <td>100038</td>\n",
       "      <td>0</td>\n",
       "      <td>0</td>\n",
       "      <td>1</td>\n",
       "      <td>1</td>\n",
       "      <td>0.807273</td>\n",
       "      <td>0.047242</td>\n",
       "      <td>0.065776</td>\n",
       "      <td>0.342107</td>\n",
       "      <td>0.236464</td>\n",
       "      <td>...</td>\n",
       "      <td>-0.022074</td>\n",
       "      <td>-0.032718</td>\n",
       "      <td>-0.146122</td>\n",
       "      <td>-0.299577</td>\n",
       "      <td>0.460191</td>\n",
       "      <td>-0.054314</td>\n",
       "      <td>1.392319</td>\n",
       "      <td>7.241636</td>\n",
       "      <td>5.201131</td>\n",
       "      <td>-0.680321</td>\n",
       "    </tr>\n",
       "  </tbody>\n",
       "</table>\n",
       "<p>5 rows × 125 columns</p>\n",
       "</div>"
      ],
      "text/plain": [
       "   SK_ID_CURR  NAME_CONTRACT_TYPE  CODE_GENDER  FLAG_OWN_CAR  FLAG_OWN_REALTY  \\\n",
       "0      100001                   0            1             0                0   \n",
       "1      100005                   0            0             0                0   \n",
       "2      100013                   0            0             1                0   \n",
       "3      100028                   0            1             0                0   \n",
       "4      100038                   0            0             1                1   \n",
       "\n",
       "   CNT_CHILDREN  AMT_INCOME_TOTAL  AMT_CREDIT  AMT_ANNUITY  AMT_GOODS_PRICE  \\\n",
       "0     -0.577538         -0.142533   -0.075097    -0.451795        -0.238617   \n",
       "1     -0.577538         -0.294354   -0.934825    -0.671927        -0.969511   \n",
       "2     -0.577538          0.142129    0.159601     2.943946         0.248645   \n",
       "3      2.192084          0.616567    2.424840     1.511693         2.806772   \n",
       "4      0.807273          0.047242    0.065776     0.342107         0.236464   \n",
       "\n",
       "   ...  AMT_REQ_CREDIT_BUREAU_HOUR  AMT_REQ_CREDIT_BUREAU_DAY  \\\n",
       "0  ...                   -0.082511                  -0.067550   \n",
       "1  ...                   -0.082511                  -0.067550   \n",
       "2  ...                   -0.082511                  -0.067550   \n",
       "3  ...                   -0.082511                  -0.067550   \n",
       "4  ...                   -0.022074                  -0.032718   \n",
       "\n",
       "   AMT_REQ_CREDIT_BUREAU_WEEK  AMT_REQ_CREDIT_BUREAU_MON  \\\n",
       "0                   -0.180649                  -0.310034   \n",
       "1                   -0.180649                  -0.310034   \n",
       "2                   -0.180649                  -0.310034   \n",
       "3                   -0.180649                  -0.310034   \n",
       "4                   -0.146122                  -0.299577   \n",
       "\n",
       "   AMT_REQ_CREDIT_BUREAU_QRT  AMT_REQ_CREDIT_BUREAU_YEAR  \\\n",
       "0                  -0.358577                   -1.086589   \n",
       "1                  -0.358577                    0.633186   \n",
       "2                   0.995174                    1.206445   \n",
       "3                  -0.358577                    0.633186   \n",
       "4                   0.460191                   -0.054314   \n",
       "\n",
       "   CREDIT_INCOME_PERCENT  ANNUITY_INCOME_PERCENT  CREDIT_TERM  \\\n",
       "0               0.526876                3.169750     6.016117   \n",
       "1               3.175860                2.282721     0.718773   \n",
       "2               1.122932               20.713163    18.445614   \n",
       "3               3.932808                2.451790     0.623420   \n",
       "4               1.392319                7.241636     5.201131   \n",
       "\n",
       "   DAYS_EMPLOYED_PERCENT  \n",
       "0               0.637696  \n",
       "1               1.040592  \n",
       "2               0.527104  \n",
       "3              -0.984417  \n",
       "4              -0.680321  \n",
       "\n",
       "[5 rows x 125 columns]"
      ]
     },
     "execution_count": 294,
     "metadata": {},
     "output_type": "execute_result"
    }
   ],
   "source": [
    "app_test_domain['CREDIT_INCOME_PERCENT'] = app_test_domain['AMT_CREDIT'] / app_test_domain['AMT_INCOME_TOTAL']\n",
    "app_test_domain['ANNUITY_INCOME_PERCENT'] = app_test_domain['AMT_ANNUITY'] / app_test_domain['AMT_INCOME_TOTAL']\n",
    "app_test_domain['CREDIT_TERM'] = app_test_domain['AMT_ANNUITY'] / app_test_domain['AMT_CREDIT']\n",
    "app_test_domain['DAYS_EMPLOYED_PERCENT'] = app_test_domain['DAYS_EMPLOYED'] / app_test_domain['DAYS_BIRTH']\n",
    "app_test_domain.head()"
   ]
  },
  {
   "cell_type": "markdown",
   "id": "e8f86948",
   "metadata": {},
   "source": [
    "### CREDIT_INCOME_PERCENT"
   ]
  },
  {
   "cell_type": "code",
   "execution_count": 295,
   "id": "cd62fccd",
   "metadata": {},
   "outputs": [
    {
     "data": {
      "text/plain": [
       "0"
      ]
     },
     "execution_count": 295,
     "metadata": {},
     "output_type": "execute_result"
    }
   ],
   "source": [
    "app_train_domain['CREDIT_INCOME_PERCENT'].isnull().sum()"
   ]
  },
  {
   "cell_type": "code",
   "execution_count": 297,
   "id": "1331c058",
   "metadata": {},
   "outputs": [
    {
     "data": {
      "text/html": [
       "<div>\n",
       "<style scoped>\n",
       "    .dataframe tbody tr th:only-of-type {\n",
       "        vertical-align: middle;\n",
       "    }\n",
       "\n",
       "    .dataframe tbody tr th {\n",
       "        vertical-align: top;\n",
       "    }\n",
       "\n",
       "    .dataframe thead th {\n",
       "        text-align: right;\n",
       "    }\n",
       "</style>\n",
       "<table border=\"1\" class=\"dataframe\">\n",
       "  <thead>\n",
       "    <tr style=\"text-align: right;\">\n",
       "      <th></th>\n",
       "      <th>TARGET</th>\n",
       "      <th>CREDIT_INCOME_PERCENT</th>\n",
       "    </tr>\n",
       "  </thead>\n",
       "  <tbody>\n",
       "    <tr>\n",
       "      <th>TARGET</th>\n",
       "      <td>1.000000</td>\n",
       "      <td>-0.002194</td>\n",
       "    </tr>\n",
       "    <tr>\n",
       "      <th>CREDIT_INCOME_PERCENT</th>\n",
       "      <td>-0.002194</td>\n",
       "      <td>1.000000</td>\n",
       "    </tr>\n",
       "  </tbody>\n",
       "</table>\n",
       "</div>"
      ],
      "text/plain": [
       "                         TARGET  CREDIT_INCOME_PERCENT\n",
       "TARGET                 1.000000              -0.002194\n",
       "CREDIT_INCOME_PERCENT -0.002194               1.000000"
      ]
     },
     "execution_count": 297,
     "metadata": {},
     "output_type": "execute_result"
    }
   ],
   "source": [
    "app_train_domain[['TARGET', 'CREDIT_INCOME_PERCENT']].corr()"
   ]
  },
  {
   "cell_type": "markdown",
   "id": "e8421c87",
   "metadata": {},
   "source": [
    "### ANNUITY_INCOME_PERCENT"
   ]
  },
  {
   "cell_type": "code",
   "execution_count": 298,
   "id": "82d37a71",
   "metadata": {},
   "outputs": [
    {
     "data": {
      "text/plain": [
       "0"
      ]
     },
     "execution_count": 298,
     "metadata": {},
     "output_type": "execute_result"
    }
   ],
   "source": [
    "app_train_domain['ANNUITY_INCOME_PERCENT'].isnull().sum()"
   ]
  },
  {
   "cell_type": "code",
   "execution_count": 299,
   "id": "a8e00046",
   "metadata": {},
   "outputs": [
    {
     "data": {
      "text/html": [
       "<div>\n",
       "<style scoped>\n",
       "    .dataframe tbody tr th:only-of-type {\n",
       "        vertical-align: middle;\n",
       "    }\n",
       "\n",
       "    .dataframe tbody tr th {\n",
       "        vertical-align: top;\n",
       "    }\n",
       "\n",
       "    .dataframe thead th {\n",
       "        text-align: right;\n",
       "    }\n",
       "</style>\n",
       "<table border=\"1\" class=\"dataframe\">\n",
       "  <thead>\n",
       "    <tr style=\"text-align: right;\">\n",
       "      <th></th>\n",
       "      <th>TARGET</th>\n",
       "      <th>ANNUITY_INCOME_PERCENT</th>\n",
       "    </tr>\n",
       "  </thead>\n",
       "  <tbody>\n",
       "    <tr>\n",
       "      <th>TARGET</th>\n",
       "      <td>1.000000</td>\n",
       "      <td>-0.000006</td>\n",
       "    </tr>\n",
       "    <tr>\n",
       "      <th>ANNUITY_INCOME_PERCENT</th>\n",
       "      <td>-0.000006</td>\n",
       "      <td>1.000000</td>\n",
       "    </tr>\n",
       "  </tbody>\n",
       "</table>\n",
       "</div>"
      ],
      "text/plain": [
       "                          TARGET  ANNUITY_INCOME_PERCENT\n",
       "TARGET                  1.000000               -0.000006\n",
       "ANNUITY_INCOME_PERCENT -0.000006                1.000000"
      ]
     },
     "execution_count": 299,
     "metadata": {},
     "output_type": "execute_result"
    }
   ],
   "source": [
    "app_train_domain[['TARGET', 'ANNUITY_INCOME_PERCENT']].corr()"
   ]
  },
  {
   "cell_type": "markdown",
   "id": "6fd31c31",
   "metadata": {},
   "source": [
    "### CREDIT_TERM"
   ]
  },
  {
   "cell_type": "code",
   "execution_count": 300,
   "id": "79015663",
   "metadata": {},
   "outputs": [
    {
     "data": {
      "text/plain": [
       "0"
      ]
     },
     "execution_count": 300,
     "metadata": {},
     "output_type": "execute_result"
    }
   ],
   "source": [
    "app_train_domain['CREDIT_TERM'].isnull().sum()"
   ]
  },
  {
   "cell_type": "code",
   "execution_count": 301,
   "id": "89735315",
   "metadata": {},
   "outputs": [
    {
     "data": {
      "text/html": [
       "<div>\n",
       "<style scoped>\n",
       "    .dataframe tbody tr th:only-of-type {\n",
       "        vertical-align: middle;\n",
       "    }\n",
       "\n",
       "    .dataframe tbody tr th {\n",
       "        vertical-align: top;\n",
       "    }\n",
       "\n",
       "    .dataframe thead th {\n",
       "        text-align: right;\n",
       "    }\n",
       "</style>\n",
       "<table border=\"1\" class=\"dataframe\">\n",
       "  <thead>\n",
       "    <tr style=\"text-align: right;\">\n",
       "      <th></th>\n",
       "      <th>TARGET</th>\n",
       "      <th>CREDIT_TERM</th>\n",
       "    </tr>\n",
       "  </thead>\n",
       "  <tbody>\n",
       "    <tr>\n",
       "      <th>TARGET</th>\n",
       "      <td>1.000000</td>\n",
       "      <td>-0.003646</td>\n",
       "    </tr>\n",
       "    <tr>\n",
       "      <th>CREDIT_TERM</th>\n",
       "      <td>-0.003646</td>\n",
       "      <td>1.000000</td>\n",
       "    </tr>\n",
       "  </tbody>\n",
       "</table>\n",
       "</div>"
      ],
      "text/plain": [
       "               TARGET  CREDIT_TERM\n",
       "TARGET       1.000000    -0.003646\n",
       "CREDIT_TERM -0.003646     1.000000"
      ]
     },
     "execution_count": 301,
     "metadata": {},
     "output_type": "execute_result"
    }
   ],
   "source": [
    "app_train_domain[['TARGET', 'CREDIT_TERM']].corr()"
   ]
  },
  {
   "cell_type": "markdown",
   "id": "e9d1204a",
   "metadata": {},
   "source": [
    "### DAYS_EMPLOYED_PERCENT"
   ]
  },
  {
   "cell_type": "code",
   "execution_count": 302,
   "id": "7b9c4833",
   "metadata": {},
   "outputs": [
    {
     "data": {
      "text/plain": [
       "0"
      ]
     },
     "execution_count": 302,
     "metadata": {},
     "output_type": "execute_result"
    }
   ],
   "source": [
    "app_train_domain['DAYS_EMPLOYED_PERCENT'].isnull().sum()"
   ]
  },
  {
   "cell_type": "code",
   "execution_count": 303,
   "id": "6e2ab61d",
   "metadata": {},
   "outputs": [
    {
     "data": {
      "text/html": [
       "<div>\n",
       "<style scoped>\n",
       "    .dataframe tbody tr th:only-of-type {\n",
       "        vertical-align: middle;\n",
       "    }\n",
       "\n",
       "    .dataframe tbody tr th {\n",
       "        vertical-align: top;\n",
       "    }\n",
       "\n",
       "    .dataframe thead th {\n",
       "        text-align: right;\n",
       "    }\n",
       "</style>\n",
       "<table border=\"1\" class=\"dataframe\">\n",
       "  <thead>\n",
       "    <tr style=\"text-align: right;\">\n",
       "      <th></th>\n",
       "      <th>TARGET</th>\n",
       "      <th>DAYS_EMPLOYED_PERCENT</th>\n",
       "    </tr>\n",
       "  </thead>\n",
       "  <tbody>\n",
       "    <tr>\n",
       "      <th>TARGET</th>\n",
       "      <td>1.000000</td>\n",
       "      <td>0.001044</td>\n",
       "    </tr>\n",
       "    <tr>\n",
       "      <th>DAYS_EMPLOYED_PERCENT</th>\n",
       "      <td>0.001044</td>\n",
       "      <td>1.000000</td>\n",
       "    </tr>\n",
       "  </tbody>\n",
       "</table>\n",
       "</div>"
      ],
      "text/plain": [
       "                         TARGET  DAYS_EMPLOYED_PERCENT\n",
       "TARGET                 1.000000               0.001044\n",
       "DAYS_EMPLOYED_PERCENT  0.001044               1.000000"
      ]
     },
     "execution_count": 303,
     "metadata": {},
     "output_type": "execute_result"
    }
   ],
   "source": [
    "app_train_domain[['TARGET', 'DAYS_EMPLOYED_PERCENT']].corr()"
   ]
  },
  {
   "cell_type": "markdown",
   "id": "142c6248",
   "metadata": {},
   "source": [
    "## 特徴量の選択"
   ]
  },
  {
   "cell_type": "code",
   "execution_count": 304,
   "id": "77cfc954",
   "metadata": {},
   "outputs": [],
   "source": [
    "category_columns = []"
   ]
  },
  {
   "cell_type": "markdown",
   "id": "b7ab5c81",
   "metadata": {},
   "source": [
    "### NAME_CONTRACT_TYPE"
   ]
  },
  {
   "cell_type": "code",
   "execution_count": 305,
   "id": "b10d058c",
   "metadata": {},
   "outputs": [
    {
     "data": {
      "text/plain": [
       "0    278232\n",
       "1     29279\n",
       "Name: NAME_CONTRACT_TYPE, dtype: int64"
      ]
     },
     "execution_count": 305,
     "metadata": {},
     "output_type": "execute_result"
    }
   ],
   "source": [
    "app_train['NAME_CONTRACT_TYPE'].value_counts()"
   ]
  },
  {
   "cell_type": "code",
   "execution_count": 306,
   "id": "b3c3cbee",
   "metadata": {},
   "outputs": [
    {
     "data": {
      "text/plain": [
       "0"
      ]
     },
     "execution_count": 306,
     "metadata": {},
     "output_type": "execute_result"
    }
   ],
   "source": [
    "app_train['NAME_CONTRACT_TYPE'].isnull().sum()"
   ]
  },
  {
   "cell_type": "markdown",
   "id": "67186c5e",
   "metadata": {},
   "source": [
    "### CODE_GENDER"
   ]
  },
  {
   "cell_type": "code",
   "execution_count": 20,
   "id": "632ebd5b",
   "metadata": {},
   "outputs": [
    {
     "data": {
      "text/plain": [
       "0"
      ]
     },
     "execution_count": 20,
     "metadata": {},
     "output_type": "execute_result"
    }
   ],
   "source": [
    "app_train['CODE_GENDER'].isnull().sum()"
   ]
  },
  {
   "cell_type": "code",
   "execution_count": 21,
   "id": "71ed38ba",
   "metadata": {},
   "outputs": [
    {
     "data": {
      "text/plain": [
       "1    202448\n",
       "0    105059\n",
       "2         4\n",
       "Name: CODE_GENDER, dtype: int64"
      ]
     },
     "execution_count": 21,
     "metadata": {},
     "output_type": "execute_result"
    }
   ],
   "source": [
    "app_train['CODE_GENDER'].value_counts()"
   ]
  },
  {
   "cell_type": "markdown",
   "id": "21295cf5",
   "metadata": {},
   "source": [
    "### FLAG_OWN_CAR"
   ]
  },
  {
   "cell_type": "code",
   "execution_count": 22,
   "id": "c8749ab9",
   "metadata": {},
   "outputs": [
    {
     "data": {
      "text/plain": [
       "0"
      ]
     },
     "execution_count": 22,
     "metadata": {},
     "output_type": "execute_result"
    }
   ],
   "source": [
    "app_train['FLAG_OWN_CAR'].isnull().sum()"
   ]
  },
  {
   "cell_type": "code",
   "execution_count": 23,
   "id": "04529fba",
   "metadata": {},
   "outputs": [
    {
     "data": {
      "text/plain": [
       "0    202924\n",
       "1    104587\n",
       "Name: FLAG_OWN_CAR, dtype: int64"
      ]
     },
     "execution_count": 23,
     "metadata": {},
     "output_type": "execute_result"
    }
   ],
   "source": [
    "app_train['FLAG_OWN_CAR'].value_counts()"
   ]
  },
  {
   "cell_type": "markdown",
   "id": "673bba8f",
   "metadata": {},
   "source": [
    "### FLAG_OWN_REALTY"
   ]
  },
  {
   "cell_type": "code",
   "execution_count": 24,
   "id": "70c92eea",
   "metadata": {},
   "outputs": [
    {
     "data": {
      "text/plain": [
       "0"
      ]
     },
     "execution_count": 24,
     "metadata": {},
     "output_type": "execute_result"
    }
   ],
   "source": [
    "app_train['FLAG_OWN_REALTY'].isnull().sum()"
   ]
  },
  {
   "cell_type": "code",
   "execution_count": 25,
   "id": "7441046a",
   "metadata": {},
   "outputs": [
    {
     "data": {
      "text/plain": [
       "0    213312\n",
       "1     94199\n",
       "Name: FLAG_OWN_REALTY, dtype: int64"
      ]
     },
     "execution_count": 25,
     "metadata": {},
     "output_type": "execute_result"
    }
   ],
   "source": [
    "app_train['FLAG_OWN_REALTY'].value_counts()"
   ]
  },
  {
   "cell_type": "markdown",
   "id": "c93f094f",
   "metadata": {},
   "source": [
    "### CNT_CHILDREN"
   ]
  },
  {
   "cell_type": "code",
   "execution_count": 26,
   "id": "50198b64",
   "metadata": {},
   "outputs": [
    {
     "data": {
      "text/plain": [
       "0"
      ]
     },
     "execution_count": 26,
     "metadata": {},
     "output_type": "execute_result"
    }
   ],
   "source": [
    "app_train['CNT_CHILDREN'].isnull().sum()"
   ]
  },
  {
   "cell_type": "code",
   "execution_count": 27,
   "id": "de62e5ef",
   "metadata": {},
   "outputs": [
    {
     "data": {
      "text/plain": [
       "-0.577538     215371\n",
       " 0.807273      61119\n",
       " 2.192084      26749\n",
       " 3.576895       3717\n",
       " 4.961706        429\n",
       " 6.346517         84\n",
       " 7.731328         21\n",
       " 9.116139          7\n",
       " 18.809816         3\n",
       " 10.500950         2\n",
       " 11.885761         2\n",
       " 16.040194         2\n",
       " 13.270572         2\n",
       " 25.733871         2\n",
       " 14.655383         1\n",
       "Name: CNT_CHILDREN, dtype: int64"
      ]
     },
     "execution_count": 27,
     "metadata": {},
     "output_type": "execute_result"
    }
   ],
   "source": [
    "app_train['CNT_CHILDREN'].value_counts()"
   ]
  },
  {
   "cell_type": "markdown",
   "id": "21c7134b",
   "metadata": {},
   "source": [
    "### AMT_INCOME_TOTAL"
   ]
  },
  {
   "cell_type": "code",
   "execution_count": 28,
   "id": "5b63af08",
   "metadata": {},
   "outputs": [
    {
     "data": {
      "text/plain": [
       "0"
      ]
     },
     "execution_count": 28,
     "metadata": {},
     "output_type": "execute_result"
    }
   ],
   "source": [
    "app_train['AMT_INCOME_TOTAL'].isnull().sum()"
   ]
  },
  {
   "cell_type": "markdown",
   "id": "9b3c86e4",
   "metadata": {},
   "source": [
    "### AMT_CREDIT"
   ]
  },
  {
   "cell_type": "code",
   "execution_count": 29,
   "id": "f533a347",
   "metadata": {},
   "outputs": [
    {
     "data": {
      "text/plain": [
       "0"
      ]
     },
     "execution_count": 29,
     "metadata": {},
     "output_type": "execute_result"
    }
   ],
   "source": [
    "app_train['AMT_CREDIT'].isnull().sum()"
   ]
  },
  {
   "cell_type": "markdown",
   "id": "7d4ad0ae",
   "metadata": {},
   "source": [
    "### AMT_ANNUITY"
   ]
  },
  {
   "cell_type": "code",
   "execution_count": 30,
   "id": "556ae2c6",
   "metadata": {},
   "outputs": [
    {
     "data": {
      "text/plain": [
       "0"
      ]
     },
     "execution_count": 30,
     "metadata": {},
     "output_type": "execute_result"
    }
   ],
   "source": [
    "app_train['AMT_ANNUITY'].isnull().sum()"
   ]
  },
  {
   "cell_type": "markdown",
   "id": "d9a3a845",
   "metadata": {},
   "source": [
    "### AMT_GOODS_PRICE"
   ]
  },
  {
   "cell_type": "code",
   "execution_count": 31,
   "id": "1156d41e",
   "metadata": {},
   "outputs": [
    {
     "data": {
      "text/plain": [
       "0"
      ]
     },
     "execution_count": 31,
     "metadata": {},
     "output_type": "execute_result"
    }
   ],
   "source": [
    "app_train['AMT_GOODS_PRICE'].isnull().sum()"
   ]
  },
  {
   "cell_type": "markdown",
   "id": "5051bfa0",
   "metadata": {},
   "source": [
    "### NAME_TYPE_SUITE"
   ]
  },
  {
   "cell_type": "code",
   "execution_count": 32,
   "id": "bdd0f5d3",
   "metadata": {},
   "outputs": [
    {
     "data": {
      "text/plain": [
       "0"
      ]
     },
     "execution_count": 32,
     "metadata": {},
     "output_type": "execute_result"
    }
   ],
   "source": [
    "app_train['NAME_TYPE_SUITE'].isnull().sum()"
   ]
  },
  {
   "cell_type": "code",
   "execution_count": 33,
   "id": "bc365a49",
   "metadata": {},
   "outputs": [
    {
     "data": {
      "text/plain": [
       "0    248526\n",
       "1     40149\n",
       "2     11370\n",
       "3      3267\n",
       "6      1770\n",
       "5      1292\n",
       "4       866\n",
       "7       271\n",
       "Name: NAME_TYPE_SUITE, dtype: int64"
      ]
     },
     "execution_count": 33,
     "metadata": {},
     "output_type": "execute_result"
    }
   ],
   "source": [
    "app_train['NAME_TYPE_SUITE'].value_counts()"
   ]
  },
  {
   "cell_type": "code",
   "execution_count": 34,
   "id": "16b1ed8a",
   "metadata": {},
   "outputs": [],
   "source": [
    "app_train['NAME_TYPE_SUITE'].fillna('BLANK', inplace=True)\n",
    "app_test['NAME_TYPE_SUITE'].fillna('BLANK', inplace=True)"
   ]
  },
  {
   "cell_type": "code",
   "execution_count": 35,
   "id": "bc552ce0",
   "metadata": {},
   "outputs": [
    {
     "data": {
      "text/plain": [
       "0"
      ]
     },
     "execution_count": 35,
     "metadata": {},
     "output_type": "execute_result"
    }
   ],
   "source": [
    "app_train['NAME_TYPE_SUITE'].isnull().sum()"
   ]
  },
  {
   "cell_type": "markdown",
   "id": "4b8913fa",
   "metadata": {},
   "source": [
    "### NAME_INCOME_TYPE"
   ]
  },
  {
   "cell_type": "code",
   "execution_count": 36,
   "id": "35483dda",
   "metadata": {},
   "outputs": [
    {
     "data": {
      "text/plain": [
       "0"
      ]
     },
     "execution_count": 36,
     "metadata": {},
     "output_type": "execute_result"
    }
   ],
   "source": [
    "app_train['NAME_INCOME_TYPE'].isnull().sum()"
   ]
  },
  {
   "cell_type": "code",
   "execution_count": 37,
   "id": "8862da78",
   "metadata": {},
   "outputs": [
    {
     "data": {
      "text/plain": [
       "0    158774\n",
       "2     71617\n",
       "3     55362\n",
       "1     21703\n",
       "4        22\n",
       "5        18\n",
       "6        10\n",
       "7         5\n",
       "Name: NAME_INCOME_TYPE, dtype: int64"
      ]
     },
     "execution_count": 37,
     "metadata": {},
     "output_type": "execute_result"
    }
   ],
   "source": [
    "app_train['NAME_INCOME_TYPE'].value_counts()"
   ]
  },
  {
   "cell_type": "markdown",
   "id": "ad1a8d5f",
   "metadata": {},
   "source": [
    "### NAME_EDUCATION_TYPE"
   ]
  },
  {
   "cell_type": "code",
   "execution_count": 38,
   "id": "5e5e5851",
   "metadata": {},
   "outputs": [
    {
     "data": {
      "text/plain": [
       "0"
      ]
     },
     "execution_count": 38,
     "metadata": {},
     "output_type": "execute_result"
    }
   ],
   "source": [
    "app_train['NAME_EDUCATION_TYPE'].isnull().sum()"
   ]
  },
  {
   "cell_type": "code",
   "execution_count": 39,
   "id": "cbc32887",
   "metadata": {},
   "outputs": [
    {
     "data": {
      "text/plain": [
       "0    218391\n",
       "1     74863\n",
       "2     10277\n",
       "3      3816\n",
       "4       164\n",
       "Name: NAME_EDUCATION_TYPE, dtype: int64"
      ]
     },
     "execution_count": 39,
     "metadata": {},
     "output_type": "execute_result"
    }
   ],
   "source": [
    "app_train['NAME_EDUCATION_TYPE'].value_counts()"
   ]
  },
  {
   "cell_type": "code",
   "execution_count": 40,
   "id": "a536ad9e",
   "metadata": {},
   "outputs": [],
   "source": [
    "### NAME_FAMILY_STATUS"
   ]
  },
  {
   "cell_type": "code",
   "execution_count": 41,
   "id": "342565b2",
   "metadata": {},
   "outputs": [
    {
     "data": {
      "text/plain": [
       "0"
      ]
     },
     "execution_count": 41,
     "metadata": {},
     "output_type": "execute_result"
    }
   ],
   "source": [
    "app_train['NAME_FAMILY_STATUS'].isnull().sum()"
   ]
  },
  {
   "cell_type": "code",
   "execution_count": 42,
   "id": "773aaa76",
   "metadata": {},
   "outputs": [
    {
     "data": {
      "text/plain": [
       "1    196432\n",
       "0     45444\n",
       "2     29775\n",
       "4     19770\n",
       "3     16088\n",
       "5         2\n",
       "Name: NAME_FAMILY_STATUS, dtype: int64"
      ]
     },
     "execution_count": 42,
     "metadata": {},
     "output_type": "execute_result"
    }
   ],
   "source": [
    "app_train['NAME_FAMILY_STATUS'].value_counts()"
   ]
  },
  {
   "cell_type": "code",
   "execution_count": 43,
   "id": "51c72c60",
   "metadata": {},
   "outputs": [],
   "source": [
    "### NAME_HOUSING_TYPE"
   ]
  },
  {
   "cell_type": "code",
   "execution_count": 44,
   "id": "e1dee406",
   "metadata": {},
   "outputs": [
    {
     "data": {
      "text/plain": [
       "0"
      ]
     },
     "execution_count": 44,
     "metadata": {},
     "output_type": "execute_result"
    }
   ],
   "source": [
    "app_train['NAME_HOUSING_TYPE'].isnull().sum()"
   ]
  },
  {
   "cell_type": "code",
   "execution_count": 45,
   "id": "b24a8ed5",
   "metadata": {},
   "outputs": [
    {
     "data": {
      "text/plain": [
       "0    272868\n",
       "2     14840\n",
       "3     11183\n",
       "1      4881\n",
       "4      2617\n",
       "5      1122\n",
       "Name: NAME_HOUSING_TYPE, dtype: int64"
      ]
     },
     "execution_count": 45,
     "metadata": {},
     "output_type": "execute_result"
    }
   ],
   "source": [
    "app_train['NAME_HOUSING_TYPE'].value_counts()"
   ]
  },
  {
   "cell_type": "code",
   "execution_count": 46,
   "id": "bfd71a0e",
   "metadata": {},
   "outputs": [],
   "source": [
    "### REGION_POPULATION_RELATIVE"
   ]
  },
  {
   "cell_type": "code",
   "execution_count": 47,
   "id": "fd037a10",
   "metadata": {},
   "outputs": [
    {
     "data": {
      "text/plain": [
       "0"
      ]
     },
     "execution_count": 47,
     "metadata": {},
     "output_type": "execute_result"
    }
   ],
   "source": [
    "app_train['REGION_POPULATION_RELATIVE'].isnull().sum()"
   ]
  },
  {
   "cell_type": "code",
   "execution_count": 48,
   "id": "7a8ba96b",
   "metadata": {},
   "outputs": [
    {
     "data": {
      "text/plain": [
       " 1.078997    16408\n",
       " 1.832942    13442\n",
       " 0.714822    12163\n",
       " 0.310593    11950\n",
       " 0.399377    11601\n",
       "             ...  \n",
       "-1.406316      467\n",
       "-1.412389      235\n",
       "-1.470229       39\n",
       "-1.440947       28\n",
       "-1.487798        2\n",
       "Name: REGION_POPULATION_RELATIVE, Length: 81, dtype: int64"
      ]
     },
     "execution_count": 48,
     "metadata": {},
     "output_type": "execute_result"
    }
   ],
   "source": [
    "app_train['REGION_POPULATION_RELATIVE'].value_counts()"
   ]
  },
  {
   "cell_type": "markdown",
   "id": "2f3235ff",
   "metadata": {},
   "source": [
    "### DAYS_BIRTH"
   ]
  },
  {
   "cell_type": "code",
   "execution_count": 49,
   "id": "a5cd05cb",
   "metadata": {},
   "outputs": [
    {
     "data": {
      "text/plain": [
       "0"
      ]
     },
     "execution_count": 49,
     "metadata": {},
     "output_type": "execute_result"
    }
   ],
   "source": [
    "app_train['DAYS_BIRTH'].isnull().sum()"
   ]
  },
  {
   "cell_type": "code",
   "execution_count": 50,
   "id": "9c4e7ab1",
   "metadata": {},
   "outputs": [
    {
     "data": {
      "text/plain": [
       " 0.524291    43\n",
       " 0.585703    42\n",
       "-0.506649    41\n",
       " 1.378786    41\n",
       " 0.060952    40\n",
       "             ..\n",
       "-2.030486     1\n",
       "-2.023612     1\n",
       " 1.837770     1\n",
       "-2.076316     1\n",
       "-2.067838     1\n",
       "Name: DAYS_BIRTH, Length: 17460, dtype: int64"
      ]
     },
     "execution_count": 50,
     "metadata": {},
     "output_type": "execute_result"
    }
   ],
   "source": [
    "app_train['DAYS_BIRTH'].value_counts()"
   ]
  },
  {
   "cell_type": "markdown",
   "id": "1bf7c9df",
   "metadata": {},
   "source": [
    "### DAYS_EMPLOYED"
   ]
  },
  {
   "cell_type": "code",
   "execution_count": 51,
   "id": "73dbea08",
   "metadata": {},
   "outputs": [
    {
     "data": {
      "text/plain": [
       "0"
      ]
     },
     "execution_count": 51,
     "metadata": {},
     "output_type": "execute_result"
    }
   ],
   "source": [
    "app_train['DAYS_EMPLOYED'].isnull().sum()"
   ]
  },
  {
   "cell_type": "code",
   "execution_count": 52,
   "id": "5a294466",
   "metadata": {},
   "outputs": [
    {
     "data": {
      "text/plain": [
       " 2.133617    55374\n",
       "-0.453122      156\n",
       "-0.453292      152\n",
       "-0.453334      151\n",
       "-0.453115      151\n",
       "             ...  \n",
       "-0.550527        1\n",
       "-0.535422        1\n",
       "-0.523736        1\n",
       "-0.518661        1\n",
       "-0.513246        1\n",
       "Name: DAYS_EMPLOYED, Length: 12574, dtype: int64"
      ]
     },
     "execution_count": 52,
     "metadata": {},
     "output_type": "execute_result"
    }
   ],
   "source": [
    "app_train['DAYS_EMPLOYED'].value_counts()"
   ]
  },
  {
   "cell_type": "markdown",
   "id": "d99afe3e",
   "metadata": {},
   "source": [
    "### DAYS_REGISTRATION"
   ]
  },
  {
   "cell_type": "code",
   "execution_count": 53,
   "id": "54c75e32",
   "metadata": {},
   "outputs": [
    {
     "data": {
      "text/plain": [
       "0"
      ]
     },
     "execution_count": 53,
     "metadata": {},
     "output_type": "execute_result"
    }
   ],
   "source": [
    "app_train['DAYS_REGISTRATION'].isnull().sum()"
   ]
  },
  {
   "cell_type": "code",
   "execution_count": 54,
   "id": "f43b0679",
   "metadata": {},
   "outputs": [
    {
     "data": {
      "text/plain": [
       " 1.415069    113\n",
       " 1.413366     98\n",
       " 1.413650     96\n",
       " 1.414218     92\n",
       " 1.414785     92\n",
       "            ... \n",
       "-3.007448      1\n",
       "-2.851326      1\n",
       "-2.786890      1\n",
       "-2.844797      1\n",
       "-2.785187      1\n",
       "Name: DAYS_REGISTRATION, Length: 15688, dtype: int64"
      ]
     },
     "execution_count": 54,
     "metadata": {},
     "output_type": "execute_result"
    }
   ],
   "source": [
    "app_train['DAYS_REGISTRATION'].value_counts()"
   ]
  },
  {
   "cell_type": "markdown",
   "id": "9573acf3",
   "metadata": {},
   "source": [
    "### DAYS_ID_PUBLISH"
   ]
  },
  {
   "cell_type": "code",
   "execution_count": 55,
   "id": "fe5f6967",
   "metadata": {},
   "outputs": [
    {
     "data": {
      "text/plain": [
       "0"
      ]
     },
     "execution_count": 55,
     "metadata": {},
     "output_type": "execute_result"
    }
   ],
   "source": [
    "app_train['DAYS_ID_PUBLISH'].isnull().sum()"
   ]
  },
  {
   "cell_type": "code",
   "execution_count": 56,
   "id": "365629df",
   "metadata": {},
   "outputs": [
    {
     "data": {
      "text/plain": [
       "-0.701447    169\n",
       "-0.729272    162\n",
       "-0.696809    161\n",
       "-0.942595    159\n",
       "-0.835933    158\n",
       "            ... \n",
       "-1.922423      1\n",
       "-1.938985      1\n",
       "-1.827686      1\n",
       "-1.964823      1\n",
       "-2.131109      1\n",
       "Name: DAYS_ID_PUBLISH, Length: 6168, dtype: int64"
      ]
     },
     "execution_count": 56,
     "metadata": {},
     "output_type": "execute_result"
    }
   ],
   "source": [
    "app_train['DAYS_ID_PUBLISH'].value_counts()"
   ]
  },
  {
   "cell_type": "code",
   "execution_count": 57,
   "id": "4aa29876",
   "metadata": {},
   "outputs": [],
   "source": [
    "### OWN_CAR_AGE"
   ]
  },
  {
   "cell_type": "code",
   "execution_count": 58,
   "id": "6226e5b6",
   "metadata": {},
   "outputs": [
    {
     "data": {
      "text/plain": [
       "0"
      ]
     },
     "execution_count": 58,
     "metadata": {},
     "output_type": "execute_result"
    }
   ],
   "source": [
    "app_train['OWN_CAR_AGE'].isnull().sum()"
   ]
  },
  {
   "cell_type": "code",
   "execution_count": 59,
   "id": "7f8816ae",
   "metadata": {},
   "outputs": [
    {
     "data": {
      "text/plain": [
       "-0.754782    7424\n",
       "-0.888522    6382\n",
       "-1.289742    6370\n",
       "-0.621042    5887\n",
       "-1.423482    5852\n",
       "             ... \n",
       " 0.030064       1\n",
       " 0.684113       1\n",
       " 0.876012       1\n",
       " 0.343969       1\n",
       "-0.947796       1\n",
       "Name: OWN_CAR_AGE, Length: 202991, dtype: int64"
      ]
     },
     "execution_count": 59,
     "metadata": {},
     "output_type": "execute_result"
    }
   ],
   "source": [
    "app_train['OWN_CAR_AGE'].value_counts()"
   ]
  },
  {
   "cell_type": "markdown",
   "id": "24e24f38",
   "metadata": {},
   "source": [
    "### FLAG_MOBIL"
   ]
  },
  {
   "cell_type": "code",
   "execution_count": 60,
   "id": "3e61602e",
   "metadata": {},
   "outputs": [
    {
     "data": {
      "text/plain": [
       "0"
      ]
     },
     "execution_count": 60,
     "metadata": {},
     "output_type": "execute_result"
    }
   ],
   "source": [
    "app_train['FLAG_MOBIL'].isnull().sum()"
   ]
  },
  {
   "cell_type": "code",
   "execution_count": 61,
   "id": "88969e01",
   "metadata": {},
   "outputs": [
    {
     "data": {
      "text/plain": [
       " 0.001803      307510\n",
       "-554.535842         1\n",
       "Name: FLAG_MOBIL, dtype: int64"
      ]
     },
     "execution_count": 61,
     "metadata": {},
     "output_type": "execute_result"
    }
   ],
   "source": [
    "app_train['FLAG_MOBIL'].value_counts()"
   ]
  },
  {
   "cell_type": "markdown",
   "id": "08ce1282",
   "metadata": {},
   "source": [
    "### FLAG_EMP_PHONE"
   ]
  },
  {
   "cell_type": "code",
   "execution_count": 62,
   "id": "0828fa91",
   "metadata": {},
   "outputs": [
    {
     "data": {
      "text/plain": [
       "0"
      ]
     },
     "execution_count": 62,
     "metadata": {},
     "output_type": "execute_result"
    }
   ],
   "source": [
    "app_train['FLAG_EMP_PHONE'].isnull().sum()"
   ]
  },
  {
   "cell_type": "code",
   "execution_count": 63,
   "id": "06b252d2",
   "metadata": {},
   "outputs": [
    {
     "data": {
      "text/plain": [
       " 0.468697    252125\n",
       "-2.133575     55386\n",
       "Name: FLAG_EMP_PHONE, dtype: int64"
      ]
     },
     "execution_count": 63,
     "metadata": {},
     "output_type": "execute_result"
    }
   ],
   "source": [
    "app_train['FLAG_EMP_PHONE'].value_counts()"
   ]
  },
  {
   "cell_type": "markdown",
   "id": "6838718b",
   "metadata": {},
   "source": [
    "### FLAG_WORK_PHONE"
   ]
  },
  {
   "cell_type": "code",
   "execution_count": 64,
   "id": "f8702d6e",
   "metadata": {},
   "outputs": [
    {
     "data": {
      "text/plain": [
       "0"
      ]
     },
     "execution_count": 64,
     "metadata": {},
     "output_type": "execute_result"
    }
   ],
   "source": [
    "app_train['FLAG_WORK_PHONE'].isnull().sum()"
   ]
  },
  {
   "cell_type": "code",
   "execution_count": 65,
   "id": "782964fc",
   "metadata": {},
   "outputs": [
    {
     "data": {
      "text/plain": [
       "-0.499013    246203\n",
       " 2.003956     61308\n",
       "Name: FLAG_WORK_PHONE, dtype: int64"
      ]
     },
     "execution_count": 65,
     "metadata": {},
     "output_type": "execute_result"
    }
   ],
   "source": [
    "app_train['FLAG_WORK_PHONE'].value_counts()"
   ]
  },
  {
   "cell_type": "markdown",
   "id": "8bebd131",
   "metadata": {},
   "source": [
    "### FLAG_CONT_MOBILE"
   ]
  },
  {
   "cell_type": "code",
   "execution_count": 66,
   "id": "8450cbb1",
   "metadata": {},
   "outputs": [
    {
     "data": {
      "text/plain": [
       "0"
      ]
     },
     "execution_count": 66,
     "metadata": {},
     "output_type": "execute_result"
    }
   ],
   "source": [
    "app_train['FLAG_CONT_MOBILE'].isnull().sum()"
   ]
  },
  {
   "cell_type": "code",
   "execution_count": 67,
   "id": "2621624d",
   "metadata": {},
   "outputs": [
    {
     "data": {
      "text/plain": [
       " 0.043245     306937\n",
       "-23.124304       574\n",
       "Name: FLAG_CONT_MOBILE, dtype: int64"
      ]
     },
     "execution_count": 67,
     "metadata": {},
     "output_type": "execute_result"
    }
   ],
   "source": [
    "app_train['FLAG_CONT_MOBILE'].value_counts()"
   ]
  },
  {
   "cell_type": "markdown",
   "id": "952df551",
   "metadata": {},
   "source": [
    "### FLAG_PHONE"
   ]
  },
  {
   "cell_type": "code",
   "execution_count": 68,
   "id": "3f1190b6",
   "metadata": {},
   "outputs": [
    {
     "data": {
      "text/plain": [
       "0"
      ]
     },
     "execution_count": 68,
     "metadata": {},
     "output_type": "execute_result"
    }
   ],
   "source": [
    "app_train['FLAG_PHONE'].isnull().sum()"
   ]
  },
  {
   "cell_type": "code",
   "execution_count": 69,
   "id": "a652d5cd",
   "metadata": {},
   "outputs": [
    {
     "data": {
      "text/plain": [
       "-0.625259    221080\n",
       " 1.599337     86431\n",
       "Name: FLAG_PHONE, dtype: int64"
      ]
     },
     "execution_count": 69,
     "metadata": {},
     "output_type": "execute_result"
    }
   ],
   "source": [
    "app_train['FLAG_PHONE'].value_counts()"
   ]
  },
  {
   "cell_type": "markdown",
   "id": "1f57f24b",
   "metadata": {},
   "source": [
    "### FLAG_EMAIL"
   ]
  },
  {
   "cell_type": "code",
   "execution_count": 70,
   "id": "ac513b74",
   "metadata": {},
   "outputs": [
    {
     "data": {
      "text/plain": [
       "0"
      ]
     },
     "execution_count": 70,
     "metadata": {},
     "output_type": "execute_result"
    }
   ],
   "source": [
    "app_train['FLAG_EMAIL'].isnull().sum()"
   ]
  },
  {
   "cell_type": "code",
   "execution_count": 71,
   "id": "5ce06e66",
   "metadata": {},
   "outputs": [
    {
     "data": {
      "text/plain": [
       "-0.245215    290069\n",
       " 4.078050     17442\n",
       "Name: FLAG_EMAIL, dtype: int64"
      ]
     },
     "execution_count": 71,
     "metadata": {},
     "output_type": "execute_result"
    }
   ],
   "source": [
    "app_train['FLAG_EMAIL'].value_counts()"
   ]
  },
  {
   "cell_type": "code",
   "execution_count": 72,
   "id": "5c0ab819",
   "metadata": {},
   "outputs": [],
   "source": [
    "### OCCUPATION_TYPE"
   ]
  },
  {
   "cell_type": "code",
   "execution_count": 73,
   "id": "0207d228",
   "metadata": {},
   "outputs": [
    {
     "data": {
      "text/plain": [
       "0"
      ]
     },
     "execution_count": 73,
     "metadata": {},
     "output_type": "execute_result"
    }
   ],
   "source": [
    "app_train['OCCUPATION_TYPE'].isnull().sum()"
   ]
  },
  {
   "cell_type": "code",
   "execution_count": 74,
   "id": "7da3d601",
   "metadata": {},
   "outputs": [
    {
     "data": {
      "text/plain": [
       "4     96391\n",
       "0     55186\n",
       "6     32102\n",
       "1     27570\n",
       "3     21371\n",
       "5     18603\n",
       "12    11380\n",
       "2      9813\n",
       "10     8537\n",
       "11     6721\n",
       "8      5946\n",
       "7      4653\n",
       "9      2652\n",
       "14     2093\n",
       "13     1348\n",
       "16     1305\n",
       "15      751\n",
       "18      563\n",
       "17      526\n",
       "Name: OCCUPATION_TYPE, dtype: int64"
      ]
     },
     "execution_count": 74,
     "metadata": {},
     "output_type": "execute_result"
    }
   ],
   "source": [
    "app_train['OCCUPATION_TYPE'].value_counts()"
   ]
  },
  {
   "cell_type": "markdown",
   "id": "3946ee07",
   "metadata": {},
   "source": [
    "### CNT_FAM_MEMBERS"
   ]
  },
  {
   "cell_type": "code",
   "execution_count": 75,
   "id": "03214033",
   "metadata": {},
   "outputs": [
    {
     "data": {
      "text/plain": [
       "0"
      ]
     },
     "execution_count": 75,
     "metadata": {},
     "output_type": "execute_result"
    }
   ],
   "source": [
    "app_train['CNT_FAM_MEMBERS'].isnull().sum()"
   ]
  },
  {
   "cell_type": "code",
   "execution_count": 76,
   "id": "0d8450f3",
   "metadata": {},
   "outputs": [
    {
     "data": {
      "text/plain": [
       "-0.167636     158357\n",
       "-1.265719      67847\n",
       " 0.930447      52601\n",
       " 2.028530      24697\n",
       " 3.126613       3478\n",
       " 4.224696        408\n",
       " 5.322779         81\n",
       " 6.420863         20\n",
       " 7.518946          6\n",
       " 8.617029          3\n",
       " 13.009361         2\n",
       " 10.813195         2\n",
       " 19.597860         2\n",
       " 15.205527         2\n",
       " 11.911278         1\n",
       "-0.439899          1\n",
       " 14.107444         1\n",
       "-0.569541          1\n",
       " 9.715112          1\n",
       "Name: CNT_FAM_MEMBERS, dtype: int64"
      ]
     },
     "execution_count": 76,
     "metadata": {},
     "output_type": "execute_result"
    }
   ],
   "source": [
    "app_train['CNT_FAM_MEMBERS'].value_counts()"
   ]
  },
  {
   "cell_type": "markdown",
   "id": "18e3e6d8",
   "metadata": {},
   "source": [
    "### REGION_RATING_CLIENT"
   ]
  },
  {
   "cell_type": "code",
   "execution_count": 77,
   "id": "2d3fe4c3",
   "metadata": {},
   "outputs": [
    {
     "data": {
      "text/plain": [
       "0"
      ]
     },
     "execution_count": 77,
     "metadata": {},
     "output_type": "execute_result"
    }
   ],
   "source": [
    "app_train['REGION_RATING_CLIENT'].isnull().sum()"
   ]
  },
  {
   "cell_type": "code",
   "execution_count": 78,
   "id": "8607a83e",
   "metadata": {},
   "outputs": [
    {
     "data": {
      "text/plain": [
       "-0.103064    226984\n",
       " 1.861445     48330\n",
       "-2.067573     32197\n",
       "Name: REGION_RATING_CLIENT, dtype: int64"
      ]
     },
     "execution_count": 78,
     "metadata": {},
     "output_type": "execute_result"
    }
   ],
   "source": [
    "app_train['REGION_RATING_CLIENT'].value_counts()"
   ]
  },
  {
   "cell_type": "markdown",
   "id": "efb33ca0",
   "metadata": {},
   "source": [
    "### REGION_RATING_CLIENT_W_CITY"
   ]
  },
  {
   "cell_type": "code",
   "execution_count": 79,
   "id": "1e4fcffb",
   "metadata": {},
   "outputs": [
    {
     "data": {
      "text/plain": [
       "0"
      ]
     },
     "execution_count": 79,
     "metadata": {},
     "output_type": "execute_result"
    }
   ],
   "source": [
    "app_train['REGION_RATING_CLIENT_W_CITY'].isnull().sum()"
   ]
  },
  {
   "cell_type": "code",
   "execution_count": 80,
   "id": "350f44e3",
   "metadata": {},
   "outputs": [
    {
     "data": {
      "text/plain": [
       "-0.062699    229484\n",
       " 1.926416     43860\n",
       "-2.051813     34167\n",
       "Name: REGION_RATING_CLIENT_W_CITY, dtype: int64"
      ]
     },
     "execution_count": 80,
     "metadata": {},
     "output_type": "execute_result"
    }
   ],
   "source": [
    "app_train['REGION_RATING_CLIENT_W_CITY'].value_counts()"
   ]
  },
  {
   "cell_type": "markdown",
   "id": "e815710a",
   "metadata": {},
   "source": [
    "### WEEKDAY_APPR_PROCESS_START"
   ]
  },
  {
   "cell_type": "code",
   "execution_count": 81,
   "id": "f4acca47",
   "metadata": {},
   "outputs": [
    {
     "data": {
      "text/plain": [
       "0"
      ]
     },
     "execution_count": 81,
     "metadata": {},
     "output_type": "execute_result"
    }
   ],
   "source": [
    "app_train['WEEKDAY_APPR_PROCESS_START'].isnull().sum()"
   ]
  },
  {
   "cell_type": "code",
   "execution_count": 82,
   "id": "cfeb2e4b",
   "metadata": {},
   "outputs": [
    {
     "data": {
      "text/plain": [
       "6    53901\n",
       "0    51934\n",
       "1    50714\n",
       "2    50591\n",
       "5    50338\n",
       "4    33852\n",
       "3    16181\n",
       "Name: WEEKDAY_APPR_PROCESS_START, dtype: int64"
      ]
     },
     "execution_count": 82,
     "metadata": {},
     "output_type": "execute_result"
    }
   ],
   "source": [
    "app_train['WEEKDAY_APPR_PROCESS_START'].value_counts()"
   ]
  },
  {
   "cell_type": "markdown",
   "id": "e0534374",
   "metadata": {},
   "source": [
    "### HOUR_APPR_PROCESS_START"
   ]
  },
  {
   "cell_type": "code",
   "execution_count": 83,
   "id": "ed8d223d",
   "metadata": {},
   "outputs": [
    {
     "data": {
      "text/plain": [
       "0"
      ]
     },
     "execution_count": 83,
     "metadata": {},
     "output_type": "execute_result"
    }
   ],
   "source": [
    "app_train['HOUR_APPR_PROCESS_START'].isnull().sum()"
   ]
  },
  {
   "cell_type": "code",
   "execution_count": 84,
   "id": "7ca3f3f7",
   "metadata": {},
   "outputs": [
    {
     "data": {
      "text/plain": [
       "-0.631821    37722\n",
       "-0.325620    37229\n",
       "-0.019419    34233\n",
       " 0.286782    30959\n",
       " 0.592983    27682\n",
       "-0.938022    27384\n",
       " 0.899185    24839\n",
       " 1.205386    20385\n",
       "-1.244224    15127\n",
       " 1.511587    14900\n",
       "-1.550425     9131\n",
       " 1.817788     9049\n",
       "-1.856626     5842\n",
       " 2.123989     3848\n",
       "-2.162827     3638\n",
       "-2.469028     2090\n",
       "-2.775229     1230\n",
       " 2.430190     1196\n",
       " 2.736392      405\n",
       "-3.081431      305\n",
       " 3.042593      150\n",
       "-3.387632       86\n",
       " 3.348794       41\n",
       "-3.693833       40\n",
       "Name: HOUR_APPR_PROCESS_START, dtype: int64"
      ]
     },
     "execution_count": 84,
     "metadata": {},
     "output_type": "execute_result"
    }
   ],
   "source": [
    "app_train['HOUR_APPR_PROCESS_START'].value_counts()"
   ]
  },
  {
   "cell_type": "markdown",
   "id": "97fb00e6",
   "metadata": {},
   "source": [
    "### REG_REGION_NOT_LIVE_REGION"
   ]
  },
  {
   "cell_type": "code",
   "execution_count": 85,
   "id": "64856c15",
   "metadata": {},
   "outputs": [
    {
     "data": {
      "text/plain": [
       "0"
      ]
     },
     "execution_count": 85,
     "metadata": {},
     "output_type": "execute_result"
    }
   ],
   "source": [
    "app_train['REG_REGION_NOT_LIVE_REGION'].isnull().sum()"
   ]
  },
  {
   "cell_type": "code",
   "execution_count": 86,
   "id": "8515f1d4",
   "metadata": {},
   "outputs": [
    {
     "data": {
      "text/plain": [
       "-0.124004    302854\n",
       " 8.064242      4657\n",
       "Name: REG_REGION_NOT_LIVE_REGION, dtype: int64"
      ]
     },
     "execution_count": 86,
     "metadata": {},
     "output_type": "execute_result"
    }
   ],
   "source": [
    "app_train['REG_REGION_NOT_LIVE_REGION'].value_counts()"
   ]
  },
  {
   "cell_type": "markdown",
   "id": "98f331a2",
   "metadata": {},
   "source": [
    "### REG_REGION_NOT_WORK_REGION"
   ]
  },
  {
   "cell_type": "code",
   "execution_count": 87,
   "id": "cbdb266c",
   "metadata": {},
   "outputs": [
    {
     "data": {
      "text/plain": [
       "0"
      ]
     },
     "execution_count": 87,
     "metadata": {},
     "output_type": "execute_result"
    }
   ],
   "source": [
    "app_train['REG_REGION_NOT_WORK_REGION'].isnull().sum()"
   ]
  },
  {
   "cell_type": "code",
   "execution_count": 88,
   "id": "6f462009",
   "metadata": {},
   "outputs": [
    {
     "data": {
      "text/plain": [
       "-0.231267    291899\n",
       " 4.324013     15612\n",
       "Name: REG_REGION_NOT_WORK_REGION, dtype: int64"
      ]
     },
     "execution_count": 88,
     "metadata": {},
     "output_type": "execute_result"
    }
   ],
   "source": [
    "app_train['REG_REGION_NOT_WORK_REGION'].value_counts()"
   ]
  },
  {
   "cell_type": "markdown",
   "id": "b5289f03",
   "metadata": {},
   "source": [
    "### LIVE_REGION_NOT_WORK_REGION"
   ]
  },
  {
   "cell_type": "code",
   "execution_count": 89,
   "id": "7ac3c4ab",
   "metadata": {},
   "outputs": [
    {
     "data": {
      "text/plain": [
       "0"
      ]
     },
     "execution_count": 89,
     "metadata": {},
     "output_type": "execute_result"
    }
   ],
   "source": [
    "app_train['LIVE_REGION_NOT_WORK_REGION'].isnull().sum()"
   ]
  },
  {
   "cell_type": "code",
   "execution_count": 90,
   "id": "a2d17030",
   "metadata": {},
   "outputs": [
    {
     "data": {
      "text/plain": [
       "-0.205869    295008\n",
       " 4.857466     12503\n",
       "Name: LIVE_REGION_NOT_WORK_REGION, dtype: int64"
      ]
     },
     "execution_count": 90,
     "metadata": {},
     "output_type": "execute_result"
    }
   ],
   "source": [
    "app_train['LIVE_REGION_NOT_WORK_REGION'].value_counts()"
   ]
  },
  {
   "cell_type": "markdown",
   "id": "4cb80e50",
   "metadata": {},
   "source": [
    "### REG_CITY_NOT_LIVE_CITY"
   ]
  },
  {
   "cell_type": "code",
   "execution_count": 91,
   "id": "451f0d49",
   "metadata": {},
   "outputs": [
    {
     "data": {
      "text/plain": [
       "0"
      ]
     },
     "execution_count": 91,
     "metadata": {},
     "output_type": "execute_result"
    }
   ],
   "source": [
    "app_train['REG_CITY_NOT_LIVE_CITY'].isnull().sum()"
   ]
  },
  {
   "cell_type": "code",
   "execution_count": 92,
   "id": "074dc9e9",
   "metadata": {},
   "outputs": [
    {
     "data": {
      "text/plain": [
       "-0.291208    283472\n",
       " 3.433973     24039\n",
       "Name: REG_CITY_NOT_LIVE_CITY, dtype: int64"
      ]
     },
     "execution_count": 92,
     "metadata": {},
     "output_type": "execute_result"
    }
   ],
   "source": [
    "app_train['REG_CITY_NOT_LIVE_CITY'].value_counts()"
   ]
  },
  {
   "cell_type": "markdown",
   "id": "a101577e",
   "metadata": {},
   "source": [
    "### REG_CITY_NOT_WORK_CITY"
   ]
  },
  {
   "cell_type": "code",
   "execution_count": 93,
   "id": "e4f3ec0a",
   "metadata": {},
   "outputs": [
    {
     "data": {
      "text/plain": [
       "0"
      ]
     },
     "execution_count": 93,
     "metadata": {},
     "output_type": "execute_result"
    }
   ],
   "source": [
    "app_train['REG_CITY_NOT_WORK_CITY'].isnull().sum()"
   ]
  },
  {
   "cell_type": "code",
   "execution_count": 94,
   "id": "074b4022",
   "metadata": {},
   "outputs": [
    {
     "data": {
      "text/plain": [
       "-0.547236    236644\n",
       " 1.827367     70867\n",
       "Name: REG_CITY_NOT_WORK_CITY, dtype: int64"
      ]
     },
     "execution_count": 94,
     "metadata": {},
     "output_type": "execute_result"
    }
   ],
   "source": [
    "app_train['REG_CITY_NOT_WORK_CITY'].value_counts()"
   ]
  },
  {
   "cell_type": "markdown",
   "id": "2bde7007",
   "metadata": {},
   "source": [
    "### LIVE_CITY_NOT_WORK_CITY"
   ]
  },
  {
   "cell_type": "code",
   "execution_count": 95,
   "id": "6f695be1",
   "metadata": {},
   "outputs": [
    {
     "data": {
      "text/plain": [
       "0"
      ]
     },
     "execution_count": 95,
     "metadata": {},
     "output_type": "execute_result"
    }
   ],
   "source": [
    "app_train['LIVE_CITY_NOT_WORK_CITY'].isnull().sum()"
   ]
  },
  {
   "cell_type": "code",
   "execution_count": 96,
   "id": "81ad5cd1",
   "metadata": {},
   "outputs": [
    {
     "data": {
      "text/plain": [
       "-0.467814    252296\n",
       " 2.137601     55215\n",
       "Name: LIVE_CITY_NOT_WORK_CITY, dtype: int64"
      ]
     },
     "execution_count": 96,
     "metadata": {},
     "output_type": "execute_result"
    }
   ],
   "source": [
    "app_train['LIVE_CITY_NOT_WORK_CITY'].value_counts()"
   ]
  },
  {
   "cell_type": "markdown",
   "id": "31ff2fd0",
   "metadata": {},
   "source": [
    "### ORGANIZATION_TYPE"
   ]
  },
  {
   "cell_type": "code",
   "execution_count": 97,
   "id": "fe2d73a1",
   "metadata": {},
   "outputs": [
    {
     "data": {
      "text/plain": [
       "0"
      ]
     },
     "execution_count": 97,
     "metadata": {},
     "output_type": "execute_result"
    }
   ],
   "source": [
    "app_train['ORGANIZATION_TYPE'].isnull().sum()"
   ]
  },
  {
   "cell_type": "code",
   "execution_count": 98,
   "id": "e407fa60",
   "metadata": {},
   "outputs": [
    {
     "data": {
      "text/plain": [
       "0     67992\n",
       "5     55374\n",
       "9     38412\n",
       "4     16683\n",
       "7     11193\n",
       "8     10553\n",
       "2     10404\n",
       "1      8893\n",
       "14     7831\n",
       "13     6880\n",
       "11     6721\n",
       "27     5984\n",
       "19     5398\n",
       "35     3492\n",
       "38     3368\n",
       "36     3278\n",
       "22     3247\n",
       "12     2958\n",
       "15     2704\n",
       "16     2634\n",
       "37     2507\n",
       "30     2454\n",
       "26     2341\n",
       "10     2204\n",
       "28     2157\n",
       "18     1974\n",
       "23     1900\n",
       "31     1811\n",
       "17     1575\n",
       "24     1327\n",
       "34     1307\n",
       "25     1187\n",
       "20     1039\n",
       "33      966\n",
       "6       950\n",
       "29      877\n",
       "40      631\n",
       "46      599\n",
       "39      597\n",
       "54      577\n",
       "21      560\n",
       "41      458\n",
       "49      429\n",
       "56      396\n",
       "32      379\n",
       "43      369\n",
       "45      348\n",
       "44      317\n",
       "48      305\n",
       "51      260\n",
       "42      201\n",
       "57      112\n",
       "47      109\n",
       "3        85\n",
       "52       67\n",
       "53       64\n",
       "50       49\n",
       "55       24\n",
       "Name: ORGANIZATION_TYPE, dtype: int64"
      ]
     },
     "execution_count": 98,
     "metadata": {},
     "output_type": "execute_result"
    }
   ],
   "source": [
    "app_train['ORGANIZATION_TYPE'].value_counts()"
   ]
  },
  {
   "cell_type": "markdown",
   "id": "a0353a92",
   "metadata": {},
   "source": [
    "### EXT_SOURCE_1"
   ]
  },
  {
   "cell_type": "code",
   "execution_count": 99,
   "id": "77aa98af",
   "metadata": {},
   "outputs": [
    {
     "data": {
      "text/plain": [
       "0"
      ]
     },
     "execution_count": 99,
     "metadata": {},
     "output_type": "execute_result"
    }
   ],
   "source": [
    "app_train['EXT_SOURCE_1'].isnull().sum()"
   ]
  },
  {
   "cell_type": "code",
   "execution_count": 100,
   "id": "a54421d9",
   "metadata": {},
   "outputs": [
    {
     "data": {
      "text/plain": [
       " 0.045031    5\n",
       " 0.334226    5\n",
       " 0.719158    5\n",
       " 0.237236    5\n",
       "-1.011360    5\n",
       "            ..\n",
       "-0.313321    1\n",
       " 2.077099    1\n",
       " 0.902339    1\n",
       " 0.448383    1\n",
       " 1.089916    1\n",
       "Name: EXT_SOURCE_1, Length: 287962, dtype: int64"
      ]
     },
     "execution_count": 100,
     "metadata": {},
     "output_type": "execute_result"
    }
   ],
   "source": [
    "app_train['EXT_SOURCE_1'].value_counts()"
   ]
  },
  {
   "cell_type": "markdown",
   "id": "88ce1327",
   "metadata": {},
   "source": [
    "### EXT_SOURCE_2"
   ]
  },
  {
   "cell_type": "code",
   "execution_count": 101,
   "id": "a5e2fa46",
   "metadata": {},
   "outputs": [
    {
     "data": {
      "text/plain": [
       "0"
      ]
     },
     "execution_count": 101,
     "metadata": {},
     "output_type": "execute_result"
    }
   ],
   "source": [
    "app_train['EXT_SOURCE_2'].isnull().sum()"
   ]
  },
  {
   "cell_type": "markdown",
   "id": "835d75d8",
   "metadata": {},
   "source": [
    "### EXT_SOURCE_3"
   ]
  },
  {
   "cell_type": "code",
   "execution_count": 102,
   "id": "308bef47",
   "metadata": {},
   "outputs": [
    {
     "data": {
      "text/plain": [
       "0"
      ]
     },
     "execution_count": 102,
     "metadata": {},
     "output_type": "execute_result"
    }
   ],
   "source": [
    "app_train['EXT_SOURCE_3'].isnull().sum()"
   ]
  },
  {
   "cell_type": "markdown",
   "id": "abd6edd5",
   "metadata": {},
   "source": [
    "### APARTMENTS_AVG"
   ]
  },
  {
   "cell_type": "code",
   "execution_count": 103,
   "id": "d4562cae",
   "metadata": {},
   "outputs": [
    {
     "data": {
      "text/plain": [
       "0"
      ]
     },
     "execution_count": 103,
     "metadata": {},
     "output_type": "execute_result"
    }
   ],
   "source": [
    "app_train['APARTMENTS_AVG'].isnull().sum()"
   ]
  },
  {
   "cell_type": "code",
   "execution_count": 104,
   "id": "d4534a02",
   "metadata": {},
   "outputs": [
    {
     "data": {
      "text/plain": [
       "-0.458390    6663\n",
       "-0.729574    6332\n",
       "-0.322798    4404\n",
       "-0.593982    3986\n",
       "-1.436496    3507\n",
       "             ... \n",
       " 0.000172       1\n",
       "-0.004228       1\n",
       "-0.001335       1\n",
       "-0.006014       1\n",
       " 0.000653       1\n",
       "Name: APARTMENTS_AVG, Length: 158400, dtype: int64"
      ]
     },
     "execution_count": 104,
     "metadata": {},
     "output_type": "execute_result"
    }
   ],
   "source": [
    "app_train['APARTMENTS_AVG'].value_counts()"
   ]
  },
  {
   "cell_type": "markdown",
   "id": "9f0c4ed7",
   "metadata": {},
   "source": [
    "### BASEMENTAREA_AVG"
   ]
  },
  {
   "cell_type": "code",
   "execution_count": 105,
   "id": "83350fbc",
   "metadata": {},
   "outputs": [
    {
     "data": {
      "text/plain": [
       "0"
      ]
     },
     "execution_count": 105,
     "metadata": {},
     "output_type": "execute_result"
    }
   ],
   "source": [
    "app_train['APARTMENTS_AVG'].isnull().sum()"
   ]
  },
  {
   "cell_type": "code",
   "execution_count": 106,
   "id": "d4d72680",
   "metadata": {},
   "outputs": [
    {
     "data": {
      "text/plain": [
       "-0.458390    6663\n",
       "-0.729574    6332\n",
       "-0.322798    4404\n",
       "-0.593982    3986\n",
       "-1.436496    3507\n",
       "             ... \n",
       " 0.000172       1\n",
       "-0.004228       1\n",
       "-0.001335       1\n",
       "-0.006014       1\n",
       " 0.000653       1\n",
       "Name: APARTMENTS_AVG, Length: 158400, dtype: int64"
      ]
     },
     "execution_count": 106,
     "metadata": {},
     "output_type": "execute_result"
    }
   ],
   "source": [
    "app_train['APARTMENTS_AVG'].value_counts()"
   ]
  },
  {
   "cell_type": "markdown",
   "id": "1c02da84",
   "metadata": {},
   "source": [
    "### YEARS_BEGINEXPLUATATION_AVG"
   ]
  },
  {
   "cell_type": "code",
   "execution_count": 107,
   "id": "a983d97c",
   "metadata": {},
   "outputs": [
    {
     "data": {
      "text/plain": [
       "0"
      ]
     },
     "execution_count": 107,
     "metadata": {},
     "output_type": "execute_result"
    }
   ],
   "source": [
    "app_train['YEARS_BEGINEXPLUATATION_AVG'].isnull().sum()"
   ]
  },
  {
   "cell_type": "code",
   "execution_count": 108,
   "id": "2b91f399",
   "metadata": {},
   "outputs": [
    {
     "data": {
      "text/plain": [
       " 0.221332    4311\n",
       " 0.185942    4189\n",
       " 0.197739    4171\n",
       " 0.056178    4123\n",
       " 0.209535    4114\n",
       "             ... \n",
       "-0.007014       1\n",
       " 0.001326       1\n",
       " 0.000418       1\n",
       " 0.000618       1\n",
       " 0.001293       1\n",
       "Name: YEARS_BEGINEXPLUATATION_AVG, Length: 150292, dtype: int64"
      ]
     },
     "execution_count": 108,
     "metadata": {},
     "output_type": "execute_result"
    }
   ],
   "source": [
    "app_train['YEARS_BEGINEXPLUATATION_AVG'].value_counts()"
   ]
  },
  {
   "cell_type": "markdown",
   "id": "a2664c13",
   "metadata": {},
   "source": [
    "### YEARS_BUILD_AVG"
   ]
  },
  {
   "cell_type": "code",
   "execution_count": 109,
   "id": "cc89aa34",
   "metadata": {},
   "outputs": [
    {
     "data": {
      "text/plain": [
       "0"
      ]
     },
     "execution_count": 109,
     "metadata": {},
     "output_type": "execute_result"
    }
   ],
   "source": [
    "app_train['YEARS_BUILD_AVG'].isnull().sum()"
   ]
  },
  {
   "cell_type": "code",
   "execution_count": 110,
   "id": "cfc626f9",
   "metadata": {},
   "outputs": [
    {
     "data": {
      "text/plain": [
       " 1.080849    2999\n",
       " 0.978380    2864\n",
       " 0.773442    2848\n",
       "-0.353717    2802\n",
       "-0.251248    2761\n",
       "             ... \n",
       "-0.000415       1\n",
       " 0.000670       1\n",
       " 0.037216       1\n",
       "-0.000626       1\n",
       " 0.039294       1\n",
       "Name: YEARS_BUILD_AVG, Length: 204637, dtype: int64"
      ]
     },
     "execution_count": 110,
     "metadata": {},
     "output_type": "execute_result"
    }
   ],
   "source": [
    "app_train['YEARS_BUILD_AVG'].value_counts()"
   ]
  },
  {
   "cell_type": "markdown",
   "id": "d699fc41",
   "metadata": {},
   "source": [
    "### COMMONAREA_AVG"
   ]
  },
  {
   "cell_type": "code",
   "execution_count": 111,
   "id": "71d01fe7",
   "metadata": {},
   "outputs": [
    {
     "data": {
      "text/plain": [
       "0"
      ]
     },
     "execution_count": 111,
     "metadata": {},
     "output_type": "execute_result"
    }
   ],
   "source": [
    "app_train['COMMONAREA_AVG'].isnull().sum()"
   ]
  },
  {
   "cell_type": "code",
   "execution_count": 112,
   "id": "3cf35135",
   "metadata": {},
   "outputs": [
    {
     "data": {
      "text/plain": [
       "-1.065809    8442\n",
       "-0.876541     544\n",
       "-0.878937     475\n",
       "-0.874145     446\n",
       "-0.881333     414\n",
       "             ... \n",
       " 0.007187       1\n",
       "-0.000051       1\n",
       " 0.003324       1\n",
       " 0.000309       1\n",
       "-0.016592       1\n",
       "Name: COMMONAREA_AVG, Length: 218046, dtype: int64"
      ]
     },
     "execution_count": 112,
     "metadata": {},
     "output_type": "execute_result"
    }
   ],
   "source": [
    "app_train['COMMONAREA_AVG'].value_counts()"
   ]
  },
  {
   "cell_type": "markdown",
   "id": "eda4e423",
   "metadata": {},
   "source": [
    "### ELEVATORS_AVG"
   ]
  },
  {
   "cell_type": "code",
   "execution_count": 113,
   "id": "be260cfb",
   "metadata": {},
   "outputs": [
    {
     "data": {
      "text/plain": [
       "0"
      ]
     },
     "execution_count": 113,
     "metadata": {},
     "output_type": "execute_result"
    }
   ],
   "source": [
    "app_train['ELEVATORS_AVG'].isnull().sum()"
   ]
  },
  {
   "cell_type": "code",
   "execution_count": 114,
   "id": "0fc5d9f1",
   "metadata": {},
   "outputs": [
    {
     "data": {
      "text/plain": [
       "-0.853739    85718\n",
       " 0.016056     9886\n",
       " 0.885851     8806\n",
       " 1.755645     6071\n",
       " 0.450953     5593\n",
       "             ...  \n",
       "-0.013404        1\n",
       "-0.005295        1\n",
       " 0.016661        1\n",
       " 0.000012        1\n",
       "-0.053426        1\n",
       "Name: ELEVATORS_AVG, Length: 164148, dtype: int64"
      ]
     },
     "execution_count": 114,
     "metadata": {},
     "output_type": "execute_result"
    }
   ],
   "source": [
    "app_train['ELEVATORS_AVG'].value_counts()"
   ]
  },
  {
   "cell_type": "markdown",
   "id": "0fa3442a",
   "metadata": {},
   "source": [
    "### ENTRANCES_AVG"
   ]
  },
  {
   "cell_type": "code",
   "execution_count": 115,
   "id": "376ee6f1",
   "metadata": {},
   "outputs": [
    {
     "data": {
      "text/plain": [
       "0"
      ]
     },
     "execution_count": 115,
     "metadata": {},
     "output_type": "execute_result"
    }
   ],
   "source": [
    "app_train['ENTRANCES_AVG'].isnull().sum()"
   ]
  },
  {
   "cell_type": "code",
   "execution_count": 116,
   "id": "bedf1d06",
   "metadata": {},
   "outputs": [
    {
     "data": {
      "text/plain": [
       "-0.166704    34007\n",
       "-1.144029    22956\n",
       "-0.656076    19533\n",
       " 0.812039    19062\n",
       "-1.633400    15380\n",
       "             ...  \n",
       " 0.003610        1\n",
       " 0.003513        1\n",
       " 0.000927        1\n",
       " 0.000705        1\n",
       " 0.004384        1\n",
       "Name: ENTRANCES_AVG, Length: 155113, dtype: int64"
      ]
     },
     "execution_count": 116,
     "metadata": {},
     "output_type": "execute_result"
    }
   ],
   "source": [
    "app_train['ENTRANCES_AVG'].value_counts()"
   ]
  },
  {
   "cell_type": "markdown",
   "id": "08d80890",
   "metadata": {},
   "source": [
    "### FLOORSMAX_AVG"
   ]
  },
  {
   "cell_type": "code",
   "execution_count": 117,
   "id": "dd485bdd",
   "metadata": {},
   "outputs": [
    {
     "data": {
      "text/plain": [
       "0"
      ]
     },
     "execution_count": 117,
     "metadata": {},
     "output_type": "execute_result"
    }
   ],
   "source": [
    "app_train['FLOORSMAX_AVG'].isnull().sum()"
   ]
  },
  {
   "cell_type": "code",
   "execution_count": 118,
   "id": "a98d20d9",
   "metadata": {},
   "outputs": [
    {
     "data": {
      "text/plain": [
       "-0.578598    61875\n",
       " 1.046408    31909\n",
       "-1.797840    14600\n",
       " 1.453147     7926\n",
       "-0.985337     6974\n",
       "             ...  \n",
       "-0.012646        1\n",
       "-0.019550        1\n",
       " 0.004108        1\n",
       "-0.009528        1\n",
       " 0.000765        1\n",
       "Name: FLOORSMAX_AVG, Length: 153423, dtype: int64"
      ]
     },
     "execution_count": 118,
     "metadata": {},
     "output_type": "execute_result"
    }
   ],
   "source": [
    "app_train['FLOORSMAX_AVG'].value_counts()"
   ]
  },
  {
   "cell_type": "markdown",
   "id": "d09bce95",
   "metadata": {},
   "source": [
    "### FLOORSMIN_AVG"
   ]
  },
  {
   "cell_type": "code",
   "execution_count": 119,
   "id": "f8f61d73",
   "metadata": {},
   "outputs": [
    {
     "data": {
      "text/plain": [
       "0"
      ]
     },
     "execution_count": 119,
     "metadata": {},
     "output_type": "execute_result"
    }
   ],
   "source": [
    "app_train['FLOORSMIN_AVG'].isnull().sum()"
   ]
  },
  {
   "cell_type": "code",
   "execution_count": 120,
   "id": "ee40bc74",
   "metadata": {},
   "outputs": [
    {
     "data": {
      "text/plain": [
       "-0.253134    32875\n",
       " 1.568064    17845\n",
       "-2.073239    17776\n",
       "-1.618759     5086\n",
       " 2.023636     3961\n",
       "             ...  \n",
       "-0.004342        1\n",
       "-0.000272        1\n",
       "-0.000884        1\n",
       " 0.011303        1\n",
       " 0.028979        1\n",
       "Name: FLOORSMIN_AVG, Length: 208947, dtype: int64"
      ]
     },
     "execution_count": 120,
     "metadata": {},
     "output_type": "execute_result"
    }
   ],
   "source": [
    "app_train['FLOORSMIN_AVG'].value_counts()"
   ]
  },
  {
   "cell_type": "markdown",
   "id": "74608644",
   "metadata": {},
   "source": [
    "### LANDAREA_AVG"
   ]
  },
  {
   "cell_type": "code",
   "execution_count": 121,
   "id": "a86c5823",
   "metadata": {},
   "outputs": [
    {
     "data": {
      "text/plain": [
       "0"
      ]
     },
     "execution_count": 121,
     "metadata": {},
     "output_type": "execute_result"
    }
   ],
   "source": [
    "app_train['LANDAREA_AVG'].isnull().sum()"
   ]
  },
  {
   "cell_type": "code",
   "execution_count": 122,
   "id": "25249cb2",
   "metadata": {},
   "outputs": [
    {
     "data": {
      "text/plain": [
       "-1.280547    15600\n",
       "-0.061118      189\n",
       "-0.669866      187\n",
       "-0.366458      186\n",
       "-0.944286      180\n",
       "             ...  \n",
       " 0.003071        1\n",
       "-0.002699        1\n",
       " 0.008981        1\n",
       " 0.005914        1\n",
       "-0.018472        1\n",
       "Name: LANDAREA_AVG, Length: 186117, dtype: int64"
      ]
     },
     "execution_count": 122,
     "metadata": {},
     "output_type": "execute_result"
    }
   ],
   "source": [
    "app_train['LANDAREA_AVG'].value_counts()"
   ]
  },
  {
   "cell_type": "markdown",
   "id": "20952853",
   "metadata": {},
   "source": [
    "### LIVINGAPARTMENTS_AVG"
   ]
  },
  {
   "cell_type": "code",
   "execution_count": 123,
   "id": "5aac2df6",
   "metadata": {},
   "outputs": [
    {
     "data": {
      "text/plain": [
       "0"
      ]
     },
     "execution_count": 123,
     "metadata": {},
     "output_type": "execute_result"
    }
   ],
   "source": [
    "app_train['LIVINGAPARTMENTS_AVG'].isnull().sum()"
   ]
  },
  {
   "cell_type": "code",
   "execution_count": 124,
   "id": "467b0407",
   "metadata": {},
   "outputs": [
    {
     "data": {
      "text/plain": [
       "-0.957120    4272\n",
       "-0.634968    4231\n",
       "-0.473891    2778\n",
       "-0.796044    2586\n",
       "-0.310898    1864\n",
       "             ... \n",
       " 0.155735       1\n",
       "-0.000406       1\n",
       "-0.002792       1\n",
       "-0.004967       1\n",
       "-0.040263       1\n",
       "Name: LIVINGAPARTMENTS_AVG, Length: 212067, dtype: int64"
      ]
     },
     "execution_count": 124,
     "metadata": {},
     "output_type": "execute_result"
    }
   ],
   "source": [
    "app_train['LIVINGAPARTMENTS_AVG'].value_counts()"
   ]
  },
  {
   "cell_type": "code",
   "execution_count": 125,
   "id": "cdd1b3d9",
   "metadata": {},
   "outputs": [],
   "source": [
    "### LIVINGAREA_AVG"
   ]
  },
  {
   "cell_type": "code",
   "execution_count": 126,
   "id": "1b994825",
   "metadata": {},
   "outputs": [
    {
     "data": {
      "text/plain": [
       "0"
      ]
     },
     "execution_count": 126,
     "metadata": {},
     "output_type": "execute_result"
    }
   ],
   "source": [
    "app_train['LIVINGAREA_AVG'].isnull().sum()"
   ]
  },
  {
   "cell_type": "code",
   "execution_count": 127,
   "id": "ba10d3d8",
   "metadata": {},
   "outputs": [
    {
     "data": {
      "text/plain": [
       "-1.374341     284\n",
       "-0.718221     243\n",
       "-0.474739     223\n",
       "-0.720784     223\n",
       "-0.722065     221\n",
       "             ... \n",
       " 0.000378       1\n",
       " 0.002417       1\n",
       " 0.040463       1\n",
       " 0.000486       1\n",
       " 10.516561      1\n",
       "Name: LIVINGAREA_AVG, Length: 159549, dtype: int64"
      ]
     },
     "execution_count": 127,
     "metadata": {},
     "output_type": "execute_result"
    }
   ],
   "source": [
    "app_train['LIVINGAREA_AVG'].value_counts()"
   ]
  },
  {
   "cell_type": "markdown",
   "id": "6309ae2d",
   "metadata": {},
   "source": [
    "### NONLIVINGAPARTMENTS_AVG"
   ]
  },
  {
   "cell_type": "code",
   "execution_count": 128,
   "id": "ceabbc3b",
   "metadata": {},
   "outputs": [
    {
     "data": {
      "text/plain": [
       "0"
      ]
     },
     "execution_count": 128,
     "metadata": {},
     "output_type": "execute_result"
    }
   ],
   "source": [
    "app_train['NONLIVINGAPARTMENTS_AVG'].isnull().sum()"
   ]
  },
  {
   "cell_type": "code",
   "execution_count": 129,
   "id": "98912b66",
   "metadata": {},
   "outputs": [
    {
     "data": {
      "text/plain": [
       "-0.332963    54549\n",
       "-0.185194    13606\n",
       "-0.041215     6351\n",
       " 0.106554     3714\n",
       " 0.250533     2533\n",
       "             ...  \n",
       " 0.003631        1\n",
       "-0.001348        1\n",
       " 0.017238        1\n",
       "-0.009232        1\n",
       "-0.000430        1\n",
       "Name: NONLIVINGAPARTMENTS_AVG, Length: 213900, dtype: int64"
      ]
     },
     "execution_count": 129,
     "metadata": {},
     "output_type": "execute_result"
    }
   ],
   "source": [
    "app_train['NONLIVINGAPARTMENTS_AVG'].value_counts()"
   ]
  },
  {
   "cell_type": "markdown",
   "id": "9f697f1d",
   "metadata": {},
   "source": [
    "### NONLIVINGAREA_AVG"
   ]
  },
  {
   "cell_type": "code",
   "execution_count": 130,
   "id": "bc8f563a",
   "metadata": {},
   "outputs": [
    {
     "data": {
      "text/plain": [
       "0"
      ]
     },
     "execution_count": 130,
     "metadata": {},
     "output_type": "execute_result"
    }
   ],
   "source": [
    "app_train['NONLIVINGAREA_AVG'].isnull().sum()"
   ]
  },
  {
   "cell_type": "code",
   "execution_count": 131,
   "id": "6c49cb13",
   "metadata": {},
   "outputs": [
    {
     "data": {
      "text/plain": [
       "-0.605432    58735\n",
       "-0.579652      546\n",
       "-0.510906      454\n",
       "-0.558169      440\n",
       "-0.538834      415\n",
       "             ...  \n",
       " 0.014481        1\n",
       " 0.000375        1\n",
       " 0.000959        1\n",
       "-0.004459        1\n",
       "-0.023378        1\n",
       "Name: NONLIVINGAREA_AVG, Length: 172972, dtype: int64"
      ]
     },
     "execution_count": 131,
     "metadata": {},
     "output_type": "execute_result"
    }
   ],
   "source": [
    "app_train['NONLIVINGAREA_AVG'].value_counts()"
   ]
  },
  {
   "cell_type": "markdown",
   "id": "a4221ec3",
   "metadata": {},
   "source": [
    "### APARTMENTS_MODE"
   ]
  },
  {
   "cell_type": "code",
   "execution_count": 132,
   "id": "ab7eab1f",
   "metadata": {},
   "outputs": [
    {
     "data": {
      "text/plain": [
       "0"
      ]
     },
     "execution_count": 132,
     "metadata": {},
     "output_type": "execute_result"
    }
   ],
   "source": [
    "app_train['APARTMENTS_MODE'].isnull().sum()"
   ]
  },
  {
   "cell_type": "code",
   "execution_count": 133,
   "id": "b358caa4",
   "metadata": {},
   "outputs": [
    {
     "data": {
      "text/plain": [
       "-0.401022    7522\n",
       "-0.678230    7451\n",
       "-0.262418    4757\n",
       "-0.539626    4388\n",
       "-1.398970    3970\n",
       "             ... \n",
       "-0.001671       1\n",
       " 0.003412       1\n",
       "-0.001820       1\n",
       " 0.009585       1\n",
       "-0.001978       1\n",
       "Name: APARTMENTS_MODE, Length: 156821, dtype: int64"
      ]
     },
     "execution_count": 133,
     "metadata": {},
     "output_type": "execute_result"
    }
   ],
   "source": [
    "app_train['APARTMENTS_MODE'].value_counts()"
   ]
  },
  {
   "cell_type": "markdown",
   "id": "263e3931",
   "metadata": {},
   "source": [
    "### BASEMENTAREA_MODE"
   ]
  },
  {
   "cell_type": "code",
   "execution_count": 134,
   "id": "6f67b0b0",
   "metadata": {},
   "outputs": [
    {
     "data": {
      "text/plain": [
       "0"
      ]
     },
     "execution_count": 134,
     "metadata": {},
     "output_type": "execute_result"
    }
   ],
   "source": [
    "app_train['BASEMENTAREA_MODE'].isnull().sum()"
   ]
  },
  {
   "cell_type": "code",
   "execution_count": 135,
   "id": "7519ec43",
   "metadata": {},
   "outputs": [
    {
     "data": {
      "text/plain": [
       "-1.617026    16598\n",
       "-0.575430      269\n",
       "-0.054632      265\n",
       "-0.435569      253\n",
       "-0.089597      251\n",
       "             ...  \n",
       "-0.012081        1\n",
       "-0.002816        1\n",
       " 0.000293        1\n",
       " 0.014241        1\n",
       "-0.013815        1\n",
       "Name: BASEMENTAREA_MODE, Length: 183784, dtype: int64"
      ]
     },
     "execution_count": 135,
     "metadata": {},
     "output_type": "execute_result"
    }
   ],
   "source": [
    "app_train['BASEMENTAREA_MODE'].value_counts()"
   ]
  },
  {
   "cell_type": "markdown",
   "id": "49e91bfe",
   "metadata": {},
   "source": [
    "### YEARS_BEGINEXPLUATATION_MODE"
   ]
  },
  {
   "cell_type": "code",
   "execution_count": 136,
   "id": "6af36c42",
   "metadata": {},
   "outputs": [
    {
     "data": {
      "text/plain": [
       "0"
      ]
     },
     "execution_count": 136,
     "metadata": {},
     "output_type": "execute_result"
    }
   ],
   "source": [
    "app_train['YEARS_BEGINEXPLUATATION_MODE'].isnull().sum()"
   ]
  },
  {
   "cell_type": "code",
   "execution_count": 137,
   "id": "922a640e",
   "metadata": {},
   "outputs": [
    {
     "data": {
      "text/plain": [
       " 0.217127    4291\n",
       " 0.206309    4173\n",
       " 0.195490    4167\n",
       " 0.065664    4110\n",
       " 0.076482    4083\n",
       "             ... \n",
       " 0.004945       1\n",
       "-0.004292       1\n",
       " 0.009818       1\n",
       "-0.001316       1\n",
       "-0.002509       1\n",
       "Name: YEARS_BEGINEXPLUATATION_MODE, Length: 150228, dtype: int64"
      ]
     },
     "execution_count": 137,
     "metadata": {},
     "output_type": "execute_result"
    }
   ],
   "source": [
    "app_train['YEARS_BEGINEXPLUATATION_MODE'].value_counts()"
   ]
  },
  {
   "cell_type": "markdown",
   "id": "bba726e4",
   "metadata": {},
   "source": [
    "### YEARS_BUILD_MODE"
   ]
  },
  {
   "cell_type": "code",
   "execution_count": 138,
   "id": "a05cd4f6",
   "metadata": {},
   "outputs": [
    {
     "data": {
      "text/plain": [
       "0"
      ]
     },
     "execution_count": 138,
     "metadata": {},
     "output_type": "execute_result"
    }
   ],
   "source": [
    "app_train['YEARS_BUILD_MODE'].isnull().sum()"
   ]
  },
  {
   "cell_type": "code",
   "execution_count": 139,
   "id": "cf4cceaa",
   "metadata": {},
   "outputs": [
    {
     "data": {
      "text/plain": [
       " 1.075055    2960\n",
       " 0.974180    2879\n",
       "-0.343402    2789\n",
       " 0.873305    2763\n",
       " 0.770878    2755\n",
       "             ... \n",
       "-0.006110       1\n",
       " 0.028678       1\n",
       "-0.011171       1\n",
       " 0.012239       1\n",
       "-0.008078       1\n",
       "Name: YEARS_BUILD_MODE, Length: 204642, dtype: int64"
      ]
     },
     "execution_count": 139,
     "metadata": {},
     "output_type": "execute_result"
    }
   ],
   "source": [
    "app_train['YEARS_BUILD_MODE'].value_counts()"
   ]
  },
  {
   "cell_type": "markdown",
   "id": "284ae671",
   "metadata": {},
   "source": [
    "### COMMONAREA_MODE"
   ]
  },
  {
   "cell_type": "code",
   "execution_count": 140,
   "id": "e2c0a68b",
   "metadata": {},
   "outputs": [
    {
     "data": {
      "text/plain": [
       "0"
      ]
     },
     "execution_count": 140,
     "metadata": {},
     "output_type": "execute_result"
    }
   ],
   "source": [
    "app_train['COMMONAREA_MODE'].isnull().sum()"
   ]
  },
  {
   "cell_type": "code",
   "execution_count": 141,
   "id": "bceb3d83",
   "metadata": {},
   "outputs": [
    {
     "data": {
      "text/plain": [
       "-1.050944    9690\n",
       "-0.855439     546\n",
       "-0.857883     543\n",
       "-0.860326     518\n",
       "-0.852995     416\n",
       "             ... \n",
       " 0.056662       1\n",
       "-0.035278       1\n",
       " 0.147343       1\n",
       " 0.003227       1\n",
       " 0.033500       1\n",
       "Name: COMMONAREA_MODE, Length: 217993, dtype: int64"
      ]
     },
     "execution_count": 141,
     "metadata": {},
     "output_type": "execute_result"
    }
   ],
   "source": [
    "app_train['COMMONAREA_MODE'].value_counts()"
   ]
  },
  {
   "cell_type": "markdown",
   "id": "8bb15f6b",
   "metadata": {},
   "source": [
    "### ELEVATORS_MODE"
   ]
  },
  {
   "cell_type": "code",
   "execution_count": 142,
   "id": "5d4e5ac5",
   "metadata": {},
   "outputs": [
    {
     "data": {
      "text/plain": [
       "0"
      ]
     },
     "execution_count": 142,
     "metadata": {},
     "output_type": "execute_result"
    }
   ],
   "source": [
    "app_train['ELEVATORS_MODE'].isnull().sum()"
   ]
  },
  {
   "cell_type": "code",
   "execution_count": 143,
   "id": "375e8ad4",
   "metadata": {},
   "outputs": [
    {
     "data": {
      "text/plain": [
       "-0.828159    89498\n",
       " 0.063506    11629\n",
       " 0.954065     9675\n",
       " 1.845730     6379\n",
       " 0.508232     5734\n",
       "             ...  \n",
       "-0.001584        1\n",
       " 0.008568        1\n",
       "-0.009578        1\n",
       "-0.011372        1\n",
       " 0.011993        1\n",
       "Name: ELEVATORS_MODE, Length: 163917, dtype: int64"
      ]
     },
     "execution_count": 143,
     "metadata": {},
     "output_type": "execute_result"
    }
   ],
   "source": [
    "app_train['ELEVATORS_MODE'].value_counts()"
   ]
  },
  {
   "cell_type": "markdown",
   "id": "528bb910",
   "metadata": {},
   "source": [
    "### ENTRANCES_MODE"
   ]
  },
  {
   "cell_type": "code",
   "execution_count": 144,
   "id": "cac08023",
   "metadata": {},
   "outputs": [
    {
     "data": {
      "text/plain": [
       "0"
      ]
     },
     "execution_count": 144,
     "metadata": {},
     "output_type": "execute_result"
    }
   ],
   "source": [
    "app_train['ENTRANCES_MODE'].isnull().sum()"
   ]
  },
  {
   "cell_type": "code",
   "execution_count": 145,
   "id": "161ea8ff",
   "metadata": {},
   "outputs": [
    {
     "data": {
      "text/plain": [
       "-0.104454    36041\n",
       "-1.072780    26704\n",
       "-0.589319    20533\n",
       " 0.865278    19678\n",
       "-1.557645    19428\n",
       "             ...  \n",
       " 0.003774        1\n",
       " 0.004649        1\n",
       " 0.013625        1\n",
       "-0.003040        1\n",
       "-0.008032        1\n",
       "Name: ENTRANCES_MODE, Length: 154858, dtype: int64"
      ]
     },
     "execution_count": 145,
     "metadata": {},
     "output_type": "execute_result"
    }
   ],
   "source": [
    "app_train['ENTRANCES_MODE'].value_counts()"
   ]
  },
  {
   "cell_type": "markdown",
   "id": "4c55f7de",
   "metadata": {},
   "source": [
    "### FLOORSMAX_MODE"
   ]
  },
  {
   "cell_type": "code",
   "execution_count": 146,
   "id": "88c5d06d",
   "metadata": {},
   "outputs": [
    {
     "data": {
      "text/plain": [
       "0"
      ]
     },
     "execution_count": 146,
     "metadata": {},
     "output_type": "execute_result"
    }
   ],
   "source": [
    "app_train['FLOORSMAX_MODE'].isnull().sum()"
   ]
  },
  {
   "cell_type": "code",
   "execution_count": 147,
   "id": "f504ced6",
   "metadata": {},
   "outputs": [
    {
     "data": {
      "text/plain": [
       "-0.546934    65550\n",
       " 1.088615    34373\n",
       "-1.774087    15616\n",
       " 1.497994     8321\n",
       "-0.956312     7267\n",
       "             ...  \n",
       "-0.007302        1\n",
       " 0.000294        1\n",
       " 0.004274        1\n",
       " 0.001291        1\n",
       "-0.003251        1\n",
       "Name: FLOORSMAX_MODE, Length: 153045, dtype: int64"
      ]
     },
     "execution_count": 147,
     "metadata": {},
     "output_type": "execute_result"
    }
   ],
   "source": [
    "app_train['FLOORSMAX_MODE'].value_counts()"
   ]
  },
  {
   "cell_type": "markdown",
   "id": "4607d292",
   "metadata": {},
   "source": [
    "### FLOORSMIN_MODE"
   ]
  },
  {
   "cell_type": "code",
   "execution_count": 148,
   "id": "df565504",
   "metadata": {},
   "outputs": [
    {
     "data": {
      "text/plain": [
       "0"
      ]
     },
     "execution_count": 148,
     "metadata": {},
     "output_type": "execute_result"
    }
   ],
   "source": [
    "app_train['FLOORSMIN_MODE'].isnull().sum()"
   ]
  },
  {
   "cell_type": "code",
   "execution_count": 149,
   "id": "d56a5fdb",
   "metadata": {},
   "outputs": [
    {
     "data": {
      "text/plain": [
       "-0.227608    34403\n",
       " 1.593749    19042\n",
       "-2.047872    18917\n",
       "-1.593352     5349\n",
       " 2.049362     4105\n",
       "             ...  \n",
       "-0.002519        1\n",
       " 0.057817        1\n",
       " 0.012575        1\n",
       " 0.004993        1\n",
       " 0.001322        1\n",
       "Name: FLOORSMIN_MODE, Length: 208667, dtype: int64"
      ]
     },
     "execution_count": 149,
     "metadata": {},
     "output_type": "execute_result"
    }
   ],
   "source": [
    "app_train['FLOORSMIN_MODE'].value_counts()"
   ]
  },
  {
   "cell_type": "markdown",
   "id": "38a111f2",
   "metadata": {},
   "source": [
    "### LANDAREA_MODE"
   ]
  },
  {
   "cell_type": "code",
   "execution_count": 150,
   "id": "da3c08d7",
   "metadata": {},
   "outputs": [
    {
     "data": {
      "text/plain": [
       "0"
      ]
     },
     "execution_count": 150,
     "metadata": {},
     "output_type": "execute_result"
    }
   ],
   "source": [
    "app_train['LANDAREA_MODE'].isnull().sum()"
   ]
  },
  {
   "cell_type": "code",
   "execution_count": 151,
   "id": "9b05b9a4",
   "metadata": {},
   "outputs": [
    {
     "data": {
      "text/plain": [
       "-1.250390    17453\n",
       "-0.878227      208\n",
       "-0.013045      193\n",
       "-0.321901      192\n",
       "-0.630758      188\n",
       "             ...  \n",
       " 0.066464        1\n",
       " 0.010097        1\n",
       " 0.021412        1\n",
       " 0.008362        1\n",
       " 0.009580        1\n",
       "Name: LANDAREA_MODE, Length: 186153, dtype: int64"
      ]
     },
     "execution_count": 151,
     "metadata": {},
     "output_type": "execute_result"
    }
   ],
   "source": [
    "app_train['LANDAREA_MODE'].value_counts()"
   ]
  },
  {
   "cell_type": "markdown",
   "id": "0e6cf3cb",
   "metadata": {},
   "source": [
    "### LIVINGAPARTMENTS_MODE"
   ]
  },
  {
   "cell_type": "code",
   "execution_count": 152,
   "id": "32c92e29",
   "metadata": {},
   "outputs": [
    {
     "data": {
      "text/plain": [
       "0"
      ]
     },
     "execution_count": 152,
     "metadata": {},
     "output_type": "execute_result"
    }
   ],
   "source": [
    "app_train['LIVINGAPARTMENTS_MODE'].isnull().sum()"
   ]
  },
  {
   "cell_type": "code",
   "execution_count": 153,
   "id": "0b81517f",
   "metadata": {},
   "outputs": [
    {
     "data": {
      "text/plain": [
       "-0.910338    4931\n",
       "-0.578658    4797\n",
       "-0.414621    2966\n",
       "-0.744498    2853\n",
       "-0.248781    2069\n",
       "             ... \n",
       " 0.003351       1\n",
       " 0.011786       1\n",
       "-0.093731       1\n",
       "-0.019579       1\n",
       "-0.075298       1\n",
       "Name: LIVINGAPARTMENTS_MODE, Length: 210935, dtype: int64"
      ]
     },
     "execution_count": 153,
     "metadata": {},
     "output_type": "execute_result"
    }
   ],
   "source": [
    "app_train['LIVINGAPARTMENTS_MODE'].value_counts()"
   ]
  },
  {
   "cell_type": "markdown",
   "id": "91b4e962",
   "metadata": {},
   "source": [
    "### LIVINGAREA_MODE"
   ]
  },
  {
   "cell_type": "code",
   "execution_count": 154,
   "id": "9eecc8d6",
   "metadata": {},
   "outputs": [
    {
     "data": {
      "text/plain": [
       "0"
      ]
     },
     "execution_count": 154,
     "metadata": {},
     "output_type": "execute_result"
    }
   ],
   "source": [
    "app_train['LIVINGAREA_MODE'].isnull().sum()"
   ]
  },
  {
   "cell_type": "code",
   "execution_count": 155,
   "id": "b3439ee0",
   "metadata": {},
   "outputs": [
    {
     "data": {
      "text/plain": [
       "-1.343523     444\n",
       "-0.672228     272\n",
       "-0.669695     262\n",
       "-0.673495     249\n",
       "-0.668428     242\n",
       "             ... \n",
       "-0.015031       1\n",
       "-0.004621       1\n",
       "-0.003534       1\n",
       "-0.012465       1\n",
       " 10.900647      1\n",
       "Name: LIVINGAREA_MODE, Length: 159651, dtype: int64"
      ]
     },
     "execution_count": 155,
     "metadata": {},
     "output_type": "execute_result"
    }
   ],
   "source": [
    "app_train['LIVINGAREA_MODE'].value_counts()"
   ]
  },
  {
   "cell_type": "markdown",
   "id": "451386f7",
   "metadata": {},
   "source": [
    "### NONLIVINGAPARTMENTS_MODE"
   ]
  },
  {
   "cell_type": "code",
   "execution_count": 156,
   "id": "a100af6b",
   "metadata": {},
   "outputs": [
    {
     "data": {
      "text/plain": [
       "0"
      ]
     },
     "execution_count": 156,
     "metadata": {},
     "output_type": "execute_result"
    }
   ],
   "source": [
    "app_train['NONLIVINGAPARTMENTS_MODE'].isnull().sum()"
   ]
  },
  {
   "cell_type": "code",
   "execution_count": 157,
   "id": "4a082af1",
   "metadata": {},
   "outputs": [
    {
     "data": {
      "text/plain": [
       "-0.316935    59255\n",
       "-0.164638    14105\n",
       "-0.012340     6413\n",
       " 0.139957     3675\n",
       " 0.292255     2492\n",
       "             ...  \n",
       "-0.002566        1\n",
       "-0.014628        1\n",
       " 0.004872        1\n",
       "-0.002045        1\n",
       "-0.047013        1\n",
       "Name: NONLIVINGAPARTMENTS_MODE, Length: 213681, dtype: int64"
      ]
     },
     "execution_count": 157,
     "metadata": {},
     "output_type": "execute_result"
    }
   ],
   "source": [
    "app_train['NONLIVINGAPARTMENTS_MODE'].value_counts()"
   ]
  },
  {
   "cell_type": "markdown",
   "id": "33652d62",
   "metadata": {},
   "source": [
    "### NONLIVINGAREA_MODE"
   ]
  },
  {
   "cell_type": "code",
   "execution_count": 158,
   "id": "e34cad16",
   "metadata": {},
   "outputs": [
    {
     "data": {
      "text/plain": [
       "0"
      ]
     },
     "execution_count": 158,
     "metadata": {},
     "output_type": "execute_result"
    }
   ],
   "source": [
    "app_train['NONLIVINGAREA_MODE'].isnull().sum()"
   ]
  },
  {
   "cell_type": "code",
   "execution_count": 159,
   "id": "386c0682",
   "metadata": {},
   "outputs": [
    {
     "data": {
      "text/plain": [
       "-0.579055    67126\n",
       "-0.555671      477\n",
       "-0.481267      466\n",
       "-0.508903      430\n",
       "-0.553545      427\n",
       "             ...  \n",
       "-0.017039        1\n",
       " 0.032483        1\n",
       " 0.011637        1\n",
       "-0.045151        1\n",
       " 0.010606        1\n",
       "Name: NONLIVINGAREA_MODE, Length: 173009, dtype: int64"
      ]
     },
     "execution_count": 159,
     "metadata": {},
     "output_type": "execute_result"
    }
   ],
   "source": [
    "app_train['NONLIVINGAREA_MODE'].value_counts()"
   ]
  },
  {
   "cell_type": "markdown",
   "id": "5fabf184",
   "metadata": {},
   "source": [
    "### APARTMENTS_MEDI"
   ]
  },
  {
   "cell_type": "code",
   "execution_count": 160,
   "id": "bef0505a",
   "metadata": {},
   "outputs": [
    {
     "data": {
      "text/plain": [
       "0"
      ]
     },
     "execution_count": 160,
     "metadata": {},
     "output_type": "execute_result"
    }
   ],
   "source": [
    "app_train['APARTMENTS_MEDI'].isnull().sum()"
   ]
  },
  {
   "cell_type": "code",
   "execution_count": 161,
   "id": "a8c8a413",
   "metadata": {},
   "outputs": [
    {
     "data": {
      "text/plain": [
       "-0.450337    7109\n",
       "-0.722057    6687\n",
       "-0.314477    4622\n",
       "-0.586197    4211\n",
       "-1.430096    3562\n",
       "             ... \n",
       " 0.001739       1\n",
       " 0.000486       1\n",
       "-0.000246       1\n",
       " 0.000077       1\n",
       " 0.001633       1\n",
       "Name: APARTMENTS_MEDI, Length: 157209, dtype: int64"
      ]
     },
     "execution_count": 161,
     "metadata": {},
     "output_type": "execute_result"
    }
   ],
   "source": [
    "app_train['APARTMENTS_MEDI'].value_counts()"
   ]
  },
  {
   "cell_type": "markdown",
   "id": "870b232f",
   "metadata": {},
   "source": [
    "### BASEMENTAREA_MEDI"
   ]
  },
  {
   "cell_type": "code",
   "execution_count": 162,
   "id": "98b682cf",
   "metadata": {},
   "outputs": [
    {
     "data": {
      "text/plain": [
       "0"
      ]
     },
     "execution_count": 162,
     "metadata": {},
     "output_type": "execute_result"
    }
   ],
   "source": [
    "app_train['BASEMENTAREA_MEDI'].isnull().sum()"
   ]
  },
  {
   "cell_type": "code",
   "execution_count": 163,
   "id": "152a2a18",
   "metadata": {},
   "outputs": [
    {
     "data": {
      "text/plain": [
       "-1.658730    14991\n",
       "-0.113378      271\n",
       " 0.402369      266\n",
       "-0.629125      265\n",
       "-0.285294      248\n",
       "             ...  \n",
       "-0.002443        1\n",
       "-0.003473        1\n",
       " 0.000992        1\n",
       "-0.001015        1\n",
       "-0.042624        1\n",
       "Name: BASEMENTAREA_MEDI, Length: 183715, dtype: int64"
      ]
     },
     "execution_count": 163,
     "metadata": {},
     "output_type": "execute_result"
    }
   ],
   "source": [
    "app_train['BASEMENTAREA_MEDI'].value_counts()"
   ]
  },
  {
   "cell_type": "markdown",
   "id": "cefa1aad",
   "metadata": {},
   "source": [
    "### YEARS_BEGINEXPLUATATION_MEDI"
   ]
  },
  {
   "cell_type": "code",
   "execution_count": 164,
   "id": "4c7c6e75",
   "metadata": {},
   "outputs": [
    {
     "data": {
      "text/plain": [
       "0"
      ]
     },
     "execution_count": 164,
     "metadata": {},
     "output_type": "execute_result"
    }
   ],
   "source": [
    "app_train['YEARS_BEGINEXPLUATATION_MEDI'].isnull().sum()"
   ]
  },
  {
   "cell_type": "code",
   "execution_count": 165,
   "id": "4ca31479",
   "metadata": {},
   "outputs": [
    {
     "data": {
      "text/plain": [
       " 0.218272    4314\n",
       " 0.194944    4247\n",
       " 0.183280    4199\n",
       " 0.206608    4138\n",
       " 0.054976    4115\n",
       "             ... \n",
       "-0.000216       1\n",
       "-0.000145       1\n",
       "-0.003621       1\n",
       " 0.001884       1\n",
       " 0.000998       1\n",
       "Name: YEARS_BEGINEXPLUATATION_MEDI, Length: 150252, dtype: int64"
      ]
     },
     "execution_count": 165,
     "metadata": {},
     "output_type": "execute_result"
    }
   ],
   "source": [
    "app_train['YEARS_BEGINEXPLUATATION_MEDI'].value_counts()"
   ]
  },
  {
   "cell_type": "markdown",
   "id": "3060534b",
   "metadata": {},
   "source": [
    "### YEARS_BUILD_MEDI"
   ]
  },
  {
   "cell_type": "code",
   "execution_count": 166,
   "id": "d471b6d5",
   "metadata": {},
   "outputs": [
    {
     "data": {
      "text/plain": [
       "0"
      ]
     },
     "execution_count": 166,
     "metadata": {},
     "output_type": "execute_result"
    }
   ],
   "source": [
    "app_train['YEARS_BUILD_MEDI'].isnull().sum()"
   ]
  },
  {
   "cell_type": "code",
   "execution_count": 167,
   "id": "181c0d1a",
   "metadata": {},
   "outputs": [
    {
     "data": {
      "text/plain": [
       " 1.080693    2994\n",
       " 0.977965    2883\n",
       " 0.770976    2842\n",
       "-0.360564    2799\n",
       " 0.873704    2784\n",
       "             ... \n",
       "-0.002758       1\n",
       " 0.024555       1\n",
       " 0.001019       1\n",
       "-0.001497       1\n",
       " 0.026950       1\n",
       "Name: YEARS_BUILD_MEDI, Length: 204639, dtype: int64"
      ]
     },
     "execution_count": 167,
     "metadata": {},
     "output_type": "execute_result"
    }
   ],
   "source": [
    "app_train['YEARS_BUILD_MEDI'].value_counts()"
   ]
  },
  {
   "cell_type": "markdown",
   "id": "962d168b",
   "metadata": {},
   "source": [
    "### COMMONAREA_MEDI"
   ]
  },
  {
   "cell_type": "code",
   "execution_count": 168,
   "id": "0a67960e",
   "metadata": {},
   "outputs": [
    {
     "data": {
      "text/plain": [
       "0"
      ]
     },
     "execution_count": 168,
     "metadata": {},
     "output_type": "execute_result"
    }
   ],
   "source": [
    "app_train['COMMONAREA_MEDI'].isnull().sum()"
   ]
  },
  {
   "cell_type": "code",
   "execution_count": 169,
   "id": "ceb592b7",
   "metadata": {},
   "outputs": [
    {
     "data": {
      "text/plain": [
       "-1.065457    8691\n",
       "-0.876441     581\n",
       "-0.874049     486\n",
       "-0.878834     481\n",
       "-1.031961     377\n",
       "             ... \n",
       "-0.000732       1\n",
       "-0.000363       1\n",
       "-0.000376       1\n",
       "-0.008182       1\n",
       "-0.013140       1\n",
       "Name: COMMONAREA_MEDI, Length: 218067, dtype: int64"
      ]
     },
     "execution_count": 169,
     "metadata": {},
     "output_type": "execute_result"
    }
   ],
   "source": [
    "app_train['COMMONAREA_MEDI'].value_counts()"
   ]
  },
  {
   "cell_type": "markdown",
   "id": "aac913fc",
   "metadata": {},
   "source": [
    "### COMMONAREA_MEDI"
   ]
  },
  {
   "cell_type": "code",
   "execution_count": 170,
   "id": "88516f6e",
   "metadata": {},
   "outputs": [
    {
     "data": {
      "text/plain": [
       "0"
      ]
     },
     "execution_count": 170,
     "metadata": {},
     "output_type": "execute_result"
    }
   ],
   "source": [
    "app_train['COMMONAREA_MEDI'].isnull().sum()"
   ]
  },
  {
   "cell_type": "code",
   "execution_count": 171,
   "id": "f33c1c1e",
   "metadata": {},
   "outputs": [
    {
     "data": {
      "text/plain": [
       "-1.065457    8691\n",
       "-0.876441     581\n",
       "-0.874049     486\n",
       "-0.878834     481\n",
       "-1.031961     377\n",
       "             ... \n",
       "-0.000732       1\n",
       "-0.000363       1\n",
       "-0.000376       1\n",
       "-0.008182       1\n",
       "-0.013140       1\n",
       "Name: COMMONAREA_MEDI, Length: 218067, dtype: int64"
      ]
     },
     "execution_count": 171,
     "metadata": {},
     "output_type": "execute_result"
    }
   ],
   "source": [
    "app_train['COMMONAREA_MEDI'].value_counts()"
   ]
  },
  {
   "cell_type": "markdown",
   "id": "27aa298d",
   "metadata": {},
   "source": [
    "### ELEVATORS_MEDI"
   ]
  },
  {
   "cell_type": "code",
   "execution_count": 172,
   "id": "3156dbe3",
   "metadata": {},
   "outputs": [
    {
     "data": {
      "text/plain": [
       "0"
      ]
     },
     "execution_count": 172,
     "metadata": {},
     "output_type": "execute_result"
    }
   ],
   "source": [
    "app_train['ELEVATORS_MEDI'].isnull().sum()"
   ]
  },
  {
   "cell_type": "code",
   "execution_count": 173,
   "id": "7fc00d2a",
   "metadata": {},
   "outputs": [
    {
     "data": {
      "text/plain": [
       "-0.846902    87026\n",
       " 0.023632    10832\n",
       " 0.894167     9278\n",
       " 1.764701     6392\n",
       " 0.458899     5946\n",
       "             ...  \n",
       "-0.001736        1\n",
       "-0.002135        1\n",
       " 0.007637        1\n",
       " 0.002713        1\n",
       "-0.045419        1\n",
       "Name: ELEVATORS_MEDI, Length: 163937, dtype: int64"
      ]
     },
     "execution_count": 173,
     "metadata": {},
     "output_type": "execute_result"
    }
   ],
   "source": [
    "app_train['ELEVATORS_MEDI'].value_counts()"
   ]
  },
  {
   "cell_type": "markdown",
   "id": "8f9996a1",
   "metadata": {},
   "source": [
    "### ENTRANCES_MEDI"
   ]
  },
  {
   "cell_type": "code",
   "execution_count": 174,
   "id": "eb57569e",
   "metadata": {},
   "outputs": [
    {
     "data": {
      "text/plain": [
       "0"
      ]
     },
     "execution_count": 174,
     "metadata": {},
     "output_type": "execute_result"
    }
   ],
   "source": [
    "app_train['ENTRANCES_MEDI'].isnull().sum()"
   ]
  },
  {
   "cell_type": "code",
   "execution_count": 175,
   "id": "74bee4e6",
   "metadata": {},
   "outputs": [
    {
     "data": {
      "text/plain": [
       "-0.159244    35535\n",
       "-1.133464    24193\n",
       "-0.647061    20492\n",
       " 0.816390    19750\n",
       "-1.621282    16150\n",
       "             ...  \n",
       " 0.001735        1\n",
       "-0.002165        1\n",
       "-0.003930        1\n",
       "-0.001645        1\n",
       " 0.001127        1\n",
       "Name: ENTRANCES_MEDI, Length: 154874, dtype: int64"
      ]
     },
     "execution_count": 175,
     "metadata": {},
     "output_type": "execute_result"
    }
   ],
   "source": [
    "app_train['ENTRANCES_MEDI'].value_counts()"
   ]
  },
  {
   "cell_type": "markdown",
   "id": "b3940411",
   "metadata": {},
   "source": [
    "### FLOORSMAX_MEDI"
   ]
  },
  {
   "cell_type": "code",
   "execution_count": 176,
   "id": "0d91a794",
   "metadata": {},
   "outputs": [
    {
     "data": {
      "text/plain": [
       "0"
      ]
     },
     "execution_count": 176,
     "metadata": {},
     "output_type": "execute_result"
    }
   ],
   "source": [
    "app_train['FLOORSMAX_MEDI'].isnull().sum()"
   ]
  },
  {
   "cell_type": "code",
   "execution_count": 177,
   "id": "d031647a",
   "metadata": {},
   "outputs": [
    {
     "data": {
      "text/plain": [
       "-0.574140    63607\n",
       " 1.046113    33279\n",
       "-1.789816    14832\n",
       " 1.451662     8207\n",
       "-0.979689     7079\n",
       "             ...  \n",
       " 0.008897        1\n",
       " 0.004595        1\n",
       " 0.001470        1\n",
       "-0.001479        1\n",
       " 0.000388        1\n",
       "Name: FLOORSMAX_MEDI, Length: 153069, dtype: int64"
      ]
     },
     "execution_count": 177,
     "metadata": {},
     "output_type": "execute_result"
    }
   ],
   "source": [
    "app_train['FLOORSMAX_MEDI'].value_counts()"
   ]
  },
  {
   "cell_type": "markdown",
   "id": "8eb56b0e",
   "metadata": {},
   "source": [
    "### FLOORSMIN_MEDI"
   ]
  },
  {
   "cell_type": "code",
   "execution_count": 178,
   "id": "c82af6ff",
   "metadata": {},
   "outputs": [
    {
     "data": {
      "text/plain": [
       "0"
      ]
     },
     "execution_count": 178,
     "metadata": {},
     "output_type": "execute_result"
    }
   ],
   "source": [
    "app_train['FLOORSMIN_MEDI'].isnull().sum()"
   ]
  },
  {
   "cell_type": "code",
   "execution_count": 179,
   "id": "bb07ddd4",
   "metadata": {},
   "outputs": [
    {
     "data": {
      "text/plain": [
       "-0.251755    33737\n",
       " 1.563699    18538\n",
       "-2.066119    18090\n",
       "-1.613073     5131\n",
       " 2.017835     4068\n",
       "             ...  \n",
       "-0.000368        1\n",
       "-0.028005        1\n",
       "-0.001744        1\n",
       "-0.000129        1\n",
       " 0.022726        1\n",
       "Name: FLOORSMIN_MEDI, Length: 208689, dtype: int64"
      ]
     },
     "execution_count": 179,
     "metadata": {},
     "output_type": "execute_result"
    }
   ],
   "source": [
    "app_train['FLOORSMIN_MEDI'].value_counts()"
   ]
  },
  {
   "cell_type": "markdown",
   "id": "8ac059d4",
   "metadata": {},
   "source": [
    "### LANDAREA_MEDI"
   ]
  },
  {
   "cell_type": "code",
   "execution_count": 180,
   "id": "fe1195a9",
   "metadata": {},
   "outputs": [
    {
     "data": {
      "text/plain": [
       "0"
      ]
     },
     "execution_count": 180,
     "metadata": {},
     "output_type": "execute_result"
    }
   ],
   "source": [
    "app_train['LANDAREA_MEDI'].isnull().sum()"
   ]
  },
  {
   "cell_type": "code",
   "execution_count": 181,
   "id": "0f91433f",
   "metadata": {},
   "outputs": [
    {
     "data": {
      "text/plain": [
       "-1.281586    15919\n",
       "-0.913074      197\n",
       "-0.055758      194\n",
       "-0.361260      186\n",
       "-0.974174      180\n",
       "             ...  \n",
       "-0.003196        1\n",
       "-0.001868        1\n",
       " 0.004975        1\n",
       "-0.005453        1\n",
       "-0.032894        1\n",
       "Name: LANDAREA_MEDI, Length: 186150, dtype: int64"
      ]
     },
     "execution_count": 181,
     "metadata": {},
     "output_type": "execute_result"
    }
   ],
   "source": [
    "app_train['LANDAREA_MEDI'].value_counts()"
   ]
  },
  {
   "cell_type": "markdown",
   "id": "c1aa7bb9",
   "metadata": {},
   "source": [
    "### LIVINGAPARTMENTS_MEDI"
   ]
  },
  {
   "cell_type": "code",
   "execution_count": 182,
   "id": "29bfe229",
   "metadata": {},
   "outputs": [
    {
     "data": {
      "text/plain": [
       "0"
      ]
     },
     "execution_count": 182,
     "metadata": {},
     "output_type": "execute_result"
    }
   ],
   "source": [
    "app_train['LIVINGAPARTMENTS_MEDI'].isnull().sum()"
   ]
  },
  {
   "cell_type": "code",
   "execution_count": 183,
   "id": "151eb5fb",
   "metadata": {},
   "outputs": [
    {
     "data": {
      "text/plain": [
       "-0.951649    4500\n",
       "-0.627549    4497\n",
       "-0.464551    2926\n",
       "-0.788651    2708\n",
       "-0.303449    2014\n",
       "             ... \n",
       "-0.001744       1\n",
       "-0.004158       1\n",
       "-0.074350       1\n",
       "-0.040483       1\n",
       "-0.059082       1\n",
       "Name: LIVINGAPARTMENTS_MEDI, Length: 211296, dtype: int64"
      ]
     },
     "execution_count": 183,
     "metadata": {},
     "output_type": "execute_result"
    }
   ],
   "source": [
    "app_train['LIVINGAPARTMENTS_MEDI'].value_counts()"
   ]
  },
  {
   "cell_type": "markdown",
   "id": "c8eaa936",
   "metadata": {},
   "source": [
    "### LIVINGAREA_MEDI"
   ]
  },
  {
   "cell_type": "code",
   "execution_count": 184,
   "id": "dad52677",
   "metadata": {},
   "outputs": [
    {
     "data": {
      "text/plain": [
       "0"
      ]
     },
     "execution_count": 184,
     "metadata": {},
     "output_type": "execute_result"
    }
   ],
   "source": [
    "app_train['LIVINGAREA_MEDI'].isnull().sum()"
   ]
  },
  {
   "cell_type": "code",
   "execution_count": 185,
   "id": "a274c162",
   "metadata": {},
   "outputs": [
    {
     "data": {
      "text/plain": [
       "-1.369232     299\n",
       "-0.677600     239\n",
       "-0.715463     234\n",
       "-0.712938     233\n",
       "-0.711676     232\n",
       "             ... \n",
       "-0.001497       1\n",
       "-0.003467       1\n",
       " 0.001055       1\n",
       " 0.005339       1\n",
       " 10.551334      1\n",
       "Name: LIVINGAREA_MEDI, Length: 159631, dtype: int64"
      ]
     },
     "execution_count": 185,
     "metadata": {},
     "output_type": "execute_result"
    }
   ],
   "source": [
    "app_train['LIVINGAREA_MEDI'].value_counts()"
   ]
  },
  {
   "cell_type": "markdown",
   "id": "4225cf8d",
   "metadata": {},
   "source": [
    "### NONLIVINGAPARTMENTS_MEDI"
   ]
  },
  {
   "cell_type": "code",
   "execution_count": 186,
   "id": "0d583313",
   "metadata": {},
   "outputs": [
    {
     "data": {
      "text/plain": [
       "0"
      ]
     },
     "execution_count": 186,
     "metadata": {},
     "output_type": "execute_result"
    }
   ],
   "source": [
    "app_train['NONLIVINGAPARTMENTS_MEDI'].isnull().sum()"
   ]
  },
  {
   "cell_type": "code",
   "execution_count": 187,
   "id": "ee47842d",
   "metadata": {},
   "outputs": [
    {
     "data": {
      "text/plain": [
       "-0.329781    56097\n",
       "-0.181013    14126\n",
       "-0.032245     6493\n",
       " 0.112708     3788\n",
       " 0.261476     2557\n",
       "             ...  \n",
       " 0.001767        1\n",
       "-0.009101        1\n",
       " 0.004598        1\n",
       " 0.001605        1\n",
       "-0.011858        1\n",
       "Name: NONLIVINGAPARTMENTS_MEDI, Length: 213728, dtype: int64"
      ]
     },
     "execution_count": 187,
     "metadata": {},
     "output_type": "execute_result"
    }
   ],
   "source": [
    "app_train['NONLIVINGAPARTMENTS_MEDI'].value_counts()"
   ]
  },
  {
   "cell_type": "markdown",
   "id": "e341be29",
   "metadata": {},
   "source": [
    "### NONLIVINGAREA_MEDI"
   ]
  },
  {
   "cell_type": "code",
   "execution_count": 188,
   "id": "04a056bb",
   "metadata": {},
   "outputs": [
    {
     "data": {
      "text/plain": [
       "0"
      ]
     },
     "execution_count": 188,
     "metadata": {},
     "output_type": "execute_result"
    }
   ],
   "source": [
    "app_train['NONLIVINGAREA_MEDI'].isnull().sum()"
   ]
  },
  {
   "cell_type": "code",
   "execution_count": 189,
   "id": "5d63341e",
   "metadata": {},
   "outputs": [
    {
     "data": {
      "text/plain": [
       "-0.600059    60954\n",
       "-0.574514      539\n",
       "-0.553227      478\n",
       "-0.521295      456\n",
       "-0.506394      431\n",
       "             ...  \n",
       "-0.000063        1\n",
       "-0.000881        1\n",
       " 0.004084        1\n",
       " 0.003289        1\n",
       "-0.014939        1\n",
       "Name: NONLIVINGAREA_MEDI, Length: 173005, dtype: int64"
      ]
     },
     "execution_count": 189,
     "metadata": {},
     "output_type": "execute_result"
    }
   ],
   "source": [
    "app_train['NONLIVINGAREA_MEDI'].value_counts()"
   ]
  },
  {
   "cell_type": "markdown",
   "id": "45beb5ed",
   "metadata": {},
   "source": [
    "### FONDKAPREMONT_MODE"
   ]
  },
  {
   "cell_type": "code",
   "execution_count": 190,
   "id": "73f74fd1",
   "metadata": {},
   "outputs": [
    {
     "data": {
      "text/plain": [
       "0"
      ]
     },
     "execution_count": 190,
     "metadata": {},
     "output_type": "execute_result"
    }
   ],
   "source": [
    "app_train['FONDKAPREMONT_MODE'].isnull().sum()"
   ]
  },
  {
   "cell_type": "code",
   "execution_count": 191,
   "id": "7e36889f",
   "metadata": {},
   "outputs": [
    {
     "data": {
      "text/plain": [
       "1    210295\n",
       "0     73830\n",
       "3     12080\n",
       "4      5687\n",
       "2      5619\n",
       "Name: FONDKAPREMONT_MODE, dtype: int64"
      ]
     },
     "execution_count": 191,
     "metadata": {},
     "output_type": "execute_result"
    }
   ],
   "source": [
    "app_train['FONDKAPREMONT_MODE'].value_counts()"
   ]
  },
  {
   "cell_type": "code",
   "execution_count": 192,
   "id": "4ef8539c",
   "metadata": {},
   "outputs": [],
   "source": [
    "### HOUSETYPE_MODE"
   ]
  },
  {
   "cell_type": "code",
   "execution_count": 193,
   "id": "f87c13d3",
   "metadata": {},
   "outputs": [
    {
     "data": {
      "text/plain": [
       "0"
      ]
     },
     "execution_count": 193,
     "metadata": {},
     "output_type": "execute_result"
    }
   ],
   "source": [
    "app_train['HOUSETYPE_MODE'].isnull().sum()"
   ]
  },
  {
   "cell_type": "code",
   "execution_count": 194,
   "id": "57b21c23",
   "metadata": {},
   "outputs": [
    {
     "data": {
      "text/plain": [
       "1    154297\n",
       "0    150503\n",
       "3      1499\n",
       "2      1212\n",
       "Name: HOUSETYPE_MODE, dtype: int64"
      ]
     },
     "execution_count": 194,
     "metadata": {},
     "output_type": "execute_result"
    }
   ],
   "source": [
    "app_train['HOUSETYPE_MODE'].value_counts()"
   ]
  },
  {
   "cell_type": "markdown",
   "id": "6a53c1e9",
   "metadata": {},
   "source": [
    "### TOTALAREA_MODE"
   ]
  },
  {
   "cell_type": "code",
   "execution_count": 195,
   "id": "4aa26f33",
   "metadata": {},
   "outputs": [
    {
     "data": {
      "text/plain": [
       "0"
      ]
     },
     "execution_count": 195,
     "metadata": {},
     "output_type": "execute_result"
    }
   ],
   "source": [
    "app_train['TOTALAREA_MODE'].isnull().sum()"
   ]
  },
  {
   "cell_type": "code",
   "execution_count": 196,
   "id": "925d0ff1",
   "metadata": {},
   "outputs": [
    {
     "data": {
      "text/plain": [
       "-1.323867    582\n",
       "-0.586737    247\n",
       "-0.616481    230\n",
       "-0.606135    227\n",
       "-0.615187    227\n",
       "            ... \n",
       "-0.050656      1\n",
       "-0.005495      1\n",
       "-0.000116      1\n",
       " 0.045986      1\n",
       " 8.983027      1\n",
       "Name: TOTALAREA_MODE, Length: 153547, dtype: int64"
      ]
     },
     "execution_count": 196,
     "metadata": {},
     "output_type": "execute_result"
    }
   ],
   "source": [
    "app_train['TOTALAREA_MODE'].value_counts()"
   ]
  },
  {
   "cell_type": "markdown",
   "id": "b62d09d3",
   "metadata": {},
   "source": [
    "### WALLSMATERIAL_MODE"
   ]
  },
  {
   "cell_type": "code",
   "execution_count": 197,
   "id": "db1e0755",
   "metadata": {},
   "outputs": [
    {
     "data": {
      "text/plain": [
       "0"
      ]
     },
     "execution_count": 197,
     "metadata": {},
     "output_type": "execute_result"
    }
   ],
   "source": [
    "app_train['WALLSMATERIAL_MODE'].isnull().sum()"
   ]
  },
  {
   "cell_type": "code",
   "execution_count": 198,
   "id": "5fb26311",
   "metadata": {},
   "outputs": [
    {
     "data": {
      "text/plain": [
       "2    156341\n",
       "3     66040\n",
       "0     64815\n",
       "1      9253\n",
       "5      5362\n",
       "4      2296\n",
       "7      1779\n",
       "6      1625\n",
       "Name: WALLSMATERIAL_MODE, dtype: int64"
      ]
     },
     "execution_count": 198,
     "metadata": {},
     "output_type": "execute_result"
    }
   ],
   "source": [
    "app_train['WALLSMATERIAL_MODE'].value_counts()"
   ]
  },
  {
   "cell_type": "markdown",
   "id": "ecf91993",
   "metadata": {},
   "source": [
    "### EMERGENCYSTATE_MODE"
   ]
  },
  {
   "cell_type": "code",
   "execution_count": 199,
   "id": "6e272639",
   "metadata": {},
   "outputs": [
    {
     "data": {
      "text/plain": [
       "0"
      ]
     },
     "execution_count": 199,
     "metadata": {},
     "output_type": "execute_result"
    }
   ],
   "source": [
    "app_train['EMERGENCYSTATE_MODE'].isnull().sum()"
   ]
  },
  {
   "cell_type": "code",
   "execution_count": 200,
   "id": "41ab8f21",
   "metadata": {},
   "outputs": [
    {
     "data": {
      "text/plain": [
       "0    159428\n",
       "1    145755\n",
       "2      2328\n",
       "Name: EMERGENCYSTATE_MODE, dtype: int64"
      ]
     },
     "execution_count": 200,
     "metadata": {},
     "output_type": "execute_result"
    }
   ],
   "source": [
    "app_train['EMERGENCYSTATE_MODE'].value_counts()"
   ]
  },
  {
   "cell_type": "markdown",
   "id": "eb1389ce",
   "metadata": {},
   "source": [
    "### OBS_30_CNT_SOCIAL_CIRCLE"
   ]
  },
  {
   "cell_type": "code",
   "execution_count": 201,
   "id": "2db087d3",
   "metadata": {},
   "outputs": [
    {
     "data": {
      "text/plain": [
       "0"
      ]
     },
     "execution_count": 201,
     "metadata": {},
     "output_type": "execute_result"
    }
   ],
   "source": [
    "app_train['OBS_30_CNT_SOCIAL_CIRCLE'].isnull().sum()"
   ]
  },
  {
   "cell_type": "code",
   "execution_count": 202,
   "id": "c05a6e79",
   "metadata": {},
   "outputs": [
    {
     "data": {
      "text/plain": [
       "-0.593345    163910\n",
       "-0.176156     48783\n",
       " 0.241033     29808\n",
       " 0.658222     20322\n",
       " 1.075411     14143\n",
       "              ...  \n",
       "-0.000774         1\n",
       " 0.000733         1\n",
       " 0.000501         1\n",
       " 0.000114         1\n",
       "-0.000616         1\n",
       "Name: OBS_30_CNT_SOCIAL_CIRCLE, Length: 1054, dtype: int64"
      ]
     },
     "execution_count": 202,
     "metadata": {},
     "output_type": "execute_result"
    }
   ],
   "source": [
    "app_train['OBS_30_CNT_SOCIAL_CIRCLE'].value_counts()"
   ]
  },
  {
   "cell_type": "markdown",
   "id": "eba621b1",
   "metadata": {},
   "source": [
    "### DEF_30_CNT_SOCIAL_CIRCLE"
   ]
  },
  {
   "cell_type": "code",
   "execution_count": 203,
   "id": "ec18b373",
   "metadata": {},
   "outputs": [
    {
     "data": {
      "text/plain": [
       "0"
      ]
     },
     "execution_count": 203,
     "metadata": {},
     "output_type": "execute_result"
    }
   ],
   "source": [
    "app_train['DEF_30_CNT_SOCIAL_CIRCLE'].isnull().sum()"
   ]
  },
  {
   "cell_type": "code",
   "execution_count": 204,
   "id": "0038f1fd",
   "metadata": {},
   "outputs": [
    {
     "data": {
      "text/plain": [
       "-0.321591    271324\n",
       " 1.920782     28328\n",
       " 4.163155      5323\n",
       " 6.405528      1192\n",
       " 8.647901       253\n",
       "              ...  \n",
       "-0.040890         1\n",
       " 0.024667         1\n",
       "-0.042425         1\n",
       "-0.007389         1\n",
       " 0.028872         1\n",
       "Name: DEF_30_CNT_SOCIAL_CIRCLE, Length: 1031, dtype: int64"
      ]
     },
     "execution_count": 204,
     "metadata": {},
     "output_type": "execute_result"
    }
   ],
   "source": [
    "app_train['DEF_30_CNT_SOCIAL_CIRCLE'].value_counts()"
   ]
  },
  {
   "cell_type": "markdown",
   "id": "9f9a63d6",
   "metadata": {},
   "source": [
    "### OBS_60_CNT_SOCIAL_CIRCLE"
   ]
  },
  {
   "cell_type": "code",
   "execution_count": 205,
   "id": "db40dc57",
   "metadata": {},
   "outputs": [
    {
     "data": {
      "text/plain": [
       "0"
      ]
     },
     "execution_count": 205,
     "metadata": {},
     "output_type": "execute_result"
    }
   ],
   "source": [
    "app_train['OBS_60_CNT_SOCIAL_CIRCLE'].isnull().sum()"
   ]
  },
  {
   "cell_type": "code",
   "execution_count": 206,
   "id": "7fc91e61",
   "metadata": {},
   "outputs": [
    {
     "data": {
      "text/plain": [
       "-0.591490    164666\n",
       "-0.170588     48870\n",
       " 0.250315     29766\n",
       " 0.671218     20215\n",
       " 1.092121     13946\n",
       "              ...  \n",
       "-0.000491         1\n",
       "-0.000219         1\n",
       " 0.000047         1\n",
       " 0.000517         1\n",
       " 0.000155         1\n",
       "Name: OBS_60_CNT_SOCIAL_CIRCLE, Length: 1054, dtype: int64"
      ]
     },
     "execution_count": 206,
     "metadata": {},
     "output_type": "execute_result"
    }
   ],
   "source": [
    "app_train['OBS_60_CNT_SOCIAL_CIRCLE'].value_counts()"
   ]
  },
  {
   "cell_type": "markdown",
   "id": "e89d0426",
   "metadata": {},
   "source": [
    "### DEF_60_CNT_SOCIAL_CIRCLE"
   ]
  },
  {
   "cell_type": "code",
   "execution_count": 207,
   "id": "fe09bad4",
   "metadata": {},
   "outputs": [
    {
     "data": {
      "text/plain": [
       "0"
      ]
     },
     "execution_count": 207,
     "metadata": {},
     "output_type": "execute_result"
    }
   ],
   "source": [
    "app_train['DEF_60_CNT_SOCIAL_CIRCLE'].isnull().sum()"
   ]
  },
  {
   "cell_type": "code",
   "execution_count": 208,
   "id": "42f84179",
   "metadata": {},
   "outputs": [
    {
     "data": {
      "text/plain": [
       "-0.276607     280721\n",
       " 2.488201      21841\n",
       " 5.253008       3170\n",
       " 8.017815        598\n",
       " 10.782623       135\n",
       "               ...  \n",
       "-0.042536          1\n",
       " 0.030110          1\n",
       "-0.028902          1\n",
       "-0.022815          1\n",
       " 0.041527          1\n",
       "Name: DEF_60_CNT_SOCIAL_CIRCLE, Length: 1030, dtype: int64"
      ]
     },
     "execution_count": 208,
     "metadata": {},
     "output_type": "execute_result"
    }
   ],
   "source": [
    "app_train['DEF_60_CNT_SOCIAL_CIRCLE'].value_counts()"
   ]
  },
  {
   "cell_type": "markdown",
   "id": "78de0e22",
   "metadata": {},
   "source": [
    "### DAYS_LAST_PHONE_CHANGE"
   ]
  },
  {
   "cell_type": "code",
   "execution_count": 209,
   "id": "3674c4ef",
   "metadata": {},
   "outputs": [
    {
     "data": {
      "text/plain": [
       "0"
      ]
     },
     "execution_count": 209,
     "metadata": {},
     "output_type": "execute_result"
    }
   ],
   "source": [
    "app_train['DAYS_LAST_PHONE_CHANGE'].isnull().sum()"
   ]
  },
  {
   "cell_type": "code",
   "execution_count": 210,
   "id": "29d8a93a",
   "metadata": {},
   "outputs": [
    {
     "data": {
      "text/plain": [
       " 1.164549    37672\n",
       " 1.163339     2812\n",
       " 1.162130     2318\n",
       " 1.160920     1763\n",
       " 1.159711     1285\n",
       "             ...  \n",
       "-3.326223        1\n",
       "-3.646733        1\n",
       "-3.652781        1\n",
       "-3.357669        1\n",
       "-3.114565        1\n",
       "Name: DAYS_LAST_PHONE_CHANGE, Length: 3774, dtype: int64"
      ]
     },
     "execution_count": 210,
     "metadata": {},
     "output_type": "execute_result"
    }
   ],
   "source": [
    "app_train['DAYS_LAST_PHONE_CHANGE'].value_counts()"
   ]
  },
  {
   "cell_type": "markdown",
   "id": "137454df",
   "metadata": {},
   "source": [
    "### FLAG_DOCUMENT_2"
   ]
  },
  {
   "cell_type": "code",
   "execution_count": 211,
   "id": "3c899216",
   "metadata": {},
   "outputs": [
    {
     "data": {
      "text/plain": [
       "0"
      ]
     },
     "execution_count": 211,
     "metadata": {},
     "output_type": "execute_result"
    }
   ],
   "source": [
    "app_train['FLAG_DOCUMENT_2'].isnull().sum()"
   ]
  },
  {
   "cell_type": "code",
   "execution_count": 212,
   "id": "aae17523",
   "metadata": {},
   "outputs": [
    {
     "data": {
      "text/plain": [
       "-0.006502      307498\n",
       " 153.797569        13\n",
       "Name: FLAG_DOCUMENT_2, dtype: int64"
      ]
     },
     "execution_count": 212,
     "metadata": {},
     "output_type": "execute_result"
    }
   ],
   "source": [
    "app_train['FLAG_DOCUMENT_2'].value_counts()"
   ]
  },
  {
   "cell_type": "markdown",
   "id": "0f1b781b",
   "metadata": {},
   "source": [
    "### FLAG_DOCUMENT_3"
   ]
  },
  {
   "cell_type": "code",
   "execution_count": 213,
   "id": "9b6df878",
   "metadata": {},
   "outputs": [
    {
     "data": {
      "text/plain": [
       "0"
      ]
     },
     "execution_count": 213,
     "metadata": {},
     "output_type": "execute_result"
    }
   ],
   "source": [
    "app_train['FLAG_DOCUMENT_3'].isnull().sum()"
   ]
  },
  {
   "cell_type": "code",
   "execution_count": 214,
   "id": "50ea30ec",
   "metadata": {},
   "outputs": [
    {
     "data": {
      "text/plain": [
       " 0.639065    218340\n",
       "-1.564786     89171\n",
       "Name: FLAG_DOCUMENT_3, dtype: int64"
      ]
     },
     "execution_count": 214,
     "metadata": {},
     "output_type": "execute_result"
    }
   ],
   "source": [
    "app_train['FLAG_DOCUMENT_3'].value_counts()"
   ]
  },
  {
   "cell_type": "markdown",
   "id": "3ef939a2",
   "metadata": {},
   "source": [
    "### FLAG_DOCUMENT_4"
   ]
  },
  {
   "cell_type": "code",
   "execution_count": 215,
   "id": "c2b8dec8",
   "metadata": {},
   "outputs": [
    {
     "data": {
      "text/plain": [
       "0"
      ]
     },
     "execution_count": 215,
     "metadata": {},
     "output_type": "execute_result"
    }
   ],
   "source": [
    "app_train['FLAG_DOCUMENT_4'].isnull().sum()"
   ]
  },
  {
   "cell_type": "code",
   "execution_count": 216,
   "id": "79b8ff37",
   "metadata": {},
   "outputs": [
    {
     "data": {
      "text/plain": [
       "-0.009017      307486\n",
       " 110.902840        25\n",
       "Name: FLAG_DOCUMENT_4, dtype: int64"
      ]
     },
     "execution_count": 216,
     "metadata": {},
     "output_type": "execute_result"
    }
   ],
   "source": [
    "app_train['FLAG_DOCUMENT_4'].value_counts()"
   ]
  },
  {
   "cell_type": "markdown",
   "id": "4d03a2d2",
   "metadata": {},
   "source": [
    "### FLAG_DOCUMENT_5"
   ]
  },
  {
   "cell_type": "code",
   "execution_count": 217,
   "id": "2e816104",
   "metadata": {},
   "outputs": [
    {
     "data": {
      "text/plain": [
       "0"
      ]
     },
     "execution_count": 217,
     "metadata": {},
     "output_type": "execute_result"
    }
   ],
   "source": [
    "app_train['FLAG_DOCUMENT_5'].isnull().sum()"
   ]
  },
  {
   "cell_type": "code",
   "execution_count": 218,
   "id": "77d6a18c",
   "metadata": {},
   "outputs": [
    {
     "data": {
      "text/plain": [
       "-0.123882    302863\n",
       " 8.072165      4648\n",
       "Name: FLAG_DOCUMENT_5, dtype: int64"
      ]
     },
     "execution_count": 218,
     "metadata": {},
     "output_type": "execute_result"
    }
   ],
   "source": [
    "app_train['FLAG_DOCUMENT_5'].value_counts()"
   ]
  },
  {
   "cell_type": "markdown",
   "id": "2337b369",
   "metadata": {},
   "source": [
    "### FLAG_DOCUMENT_6"
   ]
  },
  {
   "cell_type": "code",
   "execution_count": 219,
   "id": "352dc4b5",
   "metadata": {},
   "outputs": [
    {
     "data": {
      "text/plain": [
       "0"
      ]
     },
     "execution_count": 219,
     "metadata": {},
     "output_type": "execute_result"
    }
   ],
   "source": [
    "app_train['FLAG_DOCUMENT_6'].isnull().sum()"
   ]
  },
  {
   "cell_type": "code",
   "execution_count": 220,
   "id": "0b0ab456",
   "metadata": {},
   "outputs": [
    {
     "data": {
      "text/plain": [
       "-0.310738    280433\n",
       " 3.218150     27078\n",
       "Name: FLAG_DOCUMENT_6, dtype: int64"
      ]
     },
     "execution_count": 220,
     "metadata": {},
     "output_type": "execute_result"
    }
   ],
   "source": [
    "app_train['FLAG_DOCUMENT_6'].value_counts()"
   ]
  },
  {
   "cell_type": "markdown",
   "id": "b1535dd3",
   "metadata": {},
   "source": [
    "### FLAG_DOCUMENT_7"
   ]
  },
  {
   "cell_type": "code",
   "execution_count": 221,
   "id": "8060ad3d",
   "metadata": {},
   "outputs": [
    {
     "data": {
      "text/plain": [
       "0"
      ]
     },
     "execution_count": 221,
     "metadata": {},
     "output_type": "execute_result"
    }
   ],
   "source": [
    "app_train['FLAG_DOCUMENT_7'].isnull().sum()"
   ]
  },
  {
   "cell_type": "code",
   "execution_count": 222,
   "id": "036f65fd",
   "metadata": {},
   "outputs": [
    {
     "data": {
      "text/plain": [
       "-0.013853     307452\n",
       " 72.187609        59\n",
       "Name: FLAG_DOCUMENT_7, dtype: int64"
      ]
     },
     "execution_count": 222,
     "metadata": {},
     "output_type": "execute_result"
    }
   ],
   "source": [
    "app_train['FLAG_DOCUMENT_7'].value_counts()"
   ]
  },
  {
   "cell_type": "markdown",
   "id": "0eb2f299",
   "metadata": {},
   "source": [
    "### FLAG_DOCUMENT_8"
   ]
  },
  {
   "cell_type": "code",
   "execution_count": 223,
   "id": "69914f7a",
   "metadata": {},
   "outputs": [
    {
     "data": {
      "text/plain": [
       "0"
      ]
     },
     "execution_count": 223,
     "metadata": {},
     "output_type": "execute_result"
    }
   ],
   "source": [
    "app_train['FLAG_DOCUMENT_8'].isnull().sum()"
   ]
  },
  {
   "cell_type": "code",
   "execution_count": 224,
   "id": "13991449",
   "metadata": {},
   "outputs": [
    {
     "data": {
      "text/plain": [
       "-0.297632    282487\n",
       " 3.359858     25024\n",
       "Name: FLAG_DOCUMENT_8, dtype: int64"
      ]
     },
     "execution_count": 224,
     "metadata": {},
     "output_type": "execute_result"
    }
   ],
   "source": [
    "app_train['FLAG_DOCUMENT_8'].value_counts()"
   ]
  },
  {
   "cell_type": "markdown",
   "id": "71d1428e",
   "metadata": {},
   "source": [
    "### FLAG_DOCUMENT_9"
   ]
  },
  {
   "cell_type": "code",
   "execution_count": 225,
   "id": "d12b0e6f",
   "metadata": {},
   "outputs": [
    {
     "data": {
      "text/plain": [
       "0"
      ]
     },
     "execution_count": 225,
     "metadata": {},
     "output_type": "execute_result"
    }
   ],
   "source": [
    "app_train['FLAG_DOCUMENT_9'].isnull().sum()"
   ]
  },
  {
   "cell_type": "code",
   "execution_count": 226,
   "id": "bbe99bff",
   "metadata": {},
   "outputs": [
    {
     "data": {
      "text/plain": [
       "-0.062538     306313\n",
       " 15.990215      1198\n",
       "Name: FLAG_DOCUMENT_9, dtype: int64"
      ]
     },
     "execution_count": 226,
     "metadata": {},
     "output_type": "execute_result"
    }
   ],
   "source": [
    "app_train['FLAG_DOCUMENT_9'].value_counts()"
   ]
  },
  {
   "cell_type": "markdown",
   "id": "b1eb92b9",
   "metadata": {},
   "source": [
    "### FLAG_DOCUMENT_10"
   ]
  },
  {
   "cell_type": "code",
   "execution_count": 227,
   "id": "6ff53f36",
   "metadata": {},
   "outputs": [
    {
     "data": {
      "text/plain": [
       "0"
      ]
     },
     "execution_count": 227,
     "metadata": {},
     "output_type": "execute_result"
    }
   ],
   "source": [
    "app_train['FLAG_DOCUMENT_10'].isnull().sum()"
   ]
  },
  {
   "cell_type": "code",
   "execution_count": 228,
   "id": "13c6f4bc",
   "metadata": {},
   "outputs": [
    {
     "data": {
      "text/plain": [
       "-0.004771      307504\n",
       " 209.592802         7\n",
       "Name: FLAG_DOCUMENT_10, dtype: int64"
      ]
     },
     "execution_count": 228,
     "metadata": {},
     "output_type": "execute_result"
    }
   ],
   "source": [
    "app_train['FLAG_DOCUMENT_10'].value_counts()"
   ]
  },
  {
   "cell_type": "markdown",
   "id": "86cde54f",
   "metadata": {},
   "source": [
    "### FLAG_DOCUMENT_11"
   ]
  },
  {
   "cell_type": "code",
   "execution_count": 229,
   "id": "e5ce11c7",
   "metadata": {},
   "outputs": [
    {
     "data": {
      "text/plain": [
       "0"
      ]
     },
     "execution_count": 229,
     "metadata": {},
     "output_type": "execute_result"
    }
   ],
   "source": [
    "app_train['FLAG_DOCUMENT_11'].isnull().sum()"
   ]
  },
  {
   "cell_type": "code",
   "execution_count": 230,
   "id": "44bf859f",
   "metadata": {},
   "outputs": [
    {
     "data": {
      "text/plain": [
       "-0.062669     306308\n",
       " 15.956820      1203\n",
       "Name: FLAG_DOCUMENT_11, dtype: int64"
      ]
     },
     "execution_count": 230,
     "metadata": {},
     "output_type": "execute_result"
    }
   ],
   "source": [
    "app_train['FLAG_DOCUMENT_11'].value_counts()"
   ]
  },
  {
   "cell_type": "markdown",
   "id": "b82f8a21",
   "metadata": {},
   "source": [
    "### FLAG_DOCUMENT_12"
   ]
  },
  {
   "cell_type": "code",
   "execution_count": 231,
   "id": "8f2112e0",
   "metadata": {},
   "outputs": [
    {
     "data": {
      "text/plain": [
       "0"
      ]
     },
     "execution_count": 231,
     "metadata": {},
     "output_type": "execute_result"
    }
   ],
   "source": [
    "app_train['FLAG_DOCUMENT_12'].isnull().sum()"
   ]
  },
  {
   "cell_type": "code",
   "execution_count": 232,
   "id": "6cd64641",
   "metadata": {},
   "outputs": [
    {
     "data": {
      "text/plain": [
       "-0.002550      307509\n",
       " 392.115417         2\n",
       "Name: FLAG_DOCUMENT_12, dtype: int64"
      ]
     },
     "execution_count": 232,
     "metadata": {},
     "output_type": "execute_result"
    }
   ],
   "source": [
    "app_train['FLAG_DOCUMENT_12'].value_counts()"
   ]
  },
  {
   "cell_type": "markdown",
   "id": "dd381e80",
   "metadata": {},
   "source": [
    "### FLAG_DOCUMENT_13"
   ]
  },
  {
   "cell_type": "code",
   "execution_count": 233,
   "id": "42c422e3",
   "metadata": {},
   "outputs": [
    {
     "data": {
      "text/plain": [
       "0"
      ]
     },
     "execution_count": 233,
     "metadata": {},
     "output_type": "execute_result"
    }
   ],
   "source": [
    "app_train['FLAG_DOCUMENT_13'].isnull().sum()"
   ]
  },
  {
   "cell_type": "code",
   "execution_count": 234,
   "id": "1aac6a04",
   "metadata": {},
   "outputs": [
    {
     "data": {
      "text/plain": [
       "-0.059477     306427\n",
       " 16.813142      1084\n",
       "Name: FLAG_DOCUMENT_13, dtype: int64"
      ]
     },
     "execution_count": 234,
     "metadata": {},
     "output_type": "execute_result"
    }
   ],
   "source": [
    "app_train['FLAG_DOCUMENT_13'].value_counts()"
   ]
  },
  {
   "cell_type": "markdown",
   "id": "d60e06f2",
   "metadata": {},
   "source": [
    "### FLAG_DOCUMENT_14"
   ]
  },
  {
   "cell_type": "code",
   "execution_count": 235,
   "id": "1cc52f6c",
   "metadata": {},
   "outputs": [
    {
     "data": {
      "text/plain": [
       "0"
      ]
     },
     "execution_count": 235,
     "metadata": {},
     "output_type": "execute_result"
    }
   ],
   "source": [
    "app_train['FLAG_DOCUMENT_14'].isnull().sum()"
   ]
  },
  {
   "cell_type": "code",
   "execution_count": 236,
   "id": "aa2aaf85",
   "metadata": {},
   "outputs": [
    {
     "data": {
      "text/plain": [
       "-0.054269     306608\n",
       " 18.426713       903\n",
       "Name: FLAG_DOCUMENT_14, dtype: int64"
      ]
     },
     "execution_count": 236,
     "metadata": {},
     "output_type": "execute_result"
    }
   ],
   "source": [
    "app_train['FLAG_DOCUMENT_14'].value_counts()"
   ]
  },
  {
   "cell_type": "markdown",
   "id": "170f45bd",
   "metadata": {},
   "source": [
    "### FLAG_DOCUMENT_15"
   ]
  },
  {
   "cell_type": "code",
   "execution_count": 237,
   "id": "ad3cbb6f",
   "metadata": {},
   "outputs": [
    {
     "data": {
      "text/plain": [
       "0"
      ]
     },
     "execution_count": 237,
     "metadata": {},
     "output_type": "execute_result"
    }
   ],
   "source": [
    "app_train['FLAG_DOCUMENT_15'].isnull().sum()"
   ]
  },
  {
   "cell_type": "code",
   "execution_count": 238,
   "id": "ada60447",
   "metadata": {},
   "outputs": [
    {
     "data": {
      "text/plain": [
       "-0.034802     307139\n",
       " 28.733995       372\n",
       "Name: FLAG_DOCUMENT_15, dtype: int64"
      ]
     },
     "execution_count": 238,
     "metadata": {},
     "output_type": "execute_result"
    }
   ],
   "source": [
    "app_train['FLAG_DOCUMENT_15'].value_counts()"
   ]
  },
  {
   "cell_type": "markdown",
   "id": "080166c3",
   "metadata": {},
   "source": [
    "### FLAG_DOCUMENT_16"
   ]
  },
  {
   "cell_type": "code",
   "execution_count": 239,
   "id": "f2098625",
   "metadata": {},
   "outputs": [
    {
     "data": {
      "text/plain": [
       "0"
      ]
     },
     "execution_count": 239,
     "metadata": {},
     "output_type": "execute_result"
    }
   ],
   "source": [
    "app_train['FLAG_DOCUMENT_16'].isnull().sum()"
   ]
  },
  {
   "cell_type": "code",
   "execution_count": 240,
   "id": "df349d02",
   "metadata": {},
   "outputs": [
    {
     "data": {
      "text/plain": [
       "-0.100138    304458\n",
       " 9.986201      3053\n",
       "Name: FLAG_DOCUMENT_16, dtype: int64"
      ]
     },
     "execution_count": 240,
     "metadata": {},
     "output_type": "execute_result"
    }
   ],
   "source": [
    "app_train['FLAG_DOCUMENT_16'].value_counts()"
   ]
  },
  {
   "cell_type": "markdown",
   "id": "4d76ebb0",
   "metadata": {},
   "source": [
    "### FLAG_DOCUMENT_17"
   ]
  },
  {
   "cell_type": "code",
   "execution_count": 241,
   "id": "3f7a76d3",
   "metadata": {},
   "outputs": [
    {
     "data": {
      "text/plain": [
       "0"
      ]
     },
     "execution_count": 241,
     "metadata": {},
     "output_type": "execute_result"
    }
   ],
   "source": [
    "app_train['FLAG_DOCUMENT_17'].isnull().sum()"
   ]
  },
  {
   "cell_type": "code",
   "execution_count": 242,
   "id": "a6831d83",
   "metadata": {},
   "outputs": [
    {
     "data": {
      "text/plain": [
       "-0.016332     307429\n",
       " 61.230173        82\n",
       "Name: FLAG_DOCUMENT_17, dtype: int64"
      ]
     },
     "execution_count": 242,
     "metadata": {},
     "output_type": "execute_result"
    }
   ],
   "source": [
    "app_train['FLAG_DOCUMENT_17'].value_counts()"
   ]
  },
  {
   "cell_type": "markdown",
   "id": "a49620f8",
   "metadata": {},
   "source": [
    "### FLAG_DOCUMENT_18"
   ]
  },
  {
   "cell_type": "code",
   "execution_count": 243,
   "id": "9ddf2fea",
   "metadata": {},
   "outputs": [
    {
     "data": {
      "text/plain": [
       "0"
      ]
     },
     "execution_count": 243,
     "metadata": {},
     "output_type": "execute_result"
    }
   ],
   "source": [
    "app_train['FLAG_DOCUMENT_18'].isnull().sum()"
   ]
  },
  {
   "cell_type": "code",
   "execution_count": 244,
   "id": "f9dd1111",
   "metadata": {},
   "outputs": [
    {
     "data": {
      "text/plain": [
       "-0.090534     305011\n",
       " 11.045560      2500\n",
       "Name: FLAG_DOCUMENT_18, dtype: int64"
      ]
     },
     "execution_count": 244,
     "metadata": {},
     "output_type": "execute_result"
    }
   ],
   "source": [
    "app_train['FLAG_DOCUMENT_18'].value_counts()"
   ]
  },
  {
   "cell_type": "markdown",
   "id": "da65c7c6",
   "metadata": {},
   "source": [
    "### FLAG_DOCUMENT_19"
   ]
  },
  {
   "cell_type": "code",
   "execution_count": 245,
   "id": "59cc6ef0",
   "metadata": {},
   "outputs": [
    {
     "data": {
      "text/plain": [
       "0"
      ]
     },
     "execution_count": 245,
     "metadata": {},
     "output_type": "execute_result"
    }
   ],
   "source": [
    "app_train['FLAG_DOCUMENT_19'].isnull().sum()"
   ]
  },
  {
   "cell_type": "code",
   "execution_count": 246,
   "id": "04b0f005",
   "metadata": {},
   "outputs": [
    {
     "data": {
      "text/plain": [
       "-0.024402     307328\n",
       " 40.980336       183\n",
       "Name: FLAG_DOCUMENT_19, dtype: int64"
      ]
     },
     "execution_count": 246,
     "metadata": {},
     "output_type": "execute_result"
    }
   ],
   "source": [
    "app_train['FLAG_DOCUMENT_19'].value_counts()"
   ]
  },
  {
   "cell_type": "markdown",
   "id": "e20eb520",
   "metadata": {},
   "source": [
    "### FLAG_DOCUMENT_20"
   ]
  },
  {
   "cell_type": "code",
   "execution_count": 247,
   "id": "72ccc978",
   "metadata": {},
   "outputs": [
    {
     "data": {
      "text/plain": [
       "0"
      ]
     },
     "execution_count": 247,
     "metadata": {},
     "output_type": "execute_result"
    }
   ],
   "source": [
    "app_train['FLAG_DOCUMENT_20'].isnull().sum()"
   ]
  },
  {
   "cell_type": "code",
   "execution_count": 248,
   "id": "6e42b0e2",
   "metadata": {},
   "outputs": [
    {
     "data": {
      "text/plain": [
       "-0.022529     307355\n",
       " 44.387209       156\n",
       "Name: FLAG_DOCUMENT_20, dtype: int64"
      ]
     },
     "execution_count": 248,
     "metadata": {},
     "output_type": "execute_result"
    }
   ],
   "source": [
    "app_train['FLAG_DOCUMENT_20'].value_counts()"
   ]
  },
  {
   "cell_type": "markdown",
   "id": "0d9c27f6",
   "metadata": {},
   "source": [
    "### FLAG_DOCUMENT_21"
   ]
  },
  {
   "cell_type": "code",
   "execution_count": 249,
   "id": "8691699c",
   "metadata": {},
   "outputs": [
    {
     "data": {
      "text/plain": [
       "0"
      ]
     },
     "execution_count": 249,
     "metadata": {},
     "output_type": "execute_result"
    }
   ],
   "source": [
    "app_train['FLAG_DOCUMENT_21'].isnull().sum()"
   ]
  },
  {
   "cell_type": "code",
   "execution_count": 250,
   "id": "a22e4133",
   "metadata": {},
   "outputs": [
    {
     "data": {
      "text/plain": [
       "-0.018305     307408\n",
       " 54.630977       103\n",
       "Name: FLAG_DOCUMENT_21, dtype: int64"
      ]
     },
     "execution_count": 250,
     "metadata": {},
     "output_type": "execute_result"
    }
   ],
   "source": [
    "app_train['FLAG_DOCUMENT_21'].value_counts()"
   ]
  },
  {
   "cell_type": "markdown",
   "id": "bb14f2ae",
   "metadata": {},
   "source": [
    "### AMT_REQ_CREDIT_BUREAU_HOUR"
   ]
  },
  {
   "cell_type": "code",
   "execution_count": 251,
   "id": "697aacd2",
   "metadata": {},
   "outputs": [
    {
     "data": {
      "text/plain": [
       "0"
      ]
     },
     "execution_count": 251,
     "metadata": {},
     "output_type": "execute_result"
    }
   ],
   "source": [
    "app_train['AMT_REQ_CREDIT_BUREAU_HOUR'].isnull().sum()"
   ]
  },
  {
   "cell_type": "code",
   "execution_count": 252,
   "id": "794845d7",
   "metadata": {},
   "outputs": [
    {
     "data": {
      "text/plain": [
       "-0.082511     264366\n",
       " 12.739813      1560\n",
       " 25.562138        56\n",
       " 38.384462         9\n",
       "-0.013093          1\n",
       "               ...  \n",
       " 0.020887          1\n",
       "-0.029215          1\n",
       " 0.013570          1\n",
       " 0.029292          1\n",
       "-0.009931          1\n",
       "Name: AMT_REQ_CREDIT_BUREAU_HOUR, Length: 41524, dtype: int64"
      ]
     },
     "execution_count": 252,
     "metadata": {},
     "output_type": "execute_result"
    }
   ],
   "source": [
    "app_train['AMT_REQ_CREDIT_BUREAU_HOUR'].value_counts()"
   ]
  },
  {
   "cell_type": "markdown",
   "id": "3a18ca17",
   "metadata": {},
   "source": [
    "### AMT_REQ_CREDIT_BUREAU_DAY"
   ]
  },
  {
   "cell_type": "code",
   "execution_count": 253,
   "id": "3675be65",
   "metadata": {},
   "outputs": [
    {
     "data": {
      "text/plain": [
       "0"
      ]
     },
     "execution_count": 253,
     "metadata": {},
     "output_type": "execute_result"
    }
   ],
   "source": [
    "app_train['AMT_REQ_CREDIT_BUREAU_DAY'].isnull().sum()"
   ]
  },
  {
   "cell_type": "code",
   "execution_count": 254,
   "id": "38747c2c",
   "metadata": {},
   "outputs": [
    {
     "data": {
      "text/plain": [
       "-0.067550     264503\n",
       " 9.638489       1292\n",
       " 19.344528       106\n",
       " 29.050566        45\n",
       " 38.756605        26\n",
       "               ...  \n",
       "-0.018827          1\n",
       " 0.002111          1\n",
       " 0.009073          1\n",
       "-0.024263          1\n",
       "-0.008724          1\n",
       "Name: AMT_REQ_CREDIT_BUREAU_DAY, Length: 41528, dtype: int64"
      ]
     },
     "execution_count": 254,
     "metadata": {},
     "output_type": "execute_result"
    }
   ],
   "source": [
    "app_train['AMT_REQ_CREDIT_BUREAU_DAY'].value_counts()"
   ]
  },
  {
   "cell_type": "markdown",
   "id": "d5c7113d",
   "metadata": {},
   "source": [
    "### AMT_REQ_CREDIT_BUREAU_WEEK"
   ]
  },
  {
   "cell_type": "code",
   "execution_count": 255,
   "id": "419719de",
   "metadata": {},
   "outputs": [
    {
     "data": {
      "text/plain": [
       "0"
      ]
     },
     "execution_count": 255,
     "metadata": {},
     "output_type": "execute_result"
    }
   ],
   "source": [
    "app_train['AMT_REQ_CREDIT_BUREAU_WEEK'].isnull().sum()"
   ]
  },
  {
   "cell_type": "code",
   "execution_count": 256,
   "id": "13e68cdc",
   "metadata": {},
   "outputs": [
    {
     "data": {
      "text/plain": [
       "-0.180649     257456\n",
       " 5.071232       8208\n",
       " 10.323112       199\n",
       " 15.574993        58\n",
       " 20.826873        34\n",
       "               ...  \n",
       "-0.012421          1\n",
       " 0.034005          1\n",
       "-0.003401          1\n",
       "-0.032033          1\n",
       " 0.001308          1\n",
       "Name: AMT_REQ_CREDIT_BUREAU_WEEK, Length: 41528, dtype: int64"
      ]
     },
     "execution_count": 256,
     "metadata": {},
     "output_type": "execute_result"
    }
   ],
   "source": [
    "app_train['AMT_REQ_CREDIT_BUREAU_WEEK'].value_counts()"
   ]
  },
  {
   "cell_type": "markdown",
   "id": "9b4e767e",
   "metadata": {},
   "source": [
    "### AMT_REQ_CREDIT_BUREAU_MON"
   ]
  },
  {
   "cell_type": "code",
   "execution_count": 257,
   "id": "b14c8a9c",
   "metadata": {},
   "outputs": [
    {
     "data": {
      "text/plain": [
       "0"
      ]
     },
     "execution_count": 257,
     "metadata": {},
     "output_type": "execute_result"
    }
   ],
   "source": [
    "app_train['AMT_REQ_CREDIT_BUREAU_MON'].isnull().sum()"
   ]
  },
  {
   "cell_type": "code",
   "execution_count": 258,
   "id": "4a420434",
   "metadata": {},
   "outputs": [
    {
     "data": {
      "text/plain": [
       "-0.310034    222233\n",
       " 0.862344     33147\n",
       " 2.034721      5386\n",
       " 3.207099      1991\n",
       " 4.379477      1076\n",
       "              ...  \n",
       "-0.094348         1\n",
       " 0.050395         1\n",
       "-0.063461         1\n",
       "-0.077405         1\n",
       "-0.116216         1\n",
       "Name: AMT_REQ_CREDIT_BUREAU_MON, Length: 41543, dtype: int64"
      ]
     },
     "execution_count": 258,
     "metadata": {},
     "output_type": "execute_result"
    }
   ],
   "source": [
    "app_train['AMT_REQ_CREDIT_BUREAU_MON'].value_counts()"
   ]
  },
  {
   "cell_type": "markdown",
   "id": "22eb45c7",
   "metadata": {},
   "source": [
    "### AMT_REQ_CREDIT_BUREAU_QRT"
   ]
  },
  {
   "cell_type": "code",
   "execution_count": 259,
   "id": "84188526",
   "metadata": {},
   "outputs": [
    {
     "data": {
      "text/plain": [
       "0"
      ]
     },
     "execution_count": 259,
     "metadata": {},
     "output_type": "execute_result"
    }
   ],
   "source": [
    "app_train['AMT_REQ_CREDIT_BUREAU_QRT'].isnull().sum()"
   ]
  },
  {
   "cell_type": "code",
   "execution_count": 260,
   "id": "a02e3b1a",
   "metadata": {},
   "outputs": [
    {
     "data": {
      "text/plain": [
       "-0.358577    215417\n",
       " 0.995174     33862\n",
       " 2.348925     14412\n",
       " 3.702677      1717\n",
       " 5.056428       476\n",
       "              ...  \n",
       "-0.044780         1\n",
       " 0.008240         1\n",
       " 0.041184         1\n",
       "-0.018650         1\n",
       " 0.026732         1\n",
       "Name: AMT_REQ_CREDIT_BUREAU_QRT, Length: 41530, dtype: int64"
      ]
     },
     "execution_count": 260,
     "metadata": {},
     "output_type": "execute_result"
    }
   ],
   "source": [
    "app_train['AMT_REQ_CREDIT_BUREAU_QRT'].value_counts()"
   ]
  },
  {
   "cell_type": "markdown",
   "id": "fe8e1fab",
   "metadata": {},
   "source": [
    "### AMT_REQ_CREDIT_BUREAU_YEAR"
   ]
  },
  {
   "cell_type": "code",
   "execution_count": 261,
   "id": "75ae7ff7",
   "metadata": {},
   "outputs": [
    {
     "data": {
      "text/plain": [
       "0"
      ]
     },
     "execution_count": 261,
     "metadata": {},
     "output_type": "execute_result"
    }
   ],
   "source": [
    "app_train['AMT_REQ_CREDIT_BUREAU_YEAR'].isnull().sum()"
   ]
  },
  {
   "cell_type": "code",
   "execution_count": 262,
   "id": "7fb19832",
   "metadata": {},
   "outputs": [
    {
     "data": {
      "text/plain": [
       "-1.086589    71801\n",
       "-0.513331    63405\n",
       " 0.059928    50192\n",
       " 0.633186    33628\n",
       " 1.206445    20714\n",
       "             ...  \n",
       " 0.040465        1\n",
       "-0.347133        1\n",
       " 0.058601        1\n",
       "-0.098512        1\n",
       " 0.118037        1\n",
       "Name: AMT_REQ_CREDIT_BUREAU_YEAR, Length: 41544, dtype: int64"
      ]
     },
     "execution_count": 262,
     "metadata": {},
     "output_type": "execute_result"
    }
   ],
   "source": [
    "app_train['AMT_REQ_CREDIT_BUREAU_YEAR'].value_counts()"
   ]
  },
  {
   "cell_type": "markdown",
   "id": "d1b1e604",
   "metadata": {},
   "source": [
    "## 特徴量の重要度"
   ]
  },
  {
   "cell_type": "markdown",
   "id": "94668485",
   "metadata": {},
   "source": [
    "## 特徴量の評価"
   ]
  },
  {
   "cell_type": "markdown",
   "id": "1eb31917",
   "metadata": {},
   "source": [
    "### 相関係数"
   ]
  },
  {
   "cell_type": "code",
   "execution_count": 263,
   "id": "9e7c0d45",
   "metadata": {},
   "outputs": [
    {
     "name": "stdout",
     "output_type": "stream",
     "text": [
      "['OCCUPATION_TYPE' 'FLAG_EMAIL' 'FLAG_PHONE' 'NAME_INCOME_TYPE'\n",
      " 'OWN_CAR_AGE' 'DAYS_ID_PUBLISH' 'AMT_INCOME_TOTAL' 'YEARS_BUILD_MODE'\n",
      " 'TARGET' 'NAME_HOUSING_TYPE' 'FLAG_WORK_PHONE'\n",
      " 'REGION_POPULATION_RELATIVE' 'DAYS_BIRTH' 'NAME_EDUCATION_TYPE'\n",
      " 'FLAG_EMP_PHONE' 'COMMONAREA_MODE' 'NAME_FAMILY_STATUS' 'APARTMENTS_MODE'\n",
      " 'CNT_CHILDREN' 'NONLIVINGAPARTMENTS_AVG' 'NAME_TYPE_SUITE'\n",
      " 'FLAG_CONT_MOBILE' 'AMT_CREDIT' 'BASEMENTAREA_MODE'\n",
      " 'YEARS_BEGINEXPLUATATION_MODE' 'SK_ID_CURR' 'FLAG_OWN_CAR'\n",
      " 'REG_REGION_NOT_LIVE_REGION' 'FLOORSMIN_AVG' 'ELEVATORS_MODE'\n",
      " 'DAYS_EMPLOYED' 'EXT_SOURCE_3' 'FLAG_MOBIL' 'DAYS_REGISTRATION'\n",
      " 'NONLIVINGAREA_AVG' 'WEEKDAY_APPR_PROCESS_START' 'REG_CITY_NOT_LIVE_CITY'\n",
      " 'NAME_CONTRACT_TYPE' 'LIVINGAREA_AVG' 'ENTRANCES_AVG'\n",
      " 'YEARS_BEGINEXPLUATATION_AVG' 'EXT_SOURCE_1' 'CNT_FAM_MEMBERS'\n",
      " 'CODE_GENDER' 'YEARS_BUILD_AVG' 'AMT_GOODS_PRICE'\n",
      " 'REG_REGION_NOT_WORK_REGION' 'LANDAREA_MODE' 'LANDAREA_AVG'\n",
      " 'REG_CITY_NOT_WORK_CITY' 'APARTMENTS_AVG' 'FLOORSMIN_MODE'\n",
      " 'REGION_RATING_CLIENT' 'LIVE_REGION_NOT_WORK_REGION'\n",
      " 'LIVINGAPARTMENTS_AVG' 'COMMONAREA_AVG' 'BASEMENTAREA_AVG'\n",
      " 'FLAG_OWN_REALTY' 'HOUR_APPR_PROCESS_START' 'FLOORSMAX_AVG'\n",
      " 'REGION_RATING_CLIENT_W_CITY' 'ELEVATORS_AVG' 'FLOORSMAX_MODE'\n",
      " 'ENTRANCES_MODE' 'LIVE_CITY_NOT_WORK_CITY' 'EXT_SOURCE_2'\n",
      " 'ORGANIZATION_TYPE' 'AMT_ANNUITY'] [-0.16748962 -0.16040021 -0.14627811  0.07823931  0.06089267  0.05889901\n",
      " -0.05701964  0.05521766 -0.05471815  0.05145717  0.05099446  0.04876805\n",
      "  0.04598222 -0.04493166  0.04439537  0.04434635  0.04197486  0.04177298\n",
      " -0.03962034  0.03940588 -0.03722715  0.03251834 -0.03243396  0.03222929\n",
      "  0.03126142 -0.03089591 -0.03036929 -0.02957806 -0.02929194 -0.02860189\n",
      "  0.02852432 -0.02851027 -0.02416583 -0.02380627 -0.02234879 -0.02214205\n",
      " -0.02204524 -0.02185094 -0.02181422 -0.02173702 -0.02012113 -0.02008855\n",
      " -0.0195074   0.01918713 -0.01917457  0.01833515 -0.01820973  0.01801405\n",
      " -0.01784009 -0.01758992 -0.0169728  -0.01396734 -0.01387143 -0.01379384\n",
      " -0.01355202 -0.01343777 -0.01285994 -0.0128177  -0.0127695  -0.01265876\n",
      " -0.01264409 -0.01241543 -0.01161467 -0.01158322 -0.01126147 -0.01119796\n",
      " -0.01072338 -0.01069564]\n"
     ]
    }
   ],
   "source": [
    "corrs_columns = list(app_test.columns)\n",
    "\n",
    "corrs = []\n",
    "border = 0.01\n",
    "\n",
    "for c in corrs_columns:\n",
    "    corr = np.corrcoef(app_train[c], app_train['TARGET'])[0, 1]\n",
    "    if math.isnan(corr) == False:\n",
    "        if abs(corr) >= border:\n",
    "            corrs.append(corr)\n",
    "corrs = np.array(corrs)\n",
    "\n",
    "\n",
    "corrs_sp = []\n",
    "for c in corrs_columns:\n",
    "    corr_sp = st.spearmanr(app_train[c], app_train['TARGET']).correlation\n",
    "    if math.isnan(corr_sp) == False:\n",
    "        if abs(corr_sp) >= border:\n",
    "            corrs_sp.append(corr_sp)\n",
    "corrs_sp = np.array(corrs_sp)\n",
    "\n",
    "idx = np.argsort(np.abs(corrs))[::-1]\n",
    "top_cols, top_importances = app_train.columns.values[idx], corrs[idx][:100]\n",
    "print(top_cols, top_importances)"
   ]
  },
  {
   "cell_type": "code",
   "execution_count": 264,
   "id": "1e8fb86b",
   "metadata": {},
   "outputs": [
    {
     "name": "stdout",
     "output_type": "stream",
     "text": [
      "['OCCUPATION_TYPE' 'FLAG_EMAIL' 'FLAG_PHONE' 'NAME_INCOME_TYPE'\n",
      " 'OWN_CAR_AGE' 'DAYS_ID_PUBLISH' 'AMT_INCOME_TOTAL' 'YEARS_BUILD_MODE'\n",
      " 'TARGET' 'NAME_HOUSING_TYPE' 'FLAG_WORK_PHONE'\n",
      " 'REGION_POPULATION_RELATIVE' 'DAYS_BIRTH' 'NAME_EDUCATION_TYPE'\n",
      " 'FLAG_EMP_PHONE' 'COMMONAREA_MODE' 'NAME_FAMILY_STATUS' 'APARTMENTS_MODE'\n",
      " 'CNT_CHILDREN' 'NONLIVINGAPARTMENTS_AVG' 'NAME_TYPE_SUITE'\n",
      " 'FLAG_CONT_MOBILE' 'AMT_CREDIT' 'BASEMENTAREA_MODE'\n",
      " 'YEARS_BEGINEXPLUATATION_MODE' 'SK_ID_CURR' 'FLAG_OWN_CAR'\n",
      " 'REG_REGION_NOT_LIVE_REGION' 'FLOORSMIN_AVG' 'ELEVATORS_MODE'\n",
      " 'DAYS_EMPLOYED' 'EXT_SOURCE_3' 'FLAG_MOBIL' 'DAYS_REGISTRATION'\n",
      " 'NONLIVINGAREA_AVG' 'WEEKDAY_APPR_PROCESS_START' 'REG_CITY_NOT_LIVE_CITY'\n",
      " 'NAME_CONTRACT_TYPE' 'LIVINGAREA_AVG' 'ENTRANCES_AVG'\n",
      " 'YEARS_BEGINEXPLUATATION_AVG' 'EXT_SOURCE_1' 'CNT_FAM_MEMBERS'\n",
      " 'CODE_GENDER' 'YEARS_BUILD_AVG' 'AMT_GOODS_PRICE'\n",
      " 'REG_REGION_NOT_WORK_REGION' 'LANDAREA_MODE' 'LANDAREA_AVG'\n",
      " 'REG_CITY_NOT_WORK_CITY'] [-0.15876168 -0.1472548  -0.14180378  0.0783282   0.06093553  0.05890922\n",
      " -0.05854726 -0.01317771 -0.05471664  0.05253494  0.05099446  0.08592127\n",
      "  0.04598222  0.02518153  0.04439537  0.04213969  0.04017068 -0.02602301\n",
      " -0.03144012 -0.02254907 -0.03056203  0.03251834 -0.04600433  0.01251456\n",
      "  0.04049647 -0.03089591 -0.01810381 -0.02586018  0.01241506  0.03054254\n",
      "  0.02852432  0.01880606 -0.02291398 -0.02380627  0.01438885 -0.02074181\n",
      " -0.02121415 -0.02185094 -0.04034355 -0.02308314 -0.02062436 -0.02857165\n",
      " -0.02065253  0.02007446  0.01168501  0.02703083 -0.0200727  -0.02860189\n",
      " -0.02798584 -0.01455558 -0.02523046  0.04434635 -0.01505551 -0.03532735\n",
      " -0.03021473  0.01680467  0.01231272 -0.0175371  -0.01662149 -0.03538995\n",
      " -0.03050361  0.0164851   0.05370998  0.02880014 -0.01099093  0.01786232\n",
      " -0.03023664 -0.01221338]\n"
     ]
    }
   ],
   "source": [
    "idx2 = np.argsort(np.abs(corrs_sp))[::-1]\n",
    "top_cols2, top_importances2 = app_train.columns.values[idx][:50], corrs_sp[idx][:100]\n",
    "print(top_cols2, top_importances2)"
   ]
  },
  {
   "cell_type": "markdown",
   "id": "50731937",
   "metadata": {},
   "source": [
    "### 相互情報量"
   ]
  },
  {
   "cell_type": "code",
   "execution_count": 265,
   "id": "1b9279e1",
   "metadata": {},
   "outputs": [],
   "source": [
    "#mi = mutual_info_classif(app_train, app_train['TARGET'])\n",
    "#\n",
    "#idx = np.argsort(mi)[::-1]\n",
    "#mi_top_cols, mi_top_importances = app_train.columns.values[idx], corrs[idx][:100]\n",
    "#\n",
    "#print(mi_top_cols, mi_top_importances)"
   ]
  },
  {
   "cell_type": "code",
   "execution_count": 266,
   "id": "269c0475",
   "metadata": {},
   "outputs": [
    {
     "data": {
      "text/plain": [
       "['OCCUPATION_TYPE',\n",
       " 'FLAG_EMAIL',\n",
       " 'FLAG_PHONE',\n",
       " 'NAME_INCOME_TYPE',\n",
       " 'OWN_CAR_AGE',\n",
       " 'DAYS_ID_PUBLISH',\n",
       " 'AMT_INCOME_TOTAL',\n",
       " 'YEARS_BUILD_MODE',\n",
       " 'NAME_HOUSING_TYPE',\n",
       " 'FLAG_WORK_PHONE',\n",
       " 'REGION_POPULATION_RELATIVE',\n",
       " 'DAYS_BIRTH',\n",
       " 'NAME_EDUCATION_TYPE',\n",
       " 'FLAG_EMP_PHONE',\n",
       " 'COMMONAREA_MODE',\n",
       " 'NAME_FAMILY_STATUS',\n",
       " 'APARTMENTS_MODE',\n",
       " 'CNT_CHILDREN',\n",
       " 'NONLIVINGAPARTMENTS_AVG',\n",
       " 'NAME_TYPE_SUITE',\n",
       " 'FLAG_CONT_MOBILE',\n",
       " 'AMT_CREDIT',\n",
       " 'BASEMENTAREA_MODE',\n",
       " 'YEARS_BEGINEXPLUATATION_MODE',\n",
       " 'SK_ID_CURR',\n",
       " 'FLAG_OWN_CAR',\n",
       " 'REG_REGION_NOT_LIVE_REGION',\n",
       " 'FLOORSMIN_AVG',\n",
       " 'ELEVATORS_MODE',\n",
       " 'DAYS_EMPLOYED',\n",
       " 'EXT_SOURCE_3',\n",
       " 'FLAG_MOBIL',\n",
       " 'DAYS_REGISTRATION',\n",
       " 'NONLIVINGAREA_AVG',\n",
       " 'WEEKDAY_APPR_PROCESS_START',\n",
       " 'REG_CITY_NOT_LIVE_CITY',\n",
       " 'NAME_CONTRACT_TYPE',\n",
       " 'LIVINGAREA_AVG',\n",
       " 'ENTRANCES_AVG',\n",
       " 'YEARS_BEGINEXPLUATATION_AVG',\n",
       " 'EXT_SOURCE_1',\n",
       " 'CNT_FAM_MEMBERS',\n",
       " 'CODE_GENDER',\n",
       " 'YEARS_BUILD_AVG',\n",
       " 'AMT_GOODS_PRICE',\n",
       " 'REG_REGION_NOT_WORK_REGION',\n",
       " 'LANDAREA_MODE',\n",
       " 'LANDAREA_AVG',\n",
       " 'REG_CITY_NOT_WORK_CITY']"
      ]
     },
     "execution_count": 266,
     "metadata": {},
     "output_type": "execute_result"
    }
   ],
   "source": [
    "app_train_columns = top_cols2.tolist().copy()\n",
    "#app_train_columns.append('TARGET')\n",
    "app_test_columns = app_train_columns.copy()\n",
    "app_test_columns.remove('TARGET')\n",
    "app_test_columns"
   ]
  },
  {
   "cell_type": "code",
   "execution_count": 267,
   "id": "851fa8e3",
   "metadata": {},
   "outputs": [
    {
     "data": {
      "text/html": [
       "<div>\n",
       "<style scoped>\n",
       "    .dataframe tbody tr th:only-of-type {\n",
       "        vertical-align: middle;\n",
       "    }\n",
       "\n",
       "    .dataframe tbody tr th {\n",
       "        vertical-align: top;\n",
       "    }\n",
       "\n",
       "    .dataframe thead th {\n",
       "        text-align: right;\n",
       "    }\n",
       "</style>\n",
       "<table border=\"1\" class=\"dataframe\">\n",
       "  <thead>\n",
       "    <tr style=\"text-align: right;\">\n",
       "      <th></th>\n",
       "      <th>OCCUPATION_TYPE</th>\n",
       "      <th>FLAG_EMAIL</th>\n",
       "      <th>FLAG_PHONE</th>\n",
       "      <th>NAME_INCOME_TYPE</th>\n",
       "      <th>OWN_CAR_AGE</th>\n",
       "      <th>DAYS_ID_PUBLISH</th>\n",
       "      <th>AMT_INCOME_TOTAL</th>\n",
       "      <th>YEARS_BUILD_MODE</th>\n",
       "      <th>TARGET</th>\n",
       "      <th>NAME_HOUSING_TYPE</th>\n",
       "      <th>...</th>\n",
       "      <th>YEARS_BEGINEXPLUATATION_AVG</th>\n",
       "      <th>EXT_SOURCE_1</th>\n",
       "      <th>CNT_FAM_MEMBERS</th>\n",
       "      <th>CODE_GENDER</th>\n",
       "      <th>YEARS_BUILD_AVG</th>\n",
       "      <th>AMT_GOODS_PRICE</th>\n",
       "      <th>REG_REGION_NOT_WORK_REGION</th>\n",
       "      <th>LANDAREA_MODE</th>\n",
       "      <th>LANDAREA_AVG</th>\n",
       "      <th>REG_CITY_NOT_WORK_CITY</th>\n",
       "    </tr>\n",
       "  </thead>\n",
       "  <tbody>\n",
       "    <tr>\n",
       "      <th>0</th>\n",
       "      <td>0</td>\n",
       "      <td>-0.245215</td>\n",
       "      <td>1.599337</td>\n",
       "      <td>0</td>\n",
       "      <td>0.951364</td>\n",
       "      <td>0.579154</td>\n",
       "      <td>0.142129</td>\n",
       "      <td>-1.966714</td>\n",
       "      <td>1</td>\n",
       "      <td>0</td>\n",
       "      <td>...</td>\n",
       "      <td>-0.130210</td>\n",
       "      <td>-2.529986</td>\n",
       "      <td>-1.265719</td>\n",
       "      <td>0</td>\n",
       "      <td>-1.993221</td>\n",
       "      <td>-0.506611</td>\n",
       "      <td>-0.231267</td>\n",
       "      <td>-0.527166</td>\n",
       "      <td>-0.567442</td>\n",
       "      <td>-0.547236</td>\n",
       "    </tr>\n",
       "    <tr>\n",
       "      <th>1</th>\n",
       "      <td>1</td>\n",
       "      <td>-0.245215</td>\n",
       "      <td>1.599337</td>\n",
       "      <td>1</td>\n",
       "      <td>0.500125</td>\n",
       "      <td>1.790855</td>\n",
       "      <td>0.426792</td>\n",
       "      <td>0.670003</td>\n",
       "      <td>0</td>\n",
       "      <td>0</td>\n",
       "      <td>...</td>\n",
       "      <td>0.174145</td>\n",
       "      <td>-1.261729</td>\n",
       "      <td>-0.167636</td>\n",
       "      <td>1</td>\n",
       "      <td>0.670973</td>\n",
       "      <td>1.600798</td>\n",
       "      <td>-0.231267</td>\n",
       "      <td>-1.004839</td>\n",
       "      <td>-1.029317</td>\n",
       "      <td>-0.547236</td>\n",
       "    </tr>\n",
       "    <tr>\n",
       "      <th>2</th>\n",
       "      <td>0</td>\n",
       "      <td>-0.245215</td>\n",
       "      <td>1.599337</td>\n",
       "      <td>0</td>\n",
       "      <td>1.786278</td>\n",
       "      <td>0.306869</td>\n",
       "      <td>-0.427196</td>\n",
       "      <td>0.001131</td>\n",
       "      <td>0</td>\n",
       "      <td>0</td>\n",
       "      <td>...</td>\n",
       "      <td>-0.003216</td>\n",
       "      <td>0.514968</td>\n",
       "      <td>-1.265719</td>\n",
       "      <td>0</td>\n",
       "      <td>-0.002785</td>\n",
       "      <td>-1.091326</td>\n",
       "      <td>-0.231267</td>\n",
       "      <td>-0.013422</td>\n",
       "      <td>0.006817</td>\n",
       "      <td>-0.547236</td>\n",
       "    </tr>\n",
       "    <tr>\n",
       "      <th>3</th>\n",
       "      <td>0</td>\n",
       "      <td>-0.245215</td>\n",
       "      <td>-0.625259</td>\n",
       "      <td>0</td>\n",
       "      <td>-0.045124</td>\n",
       "      <td>0.369143</td>\n",
       "      <td>-0.142533</td>\n",
       "      <td>-0.000348</td>\n",
       "      <td>0</td>\n",
       "      <td>0</td>\n",
       "      <td>...</td>\n",
       "      <td>0.000166</td>\n",
       "      <td>0.644764</td>\n",
       "      <td>-0.167636</td>\n",
       "      <td>1</td>\n",
       "      <td>-0.002095</td>\n",
       "      <td>-0.652790</td>\n",
       "      <td>-0.231267</td>\n",
       "      <td>-0.004144</td>\n",
       "      <td>0.007004</td>\n",
       "      <td>-0.547236</td>\n",
       "    </tr>\n",
       "    <tr>\n",
       "      <th>4</th>\n",
       "      <td>1</td>\n",
       "      <td>-0.245215</td>\n",
       "      <td>-0.625259</td>\n",
       "      <td>0</td>\n",
       "      <td>0.245402</td>\n",
       "      <td>-0.307263</td>\n",
       "      <td>-0.199466</td>\n",
       "      <td>0.006112</td>\n",
       "      <td>0</td>\n",
       "      <td>0</td>\n",
       "      <td>...</td>\n",
       "      <td>-0.001712</td>\n",
       "      <td>0.385827</td>\n",
       "      <td>-1.265719</td>\n",
       "      <td>0</td>\n",
       "      <td>0.000476</td>\n",
       "      <td>-0.068075</td>\n",
       "      <td>-0.231267</td>\n",
       "      <td>-0.002407</td>\n",
       "      <td>-0.000517</td>\n",
       "      <td>1.827367</td>\n",
       "    </tr>\n",
       "  </tbody>\n",
       "</table>\n",
       "<p>5 rows × 50 columns</p>\n",
       "</div>"
      ],
      "text/plain": [
       "   OCCUPATION_TYPE  FLAG_EMAIL  FLAG_PHONE  NAME_INCOME_TYPE  OWN_CAR_AGE  \\\n",
       "0                0   -0.245215    1.599337                 0     0.951364   \n",
       "1                1   -0.245215    1.599337                 1     0.500125   \n",
       "2                0   -0.245215    1.599337                 0     1.786278   \n",
       "3                0   -0.245215   -0.625259                 0    -0.045124   \n",
       "4                1   -0.245215   -0.625259                 0     0.245402   \n",
       "\n",
       "   DAYS_ID_PUBLISH  AMT_INCOME_TOTAL  YEARS_BUILD_MODE  TARGET  \\\n",
       "0         0.579154          0.142129         -1.966714       1   \n",
       "1         1.790855          0.426792          0.670003       0   \n",
       "2         0.306869         -0.427196          0.001131       0   \n",
       "3         0.369143         -0.142533         -0.000348       0   \n",
       "4        -0.307263         -0.199466          0.006112       0   \n",
       "\n",
       "   NAME_HOUSING_TYPE  ...  YEARS_BEGINEXPLUATATION_AVG  EXT_SOURCE_1  \\\n",
       "0                  0  ...                    -0.130210     -2.529986   \n",
       "1                  0  ...                     0.174145     -1.261729   \n",
       "2                  0  ...                    -0.003216      0.514968   \n",
       "3                  0  ...                     0.000166      0.644764   \n",
       "4                  0  ...                    -0.001712      0.385827   \n",
       "\n",
       "   CNT_FAM_MEMBERS  CODE_GENDER  YEARS_BUILD_AVG  AMT_GOODS_PRICE  \\\n",
       "0        -1.265719            0        -1.993221        -0.506611   \n",
       "1        -0.167636            1         0.670973         1.600798   \n",
       "2        -1.265719            0        -0.002785        -1.091326   \n",
       "3        -0.167636            1        -0.002095        -0.652790   \n",
       "4        -1.265719            0         0.000476        -0.068075   \n",
       "\n",
       "   REG_REGION_NOT_WORK_REGION  LANDAREA_MODE  LANDAREA_AVG  \\\n",
       "0                   -0.231267      -0.527166     -0.567442   \n",
       "1                   -0.231267      -1.004839     -1.029317   \n",
       "2                   -0.231267      -0.013422      0.006817   \n",
       "3                   -0.231267      -0.004144      0.007004   \n",
       "4                   -0.231267      -0.002407     -0.000517   \n",
       "\n",
       "   REG_CITY_NOT_WORK_CITY  \n",
       "0               -0.547236  \n",
       "1               -0.547236  \n",
       "2               -0.547236  \n",
       "3               -0.547236  \n",
       "4                1.827367  \n",
       "\n",
       "[5 rows x 50 columns]"
      ]
     },
     "execution_count": 267,
     "metadata": {},
     "output_type": "execute_result"
    }
   ],
   "source": [
    "#app_train = app_train[app_train_columns].copy()\n",
    "#app_test = app_test[app_test_columns].copy()\n",
    "#app_train.head()"
   ]
  },
  {
   "cell_type": "markdown",
   "id": "c4c5faca",
   "metadata": {},
   "source": [
    "### Xgboostで特徴量の重要度を導出"
   ]
  },
  {
   "cell_type": "code",
   "execution_count": 268,
   "id": "c6489a35",
   "metadata": {},
   "outputs": [],
   "source": [
    "data = pd.concat([app_train, app_test], sort=False)\n",
    "train = data[:len(app_train)]\n",
    "test = data[len(app_test):]\n",
    "\n",
    "y_train = train['TARGET']\n",
    "X_train = app_train.copy().drop('TARGET', axis=1)\n",
    "X_test = app_test.copy()"
   ]
  },
  {
   "cell_type": "code",
   "execution_count": 269,
   "id": "a2c120be",
   "metadata": {},
   "outputs": [
    {
     "name": "stdout",
     "output_type": "stream",
     "text": [
      "[23:28:39] WARNING: C:/Users/Administrator/workspace/xgboost-win64_release_1.6.0/src/learner.cc:627: \n",
      "Parameters: { \"colsample_state\", \"early_stopping_round\", \"num_round\", \"silent\", \"subsumple\" } might not be used.\n",
      "\n",
      "  This could be a false alarm, with some parameters getting used by language bindings but\n",
      "  then being mistakenly passed down to XGBoost core, or some parameter actually being used\n",
      "  but getting flagged wrongly here. Please open an issue if you find any such cases.\n",
      "\n",
      "\n"
     ]
    },
    {
     "data": {
      "text/plain": [
       "48"
      ]
     },
     "execution_count": 269,
     "metadata": {},
     "output_type": "execute_result"
    }
   ],
   "source": [
    "dtrain = xgb.DMatrix(X_train, label=y_train)\n",
    "params = {\n",
    "    'booster': 'gbtree'\n",
    "    ,'objective': 'binary:logistic'\n",
    "    ,'silent': 1\n",
    "    ,'random_state': 17\n",
    "    ,'gpu_id': 0\n",
    "    ,'tree_method': 'gpu_hist'\n",
    "    ,'eval_metric': 'auc'\n",
    "    ,'eta': 0.1\n",
    "    ,'num_round': 10000\n",
    "    ,'early_stopping_round': 50\n",
    "    ,'max_depth': 8\n",
    "    ,'subsample': 0.8\n",
    "    ,'colsample_state': 71\n",
    "    ,'colsample_bytree': 1.0\n",
    "    ,'colsample_bylevel': 0.3\n",
    "    ,'subsumple': 0.9\n",
    "    ,'gamma': 0\n",
    "    ,'lambda': 1\n",
    "    ,'alpha': 0\n",
    "    ,'min_child_weight': 1\n",
    "}\n",
    "num_round = 50\n",
    "model = xgb.train(params, dtrain, num_round)\n",
    "\n",
    "# 重要度の上位を出力する\n",
    "fscore = model.get_score(importance_type = 'total_gain')\n",
    "fscore = sorted([(k, v) for k, v in fscore.items()], key=lambda tpl: tpl[1], reverse=True)\n",
    "len(fscore)"
   ]
  },
  {
   "cell_type": "code",
   "execution_count": 270,
   "id": "51bc99a5",
   "metadata": {},
   "outputs": [],
   "source": [
    "#test_columns = []\n",
    "#for i in range(50):\n",
    "#    test_columns.append(fscore[i][0])"
   ]
  },
  {
   "cell_type": "code",
   "execution_count": 271,
   "id": "56b3c637",
   "metadata": {},
   "outputs": [],
   "source": [
    "#train_columns = test_columns.copy()\n",
    "#train_columns.append('TARGET')"
   ]
  },
  {
   "cell_type": "code",
   "execution_count": 272,
   "id": "4fec0145",
   "metadata": {},
   "outputs": [],
   "source": [
    "#app_train = app_train[train_columns].copy()\n",
    "#app_test = app_test[test_columns].copy()\n",
    "#app_train.head()"
   ]
  },
  {
   "cell_type": "markdown",
   "id": "7d92f21f",
   "metadata": {},
   "source": [
    "## CSVを出力"
   ]
  },
  {
   "cell_type": "code",
   "execution_count": 273,
   "id": "1a7c0353",
   "metadata": {},
   "outputs": [],
   "source": [
    "### train\n",
    "app_train.to_csv(\n",
    "    path_or_buf=\"./home-credit-default-risk/exports/app_train_fillterd.csv\", # 出力先\n",
    "    sep=\",\",                                            # 区切り文字\n",
    "    index=False,                                        # indexの出力有無\n",
    "    header=True                                        # headerの出力有無\n",
    ")"
   ]
  },
  {
   "cell_type": "code",
   "execution_count": 274,
   "id": "efad884c",
   "metadata": {},
   "outputs": [],
   "source": [
    "### test\n",
    "app_test.to_csv(\n",
    "    path_or_buf=\"./home-credit-default-risk/exports/app_test_fillterd.csv\", # 出力先\n",
    "    sep=\",\",                                            # 区切り文字\n",
    "    index=False,                                        # indexの出力有無\n",
    "    header=True                                        # headerの出力有無\n",
    ")"
   ]
  },
  {
   "cell_type": "markdown",
   "id": "2903a8bd",
   "metadata": {},
   "source": [
    "## Xgboostで学習"
   ]
  },
  {
   "cell_type": "code",
   "execution_count": 275,
   "id": "42d1d739",
   "metadata": {},
   "outputs": [],
   "source": [
    "data = pd.concat([app_train, app_test], sort=False)\n",
    "train = data[:len(app_train)]\n",
    "test = data[len(app_test):]\n",
    "\n",
    "y_train = train['TARGET']\n",
    "X_train = app_train.copy().drop('TARGET', axis=1)\n",
    "X_test = app_test.copy()"
   ]
  },
  {
   "cell_type": "code",
   "execution_count": 276,
   "id": "0c340d8f",
   "metadata": {},
   "outputs": [
    {
     "name": "stdout",
     "output_type": "stream",
     "text": [
      "[23:29:00] WARNING: C:/Users/Administrator/workspace/xgboost-win64_release_1.6.0/src/learner.cc:627: \n",
      "Parameters: { \"colsample_state\", \"early_stopping_round\", \"num_round\", \"silent\", \"subsumple\" } might not be used.\n",
      "\n",
      "  This could be a false alarm, with some parameters getting used by language bindings but\n",
      "  then being mistakenly passed down to XGBoost core, or some parameter actually being used\n",
      "  but getting flagged wrongly here. Please open an issue if you find any such cases.\n",
      "\n",
      "\n",
      "[0]\ttrain-auc:0.71407\teval-auc:0.69928\n",
      "[1]\ttrain-auc:0.72614\teval-auc:0.70919\n",
      "[2]\ttrain-auc:0.73171\teval-auc:0.71121\n",
      "[3]\ttrain-auc:0.73573\teval-auc:0.71231\n",
      "[4]\ttrain-auc:0.73913\teval-auc:0.71308\n",
      "[5]\ttrain-auc:0.74241\teval-auc:0.71541\n",
      "[6]\ttrain-auc:0.74656\teval-auc:0.71822\n",
      "[7]\ttrain-auc:0.74914\teval-auc:0.71940\n",
      "[8]\ttrain-auc:0.75151\teval-auc:0.72133\n",
      "[9]\ttrain-auc:0.75365\teval-auc:0.72327\n",
      "[10]\ttrain-auc:0.75487\teval-auc:0.72368\n",
      "[11]\ttrain-auc:0.75690\teval-auc:0.72409\n",
      "[12]\ttrain-auc:0.75770\teval-auc:0.72395\n",
      "[13]\ttrain-auc:0.75923\teval-auc:0.72464\n",
      "[14]\ttrain-auc:0.76023\teval-auc:0.72525\n",
      "[15]\ttrain-auc:0.76181\teval-auc:0.72519\n",
      "[16]\ttrain-auc:0.76316\teval-auc:0.72505\n",
      "[17]\ttrain-auc:0.76403\teval-auc:0.72532\n",
      "[18]\ttrain-auc:0.76527\teval-auc:0.72568\n",
      "[19]\ttrain-auc:0.76759\teval-auc:0.72656\n",
      "[20]\ttrain-auc:0.76872\teval-auc:0.72711\n",
      "[21]\ttrain-auc:0.76999\teval-auc:0.72710\n",
      "[22]\ttrain-auc:0.77209\teval-auc:0.72786\n",
      "[23]\ttrain-auc:0.77289\teval-auc:0.72817\n",
      "[24]\ttrain-auc:0.77401\teval-auc:0.72841\n",
      "[25]\ttrain-auc:0.77507\teval-auc:0.72846\n",
      "[26]\ttrain-auc:0.77650\teval-auc:0.72911\n",
      "[27]\ttrain-auc:0.77789\teval-auc:0.72941\n",
      "[28]\ttrain-auc:0.77935\teval-auc:0.72996\n",
      "[29]\ttrain-auc:0.78039\teval-auc:0.72989\n",
      "[30]\ttrain-auc:0.78152\teval-auc:0.72989\n",
      "[31]\ttrain-auc:0.78274\teval-auc:0.72984\n",
      "[32]\ttrain-auc:0.78443\teval-auc:0.73098\n",
      "[33]\ttrain-auc:0.78606\teval-auc:0.73147\n",
      "[34]\ttrain-auc:0.78703\teval-auc:0.73201\n",
      "[35]\ttrain-auc:0.78817\teval-auc:0.73232\n",
      "[36]\ttrain-auc:0.78928\teval-auc:0.73249\n",
      "[37]\ttrain-auc:0.79043\teval-auc:0.73286\n",
      "[38]\ttrain-auc:0.79169\teval-auc:0.73314\n",
      "[39]\ttrain-auc:0.79336\teval-auc:0.73318\n",
      "[40]\ttrain-auc:0.79448\teval-auc:0.73326\n",
      "[41]\ttrain-auc:0.79591\teval-auc:0.73348\n",
      "[42]\ttrain-auc:0.79715\teval-auc:0.73326\n",
      "[43]\ttrain-auc:0.79848\teval-auc:0.73359\n",
      "[44]\ttrain-auc:0.79989\teval-auc:0.73418\n",
      "[45]\ttrain-auc:0.80127\teval-auc:0.73469\n",
      "[46]\ttrain-auc:0.80248\teval-auc:0.73478\n",
      "[47]\ttrain-auc:0.80371\teval-auc:0.73472\n",
      "[48]\ttrain-auc:0.80483\teval-auc:0.73484\n",
      "[49]\ttrain-auc:0.80612\teval-auc:0.73515\n",
      "[23:29:05] WARNING: C:/Users/Administrator/workspace/xgboost-win64_release_1.6.0/src/learner.cc:627: \n",
      "Parameters: { \"colsample_state\", \"early_stopping_round\", \"num_round\", \"silent\", \"subsumple\" } might not be used.\n",
      "\n",
      "  This could be a false alarm, with some parameters getting used by language bindings but\n",
      "  then being mistakenly passed down to XGBoost core, or some parameter actually being used\n",
      "  but getting flagged wrongly here. Please open an issue if you find any such cases.\n",
      "\n",
      "\n",
      "[0]\ttrain-auc:0.71460\teval-auc:0.70122\n",
      "[1]\ttrain-auc:0.72539\teval-auc:0.71254\n",
      "[2]\ttrain-auc:0.73149\teval-auc:0.71546\n",
      "[3]\ttrain-auc:0.73587\teval-auc:0.71743\n",
      "[4]\ttrain-auc:0.73901\teval-auc:0.71775\n",
      "[5]\ttrain-auc:0.74256\teval-auc:0.72007\n",
      "[6]\ttrain-auc:0.74572\teval-auc:0.72232\n",
      "[7]\ttrain-auc:0.74814\teval-auc:0.72255\n",
      "[8]\ttrain-auc:0.74991\teval-auc:0.72387\n",
      "[9]\ttrain-auc:0.75159\teval-auc:0.72554\n",
      "[10]\ttrain-auc:0.75293\teval-auc:0.72590\n",
      "[11]\ttrain-auc:0.75503\teval-auc:0.72659\n",
      "[12]\ttrain-auc:0.75677\teval-auc:0.72693\n",
      "[13]\ttrain-auc:0.75822\teval-auc:0.72744\n",
      "[14]\ttrain-auc:0.75914\teval-auc:0.72769\n",
      "[15]\ttrain-auc:0.76058\teval-auc:0.72849\n",
      "[16]\ttrain-auc:0.76205\teval-auc:0.72853\n",
      "[17]\ttrain-auc:0.76295\teval-auc:0.72883\n",
      "[18]\ttrain-auc:0.76404\teval-auc:0.72917\n",
      "[19]\ttrain-auc:0.76612\teval-auc:0.72980\n",
      "[20]\ttrain-auc:0.76692\teval-auc:0.73004\n",
      "[21]\ttrain-auc:0.76792\teval-auc:0.72972\n",
      "[22]\ttrain-auc:0.76962\teval-auc:0.73014\n",
      "[23]\ttrain-auc:0.77053\teval-auc:0.73039\n",
      "[24]\ttrain-auc:0.77164\teval-auc:0.73059\n",
      "[25]\ttrain-auc:0.77282\teval-auc:0.73076\n",
      "[26]\ttrain-auc:0.77461\teval-auc:0.73117\n",
      "[27]\ttrain-auc:0.77583\teval-auc:0.73116\n",
      "[28]\ttrain-auc:0.77706\teval-auc:0.73131\n",
      "[29]\ttrain-auc:0.77815\teval-auc:0.73163\n",
      "[30]\ttrain-auc:0.77917\teval-auc:0.73182\n",
      "[31]\ttrain-auc:0.78054\teval-auc:0.73193\n",
      "[32]\ttrain-auc:0.78220\teval-auc:0.73210\n",
      "[33]\ttrain-auc:0.78405\teval-auc:0.73259\n",
      "[34]\ttrain-auc:0.78530\teval-auc:0.73254\n",
      "[35]\ttrain-auc:0.78672\teval-auc:0.73291\n",
      "[36]\ttrain-auc:0.78767\teval-auc:0.73319\n",
      "[37]\ttrain-auc:0.78878\teval-auc:0.73351\n",
      "[38]\ttrain-auc:0.79041\teval-auc:0.73408\n",
      "[39]\ttrain-auc:0.79218\teval-auc:0.73454\n",
      "[40]\ttrain-auc:0.79355\teval-auc:0.73489\n",
      "[41]\ttrain-auc:0.79493\teval-auc:0.73515\n",
      "[42]\ttrain-auc:0.79586\teval-auc:0.73501\n",
      "[43]\ttrain-auc:0.79721\teval-auc:0.73515\n",
      "[44]\ttrain-auc:0.79825\teval-auc:0.73517\n",
      "[45]\ttrain-auc:0.79962\teval-auc:0.73511\n",
      "[46]\ttrain-auc:0.80063\teval-auc:0.73511\n",
      "[47]\ttrain-auc:0.80153\teval-auc:0.73512\n",
      "[48]\ttrain-auc:0.80269\teval-auc:0.73512\n",
      "[49]\ttrain-auc:0.80381\teval-auc:0.73512\n",
      "[23:29:10] WARNING: C:/Users/Administrator/workspace/xgboost-win64_release_1.6.0/src/learner.cc:627: \n",
      "Parameters: { \"colsample_state\", \"early_stopping_round\", \"num_round\", \"silent\", \"subsumple\" } might not be used.\n",
      "\n",
      "  This could be a false alarm, with some parameters getting used by language bindings but\n",
      "  then being mistakenly passed down to XGBoost core, or some parameter actually being used\n",
      "  but getting flagged wrongly here. Please open an issue if you find any such cases.\n",
      "\n",
      "\n",
      "[0]\ttrain-auc:0.71507\teval-auc:0.69880\n",
      "[1]\ttrain-auc:0.72524\teval-auc:0.70748\n",
      "[2]\ttrain-auc:0.73133\teval-auc:0.71069\n",
      "[3]\ttrain-auc:0.73586\teval-auc:0.71150\n",
      "[4]\ttrain-auc:0.73992\teval-auc:0.71262\n",
      "[5]\ttrain-auc:0.74329\teval-auc:0.71522\n",
      "[6]\ttrain-auc:0.74652\teval-auc:0.71730\n",
      "[7]\ttrain-auc:0.74910\teval-auc:0.71780\n",
      "[8]\ttrain-auc:0.75154\teval-auc:0.71945\n",
      "[9]\ttrain-auc:0.75367\teval-auc:0.72027\n",
      "[10]\ttrain-auc:0.75464\teval-auc:0.72010\n",
      "[11]\ttrain-auc:0.75629\teval-auc:0.72090\n",
      "[12]\ttrain-auc:0.75765\teval-auc:0.72208\n",
      "[13]\ttrain-auc:0.75917\teval-auc:0.72276\n",
      "[14]\ttrain-auc:0.76033\teval-auc:0.72297\n",
      "[15]\ttrain-auc:0.76180\teval-auc:0.72379\n",
      "[16]\ttrain-auc:0.76285\teval-auc:0.72393\n",
      "[17]\ttrain-auc:0.76367\teval-auc:0.72381\n",
      "[18]\ttrain-auc:0.76521\teval-auc:0.72339\n",
      "[19]\ttrain-auc:0.76749\teval-auc:0.72403\n",
      "[20]\ttrain-auc:0.76869\teval-auc:0.72418\n",
      "[21]\ttrain-auc:0.77033\teval-auc:0.72456\n",
      "[22]\ttrain-auc:0.77187\teval-auc:0.72500\n",
      "[23]\ttrain-auc:0.77257\teval-auc:0.72501\n",
      "[24]\ttrain-auc:0.77342\teval-auc:0.72521\n",
      "[25]\ttrain-auc:0.77445\teval-auc:0.72548\n",
      "[26]\ttrain-auc:0.77653\teval-auc:0.72654\n",
      "[27]\ttrain-auc:0.77771\teval-auc:0.72710\n",
      "[28]\ttrain-auc:0.77886\teval-auc:0.72744\n",
      "[29]\ttrain-auc:0.77989\teval-auc:0.72787\n",
      "[30]\ttrain-auc:0.78106\teval-auc:0.72824\n",
      "[31]\ttrain-auc:0.78239\teval-auc:0.72862\n",
      "[32]\ttrain-auc:0.78420\teval-auc:0.72938\n",
      "[33]\ttrain-auc:0.78570\teval-auc:0.72936\n",
      "[34]\ttrain-auc:0.78688\teval-auc:0.72967\n",
      "[35]\ttrain-auc:0.78822\teval-auc:0.72971\n",
      "[36]\ttrain-auc:0.78937\teval-auc:0.72996\n",
      "[37]\ttrain-auc:0.79041\teval-auc:0.73001\n",
      "[38]\ttrain-auc:0.79170\teval-auc:0.73004\n",
      "[39]\ttrain-auc:0.79338\teval-auc:0.73052\n",
      "[40]\ttrain-auc:0.79468\teval-auc:0.73033\n",
      "[41]\ttrain-auc:0.79607\teval-auc:0.73037\n",
      "[42]\ttrain-auc:0.79700\teval-auc:0.73050\n",
      "[43]\ttrain-auc:0.79826\teval-auc:0.73056\n",
      "[44]\ttrain-auc:0.79970\teval-auc:0.73060\n",
      "[45]\ttrain-auc:0.80076\teval-auc:0.73065\n",
      "[46]\ttrain-auc:0.80158\teval-auc:0.73084\n",
      "[47]\ttrain-auc:0.80301\teval-auc:0.73114\n",
      "[48]\ttrain-auc:0.80388\teval-auc:0.73136\n",
      "[49]\ttrain-auc:0.80507\teval-auc:0.73155\n",
      "[23:29:14] WARNING: C:/Users/Administrator/workspace/xgboost-win64_release_1.6.0/src/learner.cc:627: \n",
      "Parameters: { \"colsample_state\", \"early_stopping_round\", \"num_round\", \"silent\", \"subsumple\" } might not be used.\n",
      "\n",
      "  This could be a false alarm, with some parameters getting used by language bindings but\n",
      "  then being mistakenly passed down to XGBoost core, or some parameter actually being used\n",
      "  but getting flagged wrongly here. Please open an issue if you find any such cases.\n",
      "\n",
      "\n",
      "[0]\ttrain-auc:0.71422\teval-auc:0.69664\n",
      "[1]\ttrain-auc:0.72659\teval-auc:0.70670\n",
      "[2]\ttrain-auc:0.73140\teval-auc:0.70943\n",
      "[3]\ttrain-auc:0.73625\teval-auc:0.71002\n",
      "[4]\ttrain-auc:0.74027\teval-auc:0.71055\n",
      "[5]\ttrain-auc:0.74364\teval-auc:0.71202\n",
      "[6]\ttrain-auc:0.74719\teval-auc:0.71493\n",
      "[7]\ttrain-auc:0.74985\teval-auc:0.71545\n"
     ]
    },
    {
     "name": "stdout",
     "output_type": "stream",
     "text": [
      "[8]\ttrain-auc:0.75247\teval-auc:0.71625\n",
      "[9]\ttrain-auc:0.75519\teval-auc:0.71755\n",
      "[10]\ttrain-auc:0.75634\teval-auc:0.71832\n",
      "[11]\ttrain-auc:0.75804\teval-auc:0.71859\n",
      "[12]\ttrain-auc:0.75942\teval-auc:0.71957\n",
      "[13]\ttrain-auc:0.76102\teval-auc:0.71988\n",
      "[14]\ttrain-auc:0.76204\teval-auc:0.72017\n",
      "[15]\ttrain-auc:0.76330\teval-auc:0.72020\n",
      "[16]\ttrain-auc:0.76457\teval-auc:0.72019\n",
      "[17]\ttrain-auc:0.76523\teval-auc:0.72086\n",
      "[18]\ttrain-auc:0.76647\teval-auc:0.72117\n",
      "[19]\ttrain-auc:0.76875\teval-auc:0.72151\n",
      "[20]\ttrain-auc:0.77011\teval-auc:0.72217\n",
      "[21]\ttrain-auc:0.77119\teval-auc:0.72227\n",
      "[22]\ttrain-auc:0.77296\teval-auc:0.72249\n",
      "[23]\ttrain-auc:0.77392\teval-auc:0.72298\n",
      "[24]\ttrain-auc:0.77493\teval-auc:0.72345\n",
      "[25]\ttrain-auc:0.77655\teval-auc:0.72337\n",
      "[26]\ttrain-auc:0.77829\teval-auc:0.72396\n",
      "[27]\ttrain-auc:0.77983\teval-auc:0.72411\n",
      "[28]\ttrain-auc:0.78113\teval-auc:0.72464\n",
      "[29]\ttrain-auc:0.78209\teval-auc:0.72488\n",
      "[30]\ttrain-auc:0.78322\teval-auc:0.72510\n",
      "[31]\ttrain-auc:0.78460\teval-auc:0.72521\n",
      "[32]\ttrain-auc:0.78592\teval-auc:0.72581\n",
      "[33]\ttrain-auc:0.78758\teval-auc:0.72590\n",
      "[34]\ttrain-auc:0.78845\teval-auc:0.72611\n",
      "[35]\ttrain-auc:0.78967\teval-auc:0.72645\n",
      "[36]\ttrain-auc:0.79065\teval-auc:0.72669\n",
      "[37]\ttrain-auc:0.79191\teval-auc:0.72710\n",
      "[38]\ttrain-auc:0.79297\teval-auc:0.72722\n",
      "[39]\ttrain-auc:0.79422\teval-auc:0.72740\n",
      "[40]\ttrain-auc:0.79517\teval-auc:0.72749\n",
      "[41]\ttrain-auc:0.79685\teval-auc:0.72759\n",
      "[42]\ttrain-auc:0.79801\teval-auc:0.72742\n",
      "[43]\ttrain-auc:0.79891\teval-auc:0.72775\n",
      "[44]\ttrain-auc:0.79986\teval-auc:0.72805\n",
      "[45]\ttrain-auc:0.80099\teval-auc:0.72825\n",
      "[46]\ttrain-auc:0.80216\teval-auc:0.72847\n",
      "[47]\ttrain-auc:0.80336\teval-auc:0.72859\n",
      "[48]\ttrain-auc:0.80475\teval-auc:0.72872\n",
      "[49]\ttrain-auc:0.80624\teval-auc:0.72888\n",
      "[23:29:19] WARNING: C:/Users/Administrator/workspace/xgboost-win64_release_1.6.0/src/learner.cc:627: \n",
      "Parameters: { \"colsample_state\", \"early_stopping_round\", \"num_round\", \"silent\", \"subsumple\" } might not be used.\n",
      "\n",
      "  This could be a false alarm, with some parameters getting used by language bindings but\n",
      "  then being mistakenly passed down to XGBoost core, or some parameter actually being used\n",
      "  but getting flagged wrongly here. Please open an issue if you find any such cases.\n",
      "\n",
      "\n",
      "[0]\ttrain-auc:0.71371\teval-auc:0.70644\n",
      "[1]\ttrain-auc:0.72461\teval-auc:0.71478\n",
      "[2]\ttrain-auc:0.73063\teval-auc:0.71829\n",
      "[3]\ttrain-auc:0.73529\teval-auc:0.71949\n",
      "[4]\ttrain-auc:0.73821\teval-auc:0.72031\n",
      "[5]\ttrain-auc:0.74228\teval-auc:0.72139\n",
      "[6]\ttrain-auc:0.74602\teval-auc:0.72413\n",
      "[7]\ttrain-auc:0.74809\teval-auc:0.72456\n",
      "[8]\ttrain-auc:0.75021\teval-auc:0.72563\n",
      "[9]\ttrain-auc:0.75242\teval-auc:0.72734\n",
      "[10]\ttrain-auc:0.75389\teval-auc:0.72763\n",
      "[11]\ttrain-auc:0.75605\teval-auc:0.72817\n",
      "[12]\ttrain-auc:0.75712\teval-auc:0.72837\n",
      "[13]\ttrain-auc:0.75873\teval-auc:0.72901\n",
      "[14]\ttrain-auc:0.75978\teval-auc:0.72909\n",
      "[15]\ttrain-auc:0.76105\teval-auc:0.72937\n",
      "[16]\ttrain-auc:0.76219\teval-auc:0.72920\n",
      "[17]\ttrain-auc:0.76337\teval-auc:0.72963\n",
      "[18]\ttrain-auc:0.76456\teval-auc:0.73047\n",
      "[19]\ttrain-auc:0.76622\teval-auc:0.73098\n",
      "[20]\ttrain-auc:0.76715\teval-auc:0.73136\n",
      "[21]\ttrain-auc:0.76847\teval-auc:0.73164\n",
      "[22]\ttrain-auc:0.77011\teval-auc:0.73190\n",
      "[23]\ttrain-auc:0.77106\teval-auc:0.73196\n",
      "[24]\ttrain-auc:0.77219\teval-auc:0.73194\n",
      "[25]\ttrain-auc:0.77335\teval-auc:0.73222\n",
      "[26]\ttrain-auc:0.77455\teval-auc:0.73235\n",
      "[27]\ttrain-auc:0.77617\teval-auc:0.73283\n",
      "[28]\ttrain-auc:0.77727\teval-auc:0.73281\n",
      "[29]\ttrain-auc:0.77811\teval-auc:0.73314\n",
      "[30]\ttrain-auc:0.77932\teval-auc:0.73342\n",
      "[31]\ttrain-auc:0.78098\teval-auc:0.73373\n",
      "[32]\ttrain-auc:0.78278\teval-auc:0.73415\n",
      "[33]\ttrain-auc:0.78474\teval-auc:0.73443\n",
      "[34]\ttrain-auc:0.78639\teval-auc:0.73468\n",
      "[35]\ttrain-auc:0.78782\teval-auc:0.73503\n",
      "[36]\ttrain-auc:0.78864\teval-auc:0.73542\n",
      "[37]\ttrain-auc:0.78988\teval-auc:0.73546\n",
      "[38]\ttrain-auc:0.79136\teval-auc:0.73591\n",
      "[39]\ttrain-auc:0.79303\teval-auc:0.73630\n",
      "[40]\ttrain-auc:0.79425\teval-auc:0.73638\n",
      "[41]\ttrain-auc:0.79590\teval-auc:0.73661\n",
      "[42]\ttrain-auc:0.79696\teval-auc:0.73663\n",
      "[43]\ttrain-auc:0.79835\teval-auc:0.73699\n",
      "[44]\ttrain-auc:0.79967\teval-auc:0.73708\n",
      "[45]\ttrain-auc:0.80099\teval-auc:0.73725\n",
      "[46]\ttrain-auc:0.80205\teval-auc:0.73761\n",
      "[47]\ttrain-auc:0.80289\teval-auc:0.73752\n",
      "[48]\ttrain-auc:0.80384\teval-auc:0.73760\n",
      "[49]\ttrain-auc:0.80511\teval-auc:0.73772\n"
     ]
    }
   ],
   "source": [
    "y_preds = []\n",
    "models = []\n",
    "scores = []\n",
    "oof_train = np.zeros((len(X_train),))\n",
    "cv = KFold(n_splits=5, shuffle=True, random_state=0)\n",
    "\n",
    "\n",
    "params = {\n",
    "    'booster': 'gbtree'\n",
    "    ,'objective': 'binary:logistic'\n",
    "    ,'silent': 1\n",
    "    ,'random_state': 17\n",
    "    ,'gpu_id': 0\n",
    "    ,'tree_method': 'gpu_hist'\n",
    "    ,'eval_metric': 'auc'\n",
    "    ,'eta': 0.1\n",
    "    ,'num_round': 10000\n",
    "    ,'early_stopping_round': 50\n",
    "    ,'max_depth': 8\n",
    "    ,'subsample': 0.8\n",
    "    ,'colsample_state': 71\n",
    "    ,'colsample_bytree': 1.0\n",
    "    ,'colsample_bylevel': 0.3\n",
    "    ,'subsumple': 0.9\n",
    "    ,'gamma': 0\n",
    "    ,'lambda': 1\n",
    "    ,'alpha': 0\n",
    "    ,'min_child_weight': 1\n",
    "}\n",
    "\n",
    "num_round = 50\n",
    "\n",
    "for fold_id, (train_index, valid_index) in enumerate(cv.split(X_train)):\n",
    "    X_tr = X_train.loc[train_index, :]\n",
    "    X_val = X_train.loc[valid_index, :]\n",
    "    y_tr = y_train[train_index]\n",
    "    y_val = y_train[valid_index]\n",
    "    \n",
    "    dtrain = xgb.DMatrix(X_tr, label=y_tr)\n",
    "    dvalid = xgb.DMatrix(X_val, label=y_val)\n",
    "    dtest = xgb.DMatrix(X_test)\n",
    "    \n",
    "    watchlist = [(dtrain, 'train'), (dvalid, 'eval')]\n",
    "    model = xgb.train(params, dtrain, num_round, evals=watchlist)\n",
    "    \n",
    "    va_pred = model.predict(dvalid)\n",
    "    score = log_loss(y_val, va_pred)\n",
    "    oof_train[valid_index] = va_pred\n",
    "    \n",
    "    y_pred = model.predict(dtest) \n",
    "\n",
    "    y_preds.append(y_pred)\n",
    "    models.append(model)\n",
    "    scores.append(score)"
   ]
  },
  {
   "cell_type": "code",
   "execution_count": 277,
   "id": "c62d1b40",
   "metadata": {},
   "outputs": [],
   "source": [
    "# CSV-00\n",
    "submit_all = app_test[[\"SK_ID_CURR\"]].copy()\n",
    "# 予測確率の変数名はTARGET\n",
    "submit_all[\"TARGET\"] = y_preds[0]\n",
    "submit_all.isnull().sum()\n",
    "\n",
    "# Submit File\n",
    "submit_all.to_csv(\n",
    "    path_or_buf=\"./home-credit-default-risk/submit/submit_all_00.csv\", # 出力先\n",
    "    sep=\",\",                                            # 区切り文字\n",
    "    index=False,                                        # indexの出力有無\n",
    "    header=True                                        # headerの出力有無\n",
    ")"
   ]
  },
  {
   "cell_type": "code",
   "execution_count": 278,
   "id": "e48b5d1a",
   "metadata": {},
   "outputs": [],
   "source": [
    "# CSV-01\n",
    "submit_all = app_test[[\"SK_ID_CURR\"]].copy()\n",
    "# 予測確率の変数名はTARGET\n",
    "submit_all[\"TARGET\"] = y_preds[1]\n",
    "\n",
    "# Submit File\n",
    "submit_all.to_csv(\n",
    "    path_or_buf=\"./home-credit-default-risk/submit/submit_all_01.csv\", # 出力先\n",
    "    sep=\",\",                                            # 区切り文字\n",
    "    index=False,                                        # indexの出力有無\n",
    "    header=True                                        # headerの出力有無\n",
    ")"
   ]
  },
  {
   "cell_type": "code",
   "execution_count": 279,
   "id": "496ae306",
   "metadata": {},
   "outputs": [],
   "source": [
    "# CSV-02\n",
    "submit_all = app_test[[\"SK_ID_CURR\"]].copy()\n",
    "# 予測確率の変数名はTARGET\n",
    "submit_all[\"TARGET\"] = y_preds[2]\n",
    "\n",
    "# Submit File\n",
    "submit_all.to_csv(\n",
    "    path_or_buf=\"./home-credit-default-risk/submit/submit_all_02.csv\", # 出力先\n",
    "    sep=\",\",                                            # 区切り文字\n",
    "    index=False,                                        # indexの出力有無\n",
    "    header=True                                        # headerの出力有無\n",
    ")"
   ]
  },
  {
   "cell_type": "code",
   "execution_count": 280,
   "id": "6406c4c1",
   "metadata": {},
   "outputs": [],
   "source": [
    "# CSV-03\n",
    "submit_all = app_test[[\"SK_ID_CURR\"]].copy()\n",
    "# 予測確率の変数名はTARGET\n",
    "submit_all[\"TARGET\"] = y_preds[3]\n",
    "\n",
    "# Submit File\n",
    "submit_all.to_csv(\n",
    "    path_or_buf=\"./home-credit-default-risk/submit/submit_all_03.csv\", # 出力先\n",
    "    sep=\",\",                                            # 区切り文字\n",
    "    index=False,                                        # indexの出力有無\n",
    "    header=True                                        # headerの出力有無\n",
    ")"
   ]
  },
  {
   "cell_type": "code",
   "execution_count": 281,
   "id": "45948600",
   "metadata": {},
   "outputs": [],
   "source": [
    "# CSV-04\n",
    "submit_all = app_test[[\"SK_ID_CURR\"]].copy()\n",
    "# 予測確率の変数名はTARGET\n",
    "submit_all[\"TARGET\"] = y_preds[4]\n",
    "\n",
    "# Submit File\n",
    "submit_all.to_csv(\n",
    "    path_or_buf=\"./home-credit-default-risk/submit/submit_all_04.csv\", # 出力先\n",
    "    sep=\",\",                                            # 区切り文字\n",
    "    index=False,                                        # indexの出力有無\n",
    "    header=True                                        # headerの出力有無\n",
    ")"
   ]
  },
  {
   "cell_type": "code",
   "execution_count": 282,
   "id": "340bedaf",
   "metadata": {},
   "outputs": [],
   "source": [
    "submit_all_00 = pd.read_csv('./home-credit-default-risk/submit/submit_all_00.csv')\n",
    "submit_all_01 = pd.read_csv('./home-credit-default-risk/submit/submit_all_01.csv')\n",
    "submit_all_02 = pd.read_csv('./home-credit-default-risk/submit/submit_all_02.csv')\n",
    "submit_all_03 = pd.read_csv('./home-credit-default-risk/submit/submit_all_03.csv')\n",
    "submit_all_04 = pd.read_csv('./home-credit-default-risk/submit/submit_all_04.csv')"
   ]
  },
  {
   "cell_type": "code",
   "execution_count": 283,
   "id": "c717414b",
   "metadata": {},
   "outputs": [
    {
     "data": {
      "text/html": [
       "<div>\n",
       "<style scoped>\n",
       "    .dataframe tbody tr th:only-of-type {\n",
       "        vertical-align: middle;\n",
       "    }\n",
       "\n",
       "    .dataframe tbody tr th {\n",
       "        vertical-align: top;\n",
       "    }\n",
       "\n",
       "    .dataframe thead th {\n",
       "        text-align: right;\n",
       "    }\n",
       "</style>\n",
       "<table border=\"1\" class=\"dataframe\">\n",
       "  <thead>\n",
       "    <tr style=\"text-align: right;\">\n",
       "      <th></th>\n",
       "      <th>submit_all_00</th>\n",
       "      <th>submit_all_01</th>\n",
       "      <th>submit_all_02</th>\n",
       "      <th>submit_all_03</th>\n",
       "      <th>submit_all_04</th>\n",
       "    </tr>\n",
       "  </thead>\n",
       "  <tbody>\n",
       "    <tr>\n",
       "      <th>0</th>\n",
       "      <td>0.098607</td>\n",
       "      <td>0.110636</td>\n",
       "      <td>0.135801</td>\n",
       "      <td>0.114544</td>\n",
       "      <td>0.111903</td>\n",
       "    </tr>\n",
       "    <tr>\n",
       "      <th>1</th>\n",
       "      <td>0.080797</td>\n",
       "      <td>0.093540</td>\n",
       "      <td>0.120069</td>\n",
       "      <td>0.089340</td>\n",
       "      <td>0.091209</td>\n",
       "    </tr>\n",
       "    <tr>\n",
       "      <th>2</th>\n",
       "      <td>0.025705</td>\n",
       "      <td>0.029828</td>\n",
       "      <td>0.031653</td>\n",
       "      <td>0.032207</td>\n",
       "      <td>0.027524</td>\n",
       "    </tr>\n",
       "    <tr>\n",
       "      <th>3</th>\n",
       "      <td>0.029422</td>\n",
       "      <td>0.029409</td>\n",
       "      <td>0.032199</td>\n",
       "      <td>0.034948</td>\n",
       "      <td>0.029036</td>\n",
       "    </tr>\n",
       "    <tr>\n",
       "      <th>4</th>\n",
       "      <td>0.101401</td>\n",
       "      <td>0.103915</td>\n",
       "      <td>0.092791</td>\n",
       "      <td>0.119991</td>\n",
       "      <td>0.091841</td>\n",
       "    </tr>\n",
       "  </tbody>\n",
       "</table>\n",
       "</div>"
      ],
      "text/plain": [
       "   submit_all_00  submit_all_01  submit_all_02  submit_all_03  submit_all_04\n",
       "0       0.098607       0.110636       0.135801       0.114544       0.111903\n",
       "1       0.080797       0.093540       0.120069       0.089340       0.091209\n",
       "2       0.025705       0.029828       0.031653       0.032207       0.027524\n",
       "3       0.029422       0.029409       0.032199       0.034948       0.029036\n",
       "4       0.101401       0.103915       0.092791       0.119991       0.091841"
      ]
     },
     "execution_count": 283,
     "metadata": {},
     "output_type": "execute_result"
    }
   ],
   "source": [
    "submit_all = pd.DataFrame({\n",
    "    'submit_all_00': submit_all_00['TARGET'].values\n",
    "    ,'submit_all_01': submit_all_01['TARGET'].values\n",
    "    ,'submit_all_02': submit_all_02['TARGET'].values\n",
    "    ,'submit_all_03': submit_all_03['TARGET'].values\n",
    "    ,'submit_all_04': submit_all_04['TARGET'].values\n",
    "    })\n",
    "submit_all.head()"
   ]
  },
  {
   "cell_type": "code",
   "execution_count": 284,
   "id": "ac4efb2a",
   "metadata": {},
   "outputs": [
    {
     "data": {
      "text/html": [
       "<div>\n",
       "<style scoped>\n",
       "    .dataframe tbody tr th:only-of-type {\n",
       "        vertical-align: middle;\n",
       "    }\n",
       "\n",
       "    .dataframe tbody tr th {\n",
       "        vertical-align: top;\n",
       "    }\n",
       "\n",
       "    .dataframe thead th {\n",
       "        text-align: right;\n",
       "    }\n",
       "</style>\n",
       "<table border=\"1\" class=\"dataframe\">\n",
       "  <thead>\n",
       "    <tr style=\"text-align: right;\">\n",
       "      <th></th>\n",
       "      <th>SK_ID_CURR</th>\n",
       "      <th>TARGET</th>\n",
       "    </tr>\n",
       "  </thead>\n",
       "  <tbody>\n",
       "    <tr>\n",
       "      <th>0</th>\n",
       "      <td>100001</td>\n",
       "      <td>0.114298</td>\n",
       "    </tr>\n",
       "    <tr>\n",
       "      <th>1</th>\n",
       "      <td>100005</td>\n",
       "      <td>0.094991</td>\n",
       "    </tr>\n",
       "    <tr>\n",
       "      <th>2</th>\n",
       "      <td>100013</td>\n",
       "      <td>0.029383</td>\n",
       "    </tr>\n",
       "    <tr>\n",
       "      <th>3</th>\n",
       "      <td>100028</td>\n",
       "      <td>0.031003</td>\n",
       "    </tr>\n",
       "    <tr>\n",
       "      <th>4</th>\n",
       "      <td>100038</td>\n",
       "      <td>0.101988</td>\n",
       "    </tr>\n",
       "  </tbody>\n",
       "</table>\n",
       "</div>"
      ],
      "text/plain": [
       "   SK_ID_CURR    TARGET\n",
       "0      100001  0.114298\n",
       "1      100005  0.094991\n",
       "2      100013  0.029383\n",
       "3      100028  0.031003\n",
       "4      100038  0.101988"
      ]
     },
     "execution_count": 284,
     "metadata": {},
     "output_type": "execute_result"
    }
   ],
   "source": [
    "submit_all = app_test[[\"SK_ID_CURR\"]].copy()\n",
    "submit_all['TARGET'] = (submit_all_00['TARGET'] + submit_all_01['TARGET'] + submit_all_02['TARGET'] + submit_all_03['TARGET'] + submit_all_04['TARGET'])/5\n",
    "submit_all.head()"
   ]
  },
  {
   "cell_type": "code",
   "execution_count": 285,
   "id": "b647dbab",
   "metadata": {},
   "outputs": [
    {
     "data": {
      "text/html": [
       "<div>\n",
       "<style scoped>\n",
       "    .dataframe tbody tr th:only-of-type {\n",
       "        vertical-align: middle;\n",
       "    }\n",
       "\n",
       "    .dataframe tbody tr th {\n",
       "        vertical-align: top;\n",
       "    }\n",
       "\n",
       "    .dataframe thead th {\n",
       "        text-align: right;\n",
       "    }\n",
       "</style>\n",
       "<table border=\"1\" class=\"dataframe\">\n",
       "  <thead>\n",
       "    <tr style=\"text-align: right;\">\n",
       "      <th></th>\n",
       "      <th>SK_ID_CURR</th>\n",
       "      <th>TARGET</th>\n",
       "    </tr>\n",
       "  </thead>\n",
       "  <tbody>\n",
       "    <tr>\n",
       "      <th>0</th>\n",
       "      <td>100001</td>\n",
       "      <td>0.022860</td>\n",
       "    </tr>\n",
       "    <tr>\n",
       "      <th>1</th>\n",
       "      <td>100005</td>\n",
       "      <td>0.018998</td>\n",
       "    </tr>\n",
       "    <tr>\n",
       "      <th>2</th>\n",
       "      <td>100013</td>\n",
       "      <td>0.005877</td>\n",
       "    </tr>\n",
       "    <tr>\n",
       "      <th>3</th>\n",
       "      <td>100028</td>\n",
       "      <td>0.006201</td>\n",
       "    </tr>\n",
       "    <tr>\n",
       "      <th>4</th>\n",
       "      <td>100038</td>\n",
       "      <td>0.020398</td>\n",
       "    </tr>\n",
       "  </tbody>\n",
       "</table>\n",
       "</div>"
      ],
      "text/plain": [
       "   SK_ID_CURR    TARGET\n",
       "0      100001  0.022860\n",
       "1      100005  0.018998\n",
       "2      100013  0.005877\n",
       "3      100028  0.006201\n",
       "4      100038  0.020398"
      ]
     },
     "execution_count": 285,
     "metadata": {},
     "output_type": "execute_result"
    }
   ],
   "source": [
    "submit_all['TARGET'] = (submit_all['TARGET'] / 5)\n",
    "submit_all.to_csv('./home-credit-default-risk/submit/submit_all_xgb.csv', index=False)\n",
    "submit_all.head()"
   ]
  },
  {
   "cell_type": "code",
   "execution_count": 286,
   "id": "13fcf396",
   "metadata": {},
   "outputs": [
    {
     "data": {
      "text/plain": [
       "SK_ID_CURR    48744\n",
       "TARGET        48744\n",
       "dtype: int64"
      ]
     },
     "execution_count": 286,
     "metadata": {},
     "output_type": "execute_result"
    }
   ],
   "source": [
    "submit_all.count()"
   ]
  },
  {
   "cell_type": "code",
   "execution_count": null,
   "id": "68e763bc",
   "metadata": {},
   "outputs": [],
   "source": []
  },
  {
   "cell_type": "code",
   "execution_count": null,
   "id": "811fd9c2",
   "metadata": {},
   "outputs": [],
   "source": []
  }
 ],
 "metadata": {
  "kernelspec": {
   "display_name": "Python 3 (ipykernel)",
   "language": "python",
   "name": "python3"
  },
  "language_info": {
   "codemirror_mode": {
    "name": "ipython",
    "version": 3
   },
   "file_extension": ".py",
   "mimetype": "text/x-python",
   "name": "python",
   "nbconvert_exporter": "python",
   "pygments_lexer": "ipython3",
   "version": "3.9.7"
  }
 },
 "nbformat": 4,
 "nbformat_minor": 5
}
